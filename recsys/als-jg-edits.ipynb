{
 "cells": [
  {
   "cell_type": "code",
   "execution_count": 106,
   "id": "7c78c2e5",
   "metadata": {},
   "outputs": [],
   "source": [
    "import pandas as pd\n",
    "import numpy as np\n",
    "from collections import defaultdict\n",
    "import matplotlib.pyplot as plt\n",
    "from sklearn.metrics import mean_squared_error"
   ]
  },
  {
   "cell_type": "code",
   "execution_count": 107,
   "id": "3ea8dfe7",
   "metadata": {},
   "outputs": [],
   "source": [
    "ratings_path = \"/Users/amitnarang/Downloads/ml-latest-small/ratings.csv\""
   ]
  },
  {
   "cell_type": "code",
   "execution_count": 110,
   "id": "e5487124",
   "metadata": {},
   "outputs": [
    {
     "name": "stdout",
     "output_type": "stream",
     "text": [
      "        userId  movieId  rating   timestamp\n",
      "0            1        1     4.0   964982703\n",
      "1            1        3     4.0   964981247\n",
      "2            1        6     4.0   964982224\n",
      "3            1       47     5.0   964983815\n",
      "4            1       50     5.0   964982931\n",
      "...        ...      ...     ...         ...\n",
      "100831     610   166534     4.0  1493848402\n",
      "100832     610   168248     5.0  1493850091\n",
      "100833     610   168250     5.0  1494273047\n",
      "100834     610   168252     5.0  1493846352\n",
      "100835     610   170875     3.0  1493846415\n",
      "\n",
      "[100836 rows x 4 columns]\n",
      "[[0.  0.  0.  ... 0.  0.  0. ]\n",
      " [0.  0.  0.  ... 0.  0.  0. ]\n",
      " [0.  0.  0.  ... 0.  0.  0. ]\n",
      " ...\n",
      " [2.5 2.  2.  ... 0.  0.  0. ]\n",
      " [3.  0.  0.  ... 0.  0.  0. ]\n",
      " [5.  0.  0.  ... 0.  0.  0. ]]\n",
      "     userId  movieId  rating\n",
      "0         1        1     4.0\n",
      "1         1        3     4.0\n",
      "2         1        6     4.0\n",
      "3         1       47     5.0\n",
      "4         1       50     5.0\n",
      "..      ...      ...     ...\n",
      "227       1     3744     4.0\n",
      "228       1     3793     5.0\n",
      "229       1     3809     4.0\n",
      "230       1     4006     4.0\n",
      "231       1     5060     5.0\n",
      "\n",
      "[232 rows x 3 columns]\n"
     ]
    }
   ],
   "source": [
    "df = pd.read_csv(ratings_path, sep = ',')\n",
    "columns=[\"userId\", \"movieId\", \"rating\"]\n",
    "print(df)\n",
    "n_users = max(df['userId'])\n",
    "n_items = max(df['movieId'])\n",
    "ratings = np.zeros((n_users, n_items))\n",
    "data = []\n",
    "for row in df.itertuples():\n",
    "    if row.userId == 1:\n",
    "        data.append([row.userId, row.movieId, row.rating])\n",
    "    else:\n",
    "        ratings[row.userId - 1, row.movieId - 1] = row.rating\n",
    "stream_df = pd.DataFrame(data=data, columns=columns)\n",
    "print(ratings)\n",
    "print(stream_df)"
   ]
  },
  {
   "cell_type": "code",
   "execution_count": 111,
   "id": "7808d9b0",
   "metadata": {},
   "outputs": [
    {
     "data": {
      "text/html": [
       "<div>\n",
       "<style scoped>\n",
       "    .dataframe tbody tr th:only-of-type {\n",
       "        vertical-align: middle;\n",
       "    }\n",
       "\n",
       "    .dataframe tbody tr th {\n",
       "        vertical-align: top;\n",
       "    }\n",
       "\n",
       "    .dataframe thead th {\n",
       "        text-align: right;\n",
       "    }\n",
       "</style>\n",
       "<table border=\"1\" class=\"dataframe\">\n",
       "  <thead>\n",
       "    <tr style=\"text-align: right;\">\n",
       "      <th></th>\n",
       "      <th>userId</th>\n",
       "      <th>movieId</th>\n",
       "      <th>rating</th>\n",
       "    </tr>\n",
       "  </thead>\n",
       "  <tbody>\n",
       "    <tr>\n",
       "      <td>0</td>\n",
       "      <td>1</td>\n",
       "      <td>1</td>\n",
       "      <td>4.0</td>\n",
       "    </tr>\n",
       "    <tr>\n",
       "      <td>1</td>\n",
       "      <td>1</td>\n",
       "      <td>3</td>\n",
       "      <td>4.0</td>\n",
       "    </tr>\n",
       "    <tr>\n",
       "      <td>2</td>\n",
       "      <td>1</td>\n",
       "      <td>6</td>\n",
       "      <td>4.0</td>\n",
       "    </tr>\n",
       "    <tr>\n",
       "      <td>3</td>\n",
       "      <td>1</td>\n",
       "      <td>47</td>\n",
       "      <td>5.0</td>\n",
       "    </tr>\n",
       "    <tr>\n",
       "      <td>4</td>\n",
       "      <td>1</td>\n",
       "      <td>50</td>\n",
       "      <td>5.0</td>\n",
       "    </tr>\n",
       "    <tr>\n",
       "      <td>...</td>\n",
       "      <td>...</td>\n",
       "      <td>...</td>\n",
       "      <td>...</td>\n",
       "    </tr>\n",
       "    <tr>\n",
       "      <td>222</td>\n",
       "      <td>1</td>\n",
       "      <td>3744</td>\n",
       "      <td>4.0</td>\n",
       "    </tr>\n",
       "    <tr>\n",
       "      <td>223</td>\n",
       "      <td>1</td>\n",
       "      <td>3793</td>\n",
       "      <td>5.0</td>\n",
       "    </tr>\n",
       "    <tr>\n",
       "      <td>224</td>\n",
       "      <td>1</td>\n",
       "      <td>3809</td>\n",
       "      <td>4.0</td>\n",
       "    </tr>\n",
       "    <tr>\n",
       "      <td>225</td>\n",
       "      <td>1</td>\n",
       "      <td>4006</td>\n",
       "      <td>4.0</td>\n",
       "    </tr>\n",
       "    <tr>\n",
       "      <td>226</td>\n",
       "      <td>1</td>\n",
       "      <td>5060</td>\n",
       "      <td>5.0</td>\n",
       "    </tr>\n",
       "  </tbody>\n",
       "</table>\n",
       "<p>227 rows × 3 columns</p>\n",
       "</div>"
      ],
      "text/plain": [
       "     userId  movieId  rating\n",
       "0         1        1     4.0\n",
       "1         1        3     4.0\n",
       "2         1        6     4.0\n",
       "3         1       47     5.0\n",
       "4         1       50     5.0\n",
       "..      ...      ...     ...\n",
       "222       1     3744     4.0\n",
       "223       1     3793     5.0\n",
       "224       1     3809     4.0\n",
       "225       1     4006     4.0\n",
       "226       1     5060     5.0\n",
       "\n",
       "[227 rows x 3 columns]"
      ]
     },
     "execution_count": 111,
     "metadata": {},
     "output_type": "execute_result"
    }
   ],
   "source": [
    "def create_split(stream_df):\n",
    "    \"\"\"\n",
    "    split into train and test sets\n",
    "    User vectors \n",
    "    \n",
    "    train vectors on the ratings matrix\n",
    "    no need to test\n",
    "    \n",
    "    then train the user vectors with the streaming update, test on test set\n",
    "    \n",
    "    then call it on the train data for those new users and the test data for those users\n",
    "    \"\"\"\n",
    "    test_data = np.zeros((n_users, n_items))\n",
    "    data = []\n",
    "    for userId in stream_df[\"userId\"].unique():\n",
    "        user_df = stream_df[stream_df[\"userId\"] == userId]\n",
    "        random_five = user_df.sample(5)\n",
    "        for row in user_df.itertuples():\n",
    "            if any(random_five[\"movieId\"] == row.movieId):\n",
    "                test_data[row.userId - 1, row.movieId - 1] = row.rating\n",
    "            else:\n",
    "                data.append([row.userId, row.movieId, row.rating])\n",
    "    train_df = pd.DataFrame(data=data, columns=columns)\n",
    "    \n",
    "    return test_data, train_df\n",
    "    \n",
    "    '''\n",
    "    train = np.zeros(ratings.shape) \n",
    "    \n",
    "    test = np.zeros(ratings.shape)\n",
    "    train = ratings.copy()\n",
    "    for user in range(ratings.shape[0]):\n",
    "        test_index = np.random.choice(\n",
    "            np.flatnonzero(ratings[user]), size = 5, replace = False)\n",
    "\n",
    "        train[user, None] = 0.0\n",
    "        test[user, test_index] = ratings[user, test_index]\n",
    "        \n",
    "    # assert that training and testing set are truly disjoint\n",
    "    return train, test'''\n",
    "\n",
    "test, train_df = create_split(stream_df)\n",
    "train_df"
   ]
  },
  {
   "cell_type": "code",
   "execution_count": 112,
   "id": "fdd592a0",
   "metadata": {},
   "outputs": [],
   "source": [
    "class ALSModel:\n",
    "    def __init__(self, l, num_features, n_iters):\n",
    "        self.l = l\n",
    "        self.num_features = num_features\n",
    "        self.n_iters = n_iters\n",
    "        \n",
    "    def fit(self, train):\n",
    "        \"\"\"\n",
    "        pass in training and testing at the same time to record\n",
    "        model convergence, assuming both dataset is in the form\n",
    "        of User x Item matrix with cells as ratings\n",
    "        \"\"\"\n",
    "        self.n_user, self.n_item = train.shape\n",
    "        self.user_factors = np.random.random((self.n_user, self.num_features))\n",
    "        self.item_factors = np.random.random((self.n_item, self.num_features))\n",
    "        \n",
    "        # record the training and testing mse for every iteration\n",
    "        # to show convergence later (usually, not worth it for production)  \n",
    "        for i in range(self.n_iters):\n",
    "            self.user_factors = self._als_step(train, self.user_factors, self.item_factors)\n",
    "            self.item_factors = self._als_step(train.T, self.item_factors, self.user_factors) \n",
    "        return self \n",
    "    \n",
    "    def fit_stream(self, ratings, test, train_df):\n",
    "        '''\n",
    "        when ratings stream in, add them to the rating matrix\n",
    "        run ALS update for user vector on entire rating matrix \n",
    "        test on test matrix\n",
    "        compute mse, add to list\n",
    "        '''\n",
    "        self.test_mse_record  = []\n",
    "        for row in train_df.itertuples():\n",
    "            ratings[row.userId - 1, row.movieId - 1] = row.rating\n",
    "            self.user_factors = self._als_step(ratings, self.user_factors, self.item_factors)\n",
    "            predictions = self.predict()\n",
    "            test_mse = self.compute_mse(test, predictions)\n",
    "            self.test_mse_record.append(test_mse)\n",
    "        \n",
    "    def _als_step(self, ratings, solve_vecs, fixed_vecs):\n",
    "        \"\"\"\n",
    "        when updating the user matrix,\n",
    "        the item matrix is the fixed vector and vice versa\n",
    "        \"\"\"\n",
    "        A = fixed_vecs.T.dot(fixed_vecs) + np.eye(self.num_features) * self.l\n",
    "        b = ratings.dot(fixed_vecs)\n",
    "        A_inv = np.linalg.inv(A)\n",
    "        solve_vecs = b.dot(A_inv)\n",
    "        return solve_vecs\n",
    "    \n",
    "    def predict(self):\n",
    "        \"\"\"predict ratings for every user and item\"\"\"\n",
    "        pred = self.user_factors.dot(self.item_factors.T)\n",
    "        return pred\n",
    "    \n",
    "    @staticmethod\n",
    "    def compute_mse(y_true, y_pred):\n",
    "        \"\"\"ignore zero terms prior to comparing the mse\"\"\"\n",
    "        mask = np.nonzero(y_true)\n",
    "        mse = mean_squared_error(y_true[mask], y_pred[mask])\n",
    "        return mse\n",
    "        "
   ]
  },
  {
   "cell_type": "code",
   "execution_count": 113,
   "id": "c12565f4",
   "metadata": {},
   "outputs": [],
   "source": [
    "def plot_learning_curve(model):\n",
    "    \"\"\"visualize the training/testing loss\"\"\"\n",
    "    linewidth = 3\n",
    "    plt.plot(model.test_mse_record, label = 'Test', linewidth = linewidth)\n",
    "    plt.xlabel('iterations')\n",
    "    plt.ylabel('MSE')\n",
    "    plt.legend(loc = 'best')"
   ]
  },
  {
   "cell_type": "code",
   "execution_count": 114,
   "id": "586142de",
   "metadata": {},
   "outputs": [],
   "source": [
    "als = ALSModel(n_iters = 100, num_features = 100, l = 0.01)"
   ]
  },
  {
   "cell_type": "code",
   "execution_count": 115,
   "id": "de62d106",
   "metadata": {},
   "outputs": [
    {
     "data": {
      "text/plain": [
       "<__main__.ALSModel at 0x7f9e886f0250>"
      ]
     },
     "execution_count": 115,
     "metadata": {},
     "output_type": "execute_result"
    }
   ],
   "source": [
    "als.fit(ratings)"
   ]
  },
  {
   "cell_type": "code",
   "execution_count": 116,
   "id": "1bb4f7e6",
   "metadata": {},
   "outputs": [],
   "source": [
    "movie_factors = als.item_factors"
   ]
  },
  {
   "cell_type": "code",
   "execution_count": 117,
   "id": "f794be70",
   "metadata": {},
   "outputs": [
    {
     "data": {
      "image/png": "[encoded data removed]",
      "text/plain": [
       "<Figure size 432x288 with 1 Axes>"
      ]
     },
     "metadata": {
      "needs_background": "light"
     },
     "output_type": "display_data"
    }
   ],
   "source": [
    "als.fit_stream(ratings, test, train_df)\n",
    "plot_learning_curve(als)"
   ]
  }
 ],
 "metadata": {
  "kernelspec": {
   "display_name": "Python 3.7.4 64-bit ('base': conda)",
   "language": "python",
   "name": "python37464bitbaseconda9114583a17cf498dbdf9713d49f5bef8"
  },
  "language_info": {
   "codemirror_mode": {
    "name": "ipython",
    "version": 3
   },
   "file_extension": ".py",
   "mimetype": "text/x-python",
   "name": "python",
   "nbconvert_exporter": "python",
   "pygments_lexer": "ipython3",
   "version": "3.7.4"
  }
 },
 "nbformat": 4,
 "nbformat_minor": 5
}
