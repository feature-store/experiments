{
 "cells": [
  {
   "cell_type": "code",
   "execution_count": 106,
   "id": "8e0e6a4f",
   "metadata": {},
   "outputs": [],
   "source": [
    "import pandas as pd\n",
    "import numpy as np\n",
    "from collections import defaultdict\n",
    "import matplotlib.pyplot as plt\n",
    "from sklearn.metrics import mean_squared_error"
   ]
  },
  {
   "cell_type": "code",
   "execution_count": 107,
   "id": "5b033873",
   "metadata": {},
   "outputs": [],
   "source": [
    "ratings_path = \"/Users/amitnarang/Downloads/ml-latest-small/ratings.csv\""
   ]
  },
  {
   "cell_type": "code",
   "execution_count": 108,
   "id": "a00a310f",
   "metadata": {},
   "outputs": [
    {
     "name": "stdout",
     "output_type": "stream",
     "text": [
      "        userId  movieId  rating   timestamp\n",
      "0            1        1     4.0   964982703\n",
      "1            1        3     4.0   964981247\n",
      "2            1        6     4.0   964982224\n",
      "3            1       47     5.0   964983815\n",
      "4            1       50     5.0   964982931\n",
      "...        ...      ...     ...         ...\n",
      "100831     610   166534     4.0  1493848402\n",
      "100832     610   168248     5.0  1493850091\n",
      "100833     610   168250     5.0  1494273047\n",
      "100834     610   168252     5.0  1493846352\n",
      "100835     610   170875     3.0  1493846415\n",
      "\n",
      "[100836 rows x 4 columns]\n",
      "       userId  movieId  rating\n",
      "0           1        1     4.0\n",
      "1           1       47     5.0\n",
      "2           1      101     5.0\n",
      "3           1      157     5.0\n",
      "4           1      223     3.0\n",
      "...       ...      ...     ...\n",
      "33607     610   160527     4.5\n",
      "33608     610   161582     4.0\n",
      "33609     610   163937     3.5\n",
      "33610     610   166528     4.0\n",
      "33611     610   168250     5.0\n",
      "\n",
      "[33612 rows x 3 columns]\n",
      "       userId  movieId  rating\n",
      "0           1        3     4.0\n",
      "1           1        6     4.0\n",
      "2           1       50     5.0\n",
      "3           1       70     3.0\n",
      "4           1      110     4.0\n",
      "...       ...      ...     ...\n",
      "67219     610   164179     5.0\n",
      "67220     610   166534     4.0\n",
      "67221     610   168248     5.0\n",
      "67222     610   168252     5.0\n",
      "67223     610   170875     3.0\n",
      "\n",
      "[67224 rows x 3 columns]\n"
     ]
    }
   ],
   "source": [
    "df = pd.read_csv(ratings_path, sep = ',')\n",
    "\n",
    "user_vector_matrix = dict()\n",
    "movie_vector_matrix = dict()\n",
    "\n",
    "columns = ['userId', 'movieId', 'rating']\n",
    "test_data = []\n",
    "train_data = []\n",
    "\n",
    "for row in df.itertuples():\n",
    "    if row.Index % 3 == 0:\n",
    "        test_data.append([row.userId, row.movieId, row.rating])\n",
    "    else:\n",
    "        train_data.append([row.userId, row.movieId, row.rating])\n",
    "\n",
    "test_df = pd.DataFrame(data=test_data, columns=columns)\n",
    "train_df = pd.DataFrame(data=train_data, columns=columns)\n",
    "    \n",
    "print(df)\n",
    "print(test_df)\n",
    "print(train_df)"
   ]
  },
  {
   "cell_type": "code",
   "execution_count": 109,
   "id": "a6a8fb84",
   "metadata": {},
   "outputs": [],
   "source": [
    "class ALSStreamingModel:\n",
    "    def __init__(self, l, num_features, alpha):\n",
    "        self.l = l\n",
    "        self.num_features = num_features\n",
    "        self.alpha = alpha\n",
    "        self.user_features = dict()\n",
    "        self.movie_features = dict()\n",
    "        \n",
    "    def fit(self, train):\n",
    "        for row in train.itertuples():\n",
    "            self.update_user_vector(row)\n",
    "        \n",
    "        return self \n",
    "\n",
    "    def update_user_vector(self, row):\n",
    "        rating = row.rating\n",
    "        userId = row.userId\n",
    "        movieId = row.movieId\n",
    "\n",
    "        if userId in self.user_features:\n",
    "            user_vector = self.user_features[userId]\n",
    "        else:\n",
    "            user_vector = np.random.randint(5, size=self.num_features)\n",
    "\n",
    "        if movieId in self.movie_features:\n",
    "            movie_vector = self.movie_features[movieId]\n",
    "        else:\n",
    "            movie_vector = np.random.randint(100, size=self.num_features)\n",
    "            self.movie_features[movieId] = movie_vector\n",
    "        #print(user_vector)\n",
    "        sub_result = rating - np.dot(np.transpose(user_vector), movie_vector)\n",
    "        new_user_vector = self.alpha * sub_result * movie_vector + self.l * user_vector\n",
    "        #print(new_user_vector)\n",
    "        self.user_features[userId] = new_user_vector\n",
    "    \n",
    "    def predict_set(self, data):\n",
    "        \n",
    "        correct_results = []\n",
    "        predicted_results = []\n",
    "        for row in data.itertuples():\n",
    "            prediction = self.predict_rating(row.userId, row.movieId)\n",
    "            predicted_results.append(prediction)\n",
    "            correct_results.append(row.rating)\n",
    "        \n",
    "        return self.compute_mse(correct_results, predicted_results)\n",
    "    \n",
    "    def predict_rating(self, userId, movieId):\n",
    "        \"\"\"predict ratings for every user and item\"\"\"\n",
    "        if userId not in self.user_features or movieId not in self.movie_features:\n",
    "            return 0\n",
    "        user_vector = self.user_features[userId]\n",
    "        movie_vector = self.movie_features[movieId]\n",
    "        prediction = user_vector.dot(movie_vector.T)\n",
    "        if np.isnan(prediction) or prediction > 5:\n",
    "            return 5\n",
    "        if prediction < 0:\n",
    "            return 0\n",
    "        return prediction\n",
    "\n",
    "    def compute_mse(self, y_true, y_pred):\n",
    "        \"\"\"ignore zero terms prior to comparing the mse\"\"\"\n",
    "        mse = mean_squared_error(np.asarray(y_true), np.asarray(y_pred))\n",
    "        return mse"
   ]
  },
  {
   "cell_type": "code",
   "execution_count": 110,
   "id": "fcefa486",
   "metadata": {},
   "outputs": [
    {
     "name": "stderr",
     "output_type": "stream",
     "text": [
      "/opt/anaconda3/lib/python3.7/site-packages/ipykernel_launcher.py:32: RuntimeWarning: overflow encountered in multiply\n",
      "/opt/anaconda3/lib/python3.7/site-packages/ipykernel_launcher.py:32: RuntimeWarning: invalid value encountered in add\n",
      "/opt/anaconda3/lib/python3.7/site-packages/ipykernel_launcher.py:32: RuntimeWarning: invalid value encountered in multiply\n"
     ]
    },
    {
     "name": "stdout",
     "output_type": "stream",
     "text": [
      "5.058386885636082\n",
      "4.707202784719743\n"
     ]
    }
   ],
   "source": [
    "als = ALSStreamingModel(.01, 10, .1)\n",
    "als.fit(train_df)\n",
    "print(als.predict_set(test_df))\n",
    "print(als.predict_set(train_df))"
   ]
  }
 ],
 "metadata": {
  "kernelspec": {
   "display_name": "Python 3.7.4 64-bit ('base': conda)",
   "language": "python",
   "name": "python37464bitbaseconda9114583a17cf498dbdf9713d49f5bef8"
  },
  "language_info": {
   "codemirror_mode": {
    "name": "ipython",
    "version": 3
   },
   "file_extension": ".py",
   "mimetype": "text/x-python",
   "name": "python",
   "nbconvert_exporter": "python",
   "pygments_lexer": "ipython3",
   "version": "3.7.4"
  }
 },
 "nbformat": 4,
 "nbformat_minor": 5
}
