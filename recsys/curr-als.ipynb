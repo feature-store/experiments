{
 "cells": [
  {
   "cell_type": "code",
   "execution_count": 63,
   "id": "7c78c2e5",
   "metadata": {},
   "outputs": [],
   "source": [
    "import pandas as pd\n",
    "import numpy as np\n",
    "from collections import defaultdict\n",
    "import matplotlib.pyplot as plt\n",
    "from sklearn.metrics import mean_squared_error"
   ]
  },
  {
   "cell_type": "code",
   "execution_count": 64,
   "id": "3ea8dfe7",
   "metadata": {},
   "outputs": [],
   "source": [
    "# Download from Kaggle: https://www.kaggle.com/prajitdatta/movielens-100k-dataset\n",
    "ratings_path = \"/Users/amitnarang/Downloads/ml-100k/u.data\""
   ]
  },
  {
   "cell_type": "code",
   "execution_count": 65,
   "id": "e5487124",
   "metadata": {
    "scrolled": true
   },
   "outputs": [
    {
     "name": "stdout",
     "output_type": "stream",
     "text": [
      "       userId  movieId  rating  timestamp\n",
      "0         196      242       3  881250949\n",
      "1         186      302       3  891717742\n",
      "2          22      377       1  878887116\n",
      "3         244       51       2  880606923\n",
      "4         166      346       1  886397596\n",
      "...       ...      ...     ...        ...\n",
      "99995     880      476       3  880175444\n",
      "99996     716      204       5  879795543\n",
      "99997     276     1090       1  874795795\n",
      "99998      13      225       2  882399156\n",
      "99999      12      203       3  879959583\n",
      "\n",
      "[100000 rows x 4 columns]\n",
      "[[0. 0. 0. ... 0. 0. 0.]\n",
      " [0. 0. 0. ... 0. 0. 0.]\n",
      " [0. 0. 0. ... 0. 0. 0.]\n",
      " ...\n",
      " [5. 0. 0. ... 0. 0. 0.]\n",
      " [0. 0. 0. ... 0. 0. 0.]\n",
      " [0. 5. 0. ... 0. 0. 0.]]\n",
      "     userId  movieId  rating  timestamp\n",
      "405       1      172       5  874965478\n",
      "349       1      168       5  874965478\n",
      "368       1      165       5  874965518\n",
      "319       1      156       4  874965556\n",
      "162       1      196       5  874965677\n",
      "..      ...      ...     ...        ...\n",
      "14        4      264       3  892004275\n",
      "373       4      358       2  892004275\n",
      "37        4      260       4  892004275\n",
      "138       4      294       5  892004409\n",
      "321       4       11       4  892004520\n",
      "\n",
      "[412 rows x 4 columns]\n"
     ]
    }
   ],
   "source": [
    "columns=[\"userId\", \"movieId\", \"rating\", \"timestamp\"]\n",
    "df = pd.read_csv(ratings_path, sep = '\\t', names=columns)\n",
    "print(df)\n",
    "n_users = max(df['userId'])\n",
    "n_items = max(df['movieId'])\n",
    "ratings = np.zeros((n_users, n_items))\n",
    "data = []\n",
    "for row in df.itertuples():\n",
    "    if row.userId < 5:\n",
    "        data.append([row.userId, row.movieId, row.rating, row.timestamp])\n",
    "    else:\n",
    "        ratings[row.userId - 1, row.movieId - 1] = row.rating\n",
    "stream_df = pd.DataFrame(data=data, columns=columns).sort_values(\"timestamp\")\n",
    "print(ratings)\n",
    "print(stream_df)"
   ]
  },
  {
   "cell_type": "code",
   "execution_count": 66,
   "id": "7808d9b0",
   "metadata": {},
   "outputs": [
    {
     "name": "stdout",
     "output_type": "stream",
     "text": [
      "[[0. 0. 0. ... 0. 0. 0.]\n",
      " [0. 0. 0. ... 0. 0. 0.]\n",
      " [0. 0. 0. ... 0. 0. 0.]\n",
      " ...\n",
      " [0. 0. 0. ... 0. 0. 0.]\n",
      " [0. 0. 0. ... 0. 0. 0.]\n",
      " [0. 0. 0. ... 0. 0. 0.]]\n",
      "     userId  movieId  rating  timestamp\n",
      "0         1      172       5  874965478\n",
      "1         1      168       5  874965478\n",
      "2         1      165       5  874965518\n",
      "3         1      156       4  874965556\n",
      "4         1      196       5  874965677\n",
      "..      ...      ...     ...        ...\n",
      "395       4      356       3  892003459\n",
      "396       4      357       4  892003525\n",
      "397       4       50       5  892003526\n",
      "398       4      264       3  892004275\n",
      "399       4      358       2  892004275\n",
      "\n",
      "[400 rows x 4 columns]\n"
     ]
    }
   ],
   "source": [
    "def create_split(stream_df, num_test = 3):\n",
    "    \"\"\"\n",
    "    split the streaming dataframe into train and test sets\n",
    "    test set --> last num_test rows for each user in the streaming dataframe\n",
    "    \"\"\"\n",
    "    test_data = np.zeros((n_users, n_items))\n",
    "    data = []\n",
    "    for userId in stream_df[\"userId\"].unique():\n",
    "        user_df = stream_df[stream_df[\"userId\"] == userId].sort_values(\"timestamp\")\n",
    "        last_rows = user_df.tail(num_test)\n",
    "        for row in user_df.itertuples():\n",
    "            if any(last_rows[\"movieId\"] == row.movieId):\n",
    "                test_data[row.userId - 1, row.movieId - 1] = row.rating\n",
    "            else:\n",
    "                data.append([row.userId, row.movieId, row.rating, row.timestamp])\n",
    "    train_df = pd.DataFrame(data=data, columns=columns).sort_values(\"timestamp\")\n",
    "    \n",
    "    return test_data, train_df\n",
    "\n",
    "test, train_df = create_split(stream_df)\n",
    "print(test)\n",
    "print(train_df)"
   ]
  },
  {
   "cell_type": "code",
   "execution_count": 67,
   "id": "fdd592a0",
   "metadata": {},
   "outputs": [],
   "source": [
    "class ALSModel:\n",
    "    def __init__(self, l, num_features, n_iters):\n",
    "        self.l = l\n",
    "        self.num_features = num_features\n",
    "        self.n_iters = n_iters\n",
    "        \n",
    "    def fit(self, ratings):\n",
    "        \"\"\"\n",
    "        pass in training and testing at the same time to record\n",
    "        model convergence, assuming both dataset is in the form\n",
    "        of User x Item matrix with cells as ratings\n",
    "        \"\"\"\n",
    "        self.n_user, self.n_item = ratings.shape\n",
    "        self.user_factors = np.random.random((self.n_user, self.num_features))\n",
    "        self.item_factors = np.random.random((self.n_item, self.num_features))\n",
    "        # record the training and testing mse for every iteration\n",
    "        # to show convergence later (usually, not worth it for production)  \n",
    "        for i in range(self.n_iters):\n",
    "            self.user_factors = self._als_step(ratings, self.user_factors, self.item_factors)\n",
    "            self.item_factors = self._als_step(ratings.T, self.item_factors, self.user_factors) \n",
    "        return self \n",
    "    \n",
    "    def fit_stream(self, ratings, test, train_df, batch_size=5):\n",
    "        '''\n",
    "        when ratings stream in, add them to the rating matrix\n",
    "        run ALS update for user vector on entire rating matrix \n",
    "        test on test matrix\n",
    "        compute mse, add to list\n",
    "        '''\n",
    "        self.test_mse_record  = []\n",
    "        for chunk in np.array_split(train_df, len(train_df) // (batch_size)):\n",
    "            for row in chunk.itertuples():\n",
    "                ratings[row.userId - 1, row.movieId - 1] = row.rating\n",
    "            self.user_factors = self._als_step(ratings, self.user_factors, self.item_factors)\n",
    "            predictions = self.predict()\n",
    "            test_mse = self.compute_mse(test, predictions)\n",
    "            self.test_mse_record.append(test_mse)\n",
    "        \n",
    "    def _als_step(self, ratings, solve_vecs, fixed_vecs):\n",
    "        \"\"\"\n",
    "        when updating the user matrix,\n",
    "        the item matrix is the fixed vector and vice versa\n",
    "        \"\"\"\n",
    "        A = fixed_vecs.T.dot(fixed_vecs) + np.eye(self.num_features) * self.l\n",
    "        b = ratings.dot(fixed_vecs)\n",
    "        A_inv = np.linalg.inv(A)\n",
    "        solve_vecs = b.dot(A_inv)\n",
    "        return solve_vecs\n",
    "    \n",
    "    def predict(self):\n",
    "        \"\"\"predict ratings for every user and item\"\"\"\n",
    "        pred = self.user_factors.dot(self.item_factors.T)\n",
    "        return pred\n",
    "    \n",
    "    @staticmethod\n",
    "    def compute_mse(y_true, y_pred):\n",
    "        \"\"\"ignore zero terms prior to comparing the mse\"\"\"\n",
    "        mask = np.nonzero(y_true)\n",
    "        print(y_pred[mask], y_true[mask])\n",
    "        mse = mean_squared_error(y_true[mask], y_pred[mask])\n",
    "        return mse\n",
    "        "
   ]
  },
  {
   "cell_type": "code",
   "execution_count": 68,
   "id": "c12565f4",
   "metadata": {},
   "outputs": [],
   "source": [
    "def plot_learning_curve(model):\n",
    "    \"\"\"visualize the training/testing loss\"\"\"\n",
    "    linewidth = 3\n",
    "    plt.plot(model.test_mse_record, label = 'Test', linewidth = linewidth)\n",
    "    plt.xlabel('iterations')\n",
    "    plt.ylabel('MSE')\n",
    "    plt.legend(loc = 'best')"
   ]
  },
  {
   "cell_type": "code",
   "execution_count": 69,
   "id": "586142de",
   "metadata": {},
   "outputs": [],
   "source": [
    "als = ALSModel(n_iters = 500, num_features = 50, l = 0.2)"
   ]
  },
  {
   "cell_type": "code",
   "execution_count": 70,
   "id": "de62d106",
   "metadata": {},
   "outputs": [
    {
     "data": {
      "text/plain": [
       "<__main__.ALSModel at 0x16e90c280>"
      ]
     },
     "execution_count": 70,
     "metadata": {},
     "output_type": "execute_result"
    }
   ],
   "source": [
    "als.fit(ratings)"
   ]
  },
  {
   "cell_type": "code",
   "execution_count": 71,
   "id": "1bb4f7e6",
   "metadata": {},
   "outputs": [],
   "source": [
    "movie_factors = als.item_factors"
   ]
  },
  {
   "cell_type": "code",
   "execution_count": 72,
   "id": "f794be70",
   "metadata": {},
   "outputs": [
    {
     "name": "stdout",
     "output_type": "stream",
     "text": [
      "[-0.04383079  0.00335259 -0.07012838  0.          0.          0.\n",
      "  0.          0.          0.          0.          0.          0.        ] [3. 1. 2. 3. 1. 1. 4. 2. 4. 4. 4. 5.]\n",
      "[-0.10834825  0.00282216 -0.08484653  0.          0.          0.\n",
      "  0.          0.          0.          0.          0.          0.        ] [3. 1. 2. 3. 1. 1. 4. 2. 4. 4. 4. 5.]\n",
      "[-0.12484401  0.00335239 -0.09379405  0.          0.          0.\n",
      "  0.          0.          0.          0.          0.          0.        ] [3. 1. 2. 3. 1. 1. 4. 2. 4. 4. 4. 5.]\n",
      "[-0.11007955  0.0256019  -0.14995831  0.          0.          0.\n",
      "  0.          0.          0.          0.          0.          0.        ] [3. 1. 2. 3. 1. 1. 4. 2. 4. 4. 4. 5.]\n",
      "[-0.11686978  0.03647967 -0.15325077  0.          0.          0.\n",
      "  0.          0.          0.          0.          0.          0.        ] [3. 1. 2. 3. 1. 1. 4. 2. 4. 4. 4. 5.]\n",
      "[-0.12302897  0.02103634 -0.170066    0.          0.          0.\n",
      "  0.          0.          0.          0.          0.          0.        ] [3. 1. 2. 3. 1. 1. 4. 2. 4. 4. 4. 5.]\n",
      "[-0.10446646  0.02945271 -0.20547677  0.          0.          0.\n",
      "  0.          0.          0.          0.          0.          0.        ] [3. 1. 2. 3. 1. 1. 4. 2. 4. 4. 4. 5.]\n",
      "[-0.16415254  0.02193263 -0.19867982  0.          0.          0.\n",
      "  0.          0.          0.          0.          0.          0.        ] [3. 1. 2. 3. 1. 1. 4. 2. 4. 4. 4. 5.]\n",
      "[-0.15900401  0.02445148 -0.2138339   0.          0.          0.\n",
      "  0.          0.          0.          0.          0.          0.        ] [3. 1. 2. 3. 1. 1. 4. 2. 4. 4. 4. 5.]\n",
      "[-0.15715478  0.03550594 -0.11861896  0.          0.          0.\n",
      "  0.          0.          0.          0.          0.          0.        ] [3. 1. 2. 3. 1. 1. 4. 2. 4. 4. 4. 5.]\n",
      "[-0.22191864  0.03888603 -0.06022022  0.          0.          0.\n",
      "  0.          0.          0.          0.          0.          0.        ] [3. 1. 2. 3. 1. 1. 4. 2. 4. 4. 4. 5.]\n",
      "[-0.1510687   0.03448069  0.01866211  0.          0.          0.\n",
      "  0.          0.          0.          0.          0.          0.        ] [3. 1. 2. 3. 1. 1. 4. 2. 4. 4. 4. 5.]\n",
      "[-0.1175678   0.01242442  0.03880196  0.          0.          0.\n",
      "  0.          0.          0.          0.          0.          0.        ] [3. 1. 2. 3. 1. 1. 4. 2. 4. 4. 4. 5.]\n",
      "[-0.08844751 -0.00367711  0.01927281  0.          0.          0.\n",
      "  0.          0.          0.          0.          0.          0.        ] [3. 1. 2. 3. 1. 1. 4. 2. 4. 4. 4. 5.]\n",
      "[-0.00289486  0.02218268  0.1308452   0.          0.          0.\n",
      "  0.          0.          0.          0.          0.          0.        ] [3. 1. 2. 3. 1. 1. 4. 2. 4. 4. 4. 5.]\n",
      "[-0.06027365  0.07081525  0.20388331  0.          0.          0.\n",
      "  0.          0.          0.          0.          0.          0.        ] [3. 1. 2. 3. 1. 1. 4. 2. 4. 4. 4. 5.]\n",
      "[-0.01885244  0.078214    0.13746195  0.          0.          0.\n",
      "  0.          0.          0.          0.          0.          0.        ] [3. 1. 2. 3. 1. 1. 4. 2. 4. 4. 4. 5.]\n",
      "[0.10303075 0.05835604 0.17286248 0.         0.         0.\n",
      " 0.         0.         0.         0.         0.         0.        ] [3. 1. 2. 3. 1. 1. 4. 2. 4. 4. 4. 5.]\n",
      "[0.10140217 0.07276022 0.21331187 0.         0.         0.\n",
      " 0.         0.         0.         0.         0.         0.        ] [3. 1. 2. 3. 1. 1. 4. 2. 4. 4. 4. 5.]\n",
      "[0.18510207 0.0797145  0.16105932 0.         0.         0.\n",
      " 0.         0.         0.         0.         0.         0.        ] [3. 1. 2. 3. 1. 1. 4. 2. 4. 4. 4. 5.]\n",
      "[0.07937659 0.05126287 0.12454357 0.         0.         0.\n",
      " 0.         0.         0.         0.         0.         0.        ] [3. 1. 2. 3. 1. 1. 4. 2. 4. 4. 4. 5.]\n",
      "[0.19670144 0.04921717 0.14114102 0.         0.         0.\n",
      " 0.         0.         0.         0.         0.         0.        ] [3. 1. 2. 3. 1. 1. 4. 2. 4. 4. 4. 5.]\n",
      "[0.22179537 0.05320138 0.08948482 0.         0.         0.\n",
      " 0.         0.         0.         0.         0.         0.        ] [3. 1. 2. 3. 1. 1. 4. 2. 4. 4. 4. 5.]\n",
      "[0.29813387 0.05600187 0.09643951 0.         0.         0.\n",
      " 0.         0.         0.         0.         0.         0.        ] [3. 1. 2. 3. 1. 1. 4. 2. 4. 4. 4. 5.]\n",
      "[0.2992719  0.05756031 0.06339772 0.         0.         0.\n",
      " 0.         0.         0.         0.         0.         0.        ] [3. 1. 2. 3. 1. 1. 4. 2. 4. 4. 4. 5.]\n",
      "[ 0.2915368   0.03761087 -0.02063942  0.          0.          0.\n",
      "  0.          0.          0.          0.          0.          0.        ] [3. 1. 2. 3. 1. 1. 4. 2. 4. 4. 4. 5.]\n",
      "[ 0.29432917  0.02345627 -0.11563417  0.          0.          0.\n",
      "  0.          0.          0.          0.          0.          0.        ] [3. 1. 2. 3. 1. 1. 4. 2. 4. 4. 4. 5.]\n",
      "[0.31360554 0.0313856  0.03389813 0.         0.         0.\n",
      " 0.         0.         0.         0.         0.         0.        ] [3. 1. 2. 3. 1. 1. 4. 2. 4. 4. 4. 5.]\n",
      "[ 0.19632682 -0.00266142 -0.02416408  0.          0.          0.\n",
      "  0.          0.          0.          0.          0.          0.        ] [3. 1. 2. 3. 1. 1. 4. 2. 4. 4. 4. 5.]\n",
      "[ 0.24860092 -0.01268173 -0.06121973  0.          0.          0.\n",
      "  0.          0.          0.          0.          0.          0.        ] [3. 1. 2. 3. 1. 1. 4. 2. 4. 4. 4. 5.]\n",
      "[ 0.33808015  0.02250155 -0.12008441  0.          0.          0.\n",
      "  0.          0.          0.          0.          0.          0.        ] [3. 1. 2. 3. 1. 1. 4. 2. 4. 4. 4. 5.]\n",
      "[ 0.44388188  0.04268648 -0.0837746   0.          0.          0.\n",
      "  0.          0.          0.          0.          0.          0.        ] [3. 1. 2. 3. 1. 1. 4. 2. 4. 4. 4. 5.]\n",
      "[ 0.52055445  0.05342644 -0.0773328   0.          0.          0.\n",
      "  0.          0.          0.          0.          0.          0.        ] [3. 1. 2. 3. 1. 1. 4. 2. 4. 4. 4. 5.]\n",
      "[ 0.63493238  0.07567238 -0.04485509  0.          0.          0.\n",
      "  0.          0.          0.          0.          0.          0.        ] [3. 1. 2. 3. 1. 1. 4. 2. 4. 4. 4. 5.]\n",
      "[0.64935612 0.07438621 0.01563056 0.         0.         0.\n",
      " 0.         0.         0.         0.         0.         0.        ] [3. 1. 2. 3. 1. 1. 4. 2. 4. 4. 4. 5.]\n",
      "[0.62860336 0.06814472 0.01652186 0.         0.         0.\n",
      " 0.         0.         0.         0.         0.         0.        ] [3. 1. 2. 3. 1. 1. 4. 2. 4. 4. 4. 5.]\n",
      "[0.66586991 0.06582441 0.03144345 0.         0.         0.\n",
      " 0.         0.         0.         0.         0.         0.        ] [3. 1. 2. 3. 1. 1. 4. 2. 4. 4. 4. 5.]\n",
      "[0.61925852 0.06398813 0.08072766 0.         0.         0.\n",
      " 0.         0.         0.         0.         0.         0.        ] [3. 1. 2. 3. 1. 1. 4. 2. 4. 4. 4. 5.]\n",
      "[0.630451   0.06189579 0.08430147 0.         0.         0.\n",
      " 0.         0.         0.         0.         0.         0.        ] [3. 1. 2. 3. 1. 1. 4. 2. 4. 4. 4. 5.]\n",
      "[0.5842053  0.05770292 0.13443879 0.         0.         0.\n",
      " 0.         0.         0.         0.         0.         0.        ] [3. 1. 2. 3. 1. 1. 4. 2. 4. 4. 4. 5.]\n",
      "[0.68125312 0.052787   0.20338362 0.         0.         0.\n",
      " 0.         0.         0.         0.         0.         0.        ] [3. 1. 2. 3. 1. 1. 4. 2. 4. 4. 4. 5.]\n",
      "[0.66409139 0.05504214 0.22241606 0.         0.         0.\n",
      " 0.         0.         0.         0.         0.         0.        ] [3. 1. 2. 3. 1. 1. 4. 2. 4. 4. 4. 5.]\n",
      "[0.60953037 0.04262864 0.17261398 0.         0.         0.\n",
      " 0.         0.         0.         0.         0.         0.        ] [3. 1. 2. 3. 1. 1. 4. 2. 4. 4. 4. 5.]\n",
      "[0.51990496 0.02195387 0.19896161 0.         0.         0.\n",
      " 0.         0.         0.         0.         0.         0.        ] [3. 1. 2. 3. 1. 1. 4. 2. 4. 4. 4. 5.]\n",
      "[0.52040914 0.0110204  0.16686417 0.         0.         0.\n",
      " 0.         0.         0.         0.         0.         0.        ] [3. 1. 2. 3. 1. 1. 4. 2. 4. 4. 4. 5.]\n",
      "[0.61222417 0.01367352 0.16778092 0.         0.         0.\n",
      " 0.         0.         0.         0.         0.         0.        ] [3. 1. 2. 3. 1. 1. 4. 2. 4. 4. 4. 5.]\n",
      "[0.63653153 0.01995295 0.20942647 0.         0.         0.\n",
      " 0.         0.         0.         0.         0.         0.        ] [3. 1. 2. 3. 1. 1. 4. 2. 4. 4. 4. 5.]\n",
      "[0.68570976 0.03022235 0.25455491 0.         0.         0.\n",
      " 0.         0.         0.         0.         0.         0.        ] [3. 1. 2. 3. 1. 1. 4. 2. 4. 4. 4. 5.]\n",
      "[0.73173223 0.0400008  0.23077069 0.         0.         0.\n",
      " 0.         0.         0.         0.         0.         0.        ] [3. 1. 2. 3. 1. 1. 4. 2. 4. 4. 4. 5.]\n",
      "[0.77290417 0.02726914 0.2389384  0.         0.         0.\n",
      " 0.         0.         0.         0.         0.         0.        ] [3. 1. 2. 3. 1. 1. 4. 2. 4. 4. 4. 5.]\n",
      "[0.7840242  0.04042095 0.14659074 0.         0.         0.\n",
      " 0.         0.         0.         0.         0.         0.        ] [3. 1. 2. 3. 1. 1. 4. 2. 4. 4. 4. 5.]\n",
      "[0.7929844  0.01820445 0.20026596 0.         0.         0.\n",
      " 0.         0.         0.         0.         0.         0.        ] [3. 1. 2. 3. 1. 1. 4. 2. 4. 4. 4. 5.]\n",
      "[ 0.78681765  0.01608053  0.19951836  0.07785662 -0.01391188 -0.00120101\n",
      "  0.          0.          0.          0.          0.          0.        ] [3. 1. 2. 3. 1. 1. 4. 2. 4. 4. 4. 5.]\n",
      "[ 0.78681765  0.01608053  0.19951836 -0.02459275  0.05306403 -0.00475912\n",
      "  0.          0.          0.          0.          0.          0.        ] [3. 1. 2. 3. 1. 1. 4. 2. 4. 4. 4. 5.]\n",
      "[ 7.86817650e-01  1.60805302e-02  1.99518358e-01  7.96394089e-02\n",
      "  4.94665623e-02 -1.27032882e-04  0.00000000e+00  0.00000000e+00\n",
      "  0.00000000e+00  0.00000000e+00  0.00000000e+00  0.00000000e+00] [3. 1. 2. 3. 1. 1. 4. 2. 4. 4. 4. 5.]\n",
      "[ 0.78681765  0.01608053  0.19951836  0.13760073  0.07765076 -0.00450196\n",
      "  0.          0.          0.          0.          0.          0.        ] [3. 1. 2. 3. 1. 1. 4. 2. 4. 4. 4. 5.]\n",
      "[ 0.78681765  0.01608053  0.19951836  0.2590859   0.07502209 -0.01268841\n",
      "  0.          0.          0.          0.          0.          0.        ] [3. 1. 2. 3. 1. 1. 4. 2. 4. 4. 4. 5.]\n"
     ]
    },
    {
     "name": "stdout",
     "output_type": "stream",
     "text": [
      "[ 0.78681765  0.01608053  0.19951836  0.28079934  0.06266228 -0.01194164\n",
      "  0.          0.          0.          0.          0.          0.        ] [3. 1. 2. 3. 1. 1. 4. 2. 4. 4. 4. 5.]\n",
      "[ 0.78681765  0.01608053  0.19951836  0.41021175  0.06588787 -0.01643632\n",
      "  0.          0.          0.          0.          0.          0.        ] [3. 1. 2. 3. 1. 1. 4. 2. 4. 4. 4. 5.]\n",
      "[ 0.78681765  0.01608053  0.19951836  0.47592623  0.0677647  -0.00840158\n",
      "  0.          0.          0.          0.          0.          0.        ] [3. 1. 2. 3. 1. 1. 4. 2. 4. 4. 4. 5.]\n",
      "[ 0.78681765  0.01608053  0.19951836  0.64787746  0.05575876 -0.00827223\n",
      "  0.          0.          0.          0.          0.          0.        ] [3. 1. 2. 3. 1. 1. 4. 2. 4. 4. 4. 5.]\n",
      "[ 0.78681765  0.01608053  0.19951836  0.53513497  0.01588509 -0.01071652\n",
      "  0.          0.          0.          0.          0.          0.        ] [3. 1. 2. 3. 1. 1. 4. 2. 4. 4. 4. 5.]\n",
      "[ 0.81473489  0.01463907  0.22825512  0.48150388  0.06580365 -0.01045701\n",
      "  0.          0.          0.          0.          0.          0.        ] [3. 1. 2. 3. 1. 1. 4. 2. 4. 4. 4. 5.]\n",
      "[ 0.80604868  0.02867109  0.24316949  0.55835087  0.07312599 -0.00790003\n",
      "  0.          0.          0.          0.          0.          0.        ] [3. 1. 2. 3. 1. 1. 4. 2. 4. 4. 4. 5.]\n",
      "[ 0.80604868  0.02867109  0.24316949  0.53969812  0.09470595 -0.0091225\n",
      " -0.00295737  0.00780218  0.0524114   0.          0.          0.        ] [3. 1. 2. 3. 1. 1. 4. 2. 4. 4. 4. 5.]\n",
      "[ 0.80604868  0.02867109  0.24316949  0.53969812  0.09470595 -0.0091225\n",
      " -0.01195549  0.05600834  0.14231292  0.          0.          0.        ] [3. 1. 2. 3. 1. 1. 4. 2. 4. 4. 4. 5.]\n",
      "[ 0.80604868  0.02867109  0.24316949  0.53969812  0.09470595 -0.0091225\n",
      "  0.09456981  0.02075343  0.17721439  0.          0.          0.        ] [3. 1. 2. 3. 1. 1. 4. 2. 4. 4. 4. 5.]\n",
      "[ 0.80604868  0.02867109  0.24316949  0.53969812  0.09470595 -0.0091225\n",
      "  0.02770328  0.03030419  0.16597454  0.          0.          0.        ] [3. 1. 2. 3. 1. 1. 4. 2. 4. 4. 4. 5.]\n",
      "[ 0.80604868  0.02867109  0.24316949  0.53969812  0.09470595 -0.0091225\n",
      " -0.02136469  0.07173637  0.17912063  0.          0.          0.        ] [3. 1. 2. 3. 1. 1. 4. 2. 4. 4. 4. 5.]\n",
      "[ 0.80604868  0.02867109  0.24316949  0.53969812  0.09470595 -0.0091225\n",
      " -0.08309079  0.11231069  0.16676264  0.          0.          0.        ] [3. 1. 2. 3. 1. 1. 4. 2. 4. 4. 4. 5.]\n",
      "[ 0.80604868  0.02867109  0.24316949  0.53969812  0.09470595 -0.0091225\n",
      " -0.16962467  0.08872751  0.20153425  0.          0.          0.        ] [3. 1. 2. 3. 1. 1. 4. 2. 4. 4. 4. 5.]\n",
      "[ 0.80604868  0.02867109  0.24316949  0.53969812  0.09470595 -0.0091225\n",
      " -0.17015068  0.09886571  0.14222588  0.          0.          0.        ] [3. 1. 2. 3. 1. 1. 4. 2. 4. 4. 4. 5.]\n",
      "[ 0.80604868  0.02867109  0.24316949  0.53969812  0.09470595 -0.0091225\n",
      " -0.13985541  0.11564837  0.14115272  0.          0.          0.        ] [3. 1. 2. 3. 1. 1. 4. 2. 4. 4. 4. 5.]\n",
      "[ 0.80604868  0.02867109  0.24316949  0.53969812  0.09470595 -0.0091225\n",
      " -0.23664181  0.13371714  0.11096515  0.          0.          0.        ] [3. 1. 2. 3. 1. 1. 4. 2. 4. 4. 4. 5.]\n",
      "[ 0.80604868  0.02867109  0.24316949  0.53969812  0.09470595 -0.0091225\n",
      " -0.1678289   0.25766062  0.12528052  0.          0.          0.        ] [3. 1. 2. 3. 1. 1. 4. 2. 4. 4. 4. 5.]\n",
      "[ 0.75164067  0.01283257  0.19425991  0.53969812  0.09470595 -0.0091225\n",
      " -0.1678289   0.25766062  0.12528052 -0.11962674  0.11410726  0.09525069] [3. 1. 2. 3. 1. 1. 4. 2. 4. 4. 4. 5.]\n",
      "[ 0.75164067  0.01283257  0.19425991  0.53969812  0.09470595 -0.0091225\n",
      " -0.1678289   0.25766062  0.12528052  0.04025731  0.40349424  1.38337872] [3. 1. 2. 3. 1. 1. 4. 2. 4. 4. 4. 5.]\n",
      "[ 0.75164067  0.01283257  0.19425991  0.53969812  0.09470595 -0.0091225\n",
      " -0.1678289   0.25766062  0.12528052 -0.04544799  0.4751985   1.2355812 ] [3. 1. 2. 3. 1. 1. 4. 2. 4. 4. 4. 5.]\n",
      "[ 0.75164067  0.01283257  0.19425991  0.53969812  0.09470595 -0.0091225\n",
      " -0.1678289   0.25766062  0.12528052  0.08188917  0.55340739  1.30353403] [3. 1. 2. 3. 1. 1. 4. 2. 4. 4. 4. 5.]\n",
      "[ 0.75164067  0.01283257  0.19425991  0.53969812  0.09470595 -0.0091225\n",
      " -0.1678289   0.25766062  0.12528052  0.08657378  0.67150023  1.39602398] [3. 1. 2. 3. 1. 1. 4. 2. 4. 4. 4. 5.]\n"
     ]
    },
    {
     "data": {
      "image/png": "[encoded data removed]",
      "text/plain": [
       "<Figure size 432x288 with 1 Axes>"
      ]
     },
     "metadata": {
      "needs_background": "light"
     },
     "output_type": "display_data"
    }
   ],
   "source": [
    "als.fit_stream(ratings, test, train_df)\n",
    "plot_learning_curve(als)"
   ]
  },
  {
   "cell_type": "code",
   "execution_count": 73,
   "id": "84444c39",
   "metadata": {},
   "outputs": [
    {
     "data": {
      "text/plain": [
       "80"
      ]
     },
     "execution_count": 73,
     "metadata": {},
     "output_type": "execute_result"
    }
   ],
   "source": [
    "len(als.test_mse_record)"
   ]
  }
 ],
 "metadata": {
  "kernelspec": {
   "display_name": "Python 3 (ipykernel)",
   "language": "python",
   "name": "python3"
  },
  "language_info": {
   "codemirror_mode": {
    "name": "ipython",
    "version": 3
   },
   "file_extension": ".py",
   "mimetype": "text/x-python",
   "name": "python",
   "nbconvert_exporter": "python",
   "pygments_lexer": "ipython3",
   "version": "3.8.12"
  }
 },
 "nbformat": 4,
 "nbformat_minor": 5
}
