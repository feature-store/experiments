{
 "cells": [
  {
   "cell_type": "code",
   "execution_count": 141,
   "id": "a8462b38",
   "metadata": {},
   "outputs": [],
   "source": [
    "import pandas as pd\n",
    "import numpy as np\n",
    "from collections import defaultdict\n",
    "import matplotlib.pyplot as plt\n",
    "from sklearn.metrics import mean_squared_error"
   ]
  },
  {
   "cell_type": "code",
   "execution_count": 142,
   "id": "d86767af",
   "metadata": {},
   "outputs": [],
   "source": [
    "ratings_path = \"/Users/amitnarang/Downloads/ml-latest-small/ratings.csv\""
   ]
  },
  {
   "cell_type": "code",
   "execution_count": 143,
   "id": "539bf12f",
   "metadata": {},
   "outputs": [
    {
     "name": "stdout",
     "output_type": "stream",
     "text": [
      "        userId  movieId  rating   timestamp\n",
      "0            1        1     4.0   964982703\n",
      "1            1        3     4.0   964981247\n",
      "2            1        6     4.0   964982224\n",
      "3            1       47     5.0   964983815\n",
      "4            1       50     5.0   964982931\n",
      "...        ...      ...     ...         ...\n",
      "100831     610   166534     4.0  1493848402\n",
      "100832     610   168248     5.0  1493850091\n",
      "100833     610   168250     5.0  1494273047\n",
      "100834     610   168252     5.0  1493846352\n",
      "100835     610   170875     3.0  1493846415\n",
      "\n",
      "[100836 rows x 4 columns]\n",
      "[[0. 0. 0. ... 0. 0. 0.]\n",
      " [0. 0. 0. ... 0. 0. 0.]\n",
      " [0. 0. 0. ... 0. 0. 0.]\n",
      " ...\n",
      " [0. 0. 0. ... 0. 0. 0.]\n",
      " [0. 0. 0. ... 0. 0. 0.]\n",
      " [0. 0. 0. ... 0. 0. 0.]]\n",
      "[[4.  0.  4.  ... 0.  0.  0. ]\n",
      " [0.  0.  0.  ... 0.  0.  0. ]\n",
      " [0.  0.  0.  ... 0.  0.  0. ]\n",
      " ...\n",
      " [2.5 2.  2.  ... 0.  0.  0. ]\n",
      " [3.  0.  0.  ... 0.  0.  0. ]\n",
      " [5.  0.  0.  ... 0.  0.  0. ]]\n"
     ]
    }
   ],
   "source": [
    "df = pd.read_csv(ratings_path, sep = ',')\n",
    "print(df)\n",
    "n_users = max(df['userId'])\n",
    "n_items = max(df['movieId'])\n",
    "ratings = np.zeros((n_users, n_items))\n",
    "print(ratings)\n",
    "for row in df.itertuples():\n",
    "    ratings[row.userId - 1, row.movieId - 1] = row.rating\n",
    "print(ratings)"
   ]
  },
  {
   "cell_type": "code",
   "execution_count": 144,
   "id": "da9af87d",
   "metadata": {},
   "outputs": [
    {
     "data": {
      "text/plain": [
       "array([[4. , 0. , 4. , ..., 0. , 0. , 0. ],\n",
       "       [0. , 0. , 0. , ..., 0. , 0. , 0. ],\n",
       "       [0. , 0. , 0. , ..., 0. , 0. , 0. ],\n",
       "       ...,\n",
       "       [2.5, 2. , 2. , ..., 0. , 0. , 0. ],\n",
       "       [0. , 0. , 0. , ..., 0. , 0. , 0. ],\n",
       "       [5. , 0. , 0. , ..., 0. , 0. , 0. ]])"
      ]
     },
     "execution_count": 144,
     "metadata": {},
     "output_type": "execute_result"
    }
   ],
   "source": [
    "# taken from ethen8181\n",
    "def create_train_test(ratings):\n",
    "    \"\"\"\n",
    "    split into training and test sets,\n",
    "    remove 10 ratings from each user\n",
    "    and assign them to the test set\n",
    "    \"\"\"\n",
    "    test = np.zeros(ratings.shape)\n",
    "    train = ratings.copy()\n",
    "    for user in range(ratings.shape[0]):\n",
    "        test_index = np.random.choice(\n",
    "            np.flatnonzero(ratings[user]), size = 10, replace = False)\n",
    "\n",
    "        train[user, test_index] = 0.0\n",
    "        test[user, test_index] = ratings[user, test_index]\n",
    "        \n",
    "    # assert that training and testing set are truly disjoint\n",
    "    assert np.all(train * test == 0)\n",
    "    return train, test\n",
    "\n",
    "train, test = create_train_test(ratings)\n",
    "del ratings\n",
    "train"
   ]
  },
  {
   "cell_type": "code",
   "execution_count": 145,
   "id": "67ff43ae",
   "metadata": {},
   "outputs": [],
   "source": [
    "class ALSModel:\n",
    "    def __init__(self, l, num_features, n_iters):\n",
    "        self.l = l\n",
    "        self.num_features = num_features\n",
    "        self.n_iters = n_iters\n",
    "        \n",
    "    def fit(self, train, test):\n",
    "        \"\"\"\n",
    "        pass in training and testing at the same time to record\n",
    "        model convergence, assuming both dataset is in the form\n",
    "        of User x Item matrix with cells as ratings\n",
    "        \"\"\"\n",
    "        self.n_user, self.n_item = train.shape\n",
    "        self.user_factors = np.random.random((self.n_user, self.num_features))\n",
    "        self.item_factors = np.random.random((self.n_item, self.num_features))\n",
    "        \n",
    "        # record the training and testing mse for every iteration\n",
    "        # to show convergence later (usually, not worth it for production)\n",
    "        self.test_mse_record  = []\n",
    "        self.train_mse_record = []   \n",
    "        for i in range(self.n_iters):\n",
    "            self.user_factors = self._als_step(train, self.user_factors, self.item_factors)\n",
    "            self.item_factors = self._als_step(train.T, self.item_factors, self.user_factors) \n",
    "            predictions = self.predict()\n",
    "            test_mse = self.compute_mse(test, predictions)\n",
    "            train_mse = self.compute_mse(train, predictions)\n",
    "            self.test_mse_record.append(test_mse)\n",
    "            self.train_mse_record.append(train_mse)\n",
    "        \n",
    "        return self    \n",
    "    \n",
    "    def _als_step(self, ratings, solve_vecs, fixed_vecs):\n",
    "        \"\"\"\n",
    "        when updating the user matrix,\n",
    "        the item matrix is the fixed vector and vice versa\n",
    "        \"\"\"\n",
    "        A = fixed_vecs.T.dot(fixed_vecs) + np.eye(self.num_features) * self.l\n",
    "        b = ratings.dot(fixed_vecs)\n",
    "        A_inv = np.linalg.inv(A)\n",
    "        solve_vecs = b.dot(A_inv)\n",
    "        return solve_vecs\n",
    "    \n",
    "    def predict(self):\n",
    "        \"\"\"predict ratings for every user and item\"\"\"\n",
    "        pred = self.user_factors.dot(self.item_factors.T)\n",
    "        return pred\n",
    "    \n",
    "    @staticmethod\n",
    "    def compute_mse(y_true, y_pred):\n",
    "        \"\"\"ignore zero terms prior to comparing the mse\"\"\"\n",
    "        mask = np.nonzero(y_true)\n",
    "        mse = mean_squared_error(y_true[mask], y_pred[mask])\n",
    "        return mse\n",
    "        "
   ]
  },
  {
   "cell_type": "code",
   "execution_count": 146,
   "id": "1bc4e9f0",
   "metadata": {},
   "outputs": [],
   "source": [
    "def plot_learning_curve(model):\n",
    "    \"\"\"visualize the training/testing loss\"\"\"\n",
    "    linewidth = 3\n",
    "    plt.plot(model.test_mse_record, label = 'Test', linewidth = linewidth)\n",
    "    plt.plot(model.train_mse_record, label = 'Train', linewidth = linewidth)\n",
    "    plt.xlabel('iterations')\n",
    "    plt.ylabel('MSE')\n",
    "    plt.legend(loc = 'best')"
   ]
  },
  {
   "cell_type": "code",
   "execution_count": 147,
   "id": "79a51d82",
   "metadata": {},
   "outputs": [],
   "source": [
    "als = ALSModel(n_iters = 100, num_features = 40, l = 0.01)"
   ]
  },
  {
   "cell_type": "code",
   "execution_count": 148,
   "id": "5fb986b1",
   "metadata": {},
   "outputs": [
    {
     "data": {
      "image/png": "[encoded data removed]",
      "text/plain": [
       "<Figure size 432x288 with 1 Axes>"
      ]
     },
     "metadata": {
      "needs_background": "light"
     },
     "output_type": "display_data"
    }
   ],
   "source": [
    "als.fit(train, test)\n",
    "plot_learning_curve(als)"
   ]
  },
  {
   "cell_type": "code",
   "execution_count": 149,
   "id": "699c6905",
   "metadata": {},
   "outputs": [
    {
     "name": "stdout",
     "output_type": "stream",
     "text": [
      "10.136669617836302\n",
      "4.401030427985024\n"
     ]
    }
   ],
   "source": [
    "print(als.test_mse_record[-1])\n",
    "print(als.train_mse_record[-1])"
   ]
  }
 ],
 "metadata": {
  "kernelspec": {
   "display_name": "Python 3.7.4 64-bit ('base': conda)",
   "language": "python",
   "name": "python37464bitbaseconda9114583a17cf498dbdf9713d49f5bef8"
  },
  "language_info": {
   "codemirror_mode": {
    "name": "ipython",
    "version": 3
   },
   "file_extension": ".py",
   "mimetype": "text/x-python",
   "name": "python",
   "nbconvert_exporter": "python",
   "pygments_lexer": "ipython3",
   "version": "3.7.4"
  }
 },
 "nbformat": 4,
 "nbformat_minor": 5
}
