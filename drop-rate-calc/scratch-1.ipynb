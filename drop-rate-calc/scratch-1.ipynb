{
 "cells": [
  {
   "cell_type": "code",
   "execution_count": 1,
   "metadata": {},
   "outputs": [],
   "source": [
    "import numpy as np\n",
    "import pandas as pd\n",
    "import matplotlib.pyplot as plt\n",
    "%matplotlib inline\n",
    "%config InlineBackend.figure_formats = ['svg']\n",
    "\n",
    "import seaborn as sns\n",
    "sns.set_theme(style=\"whitegrid\", palette=\"muted\")"
   ]
  },
  {
   "cell_type": "code",
   "execution_count": 2,
   "metadata": {},
   "outputs": [],
   "source": [
    "import duckdb"
   ]
  },
  {
   "cell_type": "code",
   "execution_count": 3,
   "metadata": {},
   "outputs": [
    {
     "data": {
      "text/plain": [
       "<duckdb.DuckDBPyConnection at 0x7fe7496e8ab0>"
      ]
     },
     "execution_count": 3,
     "metadata": {},
     "output_type": "execute_result"
    }
   ],
   "source": [
    "conn = duckdb.connect(\"/home/ubuntu/azure_long_series_with_ts_array.duckdb\", read_only=True)\n",
    "conn.execute(\"PRAGMA enable_progress_bar\")"
   ]
  },
  {
   "cell_type": "code",
   "execution_count": 193,
   "metadata": {},
   "outputs": [
    {
     "name": "stdout",
     "output_type": "stream",
     "text": [
      "100% [============================================================]           ]\n",
      "100% [============================================================] \n"
     ]
    }
   ],
   "source": [
    "df = conn.execute(\"\"\"\n",
    "SELECT *, (timestamp[-1] - timestamp[1]+1)/288-2 as num_windows\n",
    "  FROM readings\n",
    "  USING SAMPLE 1000\n",
    "\"\"\").df()"
   ]
  },
  {
   "cell_type": "code",
   "execution_count": 194,
   "metadata": {},
   "outputs": [],
   "source": [
    "from statsmodels.tsa.arima.model import ARIMA\n",
    "from statsmodels.tsa.forecasting.stl import STLForecast\n",
    "import warnings\n",
    "\n",
    "def fit(arr):\n",
    "    with warnings.catch_warnings():\n",
    "        # catch warning for ML fit\n",
    "        warnings.filterwarnings(\"ignore\")\n",
    "        return STLForecast(\n",
    "            pd.Series(arr).interpolate(),\n",
    "            ARIMA,\n",
    "            model_kwargs=dict(order=(1, 1, 0), trend=\"t\"),\n",
    "            period=12 * 24,  # 5 min timestamp interval, period of one day\n",
    "        ).fit().forecast(7775).values # return array"
   ]
  },
  {
   "cell_type": "code",
   "execution_count": 195,
   "metadata": {},
   "outputs": [],
   "source": [
    "WINDOW_SIZE = 864\n",
    "SLIDE_SIZE = 288\n",
    "TOTAL_LENGTH = 8639 \n",
    "FINAL_IDX = 8638\n",
    "DEBUG_MODE = True\n",
    "\n",
    "\n",
    "def window(arr):\n",
    "    num_windows = len(arr) // SLIDE_SIZE - 2\n",
    "    start_idx_to_window = {\n",
    "        SLIDE_SIZE * i: arr[SLIDE_SIZE * i : SLIDE_SIZE * i + WINDOW_SIZE]\n",
    "        for i in range(num_windows)\n",
    "    }\n",
    "    if DEBUG_MODE:\n",
    "        for w in start_idx_to_window.values():\n",
    "            assert len(w) == WINDOW_SIZE\n",
    "    return start_idx_to_window\n"
   ]
  },
  {
   "cell_type": "code",
   "execution_count": 196,
   "metadata": {},
   "outputs": [
    {
     "data": {
      "text/plain": [
       "524.275"
      ]
     },
     "execution_count": 196,
     "metadata": {},
     "output_type": "execute_result"
    }
   ],
   "source": [
    "df[\"num_windows\"].sum() * 0.8 # total runtime s"
   ]
  },
  {
   "cell_type": "code",
   "execution_count": 197,
   "metadata": {},
   "outputs": [
    {
     "name": "stderr",
     "output_type": "stream",
     "text": [
      "100%|██████████| 1000/1000 [08:00<00:00,  2.08it/s]\n"
     ]
    }
   ],
   "source": [
    "from multiprocessing import Pool\n",
    "from tqdm import tqdm\n",
    "\n",
    "def map_row(row: pd.Series):\n",
    "    return [\n",
    "        {\n",
    "            \"int_id\": row[\"int_id\"],\n",
    "            \"start_idx\": k,\n",
    "            \"window_arr\": v,\n",
    "            \"forecast_arr\": fit(v),\n",
    "        }\n",
    "        for k, v in window(row[\"avg_cpu\"]).items()\n",
    "    ]\n",
    "\n",
    "\n",
    "with Pool() as pool:\n",
    "    results = list(tqdm(pool.imap(map_row, [row for _, row in df.iterrows()]), total=len(df)))"
   ]
  },
  {
   "cell_type": "code",
   "execution_count": 198,
   "metadata": {},
   "outputs": [],
   "source": [
    "import itertools\n",
    "fdf = pd.DataFrame(list(itertools.chain.from_iterable(results)))"
   ]
  },
  {
   "cell_type": "code",
   "execution_count": 199,
   "metadata": {},
   "outputs": [],
   "source": [
    "mse_rows = []\n",
    "for int_id, s in fdf.groupby(\"int_id\"):\n",
    "    pred_arr = np.zeros(TOTAL_LENGTH, dtype=\"float32\")\n",
    "    for _, row in s.iterrows():\n",
    "        pred_start_idx = row[\"start_idx\"]+WINDOW_SIZE\n",
    "        remaining_pred_size = TOTAL_LENGTH - pred_start_idx\n",
    "        pred_arr[pred_start_idx:] = row[\"forecast_arr\"][:remaining_pred_size]\n",
    "    pred_start_idx = s.iloc[0][\"start_idx\"]+WINDOW_SIZE\n",
    "\n",
    "    ground_truth = np.nan_to_num(np.array(df.loc[df[\"int_id\"] == int_id, \"ts_array\"].squeeze()).astype(\"float32\"))\n",
    "    assert pred_arr.shape == ground_truth.shape, (pred_arr.shape, ground_truth.shape)\n",
    "    mse_rows.append((pred_arr - ground_truth)**2)\n",
    "mse_mat = np.array(mse_rows)"
   ]
  },
  {
   "cell_type": "code",
   "execution_count": 205,
   "metadata": {},
   "outputs": [
    {
     "data": {
      "text/plain": [
       "(665.9685, 665.9689, 712.7763670643623, 670.7146598730616)"
      ]
     },
     "execution_count": 205,
     "metadata": {},
     "output_type": "execute_result"
    }
   ],
   "source": [
    "mse_per_timestamp = mse_mat.mean(axis=0)\n",
    "mse_per_timestamp_weighted = mse_mat.sum(axis=0)/np.count_nonzero(mse_mat, axis=0)\n",
    "mse_per_key = mse_mat.mean(axis=1)\n",
    "mse_per_key_weighted = mse_mat.sum(axis=1)/np.count_nonzero(mse_mat, axis=1)\n",
    "mse_per_timestamp.mean(), mse_per_key.mean(), mse_per_key_weighted.mean(), mse_per_timestamp_weighted.mean()"
   ]
  },
  {
   "cell_type": "code",
   "execution_count": 206,
   "metadata": {},
   "outputs": [],
   "source": [
    "# Spot checking array\n",
    "# pd.Series(pred_arr).rolling(12).mean().plot(label=\"pred\")\n",
    "# pd.Series(ground_truth).rolling(12).mean().plot(label=\"true\")\n",
    "# plt.legend()"
   ]
  }
 ],
 "metadata": {
  "kernelspec": {
   "display_name": "Python 3.7.11 ('base')",
   "language": "python",
   "name": "python3"
  },
  "language_info": {
   "codemirror_mode": {
    "name": "ipython",
    "version": 3
   },
   "file_extension": ".py",
   "mimetype": "text/x-python",
   "name": "python",
   "nbconvert_exporter": "python",
   "pygments_lexer": "ipython3",
   "version": "3.7.11"
  },
  "orig_nbformat": 4,
  "vscode": {
   "interpreter": {
    "hash": "7a2c4b191d1ae843dde5cb5f4d1f62fa892f6b79b0f9392a84691e890e33c5a4"
   }
  }
 },
 "nbformat": 4,
 "nbformat_minor": 2
}
