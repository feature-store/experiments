{
 "cells": [
  {
   "cell_type": "code",
   "execution_count": 1,
   "id": "37a0887c",
   "metadata": {
    "execution": {
     "iopub.execute_input": "2022-04-15T21:01:16.667449Z",
     "iopub.status.busy": "2022-04-15T21:01:16.667105Z",
     "iopub.status.idle": "2022-04-15T21:01:17.789930Z",
     "shell.execute_reply": "2022-04-15T21:01:17.789271Z"
    },
    "papermill": {
     "duration": 1.135313,
     "end_time": "2022-04-15T21:01:17.791663",
     "exception": false,
     "start_time": "2022-04-15T21:01:16.656350",
     "status": "completed"
    },
    "tags": []
   },
   "outputs": [],
   "source": [
    "import glob\n",
    "import json\n",
    "from collections import defaultdict\n",
    "\n",
    "import matplotlib.pyplot as plt\n",
    "import numpy as np\n",
    "import pandas as pd\n",
    "import seaborn as sns\n",
    "\n",
    "%matplotlib inline\n",
    "%config InlineBackend.figure_formats = ['svg']\n",
    "\n",
    "sns.set(style=\"whitegrid\", palette=\"muted\")\n",
    "\n",
    "from concurrent.futures import ProcessPoolExecutor, as_completed\n",
    "\n",
    "from tqdm import tqdm"
   ]
  },
  {
   "cell_type": "code",
   "execution_count": 2,
   "id": "ccb80efd",
   "metadata": {
    "execution": {
     "iopub.execute_input": "2022-04-15T21:01:17.810353Z",
     "iopub.status.busy": "2022-04-15T21:01:17.810132Z",
     "iopub.status.idle": "2022-04-15T21:01:17.925023Z",
     "shell.execute_reply": "2022-04-15T21:01:17.924180Z"
    },
    "papermill": {
     "duration": 0.125513,
     "end_time": "2022-04-15T21:01:17.926441",
     "exception": false,
     "start_time": "2022-04-15T21:01:17.800928",
     "status": "completed"
    },
    "tags": []
   },
   "outputs": [],
   "source": [
    "!mkdir -p plots"
   ]
  },
  {
   "cell_type": "code",
   "execution_count": 3,
   "id": "c3289645",
   "metadata": {
    "execution": {
     "iopub.execute_input": "2022-04-15T21:01:17.945539Z",
     "iopub.status.busy": "2022-04-15T21:01:17.945305Z",
     "iopub.status.idle": "2022-04-15T21:01:17.948140Z",
     "shell.execute_reply": "2022-04-15T21:01:17.947718Z"
    },
    "papermill": {
     "duration": 0.013979,
     "end_time": "2022-04-15T21:01:17.949311",
     "exception": false,
     "start_time": "2022-04-15T21:01:17.935332",
     "status": "completed"
    },
    "tags": [
     "parameters"
    ]
   },
   "outputs": [],
   "source": [
    "results_dir = \"results/1648838189\"\n",
    "result_name = \"5000-ce\""
   ]
  },
  {
   "cell_type": "code",
   "execution_count": 4,
   "id": "caca0677",
   "metadata": {
    "execution": {
     "iopub.execute_input": "2022-04-15T21:01:17.967430Z",
     "iopub.status.busy": "2022-04-15T21:01:17.967218Z",
     "iopub.status.idle": "2022-04-15T21:01:17.969772Z",
     "shell.execute_reply": "2022-04-15T21:01:17.969343Z"
    },
    "papermill": {
     "duration": 0.012997,
     "end_time": "2022-04-15T21:01:17.970934",
     "exception": false,
     "start_time": "2022-04-15T21:01:17.957937",
     "status": "completed"
    },
    "tags": [
     "injected-parameters"
    ]
   },
   "outputs": [],
   "source": [
    "# Parameters\n",
    "result_name = \"10000-ce-32\"\n",
    "results_dir = \"results/sigmod/1649918865/1649918865\"\n"
   ]
  },
  {
   "cell_type": "code",
   "execution_count": 5,
   "id": "39c4aaf8",
   "metadata": {
    "execution": {
     "iopub.execute_input": "2022-04-15T21:01:17.989342Z",
     "iopub.status.busy": "2022-04-15T21:01:17.989153Z",
     "iopub.status.idle": "2022-04-15T21:02:06.702591Z",
     "shell.execute_reply": "2022-04-15T21:02:06.701822Z"
    },
    "papermill": {
     "duration": 48.525513,
     "end_time": "2022-04-15T21:02:06.505425",
     "exception": false,
     "start_time": "2022-04-15T21:01:17.979912",
     "status": "completed"
    },
    "tags": []
   },
   "outputs": [
    {
     "name": "stderr",
     "output_type": "stream",
     "text": [
      "\r",
      "  0%|                                                                      | 0/32 [00:00<?, ?it/s]"
     ]
    },
    {
     "name": "stderr",
     "output_type": "stream",
     "text": [
      "\r",
      "  3%|█▉                                                            | 1/32 [00:17<08:58, 17.39s/it]"
     ]
    },
    {
     "name": "stderr",
     "output_type": "stream",
     "text": [
      "\r",
      "  6%|███▉                                                          | 2/32 [00:35<08:51, 17.71s/it]"
     ]
    },
    {
     "name": "stderr",
     "output_type": "stream",
     "text": [
      "\r",
      "  6%|███▉                                                          | 2/32 [00:48<12:07, 24.26s/it]"
     ]
    },
    {
     "name": "stderr",
     "output_type": "stream",
     "text": [
      "\n"
     ]
    },
    {
     "ename": "KeyboardInterrupt",
     "evalue": "",
     "output_type": "error",
     "traceback": [
      "\u001b[0;31m---------------------------------------------------------------------------\u001b[0m",
      "\u001b[0;31mKeyboardInterrupt\u001b[0m                         Traceback (most recent call last)",
      "\u001b[0;32m/tmp/ipykernel_6548/3412666276.py\u001b[0m in \u001b[0;36m<module>\u001b[0;34m\u001b[0m\n\u001b[1;32m      7\u001b[0m     \u001b[0;32mwith\u001b[0m \u001b[0mopen\u001b[0m\u001b[0;34m(\u001b[0m\u001b[0mpath\u001b[0m\u001b[0;34m)\u001b[0m \u001b[0;32mas\u001b[0m \u001b[0mf\u001b[0m\u001b[0;34m:\u001b[0m\u001b[0;34m\u001b[0m\u001b[0;34m\u001b[0m\u001b[0m\n\u001b[1;32m      8\u001b[0m         \u001b[0;32mfor\u001b[0m \u001b[0mline\u001b[0m \u001b[0;32min\u001b[0m \u001b[0mf\u001b[0m\u001b[0;34m:\u001b[0m\u001b[0;34m\u001b[0m\u001b[0;34m\u001b[0m\u001b[0m\n\u001b[0;32m----> 9\u001b[0;31m             \u001b[0mloaded\u001b[0m \u001b[0;34m=\u001b[0m \u001b[0mjson\u001b[0m\u001b[0;34m.\u001b[0m\u001b[0mloads\u001b[0m\u001b[0;34m(\u001b[0m\u001b[0mline\u001b[0m\u001b[0;34m)\u001b[0m\u001b[0;34m\u001b[0m\u001b[0;34m\u001b[0m\u001b[0m\n\u001b[0m\u001b[1;32m     10\u001b[0m             \u001b[0mkey_id\u001b[0m \u001b[0;34m=\u001b[0m \u001b[0mstr\u001b[0m\u001b[0;34m(\u001b[0m\u001b[0mloaded\u001b[0m\u001b[0;34m[\u001b[0m\u001b[0;34m\"key_id\"\u001b[0m\u001b[0;34m]\u001b[0m\u001b[0;34m)\u001b[0m\u001b[0;34m\u001b[0m\u001b[0;34m\u001b[0m\u001b[0m\n\u001b[1;32m     11\u001b[0m             \u001b[0mkey_to_timestamps\u001b[0m\u001b[0;34m[\u001b[0m\u001b[0mkey_id\u001b[0m\u001b[0;34m]\u001b[0m\u001b[0;34m.\u001b[0m\u001b[0mappend\u001b[0m\u001b[0;34m(\u001b[0m\u001b[0mloaded\u001b[0m\u001b[0;34m[\u001b[0m\u001b[0;34m\"processing_time\"\u001b[0m\u001b[0;34m]\u001b[0m\u001b[0;34m)\u001b[0m\u001b[0;34m\u001b[0m\u001b[0;34m\u001b[0m\u001b[0m\n",
      "\u001b[0;32m~/miniconda3/lib/python3.7/json/__init__.py\u001b[0m in \u001b[0;36mloads\u001b[0;34m(s, encoding, cls, object_hook, parse_float, parse_int, parse_constant, object_pairs_hook, **kw)\u001b[0m\n\u001b[1;32m    346\u001b[0m             \u001b[0mparse_int\u001b[0m \u001b[0;32mis\u001b[0m \u001b[0;32mNone\u001b[0m \u001b[0;32mand\u001b[0m \u001b[0mparse_float\u001b[0m \u001b[0;32mis\u001b[0m \u001b[0;32mNone\u001b[0m \u001b[0;32mand\u001b[0m\u001b[0;34m\u001b[0m\u001b[0;34m\u001b[0m\u001b[0m\n\u001b[1;32m    347\u001b[0m             parse_constant is None and object_pairs_hook is None and not kw):\n\u001b[0;32m--> 348\u001b[0;31m         \u001b[0;32mreturn\u001b[0m \u001b[0m_default_decoder\u001b[0m\u001b[0;34m.\u001b[0m\u001b[0mdecode\u001b[0m\u001b[0;34m(\u001b[0m\u001b[0ms\u001b[0m\u001b[0;34m)\u001b[0m\u001b[0;34m\u001b[0m\u001b[0;34m\u001b[0m\u001b[0m\n\u001b[0m\u001b[1;32m    349\u001b[0m     \u001b[0;32mif\u001b[0m \u001b[0mcls\u001b[0m \u001b[0;32mis\u001b[0m \u001b[0;32mNone\u001b[0m\u001b[0;34m:\u001b[0m\u001b[0;34m\u001b[0m\u001b[0;34m\u001b[0m\u001b[0m\n\u001b[1;32m    350\u001b[0m         \u001b[0mcls\u001b[0m \u001b[0;34m=\u001b[0m \u001b[0mJSONDecoder\u001b[0m\u001b[0;34m\u001b[0m\u001b[0;34m\u001b[0m\u001b[0m\n",
      "\u001b[0;32m~/miniconda3/lib/python3.7/json/decoder.py\u001b[0m in \u001b[0;36mdecode\u001b[0;34m(self, s, _w)\u001b[0m\n\u001b[1;32m    335\u001b[0m \u001b[0;34m\u001b[0m\u001b[0m\n\u001b[1;32m    336\u001b[0m         \"\"\"\n\u001b[0;32m--> 337\u001b[0;31m         \u001b[0mobj\u001b[0m\u001b[0;34m,\u001b[0m \u001b[0mend\u001b[0m \u001b[0;34m=\u001b[0m \u001b[0mself\u001b[0m\u001b[0;34m.\u001b[0m\u001b[0mraw_decode\u001b[0m\u001b[0;34m(\u001b[0m\u001b[0ms\u001b[0m\u001b[0;34m,\u001b[0m \u001b[0midx\u001b[0m\u001b[0;34m=\u001b[0m\u001b[0m_w\u001b[0m\u001b[0;34m(\u001b[0m\u001b[0ms\u001b[0m\u001b[0;34m,\u001b[0m \u001b[0;36m0\u001b[0m\u001b[0;34m)\u001b[0m\u001b[0;34m.\u001b[0m\u001b[0mend\u001b[0m\u001b[0;34m(\u001b[0m\u001b[0;34m)\u001b[0m\u001b[0;34m)\u001b[0m\u001b[0;34m\u001b[0m\u001b[0;34m\u001b[0m\u001b[0m\n\u001b[0m\u001b[1;32m    338\u001b[0m         \u001b[0mend\u001b[0m \u001b[0;34m=\u001b[0m \u001b[0m_w\u001b[0m\u001b[0;34m(\u001b[0m\u001b[0ms\u001b[0m\u001b[0;34m,\u001b[0m \u001b[0mend\u001b[0m\u001b[0;34m)\u001b[0m\u001b[0;34m.\u001b[0m\u001b[0mend\u001b[0m\u001b[0;34m(\u001b[0m\u001b[0;34m)\u001b[0m\u001b[0;34m\u001b[0m\u001b[0;34m\u001b[0m\u001b[0m\n\u001b[1;32m    339\u001b[0m         \u001b[0;32mif\u001b[0m \u001b[0mend\u001b[0m \u001b[0;34m!=\u001b[0m \u001b[0mlen\u001b[0m\u001b[0;34m(\u001b[0m\u001b[0ms\u001b[0m\u001b[0;34m)\u001b[0m\u001b[0;34m:\u001b[0m\u001b[0;34m\u001b[0m\u001b[0;34m\u001b[0m\u001b[0m\n",
      "\u001b[0;32m~/miniconda3/lib/python3.7/json/decoder.py\u001b[0m in \u001b[0;36mraw_decode\u001b[0;34m(self, s, idx)\u001b[0m\n\u001b[1;32m    351\u001b[0m         \"\"\"\n\u001b[1;32m    352\u001b[0m         \u001b[0;32mtry\u001b[0m\u001b[0;34m:\u001b[0m\u001b[0;34m\u001b[0m\u001b[0;34m\u001b[0m\u001b[0m\n\u001b[0;32m--> 353\u001b[0;31m             \u001b[0mobj\u001b[0m\u001b[0;34m,\u001b[0m \u001b[0mend\u001b[0m \u001b[0;34m=\u001b[0m \u001b[0mself\u001b[0m\u001b[0;34m.\u001b[0m\u001b[0mscan_once\u001b[0m\u001b[0;34m(\u001b[0m\u001b[0ms\u001b[0m\u001b[0;34m,\u001b[0m \u001b[0midx\u001b[0m\u001b[0;34m)\u001b[0m\u001b[0;34m\u001b[0m\u001b[0;34m\u001b[0m\u001b[0m\n\u001b[0m\u001b[1;32m    354\u001b[0m         \u001b[0;32mexcept\u001b[0m \u001b[0mStopIteration\u001b[0m \u001b[0;32mas\u001b[0m \u001b[0merr\u001b[0m\u001b[0;34m:\u001b[0m\u001b[0;34m\u001b[0m\u001b[0;34m\u001b[0m\u001b[0m\n\u001b[1;32m    355\u001b[0m             \u001b[0;32mraise\u001b[0m \u001b[0mJSONDecodeError\u001b[0m\u001b[0;34m(\u001b[0m\u001b[0;34m\"Expecting value\"\u001b[0m\u001b[0;34m,\u001b[0m \u001b[0ms\u001b[0m\u001b[0;34m,\u001b[0m \u001b[0merr\u001b[0m\u001b[0;34m.\u001b[0m\u001b[0mvalue\u001b[0m\u001b[0;34m)\u001b[0m \u001b[0;32mfrom\u001b[0m \u001b[0;32mNone\u001b[0m\u001b[0;34m\u001b[0m\u001b[0;34m\u001b[0m\u001b[0m\n",
      "\u001b[0;31mKeyboardInterrupt\u001b[0m: "
     ]
    }
   ],
   "source": [
    "forecast_files = glob.glob(f\"{results_dir}/forecast.*.jsonl\")\n",
    "\n",
    "key_to_timestamps = defaultdict(list)\n",
    "key_to_last_seqnos = defaultdict(list)\n",
    "key_to_last_seqno_to_forecast = defaultdict(dict)\n",
    "for path in tqdm(forecast_files):\n",
    "    with open(path) as f:\n",
    "        for line in f:\n",
    "            loaded = json.loads(line)\n",
    "            key_id = str(loaded[\"key_id\"])\n",
    "            key_to_timestamps[key_id].append(loaded[\"processing_time\"])\n",
    "            key_to_last_seqnos[key_id].append(loaded[\"last_seqno\"])\n",
    "            key_to_last_seqno_to_forecast[key_id][loaded[\"last_seqno\"]] = loaded[\n",
    "                \"forecast\"\n",
    "            ]"
   ]
  },
  {
   "cell_type": "code",
   "execution_count": null,
   "id": "9b1c8ef0",
   "metadata": {
    "papermill": {
     "duration": null,
     "end_time": null,
     "exception": null,
     "start_time": null,
     "status": "completed"
    },
    "tags": []
   },
   "outputs": [],
   "source": [
    "source_files = glob.glob(f\"{results_dir}/source.*.jsonl\")\n",
    "key_to_source_series = defaultdict(list)\n",
    "key_to_source_timestamps = defaultdict(list)\n",
    "key_to_source_seqno = defaultdict(list)\n",
    "for path in source_files:\n",
    "    with open(path) as f:\n",
    "        for line in tqdm(f):\n",
    "            loaded = json.loads(line)\n",
    "            for entry in loaded:\n",
    "                key_id = str(entry[\"key_id\"])\n",
    "                key_to_source_series[key_id].append(entry[\"value\"])\n",
    "                key_to_source_timestamps[key_id].append(entry[\"ingest_time\"])\n",
    "                key_to_source_seqno[key_id].append(entry[\"seq_no\"])"
   ]
  },
  {
   "cell_type": "code",
   "execution_count": null,
   "id": "07409dd8",
   "metadata": {
    "papermill": {
     "duration": null,
     "end_time": null,
     "exception": null,
     "start_time": null,
     "status": "completed"
    },
    "tags": []
   },
   "outputs": [],
   "source": [
    "num_forecasts = pd.DataFrame(\n",
    "    [{\"key\": k, \"num_forecasts\": len(v)} for k, v in key_to_last_seqnos.items()]\n",
    ")\n",
    "num_forecasts.describe()"
   ]
  },
  {
   "cell_type": "code",
   "execution_count": null,
   "id": "a5ecbc1d",
   "metadata": {
    "papermill": {
     "duration": null,
     "end_time": null,
     "exception": null,
     "start_time": null,
     "status": "completed"
    },
    "tags": []
   },
   "outputs": [],
   "source": [
    "sns.ecdfplot(num_forecasts[\"num_forecasts\"])\n",
    "plt.title(f\"Number of fits by key (total {len(num_forecasts)} keys)\")\n",
    "plt.axvline(27, color=\"orange\", label=\"Max Possible\")\n",
    "plt.legend()\n",
    "plt.tight_layout()\n",
    "plt.savefig(f\"plots/{result_name}-nfits.pdf\", dpi=300)"
   ]
  },
  {
   "cell_type": "code",
   "execution_count": null,
   "id": "068157bf",
   "metadata": {
    "papermill": {
     "duration": null,
     "end_time": null,
     "exception": null,
     "start_time": null,
     "status": "completed"
    },
    "tags": []
   },
   "outputs": [],
   "source": [
    "num_forecasts.to_csv(f\"plots/{result_name}-nfits.csv\", index=None)"
   ]
  },
  {
   "cell_type": "code",
   "execution_count": null,
   "id": "94c28934",
   "metadata": {
    "papermill": {
     "duration": null,
     "end_time": null,
     "exception": null,
     "start_time": null,
     "status": "completed"
    },
    "tags": []
   },
   "outputs": [],
   "source": []
  },
  {
   "cell_type": "code",
   "execution_count": null,
   "id": "a97f7c10",
   "metadata": {
    "papermill": {
     "duration": null,
     "end_time": null,
     "exception": null,
     "start_time": null,
     "status": "completed"
    },
    "tags": []
   },
   "outputs": [],
   "source": [
    "def compute_key(key):\n",
    "    pred_df = (\n",
    "        pd.DataFrame(\n",
    "            {\n",
    "                \"timestamp\": key_to_timestamps[key],\n",
    "                \"last_seqno\": key_to_last_seqnos[key],\n",
    "            }\n",
    "        )\n",
    "        .sort_values(\"timestamp\")\n",
    "        .set_index(\"timestamp\")\n",
    "    )\n",
    "    true_df = (\n",
    "        pd.DataFrame(\n",
    "            {\n",
    "                \"timestamp\": key_to_source_timestamps[key],\n",
    "                \"avg_cpu\": key_to_source_series[key],\n",
    "                \"seq_no\": key_to_source_seqno[key],\n",
    "            }\n",
    "        )\n",
    "        .sort_values(\"timestamp\")\n",
    "        .set_index(\"timestamp\")\n",
    "    )\n",
    "\n",
    "    merged = pd.merge_asof(\n",
    "        left=true_df, right=pred_df, on=\"timestamp\", direction=\"backward\"\n",
    "    )\n",
    "\n",
    "    forecast = key_to_last_seqno_to_forecast[key]\n",
    "    frame = pd.DataFrame(forecast)\n",
    "    frame = (\n",
    "        frame.T.reset_index()\n",
    "        .melt(\"index\")\n",
    "        .rename(columns={\"variable\": \"seq_delta\", \"index\": \"last_seqno\"})\n",
    "    )\n",
    "\n",
    "    m = merged.dropna().reset_index(drop=True)\n",
    "    m.loc[:, \"seq_delta\"] = (m[\"seq_no\"] - m[\"last_seqno\"]).astype(int)\n",
    "    final = m.merge(frame, how=\"left\", on=[\"last_seqno\", \"seq_delta\"])\n",
    "\n",
    "    mse_per_key_per_s = final.groupby(final[\"timestamp\"].astype(int)).apply(\n",
    "        lambda d: pd.Series(\n",
    "            {\"mse\": ((d[\"avg_cpu\"] - d[\"value\"]) ** 2).mean(), \"count\": len(d)}\n",
    "        )\n",
    "    )\n",
    "    mse_per_key_per_s[\"key\"] = key\n",
    "    return mse_per_key_per_s\n",
    "\n",
    "\n",
    "with ProcessPoolExecutor() as executor:\n",
    "    futs = executor.map(compute_key, key_to_timestamps.keys())\n",
    "    mses = list(futs)"
   ]
  },
  {
   "cell_type": "code",
   "execution_count": null,
   "id": "aeab1c81",
   "metadata": {
    "papermill": {
     "duration": null,
     "end_time": null,
     "exception": null,
     "start_time": null,
     "status": "completed"
    },
    "tags": []
   },
   "outputs": [],
   "source": [
    "# we are dropping some keys here :sigh:\n",
    "# need to figure out how to handle a key that's never fitted\n",
    "# final length 4965 for 5000\n",
    "all_mse = pd.concat([f.reset_index() for f in mses if len(f)])"
   ]
  },
  {
   "cell_type": "code",
   "execution_count": null,
   "id": "860b17b1",
   "metadata": {
    "papermill": {
     "duration": null,
     "end_time": null,
     "exception": null,
     "start_time": null,
     "status": "completed"
    },
    "tags": []
   },
   "outputs": [],
   "source": [
    "all_mse.to_parquet(f\"plots/{result_name}-all_mse.pq\", index=None)"
   ]
  },
  {
   "cell_type": "code",
   "execution_count": null,
   "id": "dbec441a",
   "metadata": {
    "papermill": {
     "duration": null,
     "end_time": null,
     "exception": null,
     "start_time": null,
     "status": "completed"
    },
    "tags": []
   },
   "outputs": [],
   "source": [
    "mse_by_timestamp = all_mse.groupby(\"timestamp\").apply(\n",
    "    lambda d: (d[\"mse\"] * d[\"count\"]).sum() / (d[\"count\"].sum())\n",
    ")"
   ]
  },
  {
   "cell_type": "code",
   "execution_count": null,
   "id": "7727551b",
   "metadata": {
    "papermill": {
     "duration": null,
     "end_time": null,
     "exception": null,
     "start_time": null,
     "status": "completed"
    },
    "tags": []
   },
   "outputs": [],
   "source": [
    "mse_by_timestamp.index = mse_by_timestamp.index - mse_by_timestamp.index.min()"
   ]
  },
  {
   "cell_type": "code",
   "execution_count": null,
   "id": "62cdaa03",
   "metadata": {
    "papermill": {
     "duration": null,
     "end_time": null,
     "exception": null,
     "start_time": null,
     "status": "completed"
    },
    "tags": []
   },
   "outputs": [],
   "source": [
    "mse_by_timestamp.plot()\n",
    "plt.title(\"MSE by timestamp\")\n",
    "plt.tight_layout()\n",
    "plt.savefig(f\"plots/{result_name}-mse-time.pdf\", dpi=300)\n",
    "mse_by_timestamp.to_csv(f\"plots/{result_name}-mse-time.csv\", index=True)"
   ]
  },
  {
   "cell_type": "code",
   "execution_count": null,
   "id": "eaef63a9",
   "metadata": {
    "papermill": {
     "duration": null,
     "end_time": null,
     "exception": null,
     "start_time": null,
     "status": "completed"
    },
    "tags": []
   },
   "outputs": [],
   "source": []
  }
 ],
 "metadata": {
  "interpreter": {
   "hash": "7a2c4b191d1ae843dde5cb5f4d1f62fa892f6b79b0f9392a84691e890e33c5a4"
  },
  "kernelspec": {
   "display_name": "Python 3 (ipykernel)",
   "language": "python",
   "name": "python3"
  },
  "language_info": {
   "codemirror_mode": {
    "name": "ipython",
    "version": 3
   },
   "file_extension": ".py",
   "mimetype": "text/x-python",
   "name": "python",
   "nbconvert_exporter": "python",
   "pygments_lexer": "ipython3",
   "version": "3.7.11"
  },
  "papermill": {
   "default_parameters": {},
   "duration": 51.885502,
   "end_time": "2022-04-15T21:02:07.558403",
   "environment_variables": {},
   "exception": null,
   "input_path": "prod.ipynb",
   "output_path": "plots/10000-ce-32.out.ipynb",
   "parameters": {
    "result_name": "10000-ce-32",
    "results_dir": "results/sigmod/1649918865/1649918865"
   },
   "start_time": "2022-04-15T21:01:15.672901",
   "version": "2.3.4"
  }
 },
 "nbformat": 4,
 "nbformat_minor": 5
}