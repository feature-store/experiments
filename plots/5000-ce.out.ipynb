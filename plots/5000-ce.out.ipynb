{
 "cells": [
  {
   "cell_type": "code",
   "execution_count": 1,
   "id": "28e23936",
   "metadata": {
    "execution": {
     "iopub.execute_input": "2022-04-05T07:20:39.138715Z",
     "iopub.status.busy": "2022-04-05T07:20:39.138403Z",
     "iopub.status.idle": "2022-04-05T07:20:40.282532Z",
     "shell.execute_reply": "2022-04-05T07:20:40.281850Z"
    },
    "papermill": {
     "duration": 1.156746,
     "end_time": "2022-04-05T07:20:40.284263",
     "exception": false,
     "start_time": "2022-04-05T07:20:39.127517",
     "status": "completed"
    },
    "tags": []
   },
   "outputs": [],
   "source": [
    "import pandas as pd\n",
    "import glob\n",
    "from collections import defaultdict\n",
    "import numpy as np\n",
    "import json\n",
    "\n",
    "\n",
    "import numpy as np\n",
    "import pandas as pd\n",
    "import matplotlib.pyplot as plt\n",
    "%matplotlib inline\n",
    "%config InlineBackend.figure_formats = ['svg']\n",
    "\n",
    "import seaborn as sns\n",
    "sns.set(style='whitegrid', palette='muted')\n",
    "\n",
    "from tqdm import tqdm\n",
    "from concurrent.futures import ProcessPoolExecutor, as_completed"
   ]
  },
  {
   "cell_type": "code",
   "execution_count": 2,
   "id": "39c0d240",
   "metadata": {
    "execution": {
     "iopub.execute_input": "2022-04-05T07:20:40.303213Z",
     "iopub.status.busy": "2022-04-05T07:20:40.303006Z",
     "iopub.status.idle": "2022-04-05T07:20:40.422532Z",
     "shell.execute_reply": "2022-04-05T07:20:40.421239Z"
    },
    "papermill": {
     "duration": 0.130155,
     "end_time": "2022-04-05T07:20:40.423982",
     "exception": false,
     "start_time": "2022-04-05T07:20:40.293827",
     "status": "completed"
    },
    "tags": []
   },
   "outputs": [],
   "source": [
    "!mkdir -p plots"
   ]
  },
  {
   "cell_type": "code",
   "execution_count": 3,
   "id": "f61e2e6b",
   "metadata": {
    "execution": {
     "iopub.execute_input": "2022-04-05T07:20:40.442946Z",
     "iopub.status.busy": "2022-04-05T07:20:40.442682Z",
     "iopub.status.idle": "2022-04-05T07:20:40.445786Z",
     "shell.execute_reply": "2022-04-05T07:20:40.445327Z"
    },
    "papermill": {
     "duration": 0.014061,
     "end_time": "2022-04-05T07:20:40.447098",
     "exception": false,
     "start_time": "2022-04-05T07:20:40.433037",
     "status": "completed"
    },
    "tags": [
     "parameters"
    ]
   },
   "outputs": [],
   "source": [
    "results_dir = \"results/1648838189\"\n",
    "result_name = \"5000-ce\""
   ]
  },
  {
   "cell_type": "code",
   "execution_count": 4,
   "id": "b4c525d4",
   "metadata": {
    "execution": {
     "iopub.execute_input": "2022-04-05T07:20:40.465555Z",
     "iopub.status.busy": "2022-04-05T07:20:40.465355Z",
     "iopub.status.idle": "2022-04-05T07:20:40.467888Z",
     "shell.execute_reply": "2022-04-05T07:20:40.467468Z"
    },
    "papermill": {
     "duration": 0.013163,
     "end_time": "2022-04-05T07:20:40.469160",
     "exception": false,
     "start_time": "2022-04-05T07:20:40.455997",
     "status": "completed"
    },
    "tags": [
     "injected-parameters"
    ]
   },
   "outputs": [],
   "source": [
    "# Parameters\n",
    "result_name = \"5000-ce\"\n",
    "results_dir = \"results/1648838189\"\n"
   ]
  },
  {
   "cell_type": "code",
   "execution_count": 5,
   "id": "195113c9",
   "metadata": {
    "execution": {
     "iopub.execute_input": "2022-04-05T07:20:40.487921Z",
     "iopub.status.busy": "2022-04-05T07:20:40.487726Z",
     "iopub.status.idle": "2022-04-05T07:23:19.071994Z",
     "shell.execute_reply": "2022-04-05T07:23:19.071372Z"
    },
    "papermill": {
     "duration": 158.607191,
     "end_time": "2022-04-05T07:23:19.085369",
     "exception": false,
     "start_time": "2022-04-05T07:20:40.478178",
     "status": "completed"
    },
    "tags": []
   },
   "outputs": [
    {
     "name": "stderr",
     "output_type": "stream",
     "text": [
      "\r",
      "  0%|                                                                      | 0/16 [00:00<?, ?it/s]"
     ]
    },
    {
     "name": "stderr",
     "output_type": "stream",
     "text": [
      "\r",
      "  6%|███▉                                                          | 1/16 [00:09<02:21,  9.46s/it]"
     ]
    },
    {
     "name": "stderr",
     "output_type": "stream",
     "text": [
      "\r",
      " 12%|███████▊                                                      | 2/16 [00:19<02:15,  9.71s/it]"
     ]
    },
    {
     "name": "stderr",
     "output_type": "stream",
     "text": [
      "\r",
      " 19%|███████████▋                                                  | 3/16 [00:28<02:04,  9.55s/it]"
     ]
    },
    {
     "name": "stderr",
     "output_type": "stream",
     "text": [
      "\r",
      " 25%|███████████████▌                                              | 4/16 [00:38<01:56,  9.68s/it]"
     ]
    },
    {
     "name": "stderr",
     "output_type": "stream",
     "text": [
      "\r",
      " 31%|███████████████████▍                                          | 5/16 [00:47<01:45,  9.58s/it]"
     ]
    },
    {
     "name": "stderr",
     "output_type": "stream",
     "text": [
      "\r",
      " 38%|███████████████████████▎                                      | 6/16 [00:58<01:37,  9.74s/it]"
     ]
    },
    {
     "name": "stderr",
     "output_type": "stream",
     "text": [
      "\r",
      " 44%|███████████████████████████▏                                  | 7/16 [01:07<01:26,  9.63s/it]"
     ]
    },
    {
     "name": "stderr",
     "output_type": "stream",
     "text": [
      "\r",
      " 50%|███████████████████████████████                               | 8/16 [01:20<01:25, 10.67s/it]"
     ]
    },
    {
     "name": "stderr",
     "output_type": "stream",
     "text": [
      "\r",
      " 56%|██████████████████████████████████▉                           | 9/16 [01:29<01:12, 10.34s/it]"
     ]
    },
    {
     "name": "stderr",
     "output_type": "stream",
     "text": [
      "\r",
      " 62%|██████████████████████████████████████▏                      | 10/16 [01:39<01:01, 10.17s/it]"
     ]
    },
    {
     "name": "stderr",
     "output_type": "stream",
     "text": [
      "\r",
      " 69%|█████████████████████████████████████████▉                   | 11/16 [01:49<00:49,  9.97s/it]"
     ]
    },
    {
     "name": "stderr",
     "output_type": "stream",
     "text": [
      "\r",
      " 75%|█████████████████████████████████████████████▊               | 12/16 [01:59<00:40, 10.04s/it]"
     ]
    },
    {
     "name": "stderr",
     "output_type": "stream",
     "text": [
      "\r",
      " 81%|█████████████████████████████████████████████████▌           | 13/16 [02:09<00:29,  9.91s/it]"
     ]
    },
    {
     "name": "stderr",
     "output_type": "stream",
     "text": [
      "\r",
      " 88%|█████████████████████████████████████████████████████▍       | 14/16 [02:19<00:19,  9.96s/it]"
     ]
    },
    {
     "name": "stderr",
     "output_type": "stream",
     "text": [
      "\r",
      " 94%|█████████████████████████████████████████████████████████▏   | 15/16 [02:28<00:09,  9.86s/it]"
     ]
    },
    {
     "name": "stderr",
     "output_type": "stream",
     "text": [
      "\r",
      "100%|█████████████████████████████████████████████████████████████| 16/16 [02:38<00:00,  9.84s/it]"
     ]
    },
    {
     "name": "stderr",
     "output_type": "stream",
     "text": [
      "\r",
      "100%|█████████████████████████████████████████████████████████████| 16/16 [02:38<00:00,  9.91s/it]"
     ]
    },
    {
     "name": "stderr",
     "output_type": "stream",
     "text": [
      "\n"
     ]
    }
   ],
   "source": [
    "forecast_files = glob.glob(f\"{results_dir}/forecast.*.jsonl\")\n",
    "\n",
    "key_to_timestamps = defaultdict(list)\n",
    "key_to_last_seqnos = defaultdict(list)\n",
    "key_to_last_seqno_to_forecast = defaultdict(dict)\n",
    "for path in tqdm(forecast_files):\n",
    "    with open(path) as f:\n",
    "        for line in f:\n",
    "            loaded = json.loads(line)\n",
    "            key_id = str(loaded[\"key_id\"])\n",
    "            key_to_timestamps[key_id].append(loaded[\"processing_time\"])\n",
    "            key_to_last_seqnos[key_id].append(loaded[\"last_seqno\"])\n",
    "            key_to_last_seqno_to_forecast[key_id][loaded[\"last_seqno\"]] = loaded[\"forecast\"]\n"
   ]
  },
  {
   "cell_type": "code",
   "execution_count": 6,
   "id": "928eb23f",
   "metadata": {
    "execution": {
     "iopub.execute_input": "2022-04-05T07:23:19.112824Z",
     "iopub.status.busy": "2022-04-05T07:23:19.112566Z",
     "iopub.status.idle": "2022-04-05T07:24:42.848262Z",
     "shell.execute_reply": "2022-04-05T07:24:42.847652Z"
    },
    "papermill": {
     "duration": 83.751308,
     "end_time": "2022-04-05T07:24:42.849745",
     "exception": false,
     "start_time": "2022-04-05T07:23:19.098437",
     "status": "completed"
    },
    "tags": []
   },
   "outputs": [
    {
     "name": "stderr",
     "output_type": "stream",
     "text": [
      "\r",
      "0it [00:00, ?it/s]"
     ]
    },
    {
     "name": "stderr",
     "output_type": "stream",
     "text": [
      "\r",
      "1it [00:00,  3.88it/s]"
     ]
    },
    {
     "name": "stderr",
     "output_type": "stream",
     "text": [
      "\r",
      "15it [00:00, 51.92it/s]"
     ]
    },
    {
     "name": "stderr",
     "output_type": "stream",
     "text": [
      "\r",
      "29it [00:00, 80.63it/s]"
     ]
    },
    {
     "name": "stderr",
     "output_type": "stream",
     "text": [
      "\r",
      "43it [00:00, 98.91it/s]"
     ]
    },
    {
     "name": "stderr",
     "output_type": "stream",
     "text": [
      "\r",
      "57it [00:00, 110.41it/s]"
     ]
    },
    {
     "name": "stderr",
     "output_type": "stream",
     "text": [
      "\r",
      "71it [00:00, 117.07it/s]"
     ]
    },
    {
     "name": "stderr",
     "output_type": "stream",
     "text": [
      "\r",
      "85it [00:00, 121.53it/s]"
     ]
    },
    {
     "name": "stderr",
     "output_type": "stream",
     "text": [
      "\r",
      "98it [00:00, 123.83it/s]"
     ]
    },
    {
     "name": "stderr",
     "output_type": "stream",
     "text": [
      "\r",
      "111it [00:01, 125.32it/s]"
     ]
    },
    {
     "name": "stderr",
     "output_type": "stream",
     "text": [
      "\r",
      "125it [00:01, 127.19it/s]"
     ]
    },
    {
     "name": "stderr",
     "output_type": "stream",
     "text": [
      "\r",
      "138it [00:01, 127.01it/s]"
     ]
    },
    {
     "name": "stderr",
     "output_type": "stream",
     "text": [
      "\r",
      "151it [00:01, 126.97it/s]"
     ]
    },
    {
     "name": "stderr",
     "output_type": "stream",
     "text": [
      "\r",
      "165it [00:01, 127.92it/s]"
     ]
    },
    {
     "name": "stderr",
     "output_type": "stream",
     "text": [
      "\r",
      "178it [00:01, 127.01it/s]"
     ]
    },
    {
     "name": "stderr",
     "output_type": "stream",
     "text": [
      "\r",
      "191it [00:01, 127.58it/s]"
     ]
    },
    {
     "name": "stderr",
     "output_type": "stream",
     "text": [
      "\r",
      "204it [00:01, 126.96it/s]"
     ]
    },
    {
     "name": "stderr",
     "output_type": "stream",
     "text": [
      "\r",
      "218it [00:01, 127.94it/s]"
     ]
    },
    {
     "name": "stderr",
     "output_type": "stream",
     "text": [
      "\r",
      "231it [00:02, 128.25it/s]"
     ]
    },
    {
     "name": "stderr",
     "output_type": "stream",
     "text": [
      "\r",
      "244it [00:02, 126.13it/s]"
     ]
    },
    {
     "name": "stderr",
     "output_type": "stream",
     "text": [
      "\r",
      "258it [00:02, 127.37it/s]"
     ]
    },
    {
     "name": "stderr",
     "output_type": "stream",
     "text": [
      "\r",
      "271it [00:02, 125.51it/s]"
     ]
    },
    {
     "name": "stderr",
     "output_type": "stream",
     "text": [
      "\r",
      "284it [00:02, 124.28it/s]"
     ]
    },
    {
     "name": "stderr",
     "output_type": "stream",
     "text": [
      "\r",
      "297it [00:02, 124.53it/s]"
     ]
    },
    {
     "name": "stderr",
     "output_type": "stream",
     "text": [
      "\r",
      "310it [00:02, 122.55it/s]"
     ]
    },
    {
     "name": "stderr",
     "output_type": "stream",
     "text": [
      "\r",
      "323it [00:02, 121.20it/s]"
     ]
    },
    {
     "name": "stderr",
     "output_type": "stream",
     "text": [
      "\r",
      "336it [00:02, 121.73it/s]"
     ]
    },
    {
     "name": "stderr",
     "output_type": "stream",
     "text": [
      "\r",
      "349it [00:02, 122.38it/s]"
     ]
    },
    {
     "name": "stderr",
     "output_type": "stream",
     "text": [
      "\r",
      "362it [00:03, 119.88it/s]"
     ]
    },
    {
     "name": "stderr",
     "output_type": "stream",
     "text": [
      "\r",
      "375it [00:03, 120.37it/s]"
     ]
    },
    {
     "name": "stderr",
     "output_type": "stream",
     "text": [
      "\r",
      "388it [00:03, 120.70it/s]"
     ]
    },
    {
     "name": "stderr",
     "output_type": "stream",
     "text": [
      "\r",
      "401it [00:03, 120.99it/s]"
     ]
    },
    {
     "name": "stderr",
     "output_type": "stream",
     "text": [
      "\r",
      "414it [00:03, 118.52it/s]"
     ]
    },
    {
     "name": "stderr",
     "output_type": "stream",
     "text": [
      "\r",
      "426it [00:03, 118.60it/s]"
     ]
    },
    {
     "name": "stderr",
     "output_type": "stream",
     "text": [
      "\r",
      "439it [00:03, 119.57it/s]"
     ]
    },
    {
     "name": "stderr",
     "output_type": "stream",
     "text": [
      "\r",
      "452it [00:03, 120.23it/s]"
     ]
    },
    {
     "name": "stderr",
     "output_type": "stream",
     "text": [
      "\r",
      "465it [00:03, 118.46it/s]"
     ]
    },
    {
     "name": "stderr",
     "output_type": "stream",
     "text": [
      "\r",
      "477it [00:04, 117.32it/s]"
     ]
    },
    {
     "name": "stderr",
     "output_type": "stream",
     "text": [
      "\r",
      "490it [00:04, 118.69it/s]"
     ]
    },
    {
     "name": "stderr",
     "output_type": "stream",
     "text": [
      "\r",
      "503it [00:04, 119.41it/s]"
     ]
    },
    {
     "name": "stderr",
     "output_type": "stream",
     "text": [
      "\r",
      "516it [00:04, 119.94it/s]"
     ]
    },
    {
     "name": "stderr",
     "output_type": "stream",
     "text": [
      "\r",
      "528it [00:04, 117.69it/s]"
     ]
    },
    {
     "name": "stderr",
     "output_type": "stream",
     "text": [
      "\r",
      "540it [00:04, 116.52it/s]"
     ]
    },
    {
     "name": "stderr",
     "output_type": "stream",
     "text": [
      "\r",
      "552it [00:04, 117.37it/s]"
     ]
    },
    {
     "name": "stderr",
     "output_type": "stream",
     "text": [
      "\r",
      "565it [00:04, 118.51it/s]"
     ]
    },
    {
     "name": "stderr",
     "output_type": "stream",
     "text": [
      "\r",
      "577it [00:04, 118.89it/s]"
     ]
    },
    {
     "name": "stderr",
     "output_type": "stream",
     "text": [
      "\r",
      "590it [00:05, 119.65it/s]"
     ]
    },
    {
     "name": "stderr",
     "output_type": "stream",
     "text": [
      "\r",
      "602it [00:05, 116.65it/s]"
     ]
    },
    {
     "name": "stderr",
     "output_type": "stream",
     "text": [
      "\r",
      "614it [00:05, 115.87it/s]"
     ]
    },
    {
     "name": "stderr",
     "output_type": "stream",
     "text": [
      "\r",
      "627it [00:05, 117.19it/s]"
     ]
    },
    {
     "name": "stderr",
     "output_type": "stream",
     "text": [
      "\r",
      "640it [00:05, 118.12it/s]"
     ]
    },
    {
     "name": "stderr",
     "output_type": "stream",
     "text": [
      "\r",
      "653it [00:05, 119.05it/s]"
     ]
    },
    {
     "name": "stderr",
     "output_type": "stream",
     "text": [
      "\r",
      "665it [00:05, 118.81it/s]"
     ]
    },
    {
     "name": "stderr",
     "output_type": "stream",
     "text": [
      "\r",
      "678it [00:05, 119.23it/s]"
     ]
    },
    {
     "name": "stderr",
     "output_type": "stream",
     "text": [
      "\r",
      "690it [00:05, 114.90it/s]"
     ]
    },
    {
     "name": "stderr",
     "output_type": "stream",
     "text": [
      "\r",
      "702it [00:05, 115.63it/s]"
     ]
    },
    {
     "name": "stderr",
     "output_type": "stream",
     "text": [
      "\r",
      "714it [00:06, 116.67it/s]"
     ]
    },
    {
     "name": "stderr",
     "output_type": "stream",
     "text": [
      "\r",
      "726it [00:06, 117.32it/s]"
     ]
    },
    {
     "name": "stderr",
     "output_type": "stream",
     "text": [
      "\r",
      "738it [00:06, 117.81it/s]"
     ]
    },
    {
     "name": "stderr",
     "output_type": "stream",
     "text": [
      "\r",
      "750it [00:06, 118.17it/s]"
     ]
    },
    {
     "name": "stderr",
     "output_type": "stream",
     "text": [
      "\r",
      "762it [00:06, 118.24it/s]"
     ]
    },
    {
     "name": "stderr",
     "output_type": "stream",
     "text": [
      "\r",
      "774it [00:06, 115.34it/s]"
     ]
    },
    {
     "name": "stderr",
     "output_type": "stream",
     "text": [
      "\r",
      "786it [00:06, 114.26it/s]"
     ]
    },
    {
     "name": "stderr",
     "output_type": "stream",
     "text": [
      "\r",
      "798it [00:06, 115.77it/s]"
     ]
    },
    {
     "name": "stderr",
     "output_type": "stream",
     "text": [
      "\r",
      "810it [00:06, 116.93it/s]"
     ]
    },
    {
     "name": "stderr",
     "output_type": "stream",
     "text": [
      "\r",
      "823it [00:07, 117.91it/s]"
     ]
    },
    {
     "name": "stderr",
     "output_type": "stream",
     "text": [
      "\r",
      "835it [00:07, 118.47it/s]"
     ]
    },
    {
     "name": "stderr",
     "output_type": "stream",
     "text": [
      "\r",
      "847it [00:07, 118.75it/s]"
     ]
    },
    {
     "name": "stderr",
     "output_type": "stream",
     "text": [
      "\r",
      "859it [00:07, 117.69it/s]"
     ]
    },
    {
     "name": "stderr",
     "output_type": "stream",
     "text": [
      "\r",
      "871it [00:07, 118.12it/s]"
     ]
    },
    {
     "name": "stderr",
     "output_type": "stream",
     "text": [
      "\r",
      "883it [00:07, 111.75it/s]"
     ]
    },
    {
     "name": "stderr",
     "output_type": "stream",
     "text": [
      "\r",
      "895it [00:07, 112.36it/s]"
     ]
    },
    {
     "name": "stderr",
     "output_type": "stream",
     "text": [
      "\r",
      "907it [00:07, 114.36it/s]"
     ]
    },
    {
     "name": "stderr",
     "output_type": "stream",
     "text": [
      "\r",
      "919it [00:07, 115.78it/s]"
     ]
    },
    {
     "name": "stderr",
     "output_type": "stream",
     "text": [
      "\r",
      "932it [00:07, 117.09it/s]"
     ]
    },
    {
     "name": "stderr",
     "output_type": "stream",
     "text": [
      "\r",
      "944it [00:08, 116.90it/s]"
     ]
    },
    {
     "name": "stderr",
     "output_type": "stream",
     "text": [
      "\r",
      "956it [00:08, 117.70it/s]"
     ]
    },
    {
     "name": "stderr",
     "output_type": "stream",
     "text": [
      "\r",
      "968it [00:08, 118.27it/s]"
     ]
    },
    {
     "name": "stderr",
     "output_type": "stream",
     "text": [
      "\r",
      "980it [00:08, 118.45it/s]"
     ]
    },
    {
     "name": "stderr",
     "output_type": "stream",
     "text": [
      "\r",
      "992it [00:08, 114.02it/s]"
     ]
    },
    {
     "name": "stderr",
     "output_type": "stream",
     "text": [
      "\r",
      "1004it [00:08, 111.76it/s]"
     ]
    },
    {
     "name": "stderr",
     "output_type": "stream",
     "text": [
      "\r",
      "1016it [00:08, 113.58it/s]"
     ]
    },
    {
     "name": "stderr",
     "output_type": "stream",
     "text": [
      "\r",
      "1028it [00:08, 115.07it/s]"
     ]
    },
    {
     "name": "stderr",
     "output_type": "stream",
     "text": [
      "\r",
      "1040it [00:08, 115.37it/s]"
     ]
    },
    {
     "name": "stderr",
     "output_type": "stream",
     "text": [
      "\r",
      "1052it [00:08, 116.52it/s]"
     ]
    },
    {
     "name": "stderr",
     "output_type": "stream",
     "text": [
      "\r",
      "1064it [00:09, 116.93it/s]"
     ]
    },
    {
     "name": "stderr",
     "output_type": "stream",
     "text": [
      "\r",
      "1076it [00:09, 117.30it/s]"
     ]
    },
    {
     "name": "stderr",
     "output_type": "stream",
     "text": [
      "\r",
      "1088it [00:09, 117.61it/s]"
     ]
    },
    {
     "name": "stderr",
     "output_type": "stream",
     "text": [
      "\r",
      "1100it [00:09, 117.75it/s]"
     ]
    },
    {
     "name": "stderr",
     "output_type": "stream",
     "text": [
      "\r",
      "1112it [00:09, 118.30it/s]"
     ]
    },
    {
     "name": "stderr",
     "output_type": "stream",
     "text": [
      "\r",
      "1124it [00:09, 113.21it/s]"
     ]
    },
    {
     "name": "stderr",
     "output_type": "stream",
     "text": [
      "\r",
      "1136it [00:09, 110.73it/s]"
     ]
    },
    {
     "name": "stderr",
     "output_type": "stream",
     "text": [
      "\r",
      "1148it [00:09, 112.54it/s]"
     ]
    },
    {
     "name": "stderr",
     "output_type": "stream",
     "text": [
      "\r",
      "1160it [00:09, 113.99it/s]"
     ]
    },
    {
     "name": "stderr",
     "output_type": "stream",
     "text": [
      "\r",
      "1172it [00:10, 114.98it/s]"
     ]
    },
    {
     "name": "stderr",
     "output_type": "stream",
     "text": [
      "\r",
      "1184it [00:10, 115.79it/s]"
     ]
    },
    {
     "name": "stderr",
     "output_type": "stream",
     "text": [
      "\r",
      "1196it [00:10, 116.27it/s]"
     ]
    },
    {
     "name": "stderr",
     "output_type": "stream",
     "text": [
      "\r",
      "1208it [00:10, 116.91it/s]"
     ]
    },
    {
     "name": "stderr",
     "output_type": "stream",
     "text": [
      "\r",
      "1220it [00:10, 116.29it/s]"
     ]
    },
    {
     "name": "stderr",
     "output_type": "stream",
     "text": [
      "\r",
      "1232it [00:10, 116.63it/s]"
     ]
    },
    {
     "name": "stderr",
     "output_type": "stream",
     "text": [
      "\r",
      "1244it [00:18,  4.66it/s] "
     ]
    },
    {
     "name": "stderr",
     "output_type": "stream",
     "text": [
      "\r",
      "1256it [00:18,  6.55it/s]"
     ]
    },
    {
     "name": "stderr",
     "output_type": "stream",
     "text": [
      "\r",
      "1268it [00:19,  9.11it/s]"
     ]
    },
    {
     "name": "stderr",
     "output_type": "stream",
     "text": [
      "\r",
      "1279it [00:19, 12.27it/s]"
     ]
    },
    {
     "name": "stderr",
     "output_type": "stream",
     "text": [
      "\r",
      "1291it [00:19, 16.87it/s]"
     ]
    },
    {
     "name": "stderr",
     "output_type": "stream",
     "text": [
      "\r",
      "1303it [00:19, 22.79it/s]"
     ]
    },
    {
     "name": "stderr",
     "output_type": "stream",
     "text": [
      "\r",
      "1315it [00:19, 30.15it/s]"
     ]
    },
    {
     "name": "stderr",
     "output_type": "stream",
     "text": [
      "\r",
      "1327it [00:19, 38.84it/s]"
     ]
    },
    {
     "name": "stderr",
     "output_type": "stream",
     "text": [
      "\r",
      "1339it [00:19, 48.61it/s]"
     ]
    },
    {
     "name": "stderr",
     "output_type": "stream",
     "text": [
      "\r",
      "1351it [00:19, 59.03it/s]"
     ]
    },
    {
     "name": "stderr",
     "output_type": "stream",
     "text": [
      "\r",
      "1363it [00:19, 69.37it/s]"
     ]
    },
    {
     "name": "stderr",
     "output_type": "stream",
     "text": [
      "\r",
      "1375it [00:20, 79.05it/s]"
     ]
    },
    {
     "name": "stderr",
     "output_type": "stream",
     "text": [
      "\r",
      "1387it [00:20, 87.66it/s]"
     ]
    },
    {
     "name": "stderr",
     "output_type": "stream",
     "text": [
      "\r",
      "1399it [00:20, 94.76it/s]"
     ]
    },
    {
     "name": "stderr",
     "output_type": "stream",
     "text": [
      "\r",
      "1411it [00:20, 100.51it/s]"
     ]
    },
    {
     "name": "stderr",
     "output_type": "stream",
     "text": [
      "\r",
      "1423it [00:20, 104.91it/s]"
     ]
    },
    {
     "name": "stderr",
     "output_type": "stream",
     "text": [
      "\r",
      "1435it [00:20, 105.59it/s]"
     ]
    },
    {
     "name": "stderr",
     "output_type": "stream",
     "text": [
      "\r",
      "1447it [00:20, 106.58it/s]"
     ]
    },
    {
     "name": "stderr",
     "output_type": "stream",
     "text": [
      "\r",
      "1459it [00:20, 109.65it/s]"
     ]
    },
    {
     "name": "stderr",
     "output_type": "stream",
     "text": [
      "\r",
      "1471it [00:20, 111.16it/s]"
     ]
    },
    {
     "name": "stderr",
     "output_type": "stream",
     "text": [
      "\r",
      "1483it [00:20, 113.15it/s]"
     ]
    },
    {
     "name": "stderr",
     "output_type": "stream",
     "text": [
      "\r",
      "1495it [00:21, 114.35it/s]"
     ]
    },
    {
     "name": "stderr",
     "output_type": "stream",
     "text": [
      "\r",
      "1507it [00:21, 115.07it/s]"
     ]
    },
    {
     "name": "stderr",
     "output_type": "stream",
     "text": [
      "\r",
      "1519it [00:21, 115.71it/s]"
     ]
    },
    {
     "name": "stderr",
     "output_type": "stream",
     "text": [
      "\r",
      "1531it [00:21, 116.10it/s]"
     ]
    },
    {
     "name": "stderr",
     "output_type": "stream",
     "text": [
      "\r",
      "1543it [00:21, 115.88it/s]"
     ]
    },
    {
     "name": "stderr",
     "output_type": "stream",
     "text": [
      "\r",
      "1555it [00:21, 116.26it/s]"
     ]
    },
    {
     "name": "stderr",
     "output_type": "stream",
     "text": [
      "\r",
      "1567it [00:21, 115.88it/s]"
     ]
    },
    {
     "name": "stderr",
     "output_type": "stream",
     "text": [
      "\r",
      "1579it [00:21, 116.33it/s]"
     ]
    },
    {
     "name": "stderr",
     "output_type": "stream",
     "text": [
      "\r",
      "1591it [00:21, 116.68it/s]"
     ]
    },
    {
     "name": "stderr",
     "output_type": "stream",
     "text": [
      "\r",
      "1603it [00:21, 116.95it/s]"
     ]
    },
    {
     "name": "stderr",
     "output_type": "stream",
     "text": [
      "\r",
      "1615it [00:22, 116.52it/s]"
     ]
    },
    {
     "name": "stderr",
     "output_type": "stream",
     "text": [
      "\r",
      "1627it [00:22, 114.13it/s]"
     ]
    },
    {
     "name": "stderr",
     "output_type": "stream",
     "text": [
      "\r",
      "1639it [00:22, 114.42it/s]"
     ]
    },
    {
     "name": "stderr",
     "output_type": "stream",
     "text": [
      "\r",
      "1651it [00:22, 114.67it/s]"
     ]
    },
    {
     "name": "stderr",
     "output_type": "stream",
     "text": [
      "\r",
      "1663it [00:22, 115.72it/s]"
     ]
    },
    {
     "name": "stderr",
     "output_type": "stream",
     "text": [
      "\r",
      "1675it [00:22, 115.91it/s]"
     ]
    },
    {
     "name": "stderr",
     "output_type": "stream",
     "text": [
      "\r",
      "1687it [00:22, 115.95it/s]"
     ]
    },
    {
     "name": "stderr",
     "output_type": "stream",
     "text": [
      "\r",
      "1699it [00:22, 116.44it/s]"
     ]
    },
    {
     "name": "stderr",
     "output_type": "stream",
     "text": [
      "\r",
      "1711it [00:22, 116.73it/s]"
     ]
    },
    {
     "name": "stderr",
     "output_type": "stream",
     "text": [
      "\r",
      "1723it [00:23, 116.86it/s]"
     ]
    },
    {
     "name": "stderr",
     "output_type": "stream",
     "text": [
      "\r",
      "1735it [00:23, 117.04it/s]"
     ]
    },
    {
     "name": "stderr",
     "output_type": "stream",
     "text": [
      "\r",
      "1747it [00:23, 116.46it/s]"
     ]
    },
    {
     "name": "stderr",
     "output_type": "stream",
     "text": [
      "\r",
      "1759it [00:23, 116.73it/s]"
     ]
    },
    {
     "name": "stderr",
     "output_type": "stream",
     "text": [
      "\r",
      "1771it [00:23, 116.90it/s]"
     ]
    },
    {
     "name": "stderr",
     "output_type": "stream",
     "text": [
      "\r",
      "1783it [00:23, 117.22it/s]"
     ]
    },
    {
     "name": "stderr",
     "output_type": "stream",
     "text": [
      "\r",
      "1795it [00:23, 117.16it/s]"
     ]
    },
    {
     "name": "stderr",
     "output_type": "stream",
     "text": [
      "\r",
      "1807it [00:23, 117.06it/s]"
     ]
    },
    {
     "name": "stderr",
     "output_type": "stream",
     "text": [
      "\r",
      "1819it [00:23, 117.01it/s]"
     ]
    },
    {
     "name": "stderr",
     "output_type": "stream",
     "text": [
      "\r",
      "1831it [00:23, 112.40it/s]"
     ]
    },
    {
     "name": "stderr",
     "output_type": "stream",
     "text": [
      "\r",
      "1843it [00:24, 110.43it/s]"
     ]
    },
    {
     "name": "stderr",
     "output_type": "stream",
     "text": [
      "\r",
      "1855it [00:24, 112.23it/s]"
     ]
    },
    {
     "name": "stderr",
     "output_type": "stream",
     "text": [
      "\r",
      "1867it [00:24, 113.70it/s]"
     ]
    },
    {
     "name": "stderr",
     "output_type": "stream",
     "text": [
      "\r",
      "1879it [00:24, 114.73it/s]"
     ]
    },
    {
     "name": "stderr",
     "output_type": "stream",
     "text": [
      "\r",
      "1891it [00:24, 115.37it/s]"
     ]
    },
    {
     "name": "stderr",
     "output_type": "stream",
     "text": [
      "\r",
      "1903it [00:24, 116.00it/s]"
     ]
    },
    {
     "name": "stderr",
     "output_type": "stream",
     "text": [
      "\r",
      "1915it [00:24, 116.07it/s]"
     ]
    },
    {
     "name": "stderr",
     "output_type": "stream",
     "text": [
      "\r",
      "1927it [00:24, 116.36it/s]"
     ]
    },
    {
     "name": "stderr",
     "output_type": "stream",
     "text": [
      "\r",
      "1939it [00:24, 115.96it/s]"
     ]
    },
    {
     "name": "stderr",
     "output_type": "stream",
     "text": [
      "\r",
      "1951it [00:25, 116.25it/s]"
     ]
    },
    {
     "name": "stderr",
     "output_type": "stream",
     "text": [
      "\r",
      "1963it [00:25, 116.64it/s]"
     ]
    },
    {
     "name": "stderr",
     "output_type": "stream",
     "text": [
      "\r",
      "1975it [00:25, 116.66it/s]"
     ]
    },
    {
     "name": "stderr",
     "output_type": "stream",
     "text": [
      "\r",
      "1987it [00:25, 116.72it/s]"
     ]
    },
    {
     "name": "stderr",
     "output_type": "stream",
     "text": [
      "\r",
      "1999it [00:25, 116.69it/s]"
     ]
    },
    {
     "name": "stderr",
     "output_type": "stream",
     "text": [
      "\r",
      "2011it [00:25, 116.70it/s]"
     ]
    },
    {
     "name": "stderr",
     "output_type": "stream",
     "text": [
      "\r",
      "2023it [00:25, 115.55it/s]"
     ]
    },
    {
     "name": "stderr",
     "output_type": "stream",
     "text": [
      "\r",
      "2035it [00:25, 115.82it/s]"
     ]
    },
    {
     "name": "stderr",
     "output_type": "stream",
     "text": [
      "\r",
      "2047it [00:25, 115.88it/s]"
     ]
    },
    {
     "name": "stderr",
     "output_type": "stream",
     "text": [
      "\r",
      "2059it [00:25, 115.95it/s]"
     ]
    },
    {
     "name": "stderr",
     "output_type": "stream",
     "text": [
      "\r",
      "2071it [00:26, 104.66it/s]"
     ]
    },
    {
     "name": "stderr",
     "output_type": "stream",
     "text": [
      "\r",
      "2082it [00:26, 105.35it/s]"
     ]
    },
    {
     "name": "stderr",
     "output_type": "stream",
     "text": [
      "\r",
      "2094it [00:26, 108.30it/s]"
     ]
    },
    {
     "name": "stderr",
     "output_type": "stream",
     "text": [
      "\r",
      "2106it [00:26, 110.62it/s]"
     ]
    },
    {
     "name": "stderr",
     "output_type": "stream",
     "text": [
      "\r",
      "2118it [00:26, 111.79it/s]"
     ]
    },
    {
     "name": "stderr",
     "output_type": "stream",
     "text": [
      "\r",
      "2130it [00:26, 113.16it/s]"
     ]
    },
    {
     "name": "stderr",
     "output_type": "stream",
     "text": [
      "\r",
      "2142it [00:26, 114.10it/s]"
     ]
    },
    {
     "name": "stderr",
     "output_type": "stream",
     "text": [
      "\r",
      "2154it [00:26, 115.00it/s]"
     ]
    },
    {
     "name": "stderr",
     "output_type": "stream",
     "text": [
      "\r",
      "2166it [00:26, 115.54it/s]"
     ]
    },
    {
     "name": "stderr",
     "output_type": "stream",
     "text": [
      "\r",
      "2178it [00:27, 115.94it/s]"
     ]
    },
    {
     "name": "stderr",
     "output_type": "stream",
     "text": [
      "\r",
      "2190it [00:27, 116.25it/s]"
     ]
    },
    {
     "name": "stderr",
     "output_type": "stream",
     "text": [
      "\r",
      "2202it [00:27, 116.50it/s]"
     ]
    },
    {
     "name": "stderr",
     "output_type": "stream",
     "text": [
      "\r",
      "2214it [00:27, 115.77it/s]"
     ]
    },
    {
     "name": "stderr",
     "output_type": "stream",
     "text": [
      "\r",
      "2226it [00:27, 115.83it/s]"
     ]
    },
    {
     "name": "stderr",
     "output_type": "stream",
     "text": [
      "\r",
      "2238it [00:27, 116.17it/s]"
     ]
    },
    {
     "name": "stderr",
     "output_type": "stream",
     "text": [
      "\r",
      "2250it [00:27, 116.22it/s]"
     ]
    },
    {
     "name": "stderr",
     "output_type": "stream",
     "text": [
      "\r",
      "2262it [00:27, 116.41it/s]"
     ]
    },
    {
     "name": "stderr",
     "output_type": "stream",
     "text": [
      "\r",
      "2274it [00:27, 116.49it/s]"
     ]
    },
    {
     "name": "stderr",
     "output_type": "stream",
     "text": [
      "\r",
      "2286it [00:27, 116.43it/s]"
     ]
    },
    {
     "name": "stderr",
     "output_type": "stream",
     "text": [
      "\r",
      "2298it [00:28, 115.91it/s]"
     ]
    },
    {
     "name": "stderr",
     "output_type": "stream",
     "text": [
      "\r",
      "2310it [00:28, 115.99it/s]"
     ]
    },
    {
     "name": "stderr",
     "output_type": "stream",
     "text": [
      "\r",
      "2322it [00:28, 116.19it/s]"
     ]
    },
    {
     "name": "stderr",
     "output_type": "stream",
     "text": [
      "\r",
      "2334it [00:28, 98.99it/s] "
     ]
    },
    {
     "name": "stderr",
     "output_type": "stream",
     "text": [
      "\r",
      "2345it [00:28, 99.05it/s]"
     ]
    },
    {
     "name": "stderr",
     "output_type": "stream",
     "text": [
      "\r",
      "2357it [00:28, 103.84it/s]"
     ]
    },
    {
     "name": "stderr",
     "output_type": "stream",
     "text": [
      "\r",
      "2369it [00:28, 107.51it/s]"
     ]
    },
    {
     "name": "stderr",
     "output_type": "stream",
     "text": [
      "\r",
      "2381it [00:28, 109.84it/s]"
     ]
    },
    {
     "name": "stderr",
     "output_type": "stream",
     "text": [
      "\r",
      "2393it [00:28, 112.18it/s]"
     ]
    },
    {
     "name": "stderr",
     "output_type": "stream",
     "text": [
      "\r",
      "2405it [00:29, 113.88it/s]"
     ]
    },
    {
     "name": "stderr",
     "output_type": "stream",
     "text": [
      "\r",
      "2417it [00:29, 114.95it/s]"
     ]
    },
    {
     "name": "stderr",
     "output_type": "stream",
     "text": [
      "\r",
      "2429it [00:29, 115.85it/s]"
     ]
    },
    {
     "name": "stderr",
     "output_type": "stream",
     "text": [
      "\r",
      "2441it [00:29, 116.55it/s]"
     ]
    },
    {
     "name": "stderr",
     "output_type": "stream",
     "text": [
      "\r",
      "2453it [00:29, 117.29it/s]"
     ]
    },
    {
     "name": "stderr",
     "output_type": "stream",
     "text": [
      "\r",
      "2465it [00:29, 117.45it/s]"
     ]
    },
    {
     "name": "stderr",
     "output_type": "stream",
     "text": [
      "\r",
      "2477it [00:29, 117.10it/s]"
     ]
    },
    {
     "name": "stderr",
     "output_type": "stream",
     "text": [
      "\r",
      "2489it [00:29, 117.60it/s]"
     ]
    },
    {
     "name": "stderr",
     "output_type": "stream",
     "text": [
      "\r",
      "2501it [00:29, 118.16it/s]"
     ]
    },
    {
     "name": "stderr",
     "output_type": "stream",
     "text": [
      "\r",
      "2513it [00:29, 118.63it/s]"
     ]
    },
    {
     "name": "stderr",
     "output_type": "stream",
     "text": [
      "\r",
      "2525it [00:30, 118.83it/s]"
     ]
    },
    {
     "name": "stderr",
     "output_type": "stream",
     "text": [
      "\r",
      "2537it [00:30, 118.67it/s]"
     ]
    },
    {
     "name": "stderr",
     "output_type": "stream",
     "text": [
      "\r",
      "2549it [00:30, 118.90it/s]"
     ]
    },
    {
     "name": "stderr",
     "output_type": "stream",
     "text": [
      "\r",
      "2561it [00:30, 119.07it/s]"
     ]
    },
    {
     "name": "stderr",
     "output_type": "stream",
     "text": [
      "\r",
      "2573it [00:30, 118.52it/s]"
     ]
    },
    {
     "name": "stderr",
     "output_type": "stream",
     "text": [
      "\r",
      "2585it [00:30, 118.82it/s]"
     ]
    },
    {
     "name": "stderr",
     "output_type": "stream",
     "text": [
      "\r",
      "2597it [00:30, 119.09it/s]"
     ]
    },
    {
     "name": "stderr",
     "output_type": "stream",
     "text": [
      "\r",
      "2609it [00:30, 119.02it/s]"
     ]
    },
    {
     "name": "stderr",
     "output_type": "stream",
     "text": [
      "\r",
      "2621it [00:30, 119.22it/s]"
     ]
    },
    {
     "name": "stderr",
     "output_type": "stream",
     "text": [
      "\r",
      "2633it [00:31, 104.00it/s]"
     ]
    },
    {
     "name": "stderr",
     "output_type": "stream",
     "text": [
      "\r",
      "2644it [00:31, 104.24it/s]"
     ]
    },
    {
     "name": "stderr",
     "output_type": "stream",
     "text": [
      "\r",
      "2656it [00:31, 108.46it/s]"
     ]
    },
    {
     "name": "stderr",
     "output_type": "stream",
     "text": [
      "\r",
      "2668it [00:31, 111.18it/s]"
     ]
    },
    {
     "name": "stderr",
     "output_type": "stream",
     "text": [
      "\r",
      "2680it [00:31, 113.46it/s]"
     ]
    },
    {
     "name": "stderr",
     "output_type": "stream",
     "text": [
      "\r",
      "2692it [00:31, 115.32it/s]"
     ]
    },
    {
     "name": "stderr",
     "output_type": "stream",
     "text": [
      "\r",
      "2704it [00:31, 116.43it/s]"
     ]
    },
    {
     "name": "stderr",
     "output_type": "stream",
     "text": [
      "\r",
      "2716it [00:31, 117.40it/s]"
     ]
    },
    {
     "name": "stderr",
     "output_type": "stream",
     "text": [
      "\r",
      "2728it [00:31, 118.08it/s]"
     ]
    },
    {
     "name": "stderr",
     "output_type": "stream",
     "text": [
      "\r",
      "2741it [00:31, 118.90it/s]"
     ]
    },
    {
     "name": "stderr",
     "output_type": "stream",
     "text": [
      "\r",
      "2753it [00:32, 118.52it/s]"
     ]
    },
    {
     "name": "stderr",
     "output_type": "stream",
     "text": [
      "\r",
      "2765it [00:32, 118.58it/s]"
     ]
    },
    {
     "name": "stderr",
     "output_type": "stream",
     "text": [
      "\r",
      "2777it [00:32, 118.74it/s]"
     ]
    },
    {
     "name": "stderr",
     "output_type": "stream",
     "text": [
      "\r",
      "2789it [00:32, 118.94it/s]"
     ]
    },
    {
     "name": "stderr",
     "output_type": "stream",
     "text": [
      "\r",
      "2801it [00:32, 119.03it/s]"
     ]
    },
    {
     "name": "stderr",
     "output_type": "stream",
     "text": [
      "\r",
      "2813it [00:32, 119.17it/s]"
     ]
    },
    {
     "name": "stderr",
     "output_type": "stream",
     "text": [
      "\r",
      "2825it [00:32, 119.14it/s]"
     ]
    },
    {
     "name": "stderr",
     "output_type": "stream",
     "text": [
      "\r",
      "2837it [00:32, 119.23it/s]"
     ]
    },
    {
     "name": "stderr",
     "output_type": "stream",
     "text": [
      "\r",
      "2849it [00:32, 119.05it/s]"
     ]
    },
    {
     "name": "stderr",
     "output_type": "stream",
     "text": [
      "\r",
      "2861it [00:32, 119.23it/s]"
     ]
    },
    {
     "name": "stderr",
     "output_type": "stream",
     "text": [
      "\r",
      "2873it [00:33, 119.32it/s]"
     ]
    },
    {
     "name": "stderr",
     "output_type": "stream",
     "text": [
      "\r",
      "2885it [00:33, 119.49it/s]"
     ]
    },
    {
     "name": "stderr",
     "output_type": "stream",
     "text": [
      "\r",
      "2897it [00:33, 119.39it/s]"
     ]
    },
    {
     "name": "stderr",
     "output_type": "stream",
     "text": [
      "\r",
      "2909it [00:33, 119.54it/s]"
     ]
    },
    {
     "name": "stderr",
     "output_type": "stream",
     "text": [
      "\r",
      "2921it [00:33, 119.09it/s]"
     ]
    },
    {
     "name": "stderr",
     "output_type": "stream",
     "text": [
      "\r",
      "2933it [00:33, 118.85it/s]"
     ]
    },
    {
     "name": "stderr",
     "output_type": "stream",
     "text": [
      "\r",
      "2945it [00:33, 118.17it/s]"
     ]
    },
    {
     "name": "stderr",
     "output_type": "stream",
     "text": [
      "\r",
      "2957it [00:33, 118.27it/s]"
     ]
    },
    {
     "name": "stderr",
     "output_type": "stream",
     "text": [
      "\r",
      "2969it [00:33, 101.86it/s]"
     ]
    },
    {
     "name": "stderr",
     "output_type": "stream",
     "text": [
      "\r",
      "2980it [00:33, 103.64it/s]"
     ]
    },
    {
     "name": "stderr",
     "output_type": "stream",
     "text": [
      "\r",
      "2992it [00:34, 107.24it/s]"
     ]
    },
    {
     "name": "stderr",
     "output_type": "stream",
     "text": [
      "\r",
      "3004it [00:34, 110.39it/s]"
     ]
    },
    {
     "name": "stderr",
     "output_type": "stream",
     "text": [
      "\r",
      "3016it [00:34, 112.25it/s]"
     ]
    },
    {
     "name": "stderr",
     "output_type": "stream",
     "text": [
      "\r",
      "3028it [00:34, 113.95it/s]"
     ]
    },
    {
     "name": "stderr",
     "output_type": "stream",
     "text": [
      "\r",
      "3040it [00:34, 114.84it/s]"
     ]
    },
    {
     "name": "stderr",
     "output_type": "stream",
     "text": [
      "\r",
      "3052it [00:34, 115.98it/s]"
     ]
    },
    {
     "name": "stderr",
     "output_type": "stream",
     "text": [
      "\r",
      "3064it [00:34, 116.90it/s]"
     ]
    },
    {
     "name": "stderr",
     "output_type": "stream",
     "text": [
      "\r",
      "3076it [00:34, 117.57it/s]"
     ]
    },
    {
     "name": "stderr",
     "output_type": "stream",
     "text": [
      "\r",
      "3088it [00:34, 117.80it/s]"
     ]
    },
    {
     "name": "stderr",
     "output_type": "stream",
     "text": [
      "\r",
      "3100it [00:35, 118.01it/s]"
     ]
    },
    {
     "name": "stderr",
     "output_type": "stream",
     "text": [
      "\r",
      "3112it [00:35, 118.35it/s]"
     ]
    },
    {
     "name": "stderr",
     "output_type": "stream",
     "text": [
      "\r",
      "3124it [00:35, 118.42it/s]"
     ]
    },
    {
     "name": "stderr",
     "output_type": "stream",
     "text": [
      "\r",
      "3136it [00:35, 117.80it/s]"
     ]
    },
    {
     "name": "stderr",
     "output_type": "stream",
     "text": [
      "\r",
      "3148it [00:35, 117.96it/s]"
     ]
    },
    {
     "name": "stderr",
     "output_type": "stream",
     "text": [
      "\r",
      "3160it [00:35, 118.05it/s]"
     ]
    },
    {
     "name": "stderr",
     "output_type": "stream",
     "text": [
      "\r",
      "3172it [00:35, 118.19it/s]"
     ]
    },
    {
     "name": "stderr",
     "output_type": "stream",
     "text": [
      "\r",
      "3184it [00:35, 118.29it/s]"
     ]
    },
    {
     "name": "stderr",
     "output_type": "stream",
     "text": [
      "\r",
      "3196it [00:35, 118.31it/s]"
     ]
    },
    {
     "name": "stderr",
     "output_type": "stream",
     "text": [
      "\r",
      "3208it [00:35, 118.71it/s]"
     ]
    },
    {
     "name": "stderr",
     "output_type": "stream",
     "text": [
      "\r",
      "3220it [00:36, 118.40it/s]"
     ]
    },
    {
     "name": "stderr",
     "output_type": "stream",
     "text": [
      "\r",
      "3232it [00:36, 118.64it/s]"
     ]
    },
    {
     "name": "stderr",
     "output_type": "stream",
     "text": [
      "\r",
      "3244it [00:36, 118.72it/s]"
     ]
    },
    {
     "name": "stderr",
     "output_type": "stream",
     "text": [
      "\r",
      "3256it [00:36, 118.74it/s]"
     ]
    },
    {
     "name": "stderr",
     "output_type": "stream",
     "text": [
      "\r",
      "3268it [00:36, 118.68it/s]"
     ]
    },
    {
     "name": "stderr",
     "output_type": "stream",
     "text": [
      "\r",
      "3280it [00:36, 118.72it/s]"
     ]
    },
    {
     "name": "stderr",
     "output_type": "stream",
     "text": [
      "\r",
      "3292it [00:36, 119.04it/s]"
     ]
    },
    {
     "name": "stderr",
     "output_type": "stream",
     "text": [
      "\r",
      "3304it [00:36, 119.01it/s]"
     ]
    },
    {
     "name": "stderr",
     "output_type": "stream",
     "text": [
      "\r",
      "3316it [00:36, 118.47it/s]"
     ]
    },
    {
     "name": "stderr",
     "output_type": "stream",
     "text": [
      "\r",
      "3328it [00:36, 118.51it/s]"
     ]
    },
    {
     "name": "stderr",
     "output_type": "stream",
     "text": [
      "\r",
      "3340it [00:37, 100.48it/s]"
     ]
    },
    {
     "name": "stderr",
     "output_type": "stream",
     "text": [
      "\r",
      "3351it [00:37, 98.53it/s] "
     ]
    },
    {
     "name": "stderr",
     "output_type": "stream",
     "text": [
      "\r",
      "3363it [00:37, 103.31it/s]"
     ]
    },
    {
     "name": "stderr",
     "output_type": "stream",
     "text": [
      "\r",
      "3375it [00:37, 107.20it/s]"
     ]
    },
    {
     "name": "stderr",
     "output_type": "stream",
     "text": [
      "\r",
      "3387it [00:37, 109.99it/s]"
     ]
    },
    {
     "name": "stderr",
     "output_type": "stream",
     "text": [
      "\r",
      "3399it [00:37, 111.79it/s]"
     ]
    },
    {
     "name": "stderr",
     "output_type": "stream",
     "text": [
      "\r",
      "3411it [00:37, 113.62it/s]"
     ]
    },
    {
     "name": "stderr",
     "output_type": "stream",
     "text": [
      "\r",
      "3423it [00:37, 115.09it/s]"
     ]
    },
    {
     "name": "stderr",
     "output_type": "stream",
     "text": [
      "\r",
      "3435it [00:37, 116.27it/s]"
     ]
    },
    {
     "name": "stderr",
     "output_type": "stream",
     "text": [
      "\r",
      "3447it [00:38, 116.77it/s]"
     ]
    },
    {
     "name": "stderr",
     "output_type": "stream",
     "text": [
      "\r",
      "3459it [00:38, 117.06it/s]"
     ]
    },
    {
     "name": "stderr",
     "output_type": "stream",
     "text": [
      "\r",
      "3471it [00:38, 117.32it/s]"
     ]
    },
    {
     "name": "stderr",
     "output_type": "stream",
     "text": [
      "\r",
      "3483it [00:38, 117.61it/s]"
     ]
    },
    {
     "name": "stderr",
     "output_type": "stream",
     "text": [
      "\r",
      "3495it [00:38, 117.24it/s]"
     ]
    },
    {
     "name": "stderr",
     "output_type": "stream",
     "text": [
      "\r",
      "3507it [00:38, 117.67it/s]"
     ]
    },
    {
     "name": "stderr",
     "output_type": "stream",
     "text": [
      "\r",
      "3519it [00:38, 118.10it/s]"
     ]
    },
    {
     "name": "stderr",
     "output_type": "stream",
     "text": [
      "\r",
      "3531it [00:38, 118.16it/s]"
     ]
    },
    {
     "name": "stderr",
     "output_type": "stream",
     "text": [
      "\r",
      "3543it [00:38, 118.36it/s]"
     ]
    },
    {
     "name": "stderr",
     "output_type": "stream",
     "text": [
      "\r",
      "3555it [00:38, 118.29it/s]"
     ]
    },
    {
     "name": "stderr",
     "output_type": "stream",
     "text": [
      "\r",
      "3567it [00:39, 118.55it/s]"
     ]
    },
    {
     "name": "stderr",
     "output_type": "stream",
     "text": [
      "\r",
      "3579it [00:39, 118.51it/s]"
     ]
    },
    {
     "name": "stderr",
     "output_type": "stream",
     "text": [
      "\r",
      "3591it [00:39, 117.75it/s]"
     ]
    },
    {
     "name": "stderr",
     "output_type": "stream",
     "text": [
      "\r",
      "3603it [00:39, 118.07it/s]"
     ]
    },
    {
     "name": "stderr",
     "output_type": "stream",
     "text": [
      "\r",
      "3615it [00:39, 118.42it/s]"
     ]
    },
    {
     "name": "stderr",
     "output_type": "stream",
     "text": [
      "\r",
      "3627it [00:39, 118.55it/s]"
     ]
    },
    {
     "name": "stderr",
     "output_type": "stream",
     "text": [
      "\r",
      "3639it [00:39, 118.53it/s]"
     ]
    },
    {
     "name": "stderr",
     "output_type": "stream",
     "text": [
      "\r",
      "3651it [00:39, 118.65it/s]"
     ]
    },
    {
     "name": "stderr",
     "output_type": "stream",
     "text": [
      "\r",
      "3664it [00:39, 119.13it/s]"
     ]
    },
    {
     "name": "stderr",
     "output_type": "stream",
     "text": [
      "\r",
      "3676it [00:39, 119.01it/s]"
     ]
    },
    {
     "name": "stderr",
     "output_type": "stream",
     "text": [
      "\r",
      "3688it [00:40, 118.30it/s]"
     ]
    },
    {
     "name": "stderr",
     "output_type": "stream",
     "text": [
      "\r",
      "3700it [00:40, 118.29it/s]"
     ]
    },
    {
     "name": "stderr",
     "output_type": "stream",
     "text": [
      "\r",
      "3712it [00:40, 118.49it/s]"
     ]
    },
    {
     "name": "stderr",
     "output_type": "stream",
     "text": [
      "\r",
      "3724it [00:40, 118.39it/s]"
     ]
    },
    {
     "name": "stderr",
     "output_type": "stream",
     "text": [
      "\r",
      "3736it [00:40, 118.37it/s]"
     ]
    },
    {
     "name": "stderr",
     "output_type": "stream",
     "text": [
      "\r",
      "3748it [00:40, 118.36it/s]"
     ]
    },
    {
     "name": "stderr",
     "output_type": "stream",
     "text": [
      "\r",
      "3760it [00:40, 105.88it/s]"
     ]
    },
    {
     "name": "stderr",
     "output_type": "stream",
     "text": [
      "\r",
      "3771it [00:40, 99.30it/s] "
     ]
    },
    {
     "name": "stderr",
     "output_type": "stream",
     "text": [
      "\r",
      "3783it [00:40, 103.76it/s]"
     ]
    },
    {
     "name": "stderr",
     "output_type": "stream",
     "text": [
      "\r",
      "3795it [00:41, 107.16it/s]"
     ]
    },
    {
     "name": "stderr",
     "output_type": "stream",
     "text": [
      "\r",
      "3807it [00:41, 109.90it/s]"
     ]
    },
    {
     "name": "stderr",
     "output_type": "stream",
     "text": [
      "\r",
      "3819it [00:41, 111.88it/s]"
     ]
    },
    {
     "name": "stderr",
     "output_type": "stream",
     "text": [
      "\r",
      "3831it [00:41, 113.31it/s]"
     ]
    },
    {
     "name": "stderr",
     "output_type": "stream",
     "text": [
      "\r",
      "3843it [00:41, 114.75it/s]"
     ]
    },
    {
     "name": "stderr",
     "output_type": "stream",
     "text": [
      "\r",
      "3855it [00:41, 115.48it/s]"
     ]
    },
    {
     "name": "stderr",
     "output_type": "stream",
     "text": [
      "\r",
      "3867it [00:41, 115.27it/s]"
     ]
    },
    {
     "name": "stderr",
     "output_type": "stream",
     "text": [
      "\r",
      "3879it [00:41, 116.54it/s]"
     ]
    },
    {
     "name": "stderr",
     "output_type": "stream",
     "text": [
      "\r",
      "3891it [00:41, 116.65it/s]"
     ]
    },
    {
     "name": "stderr",
     "output_type": "stream",
     "text": [
      "\r",
      "3903it [00:41, 116.73it/s]"
     ]
    },
    {
     "name": "stderr",
     "output_type": "stream",
     "text": [
      "\r",
      "3915it [00:42, 116.84it/s]"
     ]
    },
    {
     "name": "stderr",
     "output_type": "stream",
     "text": [
      "\r",
      "3927it [00:42, 116.92it/s]"
     ]
    },
    {
     "name": "stderr",
     "output_type": "stream",
     "text": [
      "\r",
      "3939it [00:42, 116.95it/s]"
     ]
    },
    {
     "name": "stderr",
     "output_type": "stream",
     "text": [
      "\r",
      "3951it [00:42, 117.02it/s]"
     ]
    },
    {
     "name": "stderr",
     "output_type": "stream",
     "text": [
      "\r",
      "3963it [00:42, 116.23it/s]"
     ]
    },
    {
     "name": "stderr",
     "output_type": "stream",
     "text": [
      "\r",
      "3975it [00:42, 116.45it/s]"
     ]
    },
    {
     "name": "stderr",
     "output_type": "stream",
     "text": [
      "\r",
      "3987it [00:42, 116.52it/s]"
     ]
    },
    {
     "name": "stderr",
     "output_type": "stream",
     "text": [
      "\r",
      "3999it [00:42, 116.49it/s]"
     ]
    },
    {
     "name": "stderr",
     "output_type": "stream",
     "text": [
      "\r",
      "4011it [00:42, 116.56it/s]"
     ]
    },
    {
     "name": "stderr",
     "output_type": "stream",
     "text": [
      "\r",
      "4023it [00:42, 117.17it/s]"
     ]
    },
    {
     "name": "stderr",
     "output_type": "stream",
     "text": [
      "\r",
      "4035it [00:43, 117.13it/s]"
     ]
    },
    {
     "name": "stderr",
     "output_type": "stream",
     "text": [
      "\r",
      "4047it [00:43, 117.14it/s]"
     ]
    },
    {
     "name": "stderr",
     "output_type": "stream",
     "text": [
      "\r",
      "4059it [00:43, 116.59it/s]"
     ]
    },
    {
     "name": "stderr",
     "output_type": "stream",
     "text": [
      "\r",
      "4071it [00:43, 116.59it/s]"
     ]
    },
    {
     "name": "stderr",
     "output_type": "stream",
     "text": [
      "\r",
      "4083it [00:43, 116.85it/s]"
     ]
    },
    {
     "name": "stderr",
     "output_type": "stream",
     "text": [
      "\r",
      "4095it [00:43, 116.85it/s]"
     ]
    },
    {
     "name": "stderr",
     "output_type": "stream",
     "text": [
      "\r",
      "4107it [00:43, 116.94it/s]"
     ]
    },
    {
     "name": "stderr",
     "output_type": "stream",
     "text": [
      "\r",
      "4119it [00:43, 117.04it/s]"
     ]
    },
    {
     "name": "stderr",
     "output_type": "stream",
     "text": [
      "\r",
      "4131it [00:43, 117.30it/s]"
     ]
    },
    {
     "name": "stderr",
     "output_type": "stream",
     "text": [
      "\r",
      "4143it [00:44, 116.80it/s]"
     ]
    },
    {
     "name": "stderr",
     "output_type": "stream",
     "text": [
      "\r",
      "4155it [00:44, 116.86it/s]"
     ]
    },
    {
     "name": "stderr",
     "output_type": "stream",
     "text": [
      "\r",
      "4167it [00:44, 117.02it/s]"
     ]
    },
    {
     "name": "stderr",
     "output_type": "stream",
     "text": [
      "\r",
      "4179it [00:44, 117.12it/s]"
     ]
    },
    {
     "name": "stderr",
     "output_type": "stream",
     "text": [
      "\r",
      "4191it [00:44, 116.99it/s]"
     ]
    },
    {
     "name": "stderr",
     "output_type": "stream",
     "text": [
      "\r",
      "4203it [00:44, 116.90it/s]"
     ]
    },
    {
     "name": "stderr",
     "output_type": "stream",
     "text": [
      "\r",
      "4215it [00:44, 117.14it/s]"
     ]
    },
    {
     "name": "stderr",
     "output_type": "stream",
     "text": [
      "\r",
      "4227it [00:44, 117.01it/s]"
     ]
    },
    {
     "name": "stderr",
     "output_type": "stream",
     "text": [
      "\r",
      "4239it [00:44, 100.14it/s]"
     ]
    },
    {
     "name": "stderr",
     "output_type": "stream",
     "text": [
      "\r",
      "4250it [00:45, 96.50it/s] "
     ]
    },
    {
     "name": "stderr",
     "output_type": "stream",
     "text": [
      "\r",
      "4262it [00:45, 101.06it/s]"
     ]
    },
    {
     "name": "stderr",
     "output_type": "stream",
     "text": [
      "\r",
      "4274it [00:45, 104.72it/s]"
     ]
    },
    {
     "name": "stderr",
     "output_type": "stream",
     "text": [
      "\r",
      "4286it [00:45, 107.99it/s]"
     ]
    },
    {
     "name": "stderr",
     "output_type": "stream",
     "text": [
      "\r",
      "4298it [00:45, 110.40it/s]"
     ]
    },
    {
     "name": "stderr",
     "output_type": "stream",
     "text": [
      "\r",
      "4310it [00:45, 112.22it/s]"
     ]
    },
    {
     "name": "stderr",
     "output_type": "stream",
     "text": [
      "\r",
      "4322it [00:45, 112.96it/s]"
     ]
    },
    {
     "name": "stderr",
     "output_type": "stream",
     "text": [
      "\r",
      "4334it [00:45, 113.90it/s]"
     ]
    },
    {
     "name": "stderr",
     "output_type": "stream",
     "text": [
      "\r",
      "4346it [00:45, 114.37it/s]"
     ]
    },
    {
     "name": "stderr",
     "output_type": "stream",
     "text": [
      "\r",
      "4358it [00:45, 114.44it/s]"
     ]
    },
    {
     "name": "stderr",
     "output_type": "stream",
     "text": [
      "\r",
      "4370it [00:46, 114.82it/s]"
     ]
    },
    {
     "name": "stderr",
     "output_type": "stream",
     "text": [
      "\r",
      "4382it [00:46, 115.32it/s]"
     ]
    },
    {
     "name": "stderr",
     "output_type": "stream",
     "text": [
      "\r",
      "4394it [00:46, 115.67it/s]"
     ]
    },
    {
     "name": "stderr",
     "output_type": "stream",
     "text": [
      "\r",
      "4406it [00:46, 115.84it/s]"
     ]
    },
    {
     "name": "stderr",
     "output_type": "stream",
     "text": [
      "\r",
      "4418it [00:46, 115.16it/s]"
     ]
    },
    {
     "name": "stderr",
     "output_type": "stream",
     "text": [
      "\r",
      "4430it [00:46, 115.52it/s]"
     ]
    },
    {
     "name": "stderr",
     "output_type": "stream",
     "text": [
      "\r",
      "4442it [00:46, 115.91it/s]"
     ]
    },
    {
     "name": "stderr",
     "output_type": "stream",
     "text": [
      "\r",
      "4454it [00:46, 115.95it/s]"
     ]
    },
    {
     "name": "stderr",
     "output_type": "stream",
     "text": [
      "\r",
      "4466it [00:46, 116.13it/s]"
     ]
    },
    {
     "name": "stderr",
     "output_type": "stream",
     "text": [
      "\r",
      "4478it [00:46, 116.31it/s]"
     ]
    },
    {
     "name": "stderr",
     "output_type": "stream",
     "text": [
      "\r",
      "4490it [00:47, 116.27it/s]"
     ]
    },
    {
     "name": "stderr",
     "output_type": "stream",
     "text": [
      "\r",
      "4502it [00:47, 116.31it/s]"
     ]
    },
    {
     "name": "stderr",
     "output_type": "stream",
     "text": [
      "\r",
      "4514it [00:47, 115.60it/s]"
     ]
    },
    {
     "name": "stderr",
     "output_type": "stream",
     "text": [
      "\r",
      "4526it [00:47, 115.93it/s]"
     ]
    },
    {
     "name": "stderr",
     "output_type": "stream",
     "text": [
      "\r",
      "4538it [00:47, 116.09it/s]"
     ]
    },
    {
     "name": "stderr",
     "output_type": "stream",
     "text": [
      "\r",
      "4550it [00:47, 116.11it/s]"
     ]
    },
    {
     "name": "stderr",
     "output_type": "stream",
     "text": [
      "\r",
      "4562it [00:47, 116.07it/s]"
     ]
    },
    {
     "name": "stderr",
     "output_type": "stream",
     "text": [
      "\r",
      "4574it [00:47, 116.36it/s]"
     ]
    },
    {
     "name": "stderr",
     "output_type": "stream",
     "text": [
      "\r",
      "4586it [00:47, 116.34it/s]"
     ]
    },
    {
     "name": "stderr",
     "output_type": "stream",
     "text": [
      "\r",
      "4598it [00:48, 115.56it/s]"
     ]
    },
    {
     "name": "stderr",
     "output_type": "stream",
     "text": [
      "\r",
      "4610it [00:48, 116.14it/s]"
     ]
    },
    {
     "name": "stderr",
     "output_type": "stream",
     "text": [
      "\r",
      "4622it [00:48, 116.80it/s]"
     ]
    },
    {
     "name": "stderr",
     "output_type": "stream",
     "text": [
      "\r",
      "4634it [00:48, 116.91it/s]"
     ]
    },
    {
     "name": "stderr",
     "output_type": "stream",
     "text": [
      "\r",
      "4646it [00:48, 116.59it/s]"
     ]
    },
    {
     "name": "stderr",
     "output_type": "stream",
     "text": [
      "\r",
      "4658it [00:48, 116.30it/s]"
     ]
    },
    {
     "name": "stderr",
     "output_type": "stream",
     "text": [
      "\r",
      "4670it [00:48, 116.46it/s]"
     ]
    },
    {
     "name": "stderr",
     "output_type": "stream",
     "text": [
      "\r",
      "4682it [00:48, 116.58it/s]"
     ]
    },
    {
     "name": "stderr",
     "output_type": "stream",
     "text": [
      "\r",
      "4694it [00:48, 115.98it/s]"
     ]
    },
    {
     "name": "stderr",
     "output_type": "stream",
     "text": [
      "\r",
      "4706it [00:48, 116.06it/s]"
     ]
    },
    {
     "name": "stderr",
     "output_type": "stream",
     "text": [
      "\r",
      "4718it [00:49, 116.22it/s]"
     ]
    },
    {
     "name": "stderr",
     "output_type": "stream",
     "text": [
      "\r",
      "4730it [00:49, 116.29it/s]"
     ]
    },
    {
     "name": "stderr",
     "output_type": "stream",
     "text": [
      "\r",
      "4742it [00:49, 116.37it/s]"
     ]
    },
    {
     "name": "stderr",
     "output_type": "stream",
     "text": [
      "\r",
      "4754it [00:49, 116.51it/s]"
     ]
    },
    {
     "name": "stderr",
     "output_type": "stream",
     "text": [
      "\r",
      "4766it [00:49, 116.85it/s]"
     ]
    },
    {
     "name": "stderr",
     "output_type": "stream",
     "text": [
      "\r",
      "4778it [00:49, 96.10it/s] "
     ]
    },
    {
     "name": "stderr",
     "output_type": "stream",
     "text": [
      "\r",
      "4789it [00:49, 96.51it/s]"
     ]
    },
    {
     "name": "stderr",
     "output_type": "stream",
     "text": [
      "\r",
      "4801it [00:49, 101.14it/s]"
     ]
    },
    {
     "name": "stderr",
     "output_type": "stream",
     "text": [
      "\r",
      "4813it [00:49, 105.20it/s]"
     ]
    },
    {
     "name": "stderr",
     "output_type": "stream",
     "text": [
      "\r",
      "4825it [00:50, 108.32it/s]"
     ]
    },
    {
     "name": "stderr",
     "output_type": "stream",
     "text": [
      "\r",
      "4837it [00:50, 110.62it/s]"
     ]
    },
    {
     "name": "stderr",
     "output_type": "stream",
     "text": [
      "\r",
      "4849it [00:50, 112.25it/s]"
     ]
    },
    {
     "name": "stderr",
     "output_type": "stream",
     "text": [
      "\r",
      "4861it [00:50, 113.72it/s]"
     ]
    },
    {
     "name": "stderr",
     "output_type": "stream",
     "text": [
      "\r",
      "4873it [00:50, 113.66it/s]"
     ]
    },
    {
     "name": "stderr",
     "output_type": "stream",
     "text": [
      "\r",
      "4885it [00:50, 114.83it/s]"
     ]
    },
    {
     "name": "stderr",
     "output_type": "stream",
     "text": [
      "\r",
      "4897it [00:50, 115.44it/s]"
     ]
    },
    {
     "name": "stderr",
     "output_type": "stream",
     "text": [
      "\r",
      "4909it [00:50, 115.94it/s]"
     ]
    },
    {
     "name": "stderr",
     "output_type": "stream",
     "text": [
      "\r",
      "4921it [00:50, 116.38it/s]"
     ]
    },
    {
     "name": "stderr",
     "output_type": "stream",
     "text": [
      "\r",
      "4933it [00:51, 116.60it/s]"
     ]
    },
    {
     "name": "stderr",
     "output_type": "stream",
     "text": [
      "\r",
      "4945it [00:51, 116.59it/s]"
     ]
    },
    {
     "name": "stderr",
     "output_type": "stream",
     "text": [
      "\r",
      "4957it [00:51, 117.03it/s]"
     ]
    },
    {
     "name": "stderr",
     "output_type": "stream",
     "text": [
      "\r",
      "4969it [00:51, 116.14it/s]"
     ]
    },
    {
     "name": "stderr",
     "output_type": "stream",
     "text": [
      "\r",
      "4981it [00:51, 116.01it/s]"
     ]
    },
    {
     "name": "stderr",
     "output_type": "stream",
     "text": [
      "\r",
      "4993it [00:51, 116.20it/s]"
     ]
    },
    {
     "name": "stderr",
     "output_type": "stream",
     "text": [
      "\r",
      "5005it [00:51, 116.44it/s]"
     ]
    },
    {
     "name": "stderr",
     "output_type": "stream",
     "text": [
      "\r",
      "5017it [00:51, 116.38it/s]"
     ]
    },
    {
     "name": "stderr",
     "output_type": "stream",
     "text": [
      "\r",
      "5029it [00:51, 116.38it/s]"
     ]
    },
    {
     "name": "stderr",
     "output_type": "stream",
     "text": [
      "\r",
      "5041it [00:51, 116.26it/s]"
     ]
    },
    {
     "name": "stderr",
     "output_type": "stream",
     "text": [
      "\r",
      "5053it [00:52, 115.53it/s]"
     ]
    },
    {
     "name": "stderr",
     "output_type": "stream",
     "text": [
      "\r",
      "5065it [00:52, 115.69it/s]"
     ]
    },
    {
     "name": "stderr",
     "output_type": "stream",
     "text": [
      "\r",
      "5077it [00:52, 115.87it/s]"
     ]
    },
    {
     "name": "stderr",
     "output_type": "stream",
     "text": [
      "\r",
      "5089it [00:52, 115.91it/s]"
     ]
    },
    {
     "name": "stderr",
     "output_type": "stream",
     "text": [
      "\r",
      "5101it [00:52, 115.98it/s]"
     ]
    },
    {
     "name": "stderr",
     "output_type": "stream",
     "text": [
      "\r",
      "5113it [00:52, 115.90it/s]"
     ]
    },
    {
     "name": "stderr",
     "output_type": "stream",
     "text": [
      "\r",
      "5125it [00:52, 115.88it/s]"
     ]
    },
    {
     "name": "stderr",
     "output_type": "stream",
     "text": [
      "\r",
      "5137it [00:52, 116.23it/s]"
     ]
    },
    {
     "name": "stderr",
     "output_type": "stream",
     "text": [
      "\r",
      "5149it [00:52, 115.68it/s]"
     ]
    },
    {
     "name": "stderr",
     "output_type": "stream",
     "text": [
      "\r",
      "5161it [00:52, 116.01it/s]"
     ]
    },
    {
     "name": "stderr",
     "output_type": "stream",
     "text": [
      "\r",
      "5173it [00:53, 116.35it/s]"
     ]
    },
    {
     "name": "stderr",
     "output_type": "stream",
     "text": [
      "\r",
      "5185it [00:53, 116.50it/s]"
     ]
    },
    {
     "name": "stderr",
     "output_type": "stream",
     "text": [
      "\r",
      "5197it [00:53, 116.50it/s]"
     ]
    },
    {
     "name": "stderr",
     "output_type": "stream",
     "text": [
      "\r",
      "5209it [00:53, 116.76it/s]"
     ]
    },
    {
     "name": "stderr",
     "output_type": "stream",
     "text": [
      "\r",
      "5221it [00:53, 116.73it/s]"
     ]
    },
    {
     "name": "stderr",
     "output_type": "stream",
     "text": [
      "\r",
      "5233it [00:53, 117.05it/s]"
     ]
    },
    {
     "name": "stderr",
     "output_type": "stream",
     "text": [
      "\r",
      "5245it [00:53, 116.00it/s]"
     ]
    },
    {
     "name": "stderr",
     "output_type": "stream",
     "text": [
      "\r",
      "5257it [00:53, 116.25it/s]"
     ]
    },
    {
     "name": "stderr",
     "output_type": "stream",
     "text": [
      "\r",
      "5269it [00:53, 116.38it/s]"
     ]
    },
    {
     "name": "stderr",
     "output_type": "stream",
     "text": [
      "\r",
      "5281it [00:53, 116.76it/s]"
     ]
    },
    {
     "name": "stderr",
     "output_type": "stream",
     "text": [
      "\r",
      "5293it [00:54, 116.83it/s]"
     ]
    },
    {
     "name": "stderr",
     "output_type": "stream",
     "text": [
      "\r",
      "5305it [00:54, 116.83it/s]"
     ]
    },
    {
     "name": "stderr",
     "output_type": "stream",
     "text": [
      "\r",
      "5317it [00:54, 117.18it/s]"
     ]
    },
    {
     "name": "stderr",
     "output_type": "stream",
     "text": [
      "\r",
      "5329it [00:54, 117.72it/s]"
     ]
    },
    {
     "name": "stderr",
     "output_type": "stream",
     "text": [
      "\r",
      "5341it [00:54, 116.72it/s]"
     ]
    },
    {
     "name": "stderr",
     "output_type": "stream",
     "text": [
      "\r",
      "5353it [00:54, 116.74it/s]"
     ]
    },
    {
     "name": "stderr",
     "output_type": "stream",
     "text": [
      "\r",
      "5365it [00:54, 116.45it/s]"
     ]
    },
    {
     "name": "stderr",
     "output_type": "stream",
     "text": [
      "\r",
      "5377it [00:54, 98.49it/s] "
     ]
    },
    {
     "name": "stderr",
     "output_type": "stream",
     "text": [
      "\r",
      "5388it [00:55, 92.69it/s]"
     ]
    },
    {
     "name": "stderr",
     "output_type": "stream",
     "text": [
      "\r",
      "5400it [00:55, 98.05it/s]"
     ]
    },
    {
     "name": "stderr",
     "output_type": "stream",
     "text": [
      "\r",
      "5412it [00:55, 101.64it/s]"
     ]
    },
    {
     "name": "stderr",
     "output_type": "stream",
     "text": [
      "\r",
      "5424it [00:55, 105.87it/s]"
     ]
    },
    {
     "name": "stderr",
     "output_type": "stream",
     "text": [
      "\r",
      "5436it [00:55, 109.00it/s]"
     ]
    },
    {
     "name": "stderr",
     "output_type": "stream",
     "text": [
      "\r",
      "5448it [00:55, 110.96it/s]"
     ]
    },
    {
     "name": "stderr",
     "output_type": "stream",
     "text": [
      "\r",
      "5460it [00:55, 112.61it/s]"
     ]
    },
    {
     "name": "stderr",
     "output_type": "stream",
     "text": [
      "\r",
      "5472it [00:55, 114.06it/s]"
     ]
    },
    {
     "name": "stderr",
     "output_type": "stream",
     "text": [
      "\r",
      "5484it [00:55, 114.93it/s]"
     ]
    },
    {
     "name": "stderr",
     "output_type": "stream",
     "text": [
      "\r",
      "5496it [00:55, 115.84it/s]"
     ]
    },
    {
     "name": "stderr",
     "output_type": "stream",
     "text": [
      "\r",
      "5508it [00:56, 115.55it/s]"
     ]
    },
    {
     "name": "stderr",
     "output_type": "stream",
     "text": [
      "\r",
      "5520it [00:56, 115.90it/s]"
     ]
    },
    {
     "name": "stderr",
     "output_type": "stream",
     "text": [
      "\r",
      "5532it [00:56, 116.63it/s]"
     ]
    },
    {
     "name": "stderr",
     "output_type": "stream",
     "text": [
      "\r",
      "5544it [00:56, 116.77it/s]"
     ]
    },
    {
     "name": "stderr",
     "output_type": "stream",
     "text": [
      "\r",
      "5556it [00:56, 116.79it/s]"
     ]
    },
    {
     "name": "stderr",
     "output_type": "stream",
     "text": [
      "\r",
      "5568it [00:56, 117.48it/s]"
     ]
    },
    {
     "name": "stderr",
     "output_type": "stream",
     "text": [
      "\r",
      "5580it [00:56, 117.35it/s]"
     ]
    },
    {
     "name": "stderr",
     "output_type": "stream",
     "text": [
      "\r",
      "5592it [00:56, 117.42it/s]"
     ]
    },
    {
     "name": "stderr",
     "output_type": "stream",
     "text": [
      "\r",
      "5604it [00:56, 116.60it/s]"
     ]
    },
    {
     "name": "stderr",
     "output_type": "stream",
     "text": [
      "\r",
      "5616it [00:56, 117.23it/s]"
     ]
    },
    {
     "name": "stderr",
     "output_type": "stream",
     "text": [
      "\r",
      "5628it [00:57, 117.41it/s]"
     ]
    },
    {
     "name": "stderr",
     "output_type": "stream",
     "text": [
      "\r",
      "5640it [00:57, 117.32it/s]"
     ]
    },
    {
     "name": "stderr",
     "output_type": "stream",
     "text": [
      "\r",
      "5652it [00:57, 117.43it/s]"
     ]
    },
    {
     "name": "stderr",
     "output_type": "stream",
     "text": [
      "\r",
      "5664it [00:57, 117.23it/s]"
     ]
    },
    {
     "name": "stderr",
     "output_type": "stream",
     "text": [
      "\r",
      "5676it [00:57, 117.23it/s]"
     ]
    },
    {
     "name": "stderr",
     "output_type": "stream",
     "text": [
      "\r",
      "5688it [00:57, 117.44it/s]"
     ]
    },
    {
     "name": "stderr",
     "output_type": "stream",
     "text": [
      "\r",
      "5700it [00:57, 116.47it/s]"
     ]
    },
    {
     "name": "stderr",
     "output_type": "stream",
     "text": [
      "\r",
      "5712it [00:57, 116.93it/s]"
     ]
    },
    {
     "name": "stderr",
     "output_type": "stream",
     "text": [
      "\r",
      "5724it [00:57, 117.14it/s]"
     ]
    },
    {
     "name": "stderr",
     "output_type": "stream",
     "text": [
      "\r",
      "5736it [00:57, 117.42it/s]"
     ]
    },
    {
     "name": "stderr",
     "output_type": "stream",
     "text": [
      "\r",
      "5748it [00:58, 117.45it/s]"
     ]
    },
    {
     "name": "stderr",
     "output_type": "stream",
     "text": [
      "\r",
      "5760it [00:58, 117.47it/s]"
     ]
    },
    {
     "name": "stderr",
     "output_type": "stream",
     "text": [
      "\r",
      "5772it [00:58, 117.70it/s]"
     ]
    },
    {
     "name": "stderr",
     "output_type": "stream",
     "text": [
      "\r",
      "5784it [00:58, 117.28it/s]"
     ]
    },
    {
     "name": "stderr",
     "output_type": "stream",
     "text": [
      "\r",
      "5796it [00:58, 116.07it/s]"
     ]
    },
    {
     "name": "stderr",
     "output_type": "stream",
     "text": [
      "\r",
      "5808it [00:58, 116.54it/s]"
     ]
    },
    {
     "name": "stderr",
     "output_type": "stream",
     "text": [
      "\r",
      "5820it [00:58, 116.30it/s]"
     ]
    },
    {
     "name": "stderr",
     "output_type": "stream",
     "text": [
      "\r",
      "5832it [00:58, 116.42it/s]"
     ]
    },
    {
     "name": "stderr",
     "output_type": "stream",
     "text": [
      "\r",
      "5844it [00:58, 116.49it/s]"
     ]
    },
    {
     "name": "stderr",
     "output_type": "stream",
     "text": [
      "\r",
      "5856it [00:59, 116.24it/s]"
     ]
    },
    {
     "name": "stderr",
     "output_type": "stream",
     "text": [
      "\r",
      "5868it [00:59, 116.28it/s]"
     ]
    },
    {
     "name": "stderr",
     "output_type": "stream",
     "text": [
      "\r",
      "5880it [00:59, 115.04it/s]"
     ]
    },
    {
     "name": "stderr",
     "output_type": "stream",
     "text": [
      "\r",
      "5892it [00:59, 115.40it/s]"
     ]
    },
    {
     "name": "stderr",
     "output_type": "stream",
     "text": [
      "\r",
      "5904it [00:59, 115.94it/s]"
     ]
    },
    {
     "name": "stderr",
     "output_type": "stream",
     "text": [
      "\r",
      "5916it [00:59, 116.16it/s]"
     ]
    },
    {
     "name": "stderr",
     "output_type": "stream",
     "text": [
      "\r",
      "5928it [00:59, 116.11it/s]"
     ]
    },
    {
     "name": "stderr",
     "output_type": "stream",
     "text": [
      "\r",
      "5940it [00:59, 116.63it/s]"
     ]
    },
    {
     "name": "stderr",
     "output_type": "stream",
     "text": [
      "\r",
      "5952it [00:59, 116.65it/s]"
     ]
    },
    {
     "name": "stderr",
     "output_type": "stream",
     "text": [
      "\r",
      "5964it [00:59, 116.57it/s]"
     ]
    },
    {
     "name": "stderr",
     "output_type": "stream",
     "text": [
      "\r",
      "5976it [01:00, 115.51it/s]"
     ]
    },
    {
     "name": "stderr",
     "output_type": "stream",
     "text": [
      "\r",
      "5988it [01:00, 115.76it/s]"
     ]
    },
    {
     "name": "stderr",
     "output_type": "stream",
     "text": [
      "\r",
      "6000it [01:00, 115.44it/s]"
     ]
    },
    {
     "name": "stderr",
     "output_type": "stream",
     "text": [
      "\r",
      "6012it [01:00, 115.85it/s]"
     ]
    },
    {
     "name": "stderr",
     "output_type": "stream",
     "text": [
      "\r",
      "6024it [01:00, 116.42it/s]"
     ]
    },
    {
     "name": "stderr",
     "output_type": "stream",
     "text": [
      "\r",
      "6036it [01:00, 116.61it/s]"
     ]
    },
    {
     "name": "stderr",
     "output_type": "stream",
     "text": [
      "\r",
      "6048it [01:00, 116.63it/s]"
     ]
    },
    {
     "name": "stderr",
     "output_type": "stream",
     "text": [
      "\r",
      "6060it [01:00, 86.94it/s] "
     ]
    },
    {
     "name": "stderr",
     "output_type": "stream",
     "text": [
      "\r",
      "6070it [01:01, 87.54it/s]"
     ]
    },
    {
     "name": "stderr",
     "output_type": "stream",
     "text": [
      "\r",
      "6082it [01:01, 94.07it/s]"
     ]
    },
    {
     "name": "stderr",
     "output_type": "stream",
     "text": [
      "\r",
      "6094it [01:01, 99.74it/s]"
     ]
    },
    {
     "name": "stderr",
     "output_type": "stream",
     "text": [
      "\r",
      "6106it [01:01, 104.04it/s]"
     ]
    },
    {
     "name": "stderr",
     "output_type": "stream",
     "text": [
      "\r",
      "6118it [01:01, 107.19it/s]"
     ]
    },
    {
     "name": "stderr",
     "output_type": "stream",
     "text": [
      "\r",
      "6130it [01:01, 109.70it/s]"
     ]
    },
    {
     "name": "stderr",
     "output_type": "stream",
     "text": [
      "\r",
      "6142it [01:01, 111.57it/s]"
     ]
    },
    {
     "name": "stderr",
     "output_type": "stream",
     "text": [
      "\r",
      "6154it [01:01, 112.78it/s]"
     ]
    },
    {
     "name": "stderr",
     "output_type": "stream",
     "text": [
      "\r",
      "6166it [01:01, 113.77it/s]"
     ]
    },
    {
     "name": "stderr",
     "output_type": "stream",
     "text": [
      "\r",
      "6178it [01:01, 114.67it/s]"
     ]
    },
    {
     "name": "stderr",
     "output_type": "stream",
     "text": [
      "\r",
      "6190it [01:02, 115.12it/s]"
     ]
    },
    {
     "name": "stderr",
     "output_type": "stream",
     "text": [
      "\r",
      "6202it [01:02, 115.34it/s]"
     ]
    },
    {
     "name": "stderr",
     "output_type": "stream",
     "text": [
      "\r",
      "6214it [01:02, 115.59it/s]"
     ]
    },
    {
     "name": "stderr",
     "output_type": "stream",
     "text": [
      "\r",
      "6226it [01:02, 115.77it/s]"
     ]
    },
    {
     "name": "stderr",
     "output_type": "stream",
     "text": [
      "\r",
      "6238it [01:02, 115.91it/s]"
     ]
    },
    {
     "name": "stderr",
     "output_type": "stream",
     "text": [
      "\r",
      "6250it [01:02, 116.06it/s]"
     ]
    },
    {
     "name": "stderr",
     "output_type": "stream",
     "text": [
      "\r",
      "6262it [01:02, 115.80it/s]"
     ]
    },
    {
     "name": "stderr",
     "output_type": "stream",
     "text": [
      "\r",
      "6274it [01:02, 115.85it/s]"
     ]
    },
    {
     "name": "stderr",
     "output_type": "stream",
     "text": [
      "\r",
      "6286it [01:02, 115.48it/s]"
     ]
    },
    {
     "name": "stderr",
     "output_type": "stream",
     "text": [
      "\r",
      "6298it [01:02, 115.70it/s]"
     ]
    },
    {
     "name": "stderr",
     "output_type": "stream",
     "text": [
      "\r",
      "6310it [01:03, 114.49it/s]"
     ]
    },
    {
     "name": "stderr",
     "output_type": "stream",
     "text": [
      "\r",
      "6322it [01:03, 114.90it/s]"
     ]
    },
    {
     "name": "stderr",
     "output_type": "stream",
     "text": [
      "\r",
      "6334it [01:03, 115.07it/s]"
     ]
    },
    {
     "name": "stderr",
     "output_type": "stream",
     "text": [
      "\r",
      "6346it [01:03, 115.35it/s]"
     ]
    },
    {
     "name": "stderr",
     "output_type": "stream",
     "text": [
      "\r",
      "6358it [01:03, 115.41it/s]"
     ]
    },
    {
     "name": "stderr",
     "output_type": "stream",
     "text": [
      "\r",
      "6370it [01:03, 115.43it/s]"
     ]
    },
    {
     "name": "stderr",
     "output_type": "stream",
     "text": [
      "\r",
      "6382it [01:03, 114.67it/s]"
     ]
    },
    {
     "name": "stderr",
     "output_type": "stream",
     "text": [
      "\r",
      "6394it [01:03, 114.91it/s]"
     ]
    },
    {
     "name": "stderr",
     "output_type": "stream",
     "text": [
      "\r",
      "6406it [01:03, 115.20it/s]"
     ]
    },
    {
     "name": "stderr",
     "output_type": "stream",
     "text": [
      "\r",
      "6418it [01:04, 115.15it/s]"
     ]
    },
    {
     "name": "stderr",
     "output_type": "stream",
     "text": [
      "\r",
      "6430it [01:04, 115.45it/s]"
     ]
    },
    {
     "name": "stderr",
     "output_type": "stream",
     "text": [
      "\r",
      "6442it [01:04, 115.32it/s]"
     ]
    },
    {
     "name": "stderr",
     "output_type": "stream",
     "text": [
      "\r",
      "6454it [01:04, 115.82it/s]"
     ]
    },
    {
     "name": "stderr",
     "output_type": "stream",
     "text": [
      "\r",
      "6466it [01:04, 114.83it/s]"
     ]
    },
    {
     "name": "stderr",
     "output_type": "stream",
     "text": [
      "\r",
      "6478it [01:04, 115.16it/s]"
     ]
    },
    {
     "name": "stderr",
     "output_type": "stream",
     "text": [
      "\r",
      "6490it [01:04, 115.52it/s]"
     ]
    },
    {
     "name": "stderr",
     "output_type": "stream",
     "text": [
      "\r",
      "6502it [01:04, 115.84it/s]"
     ]
    },
    {
     "name": "stderr",
     "output_type": "stream",
     "text": [
      "\r",
      "6514it [01:04, 115.71it/s]"
     ]
    },
    {
     "name": "stderr",
     "output_type": "stream",
     "text": [
      "\r",
      "6526it [01:04, 116.00it/s]"
     ]
    },
    {
     "name": "stderr",
     "output_type": "stream",
     "text": [
      "\r",
      "6538it [01:05, 116.01it/s]"
     ]
    },
    {
     "name": "stderr",
     "output_type": "stream",
     "text": [
      "\r",
      "6550it [01:05, 114.85it/s]"
     ]
    },
    {
     "name": "stderr",
     "output_type": "stream",
     "text": [
      "\r",
      "6562it [01:05, 114.98it/s]"
     ]
    },
    {
     "name": "stderr",
     "output_type": "stream",
     "text": [
      "\r",
      "6574it [01:05, 115.21it/s]"
     ]
    },
    {
     "name": "stderr",
     "output_type": "stream",
     "text": [
      "\r",
      "6586it [01:05, 115.39it/s]"
     ]
    },
    {
     "name": "stderr",
     "output_type": "stream",
     "text": [
      "\r",
      "6598it [01:05, 115.41it/s]"
     ]
    },
    {
     "name": "stderr",
     "output_type": "stream",
     "text": [
      "\r",
      "6610it [01:05, 115.59it/s]"
     ]
    },
    {
     "name": "stderr",
     "output_type": "stream",
     "text": [
      "\r",
      "6622it [01:05, 114.64it/s]"
     ]
    },
    {
     "name": "stderr",
     "output_type": "stream",
     "text": [
      "\r",
      "6634it [01:05, 114.73it/s]"
     ]
    },
    {
     "name": "stderr",
     "output_type": "stream",
     "text": [
      "\r",
      "6646it [01:06, 115.26it/s]"
     ]
    },
    {
     "name": "stderr",
     "output_type": "stream",
     "text": [
      "\r",
      "6658it [01:06, 115.60it/s]"
     ]
    },
    {
     "name": "stderr",
     "output_type": "stream",
     "text": [
      "\r",
      "6670it [01:06, 115.63it/s]"
     ]
    },
    {
     "name": "stderr",
     "output_type": "stream",
     "text": [
      "\r",
      "6682it [01:06, 115.47it/s]"
     ]
    },
    {
     "name": "stderr",
     "output_type": "stream",
     "text": [
      "\r",
      "6694it [01:06, 115.79it/s]"
     ]
    },
    {
     "name": "stderr",
     "output_type": "stream",
     "text": [
      "\r",
      "6706it [01:06, 114.91it/s]"
     ]
    },
    {
     "name": "stderr",
     "output_type": "stream",
     "text": [
      "\r",
      "6718it [01:06, 115.04it/s]"
     ]
    },
    {
     "name": "stderr",
     "output_type": "stream",
     "text": [
      "\r",
      "6730it [01:06, 115.26it/s]"
     ]
    },
    {
     "name": "stderr",
     "output_type": "stream",
     "text": [
      "\r",
      "6742it [01:06, 115.71it/s]"
     ]
    },
    {
     "name": "stderr",
     "output_type": "stream",
     "text": [
      "\r",
      "6754it [01:06, 115.69it/s]"
     ]
    },
    {
     "name": "stderr",
     "output_type": "stream",
     "text": [
      "\r",
      "6766it [01:07, 115.64it/s]"
     ]
    },
    {
     "name": "stderr",
     "output_type": "stream",
     "text": [
      "\r",
      "6778it [01:07, 116.03it/s]"
     ]
    },
    {
     "name": "stderr",
     "output_type": "stream",
     "text": [
      "\r",
      "6790it [01:07, 115.04it/s]"
     ]
    },
    {
     "name": "stderr",
     "output_type": "stream",
     "text": [
      "\r",
      "6802it [01:07, 115.04it/s]"
     ]
    },
    {
     "name": "stderr",
     "output_type": "stream",
     "text": [
      "\r",
      "6814it [01:07, 106.84it/s]"
     ]
    },
    {
     "name": "stderr",
     "output_type": "stream",
     "text": [
      "\r",
      "6825it [01:07, 85.99it/s] "
     ]
    },
    {
     "name": "stderr",
     "output_type": "stream",
     "text": [
      "\r",
      "6835it [01:07, 89.01it/s]"
     ]
    },
    {
     "name": "stderr",
     "output_type": "stream",
     "text": [
      "\r",
      "6847it [01:07, 94.78it/s]"
     ]
    },
    {
     "name": "stderr",
     "output_type": "stream",
     "text": [
      "\r",
      "6859it [01:07, 100.04it/s]"
     ]
    },
    {
     "name": "stderr",
     "output_type": "stream",
     "text": [
      "\r",
      "6871it [01:08, 103.84it/s]"
     ]
    },
    {
     "name": "stderr",
     "output_type": "stream",
     "text": [
      "\r",
      "6883it [01:08, 107.26it/s]"
     ]
    },
    {
     "name": "stderr",
     "output_type": "stream",
     "text": [
      "\r",
      "6895it [01:08, 109.42it/s]"
     ]
    },
    {
     "name": "stderr",
     "output_type": "stream",
     "text": [
      "\r",
      "6907it [01:08, 111.10it/s]"
     ]
    },
    {
     "name": "stderr",
     "output_type": "stream",
     "text": [
      "\r",
      "6919it [01:08, 112.09it/s]"
     ]
    },
    {
     "name": "stderr",
     "output_type": "stream",
     "text": [
      "\r",
      "6931it [01:08, 112.28it/s]"
     ]
    },
    {
     "name": "stderr",
     "output_type": "stream",
     "text": [
      "\r",
      "6943it [01:08, 112.96it/s]"
     ]
    },
    {
     "name": "stderr",
     "output_type": "stream",
     "text": [
      "\r",
      "6955it [01:08, 113.36it/s]"
     ]
    },
    {
     "name": "stderr",
     "output_type": "stream",
     "text": [
      "\r",
      "6967it [01:08, 113.48it/s]"
     ]
    },
    {
     "name": "stderr",
     "output_type": "stream",
     "text": [
      "\r",
      "6979it [01:09, 114.09it/s]"
     ]
    },
    {
     "name": "stderr",
     "output_type": "stream",
     "text": [
      "\r",
      "6991it [01:09, 113.84it/s]"
     ]
    },
    {
     "name": "stderr",
     "output_type": "stream",
     "text": [
      "\r",
      "7003it [01:09, 113.37it/s]"
     ]
    },
    {
     "name": "stderr",
     "output_type": "stream",
     "text": [
      "\r",
      "7015it [01:09, 113.50it/s]"
     ]
    },
    {
     "name": "stderr",
     "output_type": "stream",
     "text": [
      "\r",
      "7027it [01:09, 113.77it/s]"
     ]
    },
    {
     "name": "stderr",
     "output_type": "stream",
     "text": [
      "\r",
      "7039it [01:09, 114.29it/s]"
     ]
    },
    {
     "name": "stderr",
     "output_type": "stream",
     "text": [
      "\r",
      "7051it [01:09, 114.44it/s]"
     ]
    },
    {
     "name": "stderr",
     "output_type": "stream",
     "text": [
      "\r",
      "7063it [01:09, 114.57it/s]"
     ]
    },
    {
     "name": "stderr",
     "output_type": "stream",
     "text": [
      "\r",
      "7075it [01:09, 114.83it/s]"
     ]
    },
    {
     "name": "stderr",
     "output_type": "stream",
     "text": [
      "\r",
      "7087it [01:09, 114.34it/s]"
     ]
    },
    {
     "name": "stderr",
     "output_type": "stream",
     "text": [
      "\r",
      "7099it [01:10, 114.59it/s]"
     ]
    },
    {
     "name": "stderr",
     "output_type": "stream",
     "text": [
      "\r",
      "7111it [01:10, 114.71it/s]"
     ]
    },
    {
     "name": "stderr",
     "output_type": "stream",
     "text": [
      "\r",
      "7123it [01:10, 114.21it/s]"
     ]
    },
    {
     "name": "stderr",
     "output_type": "stream",
     "text": [
      "\r",
      "7135it [01:10, 114.46it/s]"
     ]
    },
    {
     "name": "stderr",
     "output_type": "stream",
     "text": [
      "\r",
      "7147it [01:10, 114.59it/s]"
     ]
    },
    {
     "name": "stderr",
     "output_type": "stream",
     "text": [
      "\r",
      "7159it [01:10, 114.48it/s]"
     ]
    },
    {
     "name": "stderr",
     "output_type": "stream",
     "text": [
      "\r",
      "7171it [01:10, 114.01it/s]"
     ]
    },
    {
     "name": "stderr",
     "output_type": "stream",
     "text": [
      "\r",
      "7183it [01:10, 114.59it/s]"
     ]
    },
    {
     "name": "stderr",
     "output_type": "stream",
     "text": [
      "\r",
      "7195it [01:10, 114.83it/s]"
     ]
    },
    {
     "name": "stderr",
     "output_type": "stream",
     "text": [
      "\r",
      "7207it [01:11, 115.19it/s]"
     ]
    },
    {
     "name": "stderr",
     "output_type": "stream",
     "text": [
      "\r",
      "7219it [01:11, 115.15it/s]"
     ]
    },
    {
     "name": "stderr",
     "output_type": "stream",
     "text": [
      "\r",
      "7231it [01:11, 115.51it/s]"
     ]
    },
    {
     "name": "stderr",
     "output_type": "stream",
     "text": [
      "\r",
      "7243it [01:11, 115.22it/s]"
     ]
    },
    {
     "name": "stderr",
     "output_type": "stream",
     "text": [
      "\r",
      "7255it [01:11, 115.28it/s]"
     ]
    },
    {
     "name": "stderr",
     "output_type": "stream",
     "text": [
      "\r",
      "7267it [01:11, 115.20it/s]"
     ]
    },
    {
     "name": "stderr",
     "output_type": "stream",
     "text": [
      "\r",
      "7279it [01:11, 115.32it/s]"
     ]
    },
    {
     "name": "stderr",
     "output_type": "stream",
     "text": [
      "\r",
      "7291it [01:11, 115.40it/s]"
     ]
    },
    {
     "name": "stderr",
     "output_type": "stream",
     "text": [
      "\r",
      "7303it [01:11, 115.23it/s]"
     ]
    },
    {
     "name": "stderr",
     "output_type": "stream",
     "text": [
      "\r",
      "7315it [01:11, 115.06it/s]"
     ]
    },
    {
     "name": "stderr",
     "output_type": "stream",
     "text": [
      "\r",
      "7327it [01:12, 114.85it/s]"
     ]
    },
    {
     "name": "stderr",
     "output_type": "stream",
     "text": [
      "\r",
      "7339it [01:12, 114.97it/s]"
     ]
    },
    {
     "name": "stderr",
     "output_type": "stream",
     "text": [
      "\r",
      "7351it [01:12, 115.23it/s]"
     ]
    },
    {
     "name": "stderr",
     "output_type": "stream",
     "text": [
      "\r",
      "7363it [01:12, 115.45it/s]"
     ]
    },
    {
     "name": "stderr",
     "output_type": "stream",
     "text": [
      "\r",
      "7375it [01:12, 115.45it/s]"
     ]
    },
    {
     "name": "stderr",
     "output_type": "stream",
     "text": [
      "\r",
      "7387it [01:12, 115.65it/s]"
     ]
    },
    {
     "name": "stderr",
     "output_type": "stream",
     "text": [
      "\r",
      "7399it [01:12, 114.53it/s]"
     ]
    },
    {
     "name": "stderr",
     "output_type": "stream",
     "text": [
      "\r",
      "7411it [01:12, 114.59it/s]"
     ]
    },
    {
     "name": "stderr",
     "output_type": "stream",
     "text": [
      "\r",
      "7423it [01:12, 114.90it/s]"
     ]
    },
    {
     "name": "stderr",
     "output_type": "stream",
     "text": [
      "\r",
      "7435it [01:13, 115.18it/s]"
     ]
    },
    {
     "name": "stderr",
     "output_type": "stream",
     "text": [
      "\r",
      "7447it [01:13, 115.64it/s]"
     ]
    },
    {
     "name": "stderr",
     "output_type": "stream",
     "text": [
      "\r",
      "7459it [01:13, 115.71it/s]"
     ]
    },
    {
     "name": "stderr",
     "output_type": "stream",
     "text": [
      "\r",
      "7471it [01:13, 115.53it/s]"
     ]
    },
    {
     "name": "stderr",
     "output_type": "stream",
     "text": [
      "\r",
      "7483it [01:13, 114.86it/s]"
     ]
    },
    {
     "name": "stderr",
     "output_type": "stream",
     "text": [
      "\r",
      "7495it [01:13, 115.00it/s]"
     ]
    },
    {
     "name": "stderr",
     "output_type": "stream",
     "text": [
      "\r",
      "7507it [01:13, 115.23it/s]"
     ]
    },
    {
     "name": "stderr",
     "output_type": "stream",
     "text": [
      "\r",
      "7519it [01:13, 115.44it/s]"
     ]
    },
    {
     "name": "stderr",
     "output_type": "stream",
     "text": [
      "\r",
      "7531it [01:13, 116.14it/s]"
     ]
    },
    {
     "name": "stderr",
     "output_type": "stream",
     "text": [
      "\r",
      "7543it [01:13, 115.70it/s]"
     ]
    },
    {
     "name": "stderr",
     "output_type": "stream",
     "text": [
      "\r",
      "7555it [01:14, 115.85it/s]"
     ]
    },
    {
     "name": "stderr",
     "output_type": "stream",
     "text": [
      "\r",
      "7567it [01:14, 115.22it/s]"
     ]
    },
    {
     "name": "stderr",
     "output_type": "stream",
     "text": [
      "\r",
      "7579it [01:14, 115.25it/s]"
     ]
    },
    {
     "name": "stderr",
     "output_type": "stream",
     "text": [
      "\r",
      "7591it [01:14, 115.20it/s]"
     ]
    },
    {
     "name": "stderr",
     "output_type": "stream",
     "text": [
      "\r",
      "7603it [01:14, 115.35it/s]"
     ]
    },
    {
     "name": "stderr",
     "output_type": "stream",
     "text": [
      "\r",
      "7615it [01:14, 115.46it/s]"
     ]
    },
    {
     "name": "stderr",
     "output_type": "stream",
     "text": [
      "\r",
      "7627it [01:14, 115.63it/s]"
     ]
    },
    {
     "name": "stderr",
     "output_type": "stream",
     "text": [
      "\r",
      "7639it [01:14, 113.93it/s]"
     ]
    },
    {
     "name": "stderr",
     "output_type": "stream",
     "text": [
      "\r",
      "7651it [01:14, 114.29it/s]"
     ]
    },
    {
     "name": "stderr",
     "output_type": "stream",
     "text": [
      "\r",
      "7663it [01:14, 114.69it/s]"
     ]
    },
    {
     "name": "stderr",
     "output_type": "stream",
     "text": [
      "\r",
      "7675it [01:15, 90.11it/s] "
     ]
    },
    {
     "name": "stderr",
     "output_type": "stream",
     "text": [
      "\r",
      "7685it [01:15, 78.07it/s]"
     ]
    },
    {
     "name": "stderr",
     "output_type": "stream",
     "text": [
      "\r",
      "7695it [01:15, 82.56it/s]"
     ]
    },
    {
     "name": "stderr",
     "output_type": "stream",
     "text": [
      "\r",
      "7706it [01:15, 88.74it/s]"
     ]
    },
    {
     "name": "stderr",
     "output_type": "stream",
     "text": [
      "\r",
      "7718it [01:15, 94.83it/s]"
     ]
    },
    {
     "name": "stderr",
     "output_type": "stream",
     "text": [
      "\r",
      "7730it [01:15, 99.68it/s]"
     ]
    },
    {
     "name": "stderr",
     "output_type": "stream",
     "text": [
      "\r",
      "7742it [01:15, 103.52it/s]"
     ]
    },
    {
     "name": "stderr",
     "output_type": "stream",
     "text": [
      "\r",
      "7754it [01:15, 106.33it/s]"
     ]
    },
    {
     "name": "stderr",
     "output_type": "stream",
     "text": [
      "\r",
      "7766it [01:16, 108.49it/s]"
     ]
    },
    {
     "name": "stderr",
     "output_type": "stream",
     "text": [
      "\r",
      "7778it [01:16, 108.54it/s]"
     ]
    },
    {
     "name": "stderr",
     "output_type": "stream",
     "text": [
      "\r",
      "7790it [01:16, 110.19it/s]"
     ]
    },
    {
     "name": "stderr",
     "output_type": "stream",
     "text": [
      "\r",
      "7802it [01:16, 111.39it/s]"
     ]
    },
    {
     "name": "stderr",
     "output_type": "stream",
     "text": [
      "\r",
      "7814it [01:16, 111.90it/s]"
     ]
    },
    {
     "name": "stderr",
     "output_type": "stream",
     "text": [
      "\r",
      "7826it [01:16, 112.50it/s]"
     ]
    },
    {
     "name": "stderr",
     "output_type": "stream",
     "text": [
      "\r",
      "7838it [01:16, 113.15it/s]"
     ]
    },
    {
     "name": "stderr",
     "output_type": "stream",
     "text": [
      "\r",
      "7850it [01:16, 113.45it/s]"
     ]
    },
    {
     "name": "stderr",
     "output_type": "stream",
     "text": [
      "\r",
      "7862it [01:16, 112.25it/s]"
     ]
    },
    {
     "name": "stderr",
     "output_type": "stream",
     "text": [
      "\r",
      "7874it [01:17, 113.21it/s]"
     ]
    },
    {
     "name": "stderr",
     "output_type": "stream",
     "text": [
      "\r",
      "7886it [01:17, 113.54it/s]"
     ]
    },
    {
     "name": "stderr",
     "output_type": "stream",
     "text": [
      "\r",
      "7898it [01:17, 113.61it/s]"
     ]
    },
    {
     "name": "stderr",
     "output_type": "stream",
     "text": [
      "\r",
      "7910it [01:17, 113.81it/s]"
     ]
    },
    {
     "name": "stderr",
     "output_type": "stream",
     "text": [
      "\r",
      "7922it [01:17, 114.25it/s]"
     ]
    },
    {
     "name": "stderr",
     "output_type": "stream",
     "text": [
      "\r",
      "7934it [01:17, 113.96it/s]"
     ]
    },
    {
     "name": "stderr",
     "output_type": "stream",
     "text": [
      "\r",
      "7946it [01:17, 114.24it/s]"
     ]
    },
    {
     "name": "stderr",
     "output_type": "stream",
     "text": [
      "\r",
      "7958it [01:17, 114.32it/s]"
     ]
    },
    {
     "name": "stderr",
     "output_type": "stream",
     "text": [
      "\r",
      "7970it [01:17, 114.57it/s]"
     ]
    },
    {
     "name": "stderr",
     "output_type": "stream",
     "text": [
      "\r",
      "7982it [01:18, 114.74it/s]"
     ]
    },
    {
     "name": "stderr",
     "output_type": "stream",
     "text": [
      "\r",
      "7994it [01:18, 114.82it/s]"
     ]
    },
    {
     "name": "stderr",
     "output_type": "stream",
     "text": [
      "\r",
      "8006it [01:18, 114.73it/s]"
     ]
    },
    {
     "name": "stderr",
     "output_type": "stream",
     "text": [
      "\r",
      "8018it [01:18, 113.93it/s]"
     ]
    },
    {
     "name": "stderr",
     "output_type": "stream",
     "text": [
      "\r",
      "8030it [01:18, 114.37it/s]"
     ]
    },
    {
     "name": "stderr",
     "output_type": "stream",
     "text": [
      "\r",
      "8042it [01:18, 114.65it/s]"
     ]
    },
    {
     "name": "stderr",
     "output_type": "stream",
     "text": [
      "\r",
      "8054it [01:18, 114.86it/s]"
     ]
    },
    {
     "name": "stderr",
     "output_type": "stream",
     "text": [
      "\r",
      "8066it [01:18, 115.23it/s]"
     ]
    },
    {
     "name": "stderr",
     "output_type": "stream",
     "text": [
      "\r",
      "8078it [01:18, 114.50it/s]"
     ]
    },
    {
     "name": "stderr",
     "output_type": "stream",
     "text": [
      "\r",
      "8090it [01:18, 114.44it/s]"
     ]
    },
    {
     "name": "stderr",
     "output_type": "stream",
     "text": [
      "\r",
      "8102it [01:19, 114.74it/s]"
     ]
    },
    {
     "name": "stderr",
     "output_type": "stream",
     "text": [
      "\r",
      "8114it [01:19, 115.22it/s]"
     ]
    },
    {
     "name": "stderr",
     "output_type": "stream",
     "text": [
      "\r",
      "8126it [01:19, 115.49it/s]"
     ]
    },
    {
     "name": "stderr",
     "output_type": "stream",
     "text": [
      "\r",
      "8138it [01:19, 115.65it/s]"
     ]
    },
    {
     "name": "stderr",
     "output_type": "stream",
     "text": [
      "\r",
      "8150it [01:19, 116.16it/s]"
     ]
    },
    {
     "name": "stderr",
     "output_type": "stream",
     "text": [
      "\r",
      "8162it [01:19, 116.04it/s]"
     ]
    },
    {
     "name": "stderr",
     "output_type": "stream",
     "text": [
      "\r",
      "8174it [01:19, 115.56it/s]"
     ]
    },
    {
     "name": "stderr",
     "output_type": "stream",
     "text": [
      "\r",
      "8186it [01:19, 115.87it/s]"
     ]
    },
    {
     "name": "stderr",
     "output_type": "stream",
     "text": [
      "\r",
      "8198it [01:19, 116.04it/s]"
     ]
    },
    {
     "name": "stderr",
     "output_type": "stream",
     "text": [
      "\r",
      "8210it [01:19, 116.02it/s]"
     ]
    },
    {
     "name": "stderr",
     "output_type": "stream",
     "text": [
      "\r",
      "8222it [01:20, 116.29it/s]"
     ]
    },
    {
     "name": "stderr",
     "output_type": "stream",
     "text": [
      "\r",
      "8234it [01:20, 116.18it/s]"
     ]
    },
    {
     "name": "stderr",
     "output_type": "stream",
     "text": [
      "\r",
      "8246it [01:20, 116.36it/s]"
     ]
    },
    {
     "name": "stderr",
     "output_type": "stream",
     "text": [
      "\r",
      "8258it [01:20, 115.86it/s]"
     ]
    },
    {
     "name": "stderr",
     "output_type": "stream",
     "text": [
      "\r",
      "8270it [01:20, 115.75it/s]"
     ]
    },
    {
     "name": "stderr",
     "output_type": "stream",
     "text": [
      "\r",
      "8282it [01:20, 116.23it/s]"
     ]
    },
    {
     "name": "stderr",
     "output_type": "stream",
     "text": [
      "\r",
      "8294it [01:20, 116.30it/s]"
     ]
    },
    {
     "name": "stderr",
     "output_type": "stream",
     "text": [
      "\r",
      "8306it [01:20, 116.55it/s]"
     ]
    },
    {
     "name": "stderr",
     "output_type": "stream",
     "text": [
      "\r",
      "8318it [01:20, 116.61it/s]"
     ]
    },
    {
     "name": "stderr",
     "output_type": "stream",
     "text": [
      "\r",
      "8330it [01:21, 116.27it/s]"
     ]
    },
    {
     "name": "stderr",
     "output_type": "stream",
     "text": [
      "\r",
      "8342it [01:21, 116.60it/s]"
     ]
    },
    {
     "name": "stderr",
     "output_type": "stream",
     "text": [
      "\r",
      "8354it [01:21, 116.57it/s]"
     ]
    },
    {
     "name": "stderr",
     "output_type": "stream",
     "text": [
      "\r",
      "8366it [01:21, 116.99it/s]"
     ]
    },
    {
     "name": "stderr",
     "output_type": "stream",
     "text": [
      "\r",
      "8378it [01:21, 117.01it/s]"
     ]
    },
    {
     "name": "stderr",
     "output_type": "stream",
     "text": [
      "\r",
      "8390it [01:21, 117.15it/s]"
     ]
    },
    {
     "name": "stderr",
     "output_type": "stream",
     "text": [
      "\r",
      "8402it [01:21, 117.13it/s]"
     ]
    },
    {
     "name": "stderr",
     "output_type": "stream",
     "text": [
      "\r",
      "8414it [01:21, 116.75it/s]"
     ]
    },
    {
     "name": "stderr",
     "output_type": "stream",
     "text": [
      "\r",
      "8426it [01:21, 116.91it/s]"
     ]
    },
    {
     "name": "stderr",
     "output_type": "stream",
     "text": [
      "\r",
      "8438it [01:21, 117.00it/s]"
     ]
    },
    {
     "name": "stderr",
     "output_type": "stream",
     "text": [
      "\r",
      "8450it [01:22, 117.59it/s]"
     ]
    },
    {
     "name": "stderr",
     "output_type": "stream",
     "text": [
      "\r",
      "8462it [01:22, 117.72it/s]"
     ]
    },
    {
     "name": "stderr",
     "output_type": "stream",
     "text": [
      "\r",
      "8474it [01:22, 117.38it/s]"
     ]
    },
    {
     "name": "stderr",
     "output_type": "stream",
     "text": [
      "\r",
      "8486it [01:22, 117.16it/s]"
     ]
    },
    {
     "name": "stderr",
     "output_type": "stream",
     "text": [
      "\r",
      "8498it [01:22, 117.01it/s]"
     ]
    },
    {
     "name": "stderr",
     "output_type": "stream",
     "text": [
      "\r",
      "8510it [01:22, 117.12it/s]"
     ]
    },
    {
     "name": "stderr",
     "output_type": "stream",
     "text": [
      "\r",
      "8522it [01:22, 117.29it/s]"
     ]
    },
    {
     "name": "stderr",
     "output_type": "stream",
     "text": [
      "\r",
      "8534it [01:22, 117.58it/s]"
     ]
    },
    {
     "name": "stderr",
     "output_type": "stream",
     "text": [
      "\r",
      "8546it [01:22, 117.63it/s]"
     ]
    },
    {
     "name": "stderr",
     "output_type": "stream",
     "text": [
      "\r",
      "8558it [01:22, 116.86it/s]"
     ]
    },
    {
     "name": "stderr",
     "output_type": "stream",
     "text": [
      "\r",
      "8570it [01:23, 117.10it/s]"
     ]
    },
    {
     "name": "stderr",
     "output_type": "stream",
     "text": [
      "\r",
      "8582it [01:23, 116.67it/s]"
     ]
    },
    {
     "name": "stderr",
     "output_type": "stream",
     "text": [
      "\r",
      "8594it [01:23, 117.20it/s]"
     ]
    },
    {
     "name": "stderr",
     "output_type": "stream",
     "text": [
      "\r",
      "8606it [01:23, 117.24it/s]"
     ]
    },
    {
     "name": "stderr",
     "output_type": "stream",
     "text": [
      "\r",
      "8618it [01:23, 117.12it/s]"
     ]
    },
    {
     "name": "stderr",
     "output_type": "stream",
     "text": [
      "\r",
      "8630it [01:23, 117.23it/s]"
     ]
    },
    {
     "name": "stderr",
     "output_type": "stream",
     "text": [
      "\r",
      "8639it [01:23, 103.18it/s]"
     ]
    },
    {
     "name": "stderr",
     "output_type": "stream",
     "text": [
      "\n"
     ]
    }
   ],
   "source": [
    "source_files = glob.glob(f\"{results_dir}/source.*.jsonl\")\n",
    "key_to_source_series = defaultdict(list)\n",
    "key_to_source_timestamps = defaultdict(list)\n",
    "key_to_source_seqno = defaultdict(list)\n",
    "for path in source_files:\n",
    "    with open(path) as f:\n",
    "        for line in tqdm(f):\n",
    "            loaded = json.loads(line)\n",
    "            for entry in loaded:\n",
    "                key_id = str(entry[\"key_id\"])\n",
    "                key_to_source_series[key_id].append(entry[\"value\"])\n",
    "                key_to_source_timestamps[key_id].append(entry[\"ingest_time\"])\n",
    "                key_to_source_seqno[key_id].append(entry[\"seq_no\"])\n"
   ]
  },
  {
   "cell_type": "code",
   "execution_count": 7,
   "id": "1c5d5e70",
   "metadata": {
    "execution": {
     "iopub.execute_input": "2022-04-05T07:24:43.177539Z",
     "iopub.status.busy": "2022-04-05T07:24:43.177276Z",
     "iopub.status.idle": "2022-04-05T07:24:43.202521Z",
     "shell.execute_reply": "2022-04-05T07:24:43.202115Z"
    },
    "papermill": {
     "duration": 0.190171,
     "end_time": "2022-04-05T07:24:43.203737",
     "exception": false,
     "start_time": "2022-04-05T07:24:43.013566",
     "status": "completed"
    },
    "tags": []
   },
   "outputs": [
    {
     "data": {
      "text/html": [
       "<div>\n",
       "<style scoped>\n",
       "    .dataframe tbody tr th:only-of-type {\n",
       "        vertical-align: middle;\n",
       "    }\n",
       "\n",
       "    .dataframe tbody tr th {\n",
       "        vertical-align: top;\n",
       "    }\n",
       "\n",
       "    .dataframe thead th {\n",
       "        text-align: right;\n",
       "    }\n",
       "</style>\n",
       "<table border=\"1\" class=\"dataframe\">\n",
       "  <thead>\n",
       "    <tr style=\"text-align: right;\">\n",
       "      <th></th>\n",
       "      <th>num_forecasts</th>\n",
       "    </tr>\n",
       "  </thead>\n",
       "  <tbody>\n",
       "    <tr>\n",
       "      <th>count</th>\n",
       "      <td>5000.000000</td>\n",
       "    </tr>\n",
       "    <tr>\n",
       "      <th>mean</th>\n",
       "      <td>10.832800</td>\n",
       "    </tr>\n",
       "    <tr>\n",
       "      <th>std</th>\n",
       "      <td>7.824697</td>\n",
       "    </tr>\n",
       "    <tr>\n",
       "      <th>min</th>\n",
       "      <td>1.000000</td>\n",
       "    </tr>\n",
       "    <tr>\n",
       "      <th>25%</th>\n",
       "      <td>5.000000</td>\n",
       "    </tr>\n",
       "    <tr>\n",
       "      <th>50%</th>\n",
       "      <td>9.000000</td>\n",
       "    </tr>\n",
       "    <tr>\n",
       "      <th>75%</th>\n",
       "      <td>16.000000</td>\n",
       "    </tr>\n",
       "    <tr>\n",
       "      <th>max</th>\n",
       "      <td>27.000000</td>\n",
       "    </tr>\n",
       "  </tbody>\n",
       "</table>\n",
       "</div>"
      ],
      "text/plain": [
       "       num_forecasts\n",
       "count    5000.000000\n",
       "mean       10.832800\n",
       "std         7.824697\n",
       "min         1.000000\n",
       "25%         5.000000\n",
       "50%         9.000000\n",
       "75%        16.000000\n",
       "max        27.000000"
      ]
     },
     "execution_count": 7,
     "metadata": {},
     "output_type": "execute_result"
    }
   ],
   "source": [
    "num_forecasts = pd.DataFrame([\n",
    "    {\"key\": k, \"num_forecasts\": len(v)} for k, v in key_to_last_seqnos.items()\n",
    "])\n",
    "num_forecasts.describe()"
   ]
  },
  {
   "cell_type": "code",
   "execution_count": 8,
   "id": "7a9df293",
   "metadata": {
    "execution": {
     "iopub.execute_input": "2022-04-05T07:24:43.528824Z",
     "iopub.status.busy": "2022-04-05T07:24:43.528627Z",
     "iopub.status.idle": "2022-04-05T07:24:43.917806Z",
     "shell.execute_reply": "2022-04-05T07:24:43.917375Z"
    },
    "papermill": {
     "duration": 0.553716,
     "end_time": "2022-04-05T07:24:43.919379",
     "exception": false,
     "start_time": "2022-04-05T07:24:43.365663",
     "status": "completed"
    },
    "tags": []
   },
   "outputs": [
    {
     "data": {
      "image/svg+xml": [
       "<?xml version=\"1.0\" encoding=\"utf-8\" standalone=\"no\"?>\n",
       "<!DOCTYPE svg PUBLIC \"-//W3C//DTD SVG 1.1//EN\"\n",
       "  \"http://www.w3.org/Graphics/SVG/1.1/DTD/svg11.dtd\">\n",
       "<svg xmlns:xlink=\"http://www.w3.org/1999/xlink\" width=\"419.212187pt\" height=\"275.191563pt\" viewBox=\"0 0 419.212187 275.191563\" xmlns=\"http://www.w3.org/2000/svg\" version=\"1.1\">\n",
       " <metadata>\n",
       "  <rdf:RDF xmlns:dc=\"http://purl.org/dc/elements/1.1/\" xmlns:cc=\"http://creativecommons.org/ns#\" xmlns:rdf=\"http://www.w3.org/1999/02/22-rdf-syntax-ns#\">\n",
       "   <cc:Work>\n",
       "    <dc:type rdf:resource=\"http://purl.org/dc/dcmitype/StillImage\"/>\n",
       "    <dc:date>2022-04-05T07:24:43.879081</dc:date>\n",
       "    <dc:format>image/svg+xml</dc:format>\n",
       "    <dc:creator>\n",
       "     <cc:Agent>\n",
       "      <dc:title>Matplotlib v3.5.1, https://matplotlib.org/</dc:title>\n",
       "     </cc:Agent>\n",
       "    </dc:creator>\n",
       "   </cc:Work>\n",
       "  </rdf:RDF>\n",
       " </metadata>\n",
       " <defs>\n",
       "  <style type=\"text/css\">*{stroke-linejoin: round; stroke-linecap: butt}</style>\n",
       " </defs>\n",
       " <g id=\"figure_1\">\n",
       "  <g id=\"patch_1\">\n",
       "   <path d=\"M 0 275.191563 \n",
       "L 419.212187 275.191563 \n",
       "L 419.212187 0 \n",
       "L 0 0 \n",
       "z\n",
       "\" style=\"fill: #ffffff\"/>\n",
       "  </g>\n",
       "  <g id=\"axes_1\">\n",
       "   <g id=\"patch_2\">\n",
       "    <path d=\"M 49.807188 231.898125 \n",
       "L 412.012187 231.898125 \n",
       "L 412.012187 22.318125 \n",
       "L 49.807188 22.318125 \n",
       "z\n",
       "\" style=\"fill: #ffffff\"/>\n",
       "   </g>\n",
       "   <g id=\"matplotlib.axis_1\">\n",
       "    <g id=\"xtick_1\">\n",
       "     <g id=\"line2d_1\">\n",
       "      <path d=\"M 53.606541 231.898125 \n",
       "L 53.606541 22.318125 \n",
       "\" clip-path=\"url(#p1cadbf6b8c)\" style=\"fill: none; stroke: #cccccc; stroke-linecap: round\"/>\n",
       "     </g>\n",
       "     <g id=\"text_1\">\n",
       "      <!-- 0 -->\n",
       "      <g style=\"fill: #262626\" transform=\"translate(50.107166 249.756406)scale(0.11 -0.11)\">\n",
       "       <defs>\n",
       "        <path id=\"DejaVuSans-30\" d=\"M 2034 4250 \n",
       "Q 1547 4250 1301 3770 \n",
       "Q 1056 3291 1056 2328 \n",
       "Q 1056 1369 1301 889 \n",
       "Q 1547 409 2034 409 \n",
       "Q 2525 409 2770 889 \n",
       "Q 3016 1369 3016 2328 \n",
       "Q 3016 3291 2770 3770 \n",
       "Q 2525 4250 2034 4250 \n",
       "z\n",
       "M 2034 4750 \n",
       "Q 2819 4750 3233 4129 \n",
       "Q 3647 3509 3647 2328 \n",
       "Q 3647 1150 3233 529 \n",
       "Q 2819 -91 2034 -91 \n",
       "Q 1250 -91 836 529 \n",
       "Q 422 1150 422 2328 \n",
       "Q 422 3509 836 4129 \n",
       "Q 1250 4750 2034 4750 \n",
       "z\n",
       "\" transform=\"scale(0.015625)\"/>\n",
       "       </defs>\n",
       "       <use xlink:href=\"#DejaVuSans-30\"/>\n",
       "      </g>\n",
       "     </g>\n",
       "    </g>\n",
       "    <g id=\"xtick_2\">\n",
       "     <g id=\"line2d_2\">\n",
       "      <path d=\"M 116.929093 231.898125 \n",
       "L 116.929093 22.318125 \n",
       "\" clip-path=\"url(#p1cadbf6b8c)\" style=\"fill: none; stroke: #cccccc; stroke-linecap: round\"/>\n",
       "     </g>\n",
       "     <g id=\"text_2\">\n",
       "      <!-- 5 -->\n",
       "      <g style=\"fill: #262626\" transform=\"translate(113.429718 249.756406)scale(0.11 -0.11)\">\n",
       "       <defs>\n",
       "        <path id=\"DejaVuSans-35\" d=\"M 691 4666 \n",
       "L 3169 4666 \n",
       "L 3169 4134 \n",
       "L 1269 4134 \n",
       "L 1269 2991 \n",
       "Q 1406 3038 1543 3061 \n",
       "Q 1681 3084 1819 3084 \n",
       "Q 2600 3084 3056 2656 \n",
       "Q 3513 2228 3513 1497 \n",
       "Q 3513 744 3044 326 \n",
       "Q 2575 -91 1722 -91 \n",
       "Q 1428 -91 1123 -41 \n",
       "Q 819 9 494 109 \n",
       "L 494 744 \n",
       "Q 775 591 1075 516 \n",
       "Q 1375 441 1709 441 \n",
       "Q 2250 441 2565 725 \n",
       "Q 2881 1009 2881 1497 \n",
       "Q 2881 1984 2565 2268 \n",
       "Q 2250 2553 1709 2553 \n",
       "Q 1456 2553 1204 2497 \n",
       "Q 953 2441 691 2322 \n",
       "L 691 4666 \n",
       "z\n",
       "\" transform=\"scale(0.015625)\"/>\n",
       "       </defs>\n",
       "       <use xlink:href=\"#DejaVuSans-35\"/>\n",
       "      </g>\n",
       "     </g>\n",
       "    </g>\n",
       "    <g id=\"xtick_3\">\n",
       "     <g id=\"line2d_3\">\n",
       "      <path d=\"M 180.251646 231.898125 \n",
       "L 180.251646 22.318125 \n",
       "\" clip-path=\"url(#p1cadbf6b8c)\" style=\"fill: none; stroke: #cccccc; stroke-linecap: round\"/>\n",
       "     </g>\n",
       "     <g id=\"text_3\">\n",
       "      <!-- 10 -->\n",
       "      <g style=\"fill: #262626\" transform=\"translate(173.252896 249.756406)scale(0.11 -0.11)\">\n",
       "       <defs>\n",
       "        <path id=\"DejaVuSans-31\" d=\"M 794 531 \n",
       "L 1825 531 \n",
       "L 1825 4091 \n",
       "L 703 3866 \n",
       "L 703 4441 \n",
       "L 1819 4666 \n",
       "L 2450 4666 \n",
       "L 2450 531 \n",
       "L 3481 531 \n",
       "L 3481 0 \n",
       "L 794 0 \n",
       "L 794 531 \n",
       "z\n",
       "\" transform=\"scale(0.015625)\"/>\n",
       "       </defs>\n",
       "       <use xlink:href=\"#DejaVuSans-31\"/>\n",
       "       <use xlink:href=\"#DejaVuSans-30\" x=\"63.623047\"/>\n",
       "      </g>\n",
       "     </g>\n",
       "    </g>\n",
       "    <g id=\"xtick_4\">\n",
       "     <g id=\"line2d_4\">\n",
       "      <path d=\"M 243.574198 231.898125 \n",
       "L 243.574198 22.318125 \n",
       "\" clip-path=\"url(#p1cadbf6b8c)\" style=\"fill: none; stroke: #cccccc; stroke-linecap: round\"/>\n",
       "     </g>\n",
       "     <g id=\"text_4\">\n",
       "      <!-- 15 -->\n",
       "      <g style=\"fill: #262626\" transform=\"translate(236.575448 249.756406)scale(0.11 -0.11)\">\n",
       "       <use xlink:href=\"#DejaVuSans-31\"/>\n",
       "       <use xlink:href=\"#DejaVuSans-35\" x=\"63.623047\"/>\n",
       "      </g>\n",
       "     </g>\n",
       "    </g>\n",
       "    <g id=\"xtick_5\">\n",
       "     <g id=\"line2d_5\">\n",
       "      <path d=\"M 306.89675 231.898125 \n",
       "L 306.89675 22.318125 \n",
       "\" clip-path=\"url(#p1cadbf6b8c)\" style=\"fill: none; stroke: #cccccc; stroke-linecap: round\"/>\n",
       "     </g>\n",
       "     <g id=\"text_5\">\n",
       "      <!-- 20 -->\n",
       "      <g style=\"fill: #262626\" transform=\"translate(299.898 249.756406)scale(0.11 -0.11)\">\n",
       "       <defs>\n",
       "        <path id=\"DejaVuSans-32\" d=\"M 1228 531 \n",
       "L 3431 531 \n",
       "L 3431 0 \n",
       "L 469 0 \n",
       "L 469 531 \n",
       "Q 828 903 1448 1529 \n",
       "Q 2069 2156 2228 2338 \n",
       "Q 2531 2678 2651 2914 \n",
       "Q 2772 3150 2772 3378 \n",
       "Q 2772 3750 2511 3984 \n",
       "Q 2250 4219 1831 4219 \n",
       "Q 1534 4219 1204 4116 \n",
       "Q 875 4013 500 3803 \n",
       "L 500 4441 \n",
       "Q 881 4594 1212 4672 \n",
       "Q 1544 4750 1819 4750 \n",
       "Q 2544 4750 2975 4387 \n",
       "Q 3406 4025 3406 3419 \n",
       "Q 3406 3131 3298 2873 \n",
       "Q 3191 2616 2906 2266 \n",
       "Q 2828 2175 2409 1742 \n",
       "Q 1991 1309 1228 531 \n",
       "z\n",
       "\" transform=\"scale(0.015625)\"/>\n",
       "       </defs>\n",
       "       <use xlink:href=\"#DejaVuSans-32\"/>\n",
       "       <use xlink:href=\"#DejaVuSans-30\" x=\"63.623047\"/>\n",
       "      </g>\n",
       "     </g>\n",
       "    </g>\n",
       "    <g id=\"xtick_6\">\n",
       "     <g id=\"line2d_6\">\n",
       "      <path d=\"M 370.219303 231.898125 \n",
       "L 370.219303 22.318125 \n",
       "\" clip-path=\"url(#p1cadbf6b8c)\" style=\"fill: none; stroke: #cccccc; stroke-linecap: round\"/>\n",
       "     </g>\n",
       "     <g id=\"text_6\">\n",
       "      <!-- 25 -->\n",
       "      <g style=\"fill: #262626\" transform=\"translate(363.220553 249.756406)scale(0.11 -0.11)\">\n",
       "       <use xlink:href=\"#DejaVuSans-32\"/>\n",
       "       <use xlink:href=\"#DejaVuSans-35\" x=\"63.623047\"/>\n",
       "      </g>\n",
       "     </g>\n",
       "    </g>\n",
       "    <g id=\"text_7\">\n",
       "     <!-- num_forecasts -->\n",
       "     <g style=\"fill: #262626\" transform=\"translate(187.074062 265.162188)scale(0.12 -0.12)\">\n",
       "      <defs>\n",
       "       <path id=\"DejaVuSans-6e\" d=\"M 3513 2113 \n",
       "L 3513 0 \n",
       "L 2938 0 \n",
       "L 2938 2094 \n",
       "Q 2938 2591 2744 2837 \n",
       "Q 2550 3084 2163 3084 \n",
       "Q 1697 3084 1428 2787 \n",
       "Q 1159 2491 1159 1978 \n",
       "L 1159 0 \n",
       "L 581 0 \n",
       "L 581 3500 \n",
       "L 1159 3500 \n",
       "L 1159 2956 \n",
       "Q 1366 3272 1645 3428 \n",
       "Q 1925 3584 2291 3584 \n",
       "Q 2894 3584 3203 3211 \n",
       "Q 3513 2838 3513 2113 \n",
       "z\n",
       "\" transform=\"scale(0.015625)\"/>\n",
       "       <path id=\"DejaVuSans-75\" d=\"M 544 1381 \n",
       "L 544 3500 \n",
       "L 1119 3500 \n",
       "L 1119 1403 \n",
       "Q 1119 906 1312 657 \n",
       "Q 1506 409 1894 409 \n",
       "Q 2359 409 2629 706 \n",
       "Q 2900 1003 2900 1516 \n",
       "L 2900 3500 \n",
       "L 3475 3500 \n",
       "L 3475 0 \n",
       "L 2900 0 \n",
       "L 2900 538 \n",
       "Q 2691 219 2414 64 \n",
       "Q 2138 -91 1772 -91 \n",
       "Q 1169 -91 856 284 \n",
       "Q 544 659 544 1381 \n",
       "z\n",
       "M 1991 3584 \n",
       "L 1991 3584 \n",
       "z\n",
       "\" transform=\"scale(0.015625)\"/>\n",
       "       <path id=\"DejaVuSans-6d\" d=\"M 3328 2828 \n",
       "Q 3544 3216 3844 3400 \n",
       "Q 4144 3584 4550 3584 \n",
       "Q 5097 3584 5394 3201 \n",
       "Q 5691 2819 5691 2113 \n",
       "L 5691 0 \n",
       "L 5113 0 \n",
       "L 5113 2094 \n",
       "Q 5113 2597 4934 2840 \n",
       "Q 4756 3084 4391 3084 \n",
       "Q 3944 3084 3684 2787 \n",
       "Q 3425 2491 3425 1978 \n",
       "L 3425 0 \n",
       "L 2847 0 \n",
       "L 2847 2094 \n",
       "Q 2847 2600 2669 2842 \n",
       "Q 2491 3084 2119 3084 \n",
       "Q 1678 3084 1418 2786 \n",
       "Q 1159 2488 1159 1978 \n",
       "L 1159 0 \n",
       "L 581 0 \n",
       "L 581 3500 \n",
       "L 1159 3500 \n",
       "L 1159 2956 \n",
       "Q 1356 3278 1631 3431 \n",
       "Q 1906 3584 2284 3584 \n",
       "Q 2666 3584 2933 3390 \n",
       "Q 3200 3197 3328 2828 \n",
       "z\n",
       "\" transform=\"scale(0.015625)\"/>\n",
       "       <path id=\"DejaVuSans-5f\" d=\"M 3263 -1063 \n",
       "L 3263 -1509 \n",
       "L -63 -1509 \n",
       "L -63 -1063 \n",
       "L 3263 -1063 \n",
       "z\n",
       "\" transform=\"scale(0.015625)\"/>\n",
       "       <path id=\"DejaVuSans-66\" d=\"M 2375 4863 \n",
       "L 2375 4384 \n",
       "L 1825 4384 \n",
       "Q 1516 4384 1395 4259 \n",
       "Q 1275 4134 1275 3809 \n",
       "L 1275 3500 \n",
       "L 2222 3500 \n",
       "L 2222 3053 \n",
       "L 1275 3053 \n",
       "L 1275 0 \n",
       "L 697 0 \n",
       "L 697 3053 \n",
       "L 147 3053 \n",
       "L 147 3500 \n",
       "L 697 3500 \n",
       "L 697 3744 \n",
       "Q 697 4328 969 4595 \n",
       "Q 1241 4863 1831 4863 \n",
       "L 2375 4863 \n",
       "z\n",
       "\" transform=\"scale(0.015625)\"/>\n",
       "       <path id=\"DejaVuSans-6f\" d=\"M 1959 3097 \n",
       "Q 1497 3097 1228 2736 \n",
       "Q 959 2375 959 1747 \n",
       "Q 959 1119 1226 758 \n",
       "Q 1494 397 1959 397 \n",
       "Q 2419 397 2687 759 \n",
       "Q 2956 1122 2956 1747 \n",
       "Q 2956 2369 2687 2733 \n",
       "Q 2419 3097 1959 3097 \n",
       "z\n",
       "M 1959 3584 \n",
       "Q 2709 3584 3137 3096 \n",
       "Q 3566 2609 3566 1747 \n",
       "Q 3566 888 3137 398 \n",
       "Q 2709 -91 1959 -91 \n",
       "Q 1206 -91 779 398 \n",
       "Q 353 888 353 1747 \n",
       "Q 353 2609 779 3096 \n",
       "Q 1206 3584 1959 3584 \n",
       "z\n",
       "\" transform=\"scale(0.015625)\"/>\n",
       "       <path id=\"DejaVuSans-72\" d=\"M 2631 2963 \n",
       "Q 2534 3019 2420 3045 \n",
       "Q 2306 3072 2169 3072 \n",
       "Q 1681 3072 1420 2755 \n",
       "Q 1159 2438 1159 1844 \n",
       "L 1159 0 \n",
       "L 581 0 \n",
       "L 581 3500 \n",
       "L 1159 3500 \n",
       "L 1159 2956 \n",
       "Q 1341 3275 1631 3429 \n",
       "Q 1922 3584 2338 3584 \n",
       "Q 2397 3584 2469 3576 \n",
       "Q 2541 3569 2628 3553 \n",
       "L 2631 2963 \n",
       "z\n",
       "\" transform=\"scale(0.015625)\"/>\n",
       "       <path id=\"DejaVuSans-65\" d=\"M 3597 1894 \n",
       "L 3597 1613 \n",
       "L 953 1613 \n",
       "Q 991 1019 1311 708 \n",
       "Q 1631 397 2203 397 \n",
       "Q 2534 397 2845 478 \n",
       "Q 3156 559 3463 722 \n",
       "L 3463 178 \n",
       "Q 3153 47 2828 -22 \n",
       "Q 2503 -91 2169 -91 \n",
       "Q 1331 -91 842 396 \n",
       "Q 353 884 353 1716 \n",
       "Q 353 2575 817 3079 \n",
       "Q 1281 3584 2069 3584 \n",
       "Q 2775 3584 3186 3129 \n",
       "Q 3597 2675 3597 1894 \n",
       "z\n",
       "M 3022 2063 \n",
       "Q 3016 2534 2758 2815 \n",
       "Q 2500 3097 2075 3097 \n",
       "Q 1594 3097 1305 2825 \n",
       "Q 1016 2553 972 2059 \n",
       "L 3022 2063 \n",
       "z\n",
       "\" transform=\"scale(0.015625)\"/>\n",
       "       <path id=\"DejaVuSans-63\" d=\"M 3122 3366 \n",
       "L 3122 2828 \n",
       "Q 2878 2963 2633 3030 \n",
       "Q 2388 3097 2138 3097 \n",
       "Q 1578 3097 1268 2742 \n",
       "Q 959 2388 959 1747 \n",
       "Q 959 1106 1268 751 \n",
       "Q 1578 397 2138 397 \n",
       "Q 2388 397 2633 464 \n",
       "Q 2878 531 3122 666 \n",
       "L 3122 134 \n",
       "Q 2881 22 2623 -34 \n",
       "Q 2366 -91 2075 -91 \n",
       "Q 1284 -91 818 406 \n",
       "Q 353 903 353 1747 \n",
       "Q 353 2603 823 3093 \n",
       "Q 1294 3584 2113 3584 \n",
       "Q 2378 3584 2631 3529 \n",
       "Q 2884 3475 3122 3366 \n",
       "z\n",
       "\" transform=\"scale(0.015625)\"/>\n",
       "       <path id=\"DejaVuSans-61\" d=\"M 2194 1759 \n",
       "Q 1497 1759 1228 1600 \n",
       "Q 959 1441 959 1056 \n",
       "Q 959 750 1161 570 \n",
       "Q 1363 391 1709 391 \n",
       "Q 2188 391 2477 730 \n",
       "Q 2766 1069 2766 1631 \n",
       "L 2766 1759 \n",
       "L 2194 1759 \n",
       "z\n",
       "M 3341 1997 \n",
       "L 3341 0 \n",
       "L 2766 0 \n",
       "L 2766 531 \n",
       "Q 2569 213 2275 61 \n",
       "Q 1981 -91 1556 -91 \n",
       "Q 1019 -91 701 211 \n",
       "Q 384 513 384 1019 \n",
       "Q 384 1609 779 1909 \n",
       "Q 1175 2209 1959 2209 \n",
       "L 2766 2209 \n",
       "L 2766 2266 \n",
       "Q 2766 2663 2505 2880 \n",
       "Q 2244 3097 1772 3097 \n",
       "Q 1472 3097 1187 3025 \n",
       "Q 903 2953 641 2809 \n",
       "L 641 3341 \n",
       "Q 956 3463 1253 3523 \n",
       "Q 1550 3584 1831 3584 \n",
       "Q 2591 3584 2966 3190 \n",
       "Q 3341 2797 3341 1997 \n",
       "z\n",
       "\" transform=\"scale(0.015625)\"/>\n",
       "       <path id=\"DejaVuSans-73\" d=\"M 2834 3397 \n",
       "L 2834 2853 \n",
       "Q 2591 2978 2328 3040 \n",
       "Q 2066 3103 1784 3103 \n",
       "Q 1356 3103 1142 2972 \n",
       "Q 928 2841 928 2578 \n",
       "Q 928 2378 1081 2264 \n",
       "Q 1234 2150 1697 2047 \n",
       "L 1894 2003 \n",
       "Q 2506 1872 2764 1633 \n",
       "Q 3022 1394 3022 966 \n",
       "Q 3022 478 2636 193 \n",
       "Q 2250 -91 1575 -91 \n",
       "Q 1294 -91 989 -36 \n",
       "Q 684 19 347 128 \n",
       "L 347 722 \n",
       "Q 666 556 975 473 \n",
       "Q 1284 391 1588 391 \n",
       "Q 1994 391 2212 530 \n",
       "Q 2431 669 2431 922 \n",
       "Q 2431 1156 2273 1281 \n",
       "Q 2116 1406 1581 1522 \n",
       "L 1381 1569 \n",
       "Q 847 1681 609 1914 \n",
       "Q 372 2147 372 2553 \n",
       "Q 372 3047 722 3315 \n",
       "Q 1072 3584 1716 3584 \n",
       "Q 2034 3584 2315 3537 \n",
       "Q 2597 3491 2834 3397 \n",
       "z\n",
       "\" transform=\"scale(0.015625)\"/>\n",
       "       <path id=\"DejaVuSans-74\" d=\"M 1172 4494 \n",
       "L 1172 3500 \n",
       "L 2356 3500 \n",
       "L 2356 3053 \n",
       "L 1172 3053 \n",
       "L 1172 1153 \n",
       "Q 1172 725 1289 603 \n",
       "Q 1406 481 1766 481 \n",
       "L 2356 481 \n",
       "L 2356 0 \n",
       "L 1766 0 \n",
       "Q 1100 0 847 248 \n",
       "Q 594 497 594 1153 \n",
       "L 594 3053 \n",
       "L 172 3053 \n",
       "L 172 3500 \n",
       "L 594 3500 \n",
       "L 594 4494 \n",
       "L 1172 4494 \n",
       "z\n",
       "\" transform=\"scale(0.015625)\"/>\n",
       "      </defs>\n",
       "      <use xlink:href=\"#DejaVuSans-6e\"/>\n",
       "      <use xlink:href=\"#DejaVuSans-75\" x=\"63.378906\"/>\n",
       "      <use xlink:href=\"#DejaVuSans-6d\" x=\"126.757812\"/>\n",
       "      <use xlink:href=\"#DejaVuSans-5f\" x=\"224.169922\"/>\n",
       "      <use xlink:href=\"#DejaVuSans-66\" x=\"274.169922\"/>\n",
       "      <use xlink:href=\"#DejaVuSans-6f\" x=\"309.375\"/>\n",
       "      <use xlink:href=\"#DejaVuSans-72\" x=\"370.556641\"/>\n",
       "      <use xlink:href=\"#DejaVuSans-65\" x=\"409.419922\"/>\n",
       "      <use xlink:href=\"#DejaVuSans-63\" x=\"470.943359\"/>\n",
       "      <use xlink:href=\"#DejaVuSans-61\" x=\"525.923828\"/>\n",
       "      <use xlink:href=\"#DejaVuSans-73\" x=\"587.203125\"/>\n",
       "      <use xlink:href=\"#DejaVuSans-74\" x=\"639.302734\"/>\n",
       "      <use xlink:href=\"#DejaVuSans-73\" x=\"678.511719\"/>\n",
       "     </g>\n",
       "    </g>\n",
       "   </g>\n",
       "   <g id=\"matplotlib.axis_2\">\n",
       "    <g id=\"ytick_1\">\n",
       "     <g id=\"line2d_7\">\n",
       "      <path d=\"M 49.807188 231.898125 \n",
       "L 412.012187 231.898125 \n",
       "\" clip-path=\"url(#p1cadbf6b8c)\" style=\"fill: none; stroke: #cccccc; stroke-linecap: round\"/>\n",
       "     </g>\n",
       "     <g id=\"text_8\">\n",
       "      <!-- 0.0 -->\n",
       "      <g style=\"fill: #262626\" transform=\"translate(22.81375 236.077266)scale(0.11 -0.11)\">\n",
       "       <defs>\n",
       "        <path id=\"DejaVuSans-2e\" d=\"M 684 794 \n",
       "L 1344 794 \n",
       "L 1344 0 \n",
       "L 684 0 \n",
       "L 684 794 \n",
       "z\n",
       "\" transform=\"scale(0.015625)\"/>\n",
       "       </defs>\n",
       "       <use xlink:href=\"#DejaVuSans-30\"/>\n",
       "       <use xlink:href=\"#DejaVuSans-2e\" x=\"63.623047\"/>\n",
       "       <use xlink:href=\"#DejaVuSans-30\" x=\"95.410156\"/>\n",
       "      </g>\n",
       "     </g>\n",
       "    </g>\n",
       "    <g id=\"ytick_2\">\n",
       "     <g id=\"line2d_8\">\n",
       "      <path d=\"M 49.807188 189.982125 \n",
       "L 412.012187 189.982125 \n",
       "\" clip-path=\"url(#p1cadbf6b8c)\" style=\"fill: none; stroke: #cccccc; stroke-linecap: round\"/>\n",
       "     </g>\n",
       "     <g id=\"text_9\">\n",
       "      <!-- 0.2 -->\n",
       "      <g style=\"fill: #262626\" transform=\"translate(22.81375 194.161266)scale(0.11 -0.11)\">\n",
       "       <use xlink:href=\"#DejaVuSans-30\"/>\n",
       "       <use xlink:href=\"#DejaVuSans-2e\" x=\"63.623047\"/>\n",
       "       <use xlink:href=\"#DejaVuSans-32\" x=\"95.410156\"/>\n",
       "      </g>\n",
       "     </g>\n",
       "    </g>\n",
       "    <g id=\"ytick_3\">\n",
       "     <g id=\"line2d_9\">\n",
       "      <path d=\"M 49.807188 148.066125 \n",
       "L 412.012187 148.066125 \n",
       "\" clip-path=\"url(#p1cadbf6b8c)\" style=\"fill: none; stroke: #cccccc; stroke-linecap: round\"/>\n",
       "     </g>\n",
       "     <g id=\"text_10\">\n",
       "      <!-- 0.4 -->\n",
       "      <g style=\"fill: #262626\" transform=\"translate(22.81375 152.245266)scale(0.11 -0.11)\">\n",
       "       <defs>\n",
       "        <path id=\"DejaVuSans-34\" d=\"M 2419 4116 \n",
       "L 825 1625 \n",
       "L 2419 1625 \n",
       "L 2419 4116 \n",
       "z\n",
       "M 2253 4666 \n",
       "L 3047 4666 \n",
       "L 3047 1625 \n",
       "L 3713 1625 \n",
       "L 3713 1100 \n",
       "L 3047 1100 \n",
       "L 3047 0 \n",
       "L 2419 0 \n",
       "L 2419 1100 \n",
       "L 313 1100 \n",
       "L 313 1709 \n",
       "L 2253 4666 \n",
       "z\n",
       "\" transform=\"scale(0.015625)\"/>\n",
       "       </defs>\n",
       "       <use xlink:href=\"#DejaVuSans-30\"/>\n",
       "       <use xlink:href=\"#DejaVuSans-2e\" x=\"63.623047\"/>\n",
       "       <use xlink:href=\"#DejaVuSans-34\" x=\"95.410156\"/>\n",
       "      </g>\n",
       "     </g>\n",
       "    </g>\n",
       "    <g id=\"ytick_4\">\n",
       "     <g id=\"line2d_10\">\n",
       "      <path d=\"M 49.807188 106.150125 \n",
       "L 412.012187 106.150125 \n",
       "\" clip-path=\"url(#p1cadbf6b8c)\" style=\"fill: none; stroke: #cccccc; stroke-linecap: round\"/>\n",
       "     </g>\n",
       "     <g id=\"text_11\">\n",
       "      <!-- 0.6 -->\n",
       "      <g style=\"fill: #262626\" transform=\"translate(22.81375 110.329266)scale(0.11 -0.11)\">\n",
       "       <defs>\n",
       "        <path id=\"DejaVuSans-36\" d=\"M 2113 2584 \n",
       "Q 1688 2584 1439 2293 \n",
       "Q 1191 2003 1191 1497 \n",
       "Q 1191 994 1439 701 \n",
       "Q 1688 409 2113 409 \n",
       "Q 2538 409 2786 701 \n",
       "Q 3034 994 3034 1497 \n",
       "Q 3034 2003 2786 2293 \n",
       "Q 2538 2584 2113 2584 \n",
       "z\n",
       "M 3366 4563 \n",
       "L 3366 3988 \n",
       "Q 3128 4100 2886 4159 \n",
       "Q 2644 4219 2406 4219 \n",
       "Q 1781 4219 1451 3797 \n",
       "Q 1122 3375 1075 2522 \n",
       "Q 1259 2794 1537 2939 \n",
       "Q 1816 3084 2150 3084 \n",
       "Q 2853 3084 3261 2657 \n",
       "Q 3669 2231 3669 1497 \n",
       "Q 3669 778 3244 343 \n",
       "Q 2819 -91 2113 -91 \n",
       "Q 1303 -91 875 529 \n",
       "Q 447 1150 447 2328 \n",
       "Q 447 3434 972 4092 \n",
       "Q 1497 4750 2381 4750 \n",
       "Q 2619 4750 2861 4703 \n",
       "Q 3103 4656 3366 4563 \n",
       "z\n",
       "\" transform=\"scale(0.015625)\"/>\n",
       "       </defs>\n",
       "       <use xlink:href=\"#DejaVuSans-30\"/>\n",
       "       <use xlink:href=\"#DejaVuSans-2e\" x=\"63.623047\"/>\n",
       "       <use xlink:href=\"#DejaVuSans-36\" x=\"95.410156\"/>\n",
       "      </g>\n",
       "     </g>\n",
       "    </g>\n",
       "    <g id=\"ytick_5\">\n",
       "     <g id=\"line2d_11\">\n",
       "      <path d=\"M 49.807188 64.234125 \n",
       "L 412.012187 64.234125 \n",
       "\" clip-path=\"url(#p1cadbf6b8c)\" style=\"fill: none; stroke: #cccccc; stroke-linecap: round\"/>\n",
       "     </g>\n",
       "     <g id=\"text_12\">\n",
       "      <!-- 0.8 -->\n",
       "      <g style=\"fill: #262626\" transform=\"translate(22.81375 68.413266)scale(0.11 -0.11)\">\n",
       "       <defs>\n",
       "        <path id=\"DejaVuSans-38\" d=\"M 2034 2216 \n",
       "Q 1584 2216 1326 1975 \n",
       "Q 1069 1734 1069 1313 \n",
       "Q 1069 891 1326 650 \n",
       "Q 1584 409 2034 409 \n",
       "Q 2484 409 2743 651 \n",
       "Q 3003 894 3003 1313 \n",
       "Q 3003 1734 2745 1975 \n",
       "Q 2488 2216 2034 2216 \n",
       "z\n",
       "M 1403 2484 \n",
       "Q 997 2584 770 2862 \n",
       "Q 544 3141 544 3541 \n",
       "Q 544 4100 942 4425 \n",
       "Q 1341 4750 2034 4750 \n",
       "Q 2731 4750 3128 4425 \n",
       "Q 3525 4100 3525 3541 \n",
       "Q 3525 3141 3298 2862 \n",
       "Q 3072 2584 2669 2484 \n",
       "Q 3125 2378 3379 2068 \n",
       "Q 3634 1759 3634 1313 \n",
       "Q 3634 634 3220 271 \n",
       "Q 2806 -91 2034 -91 \n",
       "Q 1263 -91 848 271 \n",
       "Q 434 634 434 1313 \n",
       "Q 434 1759 690 2068 \n",
       "Q 947 2378 1403 2484 \n",
       "z\n",
       "M 1172 3481 \n",
       "Q 1172 3119 1398 2916 \n",
       "Q 1625 2713 2034 2713 \n",
       "Q 2441 2713 2670 2916 \n",
       "Q 2900 3119 2900 3481 \n",
       "Q 2900 3844 2670 4047 \n",
       "Q 2441 4250 2034 4250 \n",
       "Q 1625 4250 1398 4047 \n",
       "Q 1172 3844 1172 3481 \n",
       "z\n",
       "\" transform=\"scale(0.015625)\"/>\n",
       "       </defs>\n",
       "       <use xlink:href=\"#DejaVuSans-30\"/>\n",
       "       <use xlink:href=\"#DejaVuSans-2e\" x=\"63.623047\"/>\n",
       "       <use xlink:href=\"#DejaVuSans-38\" x=\"95.410156\"/>\n",
       "      </g>\n",
       "     </g>\n",
       "    </g>\n",
       "    <g id=\"ytick_6\">\n",
       "     <g id=\"line2d_12\">\n",
       "      <path d=\"M 49.807188 22.318125 \n",
       "L 412.012187 22.318125 \n",
       "\" clip-path=\"url(#p1cadbf6b8c)\" style=\"fill: none; stroke: #cccccc; stroke-linecap: round\"/>\n",
       "     </g>\n",
       "     <g id=\"text_13\">\n",
       "      <!-- 1.0 -->\n",
       "      <g style=\"fill: #262626\" transform=\"translate(22.81375 26.497266)scale(0.11 -0.11)\">\n",
       "       <use xlink:href=\"#DejaVuSans-31\"/>\n",
       "       <use xlink:href=\"#DejaVuSans-2e\" x=\"63.623047\"/>\n",
       "       <use xlink:href=\"#DejaVuSans-30\" x=\"95.410156\"/>\n",
       "      </g>\n",
       "     </g>\n",
       "    </g>\n",
       "    <g id=\"text_14\">\n",
       "     <!-- Proportion -->\n",
       "     <g style=\"fill: #262626\" transform=\"translate(16.318125 158.063438)rotate(-90)scale(0.12 -0.12)\">\n",
       "      <defs>\n",
       "       <path id=\"DejaVuSans-50\" d=\"M 1259 4147 \n",
       "L 1259 2394 \n",
       "L 2053 2394 \n",
       "Q 2494 2394 2734 2622 \n",
       "Q 2975 2850 2975 3272 \n",
       "Q 2975 3691 2734 3919 \n",
       "Q 2494 4147 2053 4147 \n",
       "L 1259 4147 \n",
       "z\n",
       "M 628 4666 \n",
       "L 2053 4666 \n",
       "Q 2838 4666 3239 4311 \n",
       "Q 3641 3956 3641 3272 \n",
       "Q 3641 2581 3239 2228 \n",
       "Q 2838 1875 2053 1875 \n",
       "L 1259 1875 \n",
       "L 1259 0 \n",
       "L 628 0 \n",
       "L 628 4666 \n",
       "z\n",
       "\" transform=\"scale(0.015625)\"/>\n",
       "       <path id=\"DejaVuSans-70\" d=\"M 1159 525 \n",
       "L 1159 -1331 \n",
       "L 581 -1331 \n",
       "L 581 3500 \n",
       "L 1159 3500 \n",
       "L 1159 2969 \n",
       "Q 1341 3281 1617 3432 \n",
       "Q 1894 3584 2278 3584 \n",
       "Q 2916 3584 3314 3078 \n",
       "Q 3713 2572 3713 1747 \n",
       "Q 3713 922 3314 415 \n",
       "Q 2916 -91 2278 -91 \n",
       "Q 1894 -91 1617 61 \n",
       "Q 1341 213 1159 525 \n",
       "z\n",
       "M 3116 1747 \n",
       "Q 3116 2381 2855 2742 \n",
       "Q 2594 3103 2138 3103 \n",
       "Q 1681 3103 1420 2742 \n",
       "Q 1159 2381 1159 1747 \n",
       "Q 1159 1113 1420 752 \n",
       "Q 1681 391 2138 391 \n",
       "Q 2594 391 2855 752 \n",
       "Q 3116 1113 3116 1747 \n",
       "z\n",
       "\" transform=\"scale(0.015625)\"/>\n",
       "       <path id=\"DejaVuSans-69\" d=\"M 603 3500 \n",
       "L 1178 3500 \n",
       "L 1178 0 \n",
       "L 603 0 \n",
       "L 603 3500 \n",
       "z\n",
       "M 603 4863 \n",
       "L 1178 4863 \n",
       "L 1178 4134 \n",
       "L 603 4134 \n",
       "L 603 4863 \n",
       "z\n",
       "\" transform=\"scale(0.015625)\"/>\n",
       "      </defs>\n",
       "      <use xlink:href=\"#DejaVuSans-50\"/>\n",
       "      <use xlink:href=\"#DejaVuSans-72\" x=\"58.552734\"/>\n",
       "      <use xlink:href=\"#DejaVuSans-6f\" x=\"97.416016\"/>\n",
       "      <use xlink:href=\"#DejaVuSans-70\" x=\"158.597656\"/>\n",
       "      <use xlink:href=\"#DejaVuSans-6f\" x=\"222.074219\"/>\n",
       "      <use xlink:href=\"#DejaVuSans-72\" x=\"283.255859\"/>\n",
       "      <use xlink:href=\"#DejaVuSans-74\" x=\"324.369141\"/>\n",
       "      <use xlink:href=\"#DejaVuSans-69\" x=\"363.578125\"/>\n",
       "      <use xlink:href=\"#DejaVuSans-6f\" x=\"391.361328\"/>\n",
       "      <use xlink:href=\"#DejaVuSans-6e\" x=\"452.542969\"/>\n",
       "     </g>\n",
       "    </g>\n",
       "   </g>\n",
       "   <g id=\"line2d_13\">\n",
       "    <path d=\"M 66.271051 231.898125 \n",
       "L 66.271051 215.550885 \n",
       "L 78.935562 215.550885 \n",
       "L 78.935562 215.467053 \n",
       "L 78.935562 201.173697 \n",
       "L 91.600072 201.173697 \n",
       "L 91.600072 201.089865 \n",
       "L 91.600072 192.203673 \n",
       "L 104.264583 192.203673 \n",
       "L 104.264583 192.119841 \n",
       "L 104.264583 183.149817 \n",
       "L 116.929093 183.149817 \n",
       "L 116.929093 183.065985 \n",
       "L 116.929093 166.760661 \n",
       "L 129.593604 166.760661 \n",
       "L 129.593604 166.676829 \n",
       "L 129.593604 151.293657 \n",
       "L 142.258114 151.293657 \n",
       "L 142.258114 151.209825 \n",
       "L 142.258114 138.425445 \n",
       "L 154.922625 138.425445 \n",
       "L 154.922625 138.341613 \n",
       "L 154.922625 128.491353 \n",
       "L 167.587135 128.491353 \n",
       "L 167.587135 128.407521 \n",
       "L 167.587135 119.144085 \n",
       "L 180.251646 119.144085 \n",
       "L 180.251646 119.060253 \n",
       "L 180.251646 110.760885 \n",
       "L 192.916156 110.760885 \n",
       "L 192.916156 110.677053 \n",
       "L 192.916156 102.964509 \n",
       "L 205.580667 102.964509 \n",
       "L 205.580667 102.880677 \n",
       "L 205.580667 96.467529 \n",
       "L 218.245177 96.467529 \n",
       "L 218.245177 96.383697 \n",
       "L 218.245177 90.934617 \n",
       "L 230.909687 90.934617 \n",
       "L 230.909687 90.850785 \n",
       "L 230.909687 85.234041 \n",
       "L 243.574198 85.234041 \n",
       "L 243.574198 85.150209 \n",
       "L 243.574198 79.323885 \n",
       "L 256.238708 79.323885 \n",
       "L 256.238708 79.240053 \n",
       "L 256.238708 74.210133 \n",
       "L 268.903219 74.210133 \n",
       "L 268.903219 74.126301 \n",
       "L 268.903219 69.138297 \n",
       "L 281.567729 69.138297 \n",
       "L 281.567729 69.054465 \n",
       "L 281.567729 64.485621 \n",
       "L 294.23224 64.485621 \n",
       "L 294.23224 64.401789 \n",
       "L 294.23224 60.084441 \n",
       "L 306.89675 60.084441 \n",
       "L 306.89675 60.000609 \n",
       "L 306.89675 56.312001 \n",
       "L 319.561261 56.312001 \n",
       "L 319.561261 56.228169 \n",
       "L 319.561261 52.413813 \n",
       "L 332.225771 52.413813 \n",
       "L 332.225771 52.329981 \n",
       "L 332.225771 48.515625 \n",
       "L 344.890282 48.515625 \n",
       "L 344.890282 48.431793 \n",
       "L 344.890282 44.994681 \n",
       "L 357.554792 44.994681 \n",
       "L 357.554792 44.910849 \n",
       "L 357.554792 41.096493 \n",
       "L 370.219303 41.096493 \n",
       "L 370.219303 41.012661 \n",
       "L 370.219303 36.779145 \n",
       "L 382.883813 36.779145 \n",
       "L 382.883813 36.695313 \n",
       "L 382.883813 31.120485 \n",
       "L 395.548324 31.120485 \n",
       "L 395.548324 31.036653 \n",
       "L 395.548324 22.318125 \n",
       "L 395.548324 22.318125 \n",
       "\" clip-path=\"url(#p1cadbf6b8c)\" style=\"fill: none; stroke: #4878d0; stroke-width: 1.5; stroke-linecap: round\"/>\n",
       "   </g>\n",
       "   <g id=\"line2d_14\">\n",
       "    <path d=\"M 395.548324 231.898125 \n",
       "L 395.548324 22.318125 \n",
       "\" clip-path=\"url(#p1cadbf6b8c)\" style=\"fill: none; stroke: #ffa500; stroke-width: 1.5; stroke-linecap: round\"/>\n",
       "   </g>\n",
       "   <g id=\"patch_3\">\n",
       "    <path d=\"M 49.807188 231.898125 \n",
       "L 49.807188 22.318125 \n",
       "\" style=\"fill: none; stroke: #cccccc; stroke-width: 1.25; stroke-linejoin: miter; stroke-linecap: square\"/>\n",
       "   </g>\n",
       "   <g id=\"patch_4\">\n",
       "    <path d=\"M 412.012187 231.898125 \n",
       "L 412.012187 22.318125 \n",
       "\" style=\"fill: none; stroke: #cccccc; stroke-width: 1.25; stroke-linejoin: miter; stroke-linecap: square\"/>\n",
       "   </g>\n",
       "   <g id=\"patch_5\">\n",
       "    <path d=\"M 49.807188 231.898125 \n",
       "L 412.012187 231.898125 \n",
       "\" style=\"fill: none; stroke: #cccccc; stroke-width: 1.25; stroke-linejoin: miter; stroke-linecap: square\"/>\n",
       "   </g>\n",
       "   <g id=\"patch_6\">\n",
       "    <path d=\"M 49.807188 22.318125 \n",
       "L 412.012187 22.318125 \n",
       "\" style=\"fill: none; stroke: #cccccc; stroke-width: 1.25; stroke-linejoin: miter; stroke-linecap: square\"/>\n",
       "   </g>\n",
       "   <g id=\"text_15\">\n",
       "    <!-- Number of fits by key (total 5000 keys) -->\n",
       "    <g style=\"fill: #262626\" transform=\"translate(113.260937 16.318125)scale(0.12 -0.12)\">\n",
       "     <defs>\n",
       "      <path id=\"DejaVuSans-4e\" d=\"M 628 4666 \n",
       "L 1478 4666 \n",
       "L 3547 763 \n",
       "L 3547 4666 \n",
       "L 4159 4666 \n",
       "L 4159 0 \n",
       "L 3309 0 \n",
       "L 1241 3903 \n",
       "L 1241 0 \n",
       "L 628 0 \n",
       "L 628 4666 \n",
       "z\n",
       "\" transform=\"scale(0.015625)\"/>\n",
       "      <path id=\"DejaVuSans-62\" d=\"M 3116 1747 \n",
       "Q 3116 2381 2855 2742 \n",
       "Q 2594 3103 2138 3103 \n",
       "Q 1681 3103 1420 2742 \n",
       "Q 1159 2381 1159 1747 \n",
       "Q 1159 1113 1420 752 \n",
       "Q 1681 391 2138 391 \n",
       "Q 2594 391 2855 752 \n",
       "Q 3116 1113 3116 1747 \n",
       "z\n",
       "M 1159 2969 \n",
       "Q 1341 3281 1617 3432 \n",
       "Q 1894 3584 2278 3584 \n",
       "Q 2916 3584 3314 3078 \n",
       "Q 3713 2572 3713 1747 \n",
       "Q 3713 922 3314 415 \n",
       "Q 2916 -91 2278 -91 \n",
       "Q 1894 -91 1617 61 \n",
       "Q 1341 213 1159 525 \n",
       "L 1159 0 \n",
       "L 581 0 \n",
       "L 581 4863 \n",
       "L 1159 4863 \n",
       "L 1159 2969 \n",
       "z\n",
       "\" transform=\"scale(0.015625)\"/>\n",
       "      <path id=\"DejaVuSans-20\" transform=\"scale(0.015625)\"/>\n",
       "      <path id=\"DejaVuSans-79\" d=\"M 2059 -325 \n",
       "Q 1816 -950 1584 -1140 \n",
       "Q 1353 -1331 966 -1331 \n",
       "L 506 -1331 \n",
       "L 506 -850 \n",
       "L 844 -850 \n",
       "Q 1081 -850 1212 -737 \n",
       "Q 1344 -625 1503 -206 \n",
       "L 1606 56 \n",
       "L 191 3500 \n",
       "L 800 3500 \n",
       "L 1894 763 \n",
       "L 2988 3500 \n",
       "L 3597 3500 \n",
       "L 2059 -325 \n",
       "z\n",
       "\" transform=\"scale(0.015625)\"/>\n",
       "      <path id=\"DejaVuSans-6b\" d=\"M 581 4863 \n",
       "L 1159 4863 \n",
       "L 1159 1991 \n",
       "L 2875 3500 \n",
       "L 3609 3500 \n",
       "L 1753 1863 \n",
       "L 3688 0 \n",
       "L 2938 0 \n",
       "L 1159 1709 \n",
       "L 1159 0 \n",
       "L 581 0 \n",
       "L 581 4863 \n",
       "z\n",
       "\" transform=\"scale(0.015625)\"/>\n",
       "      <path id=\"DejaVuSans-28\" d=\"M 1984 4856 \n",
       "Q 1566 4138 1362 3434 \n",
       "Q 1159 2731 1159 2009 \n",
       "Q 1159 1288 1364 580 \n",
       "Q 1569 -128 1984 -844 \n",
       "L 1484 -844 \n",
       "Q 1016 -109 783 600 \n",
       "Q 550 1309 550 2009 \n",
       "Q 550 2706 781 3412 \n",
       "Q 1013 4119 1484 4856 \n",
       "L 1984 4856 \n",
       "z\n",
       "\" transform=\"scale(0.015625)\"/>\n",
       "      <path id=\"DejaVuSans-6c\" d=\"M 603 4863 \n",
       "L 1178 4863 \n",
       "L 1178 0 \n",
       "L 603 0 \n",
       "L 603 4863 \n",
       "z\n",
       "\" transform=\"scale(0.015625)\"/>\n",
       "      <path id=\"DejaVuSans-29\" d=\"M 513 4856 \n",
       "L 1013 4856 \n",
       "Q 1481 4119 1714 3412 \n",
       "Q 1947 2706 1947 2009 \n",
       "Q 1947 1309 1714 600 \n",
       "Q 1481 -109 1013 -844 \n",
       "L 513 -844 \n",
       "Q 928 -128 1133 580 \n",
       "Q 1338 1288 1338 2009 \n",
       "Q 1338 2731 1133 3434 \n",
       "Q 928 4138 513 4856 \n",
       "z\n",
       "\" transform=\"scale(0.015625)\"/>\n",
       "     </defs>\n",
       "     <use xlink:href=\"#DejaVuSans-4e\"/>\n",
       "     <use xlink:href=\"#DejaVuSans-75\" x=\"74.804688\"/>\n",
       "     <use xlink:href=\"#DejaVuSans-6d\" x=\"138.183594\"/>\n",
       "     <use xlink:href=\"#DejaVuSans-62\" x=\"235.595703\"/>\n",
       "     <use xlink:href=\"#DejaVuSans-65\" x=\"299.072266\"/>\n",
       "     <use xlink:href=\"#DejaVuSans-72\" x=\"360.595703\"/>\n",
       "     <use xlink:href=\"#DejaVuSans-20\" x=\"401.708984\"/>\n",
       "     <use xlink:href=\"#DejaVuSans-6f\" x=\"433.496094\"/>\n",
       "     <use xlink:href=\"#DejaVuSans-66\" x=\"494.677734\"/>\n",
       "     <use xlink:href=\"#DejaVuSans-20\" x=\"529.882812\"/>\n",
       "     <use xlink:href=\"#DejaVuSans-66\" x=\"561.669922\"/>\n",
       "     <use xlink:href=\"#DejaVuSans-69\" x=\"596.875\"/>\n",
       "     <use xlink:href=\"#DejaVuSans-74\" x=\"624.658203\"/>\n",
       "     <use xlink:href=\"#DejaVuSans-73\" x=\"663.867188\"/>\n",
       "     <use xlink:href=\"#DejaVuSans-20\" x=\"715.966797\"/>\n",
       "     <use xlink:href=\"#DejaVuSans-62\" x=\"747.753906\"/>\n",
       "     <use xlink:href=\"#DejaVuSans-79\" x=\"811.230469\"/>\n",
       "     <use xlink:href=\"#DejaVuSans-20\" x=\"870.410156\"/>\n",
       "     <use xlink:href=\"#DejaVuSans-6b\" x=\"902.197266\"/>\n",
       "     <use xlink:href=\"#DejaVuSans-65\" x=\"956.482422\"/>\n",
       "     <use xlink:href=\"#DejaVuSans-79\" x=\"1018.005859\"/>\n",
       "     <use xlink:href=\"#DejaVuSans-20\" x=\"1077.185547\"/>\n",
       "     <use xlink:href=\"#DejaVuSans-28\" x=\"1108.972656\"/>\n",
       "     <use xlink:href=\"#DejaVuSans-74\" x=\"1147.986328\"/>\n",
       "     <use xlink:href=\"#DejaVuSans-6f\" x=\"1187.195312\"/>\n",
       "     <use xlink:href=\"#DejaVuSans-74\" x=\"1248.376953\"/>\n",
       "     <use xlink:href=\"#DejaVuSans-61\" x=\"1287.585938\"/>\n",
       "     <use xlink:href=\"#DejaVuSans-6c\" x=\"1348.865234\"/>\n",
       "     <use xlink:href=\"#DejaVuSans-20\" x=\"1376.648438\"/>\n",
       "     <use xlink:href=\"#DejaVuSans-35\" x=\"1408.435547\"/>\n",
       "     <use xlink:href=\"#DejaVuSans-30\" x=\"1472.058594\"/>\n",
       "     <use xlink:href=\"#DejaVuSans-30\" x=\"1535.681641\"/>\n",
       "     <use xlink:href=\"#DejaVuSans-30\" x=\"1599.304688\"/>\n",
       "     <use xlink:href=\"#DejaVuSans-20\" x=\"1662.927734\"/>\n",
       "     <use xlink:href=\"#DejaVuSans-6b\" x=\"1694.714844\"/>\n",
       "     <use xlink:href=\"#DejaVuSans-65\" x=\"1749\"/>\n",
       "     <use xlink:href=\"#DejaVuSans-79\" x=\"1810.523438\"/>\n",
       "     <use xlink:href=\"#DejaVuSans-73\" x=\"1869.703125\"/>\n",
       "     <use xlink:href=\"#DejaVuSans-29\" x=\"1921.802734\"/>\n",
       "    </g>\n",
       "   </g>\n",
       "   <g id=\"legend_1\">\n",
       "    <g id=\"patch_7\">\n",
       "     <path d=\"M 57.507188 47.264063 \n",
       "L 163.234375 47.264063 \n",
       "Q 165.434375 47.264063 165.434375 45.064063 \n",
       "L 165.434375 30.018125 \n",
       "Q 165.434375 27.818125 163.234375 27.818125 \n",
       "L 57.507188 27.818125 \n",
       "Q 55.307188 27.818125 55.307188 30.018125 \n",
       "L 55.307188 45.064063 \n",
       "Q 55.307188 47.264063 57.507188 47.264063 \n",
       "z\n",
       "\" style=\"fill: #ffffff; opacity: 0.8; stroke: #cccccc; stroke-linejoin: miter\"/>\n",
       "    </g>\n",
       "    <g id=\"line2d_15\">\n",
       "     <path d=\"M 59.707188 36.726406 \n",
       "L 70.707188 36.726406 \n",
       "L 81.707188 36.726406 \n",
       "\" style=\"fill: none; stroke: #ffa500; stroke-width: 1.5; stroke-linecap: round\"/>\n",
       "    </g>\n",
       "    <g id=\"text_16\">\n",
       "     <!-- Max Possible -->\n",
       "     <g style=\"fill: #262626\" transform=\"translate(90.507188 40.576406)scale(0.11 -0.11)\">\n",
       "      <defs>\n",
       "       <path id=\"DejaVuSans-4d\" d=\"M 628 4666 \n",
       "L 1569 4666 \n",
       "L 2759 1491 \n",
       "L 3956 4666 \n",
       "L 4897 4666 \n",
       "L 4897 0 \n",
       "L 4281 0 \n",
       "L 4281 4097 \n",
       "L 3078 897 \n",
       "L 2444 897 \n",
       "L 1241 4097 \n",
       "L 1241 0 \n",
       "L 628 0 \n",
       "L 628 4666 \n",
       "z\n",
       "\" transform=\"scale(0.015625)\"/>\n",
       "       <path id=\"DejaVuSans-78\" d=\"M 3513 3500 \n",
       "L 2247 1797 \n",
       "L 3578 0 \n",
       "L 2900 0 \n",
       "L 1881 1375 \n",
       "L 863 0 \n",
       "L 184 0 \n",
       "L 1544 1831 \n",
       "L 300 3500 \n",
       "L 978 3500 \n",
       "L 1906 2253 \n",
       "L 2834 3500 \n",
       "L 3513 3500 \n",
       "z\n",
       "\" transform=\"scale(0.015625)\"/>\n",
       "      </defs>\n",
       "      <use xlink:href=\"#DejaVuSans-4d\"/>\n",
       "      <use xlink:href=\"#DejaVuSans-61\" x=\"86.279297\"/>\n",
       "      <use xlink:href=\"#DejaVuSans-78\" x=\"147.558594\"/>\n",
       "      <use xlink:href=\"#DejaVuSans-20\" x=\"206.738281\"/>\n",
       "      <use xlink:href=\"#DejaVuSans-50\" x=\"238.525391\"/>\n",
       "      <use xlink:href=\"#DejaVuSans-6f\" x=\"295.203125\"/>\n",
       "      <use xlink:href=\"#DejaVuSans-73\" x=\"356.384766\"/>\n",
       "      <use xlink:href=\"#DejaVuSans-73\" x=\"408.484375\"/>\n",
       "      <use xlink:href=\"#DejaVuSans-69\" x=\"460.583984\"/>\n",
       "      <use xlink:href=\"#DejaVuSans-62\" x=\"488.367188\"/>\n",
       "      <use xlink:href=\"#DejaVuSans-6c\" x=\"551.84375\"/>\n",
       "      <use xlink:href=\"#DejaVuSans-65\" x=\"579.626953\"/>\n",
       "     </g>\n",
       "    </g>\n",
       "   </g>\n",
       "  </g>\n",
       " </g>\n",
       " <defs>\n",
       "  <clipPath id=\"p1cadbf6b8c\">\n",
       "   <rect x=\"49.807188\" y=\"22.318125\" width=\"362.205\" height=\"209.58\"/>\n",
       "  </clipPath>\n",
       " </defs>\n",
       "</svg>\n"
      ],
      "text/plain": [
       "<Figure size 432x288 with 1 Axes>"
      ]
     },
     "metadata": {},
     "output_type": "display_data"
    }
   ],
   "source": [
    "sns.ecdfplot(num_forecasts[\"num_forecasts\"])\n",
    "plt.title(f\"Number of fits by key (total {len(num_forecasts)} keys)\")\n",
    "plt.axvline(27, color=\"orange\", label=\"Max Possible\")\n",
    "plt.legend()\n",
    "plt.tight_layout()\n",
    "plt.savefig(f\"plots/{result_name}-nfits.pdf\", dpi=300)"
   ]
  },
  {
   "cell_type": "code",
   "execution_count": 9,
   "id": "7c96fff4",
   "metadata": {
    "execution": {
     "iopub.execute_input": "2022-04-05T07:24:44.247072Z",
     "iopub.status.busy": "2022-04-05T07:24:44.246870Z",
     "iopub.status.idle": "2022-04-05T07:24:44.255696Z",
     "shell.execute_reply": "2022-04-05T07:24:44.254742Z"
    },
    "papermill": {
     "duration": 0.174557,
     "end_time": "2022-04-05T07:24:44.257134",
     "exception": false,
     "start_time": "2022-04-05T07:24:44.082577",
     "status": "completed"
    },
    "tags": []
   },
   "outputs": [],
   "source": [
    "num_forecasts.to_csv(f\"plots/{result_name}-nfits.csv\", index=None)"
   ]
  },
  {
   "cell_type": "code",
   "execution_count": null,
   "id": "309e4958",
   "metadata": {
    "papermill": {
     "duration": 0.165395,
     "end_time": "2022-04-05T07:24:44.585444",
     "exception": false,
     "start_time": "2022-04-05T07:24:44.420049",
     "status": "completed"
    },
    "tags": []
   },
   "outputs": [],
   "source": []
  },
  {
   "cell_type": "code",
   "execution_count": 10,
   "id": "6fc473d7",
   "metadata": {
    "execution": {
     "iopub.execute_input": "2022-04-05T07:24:44.912575Z",
     "iopub.status.busy": "2022-04-05T07:24:44.912377Z",
     "iopub.status.idle": "2022-04-05T07:32:12.275485Z",
     "shell.execute_reply": "2022-04-05T07:32:12.274599Z"
    },
    "papermill": {
     "duration": 447.529083,
     "end_time": "2022-04-05T07:32:12.277434",
     "exception": false,
     "start_time": "2022-04-05T07:24:44.748351",
     "status": "completed"
    },
    "tags": []
   },
   "outputs": [],
   "source": [
    "def compute_key(key):\n",
    "    pred_df = (\n",
    "        pd.DataFrame(\n",
    "            {\n",
    "                \"timestamp\": key_to_timestamps[key],\n",
    "                \"last_seqno\": key_to_last_seqnos[key],\n",
    "            }\n",
    "        )\n",
    "        .sort_values(\"timestamp\")\n",
    "        .set_index(\"timestamp\")\n",
    "    )\n",
    "    true_df = (\n",
    "        pd.DataFrame(\n",
    "            {\n",
    "                \"timestamp\": key_to_source_timestamps[key],\n",
    "                \"avg_cpu\": key_to_source_series[key],\n",
    "                \"seq_no\": key_to_source_seqno[key],\n",
    "            }\n",
    "        )\n",
    "        .sort_values(\"timestamp\")\n",
    "        .set_index(\"timestamp\")\n",
    "    )\n",
    "\n",
    "    merged = pd.merge_asof(\n",
    "        left=true_df, right=pred_df, on=\"timestamp\", direction=\"backward\"\n",
    "    )\n",
    "\n",
    "    forecast = key_to_last_seqno_to_forecast[key]\n",
    "    frame = pd.DataFrame(forecast)\n",
    "    frame = (\n",
    "        frame.T.reset_index()\n",
    "        .melt(\"index\")\n",
    "        .rename(columns={\"variable\": \"seq_delta\", \"index\": \"last_seqno\"})\n",
    "    )\n",
    "\n",
    "    m = merged.dropna().reset_index(drop=True)\n",
    "    m.loc[:, \"seq_delta\"] = (m[\"seq_no\"] - m[\"last_seqno\"]).astype(int)\n",
    "    final = m.merge(frame, how=\"left\", on=[\"last_seqno\", \"seq_delta\"])\n",
    "\n",
    "    mse_per_key_per_s = final.groupby(final[\"timestamp\"].astype(int)).apply(\n",
    "        lambda d: pd.Series(\n",
    "            {\"mse\": ((d[\"avg_cpu\"] - d[\"value\"]) ** 2).mean(), \"count\": len(d)}\n",
    "        )\n",
    "    )\n",
    "    mse_per_key_per_s[\"key\"] = key\n",
    "    return mse_per_key_per_s\n",
    "\n",
    "with ProcessPoolExecutor() as executor:\n",
    "    futs = executor.map(compute_key, key_to_timestamps.keys())\n",
    "    mses = list(futs)"
   ]
  },
  {
   "cell_type": "code",
   "execution_count": 11,
   "id": "46d25566",
   "metadata": {
    "execution": {
     "iopub.execute_input": "2022-04-05T07:32:12.618871Z",
     "iopub.status.busy": "2022-04-05T07:32:12.618592Z",
     "iopub.status.idle": "2022-04-05T07:32:46.121964Z",
     "shell.execute_reply": "2022-04-05T07:32:46.121036Z"
    },
    "papermill": {
     "duration": 33.675608,
     "end_time": "2022-04-05T07:32:46.123860",
     "exception": false,
     "start_time": "2022-04-05T07:32:12.448252",
     "status": "completed"
    },
    "tags": []
   },
   "outputs": [],
   "source": [
    "# we are dropping some keys here :sigh:\n",
    "# need to figure out how to handle a key that's never fitted\n",
    "# final length 4965 for 5000\n",
    "all_mse = pd.concat([f.reset_index() for f in mses if len(f)])"
   ]
  },
  {
   "cell_type": "code",
   "execution_count": 12,
   "id": "15cb1b08",
   "metadata": {
    "execution": {
     "iopub.execute_input": "2022-04-05T07:32:46.470117Z",
     "iopub.status.busy": "2022-04-05T07:32:46.469816Z",
     "iopub.status.idle": "2022-04-05T07:32:47.223696Z",
     "shell.execute_reply": "2022-04-05T07:32:47.223152Z"
    },
    "papermill": {
     "duration": 0.929266,
     "end_time": "2022-04-05T07:32:47.225207",
     "exception": false,
     "start_time": "2022-04-05T07:32:46.295941",
     "status": "completed"
    },
    "tags": []
   },
   "outputs": [],
   "source": [
    "all_mse.to_parquet(f\"plots/{result_name}-all_mse.pq\", index=None)"
   ]
  },
  {
   "cell_type": "code",
   "execution_count": 13,
   "id": "b8ed15b9",
   "metadata": {
    "execution": {
     "iopub.execute_input": "2022-04-05T07:32:47.565934Z",
     "iopub.status.busy": "2022-04-05T07:32:47.565663Z",
     "iopub.status.idle": "2022-04-05T07:32:48.708089Z",
     "shell.execute_reply": "2022-04-05T07:32:48.707190Z"
    },
    "papermill": {
     "duration": 1.314362,
     "end_time": "2022-04-05T07:32:48.709695",
     "exception": false,
     "start_time": "2022-04-05T07:32:47.395333",
     "status": "completed"
    },
    "tags": []
   },
   "outputs": [],
   "source": [
    "mse_by_timestamp = all_mse.groupby(\"timestamp\").apply(\n",
    "    lambda d: (d[\"mse\"]*d[\"count\"]).sum()/(d[\"count\"].sum())\n",
    ")"
   ]
  },
  {
   "cell_type": "code",
   "execution_count": 14,
   "id": "15fe9a49",
   "metadata": {
    "execution": {
     "iopub.execute_input": "2022-04-05T07:32:49.049133Z",
     "iopub.status.busy": "2022-04-05T07:32:49.048904Z",
     "iopub.status.idle": "2022-04-05T07:32:49.052459Z",
     "shell.execute_reply": "2022-04-05T07:32:49.051986Z"
    },
    "papermill": {
     "duration": 0.175235,
     "end_time": "2022-04-05T07:32:49.053737",
     "exception": false,
     "start_time": "2022-04-05T07:32:48.878502",
     "status": "completed"
    },
    "tags": []
   },
   "outputs": [],
   "source": [
    "mse_by_timestamp.index = mse_by_timestamp.index-mse_by_timestamp.index.min()"
   ]
  },
  {
   "cell_type": "code",
   "execution_count": 15,
   "id": "26e3e182",
   "metadata": {
    "execution": {
     "iopub.execute_input": "2022-04-05T07:32:49.396738Z",
     "iopub.status.busy": "2022-04-05T07:32:49.396577Z",
     "iopub.status.idle": "2022-04-05T07:32:49.705106Z",
     "shell.execute_reply": "2022-04-05T07:32:49.704187Z"
    },
    "papermill": {
     "duration": 0.483895,
     "end_time": "2022-04-05T07:32:49.707502",
     "exception": false,
     "start_time": "2022-04-05T07:32:49.223607",
     "status": "completed"
    },
    "tags": []
   },
   "outputs": [
    {
     "data": {
      "image/svg+xml": [
       "<?xml version=\"1.0\" encoding=\"utf-8\" standalone=\"no\"?>\n",
       "<!DOCTYPE svg PUBLIC \"-//W3C//DTD SVG 1.1//EN\"\n",
       "  \"http://www.w3.org/Graphics/SVG/1.1/DTD/svg11.dtd\">\n",
       "<svg xmlns:xlink=\"http://www.w3.org/1999/xlink\" width=\"419.615416pt\" height=\"274.857813pt\" viewBox=\"0 0 419.615416 274.857813\" xmlns=\"http://www.w3.org/2000/svg\" version=\"1.1\">\n",
       " <metadata>\n",
       "  <rdf:RDF xmlns:dc=\"http://purl.org/dc/elements/1.1/\" xmlns:cc=\"http://creativecommons.org/ns#\" xmlns:rdf=\"http://www.w3.org/1999/02/22-rdf-syntax-ns#\">\n",
       "   <cc:Work>\n",
       "    <dc:type rdf:resource=\"http://purl.org/dc/dcmitype/StillImage\"/>\n",
       "    <dc:date>2022-04-05T07:32:49.668605</dc:date>\n",
       "    <dc:format>image/svg+xml</dc:format>\n",
       "    <dc:creator>\n",
       "     <cc:Agent>\n",
       "      <dc:title>Matplotlib v3.5.1, https://matplotlib.org/</dc:title>\n",
       "     </cc:Agent>\n",
       "    </dc:creator>\n",
       "   </cc:Work>\n",
       "  </rdf:RDF>\n",
       " </metadata>\n",
       " <defs>\n",
       "  <style type=\"text/css\">*{stroke-linejoin: round; stroke-linecap: butt}</style>\n",
       " </defs>\n",
       " <g id=\"figure_1\">\n",
       "  <g id=\"patch_1\">\n",
       "   <path d=\"M 0 274.857813 \n",
       "L 419.615416 274.857813 \n",
       "L 419.615416 0 \n",
       "L 0 0 \n",
       "z\n",
       "\" style=\"fill: #ffffff\"/>\n",
       "  </g>\n",
       "  <g id=\"axes_1\">\n",
       "   <g id=\"patch_2\">\n",
       "    <path d=\"M 37.69625 231.898125 \n",
       "L 407.488619 231.898125 \n",
       "L 407.488619 22.318125 \n",
       "L 37.69625 22.318125 \n",
       "z\n",
       "\" style=\"fill: #ffffff\"/>\n",
       "   </g>\n",
       "   <g id=\"matplotlib.axis_1\">\n",
       "    <g id=\"xtick_1\">\n",
       "     <g id=\"line2d_1\">\n",
       "      <path d=\"M 54.504994 231.898125 \n",
       "L 54.504994 22.318125 \n",
       "\" clip-path=\"url(#p4fce2a4d0b)\" style=\"fill: none; stroke: #cccccc; stroke-linecap: round\"/>\n",
       "     </g>\n",
       "     <g id=\"text_1\">\n",
       "      <!-- 0 -->\n",
       "      <g style=\"fill: #262626\" transform=\"translate(51.005619 249.756406)scale(0.11 -0.11)\">\n",
       "       <defs>\n",
       "        <path id=\"DejaVuSans-30\" d=\"M 2034 4250 \n",
       "Q 1547 4250 1301 3770 \n",
       "Q 1056 3291 1056 2328 \n",
       "Q 1056 1369 1301 889 \n",
       "Q 1547 409 2034 409 \n",
       "Q 2525 409 2770 889 \n",
       "Q 3016 1369 3016 2328 \n",
       "Q 3016 3291 2770 3770 \n",
       "Q 2525 4250 2034 4250 \n",
       "z\n",
       "M 2034 4750 \n",
       "Q 2819 4750 3233 4129 \n",
       "Q 3647 3509 3647 2328 \n",
       "Q 3647 1150 3233 529 \n",
       "Q 2819 -91 2034 -91 \n",
       "Q 1250 -91 836 529 \n",
       "Q 422 1150 422 2328 \n",
       "Q 422 3509 836 4129 \n",
       "Q 1250 4750 2034 4750 \n",
       "z\n",
       "\" transform=\"scale(0.015625)\"/>\n",
       "       </defs>\n",
       "       <use xlink:href=\"#DejaVuSans-30\"/>\n",
       "      </g>\n",
       "     </g>\n",
       "    </g>\n",
       "    <g id=\"xtick_2\">\n",
       "     <g id=\"line2d_2\">\n",
       "      <path d=\"M 97.494109 231.898125 \n",
       "L 97.494109 22.318125 \n",
       "\" clip-path=\"url(#p4fce2a4d0b)\" style=\"fill: none; stroke: #cccccc; stroke-linecap: round\"/>\n",
       "     </g>\n",
       "     <g id=\"text_2\">\n",
       "      <!-- 200 -->\n",
       "      <g style=\"fill: #262626\" transform=\"translate(86.995984 249.756406)scale(0.11 -0.11)\">\n",
       "       <defs>\n",
       "        <path id=\"DejaVuSans-32\" d=\"M 1228 531 \n",
       "L 3431 531 \n",
       "L 3431 0 \n",
       "L 469 0 \n",
       "L 469 531 \n",
       "Q 828 903 1448 1529 \n",
       "Q 2069 2156 2228 2338 \n",
       "Q 2531 2678 2651 2914 \n",
       "Q 2772 3150 2772 3378 \n",
       "Q 2772 3750 2511 3984 \n",
       "Q 2250 4219 1831 4219 \n",
       "Q 1534 4219 1204 4116 \n",
       "Q 875 4013 500 3803 \n",
       "L 500 4441 \n",
       "Q 881 4594 1212 4672 \n",
       "Q 1544 4750 1819 4750 \n",
       "Q 2544 4750 2975 4387 \n",
       "Q 3406 4025 3406 3419 \n",
       "Q 3406 3131 3298 2873 \n",
       "Q 3191 2616 2906 2266 \n",
       "Q 2828 2175 2409 1742 \n",
       "Q 1991 1309 1228 531 \n",
       "z\n",
       "\" transform=\"scale(0.015625)\"/>\n",
       "       </defs>\n",
       "       <use xlink:href=\"#DejaVuSans-32\"/>\n",
       "       <use xlink:href=\"#DejaVuSans-30\" x=\"63.623047\"/>\n",
       "       <use xlink:href=\"#DejaVuSans-30\" x=\"127.246094\"/>\n",
       "      </g>\n",
       "     </g>\n",
       "    </g>\n",
       "    <g id=\"xtick_3\">\n",
       "     <g id=\"line2d_3\">\n",
       "      <path d=\"M 140.483225 231.898125 \n",
       "L 140.483225 22.318125 \n",
       "\" clip-path=\"url(#p4fce2a4d0b)\" style=\"fill: none; stroke: #cccccc; stroke-linecap: round\"/>\n",
       "     </g>\n",
       "     <g id=\"text_3\">\n",
       "      <!-- 400 -->\n",
       "      <g style=\"fill: #262626\" transform=\"translate(129.9851 249.756406)scale(0.11 -0.11)\">\n",
       "       <defs>\n",
       "        <path id=\"DejaVuSans-34\" d=\"M 2419 4116 \n",
       "L 825 1625 \n",
       "L 2419 1625 \n",
       "L 2419 4116 \n",
       "z\n",
       "M 2253 4666 \n",
       "L 3047 4666 \n",
       "L 3047 1625 \n",
       "L 3713 1625 \n",
       "L 3713 1100 \n",
       "L 3047 1100 \n",
       "L 3047 0 \n",
       "L 2419 0 \n",
       "L 2419 1100 \n",
       "L 313 1100 \n",
       "L 313 1709 \n",
       "L 2253 4666 \n",
       "z\n",
       "\" transform=\"scale(0.015625)\"/>\n",
       "       </defs>\n",
       "       <use xlink:href=\"#DejaVuSans-34\"/>\n",
       "       <use xlink:href=\"#DejaVuSans-30\" x=\"63.623047\"/>\n",
       "       <use xlink:href=\"#DejaVuSans-30\" x=\"127.246094\"/>\n",
       "      </g>\n",
       "     </g>\n",
       "    </g>\n",
       "    <g id=\"xtick_4\">\n",
       "     <g id=\"line2d_4\">\n",
       "      <path d=\"M 183.47234 231.898125 \n",
       "L 183.47234 22.318125 \n",
       "\" clip-path=\"url(#p4fce2a4d0b)\" style=\"fill: none; stroke: #cccccc; stroke-linecap: round\"/>\n",
       "     </g>\n",
       "     <g id=\"text_4\">\n",
       "      <!-- 600 -->\n",
       "      <g style=\"fill: #262626\" transform=\"translate(172.974215 249.756406)scale(0.11 -0.11)\">\n",
       "       <defs>\n",
       "        <path id=\"DejaVuSans-36\" d=\"M 2113 2584 \n",
       "Q 1688 2584 1439 2293 \n",
       "Q 1191 2003 1191 1497 \n",
       "Q 1191 994 1439 701 \n",
       "Q 1688 409 2113 409 \n",
       "Q 2538 409 2786 701 \n",
       "Q 3034 994 3034 1497 \n",
       "Q 3034 2003 2786 2293 \n",
       "Q 2538 2584 2113 2584 \n",
       "z\n",
       "M 3366 4563 \n",
       "L 3366 3988 \n",
       "Q 3128 4100 2886 4159 \n",
       "Q 2644 4219 2406 4219 \n",
       "Q 1781 4219 1451 3797 \n",
       "Q 1122 3375 1075 2522 \n",
       "Q 1259 2794 1537 2939 \n",
       "Q 1816 3084 2150 3084 \n",
       "Q 2853 3084 3261 2657 \n",
       "Q 3669 2231 3669 1497 \n",
       "Q 3669 778 3244 343 \n",
       "Q 2819 -91 2113 -91 \n",
       "Q 1303 -91 875 529 \n",
       "Q 447 1150 447 2328 \n",
       "Q 447 3434 972 4092 \n",
       "Q 1497 4750 2381 4750 \n",
       "Q 2619 4750 2861 4703 \n",
       "Q 3103 4656 3366 4563 \n",
       "z\n",
       "\" transform=\"scale(0.015625)\"/>\n",
       "       </defs>\n",
       "       <use xlink:href=\"#DejaVuSans-36\"/>\n",
       "       <use xlink:href=\"#DejaVuSans-30\" x=\"63.623047\"/>\n",
       "       <use xlink:href=\"#DejaVuSans-30\" x=\"127.246094\"/>\n",
       "      </g>\n",
       "     </g>\n",
       "    </g>\n",
       "    <g id=\"xtick_5\">\n",
       "     <g id=\"line2d_5\">\n",
       "      <path d=\"M 226.461455 231.898125 \n",
       "L 226.461455 22.318125 \n",
       "\" clip-path=\"url(#p4fce2a4d0b)\" style=\"fill: none; stroke: #cccccc; stroke-linecap: round\"/>\n",
       "     </g>\n",
       "     <g id=\"text_5\">\n",
       "      <!-- 800 -->\n",
       "      <g style=\"fill: #262626\" transform=\"translate(215.96333 249.756406)scale(0.11 -0.11)\">\n",
       "       <defs>\n",
       "        <path id=\"DejaVuSans-38\" d=\"M 2034 2216 \n",
       "Q 1584 2216 1326 1975 \n",
       "Q 1069 1734 1069 1313 \n",
       "Q 1069 891 1326 650 \n",
       "Q 1584 409 2034 409 \n",
       "Q 2484 409 2743 651 \n",
       "Q 3003 894 3003 1313 \n",
       "Q 3003 1734 2745 1975 \n",
       "Q 2488 2216 2034 2216 \n",
       "z\n",
       "M 1403 2484 \n",
       "Q 997 2584 770 2862 \n",
       "Q 544 3141 544 3541 \n",
       "Q 544 4100 942 4425 \n",
       "Q 1341 4750 2034 4750 \n",
       "Q 2731 4750 3128 4425 \n",
       "Q 3525 4100 3525 3541 \n",
       "Q 3525 3141 3298 2862 \n",
       "Q 3072 2584 2669 2484 \n",
       "Q 3125 2378 3379 2068 \n",
       "Q 3634 1759 3634 1313 \n",
       "Q 3634 634 3220 271 \n",
       "Q 2806 -91 2034 -91 \n",
       "Q 1263 -91 848 271 \n",
       "Q 434 634 434 1313 \n",
       "Q 434 1759 690 2068 \n",
       "Q 947 2378 1403 2484 \n",
       "z\n",
       "M 1172 3481 \n",
       "Q 1172 3119 1398 2916 \n",
       "Q 1625 2713 2034 2713 \n",
       "Q 2441 2713 2670 2916 \n",
       "Q 2900 3119 2900 3481 \n",
       "Q 2900 3844 2670 4047 \n",
       "Q 2441 4250 2034 4250 \n",
       "Q 1625 4250 1398 4047 \n",
       "Q 1172 3844 1172 3481 \n",
       "z\n",
       "\" transform=\"scale(0.015625)\"/>\n",
       "       </defs>\n",
       "       <use xlink:href=\"#DejaVuSans-38\"/>\n",
       "       <use xlink:href=\"#DejaVuSans-30\" x=\"63.623047\"/>\n",
       "       <use xlink:href=\"#DejaVuSans-30\" x=\"127.246094\"/>\n",
       "      </g>\n",
       "     </g>\n",
       "    </g>\n",
       "    <g id=\"xtick_6\">\n",
       "     <g id=\"line2d_6\">\n",
       "      <path d=\"M 269.45057 231.898125 \n",
       "L 269.45057 22.318125 \n",
       "\" clip-path=\"url(#p4fce2a4d0b)\" style=\"fill: none; stroke: #cccccc; stroke-linecap: round\"/>\n",
       "     </g>\n",
       "     <g id=\"text_6\">\n",
       "      <!-- 1000 -->\n",
       "      <g style=\"fill: #262626\" transform=\"translate(255.45307 249.756406)scale(0.11 -0.11)\">\n",
       "       <defs>\n",
       "        <path id=\"DejaVuSans-31\" d=\"M 794 531 \n",
       "L 1825 531 \n",
       "L 1825 4091 \n",
       "L 703 3866 \n",
       "L 703 4441 \n",
       "L 1819 4666 \n",
       "L 2450 4666 \n",
       "L 2450 531 \n",
       "L 3481 531 \n",
       "L 3481 0 \n",
       "L 794 0 \n",
       "L 794 531 \n",
       "z\n",
       "\" transform=\"scale(0.015625)\"/>\n",
       "       </defs>\n",
       "       <use xlink:href=\"#DejaVuSans-31\"/>\n",
       "       <use xlink:href=\"#DejaVuSans-30\" x=\"63.623047\"/>\n",
       "       <use xlink:href=\"#DejaVuSans-30\" x=\"127.246094\"/>\n",
       "       <use xlink:href=\"#DejaVuSans-30\" x=\"190.869141\"/>\n",
       "      </g>\n",
       "     </g>\n",
       "    </g>\n",
       "    <g id=\"xtick_7\">\n",
       "     <g id=\"line2d_7\">\n",
       "      <path d=\"M 312.439685 231.898125 \n",
       "L 312.439685 22.318125 \n",
       "\" clip-path=\"url(#p4fce2a4d0b)\" style=\"fill: none; stroke: #cccccc; stroke-linecap: round\"/>\n",
       "     </g>\n",
       "     <g id=\"text_7\">\n",
       "      <!-- 1200 -->\n",
       "      <g style=\"fill: #262626\" transform=\"translate(298.442185 249.756406)scale(0.11 -0.11)\">\n",
       "       <use xlink:href=\"#DejaVuSans-31\"/>\n",
       "       <use xlink:href=\"#DejaVuSans-32\" x=\"63.623047\"/>\n",
       "       <use xlink:href=\"#DejaVuSans-30\" x=\"127.246094\"/>\n",
       "       <use xlink:href=\"#DejaVuSans-30\" x=\"190.869141\"/>\n",
       "      </g>\n",
       "     </g>\n",
       "    </g>\n",
       "    <g id=\"xtick_8\">\n",
       "     <g id=\"line2d_8\">\n",
       "      <path d=\"M 355.428801 231.898125 \n",
       "L 355.428801 22.318125 \n",
       "\" clip-path=\"url(#p4fce2a4d0b)\" style=\"fill: none; stroke: #cccccc; stroke-linecap: round\"/>\n",
       "     </g>\n",
       "     <g id=\"text_8\">\n",
       "      <!-- 1400 -->\n",
       "      <g style=\"fill: #262626\" transform=\"translate(341.431301 249.756406)scale(0.11 -0.11)\">\n",
       "       <use xlink:href=\"#DejaVuSans-31\"/>\n",
       "       <use xlink:href=\"#DejaVuSans-34\" x=\"63.623047\"/>\n",
       "       <use xlink:href=\"#DejaVuSans-30\" x=\"127.246094\"/>\n",
       "       <use xlink:href=\"#DejaVuSans-30\" x=\"190.869141\"/>\n",
       "      </g>\n",
       "     </g>\n",
       "    </g>\n",
       "    <g id=\"xtick_9\">\n",
       "     <g id=\"line2d_9\">\n",
       "      <path d=\"M 398.417916 231.898125 \n",
       "L 398.417916 22.318125 \n",
       "\" clip-path=\"url(#p4fce2a4d0b)\" style=\"fill: none; stroke: #cccccc; stroke-linecap: round\"/>\n",
       "     </g>\n",
       "     <g id=\"text_9\">\n",
       "      <!-- 1600 -->\n",
       "      <g style=\"fill: #262626\" transform=\"translate(384.420416 249.756406)scale(0.11 -0.11)\">\n",
       "       <use xlink:href=\"#DejaVuSans-31\"/>\n",
       "       <use xlink:href=\"#DejaVuSans-36\" x=\"63.623047\"/>\n",
       "       <use xlink:href=\"#DejaVuSans-30\" x=\"127.246094\"/>\n",
       "       <use xlink:href=\"#DejaVuSans-30\" x=\"190.869141\"/>\n",
       "      </g>\n",
       "     </g>\n",
       "    </g>\n",
       "    <g id=\"text_10\">\n",
       "     <!-- timestamp -->\n",
       "     <g style=\"fill: #262626\" transform=\"translate(190.228997 265.162188)scale(0.12 -0.12)\">\n",
       "      <defs>\n",
       "       <path id=\"DejaVuSans-74\" d=\"M 1172 4494 \n",
       "L 1172 3500 \n",
       "L 2356 3500 \n",
       "L 2356 3053 \n",
       "L 1172 3053 \n",
       "L 1172 1153 \n",
       "Q 1172 725 1289 603 \n",
       "Q 1406 481 1766 481 \n",
       "L 2356 481 \n",
       "L 2356 0 \n",
       "L 1766 0 \n",
       "Q 1100 0 847 248 \n",
       "Q 594 497 594 1153 \n",
       "L 594 3053 \n",
       "L 172 3053 \n",
       "L 172 3500 \n",
       "L 594 3500 \n",
       "L 594 4494 \n",
       "L 1172 4494 \n",
       "z\n",
       "\" transform=\"scale(0.015625)\"/>\n",
       "       <path id=\"DejaVuSans-69\" d=\"M 603 3500 \n",
       "L 1178 3500 \n",
       "L 1178 0 \n",
       "L 603 0 \n",
       "L 603 3500 \n",
       "z\n",
       "M 603 4863 \n",
       "L 1178 4863 \n",
       "L 1178 4134 \n",
       "L 603 4134 \n",
       "L 603 4863 \n",
       "z\n",
       "\" transform=\"scale(0.015625)\"/>\n",
       "       <path id=\"DejaVuSans-6d\" d=\"M 3328 2828 \n",
       "Q 3544 3216 3844 3400 \n",
       "Q 4144 3584 4550 3584 \n",
       "Q 5097 3584 5394 3201 \n",
       "Q 5691 2819 5691 2113 \n",
       "L 5691 0 \n",
       "L 5113 0 \n",
       "L 5113 2094 \n",
       "Q 5113 2597 4934 2840 \n",
       "Q 4756 3084 4391 3084 \n",
       "Q 3944 3084 3684 2787 \n",
       "Q 3425 2491 3425 1978 \n",
       "L 3425 0 \n",
       "L 2847 0 \n",
       "L 2847 2094 \n",
       "Q 2847 2600 2669 2842 \n",
       "Q 2491 3084 2119 3084 \n",
       "Q 1678 3084 1418 2786 \n",
       "Q 1159 2488 1159 1978 \n",
       "L 1159 0 \n",
       "L 581 0 \n",
       "L 581 3500 \n",
       "L 1159 3500 \n",
       "L 1159 2956 \n",
       "Q 1356 3278 1631 3431 \n",
       "Q 1906 3584 2284 3584 \n",
       "Q 2666 3584 2933 3390 \n",
       "Q 3200 3197 3328 2828 \n",
       "z\n",
       "\" transform=\"scale(0.015625)\"/>\n",
       "       <path id=\"DejaVuSans-65\" d=\"M 3597 1894 \n",
       "L 3597 1613 \n",
       "L 953 1613 \n",
       "Q 991 1019 1311 708 \n",
       "Q 1631 397 2203 397 \n",
       "Q 2534 397 2845 478 \n",
       "Q 3156 559 3463 722 \n",
       "L 3463 178 \n",
       "Q 3153 47 2828 -22 \n",
       "Q 2503 -91 2169 -91 \n",
       "Q 1331 -91 842 396 \n",
       "Q 353 884 353 1716 \n",
       "Q 353 2575 817 3079 \n",
       "Q 1281 3584 2069 3584 \n",
       "Q 2775 3584 3186 3129 \n",
       "Q 3597 2675 3597 1894 \n",
       "z\n",
       "M 3022 2063 \n",
       "Q 3016 2534 2758 2815 \n",
       "Q 2500 3097 2075 3097 \n",
       "Q 1594 3097 1305 2825 \n",
       "Q 1016 2553 972 2059 \n",
       "L 3022 2063 \n",
       "z\n",
       "\" transform=\"scale(0.015625)\"/>\n",
       "       <path id=\"DejaVuSans-73\" d=\"M 2834 3397 \n",
       "L 2834 2853 \n",
       "Q 2591 2978 2328 3040 \n",
       "Q 2066 3103 1784 3103 \n",
       "Q 1356 3103 1142 2972 \n",
       "Q 928 2841 928 2578 \n",
       "Q 928 2378 1081 2264 \n",
       "Q 1234 2150 1697 2047 \n",
       "L 1894 2003 \n",
       "Q 2506 1872 2764 1633 \n",
       "Q 3022 1394 3022 966 \n",
       "Q 3022 478 2636 193 \n",
       "Q 2250 -91 1575 -91 \n",
       "Q 1294 -91 989 -36 \n",
       "Q 684 19 347 128 \n",
       "L 347 722 \n",
       "Q 666 556 975 473 \n",
       "Q 1284 391 1588 391 \n",
       "Q 1994 391 2212 530 \n",
       "Q 2431 669 2431 922 \n",
       "Q 2431 1156 2273 1281 \n",
       "Q 2116 1406 1581 1522 \n",
       "L 1381 1569 \n",
       "Q 847 1681 609 1914 \n",
       "Q 372 2147 372 2553 \n",
       "Q 372 3047 722 3315 \n",
       "Q 1072 3584 1716 3584 \n",
       "Q 2034 3584 2315 3537 \n",
       "Q 2597 3491 2834 3397 \n",
       "z\n",
       "\" transform=\"scale(0.015625)\"/>\n",
       "       <path id=\"DejaVuSans-61\" d=\"M 2194 1759 \n",
       "Q 1497 1759 1228 1600 \n",
       "Q 959 1441 959 1056 \n",
       "Q 959 750 1161 570 \n",
       "Q 1363 391 1709 391 \n",
       "Q 2188 391 2477 730 \n",
       "Q 2766 1069 2766 1631 \n",
       "L 2766 1759 \n",
       "L 2194 1759 \n",
       "z\n",
       "M 3341 1997 \n",
       "L 3341 0 \n",
       "L 2766 0 \n",
       "L 2766 531 \n",
       "Q 2569 213 2275 61 \n",
       "Q 1981 -91 1556 -91 \n",
       "Q 1019 -91 701 211 \n",
       "Q 384 513 384 1019 \n",
       "Q 384 1609 779 1909 \n",
       "Q 1175 2209 1959 2209 \n",
       "L 2766 2209 \n",
       "L 2766 2266 \n",
       "Q 2766 2663 2505 2880 \n",
       "Q 2244 3097 1772 3097 \n",
       "Q 1472 3097 1187 3025 \n",
       "Q 903 2953 641 2809 \n",
       "L 641 3341 \n",
       "Q 956 3463 1253 3523 \n",
       "Q 1550 3584 1831 3584 \n",
       "Q 2591 3584 2966 3190 \n",
       "Q 3341 2797 3341 1997 \n",
       "z\n",
       "\" transform=\"scale(0.015625)\"/>\n",
       "       <path id=\"DejaVuSans-70\" d=\"M 1159 525 \n",
       "L 1159 -1331 \n",
       "L 581 -1331 \n",
       "L 581 3500 \n",
       "L 1159 3500 \n",
       "L 1159 2969 \n",
       "Q 1341 3281 1617 3432 \n",
       "Q 1894 3584 2278 3584 \n",
       "Q 2916 3584 3314 3078 \n",
       "Q 3713 2572 3713 1747 \n",
       "Q 3713 922 3314 415 \n",
       "Q 2916 -91 2278 -91 \n",
       "Q 1894 -91 1617 61 \n",
       "Q 1341 213 1159 525 \n",
       "z\n",
       "M 3116 1747 \n",
       "Q 3116 2381 2855 2742 \n",
       "Q 2594 3103 2138 3103 \n",
       "Q 1681 3103 1420 2742 \n",
       "Q 1159 2381 1159 1747 \n",
       "Q 1159 1113 1420 752 \n",
       "Q 1681 391 2138 391 \n",
       "Q 2594 391 2855 752 \n",
       "Q 3116 1113 3116 1747 \n",
       "z\n",
       "\" transform=\"scale(0.015625)\"/>\n",
       "      </defs>\n",
       "      <use xlink:href=\"#DejaVuSans-74\"/>\n",
       "      <use xlink:href=\"#DejaVuSans-69\" x=\"39.208984\"/>\n",
       "      <use xlink:href=\"#DejaVuSans-6d\" x=\"66.992188\"/>\n",
       "      <use xlink:href=\"#DejaVuSans-65\" x=\"164.404297\"/>\n",
       "      <use xlink:href=\"#DejaVuSans-73\" x=\"225.927734\"/>\n",
       "      <use xlink:href=\"#DejaVuSans-74\" x=\"278.027344\"/>\n",
       "      <use xlink:href=\"#DejaVuSans-61\" x=\"317.236328\"/>\n",
       "      <use xlink:href=\"#DejaVuSans-6d\" x=\"378.515625\"/>\n",
       "      <use xlink:href=\"#DejaVuSans-70\" x=\"475.927734\"/>\n",
       "     </g>\n",
       "    </g>\n",
       "   </g>\n",
       "   <g id=\"matplotlib.axis_2\">\n",
       "    <g id=\"ytick_1\">\n",
       "     <g id=\"line2d_10\">\n",
       "      <path d=\"M 37.69625 225.991016 \n",
       "L 407.488619 225.991016 \n",
       "\" clip-path=\"url(#p4fce2a4d0b)\" style=\"fill: none; stroke: #cccccc; stroke-linecap: round\"/>\n",
       "     </g>\n",
       "     <g id=\"text_11\">\n",
       "      <!-- 50 -->\n",
       "      <g style=\"fill: #262626\" transform=\"translate(14.19875 230.170157)scale(0.11 -0.11)\">\n",
       "       <defs>\n",
       "        <path id=\"DejaVuSans-35\" d=\"M 691 4666 \n",
       "L 3169 4666 \n",
       "L 3169 4134 \n",
       "L 1269 4134 \n",
       "L 1269 2991 \n",
       "Q 1406 3038 1543 3061 \n",
       "Q 1681 3084 1819 3084 \n",
       "Q 2600 3084 3056 2656 \n",
       "Q 3513 2228 3513 1497 \n",
       "Q 3513 744 3044 326 \n",
       "Q 2575 -91 1722 -91 \n",
       "Q 1428 -91 1123 -41 \n",
       "Q 819 9 494 109 \n",
       "L 494 744 \n",
       "Q 775 591 1075 516 \n",
       "Q 1375 441 1709 441 \n",
       "Q 2250 441 2565 725 \n",
       "Q 2881 1009 2881 1497 \n",
       "Q 2881 1984 2565 2268 \n",
       "Q 2250 2553 1709 2553 \n",
       "Q 1456 2553 1204 2497 \n",
       "Q 953 2441 691 2322 \n",
       "L 691 4666 \n",
       "z\n",
       "\" transform=\"scale(0.015625)\"/>\n",
       "       </defs>\n",
       "       <use xlink:href=\"#DejaVuSans-35\"/>\n",
       "       <use xlink:href=\"#DejaVuSans-30\" x=\"63.623047\"/>\n",
       "      </g>\n",
       "     </g>\n",
       "    </g>\n",
       "    <g id=\"ytick_2\">\n",
       "     <g id=\"line2d_11\">\n",
       "      <path d=\"M 37.69625 187.662956 \n",
       "L 407.488619 187.662956 \n",
       "\" clip-path=\"url(#p4fce2a4d0b)\" style=\"fill: none; stroke: #cccccc; stroke-linecap: round\"/>\n",
       "     </g>\n",
       "     <g id=\"text_12\">\n",
       "      <!-- 100 -->\n",
       "      <g style=\"fill: #262626\" transform=\"translate(7.2 191.842097)scale(0.11 -0.11)\">\n",
       "       <use xlink:href=\"#DejaVuSans-31\"/>\n",
       "       <use xlink:href=\"#DejaVuSans-30\" x=\"63.623047\"/>\n",
       "       <use xlink:href=\"#DejaVuSans-30\" x=\"127.246094\"/>\n",
       "      </g>\n",
       "     </g>\n",
       "    </g>\n",
       "    <g id=\"ytick_3\">\n",
       "     <g id=\"line2d_12\">\n",
       "      <path d=\"M 37.69625 149.334897 \n",
       "L 407.488619 149.334897 \n",
       "\" clip-path=\"url(#p4fce2a4d0b)\" style=\"fill: none; stroke: #cccccc; stroke-linecap: round\"/>\n",
       "     </g>\n",
       "     <g id=\"text_13\">\n",
       "      <!-- 150 -->\n",
       "      <g style=\"fill: #262626\" transform=\"translate(7.2 153.514037)scale(0.11 -0.11)\">\n",
       "       <use xlink:href=\"#DejaVuSans-31\"/>\n",
       "       <use xlink:href=\"#DejaVuSans-35\" x=\"63.623047\"/>\n",
       "       <use xlink:href=\"#DejaVuSans-30\" x=\"127.246094\"/>\n",
       "      </g>\n",
       "     </g>\n",
       "    </g>\n",
       "    <g id=\"ytick_4\">\n",
       "     <g id=\"line2d_13\">\n",
       "      <path d=\"M 37.69625 111.006837 \n",
       "L 407.488619 111.006837 \n",
       "\" clip-path=\"url(#p4fce2a4d0b)\" style=\"fill: none; stroke: #cccccc; stroke-linecap: round\"/>\n",
       "     </g>\n",
       "     <g id=\"text_14\">\n",
       "      <!-- 200 -->\n",
       "      <g style=\"fill: #262626\" transform=\"translate(7.2 115.185977)scale(0.11 -0.11)\">\n",
       "       <use xlink:href=\"#DejaVuSans-32\"/>\n",
       "       <use xlink:href=\"#DejaVuSans-30\" x=\"63.623047\"/>\n",
       "       <use xlink:href=\"#DejaVuSans-30\" x=\"127.246094\"/>\n",
       "      </g>\n",
       "     </g>\n",
       "    </g>\n",
       "    <g id=\"ytick_5\">\n",
       "     <g id=\"line2d_14\">\n",
       "      <path d=\"M 37.69625 72.678777 \n",
       "L 407.488619 72.678777 \n",
       "\" clip-path=\"url(#p4fce2a4d0b)\" style=\"fill: none; stroke: #cccccc; stroke-linecap: round\"/>\n",
       "     </g>\n",
       "     <g id=\"text_15\">\n",
       "      <!-- 250 -->\n",
       "      <g style=\"fill: #262626\" transform=\"translate(7.2 76.857918)scale(0.11 -0.11)\">\n",
       "       <use xlink:href=\"#DejaVuSans-32\"/>\n",
       "       <use xlink:href=\"#DejaVuSans-35\" x=\"63.623047\"/>\n",
       "       <use xlink:href=\"#DejaVuSans-30\" x=\"127.246094\"/>\n",
       "      </g>\n",
       "     </g>\n",
       "    </g>\n",
       "    <g id=\"ytick_6\">\n",
       "     <g id=\"line2d_15\">\n",
       "      <path d=\"M 37.69625 34.350717 \n",
       "L 407.488619 34.350717 \n",
       "\" clip-path=\"url(#p4fce2a4d0b)\" style=\"fill: none; stroke: #cccccc; stroke-linecap: round\"/>\n",
       "     </g>\n",
       "     <g id=\"text_16\">\n",
       "      <!-- 300 -->\n",
       "      <g style=\"fill: #262626\" transform=\"translate(7.2 38.529858)scale(0.11 -0.11)\">\n",
       "       <defs>\n",
       "        <path id=\"DejaVuSans-33\" d=\"M 2597 2516 \n",
       "Q 3050 2419 3304 2112 \n",
       "Q 3559 1806 3559 1356 \n",
       "Q 3559 666 3084 287 \n",
       "Q 2609 -91 1734 -91 \n",
       "Q 1441 -91 1130 -33 \n",
       "Q 819 25 488 141 \n",
       "L 488 750 \n",
       "Q 750 597 1062 519 \n",
       "Q 1375 441 1716 441 \n",
       "Q 2309 441 2620 675 \n",
       "Q 2931 909 2931 1356 \n",
       "Q 2931 1769 2642 2001 \n",
       "Q 2353 2234 1838 2234 \n",
       "L 1294 2234 \n",
       "L 1294 2753 \n",
       "L 1863 2753 \n",
       "Q 2328 2753 2575 2939 \n",
       "Q 2822 3125 2822 3475 \n",
       "Q 2822 3834 2567 4026 \n",
       "Q 2313 4219 1838 4219 \n",
       "Q 1578 4219 1281 4162 \n",
       "Q 984 4106 628 3988 \n",
       "L 628 4550 \n",
       "Q 988 4650 1302 4700 \n",
       "Q 1616 4750 1894 4750 \n",
       "Q 2613 4750 3031 4423 \n",
       "Q 3450 4097 3450 3541 \n",
       "Q 3450 3153 3228 2886 \n",
       "Q 3006 2619 2597 2516 \n",
       "z\n",
       "\" transform=\"scale(0.015625)\"/>\n",
       "       </defs>\n",
       "       <use xlink:href=\"#DejaVuSans-33\"/>\n",
       "       <use xlink:href=\"#DejaVuSans-30\" x=\"63.623047\"/>\n",
       "       <use xlink:href=\"#DejaVuSans-30\" x=\"127.246094\"/>\n",
       "      </g>\n",
       "     </g>\n",
       "    </g>\n",
       "   </g>\n",
       "   <g id=\"line2d_16\">\n",
       "    <path d=\"M 54.504994 31.844489 \n",
       "L 54.71994 34.958598 \n",
       "L 54.934885 178.681477 \n",
       "L 55.364776 167.369782 \n",
       "L 56.439504 193.697103 \n",
       "L 56.65445 172.613889 \n",
       "L 56.869395 165.590358 \n",
       "L 57.084341 169.276158 \n",
       "L 57.299287 179.953723 \n",
       "L 57.514232 176.279678 \n",
       "L 57.729178 188.605944 \n",
       "L 58.159069 180.832002 \n",
       "L 58.58896 175.687833 \n",
       "L 59.018851 174.352383 \n",
       "L 59.233797 176.892234 \n",
       "L 59.448742 165.533061 \n",
       "L 59.663688 188.648639 \n",
       "L 59.878633 195.530968 \n",
       "L 60.093579 190.949372 \n",
       "L 60.52347 192.733388 \n",
       "L 60.953361 171.990666 \n",
       "L 61.383252 176.113352 \n",
       "L 61.598198 158.789311 \n",
       "L 61.813144 168.992016 \n",
       "L 62.028089 160.474555 \n",
       "L 62.243035 161.511337 \n",
       "L 62.45798 157.114529 \n",
       "L 62.887872 150.948787 \n",
       "L 63.317763 154.31316 \n",
       "L 63.747654 158.665999 \n",
       "L 63.962599 158.862864 \n",
       "L 64.177545 155.289209 \n",
       "L 64.392491 148.72767 \n",
       "L 64.607436 150.505548 \n",
       "L 65.037327 158.974539 \n",
       "L 65.252273 154.7823 \n",
       "L 65.682164 153.584077 \n",
       "L 66.112055 160.919101 \n",
       "L 66.327001 157.132487 \n",
       "L 66.756892 170.760678 \n",
       "L 66.971837 162.126196 \n",
       "L 67.186783 161.371218 \n",
       "L 67.401729 165.475782 \n",
       "L 67.616674 150.383537 \n",
       "L 68.476457 172.573185 \n",
       "L 68.691402 185.776171 \n",
       "L 68.906348 183.076972 \n",
       "L 69.121293 178.743755 \n",
       "L 69.336239 170.523077 \n",
       "L 69.551184 175.640551 \n",
       "L 69.981076 174.415244 \n",
       "L 70.410967 181.369895 \n",
       "L 70.840858 185.711052 \n",
       "L 71.270749 184.819996 \n",
       "L 71.70064 184.364385 \n",
       "L 72.130531 176.954272 \n",
       "L 72.560422 162.765003 \n",
       "L 72.775368 165.284543 \n",
       "L 73.205259 153.536189 \n",
       "L 73.63515 157.821317 \n",
       "L 73.850096 153.569963 \n",
       "L 74.065041 155.386469 \n",
       "L 74.279987 155.111052 \n",
       "L 74.494933 154.060402 \n",
       "L 74.924824 155.898075 \n",
       "L 75.354715 148.878416 \n",
       "L 75.569661 151.880246 \n",
       "L 75.784606 142.013234 \n",
       "L 75.999552 149.230151 \n",
       "L 76.429443 143.841679 \n",
       "L 77.289225 114.347416 \n",
       "L 77.934062 138.54145 \n",
       "L 78.363953 150.81043 \n",
       "L 78.578899 153.786533 \n",
       "L 78.793844 158.419207 \n",
       "L 79.223735 157.1602 \n",
       "L 79.868572 159.548444 \n",
       "L 80.298463 171.924053 \n",
       "L 80.513409 163.492961 \n",
       "L 80.728354 160.197072 \n",
       "L 81.158245 172.765555 \n",
       "L 82.018028 170.32819 \n",
       "L 82.232973 174.065281 \n",
       "L 82.662865 176.471675 \n",
       "L 82.87781 180.52857 \n",
       "L 83.092756 189.315084 \n",
       "L 83.522647 185.11045 \n",
       "L 83.952538 182.635026 \n",
       "L 84.167484 178.023285 \n",
       "L 84.382429 181.340145 \n",
       "L 84.597375 182.650255 \n",
       "L 84.81232 186.838943 \n",
       "L 85.027266 184.114423 \n",
       "L 85.457157 182.192598 \n",
       "L 85.887048 186.937402 \n",
       "L 86.101994 186.399191 \n",
       "L 86.531885 177.531871 \n",
       "L 86.961776 189.965904 \n",
       "L 87.391667 190.493391 \n",
       "L 87.606613 193.303109 \n",
       "L 87.821558 192.243997 \n",
       "L 88.036504 199.157557 \n",
       "L 88.25145 199.74343 \n",
       "L 88.466395 195.888009 \n",
       "L 88.896286 195.063038 \n",
       "L 89.326177 190.405242 \n",
       "L 89.541123 195.662022 \n",
       "L 89.756069 191.670654 \n",
       "L 89.971014 189.980068 \n",
       "L 90.18596 190.334995 \n",
       "L 90.400905 194.257103 \n",
       "L 90.830796 192.455077 \n",
       "L 91.045742 186.168476 \n",
       "L 91.260688 187.075346 \n",
       "L 91.475633 187.076555 \n",
       "L 91.690579 185.150273 \n",
       "L 91.905524 188.352411 \n",
       "L 92.335415 186.803192 \n",
       "L 92.765307 183.451942 \n",
       "L 93.195198 185.612833 \n",
       "L 93.840034 187.656165 \n",
       "L 94.269926 189.564682 \n",
       "L 94.484871 189.666796 \n",
       "L 94.699817 193.643803 \n",
       "L 94.914762 186.99199 \n",
       "L 95.129708 173.794695 \n",
       "L 95.344654 171.386516 \n",
       "L 95.774545 173.02415 \n",
       "L 95.98949 167.219924 \n",
       "L 96.419381 191.563119 \n",
       "L 96.634327 179.561134 \n",
       "L 96.849273 185.701566 \n",
       "L 97.279164 187.025443 \n",
       "L 97.494109 174.540714 \n",
       "L 97.709055 184.79628 \n",
       "L 97.924 185.438262 \n",
       "L 98.138946 178.516944 \n",
       "L 98.353892 189.036179 \n",
       "L 98.783783 190.564772 \n",
       "L 98.998728 187.420511 \n",
       "L 99.428619 197.102001 \n",
       "L 99.643565 193.462671 \n",
       "L 99.858511 186.451478 \n",
       "L 100.288402 186.254744 \n",
       "L 100.503347 184.566427 \n",
       "L 100.718293 184.48125 \n",
       "L 100.933239 180.052661 \n",
       "L 101.148184 188.615692 \n",
       "L 101.793021 185.368325 \n",
       "L 102.007966 184.311544 \n",
       "L 102.222912 175.795093 \n",
       "L 102.437858 188.174652 \n",
       "L 102.652803 186.391692 \n",
       "L 102.867749 190.894471 \n",
       "L 103.29764 189.301095 \n",
       "L 103.727531 196.168368 \n",
       "L 104.372368 188.218713 \n",
       "L 105.017204 189.451333 \n",
       "L 105.23215 184.473048 \n",
       "L 105.447096 183.254608 \n",
       "L 106.306878 185.264746 \n",
       "L 106.736769 177.418303 \n",
       "L 106.951715 184.709157 \n",
       "L 107.381606 184.788131 \n",
       "L 107.596551 184.362907 \n",
       "L 107.811497 181.828566 \n",
       "L 108.026443 191.805652 \n",
       "L 108.241388 192.857714 \n",
       "L 108.456334 189.561629 \n",
       "L 108.886225 179.862027 \n",
       "L 109.10117 180.988728 \n",
       "L 109.316116 189.324006 \n",
       "L 109.531062 187.90994 \n",
       "L 109.960953 184.298276 \n",
       "L 110.390844 195.232812 \n",
       "L 110.820735 180.268126 \n",
       "L 111.035681 178.240219 \n",
       "L 111.465572 184.243578 \n",
       "L 111.680517 181.850619 \n",
       "L 111.895463 183.430093 \n",
       "L 112.110408 186.798562 \n",
       "L 112.325354 187.132505 \n",
       "L 112.5403 192.850784 \n",
       "L 112.970191 184.465277 \n",
       "L 113.185136 176.105181 \n",
       "L 113.400082 180.903741 \n",
       "L 113.615027 176.498355 \n",
       "L 114.044919 178.011527 \n",
       "L 114.47481 170.053841 \n",
       "L 114.904701 175.5694 \n",
       "L 115.119647 184.428185 \n",
       "L 116.194374 174.610131 \n",
       "L 116.40932 181.089113 \n",
       "L 116.624266 179.730602 \n",
       "L 116.839211 176.015551 \n",
       "L 117.269102 183.481654 \n",
       "L 117.698993 185.450375 \n",
       "L 117.913939 188.203214 \n",
       "L 118.128885 189.428704 \n",
       "L 118.558776 189.813242 \n",
       "L 118.773721 189.46156 \n",
       "L 119.203612 191.343924 \n",
       "L 119.418558 188.620598 \n",
       "L 119.633504 189.028121 \n",
       "L 119.848449 186.058157 \n",
       "L 120.063395 188.327372 \n",
       "L 120.27834 184.187209 \n",
       "L 120.708232 188.448934 \n",
       "L 120.923177 196.552907 \n",
       "L 121.138123 188.340759 \n",
       "L 121.353068 193.367289 \n",
       "L 121.568014 193.575529 \n",
       "L 121.782959 192.021264 \n",
       "L 121.997905 196.224739 \n",
       "L 122.212851 196.541465 \n",
       "L 122.642742 191.401152 \n",
       "L 122.857687 181.48305 \n",
       "L 123.072633 190.484032 \n",
       "L 123.287578 188.434168 \n",
       "L 123.71747 177.556513 \n",
       "L 123.932415 161.259663 \n",
       "L 124.147361 164.97029 \n",
       "L 124.577252 190.398543 \n",
       "L 124.792197 192.41714 \n",
       "L 125.007143 199.799221 \n",
       "L 125.222089 194.937214 \n",
       "L 125.437034 193.915539 \n",
       "L 125.866925 202.571868 \n",
       "L 126.296816 199.313659 \n",
       "L 126.726708 187.664366 \n",
       "L 126.941653 178.930215 \n",
       "L 127.371544 180.188406 \n",
       "L 127.58649 188.392874 \n",
       "L 127.801436 183.685878 \n",
       "L 128.016381 176.262058 \n",
       "L 128.446272 169.071121 \n",
       "L 128.661218 162.843683 \n",
       "L 128.876163 171.992212 \n",
       "L 129.306055 163.211119 \n",
       "L 129.950891 176.71122 \n",
       "L 130.165837 177.331959 \n",
       "L 130.380782 181.709975 \n",
       "L 130.595728 180.320928 \n",
       "L 131.025619 160.178604 \n",
       "L 131.240565 168.521843 \n",
       "L 131.45551 171.377374 \n",
       "L 131.670456 169.46786 \n",
       "L 132.315293 177.963846 \n",
       "L 132.530238 175.954623 \n",
       "L 132.745184 175.504924 \n",
       "L 133.390021 171.763348 \n",
       "L 133.604966 177.659835 \n",
       "L 133.819912 180.059281 \n",
       "L 134.249803 191.480863 \n",
       "L 134.464748 192.236855 \n",
       "L 134.679694 193.665835 \n",
       "L 134.89464 199.10191 \n",
       "L 135.324531 204.93693 \n",
       "L 135.539476 206.260488 \n",
       "L 135.754422 206.650076 \n",
       "L 135.969367 207.686099 \n",
       "L 136.399259 203.934949 \n",
       "L 136.614204 203.728635 \n",
       "L 136.82915 202.171296 \n",
       "L 137.044095 203.427027 \n",
       "L 137.473986 203.678295 \n",
       "L 137.903878 196.728601 \n",
       "L 138.118823 200.825775 \n",
       "L 138.548714 204.613297 \n",
       "L 138.76366 204.203047 \n",
       "L 138.978605 200.40444 \n",
       "L 139.193551 202.181469 \n",
       "L 139.623442 207.027181 \n",
       "L 139.838388 206.25251 \n",
       "L 140.053333 206.07946 \n",
       "L 140.268279 204.722664 \n",
       "L 140.69817 197.923476 \n",
       "L 141.128061 177.942861 \n",
       "L 141.343007 188.61199 \n",
       "L 141.987844 197.63414 \n",
       "L 142.417735 197.47039 \n",
       "L 142.847626 208.764822 \n",
       "L 143.062571 206.636785 \n",
       "L 143.492463 206.51225 \n",
       "L 144.137299 196.908729 \n",
       "L 144.56719 202.021887 \n",
       "L 144.782136 198.256498 \n",
       "L 144.997082 181.061535 \n",
       "L 145.212027 189.925851 \n",
       "L 145.641918 187.173508 \n",
       "L 146.071809 188.281387 \n",
       "L 146.286755 191.922907 \n",
       "L 146.931592 187.077012 \n",
       "L 147.146537 191.250511 \n",
       "L 147.576429 179.081595 \n",
       "L 147.791374 185.365464 \n",
       "L 148.00632 178.569034 \n",
       "L 148.436211 181.969711 \n",
       "L 148.866102 191.579144 \n",
       "L 149.081048 186.676376 \n",
       "L 149.295993 177.816813 \n",
       "L 149.510939 180.073548 \n",
       "L 149.725884 192.178635 \n",
       "L 150.155775 187.833018 \n",
       "L 150.370721 192.038727 \n",
       "L 150.585667 187.058747 \n",
       "L 150.800612 189.382894 \n",
       "L 151.230503 186.630488 \n",
       "L 151.445449 191.862429 \n",
       "L 151.660394 192.381396 \n",
       "L 151.87534 183.501377 \n",
       "L 152.090286 186.392478 \n",
       "L 152.305231 193.702164 \n",
       "L 152.520177 183.30747 \n",
       "L 152.950068 182.101255 \n",
       "L 153.165014 182.340132 \n",
       "L 153.379959 186.285898 \n",
       "L 153.594905 179.564677 \n",
       "L 153.80985 182.098641 \n",
       "L 154.024796 177.490102 \n",
       "L 154.239741 177.309863 \n",
       "L 154.884578 182.822547 \n",
       "L 155.099524 180.702983 \n",
       "L 155.529415 188.014527 \n",
       "L 155.74436 187.60236 \n",
       "L 155.959306 189.634244 \n",
       "L 156.604143 191.900916 \n",
       "L 156.819088 185.581975 \n",
       "L 157.248979 201.773554 \n",
       "L 157.463925 205.487788 \n",
       "L 157.678871 197.857865 \n",
       "L 157.893816 195.527802 \n",
       "L 158.323707 203.812133 \n",
       "L 158.753598 201.489733 \n",
       "L 158.968544 201.036149 \n",
       "L 159.18349 201.919077 \n",
       "L 159.613381 204.993994 \n",
       "L 159.828326 209.741391 \n",
       "L 160.043272 205.67396 \n",
       "L 160.473163 205.255049 \n",
       "L 160.688109 205.499647 \n",
       "L 160.903054 206.987448 \n",
       "L 161.118 206.280655 \n",
       "L 161.332945 198.515873 \n",
       "L 161.547891 197.592834 \n",
       "L 161.762837 192.868898 \n",
       "L 162.192728 192.189755 \n",
       "L 162.407673 189.506506 \n",
       "L 162.837564 186.494003 \n",
       "L 163.05251 186.031223 \n",
       "L 163.267456 184.879578 \n",
       "L 163.482401 188.39099 \n",
       "L 163.697347 181.107051 \n",
       "L 163.912292 178.014667 \n",
       "L 164.127238 176.728804 \n",
       "L 164.342183 172.445048 \n",
       "L 164.772075 180.910437 \n",
       "L 165.201966 196.970887 \n",
       "L 165.631857 186.684958 \n",
       "L 165.846803 187.632729 \n",
       "L 166.061748 184.187374 \n",
       "L 166.276694 185.851795 \n",
       "L 166.491639 183.602483 \n",
       "L 166.706585 176.673814 \n",
       "L 166.92153 177.932299 \n",
       "L 167.136476 176.222741 \n",
       "L 167.566367 186.563953 \n",
       "L 168.426149 179.564523 \n",
       "L 168.641095 181.785386 \n",
       "L 168.856041 189.194783 \n",
       "L 169.070986 189.411758 \n",
       "L 169.285932 192.673429 \n",
       "L 170.145714 185.723686 \n",
       "L 170.575605 186.057186 \n",
       "L 171.220442 189.309057 \n",
       "L 171.435387 187.902212 \n",
       "L 171.650333 183.404692 \n",
       "L 172.080224 195.346552 \n",
       "L 172.29517 195.367376 \n",
       "L 172.725061 198.977991 \n",
       "L 172.940007 194.93086 \n",
       "L 173.154952 201.52944 \n",
       "L 173.369898 199.855735 \n",
       "L 173.584843 203.019731 \n",
       "L 173.799789 199.504319 \n",
       "L 174.444626 205.519623 \n",
       "L 174.874517 199.226339 \n",
       "L 175.089462 202.147655 \n",
       "L 175.304408 202.434538 \n",
       "L 175.519353 205.479356 \n",
       "L 175.734299 206.607715 \n",
       "L 176.379136 191.130704 \n",
       "L 176.594081 193.213318 \n",
       "L 176.809027 199.149199 \n",
       "L 177.023972 194.972451 \n",
       "L 177.238918 194.651717 \n",
       "L 177.453864 197.305304 \n",
       "L 177.883755 192.463847 \n",
       "L 178.0987 194.518716 \n",
       "L 178.313646 185.780795 \n",
       "L 178.528591 185.356739 \n",
       "L 178.743537 194.465341 \n",
       "L 178.958483 197.650886 \n",
       "L 179.603319 183.640871 \n",
       "L 179.818265 199.871812 \n",
       "L 180.248156 190.58096 \n",
       "L 180.463102 196.166655 \n",
       "L 180.678047 197.30602 \n",
       "L 181.107938 204.246209 \n",
       "L 181.322884 206.48582 \n",
       "L 181.53783 204.551653 \n",
       "L 181.752775 200.427613 \n",
       "L 181.967721 199.440511 \n",
       "L 182.182666 194.095655 \n",
       "L 182.397612 194.501804 \n",
       "L 183.042449 187.790089 \n",
       "L 183.257394 191.129843 \n",
       "L 183.47234 186.408616 \n",
       "L 183.687285 185.186471 \n",
       "L 183.902231 187.301523 \n",
       "L 184.332122 181.773337 \n",
       "L 184.547068 171.890786 \n",
       "L 184.976959 183.608873 \n",
       "L 185.40685 175.920475 \n",
       "L 185.621796 175.789479 \n",
       "L 185.836741 180.273961 \n",
       "L 186.051687 175.249475 \n",
       "L 186.266632 176.851708 \n",
       "L 186.481578 177.132138 \n",
       "L 186.696523 173.102909 \n",
       "L 187.126415 178.533717 \n",
       "L 187.34136 183.399506 \n",
       "L 187.556306 176.453728 \n",
       "L 187.771251 180.114778 \n",
       "L 187.986197 176.180341 \n",
       "L 188.201142 174.310005 \n",
       "L 188.416088 175.565674 \n",
       "L 188.631034 175.451554 \n",
       "L 188.845979 177.513856 \n",
       "L 189.060925 171.207202 \n",
       "L 189.27587 172.347224 \n",
       "L 189.705761 186.113928 \n",
       "L 189.920707 182.647791 \n",
       "L 190.135653 188.907113 \n",
       "L 190.350598 190.420893 \n",
       "L 190.565544 190.98176 \n",
       "L 190.780489 190.191809 \n",
       "L 190.995435 191.84886 \n",
       "L 191.425326 202.692975 \n",
       "L 191.640272 198.350321 \n",
       "L 191.855217 183.789299 \n",
       "L 192.070163 196.861919 \n",
       "L 192.500054 184.590441 \n",
       "L 192.715 188.434432 \n",
       "L 192.929945 189.234614 \n",
       "L 193.144891 193.85918 \n",
       "L 193.359836 194.795852 \n",
       "L 193.574782 198.90338 \n",
       "L 194.219619 204.865479 \n",
       "L 194.434564 204.576516 \n",
       "L 194.64951 202.241636 \n",
       "L 194.864455 201.307922 \n",
       "L 195.079401 208.244358 \n",
       "L 195.509292 189.451674 \n",
       "L 195.724238 186.249825 \n",
       "L 195.939183 187.413029 \n",
       "L 196.154129 199.400317 \n",
       "L 196.369074 197.350067 \n",
       "L 196.58402 196.83345 \n",
       "L 196.798965 199.49578 \n",
       "L 197.013911 204.224631 \n",
       "L 197.658748 199.213164 \n",
       "L 198.088639 197.160107 \n",
       "L 198.303585 195.215536 \n",
       "L 198.51853 196.490778 \n",
       "L 198.733476 201.971307 \n",
       "L 198.948421 197.174714 \n",
       "L 199.163367 196.169193 \n",
       "L 199.378312 199.517637 \n",
       "L 199.593258 198.728589 \n",
       "L 199.808204 201.957001 \n",
       "L 200.023149 200.826999 \n",
       "L 200.238095 198.266969 \n",
       "L 200.45304 197.222364 \n",
       "L 200.667986 191.360071 \n",
       "L 200.882931 198.486004 \n",
       "L 201.312823 197.380388 \n",
       "L 201.527768 194.092077 \n",
       "L 201.742714 197.888158 \n",
       "L 201.957659 197.205136 \n",
       "L 202.172605 198.070609 \n",
       "L 202.38755 198.453592 \n",
       "L 202.602496 198.471756 \n",
       "L 202.817442 192.441989 \n",
       "L 203.032387 197.342556 \n",
       "L 203.247333 195.972225 \n",
       "L 203.462278 199.069658 \n",
       "L 203.677224 192.293609 \n",
       "L 203.892169 192.316165 \n",
       "L 204.537006 184.423987 \n",
       "L 204.966897 193.605825 \n",
       "L 205.611734 201.270413 \n",
       "L 205.82668 201.952954 \n",
       "L 206.041625 206.433614 \n",
       "L 206.256571 204.132087 \n",
       "L 206.471516 206.578957 \n",
       "L 206.686462 199.348664 \n",
       "L 206.901408 200.692547 \n",
       "L 207.116353 198.982793 \n",
       "L 207.331299 199.103282 \n",
       "L 207.546244 192.054903 \n",
       "L 207.76119 196.230224 \n",
       "L 207.976135 196.75294 \n",
       "L 208.191081 194.316415 \n",
       "L 208.620972 194.934951 \n",
       "L 208.835918 190.123128 \n",
       "L 209.265809 206.712891 \n",
       "L 209.480754 207.380911 \n",
       "L 209.6957 211.424574 \n",
       "L 210.125591 198.42477 \n",
       "L 210.340537 205.395133 \n",
       "L 210.555482 202.132805 \n",
       "L 210.770428 205.019758 \n",
       "L 210.985373 209.823593 \n",
       "L 211.200319 205.805857 \n",
       "L 211.415265 205.520673 \n",
       "L 211.845156 207.504073 \n",
       "L 212.060101 204.353016 \n",
       "L 212.275047 208.791796 \n",
       "L 212.489993 208.529122 \n",
       "L 212.704938 205.980265 \n",
       "L 212.919884 212.804719 \n",
       "L 213.134829 207.836094 \n",
       "L 213.349775 205.589421 \n",
       "L 213.56472 205.376534 \n",
       "L 213.779666 201.511197 \n",
       "L 213.994612 194.652364 \n",
       "L 214.424503 205.302478 \n",
       "L 214.854394 200.984438 \n",
       "L 215.069339 199.924094 \n",
       "L 215.499231 205.325814 \n",
       "L 215.714176 196.179814 \n",
       "L 215.929122 194.756728 \n",
       "L 216.144067 198.516501 \n",
       "L 216.359013 198.070606 \n",
       "L 216.573958 199.814339 \n",
       "L 216.788904 198.85056 \n",
       "L 217.00385 199.873193 \n",
       "L 217.218795 207.476711 \n",
       "L 217.433741 199.742361 \n",
       "L 217.863632 211.023374 \n",
       "L 218.078578 207.541525 \n",
       "L 218.293523 207.725923 \n",
       "L 218.508469 201.554276 \n",
       "L 218.723414 207.303267 \n",
       "L 218.93836 200.76664 \n",
       "L 219.153305 201.920027 \n",
       "L 219.368251 202.095725 \n",
       "L 219.583197 205.816671 \n",
       "L 219.798142 204.822414 \n",
       "L 220.013088 208.078882 \n",
       "L 220.228033 208.564948 \n",
       "L 220.442979 208.239729 \n",
       "L 220.657924 208.729185 \n",
       "L 220.87287 207.439605 \n",
       "L 221.302761 197.057141 \n",
       "L 221.517707 196.182616 \n",
       "L 221.947598 198.808429 \n",
       "L 222.162543 205.279524 \n",
       "L 222.377489 204.905189 \n",
       "L 222.592435 202.290556 \n",
       "L 223.022326 206.800544 \n",
       "L 223.237271 202.31486 \n",
       "L 223.452217 209.192572 \n",
       "L 223.667162 204.157698 \n",
       "L 223.882108 207.136672 \n",
       "L 224.311999 185.12757 \n",
       "L 224.526945 181.143249 \n",
       "L 224.74189 184.260406 \n",
       "L 225.386727 200.255474 \n",
       "L 225.601673 199.952547 \n",
       "L 225.816618 193.668878 \n",
       "L 226.031564 195.964353 \n",
       "L 226.246509 194.700545 \n",
       "L 226.676401 188.219016 \n",
       "L 226.891346 187.003132 \n",
       "L 227.321237 203.177577 \n",
       "L 227.536183 198.517123 \n",
       "L 227.751128 201.407184 \n",
       "L 227.966074 194.552492 \n",
       "L 228.18102 197.361789 \n",
       "L 228.395965 189.71684 \n",
       "L 228.610911 197.393117 \n",
       "L 228.825856 186.752932 \n",
       "L 229.040802 189.812557 \n",
       "L 229.255747 189.356596 \n",
       "L 229.470693 189.965655 \n",
       "L 230.11553 207.264855 \n",
       "L 230.330475 204.227287 \n",
       "L 230.545421 210.480299 \n",
       "L 230.760367 207.590014 \n",
       "L 231.190258 198.2017 \n",
       "L 231.405203 203.542207 \n",
       "L 231.620149 202.296661 \n",
       "L 231.835094 202.383893 \n",
       "L 232.05004 200.405756 \n",
       "L 232.264986 200.61608 \n",
       "L 232.479931 197.024816 \n",
       "L 232.694877 202.580331 \n",
       "L 232.909822 203.526907 \n",
       "L 233.339713 193.464751 \n",
       "L 233.554659 192.877571 \n",
       "L 233.769605 191.023784 \n",
       "L 233.98455 193.141325 \n",
       "L 234.199496 198.522938 \n",
       "L 234.414441 196.707842 \n",
       "L 234.629387 188.48549 \n",
       "L 234.844332 188.629921 \n",
       "L 235.059278 201.577814 \n",
       "L 235.274224 200.23658 \n",
       "L 235.489169 192.209536 \n",
       "L 235.91906 204.562549 \n",
       "L 236.134006 201.115634 \n",
       "L 236.348951 199.572314 \n",
       "L 236.563897 198.85437 \n",
       "L 236.993788 205.922788 \n",
       "L 237.208734 202.884294 \n",
       "L 237.423679 202.569297 \n",
       "L 237.638625 203.664659 \n",
       "L 237.853571 200.39092 \n",
       "L 238.283462 179.331508 \n",
       "L 238.713353 190.572231 \n",
       "L 238.928298 187.203103 \n",
       "L 239.143244 188.442504 \n",
       "L 239.35819 185.601166 \n",
       "L 239.573135 194.661781 \n",
       "L 239.788081 194.802554 \n",
       "L 240.003026 195.242299 \n",
       "L 240.432917 194.73631 \n",
       "L 240.647863 200.057902 \n",
       "L 240.862809 208.856157 \n",
       "L 241.2927 202.27841 \n",
       "L 241.507645 197.610024 \n",
       "L 241.722591 196.522018 \n",
       "L 242.152482 191.936709 \n",
       "L 242.367428 200.272276 \n",
       "L 242.582373 198.629988 \n",
       "L 242.797319 199.291906 \n",
       "L 243.012264 191.682475 \n",
       "L 243.22721 189.67715 \n",
       "L 243.442155 191.707239 \n",
       "L 243.657101 192.295515 \n",
       "L 243.872047 199.473535 \n",
       "L 244.086992 197.900932 \n",
       "L 244.516883 194.057682 \n",
       "L 244.731829 191.697054 \n",
       "L 244.946775 195.004046 \n",
       "L 245.16172 205.73135 \n",
       "L 245.591611 201.809515 \n",
       "L 245.806557 205.145616 \n",
       "L 246.021502 201.652615 \n",
       "L 246.236448 194.101645 \n",
       "L 246.451394 196.43235 \n",
       "L 246.666339 192.198862 \n",
       "L 246.881285 192.937483 \n",
       "L 247.311176 191.348055 \n",
       "L 247.526121 190.175804 \n",
       "L 247.741067 190.095056 \n",
       "L 248.170958 196.311176 \n",
       "L 248.385904 195.513094 \n",
       "L 248.600849 187.505602 \n",
       "L 248.815795 193.975253 \n",
       "L 249.03074 193.581443 \n",
       "L 249.245686 185.558884 \n",
       "L 249.460632 193.040575 \n",
       "L 249.675577 195.230448 \n",
       "L 249.890523 198.817471 \n",
       "L 250.105468 194.998371 \n",
       "L 250.320414 200.579964 \n",
       "L 250.53536 201.544204 \n",
       "L 250.750305 201.164481 \n",
       "L 250.965251 195.959868 \n",
       "L 251.180196 196.399237 \n",
       "L 251.395142 201.029091 \n",
       "L 251.610087 192.511137 \n",
       "L 251.825033 194.475415 \n",
       "L 252.039979 191.893763 \n",
       "L 252.46987 198.323042 \n",
       "L 252.684815 194.094896 \n",
       "L 252.899761 201.064883 \n",
       "L 253.114706 202.299985 \n",
       "L 253.329652 196.393476 \n",
       "L 253.544598 199.652238 \n",
       "L 253.759543 208.752058 \n",
       "L 253.974489 209.831175 \n",
       "L 254.189434 212.243022 \n",
       "L 254.619325 209.253315 \n",
       "L 254.834271 210.103694 \n",
       "L 255.049217 199.029786 \n",
       "L 255.264162 199.541886 \n",
       "L 255.479108 203.20851 \n",
       "L 255.908999 198.999526 \n",
       "L 256.123944 198.593246 \n",
       "L 256.33889 203.25815 \n",
       "L 256.553836 205.380737 \n",
       "L 257.198672 200.453167 \n",
       "L 257.628564 206.138923 \n",
       "L 257.843509 210.447239 \n",
       "L 258.058455 207.804649 \n",
       "L 258.2734 208.288921 \n",
       "L 258.488346 211.420455 \n",
       "L 258.703291 210.56363 \n",
       "L 258.918237 215.394937 \n",
       "L 259.133183 212.454175 \n",
       "L 259.348128 203.819154 \n",
       "L 259.563074 199.972784 \n",
       "L 259.778019 205.228527 \n",
       "L 259.992965 201.791465 \n",
       "L 260.20791 203.749869 \n",
       "L 260.422856 203.516231 \n",
       "L 260.637802 206.439127 \n",
       "L 261.067693 208.161115 \n",
       "L 261.282638 206.082204 \n",
       "L 261.497584 206.006465 \n",
       "L 261.712529 199.75665 \n",
       "L 261.927475 202.553507 \n",
       "L 262.142421 200.346163 \n",
       "L 262.357366 199.501211 \n",
       "L 262.572312 201.198183 \n",
       "L 262.787257 210.833307 \n",
       "L 263.002203 215.327531 \n",
       "L 263.217149 210.961373 \n",
       "L 263.432094 210.288072 \n",
       "L 263.64704 206.875651 \n",
       "L 263.861985 207.38982 \n",
       "L 264.076931 201.24816 \n",
       "L 264.506822 198.899409 \n",
       "L 264.721768 198.556893 \n",
       "L 265.151659 208.256206 \n",
       "L 265.366604 203.908176 \n",
       "L 265.58155 207.963326 \n",
       "L 265.796495 208.908106 \n",
       "L 266.011441 211.507087 \n",
       "L 266.226387 210.650287 \n",
       "L 266.441332 207.207969 \n",
       "L 266.656278 207.652134 \n",
       "L 266.871223 211.177182 \n",
       "L 267.086169 211.184368 \n",
       "L 267.301114 210.346471 \n",
       "L 267.51606 206.821086 \n",
       "L 267.731006 199.352252 \n",
       "L 268.160897 210.030028 \n",
       "L 268.375842 210.32887 \n",
       "L 268.590788 199.896312 \n",
       "L 268.805733 201.481715 \n",
       "L 269.020679 211.589026 \n",
       "L 269.235625 205.653217 \n",
       "L 269.665516 207.640992 \n",
       "L 269.880461 208.981831 \n",
       "L 270.095407 207.99791 \n",
       "L 270.310353 212.574886 \n",
       "L 270.525298 211.799339 \n",
       "L 270.740244 213.229393 \n",
       "L 270.955189 209.105067 \n",
       "L 271.170135 209.503086 \n",
       "L 271.38508 217.143797 \n",
       "L 271.600026 215.587628 \n",
       "L 271.814972 215.569635 \n",
       "L 272.029917 207.539833 \n",
       "L 272.244863 213.359199 \n",
       "L 272.459808 210.471936 \n",
       "L 272.889699 216.983432 \n",
       "L 273.104645 215.129412 \n",
       "L 273.749482 205.560794 \n",
       "L 273.964427 205.543299 \n",
       "L 274.179373 207.780997 \n",
       "L 274.394318 199.865839 \n",
       "L 274.609264 209.091794 \n",
       "L 274.82421 203.00975 \n",
       "L 275.039155 202.678961 \n",
       "L 275.254101 201.929793 \n",
       "L 275.469046 203.539526 \n",
       "L 275.683992 207.111898 \n",
       "L 276.113883 198.331835 \n",
       "L 276.328829 204.029746 \n",
       "L 276.543774 198.67095 \n",
       "L 276.75872 196.287502 \n",
       "L 276.973665 196.966746 \n",
       "L 277.188611 204.618863 \n",
       "L 277.403557 205.539419 \n",
       "L 277.618502 207.969395 \n",
       "L 277.833448 204.353279 \n",
       "L 278.048393 203.393377 \n",
       "L 278.478284 208.660512 \n",
       "L 278.69323 212.067279 \n",
       "L 278.908176 208.924819 \n",
       "L 279.123121 210.135976 \n",
       "L 279.338067 208.424943 \n",
       "L 279.982903 197.261972 \n",
       "L 280.197849 201.743223 \n",
       "L 280.412795 197.37019 \n",
       "L 280.62774 176.830446 \n",
       "L 280.842686 179.84708 \n",
       "L 281.057631 181.137641 \n",
       "L 281.272577 189.407695 \n",
       "L 281.487522 188.694209 \n",
       "L 281.702468 192.42088 \n",
       "L 281.917414 189.498578 \n",
       "L 282.132359 193.629473 \n",
       "L 282.347305 195.228837 \n",
       "L 282.56225 194.545142 \n",
       "L 282.992142 201.747922 \n",
       "L 283.207087 199.294735 \n",
       "L 283.422033 200.228866 \n",
       "L 283.851924 195.095533 \n",
       "L 284.066869 195.315506 \n",
       "L 284.281815 196.311305 \n",
       "L 284.711706 204.552242 \n",
       "L 284.926652 205.0811 \n",
       "L 285.141597 198.486231 \n",
       "L 285.356543 200.086287 \n",
       "L 285.571488 200.222859 \n",
       "L 285.786434 210.984138 \n",
       "L 286.00138 211.011979 \n",
       "L 286.216325 200.091791 \n",
       "L 286.431271 203.699039 \n",
       "L 286.646216 203.362699 \n",
       "L 286.861162 202.554655 \n",
       "L 287.076107 206.575119 \n",
       "L 287.505999 192.394864 \n",
       "L 287.720944 187.695004 \n",
       "L 288.150835 197.516314 \n",
       "L 288.365781 184.061777 \n",
       "L 288.580726 177.583083 \n",
       "L 288.795672 181.556923 \n",
       "L 289.010618 194.235019 \n",
       "L 289.225563 194.992881 \n",
       "L 289.655454 193.418711 \n",
       "L 289.8704 192.613805 \n",
       "L 290.085346 193.205729 \n",
       "L 290.300291 193.217416 \n",
       "L 290.515237 200.550235 \n",
       "L 290.730182 198.337509 \n",
       "L 290.945128 199.079344 \n",
       "L 291.160073 200.424574 \n",
       "L 291.375019 200.353319 \n",
       "L 291.589965 202.230476 \n",
       "L 291.80491 201.935108 \n",
       "L 292.019856 202.105206 \n",
       "L 292.234801 202.051527 \n",
       "L 292.449747 198.104379 \n",
       "L 292.664692 200.970544 \n",
       "L 292.879638 198.143101 \n",
       "L 293.094584 206.127763 \n",
       "L 293.309529 201.244296 \n",
       "L 293.524475 200.321516 \n",
       "L 293.73942 200.835623 \n",
       "L 293.954366 199.507705 \n",
       "L 294.169311 199.713443 \n",
       "L 294.384257 194.48005 \n",
       "L 294.599203 192.237193 \n",
       "L 294.814148 201.777215 \n",
       "L 295.458985 188.593017 \n",
       "L 295.673931 190.493804 \n",
       "L 295.888876 187.781875 \n",
       "L 296.103822 191.673555 \n",
       "L 296.318767 197.725048 \n",
       "L 296.533713 190.296151 \n",
       "L 296.748658 195.637277 \n",
       "L 296.963604 193.890061 \n",
       "L 297.393495 200.368208 \n",
       "L 297.823386 177.640241 \n",
       "L 298.038332 186.641534 \n",
       "L 298.468223 183.236322 \n",
       "L 298.683169 184.002779 \n",
       "L 298.898114 177.584868 \n",
       "L 299.11306 179.311803 \n",
       "L 299.328005 176.024945 \n",
       "L 299.542951 169.189073 \n",
       "L 299.972842 184.610974 \n",
       "L 300.187788 185.211434 \n",
       "L 300.402733 189.01743 \n",
       "L 300.617679 188.695855 \n",
       "L 300.832624 185.937358 \n",
       "L 301.04757 198.480822 \n",
       "L 301.262515 192.212287 \n",
       "L 301.692407 199.575612 \n",
       "L 301.907352 199.168491 \n",
       "L 302.122298 199.706565 \n",
       "L 302.337243 198.969356 \n",
       "L 302.767135 192.167146 \n",
       "L 302.98208 194.080871 \n",
       "L 303.197026 193.524443 \n",
       "L 303.411971 196.312326 \n",
       "L 303.626917 192.722679 \n",
       "L 303.841862 191.252182 \n",
       "L 304.271754 197.735406 \n",
       "L 304.486699 198.159131 \n",
       "L 304.701645 199.871872 \n",
       "L 305.131536 188.048031 \n",
       "L 305.346481 193.817845 \n",
       "L 305.561427 195.968335 \n",
       "L 305.776373 195.572459 \n",
       "L 306.421209 205.48544 \n",
       "L 307.066046 197.208781 \n",
       "L 307.280992 201.686251 \n",
       "L 307.710883 199.910895 \n",
       "L 307.925828 203.81257 \n",
       "L 308.140774 203.075019 \n",
       "L 308.570665 184.518092 \n",
       "L 308.785611 178.875718 \n",
       "L 309.000556 188.948395 \n",
       "L 309.215502 188.801517 \n",
       "L 309.430447 178.835138 \n",
       "L 309.645393 179.30816 \n",
       "L 309.860339 183.38541 \n",
       "L 310.075284 172.923857 \n",
       "L 310.720121 194.720967 \n",
       "L 310.935066 198.856785 \n",
       "L 311.364958 187.105514 \n",
       "L 311.579903 189.736562 \n",
       "L 311.794849 188.398483 \n",
       "L 312.009794 189.38239 \n",
       "L 312.22474 189.027247 \n",
       "L 312.439685 193.500157 \n",
       "L 313.084522 199.312729 \n",
       "L 313.299468 202.503994 \n",
       "L 313.514413 193.577222 \n",
       "L 313.729359 196.99816 \n",
       "L 313.944304 195.784979 \n",
       "L 314.15925 188.327898 \n",
       "L 314.804087 199.066783 \n",
       "L 315.448924 195.195315 \n",
       "L 315.663869 191.94258 \n",
       "L 315.878815 197.850788 \n",
       "L 316.09376 199.69864 \n",
       "L 316.308706 203.211855 \n",
       "L 316.523651 200.101412 \n",
       "L 316.953543 210.969995 \n",
       "L 317.168488 210.293471 \n",
       "L 317.598379 205.12077 \n",
       "L 317.813325 198.917294 \n",
       "L 318.243216 202.464868 \n",
       "L 318.458162 193.789955 \n",
       "L 318.673107 191.686513 \n",
       "L 318.888053 194.742109 \n",
       "L 319.102998 191.393084 \n",
       "L 319.317944 193.930991 \n",
       "L 319.747835 166.3672 \n",
       "L 319.962781 179.332244 \n",
       "L 320.177726 184.706202 \n",
       "L 320.392672 178.039133 \n",
       "L 320.607617 185.729488 \n",
       "L 320.822563 189.150024 \n",
       "L 321.252454 200.863565 \n",
       "L 321.4674 197.9302 \n",
       "L 321.682345 198.0646 \n",
       "L 321.897291 198.640747 \n",
       "L 322.112236 200.288931 \n",
       "L 322.327182 198.912869 \n",
       "L 322.542128 195.960427 \n",
       "L 322.757073 201.299273 \n",
       "L 322.972019 199.745851 \n",
       "L 323.186964 197.153873 \n",
       "L 323.40191 198.858062 \n",
       "L 323.616855 201.920217 \n",
       "L 323.831801 208.686046 \n",
       "L 324.046747 208.977566 \n",
       "L 324.261692 207.154301 \n",
       "L 324.476638 197.763552 \n",
       "L 324.691583 196.87767 \n",
       "L 325.121474 199.439601 \n",
       "L 325.33642 199.483742 \n",
       "L 325.551366 196.597019 \n",
       "L 325.766311 199.658825 \n",
       "L 325.981257 196.041415 \n",
       "L 326.411148 198.387396 \n",
       "L 326.626093 193.753341 \n",
       "L 326.841039 194.200127 \n",
       "L 327.055985 191.939956 \n",
       "L 327.27093 195.339242 \n",
       "L 327.485876 196.604735 \n",
       "L 327.700821 204.576785 \n",
       "L 328.130713 198.85765 \n",
       "L 328.345658 197.213031 \n",
       "L 328.560604 182.766784 \n",
       "L 328.990495 194.926026 \n",
       "L 329.20544 187.755855 \n",
       "L 329.635332 186.226676 \n",
       "L 330.065223 192.684099 \n",
       "L 330.280168 184.396896 \n",
       "L 330.495114 183.654575 \n",
       "L 331.139951 203.62545 \n",
       "L 331.354896 201.706258 \n",
       "L 331.569842 204.291837 \n",
       "L 331.784787 204.238134 \n",
       "L 331.999733 207.829655 \n",
       "L 332.214678 208.807496 \n",
       "L 332.429624 207.605095 \n",
       "L 332.64457 207.818431 \n",
       "L 332.859515 198.141954 \n",
       "L 333.289406 207.115088 \n",
       "L 333.504352 204.34012 \n",
       "L 333.719297 195.08456 \n",
       "L 333.934243 200.202024 \n",
       "L 334.149189 195.423267 \n",
       "L 334.57908 202.592273 \n",
       "L 334.794025 200.321465 \n",
       "L 335.008971 201.867861 \n",
       "L 335.223917 204.426978 \n",
       "L 335.438862 203.984109 \n",
       "L 335.653808 201.058084 \n",
       "L 335.868753 202.979516 \n",
       "L 336.51359 198.116406 \n",
       "L 336.728536 200.499838 \n",
       "L 336.943481 205.334939 \n",
       "L 337.158427 206.727905 \n",
       "L 337.373372 201.031201 \n",
       "L 337.588318 206.719211 \n",
       "L 337.803263 208.121437 \n",
       "L 338.018209 208.789242 \n",
       "L 338.4481 199.737893 \n",
       "L 338.663046 200.028407 \n",
       "L 338.877991 196.832586 \n",
       "L 339.092937 184.706991 \n",
       "L 339.307882 187.621202 \n",
       "L 339.522828 186.179503 \n",
       "L 339.737774 183.03595 \n",
       "L 340.597556 205.835533 \n",
       "L 340.812501 196.650528 \n",
       "L 341.027447 207.484026 \n",
       "L 341.242393 203.689054 \n",
       "L 341.457338 207.005948 \n",
       "L 341.672284 206.381053 \n",
       "L 341.887229 210.79378 \n",
       "L 342.102175 204.776126 \n",
       "L 342.317121 202.389887 \n",
       "L 343.176903 213.992617 \n",
       "L 343.391848 210.912831 \n",
       "L 343.606794 210.765738 \n",
       "L 343.82174 209.084033 \n",
       "L 344.036685 209.465213 \n",
       "L 344.251631 211.972605 \n",
       "L 344.466576 210.574194 \n",
       "L 344.681522 213.347306 \n",
       "L 344.896467 214.117784 \n",
       "L 345.111413 201.99032 \n",
       "L 345.326359 201.87693 \n",
       "L 345.541304 209.519992 \n",
       "L 345.75625 207.723039 \n",
       "L 345.971195 215.029197 \n",
       "L 346.186141 206.046606 \n",
       "L 346.401086 204.981236 \n",
       "L 346.616032 210.663134 \n",
       "L 346.830978 210.081105 \n",
       "L 347.045923 206.515392 \n",
       "L 347.260869 197.98021 \n",
       "L 347.475814 183.684315 \n",
       "L 347.69076 179.35147 \n",
       "L 347.905706 182.415449 \n",
       "L 348.120651 189.321917 \n",
       "L 348.550542 174.228532 \n",
       "L 348.765488 186.909803 \n",
       "L 348.980433 184.75408 \n",
       "L 349.410325 195.570062 \n",
       "L 349.62527 194.34348 \n",
       "L 349.840216 199.032537 \n",
       "L 350.055161 194.006297 \n",
       "L 350.270107 193.291753 \n",
       "L 350.485052 194.092107 \n",
       "L 350.699998 184.14407 \n",
       "L 350.914944 184.358269 \n",
       "L 351.129889 184.284917 \n",
       "L 351.344835 183.924258 \n",
       "L 351.55978 178.875342 \n",
       "L 351.774726 179.283592 \n",
       "L 351.989671 181.866877 \n",
       "L 352.204617 188.119635 \n",
       "L 352.419563 187.511124 \n",
       "L 352.634508 182.196582 \n",
       "L 353.279345 185.647851 \n",
       "L 353.49429 191.286271 \n",
       "L 353.924182 190.693851 \n",
       "L 354.139127 195.731122 \n",
       "L 354.354073 196.851568 \n",
       "L 354.569018 199.187627 \n",
       "L 354.99891 196.084887 \n",
       "L 355.213855 201.76543 \n",
       "L 355.428801 200.998265 \n",
       "L 355.858692 188.606977 \n",
       "L 356.073637 186.788682 \n",
       "L 356.503529 177.185398 \n",
       "L 356.718474 174.588059 \n",
       "L 357.148365 181.853932 \n",
       "L 357.363311 184.526574 \n",
       "L 357.578256 191.447277 \n",
       "L 357.793202 191.561427 \n",
       "L 358.008148 182.719952 \n",
       "L 358.438039 188.454076 \n",
       "L 358.652984 185.846596 \n",
       "L 358.86793 192.000656 \n",
       "L 359.082875 191.715062 \n",
       "L 359.297821 203.645127 \n",
       "L 359.512767 204.11772 \n",
       "L 359.727712 201.530141 \n",
       "L 359.942658 206.415004 \n",
       "L 360.157603 199.369601 \n",
       "L 360.372549 197.003442 \n",
       "L 360.587494 203.368535 \n",
       "L 361.017386 207.487952 \n",
       "L 361.232331 205.163804 \n",
       "L 361.447277 205.540677 \n",
       "L 361.662222 205.090036 \n",
       "L 361.877168 206.214865 \n",
       "L 362.092114 198.970914 \n",
       "L 362.307059 204.839851 \n",
       "L 362.522005 202.375685 \n",
       "L 362.73695 206.221282 \n",
       "L 362.951896 203.977329 \n",
       "L 363.166841 203.548361 \n",
       "L 363.381787 209.312665 \n",
       "L 363.596733 202.148297 \n",
       "L 363.811678 188.70851 \n",
       "L 364.026624 187.49459 \n",
       "L 364.456515 197.473595 \n",
       "L 364.67146 191.624886 \n",
       "L 364.886406 189.301993 \n",
       "L 365.101352 185.011849 \n",
       "L 365.531243 200.155943 \n",
       "L 365.746188 205.48145 \n",
       "L 365.961134 200.571866 \n",
       "L 366.176079 199.161713 \n",
       "L 366.391025 205.360384 \n",
       "L 366.605971 201.063997 \n",
       "L 366.820916 194.365917 \n",
       "L 367.035862 202.118779 \n",
       "L 367.250807 202.904506 \n",
       "L 367.465753 205.808709 \n",
       "L 367.680699 204.866512 \n",
       "L 367.895644 205.700162 \n",
       "L 368.11059 204.438476 \n",
       "L 368.540481 199.697628 \n",
       "L 368.755426 202.511382 \n",
       "L 369.185318 198.982541 \n",
       "L 369.615209 203.111013 \n",
       "L 369.830154 207.716756 \n",
       "L 370.0451 207.814483 \n",
       "L 370.260045 213.124541 \n",
       "L 370.474991 209.417078 \n",
       "L 370.689937 202.003511 \n",
       "L 370.904882 199.318242 \n",
       "L 371.119828 205.61129 \n",
       "L 371.334773 204.946484 \n",
       "L 371.549719 200.238078 \n",
       "L 371.764664 206.7435 \n",
       "L 371.97961 200.052539 \n",
       "L 372.194556 204.36664 \n",
       "L 372.409501 198.433739 \n",
       "L 372.624447 197.432088 \n",
       "L 372.839392 195.80627 \n",
       "L 373.054338 206.68405 \n",
       "L 373.269283 209.19919 \n",
       "L 373.484229 215.166784 \n",
       "L 373.699175 211.300568 \n",
       "L 373.91412 210.364025 \n",
       "L 374.129066 202.486661 \n",
       "L 374.344011 207.725422 \n",
       "L 374.558957 204.238301 \n",
       "L 374.988848 215.963558 \n",
       "L 375.203794 217.324568 \n",
       "L 375.633685 222.371761 \n",
       "L 375.84863 216.73036 \n",
       "L 376.063576 217.261563 \n",
       "L 376.278522 215.240275 \n",
       "L 376.493467 209.549955 \n",
       "L 376.708413 207.218344 \n",
       "L 376.923358 216.249032 \n",
       "L 377.138304 210.350745 \n",
       "L 377.353249 208.731103 \n",
       "L 377.783141 203.185071 \n",
       "L 377.998086 201.993411 \n",
       "L 378.213032 198.108999 \n",
       "L 378.427977 197.894882 \n",
       "L 378.857868 185.764445 \n",
       "L 379.072814 185.793547 \n",
       "L 379.28776 186.773657 \n",
       "L 379.502705 203.367938 \n",
       "L 379.717651 201.879695 \n",
       "L 379.932596 201.929348 \n",
       "L 380.147542 207.722411 \n",
       "L 380.362488 206.375888 \n",
       "L 380.577433 206.245248 \n",
       "L 380.792379 209.317517 \n",
       "L 381.22227 203.116727 \n",
       "L 381.437215 202.568867 \n",
       "L 381.867107 208.838387 \n",
       "L 382.082052 212.774184 \n",
       "L 382.511943 208.358847 \n",
       "L 382.941834 211.730872 \n",
       "L 383.15678 211.474963 \n",
       "L 383.586671 202.062836 \n",
       "L 383.801617 174.746936 \n",
       "L 384.016562 166.337845 \n",
       "L 384.231508 168.455921 \n",
       "L 384.446453 173.376116 \n",
       "L 384.661399 173.223745 \n",
       "L 384.876345 169.013621 \n",
       "L 385.306236 177.092828 \n",
       "L 385.521181 199.147763 \n",
       "L 385.736127 201.939881 \n",
       "L 385.951072 201.207119 \n",
       "L 386.166018 196.654492 \n",
       "L 386.380964 203.560436 \n",
       "L 386.595909 201.332643 \n",
       "L 386.810855 205.928073 \n",
       "L 387.0258 205.881027 \n",
       "L 387.240746 208.408183 \n",
       "L 387.455692 207.306413 \n",
       "L 387.670637 199.185974 \n",
       "L 387.885583 204.398523 \n",
       "L 388.100528 205.48198 \n",
       "L 388.530419 198.277975 \n",
       "L 388.745365 200.560298 \n",
       "L 388.960311 204.267893 \n",
       "L 389.175256 203.546144 \n",
       "L 389.605147 206.048217 \n",
       "L 389.820093 213.72574 \n",
       "L 390.035038 211.406283 \n",
       "L 390.249984 212.758616 \n",
       "L 390.679875 204.099795 \n",
       "L 390.679875 204.099795 \n",
       "\" clip-path=\"url(#p4fce2a4d0b)\" style=\"fill: none; stroke: #4878d0; stroke-width: 1.5; stroke-linecap: round\"/>\n",
       "   </g>\n",
       "   <g id=\"patch_3\">\n",
       "    <path d=\"M 37.69625 231.898125 \n",
       "L 37.69625 22.318125 \n",
       "\" style=\"fill: none; stroke: #cccccc; stroke-width: 1.25; stroke-linejoin: miter; stroke-linecap: square\"/>\n",
       "   </g>\n",
       "   <g id=\"patch_4\">\n",
       "    <path d=\"M 407.488619 231.898125 \n",
       "L 407.488619 22.318125 \n",
       "\" style=\"fill: none; stroke: #cccccc; stroke-width: 1.25; stroke-linejoin: miter; stroke-linecap: square\"/>\n",
       "   </g>\n",
       "   <g id=\"patch_5\">\n",
       "    <path d=\"M 37.69625 231.898125 \n",
       "L 407.488619 231.898125 \n",
       "\" style=\"fill: none; stroke: #cccccc; stroke-width: 1.25; stroke-linejoin: miter; stroke-linecap: square\"/>\n",
       "   </g>\n",
       "   <g id=\"patch_6\">\n",
       "    <path d=\"M 37.69625 22.318125 \n",
       "L 407.488619 22.318125 \n",
       "\" style=\"fill: none; stroke: #cccccc; stroke-width: 1.25; stroke-linejoin: miter; stroke-linecap: square\"/>\n",
       "   </g>\n",
       "   <g id=\"text_17\">\n",
       "    <!-- MSE by timestamp -->\n",
       "    <g style=\"fill: #262626\" transform=\"translate(166.277747 16.318125)scale(0.12 -0.12)\">\n",
       "     <defs>\n",
       "      <path id=\"DejaVuSans-4d\" d=\"M 628 4666 \n",
       "L 1569 4666 \n",
       "L 2759 1491 \n",
       "L 3956 4666 \n",
       "L 4897 4666 \n",
       "L 4897 0 \n",
       "L 4281 0 \n",
       "L 4281 4097 \n",
       "L 3078 897 \n",
       "L 2444 897 \n",
       "L 1241 4097 \n",
       "L 1241 0 \n",
       "L 628 0 \n",
       "L 628 4666 \n",
       "z\n",
       "\" transform=\"scale(0.015625)\"/>\n",
       "      <path id=\"DejaVuSans-53\" d=\"M 3425 4513 \n",
       "L 3425 3897 \n",
       "Q 3066 4069 2747 4153 \n",
       "Q 2428 4238 2131 4238 \n",
       "Q 1616 4238 1336 4038 \n",
       "Q 1056 3838 1056 3469 \n",
       "Q 1056 3159 1242 3001 \n",
       "Q 1428 2844 1947 2747 \n",
       "L 2328 2669 \n",
       "Q 3034 2534 3370 2195 \n",
       "Q 3706 1856 3706 1288 \n",
       "Q 3706 609 3251 259 \n",
       "Q 2797 -91 1919 -91 \n",
       "Q 1588 -91 1214 -16 \n",
       "Q 841 59 441 206 \n",
       "L 441 856 \n",
       "Q 825 641 1194 531 \n",
       "Q 1563 422 1919 422 \n",
       "Q 2459 422 2753 634 \n",
       "Q 3047 847 3047 1241 \n",
       "Q 3047 1584 2836 1778 \n",
       "Q 2625 1972 2144 2069 \n",
       "L 1759 2144 \n",
       "Q 1053 2284 737 2584 \n",
       "Q 422 2884 422 3419 \n",
       "Q 422 4038 858 4394 \n",
       "Q 1294 4750 2059 4750 \n",
       "Q 2388 4750 2728 4690 \n",
       "Q 3069 4631 3425 4513 \n",
       "z\n",
       "\" transform=\"scale(0.015625)\"/>\n",
       "      <path id=\"DejaVuSans-45\" d=\"M 628 4666 \n",
       "L 3578 4666 \n",
       "L 3578 4134 \n",
       "L 1259 4134 \n",
       "L 1259 2753 \n",
       "L 3481 2753 \n",
       "L 3481 2222 \n",
       "L 1259 2222 \n",
       "L 1259 531 \n",
       "L 3634 531 \n",
       "L 3634 0 \n",
       "L 628 0 \n",
       "L 628 4666 \n",
       "z\n",
       "\" transform=\"scale(0.015625)\"/>\n",
       "      <path id=\"DejaVuSans-20\" transform=\"scale(0.015625)\"/>\n",
       "      <path id=\"DejaVuSans-62\" d=\"M 3116 1747 \n",
       "Q 3116 2381 2855 2742 \n",
       "Q 2594 3103 2138 3103 \n",
       "Q 1681 3103 1420 2742 \n",
       "Q 1159 2381 1159 1747 \n",
       "Q 1159 1113 1420 752 \n",
       "Q 1681 391 2138 391 \n",
       "Q 2594 391 2855 752 \n",
       "Q 3116 1113 3116 1747 \n",
       "z\n",
       "M 1159 2969 \n",
       "Q 1341 3281 1617 3432 \n",
       "Q 1894 3584 2278 3584 \n",
       "Q 2916 3584 3314 3078 \n",
       "Q 3713 2572 3713 1747 \n",
       "Q 3713 922 3314 415 \n",
       "Q 2916 -91 2278 -91 \n",
       "Q 1894 -91 1617 61 \n",
       "Q 1341 213 1159 525 \n",
       "L 1159 0 \n",
       "L 581 0 \n",
       "L 581 4863 \n",
       "L 1159 4863 \n",
       "L 1159 2969 \n",
       "z\n",
       "\" transform=\"scale(0.015625)\"/>\n",
       "      <path id=\"DejaVuSans-79\" d=\"M 2059 -325 \n",
       "Q 1816 -950 1584 -1140 \n",
       "Q 1353 -1331 966 -1331 \n",
       "L 506 -1331 \n",
       "L 506 -850 \n",
       "L 844 -850 \n",
       "Q 1081 -850 1212 -737 \n",
       "Q 1344 -625 1503 -206 \n",
       "L 1606 56 \n",
       "L 191 3500 \n",
       "L 800 3500 \n",
       "L 1894 763 \n",
       "L 2988 3500 \n",
       "L 3597 3500 \n",
       "L 2059 -325 \n",
       "z\n",
       "\" transform=\"scale(0.015625)\"/>\n",
       "     </defs>\n",
       "     <use xlink:href=\"#DejaVuSans-4d\"/>\n",
       "     <use xlink:href=\"#DejaVuSans-53\" x=\"86.279297\"/>\n",
       "     <use xlink:href=\"#DejaVuSans-45\" x=\"149.755859\"/>\n",
       "     <use xlink:href=\"#DejaVuSans-20\" x=\"212.939453\"/>\n",
       "     <use xlink:href=\"#DejaVuSans-62\" x=\"244.726562\"/>\n",
       "     <use xlink:href=\"#DejaVuSans-79\" x=\"308.203125\"/>\n",
       "     <use xlink:href=\"#DejaVuSans-20\" x=\"367.382812\"/>\n",
       "     <use xlink:href=\"#DejaVuSans-74\" x=\"399.169922\"/>\n",
       "     <use xlink:href=\"#DejaVuSans-69\" x=\"438.378906\"/>\n",
       "     <use xlink:href=\"#DejaVuSans-6d\" x=\"466.162109\"/>\n",
       "     <use xlink:href=\"#DejaVuSans-65\" x=\"563.574219\"/>\n",
       "     <use xlink:href=\"#DejaVuSans-73\" x=\"625.097656\"/>\n",
       "     <use xlink:href=\"#DejaVuSans-74\" x=\"677.197266\"/>\n",
       "     <use xlink:href=\"#DejaVuSans-61\" x=\"716.40625\"/>\n",
       "     <use xlink:href=\"#DejaVuSans-6d\" x=\"777.685547\"/>\n",
       "     <use xlink:href=\"#DejaVuSans-70\" x=\"875.097656\"/>\n",
       "    </g>\n",
       "   </g>\n",
       "  </g>\n",
       " </g>\n",
       " <defs>\n",
       "  <clipPath id=\"p4fce2a4d0b\">\n",
       "   <rect x=\"37.69625\" y=\"22.318125\" width=\"369.792369\" height=\"209.58\"/>\n",
       "  </clipPath>\n",
       " </defs>\n",
       "</svg>\n"
      ],
      "text/plain": [
       "<Figure size 432x288 with 1 Axes>"
      ]
     },
     "metadata": {},
     "output_type": "display_data"
    }
   ],
   "source": [
    "mse_by_timestamp.plot()\n",
    "plt.title(\"MSE by timestamp\")\n",
    "plt.tight_layout()\n",
    "plt.savefig(f\"plots/{result_name}-mse-time.pdf\", dpi=300)\n",
    "mse_by_timestamp.to_csv(f\"plots/{result_name}-mse-time.csv\", index=True)"
   ]
  },
  {
   "cell_type": "code",
   "execution_count": null,
   "id": "06561c5f",
   "metadata": {
    "papermill": {
     "duration": 0.223132,
     "end_time": "2022-04-05T07:32:50.102802",
     "exception": false,
     "start_time": "2022-04-05T07:32:49.879670",
     "status": "completed"
    },
    "tags": []
   },
   "outputs": [],
   "source": []
  }
 ],
 "metadata": {
  "interpreter": {
   "hash": "7a2c4b191d1ae843dde5cb5f4d1f62fa892f6b79b0f9392a84691e890e33c5a4"
  },
  "kernelspec": {
   "display_name": "Python 3 (ipykernel)",
   "language": "python",
   "name": "python3"
  },
  "language_info": {
   "codemirror_mode": {
    "name": "ipython",
    "version": 3
   },
   "file_extension": ".py",
   "mimetype": "text/x-python",
   "name": "python",
   "nbconvert_exporter": "python",
   "pygments_lexer": "ipython3",
   "version": "3.7.11"
  },
  "papermill": {
   "default_parameters": {},
   "duration": 736.571774,
   "end_time": "2022-04-05T07:32:54.704004",
   "environment_variables": {},
   "exception": null,
   "input_path": "prod.ipynb",
   "output_path": "plots/5000-ce.out.ipynb",
   "parameters": {
    "result_name": "5000-ce",
    "results_dir": "results/1648838189"
   },
   "start_time": "2022-04-05T07:20:38.132230",
   "version": "2.3.4"
  }
 },
 "nbformat": 4,
 "nbformat_minor": 5
}