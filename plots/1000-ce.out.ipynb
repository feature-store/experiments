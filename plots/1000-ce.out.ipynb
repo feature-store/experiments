{
 "cells": [
  {
   "cell_type": "code",
   "execution_count": 1,
   "id": "9d28bf40",
   "metadata": {
    "execution": {
     "iopub.execute_input": "2022-04-05T07:07:15.002119Z",
     "iopub.status.busy": "2022-04-05T07:07:15.001769Z",
     "iopub.status.idle": "2022-04-05T07:07:16.148929Z",
     "shell.execute_reply": "2022-04-05T07:07:16.148442Z"
    },
    "papermill": {
     "duration": 1.159715,
     "end_time": "2022-04-05T07:07:16.150744",
     "exception": false,
     "start_time": "2022-04-05T07:07:14.991029",
     "status": "completed"
    },
    "tags": []
   },
   "outputs": [],
   "source": [
    "import pandas as pd\n",
    "import glob\n",
    "from collections import defaultdict\n",
    "import numpy as np\n",
    "import json\n",
    "\n",
    "\n",
    "import numpy as np\n",
    "import pandas as pd\n",
    "import matplotlib.pyplot as plt\n",
    "%matplotlib inline\n",
    "%config InlineBackend.figure_formats = ['svg']\n",
    "\n",
    "import seaborn as sns\n",
    "sns.set(style='whitegrid', palette='muted')\n",
    "\n",
    "from tqdm import tqdm\n",
    "from concurrent.futures import ProcessPoolExecutor, as_completed"
   ]
  },
  {
   "cell_type": "code",
   "execution_count": 2,
   "id": "b234a383",
   "metadata": {
    "execution": {
     "iopub.execute_input": "2022-04-05T07:07:16.169941Z",
     "iopub.status.busy": "2022-04-05T07:07:16.169720Z",
     "iopub.status.idle": "2022-04-05T07:07:16.288050Z",
     "shell.execute_reply": "2022-04-05T07:07:16.286734Z"
    },
    "papermill": {
     "duration": 0.129812,
     "end_time": "2022-04-05T07:07:16.289625",
     "exception": false,
     "start_time": "2022-04-05T07:07:16.159813",
     "status": "completed"
    },
    "tags": []
   },
   "outputs": [],
   "source": [
    "!mkdir -p plots"
   ]
  },
  {
   "cell_type": "code",
   "execution_count": 3,
   "id": "bc94e0f4",
   "metadata": {
    "execution": {
     "iopub.execute_input": "2022-04-05T07:07:16.308349Z",
     "iopub.status.busy": "2022-04-05T07:07:16.308107Z",
     "iopub.status.idle": "2022-04-05T07:07:16.311072Z",
     "shell.execute_reply": "2022-04-05T07:07:16.310643Z"
    },
    "papermill": {
     "duration": 0.013972,
     "end_time": "2022-04-05T07:07:16.312405",
     "exception": false,
     "start_time": "2022-04-05T07:07:16.298433",
     "status": "completed"
    },
    "tags": [
     "parameters"
    ]
   },
   "outputs": [],
   "source": [
    "results_dir = \"results/1648838189\"\n",
    "result_name = \"5000-ce\""
   ]
  },
  {
   "cell_type": "code",
   "execution_count": 4,
   "id": "31fdc984",
   "metadata": {
    "execution": {
     "iopub.execute_input": "2022-04-05T07:07:16.330820Z",
     "iopub.status.busy": "2022-04-05T07:07:16.330616Z",
     "iopub.status.idle": "2022-04-05T07:07:16.333238Z",
     "shell.execute_reply": "2022-04-05T07:07:16.332789Z"
    },
    "papermill": {
     "duration": 0.01333,
     "end_time": "2022-04-05T07:07:16.334579",
     "exception": false,
     "start_time": "2022-04-05T07:07:16.321249",
     "status": "completed"
    },
    "tags": [
     "injected-parameters"
    ]
   },
   "outputs": [],
   "source": [
    "# Parameters\n",
    "result_name = \"1000-ce\"\n",
    "results_dir = \"results/1648829770\"\n"
   ]
  },
  {
   "cell_type": "code",
   "execution_count": 5,
   "id": "b2b17a29",
   "metadata": {
    "execution": {
     "iopub.execute_input": "2022-04-05T07:07:16.353255Z",
     "iopub.status.busy": "2022-04-05T07:07:16.353055Z",
     "iopub.status.idle": "2022-04-05T07:07:20.862291Z",
     "shell.execute_reply": "2022-04-05T07:07:20.861668Z"
    },
    "papermill": {
     "duration": 4.519799,
     "end_time": "2022-04-05T07:07:20.863547",
     "exception": false,
     "start_time": "2022-04-05T07:07:16.343748",
     "status": "completed"
    },
    "tags": []
   },
   "outputs": [
    {
     "name": "stderr",
     "output_type": "stream",
     "text": [
      "\r",
      "  0%|                                                                       | 0/4 [00:00<?, ?it/s]"
     ]
    },
    {
     "name": "stderr",
     "output_type": "stream",
     "text": [
      "\r",
      " 25%|███████████████▊                                               | 1/4 [00:01<00:03,  1.10s/it]"
     ]
    },
    {
     "name": "stderr",
     "output_type": "stream",
     "text": [
      "\r",
      " 50%|███████████████████████████████▌                               | 2/4 [00:02<00:02,  1.12s/it]"
     ]
    },
    {
     "name": "stderr",
     "output_type": "stream",
     "text": [
      "\r",
      " 75%|███████████████████████████████████████████████▎               | 3/4 [00:03<00:01,  1.13s/it]"
     ]
    },
    {
     "name": "stderr",
     "output_type": "stream",
     "text": [
      "\r",
      "100%|███████████████████████████████████████████████████████████████| 4/4 [00:04<00:00,  1.13s/it]"
     ]
    },
    {
     "name": "stderr",
     "output_type": "stream",
     "text": [
      "\r",
      "100%|███████████████████████████████████████████████████████████████| 4/4 [00:04<00:00,  1.13s/it]"
     ]
    },
    {
     "name": "stderr",
     "output_type": "stream",
     "text": [
      "\n"
     ]
    }
   ],
   "source": [
    "forecast_files = glob.glob(f\"{results_dir}/forecast.*.jsonl\")\n",
    "\n",
    "key_to_timestamps = defaultdict(list)\n",
    "key_to_last_seqnos = defaultdict(list)\n",
    "key_to_last_seqno_to_forecast = defaultdict(dict)\n",
    "for path in tqdm(forecast_files):\n",
    "    with open(path) as f:\n",
    "        for line in f:\n",
    "            loaded = json.loads(line)\n",
    "            key_id = str(loaded[\"key_id\"])\n",
    "            key_to_timestamps[key_id].append(loaded[\"processing_time\"])\n",
    "            key_to_last_seqnos[key_id].append(loaded[\"last_seqno\"])\n",
    "            key_to_last_seqno_to_forecast[key_id][loaded[\"last_seqno\"]] = loaded[\"forecast\"]\n"
   ]
  },
  {
   "cell_type": "code",
   "execution_count": 6,
   "id": "18b9c576",
   "metadata": {
    "execution": {
     "iopub.execute_input": "2022-04-05T07:07:20.886418Z",
     "iopub.status.busy": "2022-04-05T07:07:20.886174Z",
     "iopub.status.idle": "2022-04-05T07:07:35.365013Z",
     "shell.execute_reply": "2022-04-05T07:07:35.364423Z"
    },
    "papermill": {
     "duration": 14.491863,
     "end_time": "2022-04-05T07:07:35.366410",
     "exception": false,
     "start_time": "2022-04-05T07:07:20.874547",
     "status": "completed"
    },
    "tags": []
   },
   "outputs": [
    {
     "name": "stderr",
     "output_type": "stream",
     "text": [
      "\r",
      "0it [00:00, ?it/s]"
     ]
    },
    {
     "name": "stderr",
     "output_type": "stream",
     "text": [
      "\r",
      "1it [00:00,  5.31it/s]"
     ]
    },
    {
     "name": "stderr",
     "output_type": "stream",
     "text": [
      "\r",
      "70it [00:00, 300.17it/s]"
     ]
    },
    {
     "name": "stderr",
     "output_type": "stream",
     "text": [
      "\r",
      "138it [00:00, 443.72it/s]"
     ]
    },
    {
     "name": "stderr",
     "output_type": "stream",
     "text": [
      "\r",
      "205it [00:00, 521.15it/s]"
     ]
    },
    {
     "name": "stderr",
     "output_type": "stream",
     "text": [
      "\r",
      "271it [00:00, 566.69it/s]"
     ]
    },
    {
     "name": "stderr",
     "output_type": "stream",
     "text": [
      "\r",
      "336it [00:00, 591.70it/s]"
     ]
    },
    {
     "name": "stderr",
     "output_type": "stream",
     "text": [
      "\r",
      "400it [00:00, 606.87it/s]"
     ]
    },
    {
     "name": "stderr",
     "output_type": "stream",
     "text": [
      "\r",
      "463it [00:00, 613.96it/s]"
     ]
    },
    {
     "name": "stderr",
     "output_type": "stream",
     "text": [
      "\r",
      "527it [00:00, 619.03it/s]"
     ]
    },
    {
     "name": "stderr",
     "output_type": "stream",
     "text": [
      "\r",
      "590it [00:01, 621.12it/s]"
     ]
    },
    {
     "name": "stderr",
     "output_type": "stream",
     "text": [
      "\r",
      "653it [00:01, 621.37it/s]"
     ]
    },
    {
     "name": "stderr",
     "output_type": "stream",
     "text": [
      "\r",
      "716it [00:01, 589.34it/s]"
     ]
    },
    {
     "name": "stderr",
     "output_type": "stream",
     "text": [
      "\r",
      "777it [00:01, 594.49it/s]"
     ]
    },
    {
     "name": "stderr",
     "output_type": "stream",
     "text": [
      "\r",
      "840it [00:01, 602.19it/s]"
     ]
    },
    {
     "name": "stderr",
     "output_type": "stream",
     "text": [
      "\r",
      "901it [00:01, 602.94it/s]"
     ]
    },
    {
     "name": "stderr",
     "output_type": "stream",
     "text": [
      "\r",
      "964it [00:01, 609.31it/s]"
     ]
    },
    {
     "name": "stderr",
     "output_type": "stream",
     "text": [
      "\r",
      "1026it [00:01, 607.82it/s]"
     ]
    },
    {
     "name": "stderr",
     "output_type": "stream",
     "text": [
      "\r",
      "1089it [00:01, 611.85it/s]"
     ]
    },
    {
     "name": "stderr",
     "output_type": "stream",
     "text": [
      "\r",
      "1151it [00:02, 607.09it/s]"
     ]
    },
    {
     "name": "stderr",
     "output_type": "stream",
     "text": [
      "\r",
      "1213it [00:02, 610.64it/s]"
     ]
    },
    {
     "name": "stderr",
     "output_type": "stream",
     "text": [
      "\r",
      "1275it [00:02, 607.92it/s]"
     ]
    },
    {
     "name": "stderr",
     "output_type": "stream",
     "text": [
      "\r",
      "1337it [00:02, 610.88it/s]"
     ]
    },
    {
     "name": "stderr",
     "output_type": "stream",
     "text": [
      "\r",
      "1400it [00:02, 614.17it/s]"
     ]
    },
    {
     "name": "stderr",
     "output_type": "stream",
     "text": [
      "\r",
      "1462it [00:02, 606.35it/s]"
     ]
    },
    {
     "name": "stderr",
     "output_type": "stream",
     "text": [
      "\r",
      "1525it [00:02, 613.14it/s]"
     ]
    },
    {
     "name": "stderr",
     "output_type": "stream",
     "text": [
      "\r",
      "1588it [00:02, 616.85it/s]"
     ]
    },
    {
     "name": "stderr",
     "output_type": "stream",
     "text": [
      "\r",
      "1650it [00:02, 609.89it/s]"
     ]
    },
    {
     "name": "stderr",
     "output_type": "stream",
     "text": [
      "\r",
      "1713it [00:02, 613.87it/s]"
     ]
    },
    {
     "name": "stderr",
     "output_type": "stream",
     "text": [
      "\r",
      "1776it [00:03, 616.98it/s]"
     ]
    },
    {
     "name": "stderr",
     "output_type": "stream",
     "text": [
      "\r",
      "1838it [00:03, 588.98it/s]"
     ]
    },
    {
     "name": "stderr",
     "output_type": "stream",
     "text": [
      "\r",
      "1900it [00:03, 595.89it/s]"
     ]
    },
    {
     "name": "stderr",
     "output_type": "stream",
     "text": [
      "\r",
      "1963it [00:03, 603.93it/s]"
     ]
    },
    {
     "name": "stderr",
     "output_type": "stream",
     "text": [
      "\r",
      "2026it [00:03, 608.79it/s]"
     ]
    },
    {
     "name": "stderr",
     "output_type": "stream",
     "text": [
      "\r",
      "2088it [00:03, 597.79it/s]"
     ]
    },
    {
     "name": "stderr",
     "output_type": "stream",
     "text": [
      "\r",
      "2151it [00:03, 605.64it/s]"
     ]
    },
    {
     "name": "stderr",
     "output_type": "stream",
     "text": [
      "\r",
      "2214it [00:03, 610.48it/s]"
     ]
    },
    {
     "name": "stderr",
     "output_type": "stream",
     "text": [
      "\r",
      "2277it [00:03, 615.40it/s]"
     ]
    },
    {
     "name": "stderr",
     "output_type": "stream",
     "text": [
      "\r",
      "2339it [00:03, 603.84it/s]"
     ]
    },
    {
     "name": "stderr",
     "output_type": "stream",
     "text": [
      "\r",
      "2401it [00:04, 608.08it/s]"
     ]
    },
    {
     "name": "stderr",
     "output_type": "stream",
     "text": [
      "\r",
      "2464it [00:04, 614.46it/s]"
     ]
    },
    {
     "name": "stderr",
     "output_type": "stream",
     "text": [
      "\r",
      "2528it [00:04, 620.91it/s]"
     ]
    },
    {
     "name": "stderr",
     "output_type": "stream",
     "text": [
      "\r",
      "2592it [00:04, 624.49it/s]"
     ]
    },
    {
     "name": "stderr",
     "output_type": "stream",
     "text": [
      "\r",
      "2655it [00:04, 609.60it/s]"
     ]
    },
    {
     "name": "stderr",
     "output_type": "stream",
     "text": [
      "\r",
      "2719it [00:04, 616.21it/s]"
     ]
    },
    {
     "name": "stderr",
     "output_type": "stream",
     "text": [
      "\r",
      "2782it [00:04, 619.91it/s]"
     ]
    },
    {
     "name": "stderr",
     "output_type": "stream",
     "text": [
      "\r",
      "2845it [00:04, 618.14it/s]"
     ]
    },
    {
     "name": "stderr",
     "output_type": "stream",
     "text": [
      "\r",
      "2909it [00:04, 622.18it/s]"
     ]
    },
    {
     "name": "stderr",
     "output_type": "stream",
     "text": [
      "\r",
      "2972it [00:05, 605.10it/s]"
     ]
    },
    {
     "name": "stderr",
     "output_type": "stream",
     "text": [
      "\r",
      "3035it [00:05, 610.42it/s]"
     ]
    },
    {
     "name": "stderr",
     "output_type": "stream",
     "text": [
      "\r",
      "3098it [00:05, 614.32it/s]"
     ]
    },
    {
     "name": "stderr",
     "output_type": "stream",
     "text": [
      "\r",
      "3161it [00:05, 616.78it/s]"
     ]
    },
    {
     "name": "stderr",
     "output_type": "stream",
     "text": [
      "\r",
      "3224it [00:05, 619.00it/s]"
     ]
    },
    {
     "name": "stderr",
     "output_type": "stream",
     "text": [
      "\r",
      "3286it [00:05, 617.79it/s]"
     ]
    },
    {
     "name": "stderr",
     "output_type": "stream",
     "text": [
      "\r",
      "3348it [00:05, 597.87it/s]"
     ]
    },
    {
     "name": "stderr",
     "output_type": "stream",
     "text": [
      "\r",
      "3408it [00:05, 597.01it/s]"
     ]
    },
    {
     "name": "stderr",
     "output_type": "stream",
     "text": [
      "\r",
      "3469it [00:05, 600.79it/s]"
     ]
    },
    {
     "name": "stderr",
     "output_type": "stream",
     "text": [
      "\r",
      "3531it [00:05, 605.75it/s]"
     ]
    },
    {
     "name": "stderr",
     "output_type": "stream",
     "text": [
      "\r",
      "3593it [00:06, 609.95it/s]"
     ]
    },
    {
     "name": "stderr",
     "output_type": "stream",
     "text": [
      "\r",
      "3656it [00:06, 613.25it/s]"
     ]
    },
    {
     "name": "stderr",
     "output_type": "stream",
     "text": [
      "\r",
      "3718it [00:06, 614.08it/s]"
     ]
    },
    {
     "name": "stderr",
     "output_type": "stream",
     "text": [
      "\r",
      "3780it [00:06, 593.58it/s]"
     ]
    },
    {
     "name": "stderr",
     "output_type": "stream",
     "text": [
      "\r",
      "3842it [00:06, 598.64it/s]"
     ]
    },
    {
     "name": "stderr",
     "output_type": "stream",
     "text": [
      "\r",
      "3904it [00:06, 602.70it/s]"
     ]
    },
    {
     "name": "stderr",
     "output_type": "stream",
     "text": [
      "\r",
      "3966it [00:06, 605.03it/s]"
     ]
    },
    {
     "name": "stderr",
     "output_type": "stream",
     "text": [
      "\r",
      "4028it [00:06, 606.59it/s]"
     ]
    },
    {
     "name": "stderr",
     "output_type": "stream",
     "text": [
      "\r",
      "4090it [00:06, 608.94it/s]"
     ]
    },
    {
     "name": "stderr",
     "output_type": "stream",
     "text": [
      "\r",
      "4152it [00:06, 609.79it/s]"
     ]
    },
    {
     "name": "stderr",
     "output_type": "stream",
     "text": [
      "\r",
      "4214it [00:07, 611.52it/s]"
     ]
    },
    {
     "name": "stderr",
     "output_type": "stream",
     "text": [
      "\r",
      "4276it [00:07, 586.39it/s]"
     ]
    },
    {
     "name": "stderr",
     "output_type": "stream",
     "text": [
      "\r",
      "4338it [00:07, 594.30it/s]"
     ]
    },
    {
     "name": "stderr",
     "output_type": "stream",
     "text": [
      "\r",
      "4398it [00:07, 595.53it/s]"
     ]
    },
    {
     "name": "stderr",
     "output_type": "stream",
     "text": [
      "\r",
      "4459it [00:07, 597.86it/s]"
     ]
    },
    {
     "name": "stderr",
     "output_type": "stream",
     "text": [
      "\r",
      "4520it [00:07, 598.52it/s]"
     ]
    },
    {
     "name": "stderr",
     "output_type": "stream",
     "text": [
      "\r",
      "4582it [00:07, 602.21it/s]"
     ]
    },
    {
     "name": "stderr",
     "output_type": "stream",
     "text": [
      "\r",
      "4644it [00:07, 604.46it/s]"
     ]
    },
    {
     "name": "stderr",
     "output_type": "stream",
     "text": [
      "\r",
      "4705it [00:07, 602.18it/s]"
     ]
    },
    {
     "name": "stderr",
     "output_type": "stream",
     "text": [
      "\r",
      "4767it [00:07, 604.59it/s]"
     ]
    },
    {
     "name": "stderr",
     "output_type": "stream",
     "text": [
      "\r",
      "4828it [00:08, 578.31it/s]"
     ]
    },
    {
     "name": "stderr",
     "output_type": "stream",
     "text": [
      "\r",
      "4890it [00:08, 587.79it/s]"
     ]
    },
    {
     "name": "stderr",
     "output_type": "stream",
     "text": [
      "\r",
      "4952it [00:08, 596.29it/s]"
     ]
    },
    {
     "name": "stderr",
     "output_type": "stream",
     "text": [
      "\r",
      "5014it [00:08, 601.69it/s]"
     ]
    },
    {
     "name": "stderr",
     "output_type": "stream",
     "text": [
      "\r",
      "5076it [00:08, 604.47it/s]"
     ]
    },
    {
     "name": "stderr",
     "output_type": "stream",
     "text": [
      "\r",
      "5138it [00:08, 607.73it/s]"
     ]
    },
    {
     "name": "stderr",
     "output_type": "stream",
     "text": [
      "\r",
      "5201it [00:08, 612.03it/s]"
     ]
    },
    {
     "name": "stderr",
     "output_type": "stream",
     "text": [
      "\r",
      "5264it [00:08, 616.20it/s]"
     ]
    },
    {
     "name": "stderr",
     "output_type": "stream",
     "text": [
      "\r",
      "5327it [00:08, 617.36it/s]"
     ]
    },
    {
     "name": "stderr",
     "output_type": "stream",
     "text": [
      "\r",
      "5389it [00:09, 588.10it/s]"
     ]
    },
    {
     "name": "stderr",
     "output_type": "stream",
     "text": [
      "\r",
      "5451it [00:09, 596.12it/s]"
     ]
    },
    {
     "name": "stderr",
     "output_type": "stream",
     "text": [
      "\r",
      "5514it [00:09, 604.74it/s]"
     ]
    },
    {
     "name": "stderr",
     "output_type": "stream",
     "text": [
      "\r",
      "5577it [00:09, 611.01it/s]"
     ]
    },
    {
     "name": "stderr",
     "output_type": "stream",
     "text": [
      "\r",
      "5640it [00:09, 613.90it/s]"
     ]
    },
    {
     "name": "stderr",
     "output_type": "stream",
     "text": [
      "\r",
      "5702it [00:09, 614.59it/s]"
     ]
    },
    {
     "name": "stderr",
     "output_type": "stream",
     "text": [
      "\r",
      "5764it [00:09, 614.08it/s]"
     ]
    },
    {
     "name": "stderr",
     "output_type": "stream",
     "text": [
      "\r",
      "5826it [00:09, 614.47it/s]"
     ]
    },
    {
     "name": "stderr",
     "output_type": "stream",
     "text": [
      "\r",
      "5888it [00:09, 614.38it/s]"
     ]
    },
    {
     "name": "stderr",
     "output_type": "stream",
     "text": [
      "\r",
      "5950it [00:09, 615.62it/s]"
     ]
    },
    {
     "name": "stderr",
     "output_type": "stream",
     "text": [
      "\r",
      "6012it [00:10, 615.37it/s]"
     ]
    },
    {
     "name": "stderr",
     "output_type": "stream",
     "text": [
      "\r",
      "6074it [00:10, 580.43it/s]"
     ]
    },
    {
     "name": "stderr",
     "output_type": "stream",
     "text": [
      "\r",
      "6136it [00:10, 591.41it/s]"
     ]
    },
    {
     "name": "stderr",
     "output_type": "stream",
     "text": [
      "\r",
      "6199it [00:10, 600.18it/s]"
     ]
    },
    {
     "name": "stderr",
     "output_type": "stream",
     "text": [
      "\r",
      "6261it [00:10, 605.11it/s]"
     ]
    },
    {
     "name": "stderr",
     "output_type": "stream",
     "text": [
      "\r",
      "6323it [00:10, 608.41it/s]"
     ]
    },
    {
     "name": "stderr",
     "output_type": "stream",
     "text": [
      "\r",
      "6385it [00:10, 609.21it/s]"
     ]
    },
    {
     "name": "stderr",
     "output_type": "stream",
     "text": [
      "\r",
      "6447it [00:10, 610.40it/s]"
     ]
    },
    {
     "name": "stderr",
     "output_type": "stream",
     "text": [
      "\r",
      "6509it [00:10, 610.43it/s]"
     ]
    },
    {
     "name": "stderr",
     "output_type": "stream",
     "text": [
      "\r",
      "6571it [00:10, 608.82it/s]"
     ]
    },
    {
     "name": "stderr",
     "output_type": "stream",
     "text": [
      "\r",
      "6632it [00:11, 608.96it/s]"
     ]
    },
    {
     "name": "stderr",
     "output_type": "stream",
     "text": [
      "\r",
      "6694it [00:11, 610.68it/s]"
     ]
    },
    {
     "name": "stderr",
     "output_type": "stream",
     "text": [
      "\r",
      "6756it [00:11, 603.85it/s]"
     ]
    },
    {
     "name": "stderr",
     "output_type": "stream",
     "text": [
      "\r",
      "6817it [00:11, 557.19it/s]"
     ]
    },
    {
     "name": "stderr",
     "output_type": "stream",
     "text": [
      "\r",
      "6874it [00:11, 540.43it/s]"
     ]
    },
    {
     "name": "stderr",
     "output_type": "stream",
     "text": [
      "\r",
      "6934it [00:11, 556.49it/s]"
     ]
    },
    {
     "name": "stderr",
     "output_type": "stream",
     "text": [
      "\r",
      "6994it [00:11, 568.78it/s]"
     ]
    },
    {
     "name": "stderr",
     "output_type": "stream",
     "text": [
      "\r",
      "7055it [00:11, 578.62it/s]"
     ]
    },
    {
     "name": "stderr",
     "output_type": "stream",
     "text": [
      "\r",
      "7115it [00:11, 584.69it/s]"
     ]
    },
    {
     "name": "stderr",
     "output_type": "stream",
     "text": [
      "\r",
      "7176it [00:12, 589.56it/s]"
     ]
    },
    {
     "name": "stderr",
     "output_type": "stream",
     "text": [
      "\r",
      "7236it [00:12, 592.46it/s]"
     ]
    },
    {
     "name": "stderr",
     "output_type": "stream",
     "text": [
      "\r",
      "7297it [00:12, 596.13it/s]"
     ]
    },
    {
     "name": "stderr",
     "output_type": "stream",
     "text": [
      "\r",
      "7358it [00:12, 598.59it/s]"
     ]
    },
    {
     "name": "stderr",
     "output_type": "stream",
     "text": [
      "\r",
      "7419it [00:12, 601.13it/s]"
     ]
    },
    {
     "name": "stderr",
     "output_type": "stream",
     "text": [
      "\r",
      "7480it [00:12, 600.48it/s]"
     ]
    },
    {
     "name": "stderr",
     "output_type": "stream",
     "text": [
      "\r",
      "7541it [00:12, 603.21it/s]"
     ]
    },
    {
     "name": "stderr",
     "output_type": "stream",
     "text": [
      "\r",
      "7602it [00:12, 604.50it/s]"
     ]
    },
    {
     "name": "stderr",
     "output_type": "stream",
     "text": [
      "\r",
      "7663it [00:12, 605.20it/s]"
     ]
    },
    {
     "name": "stderr",
     "output_type": "stream",
     "text": [
      "\r",
      "7724it [00:12, 555.05it/s]"
     ]
    },
    {
     "name": "stderr",
     "output_type": "stream",
     "text": [
      "\r",
      "7785it [00:13, 567.93it/s]"
     ]
    },
    {
     "name": "stderr",
     "output_type": "stream",
     "text": [
      "\r",
      "7846it [00:13, 579.08it/s]"
     ]
    },
    {
     "name": "stderr",
     "output_type": "stream",
     "text": [
      "\r",
      "7905it [00:13, 576.30it/s]"
     ]
    },
    {
     "name": "stderr",
     "output_type": "stream",
     "text": [
      "\r",
      "7966it [00:13, 583.69it/s]"
     ]
    },
    {
     "name": "stderr",
     "output_type": "stream",
     "text": [
      "\r",
      "8026it [00:13, 587.26it/s]"
     ]
    },
    {
     "name": "stderr",
     "output_type": "stream",
     "text": [
      "\r",
      "8087it [00:13, 591.80it/s]"
     ]
    },
    {
     "name": "stderr",
     "output_type": "stream",
     "text": [
      "\r",
      "8148it [00:13, 595.70it/s]"
     ]
    },
    {
     "name": "stderr",
     "output_type": "stream",
     "text": [
      "\r",
      "8210it [00:13, 600.19it/s]"
     ]
    },
    {
     "name": "stderr",
     "output_type": "stream",
     "text": [
      "\r",
      "8271it [00:13, 601.72it/s]"
     ]
    },
    {
     "name": "stderr",
     "output_type": "stream",
     "text": [
      "\r",
      "8333it [00:13, 605.00it/s]"
     ]
    },
    {
     "name": "stderr",
     "output_type": "stream",
     "text": [
      "\r",
      "8395it [00:14, 606.59it/s]"
     ]
    },
    {
     "name": "stderr",
     "output_type": "stream",
     "text": [
      "\r",
      "8457it [00:14, 609.49it/s]"
     ]
    },
    {
     "name": "stderr",
     "output_type": "stream",
     "text": [
      "\r",
      "8519it [00:14, 611.29it/s]"
     ]
    },
    {
     "name": "stderr",
     "output_type": "stream",
     "text": [
      "\r",
      "8581it [00:14, 612.24it/s]"
     ]
    },
    {
     "name": "stderr",
     "output_type": "stream",
     "text": [
      "\r",
      "8639it [00:14, 596.99it/s]"
     ]
    },
    {
     "name": "stderr",
     "output_type": "stream",
     "text": [
      "\n"
     ]
    }
   ],
   "source": [
    "source_files = glob.glob(f\"{results_dir}/source.*.jsonl\")\n",
    "key_to_source_series = defaultdict(list)\n",
    "key_to_source_timestamps = defaultdict(list)\n",
    "key_to_source_seqno = defaultdict(list)\n",
    "for path in source_files:\n",
    "    with open(path) as f:\n",
    "        for line in tqdm(f):\n",
    "            loaded = json.loads(line)\n",
    "            for entry in loaded:\n",
    "                key_id = str(entry[\"key_id\"])\n",
    "                key_to_source_series[key_id].append(entry[\"value\"])\n",
    "                key_to_source_timestamps[key_id].append(entry[\"ingest_time\"])\n",
    "                key_to_source_seqno[key_id].append(entry[\"seq_no\"])\n"
   ]
  },
  {
   "cell_type": "code",
   "execution_count": 7,
   "id": "0d9685a5",
   "metadata": {
    "execution": {
     "iopub.execute_input": "2022-04-05T07:07:35.453139Z",
     "iopub.status.busy": "2022-04-05T07:07:35.452888Z",
     "iopub.status.idle": "2022-04-05T07:07:35.473152Z",
     "shell.execute_reply": "2022-04-05T07:07:35.472742Z"
    },
    "papermill": {
     "duration": 0.064007,
     "end_time": "2022-04-05T07:07:35.474574",
     "exception": false,
     "start_time": "2022-04-05T07:07:35.410567",
     "status": "completed"
    },
    "tags": []
   },
   "outputs": [
    {
     "data": {
      "text/html": [
       "<div>\n",
       "<style scoped>\n",
       "    .dataframe tbody tr th:only-of-type {\n",
       "        vertical-align: middle;\n",
       "    }\n",
       "\n",
       "    .dataframe tbody tr th {\n",
       "        vertical-align: top;\n",
       "    }\n",
       "\n",
       "    .dataframe thead th {\n",
       "        text-align: right;\n",
       "    }\n",
       "</style>\n",
       "<table border=\"1\" class=\"dataframe\">\n",
       "  <thead>\n",
       "    <tr style=\"text-align: right;\">\n",
       "      <th></th>\n",
       "      <th>num_forecasts</th>\n",
       "    </tr>\n",
       "  </thead>\n",
       "  <tbody>\n",
       "    <tr>\n",
       "      <th>count</th>\n",
       "      <td>997.000000</td>\n",
       "    </tr>\n",
       "    <tr>\n",
       "      <th>mean</th>\n",
       "      <td>1.390171</td>\n",
       "    </tr>\n",
       "    <tr>\n",
       "      <th>std</th>\n",
       "      <td>0.887906</td>\n",
       "    </tr>\n",
       "    <tr>\n",
       "      <th>min</th>\n",
       "      <td>1.000000</td>\n",
       "    </tr>\n",
       "    <tr>\n",
       "      <th>25%</th>\n",
       "      <td>1.000000</td>\n",
       "    </tr>\n",
       "    <tr>\n",
       "      <th>50%</th>\n",
       "      <td>1.000000</td>\n",
       "    </tr>\n",
       "    <tr>\n",
       "      <th>75%</th>\n",
       "      <td>2.000000</td>\n",
       "    </tr>\n",
       "    <tr>\n",
       "      <th>max</th>\n",
       "      <td>12.000000</td>\n",
       "    </tr>\n",
       "  </tbody>\n",
       "</table>\n",
       "</div>"
      ],
      "text/plain": [
       "       num_forecasts\n",
       "count     997.000000\n",
       "mean        1.390171\n",
       "std         0.887906\n",
       "min         1.000000\n",
       "25%         1.000000\n",
       "50%         1.000000\n",
       "75%         2.000000\n",
       "max        12.000000"
      ]
     },
     "execution_count": 7,
     "metadata": {},
     "output_type": "execute_result"
    }
   ],
   "source": [
    "num_forecasts = pd.DataFrame([\n",
    "    {\"key\": k, \"num_forecasts\": len(v)} for k, v in key_to_last_seqnos.items()\n",
    "])\n",
    "num_forecasts.describe()"
   ]
  },
  {
   "cell_type": "code",
   "execution_count": 8,
   "id": "b1a73a6f",
   "metadata": {
    "execution": {
     "iopub.execute_input": "2022-04-05T07:07:35.557019Z",
     "iopub.status.busy": "2022-04-05T07:07:35.556819Z",
     "iopub.status.idle": "2022-04-05T07:07:37.082334Z",
     "shell.execute_reply": "2022-04-05T07:07:37.081866Z"
    },
    "papermill": {
     "duration": 1.568644,
     "end_time": "2022-04-05T07:07:37.084113",
     "exception": false,
     "start_time": "2022-04-05T07:07:35.515469",
     "status": "completed"
    },
    "tags": []
   },
   "outputs": [
    {
     "data": {
      "image/svg+xml": [
       "<?xml version=\"1.0\" encoding=\"utf-8\" standalone=\"no\"?>\n",
       "<!DOCTYPE svg PUBLIC \"-//W3C//DTD SVG 1.1//EN\"\n",
       "  \"http://www.w3.org/Graphics/SVG/1.1/DTD/svg11.dtd\">\n",
       "<svg xmlns:xlink=\"http://www.w3.org/1999/xlink\" width=\"419.212187pt\" height=\"275.191563pt\" viewBox=\"0 0 419.212187 275.191563\" xmlns=\"http://www.w3.org/2000/svg\" version=\"1.1\">\n",
       " <metadata>\n",
       "  <rdf:RDF xmlns:dc=\"http://purl.org/dc/elements/1.1/\" xmlns:cc=\"http://creativecommons.org/ns#\" xmlns:rdf=\"http://www.w3.org/1999/02/22-rdf-syntax-ns#\">\n",
       "   <cc:Work>\n",
       "    <dc:type rdf:resource=\"http://purl.org/dc/dcmitype/StillImage\"/>\n",
       "    <dc:date>2022-04-05T07:07:37.044408</dc:date>\n",
       "    <dc:format>image/svg+xml</dc:format>\n",
       "    <dc:creator>\n",
       "     <cc:Agent>\n",
       "      <dc:title>Matplotlib v3.5.1, https://matplotlib.org/</dc:title>\n",
       "     </cc:Agent>\n",
       "    </dc:creator>\n",
       "   </cc:Work>\n",
       "  </rdf:RDF>\n",
       " </metadata>\n",
       " <defs>\n",
       "  <style type=\"text/css\">*{stroke-linejoin: round; stroke-linecap: butt}</style>\n",
       " </defs>\n",
       " <g id=\"figure_1\">\n",
       "  <g id=\"patch_1\">\n",
       "   <path d=\"M 0 275.191563 \n",
       "L 419.212187 275.191563 \n",
       "L 419.212187 0 \n",
       "L 0 0 \n",
       "z\n",
       "\" style=\"fill: #ffffff\"/>\n",
       "  </g>\n",
       "  <g id=\"axes_1\">\n",
       "   <g id=\"patch_2\">\n",
       "    <path d=\"M 49.807188 231.898125 \n",
       "L 412.012187 231.898125 \n",
       "L 412.012187 22.318125 \n",
       "L 49.807188 22.318125 \n",
       "z\n",
       "\" style=\"fill: #ffffff\"/>\n",
       "   </g>\n",
       "   <g id=\"matplotlib.axis_1\">\n",
       "    <g id=\"xtick_1\">\n",
       "     <g id=\"line2d_1\">\n",
       "      <path d=\"M 53.606541 231.898125 \n",
       "L 53.606541 22.318125 \n",
       "\" clip-path=\"url(#pceb27f22b1)\" style=\"fill: none; stroke: #cccccc; stroke-linecap: round\"/>\n",
       "     </g>\n",
       "     <g id=\"text_1\">\n",
       "      <!-- 0 -->\n",
       "      <g style=\"fill: #262626\" transform=\"translate(50.107166 249.756406)scale(0.11 -0.11)\">\n",
       "       <defs>\n",
       "        <path id=\"DejaVuSans-30\" d=\"M 2034 4250 \n",
       "Q 1547 4250 1301 3770 \n",
       "Q 1056 3291 1056 2328 \n",
       "Q 1056 1369 1301 889 \n",
       "Q 1547 409 2034 409 \n",
       "Q 2525 409 2770 889 \n",
       "Q 3016 1369 3016 2328 \n",
       "Q 3016 3291 2770 3770 \n",
       "Q 2525 4250 2034 4250 \n",
       "z\n",
       "M 2034 4750 \n",
       "Q 2819 4750 3233 4129 \n",
       "Q 3647 3509 3647 2328 \n",
       "Q 3647 1150 3233 529 \n",
       "Q 2819 -91 2034 -91 \n",
       "Q 1250 -91 836 529 \n",
       "Q 422 1150 422 2328 \n",
       "Q 422 3509 836 4129 \n",
       "Q 1250 4750 2034 4750 \n",
       "z\n",
       "\" transform=\"scale(0.015625)\"/>\n",
       "       </defs>\n",
       "       <use xlink:href=\"#DejaVuSans-30\"/>\n",
       "      </g>\n",
       "     </g>\n",
       "    </g>\n",
       "    <g id=\"xtick_2\">\n",
       "     <g id=\"line2d_2\">\n",
       "      <path d=\"M 116.929093 231.898125 \n",
       "L 116.929093 22.318125 \n",
       "\" clip-path=\"url(#pceb27f22b1)\" style=\"fill: none; stroke: #cccccc; stroke-linecap: round\"/>\n",
       "     </g>\n",
       "     <g id=\"text_2\">\n",
       "      <!-- 5 -->\n",
       "      <g style=\"fill: #262626\" transform=\"translate(113.429718 249.756406)scale(0.11 -0.11)\">\n",
       "       <defs>\n",
       "        <path id=\"DejaVuSans-35\" d=\"M 691 4666 \n",
       "L 3169 4666 \n",
       "L 3169 4134 \n",
       "L 1269 4134 \n",
       "L 1269 2991 \n",
       "Q 1406 3038 1543 3061 \n",
       "Q 1681 3084 1819 3084 \n",
       "Q 2600 3084 3056 2656 \n",
       "Q 3513 2228 3513 1497 \n",
       "Q 3513 744 3044 326 \n",
       "Q 2575 -91 1722 -91 \n",
       "Q 1428 -91 1123 -41 \n",
       "Q 819 9 494 109 \n",
       "L 494 744 \n",
       "Q 775 591 1075 516 \n",
       "Q 1375 441 1709 441 \n",
       "Q 2250 441 2565 725 \n",
       "Q 2881 1009 2881 1497 \n",
       "Q 2881 1984 2565 2268 \n",
       "Q 2250 2553 1709 2553 \n",
       "Q 1456 2553 1204 2497 \n",
       "Q 953 2441 691 2322 \n",
       "L 691 4666 \n",
       "z\n",
       "\" transform=\"scale(0.015625)\"/>\n",
       "       </defs>\n",
       "       <use xlink:href=\"#DejaVuSans-35\"/>\n",
       "      </g>\n",
       "     </g>\n",
       "    </g>\n",
       "    <g id=\"xtick_3\">\n",
       "     <g id=\"line2d_3\">\n",
       "      <path d=\"M 180.251646 231.898125 \n",
       "L 180.251646 22.318125 \n",
       "\" clip-path=\"url(#pceb27f22b1)\" style=\"fill: none; stroke: #cccccc; stroke-linecap: round\"/>\n",
       "     </g>\n",
       "     <g id=\"text_3\">\n",
       "      <!-- 10 -->\n",
       "      <g style=\"fill: #262626\" transform=\"translate(173.252896 249.756406)scale(0.11 -0.11)\">\n",
       "       <defs>\n",
       "        <path id=\"DejaVuSans-31\" d=\"M 794 531 \n",
       "L 1825 531 \n",
       "L 1825 4091 \n",
       "L 703 3866 \n",
       "L 703 4441 \n",
       "L 1819 4666 \n",
       "L 2450 4666 \n",
       "L 2450 531 \n",
       "L 3481 531 \n",
       "L 3481 0 \n",
       "L 794 0 \n",
       "L 794 531 \n",
       "z\n",
       "\" transform=\"scale(0.015625)\"/>\n",
       "       </defs>\n",
       "       <use xlink:href=\"#DejaVuSans-31\"/>\n",
       "       <use xlink:href=\"#DejaVuSans-30\" x=\"63.623047\"/>\n",
       "      </g>\n",
       "     </g>\n",
       "    </g>\n",
       "    <g id=\"xtick_4\">\n",
       "     <g id=\"line2d_4\">\n",
       "      <path d=\"M 243.574198 231.898125 \n",
       "L 243.574198 22.318125 \n",
       "\" clip-path=\"url(#pceb27f22b1)\" style=\"fill: none; stroke: #cccccc; stroke-linecap: round\"/>\n",
       "     </g>\n",
       "     <g id=\"text_4\">\n",
       "      <!-- 15 -->\n",
       "      <g style=\"fill: #262626\" transform=\"translate(236.575448 249.756406)scale(0.11 -0.11)\">\n",
       "       <use xlink:href=\"#DejaVuSans-31\"/>\n",
       "       <use xlink:href=\"#DejaVuSans-35\" x=\"63.623047\"/>\n",
       "      </g>\n",
       "     </g>\n",
       "    </g>\n",
       "    <g id=\"xtick_5\">\n",
       "     <g id=\"line2d_5\">\n",
       "      <path d=\"M 306.89675 231.898125 \n",
       "L 306.89675 22.318125 \n",
       "\" clip-path=\"url(#pceb27f22b1)\" style=\"fill: none; stroke: #cccccc; stroke-linecap: round\"/>\n",
       "     </g>\n",
       "     <g id=\"text_5\">\n",
       "      <!-- 20 -->\n",
       "      <g style=\"fill: #262626\" transform=\"translate(299.898 249.756406)scale(0.11 -0.11)\">\n",
       "       <defs>\n",
       "        <path id=\"DejaVuSans-32\" d=\"M 1228 531 \n",
       "L 3431 531 \n",
       "L 3431 0 \n",
       "L 469 0 \n",
       "L 469 531 \n",
       "Q 828 903 1448 1529 \n",
       "Q 2069 2156 2228 2338 \n",
       "Q 2531 2678 2651 2914 \n",
       "Q 2772 3150 2772 3378 \n",
       "Q 2772 3750 2511 3984 \n",
       "Q 2250 4219 1831 4219 \n",
       "Q 1534 4219 1204 4116 \n",
       "Q 875 4013 500 3803 \n",
       "L 500 4441 \n",
       "Q 881 4594 1212 4672 \n",
       "Q 1544 4750 1819 4750 \n",
       "Q 2544 4750 2975 4387 \n",
       "Q 3406 4025 3406 3419 \n",
       "Q 3406 3131 3298 2873 \n",
       "Q 3191 2616 2906 2266 \n",
       "Q 2828 2175 2409 1742 \n",
       "Q 1991 1309 1228 531 \n",
       "z\n",
       "\" transform=\"scale(0.015625)\"/>\n",
       "       </defs>\n",
       "       <use xlink:href=\"#DejaVuSans-32\"/>\n",
       "       <use xlink:href=\"#DejaVuSans-30\" x=\"63.623047\"/>\n",
       "      </g>\n",
       "     </g>\n",
       "    </g>\n",
       "    <g id=\"xtick_6\">\n",
       "     <g id=\"line2d_6\">\n",
       "      <path d=\"M 370.219303 231.898125 \n",
       "L 370.219303 22.318125 \n",
       "\" clip-path=\"url(#pceb27f22b1)\" style=\"fill: none; stroke: #cccccc; stroke-linecap: round\"/>\n",
       "     </g>\n",
       "     <g id=\"text_6\">\n",
       "      <!-- 25 -->\n",
       "      <g style=\"fill: #262626\" transform=\"translate(363.220553 249.756406)scale(0.11 -0.11)\">\n",
       "       <use xlink:href=\"#DejaVuSans-32\"/>\n",
       "       <use xlink:href=\"#DejaVuSans-35\" x=\"63.623047\"/>\n",
       "      </g>\n",
       "     </g>\n",
       "    </g>\n",
       "    <g id=\"text_7\">\n",
       "     <!-- num_forecasts -->\n",
       "     <g style=\"fill: #262626\" transform=\"translate(187.074062 265.162188)scale(0.12 -0.12)\">\n",
       "      <defs>\n",
       "       <path id=\"DejaVuSans-6e\" d=\"M 3513 2113 \n",
       "L 3513 0 \n",
       "L 2938 0 \n",
       "L 2938 2094 \n",
       "Q 2938 2591 2744 2837 \n",
       "Q 2550 3084 2163 3084 \n",
       "Q 1697 3084 1428 2787 \n",
       "Q 1159 2491 1159 1978 \n",
       "L 1159 0 \n",
       "L 581 0 \n",
       "L 581 3500 \n",
       "L 1159 3500 \n",
       "L 1159 2956 \n",
       "Q 1366 3272 1645 3428 \n",
       "Q 1925 3584 2291 3584 \n",
       "Q 2894 3584 3203 3211 \n",
       "Q 3513 2838 3513 2113 \n",
       "z\n",
       "\" transform=\"scale(0.015625)\"/>\n",
       "       <path id=\"DejaVuSans-75\" d=\"M 544 1381 \n",
       "L 544 3500 \n",
       "L 1119 3500 \n",
       "L 1119 1403 \n",
       "Q 1119 906 1312 657 \n",
       "Q 1506 409 1894 409 \n",
       "Q 2359 409 2629 706 \n",
       "Q 2900 1003 2900 1516 \n",
       "L 2900 3500 \n",
       "L 3475 3500 \n",
       "L 3475 0 \n",
       "L 2900 0 \n",
       "L 2900 538 \n",
       "Q 2691 219 2414 64 \n",
       "Q 2138 -91 1772 -91 \n",
       "Q 1169 -91 856 284 \n",
       "Q 544 659 544 1381 \n",
       "z\n",
       "M 1991 3584 \n",
       "L 1991 3584 \n",
       "z\n",
       "\" transform=\"scale(0.015625)\"/>\n",
       "       <path id=\"DejaVuSans-6d\" d=\"M 3328 2828 \n",
       "Q 3544 3216 3844 3400 \n",
       "Q 4144 3584 4550 3584 \n",
       "Q 5097 3584 5394 3201 \n",
       "Q 5691 2819 5691 2113 \n",
       "L 5691 0 \n",
       "L 5113 0 \n",
       "L 5113 2094 \n",
       "Q 5113 2597 4934 2840 \n",
       "Q 4756 3084 4391 3084 \n",
       "Q 3944 3084 3684 2787 \n",
       "Q 3425 2491 3425 1978 \n",
       "L 3425 0 \n",
       "L 2847 0 \n",
       "L 2847 2094 \n",
       "Q 2847 2600 2669 2842 \n",
       "Q 2491 3084 2119 3084 \n",
       "Q 1678 3084 1418 2786 \n",
       "Q 1159 2488 1159 1978 \n",
       "L 1159 0 \n",
       "L 581 0 \n",
       "L 581 3500 \n",
       "L 1159 3500 \n",
       "L 1159 2956 \n",
       "Q 1356 3278 1631 3431 \n",
       "Q 1906 3584 2284 3584 \n",
       "Q 2666 3584 2933 3390 \n",
       "Q 3200 3197 3328 2828 \n",
       "z\n",
       "\" transform=\"scale(0.015625)\"/>\n",
       "       <path id=\"DejaVuSans-5f\" d=\"M 3263 -1063 \n",
       "L 3263 -1509 \n",
       "L -63 -1509 \n",
       "L -63 -1063 \n",
       "L 3263 -1063 \n",
       "z\n",
       "\" transform=\"scale(0.015625)\"/>\n",
       "       <path id=\"DejaVuSans-66\" d=\"M 2375 4863 \n",
       "L 2375 4384 \n",
       "L 1825 4384 \n",
       "Q 1516 4384 1395 4259 \n",
       "Q 1275 4134 1275 3809 \n",
       "L 1275 3500 \n",
       "L 2222 3500 \n",
       "L 2222 3053 \n",
       "L 1275 3053 \n",
       "L 1275 0 \n",
       "L 697 0 \n",
       "L 697 3053 \n",
       "L 147 3053 \n",
       "L 147 3500 \n",
       "L 697 3500 \n",
       "L 697 3744 \n",
       "Q 697 4328 969 4595 \n",
       "Q 1241 4863 1831 4863 \n",
       "L 2375 4863 \n",
       "z\n",
       "\" transform=\"scale(0.015625)\"/>\n",
       "       <path id=\"DejaVuSans-6f\" d=\"M 1959 3097 \n",
       "Q 1497 3097 1228 2736 \n",
       "Q 959 2375 959 1747 \n",
       "Q 959 1119 1226 758 \n",
       "Q 1494 397 1959 397 \n",
       "Q 2419 397 2687 759 \n",
       "Q 2956 1122 2956 1747 \n",
       "Q 2956 2369 2687 2733 \n",
       "Q 2419 3097 1959 3097 \n",
       "z\n",
       "M 1959 3584 \n",
       "Q 2709 3584 3137 3096 \n",
       "Q 3566 2609 3566 1747 \n",
       "Q 3566 888 3137 398 \n",
       "Q 2709 -91 1959 -91 \n",
       "Q 1206 -91 779 398 \n",
       "Q 353 888 353 1747 \n",
       "Q 353 2609 779 3096 \n",
       "Q 1206 3584 1959 3584 \n",
       "z\n",
       "\" transform=\"scale(0.015625)\"/>\n",
       "       <path id=\"DejaVuSans-72\" d=\"M 2631 2963 \n",
       "Q 2534 3019 2420 3045 \n",
       "Q 2306 3072 2169 3072 \n",
       "Q 1681 3072 1420 2755 \n",
       "Q 1159 2438 1159 1844 \n",
       "L 1159 0 \n",
       "L 581 0 \n",
       "L 581 3500 \n",
       "L 1159 3500 \n",
       "L 1159 2956 \n",
       "Q 1341 3275 1631 3429 \n",
       "Q 1922 3584 2338 3584 \n",
       "Q 2397 3584 2469 3576 \n",
       "Q 2541 3569 2628 3553 \n",
       "L 2631 2963 \n",
       "z\n",
       "\" transform=\"scale(0.015625)\"/>\n",
       "       <path id=\"DejaVuSans-65\" d=\"M 3597 1894 \n",
       "L 3597 1613 \n",
       "L 953 1613 \n",
       "Q 991 1019 1311 708 \n",
       "Q 1631 397 2203 397 \n",
       "Q 2534 397 2845 478 \n",
       "Q 3156 559 3463 722 \n",
       "L 3463 178 \n",
       "Q 3153 47 2828 -22 \n",
       "Q 2503 -91 2169 -91 \n",
       "Q 1331 -91 842 396 \n",
       "Q 353 884 353 1716 \n",
       "Q 353 2575 817 3079 \n",
       "Q 1281 3584 2069 3584 \n",
       "Q 2775 3584 3186 3129 \n",
       "Q 3597 2675 3597 1894 \n",
       "z\n",
       "M 3022 2063 \n",
       "Q 3016 2534 2758 2815 \n",
       "Q 2500 3097 2075 3097 \n",
       "Q 1594 3097 1305 2825 \n",
       "Q 1016 2553 972 2059 \n",
       "L 3022 2063 \n",
       "z\n",
       "\" transform=\"scale(0.015625)\"/>\n",
       "       <path id=\"DejaVuSans-63\" d=\"M 3122 3366 \n",
       "L 3122 2828 \n",
       "Q 2878 2963 2633 3030 \n",
       "Q 2388 3097 2138 3097 \n",
       "Q 1578 3097 1268 2742 \n",
       "Q 959 2388 959 1747 \n",
       "Q 959 1106 1268 751 \n",
       "Q 1578 397 2138 397 \n",
       "Q 2388 397 2633 464 \n",
       "Q 2878 531 3122 666 \n",
       "L 3122 134 \n",
       "Q 2881 22 2623 -34 \n",
       "Q 2366 -91 2075 -91 \n",
       "Q 1284 -91 818 406 \n",
       "Q 353 903 353 1747 \n",
       "Q 353 2603 823 3093 \n",
       "Q 1294 3584 2113 3584 \n",
       "Q 2378 3584 2631 3529 \n",
       "Q 2884 3475 3122 3366 \n",
       "z\n",
       "\" transform=\"scale(0.015625)\"/>\n",
       "       <path id=\"DejaVuSans-61\" d=\"M 2194 1759 \n",
       "Q 1497 1759 1228 1600 \n",
       "Q 959 1441 959 1056 \n",
       "Q 959 750 1161 570 \n",
       "Q 1363 391 1709 391 \n",
       "Q 2188 391 2477 730 \n",
       "Q 2766 1069 2766 1631 \n",
       "L 2766 1759 \n",
       "L 2194 1759 \n",
       "z\n",
       "M 3341 1997 \n",
       "L 3341 0 \n",
       "L 2766 0 \n",
       "L 2766 531 \n",
       "Q 2569 213 2275 61 \n",
       "Q 1981 -91 1556 -91 \n",
       "Q 1019 -91 701 211 \n",
       "Q 384 513 384 1019 \n",
       "Q 384 1609 779 1909 \n",
       "Q 1175 2209 1959 2209 \n",
       "L 2766 2209 \n",
       "L 2766 2266 \n",
       "Q 2766 2663 2505 2880 \n",
       "Q 2244 3097 1772 3097 \n",
       "Q 1472 3097 1187 3025 \n",
       "Q 903 2953 641 2809 \n",
       "L 641 3341 \n",
       "Q 956 3463 1253 3523 \n",
       "Q 1550 3584 1831 3584 \n",
       "Q 2591 3584 2966 3190 \n",
       "Q 3341 2797 3341 1997 \n",
       "z\n",
       "\" transform=\"scale(0.015625)\"/>\n",
       "       <path id=\"DejaVuSans-73\" d=\"M 2834 3397 \n",
       "L 2834 2853 \n",
       "Q 2591 2978 2328 3040 \n",
       "Q 2066 3103 1784 3103 \n",
       "Q 1356 3103 1142 2972 \n",
       "Q 928 2841 928 2578 \n",
       "Q 928 2378 1081 2264 \n",
       "Q 1234 2150 1697 2047 \n",
       "L 1894 2003 \n",
       "Q 2506 1872 2764 1633 \n",
       "Q 3022 1394 3022 966 \n",
       "Q 3022 478 2636 193 \n",
       "Q 2250 -91 1575 -91 \n",
       "Q 1294 -91 989 -36 \n",
       "Q 684 19 347 128 \n",
       "L 347 722 \n",
       "Q 666 556 975 473 \n",
       "Q 1284 391 1588 391 \n",
       "Q 1994 391 2212 530 \n",
       "Q 2431 669 2431 922 \n",
       "Q 2431 1156 2273 1281 \n",
       "Q 2116 1406 1581 1522 \n",
       "L 1381 1569 \n",
       "Q 847 1681 609 1914 \n",
       "Q 372 2147 372 2553 \n",
       "Q 372 3047 722 3315 \n",
       "Q 1072 3584 1716 3584 \n",
       "Q 2034 3584 2315 3537 \n",
       "Q 2597 3491 2834 3397 \n",
       "z\n",
       "\" transform=\"scale(0.015625)\"/>\n",
       "       <path id=\"DejaVuSans-74\" d=\"M 1172 4494 \n",
       "L 1172 3500 \n",
       "L 2356 3500 \n",
       "L 2356 3053 \n",
       "L 1172 3053 \n",
       "L 1172 1153 \n",
       "Q 1172 725 1289 603 \n",
       "Q 1406 481 1766 481 \n",
       "L 2356 481 \n",
       "L 2356 0 \n",
       "L 1766 0 \n",
       "Q 1100 0 847 248 \n",
       "Q 594 497 594 1153 \n",
       "L 594 3053 \n",
       "L 172 3053 \n",
       "L 172 3500 \n",
       "L 594 3500 \n",
       "L 594 4494 \n",
       "L 1172 4494 \n",
       "z\n",
       "\" transform=\"scale(0.015625)\"/>\n",
       "      </defs>\n",
       "      <use xlink:href=\"#DejaVuSans-6e\"/>\n",
       "      <use xlink:href=\"#DejaVuSans-75\" x=\"63.378906\"/>\n",
       "      <use xlink:href=\"#DejaVuSans-6d\" x=\"126.757812\"/>\n",
       "      <use xlink:href=\"#DejaVuSans-5f\" x=\"224.169922\"/>\n",
       "      <use xlink:href=\"#DejaVuSans-66\" x=\"274.169922\"/>\n",
       "      <use xlink:href=\"#DejaVuSans-6f\" x=\"309.375\"/>\n",
       "      <use xlink:href=\"#DejaVuSans-72\" x=\"370.556641\"/>\n",
       "      <use xlink:href=\"#DejaVuSans-65\" x=\"409.419922\"/>\n",
       "      <use xlink:href=\"#DejaVuSans-63\" x=\"470.943359\"/>\n",
       "      <use xlink:href=\"#DejaVuSans-61\" x=\"525.923828\"/>\n",
       "      <use xlink:href=\"#DejaVuSans-73\" x=\"587.203125\"/>\n",
       "      <use xlink:href=\"#DejaVuSans-74\" x=\"639.302734\"/>\n",
       "      <use xlink:href=\"#DejaVuSans-73\" x=\"678.511719\"/>\n",
       "     </g>\n",
       "    </g>\n",
       "   </g>\n",
       "   <g id=\"matplotlib.axis_2\">\n",
       "    <g id=\"ytick_1\">\n",
       "     <g id=\"line2d_7\">\n",
       "      <path d=\"M 49.807188 231.898125 \n",
       "L 412.012187 231.898125 \n",
       "\" clip-path=\"url(#pceb27f22b1)\" style=\"fill: none; stroke: #cccccc; stroke-linecap: round\"/>\n",
       "     </g>\n",
       "     <g id=\"text_8\">\n",
       "      <!-- 0.0 -->\n",
       "      <g style=\"fill: #262626\" transform=\"translate(22.81375 236.077266)scale(0.11 -0.11)\">\n",
       "       <defs>\n",
       "        <path id=\"DejaVuSans-2e\" d=\"M 684 794 \n",
       "L 1344 794 \n",
       "L 1344 0 \n",
       "L 684 0 \n",
       "L 684 794 \n",
       "z\n",
       "\" transform=\"scale(0.015625)\"/>\n",
       "       </defs>\n",
       "       <use xlink:href=\"#DejaVuSans-30\"/>\n",
       "       <use xlink:href=\"#DejaVuSans-2e\" x=\"63.623047\"/>\n",
       "       <use xlink:href=\"#DejaVuSans-30\" x=\"95.410156\"/>\n",
       "      </g>\n",
       "     </g>\n",
       "    </g>\n",
       "    <g id=\"ytick_2\">\n",
       "     <g id=\"line2d_8\">\n",
       "      <path d=\"M 49.807188 189.982125 \n",
       "L 412.012187 189.982125 \n",
       "\" clip-path=\"url(#pceb27f22b1)\" style=\"fill: none; stroke: #cccccc; stroke-linecap: round\"/>\n",
       "     </g>\n",
       "     <g id=\"text_9\">\n",
       "      <!-- 0.2 -->\n",
       "      <g style=\"fill: #262626\" transform=\"translate(22.81375 194.161266)scale(0.11 -0.11)\">\n",
       "       <use xlink:href=\"#DejaVuSans-30\"/>\n",
       "       <use xlink:href=\"#DejaVuSans-2e\" x=\"63.623047\"/>\n",
       "       <use xlink:href=\"#DejaVuSans-32\" x=\"95.410156\"/>\n",
       "      </g>\n",
       "     </g>\n",
       "    </g>\n",
       "    <g id=\"ytick_3\">\n",
       "     <g id=\"line2d_9\">\n",
       "      <path d=\"M 49.807188 148.066125 \n",
       "L 412.012187 148.066125 \n",
       "\" clip-path=\"url(#pceb27f22b1)\" style=\"fill: none; stroke: #cccccc; stroke-linecap: round\"/>\n",
       "     </g>\n",
       "     <g id=\"text_10\">\n",
       "      <!-- 0.4 -->\n",
       "      <g style=\"fill: #262626\" transform=\"translate(22.81375 152.245266)scale(0.11 -0.11)\">\n",
       "       <defs>\n",
       "        <path id=\"DejaVuSans-34\" d=\"M 2419 4116 \n",
       "L 825 1625 \n",
       "L 2419 1625 \n",
       "L 2419 4116 \n",
       "z\n",
       "M 2253 4666 \n",
       "L 3047 4666 \n",
       "L 3047 1625 \n",
       "L 3713 1625 \n",
       "L 3713 1100 \n",
       "L 3047 1100 \n",
       "L 3047 0 \n",
       "L 2419 0 \n",
       "L 2419 1100 \n",
       "L 313 1100 \n",
       "L 313 1709 \n",
       "L 2253 4666 \n",
       "z\n",
       "\" transform=\"scale(0.015625)\"/>\n",
       "       </defs>\n",
       "       <use xlink:href=\"#DejaVuSans-30\"/>\n",
       "       <use xlink:href=\"#DejaVuSans-2e\" x=\"63.623047\"/>\n",
       "       <use xlink:href=\"#DejaVuSans-34\" x=\"95.410156\"/>\n",
       "      </g>\n",
       "     </g>\n",
       "    </g>\n",
       "    <g id=\"ytick_4\">\n",
       "     <g id=\"line2d_10\">\n",
       "      <path d=\"M 49.807188 106.150125 \n",
       "L 412.012187 106.150125 \n",
       "\" clip-path=\"url(#pceb27f22b1)\" style=\"fill: none; stroke: #cccccc; stroke-linecap: round\"/>\n",
       "     </g>\n",
       "     <g id=\"text_11\">\n",
       "      <!-- 0.6 -->\n",
       "      <g style=\"fill: #262626\" transform=\"translate(22.81375 110.329266)scale(0.11 -0.11)\">\n",
       "       <defs>\n",
       "        <path id=\"DejaVuSans-36\" d=\"M 2113 2584 \n",
       "Q 1688 2584 1439 2293 \n",
       "Q 1191 2003 1191 1497 \n",
       "Q 1191 994 1439 701 \n",
       "Q 1688 409 2113 409 \n",
       "Q 2538 409 2786 701 \n",
       "Q 3034 994 3034 1497 \n",
       "Q 3034 2003 2786 2293 \n",
       "Q 2538 2584 2113 2584 \n",
       "z\n",
       "M 3366 4563 \n",
       "L 3366 3988 \n",
       "Q 3128 4100 2886 4159 \n",
       "Q 2644 4219 2406 4219 \n",
       "Q 1781 4219 1451 3797 \n",
       "Q 1122 3375 1075 2522 \n",
       "Q 1259 2794 1537 2939 \n",
       "Q 1816 3084 2150 3084 \n",
       "Q 2853 3084 3261 2657 \n",
       "Q 3669 2231 3669 1497 \n",
       "Q 3669 778 3244 343 \n",
       "Q 2819 -91 2113 -91 \n",
       "Q 1303 -91 875 529 \n",
       "Q 447 1150 447 2328 \n",
       "Q 447 3434 972 4092 \n",
       "Q 1497 4750 2381 4750 \n",
       "Q 2619 4750 2861 4703 \n",
       "Q 3103 4656 3366 4563 \n",
       "z\n",
       "\" transform=\"scale(0.015625)\"/>\n",
       "       </defs>\n",
       "       <use xlink:href=\"#DejaVuSans-30\"/>\n",
       "       <use xlink:href=\"#DejaVuSans-2e\" x=\"63.623047\"/>\n",
       "       <use xlink:href=\"#DejaVuSans-36\" x=\"95.410156\"/>\n",
       "      </g>\n",
       "     </g>\n",
       "    </g>\n",
       "    <g id=\"ytick_5\">\n",
       "     <g id=\"line2d_11\">\n",
       "      <path d=\"M 49.807188 64.234125 \n",
       "L 412.012187 64.234125 \n",
       "\" clip-path=\"url(#pceb27f22b1)\" style=\"fill: none; stroke: #cccccc; stroke-linecap: round\"/>\n",
       "     </g>\n",
       "     <g id=\"text_12\">\n",
       "      <!-- 0.8 -->\n",
       "      <g style=\"fill: #262626\" transform=\"translate(22.81375 68.413266)scale(0.11 -0.11)\">\n",
       "       <defs>\n",
       "        <path id=\"DejaVuSans-38\" d=\"M 2034 2216 \n",
       "Q 1584 2216 1326 1975 \n",
       "Q 1069 1734 1069 1313 \n",
       "Q 1069 891 1326 650 \n",
       "Q 1584 409 2034 409 \n",
       "Q 2484 409 2743 651 \n",
       "Q 3003 894 3003 1313 \n",
       "Q 3003 1734 2745 1975 \n",
       "Q 2488 2216 2034 2216 \n",
       "z\n",
       "M 1403 2484 \n",
       "Q 997 2584 770 2862 \n",
       "Q 544 3141 544 3541 \n",
       "Q 544 4100 942 4425 \n",
       "Q 1341 4750 2034 4750 \n",
       "Q 2731 4750 3128 4425 \n",
       "Q 3525 4100 3525 3541 \n",
       "Q 3525 3141 3298 2862 \n",
       "Q 3072 2584 2669 2484 \n",
       "Q 3125 2378 3379 2068 \n",
       "Q 3634 1759 3634 1313 \n",
       "Q 3634 634 3220 271 \n",
       "Q 2806 -91 2034 -91 \n",
       "Q 1263 -91 848 271 \n",
       "Q 434 634 434 1313 \n",
       "Q 434 1759 690 2068 \n",
       "Q 947 2378 1403 2484 \n",
       "z\n",
       "M 1172 3481 \n",
       "Q 1172 3119 1398 2916 \n",
       "Q 1625 2713 2034 2713 \n",
       "Q 2441 2713 2670 2916 \n",
       "Q 2900 3119 2900 3481 \n",
       "Q 2900 3844 2670 4047 \n",
       "Q 2441 4250 2034 4250 \n",
       "Q 1625 4250 1398 4047 \n",
       "Q 1172 3844 1172 3481 \n",
       "z\n",
       "\" transform=\"scale(0.015625)\"/>\n",
       "       </defs>\n",
       "       <use xlink:href=\"#DejaVuSans-30\"/>\n",
       "       <use xlink:href=\"#DejaVuSans-2e\" x=\"63.623047\"/>\n",
       "       <use xlink:href=\"#DejaVuSans-38\" x=\"95.410156\"/>\n",
       "      </g>\n",
       "     </g>\n",
       "    </g>\n",
       "    <g id=\"ytick_6\">\n",
       "     <g id=\"line2d_12\">\n",
       "      <path d=\"M 49.807188 22.318125 \n",
       "L 412.012187 22.318125 \n",
       "\" clip-path=\"url(#pceb27f22b1)\" style=\"fill: none; stroke: #cccccc; stroke-linecap: round\"/>\n",
       "     </g>\n",
       "     <g id=\"text_13\">\n",
       "      <!-- 1.0 -->\n",
       "      <g style=\"fill: #262626\" transform=\"translate(22.81375 26.497266)scale(0.11 -0.11)\">\n",
       "       <use xlink:href=\"#DejaVuSans-31\"/>\n",
       "       <use xlink:href=\"#DejaVuSans-2e\" x=\"63.623047\"/>\n",
       "       <use xlink:href=\"#DejaVuSans-30\" x=\"95.410156\"/>\n",
       "      </g>\n",
       "     </g>\n",
       "    </g>\n",
       "    <g id=\"text_14\">\n",
       "     <!-- Proportion -->\n",
       "     <g style=\"fill: #262626\" transform=\"translate(16.318125 158.063438)rotate(-90)scale(0.12 -0.12)\">\n",
       "      <defs>\n",
       "       <path id=\"DejaVuSans-50\" d=\"M 1259 4147 \n",
       "L 1259 2394 \n",
       "L 2053 2394 \n",
       "Q 2494 2394 2734 2622 \n",
       "Q 2975 2850 2975 3272 \n",
       "Q 2975 3691 2734 3919 \n",
       "Q 2494 4147 2053 4147 \n",
       "L 1259 4147 \n",
       "z\n",
       "M 628 4666 \n",
       "L 2053 4666 \n",
       "Q 2838 4666 3239 4311 \n",
       "Q 3641 3956 3641 3272 \n",
       "Q 3641 2581 3239 2228 \n",
       "Q 2838 1875 2053 1875 \n",
       "L 1259 1875 \n",
       "L 1259 0 \n",
       "L 628 0 \n",
       "L 628 4666 \n",
       "z\n",
       "\" transform=\"scale(0.015625)\"/>\n",
       "       <path id=\"DejaVuSans-70\" d=\"M 1159 525 \n",
       "L 1159 -1331 \n",
       "L 581 -1331 \n",
       "L 581 3500 \n",
       "L 1159 3500 \n",
       "L 1159 2969 \n",
       "Q 1341 3281 1617 3432 \n",
       "Q 1894 3584 2278 3584 \n",
       "Q 2916 3584 3314 3078 \n",
       "Q 3713 2572 3713 1747 \n",
       "Q 3713 922 3314 415 \n",
       "Q 2916 -91 2278 -91 \n",
       "Q 1894 -91 1617 61 \n",
       "Q 1341 213 1159 525 \n",
       "z\n",
       "M 3116 1747 \n",
       "Q 3116 2381 2855 2742 \n",
       "Q 2594 3103 2138 3103 \n",
       "Q 1681 3103 1420 2742 \n",
       "Q 1159 2381 1159 1747 \n",
       "Q 1159 1113 1420 752 \n",
       "Q 1681 391 2138 391 \n",
       "Q 2594 391 2855 752 \n",
       "Q 3116 1113 3116 1747 \n",
       "z\n",
       "\" transform=\"scale(0.015625)\"/>\n",
       "       <path id=\"DejaVuSans-69\" d=\"M 603 3500 \n",
       "L 1178 3500 \n",
       "L 1178 0 \n",
       "L 603 0 \n",
       "L 603 3500 \n",
       "z\n",
       "M 603 4863 \n",
       "L 1178 4863 \n",
       "L 1178 4134 \n",
       "L 603 4134 \n",
       "L 603 4863 \n",
       "z\n",
       "\" transform=\"scale(0.015625)\"/>\n",
       "      </defs>\n",
       "      <use xlink:href=\"#DejaVuSans-50\"/>\n",
       "      <use xlink:href=\"#DejaVuSans-72\" x=\"58.552734\"/>\n",
       "      <use xlink:href=\"#DejaVuSans-6f\" x=\"97.416016\"/>\n",
       "      <use xlink:href=\"#DejaVuSans-70\" x=\"158.597656\"/>\n",
       "      <use xlink:href=\"#DejaVuSans-6f\" x=\"222.074219\"/>\n",
       "      <use xlink:href=\"#DejaVuSans-72\" x=\"283.255859\"/>\n",
       "      <use xlink:href=\"#DejaVuSans-74\" x=\"324.369141\"/>\n",
       "      <use xlink:href=\"#DejaVuSans-69\" x=\"363.578125\"/>\n",
       "      <use xlink:href=\"#DejaVuSans-6f\" x=\"391.361328\"/>\n",
       "      <use xlink:href=\"#DejaVuSans-6e\" x=\"452.542969\"/>\n",
       "     </g>\n",
       "    </g>\n",
       "   </g>\n",
       "   <g id=\"line2d_13\">\n",
       "    <path d=\"M 66.271051 231.898125 \n",
       "L 66.271051 76.762679 \n",
       "L 78.935562 76.762679 \n",
       "L 78.935562 37.032869 \n",
       "L 91.600072 37.032869 \n",
       "L 91.600072 28.414233 \n",
       "L 104.264583 28.414233 \n",
       "L 104.264583 25.050863 \n",
       "L 116.929093 25.050863 \n",
       "L 116.929093 23.369178 \n",
       "L 129.593604 23.369178 \n",
       "L 129.593604 23.158968 \n",
       "L 142.258114 23.158968 \n",
       "L 142.258114 22.948757 \n",
       "L 154.922625 22.948757 \n",
       "L 154.922625 22.738546 \n",
       "L 180.251646 22.738546 \n",
       "L 180.251646 22.528336 \n",
       "L 205.580667 22.528336 \n",
       "L 205.580667 22.318125 \n",
       "L 205.580667 22.318125 \n",
       "\" clip-path=\"url(#pceb27f22b1)\" style=\"fill: none; stroke: #4878d0; stroke-width: 1.5; stroke-linecap: round\"/>\n",
       "   </g>\n",
       "   <g id=\"line2d_14\">\n",
       "    <path d=\"M 395.548324 231.898125 \n",
       "L 395.548324 22.318125 \n",
       "\" clip-path=\"url(#pceb27f22b1)\" style=\"fill: none; stroke: #ffa500; stroke-width: 1.5; stroke-linecap: round\"/>\n",
       "   </g>\n",
       "   <g id=\"patch_3\">\n",
       "    <path d=\"M 49.807188 231.898125 \n",
       "L 49.807188 22.318125 \n",
       "\" style=\"fill: none; stroke: #cccccc; stroke-width: 1.25; stroke-linejoin: miter; stroke-linecap: square\"/>\n",
       "   </g>\n",
       "   <g id=\"patch_4\">\n",
       "    <path d=\"M 412.012187 231.898125 \n",
       "L 412.012187 22.318125 \n",
       "\" style=\"fill: none; stroke: #cccccc; stroke-width: 1.25; stroke-linejoin: miter; stroke-linecap: square\"/>\n",
       "   </g>\n",
       "   <g id=\"patch_5\">\n",
       "    <path d=\"M 49.807188 231.898125 \n",
       "L 412.012187 231.898125 \n",
       "\" style=\"fill: none; stroke: #cccccc; stroke-width: 1.25; stroke-linejoin: miter; stroke-linecap: square\"/>\n",
       "   </g>\n",
       "   <g id=\"patch_6\">\n",
       "    <path d=\"M 49.807188 22.318125 \n",
       "L 412.012187 22.318125 \n",
       "\" style=\"fill: none; stroke: #cccccc; stroke-width: 1.25; stroke-linejoin: miter; stroke-linecap: square\"/>\n",
       "   </g>\n",
       "   <g id=\"text_15\">\n",
       "    <!-- Number of fits by key (total 997 keys) -->\n",
       "    <g style=\"fill: #262626\" transform=\"translate(117.078437 16.318125)scale(0.12 -0.12)\">\n",
       "     <defs>\n",
       "      <path id=\"DejaVuSans-4e\" d=\"M 628 4666 \n",
       "L 1478 4666 \n",
       "L 3547 763 \n",
       "L 3547 4666 \n",
       "L 4159 4666 \n",
       "L 4159 0 \n",
       "L 3309 0 \n",
       "L 1241 3903 \n",
       "L 1241 0 \n",
       "L 628 0 \n",
       "L 628 4666 \n",
       "z\n",
       "\" transform=\"scale(0.015625)\"/>\n",
       "      <path id=\"DejaVuSans-62\" d=\"M 3116 1747 \n",
       "Q 3116 2381 2855 2742 \n",
       "Q 2594 3103 2138 3103 \n",
       "Q 1681 3103 1420 2742 \n",
       "Q 1159 2381 1159 1747 \n",
       "Q 1159 1113 1420 752 \n",
       "Q 1681 391 2138 391 \n",
       "Q 2594 391 2855 752 \n",
       "Q 3116 1113 3116 1747 \n",
       "z\n",
       "M 1159 2969 \n",
       "Q 1341 3281 1617 3432 \n",
       "Q 1894 3584 2278 3584 \n",
       "Q 2916 3584 3314 3078 \n",
       "Q 3713 2572 3713 1747 \n",
       "Q 3713 922 3314 415 \n",
       "Q 2916 -91 2278 -91 \n",
       "Q 1894 -91 1617 61 \n",
       "Q 1341 213 1159 525 \n",
       "L 1159 0 \n",
       "L 581 0 \n",
       "L 581 4863 \n",
       "L 1159 4863 \n",
       "L 1159 2969 \n",
       "z\n",
       "\" transform=\"scale(0.015625)\"/>\n",
       "      <path id=\"DejaVuSans-20\" transform=\"scale(0.015625)\"/>\n",
       "      <path id=\"DejaVuSans-79\" d=\"M 2059 -325 \n",
       "Q 1816 -950 1584 -1140 \n",
       "Q 1353 -1331 966 -1331 \n",
       "L 506 -1331 \n",
       "L 506 -850 \n",
       "L 844 -850 \n",
       "Q 1081 -850 1212 -737 \n",
       "Q 1344 -625 1503 -206 \n",
       "L 1606 56 \n",
       "L 191 3500 \n",
       "L 800 3500 \n",
       "L 1894 763 \n",
       "L 2988 3500 \n",
       "L 3597 3500 \n",
       "L 2059 -325 \n",
       "z\n",
       "\" transform=\"scale(0.015625)\"/>\n",
       "      <path id=\"DejaVuSans-6b\" d=\"M 581 4863 \n",
       "L 1159 4863 \n",
       "L 1159 1991 \n",
       "L 2875 3500 \n",
       "L 3609 3500 \n",
       "L 1753 1863 \n",
       "L 3688 0 \n",
       "L 2938 0 \n",
       "L 1159 1709 \n",
       "L 1159 0 \n",
       "L 581 0 \n",
       "L 581 4863 \n",
       "z\n",
       "\" transform=\"scale(0.015625)\"/>\n",
       "      <path id=\"DejaVuSans-28\" d=\"M 1984 4856 \n",
       "Q 1566 4138 1362 3434 \n",
       "Q 1159 2731 1159 2009 \n",
       "Q 1159 1288 1364 580 \n",
       "Q 1569 -128 1984 -844 \n",
       "L 1484 -844 \n",
       "Q 1016 -109 783 600 \n",
       "Q 550 1309 550 2009 \n",
       "Q 550 2706 781 3412 \n",
       "Q 1013 4119 1484 4856 \n",
       "L 1984 4856 \n",
       "z\n",
       "\" transform=\"scale(0.015625)\"/>\n",
       "      <path id=\"DejaVuSans-6c\" d=\"M 603 4863 \n",
       "L 1178 4863 \n",
       "L 1178 0 \n",
       "L 603 0 \n",
       "L 603 4863 \n",
       "z\n",
       "\" transform=\"scale(0.015625)\"/>\n",
       "      <path id=\"DejaVuSans-39\" d=\"M 703 97 \n",
       "L 703 672 \n",
       "Q 941 559 1184 500 \n",
       "Q 1428 441 1663 441 \n",
       "Q 2288 441 2617 861 \n",
       "Q 2947 1281 2994 2138 \n",
       "Q 2813 1869 2534 1725 \n",
       "Q 2256 1581 1919 1581 \n",
       "Q 1219 1581 811 2004 \n",
       "Q 403 2428 403 3163 \n",
       "Q 403 3881 828 4315 \n",
       "Q 1253 4750 1959 4750 \n",
       "Q 2769 4750 3195 4129 \n",
       "Q 3622 3509 3622 2328 \n",
       "Q 3622 1225 3098 567 \n",
       "Q 2575 -91 1691 -91 \n",
       "Q 1453 -91 1209 -44 \n",
       "Q 966 3 703 97 \n",
       "z\n",
       "M 1959 2075 \n",
       "Q 2384 2075 2632 2365 \n",
       "Q 2881 2656 2881 3163 \n",
       "Q 2881 3666 2632 3958 \n",
       "Q 2384 4250 1959 4250 \n",
       "Q 1534 4250 1286 3958 \n",
       "Q 1038 3666 1038 3163 \n",
       "Q 1038 2656 1286 2365 \n",
       "Q 1534 2075 1959 2075 \n",
       "z\n",
       "\" transform=\"scale(0.015625)\"/>\n",
       "      <path id=\"DejaVuSans-37\" d=\"M 525 4666 \n",
       "L 3525 4666 \n",
       "L 3525 4397 \n",
       "L 1831 0 \n",
       "L 1172 0 \n",
       "L 2766 4134 \n",
       "L 525 4134 \n",
       "L 525 4666 \n",
       "z\n",
       "\" transform=\"scale(0.015625)\"/>\n",
       "      <path id=\"DejaVuSans-29\" d=\"M 513 4856 \n",
       "L 1013 4856 \n",
       "Q 1481 4119 1714 3412 \n",
       "Q 1947 2706 1947 2009 \n",
       "Q 1947 1309 1714 600 \n",
       "Q 1481 -109 1013 -844 \n",
       "L 513 -844 \n",
       "Q 928 -128 1133 580 \n",
       "Q 1338 1288 1338 2009 \n",
       "Q 1338 2731 1133 3434 \n",
       "Q 928 4138 513 4856 \n",
       "z\n",
       "\" transform=\"scale(0.015625)\"/>\n",
       "     </defs>\n",
       "     <use xlink:href=\"#DejaVuSans-4e\"/>\n",
       "     <use xlink:href=\"#DejaVuSans-75\" x=\"74.804688\"/>\n",
       "     <use xlink:href=\"#DejaVuSans-6d\" x=\"138.183594\"/>\n",
       "     <use xlink:href=\"#DejaVuSans-62\" x=\"235.595703\"/>\n",
       "     <use xlink:href=\"#DejaVuSans-65\" x=\"299.072266\"/>\n",
       "     <use xlink:href=\"#DejaVuSans-72\" x=\"360.595703\"/>\n",
       "     <use xlink:href=\"#DejaVuSans-20\" x=\"401.708984\"/>\n",
       "     <use xlink:href=\"#DejaVuSans-6f\" x=\"433.496094\"/>\n",
       "     <use xlink:href=\"#DejaVuSans-66\" x=\"494.677734\"/>\n",
       "     <use xlink:href=\"#DejaVuSans-20\" x=\"529.882812\"/>\n",
       "     <use xlink:href=\"#DejaVuSans-66\" x=\"561.669922\"/>\n",
       "     <use xlink:href=\"#DejaVuSans-69\" x=\"596.875\"/>\n",
       "     <use xlink:href=\"#DejaVuSans-74\" x=\"624.658203\"/>\n",
       "     <use xlink:href=\"#DejaVuSans-73\" x=\"663.867188\"/>\n",
       "     <use xlink:href=\"#DejaVuSans-20\" x=\"715.966797\"/>\n",
       "     <use xlink:href=\"#DejaVuSans-62\" x=\"747.753906\"/>\n",
       "     <use xlink:href=\"#DejaVuSans-79\" x=\"811.230469\"/>\n",
       "     <use xlink:href=\"#DejaVuSans-20\" x=\"870.410156\"/>\n",
       "     <use xlink:href=\"#DejaVuSans-6b\" x=\"902.197266\"/>\n",
       "     <use xlink:href=\"#DejaVuSans-65\" x=\"956.482422\"/>\n",
       "     <use xlink:href=\"#DejaVuSans-79\" x=\"1018.005859\"/>\n",
       "     <use xlink:href=\"#DejaVuSans-20\" x=\"1077.185547\"/>\n",
       "     <use xlink:href=\"#DejaVuSans-28\" x=\"1108.972656\"/>\n",
       "     <use xlink:href=\"#DejaVuSans-74\" x=\"1147.986328\"/>\n",
       "     <use xlink:href=\"#DejaVuSans-6f\" x=\"1187.195312\"/>\n",
       "     <use xlink:href=\"#DejaVuSans-74\" x=\"1248.376953\"/>\n",
       "     <use xlink:href=\"#DejaVuSans-61\" x=\"1287.585938\"/>\n",
       "     <use xlink:href=\"#DejaVuSans-6c\" x=\"1348.865234\"/>\n",
       "     <use xlink:href=\"#DejaVuSans-20\" x=\"1376.648438\"/>\n",
       "     <use xlink:href=\"#DejaVuSans-39\" x=\"1408.435547\"/>\n",
       "     <use xlink:href=\"#DejaVuSans-39\" x=\"1472.058594\"/>\n",
       "     <use xlink:href=\"#DejaVuSans-37\" x=\"1535.681641\"/>\n",
       "     <use xlink:href=\"#DejaVuSans-20\" x=\"1599.304688\"/>\n",
       "     <use xlink:href=\"#DejaVuSans-6b\" x=\"1631.091797\"/>\n",
       "     <use xlink:href=\"#DejaVuSans-65\" x=\"1685.376953\"/>\n",
       "     <use xlink:href=\"#DejaVuSans-79\" x=\"1746.900391\"/>\n",
       "     <use xlink:href=\"#DejaVuSans-73\" x=\"1806.080078\"/>\n",
       "     <use xlink:href=\"#DejaVuSans-29\" x=\"1858.179688\"/>\n",
       "    </g>\n",
       "   </g>\n",
       "   <g id=\"legend_1\">\n",
       "    <g id=\"patch_7\">\n",
       "     <path d=\"M 178.046094 226.398125 \n",
       "L 283.773281 226.398125 \n",
       "Q 285.973281 226.398125 285.973281 224.198125 \n",
       "L 285.973281 209.152188 \n",
       "Q 285.973281 206.952188 283.773281 206.952188 \n",
       "L 178.046094 206.952188 \n",
       "Q 175.846094 206.952188 175.846094 209.152188 \n",
       "L 175.846094 224.198125 \n",
       "Q 175.846094 226.398125 178.046094 226.398125 \n",
       "z\n",
       "\" style=\"fill: #ffffff; opacity: 0.8; stroke: #cccccc; stroke-linejoin: miter\"/>\n",
       "    </g>\n",
       "    <g id=\"line2d_15\">\n",
       "     <path d=\"M 180.246094 215.860469 \n",
       "L 191.246094 215.860469 \n",
       "L 202.246094 215.860469 \n",
       "\" style=\"fill: none; stroke: #ffa500; stroke-width: 1.5; stroke-linecap: round\"/>\n",
       "    </g>\n",
       "    <g id=\"text_16\">\n",
       "     <!-- Max Possible -->\n",
       "     <g style=\"fill: #262626\" transform=\"translate(211.046094 219.710469)scale(0.11 -0.11)\">\n",
       "      <defs>\n",
       "       <path id=\"DejaVuSans-4d\" d=\"M 628 4666 \n",
       "L 1569 4666 \n",
       "L 2759 1491 \n",
       "L 3956 4666 \n",
       "L 4897 4666 \n",
       "L 4897 0 \n",
       "L 4281 0 \n",
       "L 4281 4097 \n",
       "L 3078 897 \n",
       "L 2444 897 \n",
       "L 1241 4097 \n",
       "L 1241 0 \n",
       "L 628 0 \n",
       "L 628 4666 \n",
       "z\n",
       "\" transform=\"scale(0.015625)\"/>\n",
       "       <path id=\"DejaVuSans-78\" d=\"M 3513 3500 \n",
       "L 2247 1797 \n",
       "L 3578 0 \n",
       "L 2900 0 \n",
       "L 1881 1375 \n",
       "L 863 0 \n",
       "L 184 0 \n",
       "L 1544 1831 \n",
       "L 300 3500 \n",
       "L 978 3500 \n",
       "L 1906 2253 \n",
       "L 2834 3500 \n",
       "L 3513 3500 \n",
       "z\n",
       "\" transform=\"scale(0.015625)\"/>\n",
       "      </defs>\n",
       "      <use xlink:href=\"#DejaVuSans-4d\"/>\n",
       "      <use xlink:href=\"#DejaVuSans-61\" x=\"86.279297\"/>\n",
       "      <use xlink:href=\"#DejaVuSans-78\" x=\"147.558594\"/>\n",
       "      <use xlink:href=\"#DejaVuSans-20\" x=\"206.738281\"/>\n",
       "      <use xlink:href=\"#DejaVuSans-50\" x=\"238.525391\"/>\n",
       "      <use xlink:href=\"#DejaVuSans-6f\" x=\"295.203125\"/>\n",
       "      <use xlink:href=\"#DejaVuSans-73\" x=\"356.384766\"/>\n",
       "      <use xlink:href=\"#DejaVuSans-73\" x=\"408.484375\"/>\n",
       "      <use xlink:href=\"#DejaVuSans-69\" x=\"460.583984\"/>\n",
       "      <use xlink:href=\"#DejaVuSans-62\" x=\"488.367188\"/>\n",
       "      <use xlink:href=\"#DejaVuSans-6c\" x=\"551.84375\"/>\n",
       "      <use xlink:href=\"#DejaVuSans-65\" x=\"579.626953\"/>\n",
       "     </g>\n",
       "    </g>\n",
       "   </g>\n",
       "  </g>\n",
       " </g>\n",
       " <defs>\n",
       "  <clipPath id=\"pceb27f22b1\">\n",
       "   <rect x=\"49.807188\" y=\"22.318125\" width=\"362.205\" height=\"209.58\"/>\n",
       "  </clipPath>\n",
       " </defs>\n",
       "</svg>\n"
      ],
      "text/plain": [
       "<Figure size 432x288 with 1 Axes>"
      ]
     },
     "metadata": {},
     "output_type": "display_data"
    }
   ],
   "source": [
    "sns.ecdfplot(num_forecasts[\"num_forecasts\"])\n",
    "plt.title(f\"Number of fits by key (total {len(num_forecasts)} keys)\")\n",
    "plt.axvline(27, color=\"orange\", label=\"Max Possible\")\n",
    "plt.legend()\n",
    "plt.tight_layout()\n",
    "plt.savefig(f\"plots/{result_name}-nfits.pdf\", dpi=300)"
   ]
  },
  {
   "cell_type": "code",
   "execution_count": 9,
   "id": "17169d4a",
   "metadata": {
    "execution": {
     "iopub.execute_input": "2022-04-05T07:07:37.169147Z",
     "iopub.status.busy": "2022-04-05T07:07:37.168937Z",
     "iopub.status.idle": "2022-04-05T07:07:37.173884Z",
     "shell.execute_reply": "2022-04-05T07:07:37.173341Z"
    },
    "papermill": {
     "duration": 0.048728,
     "end_time": "2022-04-05T07:07:37.175227",
     "exception": false,
     "start_time": "2022-04-05T07:07:37.126499",
     "status": "completed"
    },
    "tags": []
   },
   "outputs": [],
   "source": [
    "num_forecasts.to_csv(f\"plots/{result_name}-nfits.csv\", index=None)"
   ]
  },
  {
   "cell_type": "code",
   "execution_count": null,
   "id": "b4c16655",
   "metadata": {
    "papermill": {
     "duration": 0.041535,
     "end_time": "2022-04-05T07:07:37.258716",
     "exception": false,
     "start_time": "2022-04-05T07:07:37.217181",
     "status": "completed"
    },
    "tags": []
   },
   "outputs": [],
   "source": []
  },
  {
   "cell_type": "code",
   "execution_count": 10,
   "id": "a430dbba",
   "metadata": {
    "execution": {
     "iopub.execute_input": "2022-04-05T07:07:37.343109Z",
     "iopub.status.busy": "2022-04-05T07:07:37.342909Z",
     "iopub.status.idle": "2022-04-05T07:07:43.571133Z",
     "shell.execute_reply": "2022-04-05T07:07:43.570183Z"
    },
    "papermill": {
     "duration": 6.272443,
     "end_time": "2022-04-05T07:07:43.572819",
     "exception": false,
     "start_time": "2022-04-05T07:07:37.300376",
     "status": "completed"
    },
    "tags": []
   },
   "outputs": [],
   "source": [
    "def compute_key(key):\n",
    "    pred_df = (\n",
    "        pd.DataFrame(\n",
    "            {\n",
    "                \"timestamp\": key_to_timestamps[key],\n",
    "                \"last_seqno\": key_to_last_seqnos[key],\n",
    "            }\n",
    "        )\n",
    "        .sort_values(\"timestamp\")\n",
    "        .set_index(\"timestamp\")\n",
    "    )\n",
    "    true_df = (\n",
    "        pd.DataFrame(\n",
    "            {\n",
    "                \"timestamp\": key_to_source_timestamps[key],\n",
    "                \"avg_cpu\": key_to_source_series[key],\n",
    "                \"seq_no\": key_to_source_seqno[key],\n",
    "            }\n",
    "        )\n",
    "        .sort_values(\"timestamp\")\n",
    "        .set_index(\"timestamp\")\n",
    "    )\n",
    "\n",
    "    merged = pd.merge_asof(\n",
    "        left=true_df, right=pred_df, on=\"timestamp\", direction=\"backward\"\n",
    "    )\n",
    "\n",
    "    forecast = key_to_last_seqno_to_forecast[key]\n",
    "    frame = pd.DataFrame(forecast)\n",
    "    frame = (\n",
    "        frame.T.reset_index()\n",
    "        .melt(\"index\")\n",
    "        .rename(columns={\"variable\": \"seq_delta\", \"index\": \"last_seqno\"})\n",
    "    )\n",
    "\n",
    "    m = merged.dropna().reset_index(drop=True)\n",
    "    m.loc[:, \"seq_delta\"] = (m[\"seq_no\"] - m[\"last_seqno\"]).astype(int)\n",
    "    final = m.merge(frame, how=\"left\", on=[\"last_seqno\", \"seq_delta\"])\n",
    "\n",
    "    mse_per_key_per_s = final.groupby(final[\"timestamp\"].astype(int)).apply(\n",
    "        lambda d: pd.Series(\n",
    "            {\"mse\": ((d[\"avg_cpu\"] - d[\"value\"]) ** 2).mean(), \"count\": len(d)}\n",
    "        )\n",
    "    )\n",
    "    mse_per_key_per_s[\"key\"] = key\n",
    "    return mse_per_key_per_s\n",
    "\n",
    "with ProcessPoolExecutor() as executor:\n",
    "    futs = executor.map(compute_key, key_to_timestamps.keys())\n",
    "    mses = list(futs)"
   ]
  },
  {
   "cell_type": "code",
   "execution_count": 11,
   "id": "4f57f215",
   "metadata": {
    "execution": {
     "iopub.execute_input": "2022-04-05T07:07:43.659474Z",
     "iopub.status.busy": "2022-04-05T07:07:43.659238Z",
     "iopub.status.idle": "2022-04-05T07:07:44.947574Z",
     "shell.execute_reply": "2022-04-05T07:07:44.946550Z"
    },
    "papermill": {
     "duration": 1.333684,
     "end_time": "2022-04-05T07:07:44.949419",
     "exception": false,
     "start_time": "2022-04-05T07:07:43.615735",
     "status": "completed"
    },
    "tags": []
   },
   "outputs": [],
   "source": [
    "# we are dropping some keys here :sigh:\n",
    "# need to figure out how to handle a key that's never fitted\n",
    "# final length 4965 for 5000\n",
    "all_mse = pd.concat([f.reset_index() for f in mses if len(f)])"
   ]
  },
  {
   "cell_type": "code",
   "execution_count": 12,
   "id": "c686eb43",
   "metadata": {
    "execution": {
     "iopub.execute_input": "2022-04-05T07:07:45.034757Z",
     "iopub.status.busy": "2022-04-05T07:07:45.034541Z",
     "iopub.status.idle": "2022-04-05T07:07:45.074759Z",
     "shell.execute_reply": "2022-04-05T07:07:45.074104Z"
    },
    "papermill": {
     "duration": 0.084663,
     "end_time": "2022-04-05T07:07:45.076285",
     "exception": false,
     "start_time": "2022-04-05T07:07:44.991622",
     "status": "completed"
    },
    "tags": []
   },
   "outputs": [],
   "source": [
    "all_mse.to_parquet(f\"plots/{result_name}-all_mse.pq\", index=None)"
   ]
  },
  {
   "cell_type": "code",
   "execution_count": 13,
   "id": "849fd458",
   "metadata": {
    "execution": {
     "iopub.execute_input": "2022-04-05T07:07:45.161797Z",
     "iopub.status.busy": "2022-04-05T07:07:45.161558Z",
     "iopub.status.idle": "2022-04-05T07:07:45.228131Z",
     "shell.execute_reply": "2022-04-05T07:07:45.227688Z"
    },
    "papermill": {
     "duration": 0.110739,
     "end_time": "2022-04-05T07:07:45.229492",
     "exception": false,
     "start_time": "2022-04-05T07:07:45.118753",
     "status": "completed"
    },
    "tags": []
   },
   "outputs": [],
   "source": [
    "mse_by_timestamp = all_mse.groupby(\"timestamp\").apply(\n",
    "    lambda d: (d[\"mse\"]*d[\"count\"]).sum()/(d[\"count\"].sum())\n",
    ")"
   ]
  },
  {
   "cell_type": "code",
   "execution_count": 14,
   "id": "955d92e2",
   "metadata": {
    "execution": {
     "iopub.execute_input": "2022-04-05T07:07:45.314940Z",
     "iopub.status.busy": "2022-04-05T07:07:45.314742Z",
     "iopub.status.idle": "2022-04-05T07:07:45.317778Z",
     "shell.execute_reply": "2022-04-05T07:07:45.317382Z"
    },
    "papermill": {
     "duration": 0.047142,
     "end_time": "2022-04-05T07:07:45.318988",
     "exception": false,
     "start_time": "2022-04-05T07:07:45.271846",
     "status": "completed"
    },
    "tags": []
   },
   "outputs": [],
   "source": [
    "mse_by_timestamp.index = mse_by_timestamp.index-mse_by_timestamp.index.min()"
   ]
  },
  {
   "cell_type": "code",
   "execution_count": 15,
   "id": "8f1ab97c",
   "metadata": {
    "execution": {
     "iopub.execute_input": "2022-04-05T07:07:45.404510Z",
     "iopub.status.busy": "2022-04-05T07:07:45.404319Z",
     "iopub.status.idle": "2022-04-05T07:07:45.625463Z",
     "shell.execute_reply": "2022-04-05T07:07:45.624629Z"
    },
    "papermill": {
     "duration": 0.265389,
     "end_time": "2022-04-05T07:07:45.626789",
     "exception": false,
     "start_time": "2022-04-05T07:07:45.361400",
     "status": "completed"
    },
    "tags": []
   },
   "outputs": [
    {
     "data": {
      "image/svg+xml": [
       "<?xml version=\"1.0\" encoding=\"utf-8\" standalone=\"no\"?>\n",
       "<!DOCTYPE svg PUBLIC \"-//W3C//DTD SVG 1.1//EN\"\n",
       "  \"http://www.w3.org/Graphics/SVG/1.1/DTD/svg11.dtd\">\n",
       "<svg xmlns:xlink=\"http://www.w3.org/1999/xlink\" width=\"420.475pt\" height=\"274.857813pt\" viewBox=\"0 0 420.475 274.857813\" xmlns=\"http://www.w3.org/2000/svg\" version=\"1.1\">\n",
       " <metadata>\n",
       "  <rdf:RDF xmlns:dc=\"http://purl.org/dc/elements/1.1/\" xmlns:cc=\"http://creativecommons.org/ns#\" xmlns:rdf=\"http://www.w3.org/1999/02/22-rdf-syntax-ns#\">\n",
       "   <cc:Work>\n",
       "    <dc:type rdf:resource=\"http://purl.org/dc/dcmitype/StillImage\"/>\n",
       "    <dc:date>2022-04-05T07:07:45.597482</dc:date>\n",
       "    <dc:format>image/svg+xml</dc:format>\n",
       "    <dc:creator>\n",
       "     <cc:Agent>\n",
       "      <dc:title>Matplotlib v3.5.1, https://matplotlib.org/</dc:title>\n",
       "     </cc:Agent>\n",
       "    </dc:creator>\n",
       "   </cc:Work>\n",
       "  </rdf:RDF>\n",
       " </metadata>\n",
       " <defs>\n",
       "  <style type=\"text/css\">*{stroke-linejoin: round; stroke-linecap: butt}</style>\n",
       " </defs>\n",
       " <g id=\"figure_1\">\n",
       "  <g id=\"patch_1\">\n",
       "   <path d=\"M 0 274.857813 \n",
       "L 420.475 274.857813 \n",
       "L 420.475 0 \n",
       "L 0 0 \n",
       "z\n",
       "\" style=\"fill: #ffffff\"/>\n",
       "  </g>\n",
       "  <g id=\"axes_1\">\n",
       "   <g id=\"patch_2\">\n",
       "    <path d=\"M 44.695 231.898125 \n",
       "L 413.275 231.898125 \n",
       "L 413.275 22.318125 \n",
       "L 44.695 22.318125 \n",
       "z\n",
       "\" style=\"fill: #ffffff\"/>\n",
       "   </g>\n",
       "   <g id=\"matplotlib.axis_1\">\n",
       "    <g id=\"xtick_1\">\n",
       "     <g id=\"line2d_1\">\n",
       "      <path d=\"M 61.448636 231.898125 \n",
       "L 61.448636 22.318125 \n",
       "\" clip-path=\"url(#pdb3fd101bb)\" style=\"fill: none; stroke: #cccccc; stroke-linecap: round\"/>\n",
       "     </g>\n",
       "     <g id=\"text_1\">\n",
       "      <!-- 0 -->\n",
       "      <g style=\"fill: #262626\" transform=\"translate(57.949261 249.756406)scale(0.11 -0.11)\">\n",
       "       <defs>\n",
       "        <path id=\"DejaVuSans-30\" d=\"M 2034 4250 \n",
       "Q 1547 4250 1301 3770 \n",
       "Q 1056 3291 1056 2328 \n",
       "Q 1056 1369 1301 889 \n",
       "Q 1547 409 2034 409 \n",
       "Q 2525 409 2770 889 \n",
       "Q 3016 1369 3016 2328 \n",
       "Q 3016 3291 2770 3770 \n",
       "Q 2525 4250 2034 4250 \n",
       "z\n",
       "M 2034 4750 \n",
       "Q 2819 4750 3233 4129 \n",
       "Q 3647 3509 3647 2328 \n",
       "Q 3647 1150 3233 529 \n",
       "Q 2819 -91 2034 -91 \n",
       "Q 1250 -91 836 529 \n",
       "Q 422 1150 422 2328 \n",
       "Q 422 3509 836 4129 \n",
       "Q 1250 4750 2034 4750 \n",
       "z\n",
       "\" transform=\"scale(0.015625)\"/>\n",
       "       </defs>\n",
       "       <use xlink:href=\"#DejaVuSans-30\"/>\n",
       "      </g>\n",
       "     </g>\n",
       "    </g>\n",
       "    <g id=\"xtick_2\">\n",
       "     <g id=\"line2d_2\">\n",
       "      <path d=\"M 140.104206 231.898125 \n",
       "L 140.104206 22.318125 \n",
       "\" clip-path=\"url(#pdb3fd101bb)\" style=\"fill: none; stroke: #cccccc; stroke-linecap: round\"/>\n",
       "     </g>\n",
       "     <g id=\"text_2\">\n",
       "      <!-- 50 -->\n",
       "      <g style=\"fill: #262626\" transform=\"translate(133.105456 249.756406)scale(0.11 -0.11)\">\n",
       "       <defs>\n",
       "        <path id=\"DejaVuSans-35\" d=\"M 691 4666 \n",
       "L 3169 4666 \n",
       "L 3169 4134 \n",
       "L 1269 4134 \n",
       "L 1269 2991 \n",
       "Q 1406 3038 1543 3061 \n",
       "Q 1681 3084 1819 3084 \n",
       "Q 2600 3084 3056 2656 \n",
       "Q 3513 2228 3513 1497 \n",
       "Q 3513 744 3044 326 \n",
       "Q 2575 -91 1722 -91 \n",
       "Q 1428 -91 1123 -41 \n",
       "Q 819 9 494 109 \n",
       "L 494 744 \n",
       "Q 775 591 1075 516 \n",
       "Q 1375 441 1709 441 \n",
       "Q 2250 441 2565 725 \n",
       "Q 2881 1009 2881 1497 \n",
       "Q 2881 1984 2565 2268 \n",
       "Q 2250 2553 1709 2553 \n",
       "Q 1456 2553 1204 2497 \n",
       "Q 953 2441 691 2322 \n",
       "L 691 4666 \n",
       "z\n",
       "\" transform=\"scale(0.015625)\"/>\n",
       "       </defs>\n",
       "       <use xlink:href=\"#DejaVuSans-35\"/>\n",
       "       <use xlink:href=\"#DejaVuSans-30\" x=\"63.623047\"/>\n",
       "      </g>\n",
       "     </g>\n",
       "    </g>\n",
       "    <g id=\"xtick_3\">\n",
       "     <g id=\"line2d_3\">\n",
       "      <path d=\"M 218.759776 231.898125 \n",
       "L 218.759776 22.318125 \n",
       "\" clip-path=\"url(#pdb3fd101bb)\" style=\"fill: none; stroke: #cccccc; stroke-linecap: round\"/>\n",
       "     </g>\n",
       "     <g id=\"text_3\">\n",
       "      <!-- 100 -->\n",
       "      <g style=\"fill: #262626\" transform=\"translate(208.261651 249.756406)scale(0.11 -0.11)\">\n",
       "       <defs>\n",
       "        <path id=\"DejaVuSans-31\" d=\"M 794 531 \n",
       "L 1825 531 \n",
       "L 1825 4091 \n",
       "L 703 3866 \n",
       "L 703 4441 \n",
       "L 1819 4666 \n",
       "L 2450 4666 \n",
       "L 2450 531 \n",
       "L 3481 531 \n",
       "L 3481 0 \n",
       "L 794 0 \n",
       "L 794 531 \n",
       "z\n",
       "\" transform=\"scale(0.015625)\"/>\n",
       "       </defs>\n",
       "       <use xlink:href=\"#DejaVuSans-31\"/>\n",
       "       <use xlink:href=\"#DejaVuSans-30\" x=\"63.623047\"/>\n",
       "       <use xlink:href=\"#DejaVuSans-30\" x=\"127.246094\"/>\n",
       "      </g>\n",
       "     </g>\n",
       "    </g>\n",
       "    <g id=\"xtick_4\">\n",
       "     <g id=\"line2d_4\">\n",
       "      <path d=\"M 297.415346 231.898125 \n",
       "L 297.415346 22.318125 \n",
       "\" clip-path=\"url(#pdb3fd101bb)\" style=\"fill: none; stroke: #cccccc; stroke-linecap: round\"/>\n",
       "     </g>\n",
       "     <g id=\"text_4\">\n",
       "      <!-- 150 -->\n",
       "      <g style=\"fill: #262626\" transform=\"translate(286.917221 249.756406)scale(0.11 -0.11)\">\n",
       "       <use xlink:href=\"#DejaVuSans-31\"/>\n",
       "       <use xlink:href=\"#DejaVuSans-35\" x=\"63.623047\"/>\n",
       "       <use xlink:href=\"#DejaVuSans-30\" x=\"127.246094\"/>\n",
       "      </g>\n",
       "     </g>\n",
       "    </g>\n",
       "    <g id=\"xtick_5\">\n",
       "     <g id=\"line2d_5\">\n",
       "      <path d=\"M 376.070915 231.898125 \n",
       "L 376.070915 22.318125 \n",
       "\" clip-path=\"url(#pdb3fd101bb)\" style=\"fill: none; stroke: #cccccc; stroke-linecap: round\"/>\n",
       "     </g>\n",
       "     <g id=\"text_5\">\n",
       "      <!-- 200 -->\n",
       "      <g style=\"fill: #262626\" transform=\"translate(365.57279 249.756406)scale(0.11 -0.11)\">\n",
       "       <defs>\n",
       "        <path id=\"DejaVuSans-32\" d=\"M 1228 531 \n",
       "L 3431 531 \n",
       "L 3431 0 \n",
       "L 469 0 \n",
       "L 469 531 \n",
       "Q 828 903 1448 1529 \n",
       "Q 2069 2156 2228 2338 \n",
       "Q 2531 2678 2651 2914 \n",
       "Q 2772 3150 2772 3378 \n",
       "Q 2772 3750 2511 3984 \n",
       "Q 2250 4219 1831 4219 \n",
       "Q 1534 4219 1204 4116 \n",
       "Q 875 4013 500 3803 \n",
       "L 500 4441 \n",
       "Q 881 4594 1212 4672 \n",
       "Q 1544 4750 1819 4750 \n",
       "Q 2544 4750 2975 4387 \n",
       "Q 3406 4025 3406 3419 \n",
       "Q 3406 3131 3298 2873 \n",
       "Q 3191 2616 2906 2266 \n",
       "Q 2828 2175 2409 1742 \n",
       "Q 1991 1309 1228 531 \n",
       "z\n",
       "\" transform=\"scale(0.015625)\"/>\n",
       "       </defs>\n",
       "       <use xlink:href=\"#DejaVuSans-32\"/>\n",
       "       <use xlink:href=\"#DejaVuSans-30\" x=\"63.623047\"/>\n",
       "       <use xlink:href=\"#DejaVuSans-30\" x=\"127.246094\"/>\n",
       "      </g>\n",
       "     </g>\n",
       "    </g>\n",
       "    <g id=\"text_6\">\n",
       "     <!-- timestamp -->\n",
       "     <g style=\"fill: #262626\" transform=\"translate(196.621562 265.162188)scale(0.12 -0.12)\">\n",
       "      <defs>\n",
       "       <path id=\"DejaVuSans-74\" d=\"M 1172 4494 \n",
       "L 1172 3500 \n",
       "L 2356 3500 \n",
       "L 2356 3053 \n",
       "L 1172 3053 \n",
       "L 1172 1153 \n",
       "Q 1172 725 1289 603 \n",
       "Q 1406 481 1766 481 \n",
       "L 2356 481 \n",
       "L 2356 0 \n",
       "L 1766 0 \n",
       "Q 1100 0 847 248 \n",
       "Q 594 497 594 1153 \n",
       "L 594 3053 \n",
       "L 172 3053 \n",
       "L 172 3500 \n",
       "L 594 3500 \n",
       "L 594 4494 \n",
       "L 1172 4494 \n",
       "z\n",
       "\" transform=\"scale(0.015625)\"/>\n",
       "       <path id=\"DejaVuSans-69\" d=\"M 603 3500 \n",
       "L 1178 3500 \n",
       "L 1178 0 \n",
       "L 603 0 \n",
       "L 603 3500 \n",
       "z\n",
       "M 603 4863 \n",
       "L 1178 4863 \n",
       "L 1178 4134 \n",
       "L 603 4134 \n",
       "L 603 4863 \n",
       "z\n",
       "\" transform=\"scale(0.015625)\"/>\n",
       "       <path id=\"DejaVuSans-6d\" d=\"M 3328 2828 \n",
       "Q 3544 3216 3844 3400 \n",
       "Q 4144 3584 4550 3584 \n",
       "Q 5097 3584 5394 3201 \n",
       "Q 5691 2819 5691 2113 \n",
       "L 5691 0 \n",
       "L 5113 0 \n",
       "L 5113 2094 \n",
       "Q 5113 2597 4934 2840 \n",
       "Q 4756 3084 4391 3084 \n",
       "Q 3944 3084 3684 2787 \n",
       "Q 3425 2491 3425 1978 \n",
       "L 3425 0 \n",
       "L 2847 0 \n",
       "L 2847 2094 \n",
       "Q 2847 2600 2669 2842 \n",
       "Q 2491 3084 2119 3084 \n",
       "Q 1678 3084 1418 2786 \n",
       "Q 1159 2488 1159 1978 \n",
       "L 1159 0 \n",
       "L 581 0 \n",
       "L 581 3500 \n",
       "L 1159 3500 \n",
       "L 1159 2956 \n",
       "Q 1356 3278 1631 3431 \n",
       "Q 1906 3584 2284 3584 \n",
       "Q 2666 3584 2933 3390 \n",
       "Q 3200 3197 3328 2828 \n",
       "z\n",
       "\" transform=\"scale(0.015625)\"/>\n",
       "       <path id=\"DejaVuSans-65\" d=\"M 3597 1894 \n",
       "L 3597 1613 \n",
       "L 953 1613 \n",
       "Q 991 1019 1311 708 \n",
       "Q 1631 397 2203 397 \n",
       "Q 2534 397 2845 478 \n",
       "Q 3156 559 3463 722 \n",
       "L 3463 178 \n",
       "Q 3153 47 2828 -22 \n",
       "Q 2503 -91 2169 -91 \n",
       "Q 1331 -91 842 396 \n",
       "Q 353 884 353 1716 \n",
       "Q 353 2575 817 3079 \n",
       "Q 1281 3584 2069 3584 \n",
       "Q 2775 3584 3186 3129 \n",
       "Q 3597 2675 3597 1894 \n",
       "z\n",
       "M 3022 2063 \n",
       "Q 3016 2534 2758 2815 \n",
       "Q 2500 3097 2075 3097 \n",
       "Q 1594 3097 1305 2825 \n",
       "Q 1016 2553 972 2059 \n",
       "L 3022 2063 \n",
       "z\n",
       "\" transform=\"scale(0.015625)\"/>\n",
       "       <path id=\"DejaVuSans-73\" d=\"M 2834 3397 \n",
       "L 2834 2853 \n",
       "Q 2591 2978 2328 3040 \n",
       "Q 2066 3103 1784 3103 \n",
       "Q 1356 3103 1142 2972 \n",
       "Q 928 2841 928 2578 \n",
       "Q 928 2378 1081 2264 \n",
       "Q 1234 2150 1697 2047 \n",
       "L 1894 2003 \n",
       "Q 2506 1872 2764 1633 \n",
       "Q 3022 1394 3022 966 \n",
       "Q 3022 478 2636 193 \n",
       "Q 2250 -91 1575 -91 \n",
       "Q 1294 -91 989 -36 \n",
       "Q 684 19 347 128 \n",
       "L 347 722 \n",
       "Q 666 556 975 473 \n",
       "Q 1284 391 1588 391 \n",
       "Q 1994 391 2212 530 \n",
       "Q 2431 669 2431 922 \n",
       "Q 2431 1156 2273 1281 \n",
       "Q 2116 1406 1581 1522 \n",
       "L 1381 1569 \n",
       "Q 847 1681 609 1914 \n",
       "Q 372 2147 372 2553 \n",
       "Q 372 3047 722 3315 \n",
       "Q 1072 3584 1716 3584 \n",
       "Q 2034 3584 2315 3537 \n",
       "Q 2597 3491 2834 3397 \n",
       "z\n",
       "\" transform=\"scale(0.015625)\"/>\n",
       "       <path id=\"DejaVuSans-61\" d=\"M 2194 1759 \n",
       "Q 1497 1759 1228 1600 \n",
       "Q 959 1441 959 1056 \n",
       "Q 959 750 1161 570 \n",
       "Q 1363 391 1709 391 \n",
       "Q 2188 391 2477 730 \n",
       "Q 2766 1069 2766 1631 \n",
       "L 2766 1759 \n",
       "L 2194 1759 \n",
       "z\n",
       "M 3341 1997 \n",
       "L 3341 0 \n",
       "L 2766 0 \n",
       "L 2766 531 \n",
       "Q 2569 213 2275 61 \n",
       "Q 1981 -91 1556 -91 \n",
       "Q 1019 -91 701 211 \n",
       "Q 384 513 384 1019 \n",
       "Q 384 1609 779 1909 \n",
       "Q 1175 2209 1959 2209 \n",
       "L 2766 2209 \n",
       "L 2766 2266 \n",
       "Q 2766 2663 2505 2880 \n",
       "Q 2244 3097 1772 3097 \n",
       "Q 1472 3097 1187 3025 \n",
       "Q 903 2953 641 2809 \n",
       "L 641 3341 \n",
       "Q 956 3463 1253 3523 \n",
       "Q 1550 3584 1831 3584 \n",
       "Q 2591 3584 2966 3190 \n",
       "Q 3341 2797 3341 1997 \n",
       "z\n",
       "\" transform=\"scale(0.015625)\"/>\n",
       "       <path id=\"DejaVuSans-70\" d=\"M 1159 525 \n",
       "L 1159 -1331 \n",
       "L 581 -1331 \n",
       "L 581 3500 \n",
       "L 1159 3500 \n",
       "L 1159 2969 \n",
       "Q 1341 3281 1617 3432 \n",
       "Q 1894 3584 2278 3584 \n",
       "Q 2916 3584 3314 3078 \n",
       "Q 3713 2572 3713 1747 \n",
       "Q 3713 922 3314 415 \n",
       "Q 2916 -91 2278 -91 \n",
       "Q 1894 -91 1617 61 \n",
       "Q 1341 213 1159 525 \n",
       "z\n",
       "M 3116 1747 \n",
       "Q 3116 2381 2855 2742 \n",
       "Q 2594 3103 2138 3103 \n",
       "Q 1681 3103 1420 2742 \n",
       "Q 1159 2381 1159 1747 \n",
       "Q 1159 1113 1420 752 \n",
       "Q 1681 391 2138 391 \n",
       "Q 2594 391 2855 752 \n",
       "Q 3116 1113 3116 1747 \n",
       "z\n",
       "\" transform=\"scale(0.015625)\"/>\n",
       "      </defs>\n",
       "      <use xlink:href=\"#DejaVuSans-74\"/>\n",
       "      <use xlink:href=\"#DejaVuSans-69\" x=\"39.208984\"/>\n",
       "      <use xlink:href=\"#DejaVuSans-6d\" x=\"66.992188\"/>\n",
       "      <use xlink:href=\"#DejaVuSans-65\" x=\"164.404297\"/>\n",
       "      <use xlink:href=\"#DejaVuSans-73\" x=\"225.927734\"/>\n",
       "      <use xlink:href=\"#DejaVuSans-74\" x=\"278.027344\"/>\n",
       "      <use xlink:href=\"#DejaVuSans-61\" x=\"317.236328\"/>\n",
       "      <use xlink:href=\"#DejaVuSans-6d\" x=\"378.515625\"/>\n",
       "      <use xlink:href=\"#DejaVuSans-70\" x=\"475.927734\"/>\n",
       "     </g>\n",
       "    </g>\n",
       "   </g>\n",
       "   <g id=\"matplotlib.axis_2\">\n",
       "    <g id=\"ytick_1\">\n",
       "     <g id=\"line2d_6\">\n",
       "      <path d=\"M 44.695 230.141773 \n",
       "L 413.275 230.141773 \n",
       "\" clip-path=\"url(#pdb3fd101bb)\" style=\"fill: none; stroke: #cccccc; stroke-linecap: round\"/>\n",
       "     </g>\n",
       "     <g id=\"text_7\">\n",
       "      <!-- 0 -->\n",
       "      <g style=\"fill: #262626\" transform=\"translate(28.19625 234.320914)scale(0.11 -0.11)\">\n",
       "       <use xlink:href=\"#DejaVuSans-30\"/>\n",
       "      </g>\n",
       "     </g>\n",
       "    </g>\n",
       "    <g id=\"ytick_2\">\n",
       "     <g id=\"line2d_7\">\n",
       "      <path d=\"M 44.695 184.691437 \n",
       "L 413.275 184.691437 \n",
       "\" clip-path=\"url(#pdb3fd101bb)\" style=\"fill: none; stroke: #cccccc; stroke-linecap: round\"/>\n",
       "     </g>\n",
       "     <g id=\"text_8\">\n",
       "      <!-- 500 -->\n",
       "      <g style=\"fill: #262626\" transform=\"translate(14.19875 188.870578)scale(0.11 -0.11)\">\n",
       "       <use xlink:href=\"#DejaVuSans-35\"/>\n",
       "       <use xlink:href=\"#DejaVuSans-30\" x=\"63.623047\"/>\n",
       "       <use xlink:href=\"#DejaVuSans-30\" x=\"127.246094\"/>\n",
       "      </g>\n",
       "     </g>\n",
       "    </g>\n",
       "    <g id=\"ytick_3\">\n",
       "     <g id=\"line2d_8\">\n",
       "      <path d=\"M 44.695 139.241101 \n",
       "L 413.275 139.241101 \n",
       "\" clip-path=\"url(#pdb3fd101bb)\" style=\"fill: none; stroke: #cccccc; stroke-linecap: round\"/>\n",
       "     </g>\n",
       "     <g id=\"text_9\">\n",
       "      <!-- 1000 -->\n",
       "      <g style=\"fill: #262626\" transform=\"translate(7.2 143.420242)scale(0.11 -0.11)\">\n",
       "       <use xlink:href=\"#DejaVuSans-31\"/>\n",
       "       <use xlink:href=\"#DejaVuSans-30\" x=\"63.623047\"/>\n",
       "       <use xlink:href=\"#DejaVuSans-30\" x=\"127.246094\"/>\n",
       "       <use xlink:href=\"#DejaVuSans-30\" x=\"190.869141\"/>\n",
       "      </g>\n",
       "     </g>\n",
       "    </g>\n",
       "    <g id=\"ytick_4\">\n",
       "     <g id=\"line2d_9\">\n",
       "      <path d=\"M 44.695 93.790766 \n",
       "L 413.275 93.790766 \n",
       "\" clip-path=\"url(#pdb3fd101bb)\" style=\"fill: none; stroke: #cccccc; stroke-linecap: round\"/>\n",
       "     </g>\n",
       "     <g id=\"text_10\">\n",
       "      <!-- 1500 -->\n",
       "      <g style=\"fill: #262626\" transform=\"translate(7.2 97.969906)scale(0.11 -0.11)\">\n",
       "       <use xlink:href=\"#DejaVuSans-31\"/>\n",
       "       <use xlink:href=\"#DejaVuSans-35\" x=\"63.623047\"/>\n",
       "       <use xlink:href=\"#DejaVuSans-30\" x=\"127.246094\"/>\n",
       "       <use xlink:href=\"#DejaVuSans-30\" x=\"190.869141\"/>\n",
       "      </g>\n",
       "     </g>\n",
       "    </g>\n",
       "    <g id=\"ytick_5\">\n",
       "     <g id=\"line2d_10\">\n",
       "      <path d=\"M 44.695 48.34043 \n",
       "L 413.275 48.34043 \n",
       "\" clip-path=\"url(#pdb3fd101bb)\" style=\"fill: none; stroke: #cccccc; stroke-linecap: round\"/>\n",
       "     </g>\n",
       "     <g id=\"text_11\">\n",
       "      <!-- 2000 -->\n",
       "      <g style=\"fill: #262626\" transform=\"translate(7.2 52.51957)scale(0.11 -0.11)\">\n",
       "       <use xlink:href=\"#DejaVuSans-32\"/>\n",
       "       <use xlink:href=\"#DejaVuSans-30\" x=\"63.623047\"/>\n",
       "       <use xlink:href=\"#DejaVuSans-30\" x=\"127.246094\"/>\n",
       "       <use xlink:href=\"#DejaVuSans-30\" x=\"190.869141\"/>\n",
       "      </g>\n",
       "     </g>\n",
       "    </g>\n",
       "   </g>\n",
       "   <g id=\"line2d_11\">\n",
       "    <path d=\"M 61.448636 207.635389 \n",
       "L 63.021748 221.496471 \n",
       "L 64.594859 199.934684 \n",
       "L 66.167971 192.247397 \n",
       "L 67.741082 220.126507 \n",
       "L 69.314193 222.371761 \n",
       "L 70.887305 219.344541 \n",
       "L 72.460416 190.57875 \n",
       "L 74.033528 211.364855 \n",
       "L 75.606639 218.97613 \n",
       "L 77.17975 214.133307 \n",
       "L 78.752862 218.479695 \n",
       "L 80.325973 214.82676 \n",
       "L 81.899085 207.256752 \n",
       "L 83.472196 218.489901 \n",
       "L 85.045307 211.830419 \n",
       "L 86.618419 203.117737 \n",
       "L 88.19153 209.674919 \n",
       "L 89.764641 196.660115 \n",
       "L 91.337753 198.822995 \n",
       "L 94.483976 191.316625 \n",
       "L 96.057087 197.273577 \n",
       "L 97.630198 197.514875 \n",
       "L 99.20331 195.605912 \n",
       "L 100.776421 191.511126 \n",
       "L 102.349533 184.881553 \n",
       "L 103.922644 189.188818 \n",
       "L 105.495755 184.560419 \n",
       "L 107.068867 182.463362 \n",
       "L 108.641978 186.264165 \n",
       "L 110.21509 185.984496 \n",
       "L 111.788201 186.910743 \n",
       "L 113.361312 177.557887 \n",
       "L 114.934424 184.286069 \n",
       "L 116.507535 176.439722 \n",
       "L 118.080647 178.698351 \n",
       "L 119.653758 177.234318 \n",
       "L 121.226869 183.72464 \n",
       "L 122.799981 186.017608 \n",
       "L 124.373092 180.973272 \n",
       "L 125.946204 171.979032 \n",
       "L 127.519315 170.576636 \n",
       "L 129.092426 176.212303 \n",
       "L 130.665538 171.011222 \n",
       "L 132.238649 168.73499 \n",
       "L 133.811761 170.708528 \n",
       "L 135.384872 168.680447 \n",
       "L 136.957983 171.403398 \n",
       "L 138.531095 169.969576 \n",
       "L 140.104206 160.662456 \n",
       "L 141.677318 158.394647 \n",
       "L 143.250429 165.118809 \n",
       "L 144.82354 162.900736 \n",
       "L 146.396652 159.113217 \n",
       "L 147.969763 159.328878 \n",
       "L 149.542875 160.500916 \n",
       "L 151.115986 162.97012 \n",
       "L 152.689097 158.88418 \n",
       "L 154.262209 153.966049 \n",
       "L 155.83532 151.971409 \n",
       "L 157.408431 156.608171 \n",
       "L 158.981543 154.762471 \n",
       "L 160.554654 157.857494 \n",
       "L 162.127766 158.123457 \n",
       "L 165.273988 148.872456 \n",
       "L 166.8471 149.04493 \n",
       "L 168.420211 149.531031 \n",
       "L 169.993323 148.457629 \n",
       "L 171.566434 147.179577 \n",
       "L 173.139545 145.703683 \n",
       "L 174.712657 145.736249 \n",
       "L 176.285768 150.215172 \n",
       "L 177.85888 142.318961 \n",
       "L 179.431991 141.021718 \n",
       "L 181.005102 138.995519 \n",
       "L 182.578214 136.104712 \n",
       "L 184.151325 137.2888 \n",
       "L 185.724437 129.235135 \n",
       "L 187.297548 129.646613 \n",
       "L 190.443771 141.539747 \n",
       "L 192.016882 127.306688 \n",
       "L 195.163105 122.834197 \n",
       "L 196.736216 123.303613 \n",
       "L 198.309328 116.59849 \n",
       "L 199.882439 114.769572 \n",
       "L 201.455551 114.380293 \n",
       "L 203.028662 112.525974 \n",
       "L 204.601773 104.89993 \n",
       "L 206.174885 103.952787 \n",
       "L 207.747996 104.899152 \n",
       "L 209.321108 106.842558 \n",
       "L 210.894219 98.499316 \n",
       "L 212.46733 95.457542 \n",
       "L 214.040442 100.261707 \n",
       "L 215.613553 96.260387 \n",
       "L 217.186665 97.509995 \n",
       "L 218.759776 93.352963 \n",
       "L 220.332887 92.634164 \n",
       "L 221.905999 91.61903 \n",
       "L 223.47911 83.265947 \n",
       "L 225.052222 73.784597 \n",
       "L 226.625333 80.520294 \n",
       "L 228.198444 80.211272 \n",
       "L 229.771556 78.843043 \n",
       "L 231.344667 75.624874 \n",
       "L 232.917778 77.663919 \n",
       "L 234.49089 77.853043 \n",
       "L 236.064001 61.85528 \n",
       "L 237.637113 60.69377 \n",
       "L 239.210224 63.660854 \n",
       "L 240.783335 64.828392 \n",
       "L 242.356447 66.707773 \n",
       "L 243.929558 65.121271 \n",
       "L 245.50267 60.315494 \n",
       "L 247.075781 89.997503 \n",
       "L 248.648892 91.457816 \n",
       "L 250.222004 87.97441 \n",
       "L 251.795115 91.680269 \n",
       "L 253.368227 89.924137 \n",
       "L 254.941338 89.618247 \n",
       "L 256.514449 95.903704 \n",
       "L 258.087561 80.739854 \n",
       "L 259.660672 87.321453 \n",
       "L 261.233784 74.437968 \n",
       "L 262.806895 77.276329 \n",
       "L 264.380006 76.240454 \n",
       "L 265.953118 77.566076 \n",
       "L 269.099341 78.180432 \n",
       "L 270.672452 80.421375 \n",
       "L 272.245563 75.598555 \n",
       "L 273.818675 69.386546 \n",
       "L 275.391786 68.935567 \n",
       "L 276.964898 65.272808 \n",
       "L 278.538009 60.166079 \n",
       "L 280.11112 53.886779 \n",
       "L 281.684232 80.52854 \n",
       "L 283.257343 69.549931 \n",
       "L 284.830455 54.851829 \n",
       "L 286.403566 47.858562 \n",
       "L 287.976677 48.914497 \n",
       "L 289.549789 45.451435 \n",
       "L 291.1229 41.014221 \n",
       "L 292.696012 42.567265 \n",
       "L 294.269123 51.732896 \n",
       "L 295.842234 49.084695 \n",
       "L 297.415346 37.339733 \n",
       "L 298.988457 32.682 \n",
       "L 300.561569 37.689792 \n",
       "L 302.13468 39.692468 \n",
       "L 303.707791 31.844489 \n",
       "L 305.280903 53.573566 \n",
       "L 306.854014 36.412699 \n",
       "L 308.427125 33.629729 \n",
       "L 310.000237 85.04389 \n",
       "L 311.573348 147.077843 \n",
       "L 313.14646 145.147507 \n",
       "L 314.719571 146.588579 \n",
       "L 316.292682 155.243506 \n",
       "L 317.865794 147.295607 \n",
       "L 319.438905 148.972665 \n",
       "L 321.012017 145.542204 \n",
       "L 322.585128 140.70361 \n",
       "L 324.158239 140.368996 \n",
       "L 325.731351 155.565433 \n",
       "L 327.304462 158.725041 \n",
       "L 328.877574 162.69012 \n",
       "L 330.450685 173.935594 \n",
       "L 332.023796 177.796788 \n",
       "L 333.596908 177.601529 \n",
       "L 335.170019 180.412278 \n",
       "L 336.743131 175.261445 \n",
       "L 338.316242 178.859404 \n",
       "L 339.889353 175.350929 \n",
       "L 341.462465 176.55041 \n",
       "L 343.035576 176.214581 \n",
       "L 344.608688 186.353256 \n",
       "L 346.181799 187.097515 \n",
       "L 347.75491 192.304328 \n",
       "L 349.328022 190.801365 \n",
       "L 350.901133 194.109939 \n",
       "L 352.474245 190.42143 \n",
       "L 354.047356 193.894651 \n",
       "L 355.620467 193.857117 \n",
       "L 357.193579 195.136212 \n",
       "L 358.76669 192.82647 \n",
       "L 360.339802 194.484637 \n",
       "L 361.912913 195.708687 \n",
       "L 363.486024 196.202984 \n",
       "L 365.059136 191.817464 \n",
       "L 366.632247 191.769591 \n",
       "L 368.205359 194.194872 \n",
       "L 369.77847 194.977521 \n",
       "L 371.351581 200.371267 \n",
       "L 372.924693 198.695471 \n",
       "L 374.497804 198.363324 \n",
       "L 376.070915 199.330063 \n",
       "L 377.644027 197.407174 \n",
       "L 379.217138 202.690319 \n",
       "L 380.79025 200.079168 \n",
       "L 382.363361 200.560076 \n",
       "L 383.936472 197.576804 \n",
       "L 385.509584 201.931562 \n",
       "L 387.082695 201.569387 \n",
       "L 388.655807 203.876226 \n",
       "L 390.228918 201.322703 \n",
       "L 391.802029 197.753624 \n",
       "L 393.375141 199.007474 \n",
       "L 394.948252 202.805639 \n",
       "L 396.521364 203.285878 \n",
       "L 396.521364 203.285878 \n",
       "\" clip-path=\"url(#pdb3fd101bb)\" style=\"fill: none; stroke: #4878d0; stroke-width: 1.5; stroke-linecap: round\"/>\n",
       "   </g>\n",
       "   <g id=\"patch_3\">\n",
       "    <path d=\"M 44.695 231.898125 \n",
       "L 44.695 22.318125 \n",
       "\" style=\"fill: none; stroke: #cccccc; stroke-width: 1.25; stroke-linejoin: miter; stroke-linecap: square\"/>\n",
       "   </g>\n",
       "   <g id=\"patch_4\">\n",
       "    <path d=\"M 413.275 231.898125 \n",
       "L 413.275 22.318125 \n",
       "\" style=\"fill: none; stroke: #cccccc; stroke-width: 1.25; stroke-linejoin: miter; stroke-linecap: square\"/>\n",
       "   </g>\n",
       "   <g id=\"patch_5\">\n",
       "    <path d=\"M 44.695 231.898125 \n",
       "L 413.275 231.898125 \n",
       "\" style=\"fill: none; stroke: #cccccc; stroke-width: 1.25; stroke-linejoin: miter; stroke-linecap: square\"/>\n",
       "   </g>\n",
       "   <g id=\"patch_6\">\n",
       "    <path d=\"M 44.695 22.318125 \n",
       "L 413.275 22.318125 \n",
       "\" style=\"fill: none; stroke: #cccccc; stroke-width: 1.25; stroke-linejoin: miter; stroke-linecap: square\"/>\n",
       "   </g>\n",
       "   <g id=\"text_12\">\n",
       "    <!-- MSE by timestamp -->\n",
       "    <g style=\"fill: #262626\" transform=\"translate(172.670312 16.318125)scale(0.12 -0.12)\">\n",
       "     <defs>\n",
       "      <path id=\"DejaVuSans-4d\" d=\"M 628 4666 \n",
       "L 1569 4666 \n",
       "L 2759 1491 \n",
       "L 3956 4666 \n",
       "L 4897 4666 \n",
       "L 4897 0 \n",
       "L 4281 0 \n",
       "L 4281 4097 \n",
       "L 3078 897 \n",
       "L 2444 897 \n",
       "L 1241 4097 \n",
       "L 1241 0 \n",
       "L 628 0 \n",
       "L 628 4666 \n",
       "z\n",
       "\" transform=\"scale(0.015625)\"/>\n",
       "      <path id=\"DejaVuSans-53\" d=\"M 3425 4513 \n",
       "L 3425 3897 \n",
       "Q 3066 4069 2747 4153 \n",
       "Q 2428 4238 2131 4238 \n",
       "Q 1616 4238 1336 4038 \n",
       "Q 1056 3838 1056 3469 \n",
       "Q 1056 3159 1242 3001 \n",
       "Q 1428 2844 1947 2747 \n",
       "L 2328 2669 \n",
       "Q 3034 2534 3370 2195 \n",
       "Q 3706 1856 3706 1288 \n",
       "Q 3706 609 3251 259 \n",
       "Q 2797 -91 1919 -91 \n",
       "Q 1588 -91 1214 -16 \n",
       "Q 841 59 441 206 \n",
       "L 441 856 \n",
       "Q 825 641 1194 531 \n",
       "Q 1563 422 1919 422 \n",
       "Q 2459 422 2753 634 \n",
       "Q 3047 847 3047 1241 \n",
       "Q 3047 1584 2836 1778 \n",
       "Q 2625 1972 2144 2069 \n",
       "L 1759 2144 \n",
       "Q 1053 2284 737 2584 \n",
       "Q 422 2884 422 3419 \n",
       "Q 422 4038 858 4394 \n",
       "Q 1294 4750 2059 4750 \n",
       "Q 2388 4750 2728 4690 \n",
       "Q 3069 4631 3425 4513 \n",
       "z\n",
       "\" transform=\"scale(0.015625)\"/>\n",
       "      <path id=\"DejaVuSans-45\" d=\"M 628 4666 \n",
       "L 3578 4666 \n",
       "L 3578 4134 \n",
       "L 1259 4134 \n",
       "L 1259 2753 \n",
       "L 3481 2753 \n",
       "L 3481 2222 \n",
       "L 1259 2222 \n",
       "L 1259 531 \n",
       "L 3634 531 \n",
       "L 3634 0 \n",
       "L 628 0 \n",
       "L 628 4666 \n",
       "z\n",
       "\" transform=\"scale(0.015625)\"/>\n",
       "      <path id=\"DejaVuSans-20\" transform=\"scale(0.015625)\"/>\n",
       "      <path id=\"DejaVuSans-62\" d=\"M 3116 1747 \n",
       "Q 3116 2381 2855 2742 \n",
       "Q 2594 3103 2138 3103 \n",
       "Q 1681 3103 1420 2742 \n",
       "Q 1159 2381 1159 1747 \n",
       "Q 1159 1113 1420 752 \n",
       "Q 1681 391 2138 391 \n",
       "Q 2594 391 2855 752 \n",
       "Q 3116 1113 3116 1747 \n",
       "z\n",
       "M 1159 2969 \n",
       "Q 1341 3281 1617 3432 \n",
       "Q 1894 3584 2278 3584 \n",
       "Q 2916 3584 3314 3078 \n",
       "Q 3713 2572 3713 1747 \n",
       "Q 3713 922 3314 415 \n",
       "Q 2916 -91 2278 -91 \n",
       "Q 1894 -91 1617 61 \n",
       "Q 1341 213 1159 525 \n",
       "L 1159 0 \n",
       "L 581 0 \n",
       "L 581 4863 \n",
       "L 1159 4863 \n",
       "L 1159 2969 \n",
       "z\n",
       "\" transform=\"scale(0.015625)\"/>\n",
       "      <path id=\"DejaVuSans-79\" d=\"M 2059 -325 \n",
       "Q 1816 -950 1584 -1140 \n",
       "Q 1353 -1331 966 -1331 \n",
       "L 506 -1331 \n",
       "L 506 -850 \n",
       "L 844 -850 \n",
       "Q 1081 -850 1212 -737 \n",
       "Q 1344 -625 1503 -206 \n",
       "L 1606 56 \n",
       "L 191 3500 \n",
       "L 800 3500 \n",
       "L 1894 763 \n",
       "L 2988 3500 \n",
       "L 3597 3500 \n",
       "L 2059 -325 \n",
       "z\n",
       "\" transform=\"scale(0.015625)\"/>\n",
       "     </defs>\n",
       "     <use xlink:href=\"#DejaVuSans-4d\"/>\n",
       "     <use xlink:href=\"#DejaVuSans-53\" x=\"86.279297\"/>\n",
       "     <use xlink:href=\"#DejaVuSans-45\" x=\"149.755859\"/>\n",
       "     <use xlink:href=\"#DejaVuSans-20\" x=\"212.939453\"/>\n",
       "     <use xlink:href=\"#DejaVuSans-62\" x=\"244.726562\"/>\n",
       "     <use xlink:href=\"#DejaVuSans-79\" x=\"308.203125\"/>\n",
       "     <use xlink:href=\"#DejaVuSans-20\" x=\"367.382812\"/>\n",
       "     <use xlink:href=\"#DejaVuSans-74\" x=\"399.169922\"/>\n",
       "     <use xlink:href=\"#DejaVuSans-69\" x=\"438.378906\"/>\n",
       "     <use xlink:href=\"#DejaVuSans-6d\" x=\"466.162109\"/>\n",
       "     <use xlink:href=\"#DejaVuSans-65\" x=\"563.574219\"/>\n",
       "     <use xlink:href=\"#DejaVuSans-73\" x=\"625.097656\"/>\n",
       "     <use xlink:href=\"#DejaVuSans-74\" x=\"677.197266\"/>\n",
       "     <use xlink:href=\"#DejaVuSans-61\" x=\"716.40625\"/>\n",
       "     <use xlink:href=\"#DejaVuSans-6d\" x=\"777.685547\"/>\n",
       "     <use xlink:href=\"#DejaVuSans-70\" x=\"875.097656\"/>\n",
       "    </g>\n",
       "   </g>\n",
       "  </g>\n",
       " </g>\n",
       " <defs>\n",
       "  <clipPath id=\"pdb3fd101bb\">\n",
       "   <rect x=\"44.695\" y=\"22.318125\" width=\"368.58\" height=\"209.58\"/>\n",
       "  </clipPath>\n",
       " </defs>\n",
       "</svg>\n"
      ],
      "text/plain": [
       "<Figure size 432x288 with 1 Axes>"
      ]
     },
     "metadata": {},
     "output_type": "display_data"
    }
   ],
   "source": [
    "mse_by_timestamp.plot()\n",
    "plt.title(\"MSE by timestamp\")\n",
    "plt.tight_layout()\n",
    "plt.savefig(f\"plots/{result_name}-mse-time.pdf\", dpi=300)\n",
    "mse_by_timestamp.to_csv(f\"plots/{result_name}-mse-time.csv\", index=True)"
   ]
  },
  {
   "cell_type": "code",
   "execution_count": null,
   "id": "b4bdab32",
   "metadata": {
    "papermill": {
     "duration": 0.043473,
     "end_time": "2022-04-05T07:07:45.714064",
     "exception": false,
     "start_time": "2022-04-05T07:07:45.670591",
     "status": "completed"
    },
    "tags": []
   },
   "outputs": [],
   "source": []
  }
 ],
 "metadata": {
  "interpreter": {
   "hash": "7a2c4b191d1ae843dde5cb5f4d1f62fa892f6b79b0f9392a84691e890e33c5a4"
  },
  "kernelspec": {
   "display_name": "Python 3 (ipykernel)",
   "language": "python",
   "name": "python3"
  },
  "language_info": {
   "codemirror_mode": {
    "name": "ipython",
    "version": 3
   },
   "file_extension": ".py",
   "mimetype": "text/x-python",
   "name": "python",
   "nbconvert_exporter": "python",
   "pygments_lexer": "ipython3",
   "version": "3.7.11"
  },
  "papermill": {
   "default_parameters": {},
   "duration": 34.373351,
   "end_time": "2022-04-05T07:07:48.375309",
   "environment_variables": {},
   "exception": null,
   "input_path": "prod.ipynb",
   "output_path": "plots/1000-ce.out.ipynb",
   "parameters": {
    "result_name": "1000-ce",
    "results_dir": "results/1648829770"
   },
   "start_time": "2022-04-05T07:07:14.001958",
   "version": "2.3.4"
  }
 },
 "nbformat": 4,
 "nbformat_minor": 5
}