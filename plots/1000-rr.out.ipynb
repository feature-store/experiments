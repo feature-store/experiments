{
 "cells": [
  {
   "cell_type": "code",
   "execution_count": 1,
   "id": "ecb09be0",
   "metadata": {
    "execution": {
     "iopub.execute_input": "2022-04-05T07:06:39.549910Z",
     "iopub.status.busy": "2022-04-05T07:06:39.549607Z",
     "iopub.status.idle": "2022-04-05T07:06:40.692673Z",
     "shell.execute_reply": "2022-04-05T07:06:40.691444Z"
    },
    "papermill": {
     "duration": 1.155596,
     "end_time": "2022-04-05T07:06:40.694408",
     "exception": false,
     "start_time": "2022-04-05T07:06:39.538812",
     "status": "completed"
    },
    "tags": []
   },
   "outputs": [],
   "source": [
    "import pandas as pd\n",
    "import glob\n",
    "from collections import defaultdict\n",
    "import numpy as np\n",
    "import json\n",
    "\n",
    "\n",
    "import numpy as np\n",
    "import pandas as pd\n",
    "import matplotlib.pyplot as plt\n",
    "%matplotlib inline\n",
    "%config InlineBackend.figure_formats = ['svg']\n",
    "\n",
    "import seaborn as sns\n",
    "sns.set(style='whitegrid', palette='muted')\n",
    "\n",
    "from tqdm import tqdm\n",
    "from concurrent.futures import ProcessPoolExecutor, as_completed"
   ]
  },
  {
   "cell_type": "code",
   "execution_count": 2,
   "id": "d2e3d0e9",
   "metadata": {
    "execution": {
     "iopub.execute_input": "2022-04-05T07:06:40.713165Z",
     "iopub.status.busy": "2022-04-05T07:06:40.712950Z",
     "iopub.status.idle": "2022-04-05T07:06:40.831688Z",
     "shell.execute_reply": "2022-04-05T07:06:40.830626Z"
    },
    "papermill": {
     "duration": 0.129618,
     "end_time": "2022-04-05T07:06:40.833357",
     "exception": false,
     "start_time": "2022-04-05T07:06:40.703739",
     "status": "completed"
    },
    "tags": []
   },
   "outputs": [],
   "source": [
    "!mkdir -p plots"
   ]
  },
  {
   "cell_type": "code",
   "execution_count": 3,
   "id": "033bfd0f",
   "metadata": {
    "execution": {
     "iopub.execute_input": "2022-04-05T07:06:40.852143Z",
     "iopub.status.busy": "2022-04-05T07:06:40.851899Z",
     "iopub.status.idle": "2022-04-05T07:06:40.854978Z",
     "shell.execute_reply": "2022-04-05T07:06:40.854541Z"
    },
    "papermill": {
     "duration": 0.01408,
     "end_time": "2022-04-05T07:06:40.856268",
     "exception": false,
     "start_time": "2022-04-05T07:06:40.842188",
     "status": "completed"
    },
    "tags": [
     "parameters"
    ]
   },
   "outputs": [],
   "source": [
    "results_dir = \"results/1648838189\"\n",
    "result_name = \"5000-ce\""
   ]
  },
  {
   "cell_type": "code",
   "execution_count": 4,
   "id": "56f901c8",
   "metadata": {
    "execution": {
     "iopub.execute_input": "2022-04-05T07:06:40.874748Z",
     "iopub.status.busy": "2022-04-05T07:06:40.874545Z",
     "iopub.status.idle": "2022-04-05T07:06:40.877104Z",
     "shell.execute_reply": "2022-04-05T07:06:40.876704Z"
    },
    "papermill": {
     "duration": 0.013237,
     "end_time": "2022-04-05T07:06:40.878402",
     "exception": false,
     "start_time": "2022-04-05T07:06:40.865165",
     "status": "completed"
    },
    "tags": [
     "injected-parameters"
    ]
   },
   "outputs": [],
   "source": [
    "# Parameters\n",
    "result_name = \"1000-rr\"\n",
    "results_dir = \"results/1648829259\"\n"
   ]
  },
  {
   "cell_type": "code",
   "execution_count": 5,
   "id": "80e2ca75",
   "metadata": {
    "execution": {
     "iopub.execute_input": "2022-04-05T07:06:40.897369Z",
     "iopub.status.busy": "2022-04-05T07:06:40.897175Z",
     "iopub.status.idle": "2022-04-05T07:06:45.633109Z",
     "shell.execute_reply": "2022-04-05T07:06:45.632507Z"
    },
    "papermill": {
     "duration": 4.746911,
     "end_time": "2022-04-05T07:06:45.634363",
     "exception": false,
     "start_time": "2022-04-05T07:06:40.887452",
     "status": "completed"
    },
    "tags": []
   },
   "outputs": [
    {
     "name": "stderr",
     "output_type": "stream",
     "text": [
      "\r",
      "  0%|                                                                       | 0/4 [00:00<?, ?it/s]"
     ]
    },
    {
     "name": "stderr",
     "output_type": "stream",
     "text": [
      "\r",
      " 25%|███████████████▊                                               | 1/4 [00:01<00:03,  1.16s/it]"
     ]
    },
    {
     "name": "stderr",
     "output_type": "stream",
     "text": [
      "\r",
      " 50%|███████████████████████████████▌                               | 2/4 [00:02<00:02,  1.18s/it]"
     ]
    },
    {
     "name": "stderr",
     "output_type": "stream",
     "text": [
      "\r",
      " 75%|███████████████████████████████████████████████▎               | 3/4 [00:03<00:01,  1.17s/it]"
     ]
    },
    {
     "name": "stderr",
     "output_type": "stream",
     "text": [
      "\r",
      "100%|███████████████████████████████████████████████████████████████| 4/4 [00:04<00:00,  1.19s/it]"
     ]
    },
    {
     "name": "stderr",
     "output_type": "stream",
     "text": [
      "\r",
      "100%|███████████████████████████████████████████████████████████████| 4/4 [00:04<00:00,  1.18s/it]"
     ]
    },
    {
     "name": "stderr",
     "output_type": "stream",
     "text": [
      "\n"
     ]
    }
   ],
   "source": [
    "forecast_files = glob.glob(f\"{results_dir}/forecast.*.jsonl\")\n",
    "\n",
    "key_to_timestamps = defaultdict(list)\n",
    "key_to_last_seqnos = defaultdict(list)\n",
    "key_to_last_seqno_to_forecast = defaultdict(dict)\n",
    "for path in tqdm(forecast_files):\n",
    "    with open(path) as f:\n",
    "        for line in f:\n",
    "            loaded = json.loads(line)\n",
    "            key_id = str(loaded[\"key_id\"])\n",
    "            key_to_timestamps[key_id].append(loaded[\"processing_time\"])\n",
    "            key_to_last_seqnos[key_id].append(loaded[\"last_seqno\"])\n",
    "            key_to_last_seqno_to_forecast[key_id][loaded[\"last_seqno\"]] = loaded[\"forecast\"]\n"
   ]
  },
  {
   "cell_type": "code",
   "execution_count": 6,
   "id": "102b1b80",
   "metadata": {
    "execution": {
     "iopub.execute_input": "2022-04-05T07:06:45.657383Z",
     "iopub.status.busy": "2022-04-05T07:06:45.657136Z",
     "iopub.status.idle": "2022-04-05T07:07:00.102333Z",
     "shell.execute_reply": "2022-04-05T07:07:00.101724Z"
    },
    "papermill": {
     "duration": 14.458155,
     "end_time": "2022-04-05T07:07:00.103598",
     "exception": false,
     "start_time": "2022-04-05T07:06:45.645443",
     "status": "completed"
    },
    "tags": []
   },
   "outputs": [
    {
     "name": "stderr",
     "output_type": "stream",
     "text": [
      "\r",
      "0it [00:00, ?it/s]"
     ]
    },
    {
     "name": "stderr",
     "output_type": "stream",
     "text": [
      "\r",
      "1it [00:00,  5.15it/s]"
     ]
    },
    {
     "name": "stderr",
     "output_type": "stream",
     "text": [
      "\r",
      "71it [00:00, 298.71it/s]"
     ]
    },
    {
     "name": "stderr",
     "output_type": "stream",
     "text": [
      "\r",
      "139it [00:00, 441.78it/s]"
     ]
    },
    {
     "name": "stderr",
     "output_type": "stream",
     "text": [
      "\r",
      "206it [00:00, 521.36it/s]"
     ]
    },
    {
     "name": "stderr",
     "output_type": "stream",
     "text": [
      "\r",
      "273it [00:00, 569.90it/s]"
     ]
    },
    {
     "name": "stderr",
     "output_type": "stream",
     "text": [
      "\r",
      "339it [00:00, 596.08it/s]"
     ]
    },
    {
     "name": "stderr",
     "output_type": "stream",
     "text": [
      "\r",
      "404it [00:00, 611.33it/s]"
     ]
    },
    {
     "name": "stderr",
     "output_type": "stream",
     "text": [
      "\r",
      "468it [00:00, 616.17it/s]"
     ]
    },
    {
     "name": "stderr",
     "output_type": "stream",
     "text": [
      "\r",
      "532it [00:01, 621.95it/s]"
     ]
    },
    {
     "name": "stderr",
     "output_type": "stream",
     "text": [
      "\r",
      "597it [00:01, 627.75it/s]"
     ]
    },
    {
     "name": "stderr",
     "output_type": "stream",
     "text": [
      "\r",
      "661it [00:01, 627.55it/s]"
     ]
    },
    {
     "name": "stderr",
     "output_type": "stream",
     "text": [
      "\r",
      "725it [00:01, 605.21it/s]"
     ]
    },
    {
     "name": "stderr",
     "output_type": "stream",
     "text": [
      "\r",
      "787it [00:01, 608.61it/s]"
     ]
    },
    {
     "name": "stderr",
     "output_type": "stream",
     "text": [
      "\r",
      "851it [00:01, 616.86it/s]"
     ]
    },
    {
     "name": "stderr",
     "output_type": "stream",
     "text": [
      "\r",
      "913it [00:01, 614.78it/s]"
     ]
    },
    {
     "name": "stderr",
     "output_type": "stream",
     "text": [
      "\r",
      "976it [00:01, 618.72it/s]"
     ]
    },
    {
     "name": "stderr",
     "output_type": "stream",
     "text": [
      "\r",
      "1039it [00:01, 615.02it/s]"
     ]
    },
    {
     "name": "stderr",
     "output_type": "stream",
     "text": [
      "\r",
      "1102it [00:01, 618.89it/s]"
     ]
    },
    {
     "name": "stderr",
     "output_type": "stream",
     "text": [
      "\r",
      "1164it [00:02, 613.40it/s]"
     ]
    },
    {
     "name": "stderr",
     "output_type": "stream",
     "text": [
      "\r",
      "1227it [00:02, 617.80it/s]"
     ]
    },
    {
     "name": "stderr",
     "output_type": "stream",
     "text": [
      "\r",
      "1289it [00:02, 611.03it/s]"
     ]
    },
    {
     "name": "stderr",
     "output_type": "stream",
     "text": [
      "\r",
      "1352it [00:02, 616.19it/s]"
     ]
    },
    {
     "name": "stderr",
     "output_type": "stream",
     "text": [
      "\r",
      "1415it [00:02, 619.67it/s]"
     ]
    },
    {
     "name": "stderr",
     "output_type": "stream",
     "text": [
      "\r",
      "1477it [00:02, 612.61it/s]"
     ]
    },
    {
     "name": "stderr",
     "output_type": "stream",
     "text": [
      "\r",
      "1540it [00:02, 617.17it/s]"
     ]
    },
    {
     "name": "stderr",
     "output_type": "stream",
     "text": [
      "\r",
      "1604it [00:02, 621.20it/s]"
     ]
    },
    {
     "name": "stderr",
     "output_type": "stream",
     "text": [
      "\r",
      "1667it [00:02, 612.18it/s]"
     ]
    },
    {
     "name": "stderr",
     "output_type": "stream",
     "text": [
      "\r",
      "1729it [00:02, 606.71it/s]"
     ]
    },
    {
     "name": "stderr",
     "output_type": "stream",
     "text": [
      "\r",
      "1792it [00:03, 612.40it/s]"
     ]
    },
    {
     "name": "stderr",
     "output_type": "stream",
     "text": [
      "\r",
      "1854it [00:03, 595.53it/s]"
     ]
    },
    {
     "name": "stderr",
     "output_type": "stream",
     "text": [
      "\r",
      "1918it [00:03, 605.83it/s]"
     ]
    },
    {
     "name": "stderr",
     "output_type": "stream",
     "text": [
      "\r",
      "1982it [00:03, 613.28it/s]"
     ]
    },
    {
     "name": "stderr",
     "output_type": "stream",
     "text": [
      "\r",
      "2044it [00:03, 611.32it/s]"
     ]
    },
    {
     "name": "stderr",
     "output_type": "stream",
     "text": [
      "\r",
      "2106it [00:03, 600.74it/s]"
     ]
    },
    {
     "name": "stderr",
     "output_type": "stream",
     "text": [
      "\r",
      "2169it [00:03, 609.22it/s]"
     ]
    },
    {
     "name": "stderr",
     "output_type": "stream",
     "text": [
      "\r",
      "2232it [00:03, 614.64it/s]"
     ]
    },
    {
     "name": "stderr",
     "output_type": "stream",
     "text": [
      "\r",
      "2296it [00:03, 620.17it/s]"
     ]
    },
    {
     "name": "stderr",
     "output_type": "stream",
     "text": [
      "\r",
      "2359it [00:03, 607.74it/s]"
     ]
    },
    {
     "name": "stderr",
     "output_type": "stream",
     "text": [
      "\r",
      "2423it [00:04, 614.34it/s]"
     ]
    },
    {
     "name": "stderr",
     "output_type": "stream",
     "text": [
      "\r",
      "2487it [00:04, 620.43it/s]"
     ]
    },
    {
     "name": "stderr",
     "output_type": "stream",
     "text": [
      "\r",
      "2551it [00:04, 624.57it/s]"
     ]
    },
    {
     "name": "stderr",
     "output_type": "stream",
     "text": [
      "\r",
      "2616it [00:04, 629.04it/s]"
     ]
    },
    {
     "name": "stderr",
     "output_type": "stream",
     "text": [
      "\r",
      "2679it [00:04, 607.94it/s]"
     ]
    },
    {
     "name": "stderr",
     "output_type": "stream",
     "text": [
      "\r",
      "2743it [00:04, 616.31it/s]"
     ]
    },
    {
     "name": "stderr",
     "output_type": "stream",
     "text": [
      "\r",
      "2807it [00:04, 621.68it/s]"
     ]
    },
    {
     "name": "stderr",
     "output_type": "stream",
     "text": [
      "\r",
      "2871it [00:04, 625.22it/s]"
     ]
    },
    {
     "name": "stderr",
     "output_type": "stream",
     "text": [
      "\r",
      "2934it [00:04, 626.51it/s]"
     ]
    },
    {
     "name": "stderr",
     "output_type": "stream",
     "text": [
      "\r",
      "2997it [00:05, 607.24it/s]"
     ]
    },
    {
     "name": "stderr",
     "output_type": "stream",
     "text": [
      "\r",
      "3060it [00:05, 613.15it/s]"
     ]
    },
    {
     "name": "stderr",
     "output_type": "stream",
     "text": [
      "\r",
      "3123it [00:05, 617.19it/s]"
     ]
    },
    {
     "name": "stderr",
     "output_type": "stream",
     "text": [
      "\r",
      "3186it [00:05, 618.86it/s]"
     ]
    },
    {
     "name": "stderr",
     "output_type": "stream",
     "text": [
      "\r",
      "3249it [00:05, 620.33it/s]"
     ]
    },
    {
     "name": "stderr",
     "output_type": "stream",
     "text": [
      "\r",
      "3312it [00:05, 621.98it/s]"
     ]
    },
    {
     "name": "stderr",
     "output_type": "stream",
     "text": [
      "\r",
      "3375it [00:05, 602.62it/s]"
     ]
    },
    {
     "name": "stderr",
     "output_type": "stream",
     "text": [
      "\r",
      "3437it [00:05, 606.27it/s]"
     ]
    },
    {
     "name": "stderr",
     "output_type": "stream",
     "text": [
      "\r",
      "3499it [00:05, 609.36it/s]"
     ]
    },
    {
     "name": "stderr",
     "output_type": "stream",
     "text": [
      "\r",
      "3561it [00:05, 611.95it/s]"
     ]
    },
    {
     "name": "stderr",
     "output_type": "stream",
     "text": [
      "\r",
      "3623it [00:06, 612.31it/s]"
     ]
    },
    {
     "name": "stderr",
     "output_type": "stream",
     "text": [
      "\r",
      "3685it [00:06, 608.49it/s]"
     ]
    },
    {
     "name": "stderr",
     "output_type": "stream",
     "text": [
      "\r",
      "3747it [00:06, 609.67it/s]"
     ]
    },
    {
     "name": "stderr",
     "output_type": "stream",
     "text": [
      "\r",
      "3808it [00:06, 588.65it/s]"
     ]
    },
    {
     "name": "stderr",
     "output_type": "stream",
     "text": [
      "\r",
      "3869it [00:06, 594.51it/s]"
     ]
    },
    {
     "name": "stderr",
     "output_type": "stream",
     "text": [
      "\r",
      "3931it [00:06, 600.19it/s]"
     ]
    },
    {
     "name": "stderr",
     "output_type": "stream",
     "text": [
      "\r",
      "3993it [00:06, 604.69it/s]"
     ]
    },
    {
     "name": "stderr",
     "output_type": "stream",
     "text": [
      "\r",
      "4055it [00:06, 606.83it/s]"
     ]
    },
    {
     "name": "stderr",
     "output_type": "stream",
     "text": [
      "\r",
      "4117it [00:06, 610.05it/s]"
     ]
    },
    {
     "name": "stderr",
     "output_type": "stream",
     "text": [
      "\r",
      "4179it [00:06, 612.65it/s]"
     ]
    },
    {
     "name": "stderr",
     "output_type": "stream",
     "text": [
      "\r",
      "4241it [00:07, 593.47it/s]"
     ]
    },
    {
     "name": "stderr",
     "output_type": "stream",
     "text": [
      "\r",
      "4301it [00:07, 592.22it/s]"
     ]
    },
    {
     "name": "stderr",
     "output_type": "stream",
     "text": [
      "\r",
      "4363it [00:07, 598.21it/s]"
     ]
    },
    {
     "name": "stderr",
     "output_type": "stream",
     "text": [
      "\r",
      "4425it [00:07, 602.53it/s]"
     ]
    },
    {
     "name": "stderr",
     "output_type": "stream",
     "text": [
      "\r",
      "4487it [00:07, 605.55it/s]"
     ]
    },
    {
     "name": "stderr",
     "output_type": "stream",
     "text": [
      "\r",
      "4549it [00:07, 607.54it/s]"
     ]
    },
    {
     "name": "stderr",
     "output_type": "stream",
     "text": [
      "\r",
      "4610it [00:07, 604.43it/s]"
     ]
    },
    {
     "name": "stderr",
     "output_type": "stream",
     "text": [
      "\r",
      "4672it [00:07, 607.00it/s]"
     ]
    },
    {
     "name": "stderr",
     "output_type": "stream",
     "text": [
      "\r",
      "4733it [00:07, 607.58it/s]"
     ]
    },
    {
     "name": "stderr",
     "output_type": "stream",
     "text": [
      "\r",
      "4794it [00:07, 581.51it/s]"
     ]
    },
    {
     "name": "stderr",
     "output_type": "stream",
     "text": [
      "\r",
      "4855it [00:08, 589.27it/s]"
     ]
    },
    {
     "name": "stderr",
     "output_type": "stream",
     "text": [
      "\r",
      "4917it [00:08, 597.32it/s]"
     ]
    },
    {
     "name": "stderr",
     "output_type": "stream",
     "text": [
      "\r",
      "4979it [00:08, 602.56it/s]"
     ]
    },
    {
     "name": "stderr",
     "output_type": "stream",
     "text": [
      "\r",
      "5041it [00:08, 605.57it/s]"
     ]
    },
    {
     "name": "stderr",
     "output_type": "stream",
     "text": [
      "\r",
      "5103it [00:08, 608.46it/s]"
     ]
    },
    {
     "name": "stderr",
     "output_type": "stream",
     "text": [
      "\r",
      "5166it [00:08, 612.44it/s]"
     ]
    },
    {
     "name": "stderr",
     "output_type": "stream",
     "text": [
      "\r",
      "5229it [00:08, 616.23it/s]"
     ]
    },
    {
     "name": "stderr",
     "output_type": "stream",
     "text": [
      "\r",
      "5292it [00:08, 619.10it/s]"
     ]
    },
    {
     "name": "stderr",
     "output_type": "stream",
     "text": [
      "\r",
      "5355it [00:08, 620.37it/s]"
     ]
    },
    {
     "name": "stderr",
     "output_type": "stream",
     "text": [
      "\r",
      "5418it [00:09, 591.16it/s]"
     ]
    },
    {
     "name": "stderr",
     "output_type": "stream",
     "text": [
      "\r",
      "5481it [00:09, 599.56it/s]"
     ]
    },
    {
     "name": "stderr",
     "output_type": "stream",
     "text": [
      "\r",
      "5544it [00:09, 605.80it/s]"
     ]
    },
    {
     "name": "stderr",
     "output_type": "stream",
     "text": [
      "\r",
      "5607it [00:09, 610.35it/s]"
     ]
    },
    {
     "name": "stderr",
     "output_type": "stream",
     "text": [
      "\r",
      "5670it [00:09, 614.47it/s]"
     ]
    },
    {
     "name": "stderr",
     "output_type": "stream",
     "text": [
      "\r",
      "5733it [00:09, 616.87it/s]"
     ]
    },
    {
     "name": "stderr",
     "output_type": "stream",
     "text": [
      "\r",
      "5795it [00:09, 615.06it/s]"
     ]
    },
    {
     "name": "stderr",
     "output_type": "stream",
     "text": [
      "\r",
      "5857it [00:09, 615.91it/s]"
     ]
    },
    {
     "name": "stderr",
     "output_type": "stream",
     "text": [
      "\r",
      "5919it [00:09, 609.63it/s]"
     ]
    },
    {
     "name": "stderr",
     "output_type": "stream",
     "text": [
      "\r",
      "5980it [00:09, 607.65it/s]"
     ]
    },
    {
     "name": "stderr",
     "output_type": "stream",
     "text": [
      "\r",
      "6043it [00:10, 612.93it/s]"
     ]
    },
    {
     "name": "stderr",
     "output_type": "stream",
     "text": [
      "\r",
      "6105it [00:10, 577.02it/s]"
     ]
    },
    {
     "name": "stderr",
     "output_type": "stream",
     "text": [
      "\r",
      "6167it [00:10, 589.16it/s]"
     ]
    },
    {
     "name": "stderr",
     "output_type": "stream",
     "text": [
      "\r",
      "6230it [00:10, 598.56it/s]"
     ]
    },
    {
     "name": "stderr",
     "output_type": "stream",
     "text": [
      "\r",
      "6293it [00:10, 605.00it/s]"
     ]
    },
    {
     "name": "stderr",
     "output_type": "stream",
     "text": [
      "\r",
      "6355it [00:10, 607.91it/s]"
     ]
    },
    {
     "name": "stderr",
     "output_type": "stream",
     "text": [
      "\r",
      "6417it [00:10, 608.36it/s]"
     ]
    },
    {
     "name": "stderr",
     "output_type": "stream",
     "text": [
      "\r",
      "6479it [00:10, 609.17it/s]"
     ]
    },
    {
     "name": "stderr",
     "output_type": "stream",
     "text": [
      "\r",
      "6541it [00:10, 609.93it/s]"
     ]
    },
    {
     "name": "stderr",
     "output_type": "stream",
     "text": [
      "\r",
      "6603it [00:10, 608.91it/s]"
     ]
    },
    {
     "name": "stderr",
     "output_type": "stream",
     "text": [
      "\r",
      "6665it [00:11, 609.96it/s]"
     ]
    },
    {
     "name": "stderr",
     "output_type": "stream",
     "text": [
      "\r",
      "6727it [00:11, 602.20it/s]"
     ]
    },
    {
     "name": "stderr",
     "output_type": "stream",
     "text": [
      "\r",
      "6788it [00:11, 602.07it/s]"
     ]
    },
    {
     "name": "stderr",
     "output_type": "stream",
     "text": [
      "\r",
      "6849it [00:11, 539.36it/s]"
     ]
    },
    {
     "name": "stderr",
     "output_type": "stream",
     "text": [
      "\r",
      "6909it [00:11, 555.14it/s]"
     ]
    },
    {
     "name": "stderr",
     "output_type": "stream",
     "text": [
      "\r",
      "6970it [00:11, 568.87it/s]"
     ]
    },
    {
     "name": "stderr",
     "output_type": "stream",
     "text": [
      "\r",
      "7030it [00:11, 577.05it/s]"
     ]
    },
    {
     "name": "stderr",
     "output_type": "stream",
     "text": [
      "\r",
      "7090it [00:11, 581.25it/s]"
     ]
    },
    {
     "name": "stderr",
     "output_type": "stream",
     "text": [
      "\r",
      "7151it [00:11, 588.01it/s]"
     ]
    },
    {
     "name": "stderr",
     "output_type": "stream",
     "text": [
      "\r",
      "7212it [00:12, 593.61it/s]"
     ]
    },
    {
     "name": "stderr",
     "output_type": "stream",
     "text": [
      "\r",
      "7273it [00:12, 597.89it/s]"
     ]
    },
    {
     "name": "stderr",
     "output_type": "stream",
     "text": [
      "\r",
      "7334it [00:12, 600.89it/s]"
     ]
    },
    {
     "name": "stderr",
     "output_type": "stream",
     "text": [
      "\r",
      "7395it [00:12, 602.69it/s]"
     ]
    },
    {
     "name": "stderr",
     "output_type": "stream",
     "text": [
      "\r",
      "7456it [00:12, 604.05it/s]"
     ]
    },
    {
     "name": "stderr",
     "output_type": "stream",
     "text": [
      "\r",
      "7517it [00:12, 604.56it/s]"
     ]
    },
    {
     "name": "stderr",
     "output_type": "stream",
     "text": [
      "\r",
      "7578it [00:12, 605.56it/s]"
     ]
    },
    {
     "name": "stderr",
     "output_type": "stream",
     "text": [
      "\r",
      "7639it [00:12, 604.60it/s]"
     ]
    },
    {
     "name": "stderr",
     "output_type": "stream",
     "text": [
      "\r",
      "7700it [00:12, 554.35it/s]"
     ]
    },
    {
     "name": "stderr",
     "output_type": "stream",
     "text": [
      "\r",
      "7760it [00:12, 566.87it/s]"
     ]
    },
    {
     "name": "stderr",
     "output_type": "stream",
     "text": [
      "\r",
      "7818it [00:13, 569.25it/s]"
     ]
    },
    {
     "name": "stderr",
     "output_type": "stream",
     "text": [
      "\r",
      "7879it [00:13, 579.87it/s]"
     ]
    },
    {
     "name": "stderr",
     "output_type": "stream",
     "text": [
      "\r",
      "7940it [00:13, 586.08it/s]"
     ]
    },
    {
     "name": "stderr",
     "output_type": "stream",
     "text": [
      "\r",
      "8001it [00:13, 591.63it/s]"
     ]
    },
    {
     "name": "stderr",
     "output_type": "stream",
     "text": [
      "\r",
      "8062it [00:13, 595.94it/s]"
     ]
    },
    {
     "name": "stderr",
     "output_type": "stream",
     "text": [
      "\r",
      "8124it [00:13, 600.38it/s]"
     ]
    },
    {
     "name": "stderr",
     "output_type": "stream",
     "text": [
      "\r",
      "8185it [00:13, 602.85it/s]"
     ]
    },
    {
     "name": "stderr",
     "output_type": "stream",
     "text": [
      "\r",
      "8247it [00:13, 605.34it/s]"
     ]
    },
    {
     "name": "stderr",
     "output_type": "stream",
     "text": [
      "\r",
      "8309it [00:13, 606.68it/s]"
     ]
    },
    {
     "name": "stderr",
     "output_type": "stream",
     "text": [
      "\r",
      "8371it [00:13, 607.54it/s]"
     ]
    },
    {
     "name": "stderr",
     "output_type": "stream",
     "text": [
      "\r",
      "8432it [00:14, 607.91it/s]"
     ]
    },
    {
     "name": "stderr",
     "output_type": "stream",
     "text": [
      "\r",
      "8493it [00:14, 608.47it/s]"
     ]
    },
    {
     "name": "stderr",
     "output_type": "stream",
     "text": [
      "\r",
      "8555it [00:14, 609.58it/s]"
     ]
    },
    {
     "name": "stderr",
     "output_type": "stream",
     "text": [
      "\r",
      "8617it [00:14, 610.87it/s]"
     ]
    },
    {
     "name": "stderr",
     "output_type": "stream",
     "text": [
      "\r",
      "8639it [00:14, 599.27it/s]"
     ]
    },
    {
     "name": "stderr",
     "output_type": "stream",
     "text": [
      "\n"
     ]
    }
   ],
   "source": [
    "source_files = glob.glob(f\"{results_dir}/source.*.jsonl\")\n",
    "key_to_source_series = defaultdict(list)\n",
    "key_to_source_timestamps = defaultdict(list)\n",
    "key_to_source_seqno = defaultdict(list)\n",
    "for path in source_files:\n",
    "    with open(path) as f:\n",
    "        for line in tqdm(f):\n",
    "            loaded = json.loads(line)\n",
    "            for entry in loaded:\n",
    "                key_id = str(entry[\"key_id\"])\n",
    "                key_to_source_series[key_id].append(entry[\"value\"])\n",
    "                key_to_source_timestamps[key_id].append(entry[\"ingest_time\"])\n",
    "                key_to_source_seqno[key_id].append(entry[\"seq_no\"])\n"
   ]
  },
  {
   "cell_type": "code",
   "execution_count": 7,
   "id": "c16aed5f",
   "metadata": {
    "execution": {
     "iopub.execute_input": "2022-04-05T07:07:00.191157Z",
     "iopub.status.busy": "2022-04-05T07:07:00.190899Z",
     "iopub.status.idle": "2022-04-05T07:07:00.211065Z",
     "shell.execute_reply": "2022-04-05T07:07:00.210679Z"
    },
    "papermill": {
     "duration": 0.064485,
     "end_time": "2022-04-05T07:07:00.212462",
     "exception": false,
     "start_time": "2022-04-05T07:07:00.147977",
     "status": "completed"
    },
    "tags": []
   },
   "outputs": [
    {
     "data": {
      "text/html": [
       "<div>\n",
       "<style scoped>\n",
       "    .dataframe tbody tr th:only-of-type {\n",
       "        vertical-align: middle;\n",
       "    }\n",
       "\n",
       "    .dataframe tbody tr th {\n",
       "        vertical-align: top;\n",
       "    }\n",
       "\n",
       "    .dataframe thead th {\n",
       "        text-align: right;\n",
       "    }\n",
       "</style>\n",
       "<table border=\"1\" class=\"dataframe\">\n",
       "  <thead>\n",
       "    <tr style=\"text-align: right;\">\n",
       "      <th></th>\n",
       "      <th>num_forecasts</th>\n",
       "    </tr>\n",
       "  </thead>\n",
       "  <tbody>\n",
       "    <tr>\n",
       "      <th>count</th>\n",
       "      <td>771.000000</td>\n",
       "    </tr>\n",
       "    <tr>\n",
       "      <th>mean</th>\n",
       "      <td>1.913100</td>\n",
       "    </tr>\n",
       "    <tr>\n",
       "      <th>std</th>\n",
       "      <td>0.566577</td>\n",
       "    </tr>\n",
       "    <tr>\n",
       "      <th>min</th>\n",
       "      <td>1.000000</td>\n",
       "    </tr>\n",
       "    <tr>\n",
       "      <th>25%</th>\n",
       "      <td>2.000000</td>\n",
       "    </tr>\n",
       "    <tr>\n",
       "      <th>50%</th>\n",
       "      <td>2.000000</td>\n",
       "    </tr>\n",
       "    <tr>\n",
       "      <th>75%</th>\n",
       "      <td>2.000000</td>\n",
       "    </tr>\n",
       "    <tr>\n",
       "      <th>max</th>\n",
       "      <td>3.000000</td>\n",
       "    </tr>\n",
       "  </tbody>\n",
       "</table>\n",
       "</div>"
      ],
      "text/plain": [
       "       num_forecasts\n",
       "count     771.000000\n",
       "mean        1.913100\n",
       "std         0.566577\n",
       "min         1.000000\n",
       "25%         2.000000\n",
       "50%         2.000000\n",
       "75%         2.000000\n",
       "max         3.000000"
      ]
     },
     "execution_count": 7,
     "metadata": {},
     "output_type": "execute_result"
    }
   ],
   "source": [
    "num_forecasts = pd.DataFrame([\n",
    "    {\"key\": k, \"num_forecasts\": len(v)} for k, v in key_to_last_seqnos.items()\n",
    "])\n",
    "num_forecasts.describe()"
   ]
  },
  {
   "cell_type": "code",
   "execution_count": 8,
   "id": "4299e244",
   "metadata": {
    "execution": {
     "iopub.execute_input": "2022-04-05T07:07:00.294372Z",
     "iopub.status.busy": "2022-04-05T07:07:00.294173Z",
     "iopub.status.idle": "2022-04-05T07:07:02.085397Z",
     "shell.execute_reply": "2022-04-05T07:07:02.084940Z"
    },
    "papermill": {
     "duration": 1.834065,
     "end_time": "2022-04-05T07:07:02.087092",
     "exception": false,
     "start_time": "2022-04-05T07:07:00.253027",
     "status": "completed"
    },
    "tags": []
   },
   "outputs": [
    {
     "data": {
      "image/svg+xml": [
       "<?xml version=\"1.0\" encoding=\"utf-8\" standalone=\"no\"?>\n",
       "<!DOCTYPE svg PUBLIC \"-//W3C//DTD SVG 1.1//EN\"\n",
       "  \"http://www.w3.org/Graphics/SVG/1.1/DTD/svg11.dtd\">\n",
       "<svg xmlns:xlink=\"http://www.w3.org/1999/xlink\" width=\"419.212187pt\" height=\"275.191563pt\" viewBox=\"0 0 419.212187 275.191563\" xmlns=\"http://www.w3.org/2000/svg\" version=\"1.1\">\n",
       " <metadata>\n",
       "  <rdf:RDF xmlns:dc=\"http://purl.org/dc/elements/1.1/\" xmlns:cc=\"http://creativecommons.org/ns#\" xmlns:rdf=\"http://www.w3.org/1999/02/22-rdf-syntax-ns#\">\n",
       "   <cc:Work>\n",
       "    <dc:type rdf:resource=\"http://purl.org/dc/dcmitype/StillImage\"/>\n",
       "    <dc:date>2022-04-05T07:07:02.044884</dc:date>\n",
       "    <dc:format>image/svg+xml</dc:format>\n",
       "    <dc:creator>\n",
       "     <cc:Agent>\n",
       "      <dc:title>Matplotlib v3.5.1, https://matplotlib.org/</dc:title>\n",
       "     </cc:Agent>\n",
       "    </dc:creator>\n",
       "   </cc:Work>\n",
       "  </rdf:RDF>\n",
       " </metadata>\n",
       " <defs>\n",
       "  <style type=\"text/css\">*{stroke-linejoin: round; stroke-linecap: butt}</style>\n",
       " </defs>\n",
       " <g id=\"figure_1\">\n",
       "  <g id=\"patch_1\">\n",
       "   <path d=\"M 0 275.191563 \n",
       "L 419.212187 275.191563 \n",
       "L 419.212187 0 \n",
       "L 0 0 \n",
       "z\n",
       "\" style=\"fill: #ffffff\"/>\n",
       "  </g>\n",
       "  <g id=\"axes_1\">\n",
       "   <g id=\"patch_2\">\n",
       "    <path d=\"M 49.807188 231.898125 \n",
       "L 412.012187 231.898125 \n",
       "L 412.012187 22.318125 \n",
       "L 49.807188 22.318125 \n",
       "z\n",
       "\" style=\"fill: #ffffff\"/>\n",
       "   </g>\n",
       "   <g id=\"matplotlib.axis_1\">\n",
       "    <g id=\"xtick_1\">\n",
       "     <g id=\"line2d_1\">\n",
       "      <path d=\"M 53.606541 231.898125 \n",
       "L 53.606541 22.318125 \n",
       "\" clip-path=\"url(#pdb48846b3b)\" style=\"fill: none; stroke: #cccccc; stroke-linecap: round\"/>\n",
       "     </g>\n",
       "     <g id=\"text_1\">\n",
       "      <!-- 0 -->\n",
       "      <g style=\"fill: #262626\" transform=\"translate(50.107166 249.756406)scale(0.11 -0.11)\">\n",
       "       <defs>\n",
       "        <path id=\"DejaVuSans-30\" d=\"M 2034 4250 \n",
       "Q 1547 4250 1301 3770 \n",
       "Q 1056 3291 1056 2328 \n",
       "Q 1056 1369 1301 889 \n",
       "Q 1547 409 2034 409 \n",
       "Q 2525 409 2770 889 \n",
       "Q 3016 1369 3016 2328 \n",
       "Q 3016 3291 2770 3770 \n",
       "Q 2525 4250 2034 4250 \n",
       "z\n",
       "M 2034 4750 \n",
       "Q 2819 4750 3233 4129 \n",
       "Q 3647 3509 3647 2328 \n",
       "Q 3647 1150 3233 529 \n",
       "Q 2819 -91 2034 -91 \n",
       "Q 1250 -91 836 529 \n",
       "Q 422 1150 422 2328 \n",
       "Q 422 3509 836 4129 \n",
       "Q 1250 4750 2034 4750 \n",
       "z\n",
       "\" transform=\"scale(0.015625)\"/>\n",
       "       </defs>\n",
       "       <use xlink:href=\"#DejaVuSans-30\"/>\n",
       "      </g>\n",
       "     </g>\n",
       "    </g>\n",
       "    <g id=\"xtick_2\">\n",
       "     <g id=\"line2d_2\">\n",
       "      <path d=\"M 116.929093 231.898125 \n",
       "L 116.929093 22.318125 \n",
       "\" clip-path=\"url(#pdb48846b3b)\" style=\"fill: none; stroke: #cccccc; stroke-linecap: round\"/>\n",
       "     </g>\n",
       "     <g id=\"text_2\">\n",
       "      <!-- 5 -->\n",
       "      <g style=\"fill: #262626\" transform=\"translate(113.429718 249.756406)scale(0.11 -0.11)\">\n",
       "       <defs>\n",
       "        <path id=\"DejaVuSans-35\" d=\"M 691 4666 \n",
       "L 3169 4666 \n",
       "L 3169 4134 \n",
       "L 1269 4134 \n",
       "L 1269 2991 \n",
       "Q 1406 3038 1543 3061 \n",
       "Q 1681 3084 1819 3084 \n",
       "Q 2600 3084 3056 2656 \n",
       "Q 3513 2228 3513 1497 \n",
       "Q 3513 744 3044 326 \n",
       "Q 2575 -91 1722 -91 \n",
       "Q 1428 -91 1123 -41 \n",
       "Q 819 9 494 109 \n",
       "L 494 744 \n",
       "Q 775 591 1075 516 \n",
       "Q 1375 441 1709 441 \n",
       "Q 2250 441 2565 725 \n",
       "Q 2881 1009 2881 1497 \n",
       "Q 2881 1984 2565 2268 \n",
       "Q 2250 2553 1709 2553 \n",
       "Q 1456 2553 1204 2497 \n",
       "Q 953 2441 691 2322 \n",
       "L 691 4666 \n",
       "z\n",
       "\" transform=\"scale(0.015625)\"/>\n",
       "       </defs>\n",
       "       <use xlink:href=\"#DejaVuSans-35\"/>\n",
       "      </g>\n",
       "     </g>\n",
       "    </g>\n",
       "    <g id=\"xtick_3\">\n",
       "     <g id=\"line2d_3\">\n",
       "      <path d=\"M 180.251646 231.898125 \n",
       "L 180.251646 22.318125 \n",
       "\" clip-path=\"url(#pdb48846b3b)\" style=\"fill: none; stroke: #cccccc; stroke-linecap: round\"/>\n",
       "     </g>\n",
       "     <g id=\"text_3\">\n",
       "      <!-- 10 -->\n",
       "      <g style=\"fill: #262626\" transform=\"translate(173.252896 249.756406)scale(0.11 -0.11)\">\n",
       "       <defs>\n",
       "        <path id=\"DejaVuSans-31\" d=\"M 794 531 \n",
       "L 1825 531 \n",
       "L 1825 4091 \n",
       "L 703 3866 \n",
       "L 703 4441 \n",
       "L 1819 4666 \n",
       "L 2450 4666 \n",
       "L 2450 531 \n",
       "L 3481 531 \n",
       "L 3481 0 \n",
       "L 794 0 \n",
       "L 794 531 \n",
       "z\n",
       "\" transform=\"scale(0.015625)\"/>\n",
       "       </defs>\n",
       "       <use xlink:href=\"#DejaVuSans-31\"/>\n",
       "       <use xlink:href=\"#DejaVuSans-30\" x=\"63.623047\"/>\n",
       "      </g>\n",
       "     </g>\n",
       "    </g>\n",
       "    <g id=\"xtick_4\">\n",
       "     <g id=\"line2d_4\">\n",
       "      <path d=\"M 243.574198 231.898125 \n",
       "L 243.574198 22.318125 \n",
       "\" clip-path=\"url(#pdb48846b3b)\" style=\"fill: none; stroke: #cccccc; stroke-linecap: round\"/>\n",
       "     </g>\n",
       "     <g id=\"text_4\">\n",
       "      <!-- 15 -->\n",
       "      <g style=\"fill: #262626\" transform=\"translate(236.575448 249.756406)scale(0.11 -0.11)\">\n",
       "       <use xlink:href=\"#DejaVuSans-31\"/>\n",
       "       <use xlink:href=\"#DejaVuSans-35\" x=\"63.623047\"/>\n",
       "      </g>\n",
       "     </g>\n",
       "    </g>\n",
       "    <g id=\"xtick_5\">\n",
       "     <g id=\"line2d_5\">\n",
       "      <path d=\"M 306.89675 231.898125 \n",
       "L 306.89675 22.318125 \n",
       "\" clip-path=\"url(#pdb48846b3b)\" style=\"fill: none; stroke: #cccccc; stroke-linecap: round\"/>\n",
       "     </g>\n",
       "     <g id=\"text_5\">\n",
       "      <!-- 20 -->\n",
       "      <g style=\"fill: #262626\" transform=\"translate(299.898 249.756406)scale(0.11 -0.11)\">\n",
       "       <defs>\n",
       "        <path id=\"DejaVuSans-32\" d=\"M 1228 531 \n",
       "L 3431 531 \n",
       "L 3431 0 \n",
       "L 469 0 \n",
       "L 469 531 \n",
       "Q 828 903 1448 1529 \n",
       "Q 2069 2156 2228 2338 \n",
       "Q 2531 2678 2651 2914 \n",
       "Q 2772 3150 2772 3378 \n",
       "Q 2772 3750 2511 3984 \n",
       "Q 2250 4219 1831 4219 \n",
       "Q 1534 4219 1204 4116 \n",
       "Q 875 4013 500 3803 \n",
       "L 500 4441 \n",
       "Q 881 4594 1212 4672 \n",
       "Q 1544 4750 1819 4750 \n",
       "Q 2544 4750 2975 4387 \n",
       "Q 3406 4025 3406 3419 \n",
       "Q 3406 3131 3298 2873 \n",
       "Q 3191 2616 2906 2266 \n",
       "Q 2828 2175 2409 1742 \n",
       "Q 1991 1309 1228 531 \n",
       "z\n",
       "\" transform=\"scale(0.015625)\"/>\n",
       "       </defs>\n",
       "       <use xlink:href=\"#DejaVuSans-32\"/>\n",
       "       <use xlink:href=\"#DejaVuSans-30\" x=\"63.623047\"/>\n",
       "      </g>\n",
       "     </g>\n",
       "    </g>\n",
       "    <g id=\"xtick_6\">\n",
       "     <g id=\"line2d_6\">\n",
       "      <path d=\"M 370.219303 231.898125 \n",
       "L 370.219303 22.318125 \n",
       "\" clip-path=\"url(#pdb48846b3b)\" style=\"fill: none; stroke: #cccccc; stroke-linecap: round\"/>\n",
       "     </g>\n",
       "     <g id=\"text_6\">\n",
       "      <!-- 25 -->\n",
       "      <g style=\"fill: #262626\" transform=\"translate(363.220553 249.756406)scale(0.11 -0.11)\">\n",
       "       <use xlink:href=\"#DejaVuSans-32\"/>\n",
       "       <use xlink:href=\"#DejaVuSans-35\" x=\"63.623047\"/>\n",
       "      </g>\n",
       "     </g>\n",
       "    </g>\n",
       "    <g id=\"text_7\">\n",
       "     <!-- num_forecasts -->\n",
       "     <g style=\"fill: #262626\" transform=\"translate(187.074062 265.162188)scale(0.12 -0.12)\">\n",
       "      <defs>\n",
       "       <path id=\"DejaVuSans-6e\" d=\"M 3513 2113 \n",
       "L 3513 0 \n",
       "L 2938 0 \n",
       "L 2938 2094 \n",
       "Q 2938 2591 2744 2837 \n",
       "Q 2550 3084 2163 3084 \n",
       "Q 1697 3084 1428 2787 \n",
       "Q 1159 2491 1159 1978 \n",
       "L 1159 0 \n",
       "L 581 0 \n",
       "L 581 3500 \n",
       "L 1159 3500 \n",
       "L 1159 2956 \n",
       "Q 1366 3272 1645 3428 \n",
       "Q 1925 3584 2291 3584 \n",
       "Q 2894 3584 3203 3211 \n",
       "Q 3513 2838 3513 2113 \n",
       "z\n",
       "\" transform=\"scale(0.015625)\"/>\n",
       "       <path id=\"DejaVuSans-75\" d=\"M 544 1381 \n",
       "L 544 3500 \n",
       "L 1119 3500 \n",
       "L 1119 1403 \n",
       "Q 1119 906 1312 657 \n",
       "Q 1506 409 1894 409 \n",
       "Q 2359 409 2629 706 \n",
       "Q 2900 1003 2900 1516 \n",
       "L 2900 3500 \n",
       "L 3475 3500 \n",
       "L 3475 0 \n",
       "L 2900 0 \n",
       "L 2900 538 \n",
       "Q 2691 219 2414 64 \n",
       "Q 2138 -91 1772 -91 \n",
       "Q 1169 -91 856 284 \n",
       "Q 544 659 544 1381 \n",
       "z\n",
       "M 1991 3584 \n",
       "L 1991 3584 \n",
       "z\n",
       "\" transform=\"scale(0.015625)\"/>\n",
       "       <path id=\"DejaVuSans-6d\" d=\"M 3328 2828 \n",
       "Q 3544 3216 3844 3400 \n",
       "Q 4144 3584 4550 3584 \n",
       "Q 5097 3584 5394 3201 \n",
       "Q 5691 2819 5691 2113 \n",
       "L 5691 0 \n",
       "L 5113 0 \n",
       "L 5113 2094 \n",
       "Q 5113 2597 4934 2840 \n",
       "Q 4756 3084 4391 3084 \n",
       "Q 3944 3084 3684 2787 \n",
       "Q 3425 2491 3425 1978 \n",
       "L 3425 0 \n",
       "L 2847 0 \n",
       "L 2847 2094 \n",
       "Q 2847 2600 2669 2842 \n",
       "Q 2491 3084 2119 3084 \n",
       "Q 1678 3084 1418 2786 \n",
       "Q 1159 2488 1159 1978 \n",
       "L 1159 0 \n",
       "L 581 0 \n",
       "L 581 3500 \n",
       "L 1159 3500 \n",
       "L 1159 2956 \n",
       "Q 1356 3278 1631 3431 \n",
       "Q 1906 3584 2284 3584 \n",
       "Q 2666 3584 2933 3390 \n",
       "Q 3200 3197 3328 2828 \n",
       "z\n",
       "\" transform=\"scale(0.015625)\"/>\n",
       "       <path id=\"DejaVuSans-5f\" d=\"M 3263 -1063 \n",
       "L 3263 -1509 \n",
       "L -63 -1509 \n",
       "L -63 -1063 \n",
       "L 3263 -1063 \n",
       "z\n",
       "\" transform=\"scale(0.015625)\"/>\n",
       "       <path id=\"DejaVuSans-66\" d=\"M 2375 4863 \n",
       "L 2375 4384 \n",
       "L 1825 4384 \n",
       "Q 1516 4384 1395 4259 \n",
       "Q 1275 4134 1275 3809 \n",
       "L 1275 3500 \n",
       "L 2222 3500 \n",
       "L 2222 3053 \n",
       "L 1275 3053 \n",
       "L 1275 0 \n",
       "L 697 0 \n",
       "L 697 3053 \n",
       "L 147 3053 \n",
       "L 147 3500 \n",
       "L 697 3500 \n",
       "L 697 3744 \n",
       "Q 697 4328 969 4595 \n",
       "Q 1241 4863 1831 4863 \n",
       "L 2375 4863 \n",
       "z\n",
       "\" transform=\"scale(0.015625)\"/>\n",
       "       <path id=\"DejaVuSans-6f\" d=\"M 1959 3097 \n",
       "Q 1497 3097 1228 2736 \n",
       "Q 959 2375 959 1747 \n",
       "Q 959 1119 1226 758 \n",
       "Q 1494 397 1959 397 \n",
       "Q 2419 397 2687 759 \n",
       "Q 2956 1122 2956 1747 \n",
       "Q 2956 2369 2687 2733 \n",
       "Q 2419 3097 1959 3097 \n",
       "z\n",
       "M 1959 3584 \n",
       "Q 2709 3584 3137 3096 \n",
       "Q 3566 2609 3566 1747 \n",
       "Q 3566 888 3137 398 \n",
       "Q 2709 -91 1959 -91 \n",
       "Q 1206 -91 779 398 \n",
       "Q 353 888 353 1747 \n",
       "Q 353 2609 779 3096 \n",
       "Q 1206 3584 1959 3584 \n",
       "z\n",
       "\" transform=\"scale(0.015625)\"/>\n",
       "       <path id=\"DejaVuSans-72\" d=\"M 2631 2963 \n",
       "Q 2534 3019 2420 3045 \n",
       "Q 2306 3072 2169 3072 \n",
       "Q 1681 3072 1420 2755 \n",
       "Q 1159 2438 1159 1844 \n",
       "L 1159 0 \n",
       "L 581 0 \n",
       "L 581 3500 \n",
       "L 1159 3500 \n",
       "L 1159 2956 \n",
       "Q 1341 3275 1631 3429 \n",
       "Q 1922 3584 2338 3584 \n",
       "Q 2397 3584 2469 3576 \n",
       "Q 2541 3569 2628 3553 \n",
       "L 2631 2963 \n",
       "z\n",
       "\" transform=\"scale(0.015625)\"/>\n",
       "       <path id=\"DejaVuSans-65\" d=\"M 3597 1894 \n",
       "L 3597 1613 \n",
       "L 953 1613 \n",
       "Q 991 1019 1311 708 \n",
       "Q 1631 397 2203 397 \n",
       "Q 2534 397 2845 478 \n",
       "Q 3156 559 3463 722 \n",
       "L 3463 178 \n",
       "Q 3153 47 2828 -22 \n",
       "Q 2503 -91 2169 -91 \n",
       "Q 1331 -91 842 396 \n",
       "Q 353 884 353 1716 \n",
       "Q 353 2575 817 3079 \n",
       "Q 1281 3584 2069 3584 \n",
       "Q 2775 3584 3186 3129 \n",
       "Q 3597 2675 3597 1894 \n",
       "z\n",
       "M 3022 2063 \n",
       "Q 3016 2534 2758 2815 \n",
       "Q 2500 3097 2075 3097 \n",
       "Q 1594 3097 1305 2825 \n",
       "Q 1016 2553 972 2059 \n",
       "L 3022 2063 \n",
       "z\n",
       "\" transform=\"scale(0.015625)\"/>\n",
       "       <path id=\"DejaVuSans-63\" d=\"M 3122 3366 \n",
       "L 3122 2828 \n",
       "Q 2878 2963 2633 3030 \n",
       "Q 2388 3097 2138 3097 \n",
       "Q 1578 3097 1268 2742 \n",
       "Q 959 2388 959 1747 \n",
       "Q 959 1106 1268 751 \n",
       "Q 1578 397 2138 397 \n",
       "Q 2388 397 2633 464 \n",
       "Q 2878 531 3122 666 \n",
       "L 3122 134 \n",
       "Q 2881 22 2623 -34 \n",
       "Q 2366 -91 2075 -91 \n",
       "Q 1284 -91 818 406 \n",
       "Q 353 903 353 1747 \n",
       "Q 353 2603 823 3093 \n",
       "Q 1294 3584 2113 3584 \n",
       "Q 2378 3584 2631 3529 \n",
       "Q 2884 3475 3122 3366 \n",
       "z\n",
       "\" transform=\"scale(0.015625)\"/>\n",
       "       <path id=\"DejaVuSans-61\" d=\"M 2194 1759 \n",
       "Q 1497 1759 1228 1600 \n",
       "Q 959 1441 959 1056 \n",
       "Q 959 750 1161 570 \n",
       "Q 1363 391 1709 391 \n",
       "Q 2188 391 2477 730 \n",
       "Q 2766 1069 2766 1631 \n",
       "L 2766 1759 \n",
       "L 2194 1759 \n",
       "z\n",
       "M 3341 1997 \n",
       "L 3341 0 \n",
       "L 2766 0 \n",
       "L 2766 531 \n",
       "Q 2569 213 2275 61 \n",
       "Q 1981 -91 1556 -91 \n",
       "Q 1019 -91 701 211 \n",
       "Q 384 513 384 1019 \n",
       "Q 384 1609 779 1909 \n",
       "Q 1175 2209 1959 2209 \n",
       "L 2766 2209 \n",
       "L 2766 2266 \n",
       "Q 2766 2663 2505 2880 \n",
       "Q 2244 3097 1772 3097 \n",
       "Q 1472 3097 1187 3025 \n",
       "Q 903 2953 641 2809 \n",
       "L 641 3341 \n",
       "Q 956 3463 1253 3523 \n",
       "Q 1550 3584 1831 3584 \n",
       "Q 2591 3584 2966 3190 \n",
       "Q 3341 2797 3341 1997 \n",
       "z\n",
       "\" transform=\"scale(0.015625)\"/>\n",
       "       <path id=\"DejaVuSans-73\" d=\"M 2834 3397 \n",
       "L 2834 2853 \n",
       "Q 2591 2978 2328 3040 \n",
       "Q 2066 3103 1784 3103 \n",
       "Q 1356 3103 1142 2972 \n",
       "Q 928 2841 928 2578 \n",
       "Q 928 2378 1081 2264 \n",
       "Q 1234 2150 1697 2047 \n",
       "L 1894 2003 \n",
       "Q 2506 1872 2764 1633 \n",
       "Q 3022 1394 3022 966 \n",
       "Q 3022 478 2636 193 \n",
       "Q 2250 -91 1575 -91 \n",
       "Q 1294 -91 989 -36 \n",
       "Q 684 19 347 128 \n",
       "L 347 722 \n",
       "Q 666 556 975 473 \n",
       "Q 1284 391 1588 391 \n",
       "Q 1994 391 2212 530 \n",
       "Q 2431 669 2431 922 \n",
       "Q 2431 1156 2273 1281 \n",
       "Q 2116 1406 1581 1522 \n",
       "L 1381 1569 \n",
       "Q 847 1681 609 1914 \n",
       "Q 372 2147 372 2553 \n",
       "Q 372 3047 722 3315 \n",
       "Q 1072 3584 1716 3584 \n",
       "Q 2034 3584 2315 3537 \n",
       "Q 2597 3491 2834 3397 \n",
       "z\n",
       "\" transform=\"scale(0.015625)\"/>\n",
       "       <path id=\"DejaVuSans-74\" d=\"M 1172 4494 \n",
       "L 1172 3500 \n",
       "L 2356 3500 \n",
       "L 2356 3053 \n",
       "L 1172 3053 \n",
       "L 1172 1153 \n",
       "Q 1172 725 1289 603 \n",
       "Q 1406 481 1766 481 \n",
       "L 2356 481 \n",
       "L 2356 0 \n",
       "L 1766 0 \n",
       "Q 1100 0 847 248 \n",
       "Q 594 497 594 1153 \n",
       "L 594 3053 \n",
       "L 172 3053 \n",
       "L 172 3500 \n",
       "L 594 3500 \n",
       "L 594 4494 \n",
       "L 1172 4494 \n",
       "z\n",
       "\" transform=\"scale(0.015625)\"/>\n",
       "      </defs>\n",
       "      <use xlink:href=\"#DejaVuSans-6e\"/>\n",
       "      <use xlink:href=\"#DejaVuSans-75\" x=\"63.378906\"/>\n",
       "      <use xlink:href=\"#DejaVuSans-6d\" x=\"126.757812\"/>\n",
       "      <use xlink:href=\"#DejaVuSans-5f\" x=\"224.169922\"/>\n",
       "      <use xlink:href=\"#DejaVuSans-66\" x=\"274.169922\"/>\n",
       "      <use xlink:href=\"#DejaVuSans-6f\" x=\"309.375\"/>\n",
       "      <use xlink:href=\"#DejaVuSans-72\" x=\"370.556641\"/>\n",
       "      <use xlink:href=\"#DejaVuSans-65\" x=\"409.419922\"/>\n",
       "      <use xlink:href=\"#DejaVuSans-63\" x=\"470.943359\"/>\n",
       "      <use xlink:href=\"#DejaVuSans-61\" x=\"525.923828\"/>\n",
       "      <use xlink:href=\"#DejaVuSans-73\" x=\"587.203125\"/>\n",
       "      <use xlink:href=\"#DejaVuSans-74\" x=\"639.302734\"/>\n",
       "      <use xlink:href=\"#DejaVuSans-73\" x=\"678.511719\"/>\n",
       "     </g>\n",
       "    </g>\n",
       "   </g>\n",
       "   <g id=\"matplotlib.axis_2\">\n",
       "    <g id=\"ytick_1\">\n",
       "     <g id=\"line2d_7\">\n",
       "      <path d=\"M 49.807188 231.898125 \n",
       "L 412.012187 231.898125 \n",
       "\" clip-path=\"url(#pdb48846b3b)\" style=\"fill: none; stroke: #cccccc; stroke-linecap: round\"/>\n",
       "     </g>\n",
       "     <g id=\"text_8\">\n",
       "      <!-- 0.0 -->\n",
       "      <g style=\"fill: #262626\" transform=\"translate(22.81375 236.077266)scale(0.11 -0.11)\">\n",
       "       <defs>\n",
       "        <path id=\"DejaVuSans-2e\" d=\"M 684 794 \n",
       "L 1344 794 \n",
       "L 1344 0 \n",
       "L 684 0 \n",
       "L 684 794 \n",
       "z\n",
       "\" transform=\"scale(0.015625)\"/>\n",
       "       </defs>\n",
       "       <use xlink:href=\"#DejaVuSans-30\"/>\n",
       "       <use xlink:href=\"#DejaVuSans-2e\" x=\"63.623047\"/>\n",
       "       <use xlink:href=\"#DejaVuSans-30\" x=\"95.410156\"/>\n",
       "      </g>\n",
       "     </g>\n",
       "    </g>\n",
       "    <g id=\"ytick_2\">\n",
       "     <g id=\"line2d_8\">\n",
       "      <path d=\"M 49.807188 189.982125 \n",
       "L 412.012187 189.982125 \n",
       "\" clip-path=\"url(#pdb48846b3b)\" style=\"fill: none; stroke: #cccccc; stroke-linecap: round\"/>\n",
       "     </g>\n",
       "     <g id=\"text_9\">\n",
       "      <!-- 0.2 -->\n",
       "      <g style=\"fill: #262626\" transform=\"translate(22.81375 194.161266)scale(0.11 -0.11)\">\n",
       "       <use xlink:href=\"#DejaVuSans-30\"/>\n",
       "       <use xlink:href=\"#DejaVuSans-2e\" x=\"63.623047\"/>\n",
       "       <use xlink:href=\"#DejaVuSans-32\" x=\"95.410156\"/>\n",
       "      </g>\n",
       "     </g>\n",
       "    </g>\n",
       "    <g id=\"ytick_3\">\n",
       "     <g id=\"line2d_9\">\n",
       "      <path d=\"M 49.807188 148.066125 \n",
       "L 412.012187 148.066125 \n",
       "\" clip-path=\"url(#pdb48846b3b)\" style=\"fill: none; stroke: #cccccc; stroke-linecap: round\"/>\n",
       "     </g>\n",
       "     <g id=\"text_10\">\n",
       "      <!-- 0.4 -->\n",
       "      <g style=\"fill: #262626\" transform=\"translate(22.81375 152.245266)scale(0.11 -0.11)\">\n",
       "       <defs>\n",
       "        <path id=\"DejaVuSans-34\" d=\"M 2419 4116 \n",
       "L 825 1625 \n",
       "L 2419 1625 \n",
       "L 2419 4116 \n",
       "z\n",
       "M 2253 4666 \n",
       "L 3047 4666 \n",
       "L 3047 1625 \n",
       "L 3713 1625 \n",
       "L 3713 1100 \n",
       "L 3047 1100 \n",
       "L 3047 0 \n",
       "L 2419 0 \n",
       "L 2419 1100 \n",
       "L 313 1100 \n",
       "L 313 1709 \n",
       "L 2253 4666 \n",
       "z\n",
       "\" transform=\"scale(0.015625)\"/>\n",
       "       </defs>\n",
       "       <use xlink:href=\"#DejaVuSans-30\"/>\n",
       "       <use xlink:href=\"#DejaVuSans-2e\" x=\"63.623047\"/>\n",
       "       <use xlink:href=\"#DejaVuSans-34\" x=\"95.410156\"/>\n",
       "      </g>\n",
       "     </g>\n",
       "    </g>\n",
       "    <g id=\"ytick_4\">\n",
       "     <g id=\"line2d_10\">\n",
       "      <path d=\"M 49.807188 106.150125 \n",
       "L 412.012187 106.150125 \n",
       "\" clip-path=\"url(#pdb48846b3b)\" style=\"fill: none; stroke: #cccccc; stroke-linecap: round\"/>\n",
       "     </g>\n",
       "     <g id=\"text_11\">\n",
       "      <!-- 0.6 -->\n",
       "      <g style=\"fill: #262626\" transform=\"translate(22.81375 110.329266)scale(0.11 -0.11)\">\n",
       "       <defs>\n",
       "        <path id=\"DejaVuSans-36\" d=\"M 2113 2584 \n",
       "Q 1688 2584 1439 2293 \n",
       "Q 1191 2003 1191 1497 \n",
       "Q 1191 994 1439 701 \n",
       "Q 1688 409 2113 409 \n",
       "Q 2538 409 2786 701 \n",
       "Q 3034 994 3034 1497 \n",
       "Q 3034 2003 2786 2293 \n",
       "Q 2538 2584 2113 2584 \n",
       "z\n",
       "M 3366 4563 \n",
       "L 3366 3988 \n",
       "Q 3128 4100 2886 4159 \n",
       "Q 2644 4219 2406 4219 \n",
       "Q 1781 4219 1451 3797 \n",
       "Q 1122 3375 1075 2522 \n",
       "Q 1259 2794 1537 2939 \n",
       "Q 1816 3084 2150 3084 \n",
       "Q 2853 3084 3261 2657 \n",
       "Q 3669 2231 3669 1497 \n",
       "Q 3669 778 3244 343 \n",
       "Q 2819 -91 2113 -91 \n",
       "Q 1303 -91 875 529 \n",
       "Q 447 1150 447 2328 \n",
       "Q 447 3434 972 4092 \n",
       "Q 1497 4750 2381 4750 \n",
       "Q 2619 4750 2861 4703 \n",
       "Q 3103 4656 3366 4563 \n",
       "z\n",
       "\" transform=\"scale(0.015625)\"/>\n",
       "       </defs>\n",
       "       <use xlink:href=\"#DejaVuSans-30\"/>\n",
       "       <use xlink:href=\"#DejaVuSans-2e\" x=\"63.623047\"/>\n",
       "       <use xlink:href=\"#DejaVuSans-36\" x=\"95.410156\"/>\n",
       "      </g>\n",
       "     </g>\n",
       "    </g>\n",
       "    <g id=\"ytick_5\">\n",
       "     <g id=\"line2d_11\">\n",
       "      <path d=\"M 49.807188 64.234125 \n",
       "L 412.012187 64.234125 \n",
       "\" clip-path=\"url(#pdb48846b3b)\" style=\"fill: none; stroke: #cccccc; stroke-linecap: round\"/>\n",
       "     </g>\n",
       "     <g id=\"text_12\">\n",
       "      <!-- 0.8 -->\n",
       "      <g style=\"fill: #262626\" transform=\"translate(22.81375 68.413266)scale(0.11 -0.11)\">\n",
       "       <defs>\n",
       "        <path id=\"DejaVuSans-38\" d=\"M 2034 2216 \n",
       "Q 1584 2216 1326 1975 \n",
       "Q 1069 1734 1069 1313 \n",
       "Q 1069 891 1326 650 \n",
       "Q 1584 409 2034 409 \n",
       "Q 2484 409 2743 651 \n",
       "Q 3003 894 3003 1313 \n",
       "Q 3003 1734 2745 1975 \n",
       "Q 2488 2216 2034 2216 \n",
       "z\n",
       "M 1403 2484 \n",
       "Q 997 2584 770 2862 \n",
       "Q 544 3141 544 3541 \n",
       "Q 544 4100 942 4425 \n",
       "Q 1341 4750 2034 4750 \n",
       "Q 2731 4750 3128 4425 \n",
       "Q 3525 4100 3525 3541 \n",
       "Q 3525 3141 3298 2862 \n",
       "Q 3072 2584 2669 2484 \n",
       "Q 3125 2378 3379 2068 \n",
       "Q 3634 1759 3634 1313 \n",
       "Q 3634 634 3220 271 \n",
       "Q 2806 -91 2034 -91 \n",
       "Q 1263 -91 848 271 \n",
       "Q 434 634 434 1313 \n",
       "Q 434 1759 690 2068 \n",
       "Q 947 2378 1403 2484 \n",
       "z\n",
       "M 1172 3481 \n",
       "Q 1172 3119 1398 2916 \n",
       "Q 1625 2713 2034 2713 \n",
       "Q 2441 2713 2670 2916 \n",
       "Q 2900 3119 2900 3481 \n",
       "Q 2900 3844 2670 4047 \n",
       "Q 2441 4250 2034 4250 \n",
       "Q 1625 4250 1398 4047 \n",
       "Q 1172 3844 1172 3481 \n",
       "z\n",
       "\" transform=\"scale(0.015625)\"/>\n",
       "       </defs>\n",
       "       <use xlink:href=\"#DejaVuSans-30\"/>\n",
       "       <use xlink:href=\"#DejaVuSans-2e\" x=\"63.623047\"/>\n",
       "       <use xlink:href=\"#DejaVuSans-38\" x=\"95.410156\"/>\n",
       "      </g>\n",
       "     </g>\n",
       "    </g>\n",
       "    <g id=\"ytick_6\">\n",
       "     <g id=\"line2d_12\">\n",
       "      <path d=\"M 49.807188 22.318125 \n",
       "L 412.012187 22.318125 \n",
       "\" clip-path=\"url(#pdb48846b3b)\" style=\"fill: none; stroke: #cccccc; stroke-linecap: round\"/>\n",
       "     </g>\n",
       "     <g id=\"text_13\">\n",
       "      <!-- 1.0 -->\n",
       "      <g style=\"fill: #262626\" transform=\"translate(22.81375 26.497266)scale(0.11 -0.11)\">\n",
       "       <use xlink:href=\"#DejaVuSans-31\"/>\n",
       "       <use xlink:href=\"#DejaVuSans-2e\" x=\"63.623047\"/>\n",
       "       <use xlink:href=\"#DejaVuSans-30\" x=\"95.410156\"/>\n",
       "      </g>\n",
       "     </g>\n",
       "    </g>\n",
       "    <g id=\"text_14\">\n",
       "     <!-- Proportion -->\n",
       "     <g style=\"fill: #262626\" transform=\"translate(16.318125 158.063438)rotate(-90)scale(0.12 -0.12)\">\n",
       "      <defs>\n",
       "       <path id=\"DejaVuSans-50\" d=\"M 1259 4147 \n",
       "L 1259 2394 \n",
       "L 2053 2394 \n",
       "Q 2494 2394 2734 2622 \n",
       "Q 2975 2850 2975 3272 \n",
       "Q 2975 3691 2734 3919 \n",
       "Q 2494 4147 2053 4147 \n",
       "L 1259 4147 \n",
       "z\n",
       "M 628 4666 \n",
       "L 2053 4666 \n",
       "Q 2838 4666 3239 4311 \n",
       "Q 3641 3956 3641 3272 \n",
       "Q 3641 2581 3239 2228 \n",
       "Q 2838 1875 2053 1875 \n",
       "L 1259 1875 \n",
       "L 1259 0 \n",
       "L 628 0 \n",
       "L 628 4666 \n",
       "z\n",
       "\" transform=\"scale(0.015625)\"/>\n",
       "       <path id=\"DejaVuSans-70\" d=\"M 1159 525 \n",
       "L 1159 -1331 \n",
       "L 581 -1331 \n",
       "L 581 3500 \n",
       "L 1159 3500 \n",
       "L 1159 2969 \n",
       "Q 1341 3281 1617 3432 \n",
       "Q 1894 3584 2278 3584 \n",
       "Q 2916 3584 3314 3078 \n",
       "Q 3713 2572 3713 1747 \n",
       "Q 3713 922 3314 415 \n",
       "Q 2916 -91 2278 -91 \n",
       "Q 1894 -91 1617 61 \n",
       "Q 1341 213 1159 525 \n",
       "z\n",
       "M 3116 1747 \n",
       "Q 3116 2381 2855 2742 \n",
       "Q 2594 3103 2138 3103 \n",
       "Q 1681 3103 1420 2742 \n",
       "Q 1159 2381 1159 1747 \n",
       "Q 1159 1113 1420 752 \n",
       "Q 1681 391 2138 391 \n",
       "Q 2594 391 2855 752 \n",
       "Q 3116 1113 3116 1747 \n",
       "z\n",
       "\" transform=\"scale(0.015625)\"/>\n",
       "       <path id=\"DejaVuSans-69\" d=\"M 603 3500 \n",
       "L 1178 3500 \n",
       "L 1178 0 \n",
       "L 603 0 \n",
       "L 603 3500 \n",
       "z\n",
       "M 603 4863 \n",
       "L 1178 4863 \n",
       "L 1178 4134 \n",
       "L 603 4134 \n",
       "L 603 4863 \n",
       "z\n",
       "\" transform=\"scale(0.015625)\"/>\n",
       "      </defs>\n",
       "      <use xlink:href=\"#DejaVuSans-50\"/>\n",
       "      <use xlink:href=\"#DejaVuSans-72\" x=\"58.552734\"/>\n",
       "      <use xlink:href=\"#DejaVuSans-6f\" x=\"97.416016\"/>\n",
       "      <use xlink:href=\"#DejaVuSans-70\" x=\"158.597656\"/>\n",
       "      <use xlink:href=\"#DejaVuSans-6f\" x=\"222.074219\"/>\n",
       "      <use xlink:href=\"#DejaVuSans-72\" x=\"283.255859\"/>\n",
       "      <use xlink:href=\"#DejaVuSans-74\" x=\"324.369141\"/>\n",
       "      <use xlink:href=\"#DejaVuSans-69\" x=\"363.578125\"/>\n",
       "      <use xlink:href=\"#DejaVuSans-6f\" x=\"391.361328\"/>\n",
       "      <use xlink:href=\"#DejaVuSans-6e\" x=\"452.542969\"/>\n",
       "     </g>\n",
       "    </g>\n",
       "   </g>\n",
       "   <g id=\"line2d_13\">\n",
       "    <path d=\"M 66.271051 231.898125 \n",
       "L 66.271051 188.405518 \n",
       "L 78.935562 188.405518 \n",
       "L 78.935562 47.598203 \n",
       "L 91.600072 47.598203 \n",
       "L 91.600072 22.318125 \n",
       "L 91.600072 22.318125 \n",
       "\" clip-path=\"url(#pdb48846b3b)\" style=\"fill: none; stroke: #4878d0; stroke-width: 1.5; stroke-linecap: round\"/>\n",
       "   </g>\n",
       "   <g id=\"line2d_14\">\n",
       "    <path d=\"M 395.548324 231.898125 \n",
       "L 395.548324 22.318125 \n",
       "\" clip-path=\"url(#pdb48846b3b)\" style=\"fill: none; stroke: #ffa500; stroke-width: 1.5; stroke-linecap: round\"/>\n",
       "   </g>\n",
       "   <g id=\"patch_3\">\n",
       "    <path d=\"M 49.807188 231.898125 \n",
       "L 49.807188 22.318125 \n",
       "\" style=\"fill: none; stroke: #cccccc; stroke-width: 1.25; stroke-linejoin: miter; stroke-linecap: square\"/>\n",
       "   </g>\n",
       "   <g id=\"patch_4\">\n",
       "    <path d=\"M 412.012187 231.898125 \n",
       "L 412.012187 22.318125 \n",
       "\" style=\"fill: none; stroke: #cccccc; stroke-width: 1.25; stroke-linejoin: miter; stroke-linecap: square\"/>\n",
       "   </g>\n",
       "   <g id=\"patch_5\">\n",
       "    <path d=\"M 49.807188 231.898125 \n",
       "L 412.012187 231.898125 \n",
       "\" style=\"fill: none; stroke: #cccccc; stroke-width: 1.25; stroke-linejoin: miter; stroke-linecap: square\"/>\n",
       "   </g>\n",
       "   <g id=\"patch_6\">\n",
       "    <path d=\"M 49.807188 22.318125 \n",
       "L 412.012187 22.318125 \n",
       "\" style=\"fill: none; stroke: #cccccc; stroke-width: 1.25; stroke-linejoin: miter; stroke-linecap: square\"/>\n",
       "   </g>\n",
       "   <g id=\"text_15\">\n",
       "    <!-- Number of fits by key (total 771 keys) -->\n",
       "    <g style=\"fill: #262626\" transform=\"translate(117.078437 16.318125)scale(0.12 -0.12)\">\n",
       "     <defs>\n",
       "      <path id=\"DejaVuSans-4e\" d=\"M 628 4666 \n",
       "L 1478 4666 \n",
       "L 3547 763 \n",
       "L 3547 4666 \n",
       "L 4159 4666 \n",
       "L 4159 0 \n",
       "L 3309 0 \n",
       "L 1241 3903 \n",
       "L 1241 0 \n",
       "L 628 0 \n",
       "L 628 4666 \n",
       "z\n",
       "\" transform=\"scale(0.015625)\"/>\n",
       "      <path id=\"DejaVuSans-62\" d=\"M 3116 1747 \n",
       "Q 3116 2381 2855 2742 \n",
       "Q 2594 3103 2138 3103 \n",
       "Q 1681 3103 1420 2742 \n",
       "Q 1159 2381 1159 1747 \n",
       "Q 1159 1113 1420 752 \n",
       "Q 1681 391 2138 391 \n",
       "Q 2594 391 2855 752 \n",
       "Q 3116 1113 3116 1747 \n",
       "z\n",
       "M 1159 2969 \n",
       "Q 1341 3281 1617 3432 \n",
       "Q 1894 3584 2278 3584 \n",
       "Q 2916 3584 3314 3078 \n",
       "Q 3713 2572 3713 1747 \n",
       "Q 3713 922 3314 415 \n",
       "Q 2916 -91 2278 -91 \n",
       "Q 1894 -91 1617 61 \n",
       "Q 1341 213 1159 525 \n",
       "L 1159 0 \n",
       "L 581 0 \n",
       "L 581 4863 \n",
       "L 1159 4863 \n",
       "L 1159 2969 \n",
       "z\n",
       "\" transform=\"scale(0.015625)\"/>\n",
       "      <path id=\"DejaVuSans-20\" transform=\"scale(0.015625)\"/>\n",
       "      <path id=\"DejaVuSans-79\" d=\"M 2059 -325 \n",
       "Q 1816 -950 1584 -1140 \n",
       "Q 1353 -1331 966 -1331 \n",
       "L 506 -1331 \n",
       "L 506 -850 \n",
       "L 844 -850 \n",
       "Q 1081 -850 1212 -737 \n",
       "Q 1344 -625 1503 -206 \n",
       "L 1606 56 \n",
       "L 191 3500 \n",
       "L 800 3500 \n",
       "L 1894 763 \n",
       "L 2988 3500 \n",
       "L 3597 3500 \n",
       "L 2059 -325 \n",
       "z\n",
       "\" transform=\"scale(0.015625)\"/>\n",
       "      <path id=\"DejaVuSans-6b\" d=\"M 581 4863 \n",
       "L 1159 4863 \n",
       "L 1159 1991 \n",
       "L 2875 3500 \n",
       "L 3609 3500 \n",
       "L 1753 1863 \n",
       "L 3688 0 \n",
       "L 2938 0 \n",
       "L 1159 1709 \n",
       "L 1159 0 \n",
       "L 581 0 \n",
       "L 581 4863 \n",
       "z\n",
       "\" transform=\"scale(0.015625)\"/>\n",
       "      <path id=\"DejaVuSans-28\" d=\"M 1984 4856 \n",
       "Q 1566 4138 1362 3434 \n",
       "Q 1159 2731 1159 2009 \n",
       "Q 1159 1288 1364 580 \n",
       "Q 1569 -128 1984 -844 \n",
       "L 1484 -844 \n",
       "Q 1016 -109 783 600 \n",
       "Q 550 1309 550 2009 \n",
       "Q 550 2706 781 3412 \n",
       "Q 1013 4119 1484 4856 \n",
       "L 1984 4856 \n",
       "z\n",
       "\" transform=\"scale(0.015625)\"/>\n",
       "      <path id=\"DejaVuSans-6c\" d=\"M 603 4863 \n",
       "L 1178 4863 \n",
       "L 1178 0 \n",
       "L 603 0 \n",
       "L 603 4863 \n",
       "z\n",
       "\" transform=\"scale(0.015625)\"/>\n",
       "      <path id=\"DejaVuSans-37\" d=\"M 525 4666 \n",
       "L 3525 4666 \n",
       "L 3525 4397 \n",
       "L 1831 0 \n",
       "L 1172 0 \n",
       "L 2766 4134 \n",
       "L 525 4134 \n",
       "L 525 4666 \n",
       "z\n",
       "\" transform=\"scale(0.015625)\"/>\n",
       "      <path id=\"DejaVuSans-29\" d=\"M 513 4856 \n",
       "L 1013 4856 \n",
       "Q 1481 4119 1714 3412 \n",
       "Q 1947 2706 1947 2009 \n",
       "Q 1947 1309 1714 600 \n",
       "Q 1481 -109 1013 -844 \n",
       "L 513 -844 \n",
       "Q 928 -128 1133 580 \n",
       "Q 1338 1288 1338 2009 \n",
       "Q 1338 2731 1133 3434 \n",
       "Q 928 4138 513 4856 \n",
       "z\n",
       "\" transform=\"scale(0.015625)\"/>\n",
       "     </defs>\n",
       "     <use xlink:href=\"#DejaVuSans-4e\"/>\n",
       "     <use xlink:href=\"#DejaVuSans-75\" x=\"74.804688\"/>\n",
       "     <use xlink:href=\"#DejaVuSans-6d\" x=\"138.183594\"/>\n",
       "     <use xlink:href=\"#DejaVuSans-62\" x=\"235.595703\"/>\n",
       "     <use xlink:href=\"#DejaVuSans-65\" x=\"299.072266\"/>\n",
       "     <use xlink:href=\"#DejaVuSans-72\" x=\"360.595703\"/>\n",
       "     <use xlink:href=\"#DejaVuSans-20\" x=\"401.708984\"/>\n",
       "     <use xlink:href=\"#DejaVuSans-6f\" x=\"433.496094\"/>\n",
       "     <use xlink:href=\"#DejaVuSans-66\" x=\"494.677734\"/>\n",
       "     <use xlink:href=\"#DejaVuSans-20\" x=\"529.882812\"/>\n",
       "     <use xlink:href=\"#DejaVuSans-66\" x=\"561.669922\"/>\n",
       "     <use xlink:href=\"#DejaVuSans-69\" x=\"596.875\"/>\n",
       "     <use xlink:href=\"#DejaVuSans-74\" x=\"624.658203\"/>\n",
       "     <use xlink:href=\"#DejaVuSans-73\" x=\"663.867188\"/>\n",
       "     <use xlink:href=\"#DejaVuSans-20\" x=\"715.966797\"/>\n",
       "     <use xlink:href=\"#DejaVuSans-62\" x=\"747.753906\"/>\n",
       "     <use xlink:href=\"#DejaVuSans-79\" x=\"811.230469\"/>\n",
       "     <use xlink:href=\"#DejaVuSans-20\" x=\"870.410156\"/>\n",
       "     <use xlink:href=\"#DejaVuSans-6b\" x=\"902.197266\"/>\n",
       "     <use xlink:href=\"#DejaVuSans-65\" x=\"956.482422\"/>\n",
       "     <use xlink:href=\"#DejaVuSans-79\" x=\"1018.005859\"/>\n",
       "     <use xlink:href=\"#DejaVuSans-20\" x=\"1077.185547\"/>\n",
       "     <use xlink:href=\"#DejaVuSans-28\" x=\"1108.972656\"/>\n",
       "     <use xlink:href=\"#DejaVuSans-74\" x=\"1147.986328\"/>\n",
       "     <use xlink:href=\"#DejaVuSans-6f\" x=\"1187.195312\"/>\n",
       "     <use xlink:href=\"#DejaVuSans-74\" x=\"1248.376953\"/>\n",
       "     <use xlink:href=\"#DejaVuSans-61\" x=\"1287.585938\"/>\n",
       "     <use xlink:href=\"#DejaVuSans-6c\" x=\"1348.865234\"/>\n",
       "     <use xlink:href=\"#DejaVuSans-20\" x=\"1376.648438\"/>\n",
       "     <use xlink:href=\"#DejaVuSans-37\" x=\"1408.435547\"/>\n",
       "     <use xlink:href=\"#DejaVuSans-37\" x=\"1472.058594\"/>\n",
       "     <use xlink:href=\"#DejaVuSans-31\" x=\"1535.681641\"/>\n",
       "     <use xlink:href=\"#DejaVuSans-20\" x=\"1599.304688\"/>\n",
       "     <use xlink:href=\"#DejaVuSans-6b\" x=\"1631.091797\"/>\n",
       "     <use xlink:href=\"#DejaVuSans-65\" x=\"1685.376953\"/>\n",
       "     <use xlink:href=\"#DejaVuSans-79\" x=\"1746.900391\"/>\n",
       "     <use xlink:href=\"#DejaVuSans-73\" x=\"1806.080078\"/>\n",
       "     <use xlink:href=\"#DejaVuSans-29\" x=\"1858.179688\"/>\n",
       "    </g>\n",
       "   </g>\n",
       "   <g id=\"legend_1\">\n",
       "    <g id=\"patch_7\">\n",
       "     <path d=\"M 178.046094 226.398125 \n",
       "L 283.773281 226.398125 \n",
       "Q 285.973281 226.398125 285.973281 224.198125 \n",
       "L 285.973281 209.152188 \n",
       "Q 285.973281 206.952188 283.773281 206.952188 \n",
       "L 178.046094 206.952188 \n",
       "Q 175.846094 206.952188 175.846094 209.152188 \n",
       "L 175.846094 224.198125 \n",
       "Q 175.846094 226.398125 178.046094 226.398125 \n",
       "z\n",
       "\" style=\"fill: #ffffff; opacity: 0.8; stroke: #cccccc; stroke-linejoin: miter\"/>\n",
       "    </g>\n",
       "    <g id=\"line2d_15\">\n",
       "     <path d=\"M 180.246094 215.860469 \n",
       "L 191.246094 215.860469 \n",
       "L 202.246094 215.860469 \n",
       "\" style=\"fill: none; stroke: #ffa500; stroke-width: 1.5; stroke-linecap: round\"/>\n",
       "    </g>\n",
       "    <g id=\"text_16\">\n",
       "     <!-- Max Possible -->\n",
       "     <g style=\"fill: #262626\" transform=\"translate(211.046094 219.710469)scale(0.11 -0.11)\">\n",
       "      <defs>\n",
       "       <path id=\"DejaVuSans-4d\" d=\"M 628 4666 \n",
       "L 1569 4666 \n",
       "L 2759 1491 \n",
       "L 3956 4666 \n",
       "L 4897 4666 \n",
       "L 4897 0 \n",
       "L 4281 0 \n",
       "L 4281 4097 \n",
       "L 3078 897 \n",
       "L 2444 897 \n",
       "L 1241 4097 \n",
       "L 1241 0 \n",
       "L 628 0 \n",
       "L 628 4666 \n",
       "z\n",
       "\" transform=\"scale(0.015625)\"/>\n",
       "       <path id=\"DejaVuSans-78\" d=\"M 3513 3500 \n",
       "L 2247 1797 \n",
       "L 3578 0 \n",
       "L 2900 0 \n",
       "L 1881 1375 \n",
       "L 863 0 \n",
       "L 184 0 \n",
       "L 1544 1831 \n",
       "L 300 3500 \n",
       "L 978 3500 \n",
       "L 1906 2253 \n",
       "L 2834 3500 \n",
       "L 3513 3500 \n",
       "z\n",
       "\" transform=\"scale(0.015625)\"/>\n",
       "      </defs>\n",
       "      <use xlink:href=\"#DejaVuSans-4d\"/>\n",
       "      <use xlink:href=\"#DejaVuSans-61\" x=\"86.279297\"/>\n",
       "      <use xlink:href=\"#DejaVuSans-78\" x=\"147.558594\"/>\n",
       "      <use xlink:href=\"#DejaVuSans-20\" x=\"206.738281\"/>\n",
       "      <use xlink:href=\"#DejaVuSans-50\" x=\"238.525391\"/>\n",
       "      <use xlink:href=\"#DejaVuSans-6f\" x=\"295.203125\"/>\n",
       "      <use xlink:href=\"#DejaVuSans-73\" x=\"356.384766\"/>\n",
       "      <use xlink:href=\"#DejaVuSans-73\" x=\"408.484375\"/>\n",
       "      <use xlink:href=\"#DejaVuSans-69\" x=\"460.583984\"/>\n",
       "      <use xlink:href=\"#DejaVuSans-62\" x=\"488.367188\"/>\n",
       "      <use xlink:href=\"#DejaVuSans-6c\" x=\"551.84375\"/>\n",
       "      <use xlink:href=\"#DejaVuSans-65\" x=\"579.626953\"/>\n",
       "     </g>\n",
       "    </g>\n",
       "   </g>\n",
       "  </g>\n",
       " </g>\n",
       " <defs>\n",
       "  <clipPath id=\"pdb48846b3b\">\n",
       "   <rect x=\"49.807188\" y=\"22.318125\" width=\"362.205\" height=\"209.58\"/>\n",
       "  </clipPath>\n",
       " </defs>\n",
       "</svg>\n"
      ],
      "text/plain": [
       "<Figure size 432x288 with 1 Axes>"
      ]
     },
     "metadata": {},
     "output_type": "display_data"
    }
   ],
   "source": [
    "sns.ecdfplot(num_forecasts[\"num_forecasts\"])\n",
    "plt.title(f\"Number of fits by key (total {len(num_forecasts)} keys)\")\n",
    "plt.axvline(27, color=\"orange\", label=\"Max Possible\")\n",
    "plt.legend()\n",
    "plt.tight_layout()\n",
    "plt.savefig(f\"plots/{result_name}-nfits.pdf\", dpi=300)"
   ]
  },
  {
   "cell_type": "code",
   "execution_count": 9,
   "id": "fb1a45b0",
   "metadata": {
    "execution": {
     "iopub.execute_input": "2022-04-05T07:07:02.172328Z",
     "iopub.status.busy": "2022-04-05T07:07:02.172081Z",
     "iopub.status.idle": "2022-04-05T07:07:02.177347Z",
     "shell.execute_reply": "2022-04-05T07:07:02.176619Z"
    },
    "papermill": {
     "duration": 0.049258,
     "end_time": "2022-04-05T07:07:02.178701",
     "exception": false,
     "start_time": "2022-04-05T07:07:02.129443",
     "status": "completed"
    },
    "tags": []
   },
   "outputs": [],
   "source": [
    "num_forecasts.to_csv(f\"plots/{result_name}-nfits.csv\", index=None)"
   ]
  },
  {
   "cell_type": "code",
   "execution_count": null,
   "id": "3be0f017",
   "metadata": {
    "papermill": {
     "duration": 0.042017,
     "end_time": "2022-04-05T07:07:02.262553",
     "exception": false,
     "start_time": "2022-04-05T07:07:02.220536",
     "status": "completed"
    },
    "tags": []
   },
   "outputs": [],
   "source": []
  },
  {
   "cell_type": "code",
   "execution_count": 10,
   "id": "381f3f1c",
   "metadata": {
    "execution": {
     "iopub.execute_input": "2022-04-05T07:07:02.347535Z",
     "iopub.status.busy": "2022-04-05T07:07:02.347334Z",
     "iopub.status.idle": "2022-04-05T07:07:08.247167Z",
     "shell.execute_reply": "2022-04-05T07:07:08.246503Z"
    },
    "papermill": {
     "duration": 5.945351,
     "end_time": "2022-04-05T07:07:08.249750",
     "exception": false,
     "start_time": "2022-04-05T07:07:02.304399",
     "status": "completed"
    },
    "tags": []
   },
   "outputs": [],
   "source": [
    "def compute_key(key):\n",
    "    pred_df = (\n",
    "        pd.DataFrame(\n",
    "            {\n",
    "                \"timestamp\": key_to_timestamps[key],\n",
    "                \"last_seqno\": key_to_last_seqnos[key],\n",
    "            }\n",
    "        )\n",
    "        .sort_values(\"timestamp\")\n",
    "        .set_index(\"timestamp\")\n",
    "    )\n",
    "    true_df = (\n",
    "        pd.DataFrame(\n",
    "            {\n",
    "                \"timestamp\": key_to_source_timestamps[key],\n",
    "                \"avg_cpu\": key_to_source_series[key],\n",
    "                \"seq_no\": key_to_source_seqno[key],\n",
    "            }\n",
    "        )\n",
    "        .sort_values(\"timestamp\")\n",
    "        .set_index(\"timestamp\")\n",
    "    )\n",
    "\n",
    "    merged = pd.merge_asof(\n",
    "        left=true_df, right=pred_df, on=\"timestamp\", direction=\"backward\"\n",
    "    )\n",
    "\n",
    "    forecast = key_to_last_seqno_to_forecast[key]\n",
    "    frame = pd.DataFrame(forecast)\n",
    "    frame = (\n",
    "        frame.T.reset_index()\n",
    "        .melt(\"index\")\n",
    "        .rename(columns={\"variable\": \"seq_delta\", \"index\": \"last_seqno\"})\n",
    "    )\n",
    "\n",
    "    m = merged.dropna().reset_index(drop=True)\n",
    "    m.loc[:, \"seq_delta\"] = (m[\"seq_no\"] - m[\"last_seqno\"]).astype(int)\n",
    "    final = m.merge(frame, how=\"left\", on=[\"last_seqno\", \"seq_delta\"])\n",
    "\n",
    "    mse_per_key_per_s = final.groupby(final[\"timestamp\"].astype(int)).apply(\n",
    "        lambda d: pd.Series(\n",
    "            {\"mse\": ((d[\"avg_cpu\"] - d[\"value\"]) ** 2).mean(), \"count\": len(d)}\n",
    "        )\n",
    "    )\n",
    "    mse_per_key_per_s[\"key\"] = key\n",
    "    return mse_per_key_per_s\n",
    "\n",
    "with ProcessPoolExecutor() as executor:\n",
    "    futs = executor.map(compute_key, key_to_timestamps.keys())\n",
    "    mses = list(futs)"
   ]
  },
  {
   "cell_type": "code",
   "execution_count": 11,
   "id": "186267f0",
   "metadata": {
    "execution": {
     "iopub.execute_input": "2022-04-05T07:07:08.336356Z",
     "iopub.status.busy": "2022-04-05T07:07:08.336164Z",
     "iopub.status.idle": "2022-04-05T07:07:09.907856Z",
     "shell.execute_reply": "2022-04-05T07:07:09.906993Z"
    },
    "papermill": {
     "duration": 1.616838,
     "end_time": "2022-04-05T07:07:09.909618",
     "exception": false,
     "start_time": "2022-04-05T07:07:08.292780",
     "status": "completed"
    },
    "tags": []
   },
   "outputs": [],
   "source": [
    "# we are dropping some keys here :sigh:\n",
    "# need to figure out how to handle a key that's never fitted\n",
    "# final length 4965 for 5000\n",
    "all_mse = pd.concat([f.reset_index() for f in mses if len(f)])"
   ]
  },
  {
   "cell_type": "code",
   "execution_count": 12,
   "id": "e7452004",
   "metadata": {
    "execution": {
     "iopub.execute_input": "2022-04-05T07:07:09.995087Z",
     "iopub.status.busy": "2022-04-05T07:07:09.994864Z",
     "iopub.status.idle": "2022-04-05T07:07:10.035693Z",
     "shell.execute_reply": "2022-04-05T07:07:10.034927Z"
    },
    "papermill": {
     "duration": 0.085874,
     "end_time": "2022-04-05T07:07:10.037415",
     "exception": false,
     "start_time": "2022-04-05T07:07:09.951541",
     "status": "completed"
    },
    "tags": []
   },
   "outputs": [],
   "source": [
    "all_mse.to_parquet(f\"plots/{result_name}-all_mse.pq\", index=None)"
   ]
  },
  {
   "cell_type": "code",
   "execution_count": 13,
   "id": "72f9d80f",
   "metadata": {
    "execution": {
     "iopub.execute_input": "2022-04-05T07:07:10.124715Z",
     "iopub.status.busy": "2022-04-05T07:07:10.124513Z",
     "iopub.status.idle": "2022-04-05T07:07:10.191038Z",
     "shell.execute_reply": "2022-04-05T07:07:10.190300Z"
    },
    "papermill": {
     "duration": 0.113012,
     "end_time": "2022-04-05T07:07:10.192799",
     "exception": false,
     "start_time": "2022-04-05T07:07:10.079787",
     "status": "completed"
    },
    "tags": []
   },
   "outputs": [],
   "source": [
    "mse_by_timestamp = all_mse.groupby(\"timestamp\").apply(\n",
    "    lambda d: (d[\"mse\"]*d[\"count\"]).sum()/(d[\"count\"].sum())\n",
    ")"
   ]
  },
  {
   "cell_type": "code",
   "execution_count": 14,
   "id": "afba1a80",
   "metadata": {
    "execution": {
     "iopub.execute_input": "2022-04-05T07:07:10.278380Z",
     "iopub.status.busy": "2022-04-05T07:07:10.278209Z",
     "iopub.status.idle": "2022-04-05T07:07:10.281587Z",
     "shell.execute_reply": "2022-04-05T07:07:10.280899Z"
    },
    "papermill": {
     "duration": 0.048402,
     "end_time": "2022-04-05T07:07:10.283353",
     "exception": false,
     "start_time": "2022-04-05T07:07:10.234951",
     "status": "completed"
    },
    "tags": []
   },
   "outputs": [],
   "source": [
    "mse_by_timestamp.index = mse_by_timestamp.index-mse_by_timestamp.index.min()"
   ]
  },
  {
   "cell_type": "code",
   "execution_count": 15,
   "id": "0fbb3999",
   "metadata": {
    "execution": {
     "iopub.execute_input": "2022-04-05T07:07:10.369144Z",
     "iopub.status.busy": "2022-04-05T07:07:10.368953Z",
     "iopub.status.idle": "2022-04-05T07:07:10.641358Z",
     "shell.execute_reply": "2022-04-05T07:07:10.640421Z"
    },
    "papermill": {
     "duration": 0.317208,
     "end_time": "2022-04-05T07:07:10.642648",
     "exception": false,
     "start_time": "2022-04-05T07:07:10.325440",
     "status": "completed"
    },
    "tags": []
   },
   "outputs": [
    {
     "data": {
      "image/svg+xml": [
       "<?xml version=\"1.0\" encoding=\"utf-8\" standalone=\"no\"?>\n",
       "<!DOCTYPE svg PUBLIC \"-//W3C//DTD SVG 1.1//EN\"\n",
       "  \"http://www.w3.org/Graphics/SVG/1.1/DTD/svg11.dtd\">\n",
       "<svg xmlns:xlink=\"http://www.w3.org/1999/xlink\" width=\"420.475pt\" height=\"274.857813pt\" viewBox=\"0 0 420.475 274.857813\" xmlns=\"http://www.w3.org/2000/svg\" version=\"1.1\">\n",
       " <metadata>\n",
       "  <rdf:RDF xmlns:dc=\"http://purl.org/dc/elements/1.1/\" xmlns:cc=\"http://creativecommons.org/ns#\" xmlns:rdf=\"http://www.w3.org/1999/02/22-rdf-syntax-ns#\">\n",
       "   <cc:Work>\n",
       "    <dc:type rdf:resource=\"http://purl.org/dc/dcmitype/StillImage\"/>\n",
       "    <dc:date>2022-04-05T07:07:10.608785</dc:date>\n",
       "    <dc:format>image/svg+xml</dc:format>\n",
       "    <dc:creator>\n",
       "     <cc:Agent>\n",
       "      <dc:title>Matplotlib v3.5.1, https://matplotlib.org/</dc:title>\n",
       "     </cc:Agent>\n",
       "    </dc:creator>\n",
       "   </cc:Work>\n",
       "  </rdf:RDF>\n",
       " </metadata>\n",
       " <defs>\n",
       "  <style type=\"text/css\">*{stroke-linejoin: round; stroke-linecap: butt}</style>\n",
       " </defs>\n",
       " <g id=\"figure_1\">\n",
       "  <g id=\"patch_1\">\n",
       "   <path d=\"M 0 274.857813 \n",
       "L 420.475 274.857813 \n",
       "L 420.475 0 \n",
       "L 0 0 \n",
       "z\n",
       "\" style=\"fill: #ffffff\"/>\n",
       "  </g>\n",
       "  <g id=\"axes_1\">\n",
       "   <g id=\"patch_2\">\n",
       "    <path d=\"M 44.695 231.898125 \n",
       "L 413.275 231.898125 \n",
       "L 413.275 22.318125 \n",
       "L 44.695 22.318125 \n",
       "z\n",
       "\" style=\"fill: #ffffff\"/>\n",
       "   </g>\n",
       "   <g id=\"matplotlib.axis_1\">\n",
       "    <g id=\"xtick_1\">\n",
       "     <g id=\"line2d_1\">\n",
       "      <path d=\"M 61.448636 231.898125 \n",
       "L 61.448636 22.318125 \n",
       "\" clip-path=\"url(#p9808bcccb8)\" style=\"fill: none; stroke: #cccccc; stroke-linecap: round\"/>\n",
       "     </g>\n",
       "     <g id=\"text_1\">\n",
       "      <!-- 0 -->\n",
       "      <g style=\"fill: #262626\" transform=\"translate(57.949261 249.756406)scale(0.11 -0.11)\">\n",
       "       <defs>\n",
       "        <path id=\"DejaVuSans-30\" d=\"M 2034 4250 \n",
       "Q 1547 4250 1301 3770 \n",
       "Q 1056 3291 1056 2328 \n",
       "Q 1056 1369 1301 889 \n",
       "Q 1547 409 2034 409 \n",
       "Q 2525 409 2770 889 \n",
       "Q 3016 1369 3016 2328 \n",
       "Q 3016 3291 2770 3770 \n",
       "Q 2525 4250 2034 4250 \n",
       "z\n",
       "M 2034 4750 \n",
       "Q 2819 4750 3233 4129 \n",
       "Q 3647 3509 3647 2328 \n",
       "Q 3647 1150 3233 529 \n",
       "Q 2819 -91 2034 -91 \n",
       "Q 1250 -91 836 529 \n",
       "Q 422 1150 422 2328 \n",
       "Q 422 3509 836 4129 \n",
       "Q 1250 4750 2034 4750 \n",
       "z\n",
       "\" transform=\"scale(0.015625)\"/>\n",
       "       </defs>\n",
       "       <use xlink:href=\"#DejaVuSans-30\"/>\n",
       "      </g>\n",
       "     </g>\n",
       "    </g>\n",
       "    <g id=\"xtick_2\">\n",
       "     <g id=\"line2d_2\">\n",
       "      <path d=\"M 140.475223 231.898125 \n",
       "L 140.475223 22.318125 \n",
       "\" clip-path=\"url(#p9808bcccb8)\" style=\"fill: none; stroke: #cccccc; stroke-linecap: round\"/>\n",
       "     </g>\n",
       "     <g id=\"text_2\">\n",
       "      <!-- 50 -->\n",
       "      <g style=\"fill: #262626\" transform=\"translate(133.476473 249.756406)scale(0.11 -0.11)\">\n",
       "       <defs>\n",
       "        <path id=\"DejaVuSans-35\" d=\"M 691 4666 \n",
       "L 3169 4666 \n",
       "L 3169 4134 \n",
       "L 1269 4134 \n",
       "L 1269 2991 \n",
       "Q 1406 3038 1543 3061 \n",
       "Q 1681 3084 1819 3084 \n",
       "Q 2600 3084 3056 2656 \n",
       "Q 3513 2228 3513 1497 \n",
       "Q 3513 744 3044 326 \n",
       "Q 2575 -91 1722 -91 \n",
       "Q 1428 -91 1123 -41 \n",
       "Q 819 9 494 109 \n",
       "L 494 744 \n",
       "Q 775 591 1075 516 \n",
       "Q 1375 441 1709 441 \n",
       "Q 2250 441 2565 725 \n",
       "Q 2881 1009 2881 1497 \n",
       "Q 2881 1984 2565 2268 \n",
       "Q 2250 2553 1709 2553 \n",
       "Q 1456 2553 1204 2497 \n",
       "Q 953 2441 691 2322 \n",
       "L 691 4666 \n",
       "z\n",
       "\" transform=\"scale(0.015625)\"/>\n",
       "       </defs>\n",
       "       <use xlink:href=\"#DejaVuSans-35\"/>\n",
       "       <use xlink:href=\"#DejaVuSans-30\" x=\"63.623047\"/>\n",
       "      </g>\n",
       "     </g>\n",
       "    </g>\n",
       "    <g id=\"xtick_3\">\n",
       "     <g id=\"line2d_3\">\n",
       "      <path d=\"M 219.50181 231.898125 \n",
       "L 219.50181 22.318125 \n",
       "\" clip-path=\"url(#p9808bcccb8)\" style=\"fill: none; stroke: #cccccc; stroke-linecap: round\"/>\n",
       "     </g>\n",
       "     <g id=\"text_3\">\n",
       "      <!-- 100 -->\n",
       "      <g style=\"fill: #262626\" transform=\"translate(209.003685 249.756406)scale(0.11 -0.11)\">\n",
       "       <defs>\n",
       "        <path id=\"DejaVuSans-31\" d=\"M 794 531 \n",
       "L 1825 531 \n",
       "L 1825 4091 \n",
       "L 703 3866 \n",
       "L 703 4441 \n",
       "L 1819 4666 \n",
       "L 2450 4666 \n",
       "L 2450 531 \n",
       "L 3481 531 \n",
       "L 3481 0 \n",
       "L 794 0 \n",
       "L 794 531 \n",
       "z\n",
       "\" transform=\"scale(0.015625)\"/>\n",
       "       </defs>\n",
       "       <use xlink:href=\"#DejaVuSans-31\"/>\n",
       "       <use xlink:href=\"#DejaVuSans-30\" x=\"63.623047\"/>\n",
       "       <use xlink:href=\"#DejaVuSans-30\" x=\"127.246094\"/>\n",
       "      </g>\n",
       "     </g>\n",
       "    </g>\n",
       "    <g id=\"xtick_4\">\n",
       "     <g id=\"line2d_4\">\n",
       "      <path d=\"M 298.528396 231.898125 \n",
       "L 298.528396 22.318125 \n",
       "\" clip-path=\"url(#p9808bcccb8)\" style=\"fill: none; stroke: #cccccc; stroke-linecap: round\"/>\n",
       "     </g>\n",
       "     <g id=\"text_4\">\n",
       "      <!-- 150 -->\n",
       "      <g style=\"fill: #262626\" transform=\"translate(288.030271 249.756406)scale(0.11 -0.11)\">\n",
       "       <use xlink:href=\"#DejaVuSans-31\"/>\n",
       "       <use xlink:href=\"#DejaVuSans-35\" x=\"63.623047\"/>\n",
       "       <use xlink:href=\"#DejaVuSans-30\" x=\"127.246094\"/>\n",
       "      </g>\n",
       "     </g>\n",
       "    </g>\n",
       "    <g id=\"xtick_5\">\n",
       "     <g id=\"line2d_5\">\n",
       "      <path d=\"M 377.554983 231.898125 \n",
       "L 377.554983 22.318125 \n",
       "\" clip-path=\"url(#p9808bcccb8)\" style=\"fill: none; stroke: #cccccc; stroke-linecap: round\"/>\n",
       "     </g>\n",
       "     <g id=\"text_5\">\n",
       "      <!-- 200 -->\n",
       "      <g style=\"fill: #262626\" transform=\"translate(367.056858 249.756406)scale(0.11 -0.11)\">\n",
       "       <defs>\n",
       "        <path id=\"DejaVuSans-32\" d=\"M 1228 531 \n",
       "L 3431 531 \n",
       "L 3431 0 \n",
       "L 469 0 \n",
       "L 469 531 \n",
       "Q 828 903 1448 1529 \n",
       "Q 2069 2156 2228 2338 \n",
       "Q 2531 2678 2651 2914 \n",
       "Q 2772 3150 2772 3378 \n",
       "Q 2772 3750 2511 3984 \n",
       "Q 2250 4219 1831 4219 \n",
       "Q 1534 4219 1204 4116 \n",
       "Q 875 4013 500 3803 \n",
       "L 500 4441 \n",
       "Q 881 4594 1212 4672 \n",
       "Q 1544 4750 1819 4750 \n",
       "Q 2544 4750 2975 4387 \n",
       "Q 3406 4025 3406 3419 \n",
       "Q 3406 3131 3298 2873 \n",
       "Q 3191 2616 2906 2266 \n",
       "Q 2828 2175 2409 1742 \n",
       "Q 1991 1309 1228 531 \n",
       "z\n",
       "\" transform=\"scale(0.015625)\"/>\n",
       "       </defs>\n",
       "       <use xlink:href=\"#DejaVuSans-32\"/>\n",
       "       <use xlink:href=\"#DejaVuSans-30\" x=\"63.623047\"/>\n",
       "       <use xlink:href=\"#DejaVuSans-30\" x=\"127.246094\"/>\n",
       "      </g>\n",
       "     </g>\n",
       "    </g>\n",
       "    <g id=\"text_6\">\n",
       "     <!-- timestamp -->\n",
       "     <g style=\"fill: #262626\" transform=\"translate(196.621562 265.162188)scale(0.12 -0.12)\">\n",
       "      <defs>\n",
       "       <path id=\"DejaVuSans-74\" d=\"M 1172 4494 \n",
       "L 1172 3500 \n",
       "L 2356 3500 \n",
       "L 2356 3053 \n",
       "L 1172 3053 \n",
       "L 1172 1153 \n",
       "Q 1172 725 1289 603 \n",
       "Q 1406 481 1766 481 \n",
       "L 2356 481 \n",
       "L 2356 0 \n",
       "L 1766 0 \n",
       "Q 1100 0 847 248 \n",
       "Q 594 497 594 1153 \n",
       "L 594 3053 \n",
       "L 172 3053 \n",
       "L 172 3500 \n",
       "L 594 3500 \n",
       "L 594 4494 \n",
       "L 1172 4494 \n",
       "z\n",
       "\" transform=\"scale(0.015625)\"/>\n",
       "       <path id=\"DejaVuSans-69\" d=\"M 603 3500 \n",
       "L 1178 3500 \n",
       "L 1178 0 \n",
       "L 603 0 \n",
       "L 603 3500 \n",
       "z\n",
       "M 603 4863 \n",
       "L 1178 4863 \n",
       "L 1178 4134 \n",
       "L 603 4134 \n",
       "L 603 4863 \n",
       "z\n",
       "\" transform=\"scale(0.015625)\"/>\n",
       "       <path id=\"DejaVuSans-6d\" d=\"M 3328 2828 \n",
       "Q 3544 3216 3844 3400 \n",
       "Q 4144 3584 4550 3584 \n",
       "Q 5097 3584 5394 3201 \n",
       "Q 5691 2819 5691 2113 \n",
       "L 5691 0 \n",
       "L 5113 0 \n",
       "L 5113 2094 \n",
       "Q 5113 2597 4934 2840 \n",
       "Q 4756 3084 4391 3084 \n",
       "Q 3944 3084 3684 2787 \n",
       "Q 3425 2491 3425 1978 \n",
       "L 3425 0 \n",
       "L 2847 0 \n",
       "L 2847 2094 \n",
       "Q 2847 2600 2669 2842 \n",
       "Q 2491 3084 2119 3084 \n",
       "Q 1678 3084 1418 2786 \n",
       "Q 1159 2488 1159 1978 \n",
       "L 1159 0 \n",
       "L 581 0 \n",
       "L 581 3500 \n",
       "L 1159 3500 \n",
       "L 1159 2956 \n",
       "Q 1356 3278 1631 3431 \n",
       "Q 1906 3584 2284 3584 \n",
       "Q 2666 3584 2933 3390 \n",
       "Q 3200 3197 3328 2828 \n",
       "z\n",
       "\" transform=\"scale(0.015625)\"/>\n",
       "       <path id=\"DejaVuSans-65\" d=\"M 3597 1894 \n",
       "L 3597 1613 \n",
       "L 953 1613 \n",
       "Q 991 1019 1311 708 \n",
       "Q 1631 397 2203 397 \n",
       "Q 2534 397 2845 478 \n",
       "Q 3156 559 3463 722 \n",
       "L 3463 178 \n",
       "Q 3153 47 2828 -22 \n",
       "Q 2503 -91 2169 -91 \n",
       "Q 1331 -91 842 396 \n",
       "Q 353 884 353 1716 \n",
       "Q 353 2575 817 3079 \n",
       "Q 1281 3584 2069 3584 \n",
       "Q 2775 3584 3186 3129 \n",
       "Q 3597 2675 3597 1894 \n",
       "z\n",
       "M 3022 2063 \n",
       "Q 3016 2534 2758 2815 \n",
       "Q 2500 3097 2075 3097 \n",
       "Q 1594 3097 1305 2825 \n",
       "Q 1016 2553 972 2059 \n",
       "L 3022 2063 \n",
       "z\n",
       "\" transform=\"scale(0.015625)\"/>\n",
       "       <path id=\"DejaVuSans-73\" d=\"M 2834 3397 \n",
       "L 2834 2853 \n",
       "Q 2591 2978 2328 3040 \n",
       "Q 2066 3103 1784 3103 \n",
       "Q 1356 3103 1142 2972 \n",
       "Q 928 2841 928 2578 \n",
       "Q 928 2378 1081 2264 \n",
       "Q 1234 2150 1697 2047 \n",
       "L 1894 2003 \n",
       "Q 2506 1872 2764 1633 \n",
       "Q 3022 1394 3022 966 \n",
       "Q 3022 478 2636 193 \n",
       "Q 2250 -91 1575 -91 \n",
       "Q 1294 -91 989 -36 \n",
       "Q 684 19 347 128 \n",
       "L 347 722 \n",
       "Q 666 556 975 473 \n",
       "Q 1284 391 1588 391 \n",
       "Q 1994 391 2212 530 \n",
       "Q 2431 669 2431 922 \n",
       "Q 2431 1156 2273 1281 \n",
       "Q 2116 1406 1581 1522 \n",
       "L 1381 1569 \n",
       "Q 847 1681 609 1914 \n",
       "Q 372 2147 372 2553 \n",
       "Q 372 3047 722 3315 \n",
       "Q 1072 3584 1716 3584 \n",
       "Q 2034 3584 2315 3537 \n",
       "Q 2597 3491 2834 3397 \n",
       "z\n",
       "\" transform=\"scale(0.015625)\"/>\n",
       "       <path id=\"DejaVuSans-61\" d=\"M 2194 1759 \n",
       "Q 1497 1759 1228 1600 \n",
       "Q 959 1441 959 1056 \n",
       "Q 959 750 1161 570 \n",
       "Q 1363 391 1709 391 \n",
       "Q 2188 391 2477 730 \n",
       "Q 2766 1069 2766 1631 \n",
       "L 2766 1759 \n",
       "L 2194 1759 \n",
       "z\n",
       "M 3341 1997 \n",
       "L 3341 0 \n",
       "L 2766 0 \n",
       "L 2766 531 \n",
       "Q 2569 213 2275 61 \n",
       "Q 1981 -91 1556 -91 \n",
       "Q 1019 -91 701 211 \n",
       "Q 384 513 384 1019 \n",
       "Q 384 1609 779 1909 \n",
       "Q 1175 2209 1959 2209 \n",
       "L 2766 2209 \n",
       "L 2766 2266 \n",
       "Q 2766 2663 2505 2880 \n",
       "Q 2244 3097 1772 3097 \n",
       "Q 1472 3097 1187 3025 \n",
       "Q 903 2953 641 2809 \n",
       "L 641 3341 \n",
       "Q 956 3463 1253 3523 \n",
       "Q 1550 3584 1831 3584 \n",
       "Q 2591 3584 2966 3190 \n",
       "Q 3341 2797 3341 1997 \n",
       "z\n",
       "\" transform=\"scale(0.015625)\"/>\n",
       "       <path id=\"DejaVuSans-70\" d=\"M 1159 525 \n",
       "L 1159 -1331 \n",
       "L 581 -1331 \n",
       "L 581 3500 \n",
       "L 1159 3500 \n",
       "L 1159 2969 \n",
       "Q 1341 3281 1617 3432 \n",
       "Q 1894 3584 2278 3584 \n",
       "Q 2916 3584 3314 3078 \n",
       "Q 3713 2572 3713 1747 \n",
       "Q 3713 922 3314 415 \n",
       "Q 2916 -91 2278 -91 \n",
       "Q 1894 -91 1617 61 \n",
       "Q 1341 213 1159 525 \n",
       "z\n",
       "M 3116 1747 \n",
       "Q 3116 2381 2855 2742 \n",
       "Q 2594 3103 2138 3103 \n",
       "Q 1681 3103 1420 2742 \n",
       "Q 1159 2381 1159 1747 \n",
       "Q 1159 1113 1420 752 \n",
       "Q 1681 391 2138 391 \n",
       "Q 2594 391 2855 752 \n",
       "Q 3116 1113 3116 1747 \n",
       "z\n",
       "\" transform=\"scale(0.015625)\"/>\n",
       "      </defs>\n",
       "      <use xlink:href=\"#DejaVuSans-74\"/>\n",
       "      <use xlink:href=\"#DejaVuSans-69\" x=\"39.208984\"/>\n",
       "      <use xlink:href=\"#DejaVuSans-6d\" x=\"66.992188\"/>\n",
       "      <use xlink:href=\"#DejaVuSans-65\" x=\"164.404297\"/>\n",
       "      <use xlink:href=\"#DejaVuSans-73\" x=\"225.927734\"/>\n",
       "      <use xlink:href=\"#DejaVuSans-74\" x=\"278.027344\"/>\n",
       "      <use xlink:href=\"#DejaVuSans-61\" x=\"317.236328\"/>\n",
       "      <use xlink:href=\"#DejaVuSans-6d\" x=\"378.515625\"/>\n",
       "      <use xlink:href=\"#DejaVuSans-70\" x=\"475.927734\"/>\n",
       "     </g>\n",
       "    </g>\n",
       "   </g>\n",
       "   <g id=\"matplotlib.axis_2\">\n",
       "    <g id=\"ytick_1\">\n",
       "     <g id=\"line2d_6\">\n",
       "      <path d=\"M 44.695 222.879149 \n",
       "L 413.275 222.879149 \n",
       "\" clip-path=\"url(#p9808bcccb8)\" style=\"fill: none; stroke: #cccccc; stroke-linecap: round\"/>\n",
       "     </g>\n",
       "     <g id=\"text_7\">\n",
       "      <!-- 0 -->\n",
       "      <g style=\"fill: #262626\" transform=\"translate(28.19625 227.058289)scale(0.11 -0.11)\">\n",
       "       <use xlink:href=\"#DejaVuSans-30\"/>\n",
       "      </g>\n",
       "     </g>\n",
       "    </g>\n",
       "    <g id=\"ytick_2\">\n",
       "     <g id=\"line2d_7\">\n",
       "      <path d=\"M 44.695 195.363156 \n",
       "L 413.275 195.363156 \n",
       "\" clip-path=\"url(#p9808bcccb8)\" style=\"fill: none; stroke: #cccccc; stroke-linecap: round\"/>\n",
       "     </g>\n",
       "     <g id=\"text_8\">\n",
       "      <!-- 250 -->\n",
       "      <g style=\"fill: #262626\" transform=\"translate(14.19875 199.542297)scale(0.11 -0.11)\">\n",
       "       <use xlink:href=\"#DejaVuSans-32\"/>\n",
       "       <use xlink:href=\"#DejaVuSans-35\" x=\"63.623047\"/>\n",
       "       <use xlink:href=\"#DejaVuSans-30\" x=\"127.246094\"/>\n",
       "      </g>\n",
       "     </g>\n",
       "    </g>\n",
       "    <g id=\"ytick_3\">\n",
       "     <g id=\"line2d_8\">\n",
       "      <path d=\"M 44.695 167.847163 \n",
       "L 413.275 167.847163 \n",
       "\" clip-path=\"url(#p9808bcccb8)\" style=\"fill: none; stroke: #cccccc; stroke-linecap: round\"/>\n",
       "     </g>\n",
       "     <g id=\"text_9\">\n",
       "      <!-- 500 -->\n",
       "      <g style=\"fill: #262626\" transform=\"translate(14.19875 172.026304)scale(0.11 -0.11)\">\n",
       "       <use xlink:href=\"#DejaVuSans-35\"/>\n",
       "       <use xlink:href=\"#DejaVuSans-30\" x=\"63.623047\"/>\n",
       "       <use xlink:href=\"#DejaVuSans-30\" x=\"127.246094\"/>\n",
       "      </g>\n",
       "     </g>\n",
       "    </g>\n",
       "    <g id=\"ytick_4\">\n",
       "     <g id=\"line2d_9\">\n",
       "      <path d=\"M 44.695 140.33117 \n",
       "L 413.275 140.33117 \n",
       "\" clip-path=\"url(#p9808bcccb8)\" style=\"fill: none; stroke: #cccccc; stroke-linecap: round\"/>\n",
       "     </g>\n",
       "     <g id=\"text_10\">\n",
       "      <!-- 750 -->\n",
       "      <g style=\"fill: #262626\" transform=\"translate(14.19875 144.510311)scale(0.11 -0.11)\">\n",
       "       <defs>\n",
       "        <path id=\"DejaVuSans-37\" d=\"M 525 4666 \n",
       "L 3525 4666 \n",
       "L 3525 4397 \n",
       "L 1831 0 \n",
       "L 1172 0 \n",
       "L 2766 4134 \n",
       "L 525 4134 \n",
       "L 525 4666 \n",
       "z\n",
       "\" transform=\"scale(0.015625)\"/>\n",
       "       </defs>\n",
       "       <use xlink:href=\"#DejaVuSans-37\"/>\n",
       "       <use xlink:href=\"#DejaVuSans-35\" x=\"63.623047\"/>\n",
       "       <use xlink:href=\"#DejaVuSans-30\" x=\"127.246094\"/>\n",
       "      </g>\n",
       "     </g>\n",
       "    </g>\n",
       "    <g id=\"ytick_5\">\n",
       "     <g id=\"line2d_10\">\n",
       "      <path d=\"M 44.695 112.815178 \n",
       "L 413.275 112.815178 \n",
       "\" clip-path=\"url(#p9808bcccb8)\" style=\"fill: none; stroke: #cccccc; stroke-linecap: round\"/>\n",
       "     </g>\n",
       "     <g id=\"text_11\">\n",
       "      <!-- 1000 -->\n",
       "      <g style=\"fill: #262626\" transform=\"translate(7.2 116.994318)scale(0.11 -0.11)\">\n",
       "       <use xlink:href=\"#DejaVuSans-31\"/>\n",
       "       <use xlink:href=\"#DejaVuSans-30\" x=\"63.623047\"/>\n",
       "       <use xlink:href=\"#DejaVuSans-30\" x=\"127.246094\"/>\n",
       "       <use xlink:href=\"#DejaVuSans-30\" x=\"190.869141\"/>\n",
       "      </g>\n",
       "     </g>\n",
       "    </g>\n",
       "    <g id=\"ytick_6\">\n",
       "     <g id=\"line2d_11\">\n",
       "      <path d=\"M 44.695 85.299185 \n",
       "L 413.275 85.299185 \n",
       "\" clip-path=\"url(#p9808bcccb8)\" style=\"fill: none; stroke: #cccccc; stroke-linecap: round\"/>\n",
       "     </g>\n",
       "     <g id=\"text_12\">\n",
       "      <!-- 1250 -->\n",
       "      <g style=\"fill: #262626\" transform=\"translate(7.2 89.478325)scale(0.11 -0.11)\">\n",
       "       <use xlink:href=\"#DejaVuSans-31\"/>\n",
       "       <use xlink:href=\"#DejaVuSans-32\" x=\"63.623047\"/>\n",
       "       <use xlink:href=\"#DejaVuSans-35\" x=\"127.246094\"/>\n",
       "       <use xlink:href=\"#DejaVuSans-30\" x=\"190.869141\"/>\n",
       "      </g>\n",
       "     </g>\n",
       "    </g>\n",
       "    <g id=\"ytick_7\">\n",
       "     <g id=\"line2d_12\">\n",
       "      <path d=\"M 44.695 57.783192 \n",
       "L 413.275 57.783192 \n",
       "\" clip-path=\"url(#p9808bcccb8)\" style=\"fill: none; stroke: #cccccc; stroke-linecap: round\"/>\n",
       "     </g>\n",
       "     <g id=\"text_13\">\n",
       "      <!-- 1500 -->\n",
       "      <g style=\"fill: #262626\" transform=\"translate(7.2 61.962333)scale(0.11 -0.11)\">\n",
       "       <use xlink:href=\"#DejaVuSans-31\"/>\n",
       "       <use xlink:href=\"#DejaVuSans-35\" x=\"63.623047\"/>\n",
       "       <use xlink:href=\"#DejaVuSans-30\" x=\"127.246094\"/>\n",
       "       <use xlink:href=\"#DejaVuSans-30\" x=\"190.869141\"/>\n",
       "      </g>\n",
       "     </g>\n",
       "    </g>\n",
       "    <g id=\"ytick_8\">\n",
       "     <g id=\"line2d_13\">\n",
       "      <path d=\"M 44.695 30.267199 \n",
       "L 413.275 30.267199 \n",
       "\" clip-path=\"url(#p9808bcccb8)\" style=\"fill: none; stroke: #cccccc; stroke-linecap: round\"/>\n",
       "     </g>\n",
       "     <g id=\"text_14\">\n",
       "      <!-- 1750 -->\n",
       "      <g style=\"fill: #262626\" transform=\"translate(7.2 34.44634)scale(0.11 -0.11)\">\n",
       "       <use xlink:href=\"#DejaVuSans-31\"/>\n",
       "       <use xlink:href=\"#DejaVuSans-37\" x=\"63.623047\"/>\n",
       "       <use xlink:href=\"#DejaVuSans-35\" x=\"127.246094\"/>\n",
       "       <use xlink:href=\"#DejaVuSans-30\" x=\"190.869141\"/>\n",
       "      </g>\n",
       "     </g>\n",
       "    </g>\n",
       "   </g>\n",
       "   <g id=\"line2d_14\">\n",
       "    <path d=\"M 61.448636 222.371761 \n",
       "L 63.029168 216.123524 \n",
       "L 64.6097 212.488667 \n",
       "L 66.190232 215.417754 \n",
       "L 67.770763 181.798568 \n",
       "L 69.351295 190.208882 \n",
       "L 70.931827 216.771354 \n",
       "L 72.512358 211.382347 \n",
       "L 74.09289 195.914984 \n",
       "L 75.673422 182.646143 \n",
       "L 77.253954 209.892748 \n",
       "L 78.834485 205.926654 \n",
       "L 80.415017 205.429994 \n",
       "L 81.995549 211.705879 \n",
       "L 83.576081 199.697491 \n",
       "L 85.156612 202.341889 \n",
       "L 86.737144 207.369005 \n",
       "L 88.317676 193.470084 \n",
       "L 89.898208 190.787146 \n",
       "L 91.478739 199.925319 \n",
       "L 93.059271 194.967489 \n",
       "L 94.639803 194.313267 \n",
       "L 96.220334 186.35648 \n",
       "L 97.800866 191.554153 \n",
       "L 99.381398 193.221184 \n",
       "L 100.96193 195.437863 \n",
       "L 102.542461 190.215573 \n",
       "L 104.122993 182.997329 \n",
       "L 105.703525 191.511722 \n",
       "L 107.284057 190.474217 \n",
       "L 108.864588 186.644602 \n",
       "L 110.44512 190.410204 \n",
       "L 112.025652 189.590422 \n",
       "L 115.186715 177.30845 \n",
       "L 116.767247 178.044806 \n",
       "L 118.347779 180.226309 \n",
       "L 119.92831 177.139757 \n",
       "L 121.508842 173.404193 \n",
       "L 123.089374 181.641266 \n",
       "L 124.669906 186.261912 \n",
       "L 126.250437 178.959593 \n",
       "L 127.830969 170.043815 \n",
       "L 129.411501 155.004779 \n",
       "L 130.992033 174.516809 \n",
       "L 132.572564 173.951297 \n",
       "L 134.153096 167.823805 \n",
       "L 135.733628 167.977656 \n",
       "L 137.31416 160.334225 \n",
       "L 140.475223 167.725587 \n",
       "L 142.055755 157.802956 \n",
       "L 143.636286 151.22376 \n",
       "L 145.216818 160.180211 \n",
       "L 146.79735 163.750258 \n",
       "L 148.377882 159.782453 \n",
       "L 149.958413 157.708296 \n",
       "L 151.538945 152.295837 \n",
       "L 153.119477 151.8904 \n",
       "L 154.700009 152.267479 \n",
       "L 156.28054 149.516477 \n",
       "L 157.861072 153.298915 \n",
       "L 159.441604 155.596276 \n",
       "L 161.022136 153.999265 \n",
       "L 162.602667 156.7414 \n",
       "L 164.183199 151.53763 \n",
       "L 165.763731 145.119279 \n",
       "L 167.344262 138.031321 \n",
       "L 168.924794 137.981181 \n",
       "L 170.505326 145.632661 \n",
       "L 172.085858 149.78493 \n",
       "L 173.666389 148.294357 \n",
       "L 175.246921 152.570128 \n",
       "L 176.827453 140.473835 \n",
       "L 178.407985 144.748865 \n",
       "L 179.988516 138.088808 \n",
       "L 181.569048 129.072686 \n",
       "L 183.14958 136.14822 \n",
       "L 184.730111 137.514335 \n",
       "L 186.310643 142.20876 \n",
       "L 187.891175 141.912496 \n",
       "L 189.471707 133.243607 \n",
       "L 191.052238 129.541309 \n",
       "L 192.63277 126.704616 \n",
       "L 194.213302 120.996648 \n",
       "L 195.793834 125.080104 \n",
       "L 197.374365 129.572372 \n",
       "L 198.954897 127.299826 \n",
       "L 200.535429 123.49628 \n",
       "L 202.115961 117.414247 \n",
       "L 203.696492 113.467979 \n",
       "L 205.277024 108.344728 \n",
       "L 206.857556 96.38238 \n",
       "L 208.438087 103.289885 \n",
       "L 210.018619 113.092767 \n",
       "L 211.599151 112.82541 \n",
       "L 213.179683 115.032293 \n",
       "L 214.760214 109.190171 \n",
       "L 216.340746 100.879659 \n",
       "L 217.921278 96.011429 \n",
       "L 219.50181 92.46196 \n",
       "L 221.082341 95.613768 \n",
       "L 222.662873 101.596507 \n",
       "L 224.243405 99.294472 \n",
       "L 225.823937 97.969925 \n",
       "L 227.404468 91.70545 \n",
       "L 228.985 84.647435 \n",
       "L 230.565532 82.984137 \n",
       "L 232.146063 81.004842 \n",
       "L 233.726595 91.725894 \n",
       "L 235.307127 100.207535 \n",
       "L 236.887659 95.584128 \n",
       "L 238.46819 91.768773 \n",
       "L 240.048722 86.281937 \n",
       "L 241.629254 78.764216 \n",
       "L 243.209786 80.852799 \n",
       "L 244.790317 81.913312 \n",
       "L 246.370849 90.371567 \n",
       "L 247.951381 90.680371 \n",
       "L 249.531913 134.982111 \n",
       "L 251.112444 157.170811 \n",
       "L 252.692976 144.852414 \n",
       "L 254.273508 140.772667 \n",
       "L 255.854039 156.714011 \n",
       "L 257.434571 157.417208 \n",
       "L 259.015103 161.38249 \n",
       "L 260.595635 157.553275 \n",
       "L 262.176166 156.694847 \n",
       "L 263.756698 154.968229 \n",
       "L 265.33723 151.941692 \n",
       "L 266.917762 149.618266 \n",
       "L 268.498293 157.017181 \n",
       "L 270.078825 159.239043 \n",
       "L 271.659357 164.206752 \n",
       "L 273.239889 160.224133 \n",
       "L 274.82042 165.708089 \n",
       "L 276.400952 164.409462 \n",
       "L 277.981484 154.727096 \n",
       "L 279.562015 152.872617 \n",
       "L 281.142547 154.033629 \n",
       "L 282.723079 153.461674 \n",
       "L 284.303611 156.718952 \n",
       "L 285.884142 155.435399 \n",
       "L 287.464674 157.014208 \n",
       "L 289.045206 152.645353 \n",
       "L 290.625738 152.292277 \n",
       "L 292.206269 151.594788 \n",
       "L 293.786801 152.291596 \n",
       "L 295.367333 156.188422 \n",
       "L 296.947864 150.871695 \n",
       "L 298.528396 152.175976 \n",
       "L 300.108928 150.687372 \n",
       "L 301.68946 140.071151 \n",
       "L 303.269991 138.928491 \n",
       "L 304.850523 139.723113 \n",
       "L 306.431055 139.139835 \n",
       "L 308.011587 130.979786 \n",
       "L 309.592118 133.715225 \n",
       "L 311.17265 143.389241 \n",
       "L 312.753182 138.555456 \n",
       "L 314.333714 147.583906 \n",
       "L 315.914245 155.831174 \n",
       "L 317.494777 154.801467 \n",
       "L 319.075309 150.53077 \n",
       "L 320.65584 145.175863 \n",
       "L 322.236372 135.316891 \n",
       "L 323.816904 134.49894 \n",
       "L 325.397436 131.221723 \n",
       "L 326.977967 126.777817 \n",
       "L 328.558499 131.500765 \n",
       "L 330.139031 130.616738 \n",
       "L 331.719563 132.530404 \n",
       "L 333.300094 129.128185 \n",
       "L 334.880626 115.867993 \n",
       "L 336.461158 113.862222 \n",
       "L 338.04169 124.719233 \n",
       "L 339.622221 122.640384 \n",
       "L 341.202753 116.824704 \n",
       "L 342.783285 109.798153 \n",
       "L 344.363816 104.736044 \n",
       "L 345.944348 93.867441 \n",
       "L 347.52488 97.537652 \n",
       "L 349.105412 115.710125 \n",
       "L 350.685943 120.584508 \n",
       "L 352.266475 131.038155 \n",
       "L 353.847007 115.580371 \n",
       "L 355.427539 104.770434 \n",
       "L 357.00807 106.181651 \n",
       "L 358.588602 102.325629 \n",
       "L 360.169134 101.802894 \n",
       "L 361.749666 101.548679 \n",
       "L 363.330197 104.595052 \n",
       "L 366.491261 89.048446 \n",
       "L 368.071792 99.443796 \n",
       "L 369.652324 76.866281 \n",
       "L 371.232856 84.113388 \n",
       "L 372.813388 99.251601 \n",
       "L 374.393919 96.784248 \n",
       "L 375.974451 98.889533 \n",
       "L 377.554983 83.68974 \n",
       "L 379.135515 71.461749 \n",
       "L 380.716046 71.276775 \n",
       "L 382.296578 70.443568 \n",
       "L 383.87711 71.599361 \n",
       "L 385.457642 80.059167 \n",
       "L 387.038173 68.966148 \n",
       "L 388.618705 51.278857 \n",
       "L 390.199237 48.029583 \n",
       "L 391.779768 46.933721 \n",
       "L 393.3603 31.844489 \n",
       "L 394.940832 46.23213 \n",
       "L 396.521364 71.780903 \n",
       "L 396.521364 71.780903 \n",
       "\" clip-path=\"url(#p9808bcccb8)\" style=\"fill: none; stroke: #4878d0; stroke-width: 1.5; stroke-linecap: round\"/>\n",
       "   </g>\n",
       "   <g id=\"patch_3\">\n",
       "    <path d=\"M 44.695 231.898125 \n",
       "L 44.695 22.318125 \n",
       "\" style=\"fill: none; stroke: #cccccc; stroke-width: 1.25; stroke-linejoin: miter; stroke-linecap: square\"/>\n",
       "   </g>\n",
       "   <g id=\"patch_4\">\n",
       "    <path d=\"M 413.275 231.898125 \n",
       "L 413.275 22.318125 \n",
       "\" style=\"fill: none; stroke: #cccccc; stroke-width: 1.25; stroke-linejoin: miter; stroke-linecap: square\"/>\n",
       "   </g>\n",
       "   <g id=\"patch_5\">\n",
       "    <path d=\"M 44.695 231.898125 \n",
       "L 413.275 231.898125 \n",
       "\" style=\"fill: none; stroke: #cccccc; stroke-width: 1.25; stroke-linejoin: miter; stroke-linecap: square\"/>\n",
       "   </g>\n",
       "   <g id=\"patch_6\">\n",
       "    <path d=\"M 44.695 22.318125 \n",
       "L 413.275 22.318125 \n",
       "\" style=\"fill: none; stroke: #cccccc; stroke-width: 1.25; stroke-linejoin: miter; stroke-linecap: square\"/>\n",
       "   </g>\n",
       "   <g id=\"text_15\">\n",
       "    <!-- MSE by timestamp -->\n",
       "    <g style=\"fill: #262626\" transform=\"translate(172.670312 16.318125)scale(0.12 -0.12)\">\n",
       "     <defs>\n",
       "      <path id=\"DejaVuSans-4d\" d=\"M 628 4666 \n",
       "L 1569 4666 \n",
       "L 2759 1491 \n",
       "L 3956 4666 \n",
       "L 4897 4666 \n",
       "L 4897 0 \n",
       "L 4281 0 \n",
       "L 4281 4097 \n",
       "L 3078 897 \n",
       "L 2444 897 \n",
       "L 1241 4097 \n",
       "L 1241 0 \n",
       "L 628 0 \n",
       "L 628 4666 \n",
       "z\n",
       "\" transform=\"scale(0.015625)\"/>\n",
       "      <path id=\"DejaVuSans-53\" d=\"M 3425 4513 \n",
       "L 3425 3897 \n",
       "Q 3066 4069 2747 4153 \n",
       "Q 2428 4238 2131 4238 \n",
       "Q 1616 4238 1336 4038 \n",
       "Q 1056 3838 1056 3469 \n",
       "Q 1056 3159 1242 3001 \n",
       "Q 1428 2844 1947 2747 \n",
       "L 2328 2669 \n",
       "Q 3034 2534 3370 2195 \n",
       "Q 3706 1856 3706 1288 \n",
       "Q 3706 609 3251 259 \n",
       "Q 2797 -91 1919 -91 \n",
       "Q 1588 -91 1214 -16 \n",
       "Q 841 59 441 206 \n",
       "L 441 856 \n",
       "Q 825 641 1194 531 \n",
       "Q 1563 422 1919 422 \n",
       "Q 2459 422 2753 634 \n",
       "Q 3047 847 3047 1241 \n",
       "Q 3047 1584 2836 1778 \n",
       "Q 2625 1972 2144 2069 \n",
       "L 1759 2144 \n",
       "Q 1053 2284 737 2584 \n",
       "Q 422 2884 422 3419 \n",
       "Q 422 4038 858 4394 \n",
       "Q 1294 4750 2059 4750 \n",
       "Q 2388 4750 2728 4690 \n",
       "Q 3069 4631 3425 4513 \n",
       "z\n",
       "\" transform=\"scale(0.015625)\"/>\n",
       "      <path id=\"DejaVuSans-45\" d=\"M 628 4666 \n",
       "L 3578 4666 \n",
       "L 3578 4134 \n",
       "L 1259 4134 \n",
       "L 1259 2753 \n",
       "L 3481 2753 \n",
       "L 3481 2222 \n",
       "L 1259 2222 \n",
       "L 1259 531 \n",
       "L 3634 531 \n",
       "L 3634 0 \n",
       "L 628 0 \n",
       "L 628 4666 \n",
       "z\n",
       "\" transform=\"scale(0.015625)\"/>\n",
       "      <path id=\"DejaVuSans-20\" transform=\"scale(0.015625)\"/>\n",
       "      <path id=\"DejaVuSans-62\" d=\"M 3116 1747 \n",
       "Q 3116 2381 2855 2742 \n",
       "Q 2594 3103 2138 3103 \n",
       "Q 1681 3103 1420 2742 \n",
       "Q 1159 2381 1159 1747 \n",
       "Q 1159 1113 1420 752 \n",
       "Q 1681 391 2138 391 \n",
       "Q 2594 391 2855 752 \n",
       "Q 3116 1113 3116 1747 \n",
       "z\n",
       "M 1159 2969 \n",
       "Q 1341 3281 1617 3432 \n",
       "Q 1894 3584 2278 3584 \n",
       "Q 2916 3584 3314 3078 \n",
       "Q 3713 2572 3713 1747 \n",
       "Q 3713 922 3314 415 \n",
       "Q 2916 -91 2278 -91 \n",
       "Q 1894 -91 1617 61 \n",
       "Q 1341 213 1159 525 \n",
       "L 1159 0 \n",
       "L 581 0 \n",
       "L 581 4863 \n",
       "L 1159 4863 \n",
       "L 1159 2969 \n",
       "z\n",
       "\" transform=\"scale(0.015625)\"/>\n",
       "      <path id=\"DejaVuSans-79\" d=\"M 2059 -325 \n",
       "Q 1816 -950 1584 -1140 \n",
       "Q 1353 -1331 966 -1331 \n",
       "L 506 -1331 \n",
       "L 506 -850 \n",
       "L 844 -850 \n",
       "Q 1081 -850 1212 -737 \n",
       "Q 1344 -625 1503 -206 \n",
       "L 1606 56 \n",
       "L 191 3500 \n",
       "L 800 3500 \n",
       "L 1894 763 \n",
       "L 2988 3500 \n",
       "L 3597 3500 \n",
       "L 2059 -325 \n",
       "z\n",
       "\" transform=\"scale(0.015625)\"/>\n",
       "     </defs>\n",
       "     <use xlink:href=\"#DejaVuSans-4d\"/>\n",
       "     <use xlink:href=\"#DejaVuSans-53\" x=\"86.279297\"/>\n",
       "     <use xlink:href=\"#DejaVuSans-45\" x=\"149.755859\"/>\n",
       "     <use xlink:href=\"#DejaVuSans-20\" x=\"212.939453\"/>\n",
       "     <use xlink:href=\"#DejaVuSans-62\" x=\"244.726562\"/>\n",
       "     <use xlink:href=\"#DejaVuSans-79\" x=\"308.203125\"/>\n",
       "     <use xlink:href=\"#DejaVuSans-20\" x=\"367.382812\"/>\n",
       "     <use xlink:href=\"#DejaVuSans-74\" x=\"399.169922\"/>\n",
       "     <use xlink:href=\"#DejaVuSans-69\" x=\"438.378906\"/>\n",
       "     <use xlink:href=\"#DejaVuSans-6d\" x=\"466.162109\"/>\n",
       "     <use xlink:href=\"#DejaVuSans-65\" x=\"563.574219\"/>\n",
       "     <use xlink:href=\"#DejaVuSans-73\" x=\"625.097656\"/>\n",
       "     <use xlink:href=\"#DejaVuSans-74\" x=\"677.197266\"/>\n",
       "     <use xlink:href=\"#DejaVuSans-61\" x=\"716.40625\"/>\n",
       "     <use xlink:href=\"#DejaVuSans-6d\" x=\"777.685547\"/>\n",
       "     <use xlink:href=\"#DejaVuSans-70\" x=\"875.097656\"/>\n",
       "    </g>\n",
       "   </g>\n",
       "  </g>\n",
       " </g>\n",
       " <defs>\n",
       "  <clipPath id=\"p9808bcccb8\">\n",
       "   <rect x=\"44.695\" y=\"22.318125\" width=\"368.58\" height=\"209.58\"/>\n",
       "  </clipPath>\n",
       " </defs>\n",
       "</svg>\n"
      ],
      "text/plain": [
       "<Figure size 432x288 with 1 Axes>"
      ]
     },
     "metadata": {},
     "output_type": "display_data"
    }
   ],
   "source": [
    "mse_by_timestamp.plot()\n",
    "plt.title(\"MSE by timestamp\")\n",
    "plt.tight_layout()\n",
    "plt.savefig(f\"plots/{result_name}-mse-time.pdf\", dpi=300)\n",
    "mse_by_timestamp.to_csv(f\"plots/{result_name}-mse-time.csv\", index=True)"
   ]
  },
  {
   "cell_type": "code",
   "execution_count": null,
   "id": "cbc2b098",
   "metadata": {
    "papermill": {
     "duration": 0.045197,
     "end_time": "2022-04-05T07:07:10.731647",
     "exception": false,
     "start_time": "2022-04-05T07:07:10.686450",
     "status": "completed"
    },
    "tags": []
   },
   "outputs": [],
   "source": []
  }
 ],
 "metadata": {
  "interpreter": {
   "hash": "7a2c4b191d1ae843dde5cb5f4d1f62fa892f6b79b0f9392a84691e890e33c5a4"
  },
  "kernelspec": {
   "display_name": "Python 3 (ipykernel)",
   "language": "python",
   "name": "python3"
  },
  "language_info": {
   "codemirror_mode": {
    "name": "ipython",
    "version": 3
   },
   "file_extension": ".py",
   "mimetype": "text/x-python",
   "name": "python",
   "nbconvert_exporter": "python",
   "pygments_lexer": "ipython3",
   "version": "3.7.11"
  },
  "papermill": {
   "default_parameters": {},
   "duration": 34.844746,
   "end_time": "2022-04-05T07:07:13.394166",
   "environment_variables": {},
   "exception": null,
   "input_path": "prod.ipynb",
   "output_path": "plots/1000-rr.out.ipynb",
   "parameters": {
    "result_name": "1000-rr",
    "results_dir": "results/1648829259"
   },
   "start_time": "2022-04-05T07:06:38.549420",
   "version": "2.3.4"
  }
 },
 "nbformat": 4,
 "nbformat_minor": 5
}