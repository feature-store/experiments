{
 "cells": [
  {
   "cell_type": "markdown",
   "id": "6644b161",
   "metadata": {
    "tags": [
     "papermill-error-cell-tag"
    ]
   },
   "source": [
    "<span style=\"color:red; font-family:Helvetica Neue, Helvetica, Arial, sans-serif; font-size:2em;\">An Exception was encountered at '<a href=\"#papermill-error-cell\">In [7]</a>'.</span>"
   ]
  },
  {
   "cell_type": "code",
   "execution_count": 1,
   "id": "aef90725",
   "metadata": {
    "papermill": {
     "duration": 1.162976,
     "end_time": "2022-04-16T01:24:35.467686",
     "exception": false,
     "start_time": "2022-04-16T01:24:34.304710",
     "status": "completed"
    },
    "tags": []
   },
   "outputs": [],
   "source": [
    "import glob\n",
    "import json\n",
    "from collections import defaultdict\n",
    "\n",
    "import matplotlib.pyplot as plt\n",
    "import numpy as np\n",
    "import pandas as pd\n",
    "import seaborn as sns\n",
    "\n",
    "%matplotlib inline\n",
    "%config InlineBackend.figure_formats = ['svg']\n",
    "\n",
    "sns.set(style=\"whitegrid\", palette=\"muted\")\n",
    "\n",
    "from concurrent.futures import ProcessPoolExecutor, as_completed\n",
    "\n",
    "from tqdm import tqdm"
   ]
  },
  {
   "cell_type": "code",
   "execution_count": 2,
   "id": "9738eb9b",
   "metadata": {
    "papermill": {
     "duration": 0.129699,
     "end_time": "2022-04-16T01:24:35.606943",
     "exception": false,
     "start_time": "2022-04-16T01:24:35.477244",
     "status": "completed"
    },
    "tags": []
   },
   "outputs": [],
   "source": [
    "!mkdir -p plots"
   ]
  },
  {
   "cell_type": "code",
   "execution_count": 3,
   "id": "1a407048",
   "metadata": {
    "papermill": {
     "duration": 0.014162,
     "end_time": "2022-04-16T01:24:35.630153",
     "exception": false,
     "start_time": "2022-04-16T01:24:35.615991",
     "status": "completed"
    },
    "tags": [
     "parameters"
    ]
   },
   "outputs": [],
   "source": [
    "results_dir = \"results/1648838189\"\n",
    "result_name = \"5000-ce\""
   ]
  },
  {
   "cell_type": "code",
   "execution_count": 4,
   "id": "b4eee480",
   "metadata": {
    "papermill": {
     "duration": 0.01344,
     "end_time": "2022-04-16T01:24:35.652484",
     "exception": false,
     "start_time": "2022-04-16T01:24:35.639044",
     "status": "completed"
    },
    "tags": [
     "injected-parameters"
    ]
   },
   "outputs": [],
   "source": [
    "# Parameters\n",
    "result_name = \"2000-ce-32\"\n",
    "results_dir = \"../results/sigmod-scaling/1650068801\""
   ]
  },
  {
   "cell_type": "code",
   "execution_count": 5,
   "id": "431e92b9",
   "metadata": {
    "papermill": {
     "duration": 0.019333,
     "end_time": "2022-04-16T01:24:35.680794",
     "exception": false,
     "start_time": "2022-04-16T01:24:35.661461",
     "status": "completed"
    },
    "tags": []
   },
   "outputs": [
    {
     "name": "stderr",
     "output_type": "stream",
     "text": [
      "100%|███████████████████████████████████████████████████████████████████████| 32/32 [00:00<00:00, 41323.19it/s]\n"
     ]
    }
   ],
   "source": [
    "forecast_files = glob.glob(f\"{results_dir}/forecast.*.jsonl\")\n",
    "\n",
    "key_to_timestamps = defaultdict(list)\n",
    "key_to_last_seqnos = defaultdict(list)\n",
    "key_to_last_seqno_to_forecast = defaultdict(dict)\n",
    "for path in tqdm(forecast_files):\n",
    "    with open(path) as f:\n",
    "        for line in f:\n",
    "            loaded = json.loads(line)\n",
    "            key_id = str(loaded[\"key_id\"])\n",
    "            key_to_timestamps[key_id].append(loaded[\"processing_time\"])\n",
    "            key_to_last_seqnos[key_id].append(loaded[\"last_seqno\"])\n",
    "            key_to_last_seqno_to_forecast[key_id][loaded[\"last_seqno\"]] = loaded[\n",
    "                \"forecast\"\n",
    "            ]"
   ]
  },
  {
   "cell_type": "code",
   "execution_count": 6,
   "id": "1e16c5bf-9d3c-4ef6-ab89-e3545192af56",
   "metadata": {},
   "outputs": [
    {
     "ename": "NameError",
     "evalue": "name 'key_id' is not defined",
     "output_type": "error",
     "traceback": [
      "\u001b[0;31m---------------------------------------------------------------------------\u001b[0m",
      "\u001b[0;31mNameError\u001b[0m                                 Traceback (most recent call last)",
      "\u001b[0;32m/tmp/ipykernel_63011/3958071555.py\u001b[0m in \u001b[0;36m<module>\u001b[0;34m\u001b[0m\n\u001b[0;32m----> 1\u001b[0;31m \u001b[0mkey_id\u001b[0m\u001b[0;34m\u001b[0m\u001b[0;34m\u001b[0m\u001b[0m\n\u001b[0m",
      "\u001b[0;31mNameError\u001b[0m: name 'key_id' is not defined"
     ]
    }
   ],
   "source": [
    "key_id"
   ]
  },
  {
   "cell_type": "code",
   "execution_count": null,
   "id": "c26c7462-b2e4-4afa-9241-bd83bfbbb77b",
   "metadata": {},
   "outputs": [],
   "source": []
  },
  {
   "cell_type": "code",
   "execution_count": null,
   "id": "8c3fc1a9-ce98-4536-97fe-9fadb9c7d163",
   "metadata": {},
   "outputs": [],
   "source": []
  },
  {
   "cell_type": "code",
   "execution_count": 17,
   "id": "b0ac1e25",
   "metadata": {
    "papermill": {
     "duration": 29.193247,
     "end_time": "2022-04-16T01:25:04.884128",
     "exception": false,
     "start_time": "2022-04-16T01:24:35.690881",
     "status": "completed"
    },
    "tags": []
   },
   "outputs": [
    {
     "name": "stderr",
     "output_type": "stream",
     "text": [
      "8639it [00:28, 298.83it/s]\n"
     ]
    }
   ],
   "source": [
    "source_files = glob.glob(f\"{results_dir}/source.*.jsonl\")\n",
    "key_to_source_series = defaultdict(list)\n",
    "key_to_source_timestamps = defaultdict(list)\n",
    "key_to_source_seqno = defaultdict(list)\n",
    "for path in source_files:\n",
    "    with open(path) as f:\n",
    "        for line in tqdm(f):\n",
    "            loaded = json.loads(line)\n",
    "            for entry in loaded:\n",
    "                key_id = str(entry[\"key_id\"])\n",
    "                key_to_source_series[key_id].append(entry[\"value\"])\n",
    "                key_to_source_timestamps[key_id].append(entry[\"ingest_time\"])\n",
    "                key_to_source_seqno[key_id].append(entry[\"seq_no\"])"
   ]
  },
  {
   "cell_type": "markdown",
   "id": "949b9c45",
   "metadata": {
    "tags": [
     "papermill-error-cell-tag"
    ]
   },
   "source": [
    "<span id=\"papermill-error-cell\" style=\"color:red; font-family:Helvetica Neue, Helvetica, Arial, sans-serif; font-size:2em;\">Execution using papermill encountered an exception here and stopped:</span>"
   ]
  },
  {
   "cell_type": "code",
   "execution_count": 18,
   "id": "e7694d91-e0ca-4761-a139-5878d43e89b8",
   "metadata": {},
   "outputs": [
    {
     "data": {
      "text/plain": [
       "0"
      ]
     },
     "execution_count": 18,
     "metadata": {},
     "output_type": "execute_result"
    }
   ],
   "source": [
    "len(key_to_last_seqnos)"
   ]
  },
  {
   "cell_type": "code",
   "execution_count": 19,
   "id": "02eecb74",
   "metadata": {
    "papermill": {
     "duration": 0.186958,
     "end_time": "2022-04-16T01:25:05.140993",
     "exception": true,
     "start_time": "2022-04-16T01:25:04.954035",
     "status": "failed"
    },
    "tags": []
   },
   "outputs": [
    {
     "ename": "ValueError",
     "evalue": "Cannot describe a DataFrame without columns",
     "output_type": "error",
     "traceback": [
      "\u001b[0;31m---------------------------------------------------------------------------\u001b[0m",
      "\u001b[0;31mValueError\u001b[0m                                Traceback (most recent call last)",
      "\u001b[0;32m/tmp/ipykernel_62907/1508351750.py\u001b[0m in \u001b[0;36m<module>\u001b[0;34m\u001b[0m\n\u001b[1;32m      2\u001b[0m     \u001b[0;34m[\u001b[0m\u001b[0;34m{\u001b[0m\u001b[0;34m\"key\"\u001b[0m\u001b[0;34m:\u001b[0m \u001b[0mk\u001b[0m\u001b[0;34m,\u001b[0m \u001b[0;34m\"num_forecasts\"\u001b[0m\u001b[0;34m:\u001b[0m \u001b[0mlen\u001b[0m\u001b[0;34m(\u001b[0m\u001b[0mv\u001b[0m\u001b[0;34m)\u001b[0m\u001b[0;34m}\u001b[0m \u001b[0;32mfor\u001b[0m \u001b[0mk\u001b[0m\u001b[0;34m,\u001b[0m \u001b[0mv\u001b[0m \u001b[0;32min\u001b[0m \u001b[0mkey_to_last_seqnos\u001b[0m\u001b[0;34m.\u001b[0m\u001b[0mitems\u001b[0m\u001b[0;34m(\u001b[0m\u001b[0;34m)\u001b[0m\u001b[0;34m]\u001b[0m\u001b[0;34m\u001b[0m\u001b[0;34m\u001b[0m\u001b[0m\n\u001b[1;32m      3\u001b[0m )\n\u001b[0;32m----> 4\u001b[0;31m \u001b[0mnum_forecasts\u001b[0m\u001b[0;34m.\u001b[0m\u001b[0mdescribe\u001b[0m\u001b[0;34m(\u001b[0m\u001b[0;34m)\u001b[0m\u001b[0;34m\u001b[0m\u001b[0;34m\u001b[0m\u001b[0m\n\u001b[0m",
      "\u001b[0;32m~/miniconda3/lib/python3.7/site-packages/pandas/core/generic.py\u001b[0m in \u001b[0;36mdescribe\u001b[0;34m(self, percentiles, include, exclude, datetime_is_numeric)\u001b[0m\n\u001b[1;32m  10027\u001b[0m             \u001b[0mexclude\u001b[0m\u001b[0;34m=\u001b[0m\u001b[0mexclude\u001b[0m\u001b[0;34m,\u001b[0m\u001b[0;34m\u001b[0m\u001b[0;34m\u001b[0m\u001b[0m\n\u001b[1;32m  10028\u001b[0m             \u001b[0mdatetime_is_numeric\u001b[0m\u001b[0;34m=\u001b[0m\u001b[0mdatetime_is_numeric\u001b[0m\u001b[0;34m,\u001b[0m\u001b[0;34m\u001b[0m\u001b[0;34m\u001b[0m\u001b[0m\n\u001b[0;32m> 10029\u001b[0;31m             \u001b[0mpercentiles\u001b[0m\u001b[0;34m=\u001b[0m\u001b[0mpercentiles\u001b[0m\u001b[0;34m,\u001b[0m\u001b[0;34m\u001b[0m\u001b[0;34m\u001b[0m\u001b[0m\n\u001b[0m\u001b[1;32m  10030\u001b[0m         )\n\u001b[1;32m  10031\u001b[0m \u001b[0;34m\u001b[0m\u001b[0m\n",
      "\u001b[0;32m~/miniconda3/lib/python3.7/site-packages/pandas/core/describe.py\u001b[0m in \u001b[0;36mdescribe_ndframe\u001b[0;34m(obj, include, exclude, datetime_is_numeric, percentiles)\u001b[0m\n\u001b[1;32m     90\u001b[0m             \u001b[0minclude\u001b[0m\u001b[0;34m=\u001b[0m\u001b[0minclude\u001b[0m\u001b[0;34m,\u001b[0m\u001b[0;34m\u001b[0m\u001b[0;34m\u001b[0m\u001b[0m\n\u001b[1;32m     91\u001b[0m             \u001b[0mexclude\u001b[0m\u001b[0;34m=\u001b[0m\u001b[0mexclude\u001b[0m\u001b[0;34m,\u001b[0m\u001b[0;34m\u001b[0m\u001b[0;34m\u001b[0m\u001b[0m\n\u001b[0;32m---> 92\u001b[0;31m             \u001b[0mdatetime_is_numeric\u001b[0m\u001b[0;34m=\u001b[0m\u001b[0mdatetime_is_numeric\u001b[0m\u001b[0;34m,\u001b[0m\u001b[0;34m\u001b[0m\u001b[0;34m\u001b[0m\u001b[0m\n\u001b[0m\u001b[1;32m     93\u001b[0m         )\n\u001b[1;32m     94\u001b[0m \u001b[0;34m\u001b[0m\u001b[0m\n",
      "\u001b[0;32m~/miniconda3/lib/python3.7/site-packages/pandas/core/describe.py\u001b[0m in \u001b[0;36m__init__\u001b[0;34m(self, obj, include, exclude, datetime_is_numeric)\u001b[0m\n\u001b[1;32m    163\u001b[0m \u001b[0;34m\u001b[0m\u001b[0m\n\u001b[1;32m    164\u001b[0m         \u001b[0;32mif\u001b[0m \u001b[0mobj\u001b[0m\u001b[0;34m.\u001b[0m\u001b[0mndim\u001b[0m \u001b[0;34m==\u001b[0m \u001b[0;36m2\u001b[0m \u001b[0;32mand\u001b[0m \u001b[0mobj\u001b[0m\u001b[0;34m.\u001b[0m\u001b[0mcolumns\u001b[0m\u001b[0;34m.\u001b[0m\u001b[0msize\u001b[0m \u001b[0;34m==\u001b[0m \u001b[0;36m0\u001b[0m\u001b[0;34m:\u001b[0m\u001b[0;34m\u001b[0m\u001b[0;34m\u001b[0m\u001b[0m\n\u001b[0;32m--> 165\u001b[0;31m             \u001b[0;32mraise\u001b[0m \u001b[0mValueError\u001b[0m\u001b[0;34m(\u001b[0m\u001b[0;34m\"Cannot describe a DataFrame without columns\"\u001b[0m\u001b[0;34m)\u001b[0m\u001b[0;34m\u001b[0m\u001b[0;34m\u001b[0m\u001b[0m\n\u001b[0m\u001b[1;32m    166\u001b[0m \u001b[0;34m\u001b[0m\u001b[0m\n\u001b[1;32m    167\u001b[0m         \u001b[0msuper\u001b[0m\u001b[0;34m(\u001b[0m\u001b[0;34m)\u001b[0m\u001b[0;34m.\u001b[0m\u001b[0m__init__\u001b[0m\u001b[0;34m(\u001b[0m\u001b[0mobj\u001b[0m\u001b[0;34m,\u001b[0m \u001b[0mdatetime_is_numeric\u001b[0m\u001b[0;34m=\u001b[0m\u001b[0mdatetime_is_numeric\u001b[0m\u001b[0;34m)\u001b[0m\u001b[0;34m\u001b[0m\u001b[0;34m\u001b[0m\u001b[0m\n",
      "\u001b[0;31mValueError\u001b[0m: Cannot describe a DataFrame without columns"
     ]
    }
   ],
   "source": [
    "num_forecasts = pd.DataFrame(\n",
    "    [{\"key\": k, \"num_forecasts\": len(v)} for k, v in key_to_last_seqnos.items()]\n",
    ")\n",
    "num_forecasts.describe()"
   ]
  },
  {
   "cell_type": "code",
   "execution_count": null,
   "id": "8121fab2",
   "metadata": {
    "papermill": {
     "duration": null,
     "end_time": null,
     "exception": null,
     "start_time": null,
     "status": "pending"
    },
    "tags": []
   },
   "outputs": [],
   "source": [
    "sns.ecdfplot(num_forecasts[\"num_forecasts\"])\n",
    "plt.title(f\"Number of fits by key (total {len(num_forecasts)} keys)\")\n",
    "plt.axvline(27, color=\"orange\", label=\"Max Possible\")\n",
    "plt.legend()\n",
    "plt.tight_layout()\n",
    "plt.savefig(f\"plots/{result_name}-nfits.pdf\", dpi=300)"
   ]
  },
  {
   "cell_type": "code",
   "execution_count": null,
   "id": "46b66a7a",
   "metadata": {
    "papermill": {
     "duration": null,
     "end_time": null,
     "exception": null,
     "start_time": null,
     "status": "pending"
    },
    "tags": []
   },
   "outputs": [],
   "source": [
    "num_forecasts.to_csv(f\"plots/{result_name}-nfits.csv\", index=None)"
   ]
  },
  {
   "cell_type": "code",
   "execution_count": null,
   "id": "9dec2509",
   "metadata": {
    "papermill": {
     "duration": null,
     "end_time": null,
     "exception": null,
     "start_time": null,
     "status": "pending"
    },
    "tags": []
   },
   "outputs": [],
   "source": []
  },
  {
   "cell_type": "code",
   "execution_count": null,
   "id": "5b8f9d5f",
   "metadata": {
    "papermill": {
     "duration": null,
     "end_time": null,
     "exception": null,
     "start_time": null,
     "status": "pending"
    },
    "tags": []
   },
   "outputs": [],
   "source": [
    "def compute_key(key):\n",
    "    pred_df = (\n",
    "        pd.DataFrame(\n",
    "            {\n",
    "                \"timestamp\": key_to_timestamps[key],\n",
    "                \"last_seqno\": key_to_last_seqnos[key],\n",
    "            }\n",
    "        )\n",
    "        .sort_values(\"timestamp\")\n",
    "        .set_index(\"timestamp\")\n",
    "    )\n",
    "    true_df = (\n",
    "        pd.DataFrame(\n",
    "            {\n",
    "                \"timestamp\": key_to_source_timestamps[key],\n",
    "                \"avg_cpu\": key_to_source_series[key],\n",
    "                \"seq_no\": key_to_source_seqno[key],\n",
    "            }\n",
    "        )\n",
    "        .sort_values(\"timestamp\")\n",
    "        .set_index(\"timestamp\")\n",
    "    )\n",
    "\n",
    "    merged = pd.merge_asof(\n",
    "        left=true_df, right=pred_df, on=\"timestamp\", direction=\"backward\"\n",
    "    )\n",
    "\n",
    "    forecast = key_to_last_seqno_to_forecast[key]\n",
    "    frame = pd.DataFrame(forecast)\n",
    "    frame = (\n",
    "        frame.T.reset_index()\n",
    "        .melt(\"index\")\n",
    "        .rename(columns={\"variable\": \"seq_delta\", \"index\": \"last_seqno\"})\n",
    "    )\n",
    "\n",
    "    m = merged.dropna().reset_index(drop=True)\n",
    "    m.loc[:, \"seq_delta\"] = (m[\"seq_no\"] - m[\"last_seqno\"]).astype(int)\n",
    "    final = m.merge(frame, how=\"left\", on=[\"last_seqno\", \"seq_delta\"])\n",
    "\n",
    "    mse_per_key_per_s = final.groupby(final[\"timestamp\"].astype(int)).apply(\n",
    "        lambda d: pd.Series(\n",
    "            {\"mse\": ((d[\"avg_cpu\"] - d[\"value\"]) ** 2).mean(), \"count\": len(d)}\n",
    "        )\n",
    "    )\n",
    "    mse_per_key_per_s[\"key\"] = key\n",
    "    return mse_per_key_per_s\n",
    "\n",
    "\n",
    "with ProcessPoolExecutor() as executor:\n",
    "    futs = executor.map(compute_key, key_to_timestamps.keys())\n",
    "    mses = list(futs)"
   ]
  },
  {
   "cell_type": "code",
   "execution_count": null,
   "id": "9f818f4c",
   "metadata": {
    "papermill": {
     "duration": null,
     "end_time": null,
     "exception": null,
     "start_time": null,
     "status": "pending"
    },
    "tags": []
   },
   "outputs": [],
   "source": [
    "# we are dropping some keys here :sigh:\n",
    "# need to figure out how to handle a key that's never fitted\n",
    "# final length 4965 for 5000\n",
    "all_mse = pd.concat([f.reset_index() for f in mses if len(f)])"
   ]
  },
  {
   "cell_type": "code",
   "execution_count": null,
   "id": "d0870042",
   "metadata": {
    "papermill": {
     "duration": null,
     "end_time": null,
     "exception": null,
     "start_time": null,
     "status": "pending"
    },
    "tags": []
   },
   "outputs": [],
   "source": [
    "all_mse.to_parquet(f\"plots/{result_name}-all_mse.pq\", index=None)"
   ]
  },
  {
   "cell_type": "code",
   "execution_count": null,
   "id": "701ee23d",
   "metadata": {
    "papermill": {
     "duration": null,
     "end_time": null,
     "exception": null,
     "start_time": null,
     "status": "pending"
    },
    "tags": []
   },
   "outputs": [],
   "source": [
    "mse_by_timestamp = all_mse.groupby(\"timestamp\").apply(\n",
    "    lambda d: (d[\"mse\"] * d[\"count\"]).sum() / (d[\"count\"].sum())\n",
    ")"
   ]
  },
  {
   "cell_type": "code",
   "execution_count": null,
   "id": "2e644492",
   "metadata": {
    "papermill": {
     "duration": null,
     "end_time": null,
     "exception": null,
     "start_time": null,
     "status": "pending"
    },
    "tags": []
   },
   "outputs": [],
   "source": [
    "mse_by_timestamp.index = mse_by_timestamp.index - mse_by_timestamp.index.min()"
   ]
  },
  {
   "cell_type": "code",
   "execution_count": null,
   "id": "f5d6d7be",
   "metadata": {
    "papermill": {
     "duration": null,
     "end_time": null,
     "exception": null,
     "start_time": null,
     "status": "pending"
    },
    "tags": []
   },
   "outputs": [],
   "source": [
    "mse_by_timestamp.plot()\n",
    "plt.title(\"MSE by timestamp\")\n",
    "plt.tight_layout()\n",
    "plt.savefig(f\"plots/{result_name}-mse-time.pdf\", dpi=300)\n",
    "mse_by_timestamp.to_csv(f\"plots/{result_name}-mse-time.csv\", index=True)"
   ]
  },
  {
   "cell_type": "code",
   "execution_count": null,
   "id": "8ee09759",
   "metadata": {
    "papermill": {
     "duration": null,
     "end_time": null,
     "exception": null,
     "start_time": null,
     "status": "pending"
    },
    "tags": []
   },
   "outputs": [],
   "source": []
  }
 ],
 "metadata": {
  "interpreter": {
   "hash": "7a2c4b191d1ae843dde5cb5f4d1f62fa892f6b79b0f9392a84691e890e33c5a4"
  },
  "kernelspec": {
   "display_name": "Python 3 (ipykernel)",
   "language": "python",
   "name": "python3"
  },
  "language_info": {
   "codemirror_mode": {
    "name": "ipython",
    "version": 3
   },
   "file_extension": ".py",
   "mimetype": "text/x-python",
   "name": "python",
   "nbconvert_exporter": "python",
   "pygments_lexer": "ipython3",
   "version": "3.7.11"
  },
  "papermill": {
   "default_parameters": {},
   "duration": 34.510398,
   "end_time": "2022-04-16T01:25:07.828653",
   "environment_variables": {},
   "exception": true,
   "input_path": "prod.ipynb",
   "output_path": "plots/2000-ce-32.out.ipynb",
   "parameters": {
    "result_name": "2000-ce-32",
    "results_dir": "results/sigmod-scaling/1650068801"
   },
   "start_time": "2022-04-16T01:24:33.318255",
   "version": "2.3.4"
  }
 },
 "nbformat": 4,
 "nbformat_minor": 5
}
