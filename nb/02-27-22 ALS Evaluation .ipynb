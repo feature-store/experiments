{
 "cells": [
  {
   "cell_type": "code",
   "execution_count": 24,
   "id": "5df6f3b8",
   "metadata": {},
   "outputs": [
    {
     "name": "stdout",
     "output_type": "stream",
     "text": [
      "The autoreload extension is already loaded. To reload it, use:\n",
      "  %reload_ext autoreload\n"
     ]
    }
   ],
   "source": [
    "import pandas as pd\n",
    "import numpy as np\n",
    "import matplotlib.pyplot as plt\n",
    "from sklearn.metrics import mean_squared_error\n",
    "import time\n",
    "\n",
    "from pyspark.sql import SparkSession\n",
    "from pyspark.ml.evaluation import RegressionEvaluator\n",
    "from pyspark.ml.recommendation import ALS\n",
    "\n",
    "import ast\n",
    "import os\n",
    "import pickle\n",
    "import json\n",
    "\n",
    "\n",
    "from pprint import pprint\n",
    "\n",
    "import sys \n",
    "sys.path.insert(1, \"../\")\n",
    "from workloads.util import use_results, use_dataset, read_config, log_dataset, join_queries_features\n",
    "from workloads.recsys.recsys_util import get_features, get_feature_update, predict_rating\n",
    "\n",
    "%load_ext autoreload\n",
    "%autoreload 2"
   ]
  },
  {
   "cell_type": "code",
   "execution_count": 244,
   "id": "c5c40f67",
   "metadata": {},
   "outputs": [
    {
     "name": "stdout",
     "output_type": "stream",
     "text": [
      "/data/wooders/ralf-vldb//datasets/ml-latest-small\n"
     ]
    }
   ],
   "source": [
    "dataset_dir = use_dataset(\"ml-latest-small\")\n",
    "results_dir = use_results(\"ml-latest-small\")\n",
    "experiment = \"results_workers_user_32_fifo_learningrate_0.02_userfeaturereg_0.01_sleep_0.001\""
   ]
  },
  {
   "cell_type": "code",
   "execution_count": 245,
   "id": "47722972",
   "metadata": {},
   "outputs": [
    {
     "data": {
      "text/plain": [
       "['results_workers_user_8_fifo_learningrate_0.02_userfeaturereg_0.01_sleep_0.01.csv',\n",
       " 'results_workers_user_32_fifo_learningrate_0.02_userfeaturereg_0.01_sleep_0.001.csv',\n",
       " 'results_workers_user_1_fifo_learningrate_0.02_userfeaturereg_0.01_sleep_0.1.csv',\n",
       " 'results_workers_user_2_key-fifo_learningrate_0.02_userfeaturereg_0.01_sleep_0.001.csv',\n",
       " 'results_workers_sgd_1_fifo-100_learningrate_0.02_userfeaturereg_0.01_sleep_0.1.csv',\n",
       " 'results_workers_user_2_fifo_learningrate_0.02_userfeaturereg_0.01_sleep_0.001.csv']"
      ]
     },
     "execution_count": 245,
     "metadata": {},
     "output_type": "execute_result"
    }
   ],
   "source": [
    "os.listdir(results_dir)"
   ]
  },
  {
   "cell_type": "markdown",
   "id": "17f1cc7c",
   "metadata": {},
   "source": [
    "## Read Experiment Results"
   ]
  },
  {
   "cell_type": "code",
   "execution_count": 246,
   "id": "c104dffa",
   "metadata": {},
   "outputs": [],
   "source": [
    "events_df = pd.read_csv(f'{dataset_dir}/test.csv')"
   ]
  },
  {
   "cell_type": "code",
   "execution_count": 247,
   "id": "267c7006",
   "metadata": {},
   "outputs": [],
   "source": [
    "results_df = pd.read_csv(f'{results_dir}/{experiment}.csv')"
   ]
  },
  {
   "cell_type": "code",
   "execution_count": 248,
   "id": "70181089",
   "metadata": {},
   "outputs": [
    {
     "data": {
      "text/html": [
       "<div>\n",
       "<style scoped>\n",
       "    .dataframe tbody tr th:only-of-type {\n",
       "        vertical-align: middle;\n",
       "    }\n",
       "\n",
       "    .dataframe tbody tr th {\n",
       "        vertical-align: top;\n",
       "    }\n",
       "\n",
       "    .dataframe thead th {\n",
       "        text-align: right;\n",
       "    }\n",
       "</style>\n",
       "<table border=\"1\" class=\"dataframe\">\n",
       "  <thead>\n",
       "    <tr style=\"text-align: right;\">\n",
       "      <th></th>\n",
       "      <th>user_id</th>\n",
       "      <th>user_features</th>\n",
       "      <th>ingest_time</th>\n",
       "      <th>timestamp</th>\n",
       "      <th>processing_time</th>\n",
       "      <th>runtime</th>\n",
       "    </tr>\n",
       "  </thead>\n",
       "  <tbody>\n",
       "    <tr>\n",
       "      <th>0</th>\n",
       "      <td>408</td>\n",
       "      <td>[0.16327963659541947, 0.06841512020019584, 0.1...</td>\n",
       "      <td>1.646018e+09</td>\n",
       "      <td>98</td>\n",
       "      <td>1.646018e+09</td>\n",
       "      <td>1.075984</td>\n",
       "    </tr>\n",
       "    <tr>\n",
       "      <th>1</th>\n",
       "      <td>553</td>\n",
       "      <td>[0.1315249691421231, 0.026169506339694018, 0.2...</td>\n",
       "      <td>1.646018e+09</td>\n",
       "      <td>81</td>\n",
       "      <td>1.646018e+09</td>\n",
       "      <td>1.201315</td>\n",
       "    </tr>\n",
       "    <tr>\n",
       "      <th>2</th>\n",
       "      <td>567</td>\n",
       "      <td>[-0.0246350039137414, 0.02392697109059876, 0.0...</td>\n",
       "      <td>1.646018e+09</td>\n",
       "      <td>81</td>\n",
       "      <td>1.646018e+09</td>\n",
       "      <td>1.201941</td>\n",
       "    </tr>\n",
       "    <tr>\n",
       "      <th>3</th>\n",
       "      <td>268</td>\n",
       "      <td>[0.22827553257531474, 0.014865134956970961, 0....</td>\n",
       "      <td>1.646018e+09</td>\n",
       "      <td>81</td>\n",
       "      <td>1.646018e+09</td>\n",
       "      <td>1.210413</td>\n",
       "    </tr>\n",
       "    <tr>\n",
       "      <th>4</th>\n",
       "      <td>42</td>\n",
       "      <td>[0.03158469376420987, -0.021800871523046834, 0...</td>\n",
       "      <td>1.646018e+09</td>\n",
       "      <td>81</td>\n",
       "      <td>1.646018e+09</td>\n",
       "      <td>1.256863</td>\n",
       "    </tr>\n",
       "    <tr>\n",
       "      <th>...</th>\n",
       "      <td>...</td>\n",
       "      <td>...</td>\n",
       "      <td>...</td>\n",
       "      <td>...</td>\n",
       "      <td>...</td>\n",
       "      <td>...</td>\n",
       "    </tr>\n",
       "    <tr>\n",
       "      <th>43951</th>\n",
       "      <td>292</td>\n",
       "      <td>[0.11373122573178936, 0.02111280517965214, 0.3...</td>\n",
       "      <td>1.646026e+09</td>\n",
       "      <td>4798588</td>\n",
       "      <td>1.646026e+09</td>\n",
       "      <td>0.305199</td>\n",
       "    </tr>\n",
       "    <tr>\n",
       "      <th>43952</th>\n",
       "      <td>292</td>\n",
       "      <td>[0.10973123167481619, 0.022240235933343316, 0....</td>\n",
       "      <td>1.646026e+09</td>\n",
       "      <td>4798588</td>\n",
       "      <td>1.646026e+09</td>\n",
       "      <td>0.300842</td>\n",
       "    </tr>\n",
       "    <tr>\n",
       "      <th>43953</th>\n",
       "      <td>292</td>\n",
       "      <td>[0.10409454965721672, 0.026249662396611202, 0....</td>\n",
       "      <td>1.646026e+09</td>\n",
       "      <td>4798588</td>\n",
       "      <td>1.646026e+09</td>\n",
       "      <td>0.303801</td>\n",
       "    </tr>\n",
       "    <tr>\n",
       "      <th>43954</th>\n",
       "      <td>292</td>\n",
       "      <td>[0.10328539400263437, 0.025809562095037566, 0....</td>\n",
       "      <td>1.646026e+09</td>\n",
       "      <td>4798589</td>\n",
       "      <td>1.646026e+09</td>\n",
       "      <td>0.300688</td>\n",
       "    </tr>\n",
       "    <tr>\n",
       "      <th>43955</th>\n",
       "      <td>292</td>\n",
       "      <td>[0.10153882563717971, 0.027133032968442765, 0....</td>\n",
       "      <td>1.646026e+09</td>\n",
       "      <td>4798589</td>\n",
       "      <td>1.646026e+09</td>\n",
       "      <td>0.300790</td>\n",
       "    </tr>\n",
       "  </tbody>\n",
       "</table>\n",
       "<p>43956 rows × 6 columns</p>\n",
       "</div>"
      ],
      "text/plain": [
       "       user_id                                      user_features  \\\n",
       "0          408  [0.16327963659541947, 0.06841512020019584, 0.1...   \n",
       "1          553  [0.1315249691421231, 0.026169506339694018, 0.2...   \n",
       "2          567  [-0.0246350039137414, 0.02392697109059876, 0.0...   \n",
       "3          268  [0.22827553257531474, 0.014865134956970961, 0....   \n",
       "4           42  [0.03158469376420987, -0.021800871523046834, 0...   \n",
       "...        ...                                                ...   \n",
       "43951      292  [0.11373122573178936, 0.02111280517965214, 0.3...   \n",
       "43952      292  [0.10973123167481619, 0.022240235933343316, 0....   \n",
       "43953      292  [0.10409454965721672, 0.026249662396611202, 0....   \n",
       "43954      292  [0.10328539400263437, 0.025809562095037566, 0....   \n",
       "43955      292  [0.10153882563717971, 0.027133032968442765, 0....   \n",
       "\n",
       "        ingest_time  timestamp  processing_time   runtime  \n",
       "0      1.646018e+09         98     1.646018e+09  1.075984  \n",
       "1      1.646018e+09         81     1.646018e+09  1.201315  \n",
       "2      1.646018e+09         81     1.646018e+09  1.201941  \n",
       "3      1.646018e+09         81     1.646018e+09  1.210413  \n",
       "4      1.646018e+09         81     1.646018e+09  1.256863  \n",
       "...             ...        ...              ...       ...  \n",
       "43951  1.646026e+09    4798588     1.646026e+09  0.305199  \n",
       "43952  1.646026e+09    4798588     1.646026e+09  0.300842  \n",
       "43953  1.646026e+09    4798588     1.646026e+09  0.303801  \n",
       "43954  1.646026e+09    4798589     1.646026e+09  0.300688  \n",
       "43955  1.646026e+09    4798589     1.646026e+09  0.300790  \n",
       "\n",
       "[43956 rows x 6 columns]"
      ]
     },
     "execution_count": 248,
     "metadata": {},
     "output_type": "execute_result"
    }
   ],
   "source": [
    "results_df"
   ]
  },
  {
   "cell_type": "markdown",
   "id": "8aed6c75",
   "metadata": {},
   "source": [
    "## Read Dataset "
   ]
  },
  {
   "cell_type": "code",
   "execution_count": 165,
   "id": "f0b09901",
   "metadata": {},
   "outputs": [],
   "source": [
    "movie_to_index = json.load(open(f\"{dataset_dir}/movie_to_index.json\", \"r\"))\n",
    "user_to_index = json.load(open(f\"{dataset_dir}/user_to_index.json\", \"r\"))\n",
    "user_matrix = pickle.load(open(f\"{dataset_dir}/user_matrix.pkl\", \"rb\"))\n",
    "movie_matrix = pickle.load(open(f\"{dataset_dir}/movie_matrix.pkl\", \"rb\"))\n",
    "A = pickle.load(open(f\"{dataset_dir}/A.pkl\", \"rb\"))\n",
    "R = pickle.load(open(f\"{dataset_dir}/R.pkl\", \"rb\"))"
   ]
  },
  {
   "cell_type": "markdown",
   "id": "8f306479",
   "metadata": {},
   "source": [
    "## Evaluate Experiment Features "
   ]
  },
  {
   "cell_type": "code",
   "execution_count": 249,
   "id": "a5d5ee82",
   "metadata": {},
   "outputs": [],
   "source": [
    "def updated_embedding(df, ui): \n",
    "    \n",
    "    # calculate embedding from dataframe of updates form a single user\n",
    "\n",
    "    ui = user_to_index[str(ui)]\n",
    "    streaming_user_matrix = np.array(user_matrix, copy=True) \n",
    "    A_matrix = np.array(A, copy=True)\n",
    "    R_matrix = np.array(R, copy=True)\n",
    "    user_feature_reg = 10\n",
    "\n",
    "    for index, row in df.iterrows():\n",
    "        ui = user_to_index[str(int(row[\"user_id\"]))]\n",
    "        mi = movie_to_index[str(int(row[\"movie_id\"]))]\n",
    "        A_matrix[ui][mi] = row[\"rating\"]\n",
    "        R_matrix[ui][mi] = 1\n",
    "        \n",
    "    Ri = R_matrix[ui]\n",
    "    n_factors = len(user_matrix[ui])\n",
    "\n",
    "    return np.linalg.solve(\n",
    "        np.dot(movie_matrix.T, np.dot(np.diag(Ri), movie_matrix)) + user_feature_reg * np.eye(n_factors),\n",
    "        np.dot(movie_matrix.T, np.dot(np.diag(Ri), A_matrix[ui].T))\n",
    "    ).T"
   ]
  },
  {
   "cell_type": "code",
   "execution_count": 250,
   "id": "21ce09bc",
   "metadata": {},
   "outputs": [],
   "source": [
    "# map real timestamps \n",
    "\n",
    "ts_to_time = {}\n",
    "\n",
    "for index, row in results_df.iterrows(): \n",
    "    if row[\"timestamp\"] not in ts_to_time: \n",
    "        ts_to_time[row[\"timestamp\"]] = row[\"ingest_time\"]"
   ]
  },
  {
   "cell_type": "code",
   "execution_count": 242,
   "id": "1934a10d",
   "metadata": {},
   "outputs": [],
   "source": [
    "def evaluate_user(user, ts):\n",
    "    \n",
    "    # oracle feature \n",
    "    user_df = events_df[(events_df[\"user_id\"] == user) & (events_df[\"timestamp\"] < ts)]\n",
    "    oracle_feature = updated_embedding(user_df, user).tolist()\n",
    "    \n",
    "    # actual feature \n",
    "    update_df = results_df[(results_df[\"user_id\"] == user) & (results_df[\"processing_time\"] < ts_to_time[ts])]\n",
    "    if len(update_df.index) == 0:\n",
    "        #print(\"no updates\", user, ts)\n",
    "        return None\n",
    "    \n",
    "    feature = ast.literal_eval(update_df.user_features.tolist()[-1])\n",
    "    \n",
    "    # metrics \n",
    "    staleness = ts_to_time[user_df.timestamp.max()]  - update_df.processing_time.max() \n",
    "    past_updates = len(update_df.index)\n",
    "    pending_updates = len(user_df.index) - past_updates\n",
    "    \n",
    "    \n",
    "    # loss between features \n",
    "    feature_loss = mean_squared_error(oracle_feature, feature)\n",
    "    \n",
    "    # loss between predictions with features (better metric)\n",
    "    oracle_pred = [np.dot(np.array(oracle_feature), movie_matrix[mid]) for mid in range(movie_matrix.shape[0])]\n",
    "    pred = [np.dot(np.array(feature), movie_matrix[mid]) for mid in range(movie_matrix.shape[0])]\n",
    "    prediction_loss = mean_squared_error(oracle_pred, pred)\n",
    "    \n",
    "    return {\"ts\": ts, \"user\": user, \"feature_loss\": feature_loss, \"prediction_loss\": prediction_loss, \"staleness\": staleness, \"past_updates\": past_updates, \"pending_updates\": pending_updates}"
   ]
  },
  {
   "cell_type": "code",
   "execution_count": 243,
   "id": "b1225cc9",
   "metadata": {},
   "outputs": [],
   "source": [
    "data = []\n",
    "for ts in [3239, 3237, 4519, 10045, 10662]: # randomly selected timestamps to evaluate at \n",
    "    for user in events_df.user_id.value_counts().index.tolist(): #set(results_df.user_id.tolist()):\n",
    "        \n",
    "        d = evaluate_user(user, ts)\n",
    "        if d is not None: data.append(d)"
   ]
  },
  {
   "cell_type": "code",
   "execution_count": 202,
   "id": "270e034a",
   "metadata": {},
   "outputs": [],
   "source": [
    "data_df = pd.DataFrame(data)"
   ]
  },
  {
   "cell_type": "code",
   "execution_count": 203,
   "id": "c84e56ee",
   "metadata": {},
   "outputs": [
    {
     "data": {
      "text/html": [
       "<div>\n",
       "<style scoped>\n",
       "    .dataframe tbody tr th:only-of-type {\n",
       "        vertical-align: middle;\n",
       "    }\n",
       "\n",
       "    .dataframe tbody tr th {\n",
       "        vertical-align: top;\n",
       "    }\n",
       "\n",
       "    .dataframe thead th {\n",
       "        text-align: right;\n",
       "    }\n",
       "</style>\n",
       "<table border=\"1\" class=\"dataframe\">\n",
       "  <thead>\n",
       "    <tr style=\"text-align: right;\">\n",
       "      <th></th>\n",
       "      <th>ts</th>\n",
       "      <th>user</th>\n",
       "      <th>feature_loss</th>\n",
       "      <th>prediction_loss</th>\n",
       "      <th>staleness</th>\n",
       "      <th>past_updates</th>\n",
       "      <th>pending_updates</th>\n",
       "    </tr>\n",
       "  </thead>\n",
       "  <tbody>\n",
       "    <tr>\n",
       "      <th>0</th>\n",
       "      <td>3239</td>\n",
       "      <td>448</td>\n",
       "      <td>0.001296</td>\n",
       "      <td>0.004711</td>\n",
       "      <td>2.463691</td>\n",
       "      <td>2</td>\n",
       "      <td>106</td>\n",
       "    </tr>\n",
       "    <tr>\n",
       "      <th>1</th>\n",
       "      <td>3239</td>\n",
       "      <td>606</td>\n",
       "      <td>0.005231</td>\n",
       "      <td>0.217590</td>\n",
       "      <td>2.694645</td>\n",
       "      <td>8</td>\n",
       "      <td>285</td>\n",
       "    </tr>\n",
       "    <tr>\n",
       "      <th>2</th>\n",
       "      <td>3239</td>\n",
       "      <td>232</td>\n",
       "      <td>0.000150</td>\n",
       "      <td>0.003278</td>\n",
       "      <td>4.659403</td>\n",
       "      <td>2</td>\n",
       "      <td>3</td>\n",
       "    </tr>\n",
       "    <tr>\n",
       "      <th>3</th>\n",
       "      <td>3239</td>\n",
       "      <td>298</td>\n",
       "      <td>0.005902</td>\n",
       "      <td>0.023099</td>\n",
       "      <td>0.135353</td>\n",
       "      <td>6</td>\n",
       "      <td>373</td>\n",
       "    </tr>\n",
       "    <tr>\n",
       "      <th>4</th>\n",
       "      <td>3239</td>\n",
       "      <td>483</td>\n",
       "      <td>0.002668</td>\n",
       "      <td>0.009750</td>\n",
       "      <td>4.643518</td>\n",
       "      <td>2</td>\n",
       "      <td>120</td>\n",
       "    </tr>\n",
       "    <tr>\n",
       "      <th>...</th>\n",
       "      <td>...</td>\n",
       "      <td>...</td>\n",
       "      <td>...</td>\n",
       "      <td>...</td>\n",
       "      <td>...</td>\n",
       "      <td>...</td>\n",
       "      <td>...</td>\n",
       "    </tr>\n",
       "    <tr>\n",
       "      <th>322</th>\n",
       "      <td>10662</td>\n",
       "      <td>362</td>\n",
       "      <td>0.000000</td>\n",
       "      <td>0.000000</td>\n",
       "      <td>19.317708</td>\n",
       "      <td>1</td>\n",
       "      <td>0</td>\n",
       "    </tr>\n",
       "    <tr>\n",
       "      <th>323</th>\n",
       "      <td>10662</td>\n",
       "      <td>595</td>\n",
       "      <td>0.000000</td>\n",
       "      <td>0.000000</td>\n",
       "      <td>6.586464</td>\n",
       "      <td>8</td>\n",
       "      <td>0</td>\n",
       "    </tr>\n",
       "    <tr>\n",
       "      <th>324</th>\n",
       "      <td>10662</td>\n",
       "      <td>65</td>\n",
       "      <td>0.000000</td>\n",
       "      <td>0.000000</td>\n",
       "      <td>15.881614</td>\n",
       "      <td>7</td>\n",
       "      <td>0</td>\n",
       "    </tr>\n",
       "    <tr>\n",
       "      <th>325</th>\n",
       "      <td>10662</td>\n",
       "      <td>567</td>\n",
       "      <td>0.000003</td>\n",
       "      <td>0.000047</td>\n",
       "      <td>17.748877</td>\n",
       "      <td>5</td>\n",
       "      <td>2</td>\n",
       "    </tr>\n",
       "    <tr>\n",
       "      <th>326</th>\n",
       "      <td>10662</td>\n",
       "      <td>253</td>\n",
       "      <td>0.000000</td>\n",
       "      <td>0.000000</td>\n",
       "      <td>19.513357</td>\n",
       "      <td>2</td>\n",
       "      <td>0</td>\n",
       "    </tr>\n",
       "  </tbody>\n",
       "</table>\n",
       "<p>327 rows × 7 columns</p>\n",
       "</div>"
      ],
      "text/plain": [
       "        ts  user  feature_loss  prediction_loss  staleness  past_updates  \\\n",
       "0     3239   448      0.001296         0.004711   2.463691             2   \n",
       "1     3239   606      0.005231         0.217590   2.694645             8   \n",
       "2     3239   232      0.000150         0.003278   4.659403             2   \n",
       "3     3239   298      0.005902         0.023099   0.135353             6   \n",
       "4     3239   483      0.002668         0.009750   4.643518             2   \n",
       "..     ...   ...           ...              ...        ...           ...   \n",
       "322  10662   362      0.000000         0.000000  19.317708             1   \n",
       "323  10662   595      0.000000         0.000000   6.586464             8   \n",
       "324  10662    65      0.000000         0.000000  15.881614             7   \n",
       "325  10662   567      0.000003         0.000047  17.748877             5   \n",
       "326  10662   253      0.000000         0.000000  19.513357             2   \n",
       "\n",
       "     pending_updates  \n",
       "0                106  \n",
       "1                285  \n",
       "2                  3  \n",
       "3                373  \n",
       "4                120  \n",
       "..               ...  \n",
       "322                0  \n",
       "323                0  \n",
       "324                0  \n",
       "325                2  \n",
       "326                0  \n",
       "\n",
       "[327 rows x 7 columns]"
      ]
     },
     "execution_count": 203,
     "metadata": {},
     "output_type": "execute_result"
    }
   ],
   "source": [
    "data_df"
   ]
  },
  {
   "cell_type": "markdown",
   "id": "35c99553",
   "metadata": {},
   "source": [
    "# Attempt to Model Loss"
   ]
  },
  {
   "cell_type": "code",
   "execution_count": 204,
   "id": "e36acb9e",
   "metadata": {},
   "outputs": [
    {
     "data": {
      "text/plain": [
       "<AxesSubplot:xlabel='ts'>"
      ]
     },
     "execution_count": 204,
     "metadata": {},
     "output_type": "execute_result"
    },
    {
     "data": {
      "image/png": "[encoded data removed]",
      "text/plain": [
       "<Figure size 432x288 with 1 Axes>"
      ]
     },
     "metadata": {
      "needs_background": "light"
     },
     "output_type": "display_data"
    }
   ],
   "source": [
    "data_df.groupby(\"ts\").feature_loss.mean().plot()"
   ]
  },
  {
   "cell_type": "code",
   "execution_count": 198,
   "id": "50e1b202",
   "metadata": {},
   "outputs": [
    {
     "data": {
      "text/plain": [
       "<AxesSubplot:xlabel='ts'>"
      ]
     },
     "execution_count": 198,
     "metadata": {},
     "output_type": "execute_result"
    },
    {
     "data": {
      "image/png": "[encoded data removed]",
      "text/plain": [
       "<Figure size 432x288 with 1 Axes>"
      ]
     },
     "metadata": {
      "needs_background": "light"
     },
     "output_type": "display_data"
    }
   ],
   "source": [
    "data_df.groupby(\"ts\").prediction_loss.mean().plot()"
   ]
  },
  {
   "cell_type": "code",
   "execution_count": 199,
   "id": "8a154e38",
   "metadata": {},
   "outputs": [
    {
     "data": {
      "text/plain": [
       "<AxesSubplot:>"
      ]
     },
     "execution_count": 199,
     "metadata": {},
     "output_type": "execute_result"
    },
    {
     "data": {
      "image/png": "[encoded data removed]",
      "text/plain": [
       "<Figure size 432x288 with 1 Axes>"
      ]
     },
     "metadata": {
      "needs_background": "light"
     },
     "output_type": "display_data"
    }
   ],
   "source": [
    "data_df[[\"staleness\", \"prediction_loss\"]].plot()"
   ]
  },
  {
   "cell_type": "code",
   "execution_count": 200,
   "id": "d4f44e00",
   "metadata": {},
   "outputs": [
    {
     "data": {
      "text/plain": [
       "<AxesSubplot:>"
      ]
     },
     "execution_count": 200,
     "metadata": {},
     "output_type": "execute_result"
    },
    {
     "data": {
      "image/png": "[encoded data removed]",
      "text/plain": [
       "<Figure size 432x288 with 1 Axes>"
      ]
     },
     "metadata": {
      "needs_background": "light"
     },
     "output_type": "display_data"
    }
   ],
   "source": [
    "data_df.staleness.plot()"
   ]
  },
  {
   "cell_type": "code",
   "execution_count": 201,
   "id": "b0eaf770",
   "metadata": {},
   "outputs": [],
   "source": [
    "from sklearn.metrics import mean_squared_error"
   ]
  },
  {
   "cell_type": "code",
   "execution_count": 181,
   "id": "6344a86d",
   "metadata": {},
   "outputs": [
    {
     "data": {
      "text/plain": [
       "0.0007864545900573374"
      ]
     },
     "execution_count": 181,
     "metadata": {},
     "output_type": "execute_result"
    }
   ],
   "source": [
    "mean_squared_error(oracle_feature, feature)"
   ]
  },
  {
   "cell_type": "code",
   "execution_count": 211,
   "id": "5cdc9148",
   "metadata": {},
   "outputs": [],
   "source": [
    "from sklearn.linear_model import LinearRegression, SGDRegressor"
   ]
  },
  {
   "cell_type": "code",
   "execution_count": 232,
   "id": "7bee2472",
   "metadata": {},
   "outputs": [
    {
     "data": {
      "text/plain": [
       "5.221530768322853e+26"
      ]
     },
     "execution_count": 232,
     "metadata": {},
     "output_type": "execute_result"
    }
   ],
   "source": [
    "x = data_df[[\"staleness\", \"past_updates\", \"pending_updates\"]].to_numpy()\n",
    "y = data_df[\"prediction_loss\"].to_numpy()\n",
    "\n",
    "clf = SGDRegressor().fit(x, y)\n",
    "train_err = mean_squared_error(clf.predict(x), y)\n",
    "train_err"
   ]
  },
  {
   "cell_type": "code",
   "execution_count": 235,
   "id": "52fc28c0",
   "metadata": {},
   "outputs": [
    {
     "data": {
      "text/plain": [
       "{'alpha': 0.0001,\n",
       " 'average': False,\n",
       " 'early_stopping': False,\n",
       " 'epsilon': 0.1,\n",
       " 'eta0': 0.01,\n",
       " 'fit_intercept': True,\n",
       " 'l1_ratio': 0.15,\n",
       " 'learning_rate': 'invscaling',\n",
       " 'loss': 'squared_loss',\n",
       " 'max_iter': 1000,\n",
       " 'n_iter_no_change': 5,\n",
       " 'penalty': 'l2',\n",
       " 'power_t': 0.25,\n",
       " 'random_state': None,\n",
       " 'shuffle': True,\n",
       " 'tol': 0.001,\n",
       " 'validation_fraction': 0.1,\n",
       " 'verbose': 0,\n",
       " 'warm_start': False}"
      ]
     },
     "execution_count": 235,
     "metadata": {},
     "output_type": "execute_result"
    }
   ],
   "source": [
    "clf.get_params()"
   ]
  },
  {
   "cell_type": "code",
   "execution_count": 241,
   "id": "954e7ecf",
   "metadata": {},
   "outputs": [
    {
     "data": {
      "text/plain": [
       "SGDRegressor()"
      ]
     },
     "execution_count": 241,
     "metadata": {},
     "output_type": "execute_result"
    }
   ],
   "source": [
    "clf.predict()"
   ]
  },
  {
   "cell_type": "code",
   "execution_count": 231,
   "id": "8ab568ef",
   "metadata": {},
   "outputs": [
    {
     "data": {
      "text/plain": [
       "0.004031766987362089"
      ]
     },
     "execution_count": 231,
     "metadata": {},
     "output_type": "execute_result"
    }
   ],
   "source": [
    "x = data_df[[\"staleness\", \"past_updates\"]].to_numpy()\n",
    "y = data_df[\"prediction_loss\"].to_numpy()\n",
    "\n",
    "clf = SGDRegressor().fit(x, y)\n",
    "train_err = mean_squared_error(clf.predict(x), y)\n",
    "train_err"
   ]
  },
  {
   "cell_type": "code",
   "execution_count": 225,
   "id": "d75edc55",
   "metadata": {},
   "outputs": [
    {
     "data": {
      "text/plain": [
       "0.003199790139035662"
      ]
     },
     "execution_count": 225,
     "metadata": {},
     "output_type": "execute_result"
    }
   ],
   "source": [
    "x = data_df[[\"staleness\"]].to_numpy()\n",
    "y = data_df[\"prediction_loss\"].to_numpy()\n",
    "\n",
    "#clf = SGDRegressor(loss=\"huber\").fit(x, y)\n",
    "clf = SGDRegressor(loss=\"huber\").fit(x, y)\n",
    "train_err = mean_squared_error(clf.predict(x), y)\n",
    "train_err"
   ]
  },
  {
   "cell_type": "code",
   "execution_count": 222,
   "id": "cede3d07",
   "metadata": {},
   "outputs": [
    {
     "data": {
      "text/plain": [
       "0.0032498525075178725"
      ]
     },
     "execution_count": 222,
     "metadata": {},
     "output_type": "execute_result"
    }
   ],
   "source": [
    "train_err = mean_squared_error([y.mean()]*y.shape[0], y)\n",
    "train_err"
   ]
  },
  {
   "cell_type": "code",
   "execution_count": 78,
   "id": "cd5bd1f6",
   "metadata": {},
   "outputs": [],
   "source": [
    "oracle_pred = [np.dot(np.array(oracle_feature), movie_matrix[mid]) for mid in range(movie_matrix.shape[0])]\n",
    "pred = [np.dot(np.array(feature), movie_matrix[mid]) for mid in range(movie_matrix.shape[0])]"
   ]
  },
  {
   "cell_type": "code",
   "execution_count": 79,
   "id": "d8c56053",
   "metadata": {},
   "outputs": [
    {
     "data": {
      "text/plain": [
       "0.026040872747266245"
      ]
     },
     "execution_count": 79,
     "metadata": {},
     "output_type": "execute_result"
    }
   ],
   "source": [
    "mean_squared_error(oracle_pred, pred)"
   ]
  },
  {
   "cell_type": "code",
   "execution_count": 191,
   "id": "09ce2563",
   "metadata": {},
   "outputs": [
    {
     "data": {
      "image/png": "[encoded data removed]",
      "text/plain": [
       "<Figure size 432x288 with 1 Axes>"
      ]
     },
     "metadata": {
      "needs_background": "light"
     },
     "output_type": "display_data"
    }
   ],
   "source": [
    "import matplotlib.pyplot as plt\n",
    "\n",
    "plt.scatter(data_df[\"staleness\"].tolist(), data_df[\"prediction_loss\"].tolist(), c =\"red\", label=f\"key={key}\")\n",
    "plt.scatter(data_df[\"staleness\"].tolist(), data_df[\"prediction_loss\"].tolist(), c =\"red\", label=f\"key={key}\")\n",
    "\n",
    "plt.legend()\n",
    "# To show the plot\n",
    "plt.title(\"Error versus Staleness\")\n",
    "plt.ylabel(\"Predicted Error\")\n",
    "plt.xlabel(\"Staleness (s)\")\n",
    "plt.show()"
   ]
  },
  {
   "cell_type": "code",
   "execution_count": 192,
   "id": "34171408",
   "metadata": {},
   "outputs": [
    {
     "data": {
      "image/png": "[encoded data removed]",
      "text/plain": [
       "<Figure size 432x288 with 1 Axes>"
      ]
     },
     "metadata": {
      "needs_background": "light"
     },
     "output_type": "display_data"
    }
   ],
   "source": [
    "plt.scatter(data_df[\"past_updates\"].tolist(), data_df[\"prediction_loss\"].tolist(), c =\"red\", label=f\"key={key}\")\n",
    "\n",
    "plt.legend()\n",
    "# To show the plot\n",
    "plt.title(\"Error versus Staleness\")\n",
    "plt.ylabel(\"Predicted Error\")\n",
    "plt.xlabel(\"Staleness (s)\")\n",
    "plt.show()"
   ]
  },
  {
   "cell_type": "code",
   "execution_count": 205,
   "id": "d9516678",
   "metadata": {},
   "outputs": [
    {
     "data": {
      "image/png": "[encoded data removed]",
      "text/plain": [
       "<Figure size 432x288 with 1 Axes>"
      ]
     },
     "metadata": {
      "needs_background": "light"
     },
     "output_type": "display_data"
    }
   ],
   "source": [
    "plt.scatter(data_df[\"pending_updates\"].tolist(), data_df[\"prediction_loss\"].tolist(), c =\"red\", label=f\"key={key}\")\n",
    "\n",
    "plt.legend()\n",
    "# To show the plot\n",
    "plt.title(\"Error versus Staleness\")\n",
    "plt.ylabel(\"Predicted Error\")\n",
    "plt.xlabel(\"Staleness (s)\")\n",
    "plt.show()"
   ]
  },
  {
   "cell_type": "code",
   "execution_count": null,
   "id": "0adc0bfd",
   "metadata": {},
   "outputs": [],
   "source": []
  }
 ],
 "metadata": {
  "kernelspec": {
   "display_name": "Python 3",
   "language": "python",
   "name": "python3"
  },
  "language_info": {
   "codemirror_mode": {
    "name": "ipython",
    "version": 3
   },
   "file_extension": ".py",
   "mimetype": "text/x-python",
   "name": "python",
   "nbconvert_exporter": "python",
   "pygments_lexer": "ipython3",
   "version": "3.8.8"
  }
 },
 "nbformat": 4,
 "nbformat_minor": 5
}
