{
 "cells": [
  {
   "cell_type": "code",
   "execution_count": 24,
   "id": "4cec5c94",
   "metadata": {},
   "outputs": [
    {
     "name": "stdout",
     "output_type": "stream",
     "text": [
      "The autoreload extension is already loaded. To reload it, use:\n",
      "  %reload_ext autoreload\n"
     ]
    }
   ],
   "source": [
    "import pandas as pd\n",
    "import numpy as np\n",
    "import matplotlib.pyplot as plt\n",
    "from sklearn.metrics import mean_squared_error\n",
    "import time\n",
    "\n",
    "from pyspark.sql import SparkSession\n",
    "from pyspark.ml.evaluation import RegressionEvaluator\n",
    "from pyspark.ml.recommendation import ALS\n",
    "\n",
    "import ast\n",
    "import os\n",
    "import pickle\n",
    "import json\n",
    "\n",
    "\n",
    "from pprint import pprint\n",
    "\n",
    "import sys \n",
    "sys.path.insert(1, \"../\")\n",
    "from workloads.util import use_results, use_dataset, read_config, log_dataset, join_queries_features\n",
    "from workloads.recsys.recsys_util import get_features, get_feature_update, predict_rating\n",
    "\n",
    "%load_ext autoreload\n",
    "%autoreload 2"
   ]
  },
  {
   "cell_type": "code",
   "execution_count": 251,
   "id": "5195bebc",
   "metadata": {},
   "outputs": [
    {
     "name": "stdout",
     "output_type": "stream",
     "text": [
      "/data/wooders/ralf-vldb//datasets/ml-latest-small\n"
     ]
    }
   ],
   "source": [
    "dataset_dir = use_dataset(\"ml-latest-small\")\n",
    "results_dir = use_results(\"ml-latest-small\")\n",
    "#experiment = \"results_workers_user_32_fifo_learningrate_0.02_userfeaturereg_0.01_sleep_0.001\"\n",
    "\n",
    "experiment = \"results_workers_user_8_key-fifo_learningrate_0.02_userfeaturereg_0.01_sleep_0.001\""
   ]
  },
  {
   "cell_type": "code",
   "execution_count": 252,
   "id": "762a6934",
   "metadata": {},
   "outputs": [
    {
     "data": {
      "text/plain": [
       "['results_workers_user_8_key-fifo_learningrate_0.02_userfeaturereg_0.01_sleep_0.001.csv',\n",
       " 'results_workers_user_8_fifo_learningrate_0.02_userfeaturereg_0.01_sleep_0.01.csv',\n",
       " 'results_workers_user_32_fifo_learningrate_0.02_userfeaturereg_0.01_sleep_0.001.csv',\n",
       " 'results_workers_user_2_ml_learningrate_0.02_userfeaturereg_0.01_sleep_0.001.csv',\n",
       " 'results_workers_user_1_fifo_learningrate_0.02_userfeaturereg_0.01_sleep_0.1.csv',\n",
       " 'results_workers_user_2_key-fifo_learningrate_0.02_userfeaturereg_0.01_sleep_0.001.csv',\n",
       " 'results_workers_sgd_1_fifo-100_learningrate_0.02_userfeaturereg_0.01_sleep_0.1.csv',\n",
       " 'results_workers_user_8_ml_learningrate_0.02_userfeaturereg_0.01_sleep_0.001.csv',\n",
       " 'results_workers_user_2_fifo_learningrate_0.02_userfeaturereg_0.01_sleep_0.001.csv']"
      ]
     },
     "execution_count": 252,
     "metadata": {},
     "output_type": "execute_result"
    }
   ],
   "source": [
    "os.listdir(results_dir)"
   ]
  },
  {
   "cell_type": "markdown",
   "id": "d1922cd5",
   "metadata": {},
   "source": [
    "## Read Experiment Results"
   ]
  },
  {
   "cell_type": "code",
   "execution_count": 253,
   "id": "f6108601",
   "metadata": {},
   "outputs": [],
   "source": [
    "events_df = pd.read_csv(f'{dataset_dir}/test.csv')"
   ]
  },
  {
   "cell_type": "code",
   "execution_count": 254,
   "id": "cc496379",
   "metadata": {},
   "outputs": [],
   "source": [
    "results_df = pd.read_csv(f'{results_dir}/{experiment}.csv')"
   ]
  },
  {
   "cell_type": "code",
   "execution_count": 255,
   "id": "4660cbbb",
   "metadata": {},
   "outputs": [
    {
     "data": {
      "text/html": [
       "<div>\n",
       "<style scoped>\n",
       "    .dataframe tbody tr th:only-of-type {\n",
       "        vertical-align: middle;\n",
       "    }\n",
       "\n",
       "    .dataframe tbody tr th {\n",
       "        vertical-align: top;\n",
       "    }\n",
       "\n",
       "    .dataframe thead th {\n",
       "        text-align: right;\n",
       "    }\n",
       "</style>\n",
       "<table border=\"1\" class=\"dataframe\">\n",
       "  <thead>\n",
       "    <tr style=\"text-align: right;\">\n",
       "      <th></th>\n",
       "      <th>user_id</th>\n",
       "      <th>user_features</th>\n",
       "      <th>ingest_time</th>\n",
       "      <th>timestamp</th>\n",
       "      <th>processing_time</th>\n",
       "      <th>runtime</th>\n",
       "    </tr>\n",
       "  </thead>\n",
       "  <tbody>\n",
       "    <tr>\n",
       "      <th>0</th>\n",
       "      <td>45</td>\n",
       "      <td>[0.08245328466150217, 0.008904671218049132, 0....</td>\n",
       "      <td>1.646036e+09</td>\n",
       "      <td>81</td>\n",
       "      <td>1.646036e+09</td>\n",
       "      <td>1.145397</td>\n",
       "    </tr>\n",
       "    <tr>\n",
       "      <th>1</th>\n",
       "      <td>560</td>\n",
       "      <td>[0.20233865831717093, -0.029339719772595127, 0...</td>\n",
       "      <td>1.646036e+09</td>\n",
       "      <td>81</td>\n",
       "      <td>1.646036e+09</td>\n",
       "      <td>1.150074</td>\n",
       "    </tr>\n",
       "    <tr>\n",
       "      <th>2</th>\n",
       "      <td>186</td>\n",
       "      <td>[0.31641403891609465, 0.0849392233123104, 0.24...</td>\n",
       "      <td>1.646036e+09</td>\n",
       "      <td>81</td>\n",
       "      <td>1.646036e+09</td>\n",
       "      <td>1.159948</td>\n",
       "    </tr>\n",
       "    <tr>\n",
       "      <th>3</th>\n",
       "      <td>606</td>\n",
       "      <td>[0.1601744159527951, 0.0663623686514915, 0.092...</td>\n",
       "      <td>1.646036e+09</td>\n",
       "      <td>81</td>\n",
       "      <td>1.646036e+09</td>\n",
       "      <td>1.191342</td>\n",
       "    </tr>\n",
       "    <tr>\n",
       "      <th>4</th>\n",
       "      <td>509</td>\n",
       "      <td>[0.19047495304806558, 0.03279256996016002, 0.2...</td>\n",
       "      <td>1.646036e+09</td>\n",
       "      <td>81</td>\n",
       "      <td>1.646036e+09</td>\n",
       "      <td>1.353814</td>\n",
       "    </tr>\n",
       "    <tr>\n",
       "      <th>...</th>\n",
       "      <td>...</td>\n",
       "      <td>...</td>\n",
       "      <td>...</td>\n",
       "      <td>...</td>\n",
       "      <td>...</td>\n",
       "      <td>...</td>\n",
       "    </tr>\n",
       "    <tr>\n",
       "      <th>397</th>\n",
       "      <td>11</td>\n",
       "      <td>[0.07070043303577314, 0.0413310835546713, 0.22...</td>\n",
       "      <td>1.646036e+09</td>\n",
       "      <td>9550</td>\n",
       "      <td>1.646036e+09</td>\n",
       "      <td>0.319520</td>\n",
       "    </tr>\n",
       "    <tr>\n",
       "      <th>398</th>\n",
       "      <td>83</td>\n",
       "      <td>[0.11000680195199285, 0.028487495547892882, 0....</td>\n",
       "      <td>1.646036e+09</td>\n",
       "      <td>9560</td>\n",
       "      <td>1.646036e+09</td>\n",
       "      <td>0.321991</td>\n",
       "    </tr>\n",
       "    <tr>\n",
       "      <th>399</th>\n",
       "      <td>434</td>\n",
       "      <td>[0.14315080982718673, 0.03433480437678938, -0....</td>\n",
       "      <td>1.646036e+09</td>\n",
       "      <td>9741</td>\n",
       "      <td>1.646036e+09</td>\n",
       "      <td>0.325144</td>\n",
       "    </tr>\n",
       "    <tr>\n",
       "      <th>400</th>\n",
       "      <td>199</td>\n",
       "      <td>[0.18987475543202093, 0.062453356234686445, 0....</td>\n",
       "      <td>1.646036e+09</td>\n",
       "      <td>9534</td>\n",
       "      <td>1.646036e+09</td>\n",
       "      <td>0.328234</td>\n",
       "    </tr>\n",
       "    <tr>\n",
       "      <th>401</th>\n",
       "      <td>430</td>\n",
       "      <td>[0.16066678764450498, 0.058968347901766686, 0....</td>\n",
       "      <td>1.646036e+09</td>\n",
       "      <td>9533</td>\n",
       "      <td>1.646036e+09</td>\n",
       "      <td>0.319402</td>\n",
       "    </tr>\n",
       "  </tbody>\n",
       "</table>\n",
       "<p>402 rows × 6 columns</p>\n",
       "</div>"
      ],
      "text/plain": [
       "     user_id                                      user_features   ingest_time  \\\n",
       "0         45  [0.08245328466150217, 0.008904671218049132, 0....  1.646036e+09   \n",
       "1        560  [0.20233865831717093, -0.029339719772595127, 0...  1.646036e+09   \n",
       "2        186  [0.31641403891609465, 0.0849392233123104, 0.24...  1.646036e+09   \n",
       "3        606  [0.1601744159527951, 0.0663623686514915, 0.092...  1.646036e+09   \n",
       "4        509  [0.19047495304806558, 0.03279256996016002, 0.2...  1.646036e+09   \n",
       "..       ...                                                ...           ...   \n",
       "397       11  [0.07070043303577314, 0.0413310835546713, 0.22...  1.646036e+09   \n",
       "398       83  [0.11000680195199285, 0.028487495547892882, 0....  1.646036e+09   \n",
       "399      434  [0.14315080982718673, 0.03433480437678938, -0....  1.646036e+09   \n",
       "400      199  [0.18987475543202093, 0.062453356234686445, 0....  1.646036e+09   \n",
       "401      430  [0.16066678764450498, 0.058968347901766686, 0....  1.646036e+09   \n",
       "\n",
       "     timestamp  processing_time   runtime  \n",
       "0           81     1.646036e+09  1.145397  \n",
       "1           81     1.646036e+09  1.150074  \n",
       "2           81     1.646036e+09  1.159948  \n",
       "3           81     1.646036e+09  1.191342  \n",
       "4           81     1.646036e+09  1.353814  \n",
       "..         ...              ...       ...  \n",
       "397       9550     1.646036e+09  0.319520  \n",
       "398       9560     1.646036e+09  0.321991  \n",
       "399       9741     1.646036e+09  0.325144  \n",
       "400       9534     1.646036e+09  0.328234  \n",
       "401       9533     1.646036e+09  0.319402  \n",
       "\n",
       "[402 rows x 6 columns]"
      ]
     },
     "execution_count": 255,
     "metadata": {},
     "output_type": "execute_result"
    }
   ],
   "source": [
    "results_df"
   ]
  },
  {
   "cell_type": "markdown",
   "id": "0006a32d",
   "metadata": {},
   "source": [
    "## Read Dataset "
   ]
  },
  {
   "cell_type": "code",
   "execution_count": 256,
   "id": "c1b4a47b",
   "metadata": {},
   "outputs": [],
   "source": [
    "movie_to_index = json.load(open(f\"{dataset_dir}/movie_to_index.json\", \"r\"))\n",
    "user_to_index = json.load(open(f\"{dataset_dir}/user_to_index.json\", \"r\"))\n",
    "user_matrix = pickle.load(open(f\"{dataset_dir}/user_matrix.pkl\", \"rb\"))\n",
    "movie_matrix = pickle.load(open(f\"{dataset_dir}/movie_matrix.pkl\", \"rb\"))\n",
    "A = pickle.load(open(f\"{dataset_dir}/A.pkl\", \"rb\"))\n",
    "R = pickle.load(open(f\"{dataset_dir}/R.pkl\", \"rb\"))"
   ]
  },
  {
   "cell_type": "markdown",
   "id": "5976fd4c",
   "metadata": {},
   "source": [
    "## Evaluate Experiment Features "
   ]
  },
  {
   "cell_type": "code",
   "execution_count": 257,
   "id": "ae76733a",
   "metadata": {},
   "outputs": [],
   "source": [
    "def updated_embedding(df, ui): \n",
    "    \n",
    "    # calculate embedding from dataframe of updates form a single user\n",
    "\n",
    "    ui = user_to_index[str(ui)]\n",
    "    streaming_user_matrix = np.array(user_matrix, copy=True) \n",
    "    A_matrix = np.array(A, copy=True)\n",
    "    R_matrix = np.array(R, copy=True)\n",
    "    user_feature_reg = 10\n",
    "\n",
    "    for index, row in df.iterrows():\n",
    "        ui = user_to_index[str(int(row[\"user_id\"]))]\n",
    "        mi = movie_to_index[str(int(row[\"movie_id\"]))]\n",
    "        A_matrix[ui][mi] = row[\"rating\"]\n",
    "        R_matrix[ui][mi] = 1\n",
    "        \n",
    "    Ri = R_matrix[ui]\n",
    "    n_factors = len(user_matrix[ui])\n",
    "\n",
    "    return np.linalg.solve(\n",
    "        np.dot(movie_matrix.T, np.dot(np.diag(Ri), movie_matrix)) + user_feature_reg * np.eye(n_factors),\n",
    "        np.dot(movie_matrix.T, np.dot(np.diag(Ri), A_matrix[ui].T))\n",
    "    ).T"
   ]
  },
  {
   "cell_type": "code",
   "execution_count": 262,
   "id": "10f3826e",
   "metadata": {},
   "outputs": [],
   "source": [
    "# map real timestamps \n",
    "\n",
    "ts_to_time = {}\n",
    "\n",
    "for index, row in results_df.iterrows(): \n",
    "    if row[\"timestamp\"] not in ts_to_time: \n",
    "        ts_to_time[row[\"timestamp\"]] = row[\"ingest_time\"]"
   ]
  },
  {
   "cell_type": "code",
   "execution_count": 301,
   "id": "061ad719",
   "metadata": {},
   "outputs": [],
   "source": [
    "cache = {}"
   ]
  },
  {
   "cell_type": "code",
   "execution_count": 302,
   "id": "4590dfc4",
   "metadata": {},
   "outputs": [],
   "source": [
    "def evaluate_user(user, ts):\n",
    "    \n",
    "    # oracle feature \n",
    "    user_df = events_df[(events_df[\"user_id\"] == user) & (events_df[\"timestamp\"] < ts)]\n",
    "    \n",
    "    if f\"{user}_{ts}\" in cache: \n",
    "        oracle_feature = cache[f\"{user}_{ts}\"]\n",
    "    else:\n",
    "        oracle_feature = updated_embedding(user_df, user).tolist()\n",
    "        cache[f\"{user}_{ts}\"] = oracle_feature\n",
    "    \n",
    "    # actual feature \n",
    "    update_df = results_df[(results_df[\"user_id\"] == user) & (results_df[\"processing_time\"] < ts_to_time[ts])]\n",
    "    update_ts = update_df.timestamp.max() \n",
    "    processed_df = events_df[(events_df[\"user_id\"] == user) & (events_df[\"timestamp\"] <= update_ts)]\n",
    "    if len(update_df.index) == 0:\n",
    "        #print(\"no updates\", user, ts)\n",
    "        return None\n",
    "    \n",
    "    feature = ast.literal_eval(update_df.user_features.tolist()[-1])\n",
    "    \n",
    "    # metrics \n",
    "    staleness = user_df.timestamp.max()  - update_df.timestamp.max() \n",
    "    past_updates = len(processed_df.index)\n",
    "    pending_updates = len(user_df.index) - past_updates\n",
    "    \n",
    "    \n",
    "    # loss between features \n",
    "    feature_loss = mean_squared_error(oracle_feature, feature)\n",
    "    \n",
    "    # loss between predictions with features (better metric)\n",
    "    oracle_pred = [np.dot(np.array(oracle_feature), movie_matrix[mid]) for mid in range(movie_matrix.shape[0])]\n",
    "    pred = [np.dot(np.array(feature), movie_matrix[mid]) for mid in range(movie_matrix.shape[0])]\n",
    "    prediction_loss = mean_squared_error(oracle_pred, pred)\n",
    "    \n",
    "    return {\"ts\": ts, \"user\": user, \"feature_loss\": feature_loss, \"prediction_loss\": prediction_loss, \"staleness\": staleness, \"past_updates\": past_updates, \"pending_updates\": pending_updates}"
   ]
  },
  {
   "cell_type": "code",
   "execution_count": 303,
   "id": "0c30fd78",
   "metadata": {},
   "outputs": [],
   "source": [
    "from tqdm import tqdm "
   ]
  },
  {
   "cell_type": "code",
   "execution_count": 304,
   "id": "5379acf8",
   "metadata": {},
   "outputs": [],
   "source": [
    "data = []"
   ]
  },
  {
   "cell_type": "code",
   "execution_count": 308,
   "id": "aeefa713",
   "metadata": {},
   "outputs": [
    {
     "name": "stderr",
     "output_type": "stream",
     "text": [
      "100%|██████████| 314/314 [20:14<00:00,  3.87s/it]\n"
     ]
    }
   ],
   "source": [
    "for ts in tqdm(list(ts_to_time.keys())[72:]): #[3239, 3237, 4519, 10045, 10662]: # randomly selected timestamps to evaluate at \n",
    "    for user in events_df.user_id.value_counts().index.tolist()[:10]: #set(results_df.user_id.tolist()):\n",
    "        \n",
    "        d = evaluate_user(user, ts)\n",
    "        if d is not None: data.append(d)"
   ]
  },
  {
   "cell_type": "code",
   "execution_count": 309,
   "id": "2be9fc3b",
   "metadata": {},
   "outputs": [],
   "source": [
    "data_df = pd.DataFrame(data)"
   ]
  },
  {
   "cell_type": "code",
   "execution_count": 310,
   "id": "228e3ac1",
   "metadata": {},
   "outputs": [
    {
     "data": {
      "text/html": [
       "<div>\n",
       "<style scoped>\n",
       "    .dataframe tbody tr th:only-of-type {\n",
       "        vertical-align: middle;\n",
       "    }\n",
       "\n",
       "    .dataframe tbody tr th {\n",
       "        vertical-align: top;\n",
       "    }\n",
       "\n",
       "    .dataframe thead th {\n",
       "        text-align: right;\n",
       "    }\n",
       "</style>\n",
       "<table border=\"1\" class=\"dataframe\">\n",
       "  <thead>\n",
       "    <tr style=\"text-align: right;\">\n",
       "      <th></th>\n",
       "      <th>ts</th>\n",
       "      <th>user</th>\n",
       "      <th>feature_loss</th>\n",
       "      <th>prediction_loss</th>\n",
       "      <th>staleness</th>\n",
       "      <th>past_updates</th>\n",
       "      <th>pending_updates</th>\n",
       "    </tr>\n",
       "  </thead>\n",
       "  <tbody>\n",
       "    <tr>\n",
       "      <th>0</th>\n",
       "      <td>1442</td>\n",
       "      <td>606</td>\n",
       "      <td>0.003785</td>\n",
       "      <td>0.177856</td>\n",
       "      <td>1322</td>\n",
       "      <td>2</td>\n",
       "      <td>170</td>\n",
       "    </tr>\n",
       "    <tr>\n",
       "      <th>1</th>\n",
       "      <td>625</td>\n",
       "      <td>606</td>\n",
       "      <td>0.000011</td>\n",
       "      <td>0.000053</td>\n",
       "      <td>3</td>\n",
       "      <td>2</td>\n",
       "      <td>6</td>\n",
       "    </tr>\n",
       "    <tr>\n",
       "      <th>2</th>\n",
       "      <td>623</td>\n",
       "      <td>606</td>\n",
       "      <td>0.000011</td>\n",
       "      <td>0.000053</td>\n",
       "      <td>3</td>\n",
       "      <td>2</td>\n",
       "      <td>6</td>\n",
       "    </tr>\n",
       "    <tr>\n",
       "      <th>3</th>\n",
       "      <td>607</td>\n",
       "      <td>606</td>\n",
       "      <td>0.000011</td>\n",
       "      <td>0.000053</td>\n",
       "      <td>3</td>\n",
       "      <td>2</td>\n",
       "      <td>6</td>\n",
       "    </tr>\n",
       "    <tr>\n",
       "      <th>4</th>\n",
       "      <td>1442</td>\n",
       "      <td>606</td>\n",
       "      <td>0.003785</td>\n",
       "      <td>0.177856</td>\n",
       "      <td>1322</td>\n",
       "      <td>2</td>\n",
       "      <td>170</td>\n",
       "    </tr>\n",
       "    <tr>\n",
       "      <th>...</th>\n",
       "      <td>...</td>\n",
       "      <td>...</td>\n",
       "      <td>...</td>\n",
       "      <td>...</td>\n",
       "      <td>...</td>\n",
       "      <td>...</td>\n",
       "      <td>...</td>\n",
       "    </tr>\n",
       "    <tr>\n",
       "      <th>1775</th>\n",
       "      <td>9533</td>\n",
       "      <td>448</td>\n",
       "      <td>0.000000</td>\n",
       "      <td>0.000000</td>\n",
       "      <td>0</td>\n",
       "      <td>125</td>\n",
       "      <td>0</td>\n",
       "    </tr>\n",
       "    <tr>\n",
       "      <th>1776</th>\n",
       "      <td>9533</td>\n",
       "      <td>380</td>\n",
       "      <td>0.000000</td>\n",
       "      <td>0.000000</td>\n",
       "      <td>0</td>\n",
       "      <td>351</td>\n",
       "      <td>0</td>\n",
       "    </tr>\n",
       "    <tr>\n",
       "      <th>1777</th>\n",
       "      <td>9533</td>\n",
       "      <td>387</td>\n",
       "      <td>0.000000</td>\n",
       "      <td>0.000000</td>\n",
       "      <td>0</td>\n",
       "      <td>412</td>\n",
       "      <td>0</td>\n",
       "    </tr>\n",
       "    <tr>\n",
       "      <th>1778</th>\n",
       "      <td>9533</td>\n",
       "      <td>606</td>\n",
       "      <td>0.000077</td>\n",
       "      <td>0.000309</td>\n",
       "      <td>1408</td>\n",
       "      <td>507</td>\n",
       "      <td>7</td>\n",
       "    </tr>\n",
       "    <tr>\n",
       "      <th>1779</th>\n",
       "      <td>9533</td>\n",
       "      <td>249</td>\n",
       "      <td>0.000000</td>\n",
       "      <td>0.000000</td>\n",
       "      <td>0</td>\n",
       "      <td>85</td>\n",
       "      <td>0</td>\n",
       "    </tr>\n",
       "  </tbody>\n",
       "</table>\n",
       "<p>1780 rows × 7 columns</p>\n",
       "</div>"
      ],
      "text/plain": [
       "        ts  user  feature_loss  prediction_loss  staleness  past_updates  \\\n",
       "0     1442   606      0.003785         0.177856       1322             2   \n",
       "1      625   606      0.000011         0.000053          3             2   \n",
       "2      623   606      0.000011         0.000053          3             2   \n",
       "3      607   606      0.000011         0.000053          3             2   \n",
       "4     1442   606      0.003785         0.177856       1322             2   \n",
       "...    ...   ...           ...              ...        ...           ...   \n",
       "1775  9533   448      0.000000         0.000000          0           125   \n",
       "1776  9533   380      0.000000         0.000000          0           351   \n",
       "1777  9533   387      0.000000         0.000000          0           412   \n",
       "1778  9533   606      0.000077         0.000309       1408           507   \n",
       "1779  9533   249      0.000000         0.000000          0            85   \n",
       "\n",
       "      pending_updates  \n",
       "0                 170  \n",
       "1                   6  \n",
       "2                   6  \n",
       "3                   6  \n",
       "4                 170  \n",
       "...               ...  \n",
       "1775                0  \n",
       "1776                0  \n",
       "1777                0  \n",
       "1778                7  \n",
       "1779                0  \n",
       "\n",
       "[1780 rows x 7 columns]"
      ]
     },
     "execution_count": 310,
     "metadata": {},
     "output_type": "execute_result"
    }
   ],
   "source": [
    "data_df"
   ]
  },
  {
   "cell_type": "markdown",
   "id": "d362f99e",
   "metadata": {},
   "source": [
    "# Attempt to Model Loss"
   ]
  },
  {
   "cell_type": "code",
   "execution_count": 311,
   "id": "1f262df9",
   "metadata": {},
   "outputs": [
    {
     "data": {
      "text/plain": [
       "<AxesSubplot:xlabel='ts'>"
      ]
     },
     "execution_count": 311,
     "metadata": {},
     "output_type": "execute_result"
    },
    {
     "data": {
      "image/png": "[encoded data removed]",
      "text/plain": [
       "<Figure size 432x288 with 1 Axes>"
      ]
     },
     "metadata": {
      "needs_background": "light"
     },
     "output_type": "display_data"
    }
   ],
   "source": [
    "data_df.groupby(\"ts\").feature_loss.mean().plot()"
   ]
  },
  {
   "cell_type": "code",
   "execution_count": 312,
   "id": "cd622ed2",
   "metadata": {},
   "outputs": [
    {
     "data": {
      "text/plain": [
       "<AxesSubplot:xlabel='ts'>"
      ]
     },
     "execution_count": 312,
     "metadata": {},
     "output_type": "execute_result"
    },
    {
     "data": {
      "image/png": "[encoded data removed]",
      "text/plain": [
       "<Figure size 432x288 with 1 Axes>"
      ]
     },
     "metadata": {
      "needs_background": "light"
     },
     "output_type": "display_data"
    }
   ],
   "source": [
    "data_df.groupby(\"ts\").prediction_loss.mean().plot()"
   ]
  },
  {
   "cell_type": "code",
   "execution_count": 313,
   "id": "dd5d52e4",
   "metadata": {},
   "outputs": [
    {
     "data": {
      "text/plain": [
       "<AxesSubplot:>"
      ]
     },
     "execution_count": 313,
     "metadata": {},
     "output_type": "execute_result"
    },
    {
     "data": {
      "image/png": "[encoded data removed]",
      "text/plain": [
       "<Figure size 432x288 with 1 Axes>"
      ]
     },
     "metadata": {
      "needs_background": "light"
     },
     "output_type": "display_data"
    }
   ],
   "source": [
    "data_df[[\"staleness\", \"prediction_loss\"]].plot()"
   ]
  },
  {
   "cell_type": "code",
   "execution_count": 314,
   "id": "d84c6bf7",
   "metadata": {},
   "outputs": [
    {
     "data": {
      "text/plain": [
       "<AxesSubplot:>"
      ]
     },
     "execution_count": 314,
     "metadata": {},
     "output_type": "execute_result"
    },
    {
     "data": {
      "image/png": "[encoded data removed]",
      "text/plain": [
       "<Figure size 432x288 with 1 Axes>"
      ]
     },
     "metadata": {
      "needs_background": "light"
     },
     "output_type": "display_data"
    }
   ],
   "source": [
    "data_df.staleness.plot()"
   ]
  },
  {
   "cell_type": "code",
   "execution_count": null,
   "id": "8362e0f2",
   "metadata": {},
   "outputs": [],
   "source": [
    "from sklearn.model_selection import train_test_split"
   ]
  },
  {
   "cell_type": "code",
   "execution_count": 315,
   "id": "024f479c",
   "metadata": {},
   "outputs": [],
   "source": [
    "from sklearn.metrics import mean_squared_error"
   ]
  },
  {
   "cell_type": "code",
   "execution_count": 316,
   "id": "24ece631",
   "metadata": {},
   "outputs": [
    {
     "data": {
      "text/plain": [
       "0.0007864545900573374"
      ]
     },
     "execution_count": 316,
     "metadata": {},
     "output_type": "execute_result"
    }
   ],
   "source": [
    "mean_squared_error(oracle_feature, feature)"
   ]
  },
  {
   "cell_type": "code",
   "execution_count": 325,
   "id": "01bc8d07",
   "metadata": {},
   "outputs": [],
   "source": [
    "from sklearn.linear_model import LinearRegression, SGDRegressor\n",
    "from sklearn.ensemble import RandomForestRegressor\n",
    "from sklearn.datasets import make_regression\n",
    "from sklearn.model_selection import train_test_split"
   ]
  },
  {
   "cell_type": "code",
   "execution_count": 330,
   "id": "879e1eb9",
   "metadata": {},
   "outputs": [],
   "source": [
    "x = data_df[[\"staleness\", \"past_updates\", \"pending_updates\"]].to_numpy()\n",
    "y = data_df[\"prediction_loss\"].to_numpy()"
   ]
  },
  {
   "cell_type": "code",
   "execution_count": 326,
   "id": "690563c5",
   "metadata": {},
   "outputs": [],
   "source": [
    "X_train, X_test, y_train, y_test = train_test_split(x, y, test_size=0.33, random_state=42)"
   ]
  },
  {
   "cell_type": "code",
   "execution_count": 327,
   "id": "5cf70abb",
   "metadata": {},
   "outputs": [
    {
     "data": {
      "text/plain": [
       "RandomForestRegressor(random_state=0)"
      ]
     },
     "execution_count": 327,
     "metadata": {},
     "output_type": "execute_result"
    }
   ],
   "source": [
    "regr = RandomForestRegressor(random_state=0)\n",
    "regr.fit(X_train, y_train)"
   ]
  },
  {
   "cell_type": "code",
   "execution_count": 328,
   "id": "5e4792af",
   "metadata": {},
   "outputs": [
    {
     "name": "stdout",
     "output_type": "stream",
     "text": [
      "1.1604296106327372e-05\n",
      "8.089973981076744e-05\n"
     ]
    }
   ],
   "source": [
    "train_err = mean_squared_error(regr.predict(X_train), y_train)\n",
    "print(train_err)\n",
    "test_err = mean_squared_error(regr.predict(X_test), y_test)\n",
    "print(test_err)"
   ]
  },
  {
   "cell_type": "code",
   "execution_count": 335,
   "id": "9217f0c2",
   "metadata": {},
   "outputs": [],
   "source": [
    "pickle.dump(regr, open(f\"{dataset_dir}/random_forest_model\", \"wb\"))"
   ]
  },
  {
   "cell_type": "code",
   "execution_count": 331,
   "id": "b6758a97",
   "metadata": {},
   "outputs": [],
   "source": [
    "clf = SGDRegressor().fit(X_train, y_train)"
   ]
  },
  {
   "cell_type": "code",
   "execution_count": 332,
   "id": "de84c2de",
   "metadata": {},
   "outputs": [
    {
     "name": "stdout",
     "output_type": "stream",
     "text": [
      "1.0662132552659519e+29\n",
      "1.0047951994562867e+29\n"
     ]
    }
   ],
   "source": [
    "train_err = mean_squared_error(clf.predict(X_train), y_train)\n",
    "print(train_err)\n",
    "test_err = mean_squared_error(clf.predict(X_test), y_test)\n",
    "print(test_err)"
   ]
  },
  {
   "cell_type": "code",
   "execution_count": 284,
   "id": "3ca49fc3",
   "metadata": {},
   "outputs": [
    {
     "ename": "TypeError",
     "evalue": "predict() missing 1 required positional argument: 'X'",
     "output_type": "error",
     "traceback": [
      "\u001b[0;31m---------------------------------------------------------------------------\u001b[0m",
      "\u001b[0;31mTypeError\u001b[0m                                 Traceback (most recent call last)",
      "\u001b[0;32m<ipython-input-284-5f00151abcfc>\u001b[0m in \u001b[0;36m<module>\u001b[0;34m\u001b[0m\n\u001b[0;32m----> 1\u001b[0;31m \u001b[0mclf\u001b[0m\u001b[0;34m.\u001b[0m\u001b[0mpredict\u001b[0m\u001b[0;34m(\u001b[0m\u001b[0;34m)\u001b[0m\u001b[0;34m\u001b[0m\u001b[0;34m\u001b[0m\u001b[0m\n\u001b[0m",
      "\u001b[0;31mTypeError\u001b[0m: predict() missing 1 required positional argument: 'X'"
     ]
    }
   ],
   "source": [
    "clf.predict()"
   ]
  },
  {
   "cell_type": "code",
   "execution_count": 285,
   "id": "d4a4904d",
   "metadata": {},
   "outputs": [
    {
     "data": {
      "text/plain": [
       "4.7943274590540256e+26"
      ]
     },
     "execution_count": 285,
     "metadata": {},
     "output_type": "execute_result"
    }
   ],
   "source": [
    "x = data_df[[\"staleness\", \"past_updates\"]].to_numpy()\n",
    "y = data_df[\"prediction_loss\"].to_numpy()\n",
    "\n",
    "clf = SGDRegressor().fit(x, y)\n",
    "train_err = mean_squared_error(clf.predict(x), y)\n",
    "train_err"
   ]
  },
  {
   "cell_type": "code",
   "execution_count": 225,
   "id": "dbfaceb2",
   "metadata": {},
   "outputs": [
    {
     "data": {
      "text/plain": [
       "0.003199790139035662"
      ]
     },
     "execution_count": 225,
     "metadata": {},
     "output_type": "execute_result"
    }
   ],
   "source": [
    "x = data_df[[\"staleness\"]].to_numpy()\n",
    "y = data_df[\"prediction_loss\"].to_numpy()\n",
    "\n",
    "#clf = SGDRegressor(loss=\"huber\").fit(x, y)\n",
    "clf = SGDRegressor(loss=\"huber\").fit(x, y)\n",
    "train_err = mean_squared_error(clf.predict(x), y)\n",
    "train_err"
   ]
  },
  {
   "cell_type": "code",
   "execution_count": 333,
   "id": "28974560",
   "metadata": {},
   "outputs": [
    {
     "data": {
      "text/plain": [
       "0.0025845530474632207"
      ]
     },
     "execution_count": 333,
     "metadata": {},
     "output_type": "execute_result"
    }
   ],
   "source": [
    "train_err = mean_squared_error([y.mean()]*y.shape[0], y)\n",
    "train_err"
   ]
  },
  {
   "cell_type": "code",
   "execution_count": 78,
   "id": "7d50772d",
   "metadata": {},
   "outputs": [],
   "source": [
    "oracle_pred = [np.dot(np.array(oracle_feature), movie_matrix[mid]) for mid in range(movie_matrix.shape[0])]\n",
    "pred = [np.dot(np.array(feature), movie_matrix[mid]) for mid in range(movie_matrix.shape[0])]"
   ]
  },
  {
   "cell_type": "code",
   "execution_count": 79,
   "id": "43b2e68c",
   "metadata": {},
   "outputs": [
    {
     "data": {
      "text/plain": [
       "0.026040872747266245"
      ]
     },
     "execution_count": 79,
     "metadata": {},
     "output_type": "execute_result"
    }
   ],
   "source": [
    "mean_squared_error(oracle_pred, pred)"
   ]
  },
  {
   "cell_type": "code",
   "execution_count": 338,
   "id": "3a02ff76",
   "metadata": {},
   "outputs": [
    {
     "data": {
      "image/png": "[encoded data removed]",
      "text/plain": [
       "<Figure size 432x288 with 1 Axes>"
      ]
     },
     "metadata": {
      "needs_background": "light"
     },
     "output_type": "display_data"
    }
   ],
   "source": [
    "import matplotlib.pyplot as plt\n",
    "\n",
    "plt.scatter(data_df[\"staleness\"].tolist(), data_df[\"prediction_loss\"].tolist(), c =\"red\", label=f\"key={key}\")\n",
    "\n",
    "plt.legend()\n",
    "# To show the plot\n",
    "plt.title(\"Error versus Staleness\")\n",
    "plt.ylabel(\"Predicted Error\")\n",
    "plt.xlabel(\"Staleness (s)\")\n",
    "plt.show()"
   ]
  },
  {
   "cell_type": "code",
   "execution_count": 339,
   "id": "3fc01686",
   "metadata": {},
   "outputs": [
    {
     "data": {
      "image/png": "[encoded data removed]",
      "text/plain": [
       "<Figure size 432x288 with 1 Axes>"
      ]
     },
     "metadata": {
      "needs_background": "light"
     },
     "output_type": "display_data"
    }
   ],
   "source": [
    "plt.scatter(data_df[\"past_updates\"].tolist(), data_df[\"prediction_loss\"].tolist(), c =\"red\", label=f\"key={key}\")\n",
    "\n",
    "plt.legend()\n",
    "# To show the plot\n",
    "plt.title(\"Error versus Staleness\")\n",
    "plt.ylabel(\"Predicted Error\")\n",
    "plt.xlabel(\"Staleness (s)\")\n",
    "plt.show()"
   ]
  },
  {
   "cell_type": "code",
   "execution_count": 340,
   "id": "4bced7b0",
   "metadata": {},
   "outputs": [
    {
     "data": {
      "image/png": "[encoded data removed]",
      "text/plain": [
       "<Figure size 432x288 with 1 Axes>"
      ]
     },
     "metadata": {
      "needs_background": "light"
     },
     "output_type": "display_data"
    }
   ],
   "source": [
    "plt.scatter(data_df[\"pending_updates\"].tolist(), data_df[\"prediction_loss\"].tolist(), c =\"red\", label=f\"key={key}\")\n",
    "\n",
    "plt.legend()\n",
    "# To show the plot\n",
    "plt.title(\"Error versus Staleness\")\n",
    "plt.ylabel(\"Predicted Error\")\n",
    "plt.xlabel(\"Staleness (s)\")\n",
    "plt.show()"
   ]
  },
  {
   "cell_type": "code",
   "execution_count": null,
   "id": "23e6f421",
   "metadata": {},
   "outputs": [],
   "source": []
  }
 ],
 "metadata": {
  "kernelspec": {
   "display_name": "Python 3",
   "language": "python",
   "name": "python3"
  },
  "language_info": {
   "codemirror_mode": {
    "name": "ipython",
    "version": 3
   },
   "file_extension": ".py",
   "mimetype": "text/x-python",
   "name": "python",
   "nbconvert_exporter": "python",
   "pygments_lexer": "ipython3",
   "version": "3.8.8"
  }
 },
 "nbformat": 4,
 "nbformat_minor": 5
}
