{
 "cells": [
  {
   "cell_type": "code",
   "execution_count": 341,
   "id": "76280a07",
   "metadata": {},
   "outputs": [
    {
     "name": "stdout",
     "output_type": "stream",
     "text": [
      "The autoreload extension is already loaded. To reload it, use:\n",
      "  %reload_ext autoreload\n"
     ]
    }
   ],
   "source": [
    "import pandas as pd\n",
    "import numpy as np\n",
    "import matplotlib.pyplot as plt\n",
    "from sklearn.metrics import mean_squared_error\n",
    "import time\n",
    "\n",
    "from pyspark.sql import SparkSession\n",
    "from pyspark.ml.evaluation import RegressionEvaluator\n",
    "from pyspark.ml.recommendation import ALS\n",
    "\n",
    "import ast\n",
    "import os\n",
    "import pickle\n",
    "import json\n",
    "\n",
    "\n",
    "from pprint import pprint\n",
    "\n",
    "import sys \n",
    "sys.path.insert(1, \"../\")\n",
    "from workloads.util import use_results, use_dataset, read_config, log_dataset, join_queries_features\n",
    "from workloads.recsys.recsys_util import get_features, get_feature_update, predict_rating\n",
    "\n",
    "%load_ext autoreload\n",
    "%autoreload 2"
   ]
  },
  {
   "cell_type": "code",
   "execution_count": 1057,
   "id": "839df017",
   "metadata": {},
   "outputs": [
    {
     "name": "stdout",
     "output_type": "stream",
     "text": [
      "/data/wooders/ralf-vldb//datasets/ml-latest-small\n"
     ]
    }
   ],
   "source": [
    "dataset_dir = use_dataset(\"ml-latest-small\")\n",
    "results_dir = use_results(\"ml-latest-small\")\n",
    "#experiment = \"results_workers_user_32_fifo_learningrate_0.02_userfeaturereg_0.01_sleep_0.001\"\n",
    "\n",
    "experiment = \"results_user_workers_1_random_learningrate_0.02_userfeaturereg_0.01_sleep_0.001\""
   ]
  },
  {
   "cell_type": "markdown",
   "id": "3efdbd01",
   "metadata": {},
   "source": [
    "## Read Experiment Results"
   ]
  },
  {
   "cell_type": "code",
   "execution_count": 1058,
   "id": "f0bb2ded",
   "metadata": {},
   "outputs": [],
   "source": [
    "events_df = pd.read_csv(f'{dataset_dir}/test.csv')"
   ]
  },
  {
   "cell_type": "code",
   "execution_count": 1059,
   "id": "9b6e7668",
   "metadata": {},
   "outputs": [],
   "source": [
    "results_df = pd.read_csv(f'{results_dir}/{experiment}.csv')\n",
    "timestamp_df = pd.read_csv(f'{results_dir}/timestamps/{experiment}.csv').set_index(\"timestamp_ms\")"
   ]
  },
  {
   "cell_type": "code",
   "execution_count": 1060,
   "id": "a37ce817",
   "metadata": {},
   "outputs": [
    {
     "data": {
      "text/html": [
       "<div>\n",
       "<style scoped>\n",
       "    .dataframe tbody tr th:only-of-type {\n",
       "        vertical-align: middle;\n",
       "    }\n",
       "\n",
       "    .dataframe tbody tr th {\n",
       "        vertical-align: top;\n",
       "    }\n",
       "\n",
       "    .dataframe thead th {\n",
       "        text-align: right;\n",
       "    }\n",
       "</style>\n",
       "<table border=\"1\" class=\"dataframe\">\n",
       "  <thead>\n",
       "    <tr style=\"text-align: right;\">\n",
       "      <th></th>\n",
       "      <th>user_id</th>\n",
       "      <th>user_features</th>\n",
       "      <th>ingest_time</th>\n",
       "      <th>timestamp</th>\n",
       "      <th>processing_time</th>\n",
       "      <th>runtime</th>\n",
       "    </tr>\n",
       "  </thead>\n",
       "  <tbody>\n",
       "    <tr>\n",
       "      <th>0</th>\n",
       "      <td>45</td>\n",
       "      <td>[0.08245328466150217, 0.008904671218049132, 0....</td>\n",
       "      <td>1.646088e+09</td>\n",
       "      <td>81</td>\n",
       "      <td>1.646088e+09</td>\n",
       "      <td>1.127252</td>\n",
       "    </tr>\n",
       "    <tr>\n",
       "      <th>1</th>\n",
       "      <td>199</td>\n",
       "      <td>[0.1694399605046079, 0.06444689323045857, 0.07...</td>\n",
       "      <td>1.646088e+09</td>\n",
       "      <td>99</td>\n",
       "      <td>1.646088e+09</td>\n",
       "      <td>0.328351</td>\n",
       "    </tr>\n",
       "    <tr>\n",
       "      <th>2</th>\n",
       "      <td>438</td>\n",
       "      <td>[-0.004985034734766194, 0.16579137949253683, 0...</td>\n",
       "      <td>1.646088e+09</td>\n",
       "      <td>225</td>\n",
       "      <td>1.646088e+09</td>\n",
       "      <td>0.322950</td>\n",
       "    </tr>\n",
       "    <tr>\n",
       "      <th>3</th>\n",
       "      <td>599</td>\n",
       "      <td>[0.14095855890731415, 0.054864847826012, -0.01...</td>\n",
       "      <td>1.646088e+09</td>\n",
       "      <td>697</td>\n",
       "      <td>1.646088e+09</td>\n",
       "      <td>0.318354</td>\n",
       "    </tr>\n",
       "    <tr>\n",
       "      <th>4</th>\n",
       "      <td>109</td>\n",
       "      <td>[0.043597819015079475, 0.05078434367527026, 0....</td>\n",
       "      <td>1.646088e+09</td>\n",
       "      <td>458</td>\n",
       "      <td>1.646088e+09</td>\n",
       "      <td>0.310438</td>\n",
       "    </tr>\n",
       "    <tr>\n",
       "      <th>...</th>\n",
       "      <td>...</td>\n",
       "      <td>...</td>\n",
       "      <td>...</td>\n",
       "      <td>...</td>\n",
       "      <td>...</td>\n",
       "      <td>...</td>\n",
       "    </tr>\n",
       "    <tr>\n",
       "      <th>268</th>\n",
       "      <td>484</td>\n",
       "      <td>[0.0070248142828930275, 0.04898516396637008, 0...</td>\n",
       "      <td>1.646088e+09</td>\n",
       "      <td>7550</td>\n",
       "      <td>1.646088e+09</td>\n",
       "      <td>0.312712</td>\n",
       "    </tr>\n",
       "    <tr>\n",
       "      <th>269</th>\n",
       "      <td>11</td>\n",
       "      <td>[0.07368706662557355, 0.04044513785890738, 0.2...</td>\n",
       "      <td>1.646088e+09</td>\n",
       "      <td>33105</td>\n",
       "      <td>1.646088e+09</td>\n",
       "      <td>0.312297</td>\n",
       "    </tr>\n",
       "    <tr>\n",
       "      <th>270</th>\n",
       "      <td>123</td>\n",
       "      <td>[0.12139669712697888, 0.06590976631822042, 0.1...</td>\n",
       "      <td>1.646088e+09</td>\n",
       "      <td>15670</td>\n",
       "      <td>1.646088e+09</td>\n",
       "      <td>0.311566</td>\n",
       "    </tr>\n",
       "    <tr>\n",
       "      <th>271</th>\n",
       "      <td>199</td>\n",
       "      <td>[0.1838103146525551, 0.06129471548687382, 0.09...</td>\n",
       "      <td>1.646088e+09</td>\n",
       "      <td>33269</td>\n",
       "      <td>1.646088e+09</td>\n",
       "      <td>0.314605</td>\n",
       "    </tr>\n",
       "    <tr>\n",
       "      <th>272</th>\n",
       "      <td>489</td>\n",
       "      <td>[-0.010897539844473768, 0.024030879003195, 0.0...</td>\n",
       "      <td>1.646088e+09</td>\n",
       "      <td>31644</td>\n",
       "      <td>1.646088e+09</td>\n",
       "      <td>0.318193</td>\n",
       "    </tr>\n",
       "  </tbody>\n",
       "</table>\n",
       "<p>273 rows × 6 columns</p>\n",
       "</div>"
      ],
      "text/plain": [
       "     user_id                                      user_features   ingest_time  \\\n",
       "0         45  [0.08245328466150217, 0.008904671218049132, 0....  1.646088e+09   \n",
       "1        199  [0.1694399605046079, 0.06444689323045857, 0.07...  1.646088e+09   \n",
       "2        438  [-0.004985034734766194, 0.16579137949253683, 0...  1.646088e+09   \n",
       "3        599  [0.14095855890731415, 0.054864847826012, -0.01...  1.646088e+09   \n",
       "4        109  [0.043597819015079475, 0.05078434367527026, 0....  1.646088e+09   \n",
       "..       ...                                                ...           ...   \n",
       "268      484  [0.0070248142828930275, 0.04898516396637008, 0...  1.646088e+09   \n",
       "269       11  [0.07368706662557355, 0.04044513785890738, 0.2...  1.646088e+09   \n",
       "270      123  [0.12139669712697888, 0.06590976631822042, 0.1...  1.646088e+09   \n",
       "271      199  [0.1838103146525551, 0.06129471548687382, 0.09...  1.646088e+09   \n",
       "272      489  [-0.010897539844473768, 0.024030879003195, 0.0...  1.646088e+09   \n",
       "\n",
       "     timestamp  processing_time   runtime  \n",
       "0           81     1.646088e+09  1.127252  \n",
       "1           99     1.646088e+09  0.328351  \n",
       "2          225     1.646088e+09  0.322950  \n",
       "3          697     1.646088e+09  0.318354  \n",
       "4          458     1.646088e+09  0.310438  \n",
       "..         ...              ...       ...  \n",
       "268       7550     1.646088e+09  0.312712  \n",
       "269      33105     1.646088e+09  0.312297  \n",
       "270      15670     1.646088e+09  0.311566  \n",
       "271      33269     1.646088e+09  0.314605  \n",
       "272      31644     1.646088e+09  0.318193  \n",
       "\n",
       "[273 rows x 6 columns]"
      ]
     },
     "execution_count": 1060,
     "metadata": {},
     "output_type": "execute_result"
    }
   ],
   "source": [
    "results_df"
   ]
  },
  {
   "cell_type": "code",
   "execution_count": 1061,
   "id": "31d5aff8",
   "metadata": {},
   "outputs": [
    {
     "data": {
      "text/html": [
       "<div>\n",
       "<style scoped>\n",
       "    .dataframe tbody tr th:only-of-type {\n",
       "        vertical-align: middle;\n",
       "    }\n",
       "\n",
       "    .dataframe tbody tr th {\n",
       "        vertical-align: top;\n",
       "    }\n",
       "\n",
       "    .dataframe thead th {\n",
       "        text-align: right;\n",
       "    }\n",
       "</style>\n",
       "<table border=\"1\" class=\"dataframe\">\n",
       "  <thead>\n",
       "    <tr style=\"text-align: right;\">\n",
       "      <th></th>\n",
       "      <th>timestamp</th>\n",
       "    </tr>\n",
       "    <tr>\n",
       "      <th>timestamp_ms</th>\n",
       "      <th></th>\n",
       "    </tr>\n",
       "  </thead>\n",
       "  <tbody>\n",
       "    <tr>\n",
       "      <th>81</th>\n",
       "      <td>1.646088e+09</td>\n",
       "    </tr>\n",
       "    <tr>\n",
       "      <th>82</th>\n",
       "      <td>1.646088e+09</td>\n",
       "    </tr>\n",
       "    <tr>\n",
       "      <th>83</th>\n",
       "      <td>1.646088e+09</td>\n",
       "    </tr>\n",
       "    <tr>\n",
       "      <th>84</th>\n",
       "      <td>1.646088e+09</td>\n",
       "    </tr>\n",
       "    <tr>\n",
       "      <th>85</th>\n",
       "      <td>1.646088e+09</td>\n",
       "    </tr>\n",
       "    <tr>\n",
       "      <th>...</th>\n",
       "      <td>...</td>\n",
       "    </tr>\n",
       "    <tr>\n",
       "      <th>39995</th>\n",
       "      <td>1.646088e+09</td>\n",
       "    </tr>\n",
       "    <tr>\n",
       "      <th>39996</th>\n",
       "      <td>1.646088e+09</td>\n",
       "    </tr>\n",
       "    <tr>\n",
       "      <th>39997</th>\n",
       "      <td>1.646088e+09</td>\n",
       "    </tr>\n",
       "    <tr>\n",
       "      <th>39998</th>\n",
       "      <td>1.646088e+09</td>\n",
       "    </tr>\n",
       "    <tr>\n",
       "      <th>39999</th>\n",
       "      <td>1.646088e+09</td>\n",
       "    </tr>\n",
       "  </tbody>\n",
       "</table>\n",
       "<p>39919 rows × 1 columns</p>\n",
       "</div>"
      ],
      "text/plain": [
       "                 timestamp\n",
       "timestamp_ms              \n",
       "81            1.646088e+09\n",
       "82            1.646088e+09\n",
       "83            1.646088e+09\n",
       "84            1.646088e+09\n",
       "85            1.646088e+09\n",
       "...                    ...\n",
       "39995         1.646088e+09\n",
       "39996         1.646088e+09\n",
       "39997         1.646088e+09\n",
       "39998         1.646088e+09\n",
       "39999         1.646088e+09\n",
       "\n",
       "[39919 rows x 1 columns]"
      ]
     },
     "execution_count": 1061,
     "metadata": {},
     "output_type": "execute_result"
    }
   ],
   "source": [
    "timestamp_df"
   ]
  },
  {
   "cell_type": "markdown",
   "id": "1c45fa38",
   "metadata": {},
   "source": [
    "## Read oracles \n",
    "(Trained with data up until last timestep for 10 iterations)"
   ]
  },
  {
   "cell_type": "code",
   "execution_count": 1024,
   "id": "4c9ba4bf",
   "metadata": {},
   "outputs": [],
   "source": [
    "oracle_user_matrix = pickle.load(open(f\"{results_dir}/oracle_models/user_matrix_5665418.pkl\", \"rb\")).cpu().detach().numpy()\n",
    "oracle_movie_matrix = pickle.load(open(f\"{results_dir}/oracle_models/movie_matrix_5665418.pkl\", \"rb\")).cpu().detach().numpy()"
   ]
  },
  {
   "cell_type": "markdown",
   "id": "bfe6b0d9",
   "metadata": {},
   "source": [
    "## Read Dataset "
   ]
  },
  {
   "cell_type": "code",
   "execution_count": 1025,
   "id": "ddc53382",
   "metadata": {},
   "outputs": [],
   "source": [
    "movie_to_index = json.load(open(f\"{dataset_dir}/movie_to_index.json\", \"r\"))\n",
    "user_to_index = json.load(open(f\"{dataset_dir}/user_to_index.json\", \"r\"))\n",
    "user_matrix = pickle.load(open(f\"{dataset_dir}/user_matrix.pkl\", \"rb\"))\n",
    "movie_matrix = pickle.load(open(f\"{dataset_dir}/movie_matrix.pkl\", \"rb\"))\n",
    "A = pickle.load(open(f\"{dataset_dir}/A.pkl\", \"rb\"))\n",
    "R = pickle.load(open(f\"{dataset_dir}/R.pkl\", \"rb\"))"
   ]
  },
  {
   "cell_type": "markdown",
   "id": "85babce1",
   "metadata": {},
   "source": [
    "## Evaluate Experiment Features "
   ]
  },
  {
   "cell_type": "code",
   "execution_count": 1026,
   "id": "8aa42cde",
   "metadata": {},
   "outputs": [],
   "source": [
    "def updated_embedding(df, ui): \n",
    "    \n",
    "    # calculate embedding from dataframe of updates form a single user\n",
    "\n",
    "    ui = user_to_index[str(ui)]\n",
    "    streaming_user_matrix = np.array(user_matrix, copy=True) \n",
    "    A_matrix = np.array(A, copy=True)\n",
    "    R_matrix = np.array(R, copy=True)\n",
    "    user_feature_reg = 10\n",
    "\n",
    "    for index, row in df.iterrows():\n",
    "        ui = user_to_index[str(int(row[\"user_id\"]))]\n",
    "        mi = movie_to_index[str(int(row[\"movie_id\"]))]\n",
    "        A_matrix[ui][mi] = row[\"rating\"]\n",
    "        R_matrix[ui][mi] = 1\n",
    "        \n",
    "    Ri = R_matrix[ui]\n",
    "    n_factors = len(user_matrix[ui])\n",
    "\n",
    "    return np.linalg.solve(\n",
    "        np.dot(movie_matrix.T, np.dot(np.diag(Ri), movie_matrix)) + user_feature_reg * np.eye(n_factors),\n",
    "        np.dot(movie_matrix.T, np.dot(np.diag(Ri), A_matrix[ui].T))\n",
    "    ).T"
   ]
  },
  {
   "cell_type": "code",
   "execution_count": 1027,
   "id": "be21323c",
   "metadata": {},
   "outputs": [],
   "source": [
    "# map real timestamps \n",
    "\n",
    "ts_to_time = {}\n",
    "\n",
    "for index, row in results_df.iterrows(): \n",
    "    if row[\"timestamp\"] not in ts_to_time: \n",
    "        ts_to_time[row[\"timestamp\"]] = row[\"ingest_time\"]"
   ]
  },
  {
   "cell_type": "code",
   "execution_count": 1028,
   "id": "40301bd8",
   "metadata": {},
   "outputs": [],
   "source": [
    "cache = {}"
   ]
  },
  {
   "cell_type": "code",
   "execution_count": 1075,
   "id": "43fb68c4",
   "metadata": {},
   "outputs": [],
   "source": [
    "def evaluate_user(user, ts):\n",
    "    \n",
    "#     # oracle feature \n",
    "#     user_df = events_df[(events_df[\"user_id\"] == user) & (events_df[\"timestamp\"] < ts)]\n",
    "    \n",
    "#     if f\"{user}_{ts}\" in cache: \n",
    "#         oracle_feature = cache[f\"{user}_{ts}\"]\n",
    "#     else:\n",
    "#         oracle_feature = updated_embedding(user_df, user).tolist()\n",
    "#         cache[f\"{user}_{ts}\"] = oracle_feature\n",
    "\n",
    "    \n",
    "    ui = user_to_index[str(user)]\n",
    "    oracle_feature = oracle_user_matrix[ui]\n",
    "    \n",
    "    processing_time = timestamp_df.loc[ts].timestamp\n",
    "    #print(processing_time)\n",
    "    # actual feature \n",
    "    update_df = results_df[(results_df[\"user_id\"] == user) & (results_df[\"processing_time\"] <= processing_time)]\n",
    "    update_ts = update_df.timestamp.max() \n",
    "    \n",
    "    processed_df = events_df[(events_df[\"user_id\"] == user) & (events_df[\"timestamp\"] <= update_ts)]\n",
    "    total_df = events_df[(events_df[\"user_id\"] == user) & (events_df[\"timestamp\"] <= ts)]\n",
    "    \n",
    "\n",
    "    if len(update_df.index) == 0:\n",
    "        #print(\"no updates\", user, ts)\n",
    "        #print(\"no updates\", user)\n",
    "        return None\n",
    "    \n",
    "    #print(\"feature ts\", update_ts, \"limit\", total_df.timestamp.max(), \"query\", ts)\n",
    "    #print(update_ts, processed_df.timestamp.max())\n",
    "    #print(ts_to_time[update_ts] - ts_to_time[feature_ts])\n",
    "    \n",
    "    feature = ast.literal_eval(update_df.user_features.tolist()[-1])\n",
    "    \n",
    "    # metrics \n",
    "    staleness = timestamp_df.loc[total_df.timestamp.max()].timestamp - timestamp_df.loc[update_ts].timestamp\n",
    "    past_updates = len(processed_df.index)\n",
    "    pending_updates = len(total_df.index) - past_updates\n",
    "    \n",
    "    \n",
    "    # loss between features \n",
    "    feature_loss = mean_squared_error(oracle_feature, feature)\n",
    "    \n",
    "    # loss between predictions with features (better metric)\n",
    "    oracle_pred = [np.dot(np.array(oracle_feature), movie_matrix[mid]) for mid in range(movie_matrix.shape[0])]\n",
    "    pred = [np.dot(np.array(feature), movie_matrix[mid]) for mid in range(movie_matrix.shape[0])]\n",
    "    print(len(pred), pred[0])\n",
    "    prediction_loss = mean_squared_error(oracle_pred, pred)\n",
    "    \n",
    "    return {\"ts\": ts, \"user\": user, \"feature_loss\": feature_loss, \"prediction_loss\": prediction_loss, \"staleness\": staleness, \"past_updates\": past_updates, \"pending_updates\": pending_updates}"
   ]
  },
  {
   "cell_type": "code",
   "execution_count": 1076,
   "id": "1f8297a6",
   "metadata": {},
   "outputs": [],
   "source": [
    "from tqdm import tqdm "
   ]
  },
  {
   "cell_type": "code",
   "execution_count": 1077,
   "id": "81d4f00c",
   "metadata": {},
   "outputs": [],
   "source": [
    "data = []"
   ]
  },
  {
   "cell_type": "code",
   "execution_count": 1078,
   "id": "5436cc25",
   "metadata": {},
   "outputs": [
    {
     "name": "stderr",
     "output_type": "stream",
     "text": [
      " 40%|████      | 4/10 [00:02<00:03,  1.78it/s]"
     ]
    },
    {
     "name": "stdout",
     "output_type": "stream",
     "text": [
      "5880 4.118331485196947\n"
     ]
    },
    {
     "name": "stderr",
     "output_type": "stream",
     "text": [
      "\r",
      " 50%|█████     | 5/10 [00:02<00:02,  1.69it/s]"
     ]
    },
    {
     "name": "stdout",
     "output_type": "stream",
     "text": [
      "5880 3.251196086818482\n",
      "5880 4.247996406865601\n",
      "5880 4.118331485196947\n",
      "5880 3.345316828276098\n"
     ]
    },
    {
     "name": "stderr",
     "output_type": "stream",
     "text": [
      "\r",
      " 60%|██████    | 6/10 [00:03<00:02,  1.42it/s]"
     ]
    },
    {
     "name": "stdout",
     "output_type": "stream",
     "text": [
      "5880 3.5676360330683257\n",
      "5880 3.251196086818482\n",
      "5880 4.247996406865601\n",
      "5880 4.118331485196947\n",
      "5880 3.345316828276098\n",
      "5880 3.641977026832456\n",
      "5880 4.523009106222825\n",
      "5880 4.195981052501931\n",
      "5880 3.079324685823063\n",
      "5880 3.5676360330683257\n"
     ]
    },
    {
     "name": "stderr",
     "output_type": "stream",
     "text": [
      "\r",
      " 70%|███████   | 7/10 [00:05<00:02,  1.10it/s]"
     ]
    },
    {
     "name": "stdout",
     "output_type": "stream",
     "text": [
      "5880 3.6751507136876773\n",
      "5880 3.251196086818482\n",
      "5880 4.247996406865601\n",
      "5880 4.118331485196947\n",
      "5880 3.844251295023173\n",
      "5880 3.345316828276098\n",
      "5880 3.641977026832456\n",
      "5880 4.523009106222825\n",
      "5880 4.195981052501931\n",
      "5880 3.079324685823063\n",
      "5880 4.126457880138782\n",
      "5880 3.5676360330683257\n",
      "5880 3.9198373946190634\n"
     ]
    },
    {
     "name": "stderr",
     "output_type": "stream",
     "text": [
      "\r",
      " 80%|████████  | 8/10 [00:06<00:02,  1.14s/it]"
     ]
    },
    {
     "name": "stdout",
     "output_type": "stream",
     "text": [
      "5880 3.965557672029636\n",
      "5880 3.6751507136876773\n",
      "5880 3.332380274395363\n",
      "5880 4.280359318679932\n",
      "5880 3.443106761309907\n",
      "5880 3.085429396232091\n",
      "5880 3.6452862981897036\n",
      "5880 2.6181269635469744\n",
      "5880 4.092287588611592\n",
      "5880 3.50036279424081\n",
      "5880 4.247996406865601\n",
      "5880 4.04473986457293\n",
      "5880 4.118331485196947\n",
      "5880 3.8648149345389418\n",
      "5880 3.844251295023173\n",
      "5880 3.345316828276098\n",
      "5880 3.8867575625161095\n",
      "5880 4.260504319754768\n",
      "5880 4.084695266540103\n",
      "5880 3.9164707447404976\n",
      "5880 4.456801432629402\n",
      "5880 3.641977026832456\n",
      "5880 4.021033278546128\n",
      "5880 3.3045866281472036\n",
      "5880 3.1134114453411548\n",
      "5880 4.065273985723613\n",
      "5880 3.7199225755594734\n",
      "5880 4.650505321262963\n",
      "5880 3.319965895735515\n",
      "5880 3.619398312211965\n",
      "5880 2.8430058505471267\n",
      "5880 4.104381576155615\n",
      "5880 3.7717175355886234\n",
      "5880 4.34343249471967\n",
      "5880 3.4690915652688434\n",
      "5880 3.9828960609599733\n",
      "5880 3.8811222276283046\n",
      "5880 3.2179608588669764\n",
      "5880 4.409789921327247\n",
      "5880 3.9473841282311883\n",
      "5880 4.18129637943081\n",
      "5880 4.195981052501931\n",
      "5880 3.079324685823063\n",
      "5880 3.808656822938636\n",
      "5880 4.540509748870113\n",
      "5880 3.594372503820096\n",
      "5880 3.928050173254454\n",
      "5880 3.9484147748798306\n",
      "5880 3.9556435273605803\n",
      "5880 3.6553215469109652\n",
      "5880 4.092298988633134\n",
      "5880 4.250218064368406\n",
      "5880 4.302727324806071\n",
      "5880 3.664148598516583\n",
      "5880 4.021119915608985\n",
      "5880 4.269830855085355\n",
      "5880 4.1421399777066785\n",
      "5880 4.126457880138782\n",
      "5880 3.5676360330683257\n",
      "5880 3.9351022622935243\n",
      "5880 3.8028484080854383\n",
      "5880 3.979875215500955\n",
      "5880 3.7788342636703747\n",
      "5880 3.753948907378879\n",
      "5880 3.9198373946190634\n",
      "5880 3.8645153142517294\n",
      "5880 3.3697752462338015\n",
      "5880 4.049327795046315\n",
      "5880 3.4162546785090147\n",
      "5880 3.1696905627482495\n",
      "5880 3.965557672029636\n",
      "5880 3.1389543321778035\n",
      "5880 4.067803104982502\n",
      "5880 2.803590534374031\n",
      "5880 4.141170790949426\n",
      "5880 3.316621389531016\n",
      "5880 3.725154950960154\n"
     ]
    },
    {
     "name": "stderr",
     "output_type": "stream",
     "text": [
      "\r",
      " 90%|█████████ | 9/10 [00:13<00:02,  2.74s/it]"
     ]
    },
    {
     "name": "stdout",
     "output_type": "stream",
     "text": [
      "5880 3.6751507136876773\n",
      "5880 3.3328781696358494\n",
      "5880 4.280359318679932\n",
      "5880 3.443106761309907\n",
      "5880 4.017023289530522\n",
      "5880 3.085429396232091\n",
      "5880 3.6823973643474943\n",
      "5880 2.6181269635469744\n",
      "5880 3.175632779647457\n",
      "5880 4.092287588611592\n",
      "5880 4.032676361813321\n",
      "5880 2.901721942712191\n",
      "5880 4.140764861818471\n",
      "5880 3.50036279424081\n",
      "5880 4.247996406865601\n",
      "5880 4.04473986457293\n",
      "5880 3.3464147575139975\n",
      "5880 4.118331485196947\n"
     ]
    },
    {
     "name": "stderr",
     "output_type": "stream",
     "text": [
      " 90%|█████████ | 9/10 [00:14<00:01,  1.60s/it]\n"
     ]
    },
    {
     "ename": "KeyboardInterrupt",
     "evalue": "",
     "output_type": "error",
     "traceback": [
      "\u001b[0;31m---------------------------------------------------------------------------\u001b[0m",
      "\u001b[0;31mKeyboardInterrupt\u001b[0m                         Traceback (most recent call last)",
      "\u001b[0;32m<ipython-input-1078-6e15ee209271>\u001b[0m in \u001b[0;36m<module>\u001b[0;34m\u001b[0m\n\u001b[1;32m      3\u001b[0m     \u001b[0;32mfor\u001b[0m \u001b[0muser\u001b[0m \u001b[0;32min\u001b[0m \u001b[0mevents_df\u001b[0m\u001b[0;34m.\u001b[0m\u001b[0muser_id\u001b[0m\u001b[0;34m.\u001b[0m\u001b[0mvalue_counts\u001b[0m\u001b[0;34m(\u001b[0m\u001b[0;34m)\u001b[0m\u001b[0;34m.\u001b[0m\u001b[0mindex\u001b[0m\u001b[0;34m.\u001b[0m\u001b[0mtolist\u001b[0m\u001b[0;34m(\u001b[0m\u001b[0;34m)\u001b[0m\u001b[0;34m:\u001b[0m \u001b[0;31m#set(results_df.user_id.tolist()):\u001b[0m\u001b[0;34m\u001b[0m\u001b[0;34m\u001b[0m\u001b[0m\n\u001b[1;32m      4\u001b[0m     \u001b[0;31m#for user in [217]:\u001b[0m\u001b[0;34m\u001b[0m\u001b[0;34m\u001b[0m\u001b[0;34m\u001b[0m\u001b[0m\n\u001b[0;32m----> 5\u001b[0;31m         \u001b[0md\u001b[0m \u001b[0;34m=\u001b[0m \u001b[0mevaluate_user\u001b[0m\u001b[0;34m(\u001b[0m\u001b[0muser\u001b[0m\u001b[0;34m,\u001b[0m \u001b[0mts\u001b[0m\u001b[0;34m)\u001b[0m\u001b[0;34m\u001b[0m\u001b[0;34m\u001b[0m\u001b[0m\n\u001b[0m\u001b[1;32m      6\u001b[0m         \u001b[0;32mif\u001b[0m \u001b[0md\u001b[0m \u001b[0;32mis\u001b[0m \u001b[0;32mnot\u001b[0m \u001b[0;32mNone\u001b[0m\u001b[0;34m:\u001b[0m \u001b[0mdata\u001b[0m\u001b[0;34m.\u001b[0m\u001b[0mappend\u001b[0m\u001b[0;34m(\u001b[0m\u001b[0md\u001b[0m\u001b[0;34m)\u001b[0m\u001b[0;34m\u001b[0m\u001b[0;34m\u001b[0m\u001b[0m\n",
      "\u001b[0;32m<ipython-input-1075-220f7f385781>\u001b[0m in \u001b[0;36mevaluate_user\u001b[0;34m(user, ts)\u001b[0m\n\u001b[1;32m     46\u001b[0m     \u001b[0;31m# loss between predictions with features (better metric)\u001b[0m\u001b[0;34m\u001b[0m\u001b[0;34m\u001b[0m\u001b[0;34m\u001b[0m\u001b[0m\n\u001b[1;32m     47\u001b[0m     \u001b[0moracle_pred\u001b[0m \u001b[0;34m=\u001b[0m \u001b[0;34m[\u001b[0m\u001b[0mnp\u001b[0m\u001b[0;34m.\u001b[0m\u001b[0mdot\u001b[0m\u001b[0;34m(\u001b[0m\u001b[0mnp\u001b[0m\u001b[0;34m.\u001b[0m\u001b[0marray\u001b[0m\u001b[0;34m(\u001b[0m\u001b[0moracle_feature\u001b[0m\u001b[0;34m)\u001b[0m\u001b[0;34m,\u001b[0m \u001b[0mmovie_matrix\u001b[0m\u001b[0;34m[\u001b[0m\u001b[0mmid\u001b[0m\u001b[0;34m]\u001b[0m\u001b[0;34m)\u001b[0m \u001b[0;32mfor\u001b[0m \u001b[0mmid\u001b[0m \u001b[0;32min\u001b[0m \u001b[0mrange\u001b[0m\u001b[0;34m(\u001b[0m\u001b[0mmovie_matrix\u001b[0m\u001b[0;34m.\u001b[0m\u001b[0mshape\u001b[0m\u001b[0;34m[\u001b[0m\u001b[0;36m0\u001b[0m\u001b[0;34m]\u001b[0m\u001b[0;34m)\u001b[0m\u001b[0;34m]\u001b[0m\u001b[0;34m\u001b[0m\u001b[0;34m\u001b[0m\u001b[0m\n\u001b[0;32m---> 48\u001b[0;31m     \u001b[0mpred\u001b[0m \u001b[0;34m=\u001b[0m \u001b[0;34m[\u001b[0m\u001b[0mnp\u001b[0m\u001b[0;34m.\u001b[0m\u001b[0mdot\u001b[0m\u001b[0;34m(\u001b[0m\u001b[0mnp\u001b[0m\u001b[0;34m.\u001b[0m\u001b[0marray\u001b[0m\u001b[0;34m(\u001b[0m\u001b[0mfeature\u001b[0m\u001b[0;34m)\u001b[0m\u001b[0;34m,\u001b[0m \u001b[0mmovie_matrix\u001b[0m\u001b[0;34m[\u001b[0m\u001b[0mmid\u001b[0m\u001b[0;34m]\u001b[0m\u001b[0;34m)\u001b[0m \u001b[0;32mfor\u001b[0m \u001b[0mmid\u001b[0m \u001b[0;32min\u001b[0m \u001b[0mrange\u001b[0m\u001b[0;34m(\u001b[0m\u001b[0mmovie_matrix\u001b[0m\u001b[0;34m.\u001b[0m\u001b[0mshape\u001b[0m\u001b[0;34m[\u001b[0m\u001b[0;36m0\u001b[0m\u001b[0;34m]\u001b[0m\u001b[0;34m)\u001b[0m\u001b[0;34m]\u001b[0m\u001b[0;34m\u001b[0m\u001b[0;34m\u001b[0m\u001b[0m\n\u001b[0m\u001b[1;32m     49\u001b[0m     \u001b[0mprint\u001b[0m\u001b[0;34m(\u001b[0m\u001b[0mlen\u001b[0m\u001b[0;34m(\u001b[0m\u001b[0mpred\u001b[0m\u001b[0;34m)\u001b[0m\u001b[0;34m,\u001b[0m \u001b[0mpred\u001b[0m\u001b[0;34m[\u001b[0m\u001b[0;36m0\u001b[0m\u001b[0;34m]\u001b[0m\u001b[0;34m)\u001b[0m\u001b[0;34m\u001b[0m\u001b[0;34m\u001b[0m\u001b[0m\n\u001b[1;32m     50\u001b[0m     \u001b[0mprediction_loss\u001b[0m \u001b[0;34m=\u001b[0m \u001b[0mmean_squared_error\u001b[0m\u001b[0;34m(\u001b[0m\u001b[0moracle_pred\u001b[0m\u001b[0;34m,\u001b[0m \u001b[0mpred\u001b[0m\u001b[0;34m)\u001b[0m\u001b[0;34m\u001b[0m\u001b[0;34m\u001b[0m\u001b[0m\n",
      "\u001b[0;32m<ipython-input-1075-220f7f385781>\u001b[0m in \u001b[0;36m<listcomp>\u001b[0;34m(.0)\u001b[0m\n\u001b[1;32m     46\u001b[0m     \u001b[0;31m# loss between predictions with features (better metric)\u001b[0m\u001b[0;34m\u001b[0m\u001b[0;34m\u001b[0m\u001b[0;34m\u001b[0m\u001b[0m\n\u001b[1;32m     47\u001b[0m     \u001b[0moracle_pred\u001b[0m \u001b[0;34m=\u001b[0m \u001b[0;34m[\u001b[0m\u001b[0mnp\u001b[0m\u001b[0;34m.\u001b[0m\u001b[0mdot\u001b[0m\u001b[0;34m(\u001b[0m\u001b[0mnp\u001b[0m\u001b[0;34m.\u001b[0m\u001b[0marray\u001b[0m\u001b[0;34m(\u001b[0m\u001b[0moracle_feature\u001b[0m\u001b[0;34m)\u001b[0m\u001b[0;34m,\u001b[0m \u001b[0mmovie_matrix\u001b[0m\u001b[0;34m[\u001b[0m\u001b[0mmid\u001b[0m\u001b[0;34m]\u001b[0m\u001b[0;34m)\u001b[0m \u001b[0;32mfor\u001b[0m \u001b[0mmid\u001b[0m \u001b[0;32min\u001b[0m \u001b[0mrange\u001b[0m\u001b[0;34m(\u001b[0m\u001b[0mmovie_matrix\u001b[0m\u001b[0;34m.\u001b[0m\u001b[0mshape\u001b[0m\u001b[0;34m[\u001b[0m\u001b[0;36m0\u001b[0m\u001b[0;34m]\u001b[0m\u001b[0;34m)\u001b[0m\u001b[0;34m]\u001b[0m\u001b[0;34m\u001b[0m\u001b[0;34m\u001b[0m\u001b[0m\n\u001b[0;32m---> 48\u001b[0;31m     \u001b[0mpred\u001b[0m \u001b[0;34m=\u001b[0m \u001b[0;34m[\u001b[0m\u001b[0mnp\u001b[0m\u001b[0;34m.\u001b[0m\u001b[0mdot\u001b[0m\u001b[0;34m(\u001b[0m\u001b[0mnp\u001b[0m\u001b[0;34m.\u001b[0m\u001b[0marray\u001b[0m\u001b[0;34m(\u001b[0m\u001b[0mfeature\u001b[0m\u001b[0;34m)\u001b[0m\u001b[0;34m,\u001b[0m \u001b[0mmovie_matrix\u001b[0m\u001b[0;34m[\u001b[0m\u001b[0mmid\u001b[0m\u001b[0;34m]\u001b[0m\u001b[0;34m)\u001b[0m \u001b[0;32mfor\u001b[0m \u001b[0mmid\u001b[0m \u001b[0;32min\u001b[0m \u001b[0mrange\u001b[0m\u001b[0;34m(\u001b[0m\u001b[0mmovie_matrix\u001b[0m\u001b[0;34m.\u001b[0m\u001b[0mshape\u001b[0m\u001b[0;34m[\u001b[0m\u001b[0;36m0\u001b[0m\u001b[0;34m]\u001b[0m\u001b[0;34m)\u001b[0m\u001b[0;34m]\u001b[0m\u001b[0;34m\u001b[0m\u001b[0;34m\u001b[0m\u001b[0m\n\u001b[0m\u001b[1;32m     49\u001b[0m     \u001b[0mprint\u001b[0m\u001b[0;34m(\u001b[0m\u001b[0mlen\u001b[0m\u001b[0;34m(\u001b[0m\u001b[0mpred\u001b[0m\u001b[0;34m)\u001b[0m\u001b[0;34m,\u001b[0m \u001b[0mpred\u001b[0m\u001b[0;34m[\u001b[0m\u001b[0;36m0\u001b[0m\u001b[0;34m]\u001b[0m\u001b[0;34m)\u001b[0m\u001b[0;34m\u001b[0m\u001b[0;34m\u001b[0m\u001b[0m\n\u001b[1;32m     50\u001b[0m     \u001b[0mprediction_loss\u001b[0m \u001b[0;34m=\u001b[0m \u001b[0mmean_squared_error\u001b[0m\u001b[0;34m(\u001b[0m\u001b[0moracle_pred\u001b[0m\u001b[0;34m,\u001b[0m \u001b[0mpred\u001b[0m\u001b[0;34m)\u001b[0m\u001b[0;34m\u001b[0m\u001b[0;34m\u001b[0m\u001b[0m\n",
      "\u001b[0;32m<__array_function__ internals>\u001b[0m in \u001b[0;36mdot\u001b[0;34m(*args, **kwargs)\u001b[0m\n",
      "\u001b[0;31mKeyboardInterrupt\u001b[0m: "
     ]
    }
   ],
   "source": [
    "#for ts in tqdm(list(ts_to_time.keys())[:50]): #[3239, 3237, 4519, 10045, 10662]: # randomly selected timestamps to evaluate at \n",
    "for ts in tqdm([100, 200, 300, 400, 500, 1000, 1500, 2000, 10000, 20000]):\n",
    "    for user in events_df.user_id.value_counts().index.tolist(): #set(results_df.user_id.tolist()):\n",
    "    #for user in [217]:  \n",
    "        d = evaluate_user(user, ts)\n",
    "        if d is not None: data.append(d)"
   ]
  },
  {
   "cell_type": "code",
   "execution_count": 1066,
   "id": "83397c4a",
   "metadata": {},
   "outputs": [],
   "source": [
    "baseline_df = pd.DataFrame(data)"
   ]
  },
  {
   "cell_type": "code",
   "execution_count": 1067,
   "id": "d39a9515",
   "metadata": {},
   "outputs": [
    {
     "data": {
      "text/plain": [
       "4.92324660718441"
      ]
     },
     "execution_count": 1067,
     "metadata": {},
     "output_type": "execute_result"
    }
   ],
   "source": [
    "baseline_df.staleness.mean()"
   ]
  },
  {
   "cell_type": "code",
   "execution_count": 1068,
   "id": "84aafff0",
   "metadata": {},
   "outputs": [
    {
     "data": {
      "text/plain": [
       "11.095833333333333"
      ]
     },
     "execution_count": 1068,
     "metadata": {},
     "output_type": "execute_result"
    }
   ],
   "source": [
    "baseline_df.pending_updates.mean()"
   ]
  },
  {
   "cell_type": "code",
   "execution_count": 1069,
   "id": "52781f9c",
   "metadata": {},
   "outputs": [
    {
     "data": {
      "text/plain": [
       "0.11250055896036111"
      ]
     },
     "execution_count": 1069,
     "metadata": {},
     "output_type": "execute_result"
    }
   ],
   "source": [
    "baseline_df.prediction_loss.mean()"
   ]
  },
  {
   "cell_type": "code",
   "execution_count": 1070,
   "id": "15dbb0ec",
   "metadata": {},
   "outputs": [
    {
     "data": {
      "text/plain": [
       "0.11250055896036111"
      ]
     },
     "execution_count": 1070,
     "metadata": {},
     "output_type": "execute_result"
    }
   ],
   "source": [
    "baseline_df.prediction_loss.mean() # workers=4"
   ]
  },
  {
   "cell_type": "code",
   "execution_count": 1015,
   "id": "b25299db",
   "metadata": {},
   "outputs": [
    {
     "data": {
      "text/html": [
       "<div>\n",
       "<style scoped>\n",
       "    .dataframe tbody tr th:only-of-type {\n",
       "        vertical-align: middle;\n",
       "    }\n",
       "\n",
       "    .dataframe tbody tr th {\n",
       "        vertical-align: top;\n",
       "    }\n",
       "\n",
       "    .dataframe thead th {\n",
       "        text-align: right;\n",
       "    }\n",
       "</style>\n",
       "<table border=\"1\" class=\"dataframe\">\n",
       "  <thead>\n",
       "    <tr style=\"text-align: right;\">\n",
       "      <th></th>\n",
       "      <th>ts</th>\n",
       "      <th>user</th>\n",
       "      <th>feature_loss</th>\n",
       "      <th>prediction_loss</th>\n",
       "      <th>staleness</th>\n",
       "      <th>past_updates</th>\n",
       "      <th>pending_updates</th>\n",
       "    </tr>\n",
       "  </thead>\n",
       "  <tbody>\n",
       "    <tr>\n",
       "      <th>0</th>\n",
       "      <td>500</td>\n",
       "      <td>217</td>\n",
       "      <td>0.286311</td>\n",
       "      <td>0.139448</td>\n",
       "      <td>0.109591</td>\n",
       "      <td>7</td>\n",
       "      <td>208</td>\n",
       "    </tr>\n",
       "    <tr>\n",
       "      <th>1</th>\n",
       "      <td>500</td>\n",
       "      <td>509</td>\n",
       "      <td>0.177471</td>\n",
       "      <td>0.052308</td>\n",
       "      <td>0.972127</td>\n",
       "      <td>7</td>\n",
       "      <td>34</td>\n",
       "    </tr>\n",
       "    <tr>\n",
       "      <th>2</th>\n",
       "      <td>1000</td>\n",
       "      <td>202</td>\n",
       "      <td>0.217847</td>\n",
       "      <td>0.070537</td>\n",
       "      <td>0.000000</td>\n",
       "      <td>183</td>\n",
       "      <td>0</td>\n",
       "    </tr>\n",
       "    <tr>\n",
       "      <th>3</th>\n",
       "      <td>1000</td>\n",
       "      <td>217</td>\n",
       "      <td>0.286311</td>\n",
       "      <td>0.139448</td>\n",
       "      <td>0.109591</td>\n",
       "      <td>7</td>\n",
       "      <td>208</td>\n",
       "    </tr>\n",
       "    <tr>\n",
       "      <th>4</th>\n",
       "      <td>1000</td>\n",
       "      <td>408</td>\n",
       "      <td>0.139410</td>\n",
       "      <td>0.144319</td>\n",
       "      <td>2.201694</td>\n",
       "      <td>30</td>\n",
       "      <td>4</td>\n",
       "    </tr>\n",
       "    <tr>\n",
       "      <th>...</th>\n",
       "      <td>...</td>\n",
       "      <td>...</td>\n",
       "      <td>...</td>\n",
       "      <td>...</td>\n",
       "      <td>...</td>\n",
       "      <td>...</td>\n",
       "      <td>...</td>\n",
       "    </tr>\n",
       "    <tr>\n",
       "      <th>406</th>\n",
       "      <td>20000</td>\n",
       "      <td>37</td>\n",
       "      <td>0.017630</td>\n",
       "      <td>0.083504</td>\n",
       "      <td>0.000000</td>\n",
       "      <td>2</td>\n",
       "      <td>0</td>\n",
       "    </tr>\n",
       "    <tr>\n",
       "      <th>407</th>\n",
       "      <td>20000</td>\n",
       "      <td>1</td>\n",
       "      <td>0.081869</td>\n",
       "      <td>0.044341</td>\n",
       "      <td>0.000000</td>\n",
       "      <td>1</td>\n",
       "      <td>0</td>\n",
       "    </tr>\n",
       "    <tr>\n",
       "      <th>408</th>\n",
       "      <td>20000</td>\n",
       "      <td>185</td>\n",
       "      <td>0.060081</td>\n",
       "      <td>0.094968</td>\n",
       "      <td>0.000000</td>\n",
       "      <td>1</td>\n",
       "      <td>0</td>\n",
       "    </tr>\n",
       "    <tr>\n",
       "      <th>409</th>\n",
       "      <td>20000</td>\n",
       "      <td>100</td>\n",
       "      <td>0.046691</td>\n",
       "      <td>0.038896</td>\n",
       "      <td>0.000000</td>\n",
       "      <td>1</td>\n",
       "      <td>0</td>\n",
       "    </tr>\n",
       "    <tr>\n",
       "      <th>410</th>\n",
       "      <td>20000</td>\n",
       "      <td>398</td>\n",
       "      <td>0.038999</td>\n",
       "      <td>0.057246</td>\n",
       "      <td>0.000000</td>\n",
       "      <td>1</td>\n",
       "      <td>0</td>\n",
       "    </tr>\n",
       "  </tbody>\n",
       "</table>\n",
       "<p>411 rows × 7 columns</p>\n",
       "</div>"
      ],
      "text/plain": [
       "        ts  user  feature_loss  prediction_loss  staleness  past_updates  \\\n",
       "0      500   217      0.286311         0.139448   0.109591             7   \n",
       "1      500   509      0.177471         0.052308   0.972127             7   \n",
       "2     1000   202      0.217847         0.070537   0.000000           183   \n",
       "3     1000   217      0.286311         0.139448   0.109591             7   \n",
       "4     1000   408      0.139410         0.144319   2.201694            30   \n",
       "..     ...   ...           ...              ...        ...           ...   \n",
       "406  20000    37      0.017630         0.083504   0.000000             2   \n",
       "407  20000     1      0.081869         0.044341   0.000000             1   \n",
       "408  20000   185      0.060081         0.094968   0.000000             1   \n",
       "409  20000   100      0.046691         0.038896   0.000000             1   \n",
       "410  20000   398      0.038999         0.057246   0.000000             1   \n",
       "\n",
       "     pending_updates  \n",
       "0                208  \n",
       "1                 34  \n",
       "2                  0  \n",
       "3                208  \n",
       "4                  4  \n",
       "..               ...  \n",
       "406                0  \n",
       "407                0  \n",
       "408                0  \n",
       "409                0  \n",
       "410                0  \n",
       "\n",
       "[411 rows x 7 columns]"
      ]
     },
     "execution_count": 1015,
     "metadata": {},
     "output_type": "execute_result"
    }
   ],
   "source": [
    "baseline_df"
   ]
  },
  {
   "cell_type": "code",
   "execution_count": 950,
   "id": "01e45799",
   "metadata": {},
   "outputs": [
    {
     "data": {
      "text/html": [
       "<div>\n",
       "<style scoped>\n",
       "    .dataframe tbody tr th:only-of-type {\n",
       "        vertical-align: middle;\n",
       "    }\n",
       "\n",
       "    .dataframe tbody tr th {\n",
       "        vertical-align: top;\n",
       "    }\n",
       "\n",
       "    .dataframe thead th {\n",
       "        text-align: right;\n",
       "    }\n",
       "</style>\n",
       "<table border=\"1\" class=\"dataframe\">\n",
       "  <thead>\n",
       "    <tr style=\"text-align: right;\">\n",
       "      <th></th>\n",
       "      <th>Unnamed: 0</th>\n",
       "      <th>user_id</th>\n",
       "      <th>movie_id</th>\n",
       "      <th>rating</th>\n",
       "      <th>timestamp</th>\n",
       "    </tr>\n",
       "  </thead>\n",
       "  <tbody>\n",
       "    <tr>\n",
       "      <th>2</th>\n",
       "      <td>31275</td>\n",
       "      <td>217</td>\n",
       "      <td>2231</td>\n",
       "      <td>4.0</td>\n",
       "      <td>81</td>\n",
       "    </tr>\n",
       "    <tr>\n",
       "      <th>7</th>\n",
       "      <td>31282</td>\n",
       "      <td>217</td>\n",
       "      <td>2278</td>\n",
       "      <td>2.0</td>\n",
       "      <td>81</td>\n",
       "    </tr>\n",
       "    <tr>\n",
       "      <th>31</th>\n",
       "      <td>31490</td>\n",
       "      <td>217</td>\n",
       "      <td>3529</td>\n",
       "      <td>3.0</td>\n",
       "      <td>81</td>\n",
       "    </tr>\n",
       "    <tr>\n",
       "      <th>37</th>\n",
       "      <td>31186</td>\n",
       "      <td>217</td>\n",
       "      <td>1711</td>\n",
       "      <td>4.0</td>\n",
       "      <td>81</td>\n",
       "    </tr>\n",
       "    <tr>\n",
       "      <th>47</th>\n",
       "      <td>31156</td>\n",
       "      <td>217</td>\n",
       "      <td>1589</td>\n",
       "      <td>3.0</td>\n",
       "      <td>81</td>\n",
       "    </tr>\n",
       "    <tr>\n",
       "      <th>...</th>\n",
       "      <td>...</td>\n",
       "      <td>...</td>\n",
       "      <td>...</td>\n",
       "      <td>...</td>\n",
       "      <td>...</td>\n",
       "    </tr>\n",
       "    <tr>\n",
       "      <th>14751</th>\n",
       "      <td>31436</td>\n",
       "      <td>217</td>\n",
       "      <td>3197</td>\n",
       "      <td>3.0</td>\n",
       "      <td>2603</td>\n",
       "    </tr>\n",
       "    <tr>\n",
       "      <th>14756</th>\n",
       "      <td>31124</td>\n",
       "      <td>217</td>\n",
       "      <td>1385</td>\n",
       "      <td>3.0</td>\n",
       "      <td>2604</td>\n",
       "    </tr>\n",
       "    <tr>\n",
       "      <th>14760</th>\n",
       "      <td>30967</td>\n",
       "      <td>217</td>\n",
       "      <td>459</td>\n",
       "      <td>2.0</td>\n",
       "      <td>2604</td>\n",
       "    </tr>\n",
       "    <tr>\n",
       "      <th>14761</th>\n",
       "      <td>30934</td>\n",
       "      <td>217</td>\n",
       "      <td>315</td>\n",
       "      <td>2.0</td>\n",
       "      <td>2604</td>\n",
       "    </tr>\n",
       "    <tr>\n",
       "      <th>14763</th>\n",
       "      <td>31342</td>\n",
       "      <td>217</td>\n",
       "      <td>2525</td>\n",
       "      <td>3.0</td>\n",
       "      <td>2605</td>\n",
       "    </tr>\n",
       "  </tbody>\n",
       "</table>\n",
       "<p>244 rows × 5 columns</p>\n",
       "</div>"
      ],
      "text/plain": [
       "       Unnamed: 0  user_id  movie_id  rating  timestamp\n",
       "2           31275      217      2231     4.0         81\n",
       "7           31282      217      2278     2.0         81\n",
       "31          31490      217      3529     3.0         81\n",
       "37          31186      217      1711     4.0         81\n",
       "47          31156      217      1589     3.0         81\n",
       "...           ...      ...       ...     ...        ...\n",
       "14751       31436      217      3197     3.0       2603\n",
       "14756       31124      217      1385     3.0       2604\n",
       "14760       30967      217       459     2.0       2604\n",
       "14761       30934      217       315     2.0       2604\n",
       "14763       31342      217      2525     3.0       2605\n",
       "\n",
       "[244 rows x 5 columns]"
      ]
     },
     "execution_count": 950,
     "metadata": {},
     "output_type": "execute_result"
    }
   ],
   "source": [
    "events_df[events_df[\"user_id\"] == 217]"
   ]
  },
  {
   "cell_type": "code",
   "execution_count": 1053,
   "id": "f2d17c10",
   "metadata": {},
   "outputs": [],
   "source": [
    "data_df = pd.DataFrame(data)"
   ]
  },
  {
   "cell_type": "code",
   "execution_count": 1054,
   "id": "f5ec5095",
   "metadata": {},
   "outputs": [
    {
     "data": {
      "text/plain": [
       "18.93884892086331"
      ]
     },
     "execution_count": 1054,
     "metadata": {},
     "output_type": "execute_result"
    }
   ],
   "source": [
    "data_df.pending_updates.mean()"
   ]
  },
  {
   "cell_type": "code",
   "execution_count": 1055,
   "id": "a58e5dd6",
   "metadata": {},
   "outputs": [
    {
     "data": {
      "text/plain": [
       "0.10216298163142945"
      ]
     },
     "execution_count": 1055,
     "metadata": {},
     "output_type": "execute_result"
    }
   ],
   "source": [
    "data_df.prediction_loss.mean()"
   ]
  },
  {
   "cell_type": "code",
   "execution_count": 1056,
   "id": "f11fcb36",
   "metadata": {},
   "outputs": [
    {
     "data": {
      "text/html": [
       "<div>\n",
       "<style scoped>\n",
       "    .dataframe tbody tr th:only-of-type {\n",
       "        vertical-align: middle;\n",
       "    }\n",
       "\n",
       "    .dataframe tbody tr th {\n",
       "        vertical-align: top;\n",
       "    }\n",
       "\n",
       "    .dataframe thead th {\n",
       "        text-align: right;\n",
       "    }\n",
       "</style>\n",
       "<table border=\"1\" class=\"dataframe\">\n",
       "  <thead>\n",
       "    <tr style=\"text-align: right;\">\n",
       "      <th></th>\n",
       "      <th>ts</th>\n",
       "      <th>user</th>\n",
       "      <th>feature_loss</th>\n",
       "      <th>prediction_loss</th>\n",
       "      <th>staleness</th>\n",
       "      <th>past_updates</th>\n",
       "      <th>pending_updates</th>\n",
       "    </tr>\n",
       "  </thead>\n",
       "  <tbody>\n",
       "    <tr>\n",
       "      <th>0</th>\n",
       "      <td>500</td>\n",
       "      <td>42</td>\n",
       "      <td>0.326604</td>\n",
       "      <td>0.145695</td>\n",
       "      <td>1.189027</td>\n",
       "      <td>9</td>\n",
       "      <td>175</td>\n",
       "    </tr>\n",
       "    <tr>\n",
       "      <th>1</th>\n",
       "      <td>1000</td>\n",
       "      <td>600</td>\n",
       "      <td>0.500213</td>\n",
       "      <td>0.090885</td>\n",
       "      <td>0.000000</td>\n",
       "      <td>282</td>\n",
       "      <td>0</td>\n",
       "    </tr>\n",
       "    <tr>\n",
       "      <th>2</th>\n",
       "      <td>1000</td>\n",
       "      <td>217</td>\n",
       "      <td>0.252225</td>\n",
       "      <td>0.108099</td>\n",
       "      <td>0.000000</td>\n",
       "      <td>215</td>\n",
       "      <td>0</td>\n",
       "    </tr>\n",
       "    <tr>\n",
       "      <th>3</th>\n",
       "      <td>1000</td>\n",
       "      <td>42</td>\n",
       "      <td>0.326604</td>\n",
       "      <td>0.145695</td>\n",
       "      <td>1.189027</td>\n",
       "      <td>9</td>\n",
       "      <td>175</td>\n",
       "    </tr>\n",
       "    <tr>\n",
       "      <th>4</th>\n",
       "      <td>1000</td>\n",
       "      <td>509</td>\n",
       "      <td>0.171546</td>\n",
       "      <td>0.040402</td>\n",
       "      <td>1.452434</td>\n",
       "      <td>41</td>\n",
       "      <td>5</td>\n",
       "    </tr>\n",
       "    <tr>\n",
       "      <th>...</th>\n",
       "      <td>...</td>\n",
       "      <td>...</td>\n",
       "      <td>...</td>\n",
       "      <td>...</td>\n",
       "      <td>...</td>\n",
       "      <td>...</td>\n",
       "      <td>...</td>\n",
       "    </tr>\n",
       "    <tr>\n",
       "      <th>273</th>\n",
       "      <td>20000</td>\n",
       "      <td>503</td>\n",
       "      <td>0.095241</td>\n",
       "      <td>0.137371</td>\n",
       "      <td>0.000000</td>\n",
       "      <td>2</td>\n",
       "      <td>0</td>\n",
       "    </tr>\n",
       "    <tr>\n",
       "      <th>274</th>\n",
       "      <td>20000</td>\n",
       "      <td>253</td>\n",
       "      <td>0.027936</td>\n",
       "      <td>0.054908</td>\n",
       "      <td>0.000000</td>\n",
       "      <td>2</td>\n",
       "      <td>0</td>\n",
       "    </tr>\n",
       "    <tr>\n",
       "      <th>275</th>\n",
       "      <td>20000</td>\n",
       "      <td>319</td>\n",
       "      <td>0.026037</td>\n",
       "      <td>0.072460</td>\n",
       "      <td>0.000000</td>\n",
       "      <td>2</td>\n",
       "      <td>0</td>\n",
       "    </tr>\n",
       "    <tr>\n",
       "      <th>276</th>\n",
       "      <td>20000</td>\n",
       "      <td>185</td>\n",
       "      <td>0.060081</td>\n",
       "      <td>0.094968</td>\n",
       "      <td>0.000000</td>\n",
       "      <td>1</td>\n",
       "      <td>0</td>\n",
       "    </tr>\n",
       "    <tr>\n",
       "      <th>277</th>\n",
       "      <td>20000</td>\n",
       "      <td>100</td>\n",
       "      <td>0.046691</td>\n",
       "      <td>0.038896</td>\n",
       "      <td>0.000000</td>\n",
       "      <td>1</td>\n",
       "      <td>0</td>\n",
       "    </tr>\n",
       "  </tbody>\n",
       "</table>\n",
       "<p>278 rows × 7 columns</p>\n",
       "</div>"
      ],
      "text/plain": [
       "        ts  user  feature_loss  prediction_loss  staleness  past_updates  \\\n",
       "0      500    42      0.326604         0.145695   1.189027             9   \n",
       "1     1000   600      0.500213         0.090885   0.000000           282   \n",
       "2     1000   217      0.252225         0.108099   0.000000           215   \n",
       "3     1000    42      0.326604         0.145695   1.189027             9   \n",
       "4     1000   509      0.171546         0.040402   1.452434            41   \n",
       "..     ...   ...           ...              ...        ...           ...   \n",
       "273  20000   503      0.095241         0.137371   0.000000             2   \n",
       "274  20000   253      0.027936         0.054908   0.000000             2   \n",
       "275  20000   319      0.026037         0.072460   0.000000             2   \n",
       "276  20000   185      0.060081         0.094968   0.000000             1   \n",
       "277  20000   100      0.046691         0.038896   0.000000             1   \n",
       "\n",
       "     pending_updates  \n",
       "0                175  \n",
       "1                  0  \n",
       "2                  0  \n",
       "3                175  \n",
       "4                  5  \n",
       "..               ...  \n",
       "273                0  \n",
       "274                0  \n",
       "275                0  \n",
       "276                0  \n",
       "277                0  \n",
       "\n",
       "[278 rows x 7 columns]"
      ]
     },
     "execution_count": 1056,
     "metadata": {},
     "output_type": "execute_result"
    }
   ],
   "source": [
    "data_df"
   ]
  },
  {
   "cell_type": "code",
   "execution_count": 1040,
   "id": "801ebcc7",
   "metadata": {},
   "outputs": [
    {
     "data": {
      "text/plain": [
       "0      3\n",
       "175    1\n",
       "2      1\n",
       "4      1\n",
       "39     1\n",
       "10     1\n",
       "95     1\n",
       "Name: pending_updates, dtype: int64"
      ]
     },
     "execution_count": 1040,
     "metadata": {},
     "output_type": "execute_result"
    }
   ],
   "source": [
    "data_df[data_df[\"ts\"] == 1000].pending_updates.value_counts()"
   ]
  },
  {
   "cell_type": "code",
   "execution_count": 1041,
   "id": "78336183",
   "metadata": {},
   "outputs": [
    {
     "data": {
      "text/plain": [
       "0      8\n",
       "208    1\n",
       "4      1\n",
       "39     1\n",
       "8      1\n",
       "Name: pending_updates, dtype: int64"
      ]
     },
     "execution_count": 1041,
     "metadata": {},
     "output_type": "execute_result"
    }
   ],
   "source": [
    "baseline_df[baseline_df[\"ts\"] == 1000].pending_updates.value_counts()"
   ]
  },
  {
   "cell_type": "code",
   "execution_count": 570,
   "id": "42031a2a",
   "metadata": {},
   "outputs": [],
   "source": [
    "model = pickle.load(open(\"/data/wooders/ralf-vldb//datasets/ml-latest-small/random_forest_model\", \"rb\"))"
   ]
  },
  {
   "cell_type": "code",
   "execution_count": 576,
   "id": "c558335a",
   "metadata": {},
   "outputs": [
    {
     "data": {
      "text/plain": [
       "0.012728850317758068"
      ]
     },
     "execution_count": 576,
     "metadata": {},
     "output_type": "execute_result"
    }
   ],
   "source": [
    "data_df[\"estimated_loss\"] = model.predict(data_df[[\"staleness\", \"past_updates\", \"pending_updates\"]].to_numpy())\n",
    "mean_squared_error(data_df[\"estimated_loss\"].to_numpy(), data_df[\"prediction_loss\"].to_numpy())"
   ]
  },
  {
   "cell_type": "code",
   "execution_count": 577,
   "id": "b7cf3d41",
   "metadata": {},
   "outputs": [
    {
     "data": {
      "text/plain": [
       "0.014550071222087466"
      ]
     },
     "execution_count": 577,
     "metadata": {},
     "output_type": "execute_result"
    }
   ],
   "source": [
    "baseline_df[\"estimated_loss\"] = model.predict(baseline_df[[\"staleness\", \"past_updates\", \"pending_updates\"]].to_numpy())\n",
    "mean_squared_error(baseline_df[\"estimated_loss\"].to_numpy(), baseline_df[\"prediction_loss\"].to_numpy())"
   ]
  },
  {
   "cell_type": "markdown",
   "id": "6130ee2f",
   "metadata": {},
   "source": [
    "# Attempt to Model Loss"
   ]
  },
  {
   "cell_type": "code",
   "execution_count": 311,
   "id": "2ba68f7c",
   "metadata": {},
   "outputs": [
    {
     "data": {
      "text/plain": [
       "<AxesSubplot:xlabel='ts'>"
      ]
     },
     "execution_count": 311,
     "metadata": {},
     "output_type": "execute_result"
    },
    {
     "data": {
      "image/png": "[encoded data removed]",
      "text/plain": [
       "<Figure size 432x288 with 1 Axes>"
      ]
     },
     "metadata": {
      "needs_background": "light"
     },
     "output_type": "display_data"
    }
   ],
   "source": [
    "data_df.groupby(\"ts\").feature_loss.mean().plot()"
   ]
  },
  {
   "cell_type": "code",
   "execution_count": 312,
   "id": "63c3bd72",
   "metadata": {},
   "outputs": [
    {
     "data": {
      "text/plain": [
       "<AxesSubplot:xlabel='ts'>"
      ]
     },
     "execution_count": 312,
     "metadata": {},
     "output_type": "execute_result"
    },
    {
     "data": {
      "image/png": "[encoded data removed]",
      "text/plain": [
       "<Figure size 432x288 with 1 Axes>"
      ]
     },
     "metadata": {
      "needs_background": "light"
     },
     "output_type": "display_data"
    }
   ],
   "source": [
    "data_df.groupby(\"ts\").prediction_loss.mean().plot()"
   ]
  },
  {
   "cell_type": "code",
   "execution_count": 313,
   "id": "ced54e0f",
   "metadata": {},
   "outputs": [
    {
     "data": {
      "text/plain": [
       "<AxesSubplot:>"
      ]
     },
     "execution_count": 313,
     "metadata": {},
     "output_type": "execute_result"
    },
    {
     "data": {
      "image/png": "[encoded data removed]",
      "text/plain": [
       "<Figure size 432x288 with 1 Axes>"
      ]
     },
     "metadata": {
      "needs_background": "light"
     },
     "output_type": "display_data"
    }
   ],
   "source": [
    "data_df[[\"staleness\", \"prediction_loss\"]].plot()"
   ]
  },
  {
   "cell_type": "code",
   "execution_count": 314,
   "id": "c0109bb6",
   "metadata": {},
   "outputs": [
    {
     "data": {
      "text/plain": [
       "<AxesSubplot:>"
      ]
     },
     "execution_count": 314,
     "metadata": {},
     "output_type": "execute_result"
    },
    {
     "data": {
      "image/png": "[encoded data removed]",
      "text/plain": [
       "<Figure size 432x288 with 1 Axes>"
      ]
     },
     "metadata": {
      "needs_background": "light"
     },
     "output_type": "display_data"
    }
   ],
   "source": [
    "data_df.staleness.plot()"
   ]
  },
  {
   "cell_type": "code",
   "execution_count": null,
   "id": "9bf6e8bc",
   "metadata": {},
   "outputs": [],
   "source": [
    "from sklearn.model_selection import train_test_split"
   ]
  },
  {
   "cell_type": "code",
   "execution_count": 315,
   "id": "ff470567",
   "metadata": {},
   "outputs": [],
   "source": [
    "from sklearn.metrics import mean_squared_error"
   ]
  },
  {
   "cell_type": "code",
   "execution_count": 316,
   "id": "a43de203",
   "metadata": {},
   "outputs": [
    {
     "data": {
      "text/plain": [
       "0.0007864545900573374"
      ]
     },
     "execution_count": 316,
     "metadata": {},
     "output_type": "execute_result"
    }
   ],
   "source": [
    "mean_squared_error(oracle_feature, feature)"
   ]
  },
  {
   "cell_type": "code",
   "execution_count": 325,
   "id": "b009ffa8",
   "metadata": {},
   "outputs": [],
   "source": [
    "from sklearn.linear_model import LinearRegression, SGDRegressor\n",
    "from sklearn.ensemble import RandomForestRegressor\n",
    "from sklearn.datasets import make_regression\n",
    "from sklearn.model_selection import train_test_split"
   ]
  },
  {
   "cell_type": "code",
   "execution_count": 330,
   "id": "a382f966",
   "metadata": {},
   "outputs": [],
   "source": [
    "x = data_df[[\"staleness\", \"past_updates\", \"pending_updates\"]].to_numpy()\n",
    "y = data_df[\"prediction_loss\"].to_numpy()"
   ]
  },
  {
   "cell_type": "code",
   "execution_count": 326,
   "id": "6d9fc46a",
   "metadata": {},
   "outputs": [],
   "source": [
    "X_train, X_test, y_train, y_test = train_test_split(x, y, test_size=0.33, random_state=42)"
   ]
  },
  {
   "cell_type": "code",
   "execution_count": 327,
   "id": "1cbc1c2c",
   "metadata": {},
   "outputs": [
    {
     "data": {
      "text/plain": [
       "RandomForestRegressor(random_state=0)"
      ]
     },
     "execution_count": 327,
     "metadata": {},
     "output_type": "execute_result"
    }
   ],
   "source": [
    "regr = RandomForestRegressor(random_state=0)\n",
    "regr.fit(X_train, y_train)"
   ]
  },
  {
   "cell_type": "code",
   "execution_count": 328,
   "id": "b1632fc2",
   "metadata": {},
   "outputs": [
    {
     "name": "stdout",
     "output_type": "stream",
     "text": [
      "1.1604296106327372e-05\n",
      "8.089973981076744e-05\n"
     ]
    }
   ],
   "source": [
    "train_err = mean_squared_error(regr.predict(X_train), y_train)\n",
    "print(train_err)\n",
    "test_err = mean_squared_error(regr.predict(X_test), y_test)\n",
    "print(test_err)"
   ]
  },
  {
   "cell_type": "code",
   "execution_count": 335,
   "id": "9e155060",
   "metadata": {},
   "outputs": [],
   "source": [
    "pickle.dump(regr, open(f\"{dataset_dir}/random_forest_model\", \"wb\"))"
   ]
  },
  {
   "cell_type": "code",
   "execution_count": 331,
   "id": "af213565",
   "metadata": {},
   "outputs": [],
   "source": [
    "clf = SGDRegressor().fit(X_train, y_train)"
   ]
  },
  {
   "cell_type": "code",
   "execution_count": 332,
   "id": "f0956aa2",
   "metadata": {},
   "outputs": [
    {
     "name": "stdout",
     "output_type": "stream",
     "text": [
      "1.0662132552659519e+29\n",
      "1.0047951994562867e+29\n"
     ]
    }
   ],
   "source": [
    "train_err = mean_squared_error(clf.predict(X_train), y_train)\n",
    "print(train_err)\n",
    "test_err = mean_squared_error(clf.predict(X_test), y_test)\n",
    "print(test_err)"
   ]
  },
  {
   "cell_type": "code",
   "execution_count": 284,
   "id": "7d91c02d",
   "metadata": {},
   "outputs": [
    {
     "ename": "TypeError",
     "evalue": "predict() missing 1 required positional argument: 'X'",
     "output_type": "error",
     "traceback": [
      "\u001b[0;31m---------------------------------------------------------------------------\u001b[0m",
      "\u001b[0;31mTypeError\u001b[0m                                 Traceback (most recent call last)",
      "\u001b[0;32m<ipython-input-284-5f00151abcfc>\u001b[0m in \u001b[0;36m<module>\u001b[0;34m\u001b[0m\n\u001b[0;32m----> 1\u001b[0;31m \u001b[0mclf\u001b[0m\u001b[0;34m.\u001b[0m\u001b[0mpredict\u001b[0m\u001b[0;34m(\u001b[0m\u001b[0;34m)\u001b[0m\u001b[0;34m\u001b[0m\u001b[0;34m\u001b[0m\u001b[0m\n\u001b[0m",
      "\u001b[0;31mTypeError\u001b[0m: predict() missing 1 required positional argument: 'X'"
     ]
    }
   ],
   "source": [
    "clf.predict()"
   ]
  },
  {
   "cell_type": "code",
   "execution_count": 285,
   "id": "bf95d85e",
   "metadata": {},
   "outputs": [
    {
     "data": {
      "text/plain": [
       "4.7943274590540256e+26"
      ]
     },
     "execution_count": 285,
     "metadata": {},
     "output_type": "execute_result"
    }
   ],
   "source": [
    "x = data_df[[\"staleness\", \"past_updates\"]].to_numpy()\n",
    "y = data_df[\"prediction_loss\"].to_numpy()\n",
    "\n",
    "clf = SGDRegressor().fit(x, y)\n",
    "train_err = mean_squared_error(clf.predict(x), y)\n",
    "train_err"
   ]
  },
  {
   "cell_type": "code",
   "execution_count": 225,
   "id": "a8acd17f",
   "metadata": {},
   "outputs": [
    {
     "data": {
      "text/plain": [
       "0.003199790139035662"
      ]
     },
     "execution_count": 225,
     "metadata": {},
     "output_type": "execute_result"
    }
   ],
   "source": [
    "x = data_df[[\"staleness\"]].to_numpy()\n",
    "y = data_df[\"prediction_loss\"].to_numpy()\n",
    "\n",
    "#clf = SGDRegressor(loss=\"huber\").fit(x, y)\n",
    "clf = SGDRegressor(loss=\"huber\").fit(x, y)\n",
    "train_err = mean_squared_error(clf.predict(x), y)\n",
    "train_err"
   ]
  },
  {
   "cell_type": "code",
   "execution_count": 333,
   "id": "5d4eff07",
   "metadata": {},
   "outputs": [
    {
     "data": {
      "text/plain": [
       "0.0025845530474632207"
      ]
     },
     "execution_count": 333,
     "metadata": {},
     "output_type": "execute_result"
    }
   ],
   "source": [
    "train_err = mean_squared_error([y.mean()]*y.shape[0], y)\n",
    "train_err"
   ]
  },
  {
   "cell_type": "code",
   "execution_count": 78,
   "id": "6b0dea89",
   "metadata": {},
   "outputs": [],
   "source": [
    "oracle_pred = [np.dot(np.array(oracle_feature), movie_matrix[mid]) for mid in range(movie_matrix.shape[0])]\n",
    "pred = [np.dot(np.array(feature), movie_matrix[mid]) for mid in range(movie_matrix.shape[0])]"
   ]
  },
  {
   "cell_type": "code",
   "execution_count": 79,
   "id": "8f763974",
   "metadata": {},
   "outputs": [
    {
     "data": {
      "text/plain": [
       "0.026040872747266245"
      ]
     },
     "execution_count": 79,
     "metadata": {},
     "output_type": "execute_result"
    }
   ],
   "source": [
    "mean_squared_error(oracle_pred, pred)"
   ]
  },
  {
   "cell_type": "code",
   "execution_count": 383,
   "id": "60e5571a",
   "metadata": {},
   "outputs": [
    {
     "data": {
      "image/png": "[encoded data removed]",
      "text/plain": [
       "<Figure size 432x288 with 1 Axes>"
      ]
     },
     "metadata": {
      "needs_background": "light"
     },
     "output_type": "display_data"
    }
   ],
   "source": [
    "import matplotlib.pyplot as plt\n",
    "\n",
    "plt.scatter(data_df[\"staleness\"].tolist(), data_df[\"prediction_loss\"].tolist(), c =\"green\", label=f\"staleness\")\n",
    "\n",
    "plt.legend()\n",
    "# To show the plot\n",
    "plt.title(\"Error vs. Staleness\")\n",
    "plt.ylabel(\"Predicted Error\")\n",
    "plt.xlabel(\"Staleness (s)\")\n",
    "plt.show()"
   ]
  },
  {
   "cell_type": "code",
   "execution_count": 339,
   "id": "2dabdd17",
   "metadata": {},
   "outputs": [
    {
     "data": {
      "image/png": "[encoded data removed]",
      "text/plain": [
       "<Figure size 432x288 with 1 Axes>"
      ]
     },
     "metadata": {
      "needs_background": "light"
     },
     "output_type": "display_data"
    }
   ],
   "source": [
    "plt.scatter(data_df[\"past_updates\"].tolist(), data_df[\"prediction_loss\"].tolist(), c =\"red\", label=f\"key={key}\")\n",
    "\n",
    "plt.legend()\n",
    "# To show the plot\n",
    "plt.title(\"Error versus Staleness\")\n",
    "plt.ylabel(\"Predicted Error\")\n",
    "plt.xlabel(\"Staleness (s)\")\n",
    "plt.show()"
   ]
  },
  {
   "cell_type": "code",
   "execution_count": 379,
   "id": "a65ac929",
   "metadata": {},
   "outputs": [
    {
     "data": {
      "image/png": "[encoded data removed]",
      "text/plain": [
       "<Figure size 432x288 with 1 Axes>"
      ]
     },
     "metadata": {
      "needs_background": "light"
     },
     "output_type": "display_data"
    }
   ],
   "source": [
    "plt.scatter(data_df[\"pending_updates\"].tolist(), data_df[\"prediction_loss\"].tolist(), c =\"red\", label=\"pending updates\")\n",
    "plt.scatter(data_df[\"past_updates\"].tolist(), data_df[\"prediction_loss\"].tolist(), c =\"blue\", label=f\"past updates\")\n",
    "\n",
    "\n",
    "plt.legend()\n",
    "# To show the plot\n",
    "plt.title(\"Error vs. Pending Updates \")\n",
    "plt.ylabel(\"Prediction Error (MSE)\")\n",
    "plt.xlabel(\"Number Updates\")\n",
    "plt.show()"
   ]
  },
  {
   "cell_type": "code",
   "execution_count": 381,
   "id": "eb0a231e",
   "metadata": {},
   "outputs": [],
   "source": [
    "#data_df.to_csv(\"initial_als_results.csv\")"
   ]
  },
  {
   "cell_type": "code",
   "execution_count": null,
   "id": "1bccab1e",
   "metadata": {},
   "outputs": [],
   "source": []
  }
 ],
 "metadata": {
  "kernelspec": {
   "display_name": "Python 3",
   "language": "python",
   "name": "python3"
  },
  "language_info": {
   "codemirror_mode": {
    "name": "ipython",
    "version": 3
   },
   "file_extension": ".py",
   "mimetype": "text/x-python",
   "name": "python",
   "nbconvert_exporter": "python",
   "pygments_lexer": "ipython3",
   "version": "3.8.8"
  }
 },
 "nbformat": 4,
 "nbformat_minor": 5
}
