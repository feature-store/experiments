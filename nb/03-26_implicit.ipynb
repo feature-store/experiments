{
 "cells": [
  {
   "cell_type": "code",
   "execution_count": 247,
   "id": "e6450cad",
   "metadata": {},
   "outputs": [],
   "source": [
    "import implicit\n",
    "import pandas\n",
    "import time\n",
    "from tqdm import tqdm\n",
    "from sortedcontainers import SortedList, SortedDict\n",
    "from sklearn.metrics import mean_squared_error"
   ]
  },
  {
   "cell_type": "code",
   "execution_count": 270,
   "id": "d2138dcf",
   "metadata": {
    "scrolled": false
   },
   "outputs": [
    {
     "name": "stderr",
     "output_type": "stream",
     "text": [
      "/var/folders/p5/zwk89rgd0cdf07_7k1wdqjgw0000gn/T/ipykernel_81803/3920604715.py:2: ParserWarning: Falling back to the 'python' engine because the 'c' engine does not support regex separators (separators > 1 char and different from '\\s+' are interpreted as regex); you can avoid this warning by specifying engine='python'.\n",
      "  ratings = pandas.read_csv(f'{path}ratings.dat', sep = \"::\", names = [\"userId\", \"movieId\", \"explicit\", \"timestamp\"])\n",
      "/var/folders/p5/zwk89rgd0cdf07_7k1wdqjgw0000gn/T/ipykernel_81803/3920604715.py:3: ParserWarning: Falling back to the 'python' engine because the 'c' engine does not support regex separators (separators > 1 char and different from '\\s+' are interpreted as regex); you can avoid this warning by specifying engine='python'.\n",
      "  movies = pandas.read_csv(f'{path}movies.dat', sep=\"::\", encoding = \"ISO-8859-1\", names = [\"movieId\", \"title\"], usecols = [0, 1])\n"
     ]
    }
   ],
   "source": [
    "path = \"~/Downloads/ml-1m/\"\n",
    "ratings = pandas.read_csv(f'{path}ratings.dat', sep = \"::\", names = [\"userId\", \"movieId\", \"explicit\", \"timestamp\"])\n",
    "movies = pandas.read_csv(f'{path}movies.dat', sep=\"::\", encoding = \"ISO-8859-1\", names = [\"movieId\", \"title\"], usecols = [0, 1])"
   ]
  },
  {
   "cell_type": "code",
   "execution_count": 384,
   "id": "725e5304",
   "metadata": {
    "scrolled": true
   },
   "outputs": [
    {
     "name": "stdout",
     "output_type": "stream",
     "text": [
      "3551 3643 500104\n",
      "3488 499218\n"
     ]
    }
   ],
   "source": [
    "implicit_ratings = ratings.copy(deep = True)\n",
    "implicit_ratings['rating'] = [1 if row.explicit > 3 else 0 for row in implicit_ratings.itertuples()]\n",
    "\n",
    "def split_data(df):  \n",
    "    start_ts = df['timestamp'].min()\n",
    "    med_ts = df['timestamp'].quantile(.5)\n",
    "    end_ts = df['timestamp'].max()\n",
    "    train_df = df[df['timestamp'] <= med_ts]\n",
    "    stream_df = df[df['timestamp'] > med_ts]\n",
    "    seen_movies = set(train_df['movieId'])\n",
    "    print(len(seen_movies), len(set(stream_df['movieId'])), len(stream_df))\n",
    "    stream_df = stream_df.drop(stream_df[stream_df['movieId'].map(lambda x: x not in seen_movies)].index)\n",
    "    print(len(set(stream_df['movieId'])), len(stream_df))\n",
    "    '''\n",
    "    seen_users = set(train_df['user_id'])\n",
    "    num_stream_users = set(stream_df['user_id'])\n",
    "    stream_df = stream_df.drop(stream_df[stream_df['user_id'].map(lambda x: x not in seen_users)].index)\n",
    "    print(len(seen_users), len(num_stream_users), len(set(stream_df['user_id'])), len(stream_df))\n",
    "    '''\n",
    "    return train_df, stream_df\n",
    "\n",
    "train_df, stream_df = split_data(implicit_ratings)"
   ]
  },
  {
   "cell_type": "code",
   "execution_count": 185,
   "id": "652459be",
   "metadata": {},
   "outputs": [
    {
     "data": {
      "text/plain": [
       "userId            6040\n",
       "movieId           3952\n",
       "rating               0\n",
       "timestamp    973018006\n",
       "explicit             0\n",
       "dtype: int64"
      ]
     },
     "execution_count": 185,
     "metadata": {},
     "output_type": "execute_result"
    }
   ],
   "source": [
    "train_df.max()"
   ]
  },
  {
   "cell_type": "code",
   "execution_count": 63,
   "id": "5f003a5e",
   "metadata": {},
   "outputs": [
    {
     "data": {
      "text/plain": [
       "3953"
      ]
     },
     "execution_count": 63,
     "metadata": {},
     "output_type": "execute_result"
    }
   ],
   "source": [
    "max_movie = train_df.max()[1]\n",
    "if stream_df.max()[1] > max_movie:\n",
    "    max_movie = stream_df.max()[1]\n",
    "max_movie += 1\n",
    "max_movie"
   ]
  },
  {
   "cell_type": "code",
   "execution_count": 304,
   "id": "46cc7fbb",
   "metadata": {},
   "outputs": [
    {
     "data": {
      "text/plain": [
       "6041"
      ]
     },
     "execution_count": 304,
     "metadata": {},
     "output_type": "execute_result"
    }
   ],
   "source": [
    "max_user = train_df.max()[0]\n",
    "if stream_df.max()[0] > max_user:\n",
    "    max_user = stream_df.max()[0]\n",
    "max_user += 1\n",
    "max_user"
   ]
  },
  {
   "cell_type": "code",
   "execution_count": 385,
   "id": "d4a4e912",
   "metadata": {},
   "outputs": [
    {
     "data": {
      "text/plain": [
       "<3953x6041 sparse matrix of type '<class 'numpy.float32'>'\n",
       "\twith 500105 stored elements in Compressed Sparse Row format>"
      ]
     },
     "execution_count": 385,
     "metadata": {},
     "output_type": "execute_result"
    }
   ],
   "source": [
    "from scipy.sparse import coo_matrix, csr_matrix\n",
    "import numpy as np\n",
    "import h5py\n",
    "output_filename = \"/Users/amitnarang/new_experiments/hfd5_output\"\n",
    "m = coo_matrix(\n",
    "    (train_df[\"rating\"].astype(np.float32), (train_df[\"movieId\"], train_df[\"userId\"]))\n",
    ").tocsr()\n",
    "\n",
    "train_plays = csr_matrix((m.data, m.indices, m.indptr))\n",
    "train_plays"
   ]
  },
  {
   "cell_type": "code",
   "execution_count": 356,
   "id": "2e155171",
   "metadata": {},
   "outputs": [
    {
     "data": {
      "application/vnd.jupyter.widget-view+json": {
       "model_id": "d42b3f871227420c8b0cbffb7dad6831",
       "version_major": 2,
       "version_minor": 0
      },
      "text/plain": [
       "  0%|          | 0/15 [00:00<?, ?it/s]"
      ]
     },
     "metadata": {},
     "output_type": "display_data"
    }
   ],
   "source": [
    "model = implicit.als.AlternatingLeastSquares(factors=50)\n",
    "model.fit(train_plays)"
   ]
  },
  {
   "cell_type": "code",
   "execution_count": 357,
   "id": "f0692c1b",
   "metadata": {},
   "outputs": [],
   "source": [
    "data_to_send = dict()\n",
    "ts_list = stream_df['timestamp'].unique()\n",
    "for ts in ts_list:\n",
    "    curr_data = stream_df[stream_df['timestamp'] == ts]\n",
    "    data_to_send[ts] = curr_data"
   ]
  },
  {
   "cell_type": "code",
   "execution_count": 326,
   "id": "7a737aaf",
   "metadata": {},
   "outputs": [],
   "source": [
    "def generate_liked_movies():\n",
    "    liked_movies = dict()\n",
    "    user_list = train_df['userId'].unique()\n",
    "    for user_id in user_list:\n",
    "        curr_data = train_df[train_df['userId'] == user_id]\n",
    "        liked_data = curr_data[curr_data['rating'] == 1]\n",
    "        liked_movies[user_id] = liked_data['movieId'].tolist()\n",
    "    return liked_movies"
   ]
  },
  {
   "cell_type": "code",
   "execution_count": 239,
   "id": "9cf1d069",
   "metadata": {},
   "outputs": [],
   "source": [
    "class FIFOScheduler:\n",
    "    \n",
    "    def __init__(self):\n",
    "        self.queue = []\n",
    "        self.name = \"fifo\"\n",
    "        \n",
    "    def push(self, row):\n",
    "        self.queue.append(row)\n",
    "    \n",
    "    def pop(self):\n",
    "        if len(self.queue) == 0:\n",
    "            return None\n",
    "        return self.queue.pop()"
   ]
  },
  {
   "cell_type": "code",
   "execution_count": 378,
   "id": "8faa5067",
   "metadata": {},
   "outputs": [],
   "source": [
    "class BaselineScheduler:\n",
    "    \n",
    "    def __init__(self):\n",
    "        self.name = \"baseline\"\n",
    "        \n",
    "    def push(self, row):\n",
    "        pass\n",
    "    \n",
    "    def pop(self):\n",
    "        pass"
   ]
  },
  {
   "cell_type": "code",
   "execution_count": 250,
   "id": "bd7198a4",
   "metadata": {},
   "outputs": [],
   "source": [
    "class MaxPendingScheduler:\n",
    "    \n",
    "    def __init__(self):\n",
    "        # items = [key, num_pending]\n",
    "        self.updated_list = SortedList(key = lambda x: x[1])\n",
    "        self.row_dict = dict()\n",
    "        self.name = \"pending\"\n",
    "\n",
    "    def push(self, row):\n",
    "        user = row.userId\n",
    "        if user not in self.row_dict:\n",
    "            self.updated_list.add([user, 1])\n",
    "            self.row_dict[user] = [row]\n",
    "        else:\n",
    "            pending_updates = len(self.row_dict[user])\n",
    "            self.updated_list.remove([user, pending_updates])\n",
    "            self.updated_list.add([user, pending_updates + 1])\n",
    "            self.row_dict[user].append(row)\n",
    "        \n",
    "    def pop(self):\n",
    "        if len(self.updated_list) > 0:\n",
    "            user = self.updated_list[-1][0]\n",
    "            num_pending = len(self.row_dict[user])\n",
    "            row = self.row_dict[user].pop()\n",
    "            if num_pending == 1:\n",
    "                self.updated_list.pop(-1)\n",
    "                del self.row_dict[user]\n",
    "            else:\n",
    "                self.updated_list.remove([user, num_pending])\n",
    "                self.updated_list.add([user, num_pending - 1])\n",
    "            return row"
   ]
  },
  {
   "cell_type": "code",
   "execution_count": 321,
   "id": "526821d7",
   "metadata": {},
   "outputs": [],
   "source": [
    "class FewestUpdateScheduler:\n",
    "    \n",
    "    def __init__(self):\n",
    "        self.updated_list = SortedList(key = lambda x: x[1])\n",
    "        self.row_dict = dict()\n",
    "        self.name = \"fewest\"\n",
    "\n",
    "    def push(self, row):\n",
    "        user = row.userId\n",
    "        if user not in self.row_dict:\n",
    "            self.updated_list.add([user, 0])\n",
    "            self.row_dict[user] = [row]\n",
    "        else:\n",
    "            self.row_dict[user].append(row)\n",
    "          \n",
    "    def pop(self):\n",
    "        user_data = self.updated_list.pop(0)\n",
    "        user = user_data[0]\n",
    "        row = self.row_dict[user].pop()\n",
    "        if len(self.row_dict[user]) != 0:\n",
    "            user_data[1] = user_data[1] + 1\n",
    "            self.updated_list.add(user_data)\n",
    "        #self.updated_list[0][1] = self.updated_list[0][1] + 1\n",
    "        return row"
   ]
  },
  {
   "cell_type": "code",
   "execution_count": 353,
   "id": "0965d01c",
   "metadata": {},
   "outputs": [],
   "source": [
    "class ImplicitModelUpdater:\n",
    "    def __init__(self, model):\n",
    "        self.model = model\n",
    "        self.name = \"implicit\"\n",
    "        self.liked_movies = generate_liked_movies()\n",
    "        \n",
    "    def update(self, row):\n",
    "            rows = []\n",
    "            cols = []\n",
    "            data = []\n",
    "                \n",
    "            movie = row.movieId\n",
    "            user = row.userId\n",
    "            rating = row.rating\n",
    "            if user not in self.liked_movies:\n",
    "                self.liked_movies[user] = []\n",
    "            if rating == 1:\n",
    "                self.liked_movies[user].append(movie)\n",
    "            rows.append(0)\n",
    "            cols.append(movie)\n",
    "            data.append(rating)\n",
    "            csr_shape = (1, max_movie)\n",
    "            user_items = csr_matrix((data, (rows, cols)), shape=csr_shape)\n",
    "            curr = time.time()\n",
    "            self.model.partial_fit_users([user], user_items)\n",
    "            #print(time.time() - curr)\n",
    "        \n",
    "    def predict(self, row):\n",
    "        user = row.userId\n",
    "        movie = row.movieId\n",
    "        cols = []\n",
    "        if user in self.liked_movies:\n",
    "            cols = self.liked_movies[user]\n",
    "        rows = [user] * len(cols)\n",
    "        data = [1] * len(cols)\n",
    "        user_items = coo_matrix((data, (rows, cols)), shape=(max_user, max_movie))\n",
    "        #print(user_items)\n",
    "        explanation = self.model.explain(user, user_items, movie)\n",
    "        prediction = explanation[0]\n",
    "        return prediction"
   ]
  },
  {
   "cell_type": "code",
   "execution_count": 367,
   "id": "7333c7ba",
   "metadata": {},
   "outputs": [],
   "source": [
    "def simulate(scheduler, updater, stream, df, update_cadence, num_update):\n",
    "    start_ts = df['timestamp'].min()\n",
    "    end_ts = df['timestamp'].max()\n",
    "    \n",
    "    predictions = []\n",
    "    next_feature_update_time = start_ts + update_cadence\n",
    "    num_updates = 0\n",
    "    num_processed = 0\n",
    "    \n",
    "    stream_ts = sorted(list(stream.keys()), key = lambda x: int(x))\n",
    "    \n",
    "    for ts in tqdm(stream_ts):\n",
    "        curr_data = stream[ts]\n",
    "        for row in curr_data.itertuples():\n",
    "            scheduler.push(row)\n",
    "            predictions.append(updater.predict(row))\n",
    "        num_processed += len(curr_data)\n",
    "        if ts >= next_feature_update_time:\n",
    "            # how many records to process\n",
    "            row = scheduler.pop()\n",
    "            if row:\n",
    "                updater.update(row)\n",
    "                num_updates += 1\n",
    "            next_feature_update_time += update_cadence\n",
    "    return predictions"
   ]
  },
  {
   "cell_type": "code",
   "execution_count": 387,
   "id": "54178f94",
   "metadata": {},
   "outputs": [],
   "source": [
    "def run_simulations(scheduler_list, updater_list, stream, df, update_cadences, num_updates):\n",
    "    experiments = []\n",
    "    for scheduler in scheduler_list:\n",
    "        print(f'Scheduler: {scheduler.name}')\n",
    "        for update_cadence in update_cadences:\n",
    "            for num_update in num_updates:\n",
    "                model = implicit.als.AlternatingLeastSquares(factors=50)\n",
    "                model.fit(train_plays)\n",
    "                updater = ImplicitModelUpdater(model)\n",
    "                experiment_name = f'{scheduler.name}_{updater.name}_{update_cadence}_{num_update}_predictions'\n",
    "                start = time.time()\n",
    "                predictions = simulate(scheduler, updater, stream, df, update_cadence, num_update)\n",
    "                elapsed = time.time() - start\n",
    "                df[experiment_name] = predictions\n",
    "                df[scheduler.name] = round(df[experiment_name])\n",
    "                mse = mean_squared_error(df['rating'], df[experiment_name])\n",
    "                mse_round = mean_squared_error(df['rating'], df[scheduler.name])\n",
    "                experiments.append([experiment_name, elapsed, mse, mse_round])\n",
    "    return df, experiments"
   ]
  },
  {
   "cell_type": "code",
   "execution_count": 388,
   "id": "91b1b326",
   "metadata": {
    "scrolled": true
   },
   "outputs": [
    {
     "name": "stdout",
     "output_type": "stream",
     "text": [
      "Scheduler: baseline\n"
     ]
    },
    {
     "data": {
      "application/vnd.jupyter.widget-view+json": {
       "model_id": "20166e7ce98a4ce9aef7e5000158db2a",
       "version_major": 2,
       "version_minor": 0
      },
      "text/plain": [
       "  0%|          | 0/15 [00:00<?, ?it/s]"
      ]
     },
     "metadata": {},
     "output_type": "display_data"
    },
    {
     "name": "stderr",
     "output_type": "stream",
     "text": [
      "100%|█████████████████████████████████████████████████████████| 230742/230742 [02:28<00:00, 1553.45it/s]\n"
     ]
    },
    {
     "name": "stdout",
     "output_type": "stream",
     "text": [
      "Scheduler: fifo\n"
     ]
    },
    {
     "data": {
      "application/vnd.jupyter.widget-view+json": {
       "model_id": "4caef7d1706d4ab08db9540f45215e92",
       "version_major": 2,
       "version_minor": 0
      },
      "text/plain": [
       "  0%|          | 0/15 [00:00<?, ?it/s]"
      ]
     },
     "metadata": {},
     "output_type": "display_data"
    },
    {
     "name": "stderr",
     "output_type": "stream",
     "text": [
      "100%|█████████████████████████████████████████████████████████| 230742/230742 [03:37<00:00, 1059.22it/s]\n"
     ]
    },
    {
     "name": "stdout",
     "output_type": "stream",
     "text": [
      "Scheduler: pending\n"
     ]
    },
    {
     "data": {
      "application/vnd.jupyter.widget-view+json": {
       "model_id": "54333cb3fb414d50be853eef309e4e0a",
       "version_major": 2,
       "version_minor": 0
      },
      "text/plain": [
       "  0%|          | 0/15 [00:00<?, ?it/s]"
      ]
     },
     "metadata": {},
     "output_type": "display_data"
    },
    {
     "name": "stderr",
     "output_type": "stream",
     "text": [
      "100%|█████████████████████████████████████████████████████████| 230742/230742 [02:58<00:00, 1295.23it/s]\n"
     ]
    },
    {
     "name": "stdout",
     "output_type": "stream",
     "text": [
      "Scheduler: fewest\n"
     ]
    },
    {
     "data": {
      "application/vnd.jupyter.widget-view+json": {
       "model_id": "4242d75cd5b4417aa600ab49abf7d4e9",
       "version_major": 2,
       "version_minor": 0
      },
      "text/plain": [
       "  0%|          | 0/15 [00:00<?, ?it/s]"
      ]
     },
     "metadata": {},
     "output_type": "display_data"
    },
    {
     "name": "stderr",
     "output_type": "stream",
     "text": [
      "100%|█████████████████████████████████████████████████████████| 230742/230742 [02:46<00:00, 1388.63it/s]\n"
     ]
    }
   ],
   "source": [
    "schedulers = [BaselineScheduler(), FIFOScheduler(), MaxPendingScheduler(), FewestUpdateScheduler()]\n",
    "updaters = [ImplicitModelUpdater(model)]\n",
    "stream, experiments = run_simulations(schedulers, updaters, data_to_send, stream_df, [1000], [10])"
   ]
  },
  {
   "cell_type": "code",
   "execution_count": 389,
   "id": "4f63012f",
   "metadata": {},
   "outputs": [
    {
     "data": {
      "text/html": [
       "<div>\n",
       "<style scoped>\n",
       "    .dataframe tbody tr th:only-of-type {\n",
       "        vertical-align: middle;\n",
       "    }\n",
       "\n",
       "    .dataframe tbody tr th {\n",
       "        vertical-align: top;\n",
       "    }\n",
       "\n",
       "    .dataframe thead th {\n",
       "        text-align: right;\n",
       "    }\n",
       "</style>\n",
       "<table border=\"1\" class=\"dataframe\">\n",
       "  <thead>\n",
       "    <tr style=\"text-align: right;\">\n",
       "      <th></th>\n",
       "      <th>userId</th>\n",
       "      <th>movieId</th>\n",
       "      <th>explicit</th>\n",
       "      <th>timestamp</th>\n",
       "      <th>rating</th>\n",
       "      <th>baseline_implicit_1000_10_predictions</th>\n",
       "      <th>baseline</th>\n",
       "      <th>fifo_implicit_1000_10_predictions</th>\n",
       "      <th>fifo</th>\n",
       "      <th>pending_implicit_1000_10_predictions</th>\n",
       "      <th>pending</th>\n",
       "      <th>fewest_implicit_1000_10_predictions</th>\n",
       "      <th>fewest</th>\n",
       "    </tr>\n",
       "  </thead>\n",
       "  <tbody>\n",
       "    <tr>\n",
       "      <th>0</th>\n",
       "      <td>1</td>\n",
       "      <td>1193</td>\n",
       "      <td>5</td>\n",
       "      <td>978300760</td>\n",
       "      <td>1</td>\n",
       "      <td>0.000000</td>\n",
       "      <td>0.0</td>\n",
       "      <td>0.000000</td>\n",
       "      <td>0.0</td>\n",
       "      <td>0.000000</td>\n",
       "      <td>0.0</td>\n",
       "      <td>0.000000</td>\n",
       "      <td>0.0</td>\n",
       "    </tr>\n",
       "    <tr>\n",
       "      <th>1</th>\n",
       "      <td>1</td>\n",
       "      <td>661</td>\n",
       "      <td>3</td>\n",
       "      <td>978302109</td>\n",
       "      <td>0</td>\n",
       "      <td>-0.005366</td>\n",
       "      <td>-0.0</td>\n",
       "      <td>-0.004371</td>\n",
       "      <td>-0.0</td>\n",
       "      <td>-0.007758</td>\n",
       "      <td>-0.0</td>\n",
       "      <td>-0.009116</td>\n",
       "      <td>-0.0</td>\n",
       "    </tr>\n",
       "    <tr>\n",
       "      <th>2</th>\n",
       "      <td>1</td>\n",
       "      <td>914</td>\n",
       "      <td>3</td>\n",
       "      <td>978301968</td>\n",
       "      <td>0</td>\n",
       "      <td>0.009411</td>\n",
       "      <td>0.0</td>\n",
       "      <td>0.009065</td>\n",
       "      <td>0.0</td>\n",
       "      <td>0.005993</td>\n",
       "      <td>0.0</td>\n",
       "      <td>0.003378</td>\n",
       "      <td>0.0</td>\n",
       "    </tr>\n",
       "    <tr>\n",
       "      <th>3</th>\n",
       "      <td>1</td>\n",
       "      <td>3408</td>\n",
       "      <td>4</td>\n",
       "      <td>978300275</td>\n",
       "      <td>1</td>\n",
       "      <td>0.007415</td>\n",
       "      <td>0.0</td>\n",
       "      <td>0.009223</td>\n",
       "      <td>0.0</td>\n",
       "      <td>0.004479</td>\n",
       "      <td>0.0</td>\n",
       "      <td>0.009504</td>\n",
       "      <td>0.0</td>\n",
       "    </tr>\n",
       "    <tr>\n",
       "      <th>4</th>\n",
       "      <td>1</td>\n",
       "      <td>2355</td>\n",
       "      <td>5</td>\n",
       "      <td>978824291</td>\n",
       "      <td>1</td>\n",
       "      <td>0.000000</td>\n",
       "      <td>0.0</td>\n",
       "      <td>0.000000</td>\n",
       "      <td>0.0</td>\n",
       "      <td>0.000000</td>\n",
       "      <td>0.0</td>\n",
       "      <td>0.000000</td>\n",
       "      <td>0.0</td>\n",
       "    </tr>\n",
       "    <tr>\n",
       "      <th>...</th>\n",
       "      <td>...</td>\n",
       "      <td>...</td>\n",
       "      <td>...</td>\n",
       "      <td>...</td>\n",
       "      <td>...</td>\n",
       "      <td>...</td>\n",
       "      <td>...</td>\n",
       "      <td>...</td>\n",
       "      <td>...</td>\n",
       "      <td>...</td>\n",
       "      <td>...</td>\n",
       "      <td>...</td>\n",
       "      <td>...</td>\n",
       "    </tr>\n",
       "    <tr>\n",
       "      <th>1000126</th>\n",
       "      <td>6040</td>\n",
       "      <td>1333</td>\n",
       "      <td>4</td>\n",
       "      <td>997454140</td>\n",
       "      <td>1</td>\n",
       "      <td>0.000000</td>\n",
       "      <td>0.0</td>\n",
       "      <td>0.000000</td>\n",
       "      <td>0.0</td>\n",
       "      <td>0.000000</td>\n",
       "      <td>0.0</td>\n",
       "      <td>0.000000</td>\n",
       "      <td>0.0</td>\n",
       "    </tr>\n",
       "    <tr>\n",
       "      <th>1000162</th>\n",
       "      <td>6040</td>\n",
       "      <td>3362</td>\n",
       "      <td>4</td>\n",
       "      <td>997453796</td>\n",
       "      <td>1</td>\n",
       "      <td>0.000000</td>\n",
       "      <td>0.0</td>\n",
       "      <td>0.000000</td>\n",
       "      <td>0.0</td>\n",
       "      <td>0.000000</td>\n",
       "      <td>0.0</td>\n",
       "      <td>0.000000</td>\n",
       "      <td>0.0</td>\n",
       "    </tr>\n",
       "    <tr>\n",
       "      <th>1000167</th>\n",
       "      <td>6040</td>\n",
       "      <td>161</td>\n",
       "      <td>3</td>\n",
       "      <td>997454486</td>\n",
       "      <td>0</td>\n",
       "      <td>0.004570</td>\n",
       "      <td>0.0</td>\n",
       "      <td>0.005231</td>\n",
       "      <td>0.0</td>\n",
       "      <td>0.003242</td>\n",
       "      <td>0.0</td>\n",
       "      <td>0.003793</td>\n",
       "      <td>0.0</td>\n",
       "    </tr>\n",
       "    <tr>\n",
       "      <th>1000169</th>\n",
       "      <td>6040</td>\n",
       "      <td>2725</td>\n",
       "      <td>4</td>\n",
       "      <td>997454180</td>\n",
       "      <td>1</td>\n",
       "      <td>0.000000</td>\n",
       "      <td>0.0</td>\n",
       "      <td>0.000000</td>\n",
       "      <td>0.0</td>\n",
       "      <td>0.000000</td>\n",
       "      <td>0.0</td>\n",
       "      <td>0.000000</td>\n",
       "      <td>0.0</td>\n",
       "    </tr>\n",
       "    <tr>\n",
       "      <th>1000172</th>\n",
       "      <td>6040</td>\n",
       "      <td>1784</td>\n",
       "      <td>3</td>\n",
       "      <td>997454464</td>\n",
       "      <td>0</td>\n",
       "      <td>0.000000</td>\n",
       "      <td>0.0</td>\n",
       "      <td>0.000000</td>\n",
       "      <td>0.0</td>\n",
       "      <td>0.000000</td>\n",
       "      <td>0.0</td>\n",
       "      <td>0.000000</td>\n",
       "      <td>0.0</td>\n",
       "    </tr>\n",
       "  </tbody>\n",
       "</table>\n",
       "<p>499218 rows × 13 columns</p>\n",
       "</div>"
      ],
      "text/plain": [
       "         userId  movieId  explicit  timestamp  rating  \\\n",
       "0             1     1193         5  978300760       1   \n",
       "1             1      661         3  978302109       0   \n",
       "2             1      914         3  978301968       0   \n",
       "3             1     3408         4  978300275       1   \n",
       "4             1     2355         5  978824291       1   \n",
       "...         ...      ...       ...        ...     ...   \n",
       "1000126    6040     1333         4  997454140       1   \n",
       "1000162    6040     3362         4  997453796       1   \n",
       "1000167    6040      161         3  997454486       0   \n",
       "1000169    6040     2725         4  997454180       1   \n",
       "1000172    6040     1784         3  997454464       0   \n",
       "\n",
       "         baseline_implicit_1000_10_predictions  baseline  \\\n",
       "0                                     0.000000       0.0   \n",
       "1                                    -0.005366      -0.0   \n",
       "2                                     0.009411       0.0   \n",
       "3                                     0.007415       0.0   \n",
       "4                                     0.000000       0.0   \n",
       "...                                        ...       ...   \n",
       "1000126                               0.000000       0.0   \n",
       "1000162                               0.000000       0.0   \n",
       "1000167                               0.004570       0.0   \n",
       "1000169                               0.000000       0.0   \n",
       "1000172                               0.000000       0.0   \n",
       "\n",
       "         fifo_implicit_1000_10_predictions  fifo  \\\n",
       "0                                 0.000000   0.0   \n",
       "1                                -0.004371  -0.0   \n",
       "2                                 0.009065   0.0   \n",
       "3                                 0.009223   0.0   \n",
       "4                                 0.000000   0.0   \n",
       "...                                    ...   ...   \n",
       "1000126                           0.000000   0.0   \n",
       "1000162                           0.000000   0.0   \n",
       "1000167                           0.005231   0.0   \n",
       "1000169                           0.000000   0.0   \n",
       "1000172                           0.000000   0.0   \n",
       "\n",
       "         pending_implicit_1000_10_predictions  pending  \\\n",
       "0                                    0.000000      0.0   \n",
       "1                                   -0.007758     -0.0   \n",
       "2                                    0.005993      0.0   \n",
       "3                                    0.004479      0.0   \n",
       "4                                    0.000000      0.0   \n",
       "...                                       ...      ...   \n",
       "1000126                              0.000000      0.0   \n",
       "1000162                              0.000000      0.0   \n",
       "1000167                              0.003242      0.0   \n",
       "1000169                              0.000000      0.0   \n",
       "1000172                              0.000000      0.0   \n",
       "\n",
       "         fewest_implicit_1000_10_predictions  fewest  \n",
       "0                                   0.000000     0.0  \n",
       "1                                  -0.009116    -0.0  \n",
       "2                                   0.003378     0.0  \n",
       "3                                   0.009504     0.0  \n",
       "4                                   0.000000     0.0  \n",
       "...                                      ...     ...  \n",
       "1000126                             0.000000     0.0  \n",
       "1000162                             0.000000     0.0  \n",
       "1000167                             0.003793     0.0  \n",
       "1000169                             0.000000     0.0  \n",
       "1000172                             0.000000     0.0  \n",
       "\n",
       "[499218 rows x 13 columns]"
      ]
     },
     "execution_count": 389,
     "metadata": {},
     "output_type": "execute_result"
    }
   ],
   "source": [
    "stream"
   ]
  },
  {
   "cell_type": "code",
   "execution_count": 394,
   "id": "579cb104",
   "metadata": {},
   "outputs": [
    {
     "data": {
      "text/plain": [
       "0.0"
      ]
     },
     "execution_count": 394,
     "metadata": {},
     "output_type": "execute_result"
    }
   ],
   "source": [
    "max(stream['baseline'])"
   ]
  },
  {
   "cell_type": "code",
   "execution_count": 390,
   "id": "ac8349a1",
   "metadata": {},
   "outputs": [
    {
     "data": {
      "text/plain": [
       "(0.5687174741295385,\n",
       " 0.5687174741295385,\n",
       " 0.5687174741295385,\n",
       " 0.5687174741295385)"
      ]
     },
     "execution_count": 390,
     "metadata": {},
     "output_type": "execute_result"
    }
   ],
   "source": [
    "baseline = mean_squared_error(stream['rating'], stream['baseline'])\n",
    "fifo_mse = mean_squared_error(stream['rating'], stream['fifo'])\n",
    "pending_mse = mean_squared_error(stream['rating'], stream['pending'])\n",
    "fewest_mse = mean_squared_error(stream['rating'], stream['fewest'])\n",
    "baseline, fifo_mse, pending_mse, fewest_mse"
   ]
  },
  {
   "cell_type": "code",
   "execution_count": 377,
   "id": "5eed6fd4",
   "metadata": {},
   "outputs": [
    {
     "data": {
      "text/plain": [
       "[['fifo_implicit_1000_10_predictions',\n",
       "  186.3884220123291,\n",
       "  0.5682277550621297,\n",
       "  0.5687174741295385],\n",
       " ['pending_implicit_1000_10_predictions',\n",
       "  182.12898111343384,\n",
       "  0.5683077844094129,\n",
       "  0.5687174741295385],\n",
       " ['fewest_implicit_1000_10_predictions',\n",
       "  173.6549949645996,\n",
       "  0.5683425110691159,\n",
       "  0.5687174741295385]]"
      ]
     },
     "execution_count": 377,
     "metadata": {},
     "output_type": "execute_result"
    }
   ],
   "source": [
    "experiments"
   ]
  },
  {
   "cell_type": "code",
   "execution_count": 294,
   "id": "ab6103d1",
   "metadata": {},
   "outputs": [
    {
     "data": {
      "text/plain": [
       "{numpy.int64}"
      ]
     },
     "execution_count": 294,
     "metadata": {},
     "output_type": "execute_result"
    }
   ],
   "source": [
    "set([type(x) for x in list(data_to_send.keys())])"
   ]
  },
  {
   "cell_type": "code",
   "execution_count": 272,
   "id": "f94d1cd4",
   "metadata": {},
   "outputs": [
    {
     "data": {
      "text/html": [
       "<div>\n",
       "<style scoped>\n",
       "    .dataframe tbody tr th:only-of-type {\n",
       "        vertical-align: middle;\n",
       "    }\n",
       "\n",
       "    .dataframe tbody tr th {\n",
       "        vertical-align: top;\n",
       "    }\n",
       "\n",
       "    .dataframe thead th {\n",
       "        text-align: right;\n",
       "    }\n",
       "</style>\n",
       "<table border=\"1\" class=\"dataframe\">\n",
       "  <thead>\n",
       "    <tr style=\"text-align: right;\">\n",
       "      <th></th>\n",
       "      <th>userId</th>\n",
       "      <th>movieId</th>\n",
       "      <th>explicit</th>\n",
       "      <th>timestamp</th>\n",
       "      <th>rating</th>\n",
       "    </tr>\n",
       "  </thead>\n",
       "  <tbody>\n",
       "    <tr>\n",
       "      <th>0</th>\n",
       "      <td>1</td>\n",
       "      <td>1193</td>\n",
       "      <td>5</td>\n",
       "      <td>978300760</td>\n",
       "      <td>1</td>\n",
       "    </tr>\n",
       "    <tr>\n",
       "      <th>1</th>\n",
       "      <td>1</td>\n",
       "      <td>661</td>\n",
       "      <td>3</td>\n",
       "      <td>978302109</td>\n",
       "      <td>0</td>\n",
       "    </tr>\n",
       "    <tr>\n",
       "      <th>2</th>\n",
       "      <td>1</td>\n",
       "      <td>914</td>\n",
       "      <td>3</td>\n",
       "      <td>978301968</td>\n",
       "      <td>0</td>\n",
       "    </tr>\n",
       "    <tr>\n",
       "      <th>3</th>\n",
       "      <td>1</td>\n",
       "      <td>3408</td>\n",
       "      <td>4</td>\n",
       "      <td>978300275</td>\n",
       "      <td>1</td>\n",
       "    </tr>\n",
       "    <tr>\n",
       "      <th>4</th>\n",
       "      <td>1</td>\n",
       "      <td>2355</td>\n",
       "      <td>5</td>\n",
       "      <td>978824291</td>\n",
       "      <td>1</td>\n",
       "    </tr>\n",
       "    <tr>\n",
       "      <th>...</th>\n",
       "      <td>...</td>\n",
       "      <td>...</td>\n",
       "      <td>...</td>\n",
       "      <td>...</td>\n",
       "      <td>...</td>\n",
       "    </tr>\n",
       "    <tr>\n",
       "      <th>1000126</th>\n",
       "      <td>6040</td>\n",
       "      <td>1333</td>\n",
       "      <td>4</td>\n",
       "      <td>997454140</td>\n",
       "      <td>1</td>\n",
       "    </tr>\n",
       "    <tr>\n",
       "      <th>1000162</th>\n",
       "      <td>6040</td>\n",
       "      <td>3362</td>\n",
       "      <td>4</td>\n",
       "      <td>997453796</td>\n",
       "      <td>1</td>\n",
       "    </tr>\n",
       "    <tr>\n",
       "      <th>1000167</th>\n",
       "      <td>6040</td>\n",
       "      <td>161</td>\n",
       "      <td>3</td>\n",
       "      <td>997454486</td>\n",
       "      <td>0</td>\n",
       "    </tr>\n",
       "    <tr>\n",
       "      <th>1000169</th>\n",
       "      <td>6040</td>\n",
       "      <td>2725</td>\n",
       "      <td>4</td>\n",
       "      <td>997454180</td>\n",
       "      <td>1</td>\n",
       "    </tr>\n",
       "    <tr>\n",
       "      <th>1000172</th>\n",
       "      <td>6040</td>\n",
       "      <td>1784</td>\n",
       "      <td>3</td>\n",
       "      <td>997454464</td>\n",
       "      <td>0</td>\n",
       "    </tr>\n",
       "  </tbody>\n",
       "</table>\n",
       "<p>499218 rows × 5 columns</p>\n",
       "</div>"
      ],
      "text/plain": [
       "         userId  movieId  explicit  timestamp  rating\n",
       "0             1     1193         5  978300760       1\n",
       "1             1      661         3  978302109       0\n",
       "2             1      914         3  978301968       0\n",
       "3             1     3408         4  978300275       1\n",
       "4             1     2355         5  978824291       1\n",
       "...         ...      ...       ...        ...     ...\n",
       "1000126    6040     1333         4  997454140       1\n",
       "1000162    6040     3362         4  997453796       1\n",
       "1000167    6040      161         3  997454486       0\n",
       "1000169    6040     2725         4  997454180       1\n",
       "1000172    6040     1784         3  997454464       0\n",
       "\n",
       "[499218 rows x 5 columns]"
      ]
     },
     "execution_count": 272,
     "metadata": {},
     "output_type": "execute_result"
    }
   ],
   "source": [
    "stream_df"
   ]
  }
 ],
 "metadata": {
  "kernelspec": {
   "display_name": "Python 3 (ipykernel)",
   "language": "python",
   "name": "python3"
  },
  "language_info": {
   "codemirror_mode": {
    "name": "ipython",
    "version": 3
   },
   "file_extension": ".py",
   "mimetype": "text/x-python",
   "name": "python",
   "nbconvert_exporter": "python",
   "pygments_lexer": "ipython3",
   "version": "3.8.13"
  }
 },
 "nbformat": 4,
 "nbformat_minor": 5
}
