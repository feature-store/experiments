{
 "cells": [
  {
   "cell_type": "code",
   "execution_count": 1,
   "id": "a7650d78",
   "metadata": {},
   "outputs": [],
   "source": [
    "import sys \n",
    "sys.path.insert(1, \"../\")\n",
    "import pandas as pd\n",
    "import matplotlib.pyplot as plt\n",
    "import os\n",
    "import numpy as np\n",
    "import ast\n",
    "\n",
    "import dask.dataframe as dd\n",
    "from dask.dataframe import from_pandas\n",
    "\n",
    "from workloads.util import use_results, use_dataset, join_queries_features\n",
    "\n",
    "%load_ext autoreload\n",
    "%autoreload 2"
   ]
  },
  {
   "cell_type": "code",
   "execution_count": 2,
   "id": "dcd0fcfb",
   "metadata": {},
   "outputs": [
    {
     "name": "stdout",
     "output_type": "stream",
     "text": [
      "/data/wooders/ralf-vldb//datasets/stl-yahoo-A4-keys-100-interval-10000-events-200000-queries-200000\n",
      "Downloading from aws: vldb\n",
      "/data/wooders/ralf-vldb//results/stl-yahoo-A4-keys-100-interval-10000-events-200000-queries-200000\n",
      "/data/wooders/ralf-vldb//datasets/stl-yahoo-A4-keys-100-interval-10000-events-200000-queries-200000\n"
     ]
    }
   ],
   "source": [
    "experiment = \"stl-yahoo-A4-keys-100-interval-10000-events-200000-queries-200000\"\n",
    "\n",
    "results_dir = use_results(experiment)\n",
    "dataset_dir = use_dataset(experiment, redownload=True)\n",
    "print(results_dir)\n",
    "print(dataset_dir)"
   ]
  },
  {
   "cell_type": "code",
   "execution_count": 3,
   "id": "d812737c",
   "metadata": {},
   "outputs": [],
   "source": [
    "events_df = pd.read_csv(f\"{dataset_dir}/events.csv\")\n",
    "oracle_df = pd.read_csv(f\"{dataset_dir}/oracle_features_672.csv\").dropna()\n",
    "oracle_df[\"seasonality\"] = oracle_df['seasonality'].dropna().apply(ast.literal_eval)"
   ]
  },
  {
   "cell_type": "code",
   "execution_count": 4,
   "id": "1e87e087",
   "metadata": {},
   "outputs": [],
   "source": [
    "queries_df = pd.read_csv(f\"{dataset_dir}/queries.csv\").set_index(\"query_id\", drop=False)"
   ]
  },
  {
   "cell_type": "markdown",
   "id": "abb5aa7e",
   "metadata": {},
   "source": [
    "## Check Single Result "
   ]
  },
  {
   "cell_type": "code",
   "execution_count": 5,
   "id": "1eb99882",
   "metadata": {},
   "outputs": [],
   "source": [
    "def join_data(result_df, timestamp_df, queries_df, oracle_df):\n",
    "    start_ts = timestamp_df.timestamp.min()\n",
    "    \n",
    "    queries_df = queries_df.merge(timestamp_df, on=\"timestamp_ms\").set_index(\"query_id\", drop=False)\n",
    "    #queries_df.timestamp = queries_df.timestamp - start_ts\n",
    "    \n",
    "    oracle_df = oracle_df.merge(timestamp_df, on=\"timestamp_ms\")\n",
    "    #oracle_df.timestamp = oracle_df.timestamp - start_ts\n",
    "    \n",
    "    joined_oracle_df = queries_df.merge(oracle_df, on=[\"timestamp_ms\", \"key_id\", \"value\"]).set_index(\"query_id\", drop=False)\n",
    "    joined_df = join_queries_features(queries_df, result_df).set_index(\"query_id\", drop=False)\n",
    "    \n",
    "    return joined_oracle_df, joined_df"
   ]
  },
  {
   "cell_type": "code",
   "execution_count": 6,
   "id": "0c42f3b6",
   "metadata": {},
   "outputs": [],
   "source": [
    "result_file = \"results_workers_4_lifo_window_672_slide_48.csv\"\n",
    "timestamp_file = \"results_workers_4_lifo_window_672_slide_48_timestamps.csv\"\n",
    "result_df = pd.read_csv(f\"{results_dir}/{result_file}\")\n",
    "result_df['trend'] = result_df['trend'].dropna().apply(ast.literal_eval)\n",
    "result_df['seasonality'] = result_df['seasonality'].dropna().apply(ast.literal_eval)\n",
    "timestamp_df = pd.read_csv(f\"{results_dir}/{timestamp_file}\")"
   ]
  },
  {
   "cell_type": "code",
   "execution_count": 7,
   "id": "52468594",
   "metadata": {},
   "outputs": [
    {
     "ename": "KeyError",
     "evalue": "'timestamp'",
     "output_type": "error",
     "traceback": [
      "\u001b[0;31m---------------------------------------------------------------------------\u001b[0m",
      "\u001b[0;31mKeyError\u001b[0m                                  Traceback (most recent call last)",
      "\u001b[0;32m<ipython-input-7-78fe553c14a7>\u001b[0m in \u001b[0;36m<module>\u001b[0;34m\u001b[0m\n\u001b[0;32m----> 1\u001b[0;31m \u001b[0moracle_features_df\u001b[0m\u001b[0;34m,\u001b[0m \u001b[0mfeatures_df\u001b[0m \u001b[0;34m=\u001b[0m \u001b[0mjoin_data\u001b[0m\u001b[0;34m(\u001b[0m\u001b[0mresult_df\u001b[0m\u001b[0;34m,\u001b[0m \u001b[0mtimestamp_df\u001b[0m\u001b[0;34m,\u001b[0m \u001b[0mqueries_df\u001b[0m\u001b[0;34m,\u001b[0m \u001b[0moracle_df\u001b[0m\u001b[0;34m)\u001b[0m\u001b[0;34m\u001b[0m\u001b[0;34m\u001b[0m\u001b[0m\n\u001b[0m",
      "\u001b[0;32m<ipython-input-5-e9d27002df8f>\u001b[0m in \u001b[0;36mjoin_data\u001b[0;34m(result_df, timestamp_df, queries_df, oracle_df)\u001b[0m\n\u001b[1;32m      9\u001b[0m \u001b[0;34m\u001b[0m\u001b[0m\n\u001b[1;32m     10\u001b[0m     \u001b[0mjoined_oracle_df\u001b[0m \u001b[0;34m=\u001b[0m \u001b[0mqueries_df\u001b[0m\u001b[0;34m.\u001b[0m\u001b[0mmerge\u001b[0m\u001b[0;34m(\u001b[0m\u001b[0moracle_df\u001b[0m\u001b[0;34m,\u001b[0m \u001b[0mon\u001b[0m\u001b[0;34m=\u001b[0m\u001b[0;34m[\u001b[0m\u001b[0;34m\"timestamp_ms\"\u001b[0m\u001b[0;34m,\u001b[0m \u001b[0;34m\"key_id\"\u001b[0m\u001b[0;34m,\u001b[0m \u001b[0;34m\"value\"\u001b[0m\u001b[0;34m]\u001b[0m\u001b[0;34m)\u001b[0m\u001b[0;34m.\u001b[0m\u001b[0mset_index\u001b[0m\u001b[0;34m(\u001b[0m\u001b[0;34m\"query_id\"\u001b[0m\u001b[0;34m,\u001b[0m \u001b[0mdrop\u001b[0m\u001b[0;34m=\u001b[0m\u001b[0;32mFalse\u001b[0m\u001b[0;34m)\u001b[0m\u001b[0;34m\u001b[0m\u001b[0;34m\u001b[0m\u001b[0m\n\u001b[0;32m---> 11\u001b[0;31m     \u001b[0mjoined_df\u001b[0m \u001b[0;34m=\u001b[0m \u001b[0mjoin_queries_features\u001b[0m\u001b[0;34m(\u001b[0m\u001b[0mqueries_df\u001b[0m\u001b[0;34m,\u001b[0m \u001b[0mresult_df\u001b[0m\u001b[0;34m)\u001b[0m\u001b[0;34m.\u001b[0m\u001b[0mset_index\u001b[0m\u001b[0;34m(\u001b[0m\u001b[0;34m\"query_id\"\u001b[0m\u001b[0;34m,\u001b[0m \u001b[0mdrop\u001b[0m\u001b[0;34m=\u001b[0m\u001b[0;32mFalse\u001b[0m\u001b[0;34m)\u001b[0m\u001b[0;34m\u001b[0m\u001b[0;34m\u001b[0m\u001b[0m\n\u001b[0m\u001b[1;32m     12\u001b[0m \u001b[0;34m\u001b[0m\u001b[0m\n\u001b[1;32m     13\u001b[0m     \u001b[0;32mreturn\u001b[0m \u001b[0mjoined_oracle_df\u001b[0m\u001b[0;34m,\u001b[0m \u001b[0mjoined_df\u001b[0m\u001b[0;34m\u001b[0m\u001b[0;34m\u001b[0m\u001b[0m\n",
      "\u001b[0;32m~/experiments/workloads/util.py\u001b[0m in \u001b[0;36mjoin_queries_features\u001b[0;34m(queries_df, features_df, time_field, key_field)\u001b[0m\n\u001b[1;32m    166\u001b[0m \u001b[0;34m\u001b[0m\u001b[0m\n\u001b[1;32m    167\u001b[0m     \u001b[0mqueries_df\u001b[0m \u001b[0;34m=\u001b[0m \u001b[0mqueries_df\u001b[0m\u001b[0;34m.\u001b[0m\u001b[0msort_values\u001b[0m\u001b[0;34m(\u001b[0m\u001b[0;34m[\u001b[0m\u001b[0mkey_field\u001b[0m\u001b[0;34m,\u001b[0m \u001b[0mtime_field\u001b[0m\u001b[0;34m]\u001b[0m\u001b[0;34m)\u001b[0m\u001b[0;34m\u001b[0m\u001b[0;34m\u001b[0m\u001b[0m\n\u001b[0;32m--> 168\u001b[0;31m     \u001b[0mfeatures_df\u001b[0m \u001b[0;34m=\u001b[0m \u001b[0mfeatures_df\u001b[0m\u001b[0;34m.\u001b[0m\u001b[0msort_values\u001b[0m\u001b[0;34m(\u001b[0m\u001b[0;34m[\u001b[0m\u001b[0mkey_field\u001b[0m\u001b[0;34m,\u001b[0m \u001b[0mtime_field\u001b[0m\u001b[0;34m]\u001b[0m\u001b[0;34m)\u001b[0m\u001b[0;34m\u001b[0m\u001b[0;34m\u001b[0m\u001b[0m\n\u001b[0m\u001b[1;32m    169\u001b[0m \u001b[0;34m\u001b[0m\u001b[0m\n\u001b[1;32m    170\u001b[0m     \u001b[0mfi\u001b[0m \u001b[0;34m=\u001b[0m \u001b[0;36m0\u001b[0m\u001b[0;34m\u001b[0m\u001b[0;34m\u001b[0m\u001b[0m\n",
      "\u001b[0;32m/data/wooders/anaconda3/lib/python3.8/site-packages/pandas/core/frame.py\u001b[0m in \u001b[0;36msort_values\u001b[0;34m(self, by, axis, ascending, inplace, kind, na_position, ignore_index, key)\u001b[0m\n\u001b[1;32m   5440\u001b[0m         \u001b[0;32mif\u001b[0m \u001b[0mlen\u001b[0m\u001b[0;34m(\u001b[0m\u001b[0mby\u001b[0m\u001b[0;34m)\u001b[0m \u001b[0;34m>\u001b[0m \u001b[0;36m1\u001b[0m\u001b[0;34m:\u001b[0m\u001b[0;34m\u001b[0m\u001b[0;34m\u001b[0m\u001b[0m\n\u001b[1;32m   5441\u001b[0m \u001b[0;34m\u001b[0m\u001b[0m\n\u001b[0;32m-> 5442\u001b[0;31m             \u001b[0mkeys\u001b[0m \u001b[0;34m=\u001b[0m \u001b[0;34m[\u001b[0m\u001b[0mself\u001b[0m\u001b[0;34m.\u001b[0m\u001b[0m_get_label_or_level_values\u001b[0m\u001b[0;34m(\u001b[0m\u001b[0mx\u001b[0m\u001b[0;34m,\u001b[0m \u001b[0maxis\u001b[0m\u001b[0;34m=\u001b[0m\u001b[0maxis\u001b[0m\u001b[0;34m)\u001b[0m \u001b[0;32mfor\u001b[0m \u001b[0mx\u001b[0m \u001b[0;32min\u001b[0m \u001b[0mby\u001b[0m\u001b[0;34m]\u001b[0m\u001b[0;34m\u001b[0m\u001b[0;34m\u001b[0m\u001b[0m\n\u001b[0m\u001b[1;32m   5443\u001b[0m \u001b[0;34m\u001b[0m\u001b[0m\n\u001b[1;32m   5444\u001b[0m             \u001b[0;31m# need to rewrap columns in Series to apply key function\u001b[0m\u001b[0;34m\u001b[0m\u001b[0;34m\u001b[0m\u001b[0;34m\u001b[0m\u001b[0m\n",
      "\u001b[0;32m/data/wooders/anaconda3/lib/python3.8/site-packages/pandas/core/frame.py\u001b[0m in \u001b[0;36m<listcomp>\u001b[0;34m(.0)\u001b[0m\n\u001b[1;32m   5440\u001b[0m         \u001b[0;32mif\u001b[0m \u001b[0mlen\u001b[0m\u001b[0;34m(\u001b[0m\u001b[0mby\u001b[0m\u001b[0;34m)\u001b[0m \u001b[0;34m>\u001b[0m \u001b[0;36m1\u001b[0m\u001b[0;34m:\u001b[0m\u001b[0;34m\u001b[0m\u001b[0;34m\u001b[0m\u001b[0m\n\u001b[1;32m   5441\u001b[0m \u001b[0;34m\u001b[0m\u001b[0m\n\u001b[0;32m-> 5442\u001b[0;31m             \u001b[0mkeys\u001b[0m \u001b[0;34m=\u001b[0m \u001b[0;34m[\u001b[0m\u001b[0mself\u001b[0m\u001b[0;34m.\u001b[0m\u001b[0m_get_label_or_level_values\u001b[0m\u001b[0;34m(\u001b[0m\u001b[0mx\u001b[0m\u001b[0;34m,\u001b[0m \u001b[0maxis\u001b[0m\u001b[0;34m=\u001b[0m\u001b[0maxis\u001b[0m\u001b[0;34m)\u001b[0m \u001b[0;32mfor\u001b[0m \u001b[0mx\u001b[0m \u001b[0;32min\u001b[0m \u001b[0mby\u001b[0m\u001b[0;34m]\u001b[0m\u001b[0;34m\u001b[0m\u001b[0;34m\u001b[0m\u001b[0m\n\u001b[0m\u001b[1;32m   5443\u001b[0m \u001b[0;34m\u001b[0m\u001b[0m\n\u001b[1;32m   5444\u001b[0m             \u001b[0;31m# need to rewrap columns in Series to apply key function\u001b[0m\u001b[0;34m\u001b[0m\u001b[0;34m\u001b[0m\u001b[0;34m\u001b[0m\u001b[0m\n",
      "\u001b[0;32m/data/wooders/anaconda3/lib/python3.8/site-packages/pandas/core/generic.py\u001b[0m in \u001b[0;36m_get_label_or_level_values\u001b[0;34m(self, key, axis)\u001b[0m\n\u001b[1;32m   1682\u001b[0m             \u001b[0mvalues\u001b[0m \u001b[0;34m=\u001b[0m \u001b[0mself\u001b[0m\u001b[0;34m.\u001b[0m\u001b[0maxes\u001b[0m\u001b[0;34m[\u001b[0m\u001b[0maxis\u001b[0m\u001b[0;34m]\u001b[0m\u001b[0;34m.\u001b[0m\u001b[0mget_level_values\u001b[0m\u001b[0;34m(\u001b[0m\u001b[0mkey\u001b[0m\u001b[0;34m)\u001b[0m\u001b[0;34m.\u001b[0m\u001b[0m_values\u001b[0m\u001b[0;34m\u001b[0m\u001b[0;34m\u001b[0m\u001b[0m\n\u001b[1;32m   1683\u001b[0m         \u001b[0;32melse\u001b[0m\u001b[0;34m:\u001b[0m\u001b[0;34m\u001b[0m\u001b[0;34m\u001b[0m\u001b[0m\n\u001b[0;32m-> 1684\u001b[0;31m             \u001b[0;32mraise\u001b[0m \u001b[0mKeyError\u001b[0m\u001b[0;34m(\u001b[0m\u001b[0mkey\u001b[0m\u001b[0;34m)\u001b[0m\u001b[0;34m\u001b[0m\u001b[0;34m\u001b[0m\u001b[0m\n\u001b[0m\u001b[1;32m   1685\u001b[0m \u001b[0;34m\u001b[0m\u001b[0m\n\u001b[1;32m   1686\u001b[0m         \u001b[0;31m# Check for duplicates\u001b[0m\u001b[0;34m\u001b[0m\u001b[0;34m\u001b[0m\u001b[0;34m\u001b[0m\u001b[0m\n",
      "\u001b[0;31mKeyError\u001b[0m: 'timestamp'"
     ]
    }
   ],
   "source": [
    "oracle_features_df, features_df = join_data(result_df, timestamp_df, queries_df, oracle_df)"
   ]
  },
  {
   "cell_type": "code",
   "execution_count": null,
   "id": "7ee4cb52",
   "metadata": {},
   "outputs": [],
   "source": [
    "from workloads.stl.stl_util import predict, predict_seasonality\n",
    "from tqdm import tqdm "
   ]
  },
  {
   "cell_type": "code",
   "execution_count": null,
   "id": "afe72cf1",
   "metadata": {},
   "outputs": [],
   "source": [
    "def evaluate(features_df, oracle_features_df, queries_df): \n",
    "\n",
    "    predictions = [] \n",
    "    oracle_predictions = [] \n",
    "    values = [] \n",
    "\n",
    "    for query_id in tqdm(features_df.index): \n",
    "        #print(query_id)\n",
    "        of = oracle_features_df.loc[query_id]\n",
    "        f = features_df.loc[query_id]\n",
    "        q = queries_df.loc[query_id]\n",
    "\n",
    "        #print(features_df.loc[query_id].trend)\n",
    "\n",
    "        feature_prediction = predict(\n",
    "            float(q.value), \n",
    "            float(f.trend[-1]), \n",
    "            f.seasonality, \n",
    "            int(q.timestamp_ms), \n",
    "            int(f.timestamp_ms), \n",
    "            interval=5\n",
    "        )\n",
    "\n",
    "        oracle_prediction = predict(\n",
    "            q.value, \n",
    "            of.trend, \n",
    "            of.seasonality, \n",
    "            q.timestamp_ms, \n",
    "            of.timestamp_ms, \n",
    "            interval=5\n",
    "        )\n",
    "\n",
    "        assert of.timestamp_ms == q.timestamp_ms\n",
    "        assert of.value == q.value \n",
    "\n",
    "        #print(query_id, \"staleness\", q.timestamp_ms - f.timestamp_ms)\n",
    "        #print(feature_prediction, oracle_prediction)\n",
    "\n",
    "        feature_prediction_seasonality = predict_seasonality(\n",
    "            f.seasonality, \n",
    "            q.timestamp_ms, \n",
    "            of.timestamp_ms, \n",
    "            interval=5\n",
    "        )\n",
    "\n",
    "        oracle_prediction_seasonality = predict_seasonality(\n",
    "            of.seasonality, \n",
    "            q.timestamp_ms, \n",
    "            of.timestamp_ms, \n",
    "            interval=5\n",
    "        )\n",
    "\n",
    "        #print(\"seasonal\", feature_prediction_seasonality, oracle_prediction_seasonality)\n",
    "\n",
    "        predictions.append(feature_prediction)\n",
    "        oracle_predictions.append(oracle_prediction)\n",
    "        values.append(q.value)\n",
    "\n",
    "    features_df[\"predictions\"] = predictions\n",
    "    features_df[\"oracle_predictions\"] = oracle_predictions\n",
    "    features_df[\"value\"] = values\n",
    "    return features_df \n",
    "    "
   ]
  },
  {
   "cell_type": "code",
   "execution_count": null,
   "id": "dc715da2",
   "metadata": {},
   "outputs": [],
   "source": [
    "prediction_results_df = evaluate(features_df, oracle_features_df, queries_df)"
   ]
  },
  {
   "cell_type": "code",
   "execution_count": null,
   "id": "b2089879",
   "metadata": {},
   "outputs": [],
   "source": [
    "prediction_results_df"
   ]
  },
  {
   "cell_type": "code",
   "execution_count": null,
   "id": "a91e56e5",
   "metadata": {},
   "outputs": [],
   "source": [
    "from sktime.performance_metrics.forecasting import mean_squared_scaled_error"
   ]
  },
  {
   "cell_type": "code",
   "execution_count": null,
   "id": "2812d211",
   "metadata": {},
   "outputs": [],
   "source": [
    "key_loss = prediction_results_df.groupby(\"key_id\").apply(\n",
    "    lambda x: mean_squared_scaled_error(\n",
    "        y_true=x.predictions.to_numpy(), \n",
    "        y_pred=x.oracle_predictions.to_numpy(),\n",
    "        y_train=x.value.to_numpy(),\n",
    "    )\n",
    ")"
   ]
  },
  {
   "cell_type": "code",
   "execution_count": null,
   "id": "81e75504",
   "metadata": {},
   "outputs": [],
   "source": [
    "key_loss.sum() "
   ]
  },
  {
   "cell_type": "code",
   "execution_count": null,
   "id": "b4546ec4",
   "metadata": {},
   "outputs": [],
   "source": [
    "len(prediction_results_df.index)"
   ]
  },
  {
   "cell_type": "markdown",
   "id": "812280bf",
   "metadata": {},
   "source": [
    "## Evaluate and Plot Multiple Results "
   ]
  },
  {
   "cell_type": "code",
   "execution_count": null,
   "id": "0e6a0596",
   "metadata": {},
   "outputs": [],
   "source": []
  }
 ],
 "metadata": {
  "kernelspec": {
   "display_name": "Python 3",
   "language": "python",
   "name": "python3"
  },
  "language_info": {
   "codemirror_mode": {
    "name": "ipython",
    "version": 3
   },
   "file_extension": ".py",
   "mimetype": "text/x-python",
   "name": "python",
   "nbconvert_exporter": "python",
   "pygments_lexer": "ipython3",
   "version": "3.8.8"
  }
 },
 "nbformat": 4,
 "nbformat_minor": 5
}
