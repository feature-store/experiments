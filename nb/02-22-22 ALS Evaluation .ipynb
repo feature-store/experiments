{
 "cells": [
  {
   "cell_type": "code",
   "execution_count": 423,
   "id": "d34ec0ef",
   "metadata": {},
   "outputs": [
    {
     "name": "stdout",
     "output_type": "stream",
     "text": [
      "The autoreload extension is already loaded. To reload it, use:\n",
      "  %reload_ext autoreload\n"
     ]
    }
   ],
   "source": [
    "import pandas as pd\n",
    "import numpy as np\n",
    "import matplotlib.pyplot as plt\n",
    "from sklearn.metrics import mean_squared_error\n",
    "import time\n",
    "\n",
    "from pyspark.sql import SparkSession\n",
    "from pyspark.ml.evaluation import RegressionEvaluator\n",
    "from pyspark.ml.recommendation import ALS\n",
    "\n",
    "import ast\n",
    "\n",
    "from pprint import pprint\n",
    "\n",
    "import sys \n",
    "sys.path.insert(1, \"../\")\n",
    "from workloads.util import use_results, use_dataset, read_config, log_dataset, join_queries_features\n",
    "\n",
    "%load_ext autoreload\n",
    "%autoreload 2"
   ]
  },
  {
   "cell_type": "code",
   "execution_count": 146,
   "id": "b7820ea3",
   "metadata": {},
   "outputs": [],
   "source": [
    "experiment = \"results_workers_1_fifo_learningrate_0.02_userfeaturereg_0.01_sleep_0.1\""
   ]
  },
  {
   "cell_type": "code",
   "execution_count": 147,
   "id": "c31d8a87",
   "metadata": {},
   "outputs": [
    {
     "name": "stdout",
     "output_type": "stream",
     "text": [
      "/data/wooders/ralf-vldb//datasets/ml-100k-features\n",
      "/data/wooders/ralf-vldb//datasets/ml-100k-features\n",
      "/data/wooders/ralf-vldb//results/ml-100k-features\n"
     ]
    }
   ],
   "source": [
    "dataset_dir = use_dataset(\"ml-100k-features\")\n",
    "results_dir = use_results(\"ml-100k-features\")\n",
    "print(dataset_dir)\n",
    "print(results_dir)"
   ]
  },
  {
   "cell_type": "code",
   "execution_count": 351,
   "id": "a825a678",
   "metadata": {},
   "outputs": [],
   "source": [
    "feature_updates = pd.read_csv(f\"{results_dir}/{experiment}.csv\")"
   ]
  },
  {
   "cell_type": "code",
   "execution_count": 352,
   "id": "fb994abd",
   "metadata": {},
   "outputs": [],
   "source": [
    "feature_updates[\"user_features\"] = feature_updates[\"user_features\"].apply(ast.literal_eval)"
   ]
  },
  {
   "cell_type": "code",
   "execution_count": 425,
   "id": "b02f2e13",
   "metadata": {},
   "outputs": [],
   "source": [
    "# create map to map timestamps -> real timestamps \n",
    "timestamp_to_ingest_time = dict(zip(feature_updates.timestamp, feature_updates.ingest_time))\n",
    "#pprint(timestamp_to_ingest_time)"
   ]
  },
  {
   "cell_type": "code",
   "execution_count": 356,
   "id": "31773611",
   "metadata": {},
   "outputs": [
    {
     "data": {
      "text/html": [
       "<div>\n",
       "<style scoped>\n",
       "    .dataframe tbody tr th:only-of-type {\n",
       "        vertical-align: middle;\n",
       "    }\n",
       "\n",
       "    .dataframe tbody tr th {\n",
       "        vertical-align: top;\n",
       "    }\n",
       "\n",
       "    .dataframe thead th {\n",
       "        text-align: right;\n",
       "    }\n",
       "</style>\n",
       "<table border=\"1\" class=\"dataframe\">\n",
       "  <thead>\n",
       "    <tr style=\"text-align: right;\">\n",
       "      <th></th>\n",
       "      <th>user_id</th>\n",
       "      <th>user_features</th>\n",
       "      <th>ingest_time</th>\n",
       "      <th>timestamp</th>\n",
       "      <th>processing_time</th>\n",
       "    </tr>\n",
       "  </thead>\n",
       "  <tbody>\n",
       "    <tr>\n",
       "      <th>0</th>\n",
       "      <td>712</td>\n",
       "      <td>[0.0002096466615135222, 0.00028415484285569106...</td>\n",
       "      <td>1.645683e+09</td>\n",
       "      <td>0.0</td>\n",
       "      <td>1.645683e+09</td>\n",
       "    </tr>\n",
       "    <tr>\n",
       "      <th>1</th>\n",
       "      <td>23</td>\n",
       "      <td>[0.1551610140794084, 0.05534532873818174, 0.39...</td>\n",
       "      <td>1.645683e+09</td>\n",
       "      <td>0.0</td>\n",
       "      <td>1.645683e+09</td>\n",
       "    </tr>\n",
       "    <tr>\n",
       "      <th>2</th>\n",
       "      <td>23</td>\n",
       "      <td>[0.1558862970918417, 0.05535640001818538, 0.39...</td>\n",
       "      <td>1.645683e+09</td>\n",
       "      <td>0.0</td>\n",
       "      <td>1.645683e+09</td>\n",
       "    </tr>\n",
       "    <tr>\n",
       "      <th>3</th>\n",
       "      <td>23</td>\n",
       "      <td>[0.15557652164489713, 0.05555409487916563, 0.3...</td>\n",
       "      <td>1.645683e+09</td>\n",
       "      <td>0.0</td>\n",
       "      <td>1.645683e+09</td>\n",
       "    </tr>\n",
       "    <tr>\n",
       "      <th>4</th>\n",
       "      <td>23</td>\n",
       "      <td>[0.15682565615687008, 0.056276125762296236, 0....</td>\n",
       "      <td>1.645683e+09</td>\n",
       "      <td>0.0</td>\n",
       "      <td>1.645683e+09</td>\n",
       "    </tr>\n",
       "    <tr>\n",
       "      <th>...</th>\n",
       "      <td>...</td>\n",
       "      <td>...</td>\n",
       "      <td>...</td>\n",
       "      <td>...</td>\n",
       "      <td>...</td>\n",
       "    </tr>\n",
       "    <tr>\n",
       "      <th>0</th>\n",
       "      <td>939</td>\n",
       "      <td>[0.05236969143152237, 0.06957797706127167, 0.1...</td>\n",
       "      <td>NaN</td>\n",
       "      <td>NaN</td>\n",
       "      <td>0.000000e+00</td>\n",
       "    </tr>\n",
       "    <tr>\n",
       "      <th>0</th>\n",
       "      <td>940</td>\n",
       "      <td>[0.1037789061665535, 0.0, 0.3266943097114563, ...</td>\n",
       "      <td>NaN</td>\n",
       "      <td>NaN</td>\n",
       "      <td>0.000000e+00</td>\n",
       "    </tr>\n",
       "    <tr>\n",
       "      <th>0</th>\n",
       "      <td>941</td>\n",
       "      <td>[0.3040238916873932, 0.16910012066364288, 0.15...</td>\n",
       "      <td>NaN</td>\n",
       "      <td>NaN</td>\n",
       "      <td>0.000000e+00</td>\n",
       "    </tr>\n",
       "    <tr>\n",
       "      <th>0</th>\n",
       "      <td>942</td>\n",
       "      <td>[0.08065348118543625, 0.0980977863073349, 0.26...</td>\n",
       "      <td>NaN</td>\n",
       "      <td>NaN</td>\n",
       "      <td>0.000000e+00</td>\n",
       "    </tr>\n",
       "    <tr>\n",
       "      <th>0</th>\n",
       "      <td>943</td>\n",
       "      <td>[0.14470918476581573, 0.145412877202034, 0.220...</td>\n",
       "      <td>NaN</td>\n",
       "      <td>NaN</td>\n",
       "      <td>0.000000e+00</td>\n",
       "    </tr>\n",
       "  </tbody>\n",
       "</table>\n",
       "<p>50317 rows × 5 columns</p>\n",
       "</div>"
      ],
      "text/plain": [
       "    user_id                                      user_features   ingest_time  \\\n",
       "0       712  [0.0002096466615135222, 0.00028415484285569106...  1.645683e+09   \n",
       "1        23  [0.1551610140794084, 0.05534532873818174, 0.39...  1.645683e+09   \n",
       "2        23  [0.1558862970918417, 0.05535640001818538, 0.39...  1.645683e+09   \n",
       "3        23  [0.15557652164489713, 0.05555409487916563, 0.3...  1.645683e+09   \n",
       "4        23  [0.15682565615687008, 0.056276125762296236, 0....  1.645683e+09   \n",
       "..      ...                                                ...           ...   \n",
       "0       939  [0.05236969143152237, 0.06957797706127167, 0.1...           NaN   \n",
       "0       940  [0.1037789061665535, 0.0, 0.3266943097114563, ...           NaN   \n",
       "0       941  [0.3040238916873932, 0.16910012066364288, 0.15...           NaN   \n",
       "0       942  [0.08065348118543625, 0.0980977863073349, 0.26...           NaN   \n",
       "0       943  [0.14470918476581573, 0.145412877202034, 0.220...           NaN   \n",
       "\n",
       "    timestamp  processing_time  \n",
       "0         0.0     1.645683e+09  \n",
       "1         0.0     1.645683e+09  \n",
       "2         0.0     1.645683e+09  \n",
       "3         0.0     1.645683e+09  \n",
       "4         0.0     1.645683e+09  \n",
       "..        ...              ...  \n",
       "0         NaN     0.000000e+00  \n",
       "0         NaN     0.000000e+00  \n",
       "0         NaN     0.000000e+00  \n",
       "0         NaN     0.000000e+00  \n",
       "0         NaN     0.000000e+00  \n",
       "\n",
       "[50317 rows x 5 columns]"
      ]
     },
     "execution_count": 356,
     "metadata": {},
     "output_type": "execute_result"
    }
   ],
   "source": [
    "feature_updates"
   ]
  },
  {
   "cell_type": "markdown",
   "id": "79184c92",
   "metadata": {},
   "source": [
    "## Read Batch Generated Features Data "
   ]
  },
  {
   "cell_type": "code",
   "execution_count": 138,
   "id": "6c862b18",
   "metadata": {},
   "outputs": [],
   "source": [
    "user_features_path = f\"{dataset_dir}/user_features.csv\"\n",
    "movie_features_path = f\"{dataset_dir}/movie_features.csv\"\n",
    "ratings_path = f\"{dataset_dir}/ratings.csv\""
   ]
  },
  {
   "cell_type": "code",
   "execution_count": 139,
   "id": "bf7e7455",
   "metadata": {},
   "outputs": [],
   "source": [
    "def get_features(file_path):\n",
    "    df = pd.read_csv(file_path)\n",
    "    features = dict()\n",
    "    for row in df.itertuples():\n",
    "        features[row.id] = np.array(eval(row.features))\n",
    "    return features "
   ]
  },
  {
   "cell_type": "code",
   "execution_count": 140,
   "id": "80ed6fb9",
   "metadata": {},
   "outputs": [],
   "source": [
    "def get_feature_update(features, row):\n",
    "    features[row.user_id] = np.array(eval(row.user_features))"
   ]
  },
  {
   "cell_type": "code",
   "execution_count": 333,
   "id": "f1d60a2e",
   "metadata": {},
   "outputs": [],
   "source": [
    "user_features = get_features(user_features_path)\n",
    "movie_features = get_features(movie_features_path)"
   ]
  },
  {
   "cell_type": "markdown",
   "id": "f007b5a2",
   "metadata": {},
   "source": [
    "### Join with feature updates file \n",
    "This is to make sure every query gets matched to *some* user feature in later steps. "
   ]
  },
  {
   "cell_type": "code",
   "execution_count": 357,
   "id": "cf7455bd",
   "metadata": {},
   "outputs": [],
   "source": [
    "for user_id in user_features.keys(): \n",
    "    # concate feature for time 0 \n",
    "    row = pd.DataFrame({\"user_id\": user_id, \"user_features\": [user_features[user_id]], \"processing_time\": 0})\n",
    "    feature_updates = pd.concat([feature_updates, row])"
   ]
  },
  {
   "cell_type": "code",
   "execution_count": 358,
   "id": "de05a135",
   "metadata": {},
   "outputs": [
    {
     "data": {
      "text/html": [
       "<div>\n",
       "<style scoped>\n",
       "    .dataframe tbody tr th:only-of-type {\n",
       "        vertical-align: middle;\n",
       "    }\n",
       "\n",
       "    .dataframe tbody tr th {\n",
       "        vertical-align: top;\n",
       "    }\n",
       "\n",
       "    .dataframe thead th {\n",
       "        text-align: right;\n",
       "    }\n",
       "</style>\n",
       "<table border=\"1\" class=\"dataframe\">\n",
       "  <thead>\n",
       "    <tr style=\"text-align: right;\">\n",
       "      <th></th>\n",
       "      <th>user_id</th>\n",
       "      <th>user_features</th>\n",
       "      <th>ingest_time</th>\n",
       "      <th>timestamp</th>\n",
       "      <th>processing_time</th>\n",
       "    </tr>\n",
       "  </thead>\n",
       "  <tbody>\n",
       "    <tr>\n",
       "      <th>0</th>\n",
       "      <td>943</td>\n",
       "      <td>[0.14470918476581573, 0.145412877202034, 0.220...</td>\n",
       "      <td>NaN</td>\n",
       "      <td>NaN</td>\n",
       "      <td>0.000000e+00</td>\n",
       "    </tr>\n",
       "    <tr>\n",
       "      <th>0</th>\n",
       "      <td>621</td>\n",
       "      <td>[0.1755983680486679, 0.0, 0.27002421021461487,...</td>\n",
       "      <td>NaN</td>\n",
       "      <td>NaN</td>\n",
       "      <td>0.000000e+00</td>\n",
       "    </tr>\n",
       "    <tr>\n",
       "      <th>0</th>\n",
       "      <td>622</td>\n",
       "      <td>[0.2228955328464508, 0.11773999780416489, 0.57...</td>\n",
       "      <td>NaN</td>\n",
       "      <td>NaN</td>\n",
       "      <td>0.000000e+00</td>\n",
       "    </tr>\n",
       "    <tr>\n",
       "      <th>0</th>\n",
       "      <td>623</td>\n",
       "      <td>[0.0, 0.05122954398393631, 0.3077024519443512,...</td>\n",
       "      <td>NaN</td>\n",
       "      <td>NaN</td>\n",
       "      <td>0.000000e+00</td>\n",
       "    </tr>\n",
       "    <tr>\n",
       "      <th>0</th>\n",
       "      <td>624</td>\n",
       "      <td>[0.34239625930786133, 0.0, 0.3182916045188904,...</td>\n",
       "      <td>NaN</td>\n",
       "      <td>NaN</td>\n",
       "      <td>0.000000e+00</td>\n",
       "    </tr>\n",
       "    <tr>\n",
       "      <th>...</th>\n",
       "      <td>...</td>\n",
       "      <td>...</td>\n",
       "      <td>...</td>\n",
       "      <td>...</td>\n",
       "      <td>...</td>\n",
       "    </tr>\n",
       "    <tr>\n",
       "      <th>49369</th>\n",
       "      <td>189</td>\n",
       "      <td>[0.47163313324145284, 0.168040033012125, 0.576...</td>\n",
       "      <td>1.645683e+09</td>\n",
       "      <td>493.0</td>\n",
       "      <td>1.645683e+09</td>\n",
       "    </tr>\n",
       "    <tr>\n",
       "      <th>49370</th>\n",
       "      <td>189</td>\n",
       "      <td>[0.47847857034944014, 0.16803789169600616, 0.5...</td>\n",
       "      <td>1.645683e+09</td>\n",
       "      <td>493.0</td>\n",
       "      <td>1.645683e+09</td>\n",
       "    </tr>\n",
       "    <tr>\n",
       "      <th>49371</th>\n",
       "      <td>189</td>\n",
       "      <td>[0.47831930167041725, 0.16795552192906438, 0.5...</td>\n",
       "      <td>1.645683e+09</td>\n",
       "      <td>493.0</td>\n",
       "      <td>1.645683e+09</td>\n",
       "    </tr>\n",
       "    <tr>\n",
       "      <th>49372</th>\n",
       "      <td>189</td>\n",
       "      <td>[0.4837641966762788, 0.16991983281024342, 0.58...</td>\n",
       "      <td>1.645683e+09</td>\n",
       "      <td>493.0</td>\n",
       "      <td>1.645683e+09</td>\n",
       "    </tr>\n",
       "    <tr>\n",
       "      <th>49373</th>\n",
       "      <td>189</td>\n",
       "      <td>[0.4881899128623218, 0.1733534076950373, 0.595...</td>\n",
       "      <td>1.645683e+09</td>\n",
       "      <td>493.0</td>\n",
       "      <td>1.645683e+09</td>\n",
       "    </tr>\n",
       "  </tbody>\n",
       "</table>\n",
       "<p>51260 rows × 5 columns</p>\n",
       "</div>"
      ],
      "text/plain": [
       "       user_id                                      user_features  \\\n",
       "0          943  [0.14470918476581573, 0.145412877202034, 0.220...   \n",
       "0          621  [0.1755983680486679, 0.0, 0.27002421021461487,...   \n",
       "0          622  [0.2228955328464508, 0.11773999780416489, 0.57...   \n",
       "0          623  [0.0, 0.05122954398393631, 0.3077024519443512,...   \n",
       "0          624  [0.34239625930786133, 0.0, 0.3182916045188904,...   \n",
       "...        ...                                                ...   \n",
       "49369      189  [0.47163313324145284, 0.168040033012125, 0.576...   \n",
       "49370      189  [0.47847857034944014, 0.16803789169600616, 0.5...   \n",
       "49371      189  [0.47831930167041725, 0.16795552192906438, 0.5...   \n",
       "49372      189  [0.4837641966762788, 0.16991983281024342, 0.58...   \n",
       "49373      189  [0.4881899128623218, 0.1733534076950373, 0.595...   \n",
       "\n",
       "        ingest_time  timestamp  processing_time  \n",
       "0               NaN        NaN     0.000000e+00  \n",
       "0               NaN        NaN     0.000000e+00  \n",
       "0               NaN        NaN     0.000000e+00  \n",
       "0               NaN        NaN     0.000000e+00  \n",
       "0               NaN        NaN     0.000000e+00  \n",
       "...             ...        ...              ...  \n",
       "49369  1.645683e+09      493.0     1.645683e+09  \n",
       "49370  1.645683e+09      493.0     1.645683e+09  \n",
       "49371  1.645683e+09      493.0     1.645683e+09  \n",
       "49372  1.645683e+09      493.0     1.645683e+09  \n",
       "49373  1.645683e+09      493.0     1.645683e+09  \n",
       "\n",
       "[51260 rows x 5 columns]"
      ]
     },
     "execution_count": 358,
     "metadata": {},
     "output_type": "execute_result"
    }
   ],
   "source": [
    "feature_updates.sort_values(by=\"processing_time\")"
   ]
  },
  {
   "cell_type": "markdown",
   "id": "519661c8",
   "metadata": {},
   "source": [
    "## Read Test Data (i.e. queries)"
   ]
  },
  {
   "cell_type": "code",
   "execution_count": 359,
   "id": "c9b88f91",
   "metadata": {},
   "outputs": [],
   "source": [
    "test_data = pd.read_csv(ratings_path)"
   ]
  },
  {
   "cell_type": "code",
   "execution_count": 360,
   "id": "44dff579",
   "metadata": {},
   "outputs": [
    {
     "data": {
      "text/html": [
       "<div>\n",
       "<style scoped>\n",
       "    .dataframe tbody tr th:only-of-type {\n",
       "        vertical-align: middle;\n",
       "    }\n",
       "\n",
       "    .dataframe tbody tr th {\n",
       "        vertical-align: top;\n",
       "    }\n",
       "\n",
       "    .dataframe thead th {\n",
       "        text-align: right;\n",
       "    }\n",
       "</style>\n",
       "<table border=\"1\" class=\"dataframe\">\n",
       "  <thead>\n",
       "    <tr style=\"text-align: right;\">\n",
       "      <th></th>\n",
       "      <th>user_id</th>\n",
       "      <th>movie_id</th>\n",
       "      <th>rating</th>\n",
       "      <th>timestamp</th>\n",
       "      <th>processing_time</th>\n",
       "      <th>query_id</th>\n",
       "    </tr>\n",
       "  </thead>\n",
       "  <tbody>\n",
       "    <tr>\n",
       "      <th>0</th>\n",
       "      <td>712</td>\n",
       "      <td>506</td>\n",
       "      <td>3</td>\n",
       "      <td>0</td>\n",
       "      <td>1.645683e+09</td>\n",
       "      <td>0</td>\n",
       "    </tr>\n",
       "    <tr>\n",
       "      <th>1</th>\n",
       "      <td>23</td>\n",
       "      <td>739</td>\n",
       "      <td>2</td>\n",
       "      <td>0</td>\n",
       "      <td>1.645683e+09</td>\n",
       "      <td>1</td>\n",
       "    </tr>\n",
       "    <tr>\n",
       "      <th>2</th>\n",
       "      <td>23</td>\n",
       "      <td>530</td>\n",
       "      <td>4</td>\n",
       "      <td>0</td>\n",
       "      <td>1.645683e+09</td>\n",
       "      <td>2</td>\n",
       "    </tr>\n",
       "    <tr>\n",
       "      <th>3</th>\n",
       "      <td>23</td>\n",
       "      <td>211</td>\n",
       "      <td>4</td>\n",
       "      <td>0</td>\n",
       "      <td>1.645683e+09</td>\n",
       "      <td>3</td>\n",
       "    </tr>\n",
       "    <tr>\n",
       "      <th>4</th>\n",
       "      <td>23</td>\n",
       "      <td>511</td>\n",
       "      <td>5</td>\n",
       "      <td>0</td>\n",
       "      <td>1.645683e+09</td>\n",
       "      <td>4</td>\n",
       "    </tr>\n",
       "    <tr>\n",
       "      <th>...</th>\n",
       "      <td>...</td>\n",
       "      <td>...</td>\n",
       "      <td>...</td>\n",
       "      <td>...</td>\n",
       "      <td>...</td>\n",
       "      <td>...</td>\n",
       "    </tr>\n",
       "    <tr>\n",
       "      <th>49394</th>\n",
       "      <td>189</td>\n",
       "      <td>381</td>\n",
       "      <td>3</td>\n",
       "      <td>493</td>\n",
       "      <td>1.645683e+09</td>\n",
       "      <td>49394</td>\n",
       "    </tr>\n",
       "    <tr>\n",
       "      <th>49395</th>\n",
       "      <td>189</td>\n",
       "      <td>378</td>\n",
       "      <td>4</td>\n",
       "      <td>493</td>\n",
       "      <td>1.645683e+09</td>\n",
       "      <td>49395</td>\n",
       "    </tr>\n",
       "    <tr>\n",
       "      <th>49396</th>\n",
       "      <td>189</td>\n",
       "      <td>526</td>\n",
       "      <td>4</td>\n",
       "      <td>493</td>\n",
       "      <td>1.645683e+09</td>\n",
       "      <td>49396</td>\n",
       "    </tr>\n",
       "    <tr>\n",
       "      <th>49397</th>\n",
       "      <td>189</td>\n",
       "      <td>28</td>\n",
       "      <td>4</td>\n",
       "      <td>493</td>\n",
       "      <td>1.645683e+09</td>\n",
       "      <td>49397</td>\n",
       "    </tr>\n",
       "    <tr>\n",
       "      <th>49398</th>\n",
       "      <td>189</td>\n",
       "      <td>732</td>\n",
       "      <td>2</td>\n",
       "      <td>493</td>\n",
       "      <td>1.645683e+09</td>\n",
       "      <td>49398</td>\n",
       "    </tr>\n",
       "  </tbody>\n",
       "</table>\n",
       "<p>49399 rows × 6 columns</p>\n",
       "</div>"
      ],
      "text/plain": [
       "       user_id  movie_id  rating  timestamp  processing_time  query_id\n",
       "0          712       506       3          0     1.645683e+09         0\n",
       "1           23       739       2          0     1.645683e+09         1\n",
       "2           23       530       4          0     1.645683e+09         2\n",
       "3           23       211       4          0     1.645683e+09         3\n",
       "4           23       511       5          0     1.645683e+09         4\n",
       "...        ...       ...     ...        ...              ...       ...\n",
       "49394      189       381       3        493     1.645683e+09     49394\n",
       "49395      189       378       4        493     1.645683e+09     49395\n",
       "49396      189       526       4        493     1.645683e+09     49396\n",
       "49397      189        28       4        493     1.645683e+09     49397\n",
       "49398      189       732       2        493     1.645683e+09     49398\n",
       "\n",
       "[49399 rows x 6 columns]"
      ]
     },
     "execution_count": 360,
     "metadata": {},
     "output_type": "execute_result"
    }
   ],
   "source": [
    "# assign query timestamps based of ingest_time of feature timestamps \n",
    "queries_df = pd.DataFrame({\n",
    "    \"user_id\": test_data.user_id, \n",
    "    \"movie_id\": test_data.movie_id, \n",
    "    \"rating\": test_data.rating, \n",
    "    \"timestamp\": test_data.timestamp, \n",
    "    \"processing_time\": test_data.timestamp.apply(lambda x: timestamp_to_ingest_time[x] if x in timestamp_to_ingest_time else None)\n",
    "})\n",
    "queries_df = queries_df.dropna()\n",
    "queries_df[\"query_id\"] = queries_df.index\n",
    "queries_df"
   ]
  },
  {
   "cell_type": "markdown",
   "id": "7f7b4991",
   "metadata": {},
   "source": [
    "### Modify query processing time \n",
    "Probably more realistic to add a slight delay between when the update is sent to ralf (ingest_time) and when the query is made? "
   ]
  },
  {
   "cell_type": "code",
   "execution_count": 401,
   "id": "02cfb516",
   "metadata": {},
   "outputs": [],
   "source": [
    "queries_df[\"processing_time\"] = queries_df[\"processing_time\"] + 1"
   ]
  },
  {
   "cell_type": "markdown",
   "id": "dda712be",
   "metadata": {},
   "source": [
    "### Join queries with feature updates "
   ]
  },
  {
   "cell_type": "code",
   "execution_count": 402,
   "id": "b7d73877",
   "metadata": {},
   "outputs": [
    {
     "name": "stderr",
     "output_type": "stream",
     "text": [
      "100%|██████████| 49399/49399 [01:07<00:00, 732.79it/s]\n"
     ]
    }
   ],
   "source": [
    "tmp_joined_df = join_queries_features(queries_df, feature_updates, key_field=\"user_id\", time_field=\"processing_time\")"
   ]
  },
  {
   "cell_type": "code",
   "execution_count": 403,
   "id": "5add517c",
   "metadata": {},
   "outputs": [],
   "source": [
    "joined_df = tmp_joined_df.merge(queries_df, on=[\"query_id\", \"user_id\"], suffixes=(\"_feature\", \"_query\"))"
   ]
  },
  {
   "cell_type": "code",
   "execution_count": 405,
   "id": "d1bed249",
   "metadata": {},
   "outputs": [
    {
     "data": {
      "text/html": [
       "<div>\n",
       "<style scoped>\n",
       "    .dataframe tbody tr th:only-of-type {\n",
       "        vertical-align: middle;\n",
       "    }\n",
       "\n",
       "    .dataframe tbody tr th {\n",
       "        vertical-align: top;\n",
       "    }\n",
       "\n",
       "    .dataframe thead th {\n",
       "        text-align: right;\n",
       "    }\n",
       "</style>\n",
       "<table border=\"1\" class=\"dataframe\">\n",
       "  <thead>\n",
       "    <tr style=\"text-align: right;\">\n",
       "      <th></th>\n",
       "      <th>user_id</th>\n",
       "      <th>user_features</th>\n",
       "      <th>ingest_time</th>\n",
       "      <th>timestamp_feature</th>\n",
       "      <th>processing_time_feature</th>\n",
       "      <th>query_id</th>\n",
       "      <th>query_user_id</th>\n",
       "      <th>query_timestamp</th>\n",
       "      <th>movie_id</th>\n",
       "      <th>rating</th>\n",
       "      <th>timestamp_query</th>\n",
       "      <th>processing_time_query</th>\n",
       "    </tr>\n",
       "  </thead>\n",
       "  <tbody>\n",
       "    <tr>\n",
       "      <th>0</th>\n",
       "      <td>1</td>\n",
       "      <td>[0.32145630734586167, 0.062321302718138974, 0....</td>\n",
       "      <td>1.645683e+09</td>\n",
       "      <td>55.0</td>\n",
       "      <td>1.645683e+09</td>\n",
       "      <td>4599</td>\n",
       "      <td>1.0</td>\n",
       "      <td>1.645683e+09</td>\n",
       "      <td>46</td>\n",
       "      <td>4</td>\n",
       "      <td>46</td>\n",
       "      <td>1.645683e+09</td>\n",
       "    </tr>\n",
       "    <tr>\n",
       "      <th>1</th>\n",
       "      <td>1</td>\n",
       "      <td>[0.32145630734586167, 0.062321302718138974, 0....</td>\n",
       "      <td>1.645683e+09</td>\n",
       "      <td>55.0</td>\n",
       "      <td>1.645683e+09</td>\n",
       "      <td>4600</td>\n",
       "      <td>1.0</td>\n",
       "      <td>1.645683e+09</td>\n",
       "      <td>177</td>\n",
       "      <td>5</td>\n",
       "      <td>46</td>\n",
       "      <td>1.645683e+09</td>\n",
       "    </tr>\n",
       "    <tr>\n",
       "      <th>2</th>\n",
       "      <td>1</td>\n",
       "      <td>[0.32145630734586167, 0.062321302718138974, 0....</td>\n",
       "      <td>1.645683e+09</td>\n",
       "      <td>55.0</td>\n",
       "      <td>1.645683e+09</td>\n",
       "      <td>4602</td>\n",
       "      <td>1.0</td>\n",
       "      <td>1.645683e+09</td>\n",
       "      <td>195</td>\n",
       "      <td>5</td>\n",
       "      <td>46</td>\n",
       "      <td>1.645683e+09</td>\n",
       "    </tr>\n",
       "    <tr>\n",
       "      <th>3</th>\n",
       "      <td>1</td>\n",
       "      <td>[0.32145630734586167, 0.062321302718138974, 0....</td>\n",
       "      <td>1.645683e+09</td>\n",
       "      <td>55.0</td>\n",
       "      <td>1.645683e+09</td>\n",
       "      <td>4604</td>\n",
       "      <td>1.0</td>\n",
       "      <td>1.645683e+09</td>\n",
       "      <td>213</td>\n",
       "      <td>2</td>\n",
       "      <td>46</td>\n",
       "      <td>1.645683e+09</td>\n",
       "    </tr>\n",
       "    <tr>\n",
       "      <th>4</th>\n",
       "      <td>1</td>\n",
       "      <td>[0.32145630734586167, 0.062321302718138974, 0....</td>\n",
       "      <td>1.645683e+09</td>\n",
       "      <td>55.0</td>\n",
       "      <td>1.645683e+09</td>\n",
       "      <td>4605</td>\n",
       "      <td>1.0</td>\n",
       "      <td>1.645683e+09</td>\n",
       "      <td>218</td>\n",
       "      <td>3</td>\n",
       "      <td>46</td>\n",
       "      <td>1.645683e+09</td>\n",
       "    </tr>\n",
       "    <tr>\n",
       "      <th>...</th>\n",
       "      <td>...</td>\n",
       "      <td>...</td>\n",
       "      <td>...</td>\n",
       "      <td>...</td>\n",
       "      <td>...</td>\n",
       "      <td>...</td>\n",
       "      <td>...</td>\n",
       "      <td>...</td>\n",
       "      <td>...</td>\n",
       "      <td>...</td>\n",
       "      <td>...</td>\n",
       "      <td>...</td>\n",
       "    </tr>\n",
       "    <tr>\n",
       "      <th>49394</th>\n",
       "      <td>943</td>\n",
       "      <td>[0.14470918476581573, 0.145412877202034, 0.220...</td>\n",
       "      <td>NaN</td>\n",
       "      <td>NaN</td>\n",
       "      <td>0.000000e+00</td>\n",
       "      <td>37291</td>\n",
       "      <td>943.0</td>\n",
       "      <td>1.645683e+09</td>\n",
       "      <td>229</td>\n",
       "      <td>2</td>\n",
       "      <td>372</td>\n",
       "      <td>1.645683e+09</td>\n",
       "    </tr>\n",
       "    <tr>\n",
       "      <th>49395</th>\n",
       "      <td>943</td>\n",
       "      <td>[0.14470918476581573, 0.145412877202034, 0.220...</td>\n",
       "      <td>NaN</td>\n",
       "      <td>NaN</td>\n",
       "      <td>0.000000e+00</td>\n",
       "      <td>37292</td>\n",
       "      <td>943.0</td>\n",
       "      <td>1.645683e+09</td>\n",
       "      <td>449</td>\n",
       "      <td>1</td>\n",
       "      <td>372</td>\n",
       "      <td>1.645683e+09</td>\n",
       "    </tr>\n",
       "    <tr>\n",
       "      <th>49396</th>\n",
       "      <td>943</td>\n",
       "      <td>[0.14470918476581573, 0.145412877202034, 0.220...</td>\n",
       "      <td>NaN</td>\n",
       "      <td>NaN</td>\n",
       "      <td>0.000000e+00</td>\n",
       "      <td>37293</td>\n",
       "      <td>943.0</td>\n",
       "      <td>1.645683e+09</td>\n",
       "      <td>234</td>\n",
       "      <td>3</td>\n",
       "      <td>372</td>\n",
       "      <td>1.645683e+09</td>\n",
       "    </tr>\n",
       "    <tr>\n",
       "      <th>49397</th>\n",
       "      <td>943</td>\n",
       "      <td>[0.14470918476581573, 0.145412877202034, 0.220...</td>\n",
       "      <td>NaN</td>\n",
       "      <td>NaN</td>\n",
       "      <td>0.000000e+00</td>\n",
       "      <td>37294</td>\n",
       "      <td>943.0</td>\n",
       "      <td>1.645683e+09</td>\n",
       "      <td>151</td>\n",
       "      <td>4</td>\n",
       "      <td>372</td>\n",
       "      <td>1.645683e+09</td>\n",
       "    </tr>\n",
       "    <tr>\n",
       "      <th>49398</th>\n",
       "      <td>943</td>\n",
       "      <td>[0.14470918476581573, 0.145412877202034, 0.220...</td>\n",
       "      <td>NaN</td>\n",
       "      <td>NaN</td>\n",
       "      <td>0.000000e+00</td>\n",
       "      <td>37298</td>\n",
       "      <td>943.0</td>\n",
       "      <td>1.645683e+09</td>\n",
       "      <td>228</td>\n",
       "      <td>3</td>\n",
       "      <td>372</td>\n",
       "      <td>1.645683e+09</td>\n",
       "    </tr>\n",
       "  </tbody>\n",
       "</table>\n",
       "<p>49399 rows × 12 columns</p>\n",
       "</div>"
      ],
      "text/plain": [
       "       user_id                                      user_features  \\\n",
       "0            1  [0.32145630734586167, 0.062321302718138974, 0....   \n",
       "1            1  [0.32145630734586167, 0.062321302718138974, 0....   \n",
       "2            1  [0.32145630734586167, 0.062321302718138974, 0....   \n",
       "3            1  [0.32145630734586167, 0.062321302718138974, 0....   \n",
       "4            1  [0.32145630734586167, 0.062321302718138974, 0....   \n",
       "...        ...                                                ...   \n",
       "49394      943  [0.14470918476581573, 0.145412877202034, 0.220...   \n",
       "49395      943  [0.14470918476581573, 0.145412877202034, 0.220...   \n",
       "49396      943  [0.14470918476581573, 0.145412877202034, 0.220...   \n",
       "49397      943  [0.14470918476581573, 0.145412877202034, 0.220...   \n",
       "49398      943  [0.14470918476581573, 0.145412877202034, 0.220...   \n",
       "\n",
       "        ingest_time  timestamp_feature  processing_time_feature  query_id  \\\n",
       "0      1.645683e+09               55.0             1.645683e+09      4599   \n",
       "1      1.645683e+09               55.0             1.645683e+09      4600   \n",
       "2      1.645683e+09               55.0             1.645683e+09      4602   \n",
       "3      1.645683e+09               55.0             1.645683e+09      4604   \n",
       "4      1.645683e+09               55.0             1.645683e+09      4605   \n",
       "...             ...                ...                      ...       ...   \n",
       "49394           NaN                NaN             0.000000e+00     37291   \n",
       "49395           NaN                NaN             0.000000e+00     37292   \n",
       "49396           NaN                NaN             0.000000e+00     37293   \n",
       "49397           NaN                NaN             0.000000e+00     37294   \n",
       "49398           NaN                NaN             0.000000e+00     37298   \n",
       "\n",
       "       query_user_id  query_timestamp  movie_id  rating  timestamp_query  \\\n",
       "0                1.0     1.645683e+09        46       4               46   \n",
       "1                1.0     1.645683e+09       177       5               46   \n",
       "2                1.0     1.645683e+09       195       5               46   \n",
       "3                1.0     1.645683e+09       213       2               46   \n",
       "4                1.0     1.645683e+09       218       3               46   \n",
       "...              ...              ...       ...     ...              ...   \n",
       "49394          943.0     1.645683e+09       229       2              372   \n",
       "49395          943.0     1.645683e+09       449       1              372   \n",
       "49396          943.0     1.645683e+09       234       3              372   \n",
       "49397          943.0     1.645683e+09       151       4              372   \n",
       "49398          943.0     1.645683e+09       228       3              372   \n",
       "\n",
       "       processing_time_query  \n",
       "0               1.645683e+09  \n",
       "1               1.645683e+09  \n",
       "2               1.645683e+09  \n",
       "3               1.645683e+09  \n",
       "4               1.645683e+09  \n",
       "...                      ...  \n",
       "49394           1.645683e+09  \n",
       "49395           1.645683e+09  \n",
       "49396           1.645683e+09  \n",
       "49397           1.645683e+09  \n",
       "49398           1.645683e+09  \n",
       "\n",
       "[49399 rows x 12 columns]"
      ]
     },
     "execution_count": 405,
     "metadata": {},
     "output_type": "execute_result"
    }
   ],
   "source": [
    "joined_df"
   ]
  },
  {
   "cell_type": "markdown",
   "id": "4574c0cf",
   "metadata": {},
   "source": [
    "### Evaluate on all queries "
   ]
  },
  {
   "cell_type": "code",
   "execution_count": 407,
   "id": "d2a1fa7c",
   "metadata": {},
   "outputs": [
    {
     "data": {
      "text/plain": [
       "0.000000e+00    38595\n",
       "1.645683e+09      160\n",
       "1.645683e+09      147\n",
       "1.645683e+09      132\n",
       "1.645683e+09      129\n",
       "                ...  \n",
       "1.645683e+09        1\n",
       "1.645683e+09        1\n",
       "1.645683e+09        1\n",
       "1.645683e+09        1\n",
       "1.645683e+09        1\n",
       "Name: processing_time_feature, Length: 432, dtype: int64"
      ]
     },
     "execution_count": 407,
     "metadata": {},
     "output_type": "execute_result"
    }
   ],
   "source": [
    "joined_df.processing_time_feature.value_counts()"
   ]
  },
  {
   "cell_type": "code",
   "execution_count": 411,
   "id": "bc2a63d7",
   "metadata": {},
   "outputs": [],
   "source": [
    "joined_df[\"prediction\"] = joined_df.apply(\n",
    "    lambda x: predict_rating(np.array(x[\"user_features\"]), movie_features[x[\"movie_id\"]])\n",
    ", axis=1) "
   ]
  },
  {
   "cell_type": "code",
   "execution_count": 412,
   "id": "2193e2fb",
   "metadata": {},
   "outputs": [],
   "source": [
    "joined_df[\"baseline_prediction\"] = joined_df.apply(\n",
    "    lambda x: predict_rating(user_features[x[\"user_id\"]], movie_features[x[\"movie_id\"]])\n",
    ", axis=1) "
   ]
  },
  {
   "cell_type": "code",
   "execution_count": 413,
   "id": "e666bec2",
   "metadata": {},
   "outputs": [
    {
     "data": {
      "text/plain": [
       "0.000000e+00    38595\n",
       "1.645683e+09      160\n",
       "1.645683e+09      147\n",
       "1.645683e+09      132\n",
       "1.645683e+09      129\n",
       "                ...  \n",
       "1.645683e+09        1\n",
       "1.645683e+09        1\n",
       "1.645683e+09        1\n",
       "1.645683e+09        1\n",
       "1.645683e+09        1\n",
       "Name: processing_time_feature, Length: 432, dtype: int64"
      ]
     },
     "execution_count": 413,
     "metadata": {},
     "output_type": "execute_result"
    }
   ],
   "source": [
    "joined_df.processing_time_feature.value_counts()"
   ]
  },
  {
   "cell_type": "code",
   "execution_count": 414,
   "id": "92958b2a",
   "metadata": {},
   "outputs": [
    {
     "data": {
      "text/plain": [
       "0.9438907079113067"
      ]
     },
     "execution_count": 414,
     "metadata": {},
     "output_type": "execute_result"
    }
   ],
   "source": [
    "mean_squared_error(joined_df[\"rating\"], joined_df[\"prediction\"])"
   ]
  },
  {
   "cell_type": "code",
   "execution_count": 415,
   "id": "a4aaf799",
   "metadata": {},
   "outputs": [
    {
     "data": {
      "text/plain": [
       "0.963470348046898"
      ]
     },
     "execution_count": 415,
     "metadata": {},
     "output_type": "execute_result"
    }
   ],
   "source": [
    "mean_squared_error(joined_df[\"rating\"], joined_df[\"baseline_prediction\"])"
   ]
  },
  {
   "cell_type": "markdown",
   "id": "35666cb7",
   "metadata": {},
   "source": [
    "### Evaluate on queries of updated features "
   ]
  },
  {
   "cell_type": "code",
   "execution_count": 429,
   "id": "eebdef53",
   "metadata": {},
   "outputs": [],
   "source": [
    "joined_df_drop = joined_df[joined_df[\"processing_time_feature\"] > 0]"
   ]
  },
  {
   "cell_type": "code",
   "execution_count": 430,
   "id": "5c50b0d8",
   "metadata": {},
   "outputs": [
    {
     "name": "stdout",
     "output_type": "stream",
     "text": [
      "average staleness 8.75897027322073\n"
     ]
    },
    {
     "data": {
      "text/plain": [
       "1.645683e+09    160\n",
       "1.645683e+09    147\n",
       "1.645683e+09    132\n",
       "1.645683e+09    129\n",
       "1.645683e+09    121\n",
       "               ... \n",
       "1.645683e+09      1\n",
       "1.645683e+09      1\n",
       "1.645683e+09      1\n",
       "1.645683e+09      1\n",
       "1.645683e+09      1\n",
       "Name: processing_time_feature, Length: 431, dtype: int64"
      ]
     },
     "execution_count": 430,
     "metadata": {},
     "output_type": "execute_result"
    }
   ],
   "source": [
    "staleness = joined_df_drop[\"processing_time_query\"] - joined_df_drop[\"processing_time_feature\"]\n",
    "print(\"average staleness\", staleness.mean())\n",
    "joined_df_drop.processing_time_feature.value_counts()"
   ]
  },
  {
   "cell_type": "code",
   "execution_count": 427,
   "id": "f767a474",
   "metadata": {},
   "outputs": [
    {
     "data": {
      "text/plain": [
       "0.8841771666746459"
      ]
     },
     "execution_count": 427,
     "metadata": {},
     "output_type": "execute_result"
    }
   ],
   "source": [
    "mean_squared_error(joined_df_drop[\"rating\"], joined_df_drop[\"prediction\"])"
   ]
  },
  {
   "cell_type": "code",
   "execution_count": 428,
   "id": "83870d56",
   "metadata": {},
   "outputs": [
    {
     "data": {
      "text/plain": [
       "0.9737009211228203"
      ]
     },
     "execution_count": 428,
     "metadata": {},
     "output_type": "execute_result"
    }
   ],
   "source": [
    "mean_squared_error(joined_df_drop[\"rating\"], joined_df_drop[\"baseline_prediction\"])"
   ]
  },
  {
   "cell_type": "markdown",
   "id": "b1f09742",
   "metadata": {},
   "source": [
    "# Old Evaluation \n",
    "Copied from Amit's Notebook"
   ]
  },
  {
   "cell_type": "code",
   "execution_count": 419,
   "id": "b5c49f4e",
   "metadata": {},
   "outputs": [],
   "source": [
    "user_features = get_features(user_features_path)\n",
    "movie_features = get_features(movie_features_path)\n",
    "\n",
    "def predict_rating(user_feature, movie_feature):\n",
    "    return user_feature.dot(movie_feature.T)\n",
    "\n",
    "def compute_test_mse(user_features, movie_features):\n",
    "    predictions = []\n",
    "    ratings = []\n",
    "    count = 0\n",
    "    for row in test_data.itertuples():\n",
    "        user_id = row.user_id\n",
    "        movie_id = row.movie_id\n",
    "        rating = row.rating\n",
    "        predictions.append(predict_rating(user_features[user_id], movie_features[movie_id]))\n",
    "        ratings.append(rating) \n",
    "    mse = mean_squared_error(ratings, predictions)\n",
    "    return mse\n",
    "\n",
    "def compute_mse(user_features):\n",
    "    predictions = []\n",
    "    ratings = []\n",
    "    for row in test_data.itertuples():\n",
    "        user_id = row.user_id\n",
    "        movie_id = row.movie_id\n",
    "        rating = row.rating\n",
    "        ratings.append(rating)\n",
    "        predictions.append(predict_rating(user_features[user_id], movie_features[movie_id]))\n",
    "    return mean_squared_error(ratings, predictions)\n",
    "\n",
    "def compute_improvement():\n",
    "    count = 0\n",
    "    predictions = []\n",
    "    ratings = []\n",
    "    max_timestamp = max(feature_updates['timestamp'])\n",
    "    print(max_timestamp, len(feature_updates), len(test_data))\n",
    "    baseline = compute_mse(user_features)\n",
    "    \n",
    "    \n",
    "    num_updates = 0 \n",
    "    while count <= max_timestamp:\n",
    "        \n",
    "        # \n",
    "        feature_update_ts = feature_updates[feature_updates['timestamp'] == count] \n",
    "        for row in feature_update_ts.itertuples():\n",
    "            user_features[row.user_id] = np.array(row.user_features)\n",
    "            num_updates += 1\n",
    "\n",
    "        query_ts = test_data[test_data['timestamp'] == count]\n",
    "        for row in query_ts.itertuples():\n",
    "            user_id = row.user_id\n",
    "            movie_id = row.movie_id\n",
    "            rating = row.rating\n",
    "            predictions.append(predict_rating(user_features[user_id], movie_features[movie_id]))\n",
    "            ratings.append(rating)\n",
    "        count += 1\n",
    "    new_mse = mean_squared_error(ratings, predictions)\n",
    "    optimal = compute_mse(user_features)\n",
    "    \n",
    "    return baseline, new_mse, optimal"
   ]
  },
  {
   "cell_type": "code",
   "execution_count": 421,
   "id": "679d5464",
   "metadata": {},
   "outputs": [],
   "source": [
    "def plot_learning_curve(mse):\n",
    "        \"\"\"visualize the training/testing loss\"\"\"\n",
    "        linewidth = 3\n",
    "        plt.plot(mse, label = 'Ralf', linewidth = linewidth)\n",
    "        plt.xlabel('iterations')\n",
    "        plt.ylabel('MSE')\n",
    "        plt.legend(loc = 'best')"
   ]
  },
  {
   "cell_type": "code",
   "execution_count": 422,
   "id": "9c6b2d5f",
   "metadata": {},
   "outputs": [
    {
     "name": "stdout",
     "output_type": "stream",
     "text": [
      "493.0 51260 49442\n"
     ]
    },
    {
     "data": {
      "image/png": "[encoded data removed]",
      "text/plain": [
       "<Figure size 432x288 with 1 Axes>"
      ]
     },
     "metadata": {
      "needs_background": "light"
     },
     "output_type": "display_data"
    }
   ],
   "source": [
    "mse = compute_improvement()\n",
    "plot_learning_curve(mse)"
   ]
  }
 ],
 "metadata": {
  "kernelspec": {
   "display_name": "Python 3",
   "language": "python",
   "name": "python3"
  },
  "language_info": {
   "codemirror_mode": {
    "name": "ipython",
    "version": 3
   },
   "file_extension": ".py",
   "mimetype": "text/x-python",
   "name": "python",
   "nbconvert_exporter": "python",
   "pygments_lexer": "ipython3",
   "version": "3.8.8"
  }
 },
 "nbformat": 4,
 "nbformat_minor": 5
}
