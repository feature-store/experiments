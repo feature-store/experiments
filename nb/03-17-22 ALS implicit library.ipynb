{
 "cells": [
  {
   "cell_type": "code",
   "execution_count": 2,
   "metadata": {},
   "outputs": [],
   "source": [
    " import implicit\n",
    "import numpy as np\n",
    "import time"
   ]
  },
  {
   "cell_type": "code",
   "execution_count": 3,
   "metadata": {},
   "outputs": [],
   "source": [
    "from implicit.datasets.movielens import get_movielens\n",
    "\n",
    "titles, ratings = get_movielens(variant=\"20m\")"
   ]
  },
  {
   "cell_type": "code",
   "execution_count": 4,
   "metadata": {},
   "outputs": [],
   "source": [
    "user_ratings = ratings.T.tocsr()"
   ]
  },
  {
   "cell_type": "code",
   "execution_count": 5,
   "metadata": {},
   "outputs": [],
   "source": [
    "# initialize a model\n",
    "model = implicit.als.AlternatingLeastSquares(factors=50)"
   ]
  },
  {
   "cell_type": "code",
   "execution_count": 6,
   "metadata": {},
   "outputs": [
    {
     "data": {
      "application/vnd.jupyter.widget-view+json": {
       "model_id": "6a3b9d9dfbec4261bf6e5aa9ede015d8",
       "version_major": 2,
       "version_minor": 0
      },
      "text/plain": [
       "  0%|          | 0/15 [00:00<?, ?it/s]"
      ]
     },
     "metadata": {},
     "output_type": "display_data"
    }
   ],
   "source": [
    "model.fit(user_ratings)"
   ]
  },
  {
   "cell_type": "code",
   "execution_count": 15,
   "metadata": {},
   "outputs": [
    {
     "data": {
      "text/plain": [
       "3.5"
      ]
     },
     "execution_count": 15,
     "metadata": {},
     "output_type": "execute_result"
    }
   ],
   "source": [
    "user_ratings.toarray()[1][2]"
   ]
  },
  {
   "cell_type": "code",
   "execution_count": 22,
   "metadata": {},
   "outputs": [
    {
     "name": "stdout",
     "output_type": "stream",
     "text": [
      "[0.  0.  3.5 ... 0.  0.  0. ]\n",
      "[2, 29, 32, 47, 50, 112, 151, 223, 253, 260, 293, 296, 318, 337, 367, 541, 589, 593, 653, 919, 924, 1009, 1036, 1079, 1080, 1089, 1090, 1097, 1136, 1193, 1196, 1198, 1200, 1201, 1208, 1214, 1215, 1217, 1219, 1222, 1240, 1243, 1246, 1249, 1258, 1259, 1261, 1262, 1266, 1278, 1291, 1304, 1321, 1333, 1348, 1350, 1358, 1370, 1374, 1387, 1525, 1584, 1750, 1848, 1920, 1967, 1994, 1997, 2021, 2100, 2118, 2138, 2140, 2143, 2173, 2174, 2193, 2194, 2253, 2288, 2291, 2542, 2628, 2644, 2648, 2664, 2683, 2692, 2716, 2761, 2762, 2804, 2872, 2918, 2944, 2947, 2959, 2968, 3000, 3030, 3037, 3081, 3153, 3265, 3438, 3476, 3479, 3489, 3499, 3889, 3932, 3996, 3997, 4011, 4027, 4105, 4128, 4133, 4226, 4306, 4446, 4467, 4571, 4720, 4754, 4878, 4896, 4911, 4915, 4941, 4980, 4993, 5026, 5039, 5040, 5146, 5171, 5540, 5679, 5797, 5816, 5898, 5952, 5999, 6093, 6242, 6333, 6502, 6539, 6754, 6755, 6774, 6807, 6834, 6888, 7001, 7045, 7046, 7153, 7164, 7247, 7387, 7389, 7438, 7449, 7454, 7482, 7757, 8368, 8482, 8507, 8636, 8690, 8961, 31696]\n"
     ]
    }
   ],
   "source": [
    "arr = user_ratings.toarray()\n",
    "u1 = arr[1]\n",
    "rows = []\n",
    "cols = []\n",
    "data = []\n",
    "print(u1)\n",
    "for i in range(len(u1)):\n",
    "    if u1[i] > 0:\n",
    "        cols.append(i)\n",
    "        data.append(1)\n",
    "        rows.append(1)\n",
    "print(cols)"
   ]
  },
  {
   "cell_type": "code",
   "execution_count": 23,
   "metadata": {},
   "outputs": [],
   "source": [
    "from scipy.sparse import coo_matrix, csr_matrix\n",
    "user_items = coo_matrix((data, (rows, cols)), shape=(len(arr), len(arr[0])))"
   ]
  },
  {
   "cell_type": "code",
   "execution_count": 29,
   "metadata": {},
   "outputs": [],
   "source": [
    "predictions = []\n",
    "for i in cols:\n",
    "    predictions.append(model.explain(1, user_items, i, N = len(cols))[0])"
   ]
  },
  {
   "cell_type": "code",
   "execution_count": 30,
   "metadata": {},
   "outputs": [
    {
     "data": {
      "text/plain": [
       "[0.32612432957673265,\n",
       " 0.39180820744662626,\n",
       " 0.5335821816139533,\n",
       " 0.6273117733987913,\n",
       " 0.6360114274816121,\n",
       " 0.08487080341621406,\n",
       " 0.3481636243466467,\n",
       " 0.29119766130703534,\n",
       " 0.573005237579163,\n",
       " 0.6780665358486693,\n",
       " 0.6264194001157131,\n",
       " 0.5036603921494106,\n",
       " 0.42002207831634936,\n",
       " 0.40620380902311726,\n",
       " 0.23442472250155286,\n",
       " 0.8235717409014434,\n",
       " 0.4206752572070571,\n",
       " 0.4992590242262832,\n",
       " 0.3756804371923419,\n",
       " 0.3465824555714051,\n",
       " 0.4270441879149904,\n",
       " 0.09445838740715388,\n",
       " 0.6191262769598005,\n",
       " 0.469504252087778,\n",
       " 0.7471757210078817,\n",
       " 0.6486697813826418,\n",
       " 0.3908275257618012,\n",
       " 0.3565023547493731,\n",
       " 0.8578722873719474,\n",
       " 0.46933142431811453,\n",
       " 0.7541112935510895,\n",
       " 0.8133099358999811,\n",
       " 0.8074147812632766,\n",
       " 0.5245907930447262,\n",
       " 0.6135394203478719,\n",
       " 0.8670297360221254,\n",
       " 0.5042016763566814,\n",
       " 0.17938278738209293,\n",
       " 0.5611292076867349,\n",
       " 0.6089976969195141,\n",
       " 0.6642692355521221,\n",
       " 0.17229900186062702,\n",
       " 0.35575906494896414,\n",
       " 0.27471040295377774,\n",
       " 0.865730040912778,\n",
       " 0.4723166692099769,\n",
       " 0.5257333436691505,\n",
       " 0.30409736383050195,\n",
       " 0.32037045937846786,\n",
       " 0.5033466256479423,\n",
       " 0.7855356624537948,\n",
       " 0.39155402179481263,\n",
       " 0.45488746148923737,\n",
       " 0.31073431368746196,\n",
       " 0.2656430080019284,\n",
       " 0.3296105079990217,\n",
       " 0.16234532910360738,\n",
       " 0.09636932361838196,\n",
       " 0.3818997559635978,\n",
       " 0.6027236460645587,\n",
       " 0.016519584698825043,\n",
       " 0.19492871611554194,\n",
       " 0.006086703258308212,\n",
       " 0.07684774613141185,\n",
       " 0.07929098588133177,\n",
       " 0.5277548794245684,\n",
       " 0.44709156368141123,\n",
       " 0.47935729223777834,\n",
       " 0.3207073611987107,\n",
       " 0.08591787129519711,\n",
       " 0.22390740409618562,\n",
       " 0.21726072883839395,\n",
       " 0.5043947931775516,\n",
       " 0.22977122086031046,\n",
       " 0.058842965108992215,\n",
       " 0.6486591710686019,\n",
       " 0.4573986222015262,\n",
       " 0.3664258649438732,\n",
       " 0.05399297467935815,\n",
       " 0.4351336722454357,\n",
       " 0.3267046808147189,\n",
       " 0.41194622259560704,\n",
       " 0.28991778875249163,\n",
       " 0.16036231139948592,\n",
       " 0.19856843464839496,\n",
       " 0.1911783641961178,\n",
       " 0.19987277018382688,\n",
       " 0.2555851023394453,\n",
       " 0.5948657840962924,\n",
       " 0.2684853826757246,\n",
       " 0.41144902298988784,\n",
       " 0.2747850415674125,\n",
       " 0.36222531703060373,\n",
       " 0.461892994975817,\n",
       " 0.258236965591203,\n",
       " 0.23547654651592234,\n",
       " 0.6436246159104051,\n",
       " 0.3926820986941545,\n",
       " 0.4622014621312475,\n",
       " 0.17094439705905767,\n",
       " 0.13358684518003566,\n",
       " 0.407856774845478,\n",
       " 0.08834533747343642,\n",
       " 0.13920548775421587,\n",
       " 0.08424078155055073,\n",
       " 0.2720055653326574,\n",
       " 0.25348584353322806,\n",
       " 0.18045654382662238,\n",
       " 0.363848503822006,\n",
       " 0.05289721036144508,\n",
       " 0.06532576975614839,\n",
       " 0.5840651531642373,\n",
       " 0.10716766859815083,\n",
       " 0.47629372593021735,\n",
       " 0.3394479799437999,\n",
       " 0.394098429651154,\n",
       " 0.37139062404396267,\n",
       " 0.04331134888874026,\n",
       " 0.522779782376666,\n",
       " 0.4976129712052764,\n",
       " 0.18552331605173147,\n",
       " 0.1978288704195651,\n",
       " 0.2767835325836949,\n",
       " 0.3408198856147432,\n",
       " 0.1461833303357405,\n",
       " 0.5229239018409159,\n",
       " 0.37357095403965673,\n",
       " 0.042623543001641374,\n",
       " 0.04225942493296177,\n",
       " 0.04699486528685593,\n",
       " 0.12817962608245423,\n",
       " 0.8577098180527534,\n",
       " 0.19713991655571264,\n",
       " 0.07609676665201258,\n",
       " 0.07581012672564658,\n",
       " 0.17606850799571744,\n",
       " 0.08296928648892164,\n",
       " 0.0927889046688814,\n",
       " 0.2658149109300341,\n",
       " 0.05079742891894297,\n",
       " 0.3529782119068386,\n",
       " 0.02109835683172845,\n",
       " 0.8264795484466797,\n",
       " 0.03184951305322581,\n",
       " 0.15171544913735052,\n",
       " 0.243931241334581,\n",
       " 0.4521157741995329,\n",
       " 0.3170579103734716,\n",
       " 0.5016136834155783,\n",
       " 0.18622161718184277,\n",
       " 0.1432498796939371,\n",
       " 0.09212902926868265,\n",
       " 0.4478649217232434,\n",
       " 0.0033118035629682925,\n",
       " 0.056408950112296755,\n",
       " 0.11512332774620146,\n",
       " 0.10996976368416608,\n",
       " 0.10568607940014947,\n",
       " 0.7585431959305379,\n",
       " 0.11331917562356586,\n",
       " 0.07844494643880098,\n",
       " 0.2521429727469114,\n",
       " 0.005796622685316402,\n",
       " 0.3754403272402819,\n",
       " 0.03492148515519058,\n",
       " 0.13556714997400096,\n",
       " 0.20091418426717644,\n",
       " 0.08399672728345825,\n",
       " 0.37427592361022444,\n",
       " 0.04748359999075229,\n",
       " 0.09498215409789665,\n",
       " 0.26810577527407303,\n",
       " 0.03781205269738076,\n",
       " 0.32667862801946695,\n",
       " 0.10168443600476684]"
      ]
     },
     "execution_count": 30,
     "metadata": {},
     "output_type": "execute_result"
    }
   ],
   "source": [
    "predictions"
   ]
  },
  {
   "cell_type": "code",
   "execution_count": 31,
   "metadata": {},
   "outputs": [],
   "source": [
    "rounded_predictions = [round(i) for i in predictions]"
   ]
  },
  {
   "cell_type": "code",
   "execution_count": 34,
   "metadata": {},
   "outputs": [
    {
     "data": {
      "text/plain": [
       "0.49800675917114023"
      ]
     },
     "execution_count": 34,
     "metadata": {},
     "output_type": "execute_result"
    }
   ],
   "source": [
    "from sklearn.metrics import mean_squared_error\n",
    "mean_squared_error(predictions, [1 for i in range(len(cols))])"
   ]
  },
  {
   "cell_type": "code",
   "execution_count": 30,
   "metadata": {},
   "outputs": [],
   "source": [
    "from scipy.sparse import coo_matrix"
   ]
  },
  {
   "cell_type": "code",
   "execution_count": 31,
   "metadata": {},
   "outputs": [
    {
     "name": "stdout",
     "output_type": "stream",
     "text": [
      "100k\n",
      "matrix time 0.0017802715301513672\n",
      "fit time 0.00908803939819336\n"
     ]
    }
   ],
   "source": [
    "user_index = np.array([0])\n",
    "movie_index = np.array([3])\n",
    "\n",
    "st = time.time()\n",
    "user_items = coo_matrix((np.array([1]), (user_index, movie_index)), shape=user_ratings[0].toarray().shape).tocsr()\n",
    "print(\"100k\")\n",
    "print(\"matrix time\", time.time() - st)\n",
    "st = time.time()\n",
    "model.partial_fit_users(user_index, user_items)\n",
    "print(\"fit time\", time.time() - st)"
   ]
  },
  {
   "cell_type": "code",
   "execution_count": 32,
   "metadata": {},
   "outputs": [
    {
     "name": "stdout",
     "output_type": "stream",
     "text": [
      "100k\n",
      "matrix time 0.001255035400390625\n",
      "fit time 0.008704185485839844\n"
     ]
    }
   ],
   "source": [
    "user_index = np.array([0])\n",
    "movie_index = np.array([3])\n",
    "\n",
    "st = time.time()\n",
    "user_items = coo_matrix((np.array([1]), (user_index, movie_index)), shape=user_ratings[0].toarray().shape).tocsr()\n",
    "print(\"100k\")\n",
    "print(\"matrix time\", time.time() - st)\n",
    "st = time.time()\n",
    "model.partial_fit_items(user_index, user_items)\n",
    "print(\"fit time\", time.time() - st)"
   ]
  },
  {
   "cell_type": "code",
   "execution_count": 38,
   "metadata": {},
   "outputs": [],
   "source": [
    "ids, scores = model.recommend(0, user_ratings[0], N=10, filter_already_liked_items=False)"
   ]
  },
  {
   "cell_type": "code",
   "execution_count": 40,
   "metadata": {},
   "outputs": [
    {
     "data": {
      "text/plain": [
       "array([   3,  289,  235,  358,  825,  108,  316,  763, 1010,  789],\n",
       "      dtype=int32)"
      ]
     },
     "execution_count": 40,
     "metadata": {},
     "output_type": "execute_result"
    }
   ],
   "source": [
    "ids"
   ]
  },
  {
   "cell_type": "code",
   "execution_count": 41,
   "metadata": {},
   "outputs": [
    {
     "data": {
      "text/plain": [
       "array([0.04815494, 0.02354678, 0.02318918, 0.02315067, 0.02249356,\n",
       "       0.02130273, 0.02120527, 0.02057432, 0.02054867, 0.01968906],\n",
       "      dtype=float32)"
      ]
     },
     "execution_count": 41,
     "metadata": {},
     "output_type": "execute_result"
    }
   ],
   "source": [
    "scores"
   ]
  },
  {
   "cell_type": "raw",
   "metadata": {},
   "source": [
    "user_ratings.shape"
   ]
  },
  {
   "cell_type": "code",
   "execution_count": 26,
   "metadata": {},
   "outputs": [
    {
     "data": {
      "text/plain": [
       "(138494, 131263)"
      ]
     },
     "execution_count": 26,
     "metadata": {},
     "output_type": "execute_result"
    }
   ],
   "source": [
    "user_ratings.shape"
   ]
  },
  {
   "cell_type": "code",
   "execution_count": null,
   "metadata": {},
   "outputs": [],
   "source": []
  }
 ],
 "metadata": {
  "interpreter": {
   "hash": "1dc751811c529e88765b7ce96b7dfd0b5d4ad3dfe561f6662e2f17c21e2ffbb1"
  },
  "kernelspec": {
   "display_name": "Python 3 (ipykernel)",
   "language": "python",
   "name": "python3"
  },
  "language_info": {
   "codemirror_mode": {
    "name": "ipython",
    "version": 3
   },
   "file_extension": ".py",
   "mimetype": "text/x-python",
   "name": "python",
   "nbconvert_exporter": "python",
   "pygments_lexer": "ipython3",
   "version": "3.8.13"
  }
 },
 "nbformat": 4,
 "nbformat_minor": 2
}
