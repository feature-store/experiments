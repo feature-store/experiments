{
 "cells": [
  {
   "cell_type": "code",
   "execution_count": 2,
   "metadata": {},
   "outputs": [],
   "source": [
    "import implicit\n",
    "import numpy as np\n",
    "import time\n",
    "\n",
    "%load_ext autoreload\n",
    "%autoreload 2"
   ]
  },
  {
   "cell_type": "code",
   "execution_count": 18,
   "metadata": {},
   "outputs": [],
   "source": [
    "from implicit.datasets.movielens import get_movielens\n",
    "\n",
    "titles, ratings = get_movielens(variant=\"20m\")"
   ]
  },
  {
   "cell_type": "code",
   "execution_count": 24,
   "metadata": {},
   "outputs": [],
   "source": [
    "user_ratings = ratings.T.tocsr()"
   ]
  },
  {
   "cell_type": "code",
   "execution_count": 25,
   "metadata": {},
   "outputs": [],
   "source": [
    "# initialize a model\n",
    "model = implicit.als.AlternatingLeastSquares(factors=50)"
   ]
  },
  {
   "cell_type": "code",
   "execution_count": 29,
   "metadata": {},
   "outputs": [
    {
     "data": {
      "application/vnd.jupyter.widget-view+json": {
       "model_id": "107dabb358b743f2954bc049043a0e3a",
       "version_major": 2,
       "version_minor": 0
      },
      "text/plain": [
       "  0%|          | 0/15 [00:00<?, ?it/s]"
      ]
     },
     "metadata": {},
     "output_type": "display_data"
    }
   ],
   "source": [
    "model.fit(user_ratings)"
   ]
  },
  {
   "cell_type": "code",
   "execution_count": 30,
   "metadata": {},
   "outputs": [],
   "source": [
    "from scipy.sparse import coo_matrix"
   ]
  },
  {
   "cell_type": "code",
   "execution_count": 31,
   "metadata": {},
   "outputs": [
    {
     "name": "stdout",
     "output_type": "stream",
     "text": [
      "100k\n",
      "matrix time 0.0017802715301513672\n",
      "fit time 0.00908803939819336\n"
     ]
    }
   ],
   "source": [
    "user_index = np.array([0])\n",
    "movie_index = np.array([3])\n",
    "\n",
    "st = time.time()\n",
    "user_items = coo_matrix((np.array([1]), (user_index, movie_index)), shape=user_ratings[0].toarray().shape).tocsr()\n",
    "print(\"100k\")\n",
    "print(\"matrix time\", time.time() - st)\n",
    "st = time.time()\n",
    "model.partial_fit_users(user_index, user_items)\n",
    "print(\"fit time\", time.time() - st)"
   ]
  },
  {
   "cell_type": "code",
   "execution_count": 32,
   "metadata": {},
   "outputs": [
    {
     "name": "stdout",
     "output_type": "stream",
     "text": [
      "100k\n",
      "matrix time 0.001255035400390625\n",
      "fit time 0.008704185485839844\n"
     ]
    }
   ],
   "source": [
    "user_index = np.array([0])\n",
    "movie_index = np.array([3])\n",
    "\n",
    "st = time.time()\n",
    "user_items = coo_matrix((np.array([1]), (user_index, movie_index)), shape=user_ratings[0].toarray().shape).tocsr()\n",
    "print(\"100k\")\n",
    "print(\"matrix time\", time.time() - st)\n",
    "st = time.time()\n",
    "model.partial_fit_items(user_index, user_items)\n",
    "print(\"fit time\", time.time() - st)"
   ]
  },
  {
   "cell_type": "code",
   "execution_count": 38,
   "metadata": {},
   "outputs": [],
   "source": [
    "ids, scores = model.recommend(0, user_ratings[0], N=10, filter_already_liked_items=False)"
   ]
  },
  {
   "cell_type": "code",
   "execution_count": 40,
   "metadata": {},
   "outputs": [
    {
     "data": {
      "text/plain": [
       "array([   3,  289,  235,  358,  825,  108,  316,  763, 1010,  789],\n",
       "      dtype=int32)"
      ]
     },
     "execution_count": 40,
     "metadata": {},
     "output_type": "execute_result"
    }
   ],
   "source": [
    "ids"
   ]
  },
  {
   "cell_type": "code",
   "execution_count": 41,
   "metadata": {},
   "outputs": [
    {
     "data": {
      "text/plain": [
       "array([0.04815494, 0.02354678, 0.02318918, 0.02315067, 0.02249356,\n",
       "       0.02130273, 0.02120527, 0.02057432, 0.02054867, 0.01968906],\n",
       "      dtype=float32)"
      ]
     },
     "execution_count": 41,
     "metadata": {},
     "output_type": "execute_result"
    }
   ],
   "source": [
    "scores"
   ]
  },
  {
   "cell_type": "raw",
   "metadata": {},
   "source": [
    "user_ratings.shape"
   ]
  },
  {
   "cell_type": "code",
   "execution_count": 26,
   "metadata": {},
   "outputs": [
    {
     "data": {
      "text/plain": [
       "(138494, 131263)"
      ]
     },
     "execution_count": 26,
     "metadata": {},
     "output_type": "execute_result"
    }
   ],
   "source": [
    "user_ratings.shape"
   ]
  },
  {
   "cell_type": "code",
   "execution_count": null,
   "metadata": {},
   "outputs": [],
   "source": []
  }
 ],
 "metadata": {
  "interpreter": {
   "hash": "1dc751811c529e88765b7ce96b7dfd0b5d4ad3dfe561f6662e2f17c21e2ffbb1"
  },
  "kernelspec": {
   "display_name": "Python 3 (ipykernel)",
   "language": "python",
   "name": "python3"
  },
  "language_info": {
   "codemirror_mode": {
    "name": "ipython",
    "version": 3
   },
   "file_extension": ".py",
   "mimetype": "text/x-python",
   "name": "python",
   "nbconvert_exporter": "python",
   "pygments_lexer": "ipython3",
   "version": "3.9.7"
  }
 },
 "nbformat": 4,
 "nbformat_minor": 2
}
