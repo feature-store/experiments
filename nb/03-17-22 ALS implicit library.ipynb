{
 "cells": [
  {
   "cell_type": "code",
   "execution_count": 11,
   "metadata": {},
   "outputs": [
    {
     "name": "stdout",
     "output_type": "stream",
     "text": [
      "The autoreload extension is already loaded. To reload it, use:\n",
      "  %reload_ext autoreload\n"
     ]
    }
   ],
   "source": [
    "import implicit\n",
    "import numpy as np\n",
    "\n",
    "%load_ext autoreload\n",
    "%autoreload 2"
   ]
  },
  {
   "cell_type": "code",
   "execution_count": 4,
   "metadata": {},
   "outputs": [],
   "source": [
    "from implicit.datasets.movielens import get_movielens\n",
    "\n",
    "titles, ratings = get_movielens(variant=\"100k\")"
   ]
  },
  {
   "cell_type": "code",
   "execution_count": 5,
   "metadata": {},
   "outputs": [],
   "source": [
    "user_ratings = ratings.T.tocsr()"
   ]
  },
  {
   "cell_type": "code",
   "execution_count": 7,
   "metadata": {},
   "outputs": [],
   "source": [
    "# initialize a model\n",
    "model = implicit.als.AlternatingLeastSquares(factors=50)"
   ]
  },
  {
   "cell_type": "code",
   "execution_count": 8,
   "metadata": {},
   "outputs": [
    {
     "data": {
      "application/vnd.jupyter.widget-view+json": {
       "model_id": "9ac37a64c5274692bf030cc6a60f8011",
       "version_major": 2,
       "version_minor": 0
      },
      "text/plain": [
       "  0%|          | 0/15 [00:00<?, ?it/s]"
      ]
     },
     "metadata": {},
     "output_type": "display_data"
    }
   ],
   "source": [
    "model.fit(user_ratings)"
   ]
  },
  {
   "cell_type": "code",
   "execution_count": 25,
   "metadata": {},
   "outputs": [],
   "source": [
    "from scipy.sparse import coo_matrix"
   ]
  },
  {
   "cell_type": "code",
   "execution_count": 36,
   "metadata": {},
   "outputs": [],
   "source": [
    "user_index = np.array([0])\n",
    "movie_index = np.array([3])\n",
    "\n",
    "user_items = coo_matrix((np.array([1]), (user_index, movie_index)), shape=user_ratings[0].toarray().shape).tocsr()\n",
    "model.partial_fit_users(user_index, user_items)"
   ]
  },
  {
   "cell_type": "code",
   "execution_count": 29,
   "metadata": {},
   "outputs": [
    {
     "data": {
      "text/plain": [
       "Matrix([[ 0.09333742  0.10691615 -0.06859943  0.06337428  0.03478478  0.10461906\n",
       "   0.10949229 -0.13812096 -0.04456944  0.00574158 -0.01999035  0.06932946\n",
       "  -0.01470751 -0.10916646  0.01173558 -0.10570571  0.07258046  0.06533778\n",
       "  -0.03506503  0.01538975  0.09614038 -0.07169632  0.04285904  0.00231538\n",
       "  -0.08692604  0.00460023  0.02882024  0.01736323  0.02831599 -0.00353826\n",
       "   0.10535864  0.03691528  0.01948225  0.09562456 -0.02379211 -0.04433149\n",
       "   0.20472279 -0.07469333 -0.04450775 -0.04875574  0.02364833  0.14825273\n",
       "   0.04327418 -0.08960438  0.00488504 -0.09231184 -0.10767691  0.04969417\n",
       "  -0.01023622 -0.0179703 ]])"
      ]
     },
     "execution_count": 29,
     "metadata": {},
     "output_type": "execute_result"
    }
   ],
   "source": [
    "model.user_factors[0]"
   ]
  },
  {
   "cell_type": "code",
   "execution_count": 38,
   "metadata": {},
   "outputs": [],
   "source": [
    "ids, scores = model.recommend(0, user_ratings[0], N=10, filter_already_liked_items=False)"
   ]
  },
  {
   "cell_type": "code",
   "execution_count": 40,
   "metadata": {},
   "outputs": [
    {
     "data": {
      "text/plain": [
       "array([   3,  289,  235,  358,  825,  108,  316,  763, 1010,  789],\n",
       "      dtype=int32)"
      ]
     },
     "execution_count": 40,
     "metadata": {},
     "output_type": "execute_result"
    }
   ],
   "source": [
    "ids"
   ]
  },
  {
   "cell_type": "code",
   "execution_count": 41,
   "metadata": {},
   "outputs": [
    {
     "data": {
      "text/plain": [
       "array([0.04815494, 0.02354678, 0.02318918, 0.02315067, 0.02249356,\n",
       "       0.02130273, 0.02120527, 0.02057432, 0.02054867, 0.01968906],\n",
       "      dtype=float32)"
      ]
     },
     "execution_count": 41,
     "metadata": {},
     "output_type": "execute_result"
    }
   ],
   "source": [
    "scores"
   ]
  },
  {
   "cell_type": "code",
   "execution_count": null,
   "metadata": {},
   "outputs": [],
   "source": []
  }
 ],
 "metadata": {
  "interpreter": {
   "hash": "1dc751811c529e88765b7ce96b7dfd0b5d4ad3dfe561f6662e2f17c21e2ffbb1"
  },
  "kernelspec": {
   "display_name": "Python 3.8.8 64-bit ('base': conda)",
   "language": "python",
   "name": "python3"
  },
  "language_info": {
   "codemirror_mode": {
    "name": "ipython",
    "version": 3
   },
   "file_extension": ".py",
   "mimetype": "text/x-python",
   "name": "python",
   "nbconvert_exporter": "python",
   "pygments_lexer": "ipython3",
   "version": "3.8.8"
  },
  "orig_nbformat": 4
 },
 "nbformat": 4,
 "nbformat_minor": 2
}
