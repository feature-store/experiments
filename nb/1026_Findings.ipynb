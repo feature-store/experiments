{
 "cells": [
  {
   "cell_type": "code",
   "execution_count": 3,
   "id": "89c41f80",
   "metadata": {},
   "outputs": [],
   "source": [
    "import pandas as pd\n",
    "from sklearn.metrics import mean_squared_error, mean_absolute_error\n",
    "import matplotlib.pyplot as plt\n",
    "import numpy as np\n",
    "\n",
    "from tqdm import tqdm\n",
    "import os\n",
    "\n",
    "import seaborn as sns\n",
    "sns.set_theme(style=\"whitegrid\")\n",
    "predictions = pd.read_csv(\"~/Downloads/predictions.csv\")"
   ]
  },
  {
   "cell_type": "code",
   "execution_count": 4,
   "id": "657f321c",
   "metadata": {},
   "outputs": [],
   "source": [
    "predictions['pred_diff'] = predictions['y_pred'] - predictions['y_true']\n",
    "predictions['per_error'] = abs(predictions['pred_diff']) / predictions['y_true']\n",
    "predictions = predictions[predictions['policy'].isin(['total_error_cold', 'min_past'])]"
   ]
  },
  {
   "cell_type": "code",
   "execution_count": 5,
   "id": "3e246c78",
   "metadata": {},
   "outputs": [],
   "source": [
    "# Remove Outliers\n",
    "from scipy import stats\n",
    "predictions = predictions[(np.abs(stats.zscore(predictions['per_error'])) < 3)]"
   ]
  },
  {
   "cell_type": "code",
   "execution_count": 6,
   "id": "5c560b01",
   "metadata": {},
   "outputs": [
    {
     "data": {
      "text/plain": [
       "policy\n",
       "min_past            0.256342\n",
       "total_error_cold    0.255298\n",
       "Name: per_error, dtype: float64"
      ]
     },
     "execution_count": 6,
     "metadata": {},
     "output_type": "execute_result"
    }
   ],
   "source": [
    "predictions.groupby('policy').mean()['per_error']"
   ]
  },
  {
   "cell_type": "code",
   "execution_count": 7,
   "id": "c19ce1a2",
   "metadata": {},
   "outputs": [],
   "source": [
    "overall_dataset_per_diff = 0.256342 - 0.255298"
   ]
  },
  {
   "cell_type": "markdown",
   "id": "c042a593",
   "metadata": {},
   "source": [
    "Now we look at the dataset we've trained on, and whether that influences the percent error difference across policies."
   ]
  },
  {
   "cell_type": "code",
   "execution_count": 9,
   "id": "0de70dba",
   "metadata": {},
   "outputs": [],
   "source": [
    "past_updates =  pd.read_pickle('~/Downloads/past_updates-2.pkl')"
   ]
  },
  {
   "cell_type": "code",
   "execution_count": 10,
   "id": "a59f45b9",
   "metadata": {},
   "outputs": [],
   "source": [
    "trained_predictions = predictions[predictions['user_id'].isin(past_updates)]\n",
    "untrained_predictions = predictions[~predictions['user_id'].isin(past_updates)]"
   ]
  },
  {
   "cell_type": "code",
   "execution_count": 11,
   "id": "aa21795a",
   "metadata": {},
   "outputs": [
    {
     "data": {
      "text/plain": [
       "policy\n",
       "min_past            0.248708\n",
       "total_error_cold    0.238725\n",
       "Name: per_error, dtype: float64"
      ]
     },
     "execution_count": 11,
     "metadata": {},
     "output_type": "execute_result"
    }
   ],
   "source": [
    "trained_predictions.groupby('policy').mean()['per_error']"
   ]
  },
  {
   "cell_type": "code",
   "execution_count": 12,
   "id": "124872af",
   "metadata": {},
   "outputs": [],
   "source": [
    "trained_dataset_per_diff = 0.248708 - 0.238725"
   ]
  },
  {
   "cell_type": "code",
   "execution_count": 13,
   "id": "87803d55",
   "metadata": {},
   "outputs": [
    {
     "data": {
      "text/plain": [
       "policy\n",
       "min_past            0.256430\n",
       "total_error_cold    0.255489\n",
       "Name: per_error, dtype: float64"
      ]
     },
     "execution_count": 13,
     "metadata": {},
     "output_type": "execute_result"
    }
   ],
   "source": [
    "untrained_predictions.groupby('policy').mean()['per_error']"
   ]
  },
  {
   "cell_type": "code",
   "execution_count": 14,
   "id": "ac3ebd03",
   "metadata": {},
   "outputs": [],
   "source": [
    "untrained_dataset_per_diff = 0.256430 - 0.255489"
   ]
  },
  {
   "cell_type": "markdown",
   "id": "0574338c",
   "metadata": {},
   "source": [
    "Now we look for whether bursty periods of time influence the percent error difference. I've defined bursty to be more than 200 ratings/timestamp, but you can change it to be whatever threshold you think is appropriate."
   ]
  },
  {
   "cell_type": "code",
   "execution_count": 15,
   "id": "20f369ba",
   "metadata": {},
   "outputs": [],
   "source": [
    "threshold = 200"
   ]
  },
  {
   "cell_type": "code",
   "execution_count": 16,
   "id": "e5e142af",
   "metadata": {},
   "outputs": [],
   "source": [
    "temp_table = predictions[predictions['policy'] == 'min_past'].groupby('timestamp').count().sort_values('user_id', ascending = False)"
   ]
  },
  {
   "cell_type": "code",
   "execution_count": 17,
   "id": "3db5a1bb",
   "metadata": {},
   "outputs": [],
   "source": [
    "timestamp_num = {}\n",
    "for index, row in temp_table.iterrows():\n",
    "    timestamp_num[index] = row['user_id']"
   ]
  },
  {
   "cell_type": "code",
   "execution_count": 18,
   "id": "098b9994",
   "metadata": {},
   "outputs": [],
   "source": [
    "new_table = predictions.copy(deep=True)"
   ]
  },
  {
   "cell_type": "code",
   "execution_count": 19,
   "id": "11641e80",
   "metadata": {},
   "outputs": [],
   "source": [
    "new_table['num_per_timestamp'] = new_table.apply(lambda x: timestamp_num[x['timestamp']], axis=1)"
   ]
  },
  {
   "cell_type": "code",
   "execution_count": 20,
   "id": "dd2577ba",
   "metadata": {},
   "outputs": [],
   "source": [
    "above_threshold = new_table[new_table['num_per_timestamp'] > threshold]"
   ]
  },
  {
   "cell_type": "code",
   "execution_count": 21,
   "id": "ceb23122",
   "metadata": {},
   "outputs": [
    {
     "data": {
      "text/plain": [
       "policy\n",
       "min_past            0.257234\n",
       "total_error_cold    0.256289\n",
       "Name: per_error, dtype: float64"
      ]
     },
     "execution_count": 21,
     "metadata": {},
     "output_type": "execute_result"
    }
   ],
   "source": [
    "above_threshold.groupby('policy').mean()['per_error']"
   ]
  },
  {
   "cell_type": "code",
   "execution_count": 22,
   "id": "fcd48f0d",
   "metadata": {},
   "outputs": [],
   "source": [
    "bursty_dataset_per_diff = 0.257234 - 0.256289"
   ]
  },
  {
   "cell_type": "code",
   "execution_count": 24,
   "id": "a99186f5",
   "metadata": {},
   "outputs": [
    {
     "name": "stdout",
     "output_type": "stream",
     "text": [
      "Overall Dataset Diff in Percent Errors: 0.0010\n",
      "Trained Dataset Diff in Percent Errors: 0.0100\n",
      "Untrained Dataset Diff in Percent Errors: 0.0009\n",
      "Bursty Dataset Diff in Percent Errors: 0.0009\n",
      "\n"
     ]
    }
   ],
   "source": [
    "print('Overall Dataset Diff in Percent Errors: {:0.4f}\\nTrained Dataset Diff in Percent Errors: {:0.4f}\\nUntrained Dataset Diff in Percent Errors: {:0.4f}\\nBursty Dataset Diff in Percent Errors: {:0.4f}\\n'.format(overall_dataset_per_diff,trained_dataset_per_diff, untrained_dataset_per_diff,bursty_dataset_per_diff))"
   ]
  }
 ],
 "metadata": {
  "kernelspec": {
   "display_name": "Python 3 (ipykernel)",
   "language": "python",
   "name": "python3"
  },
  "language_info": {
   "codemirror_mode": {
    "name": "ipython",
    "version": 3
   },
   "file_extension": ".py",
   "mimetype": "text/x-python",
   "name": "python",
   "nbconvert_exporter": "python",
   "pygments_lexer": "ipython3",
   "version": "3.8.13"
  }
 },
 "nbformat": 4,
 "nbformat_minor": 5
}
