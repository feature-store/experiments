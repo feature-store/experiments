{
 "cells": [
  {
   "cell_type": "code",
   "execution_count": 2,
   "id": "89c41f80",
   "metadata": {},
   "outputs": [],
   "source": [
    "import pandas as pd\n",
    "from sklearn.metrics import mean_squared_error, mean_absolute_error\n",
    "import matplotlib.pyplot as plt\n",
    "import numpy as np\n",
    "\n",
    "from tqdm import tqdm\n",
    "import os\n",
    "\n",
    "import seaborn as sns\n",
    "sns.set_theme(style=\"whitegrid\")\n",
    "predictions = pd.read_csv(\"~/Downloads/predictions.csv\")"
   ]
  },
  {
   "cell_type": "code",
   "execution_count": 3,
   "id": "657f321c",
   "metadata": {},
   "outputs": [],
   "source": [
    "predictions['pred_diff'] = predictions['y_pred'] - predictions['y_true']\n",
    "predictions['per_error'] = abs(predictions['pred_diff']) / predictions['y_true']\n",
    "predictions = predictions[predictions['policy'].isin(['total_error_cold', 'min_past'])]"
   ]
  },
  {
   "cell_type": "code",
   "execution_count": 4,
   "id": "3e246c78",
   "metadata": {},
   "outputs": [],
   "source": [
    "# Remove Outliers\n",
    "from scipy import stats\n",
    "predictions = predictions[(np.abs(stats.zscore(predictions['per_error'])) < 3)]"
   ]
  },
  {
   "cell_type": "code",
   "execution_count": 11,
   "id": "5c560b01",
   "metadata": {},
   "outputs": [],
   "source": [
    "min_past_error = predictions[predictions['policy'] == 'min_past'].groupby('updates').mean()['per_error']"
   ]
  },
  {
   "cell_type": "code",
   "execution_count": 12,
   "id": "4faa68a5",
   "metadata": {},
   "outputs": [],
   "source": [
    "error_cold_error = predictions[predictions['policy'] == 'total_error_cold'].groupby('updates').mean()['per_error']"
   ]
  },
  {
   "cell_type": "code",
   "execution_count": 13,
   "id": "c19ce1a2",
   "metadata": {},
   "outputs": [],
   "source": [
    "overall_dataset_per_diff = min_past_error - error_cold_error"
   ]
  },
  {
   "cell_type": "markdown",
   "id": "c042a593",
   "metadata": {},
   "source": [
    "Now we look at the dataset we've trained on, and whether that influences the percent error difference across policies."
   ]
  },
  {
   "cell_type": "code",
   "execution_count": 14,
   "id": "0de70dba",
   "metadata": {},
   "outputs": [],
   "source": [
    "past_updates =  pd.read_pickle('~/Downloads/past_updates-2.pkl')"
   ]
  },
  {
   "cell_type": "code",
   "execution_count": 15,
   "id": "a59f45b9",
   "metadata": {},
   "outputs": [],
   "source": [
    "trained_predictions = predictions[predictions['user_id'].isin(past_updates)]\n",
    "untrained_predictions = predictions[~predictions['user_id'].isin(past_updates)]"
   ]
  },
  {
   "cell_type": "code",
   "execution_count": 17,
   "id": "d95908fc",
   "metadata": {},
   "outputs": [],
   "source": [
    "min_past_train_error = trained_predictions[trained_predictions['policy'] == 'min_past'].groupby('updates').mean()['per_error']\n",
    "cold_train_error = trained_predictions[trained_predictions['policy'] == 'total_error_cold'].groupby('updates').mean()['per_error']"
   ]
  },
  {
   "cell_type": "code",
   "execution_count": 18,
   "id": "124872af",
   "metadata": {},
   "outputs": [],
   "source": [
    "trained_dataset_per_diff = min_past_train_error - cold_train_error"
   ]
  },
  {
   "cell_type": "code",
   "execution_count": 19,
   "id": "87803d55",
   "metadata": {},
   "outputs": [],
   "source": [
    "min_past_untrain_error = untrained_predictions[untrained_predictions['policy'] == 'min_past'].groupby('updates').mean()['per_error']\n",
    "cold_untrain_error = untrained_predictions[untrained_predictions['policy'] == 'total_error_cold'].groupby('updates').mean()['per_error']"
   ]
  },
  {
   "cell_type": "code",
   "execution_count": 20,
   "id": "ac3ebd03",
   "metadata": {},
   "outputs": [],
   "source": [
    "untrained_dataset_per_diff = min_past_untrain_error - cold_untrain_error"
   ]
  },
  {
   "cell_type": "markdown",
   "id": "0574338c",
   "metadata": {},
   "source": [
    "Now we look for whether bursty periods of time influence the percent error difference. I've defined bursty to be more than 200 ratings/timestamp, but you can change it to be whatever threshold you think is appropriate."
   ]
  },
  {
   "cell_type": "code",
   "execution_count": 21,
   "id": "20f369ba",
   "metadata": {},
   "outputs": [],
   "source": [
    "threshold = 200"
   ]
  },
  {
   "cell_type": "code",
   "execution_count": 22,
   "id": "e5e142af",
   "metadata": {},
   "outputs": [],
   "source": [
    "temp_table = predictions[predictions['policy'] == 'min_past'].groupby('timestamp').count().sort_values('user_id', ascending = False)"
   ]
  },
  {
   "cell_type": "code",
   "execution_count": 23,
   "id": "3db5a1bb",
   "metadata": {},
   "outputs": [],
   "source": [
    "timestamp_num = {}\n",
    "for index, row in temp_table.iterrows():\n",
    "    timestamp_num[index] = row['user_id']"
   ]
  },
  {
   "cell_type": "code",
   "execution_count": 24,
   "id": "098b9994",
   "metadata": {},
   "outputs": [],
   "source": [
    "new_table = predictions.copy(deep=True)"
   ]
  },
  {
   "cell_type": "code",
   "execution_count": 25,
   "id": "11641e80",
   "metadata": {},
   "outputs": [],
   "source": [
    "new_table['num_per_timestamp'] = new_table.apply(lambda x: timestamp_num[x['timestamp']], axis=1)"
   ]
  },
  {
   "cell_type": "code",
   "execution_count": 26,
   "id": "dd2577ba",
   "metadata": {},
   "outputs": [],
   "source": [
    "above_threshold = new_table[new_table['num_per_timestamp'] > threshold]"
   ]
  },
  {
   "cell_type": "code",
   "execution_count": 27,
   "id": "1b249aa5",
   "metadata": {},
   "outputs": [],
   "source": [
    "min_past_above_error = above_threshold[above_threshold['policy'] == 'min_past'].groupby('updates').mean()['per_error']\n",
    "cold_above_error = above_threshold[above_threshold['policy'] == 'total_error_cold'].groupby('updates').mean()['per_error']"
   ]
  },
  {
   "cell_type": "code",
   "execution_count": 21,
   "id": "ceb23122",
   "metadata": {},
   "outputs": [
    {
     "data": {
      "text/plain": [
       "policy\n",
       "min_past            0.257234\n",
       "total_error_cold    0.256289\n",
       "Name: per_error, dtype: float64"
      ]
     },
     "execution_count": 21,
     "metadata": {},
     "output_type": "execute_result"
    }
   ],
   "source": [
    "above_threshold.groupby('policy').mean()['per_error']"
   ]
  },
  {
   "cell_type": "code",
   "execution_count": 28,
   "id": "fcd48f0d",
   "metadata": {},
   "outputs": [],
   "source": [
    "bursty_dataset_per_diff = min_past_above_error - cold_above_error"
   ]
  },
  {
   "cell_type": "code",
   "execution_count": 39,
   "id": "2db7edf7",
   "metadata": {},
   "outputs": [],
   "source": [
    "d = {\"updates\": sorted(list(set(predictions['updates']))), 'overall': overall_dataset_per_diff, 'trained': trained_dataset_per_diff, 'untrained': untrained_dataset_per_diff, 'bursty': bursty_dataset_per_diff}\n",
    "conclusion_df = pd.DataFrame(data=d).drop('updates', axis=1)"
   ]
  },
  {
   "cell_type": "code",
   "execution_count": 40,
   "id": "ff562193",
   "metadata": {},
   "outputs": [
    {
     "data": {
      "text/html": [
       "<div>\n",
       "<style scoped>\n",
       "    .dataframe tbody tr th:only-of-type {\n",
       "        vertical-align: middle;\n",
       "    }\n",
       "\n",
       "    .dataframe tbody tr th {\n",
       "        vertical-align: top;\n",
       "    }\n",
       "\n",
       "    .dataframe thead th {\n",
       "        text-align: right;\n",
       "    }\n",
       "</style>\n",
       "<table border=\"1\" class=\"dataframe\">\n",
       "  <thead>\n",
       "    <tr style=\"text-align: right;\">\n",
       "      <th></th>\n",
       "      <th>overall</th>\n",
       "      <th>trained</th>\n",
       "      <th>untrained</th>\n",
       "      <th>bursty</th>\n",
       "    </tr>\n",
       "    <tr>\n",
       "      <th>updates</th>\n",
       "      <th></th>\n",
       "      <th></th>\n",
       "      <th></th>\n",
       "      <th></th>\n",
       "    </tr>\n",
       "  </thead>\n",
       "  <tbody>\n",
       "    <tr>\n",
       "      <th>0.20</th>\n",
       "      <td>2.856378e-03</td>\n",
       "      <td>3.277973e-02</td>\n",
       "      <td>2.510297e-03</td>\n",
       "      <td>1.181654e-03</td>\n",
       "    </tr>\n",
       "    <tr>\n",
       "      <th>0.25</th>\n",
       "      <td>2.801370e-03</td>\n",
       "      <td>3.737641e-02</td>\n",
       "      <td>2.401165e-03</td>\n",
       "      <td>9.736155e-04</td>\n",
       "    </tr>\n",
       "    <tr>\n",
       "      <th>0.50</th>\n",
       "      <td>1.789787e-03</td>\n",
       "      <td>4.837629e-03</td>\n",
       "      <td>1.754521e-03</td>\n",
       "      <td>2.110823e-03</td>\n",
       "    </tr>\n",
       "    <tr>\n",
       "      <th>1.00</th>\n",
       "      <td>1.426616e-03</td>\n",
       "      <td>1.631905e-02</td>\n",
       "      <td>1.254433e-03</td>\n",
       "      <td>2.026089e-03</td>\n",
       "    </tr>\n",
       "    <tr>\n",
       "      <th>2.00</th>\n",
       "      <td>4.805088e-04</td>\n",
       "      <td>-1.302397e-03</td>\n",
       "      <td>5.006305e-04</td>\n",
       "      <td>1.566335e-03</td>\n",
       "    </tr>\n",
       "    <tr>\n",
       "      <th>3.00</th>\n",
       "      <td>7.513297e-05</td>\n",
       "      <td>3.629034e-04</td>\n",
       "      <td>7.179209e-05</td>\n",
       "      <td>9.209420e-04</td>\n",
       "    </tr>\n",
       "    <tr>\n",
       "      <th>4.00</th>\n",
       "      <td>-5.878871e-05</td>\n",
       "      <td>-1.045495e-03</td>\n",
       "      <td>-4.740474e-05</td>\n",
       "      <td>-8.814543e-05</td>\n",
       "    </tr>\n",
       "    <tr>\n",
       "      <th>5.00</th>\n",
       "      <td>-5.487346e-05</td>\n",
       "      <td>1.282444e-04</td>\n",
       "      <td>-5.699330e-05</td>\n",
       "      <td>-2.098476e-04</td>\n",
       "    </tr>\n",
       "    <tr>\n",
       "      <th>8.00</th>\n",
       "      <td>1.475106e-09</td>\n",
       "      <td>-6.623909e-09</td>\n",
       "      <td>1.568598e-09</td>\n",
       "      <td>1.289770e-08</td>\n",
       "    </tr>\n",
       "  </tbody>\n",
       "</table>\n",
       "</div>"
      ],
      "text/plain": [
       "              overall       trained     untrained        bursty\n",
       "updates                                                        \n",
       "0.20     2.856378e-03  3.277973e-02  2.510297e-03  1.181654e-03\n",
       "0.25     2.801370e-03  3.737641e-02  2.401165e-03  9.736155e-04\n",
       "0.50     1.789787e-03  4.837629e-03  1.754521e-03  2.110823e-03\n",
       "1.00     1.426616e-03  1.631905e-02  1.254433e-03  2.026089e-03\n",
       "2.00     4.805088e-04 -1.302397e-03  5.006305e-04  1.566335e-03\n",
       "3.00     7.513297e-05  3.629034e-04  7.179209e-05  9.209420e-04\n",
       "4.00    -5.878871e-05 -1.045495e-03 -4.740474e-05 -8.814543e-05\n",
       "5.00    -5.487346e-05  1.282444e-04 -5.699330e-05 -2.098476e-04\n",
       "8.00     1.475106e-09 -6.623909e-09  1.568598e-09  1.289770e-08"
      ]
     },
     "execution_count": 40,
     "metadata": {},
     "output_type": "execute_result"
    }
   ],
   "source": [
    "conclusion_df"
   ]
  },
  {
   "cell_type": "code",
   "execution_count": 24,
   "id": "a99186f5",
   "metadata": {},
   "outputs": [
    {
     "name": "stdout",
     "output_type": "stream",
     "text": [
      "Overall Dataset Diff in Percent Errors: 0.0010\n",
      "Trained Dataset Diff in Percent Errors: 0.0100\n",
      "Untrained Dataset Diff in Percent Errors: 0.0009\n",
      "Bursty Dataset Diff in Percent Errors: 0.0009\n",
      "\n"
     ]
    }
   ],
   "source": [
    "print('Overall Dataset Diff in Percent Errors: {:0.4f}\\nTrained Dataset Diff in Percent Errors: {:0.4f}\\nUntrained Dataset Diff in Percent Errors: {:0.4f}\\nBursty Dataset Diff in Percent Errors: {:0.4f}\\n'.format(overall_dataset_per_diff,trained_dataset_per_diff, untrained_dataset_per_diff,bursty_dataset_per_diff))"
   ]
  }
 ],
 "metadata": {
  "kernelspec": {
   "display_name": "Python 3 (ipykernel)",
   "language": "python",
   "name": "python3"
  },
  "language_info": {
   "codemirror_mode": {
    "name": "ipython",
    "version": 3
   },
   "file_extension": ".py",
   "mimetype": "text/x-python",
   "name": "python",
   "nbconvert_exporter": "python",
   "pygments_lexer": "ipython3",
   "version": "3.8.13"
  }
 },
 "nbformat": 4,
 "nbformat_minor": 5
}
