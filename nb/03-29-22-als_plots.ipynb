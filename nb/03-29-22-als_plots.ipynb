{
 "cells": [
  {
   "cell_type": "code",
   "execution_count": 2,
   "id": "bedcb268",
   "metadata": {},
   "outputs": [
    {
     "name": "stdout",
     "output_type": "stream",
     "text": [
      "The autoreload extension is already loaded. To reload it, use:\n",
      "  %reload_ext autoreload\n"
     ]
    }
   ],
   "source": [
    "import pandas as pd\n",
    "from sklearn.metrics import mean_squared_error, mean_absolute_error\n",
    "import matplotlib.pyplot as plt\n",
    "import numpy as np\n",
    "import sys \n",
    "sys.path.insert(1, \"../\")\n",
    "from workloads.util import use_results, use_dataset, read_config, log_dataset, use_plots, log_plots\n",
    "\n",
    "from tqdm import tqdm\n",
    "import os\n",
    "\n",
    "import seaborn as sns\n",
    "sns.set_theme(style=\"whitegrid\")\n",
    "\n",
    "%load_ext autoreload\n",
    "%autoreload 2"
   ]
  },
  {
   "cell_type": "code",
   "execution_count": 3,
   "id": "bb5d482f",
   "metadata": {},
   "outputs": [
    {
     "name": "stdout",
     "output_type": "stream",
     "text": [
      "/data/wooders/ralf-vldb//datasets/ml-1m\n"
     ]
    }
   ],
   "source": [
    "experiment = \"ml-1m\"\n",
    "dataset_dir = use_dataset(experiment)\n",
    "result_dir = use_results(experiment, download=False)"
   ]
  },
  {
   "cell_type": "markdown",
   "id": "d2f045e1",
   "metadata": {},
   "source": [
    "# Runtime Analysis "
   ]
  },
  {
   "cell_type": "code",
   "execution_count": null,
   "id": "2c086b0d",
   "metadata": {},
   "outputs": [],
   "source": [
    "lines = open(f\"{result_dir}/runtimes.txt\").read().split(\"\\n\")\n",
    "runtimes = pd.DataFrame({\"runtimes\": [float(l) for l in lines[:-1]]})"
   ]
  },
  {
   "cell_type": "code",
   "execution_count": null,
   "id": "fea16595",
   "metadata": {},
   "outputs": [],
   "source": [
    "plt.tight_layout()\n",
    "\n",
    "f, ax = plt.subplots(ncols=1, figsize=(10, 5))\n",
    "   \n",
    "sns.boxplot(x=runtimes[\"runtimes\"])\n",
    "ax.set(title=\"Featurization Runtime (Recommendation)\", xlabel=\"Time (s)\")\n",
    " "
   ]
  },
  {
   "cell_type": "code",
   "execution_count": null,
   "id": "d5fdcd41",
   "metadata": {},
   "outputs": [],
   "source": [
    "avg_runtime = runtimes.runtimes.mean()\n",
    "avg_runtime"
   ]
  },
  {
   "cell_type": "code",
   "execution_count": 5,
   "id": "d2913b4b",
   "metadata": {},
   "outputs": [],
   "source": [
    "split = 0.75 \n",
    "updates_per_ts = [0.5, 0.25, 0.2, 1, 2, 3, 4, 5, 8, 10000, None]\n",
    "ts_factor = [60] #, 60*60, 60*60*24]\n",
    "policies = [\"total_error_cold\", \"query_proportional\", \"max_pending\", \"min_past\", \"round_robin\", \"batch\"] #, \"last_query\"]"
   ]
  },
  {
   "cell_type": "code",
   "execution_count": 6,
   "id": "5dc083f6",
   "metadata": {},
   "outputs": [],
   "source": [
    "limit = None #100000 #100000"
   ]
  },
  {
   "cell_type": "code",
   "execution_count": 7,
   "id": "51695fbb",
   "metadata": {},
   "outputs": [
    {
     "data": {
      "text/html": [
       "<div>\n",
       "<style scoped>\n",
       "    .dataframe tbody tr th:only-of-type {\n",
       "        vertical-align: middle;\n",
       "    }\n",
       "\n",
       "    .dataframe tbody tr th {\n",
       "        vertical-align: top;\n",
       "    }\n",
       "\n",
       "    .dataframe thead th {\n",
       "        text-align: right;\n",
       "    }\n",
       "</style>\n",
       "<table border=\"1\" class=\"dataframe\">\n",
       "  <thead>\n",
       "    <tr style=\"text-align: right;\">\n",
       "      <th></th>\n",
       "      <th>user_id</th>\n",
       "      <th>movie_id</th>\n",
       "      <th>rating</th>\n",
       "      <th>timestamp</th>\n",
       "    </tr>\n",
       "  </thead>\n",
       "  <tbody>\n",
       "    <tr>\n",
       "      <th>0</th>\n",
       "      <td>1</td>\n",
       "      <td>661</td>\n",
       "      <td>3</td>\n",
       "      <td>3081168</td>\n",
       "    </tr>\n",
       "    <tr>\n",
       "      <th>1</th>\n",
       "      <td>1</td>\n",
       "      <td>914</td>\n",
       "      <td>3</td>\n",
       "      <td>3081027</td>\n",
       "    </tr>\n",
       "    <tr>\n",
       "      <th>2</th>\n",
       "      <td>1</td>\n",
       "      <td>3408</td>\n",
       "      <td>4</td>\n",
       "      <td>3079334</td>\n",
       "    </tr>\n",
       "    <tr>\n",
       "      <th>3</th>\n",
       "      <td>1</td>\n",
       "      <td>2355</td>\n",
       "      <td>5</td>\n",
       "      <td>3603350</td>\n",
       "    </tr>\n",
       "    <tr>\n",
       "      <th>4</th>\n",
       "      <td>1</td>\n",
       "      <td>1197</td>\n",
       "      <td>3</td>\n",
       "      <td>3081327</td>\n",
       "    </tr>\n",
       "    <tr>\n",
       "      <th>...</th>\n",
       "      <td>...</td>\n",
       "      <td>...</td>\n",
       "      <td>...</td>\n",
       "      <td>...</td>\n",
       "    </tr>\n",
       "    <tr>\n",
       "      <th>249907</th>\n",
       "      <td>6040</td>\n",
       "      <td>1333</td>\n",
       "      <td>4</td>\n",
       "      <td>22233199</td>\n",
       "    </tr>\n",
       "    <tr>\n",
       "      <th>249908</th>\n",
       "      <td>6040</td>\n",
       "      <td>3362</td>\n",
       "      <td>4</td>\n",
       "      <td>22232855</td>\n",
       "    </tr>\n",
       "    <tr>\n",
       "      <th>249909</th>\n",
       "      <td>6040</td>\n",
       "      <td>161</td>\n",
       "      <td>3</td>\n",
       "      <td>22233545</td>\n",
       "    </tr>\n",
       "    <tr>\n",
       "      <th>249910</th>\n",
       "      <td>6040</td>\n",
       "      <td>2725</td>\n",
       "      <td>4</td>\n",
       "      <td>22233239</td>\n",
       "    </tr>\n",
       "    <tr>\n",
       "      <th>249911</th>\n",
       "      <td>6040</td>\n",
       "      <td>1784</td>\n",
       "      <td>3</td>\n",
       "      <td>22233523</td>\n",
       "    </tr>\n",
       "  </tbody>\n",
       "</table>\n",
       "<p>249912 rows × 4 columns</p>\n",
       "</div>"
      ],
      "text/plain": [
       "        user_id  movie_id  rating  timestamp\n",
       "0             1       661       3    3081168\n",
       "1             1       914       3    3081027\n",
       "2             1      3408       4    3079334\n",
       "3             1      2355       5    3603350\n",
       "4             1      1197       3    3081327\n",
       "...         ...       ...     ...        ...\n",
       "249907     6040      1333       4   22233199\n",
       "249908     6040      3362       4   22232855\n",
       "249909     6040       161       3   22233545\n",
       "249910     6040      2725       4   22233239\n",
       "249911     6040      1784       3   22233523\n",
       "\n",
       "[249912 rows x 4 columns]"
      ]
     },
     "execution_count": 7,
     "metadata": {},
     "output_type": "execute_result"
    }
   ],
   "source": [
    "stream_df = pd.read_csv(f'{dataset_dir}/stream_{split}.csv')\n",
    "start_ts = stream_df.timestamp.min()\n",
    "stream_df.timestamp = stream_df.timestamp.apply(lambda ts: ts - start_ts)\n",
    "stream_df"
   ]
  },
  {
   "cell_type": "markdown",
   "id": "a7171965",
   "metadata": {},
   "source": [
    "# Collect Baselines "
   ]
  },
  {
   "cell_type": "code",
   "execution_count": 8,
   "id": "d9f15e4a",
   "metadata": {},
   "outputs": [
    {
     "name": "stdout",
     "output_type": "stream",
     "text": [
      "249912\n",
      "249912\n"
     ]
    },
    {
     "data": {
      "text/html": [
       "<div>\n",
       "<style scoped>\n",
       "    .dataframe tbody tr th:only-of-type {\n",
       "        vertical-align: middle;\n",
       "    }\n",
       "\n",
       "    .dataframe tbody tr th {\n",
       "        vertical-align: top;\n",
       "    }\n",
       "\n",
       "    .dataframe thead th {\n",
       "        text-align: right;\n",
       "    }\n",
       "</style>\n",
       "<table border=\"1\" class=\"dataframe\">\n",
       "  <thead>\n",
       "    <tr style=\"text-align: right;\">\n",
       "      <th></th>\n",
       "      <th>updates</th>\n",
       "      <th>error</th>\n",
       "      <th>total_updates</th>\n",
       "      <th>ts_factor</th>\n",
       "      <th>max_ts</th>\n",
       "    </tr>\n",
       "  </thead>\n",
       "  <tbody>\n",
       "    <tr>\n",
       "      <th>0</th>\n",
       "      <td>0</td>\n",
       "      <td>5.210594</td>\n",
       "      <td>0</td>\n",
       "      <td>60</td>\n",
       "      <td>1187227</td>\n",
       "    </tr>\n",
       "    <tr>\n",
       "      <th>1</th>\n",
       "      <td>10000</td>\n",
       "      <td>1.060045</td>\n",
       "      <td>85297</td>\n",
       "      <td>60</td>\n",
       "      <td>1187227</td>\n",
       "    </tr>\n",
       "  </tbody>\n",
       "</table>\n",
       "</div>"
      ],
      "text/plain": [
       "   updates     error  total_updates  ts_factor   max_ts\n",
       "0        0  5.210594              0         60  1187227\n",
       "1    10000  1.060045          85297         60  1187227"
      ]
     },
     "execution_count": 8,
     "metadata": {},
     "output_type": "execute_result"
    }
   ],
   "source": [
    "results = []\n",
    "\n",
    "for baseline in [None, 10000]:\n",
    "    for t in ts_factor: \n",
    "\n",
    "        update_df = pd.read_csv(f\"{result_dir}/round_robin_{baseline}_{t}_split_{split}_updates.csv\")\n",
    "        df = pd.read_csv(f\"{result_dir}/round_robin_{baseline}_{t}_split_{split}_results.csv\")\n",
    "        print(len(df.index))\n",
    "        df = df.iloc[:limit]\n",
    "        \n",
    "        timestamp = df.timestamp.max()\n",
    "        update_df = update_df[update_df[\"time\"] < timestamp]\n",
    "\n",
    "        error = mean_squared_error(df.y_pred, df.y_true)\n",
    "        total_updates = len(update_df.index)\n",
    "\n",
    "        if baseline is None:\n",
    "            results.append([0, error, total_updates, t, df.timestamp.max()])\n",
    "        else: \n",
    "            results.append([baseline, error, total_updates, t, df.timestamp.max()])\n",
    "        \n",
    "baseline_results_df = pd.DataFrame(results, columns=[\"updates\", \"error\", \"total_updates\", \"ts_factor\", \"max_ts\"])\n",
    "baseline_results_df"
   ]
  },
  {
   "cell_type": "code",
   "execution_count": 9,
   "id": "753cb3b1",
   "metadata": {},
   "outputs": [
    {
     "name": "stdout",
     "output_type": "stream",
     "text": [
      "total_error_cold 0.5 60 1187227 1187227\n"
     ]
    },
    {
     "name": "stderr",
     "output_type": "stream",
     "text": [
      "/tmp/ipykernel_3092022/1517576027.py:35: SettingWithCopyWarning: \n",
      "A value is trying to be set on a copy of a slice from a DataFrame\n",
      "\n",
      "See the caveats in the documentation: https://pandas.pydata.org/pandas-docs/stable/user_guide/indexing.html#returning-a-view-versus-a-copy\n",
      "  df[\"y_pred\"][df[\"y_pred\"] > 5] = 5\n",
      "/tmp/ipykernel_3092022/1517576027.py:36: SettingWithCopyWarning: \n",
      "A value is trying to be set on a copy of a slice from a DataFrame\n",
      "\n",
      "See the caveats in the documentation: https://pandas.pydata.org/pandas-docs/stable/user_guide/indexing.html#returning-a-view-versus-a-copy\n",
      "  df[\"y_pred\"][df[\"y_pred\"] < 1] = 1\n"
     ]
    },
    {
     "name": "stdout",
     "output_type": "stream",
     "text": [
      "41928 249912 1.0991756707824303\n",
      "total_error_cold 0.25 60 1187227 1187225\n"
     ]
    },
    {
     "name": "stderr",
     "output_type": "stream",
     "text": [
      "/tmp/ipykernel_3092022/1517576027.py:35: SettingWithCopyWarning: \n",
      "A value is trying to be set on a copy of a slice from a DataFrame\n",
      "\n",
      "See the caveats in the documentation: https://pandas.pydata.org/pandas-docs/stable/user_guide/indexing.html#returning-a-view-versus-a-copy\n",
      "  df[\"y_pred\"][df[\"y_pred\"] > 5] = 5\n",
      "/tmp/ipykernel_3092022/1517576027.py:36: SettingWithCopyWarning: \n",
      "A value is trying to be set on a copy of a slice from a DataFrame\n",
      "\n",
      "See the caveats in the documentation: https://pandas.pydata.org/pandas-docs/stable/user_guide/indexing.html#returning-a-view-versus-a-copy\n",
      "  df[\"y_pred\"][df[\"y_pred\"] < 1] = 1\n"
     ]
    },
    {
     "name": "stdout",
     "output_type": "stream",
     "text": [
      "27404 249912 1.1969537324279353\n",
      "total_error_cold 0.2 60 1187227 1187226\n"
     ]
    },
    {
     "name": "stderr",
     "output_type": "stream",
     "text": [
      "/tmp/ipykernel_3092022/1517576027.py:35: SettingWithCopyWarning: \n",
      "A value is trying to be set on a copy of a slice from a DataFrame\n",
      "\n",
      "See the caveats in the documentation: https://pandas.pydata.org/pandas-docs/stable/user_guide/indexing.html#returning-a-view-versus-a-copy\n",
      "  df[\"y_pred\"][df[\"y_pred\"] > 5] = 5\n",
      "/tmp/ipykernel_3092022/1517576027.py:36: SettingWithCopyWarning: \n",
      "A value is trying to be set on a copy of a slice from a DataFrame\n",
      "\n",
      "See the caveats in the documentation: https://pandas.pydata.org/pandas-docs/stable/user_guide/indexing.html#returning-a-view-versus-a-copy\n",
      "  df[\"y_pred\"][df[\"y_pred\"] < 1] = 1\n"
     ]
    },
    {
     "name": "stdout",
     "output_type": "stream",
     "text": [
      "24100 249912 1.2369876041073908\n",
      "total_error_cold 1 60 1187227 1187227\n",
      "65797 249912 1.065432422173671\n"
     ]
    },
    {
     "name": "stderr",
     "output_type": "stream",
     "text": [
      "/tmp/ipykernel_3092022/1517576027.py:35: SettingWithCopyWarning: \n",
      "A value is trying to be set on a copy of a slice from a DataFrame\n",
      "\n",
      "See the caveats in the documentation: https://pandas.pydata.org/pandas-docs/stable/user_guide/indexing.html#returning-a-view-versus-a-copy\n",
      "  df[\"y_pred\"][df[\"y_pred\"] > 5] = 5\n",
      "/tmp/ipykernel_3092022/1517576027.py:36: SettingWithCopyWarning: \n",
      "A value is trying to be set on a copy of a slice from a DataFrame\n",
      "\n",
      "See the caveats in the documentation: https://pandas.pydata.org/pandas-docs/stable/user_guide/indexing.html#returning-a-view-versus-a-copy\n",
      "  df[\"y_pred\"][df[\"y_pred\"] < 1] = 1\n"
     ]
    },
    {
     "name": "stdout",
     "output_type": "stream",
     "text": [
      "total_error_cold 2 60 1187227 1187227\n",
      "78046 249912 1.0612137276032347\n"
     ]
    },
    {
     "name": "stderr",
     "output_type": "stream",
     "text": [
      "/tmp/ipykernel_3092022/1517576027.py:35: SettingWithCopyWarning: \n",
      "A value is trying to be set on a copy of a slice from a DataFrame\n",
      "\n",
      "See the caveats in the documentation: https://pandas.pydata.org/pandas-docs/stable/user_guide/indexing.html#returning-a-view-versus-a-copy\n",
      "  df[\"y_pred\"][df[\"y_pred\"] > 5] = 5\n",
      "/tmp/ipykernel_3092022/1517576027.py:36: SettingWithCopyWarning: \n",
      "A value is trying to be set on a copy of a slice from a DataFrame\n",
      "\n",
      "See the caveats in the documentation: https://pandas.pydata.org/pandas-docs/stable/user_guide/indexing.html#returning-a-view-versus-a-copy\n",
      "  df[\"y_pred\"][df[\"y_pred\"] < 1] = 1\n"
     ]
    },
    {
     "name": "stdout",
     "output_type": "stream",
     "text": [
      "total_error_cold 3 60 1187227 1187227\n",
      "82255 249912 1.0604251834678773\n"
     ]
    },
    {
     "name": "stderr",
     "output_type": "stream",
     "text": [
      "/tmp/ipykernel_3092022/1517576027.py:35: SettingWithCopyWarning: \n",
      "A value is trying to be set on a copy of a slice from a DataFrame\n",
      "\n",
      "See the caveats in the documentation: https://pandas.pydata.org/pandas-docs/stable/user_guide/indexing.html#returning-a-view-versus-a-copy\n",
      "  df[\"y_pred\"][df[\"y_pred\"] > 5] = 5\n",
      "/tmp/ipykernel_3092022/1517576027.py:36: SettingWithCopyWarning: \n",
      "A value is trying to be set on a copy of a slice from a DataFrame\n",
      "\n",
      "See the caveats in the documentation: https://pandas.pydata.org/pandas-docs/stable/user_guide/indexing.html#returning-a-view-versus-a-copy\n",
      "  df[\"y_pred\"][df[\"y_pred\"] < 1] = 1\n"
     ]
    },
    {
     "name": "stdout",
     "output_type": "stream",
     "text": [
      "total_error_cold 4 60 1187227 1187227\n",
      "84023 249912 1.060293800592213\n"
     ]
    },
    {
     "name": "stderr",
     "output_type": "stream",
     "text": [
      "/tmp/ipykernel_3092022/1517576027.py:35: SettingWithCopyWarning: \n",
      "A value is trying to be set on a copy of a slice from a DataFrame\n",
      "\n",
      "See the caveats in the documentation: https://pandas.pydata.org/pandas-docs/stable/user_guide/indexing.html#returning-a-view-versus-a-copy\n",
      "  df[\"y_pred\"][df[\"y_pred\"] > 5] = 5\n",
      "/tmp/ipykernel_3092022/1517576027.py:36: SettingWithCopyWarning: \n",
      "A value is trying to be set on a copy of a slice from a DataFrame\n",
      "\n",
      "See the caveats in the documentation: https://pandas.pydata.org/pandas-docs/stable/user_guide/indexing.html#returning-a-view-versus-a-copy\n",
      "  df[\"y_pred\"][df[\"y_pred\"] < 1] = 1\n"
     ]
    },
    {
     "name": "stdout",
     "output_type": "stream",
     "text": [
      "total_error_cold 5 60 1187227 1187227\n",
      "84814 249912 1.060178975177287\n"
     ]
    },
    {
     "name": "stderr",
     "output_type": "stream",
     "text": [
      "/tmp/ipykernel_3092022/1517576027.py:35: SettingWithCopyWarning: \n",
      "A value is trying to be set on a copy of a slice from a DataFrame\n",
      "\n",
      "See the caveats in the documentation: https://pandas.pydata.org/pandas-docs/stable/user_guide/indexing.html#returning-a-view-versus-a-copy\n",
      "  df[\"y_pred\"][df[\"y_pred\"] > 5] = 5\n",
      "/tmp/ipykernel_3092022/1517576027.py:36: SettingWithCopyWarning: \n",
      "A value is trying to be set on a copy of a slice from a DataFrame\n",
      "\n",
      "See the caveats in the documentation: https://pandas.pydata.org/pandas-docs/stable/user_guide/indexing.html#returning-a-view-versus-a-copy\n",
      "  df[\"y_pred\"][df[\"y_pred\"] < 1] = 1\n"
     ]
    },
    {
     "name": "stdout",
     "output_type": "stream",
     "text": [
      "total_error_cold 8 60 1187227 1187227\n",
      "85291 249912 1.0600445489198627\n"
     ]
    },
    {
     "name": "stderr",
     "output_type": "stream",
     "text": [
      "/tmp/ipykernel_3092022/1517576027.py:35: SettingWithCopyWarning: \n",
      "A value is trying to be set on a copy of a slice from a DataFrame\n",
      "\n",
      "See the caveats in the documentation: https://pandas.pydata.org/pandas-docs/stable/user_guide/indexing.html#returning-a-view-versus-a-copy\n",
      "  df[\"y_pred\"][df[\"y_pred\"] > 5] = 5\n",
      "/tmp/ipykernel_3092022/1517576027.py:36: SettingWithCopyWarning: \n",
      "A value is trying to be set on a copy of a slice from a DataFrame\n",
      "\n",
      "See the caveats in the documentation: https://pandas.pydata.org/pandas-docs/stable/user_guide/indexing.html#returning-a-view-versus-a-copy\n",
      "  df[\"y_pred\"][df[\"y_pred\"] < 1] = 1\n"
     ]
    },
    {
     "name": "stdout",
     "output_type": "stream",
     "text": [
      "query_proportional 0.5 60 1187227 1187227\n",
      "41928 249912 2.5415272902121453\n"
     ]
    },
    {
     "name": "stderr",
     "output_type": "stream",
     "text": [
      "/tmp/ipykernel_3092022/1517576027.py:35: SettingWithCopyWarning: \n",
      "A value is trying to be set on a copy of a slice from a DataFrame\n",
      "\n",
      "See the caveats in the documentation: https://pandas.pydata.org/pandas-docs/stable/user_guide/indexing.html#returning-a-view-versus-a-copy\n",
      "  df[\"y_pred\"][df[\"y_pred\"] > 5] = 5\n",
      "/tmp/ipykernel_3092022/1517576027.py:36: SettingWithCopyWarning: \n",
      "A value is trying to be set on a copy of a slice from a DataFrame\n",
      "\n",
      "See the caveats in the documentation: https://pandas.pydata.org/pandas-docs/stable/user_guide/indexing.html#returning-a-view-versus-a-copy\n",
      "  df[\"y_pred\"][df[\"y_pred\"] < 1] = 1\n"
     ]
    },
    {
     "name": "stdout",
     "output_type": "stream",
     "text": [
      "query_proportional 0.25 60 1187227 1187225\n",
      "27404 249912 2.981889669865253\n"
     ]
    },
    {
     "name": "stderr",
     "output_type": "stream",
     "text": [
      "/tmp/ipykernel_3092022/1517576027.py:35: SettingWithCopyWarning: \n",
      "A value is trying to be set on a copy of a slice from a DataFrame\n",
      "\n",
      "See the caveats in the documentation: https://pandas.pydata.org/pandas-docs/stable/user_guide/indexing.html#returning-a-view-versus-a-copy\n",
      "  df[\"y_pred\"][df[\"y_pred\"] > 5] = 5\n",
      "/tmp/ipykernel_3092022/1517576027.py:36: SettingWithCopyWarning: \n",
      "A value is trying to be set on a copy of a slice from a DataFrame\n",
      "\n",
      "See the caveats in the documentation: https://pandas.pydata.org/pandas-docs/stable/user_guide/indexing.html#returning-a-view-versus-a-copy\n",
      "  df[\"y_pred\"][df[\"y_pred\"] < 1] = 1\n"
     ]
    },
    {
     "name": "stdout",
     "output_type": "stream",
     "text": [
      "query_proportional 0.2 60 1187227 1187226\n",
      "24100 249912 3.138191990302476\n"
     ]
    },
    {
     "name": "stderr",
     "output_type": "stream",
     "text": [
      "/tmp/ipykernel_3092022/1517576027.py:35: SettingWithCopyWarning: \n",
      "A value is trying to be set on a copy of a slice from a DataFrame\n",
      "\n",
      "See the caveats in the documentation: https://pandas.pydata.org/pandas-docs/stable/user_guide/indexing.html#returning-a-view-versus-a-copy\n",
      "  df[\"y_pred\"][df[\"y_pred\"] > 5] = 5\n",
      "/tmp/ipykernel_3092022/1517576027.py:36: SettingWithCopyWarning: \n",
      "A value is trying to be set on a copy of a slice from a DataFrame\n",
      "\n",
      "See the caveats in the documentation: https://pandas.pydata.org/pandas-docs/stable/user_guide/indexing.html#returning-a-view-versus-a-copy\n",
      "  df[\"y_pred\"][df[\"y_pred\"] < 1] = 1\n"
     ]
    },
    {
     "name": "stdout",
     "output_type": "stream",
     "text": [
      "query_proportional 1 60 1187227 1187227\n",
      "65797 249912 2.059058653051571\n"
     ]
    },
    {
     "name": "stderr",
     "output_type": "stream",
     "text": [
      "/tmp/ipykernel_3092022/1517576027.py:35: SettingWithCopyWarning: \n",
      "A value is trying to be set on a copy of a slice from a DataFrame\n",
      "\n",
      "See the caveats in the documentation: https://pandas.pydata.org/pandas-docs/stable/user_guide/indexing.html#returning-a-view-versus-a-copy\n",
      "  df[\"y_pred\"][df[\"y_pred\"] > 5] = 5\n",
      "/tmp/ipykernel_3092022/1517576027.py:36: SettingWithCopyWarning: \n",
      "A value is trying to be set on a copy of a slice from a DataFrame\n",
      "\n",
      "See the caveats in the documentation: https://pandas.pydata.org/pandas-docs/stable/user_guide/indexing.html#returning-a-view-versus-a-copy\n",
      "  df[\"y_pred\"][df[\"y_pred\"] < 1] = 1\n"
     ]
    },
    {
     "name": "stdout",
     "output_type": "stream",
     "text": [
      "query_proportional 2 60 1187227 1187227\n",
      "78139 249912 1.3960963175043641\n"
     ]
    },
    {
     "name": "stderr",
     "output_type": "stream",
     "text": [
      "/tmp/ipykernel_3092022/1517576027.py:35: SettingWithCopyWarning: \n",
      "A value is trying to be set on a copy of a slice from a DataFrame\n",
      "\n",
      "See the caveats in the documentation: https://pandas.pydata.org/pandas-docs/stable/user_guide/indexing.html#returning-a-view-versus-a-copy\n",
      "  df[\"y_pred\"][df[\"y_pred\"] > 5] = 5\n",
      "/tmp/ipykernel_3092022/1517576027.py:36: SettingWithCopyWarning: \n",
      "A value is trying to be set on a copy of a slice from a DataFrame\n",
      "\n",
      "See the caveats in the documentation: https://pandas.pydata.org/pandas-docs/stable/user_guide/indexing.html#returning-a-view-versus-a-copy\n",
      "  df[\"y_pred\"][df[\"y_pred\"] < 1] = 1\n"
     ]
    },
    {
     "name": "stdout",
     "output_type": "stream",
     "text": [
      "query_proportional 3 60 1187227 1187227\n",
      "82306 249912 1.2017909449332058\n"
     ]
    },
    {
     "name": "stderr",
     "output_type": "stream",
     "text": [
      "/tmp/ipykernel_3092022/1517576027.py:35: SettingWithCopyWarning: \n",
      "A value is trying to be set on a copy of a slice from a DataFrame\n",
      "\n",
      "See the caveats in the documentation: https://pandas.pydata.org/pandas-docs/stable/user_guide/indexing.html#returning-a-view-versus-a-copy\n",
      "  df[\"y_pred\"][df[\"y_pred\"] > 5] = 5\n",
      "/tmp/ipykernel_3092022/1517576027.py:36: SettingWithCopyWarning: \n",
      "A value is trying to be set on a copy of a slice from a DataFrame\n",
      "\n",
      "See the caveats in the documentation: https://pandas.pydata.org/pandas-docs/stable/user_guide/indexing.html#returning-a-view-versus-a-copy\n",
      "  df[\"y_pred\"][df[\"y_pred\"] < 1] = 1\n"
     ]
    },
    {
     "name": "stdout",
     "output_type": "stream",
     "text": [
      "query_proportional 4 60 1187227 1187227\n",
      "84037 249912 1.1167416238891041\n"
     ]
    },
    {
     "name": "stderr",
     "output_type": "stream",
     "text": [
      "/tmp/ipykernel_3092022/1517576027.py:35: SettingWithCopyWarning: \n",
      "A value is trying to be set on a copy of a slice from a DataFrame\n",
      "\n",
      "See the caveats in the documentation: https://pandas.pydata.org/pandas-docs/stable/user_guide/indexing.html#returning-a-view-versus-a-copy\n",
      "  df[\"y_pred\"][df[\"y_pred\"] > 5] = 5\n",
      "/tmp/ipykernel_3092022/1517576027.py:36: SettingWithCopyWarning: \n",
      "A value is trying to be set on a copy of a slice from a DataFrame\n",
      "\n",
      "See the caveats in the documentation: https://pandas.pydata.org/pandas-docs/stable/user_guide/indexing.html#returning-a-view-versus-a-copy\n",
      "  df[\"y_pred\"][df[\"y_pred\"] < 1] = 1\n"
     ]
    },
    {
     "name": "stdout",
     "output_type": "stream",
     "text": [
      "query_proportional 5 60 1187227 1187227\n",
      "84815 249912 1.0789292951005474\n"
     ]
    },
    {
     "name": "stderr",
     "output_type": "stream",
     "text": [
      "/tmp/ipykernel_3092022/1517576027.py:35: SettingWithCopyWarning: \n",
      "A value is trying to be set on a copy of a slice from a DataFrame\n",
      "\n",
      "See the caveats in the documentation: https://pandas.pydata.org/pandas-docs/stable/user_guide/indexing.html#returning-a-view-versus-a-copy\n",
      "  df[\"y_pred\"][df[\"y_pred\"] > 5] = 5\n",
      "/tmp/ipykernel_3092022/1517576027.py:36: SettingWithCopyWarning: \n",
      "A value is trying to be set on a copy of a slice from a DataFrame\n",
      "\n",
      "See the caveats in the documentation: https://pandas.pydata.org/pandas-docs/stable/user_guide/indexing.html#returning-a-view-versus-a-copy\n",
      "  df[\"y_pred\"][df[\"y_pred\"] < 1] = 1\n"
     ]
    },
    {
     "name": "stdout",
     "output_type": "stream",
     "text": [
      "query_proportional 8 60 1187227 1187227\n",
      "85294 249912 1.0600020195653628\n"
     ]
    },
    {
     "name": "stderr",
     "output_type": "stream",
     "text": [
      "/tmp/ipykernel_3092022/1517576027.py:35: SettingWithCopyWarning: \n",
      "A value is trying to be set on a copy of a slice from a DataFrame\n",
      "\n",
      "See the caveats in the documentation: https://pandas.pydata.org/pandas-docs/stable/user_guide/indexing.html#returning-a-view-versus-a-copy\n",
      "  df[\"y_pred\"][df[\"y_pred\"] > 5] = 5\n",
      "/tmp/ipykernel_3092022/1517576027.py:36: SettingWithCopyWarning: \n",
      "A value is trying to be set on a copy of a slice from a DataFrame\n",
      "\n",
      "See the caveats in the documentation: https://pandas.pydata.org/pandas-docs/stable/user_guide/indexing.html#returning-a-view-versus-a-copy\n",
      "  df[\"y_pred\"][df[\"y_pred\"] < 1] = 1\n"
     ]
    },
    {
     "name": "stdout",
     "output_type": "stream",
     "text": [
      "max_pending 0.5 60 1187227 1187227\n",
      "41928 249912 1.4103429639263578\n"
     ]
    },
    {
     "name": "stderr",
     "output_type": "stream",
     "text": [
      "/tmp/ipykernel_3092022/1517576027.py:35: SettingWithCopyWarning: \n",
      "A value is trying to be set on a copy of a slice from a DataFrame\n",
      "\n",
      "See the caveats in the documentation: https://pandas.pydata.org/pandas-docs/stable/user_guide/indexing.html#returning-a-view-versus-a-copy\n",
      "  df[\"y_pred\"][df[\"y_pred\"] > 5] = 5\n",
      "/tmp/ipykernel_3092022/1517576027.py:36: SettingWithCopyWarning: \n",
      "A value is trying to be set on a copy of a slice from a DataFrame\n",
      "\n",
      "See the caveats in the documentation: https://pandas.pydata.org/pandas-docs/stable/user_guide/indexing.html#returning-a-view-versus-a-copy\n",
      "  df[\"y_pred\"][df[\"y_pred\"] < 1] = 1\n"
     ]
    },
    {
     "name": "stdout",
     "output_type": "stream",
     "text": [
      "max_pending 0.25 60 1187227 1187225\n",
      "27404 249912 1.7601674484873362\n"
     ]
    },
    {
     "name": "stderr",
     "output_type": "stream",
     "text": [
      "/tmp/ipykernel_3092022/1517576027.py:35: SettingWithCopyWarning: \n",
      "A value is trying to be set on a copy of a slice from a DataFrame\n",
      "\n",
      "See the caveats in the documentation: https://pandas.pydata.org/pandas-docs/stable/user_guide/indexing.html#returning-a-view-versus-a-copy\n",
      "  df[\"y_pred\"][df[\"y_pred\"] > 5] = 5\n",
      "/tmp/ipykernel_3092022/1517576027.py:36: SettingWithCopyWarning: \n",
      "A value is trying to be set on a copy of a slice from a DataFrame\n",
      "\n",
      "See the caveats in the documentation: https://pandas.pydata.org/pandas-docs/stable/user_guide/indexing.html#returning-a-view-versus-a-copy\n",
      "  df[\"y_pred\"][df[\"y_pred\"] < 1] = 1\n"
     ]
    },
    {
     "name": "stdout",
     "output_type": "stream",
     "text": [
      "max_pending 0.2 60 1187227 1187226\n",
      "24100 249912 1.927127733504596\n"
     ]
    },
    {
     "name": "stderr",
     "output_type": "stream",
     "text": [
      "/tmp/ipykernel_3092022/1517576027.py:35: SettingWithCopyWarning: \n",
      "A value is trying to be set on a copy of a slice from a DataFrame\n",
      "\n",
      "See the caveats in the documentation: https://pandas.pydata.org/pandas-docs/stable/user_guide/indexing.html#returning-a-view-versus-a-copy\n",
      "  df[\"y_pred\"][df[\"y_pred\"] > 5] = 5\n",
      "/tmp/ipykernel_3092022/1517576027.py:36: SettingWithCopyWarning: \n",
      "A value is trying to be set on a copy of a slice from a DataFrame\n",
      "\n",
      "See the caveats in the documentation: https://pandas.pydata.org/pandas-docs/stable/user_guide/indexing.html#returning-a-view-versus-a-copy\n",
      "  df[\"y_pred\"][df[\"y_pred\"] < 1] = 1\n"
     ]
    },
    {
     "name": "stdout",
     "output_type": "stream",
     "text": [
      "max_pending 1 60 1187227 1187227\n",
      "65797 249912 1.1981118159009863\n"
     ]
    },
    {
     "name": "stderr",
     "output_type": "stream",
     "text": [
      "/tmp/ipykernel_3092022/1517576027.py:35: SettingWithCopyWarning: \n",
      "A value is trying to be set on a copy of a slice from a DataFrame\n",
      "\n",
      "See the caveats in the documentation: https://pandas.pydata.org/pandas-docs/stable/user_guide/indexing.html#returning-a-view-versus-a-copy\n",
      "  df[\"y_pred\"][df[\"y_pred\"] > 5] = 5\n",
      "/tmp/ipykernel_3092022/1517576027.py:36: SettingWithCopyWarning: \n",
      "A value is trying to be set on a copy of a slice from a DataFrame\n",
      "\n",
      "See the caveats in the documentation: https://pandas.pydata.org/pandas-docs/stable/user_guide/indexing.html#returning-a-view-versus-a-copy\n",
      "  df[\"y_pred\"][df[\"y_pred\"] < 1] = 1\n"
     ]
    },
    {
     "name": "stdout",
     "output_type": "stream",
     "text": [
      "max_pending 2 60 1187227 1187227\n",
      "78123 249912 1.0921415104943677\n"
     ]
    },
    {
     "name": "stderr",
     "output_type": "stream",
     "text": [
      "/tmp/ipykernel_3092022/1517576027.py:35: SettingWithCopyWarning: \n",
      "A value is trying to be set on a copy of a slice from a DataFrame\n",
      "\n",
      "See the caveats in the documentation: https://pandas.pydata.org/pandas-docs/stable/user_guide/indexing.html#returning-a-view-versus-a-copy\n",
      "  df[\"y_pred\"][df[\"y_pred\"] > 5] = 5\n",
      "/tmp/ipykernel_3092022/1517576027.py:36: SettingWithCopyWarning: \n",
      "A value is trying to be set on a copy of a slice from a DataFrame\n",
      "\n",
      "See the caveats in the documentation: https://pandas.pydata.org/pandas-docs/stable/user_guide/indexing.html#returning-a-view-versus-a-copy\n",
      "  df[\"y_pred\"][df[\"y_pred\"] < 1] = 1\n"
     ]
    },
    {
     "name": "stdout",
     "output_type": "stream",
     "text": [
      "max_pending 3 60 1187227 1187227\n",
      "82330 249912 1.068744628489649\n"
     ]
    },
    {
     "name": "stderr",
     "output_type": "stream",
     "text": [
      "/tmp/ipykernel_3092022/1517576027.py:35: SettingWithCopyWarning: \n",
      "A value is trying to be set on a copy of a slice from a DataFrame\n",
      "\n",
      "See the caveats in the documentation: https://pandas.pydata.org/pandas-docs/stable/user_guide/indexing.html#returning-a-view-versus-a-copy\n",
      "  df[\"y_pred\"][df[\"y_pred\"] > 5] = 5\n",
      "/tmp/ipykernel_3092022/1517576027.py:36: SettingWithCopyWarning: \n",
      "A value is trying to be set on a copy of a slice from a DataFrame\n",
      "\n",
      "See the caveats in the documentation: https://pandas.pydata.org/pandas-docs/stable/user_guide/indexing.html#returning-a-view-versus-a-copy\n",
      "  df[\"y_pred\"][df[\"y_pred\"] < 1] = 1\n"
     ]
    },
    {
     "name": "stdout",
     "output_type": "stream",
     "text": [
      "max_pending 4 60 1187227 1187227\n",
      "84059 249912 1.0627008887360054\n"
     ]
    },
    {
     "name": "stderr",
     "output_type": "stream",
     "text": [
      "/tmp/ipykernel_3092022/1517576027.py:35: SettingWithCopyWarning: \n",
      "A value is trying to be set on a copy of a slice from a DataFrame\n",
      "\n",
      "See the caveats in the documentation: https://pandas.pydata.org/pandas-docs/stable/user_guide/indexing.html#returning-a-view-versus-a-copy\n",
      "  df[\"y_pred\"][df[\"y_pred\"] > 5] = 5\n",
      "/tmp/ipykernel_3092022/1517576027.py:36: SettingWithCopyWarning: \n",
      "A value is trying to be set on a copy of a slice from a DataFrame\n",
      "\n",
      "See the caveats in the documentation: https://pandas.pydata.org/pandas-docs/stable/user_guide/indexing.html#returning-a-view-versus-a-copy\n",
      "  df[\"y_pred\"][df[\"y_pred\"] < 1] = 1\n"
     ]
    },
    {
     "name": "stdout",
     "output_type": "stream",
     "text": [
      "max_pending 5 60 1187227 1187227\n",
      "84824 249912 1.0606707293686948\n"
     ]
    },
    {
     "name": "stderr",
     "output_type": "stream",
     "text": [
      "/tmp/ipykernel_3092022/1517576027.py:35: SettingWithCopyWarning: \n",
      "A value is trying to be set on a copy of a slice from a DataFrame\n",
      "\n",
      "See the caveats in the documentation: https://pandas.pydata.org/pandas-docs/stable/user_guide/indexing.html#returning-a-view-versus-a-copy\n",
      "  df[\"y_pred\"][df[\"y_pred\"] > 5] = 5\n",
      "/tmp/ipykernel_3092022/1517576027.py:36: SettingWithCopyWarning: \n",
      "A value is trying to be set on a copy of a slice from a DataFrame\n",
      "\n",
      "See the caveats in the documentation: https://pandas.pydata.org/pandas-docs/stable/user_guide/indexing.html#returning-a-view-versus-a-copy\n",
      "  df[\"y_pred\"][df[\"y_pred\"] < 1] = 1\n"
     ]
    },
    {
     "name": "stdout",
     "output_type": "stream",
     "text": [
      "max_pending 8 60 1187227 1187227\n",
      "85295 249912 1.060044555472714\n"
     ]
    },
    {
     "name": "stderr",
     "output_type": "stream",
     "text": [
      "/tmp/ipykernel_3092022/1517576027.py:35: SettingWithCopyWarning: \n",
      "A value is trying to be set on a copy of a slice from a DataFrame\n",
      "\n",
      "See the caveats in the documentation: https://pandas.pydata.org/pandas-docs/stable/user_guide/indexing.html#returning-a-view-versus-a-copy\n",
      "  df[\"y_pred\"][df[\"y_pred\"] > 5] = 5\n",
      "/tmp/ipykernel_3092022/1517576027.py:36: SettingWithCopyWarning: \n",
      "A value is trying to be set on a copy of a slice from a DataFrame\n",
      "\n",
      "See the caveats in the documentation: https://pandas.pydata.org/pandas-docs/stable/user_guide/indexing.html#returning-a-view-versus-a-copy\n",
      "  df[\"y_pred\"][df[\"y_pred\"] < 1] = 1\n"
     ]
    },
    {
     "name": "stdout",
     "output_type": "stream",
     "text": [
      "min_past 0.5 60 1187227 1187227\n",
      "41928 249912 1.1109448111996625\n"
     ]
    },
    {
     "name": "stderr",
     "output_type": "stream",
     "text": [
      "/tmp/ipykernel_3092022/1517576027.py:35: SettingWithCopyWarning: \n",
      "A value is trying to be set on a copy of a slice from a DataFrame\n",
      "\n",
      "See the caveats in the documentation: https://pandas.pydata.org/pandas-docs/stable/user_guide/indexing.html#returning-a-view-versus-a-copy\n",
      "  df[\"y_pred\"][df[\"y_pred\"] > 5] = 5\n",
      "/tmp/ipykernel_3092022/1517576027.py:36: SettingWithCopyWarning: \n",
      "A value is trying to be set on a copy of a slice from a DataFrame\n",
      "\n",
      "See the caveats in the documentation: https://pandas.pydata.org/pandas-docs/stable/user_guide/indexing.html#returning-a-view-versus-a-copy\n",
      "  df[\"y_pred\"][df[\"y_pred\"] < 1] = 1\n"
     ]
    },
    {
     "name": "stdout",
     "output_type": "stream",
     "text": [
      "min_past 0.25 60 1187227 1187225\n",
      "27404 249912 1.2171668821522077\n"
     ]
    },
    {
     "name": "stderr",
     "output_type": "stream",
     "text": [
      "/tmp/ipykernel_3092022/1517576027.py:35: SettingWithCopyWarning: \n",
      "A value is trying to be set on a copy of a slice from a DataFrame\n",
      "\n",
      "See the caveats in the documentation: https://pandas.pydata.org/pandas-docs/stable/user_guide/indexing.html#returning-a-view-versus-a-copy\n",
      "  df[\"y_pred\"][df[\"y_pred\"] > 5] = 5\n",
      "/tmp/ipykernel_3092022/1517576027.py:36: SettingWithCopyWarning: \n",
      "A value is trying to be set on a copy of a slice from a DataFrame\n",
      "\n",
      "See the caveats in the documentation: https://pandas.pydata.org/pandas-docs/stable/user_guide/indexing.html#returning-a-view-versus-a-copy\n",
      "  df[\"y_pred\"][df[\"y_pred\"] < 1] = 1\n"
     ]
    },
    {
     "name": "stdout",
     "output_type": "stream",
     "text": [
      "min_past 0.2 60 1187227 1187226\n",
      "24100 249912 1.25494748618772\n"
     ]
    },
    {
     "name": "stderr",
     "output_type": "stream",
     "text": [
      "/tmp/ipykernel_3092022/1517576027.py:35: SettingWithCopyWarning: \n",
      "A value is trying to be set on a copy of a slice from a DataFrame\n",
      "\n",
      "See the caveats in the documentation: https://pandas.pydata.org/pandas-docs/stable/user_guide/indexing.html#returning-a-view-versus-a-copy\n",
      "  df[\"y_pred\"][df[\"y_pred\"] > 5] = 5\n",
      "/tmp/ipykernel_3092022/1517576027.py:36: SettingWithCopyWarning: \n",
      "A value is trying to be set on a copy of a slice from a DataFrame\n",
      "\n",
      "See the caveats in the documentation: https://pandas.pydata.org/pandas-docs/stable/user_guide/indexing.html#returning-a-view-versus-a-copy\n",
      "  df[\"y_pred\"][df[\"y_pred\"] < 1] = 1\n"
     ]
    },
    {
     "name": "stdout",
     "output_type": "stream",
     "text": [
      "min_past 1 60 1187227 1187227\n",
      "65797 249912 1.0757829197152975\n"
     ]
    },
    {
     "name": "stderr",
     "output_type": "stream",
     "text": [
      "/tmp/ipykernel_3092022/1517576027.py:35: SettingWithCopyWarning: \n",
      "A value is trying to be set on a copy of a slice from a DataFrame\n",
      "\n",
      "See the caveats in the documentation: https://pandas.pydata.org/pandas-docs/stable/user_guide/indexing.html#returning-a-view-versus-a-copy\n",
      "  df[\"y_pred\"][df[\"y_pred\"] > 5] = 5\n",
      "/tmp/ipykernel_3092022/1517576027.py:36: SettingWithCopyWarning: \n",
      "A value is trying to be set on a copy of a slice from a DataFrame\n",
      "\n",
      "See the caveats in the documentation: https://pandas.pydata.org/pandas-docs/stable/user_guide/indexing.html#returning-a-view-versus-a-copy\n",
      "  df[\"y_pred\"][df[\"y_pred\"] < 1] = 1\n"
     ]
    },
    {
     "name": "stdout",
     "output_type": "stream",
     "text": [
      "min_past 2 60 1187227 1187227\n",
      "78005 249912 1.0633582635069116\n"
     ]
    },
    {
     "name": "stderr",
     "output_type": "stream",
     "text": [
      "/tmp/ipykernel_3092022/1517576027.py:35: SettingWithCopyWarning: \n",
      "A value is trying to be set on a copy of a slice from a DataFrame\n",
      "\n",
      "See the caveats in the documentation: https://pandas.pydata.org/pandas-docs/stable/user_guide/indexing.html#returning-a-view-versus-a-copy\n",
      "  df[\"y_pred\"][df[\"y_pred\"] > 5] = 5\n",
      "/tmp/ipykernel_3092022/1517576027.py:36: SettingWithCopyWarning: \n",
      "A value is trying to be set on a copy of a slice from a DataFrame\n",
      "\n",
      "See the caveats in the documentation: https://pandas.pydata.org/pandas-docs/stable/user_guide/indexing.html#returning-a-view-versus-a-copy\n",
      "  df[\"y_pred\"][df[\"y_pred\"] < 1] = 1\n"
     ]
    },
    {
     "name": "stdout",
     "output_type": "stream",
     "text": [
      "min_past 3 60 1187227 1187227\n",
      "82215 249912 1.060640237486188\n"
     ]
    },
    {
     "name": "stderr",
     "output_type": "stream",
     "text": [
      "/tmp/ipykernel_3092022/1517576027.py:35: SettingWithCopyWarning: \n",
      "A value is trying to be set on a copy of a slice from a DataFrame\n",
      "\n",
      "See the caveats in the documentation: https://pandas.pydata.org/pandas-docs/stable/user_guide/indexing.html#returning-a-view-versus-a-copy\n",
      "  df[\"y_pred\"][df[\"y_pred\"] > 5] = 5\n",
      "/tmp/ipykernel_3092022/1517576027.py:36: SettingWithCopyWarning: \n",
      "A value is trying to be set on a copy of a slice from a DataFrame\n",
      "\n",
      "See the caveats in the documentation: https://pandas.pydata.org/pandas-docs/stable/user_guide/indexing.html#returning-a-view-versus-a-copy\n",
      "  df[\"y_pred\"][df[\"y_pred\"] < 1] = 1\n"
     ]
    },
    {
     "name": "stdout",
     "output_type": "stream",
     "text": [
      "min_past 4 60 1187227 1187227\n",
      "84016 249912 1.0602618271688753\n"
     ]
    },
    {
     "name": "stderr",
     "output_type": "stream",
     "text": [
      "/tmp/ipykernel_3092022/1517576027.py:35: SettingWithCopyWarning: \n",
      "A value is trying to be set on a copy of a slice from a DataFrame\n",
      "\n",
      "See the caveats in the documentation: https://pandas.pydata.org/pandas-docs/stable/user_guide/indexing.html#returning-a-view-versus-a-copy\n",
      "  df[\"y_pred\"][df[\"y_pred\"] > 5] = 5\n",
      "/tmp/ipykernel_3092022/1517576027.py:36: SettingWithCopyWarning: \n",
      "A value is trying to be set on a copy of a slice from a DataFrame\n",
      "\n",
      "See the caveats in the documentation: https://pandas.pydata.org/pandas-docs/stable/user_guide/indexing.html#returning-a-view-versus-a-copy\n",
      "  df[\"y_pred\"][df[\"y_pred\"] < 1] = 1\n"
     ]
    },
    {
     "name": "stdout",
     "output_type": "stream",
     "text": [
      "min_past 5 60 1187227 1187227\n",
      "84792 249912 1.0600492860531447\n"
     ]
    },
    {
     "name": "stderr",
     "output_type": "stream",
     "text": [
      "/tmp/ipykernel_3092022/1517576027.py:35: SettingWithCopyWarning: \n",
      "A value is trying to be set on a copy of a slice from a DataFrame\n",
      "\n",
      "See the caveats in the documentation: https://pandas.pydata.org/pandas-docs/stable/user_guide/indexing.html#returning-a-view-versus-a-copy\n",
      "  df[\"y_pred\"][df[\"y_pred\"] > 5] = 5\n",
      "/tmp/ipykernel_3092022/1517576027.py:36: SettingWithCopyWarning: \n",
      "A value is trying to be set on a copy of a slice from a DataFrame\n",
      "\n",
      "See the caveats in the documentation: https://pandas.pydata.org/pandas-docs/stable/user_guide/indexing.html#returning-a-view-versus-a-copy\n",
      "  df[\"y_pred\"][df[\"y_pred\"] < 1] = 1\n"
     ]
    },
    {
     "name": "stdout",
     "output_type": "stream",
     "text": [
      "min_past 8 60 1187227 1187227\n",
      "85292 249912 1.0600445668113283\n"
     ]
    },
    {
     "name": "stderr",
     "output_type": "stream",
     "text": [
      "/tmp/ipykernel_3092022/1517576027.py:35: SettingWithCopyWarning: \n",
      "A value is trying to be set on a copy of a slice from a DataFrame\n",
      "\n",
      "See the caveats in the documentation: https://pandas.pydata.org/pandas-docs/stable/user_guide/indexing.html#returning-a-view-versus-a-copy\n",
      "  df[\"y_pred\"][df[\"y_pred\"] > 5] = 5\n",
      "/tmp/ipykernel_3092022/1517576027.py:36: SettingWithCopyWarning: \n",
      "A value is trying to be set on a copy of a slice from a DataFrame\n",
      "\n",
      "See the caveats in the documentation: https://pandas.pydata.org/pandas-docs/stable/user_guide/indexing.html#returning-a-view-versus-a-copy\n",
      "  df[\"y_pred\"][df[\"y_pred\"] < 1] = 1\n"
     ]
    },
    {
     "name": "stdout",
     "output_type": "stream",
     "text": [
      "round_robin 0.5 60 1187227 1187227\n",
      "41928 249912 1.4773018440622276\n"
     ]
    },
    {
     "name": "stderr",
     "output_type": "stream",
     "text": [
      "/tmp/ipykernel_3092022/1517576027.py:35: SettingWithCopyWarning: \n",
      "A value is trying to be set on a copy of a slice from a DataFrame\n",
      "\n",
      "See the caveats in the documentation: https://pandas.pydata.org/pandas-docs/stable/user_guide/indexing.html#returning-a-view-versus-a-copy\n",
      "  df[\"y_pred\"][df[\"y_pred\"] > 5] = 5\n",
      "/tmp/ipykernel_3092022/1517576027.py:36: SettingWithCopyWarning: \n",
      "A value is trying to be set on a copy of a slice from a DataFrame\n",
      "\n",
      "See the caveats in the documentation: https://pandas.pydata.org/pandas-docs/stable/user_guide/indexing.html#returning-a-view-versus-a-copy\n",
      "  df[\"y_pred\"][df[\"y_pred\"] < 1] = 1\n"
     ]
    },
    {
     "name": "stdout",
     "output_type": "stream",
     "text": [
      "round_robin 0.25 60 1187227 1187225\n",
      "27404 249912 2.2485904847688802\n"
     ]
    },
    {
     "name": "stderr",
     "output_type": "stream",
     "text": [
      "/tmp/ipykernel_3092022/1517576027.py:35: SettingWithCopyWarning: \n",
      "A value is trying to be set on a copy of a slice from a DataFrame\n",
      "\n",
      "See the caveats in the documentation: https://pandas.pydata.org/pandas-docs/stable/user_guide/indexing.html#returning-a-view-versus-a-copy\n",
      "  df[\"y_pred\"][df[\"y_pred\"] > 5] = 5\n",
      "/tmp/ipykernel_3092022/1517576027.py:36: SettingWithCopyWarning: \n",
      "A value is trying to be set on a copy of a slice from a DataFrame\n",
      "\n",
      "See the caveats in the documentation: https://pandas.pydata.org/pandas-docs/stable/user_guide/indexing.html#returning-a-view-versus-a-copy\n",
      "  df[\"y_pred\"][df[\"y_pred\"] < 1] = 1\n"
     ]
    },
    {
     "name": "stdout",
     "output_type": "stream",
     "text": [
      "round_robin 0.2 60 1187227 1187226\n",
      "24100 249912 2.6086018974733944\n"
     ]
    },
    {
     "name": "stderr",
     "output_type": "stream",
     "text": [
      "/tmp/ipykernel_3092022/1517576027.py:35: SettingWithCopyWarning: \n",
      "A value is trying to be set on a copy of a slice from a DataFrame\n",
      "\n",
      "See the caveats in the documentation: https://pandas.pydata.org/pandas-docs/stable/user_guide/indexing.html#returning-a-view-versus-a-copy\n",
      "  df[\"y_pred\"][df[\"y_pred\"] > 5] = 5\n",
      "/tmp/ipykernel_3092022/1517576027.py:36: SettingWithCopyWarning: \n",
      "A value is trying to be set on a copy of a slice from a DataFrame\n",
      "\n",
      "See the caveats in the documentation: https://pandas.pydata.org/pandas-docs/stable/user_guide/indexing.html#returning-a-view-versus-a-copy\n",
      "  df[\"y_pred\"][df[\"y_pred\"] < 1] = 1\n"
     ]
    },
    {
     "name": "stdout",
     "output_type": "stream",
     "text": [
      "round_robin 1 60 1187227 1187227\n",
      "65797 249912 1.1887138438639973\n"
     ]
    },
    {
     "name": "stderr",
     "output_type": "stream",
     "text": [
      "/tmp/ipykernel_3092022/1517576027.py:35: SettingWithCopyWarning: \n",
      "A value is trying to be set on a copy of a slice from a DataFrame\n",
      "\n",
      "See the caveats in the documentation: https://pandas.pydata.org/pandas-docs/stable/user_guide/indexing.html#returning-a-view-versus-a-copy\n",
      "  df[\"y_pred\"][df[\"y_pred\"] > 5] = 5\n",
      "/tmp/ipykernel_3092022/1517576027.py:36: SettingWithCopyWarning: \n",
      "A value is trying to be set on a copy of a slice from a DataFrame\n",
      "\n",
      "See the caveats in the documentation: https://pandas.pydata.org/pandas-docs/stable/user_guide/indexing.html#returning-a-view-versus-a-copy\n",
      "  df[\"y_pred\"][df[\"y_pred\"] < 1] = 1\n"
     ]
    },
    {
     "name": "stdout",
     "output_type": "stream",
     "text": [
      "round_robin 2 60 1187227 1187227\n",
      "77680 249912 1.0897742365981418\n"
     ]
    },
    {
     "name": "stderr",
     "output_type": "stream",
     "text": [
      "/tmp/ipykernel_3092022/1517576027.py:35: SettingWithCopyWarning: \n",
      "A value is trying to be set on a copy of a slice from a DataFrame\n",
      "\n",
      "See the caveats in the documentation: https://pandas.pydata.org/pandas-docs/stable/user_guide/indexing.html#returning-a-view-versus-a-copy\n",
      "  df[\"y_pred\"][df[\"y_pred\"] > 5] = 5\n",
      "/tmp/ipykernel_3092022/1517576027.py:36: SettingWithCopyWarning: \n",
      "A value is trying to be set on a copy of a slice from a DataFrame\n",
      "\n",
      "See the caveats in the documentation: https://pandas.pydata.org/pandas-docs/stable/user_guide/indexing.html#returning-a-view-versus-a-copy\n",
      "  df[\"y_pred\"][df[\"y_pred\"] < 1] = 1\n"
     ]
    },
    {
     "name": "stdout",
     "output_type": "stream",
     "text": [
      "round_robin 3 60 1187227 1187227\n",
      "82054 249912 1.0701098171354069\n"
     ]
    },
    {
     "name": "stderr",
     "output_type": "stream",
     "text": [
      "/tmp/ipykernel_3092022/1517576027.py:35: SettingWithCopyWarning: \n",
      "A value is trying to be set on a copy of a slice from a DataFrame\n",
      "\n",
      "See the caveats in the documentation: https://pandas.pydata.org/pandas-docs/stable/user_guide/indexing.html#returning-a-view-versus-a-copy\n",
      "  df[\"y_pred\"][df[\"y_pred\"] > 5] = 5\n",
      "/tmp/ipykernel_3092022/1517576027.py:36: SettingWithCopyWarning: \n",
      "A value is trying to be set on a copy of a slice from a DataFrame\n",
      "\n",
      "See the caveats in the documentation: https://pandas.pydata.org/pandas-docs/stable/user_guide/indexing.html#returning-a-view-versus-a-copy\n",
      "  df[\"y_pred\"][df[\"y_pred\"] < 1] = 1\n"
     ]
    },
    {
     "name": "stdout",
     "output_type": "stream",
     "text": [
      "round_robin 4 60 1187227 1187227\n",
      "83962 249912 1.0649775399798973\n"
     ]
    },
    {
     "name": "stderr",
     "output_type": "stream",
     "text": [
      "/tmp/ipykernel_3092022/1517576027.py:35: SettingWithCopyWarning: \n",
      "A value is trying to be set on a copy of a slice from a DataFrame\n",
      "\n",
      "See the caveats in the documentation: https://pandas.pydata.org/pandas-docs/stable/user_guide/indexing.html#returning-a-view-versus-a-copy\n",
      "  df[\"y_pred\"][df[\"y_pred\"] > 5] = 5\n",
      "/tmp/ipykernel_3092022/1517576027.py:36: SettingWithCopyWarning: \n",
      "A value is trying to be set on a copy of a slice from a DataFrame\n",
      "\n",
      "See the caveats in the documentation: https://pandas.pydata.org/pandas-docs/stable/user_guide/indexing.html#returning-a-view-versus-a-copy\n",
      "  df[\"y_pred\"][df[\"y_pred\"] < 1] = 1\n"
     ]
    },
    {
     "name": "stdout",
     "output_type": "stream",
     "text": [
      "round_robin 5 60 1187227 1187227\n",
      "84782 249912 1.0624432754606334\n"
     ]
    },
    {
     "name": "stderr",
     "output_type": "stream",
     "text": [
      "/tmp/ipykernel_3092022/1517576027.py:35: SettingWithCopyWarning: \n",
      "A value is trying to be set on a copy of a slice from a DataFrame\n",
      "\n",
      "See the caveats in the documentation: https://pandas.pydata.org/pandas-docs/stable/user_guide/indexing.html#returning-a-view-versus-a-copy\n",
      "  df[\"y_pred\"][df[\"y_pred\"] > 5] = 5\n",
      "/tmp/ipykernel_3092022/1517576027.py:36: SettingWithCopyWarning: \n",
      "A value is trying to be set on a copy of a slice from a DataFrame\n",
      "\n",
      "See the caveats in the documentation: https://pandas.pydata.org/pandas-docs/stable/user_guide/indexing.html#returning-a-view-versus-a-copy\n",
      "  df[\"y_pred\"][df[\"y_pred\"] < 1] = 1\n"
     ]
    },
    {
     "name": "stdout",
     "output_type": "stream",
     "text": [
      "round_robin 8 60 1187227 1187227\n",
      "85292 249912 1.0600321080558566\n"
     ]
    },
    {
     "name": "stderr",
     "output_type": "stream",
     "text": [
      "/tmp/ipykernel_3092022/1517576027.py:35: SettingWithCopyWarning: \n",
      "A value is trying to be set on a copy of a slice from a DataFrame\n",
      "\n",
      "See the caveats in the documentation: https://pandas.pydata.org/pandas-docs/stable/user_guide/indexing.html#returning-a-view-versus-a-copy\n",
      "  df[\"y_pred\"][df[\"y_pred\"] > 5] = 5\n",
      "/tmp/ipykernel_3092022/1517576027.py:36: SettingWithCopyWarning: \n",
      "A value is trying to be set on a copy of a slice from a DataFrame\n",
      "\n",
      "See the caveats in the documentation: https://pandas.pydata.org/pandas-docs/stable/user_guide/indexing.html#returning-a-view-versus-a-copy\n",
      "  df[\"y_pred\"][df[\"y_pred\"] < 1] = 1\n"
     ]
    },
    {
     "name": "stdout",
     "output_type": "stream",
     "text": [
      "round_robin 10000 60 1187227 1187227\n",
      "85298 249912 1.0600445662300224\n"
     ]
    },
    {
     "name": "stderr",
     "output_type": "stream",
     "text": [
      "/tmp/ipykernel_3092022/1517576027.py:35: SettingWithCopyWarning: \n",
      "A value is trying to be set on a copy of a slice from a DataFrame\n",
      "\n",
      "See the caveats in the documentation: https://pandas.pydata.org/pandas-docs/stable/user_guide/indexing.html#returning-a-view-versus-a-copy\n",
      "  df[\"y_pred\"][df[\"y_pred\"] > 5] = 5\n",
      "/tmp/ipykernel_3092022/1517576027.py:36: SettingWithCopyWarning: \n",
      "A value is trying to be set on a copy of a slice from a DataFrame\n",
      "\n",
      "See the caveats in the documentation: https://pandas.pydata.org/pandas-docs/stable/user_guide/indexing.html#returning-a-view-versus-a-copy\n",
      "  df[\"y_pred\"][df[\"y_pred\"] < 1] = 1\n"
     ]
    },
    {
     "name": "stdout",
     "output_type": "stream",
     "text": [
      "round_robin None 60 1187227 nan\n",
      "0 249912 5.21059364881312\n"
     ]
    },
    {
     "name": "stderr",
     "output_type": "stream",
     "text": [
      "/tmp/ipykernel_3092022/1517576027.py:35: SettingWithCopyWarning: \n",
      "A value is trying to be set on a copy of a slice from a DataFrame\n",
      "\n",
      "See the caveats in the documentation: https://pandas.pydata.org/pandas-docs/stable/user_guide/indexing.html#returning-a-view-versus-a-copy\n",
      "  df[\"y_pred\"][df[\"y_pred\"] > 5] = 5\n",
      "/tmp/ipykernel_3092022/1517576027.py:36: SettingWithCopyWarning: \n",
      "A value is trying to be set on a copy of a slice from a DataFrame\n",
      "\n",
      "See the caveats in the documentation: https://pandas.pydata.org/pandas-docs/stable/user_guide/indexing.html#returning-a-view-versus-a-copy\n",
      "  df[\"y_pred\"][df[\"y_pred\"] < 1] = 1\n"
     ]
    },
    {
     "name": "stdout",
     "output_type": "stream",
     "text": [
      "batch 0.5 60 1187227 1185813\n",
      "32892 249912 1.4929679559526667\n"
     ]
    },
    {
     "name": "stderr",
     "output_type": "stream",
     "text": [
      "/tmp/ipykernel_3092022/1517576027.py:35: SettingWithCopyWarning: \n",
      "A value is trying to be set on a copy of a slice from a DataFrame\n",
      "\n",
      "See the caveats in the documentation: https://pandas.pydata.org/pandas-docs/stable/user_guide/indexing.html#returning-a-view-versus-a-copy\n",
      "  df[\"y_pred\"][df[\"y_pred\"] > 5] = 5\n",
      "/tmp/ipykernel_3092022/1517576027.py:36: SettingWithCopyWarning: \n",
      "A value is trying to be set on a copy of a slice from a DataFrame\n",
      "\n",
      "See the caveats in the documentation: https://pandas.pydata.org/pandas-docs/stable/user_guide/indexing.html#returning-a-view-versus-a-copy\n",
      "  df[\"y_pred\"][df[\"y_pred\"] < 1] = 1\n"
     ]
    },
    {
     "name": "stdout",
     "output_type": "stream",
     "text": [
      "batch 0.2 60 1187227 1165874\n",
      "13014 249912 2.740427307094722\n"
     ]
    },
    {
     "name": "stderr",
     "output_type": "stream",
     "text": [
      "/tmp/ipykernel_3092022/1517576027.py:35: SettingWithCopyWarning: \n",
      "A value is trying to be set on a copy of a slice from a DataFrame\n",
      "\n",
      "See the caveats in the documentation: https://pandas.pydata.org/pandas-docs/stable/user_guide/indexing.html#returning-a-view-versus-a-copy\n",
      "  df[\"y_pred\"][df[\"y_pred\"] > 5] = 5\n",
      "/tmp/ipykernel_3092022/1517576027.py:36: SettingWithCopyWarning: \n",
      "A value is trying to be set on a copy of a slice from a DataFrame\n",
      "\n",
      "See the caveats in the documentation: https://pandas.pydata.org/pandas-docs/stable/user_guide/indexing.html#returning-a-view-versus-a-copy\n",
      "  df[\"y_pred\"][df[\"y_pred\"] < 1] = 1\n"
     ]
    },
    {
     "name": "stdout",
     "output_type": "stream",
     "text": [
      "batch 1 60 1187227 1187227\n",
      "65797 249912 1.179026936098778\n"
     ]
    },
    {
     "name": "stderr",
     "output_type": "stream",
     "text": [
      "/tmp/ipykernel_3092022/1517576027.py:35: SettingWithCopyWarning: \n",
      "A value is trying to be set on a copy of a slice from a DataFrame\n",
      "\n",
      "See the caveats in the documentation: https://pandas.pydata.org/pandas-docs/stable/user_guide/indexing.html#returning-a-view-versus-a-copy\n",
      "  df[\"y_pred\"][df[\"y_pred\"] > 5] = 5\n",
      "/tmp/ipykernel_3092022/1517576027.py:36: SettingWithCopyWarning: \n",
      "A value is trying to be set on a copy of a slice from a DataFrame\n",
      "\n",
      "See the caveats in the documentation: https://pandas.pydata.org/pandas-docs/stable/user_guide/indexing.html#returning-a-view-versus-a-copy\n",
      "  df[\"y_pred\"][df[\"y_pred\"] < 1] = 1\n"
     ]
    },
    {
     "name": "stdout",
     "output_type": "stream",
     "text": [
      "batch 2 60 1187227 1187227\n",
      "76253 249912 1.0903743111290554\n"
     ]
    },
    {
     "name": "stderr",
     "output_type": "stream",
     "text": [
      "/tmp/ipykernel_3092022/1517576027.py:35: SettingWithCopyWarning: \n",
      "A value is trying to be set on a copy of a slice from a DataFrame\n",
      "\n",
      "See the caveats in the documentation: https://pandas.pydata.org/pandas-docs/stable/user_guide/indexing.html#returning-a-view-versus-a-copy\n",
      "  df[\"y_pred\"][df[\"y_pred\"] > 5] = 5\n",
      "/tmp/ipykernel_3092022/1517576027.py:36: SettingWithCopyWarning: \n",
      "A value is trying to be set on a copy of a slice from a DataFrame\n",
      "\n",
      "See the caveats in the documentation: https://pandas.pydata.org/pandas-docs/stable/user_guide/indexing.html#returning-a-view-versus-a-copy\n",
      "  df[\"y_pred\"][df[\"y_pred\"] < 1] = 1\n"
     ]
    },
    {
     "data": {
      "text/html": [
       "<div>\n",
       "<style scoped>\n",
       "    .dataframe tbody tr th:only-of-type {\n",
       "        vertical-align: middle;\n",
       "    }\n",
       "\n",
       "    .dataframe tbody tr th {\n",
       "        vertical-align: top;\n",
       "    }\n",
       "\n",
       "    .dataframe thead th {\n",
       "        text-align: right;\n",
       "    }\n",
       "</style>\n",
       "<table border=\"1\" class=\"dataframe\">\n",
       "  <thead>\n",
       "    <tr style=\"text-align: right;\">\n",
       "      <th></th>\n",
       "      <th>updates</th>\n",
       "      <th>policy</th>\n",
       "      <th>error</th>\n",
       "      <th>total_updates</th>\n",
       "      <th>ts_factor</th>\n",
       "      <th>max_ts</th>\n",
       "    </tr>\n",
       "  </thead>\n",
       "  <tbody>\n",
       "    <tr>\n",
       "      <th>0</th>\n",
       "      <td>0.50</td>\n",
       "      <td>total_error_cold</td>\n",
       "      <td>1.099176</td>\n",
       "      <td>41928</td>\n",
       "      <td>60</td>\n",
       "      <td>1187227</td>\n",
       "    </tr>\n",
       "    <tr>\n",
       "      <th>1</th>\n",
       "      <td>0.25</td>\n",
       "      <td>total_error_cold</td>\n",
       "      <td>1.196954</td>\n",
       "      <td>27404</td>\n",
       "      <td>60</td>\n",
       "      <td>1187227</td>\n",
       "    </tr>\n",
       "    <tr>\n",
       "      <th>2</th>\n",
       "      <td>0.20</td>\n",
       "      <td>total_error_cold</td>\n",
       "      <td>1.236988</td>\n",
       "      <td>24100</td>\n",
       "      <td>60</td>\n",
       "      <td>1187227</td>\n",
       "    </tr>\n",
       "    <tr>\n",
       "      <th>3</th>\n",
       "      <td>1.00</td>\n",
       "      <td>total_error_cold</td>\n",
       "      <td>1.065432</td>\n",
       "      <td>65797</td>\n",
       "      <td>60</td>\n",
       "      <td>1187227</td>\n",
       "    </tr>\n",
       "    <tr>\n",
       "      <th>4</th>\n",
       "      <td>2.00</td>\n",
       "      <td>total_error_cold</td>\n",
       "      <td>1.061214</td>\n",
       "      <td>78046</td>\n",
       "      <td>60</td>\n",
       "      <td>1187227</td>\n",
       "    </tr>\n",
       "    <tr>\n",
       "      <th>5</th>\n",
       "      <td>3.00</td>\n",
       "      <td>total_error_cold</td>\n",
       "      <td>1.060425</td>\n",
       "      <td>82255</td>\n",
       "      <td>60</td>\n",
       "      <td>1187227</td>\n",
       "    </tr>\n",
       "    <tr>\n",
       "      <th>6</th>\n",
       "      <td>4.00</td>\n",
       "      <td>total_error_cold</td>\n",
       "      <td>1.060294</td>\n",
       "      <td>84023</td>\n",
       "      <td>60</td>\n",
       "      <td>1187227</td>\n",
       "    </tr>\n",
       "    <tr>\n",
       "      <th>7</th>\n",
       "      <td>5.00</td>\n",
       "      <td>total_error_cold</td>\n",
       "      <td>1.060179</td>\n",
       "      <td>84814</td>\n",
       "      <td>60</td>\n",
       "      <td>1187227</td>\n",
       "    </tr>\n",
       "    <tr>\n",
       "      <th>8</th>\n",
       "      <td>8.00</td>\n",
       "      <td>total_error_cold</td>\n",
       "      <td>1.060045</td>\n",
       "      <td>85291</td>\n",
       "      <td>60</td>\n",
       "      <td>1187227</td>\n",
       "    </tr>\n",
       "    <tr>\n",
       "      <th>9</th>\n",
       "      <td>0.50</td>\n",
       "      <td>query_proportional</td>\n",
       "      <td>2.541527</td>\n",
       "      <td>41928</td>\n",
       "      <td>60</td>\n",
       "      <td>1187227</td>\n",
       "    </tr>\n",
       "    <tr>\n",
       "      <th>10</th>\n",
       "      <td>0.25</td>\n",
       "      <td>query_proportional</td>\n",
       "      <td>2.981890</td>\n",
       "      <td>27404</td>\n",
       "      <td>60</td>\n",
       "      <td>1187227</td>\n",
       "    </tr>\n",
       "    <tr>\n",
       "      <th>11</th>\n",
       "      <td>0.20</td>\n",
       "      <td>query_proportional</td>\n",
       "      <td>3.138192</td>\n",
       "      <td>24100</td>\n",
       "      <td>60</td>\n",
       "      <td>1187227</td>\n",
       "    </tr>\n",
       "    <tr>\n",
       "      <th>12</th>\n",
       "      <td>1.00</td>\n",
       "      <td>query_proportional</td>\n",
       "      <td>2.059059</td>\n",
       "      <td>65797</td>\n",
       "      <td>60</td>\n",
       "      <td>1187227</td>\n",
       "    </tr>\n",
       "    <tr>\n",
       "      <th>13</th>\n",
       "      <td>2.00</td>\n",
       "      <td>query_proportional</td>\n",
       "      <td>1.396096</td>\n",
       "      <td>78139</td>\n",
       "      <td>60</td>\n",
       "      <td>1187227</td>\n",
       "    </tr>\n",
       "    <tr>\n",
       "      <th>14</th>\n",
       "      <td>3.00</td>\n",
       "      <td>query_proportional</td>\n",
       "      <td>1.201791</td>\n",
       "      <td>82306</td>\n",
       "      <td>60</td>\n",
       "      <td>1187227</td>\n",
       "    </tr>\n",
       "    <tr>\n",
       "      <th>15</th>\n",
       "      <td>4.00</td>\n",
       "      <td>query_proportional</td>\n",
       "      <td>1.116742</td>\n",
       "      <td>84037</td>\n",
       "      <td>60</td>\n",
       "      <td>1187227</td>\n",
       "    </tr>\n",
       "    <tr>\n",
       "      <th>16</th>\n",
       "      <td>5.00</td>\n",
       "      <td>query_proportional</td>\n",
       "      <td>1.078929</td>\n",
       "      <td>84815</td>\n",
       "      <td>60</td>\n",
       "      <td>1187227</td>\n",
       "    </tr>\n",
       "    <tr>\n",
       "      <th>17</th>\n",
       "      <td>8.00</td>\n",
       "      <td>query_proportional</td>\n",
       "      <td>1.060002</td>\n",
       "      <td>85294</td>\n",
       "      <td>60</td>\n",
       "      <td>1187227</td>\n",
       "    </tr>\n",
       "    <tr>\n",
       "      <th>18</th>\n",
       "      <td>0.50</td>\n",
       "      <td>max_pending</td>\n",
       "      <td>1.410343</td>\n",
       "      <td>41928</td>\n",
       "      <td>60</td>\n",
       "      <td>1187227</td>\n",
       "    </tr>\n",
       "    <tr>\n",
       "      <th>19</th>\n",
       "      <td>0.25</td>\n",
       "      <td>max_pending</td>\n",
       "      <td>1.760167</td>\n",
       "      <td>27404</td>\n",
       "      <td>60</td>\n",
       "      <td>1187227</td>\n",
       "    </tr>\n",
       "    <tr>\n",
       "      <th>20</th>\n",
       "      <td>0.20</td>\n",
       "      <td>max_pending</td>\n",
       "      <td>1.927128</td>\n",
       "      <td>24100</td>\n",
       "      <td>60</td>\n",
       "      <td>1187227</td>\n",
       "    </tr>\n",
       "    <tr>\n",
       "      <th>21</th>\n",
       "      <td>1.00</td>\n",
       "      <td>max_pending</td>\n",
       "      <td>1.198112</td>\n",
       "      <td>65797</td>\n",
       "      <td>60</td>\n",
       "      <td>1187227</td>\n",
       "    </tr>\n",
       "    <tr>\n",
       "      <th>22</th>\n",
       "      <td>2.00</td>\n",
       "      <td>max_pending</td>\n",
       "      <td>1.092142</td>\n",
       "      <td>78123</td>\n",
       "      <td>60</td>\n",
       "      <td>1187227</td>\n",
       "    </tr>\n",
       "    <tr>\n",
       "      <th>23</th>\n",
       "      <td>3.00</td>\n",
       "      <td>max_pending</td>\n",
       "      <td>1.068745</td>\n",
       "      <td>82330</td>\n",
       "      <td>60</td>\n",
       "      <td>1187227</td>\n",
       "    </tr>\n",
       "    <tr>\n",
       "      <th>24</th>\n",
       "      <td>4.00</td>\n",
       "      <td>max_pending</td>\n",
       "      <td>1.062701</td>\n",
       "      <td>84059</td>\n",
       "      <td>60</td>\n",
       "      <td>1187227</td>\n",
       "    </tr>\n",
       "    <tr>\n",
       "      <th>25</th>\n",
       "      <td>5.00</td>\n",
       "      <td>max_pending</td>\n",
       "      <td>1.060671</td>\n",
       "      <td>84824</td>\n",
       "      <td>60</td>\n",
       "      <td>1187227</td>\n",
       "    </tr>\n",
       "    <tr>\n",
       "      <th>26</th>\n",
       "      <td>8.00</td>\n",
       "      <td>max_pending</td>\n",
       "      <td>1.060045</td>\n",
       "      <td>85295</td>\n",
       "      <td>60</td>\n",
       "      <td>1187227</td>\n",
       "    </tr>\n",
       "    <tr>\n",
       "      <th>27</th>\n",
       "      <td>0.50</td>\n",
       "      <td>min_past</td>\n",
       "      <td>1.110945</td>\n",
       "      <td>41928</td>\n",
       "      <td>60</td>\n",
       "      <td>1187227</td>\n",
       "    </tr>\n",
       "    <tr>\n",
       "      <th>28</th>\n",
       "      <td>0.25</td>\n",
       "      <td>min_past</td>\n",
       "      <td>1.217167</td>\n",
       "      <td>27404</td>\n",
       "      <td>60</td>\n",
       "      <td>1187227</td>\n",
       "    </tr>\n",
       "    <tr>\n",
       "      <th>29</th>\n",
       "      <td>0.20</td>\n",
       "      <td>min_past</td>\n",
       "      <td>1.254947</td>\n",
       "      <td>24100</td>\n",
       "      <td>60</td>\n",
       "      <td>1187227</td>\n",
       "    </tr>\n",
       "    <tr>\n",
       "      <th>30</th>\n",
       "      <td>1.00</td>\n",
       "      <td>min_past</td>\n",
       "      <td>1.075783</td>\n",
       "      <td>65797</td>\n",
       "      <td>60</td>\n",
       "      <td>1187227</td>\n",
       "    </tr>\n",
       "    <tr>\n",
       "      <th>31</th>\n",
       "      <td>2.00</td>\n",
       "      <td>min_past</td>\n",
       "      <td>1.063358</td>\n",
       "      <td>78005</td>\n",
       "      <td>60</td>\n",
       "      <td>1187227</td>\n",
       "    </tr>\n",
       "    <tr>\n",
       "      <th>32</th>\n",
       "      <td>3.00</td>\n",
       "      <td>min_past</td>\n",
       "      <td>1.060640</td>\n",
       "      <td>82215</td>\n",
       "      <td>60</td>\n",
       "      <td>1187227</td>\n",
       "    </tr>\n",
       "    <tr>\n",
       "      <th>33</th>\n",
       "      <td>4.00</td>\n",
       "      <td>min_past</td>\n",
       "      <td>1.060262</td>\n",
       "      <td>84016</td>\n",
       "      <td>60</td>\n",
       "      <td>1187227</td>\n",
       "    </tr>\n",
       "    <tr>\n",
       "      <th>34</th>\n",
       "      <td>5.00</td>\n",
       "      <td>min_past</td>\n",
       "      <td>1.060049</td>\n",
       "      <td>84792</td>\n",
       "      <td>60</td>\n",
       "      <td>1187227</td>\n",
       "    </tr>\n",
       "    <tr>\n",
       "      <th>35</th>\n",
       "      <td>8.00</td>\n",
       "      <td>min_past</td>\n",
       "      <td>1.060045</td>\n",
       "      <td>85292</td>\n",
       "      <td>60</td>\n",
       "      <td>1187227</td>\n",
       "    </tr>\n",
       "    <tr>\n",
       "      <th>36</th>\n",
       "      <td>0.50</td>\n",
       "      <td>round_robin</td>\n",
       "      <td>1.477302</td>\n",
       "      <td>41928</td>\n",
       "      <td>60</td>\n",
       "      <td>1187227</td>\n",
       "    </tr>\n",
       "    <tr>\n",
       "      <th>37</th>\n",
       "      <td>0.25</td>\n",
       "      <td>round_robin</td>\n",
       "      <td>2.248590</td>\n",
       "      <td>27404</td>\n",
       "      <td>60</td>\n",
       "      <td>1187227</td>\n",
       "    </tr>\n",
       "    <tr>\n",
       "      <th>38</th>\n",
       "      <td>0.20</td>\n",
       "      <td>round_robin</td>\n",
       "      <td>2.608602</td>\n",
       "      <td>24100</td>\n",
       "      <td>60</td>\n",
       "      <td>1187227</td>\n",
       "    </tr>\n",
       "    <tr>\n",
       "      <th>39</th>\n",
       "      <td>1.00</td>\n",
       "      <td>round_robin</td>\n",
       "      <td>1.188714</td>\n",
       "      <td>65797</td>\n",
       "      <td>60</td>\n",
       "      <td>1187227</td>\n",
       "    </tr>\n",
       "    <tr>\n",
       "      <th>40</th>\n",
       "      <td>2.00</td>\n",
       "      <td>round_robin</td>\n",
       "      <td>1.089774</td>\n",
       "      <td>77680</td>\n",
       "      <td>60</td>\n",
       "      <td>1187227</td>\n",
       "    </tr>\n",
       "    <tr>\n",
       "      <th>41</th>\n",
       "      <td>3.00</td>\n",
       "      <td>round_robin</td>\n",
       "      <td>1.070110</td>\n",
       "      <td>82054</td>\n",
       "      <td>60</td>\n",
       "      <td>1187227</td>\n",
       "    </tr>\n",
       "    <tr>\n",
       "      <th>42</th>\n",
       "      <td>4.00</td>\n",
       "      <td>round_robin</td>\n",
       "      <td>1.064978</td>\n",
       "      <td>83962</td>\n",
       "      <td>60</td>\n",
       "      <td>1187227</td>\n",
       "    </tr>\n",
       "    <tr>\n",
       "      <th>43</th>\n",
       "      <td>5.00</td>\n",
       "      <td>round_robin</td>\n",
       "      <td>1.062443</td>\n",
       "      <td>84782</td>\n",
       "      <td>60</td>\n",
       "      <td>1187227</td>\n",
       "    </tr>\n",
       "    <tr>\n",
       "      <th>44</th>\n",
       "      <td>8.00</td>\n",
       "      <td>round_robin</td>\n",
       "      <td>1.060032</td>\n",
       "      <td>85292</td>\n",
       "      <td>60</td>\n",
       "      <td>1187227</td>\n",
       "    </tr>\n",
       "    <tr>\n",
       "      <th>45</th>\n",
       "      <td>10000.00</td>\n",
       "      <td>round_robin</td>\n",
       "      <td>1.060045</td>\n",
       "      <td>85298</td>\n",
       "      <td>60</td>\n",
       "      <td>1187227</td>\n",
       "    </tr>\n",
       "    <tr>\n",
       "      <th>46</th>\n",
       "      <td>NaN</td>\n",
       "      <td>round_robin</td>\n",
       "      <td>5.210594</td>\n",
       "      <td>0</td>\n",
       "      <td>60</td>\n",
       "      <td>1187227</td>\n",
       "    </tr>\n",
       "    <tr>\n",
       "      <th>47</th>\n",
       "      <td>0.50</td>\n",
       "      <td>batch</td>\n",
       "      <td>1.492968</td>\n",
       "      <td>32892</td>\n",
       "      <td>60</td>\n",
       "      <td>1187227</td>\n",
       "    </tr>\n",
       "    <tr>\n",
       "      <th>48</th>\n",
       "      <td>0.20</td>\n",
       "      <td>batch</td>\n",
       "      <td>2.740427</td>\n",
       "      <td>13014</td>\n",
       "      <td>60</td>\n",
       "      <td>1187227</td>\n",
       "    </tr>\n",
       "    <tr>\n",
       "      <th>49</th>\n",
       "      <td>1.00</td>\n",
       "      <td>batch</td>\n",
       "      <td>1.179027</td>\n",
       "      <td>65797</td>\n",
       "      <td>60</td>\n",
       "      <td>1187227</td>\n",
       "    </tr>\n",
       "    <tr>\n",
       "      <th>50</th>\n",
       "      <td>2.00</td>\n",
       "      <td>batch</td>\n",
       "      <td>1.090374</td>\n",
       "      <td>76253</td>\n",
       "      <td>60</td>\n",
       "      <td>1187227</td>\n",
       "    </tr>\n",
       "  </tbody>\n",
       "</table>\n",
       "</div>"
      ],
      "text/plain": [
       "     updates              policy     error  total_updates  ts_factor   max_ts\n",
       "0       0.50    total_error_cold  1.099176          41928         60  1187227\n",
       "1       0.25    total_error_cold  1.196954          27404         60  1187227\n",
       "2       0.20    total_error_cold  1.236988          24100         60  1187227\n",
       "3       1.00    total_error_cold  1.065432          65797         60  1187227\n",
       "4       2.00    total_error_cold  1.061214          78046         60  1187227\n",
       "5       3.00    total_error_cold  1.060425          82255         60  1187227\n",
       "6       4.00    total_error_cold  1.060294          84023         60  1187227\n",
       "7       5.00    total_error_cold  1.060179          84814         60  1187227\n",
       "8       8.00    total_error_cold  1.060045          85291         60  1187227\n",
       "9       0.50  query_proportional  2.541527          41928         60  1187227\n",
       "10      0.25  query_proportional  2.981890          27404         60  1187227\n",
       "11      0.20  query_proportional  3.138192          24100         60  1187227\n",
       "12      1.00  query_proportional  2.059059          65797         60  1187227\n",
       "13      2.00  query_proportional  1.396096          78139         60  1187227\n",
       "14      3.00  query_proportional  1.201791          82306         60  1187227\n",
       "15      4.00  query_proportional  1.116742          84037         60  1187227\n",
       "16      5.00  query_proportional  1.078929          84815         60  1187227\n",
       "17      8.00  query_proportional  1.060002          85294         60  1187227\n",
       "18      0.50         max_pending  1.410343          41928         60  1187227\n",
       "19      0.25         max_pending  1.760167          27404         60  1187227\n",
       "20      0.20         max_pending  1.927128          24100         60  1187227\n",
       "21      1.00         max_pending  1.198112          65797         60  1187227\n",
       "22      2.00         max_pending  1.092142          78123         60  1187227\n",
       "23      3.00         max_pending  1.068745          82330         60  1187227\n",
       "24      4.00         max_pending  1.062701          84059         60  1187227\n",
       "25      5.00         max_pending  1.060671          84824         60  1187227\n",
       "26      8.00         max_pending  1.060045          85295         60  1187227\n",
       "27      0.50            min_past  1.110945          41928         60  1187227\n",
       "28      0.25            min_past  1.217167          27404         60  1187227\n",
       "29      0.20            min_past  1.254947          24100         60  1187227\n",
       "30      1.00            min_past  1.075783          65797         60  1187227\n",
       "31      2.00            min_past  1.063358          78005         60  1187227\n",
       "32      3.00            min_past  1.060640          82215         60  1187227\n",
       "33      4.00            min_past  1.060262          84016         60  1187227\n",
       "34      5.00            min_past  1.060049          84792         60  1187227\n",
       "35      8.00            min_past  1.060045          85292         60  1187227\n",
       "36      0.50         round_robin  1.477302          41928         60  1187227\n",
       "37      0.25         round_robin  2.248590          27404         60  1187227\n",
       "38      0.20         round_robin  2.608602          24100         60  1187227\n",
       "39      1.00         round_robin  1.188714          65797         60  1187227\n",
       "40      2.00         round_robin  1.089774          77680         60  1187227\n",
       "41      3.00         round_robin  1.070110          82054         60  1187227\n",
       "42      4.00         round_robin  1.064978          83962         60  1187227\n",
       "43      5.00         round_robin  1.062443          84782         60  1187227\n",
       "44      8.00         round_robin  1.060032          85292         60  1187227\n",
       "45  10000.00         round_robin  1.060045          85298         60  1187227\n",
       "46       NaN         round_robin  5.210594              0         60  1187227\n",
       "47      0.50               batch  1.492968          32892         60  1187227\n",
       "48      0.20               batch  2.740427          13014         60  1187227\n",
       "49      1.00               batch  1.179027          65797         60  1187227\n",
       "50      2.00               batch  1.090374          76253         60  1187227"
      ]
     },
     "execution_count": 9,
     "metadata": {},
     "output_type": "execute_result"
    }
   ],
   "source": [
    "updates_df = pd.DataFrame()\n",
    "df_all = pd.DataFrame()\n",
    "results = [] \n",
    "\n",
    "for p in policies: \n",
    "    for u in updates_per_ts: \n",
    "        for t in ts_factor: \n",
    "            \n",
    "            if not os.path.exists(f\"{result_dir}/{p}_{u}_{t}_split_{split}_updates.csv\"): \n",
    "                continue\n",
    "                \n",
    "            update_df = pd.read_csv(f\"{result_dir}/{p}_{u}_{t}_split_{split}_updates.csv\")\n",
    "            df = pd.read_csv(f\"{result_dir}/{p}_{u}_{t}_split_{split}_results.csv\")\n",
    "            \n",
    "            \n",
    "            if limit is not None:\n",
    "                if len(df.index) <= limit: \n",
    "                    print(f\"{result_dir}/{p}_{u}_{t}_split_{split}_results.csv\")\n",
    "                    continue \n",
    "\n",
    "                # filter time \n",
    "                df = df.iloc[:limit]\n",
    "                timestamp = df.timestamp.max()\n",
    "                update_df = update_df[update_df[\"time\"] < timestamp]\n",
    "\n",
    "            print(p, u, t, df.timestamp.max(), update_df[\"time\"].max())\n",
    "            \n",
    "            df[\"policy\"] = p\n",
    "            df[\"updates\"] = u \n",
    "            df[\"ts_factor\"] = t\n",
    "            update_df[\"updates\"] = u \n",
    "            update_df[\"ts_factor\"] = t\n",
    "            \n",
    "            # threshold predictions \n",
    "            df[\"y_pred\"][df[\"y_pred\"] > 5] = 5\n",
    "            df[\"y_pred\"][df[\"y_pred\"] < 1] = 1\n",
    "            \n",
    "            #print(df.y_pred)\n",
    "            #print(df.y_true)\n",
    "\n",
    "            error = mean_squared_error(df.y_pred, df.y_true)\n",
    "            \n",
    "            #print(update_df.time.value_counts())\n",
    "            \n",
    "\n",
    "            total_updates = len(update_df.index)\n",
    "            print(total_updates, len(df.index), error)\n",
    "            results.append([u , p, error, total_updates, t, df.timestamp.max()])\n",
    "            updates_df = pd.concat([updates_df, update_df])\n",
    "            df_all = pd.concat([df_all, df])\n",
    "      \n",
    "results_df = pd.DataFrame(results, columns=[\"updates\", \"policy\", \"error\", \"total_updates\", \"ts_factor\", \"max_ts\"])\n",
    "results_df"
   ]
  },
  {
   "cell_type": "code",
   "execution_count": 11,
   "id": "50c48f7c",
   "metadata": {},
   "outputs": [
    {
     "name": "stdout",
     "output_type": "stream",
     "text": [
      "{'results_dir': '/data/wooders/ralf-vldb//results', 'dataset_dir': '/data/wooders/ralf-vldb//datasets', 'plots_dir': '/data/wooders/ralf-vldb//plots', 'aws_dir': 'vldb', 'credentials': '/home/eecs/wooders/experiments/ralf-vldb.json'}\n",
      "uploading /data/wooders/ralf-vldb//plots ml-1m\n",
      "vldb/plots ml-1m /ml-1m/baseline.csv\n",
      "uploading /data/wooders/ralf-vldb//plots/ml-1m vldb/plots vldb/plots/ml-1m/baseline.csv\n",
      "vldb/plots ml-1m /ml-1m/results.csv\n",
      "uploading /data/wooders/ralf-vldb//plots/ml-1m vldb/plots vldb/plots/ml-1m/results.csv\n"
     ]
    },
    {
     "data": {
      "text/plain": [
       "'vldb/plots/ml-1m'"
      ]
     },
     "execution_count": 11,
     "metadata": {},
     "output_type": "execute_result"
    }
   ],
   "source": [
    "plots_dir = use_plots(\"ml-1m\")\n",
    "results_df.to_csv(f\"{plots_dir}/results.csv\")\n",
    "baseline_results_df.to_csv(f\"{plots_dir}/baseline.csv\")\n",
    "log_plots(\"ml-1m\")"
   ]
  },
  {
   "cell_type": "code",
   "execution_count": 12,
   "id": "61afbc99",
   "metadata": {},
   "outputs": [
    {
     "data": {
      "text/html": [
       "<div>\n",
       "<style scoped>\n",
       "    .dataframe tbody tr th:only-of-type {\n",
       "        vertical-align: middle;\n",
       "    }\n",
       "\n",
       "    .dataframe tbody tr th {\n",
       "        vertical-align: top;\n",
       "    }\n",
       "\n",
       "    .dataframe thead th {\n",
       "        text-align: right;\n",
       "    }\n",
       "</style>\n",
       "<table border=\"1\" class=\"dataframe\">\n",
       "  <thead>\n",
       "    <tr style=\"text-align: right;\">\n",
       "      <th></th>\n",
       "      <th>updates</th>\n",
       "      <th>policy</th>\n",
       "      <th>error</th>\n",
       "      <th>total_updates</th>\n",
       "      <th>ts_factor</th>\n",
       "      <th>max_ts</th>\n",
       "    </tr>\n",
       "  </thead>\n",
       "  <tbody>\n",
       "    <tr>\n",
       "      <th>0</th>\n",
       "      <td>0.50</td>\n",
       "      <td>total_error_cold</td>\n",
       "      <td>1.099176</td>\n",
       "      <td>41928</td>\n",
       "      <td>60</td>\n",
       "      <td>1187227</td>\n",
       "    </tr>\n",
       "    <tr>\n",
       "      <th>1</th>\n",
       "      <td>0.25</td>\n",
       "      <td>total_error_cold</td>\n",
       "      <td>1.196954</td>\n",
       "      <td>27404</td>\n",
       "      <td>60</td>\n",
       "      <td>1187227</td>\n",
       "    </tr>\n",
       "    <tr>\n",
       "      <th>2</th>\n",
       "      <td>0.20</td>\n",
       "      <td>total_error_cold</td>\n",
       "      <td>1.236988</td>\n",
       "      <td>24100</td>\n",
       "      <td>60</td>\n",
       "      <td>1187227</td>\n",
       "    </tr>\n",
       "    <tr>\n",
       "      <th>3</th>\n",
       "      <td>1.00</td>\n",
       "      <td>total_error_cold</td>\n",
       "      <td>1.065432</td>\n",
       "      <td>65797</td>\n",
       "      <td>60</td>\n",
       "      <td>1187227</td>\n",
       "    </tr>\n",
       "    <tr>\n",
       "      <th>4</th>\n",
       "      <td>2.00</td>\n",
       "      <td>total_error_cold</td>\n",
       "      <td>1.061214</td>\n",
       "      <td>78046</td>\n",
       "      <td>60</td>\n",
       "      <td>1187227</td>\n",
       "    </tr>\n",
       "    <tr>\n",
       "      <th>5</th>\n",
       "      <td>3.00</td>\n",
       "      <td>total_error_cold</td>\n",
       "      <td>1.060425</td>\n",
       "      <td>82255</td>\n",
       "      <td>60</td>\n",
       "      <td>1187227</td>\n",
       "    </tr>\n",
       "    <tr>\n",
       "      <th>6</th>\n",
       "      <td>4.00</td>\n",
       "      <td>total_error_cold</td>\n",
       "      <td>1.060294</td>\n",
       "      <td>84023</td>\n",
       "      <td>60</td>\n",
       "      <td>1187227</td>\n",
       "    </tr>\n",
       "    <tr>\n",
       "      <th>7</th>\n",
       "      <td>5.00</td>\n",
       "      <td>total_error_cold</td>\n",
       "      <td>1.060179</td>\n",
       "      <td>84814</td>\n",
       "      <td>60</td>\n",
       "      <td>1187227</td>\n",
       "    </tr>\n",
       "    <tr>\n",
       "      <th>8</th>\n",
       "      <td>8.00</td>\n",
       "      <td>total_error_cold</td>\n",
       "      <td>1.060045</td>\n",
       "      <td>85291</td>\n",
       "      <td>60</td>\n",
       "      <td>1187227</td>\n",
       "    </tr>\n",
       "    <tr>\n",
       "      <th>9</th>\n",
       "      <td>0.50</td>\n",
       "      <td>query_proportional</td>\n",
       "      <td>2.541527</td>\n",
       "      <td>41928</td>\n",
       "      <td>60</td>\n",
       "      <td>1187227</td>\n",
       "    </tr>\n",
       "    <tr>\n",
       "      <th>10</th>\n",
       "      <td>0.25</td>\n",
       "      <td>query_proportional</td>\n",
       "      <td>2.981890</td>\n",
       "      <td>27404</td>\n",
       "      <td>60</td>\n",
       "      <td>1187227</td>\n",
       "    </tr>\n",
       "    <tr>\n",
       "      <th>11</th>\n",
       "      <td>0.20</td>\n",
       "      <td>query_proportional</td>\n",
       "      <td>3.138192</td>\n",
       "      <td>24100</td>\n",
       "      <td>60</td>\n",
       "      <td>1187227</td>\n",
       "    </tr>\n",
       "    <tr>\n",
       "      <th>12</th>\n",
       "      <td>1.00</td>\n",
       "      <td>query_proportional</td>\n",
       "      <td>2.059059</td>\n",
       "      <td>65797</td>\n",
       "      <td>60</td>\n",
       "      <td>1187227</td>\n",
       "    </tr>\n",
       "    <tr>\n",
       "      <th>13</th>\n",
       "      <td>2.00</td>\n",
       "      <td>query_proportional</td>\n",
       "      <td>1.396096</td>\n",
       "      <td>78139</td>\n",
       "      <td>60</td>\n",
       "      <td>1187227</td>\n",
       "    </tr>\n",
       "    <tr>\n",
       "      <th>14</th>\n",
       "      <td>3.00</td>\n",
       "      <td>query_proportional</td>\n",
       "      <td>1.201791</td>\n",
       "      <td>82306</td>\n",
       "      <td>60</td>\n",
       "      <td>1187227</td>\n",
       "    </tr>\n",
       "    <tr>\n",
       "      <th>15</th>\n",
       "      <td>4.00</td>\n",
       "      <td>query_proportional</td>\n",
       "      <td>1.116742</td>\n",
       "      <td>84037</td>\n",
       "      <td>60</td>\n",
       "      <td>1187227</td>\n",
       "    </tr>\n",
       "    <tr>\n",
       "      <th>16</th>\n",
       "      <td>5.00</td>\n",
       "      <td>query_proportional</td>\n",
       "      <td>1.078929</td>\n",
       "      <td>84815</td>\n",
       "      <td>60</td>\n",
       "      <td>1187227</td>\n",
       "    </tr>\n",
       "    <tr>\n",
       "      <th>17</th>\n",
       "      <td>8.00</td>\n",
       "      <td>query_proportional</td>\n",
       "      <td>1.060002</td>\n",
       "      <td>85294</td>\n",
       "      <td>60</td>\n",
       "      <td>1187227</td>\n",
       "    </tr>\n",
       "    <tr>\n",
       "      <th>18</th>\n",
       "      <td>0.50</td>\n",
       "      <td>max_pending</td>\n",
       "      <td>1.410343</td>\n",
       "      <td>41928</td>\n",
       "      <td>60</td>\n",
       "      <td>1187227</td>\n",
       "    </tr>\n",
       "    <tr>\n",
       "      <th>19</th>\n",
       "      <td>0.25</td>\n",
       "      <td>max_pending</td>\n",
       "      <td>1.760167</td>\n",
       "      <td>27404</td>\n",
       "      <td>60</td>\n",
       "      <td>1187227</td>\n",
       "    </tr>\n",
       "    <tr>\n",
       "      <th>20</th>\n",
       "      <td>0.20</td>\n",
       "      <td>max_pending</td>\n",
       "      <td>1.927128</td>\n",
       "      <td>24100</td>\n",
       "      <td>60</td>\n",
       "      <td>1187227</td>\n",
       "    </tr>\n",
       "    <tr>\n",
       "      <th>21</th>\n",
       "      <td>1.00</td>\n",
       "      <td>max_pending</td>\n",
       "      <td>1.198112</td>\n",
       "      <td>65797</td>\n",
       "      <td>60</td>\n",
       "      <td>1187227</td>\n",
       "    </tr>\n",
       "    <tr>\n",
       "      <th>22</th>\n",
       "      <td>2.00</td>\n",
       "      <td>max_pending</td>\n",
       "      <td>1.092142</td>\n",
       "      <td>78123</td>\n",
       "      <td>60</td>\n",
       "      <td>1187227</td>\n",
       "    </tr>\n",
       "    <tr>\n",
       "      <th>23</th>\n",
       "      <td>3.00</td>\n",
       "      <td>max_pending</td>\n",
       "      <td>1.068745</td>\n",
       "      <td>82330</td>\n",
       "      <td>60</td>\n",
       "      <td>1187227</td>\n",
       "    </tr>\n",
       "    <tr>\n",
       "      <th>24</th>\n",
       "      <td>4.00</td>\n",
       "      <td>max_pending</td>\n",
       "      <td>1.062701</td>\n",
       "      <td>84059</td>\n",
       "      <td>60</td>\n",
       "      <td>1187227</td>\n",
       "    </tr>\n",
       "    <tr>\n",
       "      <th>25</th>\n",
       "      <td>5.00</td>\n",
       "      <td>max_pending</td>\n",
       "      <td>1.060671</td>\n",
       "      <td>84824</td>\n",
       "      <td>60</td>\n",
       "      <td>1187227</td>\n",
       "    </tr>\n",
       "    <tr>\n",
       "      <th>26</th>\n",
       "      <td>8.00</td>\n",
       "      <td>max_pending</td>\n",
       "      <td>1.060045</td>\n",
       "      <td>85295</td>\n",
       "      <td>60</td>\n",
       "      <td>1187227</td>\n",
       "    </tr>\n",
       "    <tr>\n",
       "      <th>27</th>\n",
       "      <td>0.50</td>\n",
       "      <td>min_past</td>\n",
       "      <td>1.110945</td>\n",
       "      <td>41928</td>\n",
       "      <td>60</td>\n",
       "      <td>1187227</td>\n",
       "    </tr>\n",
       "    <tr>\n",
       "      <th>28</th>\n",
       "      <td>0.25</td>\n",
       "      <td>min_past</td>\n",
       "      <td>1.217167</td>\n",
       "      <td>27404</td>\n",
       "      <td>60</td>\n",
       "      <td>1187227</td>\n",
       "    </tr>\n",
       "    <tr>\n",
       "      <th>29</th>\n",
       "      <td>0.20</td>\n",
       "      <td>min_past</td>\n",
       "      <td>1.254947</td>\n",
       "      <td>24100</td>\n",
       "      <td>60</td>\n",
       "      <td>1187227</td>\n",
       "    </tr>\n",
       "    <tr>\n",
       "      <th>30</th>\n",
       "      <td>1.00</td>\n",
       "      <td>min_past</td>\n",
       "      <td>1.075783</td>\n",
       "      <td>65797</td>\n",
       "      <td>60</td>\n",
       "      <td>1187227</td>\n",
       "    </tr>\n",
       "    <tr>\n",
       "      <th>31</th>\n",
       "      <td>2.00</td>\n",
       "      <td>min_past</td>\n",
       "      <td>1.063358</td>\n",
       "      <td>78005</td>\n",
       "      <td>60</td>\n",
       "      <td>1187227</td>\n",
       "    </tr>\n",
       "    <tr>\n",
       "      <th>32</th>\n",
       "      <td>3.00</td>\n",
       "      <td>min_past</td>\n",
       "      <td>1.060640</td>\n",
       "      <td>82215</td>\n",
       "      <td>60</td>\n",
       "      <td>1187227</td>\n",
       "    </tr>\n",
       "    <tr>\n",
       "      <th>33</th>\n",
       "      <td>4.00</td>\n",
       "      <td>min_past</td>\n",
       "      <td>1.060262</td>\n",
       "      <td>84016</td>\n",
       "      <td>60</td>\n",
       "      <td>1187227</td>\n",
       "    </tr>\n",
       "    <tr>\n",
       "      <th>34</th>\n",
       "      <td>5.00</td>\n",
       "      <td>min_past</td>\n",
       "      <td>1.060049</td>\n",
       "      <td>84792</td>\n",
       "      <td>60</td>\n",
       "      <td>1187227</td>\n",
       "    </tr>\n",
       "    <tr>\n",
       "      <th>35</th>\n",
       "      <td>8.00</td>\n",
       "      <td>min_past</td>\n",
       "      <td>1.060045</td>\n",
       "      <td>85292</td>\n",
       "      <td>60</td>\n",
       "      <td>1187227</td>\n",
       "    </tr>\n",
       "    <tr>\n",
       "      <th>36</th>\n",
       "      <td>0.50</td>\n",
       "      <td>round_robin</td>\n",
       "      <td>1.477302</td>\n",
       "      <td>41928</td>\n",
       "      <td>60</td>\n",
       "      <td>1187227</td>\n",
       "    </tr>\n",
       "    <tr>\n",
       "      <th>37</th>\n",
       "      <td>0.25</td>\n",
       "      <td>round_robin</td>\n",
       "      <td>2.248590</td>\n",
       "      <td>27404</td>\n",
       "      <td>60</td>\n",
       "      <td>1187227</td>\n",
       "    </tr>\n",
       "    <tr>\n",
       "      <th>38</th>\n",
       "      <td>0.20</td>\n",
       "      <td>round_robin</td>\n",
       "      <td>2.608602</td>\n",
       "      <td>24100</td>\n",
       "      <td>60</td>\n",
       "      <td>1187227</td>\n",
       "    </tr>\n",
       "    <tr>\n",
       "      <th>39</th>\n",
       "      <td>1.00</td>\n",
       "      <td>round_robin</td>\n",
       "      <td>1.188714</td>\n",
       "      <td>65797</td>\n",
       "      <td>60</td>\n",
       "      <td>1187227</td>\n",
       "    </tr>\n",
       "    <tr>\n",
       "      <th>40</th>\n",
       "      <td>2.00</td>\n",
       "      <td>round_robin</td>\n",
       "      <td>1.089774</td>\n",
       "      <td>77680</td>\n",
       "      <td>60</td>\n",
       "      <td>1187227</td>\n",
       "    </tr>\n",
       "    <tr>\n",
       "      <th>41</th>\n",
       "      <td>3.00</td>\n",
       "      <td>round_robin</td>\n",
       "      <td>1.070110</td>\n",
       "      <td>82054</td>\n",
       "      <td>60</td>\n",
       "      <td>1187227</td>\n",
       "    </tr>\n",
       "    <tr>\n",
       "      <th>42</th>\n",
       "      <td>4.00</td>\n",
       "      <td>round_robin</td>\n",
       "      <td>1.064978</td>\n",
       "      <td>83962</td>\n",
       "      <td>60</td>\n",
       "      <td>1187227</td>\n",
       "    </tr>\n",
       "    <tr>\n",
       "      <th>43</th>\n",
       "      <td>5.00</td>\n",
       "      <td>round_robin</td>\n",
       "      <td>1.062443</td>\n",
       "      <td>84782</td>\n",
       "      <td>60</td>\n",
       "      <td>1187227</td>\n",
       "    </tr>\n",
       "    <tr>\n",
       "      <th>44</th>\n",
       "      <td>8.00</td>\n",
       "      <td>round_robin</td>\n",
       "      <td>1.060032</td>\n",
       "      <td>85292</td>\n",
       "      <td>60</td>\n",
       "      <td>1187227</td>\n",
       "    </tr>\n",
       "    <tr>\n",
       "      <th>45</th>\n",
       "      <td>10000.00</td>\n",
       "      <td>round_robin</td>\n",
       "      <td>1.060045</td>\n",
       "      <td>85298</td>\n",
       "      <td>60</td>\n",
       "      <td>1187227</td>\n",
       "    </tr>\n",
       "    <tr>\n",
       "      <th>46</th>\n",
       "      <td>NaN</td>\n",
       "      <td>round_robin</td>\n",
       "      <td>5.210594</td>\n",
       "      <td>0</td>\n",
       "      <td>60</td>\n",
       "      <td>1187227</td>\n",
       "    </tr>\n",
       "    <tr>\n",
       "      <th>47</th>\n",
       "      <td>0.50</td>\n",
       "      <td>batch</td>\n",
       "      <td>1.492968</td>\n",
       "      <td>32892</td>\n",
       "      <td>60</td>\n",
       "      <td>1187227</td>\n",
       "    </tr>\n",
       "    <tr>\n",
       "      <th>48</th>\n",
       "      <td>0.20</td>\n",
       "      <td>batch</td>\n",
       "      <td>2.740427</td>\n",
       "      <td>13014</td>\n",
       "      <td>60</td>\n",
       "      <td>1187227</td>\n",
       "    </tr>\n",
       "    <tr>\n",
       "      <th>49</th>\n",
       "      <td>1.00</td>\n",
       "      <td>batch</td>\n",
       "      <td>1.179027</td>\n",
       "      <td>65797</td>\n",
       "      <td>60</td>\n",
       "      <td>1187227</td>\n",
       "    </tr>\n",
       "    <tr>\n",
       "      <th>50</th>\n",
       "      <td>2.00</td>\n",
       "      <td>batch</td>\n",
       "      <td>1.090374</td>\n",
       "      <td>76253</td>\n",
       "      <td>60</td>\n",
       "      <td>1187227</td>\n",
       "    </tr>\n",
       "  </tbody>\n",
       "</table>\n",
       "</div>"
      ],
      "text/plain": [
       "     updates              policy     error  total_updates  ts_factor   max_ts\n",
       "0       0.50    total_error_cold  1.099176          41928         60  1187227\n",
       "1       0.25    total_error_cold  1.196954          27404         60  1187227\n",
       "2       0.20    total_error_cold  1.236988          24100         60  1187227\n",
       "3       1.00    total_error_cold  1.065432          65797         60  1187227\n",
       "4       2.00    total_error_cold  1.061214          78046         60  1187227\n",
       "5       3.00    total_error_cold  1.060425          82255         60  1187227\n",
       "6       4.00    total_error_cold  1.060294          84023         60  1187227\n",
       "7       5.00    total_error_cold  1.060179          84814         60  1187227\n",
       "8       8.00    total_error_cold  1.060045          85291         60  1187227\n",
       "9       0.50  query_proportional  2.541527          41928         60  1187227\n",
       "10      0.25  query_proportional  2.981890          27404         60  1187227\n",
       "11      0.20  query_proportional  3.138192          24100         60  1187227\n",
       "12      1.00  query_proportional  2.059059          65797         60  1187227\n",
       "13      2.00  query_proportional  1.396096          78139         60  1187227\n",
       "14      3.00  query_proportional  1.201791          82306         60  1187227\n",
       "15      4.00  query_proportional  1.116742          84037         60  1187227\n",
       "16      5.00  query_proportional  1.078929          84815         60  1187227\n",
       "17      8.00  query_proportional  1.060002          85294         60  1187227\n",
       "18      0.50         max_pending  1.410343          41928         60  1187227\n",
       "19      0.25         max_pending  1.760167          27404         60  1187227\n",
       "20      0.20         max_pending  1.927128          24100         60  1187227\n",
       "21      1.00         max_pending  1.198112          65797         60  1187227\n",
       "22      2.00         max_pending  1.092142          78123         60  1187227\n",
       "23      3.00         max_pending  1.068745          82330         60  1187227\n",
       "24      4.00         max_pending  1.062701          84059         60  1187227\n",
       "25      5.00         max_pending  1.060671          84824         60  1187227\n",
       "26      8.00         max_pending  1.060045          85295         60  1187227\n",
       "27      0.50            min_past  1.110945          41928         60  1187227\n",
       "28      0.25            min_past  1.217167          27404         60  1187227\n",
       "29      0.20            min_past  1.254947          24100         60  1187227\n",
       "30      1.00            min_past  1.075783          65797         60  1187227\n",
       "31      2.00            min_past  1.063358          78005         60  1187227\n",
       "32      3.00            min_past  1.060640          82215         60  1187227\n",
       "33      4.00            min_past  1.060262          84016         60  1187227\n",
       "34      5.00            min_past  1.060049          84792         60  1187227\n",
       "35      8.00            min_past  1.060045          85292         60  1187227\n",
       "36      0.50         round_robin  1.477302          41928         60  1187227\n",
       "37      0.25         round_robin  2.248590          27404         60  1187227\n",
       "38      0.20         round_robin  2.608602          24100         60  1187227\n",
       "39      1.00         round_robin  1.188714          65797         60  1187227\n",
       "40      2.00         round_robin  1.089774          77680         60  1187227\n",
       "41      3.00         round_robin  1.070110          82054         60  1187227\n",
       "42      4.00         round_robin  1.064978          83962         60  1187227\n",
       "43      5.00         round_robin  1.062443          84782         60  1187227\n",
       "44      8.00         round_robin  1.060032          85292         60  1187227\n",
       "45  10000.00         round_robin  1.060045          85298         60  1187227\n",
       "46       NaN         round_robin  5.210594              0         60  1187227\n",
       "47      0.50               batch  1.492968          32892         60  1187227\n",
       "48      0.20               batch  2.740427          13014         60  1187227\n",
       "49      1.00               batch  1.179027          65797         60  1187227\n",
       "50      2.00               batch  1.090374          76253         60  1187227"
      ]
     },
     "execution_count": 12,
     "metadata": {},
     "output_type": "execute_result"
    }
   ],
   "source": [
    "results_df[results_df[\"ts_factor\"] == 60]"
   ]
  },
  {
   "cell_type": "code",
   "execution_count": 13,
   "id": "3ff18d72",
   "metadata": {},
   "outputs": [],
   "source": [
    "def plot_factor_total_updates(ts_factor_filter, subset, log=False):\n",
    "\n",
    "    f, ax = plt.subplots(ncols=1, figsize=(8, 5))\n",
    "    plt.tight_layout()\n",
    "    sns.set_theme(style=\"whitegrid\", font_scale=1.7)\n",
    "    #ts_factor_filter = 60\n",
    "\n",
    "    plot_df = results_df[(results_df[\"ts_factor\"] == ts_factor_filter) & (results_df.policy.isin(subset))]\n",
    "    plot_df.policy = plot_df.policy.map({\n",
    "        'total_error_cold': 'Regret Optimized', \n",
    "        'min_past': 'Minumum Past', \n",
    "        'round_robin': \"Round-Robin\", \n",
    "        'max_pending': \"Maximum Pending Updates\", \n",
    "        'last_query': \"Read-Optimized\", \n",
    "        \"query_proportional\": \"Query Proportional\",\n",
    "        \"batch\": \"Batched\"\n",
    "    })\n",
    "    \n",
    "    plot_df = plot_df.dropna()\n",
    "    \n",
    "    if log: \n",
    "        plot_df.error = np.log2(plot_df.error)\n",
    "        \n",
    "    sns.lineplot(x=\"total_updates\", y=\"error\", hue=\"policy\", data=plot_df, ax=ax, linewidth=3)\n",
    "    #ax.set(title=\"Prediction Accuracy per Policy (Recommendation)\", xlabel=\"Total Featurization Updates\",  ylabel=\"MSE\")\n",
    "    \n",
    "    if log: \n",
    "        ax.set(title=\"\", xlabel=\"Total Featurization Updates\",  ylabel=\"Log2 MSE\")\n",
    "    else:\n",
    "        ax.set(title=\"\", xlabel=\"Total Featurization Updates\",  ylabel=\"MSE\")\n",
    "    ax.set(xscale=\"log\")\n",
    "    \n",
    "    upper_bound = baseline_results_df[(baseline_results_df[\"updates\"] == 10000) & (baseline_results_df[\"ts_factor\"] == ts_factor_filter)].error.iloc[0]\n",
    "    upper_bound_updates = baseline_results_df[(baseline_results_df[\"updates\"] == 10000) & (baseline_results_df[\"ts_factor\"] == ts_factor_filter)].total_updates.iloc[0]\n",
    "    lower_bound = baseline_results_df[(baseline_results_df[\"updates\"] == 0) & (baseline_results_df[\"ts_factor\"] == ts_factor_filter)].error.iloc[0]\n",
    "    lower_bound_updates = baseline_results_df[(baseline_results_df[\"updates\"] == 0) & (baseline_results_df[\"ts_factor\"] == ts_factor_filter)].total_updates.iloc[0]\n",
    "    print(upper_bound, upper_bound_updates)\n",
    "    \n",
    "    return plt\n",
    "    \n",
    "    if log: \n",
    "        plt.axline((0, np.log2(upper_bound)), (1, np.log2(upper_bound)), color='black', linestyle=\"--\")\n",
    "    else:\n",
    "        plt.axline((0, upper_bound), (1, upper_bound), color='black', linestyle=\"--\")\n",
    "        \n",
    "    plt.axvline(upper_bound_updates, color='black', linestyle=\"--\")\n",
    "    \n",
    "    #plt.axline((0, lower_bound), (1, lower_bound), color='black', linestyle=\"--\")\n",
    "    #plt.axvline(lower_bound_updates, linewidth=3, color='black', linestyle=\"--\")\n",
    "    #plt.legend(loc='upper right')\n",
    "    \n",
    "    #plt.scatter(upper_bound_updates, upper_bound, marker='o', s=100)\n",
    "    #plt.scatter(lower_bound_updates, lower_bound, marker='o', s=100)\n",
    "    \n",
    "    return plt\n",
    "    \n"
   ]
  },
  {
   "cell_type": "code",
   "execution_count": 14,
   "id": "d880a9c4",
   "metadata": {
    "scrolled": true
   },
   "outputs": [],
   "source": [
    "def plot_factor(ts_factor_filter, subset, updates):\n",
    "\n",
    "    f, ax = plt.subplots(ncols=1, figsize=(8, 5))\n",
    "    plt.tight_layout()\n",
    "    sns.set_theme(style=\"whitegrid\", font_scale=1.7)\n",
    "    #ts_factor_filter = 60\n",
    "\n",
    "    plot_df = results_df[(results_df[\"ts_factor\"] == ts_factor_filter) & (results_df.policy.isin(subset)) & (results_df.updates.isin(updates))]\n",
    "    plot_df.policy = plot_df.policy.map({\n",
    "        'total_error_cold': 'Regret Optimized', \n",
    "        'min_past': 'Minimum Past', \n",
    "        'round_robin': \"Round-Robin\", \n",
    "        'max_pending': \"Maximum Pending Updates\", \n",
    "        'last_query': \"Read-Optimized\", \n",
    "        \"query_proportional\": \"Query Proportional\",\n",
    "        \"batch\": \"Batched\"\n",
    "    })\n",
    "    plot_df = plot_df.dropna()\n",
    "    print(plot_df)\n",
    "    sns.barplot(x=\"updates\", y=\"error\", hue=\"policy\", data=plot_df, log=False, ax=ax)\n",
    "    #ax.set(title=\"Prediction Error per Policy (Recommendation)\", xlabel=\"Budget (Updates per Timestep)\",  ylabel=\"Log MSE\")\n",
    "    \n",
    "    ax.set(title=\"\", xlabel=\"Budget (Updates per Timestep)\",  ylabel=\"Log MSE\")\n",
    "    \n",
    "    upper_bound = baseline_results_df[(baseline_results_df[\"updates\"] == 10000) & (baseline_results_df[\"ts_factor\"] == ts_factor_filter)].error.iloc[0]\n",
    "    lower_bound = baseline_results_df[(baseline_results_df[\"updates\"] == 0) & (baseline_results_df[\"ts_factor\"] == ts_factor_filter)].error.iloc[0]\n",
    "\n",
    "    #plt.axline((0, lower_bound), (1, lower_bound), color='r')\n",
    "    plt.axline((0, upper_bound), (1, upper_bound), linewidth=3, color='g')\n",
    "    \n",
    "    margin = (plot_df.error.max() - upper_bound)/10\n",
    "    plt.ylim([upper_bound - margin, plot_df.error.max() + margin])\n",
    "    \n",
    "    return plt \n",
    "    \n",
    "    "
   ]
  },
  {
   "cell_type": "code",
   "execution_count": 15,
   "id": "76b536d7",
   "metadata": {},
   "outputs": [
    {
     "name": "stderr",
     "output_type": "stream",
     "text": [
      "/tmp/ipykernel_3092022/3053104037.py:9: SettingWithCopyWarning: \n",
      "A value is trying to be set on a copy of a slice from a DataFrame.\n",
      "Try using .loc[row_indexer,col_indexer] = value instead\n",
      "\n",
      "See the caveats in the documentation: https://pandas.pydata.org/pandas-docs/stable/user_guide/indexing.html#returning-a-view-versus-a-copy\n",
      "  plot_df.policy = plot_df.policy.map({\n"
     ]
    },
    {
     "name": "stdout",
     "output_type": "stream",
     "text": [
      "    updates            policy     error  total_updates  ts_factor   max_ts\n",
      "0       0.5  Regret Optimized  1.099176          41928         60  1187227\n",
      "3       1.0  Regret Optimized  1.065432          65797         60  1187227\n",
      "4       2.0  Regret Optimized  1.061214          78046         60  1187227\n",
      "27      0.5      Minimum Past  1.110945          41928         60  1187227\n",
      "30      1.0      Minimum Past  1.075783          65797         60  1187227\n",
      "31      2.0      Minimum Past  1.063358          78005         60  1187227\n"
     ]
    },
    {
     "data": {
      "image/png": "[encoded data removed]",
      "text/plain": [
       "<Figure size 576x360 with 1 Axes>"
      ]
     },
     "metadata": {},
     "output_type": "display_data"
    }
   ],
   "source": [
    "#subset = [\"total_error_cold\", \"min_past\", \"round_robin\", \"max_pending\", \"last_query\", \"query_proportional\", \"batch\"]\n",
    "subset = [\"total_error_cold\", \"min_past\"]\n",
    "\n",
    "plt = plot_factor(60, subset, updates=[0.5, 1, 2])\n",
    "plt.tight_layout()\n",
    "plt.savefig('/data/wooders/ralf-vldb/plots/als_1m_bar_1.pdf') "
   ]
  },
  {
   "cell_type": "code",
   "execution_count": null,
   "id": "e0ca0f33",
   "metadata": {},
   "outputs": [],
   "source": [
    "subset = [\"total_error_cold\", \"min_past\"]\n",
    "\n",
    "plot_factor(60, subset, updates=[1, 2, 3, 4, 6, 8])\n",
    "plt.tight_layout()\n",
    "plt.savefig('/data/wooders/ralf-vldb/plots/als_1m_bar_2.pdf') "
   ]
  },
  {
   "cell_type": "code",
   "execution_count": null,
   "id": "327d790b",
   "metadata": {},
   "outputs": [],
   "source": [
    "subset = [\"total_error_cold\", \"min_past\", \"round_robin\", \"max_pending\", \"last_query\", \"query_proportional\", \"batch\"]\n",
    "\n",
    "plt = plot_factor(60, subset, updates=[0.5, 1, 2, 3, 4, 6, 8])\n",
    "plt.tight_layout()\n",
    "plt.savefig('/data/wooders/ralf-vldb/plots/als_1m_bar_all.pdf') "
   ]
  },
  {
   "cell_type": "code",
   "execution_count": null,
   "id": "8229538d",
   "metadata": {},
   "outputs": [],
   "source": [
    "subset = [\"total_error_cold\", \"min_past\"] #, \"round_robin\", \"max_pending\", \"last_query\", \"query_proportional\", \"batch\"]\n",
    "\n",
    "plt = plot_factor_total_updates(60, subset, log=False)\n",
    "plt.tight_layout()\n",
    "plt.savefig('/data/wooders/ralf-vldb/plots/als_1m_line.pdf') "
   ]
  },
  {
   "cell_type": "code",
   "execution_count": null,
   "id": "2b62e92e",
   "metadata": {},
   "outputs": [],
   "source": [
    "subset = [\"total_error_cold\", \"min_past\", \"round_robin\", \"max_pending\", \"last_query\", \"query_proportional\", \"batch\"]\n",
    "\n",
    "plt = plot_factor_total_updates(60, subset, log=False)\n",
    "plt.tight_layout()\n",
    "plt.savefig('/data/wooders/ralf-vldb/plots/als_1m_line_all.pdf') "
   ]
  },
  {
   "cell_type": "markdown",
   "id": "470f8188",
   "metadata": {},
   "source": [
    "## Plot Rate of Updates vs. Error Improvement "
   ]
  },
  {
   "cell_type": "code",
   "execution_count": null,
   "id": "fe2a5bde",
   "metadata": {},
   "outputs": [],
   "source": [
    "window_size = 1 \n",
    "ts_factor = 60"
   ]
  },
  {
   "cell_type": "code",
   "execution_count": null,
   "id": "77bd7bb1",
   "metadata": {},
   "outputs": [],
   "source": [
    "stream_df[\"adj_timestamp\"] = stream_df[\"timestamp\"].apply(lambda x: int(x/60))\n",
    "start_ts = stream_df.adj_timestamp.min()\n",
    "end_ts = stream_df.adj_timestamp.max()\n",
    "\n",
    "print(start_ts, end_ts)"
   ]
  },
  {
   "cell_type": "code",
   "execution_count": null,
   "id": "e039470b",
   "metadata": {},
   "outputs": [],
   "source": [
    "count_df = stream_df.groupby(\"adj_timestamp\").user_id.nunique().to_frame()"
   ]
  },
  {
   "cell_type": "code",
   "execution_count": null,
   "id": "7a417e7c",
   "metadata": {},
   "outputs": [],
   "source": [
    "count_df = stream_df.groupby(\"adj_timestamp\").user_id.nunique().to_frame()\n",
    "time_df = pd.Series(range(start_ts, end_ts, 1)).to_frame(\"timestamp\").merge(count_df, how=\"left\", left_on=\"timestamp\", right_on=\"adj_timestamp\").fillna(0)\n",
    "user_update_rate_df = time_df.user_id.rolling(window_size).sum()"
   ]
  },
  {
   "cell_type": "code",
   "execution_count": null,
   "id": "6e44c8e7",
   "metadata": {},
   "outputs": [],
   "source": [
    "user_update_rate_df.plot()"
   ]
  },
  {
   "cell_type": "code",
   "execution_count": null,
   "id": "49599ed1",
   "metadata": {},
   "outputs": [],
   "source": [
    "count_df = stream_df.groupby(\"adj_timestamp\").user_id.count().to_frame()\n",
    "time_df = pd.Series(range(start_ts, end_ts, 1)).to_frame(\"timestamp\").merge(count_df, how=\"left\", left_on=\"timestamp\", right_on=\"adj_timestamp\").fillna(0)\n",
    "\n",
    "rating_update_rate_df = pd.DataFrame()\n",
    "rating_update_rate_df[\"n\"] = time_df.user_id.rolling(window_size).sum()\n",
    "rating_update_rate_df[\"timestamp\"] = time_df.timestamp.rolling(window_size).max().fillna(0)"
   ]
  },
  {
   "cell_type": "code",
   "execution_count": null,
   "id": "88bbde08",
   "metadata": {},
   "outputs": [],
   "source": [
    "rating_update_rate_df.n.plot()"
   ]
  },
  {
   "cell_type": "code",
   "execution_count": null,
   "id": "9f7191c5",
   "metadata": {
    "scrolled": true
   },
   "outputs": [],
   "source": [
    "eval_df = df_all[df_all[\"ts_factor\"] == ts_factor]\n",
    "eval_df[\"error_diff\"] = (eval_df[\"y_pred\"] - eval_df[\"y_true\"]).pow(2)\n",
    "eval_df"
   ]
  },
  {
   "cell_type": "code",
   "execution_count": null,
   "id": "07e735ea",
   "metadata": {},
   "outputs": [],
   "source": [
    "eval_df = df_all[df_all[\"ts_factor\"] == ts_factor]\n",
    "eval_df[\"error_diff\"] = (eval_df[\"y_pred\"] - eval_df[\"y_true\"]).pow(2)\n",
    "\n",
    "records = []\n",
    "for (updates, policy, ts), group in tqdm(eval_df.groupby([\"updates\", \"policy\", \"timestamp\"])): \n",
    "    records.append({\n",
    "        \"updates\": updates, \n",
    "        \"policy\": policy, \n",
    "        \"timestamp\": ts, \n",
    "        \"error\": group.error_diff.mean()\n",
    "    })\n",
    "\n",
    "    \n",
    "    \n",
    "print(\"finished group\")\n",
    "ts_error_df = pd.DataFrame(records)\n",
    "print(ts_error_df)"
   ]
  },
  {
   "cell_type": "code",
   "execution_count": null,
   "id": "b2939eca",
   "metadata": {},
   "outputs": [],
   "source": [
    "ts_error_df.to_csv(f\"{result_dir}/error_time_{ts_factor}.csv\")"
   ]
  },
  {
   "cell_type": "code",
   "execution_count": null,
   "id": "2d8c40c6",
   "metadata": {},
   "outputs": [],
   "source": [
    "error_window_df = ts_error_df.reset_index()"
   ]
  },
  {
   "cell_type": "code",
   "execution_count": null,
   "id": "df70088d",
   "metadata": {},
   "outputs": [],
   "source": [
    "min_past_df = error_window_df[error_window_df[\"policy\"] == \"min_past\"].groupby([\"updates\", \"timestamp\"]).error.min().to_frame().reset_index()\n",
    "max_pending_df = error_window_df[error_window_df[\"policy\"] == \"max_pending\"].groupby([\"updates\", \"timestamp\"]).error.min().to_frame().reset_index()\n",
    "optimized_df = error_window_df[error_window_df[\"policy\"] == \"total_error_cold\"].groupby([\"updates\", \"timestamp\"]).error.min().to_frame().reset_index()"
   ]
  },
  {
   "cell_type": "code",
   "execution_count": null,
   "id": "e858c19a",
   "metadata": {},
   "outputs": [],
   "source": [
    "updates = 0.2\n",
    "\n",
    "improvement_min_past = min_past_df[min_past_df[\"updates\"] == updates].error - optimized_df[optimized_df[\"updates\"] == updates].error\n",
    "improvement_max_pending = max_pending_df[max_pending_df[\"updates\"] == updates].error - optimized_df[optimized_df[\"updates\"] == updates].error"
   ]
  },
  {
   "cell_type": "code",
   "execution_count": null,
   "id": "74c828b6",
   "metadata": {},
   "outputs": [],
   "source": [
    "total_counts = []\n",
    "for ts in tqdm(baseline_df[baseline_df[\"updates\"] == updates].timestamp.tolist()):\n",
    "    if ts >= 60: \n",
    "        total_count = time_df[(time_df[\"timestamp\"] > ts - 60) & (time_df[\"timestamp\"] <= ts)].user_id.unique().sum()\n",
    "        total_counts.append(total_count)\n",
    "        \n",
    "    if len(total_counts) >= 100000:\n",
    "        break"
   ]
  },
  {
   "cell_type": "code",
   "execution_count": null,
   "id": "3b1fb844",
   "metadata": {},
   "outputs": [],
   "source": [
    "improvement"
   ]
  },
  {
   "cell_type": "code",
   "execution_count": null,
   "id": "8662f978",
   "metadata": {},
   "outputs": [],
   "source": [
    "min_past_df = pd.DataFrame({\"update_rate\": total_counts, \"improvement\": improvement_min_past.rolling(60).mean().tolist()[58:], \"policy\": \"Minimum Past\"})\n",
    "max_pending_df = pd.DataFrame({\"update_rate\": total_counts, \"improvement\": improvement_max_pending.rolling(60).mean().tolist()[58:], \"policy\": \"Maximum Pending\"})\n",
    "\n",
    "plot_df = pd.concat([min_past_df, max_pending_df])\n",
    "plot_df"
   ]
  },
  {
   "cell_type": "code",
   "execution_count": null,
   "id": "66321a14",
   "metadata": {},
   "outputs": [],
   "source": [
    "plt.tight_layout()\n",
    "\n",
    "g=sns.lmplot(x=\"update_rate\", y=\"improvement\", hue=\"policy\", data=plot_df, order=2, scatter=False, legend=False, height=5, aspect=1.5)\n",
    "\n",
    "g.set(title=\"Improvement (Recommendation)\", xlabel=\"Hourly Unique User Ratings\",  ylabel=\"MSE\")\n",
    "\n",
    "g.despine(left=True)\n",
    "plt.legend(loc='lower center')\n",
    "\n",
    "results_df.to_csv(f\"/data/wooders/ralf-vldb/plots/als_improvements.csv\")\n",
    "plt.savefig('/data/wooders/ralf-vldb/plots/als_1m_improvement_rate.pdf')"
   ]
  },
  {
   "cell_type": "code",
   "execution_count": null,
   "id": "ea193075",
   "metadata": {},
   "outputs": [],
   "source": [
    "plot_df = pd.DataFrame({\"update_rate\": total_counts, \"improvement\": improvement_max_pending.rolling(60).mean().tolist()[58:]})\n",
    "\n",
    "sns.regplot(x=\"update_rate\", y=\"improvement\", data=plot_df, order=2, scatter=False)"
   ]
  },
  {
   "cell_type": "code",
   "execution_count": null,
   "id": "251aafc9",
   "metadata": {},
   "outputs": [],
   "source": [
    "plot_df = pd.DataFrame({\"update_rate\": total_counts, \"improvement\": improvement_min_past.rolling(60).mean().tolist()[58:]})\n",
    "\n",
    "sns.regplot(x=\"update_rate\", y=\"improvement\", data=plot_df, order=2, scatter=False)"
   ]
  },
  {
   "cell_type": "code",
   "execution_count": null,
   "id": "db2b7859",
   "metadata": {},
   "outputs": [],
   "source": [
    "f, ax = plt.subplots(ncols=1, figsize=(5, 5))\n",
    "plt.tight_layout()\n",
    "\n",
    "plot_df = pd.DataFrame({\"update_rate\": total_counts, \"improvement\": improvement_max_pending.rolling(60).mean().tolist()[58:]})\n",
    "\n",
    "sns.regplot(x=\"update_rate\", y=\"improvement\", data=plot_df, order=2, scatter=False, ax=ax, label=\"Max Pending\", x_bins=100)\n",
    "\n",
    "ax.set(title=\"Mean Improvement per Hour\", xlabel=\"Unique Users per Hour\",  ylabel=\"MSE\")\n",
    "ax.legend()\n",
    "plt.savefig('/data/wooders/ralf-vldb/plots/als_1m_improvement_max_pending.pdf')"
   ]
  },
  {
   "cell_type": "code",
   "execution_count": null,
   "id": "716926fa",
   "metadata": {},
   "outputs": [],
   "source": [
    "f, ax = plt.subplots(ncols=1, figsize=(5, 5))\n",
    "plt.tight_layout()\n",
    "\n",
    "plot_df = pd.DataFrame({\"update_rate\": total_counts, \"improvement\": improvement_min_past.rolling(60).mean().tolist()[58:]})\n",
    "\n",
    "sns.regplot(x=\"update_rate\", y=\"improvement\", data=plot_df, order=2, scatter=False, ax=ax, label=\"Max Pending\", x_bins=100)\n",
    "\n",
    "ax.set(title=\"Mean Improvement per Hour\", xlabel=\"Unique Users per Hour\",  ylabel=\"MSE\")\n",
    "ax.legend()\n",
    "plt.savefig('/data/wooders/ralf-vldb/plots/als_1m_improvement_min_past.pdf')"
   ]
  },
  {
   "cell_type": "code",
   "execution_count": null,
   "id": "cf1cf610",
   "metadata": {},
   "outputs": [],
   "source": [
    "f, ax = plt.subplots(ncols=1, figsize=(5, 5))\n",
    "plt.tight_layout()\n",
    "\n",
    "plot_df = pd.DataFrame({\"update_rate\": total_counts, \"improvement\": improvement_min_past.rolling(60).mean().tolist()[58:]})\n",
    "\n",
    "sns.regplot(x=\"update_rate\", y=\"improvement\", data=plot_df, order=6, scatter=False, ax=ax, label=\"Minimum Past\")\n",
    "\n",
    "ax.set(title=\"Mean Improvement per Hour\", xlabel=\"Unique Users per Hour\",  ylabel=\"MSE\")\n",
    "ax.legend()"
   ]
  },
  {
   "cell_type": "code",
   "execution_count": null,
   "id": "82f9d576",
   "metadata": {},
   "outputs": [],
   "source": [
    "plot_df = pd.DataFrame({ \n",
    "    #\"timestamp\": rating_update_rate_df.iloc[:1000].timestamp, \n",
    "    \"update_rate\":  rating_update_rate_df.iloc[:100000].n,\n",
    "    \"improvement\": improvement.iloc[:100000]\n",
    "})\n",
    "plot_df = pd.DataFrame({\n",
    "    \"update_rate\": plot_df.groupby(\"update_rate\").groups.keys(), \n",
    "    \"improvement\": plot_df.groupby(\"update_rate\").improvement.mean()\n",
    "})\n",
    "\n",
    "\n",
    "sns.regplot(x=\"update_rate\", y=\"improvement\", data=plot_df, order=2)"
   ]
  },
  {
   "cell_type": "code",
   "execution_count": null,
   "id": "7d4579f0",
   "metadata": {},
   "outputs": [],
   "source": [
    "sns.scatterplot(x=\"update_rate\", y=\"improvement\", data=plot_df)"
   ]
  },
  {
   "cell_type": "code",
   "execution_count": null,
   "id": "cc8d2c18",
   "metadata": {},
   "outputs": [],
   "source": [
    "plot_df.groupby(\"update_rate\").groups.keys()"
   ]
  },
  {
   "cell_type": "code",
   "execution_count": null,
   "id": "f4afee67",
   "metadata": {},
   "outputs": [],
   "source": [
    "plot_df = pd.DataFrame({ \n",
    "    \"timestamp\": rating_update_rate_df.iloc[window_size:10000+window_size].timestamp, \n",
    "    \"update_rate\":  rating_update_rate_df.iloc[window_size:10000+window_size].n,\n",
    "    \"improvement\": improvement.iloc[0:10000]\n",
    "})\n",
    "\n",
    "sns.regplot(x=\"update_rate\", y=\"improvement\", data=plot_df)"
   ]
  },
  {
   "cell_type": "code",
   "execution_count": null,
   "id": "f3f6ba63",
   "metadata": {},
   "outputs": [],
   "source": [
    "optimized_df[optimized_df[\"updates\"] == 0.2].iloc[:1000].error.mean()"
   ]
  },
  {
   "cell_type": "code",
   "execution_count": null,
   "id": "e46ea6e3",
   "metadata": {},
   "outputs": [],
   "source": [
    "baseline_df[baseline_df[\"updates\"] == 0.2].iloc[:1000].error.mean()"
   ]
  },
  {
   "cell_type": "code",
   "execution_count": null,
   "id": "f7a91e5d",
   "metadata": {},
   "outputs": [],
   "source": [
    "error_window_df[(error_window_df[\"updates\"] == 0.2) & (error_window_df[\"policy\"] == \"total_error_cold\")].error.plot()"
   ]
  },
  {
   "cell_type": "code",
   "execution_count": null,
   "id": "5f7a2764",
   "metadata": {},
   "outputs": [],
   "source": [
    "error_window_df"
   ]
  },
  {
   "cell_type": "code",
   "execution_count": null,
   "id": "beae78d4",
   "metadata": {},
   "outputs": [],
   "source": [
    "error_window_df = eval_df.groupby([\"policy\", \"updates\"]) \\\n",
    "    .apply(lambda x: x.error_diff.rolling(window_size).sum())#lambda x: mean_absolute_error(x.y_pred, x.y_true)*x.y_pred.count() if x.y_pred.count() > 0 else 0)"
   ]
  },
  {
   "cell_type": "code",
   "execution_count": null,
   "id": "f2f5f28e",
   "metadata": {},
   "outputs": [],
   "source": [
    "error_window_df = error_window_df.reset_index()"
   ]
  },
  {
   "cell_type": "code",
   "execution_count": null,
   "id": "dbc152f4",
   "metadata": {},
   "outputs": [],
   "source": [
    "error_window_df"
   ]
  },
  {
   "cell_type": "code",
   "execution_count": null,
   "id": "4a0f8a3b",
   "metadata": {},
   "outputs": [],
   "source": [
    "optimized_window_error = error_window_df[error_window_df[\"policy\"] == \"total_error_cold\"]\n",
    "optimized_window_error"
   ]
  },
  {
   "cell_type": "code",
   "execution_count": null,
   "id": "23fac447",
   "metadata": {},
   "outputs": [],
   "source": [
    "baseline_window_error = error_window_df[error_window_df[\"policy\"] != \"total_error_cold\"].groupby(\"updates\").apply(lambda x: x.iloc[:, 2:].min()).reset_index()\n",
    "baseline_window_error"
   ]
  },
  {
   "cell_type": "code",
   "execution_count": null,
   "id": "41180a94",
   "metadata": {},
   "outputs": [],
   "source": [
    "updates = 0.2\n",
    "\n",
    "baseline = (baseline_window_error[baseline_window_error[\"updates\"] == updates].iloc[0, 1:]).to_list()\n",
    "optimized = (optimized_window_error[optimized_window_error[\"updates\"] == updates].iloc[0, 2:]).to_list()\n",
    "\n",
    "improvement_df = pd.DataFrame({\"baseline\": baseline, \"optimized\": optimized})\n",
    "improvement_df[\"improvement\"] = improvement_df[\"baseline\"] - improvement_df[\"optimized\"]\n",
    "improvement_df"
   ]
  },
  {
   "cell_type": "code",
   "execution_count": null,
   "id": "146f1920",
   "metadata": {},
   "outputs": [],
   "source": [
    "improvement_df.improvement.plot()"
   ]
  },
  {
   "cell_type": "code",
   "execution_count": null,
   "id": "354833e2",
   "metadata": {},
   "outputs": [],
   "source": [
    "eval_df = df_all[df_all[\"ts_factor\"] == ts_factor]\n",
    "error_dfs = []\n",
    "improvement_df = []\n",
    "for t in tqdm(range(start_ts, end_ts, window_size)): \n",
    "    eval_t_df = eval_df[(eval_df[\"timestamp\"] >= t) & (eval_df[\"timestamp\"] < t+window_size)]\n",
    "    \n",
    "    if len(eval_t_df.index) == 0: continue\n",
    "    \n",
    "    group_df = eval_t_df.groupby([\"policy\", \"updates\"])\n",
    "    error_t_df = group_df.apply(lambda x: mean_absolute_error(x.y_pred, x.y_true)*x.y_pred.count() if x.y_pred.count() > 0 else 0)\n",
    "    #error_t_df = group_df.apply(lambda x: mean_absolute_error(x.y_pred, x.y_true) if x.y_pred.count() > 0 else 0)\n",
    "\n",
    "    error_t_df = error_t_df.reset_index(name=\"error\")\n",
    "    error_t_df[\"timestamp_idx\"] = int(t/window_size)\n",
    "    error_dfs.append(error_t_df)\n",
    "    \n",
    "    \n",
    "    impr_df = pd.DataFrame()\n",
    "    impr_df[\"baseline\"] = error_t_df[error_t_df[\"policy\"] != \"total_error_cold\"].groupby(\"updates\").error.min()\n",
    "    impr_df[\"regret_optimized\"] = error_t_df[error_t_df[\"policy\"] == \"total_error_cold\"].groupby(\"updates\").error.min()\n",
    "    impr_df[\"timestamp_hr\"] = int(t/60)\n",
    "    impr_df[\"timestamp\"] = t+60\n",
    "    improvement_df.append(impr_df)\n",
    "    \n",
    "    \n",
    "    \n",
    "\n",
    "error_df = pd.concat(error_dfs)\n",
    "improvement_df = pd.concat(improvement_df)\n",
    "error_df"
   ]
  },
  {
   "cell_type": "code",
   "execution_count": null,
   "id": "16682ef2",
   "metadata": {},
   "outputs": [],
   "source": [
    "u_df = updates_df[(updates_df[\"ts_factor\"] == 60) &(updates_df[\"policy\"] == \"round_robin\")]"
   ]
  },
  {
   "cell_type": "code",
   "execution_count": null,
   "id": "1a56bfa6",
   "metadata": {},
   "outputs": [],
   "source": [
    "ts_factor = 60\n",
    "single_update_df = updates_df[(updates_df[\"ts_factor\"] == 60) &(updates_df[\"policy\"] == \"round_robin\")]\n",
    "single_update_df = single_update_df.groupby(\"time\").runtime.count().reset_index()\n",
    "stream_df[\"adj_timestamp\"] = stream_df[\"timestamp\"].apply(lambda x: int(x/60))\n",
    "all_update_df = pd.DataFrame()\n",
    "all_update_df[\"user_updates\"] = stream_df.groupby(\"adj_timestamp\").user_id.nunique()\n",
    "all_update_df[\"rating_updates\"] = stream_df.groupby(\"adj_timestamp\").user_id.count()\n",
    "print(all_update_df)\n",
    "print(single_update_df)"
   ]
  },
  {
   "cell_type": "code",
   "execution_count": null,
   "id": "9eef980d",
   "metadata": {},
   "outputs": [],
   "source": [
    "update_time_df = all_update_df.merge(single_update_df, how=\"left\", left_on=\"adj_timestamp\", right_on=\"time\")\n",
    "print(update_time_df)\n",
    "update_time_df = update_time_df[[\"time\", \"user_updates\", \"rating_updates\", \"runtime\"]]\n",
    "update_time_df.columns = [\"timestamp\", \"user_updates\", \"rating_updates\", \"updates\"]\n",
    "update_time_df"
   ]
  },
  {
   "cell_type": "code",
   "execution_count": null,
   "id": "c891c208",
   "metadata": {},
   "outputs": [],
   "source": [
    "\n",
    "sns.scatterplot(x='timestamp', y='rating_updates', data=update_time_df[update_time_df[\"timestamp\"] < 10000])\n",
    "sns.scatterplot(x='timestamp', y='user_updates', data=update_time_df[update_time_df[\"timestamp\"] < 10000])"
   ]
  },
  {
   "cell_type": "code",
   "execution_count": null,
   "id": "7e2fc78c",
   "metadata": {},
   "outputs": [],
   "source": [
    "plt.tight_layout()\n",
    "f, ax = plt.subplots(ncols=1, figsize=(10, 5))\n",
    "sns.set_theme(style=\"whitegrid\", font_scale=1.7)\n",
    "\n",
    "sns.regplot(x='timestamp', y='rating_updates', data=update_time_df[update_time_df[\"timestamp\"] < 10000], order=10, label=\"Number Ratings\", x_bins=20, ax=ax)\n",
    "sns.regplot(x='timestamp', y='user_updates', data=update_time_df[update_time_df[\"timestamp\"] < 10000], order=10, label=\"Number Unique Users\", x_bins=100, ax=ax)\n",
    "\n",
    "ax.set(title=\"Incoming Data Rate per Minute (Recommendation)\", xlabel=\"Timestep (minutes)\",  ylabel=\"Count\")\n",
    "ax.legend()"
   ]
  },
  {
   "cell_type": "code",
   "execution_count": null,
   "id": "558d2e4d",
   "metadata": {},
   "outputs": [],
   "source": [
    "plt.tight_layout()\n",
    "f, ax = plt.subplots(ncols=1, figsize=(10, 5))\n",
    "sns.set_theme(style=\"whitegrid\", font_scale=1.7)\n",
    "\n",
    "sns.scatterplot(x='timestamp', y='rating_updates', data=update_time_df[update_time_df[\"timestamp\"] < 10000], label=\"Number Ratings\", ax=ax)\n",
    "sns.scatterplot(x='timestamp', y='user_updates', data=update_time_df[update_time_df[\"timestamp\"] < 10000], label=\"Number Unique Users\", ax=ax)\n",
    "\n",
    "ax.set(title=\"Incoming Data Rate per Minute (Recommendation)\", xlabel=\"Timestep (minutes)\",  ylabel=\"Count\")\n",
    "ax.legend()"
   ]
  },
  {
   "cell_type": "code",
   "execution_count": null,
   "id": "8041d153",
   "metadata": {},
   "outputs": [],
   "source": [
    "df_all"
   ]
  },
  {
   "cell_type": "code",
   "execution_count": null,
   "id": "c721fa4d",
   "metadata": {},
   "outputs": [],
   "source": [
    "df_all"
   ]
  },
  {
   "cell_type": "code",
   "execution_count": null,
   "id": "6f5c8593",
   "metadata": {},
   "outputs": [],
   "source": [
    "eval_df = df_all[df_all[\"ts_factor\"] == 60]\n",
    "error_dfs = []\n",
    "improvement_df = []\n",
    "for t in tqdm(range(0, 10000, 60)): \n",
    "    eval_t_df = eval_df[(eval_df[\"timestamp\"] >= t) & (eval_df[\"timestamp\"] < t+60)]\n",
    "    \n",
    "    if len(eval_t_df.index) == 0: continue\n",
    "    \n",
    "    group_df = eval_t_df.groupby([\"policy\", \"updates\"])\n",
    "    error_t_df = group_df.apply(lambda x: mean_absolute_error(x.y_pred, x.y_true)*x.y_pred.count() if x.y_pred.count() > 0 else 0)\n",
    "    #error_t_df = group_df.apply(lambda x: mean_absolute_error(x.y_pred, x.y_true) if x.y_pred.count() > 0 else 0)\n",
    "\n",
    "    error_t_df = error_t_df.reset_index(name=\"error\")\n",
    "    error_t_df[\"timestamp_hr\"] = t/60\n",
    "    error_dfs.append(error_t_df)\n",
    "    \n",
    "    \n",
    "    impr_df = pd.DataFrame()\n",
    "    impr_df[\"baseline\"] = error_t_df[error_t_df[\"policy\"] != \"total_error_cold\"].groupby(\"updates\").error.min()\n",
    "    impr_df[\"regret_optimized\"] = error_t_df[error_t_df[\"policy\"] == \"total_error_cold\"].groupby(\"updates\").error.min()\n",
    "    impr_df[\"timestamp_hr\"] = int(t/60)\n",
    "    impr_df[\"timestamp\"] = t+60\n",
    "    improvement_df.append(impr_df)\n",
    "    \n",
    "    \n",
    "    \n",
    "\n",
    "error_df = pd.concat(error_dfs)\n",
    "improvement_df = pd.concat(improvement_df)\n",
    "error_df"
   ]
  },
  {
   "cell_type": "code",
   "execution_count": null,
   "id": "13e03b45",
   "metadata": {},
   "outputs": [],
   "source": [
    "improvement_df = improvement_df.reset_index()"
   ]
  },
  {
   "cell_type": "code",
   "execution_count": null,
   "id": "8c6118e0",
   "metadata": {},
   "outputs": [],
   "source": [
    "improvement_df[\"total_error_change\"] = improvement_df[\"baseline\"] - improvement_df[\"regret_optimized\"]"
   ]
  },
  {
   "cell_type": "code",
   "execution_count": null,
   "id": "5d0512bc",
   "metadata": {},
   "outputs": [],
   "source": [
    "plt.tight_layout()\n",
    "sns.set_theme(style=\"whitegrid\", font_scale=1.7)\n",
    "plot_df = improvement_df\n",
    "plot_df[\"total_error_change\"] = improvement_df[\"baseline\"] - improvement_df[\"regret_optimized\"]\n",
    "plot_df[\"Updates per Hour\"] = (plot_df[\"updates\"] * 60).astype(int)\n",
    "ax = sns.lmplot(x=\"timestamp\", y=\"total_error_change\", hue=\"Updates per Hour\", col=\"Updates per Hour\", col_wrap=2, order=10, data=plot_df)\n",
    "ax.set(xlabel=\"Timestep (minutes)\",  ylabel=\"Total Error\", ylim=(-30, 60))\n",
    "\n",
    "ax.fig.subplots_adjust(top=0.9) # adjust the Figure in rp\n",
    "ax.fig.suptitle(\"Hourly Total Error Improvement (Recommendation)\")"
   ]
  },
  {
   "cell_type": "code",
   "execution_count": null,
   "id": "f0e2f81b",
   "metadata": {},
   "outputs": [],
   "source": [
    "df = improvement_df.merge(update_time_df, how=\"left\", on=[\"timestamp\", \"updates\"])"
   ]
  },
  {
   "cell_type": "code",
   "execution_count": null,
   "id": "8ae13a84",
   "metadata": {},
   "outputs": [],
   "source": [
    "df.rating_updates.value_counts()"
   ]
  },
  {
   "cell_type": "code",
   "execution_count": null,
   "id": "e95b7f4d",
   "metadata": {},
   "outputs": [],
   "source": [
    "plt.tight_layout()\n",
    "sns.set_theme(style=\"whitegrid\", font_scale=1.7)\n",
    "ax = sns.regplot(x=\"timestamp\", y=\"total_error_change\", order=10, data=improvement_df)\n",
    "ax.set(title=\"Total Error Improvement per Hour (Recommendation)\", xlabel=\"Timestep (minutes)\",  ylabel=\"Total Error\")"
   ]
  },
  {
   "cell_type": "code",
   "execution_count": null,
   "id": "af906d5f",
   "metadata": {},
   "outputs": [],
   "source": [
    "improvement_df[improvement_df[\"total_error_change\"] < -100]"
   ]
  },
  {
   "cell_type": "code",
   "execution_count": null,
   "id": "b76e1496",
   "metadata": {},
   "outputs": [],
   "source": [
    "sns.scatterplot(x='timestamp', y='ratings', data=update_time_df[update_time_df[\"timestamp\"] < 10000])\n",
    "sns.scatterplot(x='timestamp', y='updates', data=update_time_df[update_time_df[\"timestamp\"] < 10000])"
   ]
  },
  {
   "cell_type": "code",
   "execution_count": null,
   "id": "4a860c44",
   "metadata": {},
   "outputs": [],
   "source": [
    "sns.regplot(x='timestamp', y='ratings', data=update_time_df[update_time_df[\"timestamp\"] < 10000], order=10)"
   ]
  },
  {
   "cell_type": "code",
   "execution_count": null,
   "id": "4f7c66f7",
   "metadata": {},
   "outputs": [],
   "source": [
    "update_time_df[\"timestamp_hr\"] = update_time_df[\"timestamp\"].apply(lambda x: int(x/60))\n",
    "update_agg_df = update_time_df.groupby(\"timestamp_hr\").ratings.sum().reset_index(name=\"user_updates\")\n",
    "print(update_agg_df)\n",
    "sns.lineplot(x='timestamp', y='user_updates', data=update_agg_df[update_agg_df[\"timestamp_hr\"] < 160])"
   ]
  },
  {
   "cell_type": "code",
   "execution_count": null,
   "id": "823d5163",
   "metadata": {},
   "outputs": [],
   "source": [
    "diff_df = error_df[error_df[\"policy\"] != \"total_error_cold\"]\n",
    "diff_df = diff_df.merge(error_df[error_df[\"policy\"] == \"total_error_cold\"], how=\"left\", on=\"timestamp\", suffixes=('', '_baseline')).reset_index()\n",
    "diff_df[\"error_improvement\"] = diff_df[\"error\"] - diff_df[\"error_baseline\"]\n",
    "sns.lineplot(x=\"timestamp\", y=\"error_improvement\", hue=\"policy\", data=diff_df)"
   ]
  },
  {
   "cell_type": "code",
   "execution_count": null,
   "id": "4e524898",
   "metadata": {},
   "outputs": [],
   "source": [
    "#f, ax = plt.subplots(ncols=1, figsize=(10, 5))\n",
    "plt.tight_layout()\n",
    "#sns.set_theme(style=\"whitegrid\", font_scale=1.7)\n",
    "ts_factor_filter = 60\n",
    "\n",
    "subset = [\"total_error_cold\", \"min_past\", \"round_robin\", \"max_pending\"]\n",
    "#subset = [\"total_error_cold\", \"min_past\", \"max_pending\"]\n",
    "\n",
    "diff_df = error_df[error_df[\"policy\"] != \"total_error_cold\"]\n",
    "diff_df = diff_df.merge(error_df[error_df[\"policy\"] == \"total_error_cold\"], how=\"left\", on=\"timestamp_hr\", suffixes=('', '_baseline')).reset_index()\n",
    "diff_df[\"error_improvement\"] = diff_df[\"error\"] - diff_df[\"error_baseline\"]\n",
    "\n",
    "plot_df = diff_df[diff_df.policy.isin(subset)]\n",
    "plot_df.policy = plot_df.policy.map({\n",
    "    'total_error_cold': 'Regret Optimized', \n",
    "    'min_past': 'Minimum Past Updates', \n",
    "    'round_robin': \"Round-Robin\", \n",
    "    'max_pending': \"Maximum Pending Updates\", \n",
    "    'last_query': \"Read-Optimized\", \n",
    "    \"query_proportional\": \"Query Proportional\",\n",
    "    \"batch\": \"Batched\"\n",
    "})\n",
    "#sns.scatterplot(x=\"timestamp_hr\", y=\"error_improvement\", hue=\"policy\", data=plot_df, ax=ax)\n",
    "g = sns.lmplot(x=\"timestamp_hr\", y=\"error_improvement\", hue=\"policy\", aspect=2, data=plot_df, order=10)\n",
    "#g.set(ylim=(-1000, 6000))\n",
    "ax.set(title=\"Total Error Improvement per Hour (Recommendation)\", xlabel=\"Timestep (hours)\",  ylabel=\"Total Squared Error\")"
   ]
  },
  {
   "cell_type": "code",
   "execution_count": null,
   "id": "6671499f",
   "metadata": {},
   "outputs": [],
   "source": [
    "data_df = error_df[(error_df[\"policy\"] == \"total_error_cold\") | (error_df[\"policy\"] == \"min_past\")].reset_index()\n",
    "data_df[\"error\"] = np.log(data_df[\"error\"])\n",
    "sns.lineplot(x=\"timestamp\", y=\"error\", hue=\"policy\", data=data_df)"
   ]
  },
  {
   "cell_type": "code",
   "execution_count": null,
   "id": "35ed92c2",
   "metadata": {},
   "outputs": [],
   "source": [
    "data_df = error_df[(error_df[\"policy\"] == \"total_error_cold\") | (error_df[\"policy\"] == \"query_proportional\")].reset_index()\n",
    "data_df[\"error\"] = np.log(data_df[\"error\"])\n",
    "sns.lineplot(x=\"timestamp\", y=\"error\", hue=\"policy\", data=data_df)"
   ]
  },
  {
   "cell_type": "code",
   "execution_count": null,
   "id": "3020d09d",
   "metadata": {},
   "outputs": [],
   "source": [
    "f, ax = plt.subplots(ncols=2, figsize=(10, 5))\n",
    "plt.tight_layout()\n",
    "sns.set_theme(style=\"whitegrid\", font_scale=1.2)\n",
    "ts_factor = 10 \n",
    "\n",
    "plot_df = results_df[(results_df[\"ts_factor\"] == 10) & (results_df.policy.isin([\"total_error_cold\", \"min_past\", \"round_robin\", \"max_pending\", \"last_query\"]))]\n",
    "plot_df.policy = plot_df.policy.map({\n",
    "    'total_error_cold': 'Regret Optimized', \n",
    "    'min_past': 'Minimum Past Updates', \n",
    "    'round_robin': \"Round-Robin\", \n",
    "    'max_pending': \"Maximum Pending Updates\", \n",
    "    'last_query': \"Read-Optimized\"\n",
    "})\n",
    "plot_df = plot_df.dropna()\n",
    "sns.barplot(x=\"updates\", y=\"error\", hue=\"policy\", data=plot_df, log=True, ax=ax[0])\n",
    "\n",
    "plot_df = plot_df[plot_df.policy.isin(['Minimum Past Updates', 'Regret Optimized'])].reset_index()\n",
    "print(plot_df)\n",
    "sns.barplot(x=\"updates\", y=\"error\", hue=\"policy\", data=plot_df, log=True, ax=ax[1])\n",
    "\n",
    "ax[1].set(title=\"Prediction Accuracy per Policy (Recommendation)\", xlabel=\"Updates per Timestep\",  ylabel=\"Log MSE\")\n",
    "ax[1].set(title=\"Prediction Accuracy per Policy (Recommendation)\", xlabel=\"Updates per Timestep\",  ylabel=\"MSE\")\n",
    "#plt.legend(np.flip(plot_df['policy'].unique()), loc='upper right', title=\"Event Type\")"
   ]
  },
  {
   "cell_type": "code",
   "execution_count": null,
   "id": "f93439a7",
   "metadata": {},
   "outputs": [],
   "source": [
    "ax = sns.barplot(x=\"updates\", y=\"error\", hue=\"policy\", data=results_df[results_df[\"ts_factor\"] == 10], log=True)"
   ]
  },
  {
   "cell_type": "code",
   "execution_count": null,
   "id": "53520f28",
   "metadata": {},
   "outputs": [],
   "source": [
    "updates_df.key.value_counts()"
   ]
  },
  {
   "cell_type": "code",
   "execution_count": null,
   "id": "4d34c309",
   "metadata": {},
   "outputs": [],
   "source": [
    "updates_df[(updates_df[\"time\"] > ts_min) & (updates_df[\"time\"] < ts_max) & (updates_df[\"updates\"] == updates) & (updates_df[\"ts_factor\"] == 10)].key.value_counts()"
   ]
  },
  {
   "cell_type": "code",
   "execution_count": null,
   "id": "4e9fd6a3",
   "metadata": {},
   "outputs": [],
   "source": [
    "df_all[(df_all.index > ts_min) & (df_all.index < ts_max) & (df_all[\"updates\"] == updates) & (df_all[\"ts_factor\"] == 10)].user_id.value_counts()"
   ]
  },
  {
   "cell_type": "code",
   "execution_count": null,
   "id": "a706dc8d",
   "metadata": {},
   "outputs": [],
   "source": [
    "updates_df"
   ]
  },
  {
   "cell_type": "code",
   "execution_count": null,
   "id": "0dd780cc",
   "metadata": {},
   "outputs": [],
   "source": [
    "ts_min = 35000\n",
    "ts_max = 40000\n",
    "updates=1"
   ]
  },
  {
   "cell_type": "code",
   "execution_count": null,
   "id": "867dce83",
   "metadata": {},
   "outputs": [],
   "source": [
    "df_all[(df_all[\"updates\"] == updates) & (df_all[\"ts_factor\"] == 10)].groupby(\"timestamp\").updates.count().plot()\n"
   ]
  },
  {
   "cell_type": "code",
   "execution_count": null,
   "id": "617c929a",
   "metadata": {},
   "outputs": [],
   "source": [
    "hist_df = updates_df[(updates_df[\"time\"] > ts_min) & (updates_df[\"time\"] < ts_max) & (updates_df[\"updates\"] == updates) & (updates_df[\"ts_factor\"] == 10)].groupby(by=[\"key\", \"policy\"]).updates.count().reset_index()\n",
    "hist_df[\"user_id\"] = hist_df[\"key\"]\n",
    "hist_df[\"policy\"] = hist_df.policy.map({\n",
    "    'total_error_cold': 'Accuracy Optimized', \n",
    "    'min_past': 'Minimum Past Updates', \n",
    "    'round_robin': \"Round Robin\", \n",
    "    'max_pending': \"Maximum Pending\"\n",
    "})\n",
    "hist_df = hist_df.dropna()\n",
    "hist_df.user_id.value_counts()\n",
    "\n",
    "samples_df = df_all[(df_all[\"timestamp\"] > ts_min) & (df_all.index < ts_max) & (df_all[\"updates\"] == updates) & (df_all[\"ts_factor\"] == 10)]\\\n",
    "    .groupby(by=[\"user_id\", \"policy\"])\\\n",
    "    .ts_factor.count()\\\n",
    "    .to_frame(name=\"samples\")\\\n",
    "    .reset_index()"
   ]
  },
  {
   "cell_type": "code",
   "execution_count": null,
   "id": "f0726298",
   "metadata": {},
   "outputs": [],
   "source": [
    "# samples_df = df_all[(df_all.index > ts_min) & (df_all.index < ts_max) & (df_all[\"updates\"] == updates) & (df_all[\"ts_factor\"] == 10)].groupby(by=[\"user_id\", \"policy\"]).ts_factor.count().to_frame(name=\"samples\")\n",
    "# ratio_df = pd.DataFrame(samples_df).join(hist_df.set_index([\"user_id\", \"policy\"]), on=[\"user_id\", \"policy\"]).reset_index()\n",
    "# hist_df = updates_df[(updates_df[\"time\"] > ts_min) & (updates_df[\"time\"] < ts_max) & (updates_df[\"updates\"] == updates) & (updates_df[\"ts_factor\"] == 10)].groupby(by=[\"key\", \"policy\"]).updates.count().reset_index()\n",
    "# hist_df[\"user_id\"] = hist_df[\"key\"]\n",
    "# print(ratio_df)\n",
    "# ratio_df[\"policy\"] = ratio_df.policy.map({\n",
    "#     'total_error_cold': 'Accuracy Optimized', \n",
    "#     'min_past': 'Minimum Past Updates', \n",
    "#     'round_robin': \"Round Robin\", \n",
    "#     'max_pending': \"Maximum Pending\"\n",
    "# })\n",
    "# ratio_df = ratio_df.dropna().reset_index()\n",
    "# ratio_df[\"ratio\"] = ratio_df.apply(lambda x: x[\"updates\"]/x[\"samples\"], axis=1)\n",
    "\n",
    "# sns.set_theme(style=\"whitegrid\", font_scale=1.5)\n",
    "# g = sns.histplot(data=ratio_df, x=\"updates\", hue=\"policy\", discrete=False)\n",
    "# g.set(title=\"Distribution of Updates Across Keys\", xlabel=\"Scheduled Updates per Key\",  ylabel=\"Number Keys\")"
   ]
  },
  {
   "cell_type": "code",
   "execution_count": null,
   "id": "a18232aa",
   "metadata": {},
   "outputs": [],
   "source": [
    "heat_df = hist_df.pivot(\"policy\", \"user_id\", \"updates\").sort_values(\"Round Robin\", axis=1, ascending=False).fillna(0)\n",
    "heat_df"
   ]
  },
  {
   "cell_type": "code",
   "execution_count": null,
   "id": "13a07877",
   "metadata": {},
   "outputs": [],
   "source": [
    "heat_df = hist_df.pivot(\"policy\", \"user_id\", \"updates\").sort_values(\"Round Robin\", axis=1, ascending=False).fillna(0)\n",
    "f, ax = plt.subplots(figsize=(10, 5))\n",
    "plt.tight_layout()\n",
    "sns.set_theme(style=\"whitegrid\", font_scale=1.7)\n",
    "\n",
    "sns.heatmap(\n",
    "    heat_df.iloc[:, :20], \n",
    "    annot=True, \n",
    "    cbar=False,  \n",
    "    yticklabels=[\"Regret Optimized\", \"Maximum Pending\", \"Minimum Past\", \"Round Robin\"],\n",
    "    xticklabels=range(1, 21, 1),\n",
    "    square=True,\n",
    "    ax=ax\n",
    ")\n",
    "ax.set_xlabel(f\"Most Updated Users (Timestamps {ts_min}-{ts_max})\")\n",
    "ax.set_ylabel(None)\n",
    "ax.set_title(\"Number of Featurization Updates\")\n",
    "#plt.legend(fontsize='x-large')\n",
    "f.savefig('/data/wooders/ralf-vldb/plots/als_heatmap.pdf', dpi=300, bbox_inches = \"tight\")"
   ]
  },
  {
   "cell_type": "code",
   "execution_count": null,
   "id": "3307a994",
   "metadata": {},
   "outputs": [],
   "source": [
    "heat_df = hist_df.pivot(\"policy\", \"user_id\", \"updates\").sort_values(\"Round Robin\", axis=1, ascending=False).fillna(0)\n",
    "f, ax = plt.subplots(nrows=2, figsize=(20, 10))\n",
    "sns.heatmap(\n",
    "    heat_df.iloc[:, :20], \n",
    "    annot=True, \n",
    "    cbar=False,  \n",
    "    #yticklabels=[\"Regret Optimized\", \"Minimum Past\", \"Round Robin\"],\n",
    "    xticklabels=range(1, 21, 1),\n",
    "    square=True,\n",
    "    ax=ax[0]\n",
    ")\n",
    "ax[0].set_xlabel(\"Most Updated Users\")\n",
    "ax[0].set_ylabel(None)\n",
    "ax[0].set_title(\"Featurization Updates\")\n",
    "\n",
    "users = heat_df.columns[1:21]\n",
    "print(users)\n",
    "samples = [samples_df[samples_df[\"user_id\"] == u].samples.max() for u in users]\n",
    "d = pd.DataFrame({\"User\": range(1, 21, 1), \"Raw Data Updates\": samples})\n",
    "print(d)\n",
    "#d = pd.DataFrame([samples], columns=users, index=[\"Total Data Points\"])\n",
    "sns.barplot(data=d, x=\"User\", y=\"Raw Data Updates\", ax=ax[1])\n",
    "#ax[1].set_ylabel(None)\n",
    "#ax[1].set_title(\"Raw Data Updates Updates\")"
   ]
  },
  {
   "cell_type": "code",
   "execution_count": null,
   "id": "c00afc4a",
   "metadata": {},
   "outputs": [],
   "source": [
    "key_df = updates_df[(updates_df[\"key\"] == 2693) & (updates_df[\"ts_factor\"] == 10) & (updates_df[\"updates\"] == 1)]\n",
    "key_df = key_df.set_index([\"time\", \"policy\"]).reset_index()\n",
    "sns.histplot(key_df, x=\"time\", hue=\"policy\")"
   ]
  },
  {
   "cell_type": "code",
   "execution_count": null,
   "id": "3c4f15e8",
   "metadata": {},
   "outputs": [],
   "source": [
    "for (i, (key, group)) in enumerate(key_df.groupby(\"policy\")):\n",
    "    group = group.time.tolist()\n",
    "    x = group\n",
    "    y = range(1, len(group) + 1, 1)\n",
    "    plt.plot(x, y, label=key)\n",
    "plt.legend()\n",
    "    "
   ]
  },
  {
   "cell_type": "code",
   "execution_count": null,
   "id": "f137b660",
   "metadata": {},
   "outputs": [],
   "source": [
    "samples_df[samples_df[\"user_id\"] == 3437]"
   ]
  },
  {
   "cell_type": "code",
   "execution_count": null,
   "id": "4e385bd7",
   "metadata": {},
   "outputs": [],
   "source": [
    "heat_df = hist_df.pivot(\"policy\", \"user_id\", \"updates\").sort_values(\"Round Robin\", axis=1, ascending=False).fillna(0)\n",
    "f, ax = plt.subplots(nrows=2, figsize=(20, 10))\n",
    "sns.heatmap(\n",
    "    heat_df.iloc[:, :20], \n",
    "    annot=True,\n",
    "    cbar=False,  \n",
    "    #yticklabels=[\"Regret Optimized\", \"Minimum Past\", \"Round Robin\"],\n",
    "    xticklabels=range(1, 21, 1),\n",
    "    square=True,\n",
    "    ax=ax[0]\n",
    ")\n",
    "ax[0].set_xlabel(\"Most Updated Users\")\n",
    "ax[0].set_ylabel(None)\n",
    "ax[0].set_title(\"Featurization Updates\")\n",
    "\n",
    "heat_df = hist_df.pivot(\"policy\", \"user_id\", \"updates\").sort_values(\"Round Robin\", axis=1, ascending=True).fillna(0)\n",
    "sns.heatmap(\n",
    "    heat_df.iloc[:, :20], \n",
    "    annot=True, \n",
    "    cbar=False,  \n",
    "    #yticklabels=[\"Regret Optimized\", \"Minimum Past\", \"Round Robin\"],\n",
    "    xticklabels=range(1, 21, 1),\n",
    "    square=True,\n",
    "    ax=ax[1]\n",
    ")\n",
    "ax[1].set_xlabel(\"Least Updated Users\")\n",
    "ax[1].set_ylabel(None)\n",
    "ax[1].set_title(\"Featurization Updates\")"
   ]
  },
  {
   "cell_type": "code",
   "execution_count": null,
   "id": "bd06d083",
   "metadata": {},
   "outputs": [],
   "source": [
    "users = heat_df.columns[1:21]\n",
    "samples = [ratio_df[ratio_df[\"user_id\"] == u].samples.max() for u in users]\n",
    "d = pd.DataFrame({\"User\": range(1, 21, 1), \"Raw Data Updates\": samples})\n",
    "print(d)\n",
    "#d = pd.DataFrame([samples], columns=users, index=[\"Total Data Points\"])\n",
    "sns.barplot(data=d, x=\"User\", y=\"Raw Data Updates\")"
   ]
  },
  {
   "cell_type": "code",
   "execution_count": null,
   "id": "425aa8b9",
   "metadata": {},
   "outputs": [],
   "source": [
    "#f, ax = plt.subplots(figsize=(20, 2))\n",
    "\n",
    "#fig, axs = plt.subplots(2, figsize=(20, 6))\n",
    "fig, axs = plt.subplots(nrows=3)\n",
    "\n",
    "fig.suptitle('Vertically stacked subplots')\n",
    "\n",
    "heat_df = ratio_df.pivot(\"policy\", \"user_id\", \"ratio\").fillna(0)\n",
    "sns.heatmap(heat_df.iloc[:, :10], ax=axs[0]) #, square=True, annot=True, cbar=False)\n",
    "\n",
    "heat_df = ratio_df.pivot(\"policy\", \"user_id\", \"updates\").sort_values(\"Accuracy Optimized\", axis=1, ascending=False).fillna(0)\n",
    "sns.heatmap(heat_df.iloc[:, :10], ax=axs[1], annot=True)\n",
    "\n",
    "heat_df = ratio_df.pivot(\"policy\", \"user_id\", \"samples\").fillna(0)\n",
    "sns.heatmap(heat_df.iloc[:, :10], ax=axs[2])\n"
   ]
  },
  {
   "cell_type": "code",
   "execution_count": null,
   "id": "b559447b",
   "metadata": {},
   "outputs": [],
   "source": [
    "runtime = 1.0\n",
    "sns.set(rc={'figure.figsize':(10.7,5.27)})\n",
    "hist_df = updates_df[updates_df[\"runtime\"] == runtime].groupby(by=[\"key\", \"policy\"]).size()\n",
    "hist_df = hist_df / samples_df\n",
    "print(hist_df.max())\n",
    "hist_df = hist_df.to_frame(name=\"updates\").reset_index()\n",
    "print(hist_df.policy.value_counts())\n",
    "hist_df[\"policy\"] = hist_df.policy.map({'total_error_cold': 'Accuracy Optimized', 'min_past': 'Minimum Past Updates', 'round_robin': \"Round Robin\"})\n",
    "hist_df = hist_df.dropna()\n",
    "print(hist_df.max())\n",
    "\n",
    "sns.set_theme(style=\"whitegrid\", font_scale=1.5)\n",
    "g = sns.histplot(data=hist_df, x=\"updates\", hue=\"policy\", log_scale=(False, True), discrete=False, bins=30)\n",
    "g.set(title=\"Distribution of Updates Across Keys\", xlabel=\"Scheduled Updates per Key\",  ylabel=\"Number Keys\")"
   ]
  },
  {
   "cell_type": "code",
   "execution_count": null,
   "id": "2135c0fd",
   "metadata": {},
   "outputs": [],
   "source": [
    "updates_df[(updates_df[\"policy\"] == \"total_error\") & (updates_df[\"runtime\"] == 1.00)]"
   ]
  },
  {
   "cell_type": "markdown",
   "id": "bcbc8f23",
   "metadata": {},
   "source": [
    "# Plot Dataset"
   ]
  },
  {
   "cell_type": "code",
   "execution_count": null,
   "id": "fb1c291a",
   "metadata": {},
   "outputs": [],
   "source": [
    "factor = 100"
   ]
  },
  {
   "cell_type": "code",
   "execution_count": null,
   "id": "1877da4f",
   "metadata": {},
   "outputs": [],
   "source": [
    "test_df = pd.read_csv(f'{dataset_dir}/stream.csv')\n",
    "train_df = pd.read_csv(f'{dataset_dir}/train.csv')\n",
    "start_ts = test_df.timestamp.min()\n",
    "past_updates = pickle.load(open(f\"{result_dir}/past_updates.pkl\", \"rb\"))\n",
    "test_df.timestamp = test_df.timestamp.apply(lambda ts: int((ts - start_ts)/factor))"
   ]
  },
  {
   "cell_type": "code",
   "execution_count": null,
   "id": "32460abb",
   "metadata": {},
   "outputs": [],
   "source": [
    "new_user_df = test_df[test_df.user_id.isin(past_updates.keys())]\n",
    "old_user_df = test_df[~test_df.user_id.isin(past_updates.keys())]"
   ]
  },
  {
   "cell_type": "code",
   "execution_count": null,
   "id": "826f07ae",
   "metadata": {},
   "outputs": [],
   "source": [
    "old_user_df.groupby(by=\"timestamp\").user_id.nunique().plot(label=\"old_user\").legend()\n",
    "new_user_df.groupby(by=\"timestamp\").user_id.nunique().plot(label=\"new_user\").legend()"
   ]
  },
  {
   "cell_type": "code",
   "execution_count": null,
   "id": "843e8416",
   "metadata": {},
   "outputs": [],
   "source": [
    "old_user_df.groupby(by=\"timestamp\").rating.count().rolling(1000).mean().plot(label=\"old_user\")\n",
    "new_user_df.groupby(by=\"timestamp\").rating.count().rolling(1000).mean().plot(label=\"new_user\").legend()"
   ]
  },
  {
   "cell_type": "code",
   "execution_count": null,
   "id": "6bc0f36d",
   "metadata": {},
   "outputs": [],
   "source": [
    "test_df.groupby(by=\"timestamp\").count().rolling(window=100).mean().plot()"
   ]
  },
  {
   "cell_type": "code",
   "execution_count": null,
   "id": "a7851e01",
   "metadata": {},
   "outputs": [],
   "source": [
    "train_df.movie_id.value_counts()"
   ]
  },
  {
   "cell_type": "code",
   "execution_count": null,
   "id": "5ce3fc45",
   "metadata": {},
   "outputs": [],
   "source": [
    "test_df.movie_id.value_counts()"
   ]
  },
  {
   "cell_type": "markdown",
   "id": "c094df8f",
   "metadata": {},
   "source": [
    "# Results Over Time "
   ]
  },
  {
   "cell_type": "code",
   "execution_count": null,
   "id": "04a519ca",
   "metadata": {},
   "outputs": [],
   "source": [
    "results[0]"
   ]
  },
  {
   "cell_type": "code",
   "execution_count": null,
   "id": "820d62e8",
   "metadata": {},
   "outputs": [],
   "source": [
    "x0 = 0 #190000#test_df.timestamp.min()\n",
    "x1 = 200000 #test_df.timestamp.max()\n",
    "\n",
    "p = \"min_past\"\n",
    "u = 1\n",
    "t = 100\n",
    "df = df_all[(df_all[\"policy\"] == p) & (df_all[\"ts_factor\"] == t) & (df_all[\"updates\"] == u)]\n",
    "df[\"square_error\"] = df.y_pred - df.y_true\n",
    "df[\"square_error\"] = df[\"square_error\"].apply(lambda x: x*x)\n",
    "print(df.square_error.mean())\n",
    "df[(df[\"timestamp\"] < x1) & (df[\"timestamp\"] > x0)].groupby(by=\"timestamp\").square_error.sum().plot(label=p) #rolling(1000).mean().plot(xlim=(x0, x1), label=p)\n",
    "min_past_df = df\n",
    "\n",
    "p = \"total_error_cold\"\n",
    "df = df_all[(df_all[\"policy\"] == p) & (df_all[\"ts_factor\"] == t) & (df_all[\"updates\"] == u)]\n",
    "df[\"square_error\"] = df.y_pred - df.y_true\n",
    "df[\"square_error\"] = df[\"square_error\"].apply(lambda x: x*x)\n",
    "print(df.square_error.mean())\n",
    "df[(df[\"timestamp\"] < x1) & (df[\"timestamp\"] > x0)].groupby(by=\"timestamp\").square_error.sum().plot(label=p).legend() #rolling(1000).mean().plot(xlim=(x0, x1), label=p)\n",
    "total_error_df = df\n",
    "#p = \"total_error\"\n",
    "#df = df_all[(df_all[\"policy\"] == p) & (df_all[\"ts_factor\"] == t) & (df_all[\"updates\"] == u)]\n",
    "#df[\"square_error\"] = df.y_pred - df.y_true\n",
    "#df[\"square_error\"] = df[\"square_error\"].apply(lambda x: x*x)\n",
    "#df[(df[\"timestamp\"] < x1) & (df[\"timestamp\"] > x0) ].groupby(by=\"timestamp\").square_error.sum().rolling(100).mean().plot(label=p).legend() #rolling(1000).mean().plot(xlim=(x0, x1), label=p)\n",
    "\n",
    "\n",
    "df"
   ]
  },
  {
   "cell_type": "code",
   "execution_count": null,
   "id": "fbe556d1",
   "metadata": {},
   "outputs": [],
   "source": [
    "min_past_df"
   ]
  },
  {
   "cell_type": "code",
   "execution_count": null,
   "id": "de5f54a2",
   "metadata": {},
   "outputs": [],
   "source": [
    "diff_df = pd.concat([total_error_df, min_past_df]).drop_duplicates(keep=False, subset=[\"timestamp\", \"user_id\", \"movie_id\", \"square_error\"])"
   ]
  },
  {
   "cell_type": "code",
   "execution_count": null,
   "id": "58841009",
   "metadata": {},
   "outputs": [],
   "source": [
    "diff_df.groupby(by=[\"user_id\"]).square_error.sum()"
   ]
  },
  {
   "cell_type": "code",
   "execution_count": null,
   "id": "71de530e",
   "metadata": {},
   "outputs": [],
   "source": [
    "update_table = updates_df[(updates_df[\"ts_factor\"] == t) & (updates_df[\"updates\"] == u)]\\\n",
    "                            .groupby(by=[\"key\", \"policy\"])\\\n",
    "                            .time.apply(np.array)\n",
    "                            \n",
    "update_table"
   ]
  },
  {
   "cell_type": "code",
   "execution_count": null,
   "id": "f6da15cf",
   "metadata": {},
   "outputs": [],
   "source": [
    "update_table.loc[1].loc[\"last_query\"]"
   ]
  },
  {
   "cell_type": "code",
   "execution_count": null,
   "id": "57e2209b",
   "metadata": {},
   "outputs": [],
   "source": [
    "df = df_all[(df_all[\"ts_factor\"] == t) & (df_all[\"updates\"] == u)]\n",
    "df[\"square_error\"] = df.y_pred - df.y_true\n",
    "df[\"square_error\"] = df[\"square_error\"].apply(lambda x: x*x)\n",
    "df.square_error.max()"
   ]
  },
  {
   "cell_type": "code",
   "execution_count": null,
   "id": "5672f4f4",
   "metadata": {},
   "outputs": [],
   "source": [
    "df.groupby(by=\"policy\").square_error.mean()"
   ]
  },
  {
   "cell_type": "code",
   "execution_count": null,
   "id": "e1011952",
   "metadata": {},
   "outputs": [],
   "source": [
    "df[~df.user_id.isin(past_updates.keys())].groupby(by=\"policy\").square_error.mean()"
   ]
  },
  {
   "cell_type": "code",
   "execution_count": null,
   "id": "b52e404a",
   "metadata": {},
   "outputs": [],
   "source": [
    "df[df.user_id.isin(past_updates.keys())].groupby(by=\"policy\").square_error.mean()"
   ]
  },
  {
   "cell_type": "code",
   "execution_count": null,
   "id": "afb72165",
   "metadata": {},
   "outputs": [],
   "source": [
    "df.groupby(by=\"user_id\").y_true.count()"
   ]
  },
  {
   "cell_type": "code",
   "execution_count": null,
   "id": "73ee6c28",
   "metadata": {},
   "outputs": [],
   "source": [
    "for user_id, group in df.groupby(by=[\"user_id\"]):\n",
    "    #print(group)\n",
    "    te = group[group[\"policy\"] == \"total_error_cold\"].square_error.sum()\n",
    "    mp = group[group[\"policy\"] == \"min_past\"].square_error.sum()\n",
    "    if te > mp*1.1: \n",
    "        print(user_id, past_updates[user_id], te, mp)\n",
    "        print(\"    total_error\", update_table.loc[user_id].loc[\"total_error_cold\"].mean(), update_table.loc[user_id].loc[\"total_error_cold\"].shape)\n",
    "        print(\"    min_past\", update_table.loc[user_id].loc[\"min_past\"].mean(), update_table.loc[user_id].loc[\"min_past\"].shape)"
   ]
  },
  {
   "cell_type": "code",
   "execution_count": null,
   "id": "8cade46f",
   "metadata": {},
   "outputs": [],
   "source": [
    "for user_id, group in diff_df.groupby(by=[\"user_id\"]):\n",
    "    #print(group)\n",
    "    te = group[group[\"policy\"] == \"total_error_cold\"].square_error.sum()\n",
    "    mp = group[group[\"policy\"] == \"min_past\"].square_error.sum()\n",
    "    if te*1.1 < mp: \n",
    "        print(user_id, past_updates[user_id] if user_id in past_updates else False, te, mp)\n",
    "        print(\"    total_error\", update_table.loc[user_id].loc[\"total_error_cold\"].mean(), update_table.loc[user_id].loc[\"total_error_cold\"].shape)\n",
    "        print(\"    min_past\", update_table.loc[user_id].loc[\"min_past\"].mean(), update_table.loc[user_id].loc[\"min_past\"].shape)"
   ]
  },
  {
   "cell_type": "code",
   "execution_count": null,
   "id": "7f9d8e04",
   "metadata": {},
   "outputs": [],
   "source": [
    "x0 = test_df.timestamp.min()\n",
    "x1 = test_df.timestamp.max()\n",
    "\n",
    "p = \"max_pending\"\n",
    "u = 1\n",
    "t = 100\n",
    "df = pd.read_csv(f\"{result_dir}/{p}_{u}_{t}_results.csv\")\n",
    "df[\"square_error\"] = df.y_pred - df.y_true\n",
    "df[\"square_error\"] = df[\"square_error\"].apply(lambda x: x*x)\n",
    "#df.groupby(by=\"timestamp\").square_error.mean().rolling(1000).mean().plot(xlim=(x0, x1))\n",
    "\n",
    "p = \"total_error_cold\"\n",
    "df = pd.read_csv(f\"{result_dir}/{p}_{u}_{t}_results.csv\")\n",
    "df[\"square_error\"] = df.y_pred - df.y_true\n",
    "df[\"square_error\"] = df[\"square_error\"].apply(lambda x: x*x)\n",
    "df.groupby(by=\"timestamp\").square_error.mean().expanding().sum().plot(xlim=(x0, x1), label=p)\n",
    "\n",
    "\n",
    "p = \"min_past\"\n",
    "df = pd.read_csv(f\"{result_dir}/{p}_{u}_{t}_results.csv\")\n",
    "df[\"square_error\"] = df.y_pred - df.y_true\n",
    "df[\"square_error\"] = df[\"square_error\"].apply(lambda x: x*x)\n",
    "df.groupby(by=\"timestamp\").square_error.mean().expanding().sum().plot(xlim=(x0, x1), label=p).legend()\n",
    "\n",
    "p = \"max_pending\"\n",
    "df = pd.read_csv(f\"{result_dir}/{p}_{u}_{t}_results.csv\")\n",
    "df[\"square_error\"] = df.y_pred - df.y_true\n",
    "df[\"square_error\"] = df[\"square_error\"].apply(lambda x: x*x)\n",
    "df.groupby(by=\"timestamp\").square_error.mean().expanding().sum().plot(xlim=(x0, x1), label=p).legend()\n",
    "\n",
    "p = \"round_robin\"\n",
    "df = pd.read_csv(f\"{result_dir}/{p}_{u}_{t}_results.csv\")\n",
    "df[\"square_error\"] = df.y_pred - df.y_true\n",
    "df[\"square_error\"] = df[\"square_error\"].apply(lambda x: x*x)\n",
    "df.groupby(by=\"timestamp\").square_error.mean().expanding().sum().plot(xlim=(x0, x1), label=p).legend()\n",
    "\n",
    "\n",
    "\n",
    "df"
   ]
  },
  {
   "cell_type": "code",
   "execution_count": null,
   "id": "dfc1bb2e",
   "metadata": {},
   "outputs": [],
   "source": [
    "p = \"min_past\"\n",
    "df = pd.read_csv(f\"{result_dir}/{p}_{u}_{t}_results.csv\")\n",
    "df[df[\"y_pred\"] > 10]"
   ]
  },
  {
   "cell_type": "code",
   "execution_count": null,
   "id": "1f847e1d",
   "metadata": {},
   "outputs": [],
   "source": [
    "x0 = test_df.timestamp.min()\n",
    "x1 = 1000 #100000\n",
    "\n",
    "\n",
    "p = \"min_past\"\n",
    "df = pd.read_csv(f\"{result_dir}/{p}_{u}_{t}_results.csv\")\n",
    "df[\"square_error\"] = df.y_pred - df.y_true\n",
    "df[\"square_error\"] = df[\"square_error\"].apply(lambda x: x*x)\n",
    "df.groupby(by=\"timestamp\").square_error.mean().rolling(1).mean().plot(xlim=(x0, x1), label=p).legend()\n"
   ]
  },
  {
   "cell_type": "code",
   "execution_count": null,
   "id": "9b21b5f4",
   "metadata": {},
   "outputs": [],
   "source": [
    "p = \"total_error_cold\"\n",
    "df = pd.read_csv(f\"{result_dir}/{p}_{u}_{t}_results.csv\")\n",
    "df[\"square_error\"] = df.y_pred - df.y_true\n",
    "df[\"square_error\"] = df[\"square_error\"].apply(lambda x: x*x)\n",
    "df.groupby(by=\"timestamp\").square_error.mean().rolling(1).mean().plot(xlim=(x0, x1), label=p).legend()\n",
    "#df[df[\"square_error\"] > 100]"
   ]
  },
  {
   "cell_type": "code",
   "execution_count": null,
   "id": "7233d2bf",
   "metadata": {},
   "outputs": [],
   "source": [
    "import pickle\n",
    "\n",
    "movie_features = pickle.load(open(f\"{result_dir}/train_movie_features.pkl\", \"rb\"))\n",
    "user_features = pickle.load(open(f\"{result_dir}/train_user_features.pkl\", \"rb\"))\n",
    "past_updates = pickle.load(open(f\"{result_dir}/past_updates.pkl\", \"rb\"))"
   ]
  },
  {
   "cell_type": "code",
   "execution_count": null,
   "id": "ee25e99e",
   "metadata": {},
   "outputs": [],
   "source": [
    "from workloads.recsys.stream_als import  predict_user_movie_rating"
   ]
  },
  {
   "cell_type": "code",
   "execution_count": null,
   "id": "fa85b078",
   "metadata": {},
   "outputs": [],
   "source": [
    "movie_features[481][-1]"
   ]
  },
  {
   "cell_type": "code",
   "execution_count": null,
   "id": "182b78c8",
   "metadata": {},
   "outputs": [],
   "source": [
    "predict_user_movie_rating(user_features[4312], movie_features[481])"
   ]
  },
  {
   "cell_type": "code",
   "execution_count": null,
   "id": "955daf44",
   "metadata": {},
   "outputs": [],
   "source": [
    "train_df[train_df[\"movie_id\"] == 481]"
   ]
  },
  {
   "cell_type": "code",
   "execution_count": null,
   "id": "7a253a32",
   "metadata": {},
   "outputs": [],
   "source": [
    "test_df.groupby(by=\"timestamp\").user_id.nunique().rolling(window=1000).mean().plot()"
   ]
  },
  {
   "cell_type": "code",
   "execution_count": null,
   "id": "84313b07",
   "metadata": {},
   "outputs": [],
   "source": [
    "test_df.groupby(by=\"timestamp\").user_id.nunique().plot(xlim=(x0, x1))"
   ]
  },
  {
   "cell_type": "code",
   "execution_count": null,
   "id": "1aee0d00",
   "metadata": {},
   "outputs": [],
   "source": [
    "test_df.groupby(by=\"timestamp\").user_id.nunique().rolling(window=1000).mean().plot(xlim=(x0, x1))"
   ]
  },
  {
   "cell_type": "code",
   "execution_count": null,
   "id": "6c3f7b87",
   "metadata": {},
   "outputs": [],
   "source": [
    "test_df.groupby(by=\"timestamp\").count().plot(xlim=(x0, x1))#.rolling(window=100).mean().plot()"
   ]
  },
  {
   "cell_type": "code",
   "execution_count": null,
   "id": "54a5db36",
   "metadata": {},
   "outputs": [],
   "source": [
    "test_df.groupby(by=\"timestamp\").count().rolling(window=1).mean().plot(xlim=(x0, x1))"
   ]
  },
  {
   "cell_type": "code",
   "execution_count": null,
   "id": "616483e8",
   "metadata": {},
   "outputs": [],
   "source": []
  }
 ],
 "metadata": {
  "kernelspec": {
   "display_name": "Python 3",
   "language": "python",
   "name": "python3"
  },
  "language_info": {
   "codemirror_mode": {
    "name": "ipython",
    "version": 3
   },
   "file_extension": ".py",
   "mimetype": "text/x-python",
   "name": "python",
   "nbconvert_exporter": "python",
   "pygments_lexer": "ipython3",
   "version": "3.6.13"
  }
 },
 "nbformat": 4,
 "nbformat_minor": 5
}
