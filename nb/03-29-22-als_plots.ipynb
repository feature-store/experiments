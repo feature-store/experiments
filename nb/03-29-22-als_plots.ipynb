{
 "cells": [
  {
   "cell_type": "code",
   "execution_count": null,
   "id": "bedcb268",
   "metadata": {},
   "outputs": [],
   "source": [
    "import pandas as pd\n",
    "from sklearn.metrics import mean_squared_error\n",
    "import matplotlib.pyplot as plt\n",
    "import numpy as np\n",
    "import sys \n",
    "sys.path.insert(1, \"../\")\n",
    "from workloads.util import use_results, use_dataset, read_config, log_dataset\n",
    "\n",
    "import seaborn as sns\n",
    "sns.set_theme(style=\"whitegrid\")"
   ]
  },
  {
   "cell_type": "code",
   "execution_count": null,
   "id": "bb5d482f",
   "metadata": {},
   "outputs": [],
   "source": [
    "experiment = \"ml-1m\"\n",
    "dataset_dir = use_dataset(experiment)\n",
    "result_dir = use_results(experiment, download=False)"
   ]
  },
  {
   "cell_type": "code",
   "execution_count": null,
   "id": "d2913b4b",
   "metadata": {},
   "outputs": [],
   "source": [
    "updates_per_ts = [1, 2, 4]\n",
    "ts_factor = [10, 100] #, 1000]\n",
    "policies = [\"total_error\", \"total_error_cold\", \"max_pending\", \"min_past\", \"round_robin\", \"last_query\"]"
   ]
  },
  {
   "cell_type": "code",
   "execution_count": null,
   "id": "753cb3b1",
   "metadata": {},
   "outputs": [],
   "source": [
    "updates_df = pd.DataFrame()\n",
    "df_all = pd.DataFrame()\n",
    "results = [] \n",
    "\n",
    "for p in policies: \n",
    "    for u in updates_per_ts: \n",
    "        for t in ts_factor: \n",
    "            update_df = pd.read_csv(f\"{result_dir}/{p}_{u}_{t}_updates.csv\")\n",
    "            df = pd.read_csv(f\"{result_dir}/{p}_{u}_{t}_results.csv\")\n",
    "            df[\"policy\"] = p\n",
    "            df[\"updates\"] = u \n",
    "            df[\"ts_factor\"] = t\n",
    "\n",
    "            error = mean_squared_error(df.y_pred, df.y_true)\n",
    "\n",
    "            total_updates = len(update_df.index)\n",
    "            results.append([u , p, error, total_updates, t])\n",
    "            updates_df = pd.concat([updates_df, update_df])\n",
    "            df_all = pd.concat([df_all, df])\n",
    "      \n",
    "results_df = pd.DataFrame(results, columns=[\"updates\", \"policy\", \"error\", \"total_updates\", \"ts_factor\"])\n",
    "results_df"
   ]
  },
  {
   "cell_type": "code",
   "execution_count": null,
   "id": "3020d09d",
   "metadata": {},
   "outputs": [],
   "source": [
    "plot_df = results_df[(results_df[\"ts_factor\"] == 100) & (results_df.policy.isin([\"total_error_cold\", \"min_past\", \"round_robin\", \"max_pending\", \"last_query\"]))]\n",
    "plot_df.policy = plot_df.policy.map({\n",
    "    'total_error_cold': 'Accuracy Optimized', \n",
    "    'min_past': 'Minimum Past Updates', \n",
    "    'round_robin': \"Round-Robin\", \n",
    "    'max_pending': \"Maximum Pending Updates\", \n",
    "    'last_query': \"Read-Optimized\"\n",
    "})\n",
    "plot_df = plot_df[plot_df[\"updates\"] <=4]\n",
    "print(plot_df)\n",
    "#sns.set(rc={'figure.figsize':(10.7,5.27)})\n",
    "sns.set_theme(style=\"whitegrid\", font_scale=1.2)\n",
    "\n",
    "g = sns.barplot(x=\"updates\", y=\"error\", hue=\"policy\", data=plot_df)\n",
    "g.set(title=\"Prediction Accuracy per Policy (Recommendation)\", xlabel=\"Updates per Timestep\",  ylabel=\"MSE\")\n",
    "#plt.legend(np.flip(plot_df['policy'].unique()), loc='upper right', title=\"Event Type\")"
   ]
  },
  {
   "cell_type": "code",
   "execution_count": null,
   "id": "f93439a7",
   "metadata": {},
   "outputs": [],
   "source": [
    "ax = sns.barplot(x=\"updates\", y=\"error\", hue=\"policy\", data=results_df[results_df[\"ts_factor\"] == 10])"
   ]
  },
  {
   "cell_type": "code",
   "execution_count": null,
   "id": "b559447b",
   "metadata": {},
   "outputs": [],
   "source": [
    "runtime = 1.0\n",
    "sns.set(rc={'figure.figsize':(10.7,5.27)})\n",
    "hist_df = updates_df[updates_df[\"runtime\"] == runtime].groupby(by=[\"key\", \"policy\"]).size()\n",
    "hist_df = hist_df.to_frame(name=\"updates\").reset_index()\n",
    "hist_df[\"policy\"] = hist_df.policy.map({'total_error': 'Accuracy Optimized', 'min_past': 'Minimum Past Updates'})\n",
    "\n",
    "sns.set_theme(style=\"whitegrid\", font_scale=1.5)\n",
    "g = sns.histplot(data=hist_df, x=\"updates\", hue=\"policy\", log_scale=(False, True), discrete=True)\n",
    "g.set(title=\"Distribution of Updates Across Keys\", xlabel=\"Scheduled Updates per Key\",  ylabel=\"Number Keys\")"
   ]
  },
  {
   "cell_type": "code",
   "execution_count": null,
   "id": "2135c0fd",
   "metadata": {},
   "outputs": [],
   "source": [
    "updates_df[(updates_df[\"policy\"] == \"total_error\") & (updates_df[\"runtime\"] == 1.00)]"
   ]
  },
  {
   "cell_type": "markdown",
   "id": "31c30365",
   "metadata": {},
   "source": [
    "# Plot Dataset"
   ]
  },
  {
   "cell_type": "code",
   "execution_count": null,
   "id": "432cb608",
   "metadata": {},
   "outputs": [],
   "source": [
    "factor = 100"
   ]
  },
  {
   "cell_type": "code",
   "execution_count": null,
   "id": "86ad8ec1",
   "metadata": {},
   "outputs": [],
   "source": [
    "test_df = pd.read_csv(f'{dataset_dir}/stream.csv')\n",
    "train_df = pd.read_csv(f'{dataset_dir}/train.csv')\n",
    "start_ts = test_df.timestamp.min()\n",
    "test_df.timestamp = test_df.timestamp.apply(lambda ts: int((ts - start_ts)/factor))"
   ]
  },
  {
   "cell_type": "code",
   "execution_count": null,
   "id": "bc5c7b6b",
   "metadata": {},
   "outputs": [],
   "source": [
    "test_df.groupby(by=\"timestamp\").user_id.nunique().plot() #.rolling(window=100).mean().plot()"
   ]
  },
  {
   "cell_type": "code",
   "execution_count": null,
   "id": "1b3aa039",
   "metadata": {},
   "outputs": [],
   "source": [
    "test_df.groupby(by=\"timestamp\").count().plot()#.rolling(window=100).mean().plot()"
   ]
  },
  {
   "cell_type": "code",
   "execution_count": null,
   "id": "db992d7f",
   "metadata": {},
   "outputs": [],
   "source": [
    "train_df.movie_id.value_counts()"
   ]
  },
  {
   "cell_type": "code",
   "execution_count": null,
   "id": "44870c12",
   "metadata": {},
   "outputs": [],
   "source": [
    "test_df.movie_id.value_counts()"
   ]
  },
  {
   "cell_type": "markdown",
   "id": "99777003",
   "metadata": {},
   "source": [
    "# Results Over Time "
   ]
  },
  {
   "cell_type": "code",
   "execution_count": null,
   "id": "f0c7f9e6",
   "metadata": {},
   "outputs": [],
   "source": [
    "results[0]"
   ]
  },
  {
   "cell_type": "code",
   "execution_count": null,
   "id": "c03eaa5e",
   "metadata": {},
   "outputs": [],
   "source": [
    "x0 = test_df.timestamp.min()\n",
    "x1 = test_df.timestamp.max()\n",
    "\n",
    "p = \"max_pending\"\n",
    "u = 1\n",
    "t = 100\n",
    "df = pd.read_csv(f\"{result_dir}/{p}_{u}_{t}_results.csv\")\n",
    "df[\"square_error\"] = df.y_pred - df.y_true\n",
    "df[\"square_error\"] = df[\"square_error\"].apply(lambda x: x*x)\n",
    "#df.groupby(by=\"timestamp\").square_error.mean().rolling(1000).mean().plot(xlim=(x0, x1))\n",
    "\n",
    "p = \"total_error_cold\"\n",
    "df = pd.read_csv(f\"{result_dir}/{p}_{u}_{t}_results.csv\")\n",
    "df[\"square_error\"] = df.y_pred - df.y_true\n",
    "df[\"square_error\"] = df[\"square_error\"].apply(lambda x: x*x)\n",
    "df.groupby(by=\"timestamp\").square_error.mean().expanding().sum().plot(xlim=(x0, x1), label=p)\n",
    "\n",
    "\n",
    "p = \"min_past\"\n",
    "df = pd.read_csv(f\"{result_dir}/{p}_{u}_{t}_results.csv\")\n",
    "df[\"square_error\"] = df.y_pred - df.y_true\n",
    "df[\"square_error\"] = df[\"square_error\"].apply(lambda x: x*x)\n",
    "df.groupby(by=\"timestamp\").square_error.mean().expanding().sum().plot(xlim=(x0, x1), label=p).legend()\n",
    "\n",
    "p = \"max_pending\"\n",
    "df = pd.read_csv(f\"{result_dir}/{p}_{u}_{t}_results.csv\")\n",
    "df[\"square_error\"] = df.y_pred - df.y_true\n",
    "df[\"square_error\"] = df[\"square_error\"].apply(lambda x: x*x)\n",
    "df.groupby(by=\"timestamp\").square_error.mean().expanding().sum().plot(xlim=(x0, x1), label=p).legend()\n",
    "\n",
    "p = \"round_robin\"\n",
    "df = pd.read_csv(f\"{result_dir}/{p}_{u}_{t}_results.csv\")\n",
    "df[\"square_error\"] = df.y_pred - df.y_true\n",
    "df[\"square_error\"] = df[\"square_error\"].apply(lambda x: x*x)\n",
    "df.groupby(by=\"timestamp\").square_error.mean().expanding().sum().plot(xlim=(x0, x1), label=p).legend()\n",
    "\n",
    "\n",
    "\n",
    "df"
   ]
  },
  {
   "cell_type": "code",
   "execution_count": null,
   "id": "e59201ab",
   "metadata": {},
   "outputs": [],
   "source": [
    "p = \"min_past\"\n",
    "df = pd.read_csv(f\"{result_dir}/{p}_{u}_{t}_results.csv\")\n",
    "df[df[\"y_pred\"] > 10]"
   ]
  },
  {
   "cell_type": "code",
   "execution_count": null,
   "id": "39fc347d",
   "metadata": {},
   "outputs": [],
   "source": [
    "x0 = test_df.timestamp.min()\n",
    "x1 = 1000 #100000\n",
    "\n",
    "\n",
    "p = \"min_past\"\n",
    "df = pd.read_csv(f\"{result_dir}/{p}_{u}_{t}_results.csv\")\n",
    "df[\"square_error\"] = df.y_pred - df.y_true\n",
    "df[\"square_error\"] = df[\"square_error\"].apply(lambda x: x*x)\n",
    "df.groupby(by=\"timestamp\").square_error.mean().rolling(1).mean().plot(xlim=(x0, x1), label=p).legend()\n"
   ]
  },
  {
   "cell_type": "code",
   "execution_count": null,
   "id": "1284900b",
   "metadata": {},
   "outputs": [],
   "source": [
    "p = \"total_error_cold\"\n",
    "df = pd.read_csv(f\"{result_dir}/{p}_{u}_{t}_results.csv\")\n",
    "df[\"square_error\"] = df.y_pred - df.y_true\n",
    "df[\"square_error\"] = df[\"square_error\"].apply(lambda x: x*x)\n",
    "df.groupby(by=\"timestamp\").square_error.mean().rolling(1).mean().plot(xlim=(x0, x1), label=p).legend()\n",
    "#df[df[\"square_error\"] > 100]"
   ]
  },
  {
   "cell_type": "code",
   "execution_count": null,
   "id": "2ef30734",
   "metadata": {},
   "outputs": [],
   "source": [
    "import pickle\n",
    "\n",
    "movie_features = pickle.load(open(f\"{result_dir}/train_movie_features.pkl\", \"rb\"))\n",
    "user_features = pickle.load(open(f\"{result_dir}/train_user_features.pkl\", \"rb\"))\n",
    "past_updates = pickle.load(open(f\"{result_dir}/past_updates.pkl\", \"rb\"))"
   ]
  },
  {
   "cell_type": "code",
   "execution_count": null,
   "id": "8ddba3c3",
   "metadata": {},
   "outputs": [],
   "source": [
    "from workloads.recsys.stream_als import  predict_user_movie_rating"
   ]
  },
  {
   "cell_type": "code",
   "execution_count": null,
   "id": "bbc366fc",
   "metadata": {},
   "outputs": [],
   "source": [
    "movie_features[481][-1]"
   ]
  },
  {
   "cell_type": "code",
   "execution_count": null,
   "id": "e39a0143",
   "metadata": {},
   "outputs": [],
   "source": [
    "predict_user_movie_rating(user_features[4312], movie_features[481])"
   ]
  },
  {
   "cell_type": "code",
   "execution_count": null,
   "id": "b2d08f01",
   "metadata": {},
   "outputs": [],
   "source": [
    "train_df[train_df[\"movie_id\"] == 481]"
   ]
  },
  {
   "cell_type": "code",
   "execution_count": null,
   "id": "071d519f",
   "metadata": {},
   "outputs": [],
   "source": [
    "test_df.groupby(by=\"timestamp\").user_id.nunique().rolling(window=1000).mean().plot()"
   ]
  },
  {
   "cell_type": "code",
   "execution_count": null,
   "id": "7f259176",
   "metadata": {},
   "outputs": [],
   "source": [
    "test_df.groupby(by=\"timestamp\").user_id.nunique().plot(xlim=(x0, x1))"
   ]
  },
  {
   "cell_type": "code",
   "execution_count": null,
   "id": "ec1925ea",
   "metadata": {},
   "outputs": [],
   "source": [
    "test_df.groupby(by=\"timestamp\").user_id.nunique().rolling(window=1000).mean().plot(xlim=(x0, x1))"
   ]
  },
  {
   "cell_type": "code",
   "execution_count": null,
   "id": "edf89d30",
   "metadata": {},
   "outputs": [],
   "source": [
    "test_df.groupby(by=\"timestamp\").count().plot(xlim=(x0, x1))#.rolling(window=100).mean().plot()"
   ]
  },
  {
   "cell_type": "code",
   "execution_count": null,
   "id": "442d7d84",
   "metadata": {},
   "outputs": [],
   "source": [
    "test_df.groupby(by=\"timestamp\").count().rolling(window=1).mean().plot(xlim=(x0, x1))"
   ]
  },
  {
   "cell_type": "code",
   "execution_count": null,
   "id": "b2ddefe5",
   "metadata": {},
   "outputs": [],
   "source": []
  }
 ],
 "metadata": {
  "kernelspec": {
   "display_name": "Python 3 (ipykernel)",
   "language": "python",
   "name": "python3"
  },
  "language_info": {
   "codemirror_mode": {
    "name": "ipython",
    "version": 3
   },
   "file_extension": ".py",
   "mimetype": "text/x-python",
   "name": "python",
   "nbconvert_exporter": "python",
   "pygments_lexer": "ipython3",
   "version": "3.9.7"
  }
 },
 "nbformat": 4,
 "nbformat_minor": 5
}
