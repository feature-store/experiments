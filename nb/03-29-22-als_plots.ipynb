{
 "cells": [
  {
   "cell_type": "code",
   "execution_count": 50,
   "id": "bedcb268",
   "metadata": {},
   "outputs": [
    {
     "name": "stdout",
     "output_type": "stream",
     "text": [
      "The autoreload extension is already loaded. To reload it, use:\n",
      "  %reload_ext autoreload\n"
     ]
    }
   ],
   "source": [
    "import pandas as pd\n",
    "from sklearn.metrics import mean_squared_error, mean_absolute_error\n",
    "import matplotlib.pyplot as plt\n",
    "import numpy as np\n",
    "import sys \n",
    "sys.path.insert(1, \"../\")\n",
    "from workloads.util import use_results, use_dataset, read_config, log_dataset, use_plots, log_plots\n",
    "\n",
    "from tqdm import tqdm\n",
    "import os\n",
    "\n",
    "import seaborn as sns\n",
    "sns.set_theme(style=\"whitegrid\")\n",
    "\n",
    "%load_ext autoreload\n",
    "%autoreload 2"
   ]
  },
  {
   "cell_type": "code",
   "execution_count": 51,
   "id": "bb5d482f",
   "metadata": {},
   "outputs": [
    {
     "name": "stdout",
     "output_type": "stream",
     "text": [
      "/data/wooders/ralf-vldb/datasets/ml-1m\n"
     ]
    }
   ],
   "source": [
    "experiment = \"ml-1m\"\n",
    "dataset_dir = use_dataset(experiment)\n",
    "result_dir = use_results(experiment, download=False)"
   ]
  },
  {
   "cell_type": "markdown",
   "id": "d2f045e1",
   "metadata": {},
   "source": [
    "# Runtime Analysis "
   ]
  },
  {
   "cell_type": "code",
   "execution_count": 52,
   "id": "2c086b0d",
   "metadata": {},
   "outputs": [],
   "source": [
    "lines = open(f\"{result_dir}/runtimes.txt\").read().split(\"\\n\")\n",
    "runtimes = pd.DataFrame({\"runtimes\": [float(l) for l in lines[:-1]]})"
   ]
  },
  {
   "cell_type": "code",
   "execution_count": 53,
   "id": "fea16595",
   "metadata": {},
   "outputs": [
    {
     "data": {
      "text/plain": [
       "[Text(0.5, 1.0, 'Featurization Runtime (Recommendation)'),\n",
       " Text(0.5, 0, 'Time (s)')]"
      ]
     },
     "execution_count": 53,
     "metadata": {},
     "output_type": "execute_result"
    },
    {
     "data": {
      "text/plain": [
       "<Figure size 432x288 with 0 Axes>"
      ]
     },
     "metadata": {},
     "output_type": "display_data"
    },
    {
     "data": {
      "image/png": "[encoded data removed]",
      "text/plain": [
       "<Figure size 720x360 with 1 Axes>"
      ]
     },
     "metadata": {},
     "output_type": "display_data"
    }
   ],
   "source": [
    "plt.tight_layout()\n",
    "\n",
    "f, ax = plt.subplots(ncols=1, figsize=(10, 5))\n",
    "   \n",
    "sns.boxplot(x=runtimes[\"runtimes\"])\n",
    "ax.set(title=\"Featurization Runtime (Recommendation)\", xlabel=\"Time (s)\")\n",
    " "
   ]
  },
  {
   "cell_type": "code",
   "execution_count": 54,
   "id": "d5fdcd41",
   "metadata": {},
   "outputs": [
    {
     "data": {
      "text/plain": [
       "1.2106441884733483"
      ]
     },
     "execution_count": 54,
     "metadata": {},
     "output_type": "execute_result"
    }
   ],
   "source": [
    "avg_runtime = runtimes.runtimes.mean()\n",
    "avg_runtime"
   ]
  },
  {
   "cell_type": "code",
   "execution_count": 55,
   "id": "d2913b4b",
   "metadata": {},
   "outputs": [],
   "source": [
    "split = 0.75 \n",
    "#updates_per_ts = [0.5, 0.25, 0.2, 1, 2, 3, 4, 5, 8, 10000, None]\n",
    "updates_per_ts = [0.5, 0.25, 0.2, 1, 2, 3, 4, 5, 8, None, 10000] #, 3, 4, 5, 8]\n",
    "ts_factor = [60] #, 60*60, 60*60*24]\n",
    "policies = [\"random\", \"total_error_cold\", \"query_proportional\", \"max_pending\", \"min_past\", \"round_robin\", \"batch\"] #, \"last_query\"]\n",
    "dist = [\"exponential\", \"gaussian\", None]"
   ]
  },
  {
   "cell_type": "code",
   "execution_count": 57,
   "id": "5dc083f6",
   "metadata": {},
   "outputs": [],
   "source": [
    "limit = 10000"
   ]
  },
  {
   "cell_type": "code",
   "execution_count": 58,
   "id": "51695fbb",
   "metadata": {},
   "outputs": [
    {
     "data": {
      "text/html": [
       "<div>\n",
       "<style scoped>\n",
       "    .dataframe tbody tr th:only-of-type {\n",
       "        vertical-align: middle;\n",
       "    }\n",
       "\n",
       "    .dataframe tbody tr th {\n",
       "        vertical-align: top;\n",
       "    }\n",
       "\n",
       "    .dataframe thead th {\n",
       "        text-align: right;\n",
       "    }\n",
       "</style>\n",
       "<table border=\"1\" class=\"dataframe\">\n",
       "  <thead>\n",
       "    <tr style=\"text-align: right;\">\n",
       "      <th></th>\n",
       "      <th>user_id</th>\n",
       "      <th>movie_id</th>\n",
       "      <th>rating</th>\n",
       "      <th>timestamp</th>\n",
       "    </tr>\n",
       "  </thead>\n",
       "  <tbody>\n",
       "    <tr>\n",
       "      <th>0</th>\n",
       "      <td>1</td>\n",
       "      <td>661</td>\n",
       "      <td>3</td>\n",
       "      <td>3081168</td>\n",
       "    </tr>\n",
       "    <tr>\n",
       "      <th>1</th>\n",
       "      <td>1</td>\n",
       "      <td>914</td>\n",
       "      <td>3</td>\n",
       "      <td>3081027</td>\n",
       "    </tr>\n",
       "    <tr>\n",
       "      <th>2</th>\n",
       "      <td>1</td>\n",
       "      <td>3408</td>\n",
       "      <td>4</td>\n",
       "      <td>3079334</td>\n",
       "    </tr>\n",
       "    <tr>\n",
       "      <th>3</th>\n",
       "      <td>1</td>\n",
       "      <td>2355</td>\n",
       "      <td>5</td>\n",
       "      <td>3603350</td>\n",
       "    </tr>\n",
       "    <tr>\n",
       "      <th>4</th>\n",
       "      <td>1</td>\n",
       "      <td>1197</td>\n",
       "      <td>3</td>\n",
       "      <td>3081327</td>\n",
       "    </tr>\n",
       "    <tr>\n",
       "      <th>...</th>\n",
       "      <td>...</td>\n",
       "      <td>...</td>\n",
       "      <td>...</td>\n",
       "      <td>...</td>\n",
       "    </tr>\n",
       "    <tr>\n",
       "      <th>249907</th>\n",
       "      <td>6040</td>\n",
       "      <td>1333</td>\n",
       "      <td>4</td>\n",
       "      <td>22233199</td>\n",
       "    </tr>\n",
       "    <tr>\n",
       "      <th>249908</th>\n",
       "      <td>6040</td>\n",
       "      <td>3362</td>\n",
       "      <td>4</td>\n",
       "      <td>22232855</td>\n",
       "    </tr>\n",
       "    <tr>\n",
       "      <th>249909</th>\n",
       "      <td>6040</td>\n",
       "      <td>161</td>\n",
       "      <td>3</td>\n",
       "      <td>22233545</td>\n",
       "    </tr>\n",
       "    <tr>\n",
       "      <th>249910</th>\n",
       "      <td>6040</td>\n",
       "      <td>2725</td>\n",
       "      <td>4</td>\n",
       "      <td>22233239</td>\n",
       "    </tr>\n",
       "    <tr>\n",
       "      <th>249911</th>\n",
       "      <td>6040</td>\n",
       "      <td>1784</td>\n",
       "      <td>3</td>\n",
       "      <td>22233523</td>\n",
       "    </tr>\n",
       "  </tbody>\n",
       "</table>\n",
       "<p>249912 rows × 4 columns</p>\n",
       "</div>"
      ],
      "text/plain": [
       "        user_id  movie_id  rating  timestamp\n",
       "0             1       661       3    3081168\n",
       "1             1       914       3    3081027\n",
       "2             1      3408       4    3079334\n",
       "3             1      2355       5    3603350\n",
       "4             1      1197       3    3081327\n",
       "...         ...       ...     ...        ...\n",
       "249907     6040      1333       4   22233199\n",
       "249908     6040      3362       4   22232855\n",
       "249909     6040       161       3   22233545\n",
       "249910     6040      2725       4   22233239\n",
       "249911     6040      1784       3   22233523\n",
       "\n",
       "[249912 rows x 4 columns]"
      ]
     },
     "execution_count": 58,
     "metadata": {},
     "output_type": "execute_result"
    }
   ],
   "source": [
    "stream_df = pd.read_csv(f'{dataset_dir}/stream_{split}.csv')\n",
    "start_ts = stream_df.timestamp.min()\n",
    "stream_df.timestamp = stream_df.timestamp.apply(lambda ts: ts - start_ts)\n",
    "stream_df"
   ]
  },
  {
   "cell_type": "markdown",
   "id": "a7171965",
   "metadata": {},
   "source": [
    "# Collect Baselines "
   ]
  },
  {
   "cell_type": "code",
   "execution_count": 59,
   "id": "d9f15e4a",
   "metadata": {},
   "outputs": [
    {
     "name": "stdout",
     "output_type": "stream",
     "text": [
      "122656\n",
      "122656\n",
      "249912\n",
      "122656\n",
      "122656\n",
      "249912\n"
     ]
    },
    {
     "data": {
      "text/html": [
       "<div>\n",
       "<style scoped>\n",
       "    .dataframe tbody tr th:only-of-type {\n",
       "        vertical-align: middle;\n",
       "    }\n",
       "\n",
       "    .dataframe tbody tr th {\n",
       "        vertical-align: top;\n",
       "    }\n",
       "\n",
       "    .dataframe thead th {\n",
       "        text-align: right;\n",
       "    }\n",
       "</style>\n",
       "<table border=\"1\" class=\"dataframe\">\n",
       "  <thead>\n",
       "    <tr style=\"text-align: right;\">\n",
       "      <th></th>\n",
       "      <th>updates</th>\n",
       "      <th>error</th>\n",
       "      <th>total_updates</th>\n",
       "      <th>ts_factor</th>\n",
       "      <th>max_ts</th>\n",
       "      <th>dist</th>\n",
       "    </tr>\n",
       "  </thead>\n",
       "  <tbody>\n",
       "    <tr>\n",
       "      <th>0</th>\n",
       "      <td>0</td>\n",
       "      <td>4.968573</td>\n",
       "      <td>0</td>\n",
       "      <td>60</td>\n",
       "      <td>2376</td>\n",
       "      <td>exponential</td>\n",
       "    </tr>\n",
       "    <tr>\n",
       "      <th>1</th>\n",
       "      <td>0</td>\n",
       "      <td>4.968573</td>\n",
       "      <td>0</td>\n",
       "      <td>60</td>\n",
       "      <td>2408</td>\n",
       "      <td>gaussian</td>\n",
       "    </tr>\n",
       "    <tr>\n",
       "      <th>2</th>\n",
       "      <td>0</td>\n",
       "      <td>4.966949</td>\n",
       "      <td>0</td>\n",
       "      <td>60</td>\n",
       "      <td>2169</td>\n",
       "      <td>None</td>\n",
       "    </tr>\n",
       "    <tr>\n",
       "      <th>3</th>\n",
       "      <td>10000</td>\n",
       "      <td>1.100133</td>\n",
       "      <td>4101</td>\n",
       "      <td>60</td>\n",
       "      <td>2376</td>\n",
       "      <td>exponential</td>\n",
       "    </tr>\n",
       "    <tr>\n",
       "      <th>4</th>\n",
       "      <td>10000</td>\n",
       "      <td>1.090638</td>\n",
       "      <td>4117</td>\n",
       "      <td>60</td>\n",
       "      <td>2408</td>\n",
       "      <td>gaussian</td>\n",
       "    </tr>\n",
       "    <tr>\n",
       "      <th>5</th>\n",
       "      <td>10000</td>\n",
       "      <td>1.135755</td>\n",
       "      <td>2210</td>\n",
       "      <td>60</td>\n",
       "      <td>2169</td>\n",
       "      <td>None</td>\n",
       "    </tr>\n",
       "  </tbody>\n",
       "</table>\n",
       "</div>"
      ],
      "text/plain": [
       "   updates     error  total_updates  ts_factor  max_ts         dist\n",
       "0        0  4.968573              0         60    2376  exponential\n",
       "1        0  4.968573              0         60    2408     gaussian\n",
       "2        0  4.966949              0         60    2169         None\n",
       "3    10000  1.100133           4101         60    2376  exponential\n",
       "4    10000  1.090638           4117         60    2408     gaussian\n",
       "5    10000  1.135755           2210         60    2169         None"
      ]
     },
     "execution_count": 59,
     "metadata": {},
     "output_type": "execute_result"
    }
   ],
   "source": [
    "results = []\n",
    "\n",
    "for baseline in [None, 10000]:\n",
    "    for t in ts_factor: \n",
    "        for d in dist: \n",
    "            \n",
    "            if d: \n",
    "                update_df = pd.read_csv(f\"{result_dir}/round_robin_{baseline}_{t}_split_{split}_dist_{d}_updates.csv\")\n",
    "                df = pd.read_csv(f\"{result_dir}/round_robin_{baseline}_{t}_split_{split}_dist_{d}_results.csv\")\n",
    "            else: \n",
    "                update_df = pd.read_csv(f\"{result_dir}/round_robin_{baseline}_{t}_split_{split}_updates.csv\")\n",
    "                df = pd.read_csv(f\"{result_dir}/round_robin_{baseline}_{t}_split_{split}_results.csv\")\n",
    "                \n",
    "            print(len(df.index))\n",
    "            df = df.iloc[:limit]\n",
    "\n",
    "            timestamp = df.timestamp.max()\n",
    "            update_df = update_df[update_df[\"time\"] < timestamp]\n",
    "\n",
    "            error = mean_squared_error(df.y_pred, df.y_true)\n",
    "            total_updates = len(update_df.index)\n",
    "\n",
    "            if baseline is None:\n",
    "                results.append([0, error, total_updates, t, df.timestamp.max(), d])\n",
    "            else: \n",
    "                results.append([baseline, error, total_updates, t, df.timestamp.max(), d])\n",
    "        \n",
    "baseline_results_df = pd.DataFrame(results, columns=[\"updates\", \"error\", \"total_updates\", \"ts_factor\", \"max_ts\", \"dist\"])\n",
    "baseline_results_df"
   ]
  },
  {
   "cell_type": "code",
   "execution_count": 60,
   "id": "753cb3b1",
   "metadata": {},
   "outputs": [
    {
     "name": "stdout",
     "output_type": "stream",
     "text": [
      "random 0.5 60 2376 2375\n",
      "1177 10000 1.3405631518897112\n",
      "random 0.5 60 2408 2407\n",
      "1196 10000 1.243398686600159\n"
     ]
    },
    {
     "name": "stderr",
     "output_type": "stream",
     "text": [
      "<ipython-input-60-1788d9335322>:45: SettingWithCopyWarning: \n",
      "A value is trying to be set on a copy of a slice from a DataFrame\n",
      "\n",
      "See the caveats in the documentation: https://pandas.pydata.org/pandas-docs/stable/user_guide/indexing.html#returning-a-view-versus-a-copy\n",
      "  df[\"y_pred\"][df[\"y_pred\"] > 5] = 5\n",
      "<ipython-input-60-1788d9335322>:46: SettingWithCopyWarning: \n",
      "A value is trying to be set on a copy of a slice from a DataFrame\n",
      "\n",
      "See the caveats in the documentation: https://pandas.pydata.org/pandas-docs/stable/user_guide/indexing.html#returning-a-view-versus-a-copy\n",
      "  df[\"y_pred\"][df[\"y_pred\"] < 1] = 1\n",
      "<ipython-input-60-1788d9335322>:45: SettingWithCopyWarning: \n",
      "A value is trying to be set on a copy of a slice from a DataFrame\n",
      "\n",
      "See the caveats in the documentation: https://pandas.pydata.org/pandas-docs/stable/user_guide/indexing.html#returning-a-view-versus-a-copy\n",
      "  df[\"y_pred\"][df[\"y_pred\"] > 5] = 5\n",
      "<ipython-input-60-1788d9335322>:46: SettingWithCopyWarning: \n",
      "A value is trying to be set on a copy of a slice from a DataFrame\n",
      "\n",
      "See the caveats in the documentation: https://pandas.pydata.org/pandas-docs/stable/user_guide/indexing.html#returning-a-view-versus-a-copy\n",
      "  df[\"y_pred\"][df[\"y_pred\"] < 1] = 1\n"
     ]
    },
    {
     "name": "stdout",
     "output_type": "stream",
     "text": [
      "random 0.5 60 2169 2167\n",
      "513 10000 1.7594951498202525\n",
      "random 0.25 60 2376 2375\n",
      "592 10000 1.6973879025623606\n",
      "random 0.25 60 2408 2405\n",
      "600 10000 1.8218737325018113\n"
     ]
    },
    {
     "name": "stderr",
     "output_type": "stream",
     "text": [
      "<ipython-input-60-1788d9335322>:45: SettingWithCopyWarning: \n",
      "A value is trying to be set on a copy of a slice from a DataFrame\n",
      "\n",
      "See the caveats in the documentation: https://pandas.pydata.org/pandas-docs/stable/user_guide/indexing.html#returning-a-view-versus-a-copy\n",
      "  df[\"y_pred\"][df[\"y_pred\"] > 5] = 5\n",
      "<ipython-input-60-1788d9335322>:46: SettingWithCopyWarning: \n",
      "A value is trying to be set on a copy of a slice from a DataFrame\n",
      "\n",
      "See the caveats in the documentation: https://pandas.pydata.org/pandas-docs/stable/user_guide/indexing.html#returning-a-view-versus-a-copy\n",
      "  df[\"y_pred\"][df[\"y_pred\"] < 1] = 1\n",
      "<ipython-input-60-1788d9335322>:45: SettingWithCopyWarning: \n",
      "A value is trying to be set on a copy of a slice from a DataFrame\n",
      "\n",
      "See the caveats in the documentation: https://pandas.pydata.org/pandas-docs/stable/user_guide/indexing.html#returning-a-view-versus-a-copy\n",
      "  df[\"y_pred\"][df[\"y_pred\"] > 5] = 5\n",
      "<ipython-input-60-1788d9335322>:46: SettingWithCopyWarning: \n",
      "A value is trying to be set on a copy of a slice from a DataFrame\n",
      "\n",
      "See the caveats in the documentation: https://pandas.pydata.org/pandas-docs/stable/user_guide/indexing.html#returning-a-view-versus-a-copy\n",
      "  df[\"y_pred\"][df[\"y_pred\"] < 1] = 1\n",
      "<ipython-input-60-1788d9335322>:45: SettingWithCopyWarning: \n",
      "A value is trying to be set on a copy of a slice from a DataFrame\n",
      "\n",
      "See the caveats in the documentation: https://pandas.pydata.org/pandas-docs/stable/user_guide/indexing.html#returning-a-view-versus-a-copy\n",
      "  df[\"y_pred\"][df[\"y_pred\"] > 5] = 5\n",
      "<ipython-input-60-1788d9335322>:46: SettingWithCopyWarning: \n",
      "A value is trying to be set on a copy of a slice from a DataFrame\n",
      "\n",
      "See the caveats in the documentation: https://pandas.pydata.org/pandas-docs/stable/user_guide/indexing.html#returning-a-view-versus-a-copy\n",
      "  df[\"y_pred\"][df[\"y_pred\"] < 1] = 1\n"
     ]
    },
    {
     "name": "stdout",
     "output_type": "stream",
     "text": [
      "random 0.25 60 2169 2165\n",
      "268 10000 2.9582412596038252\n",
      "random 0.2 60 2376 2375\n",
      "475 10000 1.810790113057936\n",
      "random 0.2 60 2408 2406\n",
      "481 10000 1.853530250084438\n"
     ]
    },
    {
     "name": "stderr",
     "output_type": "stream",
     "text": [
      "<ipython-input-60-1788d9335322>:45: SettingWithCopyWarning: \n",
      "A value is trying to be set on a copy of a slice from a DataFrame\n",
      "\n",
      "See the caveats in the documentation: https://pandas.pydata.org/pandas-docs/stable/user_guide/indexing.html#returning-a-view-versus-a-copy\n",
      "  df[\"y_pred\"][df[\"y_pred\"] > 5] = 5\n",
      "<ipython-input-60-1788d9335322>:46: SettingWithCopyWarning: \n",
      "A value is trying to be set on a copy of a slice from a DataFrame\n",
      "\n",
      "See the caveats in the documentation: https://pandas.pydata.org/pandas-docs/stable/user_guide/indexing.html#returning-a-view-versus-a-copy\n",
      "  df[\"y_pred\"][df[\"y_pred\"] < 1] = 1\n",
      "<ipython-input-60-1788d9335322>:45: SettingWithCopyWarning: \n",
      "A value is trying to be set on a copy of a slice from a DataFrame\n",
      "\n",
      "See the caveats in the documentation: https://pandas.pydata.org/pandas-docs/stable/user_guide/indexing.html#returning-a-view-versus-a-copy\n",
      "  df[\"y_pred\"][df[\"y_pred\"] > 5] = 5\n",
      "<ipython-input-60-1788d9335322>:46: SettingWithCopyWarning: \n",
      "A value is trying to be set on a copy of a slice from a DataFrame\n",
      "\n",
      "See the caveats in the documentation: https://pandas.pydata.org/pandas-docs/stable/user_guide/indexing.html#returning-a-view-versus-a-copy\n",
      "  df[\"y_pred\"][df[\"y_pred\"] < 1] = 1\n",
      "<ipython-input-60-1788d9335322>:45: SettingWithCopyWarning: \n",
      "A value is trying to be set on a copy of a slice from a DataFrame\n",
      "\n",
      "See the caveats in the documentation: https://pandas.pydata.org/pandas-docs/stable/user_guide/indexing.html#returning-a-view-versus-a-copy\n",
      "  df[\"y_pred\"][df[\"y_pred\"] > 5] = 5\n",
      "<ipython-input-60-1788d9335322>:46: SettingWithCopyWarning: \n",
      "A value is trying to be set on a copy of a slice from a DataFrame\n",
      "\n",
      "See the caveats in the documentation: https://pandas.pydata.org/pandas-docs/stable/user_guide/indexing.html#returning-a-view-versus-a-copy\n",
      "  df[\"y_pred\"][df[\"y_pred\"] < 1] = 1\n"
     ]
    },
    {
     "name": "stdout",
     "output_type": "stream",
     "text": [
      "random 0.2 60 2169 2165\n",
      "220 10000 3.0817528106276733\n",
      "random 1 60 2376 2375\n",
      "2345 10000 1.1736228600617595\n"
     ]
    },
    {
     "name": "stderr",
     "output_type": "stream",
     "text": [
      "<ipython-input-60-1788d9335322>:45: SettingWithCopyWarning: \n",
      "A value is trying to be set on a copy of a slice from a DataFrame\n",
      "\n",
      "See the caveats in the documentation: https://pandas.pydata.org/pandas-docs/stable/user_guide/indexing.html#returning-a-view-versus-a-copy\n",
      "  df[\"y_pred\"][df[\"y_pred\"] > 5] = 5\n",
      "<ipython-input-60-1788d9335322>:46: SettingWithCopyWarning: \n",
      "A value is trying to be set on a copy of a slice from a DataFrame\n",
      "\n",
      "See the caveats in the documentation: https://pandas.pydata.org/pandas-docs/stable/user_guide/indexing.html#returning-a-view-versus-a-copy\n",
      "  df[\"y_pred\"][df[\"y_pred\"] < 1] = 1\n",
      "<ipython-input-60-1788d9335322>:45: SettingWithCopyWarning: \n",
      "A value is trying to be set on a copy of a slice from a DataFrame\n",
      "\n",
      "See the caveats in the documentation: https://pandas.pydata.org/pandas-docs/stable/user_guide/indexing.html#returning-a-view-versus-a-copy\n",
      "  df[\"y_pred\"][df[\"y_pred\"] > 5] = 5\n",
      "<ipython-input-60-1788d9335322>:46: SettingWithCopyWarning: \n",
      "A value is trying to be set on a copy of a slice from a DataFrame\n",
      "\n",
      "See the caveats in the documentation: https://pandas.pydata.org/pandas-docs/stable/user_guide/indexing.html#returning-a-view-versus-a-copy\n",
      "  df[\"y_pred\"][df[\"y_pred\"] < 1] = 1\n"
     ]
    },
    {
     "name": "stdout",
     "output_type": "stream",
     "text": [
      "random 1 60 2408 2407\n",
      "2369 10000 1.1516707056760678\n",
      "random 1 60 2169 2168\n",
      "987 10000 1.3070511981961626\n"
     ]
    },
    {
     "name": "stderr",
     "output_type": "stream",
     "text": [
      "<ipython-input-60-1788d9335322>:45: SettingWithCopyWarning: \n",
      "A value is trying to be set on a copy of a slice from a DataFrame\n",
      "\n",
      "See the caveats in the documentation: https://pandas.pydata.org/pandas-docs/stable/user_guide/indexing.html#returning-a-view-versus-a-copy\n",
      "  df[\"y_pred\"][df[\"y_pred\"] > 5] = 5\n",
      "<ipython-input-60-1788d9335322>:46: SettingWithCopyWarning: \n",
      "A value is trying to be set on a copy of a slice from a DataFrame\n",
      "\n",
      "See the caveats in the documentation: https://pandas.pydata.org/pandas-docs/stable/user_guide/indexing.html#returning-a-view-versus-a-copy\n",
      "  df[\"y_pred\"][df[\"y_pred\"] < 1] = 1\n",
      "<ipython-input-60-1788d9335322>:45: SettingWithCopyWarning: \n",
      "A value is trying to be set on a copy of a slice from a DataFrame\n",
      "\n",
      "See the caveats in the documentation: https://pandas.pydata.org/pandas-docs/stable/user_guide/indexing.html#returning-a-view-versus-a-copy\n",
      "  df[\"y_pred\"][df[\"y_pred\"] > 5] = 5\n",
      "<ipython-input-60-1788d9335322>:46: SettingWithCopyWarning: \n",
      "A value is trying to be set on a copy of a slice from a DataFrame\n",
      "\n",
      "See the caveats in the documentation: https://pandas.pydata.org/pandas-docs/stable/user_guide/indexing.html#returning-a-view-versus-a-copy\n",
      "  df[\"y_pred\"][df[\"y_pred\"] < 1] = 1\n"
     ]
    },
    {
     "name": "stdout",
     "output_type": "stream",
     "text": [
      "random 2 60 2376 2375\n",
      "3736 10000 1.1084305116052158\n",
      "random 2 60 2408 2407\n",
      "3756 10000 1.1020551379666086\n"
     ]
    },
    {
     "name": "stderr",
     "output_type": "stream",
     "text": [
      "<ipython-input-60-1788d9335322>:45: SettingWithCopyWarning: \n",
      "A value is trying to be set on a copy of a slice from a DataFrame\n",
      "\n",
      "See the caveats in the documentation: https://pandas.pydata.org/pandas-docs/stable/user_guide/indexing.html#returning-a-view-versus-a-copy\n",
      "  df[\"y_pred\"][df[\"y_pred\"] > 5] = 5\n",
      "<ipython-input-60-1788d9335322>:46: SettingWithCopyWarning: \n",
      "A value is trying to be set on a copy of a slice from a DataFrame\n",
      "\n",
      "See the caveats in the documentation: https://pandas.pydata.org/pandas-docs/stable/user_guide/indexing.html#returning-a-view-versus-a-copy\n",
      "  df[\"y_pred\"][df[\"y_pred\"] < 1] = 1\n",
      "<ipython-input-60-1788d9335322>:45: SettingWithCopyWarning: \n",
      "A value is trying to be set on a copy of a slice from a DataFrame\n",
      "\n",
      "See the caveats in the documentation: https://pandas.pydata.org/pandas-docs/stable/user_guide/indexing.html#returning-a-view-versus-a-copy\n",
      "  df[\"y_pred\"][df[\"y_pred\"] > 5] = 5\n",
      "<ipython-input-60-1788d9335322>:46: SettingWithCopyWarning: \n",
      "A value is trying to be set on a copy of a slice from a DataFrame\n",
      "\n",
      "See the caveats in the documentation: https://pandas.pydata.org/pandas-docs/stable/user_guide/indexing.html#returning-a-view-versus-a-copy\n",
      "  df[\"y_pred\"][df[\"y_pred\"] < 1] = 1\n"
     ]
    },
    {
     "name": "stdout",
     "output_type": "stream",
     "text": [
      "random 2 60 2169 2168\n",
      "1651 10000 1.1695571043299526\n",
      "random 3 60 2376 2375\n",
      "4061 10000 1.1010576873075983\n"
     ]
    },
    {
     "name": "stderr",
     "output_type": "stream",
     "text": [
      "<ipython-input-60-1788d9335322>:45: SettingWithCopyWarning: \n",
      "A value is trying to be set on a copy of a slice from a DataFrame\n",
      "\n",
      "See the caveats in the documentation: https://pandas.pydata.org/pandas-docs/stable/user_guide/indexing.html#returning-a-view-versus-a-copy\n",
      "  df[\"y_pred\"][df[\"y_pred\"] > 5] = 5\n",
      "<ipython-input-60-1788d9335322>:46: SettingWithCopyWarning: \n",
      "A value is trying to be set on a copy of a slice from a DataFrame\n",
      "\n",
      "See the caveats in the documentation: https://pandas.pydata.org/pandas-docs/stable/user_guide/indexing.html#returning-a-view-versus-a-copy\n",
      "  df[\"y_pred\"][df[\"y_pred\"] < 1] = 1\n",
      "<ipython-input-60-1788d9335322>:45: SettingWithCopyWarning: \n",
      "A value is trying to be set on a copy of a slice from a DataFrame\n",
      "\n",
      "See the caveats in the documentation: https://pandas.pydata.org/pandas-docs/stable/user_guide/indexing.html#returning-a-view-versus-a-copy\n",
      "  df[\"y_pred\"][df[\"y_pred\"] > 5] = 5\n",
      "<ipython-input-60-1788d9335322>:46: SettingWithCopyWarning: \n",
      "A value is trying to be set on a copy of a slice from a DataFrame\n",
      "\n",
      "See the caveats in the documentation: https://pandas.pydata.org/pandas-docs/stable/user_guide/indexing.html#returning-a-view-versus-a-copy\n",
      "  df[\"y_pred\"][df[\"y_pred\"] < 1] = 1\n"
     ]
    },
    {
     "name": "stdout",
     "output_type": "stream",
     "text": [
      "random 3 60 2408 2407\n",
      "4078 10000 1.0897166945617045\n",
      "random 3 60 2169 2168\n"
     ]
    },
    {
     "name": "stderr",
     "output_type": "stream",
     "text": [
      "<ipython-input-60-1788d9335322>:45: SettingWithCopyWarning: \n",
      "A value is trying to be set on a copy of a slice from a DataFrame\n",
      "\n",
      "See the caveats in the documentation: https://pandas.pydata.org/pandas-docs/stable/user_guide/indexing.html#returning-a-view-versus-a-copy\n",
      "  df[\"y_pred\"][df[\"y_pred\"] > 5] = 5\n",
      "<ipython-input-60-1788d9335322>:46: SettingWithCopyWarning: \n",
      "A value is trying to be set on a copy of a slice from a DataFrame\n",
      "\n",
      "See the caveats in the documentation: https://pandas.pydata.org/pandas-docs/stable/user_guide/indexing.html#returning-a-view-versus-a-copy\n",
      "  df[\"y_pred\"][df[\"y_pred\"] < 1] = 1\n",
      "<ipython-input-60-1788d9335322>:45: SettingWithCopyWarning: \n",
      "A value is trying to be set on a copy of a slice from a DataFrame\n",
      "\n",
      "See the caveats in the documentation: https://pandas.pydata.org/pandas-docs/stable/user_guide/indexing.html#returning-a-view-versus-a-copy\n",
      "  df[\"y_pred\"][df[\"y_pred\"] > 5] = 5\n",
      "<ipython-input-60-1788d9335322>:46: SettingWithCopyWarning: \n",
      "A value is trying to be set on a copy of a slice from a DataFrame\n",
      "\n",
      "See the caveats in the documentation: https://pandas.pydata.org/pandas-docs/stable/user_guide/indexing.html#returning-a-view-versus-a-copy\n",
      "  df[\"y_pred\"][df[\"y_pred\"] < 1] = 1\n",
      "<ipython-input-60-1788d9335322>:45: SettingWithCopyWarning: \n",
      "A value is trying to be set on a copy of a slice from a DataFrame\n",
      "\n",
      "See the caveats in the documentation: https://pandas.pydata.org/pandas-docs/stable/user_guide/indexing.html#returning-a-view-versus-a-copy\n",
      "  df[\"y_pred\"][df[\"y_pred\"] > 5] = 5\n",
      "<ipython-input-60-1788d9335322>:46: SettingWithCopyWarning: \n",
      "A value is trying to be set on a copy of a slice from a DataFrame\n",
      "\n",
      "See the caveats in the documentation: https://pandas.pydata.org/pandas-docs/stable/user_guide/indexing.html#returning-a-view-versus-a-copy\n",
      "  df[\"y_pred\"][df[\"y_pred\"] < 1] = 1\n"
     ]
    },
    {
     "name": "stdout",
     "output_type": "stream",
     "text": [
      "2013 10000 1.158039648384269\n",
      "random 4 60 2376 2375\n",
      "4099 10000 1.1001334293277822\n",
      "random 4 60 2408 2407\n",
      "4116 10000 1.0906382467596036\n",
      "random 4 60 2169 2168\n"
     ]
    },
    {
     "name": "stderr",
     "output_type": "stream",
     "text": [
      "<ipython-input-60-1788d9335322>:45: SettingWithCopyWarning: \n",
      "A value is trying to be set on a copy of a slice from a DataFrame\n",
      "\n",
      "See the caveats in the documentation: https://pandas.pydata.org/pandas-docs/stable/user_guide/indexing.html#returning-a-view-versus-a-copy\n",
      "  df[\"y_pred\"][df[\"y_pred\"] > 5] = 5\n",
      "<ipython-input-60-1788d9335322>:46: SettingWithCopyWarning: \n",
      "A value is trying to be set on a copy of a slice from a DataFrame\n",
      "\n",
      "See the caveats in the documentation: https://pandas.pydata.org/pandas-docs/stable/user_guide/indexing.html#returning-a-view-versus-a-copy\n",
      "  df[\"y_pred\"][df[\"y_pred\"] < 1] = 1\n",
      "<ipython-input-60-1788d9335322>:45: SettingWithCopyWarning: \n",
      "A value is trying to be set on a copy of a slice from a DataFrame\n",
      "\n",
      "See the caveats in the documentation: https://pandas.pydata.org/pandas-docs/stable/user_guide/indexing.html#returning-a-view-versus-a-copy\n",
      "  df[\"y_pred\"][df[\"y_pred\"] > 5] = 5\n",
      "<ipython-input-60-1788d9335322>:46: SettingWithCopyWarning: \n",
      "A value is trying to be set on a copy of a slice from a DataFrame\n",
      "\n",
      "See the caveats in the documentation: https://pandas.pydata.org/pandas-docs/stable/user_guide/indexing.html#returning-a-view-versus-a-copy\n",
      "  df[\"y_pred\"][df[\"y_pred\"] < 1] = 1\n",
      "<ipython-input-60-1788d9335322>:45: SettingWithCopyWarning: \n",
      "A value is trying to be set on a copy of a slice from a DataFrame\n",
      "\n",
      "See the caveats in the documentation: https://pandas.pydata.org/pandas-docs/stable/user_guide/indexing.html#returning-a-view-versus-a-copy\n",
      "  df[\"y_pred\"][df[\"y_pred\"] > 5] = 5\n",
      "<ipython-input-60-1788d9335322>:46: SettingWithCopyWarning: \n",
      "A value is trying to be set on a copy of a slice from a DataFrame\n",
      "\n",
      "See the caveats in the documentation: https://pandas.pydata.org/pandas-docs/stable/user_guide/indexing.html#returning-a-view-versus-a-copy\n",
      "  df[\"y_pred\"][df[\"y_pred\"] < 1] = 1\n"
     ]
    },
    {
     "name": "stdout",
     "output_type": "stream",
     "text": [
      "2161 10000 1.1371276371657755\n",
      "missing /data/wooders/ralf-vldb/results/ml-1m/random_5_60_split_0.75_dist_exponential_updates.csv\n",
      "missing /data/wooders/ralf-vldb/results/ml-1m/random_5_60_split_0.75_dist_gaussian_updates.csv\n",
      "random 5 60 2169 2168\n",
      "2203 10000 1.1359678789995435\n",
      "missing /data/wooders/ralf-vldb/results/ml-1m/random_8_60_split_0.75_dist_exponential_updates.csv\n",
      "missing /data/wooders/ralf-vldb/results/ml-1m/random_8_60_split_0.75_dist_gaussian_updates.csv\n",
      "random 8 60 2169 2168\n",
      "2210 10000 1.1357546377067504\n"
     ]
    },
    {
     "name": "stderr",
     "output_type": "stream",
     "text": [
      "<ipython-input-60-1788d9335322>:45: SettingWithCopyWarning: \n",
      "A value is trying to be set on a copy of a slice from a DataFrame\n",
      "\n",
      "See the caveats in the documentation: https://pandas.pydata.org/pandas-docs/stable/user_guide/indexing.html#returning-a-view-versus-a-copy\n",
      "  df[\"y_pred\"][df[\"y_pred\"] > 5] = 5\n",
      "<ipython-input-60-1788d9335322>:46: SettingWithCopyWarning: \n",
      "A value is trying to be set on a copy of a slice from a DataFrame\n",
      "\n",
      "See the caveats in the documentation: https://pandas.pydata.org/pandas-docs/stable/user_guide/indexing.html#returning-a-view-versus-a-copy\n",
      "  df[\"y_pred\"][df[\"y_pred\"] < 1] = 1\n",
      "<ipython-input-60-1788d9335322>:45: SettingWithCopyWarning: \n",
      "A value is trying to be set on a copy of a slice from a DataFrame\n",
      "\n",
      "See the caveats in the documentation: https://pandas.pydata.org/pandas-docs/stable/user_guide/indexing.html#returning-a-view-versus-a-copy\n",
      "  df[\"y_pred\"][df[\"y_pred\"] > 5] = 5\n",
      "<ipython-input-60-1788d9335322>:46: SettingWithCopyWarning: \n",
      "A value is trying to be set on a copy of a slice from a DataFrame\n",
      "\n",
      "See the caveats in the documentation: https://pandas.pydata.org/pandas-docs/stable/user_guide/indexing.html#returning-a-view-versus-a-copy\n",
      "  df[\"y_pred\"][df[\"y_pred\"] < 1] = 1\n"
     ]
    },
    {
     "name": "stdout",
     "output_type": "stream",
     "text": [
      "random None 60 2376 nan\n",
      "0 10000 4.968573254767408\n",
      "random None 60 2408 nan\n",
      "0 10000 4.968573254767408\n",
      "missing /data/wooders/ralf-vldb/results/ml-1m/random_None_60_split_0.75_updates.csv\n"
     ]
    },
    {
     "name": "stderr",
     "output_type": "stream",
     "text": [
      "<ipython-input-60-1788d9335322>:45: SettingWithCopyWarning: \n",
      "A value is trying to be set on a copy of a slice from a DataFrame\n",
      "\n",
      "See the caveats in the documentation: https://pandas.pydata.org/pandas-docs/stable/user_guide/indexing.html#returning-a-view-versus-a-copy\n",
      "  df[\"y_pred\"][df[\"y_pred\"] > 5] = 5\n",
      "<ipython-input-60-1788d9335322>:46: SettingWithCopyWarning: \n",
      "A value is trying to be set on a copy of a slice from a DataFrame\n",
      "\n",
      "See the caveats in the documentation: https://pandas.pydata.org/pandas-docs/stable/user_guide/indexing.html#returning-a-view-versus-a-copy\n",
      "  df[\"y_pred\"][df[\"y_pred\"] < 1] = 1\n",
      "<ipython-input-60-1788d9335322>:45: SettingWithCopyWarning: \n",
      "A value is trying to be set on a copy of a slice from a DataFrame\n",
      "\n",
      "See the caveats in the documentation: https://pandas.pydata.org/pandas-docs/stable/user_guide/indexing.html#returning-a-view-versus-a-copy\n",
      "  df[\"y_pred\"][df[\"y_pred\"] > 5] = 5\n",
      "<ipython-input-60-1788d9335322>:46: SettingWithCopyWarning: \n",
      "A value is trying to be set on a copy of a slice from a DataFrame\n",
      "\n",
      "See the caveats in the documentation: https://pandas.pydata.org/pandas-docs/stable/user_guide/indexing.html#returning-a-view-versus-a-copy\n",
      "  df[\"y_pred\"][df[\"y_pred\"] < 1] = 1\n"
     ]
    },
    {
     "name": "stdout",
     "output_type": "stream",
     "text": [
      "random 10000 60 2376 2375\n",
      "4101 10000 1.100133457706349\n",
      "random 10000 60 2408 2407\n",
      "4117 10000 1.0906382492812106\n"
     ]
    },
    {
     "name": "stderr",
     "output_type": "stream",
     "text": [
      "<ipython-input-60-1788d9335322>:45: SettingWithCopyWarning: \n",
      "A value is trying to be set on a copy of a slice from a DataFrame\n",
      "\n",
      "See the caveats in the documentation: https://pandas.pydata.org/pandas-docs/stable/user_guide/indexing.html#returning-a-view-versus-a-copy\n",
      "  df[\"y_pred\"][df[\"y_pred\"] > 5] = 5\n",
      "<ipython-input-60-1788d9335322>:46: SettingWithCopyWarning: \n",
      "A value is trying to be set on a copy of a slice from a DataFrame\n",
      "\n",
      "See the caveats in the documentation: https://pandas.pydata.org/pandas-docs/stable/user_guide/indexing.html#returning-a-view-versus-a-copy\n",
      "  df[\"y_pred\"][df[\"y_pred\"] < 1] = 1\n",
      "<ipython-input-60-1788d9335322>:45: SettingWithCopyWarning: \n",
      "A value is trying to be set on a copy of a slice from a DataFrame\n",
      "\n",
      "See the caveats in the documentation: https://pandas.pydata.org/pandas-docs/stable/user_guide/indexing.html#returning-a-view-versus-a-copy\n",
      "  df[\"y_pred\"][df[\"y_pred\"] > 5] = 5\n",
      "<ipython-input-60-1788d9335322>:46: SettingWithCopyWarning: \n",
      "A value is trying to be set on a copy of a slice from a DataFrame\n",
      "\n",
      "See the caveats in the documentation: https://pandas.pydata.org/pandas-docs/stable/user_guide/indexing.html#returning-a-view-versus-a-copy\n",
      "  df[\"y_pred\"][df[\"y_pred\"] < 1] = 1\n"
     ]
    },
    {
     "name": "stdout",
     "output_type": "stream",
     "text": [
      "missing /data/wooders/ralf-vldb/results/ml-1m/random_10000_60_split_0.75_updates.csv\n",
      "total_error_cold 0.5 60 2376 2375\n",
      "1177 10000 1.1356757273332063\n",
      "total_error_cold 0.5 60 2408 2407\n",
      "1196 10000 1.1319298660233421\n"
     ]
    },
    {
     "name": "stderr",
     "output_type": "stream",
     "text": [
      "<ipython-input-60-1788d9335322>:45: SettingWithCopyWarning: \n",
      "A value is trying to be set on a copy of a slice from a DataFrame\n",
      "\n",
      "See the caveats in the documentation: https://pandas.pydata.org/pandas-docs/stable/user_guide/indexing.html#returning-a-view-versus-a-copy\n",
      "  df[\"y_pred\"][df[\"y_pred\"] > 5] = 5\n",
      "<ipython-input-60-1788d9335322>:46: SettingWithCopyWarning: \n",
      "A value is trying to be set on a copy of a slice from a DataFrame\n",
      "\n",
      "See the caveats in the documentation: https://pandas.pydata.org/pandas-docs/stable/user_guide/indexing.html#returning-a-view-versus-a-copy\n",
      "  df[\"y_pred\"][df[\"y_pred\"] < 1] = 1\n"
     ]
    },
    {
     "name": "stdout",
     "output_type": "stream",
     "text": [
      "total_error_cold 0.5 60 2169 2167\n",
      "513 10000 1.2212354699988297\n",
      "total_error_cold 0.25 60 2376 2375\n",
      "592 10000 1.184443844541003\n"
     ]
    },
    {
     "name": "stderr",
     "output_type": "stream",
     "text": [
      "<ipython-input-60-1788d9335322>:45: SettingWithCopyWarning: \n",
      "A value is trying to be set on a copy of a slice from a DataFrame\n",
      "\n",
      "See the caveats in the documentation: https://pandas.pydata.org/pandas-docs/stable/user_guide/indexing.html#returning-a-view-versus-a-copy\n",
      "  df[\"y_pred\"][df[\"y_pred\"] > 5] = 5\n",
      "<ipython-input-60-1788d9335322>:46: SettingWithCopyWarning: \n",
      "A value is trying to be set on a copy of a slice from a DataFrame\n",
      "\n",
      "See the caveats in the documentation: https://pandas.pydata.org/pandas-docs/stable/user_guide/indexing.html#returning-a-view-versus-a-copy\n",
      "  df[\"y_pred\"][df[\"y_pred\"] < 1] = 1\n",
      "<ipython-input-60-1788d9335322>:45: SettingWithCopyWarning: \n",
      "A value is trying to be set on a copy of a slice from a DataFrame\n",
      "\n",
      "See the caveats in the documentation: https://pandas.pydata.org/pandas-docs/stable/user_guide/indexing.html#returning-a-view-versus-a-copy\n",
      "  df[\"y_pred\"][df[\"y_pred\"] > 5] = 5\n",
      "<ipython-input-60-1788d9335322>:46: SettingWithCopyWarning: \n",
      "A value is trying to be set on a copy of a slice from a DataFrame\n",
      "\n",
      "See the caveats in the documentation: https://pandas.pydata.org/pandas-docs/stable/user_guide/indexing.html#returning-a-view-versus-a-copy\n",
      "  df[\"y_pred\"][df[\"y_pred\"] < 1] = 1\n"
     ]
    },
    {
     "name": "stdout",
     "output_type": "stream",
     "text": [
      "total_error_cold 0.25 60 2408 2405\n",
      "600 10000 1.2014395669700033\n"
     ]
    },
    {
     "name": "stderr",
     "output_type": "stream",
     "text": [
      "<ipython-input-60-1788d9335322>:45: SettingWithCopyWarning: \n",
      "A value is trying to be set on a copy of a slice from a DataFrame\n",
      "\n",
      "See the caveats in the documentation: https://pandas.pydata.org/pandas-docs/stable/user_guide/indexing.html#returning-a-view-versus-a-copy\n",
      "  df[\"y_pred\"][df[\"y_pred\"] > 5] = 5\n",
      "<ipython-input-60-1788d9335322>:46: SettingWithCopyWarning: \n",
      "A value is trying to be set on a copy of a slice from a DataFrame\n",
      "\n",
      "See the caveats in the documentation: https://pandas.pydata.org/pandas-docs/stable/user_guide/indexing.html#returning-a-view-versus-a-copy\n",
      "  df[\"y_pred\"][df[\"y_pred\"] < 1] = 1\n"
     ]
    },
    {
     "name": "stdout",
     "output_type": "stream",
     "text": [
      "total_error_cold 0.25 60 2169 2165\n",
      "268 10000 1.3437958755802926\n",
      "total_error_cold 0.2 60 2376 2375\n",
      "475 10000 1.2021232774787283\n"
     ]
    },
    {
     "name": "stderr",
     "output_type": "stream",
     "text": [
      "<ipython-input-60-1788d9335322>:45: SettingWithCopyWarning: \n",
      "A value is trying to be set on a copy of a slice from a DataFrame\n",
      "\n",
      "See the caveats in the documentation: https://pandas.pydata.org/pandas-docs/stable/user_guide/indexing.html#returning-a-view-versus-a-copy\n",
      "  df[\"y_pred\"][df[\"y_pred\"] > 5] = 5\n",
      "<ipython-input-60-1788d9335322>:46: SettingWithCopyWarning: \n",
      "A value is trying to be set on a copy of a slice from a DataFrame\n",
      "\n",
      "See the caveats in the documentation: https://pandas.pydata.org/pandas-docs/stable/user_guide/indexing.html#returning-a-view-versus-a-copy\n",
      "  df[\"y_pred\"][df[\"y_pred\"] < 1] = 1\n",
      "<ipython-input-60-1788d9335322>:45: SettingWithCopyWarning: \n",
      "A value is trying to be set on a copy of a slice from a DataFrame\n",
      "\n",
      "See the caveats in the documentation: https://pandas.pydata.org/pandas-docs/stable/user_guide/indexing.html#returning-a-view-versus-a-copy\n",
      "  df[\"y_pred\"][df[\"y_pred\"] > 5] = 5\n",
      "<ipython-input-60-1788d9335322>:46: SettingWithCopyWarning: \n",
      "A value is trying to be set on a copy of a slice from a DataFrame\n",
      "\n",
      "See the caveats in the documentation: https://pandas.pydata.org/pandas-docs/stable/user_guide/indexing.html#returning-a-view-versus-a-copy\n",
      "  df[\"y_pred\"][df[\"y_pred\"] < 1] = 1\n"
     ]
    },
    {
     "name": "stdout",
     "output_type": "stream",
     "text": [
      "total_error_cold 0.2 60 2408 2406\n",
      "481 10000 1.2352823029386897\n"
     ]
    },
    {
     "name": "stderr",
     "output_type": "stream",
     "text": [
      "<ipython-input-60-1788d9335322>:45: SettingWithCopyWarning: \n",
      "A value is trying to be set on a copy of a slice from a DataFrame\n",
      "\n",
      "See the caveats in the documentation: https://pandas.pydata.org/pandas-docs/stable/user_guide/indexing.html#returning-a-view-versus-a-copy\n",
      "  df[\"y_pred\"][df[\"y_pred\"] > 5] = 5\n",
      "<ipython-input-60-1788d9335322>:46: SettingWithCopyWarning: \n",
      "A value is trying to be set on a copy of a slice from a DataFrame\n",
      "\n",
      "See the caveats in the documentation: https://pandas.pydata.org/pandas-docs/stable/user_guide/indexing.html#returning-a-view-versus-a-copy\n",
      "  df[\"y_pred\"][df[\"y_pred\"] < 1] = 1\n"
     ]
    },
    {
     "name": "stdout",
     "output_type": "stream",
     "text": [
      "total_error_cold 0.2 60 2169 2165\n",
      "220 10000 1.4507793860054188\n",
      "total_error_cold 1 60 2376 2375\n",
      "2345 10000 1.1082891854931847\n"
     ]
    },
    {
     "name": "stderr",
     "output_type": "stream",
     "text": [
      "<ipython-input-60-1788d9335322>:45: SettingWithCopyWarning: \n",
      "A value is trying to be set on a copy of a slice from a DataFrame\n",
      "\n",
      "See the caveats in the documentation: https://pandas.pydata.org/pandas-docs/stable/user_guide/indexing.html#returning-a-view-versus-a-copy\n",
      "  df[\"y_pred\"][df[\"y_pred\"] > 5] = 5\n",
      "<ipython-input-60-1788d9335322>:46: SettingWithCopyWarning: \n",
      "A value is trying to be set on a copy of a slice from a DataFrame\n",
      "\n",
      "See the caveats in the documentation: https://pandas.pydata.org/pandas-docs/stable/user_guide/indexing.html#returning-a-view-versus-a-copy\n",
      "  df[\"y_pred\"][df[\"y_pred\"] < 1] = 1\n",
      "<ipython-input-60-1788d9335322>:45: SettingWithCopyWarning: \n",
      "A value is trying to be set on a copy of a slice from a DataFrame\n",
      "\n",
      "See the caveats in the documentation: https://pandas.pydata.org/pandas-docs/stable/user_guide/indexing.html#returning-a-view-versus-a-copy\n",
      "  df[\"y_pred\"][df[\"y_pred\"] > 5] = 5\n",
      "<ipython-input-60-1788d9335322>:46: SettingWithCopyWarning: \n",
      "A value is trying to be set on a copy of a slice from a DataFrame\n",
      "\n",
      "See the caveats in the documentation: https://pandas.pydata.org/pandas-docs/stable/user_guide/indexing.html#returning-a-view-versus-a-copy\n",
      "  df[\"y_pred\"][df[\"y_pred\"] < 1] = 1\n"
     ]
    },
    {
     "name": "stdout",
     "output_type": "stream",
     "text": [
      "total_error_cold 1 60 2408 2407\n",
      "2369 10000 1.0992899477110651\n"
     ]
    },
    {
     "name": "stderr",
     "output_type": "stream",
     "text": [
      "<ipython-input-60-1788d9335322>:45: SettingWithCopyWarning: \n",
      "A value is trying to be set on a copy of a slice from a DataFrame\n",
      "\n",
      "See the caveats in the documentation: https://pandas.pydata.org/pandas-docs/stable/user_guide/indexing.html#returning-a-view-versus-a-copy\n",
      "  df[\"y_pred\"][df[\"y_pred\"] > 5] = 5\n",
      "<ipython-input-60-1788d9335322>:46: SettingWithCopyWarning: \n",
      "A value is trying to be set on a copy of a slice from a DataFrame\n",
      "\n",
      "See the caveats in the documentation: https://pandas.pydata.org/pandas-docs/stable/user_guide/indexing.html#returning-a-view-versus-a-copy\n",
      "  df[\"y_pred\"][df[\"y_pred\"] < 1] = 1\n"
     ]
    },
    {
     "name": "stdout",
     "output_type": "stream",
     "text": [
      "total_error_cold 1 60 2169 2168\n",
      "987 10000 1.1487731297582364\n",
      "total_error_cold 2 60 2376 2375\n",
      "3762 10000 1.0998464344699646\n"
     ]
    },
    {
     "name": "stderr",
     "output_type": "stream",
     "text": [
      "<ipython-input-60-1788d9335322>:45: SettingWithCopyWarning: \n",
      "A value is trying to be set on a copy of a slice from a DataFrame\n",
      "\n",
      "See the caveats in the documentation: https://pandas.pydata.org/pandas-docs/stable/user_guide/indexing.html#returning-a-view-versus-a-copy\n",
      "  df[\"y_pred\"][df[\"y_pred\"] > 5] = 5\n",
      "<ipython-input-60-1788d9335322>:46: SettingWithCopyWarning: \n",
      "A value is trying to be set on a copy of a slice from a DataFrame\n",
      "\n",
      "See the caveats in the documentation: https://pandas.pydata.org/pandas-docs/stable/user_guide/indexing.html#returning-a-view-versus-a-copy\n",
      "  df[\"y_pred\"][df[\"y_pred\"] < 1] = 1\n",
      "<ipython-input-60-1788d9335322>:45: SettingWithCopyWarning: \n",
      "A value is trying to be set on a copy of a slice from a DataFrame\n",
      "\n",
      "See the caveats in the documentation: https://pandas.pydata.org/pandas-docs/stable/user_guide/indexing.html#returning-a-view-versus-a-copy\n",
      "  df[\"y_pred\"][df[\"y_pred\"] > 5] = 5\n",
      "<ipython-input-60-1788d9335322>:46: SettingWithCopyWarning: \n",
      "A value is trying to be set on a copy of a slice from a DataFrame\n",
      "\n",
      "See the caveats in the documentation: https://pandas.pydata.org/pandas-docs/stable/user_guide/indexing.html#returning-a-view-versus-a-copy\n",
      "  df[\"y_pred\"][df[\"y_pred\"] < 1] = 1\n"
     ]
    },
    {
     "name": "stdout",
     "output_type": "stream",
     "text": [
      "total_error_cold 2 60 2408 2407\n",
      "3778 10000 1.0919788056804511\n"
     ]
    },
    {
     "name": "stderr",
     "output_type": "stream",
     "text": [
      "<ipython-input-60-1788d9335322>:45: SettingWithCopyWarning: \n",
      "A value is trying to be set on a copy of a slice from a DataFrame\n",
      "\n",
      "See the caveats in the documentation: https://pandas.pydata.org/pandas-docs/stable/user_guide/indexing.html#returning-a-view-versus-a-copy\n",
      "  df[\"y_pred\"][df[\"y_pred\"] > 5] = 5\n",
      "<ipython-input-60-1788d9335322>:46: SettingWithCopyWarning: \n",
      "A value is trying to be set on a copy of a slice from a DataFrame\n",
      "\n",
      "See the caveats in the documentation: https://pandas.pydata.org/pandas-docs/stable/user_guide/indexing.html#returning-a-view-versus-a-copy\n",
      "  df[\"y_pred\"][df[\"y_pred\"] < 1] = 1\n"
     ]
    },
    {
     "name": "stdout",
     "output_type": "stream",
     "text": [
      "total_error_cold 2 60 2169 2168\n",
      "1678 10000 1.1383266532575296\n",
      "total_error_cold 3 60 2376 2375\n",
      "4060 10000 1.1002425612750164\n"
     ]
    },
    {
     "name": "stderr",
     "output_type": "stream",
     "text": [
      "<ipython-input-60-1788d9335322>:45: SettingWithCopyWarning: \n",
      "A value is trying to be set on a copy of a slice from a DataFrame\n",
      "\n",
      "See the caveats in the documentation: https://pandas.pydata.org/pandas-docs/stable/user_guide/indexing.html#returning-a-view-versus-a-copy\n",
      "  df[\"y_pred\"][df[\"y_pred\"] > 5] = 5\n",
      "<ipython-input-60-1788d9335322>:46: SettingWithCopyWarning: \n",
      "A value is trying to be set on a copy of a slice from a DataFrame\n",
      "\n",
      "See the caveats in the documentation: https://pandas.pydata.org/pandas-docs/stable/user_guide/indexing.html#returning-a-view-versus-a-copy\n",
      "  df[\"y_pred\"][df[\"y_pred\"] < 1] = 1\n",
      "<ipython-input-60-1788d9335322>:45: SettingWithCopyWarning: \n",
      "A value is trying to be set on a copy of a slice from a DataFrame\n",
      "\n",
      "See the caveats in the documentation: https://pandas.pydata.org/pandas-docs/stable/user_guide/indexing.html#returning-a-view-versus-a-copy\n",
      "  df[\"y_pred\"][df[\"y_pred\"] > 5] = 5\n",
      "<ipython-input-60-1788d9335322>:46: SettingWithCopyWarning: \n",
      "A value is trying to be set on a copy of a slice from a DataFrame\n",
      "\n",
      "See the caveats in the documentation: https://pandas.pydata.org/pandas-docs/stable/user_guide/indexing.html#returning-a-view-versus-a-copy\n",
      "  df[\"y_pred\"][df[\"y_pred\"] < 1] = 1\n"
     ]
    },
    {
     "name": "stdout",
     "output_type": "stream",
     "text": [
      "total_error_cold 3 60 2408 2407\n",
      "4077 10000 1.0911169206783173\n"
     ]
    },
    {
     "name": "stderr",
     "output_type": "stream",
     "text": [
      "<ipython-input-60-1788d9335322>:45: SettingWithCopyWarning: \n",
      "A value is trying to be set on a copy of a slice from a DataFrame\n",
      "\n",
      "See the caveats in the documentation: https://pandas.pydata.org/pandas-docs/stable/user_guide/indexing.html#returning-a-view-versus-a-copy\n",
      "  df[\"y_pred\"][df[\"y_pred\"] > 5] = 5\n",
      "<ipython-input-60-1788d9335322>:46: SettingWithCopyWarning: \n",
      "A value is trying to be set on a copy of a slice from a DataFrame\n",
      "\n",
      "See the caveats in the documentation: https://pandas.pydata.org/pandas-docs/stable/user_guide/indexing.html#returning-a-view-versus-a-copy\n",
      "  df[\"y_pred\"][df[\"y_pred\"] < 1] = 1\n"
     ]
    },
    {
     "name": "stdout",
     "output_type": "stream",
     "text": [
      "total_error_cold 3 60 2169 2168\n",
      "2028 10000 1.135321902954237\n",
      "total_error_cold 4 60 2376 2375\n",
      "4099 10000 1.100133462276651\n"
     ]
    },
    {
     "name": "stderr",
     "output_type": "stream",
     "text": [
      "<ipython-input-60-1788d9335322>:45: SettingWithCopyWarning: \n",
      "A value is trying to be set on a copy of a slice from a DataFrame\n",
      "\n",
      "See the caveats in the documentation: https://pandas.pydata.org/pandas-docs/stable/user_guide/indexing.html#returning-a-view-versus-a-copy\n",
      "  df[\"y_pred\"][df[\"y_pred\"] > 5] = 5\n",
      "<ipython-input-60-1788d9335322>:46: SettingWithCopyWarning: \n",
      "A value is trying to be set on a copy of a slice from a DataFrame\n",
      "\n",
      "See the caveats in the documentation: https://pandas.pydata.org/pandas-docs/stable/user_guide/indexing.html#returning-a-view-versus-a-copy\n",
      "  df[\"y_pred\"][df[\"y_pred\"] < 1] = 1\n",
      "<ipython-input-60-1788d9335322>:45: SettingWithCopyWarning: \n",
      "A value is trying to be set on a copy of a slice from a DataFrame\n",
      "\n",
      "See the caveats in the documentation: https://pandas.pydata.org/pandas-docs/stable/user_guide/indexing.html#returning-a-view-versus-a-copy\n",
      "  df[\"y_pred\"][df[\"y_pred\"] > 5] = 5\n",
      "<ipython-input-60-1788d9335322>:46: SettingWithCopyWarning: \n",
      "A value is trying to be set on a copy of a slice from a DataFrame\n",
      "\n",
      "See the caveats in the documentation: https://pandas.pydata.org/pandas-docs/stable/user_guide/indexing.html#returning-a-view-versus-a-copy\n",
      "  df[\"y_pred\"][df[\"y_pred\"] < 1] = 1\n"
     ]
    },
    {
     "name": "stdout",
     "output_type": "stream",
     "text": [
      "total_error_cold 4 60 2408 2407\n",
      "4116 10000 1.0906382508525967\n"
     ]
    },
    {
     "name": "stderr",
     "output_type": "stream",
     "text": [
      "<ipython-input-60-1788d9335322>:45: SettingWithCopyWarning: \n",
      "A value is trying to be set on a copy of a slice from a DataFrame\n",
      "\n",
      "See the caveats in the documentation: https://pandas.pydata.org/pandas-docs/stable/user_guide/indexing.html#returning-a-view-versus-a-copy\n",
      "  df[\"y_pred\"][df[\"y_pred\"] > 5] = 5\n",
      "<ipython-input-60-1788d9335322>:46: SettingWithCopyWarning: \n",
      "A value is trying to be set on a copy of a slice from a DataFrame\n",
      "\n",
      "See the caveats in the documentation: https://pandas.pydata.org/pandas-docs/stable/user_guide/indexing.html#returning-a-view-versus-a-copy\n",
      "  df[\"y_pred\"][df[\"y_pred\"] < 1] = 1\n"
     ]
    },
    {
     "name": "stdout",
     "output_type": "stream",
     "text": [
      "total_error_cold 4 60 2169 2168\n",
      "2165 10000 1.1358981707749483\n",
      "missing /data/wooders/ralf-vldb/results/ml-1m/total_error_cold_5_60_split_0.75_dist_exponential_updates.csv\n",
      "missing /data/wooders/ralf-vldb/results/ml-1m/total_error_cold_5_60_split_0.75_dist_gaussian_updates.csv\n"
     ]
    },
    {
     "name": "stderr",
     "output_type": "stream",
     "text": [
      "<ipython-input-60-1788d9335322>:45: SettingWithCopyWarning: \n",
      "A value is trying to be set on a copy of a slice from a DataFrame\n",
      "\n",
      "See the caveats in the documentation: https://pandas.pydata.org/pandas-docs/stable/user_guide/indexing.html#returning-a-view-versus-a-copy\n",
      "  df[\"y_pred\"][df[\"y_pred\"] > 5] = 5\n",
      "<ipython-input-60-1788d9335322>:46: SettingWithCopyWarning: \n",
      "A value is trying to be set on a copy of a slice from a DataFrame\n",
      "\n",
      "See the caveats in the documentation: https://pandas.pydata.org/pandas-docs/stable/user_guide/indexing.html#returning-a-view-versus-a-copy\n",
      "  df[\"y_pred\"][df[\"y_pred\"] < 1] = 1\n"
     ]
    },
    {
     "name": "stdout",
     "output_type": "stream",
     "text": [
      "total_error_cold 5 60 2169 2168\n",
      "2204 10000 1.1357546509901009\n",
      "missing /data/wooders/ralf-vldb/results/ml-1m/total_error_cold_8_60_split_0.75_dist_exponential_updates.csv\n",
      "missing /data/wooders/ralf-vldb/results/ml-1m/total_error_cold_8_60_split_0.75_dist_gaussian_updates.csv\n"
     ]
    },
    {
     "name": "stderr",
     "output_type": "stream",
     "text": [
      "<ipython-input-60-1788d9335322>:45: SettingWithCopyWarning: \n",
      "A value is trying to be set on a copy of a slice from a DataFrame\n",
      "\n",
      "See the caveats in the documentation: https://pandas.pydata.org/pandas-docs/stable/user_guide/indexing.html#returning-a-view-versus-a-copy\n",
      "  df[\"y_pred\"][df[\"y_pred\"] > 5] = 5\n",
      "<ipython-input-60-1788d9335322>:46: SettingWithCopyWarning: \n",
      "A value is trying to be set on a copy of a slice from a DataFrame\n",
      "\n",
      "See the caveats in the documentation: https://pandas.pydata.org/pandas-docs/stable/user_guide/indexing.html#returning-a-view-versus-a-copy\n",
      "  df[\"y_pred\"][df[\"y_pred\"] < 1] = 1\n"
     ]
    },
    {
     "name": "stdout",
     "output_type": "stream",
     "text": [
      "total_error_cold 8 60 2169 2168\n",
      "2210 10000 1.1357546377067504\n",
      "total_error_cold None 60 2376 nan\n",
      "0 10000 4.968573254767408\n"
     ]
    },
    {
     "name": "stderr",
     "output_type": "stream",
     "text": [
      "<ipython-input-60-1788d9335322>:45: SettingWithCopyWarning: \n",
      "A value is trying to be set on a copy of a slice from a DataFrame\n",
      "\n",
      "See the caveats in the documentation: https://pandas.pydata.org/pandas-docs/stable/user_guide/indexing.html#returning-a-view-versus-a-copy\n",
      "  df[\"y_pred\"][df[\"y_pred\"] > 5] = 5\n",
      "<ipython-input-60-1788d9335322>:46: SettingWithCopyWarning: \n",
      "A value is trying to be set on a copy of a slice from a DataFrame\n",
      "\n",
      "See the caveats in the documentation: https://pandas.pydata.org/pandas-docs/stable/user_guide/indexing.html#returning-a-view-versus-a-copy\n",
      "  df[\"y_pred\"][df[\"y_pred\"] < 1] = 1\n",
      "<ipython-input-60-1788d9335322>:45: SettingWithCopyWarning: \n",
      "A value is trying to be set on a copy of a slice from a DataFrame\n",
      "\n",
      "See the caveats in the documentation: https://pandas.pydata.org/pandas-docs/stable/user_guide/indexing.html#returning-a-view-versus-a-copy\n",
      "  df[\"y_pred\"][df[\"y_pred\"] > 5] = 5\n",
      "<ipython-input-60-1788d9335322>:46: SettingWithCopyWarning: \n",
      "A value is trying to be set on a copy of a slice from a DataFrame\n",
      "\n",
      "See the caveats in the documentation: https://pandas.pydata.org/pandas-docs/stable/user_guide/indexing.html#returning-a-view-versus-a-copy\n",
      "  df[\"y_pred\"][df[\"y_pred\"] < 1] = 1\n"
     ]
    },
    {
     "name": "stdout",
     "output_type": "stream",
     "text": [
      "total_error_cold None 60 2408 nan\n",
      "0 10000 4.968573254767408\n",
      "missing /data/wooders/ralf-vldb/results/ml-1m/total_error_cold_None_60_split_0.75_updates.csv\n",
      "total_error_cold 10000 60 2376 2375\n",
      "4101 10000 1.100133457706349\n"
     ]
    },
    {
     "name": "stderr",
     "output_type": "stream",
     "text": [
      "<ipython-input-60-1788d9335322>:45: SettingWithCopyWarning: \n",
      "A value is trying to be set on a copy of a slice from a DataFrame\n",
      "\n",
      "See the caveats in the documentation: https://pandas.pydata.org/pandas-docs/stable/user_guide/indexing.html#returning-a-view-versus-a-copy\n",
      "  df[\"y_pred\"][df[\"y_pred\"] > 5] = 5\n",
      "<ipython-input-60-1788d9335322>:46: SettingWithCopyWarning: \n",
      "A value is trying to be set on a copy of a slice from a DataFrame\n",
      "\n",
      "See the caveats in the documentation: https://pandas.pydata.org/pandas-docs/stable/user_guide/indexing.html#returning-a-view-versus-a-copy\n",
      "  df[\"y_pred\"][df[\"y_pred\"] < 1] = 1\n",
      "<ipython-input-60-1788d9335322>:45: SettingWithCopyWarning: \n",
      "A value is trying to be set on a copy of a slice from a DataFrame\n",
      "\n",
      "See the caveats in the documentation: https://pandas.pydata.org/pandas-docs/stable/user_guide/indexing.html#returning-a-view-versus-a-copy\n",
      "  df[\"y_pred\"][df[\"y_pred\"] > 5] = 5\n",
      "<ipython-input-60-1788d9335322>:46: SettingWithCopyWarning: \n",
      "A value is trying to be set on a copy of a slice from a DataFrame\n",
      "\n",
      "See the caveats in the documentation: https://pandas.pydata.org/pandas-docs/stable/user_guide/indexing.html#returning-a-view-versus-a-copy\n",
      "  df[\"y_pred\"][df[\"y_pred\"] < 1] = 1\n"
     ]
    },
    {
     "name": "stdout",
     "output_type": "stream",
     "text": [
      "total_error_cold 10000 60 2408 2407\n",
      "4117 10000 1.0906382492812106\n",
      "missing /data/wooders/ralf-vldb/results/ml-1m/total_error_cold_10000_60_split_0.75_updates.csv\n",
      "query_proportional 0.5 60 2376 2375\n",
      "1177 10000 1.2959890424568055\n"
     ]
    },
    {
     "name": "stderr",
     "output_type": "stream",
     "text": [
      "<ipython-input-60-1788d9335322>:45: SettingWithCopyWarning: \n",
      "A value is trying to be set on a copy of a slice from a DataFrame\n",
      "\n",
      "See the caveats in the documentation: https://pandas.pydata.org/pandas-docs/stable/user_guide/indexing.html#returning-a-view-versus-a-copy\n",
      "  df[\"y_pred\"][df[\"y_pred\"] > 5] = 5\n",
      "<ipython-input-60-1788d9335322>:46: SettingWithCopyWarning: \n",
      "A value is trying to be set on a copy of a slice from a DataFrame\n",
      "\n",
      "See the caveats in the documentation: https://pandas.pydata.org/pandas-docs/stable/user_guide/indexing.html#returning-a-view-versus-a-copy\n",
      "  df[\"y_pred\"][df[\"y_pred\"] < 1] = 1\n",
      "<ipython-input-60-1788d9335322>:45: SettingWithCopyWarning: \n",
      "A value is trying to be set on a copy of a slice from a DataFrame\n",
      "\n",
      "See the caveats in the documentation: https://pandas.pydata.org/pandas-docs/stable/user_guide/indexing.html#returning-a-view-versus-a-copy\n",
      "  df[\"y_pred\"][df[\"y_pred\"] > 5] = 5\n",
      "<ipython-input-60-1788d9335322>:46: SettingWithCopyWarning: \n",
      "A value is trying to be set on a copy of a slice from a DataFrame\n",
      "\n",
      "See the caveats in the documentation: https://pandas.pydata.org/pandas-docs/stable/user_guide/indexing.html#returning-a-view-versus-a-copy\n",
      "  df[\"y_pred\"][df[\"y_pred\"] < 1] = 1\n"
     ]
    },
    {
     "name": "stdout",
     "output_type": "stream",
     "text": [
      "query_proportional 0.5 60 2408 2407\n",
      "1196 10000 1.2798517721698426\n"
     ]
    },
    {
     "name": "stderr",
     "output_type": "stream",
     "text": [
      "<ipython-input-60-1788d9335322>:45: SettingWithCopyWarning: \n",
      "A value is trying to be set on a copy of a slice from a DataFrame\n",
      "\n",
      "See the caveats in the documentation: https://pandas.pydata.org/pandas-docs/stable/user_guide/indexing.html#returning-a-view-versus-a-copy\n",
      "  df[\"y_pred\"][df[\"y_pred\"] > 5] = 5\n",
      "<ipython-input-60-1788d9335322>:46: SettingWithCopyWarning: \n",
      "A value is trying to be set on a copy of a slice from a DataFrame\n",
      "\n",
      "See the caveats in the documentation: https://pandas.pydata.org/pandas-docs/stable/user_guide/indexing.html#returning-a-view-versus-a-copy\n",
      "  df[\"y_pred\"][df[\"y_pred\"] < 1] = 1\n"
     ]
    },
    {
     "name": "stdout",
     "output_type": "stream",
     "text": [
      "query_proportional 0.5 60 2169 2167\n",
      "513 10000 1.7680860460496874\n",
      "query_proportional 0.25 60 2376 2375\n",
      "592 10000 1.6030778704351365\n"
     ]
    },
    {
     "name": "stderr",
     "output_type": "stream",
     "text": [
      "<ipython-input-60-1788d9335322>:45: SettingWithCopyWarning: \n",
      "A value is trying to be set on a copy of a slice from a DataFrame\n",
      "\n",
      "See the caveats in the documentation: https://pandas.pydata.org/pandas-docs/stable/user_guide/indexing.html#returning-a-view-versus-a-copy\n",
      "  df[\"y_pred\"][df[\"y_pred\"] > 5] = 5\n",
      "<ipython-input-60-1788d9335322>:46: SettingWithCopyWarning: \n",
      "A value is trying to be set on a copy of a slice from a DataFrame\n",
      "\n",
      "See the caveats in the documentation: https://pandas.pydata.org/pandas-docs/stable/user_guide/indexing.html#returning-a-view-versus-a-copy\n",
      "  df[\"y_pred\"][df[\"y_pred\"] < 1] = 1\n",
      "<ipython-input-60-1788d9335322>:45: SettingWithCopyWarning: \n",
      "A value is trying to be set on a copy of a slice from a DataFrame\n",
      "\n",
      "See the caveats in the documentation: https://pandas.pydata.org/pandas-docs/stable/user_guide/indexing.html#returning-a-view-versus-a-copy\n",
      "  df[\"y_pred\"][df[\"y_pred\"] > 5] = 5\n",
      "<ipython-input-60-1788d9335322>:46: SettingWithCopyWarning: \n",
      "A value is trying to be set on a copy of a slice from a DataFrame\n",
      "\n",
      "See the caveats in the documentation: https://pandas.pydata.org/pandas-docs/stable/user_guide/indexing.html#returning-a-view-versus-a-copy\n",
      "  df[\"y_pred\"][df[\"y_pred\"] < 1] = 1\n"
     ]
    },
    {
     "name": "stdout",
     "output_type": "stream",
     "text": [
      "query_proportional 0.25 60 2408 2405\n",
      "600 10000 1.6066082999396512\n"
     ]
    },
    {
     "name": "stderr",
     "output_type": "stream",
     "text": [
      "<ipython-input-60-1788d9335322>:45: SettingWithCopyWarning: \n",
      "A value is trying to be set on a copy of a slice from a DataFrame\n",
      "\n",
      "See the caveats in the documentation: https://pandas.pydata.org/pandas-docs/stable/user_guide/indexing.html#returning-a-view-versus-a-copy\n",
      "  df[\"y_pred\"][df[\"y_pred\"] > 5] = 5\n",
      "<ipython-input-60-1788d9335322>:46: SettingWithCopyWarning: \n",
      "A value is trying to be set on a copy of a slice from a DataFrame\n",
      "\n",
      "See the caveats in the documentation: https://pandas.pydata.org/pandas-docs/stable/user_guide/indexing.html#returning-a-view-versus-a-copy\n",
      "  df[\"y_pred\"][df[\"y_pred\"] < 1] = 1\n"
     ]
    },
    {
     "name": "stdout",
     "output_type": "stream",
     "text": [
      "query_proportional 0.25 60 2169 2165\n",
      "268 10000 2.2569861708554417\n",
      "query_proportional 0.2 60 2376 2375\n"
     ]
    },
    {
     "name": "stderr",
     "output_type": "stream",
     "text": [
      "<ipython-input-60-1788d9335322>:45: SettingWithCopyWarning: \n",
      "A value is trying to be set on a copy of a slice from a DataFrame\n",
      "\n",
      "See the caveats in the documentation: https://pandas.pydata.org/pandas-docs/stable/user_guide/indexing.html#returning-a-view-versus-a-copy\n",
      "  df[\"y_pred\"][df[\"y_pred\"] > 5] = 5\n",
      "<ipython-input-60-1788d9335322>:46: SettingWithCopyWarning: \n",
      "A value is trying to be set on a copy of a slice from a DataFrame\n",
      "\n",
      "See the caveats in the documentation: https://pandas.pydata.org/pandas-docs/stable/user_guide/indexing.html#returning-a-view-versus-a-copy\n",
      "  df[\"y_pred\"][df[\"y_pred\"] < 1] = 1\n",
      "<ipython-input-60-1788d9335322>:45: SettingWithCopyWarning: \n",
      "A value is trying to be set on a copy of a slice from a DataFrame\n",
      "\n",
      "See the caveats in the documentation: https://pandas.pydata.org/pandas-docs/stable/user_guide/indexing.html#returning-a-view-versus-a-copy\n",
      "  df[\"y_pred\"][df[\"y_pred\"] > 5] = 5\n",
      "<ipython-input-60-1788d9335322>:46: SettingWithCopyWarning: \n",
      "A value is trying to be set on a copy of a slice from a DataFrame\n",
      "\n",
      "See the caveats in the documentation: https://pandas.pydata.org/pandas-docs/stable/user_guide/indexing.html#returning-a-view-versus-a-copy\n",
      "  df[\"y_pred\"][df[\"y_pred\"] < 1] = 1\n"
     ]
    },
    {
     "name": "stdout",
     "output_type": "stream",
     "text": [
      "475 10000 1.7729557657918438\n",
      "query_proportional 0.2 60 2408 2406\n",
      "481 10000 1.7391336897393055\n"
     ]
    },
    {
     "name": "stderr",
     "output_type": "stream",
     "text": [
      "<ipython-input-60-1788d9335322>:45: SettingWithCopyWarning: \n",
      "A value is trying to be set on a copy of a slice from a DataFrame\n",
      "\n",
      "See the caveats in the documentation: https://pandas.pydata.org/pandas-docs/stable/user_guide/indexing.html#returning-a-view-versus-a-copy\n",
      "  df[\"y_pred\"][df[\"y_pred\"] > 5] = 5\n",
      "<ipython-input-60-1788d9335322>:46: SettingWithCopyWarning: \n",
      "A value is trying to be set on a copy of a slice from a DataFrame\n",
      "\n",
      "See the caveats in the documentation: https://pandas.pydata.org/pandas-docs/stable/user_guide/indexing.html#returning-a-view-versus-a-copy\n",
      "  df[\"y_pred\"][df[\"y_pred\"] < 1] = 1\n"
     ]
    },
    {
     "name": "stdout",
     "output_type": "stream",
     "text": [
      "query_proportional 0.2 60 2169 2165\n",
      "220 10000 2.5005773746664337\n"
     ]
    },
    {
     "name": "stderr",
     "output_type": "stream",
     "text": [
      "<ipython-input-60-1788d9335322>:45: SettingWithCopyWarning: \n",
      "A value is trying to be set on a copy of a slice from a DataFrame\n",
      "\n",
      "See the caveats in the documentation: https://pandas.pydata.org/pandas-docs/stable/user_guide/indexing.html#returning-a-view-versus-a-copy\n",
      "  df[\"y_pred\"][df[\"y_pred\"] > 5] = 5\n",
      "<ipython-input-60-1788d9335322>:46: SettingWithCopyWarning: \n",
      "A value is trying to be set on a copy of a slice from a DataFrame\n",
      "\n",
      "See the caveats in the documentation: https://pandas.pydata.org/pandas-docs/stable/user_guide/indexing.html#returning-a-view-versus-a-copy\n",
      "  df[\"y_pred\"][df[\"y_pred\"] < 1] = 1\n"
     ]
    },
    {
     "name": "stdout",
     "output_type": "stream",
     "text": [
      "query_proportional 1 60 2376 2375\n",
      "2345 10000 1.146022694029641\n"
     ]
    },
    {
     "name": "stderr",
     "output_type": "stream",
     "text": [
      "<ipython-input-60-1788d9335322>:45: SettingWithCopyWarning: \n",
      "A value is trying to be set on a copy of a slice from a DataFrame\n",
      "\n",
      "See the caveats in the documentation: https://pandas.pydata.org/pandas-docs/stable/user_guide/indexing.html#returning-a-view-versus-a-copy\n",
      "  df[\"y_pred\"][df[\"y_pred\"] > 5] = 5\n",
      "<ipython-input-60-1788d9335322>:46: SettingWithCopyWarning: \n",
      "A value is trying to be set on a copy of a slice from a DataFrame\n",
      "\n",
      "See the caveats in the documentation: https://pandas.pydata.org/pandas-docs/stable/user_guide/indexing.html#returning-a-view-versus-a-copy\n",
      "  df[\"y_pred\"][df[\"y_pred\"] < 1] = 1\n"
     ]
    },
    {
     "name": "stdout",
     "output_type": "stream",
     "text": [
      "query_proportional 1 60 2408 2407\n",
      "2369 10000 1.155358596269543\n"
     ]
    },
    {
     "name": "stderr",
     "output_type": "stream",
     "text": [
      "<ipython-input-60-1788d9335322>:45: SettingWithCopyWarning: \n",
      "A value is trying to be set on a copy of a slice from a DataFrame\n",
      "\n",
      "See the caveats in the documentation: https://pandas.pydata.org/pandas-docs/stable/user_guide/indexing.html#returning-a-view-versus-a-copy\n",
      "  df[\"y_pred\"][df[\"y_pred\"] > 5] = 5\n",
      "<ipython-input-60-1788d9335322>:46: SettingWithCopyWarning: \n",
      "A value is trying to be set on a copy of a slice from a DataFrame\n",
      "\n",
      "See the caveats in the documentation: https://pandas.pydata.org/pandas-docs/stable/user_guide/indexing.html#returning-a-view-versus-a-copy\n",
      "  df[\"y_pred\"][df[\"y_pred\"] < 1] = 1\n"
     ]
    },
    {
     "name": "stdout",
     "output_type": "stream",
     "text": [
      "query_proportional 1 60 2169 2168\n",
      "987 10000 1.3834462274224504\n"
     ]
    },
    {
     "name": "stderr",
     "output_type": "stream",
     "text": [
      "<ipython-input-60-1788d9335322>:45: SettingWithCopyWarning: \n",
      "A value is trying to be set on a copy of a slice from a DataFrame\n",
      "\n",
      "See the caveats in the documentation: https://pandas.pydata.org/pandas-docs/stable/user_guide/indexing.html#returning-a-view-versus-a-copy\n",
      "  df[\"y_pred\"][df[\"y_pred\"] > 5] = 5\n",
      "<ipython-input-60-1788d9335322>:46: SettingWithCopyWarning: \n",
      "A value is trying to be set on a copy of a slice from a DataFrame\n",
      "\n",
      "See the caveats in the documentation: https://pandas.pydata.org/pandas-docs/stable/user_guide/indexing.html#returning-a-view-versus-a-copy\n",
      "  df[\"y_pred\"][df[\"y_pred\"] < 1] = 1\n"
     ]
    },
    {
     "name": "stdout",
     "output_type": "stream",
     "text": [
      "query_proportional 2 60 2376 2375\n",
      "3757 10000 1.1035161861544935\n"
     ]
    },
    {
     "name": "stderr",
     "output_type": "stream",
     "text": [
      "<ipython-input-60-1788d9335322>:45: SettingWithCopyWarning: \n",
      "A value is trying to be set on a copy of a slice from a DataFrame\n",
      "\n",
      "See the caveats in the documentation: https://pandas.pydata.org/pandas-docs/stable/user_guide/indexing.html#returning-a-view-versus-a-copy\n",
      "  df[\"y_pred\"][df[\"y_pred\"] > 5] = 5\n",
      "<ipython-input-60-1788d9335322>:46: SettingWithCopyWarning: \n",
      "A value is trying to be set on a copy of a slice from a DataFrame\n",
      "\n",
      "See the caveats in the documentation: https://pandas.pydata.org/pandas-docs/stable/user_guide/indexing.html#returning-a-view-versus-a-copy\n",
      "  df[\"y_pred\"][df[\"y_pred\"] < 1] = 1\n"
     ]
    },
    {
     "name": "stdout",
     "output_type": "stream",
     "text": [
      "query_proportional 2 60 2408 2407\n",
      "3791 10000 1.0914040135543335\n"
     ]
    },
    {
     "name": "stderr",
     "output_type": "stream",
     "text": [
      "<ipython-input-60-1788d9335322>:45: SettingWithCopyWarning: \n",
      "A value is trying to be set on a copy of a slice from a DataFrame\n",
      "\n",
      "See the caveats in the documentation: https://pandas.pydata.org/pandas-docs/stable/user_guide/indexing.html#returning-a-view-versus-a-copy\n",
      "  df[\"y_pred\"][df[\"y_pred\"] > 5] = 5\n",
      "<ipython-input-60-1788d9335322>:46: SettingWithCopyWarning: \n",
      "A value is trying to be set on a copy of a slice from a DataFrame\n",
      "\n",
      "See the caveats in the documentation: https://pandas.pydata.org/pandas-docs/stable/user_guide/indexing.html#returning-a-view-versus-a-copy\n",
      "  df[\"y_pred\"][df[\"y_pred\"] < 1] = 1\n"
     ]
    },
    {
     "name": "stdout",
     "output_type": "stream",
     "text": [
      "query_proportional 2 60 2169 2168\n",
      "1682 10000 1.1864032294758393\n"
     ]
    },
    {
     "name": "stderr",
     "output_type": "stream",
     "text": [
      "<ipython-input-60-1788d9335322>:45: SettingWithCopyWarning: \n",
      "A value is trying to be set on a copy of a slice from a DataFrame\n",
      "\n",
      "See the caveats in the documentation: https://pandas.pydata.org/pandas-docs/stable/user_guide/indexing.html#returning-a-view-versus-a-copy\n",
      "  df[\"y_pred\"][df[\"y_pred\"] > 5] = 5\n",
      "<ipython-input-60-1788d9335322>:46: SettingWithCopyWarning: \n",
      "A value is trying to be set on a copy of a slice from a DataFrame\n",
      "\n",
      "See the caveats in the documentation: https://pandas.pydata.org/pandas-docs/stable/user_guide/indexing.html#returning-a-view-versus-a-copy\n",
      "  df[\"y_pred\"][df[\"y_pred\"] < 1] = 1\n"
     ]
    },
    {
     "name": "stdout",
     "output_type": "stream",
     "text": [
      "query_proportional 3 60 2376 2375\n",
      "4063 10000 1.100242733404916\n"
     ]
    },
    {
     "name": "stderr",
     "output_type": "stream",
     "text": [
      "<ipython-input-60-1788d9335322>:45: SettingWithCopyWarning: \n",
      "A value is trying to be set on a copy of a slice from a DataFrame\n",
      "\n",
      "See the caveats in the documentation: https://pandas.pydata.org/pandas-docs/stable/user_guide/indexing.html#returning-a-view-versus-a-copy\n",
      "  df[\"y_pred\"][df[\"y_pred\"] > 5] = 5\n",
      "<ipython-input-60-1788d9335322>:46: SettingWithCopyWarning: \n",
      "A value is trying to be set on a copy of a slice from a DataFrame\n",
      "\n",
      "See the caveats in the documentation: https://pandas.pydata.org/pandas-docs/stable/user_guide/indexing.html#returning-a-view-versus-a-copy\n",
      "  df[\"y_pred\"][df[\"y_pred\"] < 1] = 1\n"
     ]
    },
    {
     "name": "stdout",
     "output_type": "stream",
     "text": [
      "query_proportional 3 60 2408 2407\n",
      "4080 10000 1.0906381511178487\n"
     ]
    },
    {
     "name": "stderr",
     "output_type": "stream",
     "text": [
      "<ipython-input-60-1788d9335322>:45: SettingWithCopyWarning: \n",
      "A value is trying to be set on a copy of a slice from a DataFrame\n",
      "\n",
      "See the caveats in the documentation: https://pandas.pydata.org/pandas-docs/stable/user_guide/indexing.html#returning-a-view-versus-a-copy\n",
      "  df[\"y_pred\"][df[\"y_pred\"] > 5] = 5\n",
      "<ipython-input-60-1788d9335322>:46: SettingWithCopyWarning: \n",
      "A value is trying to be set on a copy of a slice from a DataFrame\n",
      "\n",
      "See the caveats in the documentation: https://pandas.pydata.org/pandas-docs/stable/user_guide/indexing.html#returning-a-view-versus-a-copy\n",
      "  df[\"y_pred\"][df[\"y_pred\"] < 1] = 1\n"
     ]
    },
    {
     "name": "stdout",
     "output_type": "stream",
     "text": [
      "query_proportional 3 60 2169 2168\n",
      "2031 10000 1.1490270722723\n"
     ]
    },
    {
     "name": "stderr",
     "output_type": "stream",
     "text": [
      "<ipython-input-60-1788d9335322>:45: SettingWithCopyWarning: \n",
      "A value is trying to be set on a copy of a slice from a DataFrame\n",
      "\n",
      "See the caveats in the documentation: https://pandas.pydata.org/pandas-docs/stable/user_guide/indexing.html#returning-a-view-versus-a-copy\n",
      "  df[\"y_pred\"][df[\"y_pred\"] > 5] = 5\n",
      "<ipython-input-60-1788d9335322>:46: SettingWithCopyWarning: \n",
      "A value is trying to be set on a copy of a slice from a DataFrame\n",
      "\n",
      "See the caveats in the documentation: https://pandas.pydata.org/pandas-docs/stable/user_guide/indexing.html#returning-a-view-versus-a-copy\n",
      "  df[\"y_pred\"][df[\"y_pred\"] < 1] = 1\n"
     ]
    },
    {
     "name": "stdout",
     "output_type": "stream",
     "text": [
      "query_proportional 4 60 2376 2375\n",
      "4099 10000 1.1001334566140288\n"
     ]
    },
    {
     "name": "stderr",
     "output_type": "stream",
     "text": [
      "<ipython-input-60-1788d9335322>:45: SettingWithCopyWarning: \n",
      "A value is trying to be set on a copy of a slice from a DataFrame\n",
      "\n",
      "See the caveats in the documentation: https://pandas.pydata.org/pandas-docs/stable/user_guide/indexing.html#returning-a-view-versus-a-copy\n",
      "  df[\"y_pred\"][df[\"y_pred\"] > 5] = 5\n",
      "<ipython-input-60-1788d9335322>:46: SettingWithCopyWarning: \n",
      "A value is trying to be set on a copy of a slice from a DataFrame\n",
      "\n",
      "See the caveats in the documentation: https://pandas.pydata.org/pandas-docs/stable/user_guide/indexing.html#returning-a-view-versus-a-copy\n",
      "  df[\"y_pred\"][df[\"y_pred\"] < 1] = 1\n"
     ]
    },
    {
     "name": "stdout",
     "output_type": "stream",
     "text": [
      "query_proportional 4 60 2408 2407\n",
      "4117 10000 1.0906382479981227\n"
     ]
    },
    {
     "name": "stderr",
     "output_type": "stream",
     "text": [
      "<ipython-input-60-1788d9335322>:45: SettingWithCopyWarning: \n",
      "A value is trying to be set on a copy of a slice from a DataFrame\n",
      "\n",
      "See the caveats in the documentation: https://pandas.pydata.org/pandas-docs/stable/user_guide/indexing.html#returning-a-view-versus-a-copy\n",
      "  df[\"y_pred\"][df[\"y_pred\"] > 5] = 5\n",
      "<ipython-input-60-1788d9335322>:46: SettingWithCopyWarning: \n",
      "A value is trying to be set on a copy of a slice from a DataFrame\n",
      "\n",
      "See the caveats in the documentation: https://pandas.pydata.org/pandas-docs/stable/user_guide/indexing.html#returning-a-view-versus-a-copy\n",
      "  df[\"y_pred\"][df[\"y_pred\"] < 1] = 1\n"
     ]
    },
    {
     "name": "stdout",
     "output_type": "stream",
     "text": [
      "query_proportional 4 60 2169 2168\n",
      "2170 10000 1.1358980210901928\n",
      "missing /data/wooders/ralf-vldb/results/ml-1m/query_proportional_5_60_split_0.75_dist_exponential_updates.csv\n",
      "missing /data/wooders/ralf-vldb/results/ml-1m/query_proportional_5_60_split_0.75_dist_gaussian_updates.csv\n"
     ]
    },
    {
     "name": "stderr",
     "output_type": "stream",
     "text": [
      "<ipython-input-60-1788d9335322>:45: SettingWithCopyWarning: \n",
      "A value is trying to be set on a copy of a slice from a DataFrame\n",
      "\n",
      "See the caveats in the documentation: https://pandas.pydata.org/pandas-docs/stable/user_guide/indexing.html#returning-a-view-versus-a-copy\n",
      "  df[\"y_pred\"][df[\"y_pred\"] > 5] = 5\n",
      "<ipython-input-60-1788d9335322>:46: SettingWithCopyWarning: \n",
      "A value is trying to be set on a copy of a slice from a DataFrame\n",
      "\n",
      "See the caveats in the documentation: https://pandas.pydata.org/pandas-docs/stable/user_guide/indexing.html#returning-a-view-versus-a-copy\n",
      "  df[\"y_pred\"][df[\"y_pred\"] < 1] = 1\n"
     ]
    },
    {
     "name": "stdout",
     "output_type": "stream",
     "text": [
      "query_proportional 5 60 2169 2168\n",
      "2204 10000 1.1357546352084809\n",
      "missing /data/wooders/ralf-vldb/results/ml-1m/query_proportional_8_60_split_0.75_dist_exponential_updates.csv\n",
      "missing /data/wooders/ralf-vldb/results/ml-1m/query_proportional_8_60_split_0.75_dist_gaussian_updates.csv\n"
     ]
    },
    {
     "name": "stderr",
     "output_type": "stream",
     "text": [
      "<ipython-input-60-1788d9335322>:45: SettingWithCopyWarning: \n",
      "A value is trying to be set on a copy of a slice from a DataFrame\n",
      "\n",
      "See the caveats in the documentation: https://pandas.pydata.org/pandas-docs/stable/user_guide/indexing.html#returning-a-view-versus-a-copy\n",
      "  df[\"y_pred\"][df[\"y_pred\"] > 5] = 5\n",
      "<ipython-input-60-1788d9335322>:46: SettingWithCopyWarning: \n",
      "A value is trying to be set on a copy of a slice from a DataFrame\n",
      "\n",
      "See the caveats in the documentation: https://pandas.pydata.org/pandas-docs/stable/user_guide/indexing.html#returning-a-view-versus-a-copy\n",
      "  df[\"y_pred\"][df[\"y_pred\"] < 1] = 1\n"
     ]
    },
    {
     "name": "stdout",
     "output_type": "stream",
     "text": [
      "query_proportional 8 60 2169 2168\n",
      "2210 10000 1.1357546377067504\n"
     ]
    },
    {
     "name": "stderr",
     "output_type": "stream",
     "text": [
      "<ipython-input-60-1788d9335322>:45: SettingWithCopyWarning: \n",
      "A value is trying to be set on a copy of a slice from a DataFrame\n",
      "\n",
      "See the caveats in the documentation: https://pandas.pydata.org/pandas-docs/stable/user_guide/indexing.html#returning-a-view-versus-a-copy\n",
      "  df[\"y_pred\"][df[\"y_pred\"] > 5] = 5\n",
      "<ipython-input-60-1788d9335322>:46: SettingWithCopyWarning: \n",
      "A value is trying to be set on a copy of a slice from a DataFrame\n",
      "\n",
      "See the caveats in the documentation: https://pandas.pydata.org/pandas-docs/stable/user_guide/indexing.html#returning-a-view-versus-a-copy\n",
      "  df[\"y_pred\"][df[\"y_pred\"] < 1] = 1\n"
     ]
    },
    {
     "name": "stdout",
     "output_type": "stream",
     "text": [
      "query_proportional None 60 2376 nan\n",
      "0 10000 4.968573254767408\n"
     ]
    },
    {
     "name": "stderr",
     "output_type": "stream",
     "text": [
      "<ipython-input-60-1788d9335322>:45: SettingWithCopyWarning: \n",
      "A value is trying to be set on a copy of a slice from a DataFrame\n",
      "\n",
      "See the caveats in the documentation: https://pandas.pydata.org/pandas-docs/stable/user_guide/indexing.html#returning-a-view-versus-a-copy\n",
      "  df[\"y_pred\"][df[\"y_pred\"] > 5] = 5\n",
      "<ipython-input-60-1788d9335322>:46: SettingWithCopyWarning: \n",
      "A value is trying to be set on a copy of a slice from a DataFrame\n",
      "\n",
      "See the caveats in the documentation: https://pandas.pydata.org/pandas-docs/stable/user_guide/indexing.html#returning-a-view-versus-a-copy\n",
      "  df[\"y_pred\"][df[\"y_pred\"] < 1] = 1\n"
     ]
    },
    {
     "name": "stdout",
     "output_type": "stream",
     "text": [
      "query_proportional None 60 2408 nan\n",
      "0 10000 4.968573254767408\n",
      "missing /data/wooders/ralf-vldb/results/ml-1m/query_proportional_None_60_split_0.75_updates.csv\n"
     ]
    },
    {
     "name": "stderr",
     "output_type": "stream",
     "text": [
      "<ipython-input-60-1788d9335322>:45: SettingWithCopyWarning: \n",
      "A value is trying to be set on a copy of a slice from a DataFrame\n",
      "\n",
      "See the caveats in the documentation: https://pandas.pydata.org/pandas-docs/stable/user_guide/indexing.html#returning-a-view-versus-a-copy\n",
      "  df[\"y_pred\"][df[\"y_pred\"] > 5] = 5\n",
      "<ipython-input-60-1788d9335322>:46: SettingWithCopyWarning: \n",
      "A value is trying to be set on a copy of a slice from a DataFrame\n",
      "\n",
      "See the caveats in the documentation: https://pandas.pydata.org/pandas-docs/stable/user_guide/indexing.html#returning-a-view-versus-a-copy\n",
      "  df[\"y_pred\"][df[\"y_pred\"] < 1] = 1\n"
     ]
    },
    {
     "name": "stdout",
     "output_type": "stream",
     "text": [
      "query_proportional 10000 60 2376 2375\n",
      "4101 10000 1.100133457706349\n"
     ]
    },
    {
     "name": "stderr",
     "output_type": "stream",
     "text": [
      "<ipython-input-60-1788d9335322>:45: SettingWithCopyWarning: \n",
      "A value is trying to be set on a copy of a slice from a DataFrame\n",
      "\n",
      "See the caveats in the documentation: https://pandas.pydata.org/pandas-docs/stable/user_guide/indexing.html#returning-a-view-versus-a-copy\n",
      "  df[\"y_pred\"][df[\"y_pred\"] > 5] = 5\n",
      "<ipython-input-60-1788d9335322>:46: SettingWithCopyWarning: \n",
      "A value is trying to be set on a copy of a slice from a DataFrame\n",
      "\n",
      "See the caveats in the documentation: https://pandas.pydata.org/pandas-docs/stable/user_guide/indexing.html#returning-a-view-versus-a-copy\n",
      "  df[\"y_pred\"][df[\"y_pred\"] < 1] = 1\n"
     ]
    },
    {
     "name": "stdout",
     "output_type": "stream",
     "text": [
      "query_proportional 10000 60 2408 2407\n",
      "4117 10000 1.0906382492812106\n",
      "missing /data/wooders/ralf-vldb/results/ml-1m/query_proportional_10000_60_split_0.75_updates.csv\n"
     ]
    },
    {
     "name": "stderr",
     "output_type": "stream",
     "text": [
      "<ipython-input-60-1788d9335322>:45: SettingWithCopyWarning: \n",
      "A value is trying to be set on a copy of a slice from a DataFrame\n",
      "\n",
      "See the caveats in the documentation: https://pandas.pydata.org/pandas-docs/stable/user_guide/indexing.html#returning-a-view-versus-a-copy\n",
      "  df[\"y_pred\"][df[\"y_pred\"] > 5] = 5\n",
      "<ipython-input-60-1788d9335322>:46: SettingWithCopyWarning: \n",
      "A value is trying to be set on a copy of a slice from a DataFrame\n",
      "\n",
      "See the caveats in the documentation: https://pandas.pydata.org/pandas-docs/stable/user_guide/indexing.html#returning-a-view-versus-a-copy\n",
      "  df[\"y_pred\"][df[\"y_pred\"] < 1] = 1\n"
     ]
    },
    {
     "name": "stdout",
     "output_type": "stream",
     "text": [
      "max_pending 0.5 60 2376 2375\n",
      "1177 10000 1.2959890424568055\n"
     ]
    },
    {
     "name": "stderr",
     "output_type": "stream",
     "text": [
      "<ipython-input-60-1788d9335322>:45: SettingWithCopyWarning: \n",
      "A value is trying to be set on a copy of a slice from a DataFrame\n",
      "\n",
      "See the caveats in the documentation: https://pandas.pydata.org/pandas-docs/stable/user_guide/indexing.html#returning-a-view-versus-a-copy\n",
      "  df[\"y_pred\"][df[\"y_pred\"] > 5] = 5\n",
      "<ipython-input-60-1788d9335322>:46: SettingWithCopyWarning: \n",
      "A value is trying to be set on a copy of a slice from a DataFrame\n",
      "\n",
      "See the caveats in the documentation: https://pandas.pydata.org/pandas-docs/stable/user_guide/indexing.html#returning-a-view-versus-a-copy\n",
      "  df[\"y_pred\"][df[\"y_pred\"] < 1] = 1\n"
     ]
    },
    {
     "name": "stdout",
     "output_type": "stream",
     "text": [
      "max_pending 0.5 60 2408 2407\n",
      "1196 10000 1.2798517721698426\n"
     ]
    },
    {
     "name": "stderr",
     "output_type": "stream",
     "text": [
      "<ipython-input-60-1788d9335322>:45: SettingWithCopyWarning: \n",
      "A value is trying to be set on a copy of a slice from a DataFrame\n",
      "\n",
      "See the caveats in the documentation: https://pandas.pydata.org/pandas-docs/stable/user_guide/indexing.html#returning-a-view-versus-a-copy\n",
      "  df[\"y_pred\"][df[\"y_pred\"] > 5] = 5\n",
      "<ipython-input-60-1788d9335322>:46: SettingWithCopyWarning: \n",
      "A value is trying to be set on a copy of a slice from a DataFrame\n",
      "\n",
      "See the caveats in the documentation: https://pandas.pydata.org/pandas-docs/stable/user_guide/indexing.html#returning-a-view-versus-a-copy\n",
      "  df[\"y_pred\"][df[\"y_pred\"] < 1] = 1\n"
     ]
    },
    {
     "name": "stdout",
     "output_type": "stream",
     "text": [
      "max_pending 0.5 60 2169 2167\n",
      "513 10000 1.768086046049689\n"
     ]
    },
    {
     "name": "stderr",
     "output_type": "stream",
     "text": [
      "<ipython-input-60-1788d9335322>:45: SettingWithCopyWarning: \n",
      "A value is trying to be set on a copy of a slice from a DataFrame\n",
      "\n",
      "See the caveats in the documentation: https://pandas.pydata.org/pandas-docs/stable/user_guide/indexing.html#returning-a-view-versus-a-copy\n",
      "  df[\"y_pred\"][df[\"y_pred\"] > 5] = 5\n",
      "<ipython-input-60-1788d9335322>:46: SettingWithCopyWarning: \n",
      "A value is trying to be set on a copy of a slice from a DataFrame\n",
      "\n",
      "See the caveats in the documentation: https://pandas.pydata.org/pandas-docs/stable/user_guide/indexing.html#returning-a-view-versus-a-copy\n",
      "  df[\"y_pred\"][df[\"y_pred\"] < 1] = 1\n"
     ]
    },
    {
     "name": "stdout",
     "output_type": "stream",
     "text": [
      "max_pending 0.25 60 2376 2375\n",
      "592 10000 1.6030778704351365\n"
     ]
    },
    {
     "name": "stderr",
     "output_type": "stream",
     "text": [
      "<ipython-input-60-1788d9335322>:45: SettingWithCopyWarning: \n",
      "A value is trying to be set on a copy of a slice from a DataFrame\n",
      "\n",
      "See the caveats in the documentation: https://pandas.pydata.org/pandas-docs/stable/user_guide/indexing.html#returning-a-view-versus-a-copy\n",
      "  df[\"y_pred\"][df[\"y_pred\"] > 5] = 5\n",
      "<ipython-input-60-1788d9335322>:46: SettingWithCopyWarning: \n",
      "A value is trying to be set on a copy of a slice from a DataFrame\n",
      "\n",
      "See the caveats in the documentation: https://pandas.pydata.org/pandas-docs/stable/user_guide/indexing.html#returning-a-view-versus-a-copy\n",
      "  df[\"y_pred\"][df[\"y_pred\"] < 1] = 1\n"
     ]
    },
    {
     "name": "stdout",
     "output_type": "stream",
     "text": [
      "max_pending 0.25 60 2408 2405\n",
      "600 10000 1.6066082999396512\n"
     ]
    },
    {
     "name": "stderr",
     "output_type": "stream",
     "text": [
      "<ipython-input-60-1788d9335322>:45: SettingWithCopyWarning: \n",
      "A value is trying to be set on a copy of a slice from a DataFrame\n",
      "\n",
      "See the caveats in the documentation: https://pandas.pydata.org/pandas-docs/stable/user_guide/indexing.html#returning-a-view-versus-a-copy\n",
      "  df[\"y_pred\"][df[\"y_pred\"] > 5] = 5\n",
      "<ipython-input-60-1788d9335322>:46: SettingWithCopyWarning: \n",
      "A value is trying to be set on a copy of a slice from a DataFrame\n",
      "\n",
      "See the caveats in the documentation: https://pandas.pydata.org/pandas-docs/stable/user_guide/indexing.html#returning-a-view-versus-a-copy\n",
      "  df[\"y_pred\"][df[\"y_pred\"] < 1] = 1\n"
     ]
    },
    {
     "name": "stdout",
     "output_type": "stream",
     "text": [
      "max_pending 0.25 60 2169 2165\n",
      "268 10000 2.2569861708554417\n"
     ]
    },
    {
     "name": "stderr",
     "output_type": "stream",
     "text": [
      "<ipython-input-60-1788d9335322>:45: SettingWithCopyWarning: \n",
      "A value is trying to be set on a copy of a slice from a DataFrame\n",
      "\n",
      "See the caveats in the documentation: https://pandas.pydata.org/pandas-docs/stable/user_guide/indexing.html#returning-a-view-versus-a-copy\n",
      "  df[\"y_pred\"][df[\"y_pred\"] > 5] = 5\n",
      "<ipython-input-60-1788d9335322>:46: SettingWithCopyWarning: \n",
      "A value is trying to be set on a copy of a slice from a DataFrame\n",
      "\n",
      "See the caveats in the documentation: https://pandas.pydata.org/pandas-docs/stable/user_guide/indexing.html#returning-a-view-versus-a-copy\n",
      "  df[\"y_pred\"][df[\"y_pred\"] < 1] = 1\n"
     ]
    },
    {
     "name": "stdout",
     "output_type": "stream",
     "text": [
      "max_pending 0.2 60 2376 2375\n",
      "475 10000 1.7729557657918438\n"
     ]
    },
    {
     "name": "stderr",
     "output_type": "stream",
     "text": [
      "<ipython-input-60-1788d9335322>:45: SettingWithCopyWarning: \n",
      "A value is trying to be set on a copy of a slice from a DataFrame\n",
      "\n",
      "See the caveats in the documentation: https://pandas.pydata.org/pandas-docs/stable/user_guide/indexing.html#returning-a-view-versus-a-copy\n",
      "  df[\"y_pred\"][df[\"y_pred\"] > 5] = 5\n",
      "<ipython-input-60-1788d9335322>:46: SettingWithCopyWarning: \n",
      "A value is trying to be set on a copy of a slice from a DataFrame\n",
      "\n",
      "See the caveats in the documentation: https://pandas.pydata.org/pandas-docs/stable/user_guide/indexing.html#returning-a-view-versus-a-copy\n",
      "  df[\"y_pred\"][df[\"y_pred\"] < 1] = 1\n"
     ]
    },
    {
     "name": "stdout",
     "output_type": "stream",
     "text": [
      "max_pending 0.2 60 2408 2406\n",
      "481 10000 1.7391336897393055\n"
     ]
    },
    {
     "name": "stderr",
     "output_type": "stream",
     "text": [
      "<ipython-input-60-1788d9335322>:45: SettingWithCopyWarning: \n",
      "A value is trying to be set on a copy of a slice from a DataFrame\n",
      "\n",
      "See the caveats in the documentation: https://pandas.pydata.org/pandas-docs/stable/user_guide/indexing.html#returning-a-view-versus-a-copy\n",
      "  df[\"y_pred\"][df[\"y_pred\"] > 5] = 5\n",
      "<ipython-input-60-1788d9335322>:46: SettingWithCopyWarning: \n",
      "A value is trying to be set on a copy of a slice from a DataFrame\n",
      "\n",
      "See the caveats in the documentation: https://pandas.pydata.org/pandas-docs/stable/user_guide/indexing.html#returning-a-view-versus-a-copy\n",
      "  df[\"y_pred\"][df[\"y_pred\"] < 1] = 1\n"
     ]
    },
    {
     "name": "stdout",
     "output_type": "stream",
     "text": [
      "max_pending 0.2 60 2169 2165\n",
      "220 10000 2.5005773746664324\n"
     ]
    },
    {
     "name": "stderr",
     "output_type": "stream",
     "text": [
      "<ipython-input-60-1788d9335322>:45: SettingWithCopyWarning: \n",
      "A value is trying to be set on a copy of a slice from a DataFrame\n",
      "\n",
      "See the caveats in the documentation: https://pandas.pydata.org/pandas-docs/stable/user_guide/indexing.html#returning-a-view-versus-a-copy\n",
      "  df[\"y_pred\"][df[\"y_pred\"] > 5] = 5\n",
      "<ipython-input-60-1788d9335322>:46: SettingWithCopyWarning: \n",
      "A value is trying to be set on a copy of a slice from a DataFrame\n",
      "\n",
      "See the caveats in the documentation: https://pandas.pydata.org/pandas-docs/stable/user_guide/indexing.html#returning-a-view-versus-a-copy\n",
      "  df[\"y_pred\"][df[\"y_pred\"] < 1] = 1\n"
     ]
    },
    {
     "name": "stdout",
     "output_type": "stream",
     "text": [
      "max_pending 1 60 2376 2375\n",
      "2345 10000 1.146022694029641\n"
     ]
    },
    {
     "name": "stderr",
     "output_type": "stream",
     "text": [
      "<ipython-input-60-1788d9335322>:45: SettingWithCopyWarning: \n",
      "A value is trying to be set on a copy of a slice from a DataFrame\n",
      "\n",
      "See the caveats in the documentation: https://pandas.pydata.org/pandas-docs/stable/user_guide/indexing.html#returning-a-view-versus-a-copy\n",
      "  df[\"y_pred\"][df[\"y_pred\"] > 5] = 5\n",
      "<ipython-input-60-1788d9335322>:46: SettingWithCopyWarning: \n",
      "A value is trying to be set on a copy of a slice from a DataFrame\n",
      "\n",
      "See the caveats in the documentation: https://pandas.pydata.org/pandas-docs/stable/user_guide/indexing.html#returning-a-view-versus-a-copy\n",
      "  df[\"y_pred\"][df[\"y_pred\"] < 1] = 1\n"
     ]
    },
    {
     "name": "stdout",
     "output_type": "stream",
     "text": [
      "max_pending 1 60 2408 2407\n",
      "2369 10000 1.155358596269543\n"
     ]
    },
    {
     "name": "stderr",
     "output_type": "stream",
     "text": [
      "<ipython-input-60-1788d9335322>:45: SettingWithCopyWarning: \n",
      "A value is trying to be set on a copy of a slice from a DataFrame\n",
      "\n",
      "See the caveats in the documentation: https://pandas.pydata.org/pandas-docs/stable/user_guide/indexing.html#returning-a-view-versus-a-copy\n",
      "  df[\"y_pred\"][df[\"y_pred\"] > 5] = 5\n",
      "<ipython-input-60-1788d9335322>:46: SettingWithCopyWarning: \n",
      "A value is trying to be set on a copy of a slice from a DataFrame\n",
      "\n",
      "See the caveats in the documentation: https://pandas.pydata.org/pandas-docs/stable/user_guide/indexing.html#returning-a-view-versus-a-copy\n",
      "  df[\"y_pred\"][df[\"y_pred\"] < 1] = 1\n"
     ]
    },
    {
     "name": "stdout",
     "output_type": "stream",
     "text": [
      "max_pending 1 60 2169 2168\n",
      "987 10000 1.3834462274224504\n"
     ]
    },
    {
     "name": "stderr",
     "output_type": "stream",
     "text": [
      "<ipython-input-60-1788d9335322>:45: SettingWithCopyWarning: \n",
      "A value is trying to be set on a copy of a slice from a DataFrame\n",
      "\n",
      "See the caveats in the documentation: https://pandas.pydata.org/pandas-docs/stable/user_guide/indexing.html#returning-a-view-versus-a-copy\n",
      "  df[\"y_pred\"][df[\"y_pred\"] > 5] = 5\n",
      "<ipython-input-60-1788d9335322>:46: SettingWithCopyWarning: \n",
      "A value is trying to be set on a copy of a slice from a DataFrame\n",
      "\n",
      "See the caveats in the documentation: https://pandas.pydata.org/pandas-docs/stable/user_guide/indexing.html#returning-a-view-versus-a-copy\n",
      "  df[\"y_pred\"][df[\"y_pred\"] < 1] = 1\n"
     ]
    },
    {
     "name": "stdout",
     "output_type": "stream",
     "text": [
      "max_pending 2 60 2376 2375\n",
      "3757 10000 1.1035161861544935\n"
     ]
    },
    {
     "name": "stderr",
     "output_type": "stream",
     "text": [
      "<ipython-input-60-1788d9335322>:45: SettingWithCopyWarning: \n",
      "A value is trying to be set on a copy of a slice from a DataFrame\n",
      "\n",
      "See the caveats in the documentation: https://pandas.pydata.org/pandas-docs/stable/user_guide/indexing.html#returning-a-view-versus-a-copy\n",
      "  df[\"y_pred\"][df[\"y_pred\"] > 5] = 5\n",
      "<ipython-input-60-1788d9335322>:46: SettingWithCopyWarning: \n",
      "A value is trying to be set on a copy of a slice from a DataFrame\n",
      "\n",
      "See the caveats in the documentation: https://pandas.pydata.org/pandas-docs/stable/user_guide/indexing.html#returning-a-view-versus-a-copy\n",
      "  df[\"y_pred\"][df[\"y_pred\"] < 1] = 1\n"
     ]
    },
    {
     "name": "stdout",
     "output_type": "stream",
     "text": [
      "max_pending 2 60 2408 2407\n",
      "3791 10000 1.0914040135543335\n"
     ]
    },
    {
     "name": "stderr",
     "output_type": "stream",
     "text": [
      "<ipython-input-60-1788d9335322>:45: SettingWithCopyWarning: \n",
      "A value is trying to be set on a copy of a slice from a DataFrame\n",
      "\n",
      "See the caveats in the documentation: https://pandas.pydata.org/pandas-docs/stable/user_guide/indexing.html#returning-a-view-versus-a-copy\n",
      "  df[\"y_pred\"][df[\"y_pred\"] > 5] = 5\n",
      "<ipython-input-60-1788d9335322>:46: SettingWithCopyWarning: \n",
      "A value is trying to be set on a copy of a slice from a DataFrame\n",
      "\n",
      "See the caveats in the documentation: https://pandas.pydata.org/pandas-docs/stable/user_guide/indexing.html#returning-a-view-versus-a-copy\n",
      "  df[\"y_pred\"][df[\"y_pred\"] < 1] = 1\n"
     ]
    },
    {
     "name": "stdout",
     "output_type": "stream",
     "text": [
      "max_pending 2 60 2169 2168\n",
      "1682 10000 1.1864032294758409\n"
     ]
    },
    {
     "name": "stderr",
     "output_type": "stream",
     "text": [
      "<ipython-input-60-1788d9335322>:45: SettingWithCopyWarning: \n",
      "A value is trying to be set on a copy of a slice from a DataFrame\n",
      "\n",
      "See the caveats in the documentation: https://pandas.pydata.org/pandas-docs/stable/user_guide/indexing.html#returning-a-view-versus-a-copy\n",
      "  df[\"y_pred\"][df[\"y_pred\"] > 5] = 5\n",
      "<ipython-input-60-1788d9335322>:46: SettingWithCopyWarning: \n",
      "A value is trying to be set on a copy of a slice from a DataFrame\n",
      "\n",
      "See the caveats in the documentation: https://pandas.pydata.org/pandas-docs/stable/user_guide/indexing.html#returning-a-view-versus-a-copy\n",
      "  df[\"y_pred\"][df[\"y_pred\"] < 1] = 1\n"
     ]
    },
    {
     "name": "stdout",
     "output_type": "stream",
     "text": [
      "max_pending 3 60 2376 2375\n",
      "4063 10000 1.100242733404916\n"
     ]
    },
    {
     "name": "stderr",
     "output_type": "stream",
     "text": [
      "<ipython-input-60-1788d9335322>:45: SettingWithCopyWarning: \n",
      "A value is trying to be set on a copy of a slice from a DataFrame\n",
      "\n",
      "See the caveats in the documentation: https://pandas.pydata.org/pandas-docs/stable/user_guide/indexing.html#returning-a-view-versus-a-copy\n",
      "  df[\"y_pred\"][df[\"y_pred\"] > 5] = 5\n",
      "<ipython-input-60-1788d9335322>:46: SettingWithCopyWarning: \n",
      "A value is trying to be set on a copy of a slice from a DataFrame\n",
      "\n",
      "See the caveats in the documentation: https://pandas.pydata.org/pandas-docs/stable/user_guide/indexing.html#returning-a-view-versus-a-copy\n",
      "  df[\"y_pred\"][df[\"y_pred\"] < 1] = 1\n"
     ]
    },
    {
     "name": "stdout",
     "output_type": "stream",
     "text": [
      "max_pending 3 60 2408 2407\n",
      "4080 10000 1.0906381511178487\n"
     ]
    },
    {
     "name": "stderr",
     "output_type": "stream",
     "text": [
      "<ipython-input-60-1788d9335322>:45: SettingWithCopyWarning: \n",
      "A value is trying to be set on a copy of a slice from a DataFrame\n",
      "\n",
      "See the caveats in the documentation: https://pandas.pydata.org/pandas-docs/stable/user_guide/indexing.html#returning-a-view-versus-a-copy\n",
      "  df[\"y_pred\"][df[\"y_pred\"] > 5] = 5\n",
      "<ipython-input-60-1788d9335322>:46: SettingWithCopyWarning: \n",
      "A value is trying to be set on a copy of a slice from a DataFrame\n",
      "\n",
      "See the caveats in the documentation: https://pandas.pydata.org/pandas-docs/stable/user_guide/indexing.html#returning-a-view-versus-a-copy\n",
      "  df[\"y_pred\"][df[\"y_pred\"] < 1] = 1\n"
     ]
    },
    {
     "name": "stdout",
     "output_type": "stream",
     "text": [
      "max_pending 3 60 2169 2168\n",
      "2031 10000 1.1490270722723\n"
     ]
    },
    {
     "name": "stderr",
     "output_type": "stream",
     "text": [
      "<ipython-input-60-1788d9335322>:45: SettingWithCopyWarning: \n",
      "A value is trying to be set on a copy of a slice from a DataFrame\n",
      "\n",
      "See the caveats in the documentation: https://pandas.pydata.org/pandas-docs/stable/user_guide/indexing.html#returning-a-view-versus-a-copy\n",
      "  df[\"y_pred\"][df[\"y_pred\"] > 5] = 5\n",
      "<ipython-input-60-1788d9335322>:46: SettingWithCopyWarning: \n",
      "A value is trying to be set on a copy of a slice from a DataFrame\n",
      "\n",
      "See the caveats in the documentation: https://pandas.pydata.org/pandas-docs/stable/user_guide/indexing.html#returning-a-view-versus-a-copy\n",
      "  df[\"y_pred\"][df[\"y_pred\"] < 1] = 1\n"
     ]
    },
    {
     "name": "stdout",
     "output_type": "stream",
     "text": [
      "max_pending 4 60 2376 2375\n",
      "4099 10000 1.1001334566140288\n"
     ]
    },
    {
     "name": "stderr",
     "output_type": "stream",
     "text": [
      "<ipython-input-60-1788d9335322>:45: SettingWithCopyWarning: \n",
      "A value is trying to be set on a copy of a slice from a DataFrame\n",
      "\n",
      "See the caveats in the documentation: https://pandas.pydata.org/pandas-docs/stable/user_guide/indexing.html#returning-a-view-versus-a-copy\n",
      "  df[\"y_pred\"][df[\"y_pred\"] > 5] = 5\n",
      "<ipython-input-60-1788d9335322>:46: SettingWithCopyWarning: \n",
      "A value is trying to be set on a copy of a slice from a DataFrame\n",
      "\n",
      "See the caveats in the documentation: https://pandas.pydata.org/pandas-docs/stable/user_guide/indexing.html#returning-a-view-versus-a-copy\n",
      "  df[\"y_pred\"][df[\"y_pred\"] < 1] = 1\n"
     ]
    },
    {
     "name": "stdout",
     "output_type": "stream",
     "text": [
      "max_pending 4 60 2408 2407\n",
      "4117 10000 1.0906382479981227\n"
     ]
    },
    {
     "name": "stderr",
     "output_type": "stream",
     "text": [
      "<ipython-input-60-1788d9335322>:45: SettingWithCopyWarning: \n",
      "A value is trying to be set on a copy of a slice from a DataFrame\n",
      "\n",
      "See the caveats in the documentation: https://pandas.pydata.org/pandas-docs/stable/user_guide/indexing.html#returning-a-view-versus-a-copy\n",
      "  df[\"y_pred\"][df[\"y_pred\"] > 5] = 5\n",
      "<ipython-input-60-1788d9335322>:46: SettingWithCopyWarning: \n",
      "A value is trying to be set on a copy of a slice from a DataFrame\n",
      "\n",
      "See the caveats in the documentation: https://pandas.pydata.org/pandas-docs/stable/user_guide/indexing.html#returning-a-view-versus-a-copy\n",
      "  df[\"y_pred\"][df[\"y_pred\"] < 1] = 1\n"
     ]
    },
    {
     "name": "stdout",
     "output_type": "stream",
     "text": [
      "max_pending 4 60 2169 2168\n",
      "2170 10000 1.1358980210901928\n"
     ]
    },
    {
     "name": "stderr",
     "output_type": "stream",
     "text": [
      "<ipython-input-60-1788d9335322>:45: SettingWithCopyWarning: \n",
      "A value is trying to be set on a copy of a slice from a DataFrame\n",
      "\n",
      "See the caveats in the documentation: https://pandas.pydata.org/pandas-docs/stable/user_guide/indexing.html#returning-a-view-versus-a-copy\n",
      "  df[\"y_pred\"][df[\"y_pred\"] > 5] = 5\n",
      "<ipython-input-60-1788d9335322>:46: SettingWithCopyWarning: \n",
      "A value is trying to be set on a copy of a slice from a DataFrame\n",
      "\n",
      "See the caveats in the documentation: https://pandas.pydata.org/pandas-docs/stable/user_guide/indexing.html#returning-a-view-versus-a-copy\n",
      "  df[\"y_pred\"][df[\"y_pred\"] < 1] = 1\n"
     ]
    },
    {
     "name": "stdout",
     "output_type": "stream",
     "text": [
      "missing /data/wooders/ralf-vldb/results/ml-1m/max_pending_5_60_split_0.75_dist_exponential_updates.csv\n",
      "missing /data/wooders/ralf-vldb/results/ml-1m/max_pending_5_60_split_0.75_dist_gaussian_updates.csv\n",
      "max_pending 5 60 2169 2168\n",
      "2204 10000 1.1357546352084809\n"
     ]
    },
    {
     "name": "stderr",
     "output_type": "stream",
     "text": [
      "<ipython-input-60-1788d9335322>:45: SettingWithCopyWarning: \n",
      "A value is trying to be set on a copy of a slice from a DataFrame\n",
      "\n",
      "See the caveats in the documentation: https://pandas.pydata.org/pandas-docs/stable/user_guide/indexing.html#returning-a-view-versus-a-copy\n",
      "  df[\"y_pred\"][df[\"y_pred\"] > 5] = 5\n",
      "<ipython-input-60-1788d9335322>:46: SettingWithCopyWarning: \n",
      "A value is trying to be set on a copy of a slice from a DataFrame\n",
      "\n",
      "See the caveats in the documentation: https://pandas.pydata.org/pandas-docs/stable/user_guide/indexing.html#returning-a-view-versus-a-copy\n",
      "  df[\"y_pred\"][df[\"y_pred\"] < 1] = 1\n"
     ]
    },
    {
     "name": "stdout",
     "output_type": "stream",
     "text": [
      "missing /data/wooders/ralf-vldb/results/ml-1m/max_pending_8_60_split_0.75_dist_exponential_updates.csv\n",
      "missing /data/wooders/ralf-vldb/results/ml-1m/max_pending_8_60_split_0.75_dist_gaussian_updates.csv\n",
      "max_pending 8 60 2169 2168\n",
      "2210 10000 1.1357546377067504\n"
     ]
    },
    {
     "name": "stderr",
     "output_type": "stream",
     "text": [
      "<ipython-input-60-1788d9335322>:45: SettingWithCopyWarning: \n",
      "A value is trying to be set on a copy of a slice from a DataFrame\n",
      "\n",
      "See the caveats in the documentation: https://pandas.pydata.org/pandas-docs/stable/user_guide/indexing.html#returning-a-view-versus-a-copy\n",
      "  df[\"y_pred\"][df[\"y_pred\"] > 5] = 5\n",
      "<ipython-input-60-1788d9335322>:46: SettingWithCopyWarning: \n",
      "A value is trying to be set on a copy of a slice from a DataFrame\n",
      "\n",
      "See the caveats in the documentation: https://pandas.pydata.org/pandas-docs/stable/user_guide/indexing.html#returning-a-view-versus-a-copy\n",
      "  df[\"y_pred\"][df[\"y_pred\"] < 1] = 1\n"
     ]
    },
    {
     "name": "stdout",
     "output_type": "stream",
     "text": [
      "max_pending None 60 2376 nan\n",
      "0 10000 4.968573254767408\n"
     ]
    },
    {
     "name": "stderr",
     "output_type": "stream",
     "text": [
      "<ipython-input-60-1788d9335322>:45: SettingWithCopyWarning: \n",
      "A value is trying to be set on a copy of a slice from a DataFrame\n",
      "\n",
      "See the caveats in the documentation: https://pandas.pydata.org/pandas-docs/stable/user_guide/indexing.html#returning-a-view-versus-a-copy\n",
      "  df[\"y_pred\"][df[\"y_pred\"] > 5] = 5\n",
      "<ipython-input-60-1788d9335322>:46: SettingWithCopyWarning: \n",
      "A value is trying to be set on a copy of a slice from a DataFrame\n",
      "\n",
      "See the caveats in the documentation: https://pandas.pydata.org/pandas-docs/stable/user_guide/indexing.html#returning-a-view-versus-a-copy\n",
      "  df[\"y_pred\"][df[\"y_pred\"] < 1] = 1\n"
     ]
    },
    {
     "name": "stdout",
     "output_type": "stream",
     "text": [
      "max_pending None 60 2408 nan\n",
      "0 10000 4.968573254767408\n"
     ]
    },
    {
     "name": "stderr",
     "output_type": "stream",
     "text": [
      "<ipython-input-60-1788d9335322>:45: SettingWithCopyWarning: \n",
      "A value is trying to be set on a copy of a slice from a DataFrame\n",
      "\n",
      "See the caveats in the documentation: https://pandas.pydata.org/pandas-docs/stable/user_guide/indexing.html#returning-a-view-versus-a-copy\n",
      "  df[\"y_pred\"][df[\"y_pred\"] > 5] = 5\n",
      "<ipython-input-60-1788d9335322>:46: SettingWithCopyWarning: \n",
      "A value is trying to be set on a copy of a slice from a DataFrame\n",
      "\n",
      "See the caveats in the documentation: https://pandas.pydata.org/pandas-docs/stable/user_guide/indexing.html#returning-a-view-versus-a-copy\n",
      "  df[\"y_pred\"][df[\"y_pred\"] < 1] = 1\n"
     ]
    },
    {
     "name": "stdout",
     "output_type": "stream",
     "text": [
      "missing /data/wooders/ralf-vldb/results/ml-1m/max_pending_None_60_split_0.75_updates.csv\n",
      "max_pending 10000 60 2376 2375\n",
      "4101 10000 1.100133457706349\n"
     ]
    },
    {
     "name": "stderr",
     "output_type": "stream",
     "text": [
      "<ipython-input-60-1788d9335322>:45: SettingWithCopyWarning: \n",
      "A value is trying to be set on a copy of a slice from a DataFrame\n",
      "\n",
      "See the caveats in the documentation: https://pandas.pydata.org/pandas-docs/stable/user_guide/indexing.html#returning-a-view-versus-a-copy\n",
      "  df[\"y_pred\"][df[\"y_pred\"] > 5] = 5\n",
      "<ipython-input-60-1788d9335322>:46: SettingWithCopyWarning: \n",
      "A value is trying to be set on a copy of a slice from a DataFrame\n",
      "\n",
      "See the caveats in the documentation: https://pandas.pydata.org/pandas-docs/stable/user_guide/indexing.html#returning-a-view-versus-a-copy\n",
      "  df[\"y_pred\"][df[\"y_pred\"] < 1] = 1\n"
     ]
    },
    {
     "name": "stdout",
     "output_type": "stream",
     "text": [
      "max_pending 10000 60 2408 2407\n",
      "4117 10000 1.0906382492812106\n"
     ]
    },
    {
     "name": "stderr",
     "output_type": "stream",
     "text": [
      "<ipython-input-60-1788d9335322>:45: SettingWithCopyWarning: \n",
      "A value is trying to be set on a copy of a slice from a DataFrame\n",
      "\n",
      "See the caveats in the documentation: https://pandas.pydata.org/pandas-docs/stable/user_guide/indexing.html#returning-a-view-versus-a-copy\n",
      "  df[\"y_pred\"][df[\"y_pred\"] > 5] = 5\n",
      "<ipython-input-60-1788d9335322>:46: SettingWithCopyWarning: \n",
      "A value is trying to be set on a copy of a slice from a DataFrame\n",
      "\n",
      "See the caveats in the documentation: https://pandas.pydata.org/pandas-docs/stable/user_guide/indexing.html#returning-a-view-versus-a-copy\n",
      "  df[\"y_pred\"][df[\"y_pred\"] < 1] = 1\n"
     ]
    },
    {
     "name": "stdout",
     "output_type": "stream",
     "text": [
      "missing /data/wooders/ralf-vldb/results/ml-1m/max_pending_10000_60_split_0.75_updates.csv\n",
      "min_past 0.5 60 2376 2375\n",
      "1177 10000 1.18502429230722\n"
     ]
    },
    {
     "name": "stderr",
     "output_type": "stream",
     "text": [
      "<ipython-input-60-1788d9335322>:45: SettingWithCopyWarning: \n",
      "A value is trying to be set on a copy of a slice from a DataFrame\n",
      "\n",
      "See the caveats in the documentation: https://pandas.pydata.org/pandas-docs/stable/user_guide/indexing.html#returning-a-view-versus-a-copy\n",
      "  df[\"y_pred\"][df[\"y_pred\"] > 5] = 5\n",
      "<ipython-input-60-1788d9335322>:46: SettingWithCopyWarning: \n",
      "A value is trying to be set on a copy of a slice from a DataFrame\n",
      "\n",
      "See the caveats in the documentation: https://pandas.pydata.org/pandas-docs/stable/user_guide/indexing.html#returning-a-view-versus-a-copy\n",
      "  df[\"y_pred\"][df[\"y_pred\"] < 1] = 1\n"
     ]
    },
    {
     "name": "stdout",
     "output_type": "stream",
     "text": [
      "min_past 0.5 60 2408 2407\n",
      "1196 10000 1.1773865707814806\n"
     ]
    },
    {
     "name": "stderr",
     "output_type": "stream",
     "text": [
      "<ipython-input-60-1788d9335322>:45: SettingWithCopyWarning: \n",
      "A value is trying to be set on a copy of a slice from a DataFrame\n",
      "\n",
      "See the caveats in the documentation: https://pandas.pydata.org/pandas-docs/stable/user_guide/indexing.html#returning-a-view-versus-a-copy\n",
      "  df[\"y_pred\"][df[\"y_pred\"] > 5] = 5\n",
      "<ipython-input-60-1788d9335322>:46: SettingWithCopyWarning: \n",
      "A value is trying to be set on a copy of a slice from a DataFrame\n",
      "\n",
      "See the caveats in the documentation: https://pandas.pydata.org/pandas-docs/stable/user_guide/indexing.html#returning-a-view-versus-a-copy\n",
      "  df[\"y_pred\"][df[\"y_pred\"] < 1] = 1\n"
     ]
    },
    {
     "name": "stdout",
     "output_type": "stream",
     "text": [
      "min_past 0.5 60 2169 2167\n",
      "513 10000 1.291339043878491\n"
     ]
    },
    {
     "name": "stderr",
     "output_type": "stream",
     "text": [
      "<ipython-input-60-1788d9335322>:45: SettingWithCopyWarning: \n",
      "A value is trying to be set on a copy of a slice from a DataFrame\n",
      "\n",
      "See the caveats in the documentation: https://pandas.pydata.org/pandas-docs/stable/user_guide/indexing.html#returning-a-view-versus-a-copy\n",
      "  df[\"y_pred\"][df[\"y_pred\"] > 5] = 5\n",
      "<ipython-input-60-1788d9335322>:46: SettingWithCopyWarning: \n",
      "A value is trying to be set on a copy of a slice from a DataFrame\n",
      "\n",
      "See the caveats in the documentation: https://pandas.pydata.org/pandas-docs/stable/user_guide/indexing.html#returning-a-view-versus-a-copy\n",
      "  df[\"y_pred\"][df[\"y_pred\"] < 1] = 1\n"
     ]
    },
    {
     "name": "stdout",
     "output_type": "stream",
     "text": [
      "min_past 0.25 60 2376 2375\n",
      "592 10000 1.2704816118529783\n"
     ]
    },
    {
     "name": "stderr",
     "output_type": "stream",
     "text": [
      "<ipython-input-60-1788d9335322>:45: SettingWithCopyWarning: \n",
      "A value is trying to be set on a copy of a slice from a DataFrame\n",
      "\n",
      "See the caveats in the documentation: https://pandas.pydata.org/pandas-docs/stable/user_guide/indexing.html#returning-a-view-versus-a-copy\n",
      "  df[\"y_pred\"][df[\"y_pred\"] > 5] = 5\n",
      "<ipython-input-60-1788d9335322>:46: SettingWithCopyWarning: \n",
      "A value is trying to be set on a copy of a slice from a DataFrame\n",
      "\n",
      "See the caveats in the documentation: https://pandas.pydata.org/pandas-docs/stable/user_guide/indexing.html#returning-a-view-versus-a-copy\n",
      "  df[\"y_pred\"][df[\"y_pred\"] < 1] = 1\n"
     ]
    },
    {
     "name": "stdout",
     "output_type": "stream",
     "text": [
      "min_past 0.25 60 2408 2405\n",
      "600 10000 1.2885737638092851\n"
     ]
    },
    {
     "name": "stderr",
     "output_type": "stream",
     "text": [
      "<ipython-input-60-1788d9335322>:45: SettingWithCopyWarning: \n",
      "A value is trying to be set on a copy of a slice from a DataFrame\n",
      "\n",
      "See the caveats in the documentation: https://pandas.pydata.org/pandas-docs/stable/user_guide/indexing.html#returning-a-view-versus-a-copy\n",
      "  df[\"y_pred\"][df[\"y_pred\"] > 5] = 5\n",
      "<ipython-input-60-1788d9335322>:46: SettingWithCopyWarning: \n",
      "A value is trying to be set on a copy of a slice from a DataFrame\n",
      "\n",
      "See the caveats in the documentation: https://pandas.pydata.org/pandas-docs/stable/user_guide/indexing.html#returning-a-view-versus-a-copy\n",
      "  df[\"y_pred\"][df[\"y_pred\"] < 1] = 1\n"
     ]
    },
    {
     "name": "stdout",
     "output_type": "stream",
     "text": [
      "min_past 0.25 60 2169 2165\n",
      "268 10000 1.40127128479549\n"
     ]
    },
    {
     "name": "stderr",
     "output_type": "stream",
     "text": [
      "<ipython-input-60-1788d9335322>:45: SettingWithCopyWarning: \n",
      "A value is trying to be set on a copy of a slice from a DataFrame\n",
      "\n",
      "See the caveats in the documentation: https://pandas.pydata.org/pandas-docs/stable/user_guide/indexing.html#returning-a-view-versus-a-copy\n",
      "  df[\"y_pred\"][df[\"y_pred\"] > 5] = 5\n",
      "<ipython-input-60-1788d9335322>:46: SettingWithCopyWarning: \n",
      "A value is trying to be set on a copy of a slice from a DataFrame\n",
      "\n",
      "See the caveats in the documentation: https://pandas.pydata.org/pandas-docs/stable/user_guide/indexing.html#returning-a-view-versus-a-copy\n",
      "  df[\"y_pred\"][df[\"y_pred\"] < 1] = 1\n"
     ]
    },
    {
     "name": "stdout",
     "output_type": "stream",
     "text": [
      "min_past 0.2 60 2376 2375\n",
      "475 10000 1.2916059920213432\n"
     ]
    },
    {
     "name": "stderr",
     "output_type": "stream",
     "text": [
      "<ipython-input-60-1788d9335322>:45: SettingWithCopyWarning: \n",
      "A value is trying to be set on a copy of a slice from a DataFrame\n",
      "\n",
      "See the caveats in the documentation: https://pandas.pydata.org/pandas-docs/stable/user_guide/indexing.html#returning-a-view-versus-a-copy\n",
      "  df[\"y_pred\"][df[\"y_pred\"] > 5] = 5\n",
      "<ipython-input-60-1788d9335322>:46: SettingWithCopyWarning: \n",
      "A value is trying to be set on a copy of a slice from a DataFrame\n",
      "\n",
      "See the caveats in the documentation: https://pandas.pydata.org/pandas-docs/stable/user_guide/indexing.html#returning-a-view-versus-a-copy\n",
      "  df[\"y_pred\"][df[\"y_pred\"] < 1] = 1\n"
     ]
    },
    {
     "name": "stdout",
     "output_type": "stream",
     "text": [
      "min_past 0.2 60 2408 2406\n",
      "481 10000 1.3128295328789987\n"
     ]
    },
    {
     "name": "stderr",
     "output_type": "stream",
     "text": [
      "<ipython-input-60-1788d9335322>:45: SettingWithCopyWarning: \n",
      "A value is trying to be set on a copy of a slice from a DataFrame\n",
      "\n",
      "See the caveats in the documentation: https://pandas.pydata.org/pandas-docs/stable/user_guide/indexing.html#returning-a-view-versus-a-copy\n",
      "  df[\"y_pred\"][df[\"y_pred\"] > 5] = 5\n",
      "<ipython-input-60-1788d9335322>:46: SettingWithCopyWarning: \n",
      "A value is trying to be set on a copy of a slice from a DataFrame\n",
      "\n",
      "See the caveats in the documentation: https://pandas.pydata.org/pandas-docs/stable/user_guide/indexing.html#returning-a-view-versus-a-copy\n",
      "  df[\"y_pred\"][df[\"y_pred\"] < 1] = 1\n"
     ]
    },
    {
     "name": "stdout",
     "output_type": "stream",
     "text": [
      "min_past 0.2 60 2169 2165\n",
      "220 10000 1.5024664330776039\n"
     ]
    },
    {
     "name": "stderr",
     "output_type": "stream",
     "text": [
      "<ipython-input-60-1788d9335322>:45: SettingWithCopyWarning: \n",
      "A value is trying to be set on a copy of a slice from a DataFrame\n",
      "\n",
      "See the caveats in the documentation: https://pandas.pydata.org/pandas-docs/stable/user_guide/indexing.html#returning-a-view-versus-a-copy\n",
      "  df[\"y_pred\"][df[\"y_pred\"] > 5] = 5\n",
      "<ipython-input-60-1788d9335322>:46: SettingWithCopyWarning: \n",
      "A value is trying to be set on a copy of a slice from a DataFrame\n",
      "\n",
      "See the caveats in the documentation: https://pandas.pydata.org/pandas-docs/stable/user_guide/indexing.html#returning-a-view-versus-a-copy\n",
      "  df[\"y_pred\"][df[\"y_pred\"] < 1] = 1\n"
     ]
    },
    {
     "name": "stdout",
     "output_type": "stream",
     "text": [
      "min_past 1 60 2376 2375\n",
      "2345 10000 1.1381287204515373\n"
     ]
    },
    {
     "name": "stderr",
     "output_type": "stream",
     "text": [
      "<ipython-input-60-1788d9335322>:45: SettingWithCopyWarning: \n",
      "A value is trying to be set on a copy of a slice from a DataFrame\n",
      "\n",
      "See the caveats in the documentation: https://pandas.pydata.org/pandas-docs/stable/user_guide/indexing.html#returning-a-view-versus-a-copy\n",
      "  df[\"y_pred\"][df[\"y_pred\"] > 5] = 5\n",
      "<ipython-input-60-1788d9335322>:46: SettingWithCopyWarning: \n",
      "A value is trying to be set on a copy of a slice from a DataFrame\n",
      "\n",
      "See the caveats in the documentation: https://pandas.pydata.org/pandas-docs/stable/user_guide/indexing.html#returning-a-view-versus-a-copy\n",
      "  df[\"y_pred\"][df[\"y_pred\"] < 1] = 1\n"
     ]
    },
    {
     "name": "stdout",
     "output_type": "stream",
     "text": [
      "min_past 1 60 2408 2407\n",
      "2369 10000 1.1354548345445663\n"
     ]
    },
    {
     "name": "stderr",
     "output_type": "stream",
     "text": [
      "<ipython-input-60-1788d9335322>:45: SettingWithCopyWarning: \n",
      "A value is trying to be set on a copy of a slice from a DataFrame\n",
      "\n",
      "See the caveats in the documentation: https://pandas.pydata.org/pandas-docs/stable/user_guide/indexing.html#returning-a-view-versus-a-copy\n",
      "  df[\"y_pred\"][df[\"y_pred\"] > 5] = 5\n",
      "<ipython-input-60-1788d9335322>:46: SettingWithCopyWarning: \n",
      "A value is trying to be set on a copy of a slice from a DataFrame\n",
      "\n",
      "See the caveats in the documentation: https://pandas.pydata.org/pandas-docs/stable/user_guide/indexing.html#returning-a-view-versus-a-copy\n",
      "  df[\"y_pred\"][df[\"y_pred\"] < 1] = 1\n"
     ]
    },
    {
     "name": "stdout",
     "output_type": "stream",
     "text": [
      "min_past 1 60 2169 2168\n",
      "987 10000 1.2162851203696972\n"
     ]
    },
    {
     "name": "stderr",
     "output_type": "stream",
     "text": [
      "<ipython-input-60-1788d9335322>:45: SettingWithCopyWarning: \n",
      "A value is trying to be set on a copy of a slice from a DataFrame\n",
      "\n",
      "See the caveats in the documentation: https://pandas.pydata.org/pandas-docs/stable/user_guide/indexing.html#returning-a-view-versus-a-copy\n",
      "  df[\"y_pred\"][df[\"y_pred\"] > 5] = 5\n",
      "<ipython-input-60-1788d9335322>:46: SettingWithCopyWarning: \n",
      "A value is trying to be set on a copy of a slice from a DataFrame\n",
      "\n",
      "See the caveats in the documentation: https://pandas.pydata.org/pandas-docs/stable/user_guide/indexing.html#returning-a-view-versus-a-copy\n",
      "  df[\"y_pred\"][df[\"y_pred\"] < 1] = 1\n"
     ]
    },
    {
     "name": "stdout",
     "output_type": "stream",
     "text": [
      "min_past 2 60 2376 2375\n",
      "3753 10000 1.1037426747956045\n"
     ]
    },
    {
     "name": "stderr",
     "output_type": "stream",
     "text": [
      "<ipython-input-60-1788d9335322>:45: SettingWithCopyWarning: \n",
      "A value is trying to be set on a copy of a slice from a DataFrame\n",
      "\n",
      "See the caveats in the documentation: https://pandas.pydata.org/pandas-docs/stable/user_guide/indexing.html#returning-a-view-versus-a-copy\n",
      "  df[\"y_pred\"][df[\"y_pred\"] > 5] = 5\n",
      "<ipython-input-60-1788d9335322>:46: SettingWithCopyWarning: \n",
      "A value is trying to be set on a copy of a slice from a DataFrame\n",
      "\n",
      "See the caveats in the documentation: https://pandas.pydata.org/pandas-docs/stable/user_guide/indexing.html#returning-a-view-versus-a-copy\n",
      "  df[\"y_pred\"][df[\"y_pred\"] < 1] = 1\n"
     ]
    },
    {
     "name": "stdout",
     "output_type": "stream",
     "text": [
      "min_past 2 60 2408 2407\n",
      "3760 10000 1.0929374856594285\n"
     ]
    },
    {
     "name": "stderr",
     "output_type": "stream",
     "text": [
      "<ipython-input-60-1788d9335322>:45: SettingWithCopyWarning: \n",
      "A value is trying to be set on a copy of a slice from a DataFrame\n",
      "\n",
      "See the caveats in the documentation: https://pandas.pydata.org/pandas-docs/stable/user_guide/indexing.html#returning-a-view-versus-a-copy\n",
      "  df[\"y_pred\"][df[\"y_pred\"] > 5] = 5\n",
      "<ipython-input-60-1788d9335322>:46: SettingWithCopyWarning: \n",
      "A value is trying to be set on a copy of a slice from a DataFrame\n",
      "\n",
      "See the caveats in the documentation: https://pandas.pydata.org/pandas-docs/stable/user_guide/indexing.html#returning-a-view-versus-a-copy\n",
      "  df[\"y_pred\"][df[\"y_pred\"] < 1] = 1\n"
     ]
    },
    {
     "name": "stdout",
     "output_type": "stream",
     "text": [
      "min_past 2 60 2169 2168\n",
      "1664 10000 1.1587740108854707\n"
     ]
    },
    {
     "name": "stderr",
     "output_type": "stream",
     "text": [
      "<ipython-input-60-1788d9335322>:45: SettingWithCopyWarning: \n",
      "A value is trying to be set on a copy of a slice from a DataFrame\n",
      "\n",
      "See the caveats in the documentation: https://pandas.pydata.org/pandas-docs/stable/user_guide/indexing.html#returning-a-view-versus-a-copy\n",
      "  df[\"y_pred\"][df[\"y_pred\"] > 5] = 5\n",
      "<ipython-input-60-1788d9335322>:46: SettingWithCopyWarning: \n",
      "A value is trying to be set on a copy of a slice from a DataFrame\n",
      "\n",
      "See the caveats in the documentation: https://pandas.pydata.org/pandas-docs/stable/user_guide/indexing.html#returning-a-view-versus-a-copy\n",
      "  df[\"y_pred\"][df[\"y_pred\"] < 1] = 1\n"
     ]
    },
    {
     "name": "stdout",
     "output_type": "stream",
     "text": [
      "min_past 3 60 2376 2375\n",
      "4059 10000 1.1003509824704734\n"
     ]
    },
    {
     "name": "stderr",
     "output_type": "stream",
     "text": [
      "<ipython-input-60-1788d9335322>:45: SettingWithCopyWarning: \n",
      "A value is trying to be set on a copy of a slice from a DataFrame\n",
      "\n",
      "See the caveats in the documentation: https://pandas.pydata.org/pandas-docs/stable/user_guide/indexing.html#returning-a-view-versus-a-copy\n",
      "  df[\"y_pred\"][df[\"y_pred\"] > 5] = 5\n",
      "<ipython-input-60-1788d9335322>:46: SettingWithCopyWarning: \n",
      "A value is trying to be set on a copy of a slice from a DataFrame\n",
      "\n",
      "See the caveats in the documentation: https://pandas.pydata.org/pandas-docs/stable/user_guide/indexing.html#returning-a-view-versus-a-copy\n",
      "  df[\"y_pred\"][df[\"y_pred\"] < 1] = 1\n"
     ]
    },
    {
     "name": "stdout",
     "output_type": "stream",
     "text": [
      "min_past 3 60 2408 2407\n",
      "4071 10000 1.0906391880507302\n"
     ]
    },
    {
     "name": "stderr",
     "output_type": "stream",
     "text": [
      "<ipython-input-60-1788d9335322>:45: SettingWithCopyWarning: \n",
      "A value is trying to be set on a copy of a slice from a DataFrame\n",
      "\n",
      "See the caveats in the documentation: https://pandas.pydata.org/pandas-docs/stable/user_guide/indexing.html#returning-a-view-versus-a-copy\n",
      "  df[\"y_pred\"][df[\"y_pred\"] > 5] = 5\n",
      "<ipython-input-60-1788d9335322>:46: SettingWithCopyWarning: \n",
      "A value is trying to be set on a copy of a slice from a DataFrame\n",
      "\n",
      "See the caveats in the documentation: https://pandas.pydata.org/pandas-docs/stable/user_guide/indexing.html#returning-a-view-versus-a-copy\n",
      "  df[\"y_pred\"][df[\"y_pred\"] < 1] = 1\n"
     ]
    },
    {
     "name": "stdout",
     "output_type": "stream",
     "text": [
      "min_past 3 60 2169 2168\n",
      "2012 10000 1.1382188629566916\n"
     ]
    },
    {
     "name": "stderr",
     "output_type": "stream",
     "text": [
      "<ipython-input-60-1788d9335322>:45: SettingWithCopyWarning: \n",
      "A value is trying to be set on a copy of a slice from a DataFrame\n",
      "\n",
      "See the caveats in the documentation: https://pandas.pydata.org/pandas-docs/stable/user_guide/indexing.html#returning-a-view-versus-a-copy\n",
      "  df[\"y_pred\"][df[\"y_pred\"] > 5] = 5\n",
      "<ipython-input-60-1788d9335322>:46: SettingWithCopyWarning: \n",
      "A value is trying to be set on a copy of a slice from a DataFrame\n",
      "\n",
      "See the caveats in the documentation: https://pandas.pydata.org/pandas-docs/stable/user_guide/indexing.html#returning-a-view-versus-a-copy\n",
      "  df[\"y_pred\"][df[\"y_pred\"] < 1] = 1\n"
     ]
    },
    {
     "name": "stdout",
     "output_type": "stream",
     "text": [
      "min_past 4 60 2376 2375\n",
      "4101 10000 1.100133438970672\n"
     ]
    },
    {
     "name": "stderr",
     "output_type": "stream",
     "text": [
      "<ipython-input-60-1788d9335322>:45: SettingWithCopyWarning: \n",
      "A value is trying to be set on a copy of a slice from a DataFrame\n",
      "\n",
      "See the caveats in the documentation: https://pandas.pydata.org/pandas-docs/stable/user_guide/indexing.html#returning-a-view-versus-a-copy\n",
      "  df[\"y_pred\"][df[\"y_pred\"] > 5] = 5\n",
      "<ipython-input-60-1788d9335322>:46: SettingWithCopyWarning: \n",
      "A value is trying to be set on a copy of a slice from a DataFrame\n",
      "\n",
      "See the caveats in the documentation: https://pandas.pydata.org/pandas-docs/stable/user_guide/indexing.html#returning-a-view-versus-a-copy\n",
      "  df[\"y_pred\"][df[\"y_pred\"] < 1] = 1\n"
     ]
    },
    {
     "name": "stdout",
     "output_type": "stream",
     "text": [
      "min_past 4 60 2408 2407\n",
      "4117 10000 1.090638255304247\n"
     ]
    },
    {
     "name": "stderr",
     "output_type": "stream",
     "text": [
      "<ipython-input-60-1788d9335322>:45: SettingWithCopyWarning: \n",
      "A value is trying to be set on a copy of a slice from a DataFrame\n",
      "\n",
      "See the caveats in the documentation: https://pandas.pydata.org/pandas-docs/stable/user_guide/indexing.html#returning-a-view-versus-a-copy\n",
      "  df[\"y_pred\"][df[\"y_pred\"] > 5] = 5\n",
      "<ipython-input-60-1788d9335322>:46: SettingWithCopyWarning: \n",
      "A value is trying to be set on a copy of a slice from a DataFrame\n",
      "\n",
      "See the caveats in the documentation: https://pandas.pydata.org/pandas-docs/stable/user_guide/indexing.html#returning-a-view-versus-a-copy\n",
      "  df[\"y_pred\"][df[\"y_pred\"] < 1] = 1\n"
     ]
    },
    {
     "name": "stdout",
     "output_type": "stream",
     "text": [
      "min_past 4 60 2169 2168\n",
      "2158 10000 1.1364576700226292\n"
     ]
    },
    {
     "name": "stderr",
     "output_type": "stream",
     "text": [
      "<ipython-input-60-1788d9335322>:45: SettingWithCopyWarning: \n",
      "A value is trying to be set on a copy of a slice from a DataFrame\n",
      "\n",
      "See the caveats in the documentation: https://pandas.pydata.org/pandas-docs/stable/user_guide/indexing.html#returning-a-view-versus-a-copy\n",
      "  df[\"y_pred\"][df[\"y_pred\"] > 5] = 5\n",
      "<ipython-input-60-1788d9335322>:46: SettingWithCopyWarning: \n",
      "A value is trying to be set on a copy of a slice from a DataFrame\n",
      "\n",
      "See the caveats in the documentation: https://pandas.pydata.org/pandas-docs/stable/user_guide/indexing.html#returning-a-view-versus-a-copy\n",
      "  df[\"y_pred\"][df[\"y_pred\"] < 1] = 1\n"
     ]
    },
    {
     "name": "stdout",
     "output_type": "stream",
     "text": [
      "missing /data/wooders/ralf-vldb/results/ml-1m/min_past_5_60_split_0.75_dist_exponential_updates.csv\n",
      "missing /data/wooders/ralf-vldb/results/ml-1m/min_past_5_60_split_0.75_dist_gaussian_updates.csv\n",
      "min_past 5 60 2169 2168\n",
      "2202 10000 1.1360091561864691\n"
     ]
    },
    {
     "name": "stderr",
     "output_type": "stream",
     "text": [
      "<ipython-input-60-1788d9335322>:45: SettingWithCopyWarning: \n",
      "A value is trying to be set on a copy of a slice from a DataFrame\n",
      "\n",
      "See the caveats in the documentation: https://pandas.pydata.org/pandas-docs/stable/user_guide/indexing.html#returning-a-view-versus-a-copy\n",
      "  df[\"y_pred\"][df[\"y_pred\"] > 5] = 5\n",
      "<ipython-input-60-1788d9335322>:46: SettingWithCopyWarning: \n",
      "A value is trying to be set on a copy of a slice from a DataFrame\n",
      "\n",
      "See the caveats in the documentation: https://pandas.pydata.org/pandas-docs/stable/user_guide/indexing.html#returning-a-view-versus-a-copy\n",
      "  df[\"y_pred\"][df[\"y_pred\"] < 1] = 1\n"
     ]
    },
    {
     "name": "stdout",
     "output_type": "stream",
     "text": [
      "missing /data/wooders/ralf-vldb/results/ml-1m/min_past_8_60_split_0.75_dist_exponential_updates.csv\n",
      "missing /data/wooders/ralf-vldb/results/ml-1m/min_past_8_60_split_0.75_dist_gaussian_updates.csv\n",
      "min_past 8 60 2169 2168\n",
      "2210 10000 1.1357546377067504\n"
     ]
    },
    {
     "name": "stderr",
     "output_type": "stream",
     "text": [
      "<ipython-input-60-1788d9335322>:45: SettingWithCopyWarning: \n",
      "A value is trying to be set on a copy of a slice from a DataFrame\n",
      "\n",
      "See the caveats in the documentation: https://pandas.pydata.org/pandas-docs/stable/user_guide/indexing.html#returning-a-view-versus-a-copy\n",
      "  df[\"y_pred\"][df[\"y_pred\"] > 5] = 5\n",
      "<ipython-input-60-1788d9335322>:46: SettingWithCopyWarning: \n",
      "A value is trying to be set on a copy of a slice from a DataFrame\n",
      "\n",
      "See the caveats in the documentation: https://pandas.pydata.org/pandas-docs/stable/user_guide/indexing.html#returning-a-view-versus-a-copy\n",
      "  df[\"y_pred\"][df[\"y_pred\"] < 1] = 1\n"
     ]
    },
    {
     "name": "stdout",
     "output_type": "stream",
     "text": [
      "min_past None 60 2376 nan\n",
      "0 10000 4.968573254767408\n"
     ]
    },
    {
     "name": "stderr",
     "output_type": "stream",
     "text": [
      "<ipython-input-60-1788d9335322>:45: SettingWithCopyWarning: \n",
      "A value is trying to be set on a copy of a slice from a DataFrame\n",
      "\n",
      "See the caveats in the documentation: https://pandas.pydata.org/pandas-docs/stable/user_guide/indexing.html#returning-a-view-versus-a-copy\n",
      "  df[\"y_pred\"][df[\"y_pred\"] > 5] = 5\n",
      "<ipython-input-60-1788d9335322>:46: SettingWithCopyWarning: \n",
      "A value is trying to be set on a copy of a slice from a DataFrame\n",
      "\n",
      "See the caveats in the documentation: https://pandas.pydata.org/pandas-docs/stable/user_guide/indexing.html#returning-a-view-versus-a-copy\n",
      "  df[\"y_pred\"][df[\"y_pred\"] < 1] = 1\n"
     ]
    },
    {
     "name": "stdout",
     "output_type": "stream",
     "text": [
      "min_past None 60 2408 nan\n",
      "0 10000 4.968573254767408\n"
     ]
    },
    {
     "name": "stderr",
     "output_type": "stream",
     "text": [
      "<ipython-input-60-1788d9335322>:45: SettingWithCopyWarning: \n",
      "A value is trying to be set on a copy of a slice from a DataFrame\n",
      "\n",
      "See the caveats in the documentation: https://pandas.pydata.org/pandas-docs/stable/user_guide/indexing.html#returning-a-view-versus-a-copy\n",
      "  df[\"y_pred\"][df[\"y_pred\"] > 5] = 5\n",
      "<ipython-input-60-1788d9335322>:46: SettingWithCopyWarning: \n",
      "A value is trying to be set on a copy of a slice from a DataFrame\n",
      "\n",
      "See the caveats in the documentation: https://pandas.pydata.org/pandas-docs/stable/user_guide/indexing.html#returning-a-view-versus-a-copy\n",
      "  df[\"y_pred\"][df[\"y_pred\"] < 1] = 1\n"
     ]
    },
    {
     "name": "stdout",
     "output_type": "stream",
     "text": [
      "missing /data/wooders/ralf-vldb/results/ml-1m/min_past_None_60_split_0.75_updates.csv\n",
      "min_past 10000 60 2376 2375\n",
      "4101 10000 1.100133457706349\n"
     ]
    },
    {
     "name": "stderr",
     "output_type": "stream",
     "text": [
      "<ipython-input-60-1788d9335322>:45: SettingWithCopyWarning: \n",
      "A value is trying to be set on a copy of a slice from a DataFrame\n",
      "\n",
      "See the caveats in the documentation: https://pandas.pydata.org/pandas-docs/stable/user_guide/indexing.html#returning-a-view-versus-a-copy\n",
      "  df[\"y_pred\"][df[\"y_pred\"] > 5] = 5\n",
      "<ipython-input-60-1788d9335322>:46: SettingWithCopyWarning: \n",
      "A value is trying to be set on a copy of a slice from a DataFrame\n",
      "\n",
      "See the caveats in the documentation: https://pandas.pydata.org/pandas-docs/stable/user_guide/indexing.html#returning-a-view-versus-a-copy\n",
      "  df[\"y_pred\"][df[\"y_pred\"] < 1] = 1\n"
     ]
    },
    {
     "name": "stdout",
     "output_type": "stream",
     "text": [
      "min_past 10000 60 2408 2407\n",
      "4117 10000 1.0906382492812106\n"
     ]
    },
    {
     "name": "stderr",
     "output_type": "stream",
     "text": [
      "<ipython-input-60-1788d9335322>:45: SettingWithCopyWarning: \n",
      "A value is trying to be set on a copy of a slice from a DataFrame\n",
      "\n",
      "See the caveats in the documentation: https://pandas.pydata.org/pandas-docs/stable/user_guide/indexing.html#returning-a-view-versus-a-copy\n",
      "  df[\"y_pred\"][df[\"y_pred\"] > 5] = 5\n",
      "<ipython-input-60-1788d9335322>:46: SettingWithCopyWarning: \n",
      "A value is trying to be set on a copy of a slice from a DataFrame\n",
      "\n",
      "See the caveats in the documentation: https://pandas.pydata.org/pandas-docs/stable/user_guide/indexing.html#returning-a-view-versus-a-copy\n",
      "  df[\"y_pred\"][df[\"y_pred\"] < 1] = 1\n"
     ]
    },
    {
     "name": "stdout",
     "output_type": "stream",
     "text": [
      "missing /data/wooders/ralf-vldb/results/ml-1m/min_past_10000_60_split_0.75_updates.csv\n",
      "round_robin 0.5 60 2376 2375\n",
      "1177 10000 1.1744502432883261\n"
     ]
    },
    {
     "name": "stderr",
     "output_type": "stream",
     "text": [
      "<ipython-input-60-1788d9335322>:45: SettingWithCopyWarning: \n",
      "A value is trying to be set on a copy of a slice from a DataFrame\n",
      "\n",
      "See the caveats in the documentation: https://pandas.pydata.org/pandas-docs/stable/user_guide/indexing.html#returning-a-view-versus-a-copy\n",
      "  df[\"y_pred\"][df[\"y_pred\"] > 5] = 5\n",
      "<ipython-input-60-1788d9335322>:46: SettingWithCopyWarning: \n",
      "A value is trying to be set on a copy of a slice from a DataFrame\n",
      "\n",
      "See the caveats in the documentation: https://pandas.pydata.org/pandas-docs/stable/user_guide/indexing.html#returning-a-view-versus-a-copy\n",
      "  df[\"y_pred\"][df[\"y_pred\"] < 1] = 1\n"
     ]
    },
    {
     "name": "stdout",
     "output_type": "stream",
     "text": [
      "round_robin 0.5 60 2408 2407\n",
      "1196 10000 1.1384614873125205\n"
     ]
    },
    {
     "name": "stderr",
     "output_type": "stream",
     "text": [
      "<ipython-input-60-1788d9335322>:45: SettingWithCopyWarning: \n",
      "A value is trying to be set on a copy of a slice from a DataFrame\n",
      "\n",
      "See the caveats in the documentation: https://pandas.pydata.org/pandas-docs/stable/user_guide/indexing.html#returning-a-view-versus-a-copy\n",
      "  df[\"y_pred\"][df[\"y_pred\"] > 5] = 5\n",
      "<ipython-input-60-1788d9335322>:46: SettingWithCopyWarning: \n",
      "A value is trying to be set on a copy of a slice from a DataFrame\n",
      "\n",
      "See the caveats in the documentation: https://pandas.pydata.org/pandas-docs/stable/user_guide/indexing.html#returning-a-view-versus-a-copy\n",
      "  df[\"y_pred\"][df[\"y_pred\"] < 1] = 1\n"
     ]
    },
    {
     "name": "stdout",
     "output_type": "stream",
     "text": [
      "round_robin 0.5 60 2169 2167\n",
      "513 10000 1.8967591096614655\n"
     ]
    },
    {
     "name": "stderr",
     "output_type": "stream",
     "text": [
      "<ipython-input-60-1788d9335322>:45: SettingWithCopyWarning: \n",
      "A value is trying to be set on a copy of a slice from a DataFrame\n",
      "\n",
      "See the caveats in the documentation: https://pandas.pydata.org/pandas-docs/stable/user_guide/indexing.html#returning-a-view-versus-a-copy\n",
      "  df[\"y_pred\"][df[\"y_pred\"] > 5] = 5\n",
      "<ipython-input-60-1788d9335322>:46: SettingWithCopyWarning: \n",
      "A value is trying to be set on a copy of a slice from a DataFrame\n",
      "\n",
      "See the caveats in the documentation: https://pandas.pydata.org/pandas-docs/stable/user_guide/indexing.html#returning-a-view-versus-a-copy\n",
      "  df[\"y_pred\"][df[\"y_pred\"] < 1] = 1\n"
     ]
    },
    {
     "name": "stdout",
     "output_type": "stream",
     "text": [
      "round_robin 0.25 60 2376 2375\n",
      "592 10000 1.256623046262641\n"
     ]
    },
    {
     "name": "stderr",
     "output_type": "stream",
     "text": [
      "<ipython-input-60-1788d9335322>:45: SettingWithCopyWarning: \n",
      "A value is trying to be set on a copy of a slice from a DataFrame\n",
      "\n",
      "See the caveats in the documentation: https://pandas.pydata.org/pandas-docs/stable/user_guide/indexing.html#returning-a-view-versus-a-copy\n",
      "  df[\"y_pred\"][df[\"y_pred\"] > 5] = 5\n",
      "<ipython-input-60-1788d9335322>:46: SettingWithCopyWarning: \n",
      "A value is trying to be set on a copy of a slice from a DataFrame\n",
      "\n",
      "See the caveats in the documentation: https://pandas.pydata.org/pandas-docs/stable/user_guide/indexing.html#returning-a-view-versus-a-copy\n",
      "  df[\"y_pred\"][df[\"y_pred\"] < 1] = 1\n"
     ]
    },
    {
     "name": "stdout",
     "output_type": "stream",
     "text": [
      "round_robin 0.25 60 2408 2405\n",
      "600 10000 1.3155332812707679\n"
     ]
    },
    {
     "name": "stderr",
     "output_type": "stream",
     "text": [
      "<ipython-input-60-1788d9335322>:45: SettingWithCopyWarning: \n",
      "A value is trying to be set on a copy of a slice from a DataFrame\n",
      "\n",
      "See the caveats in the documentation: https://pandas.pydata.org/pandas-docs/stable/user_guide/indexing.html#returning-a-view-versus-a-copy\n",
      "  df[\"y_pred\"][df[\"y_pred\"] > 5] = 5\n",
      "<ipython-input-60-1788d9335322>:46: SettingWithCopyWarning: \n",
      "A value is trying to be set on a copy of a slice from a DataFrame\n",
      "\n",
      "See the caveats in the documentation: https://pandas.pydata.org/pandas-docs/stable/user_guide/indexing.html#returning-a-view-versus-a-copy\n",
      "  df[\"y_pred\"][df[\"y_pred\"] < 1] = 1\n"
     ]
    },
    {
     "name": "stdout",
     "output_type": "stream",
     "text": [
      "round_robin 0.25 60 2169 2165\n",
      "268 10000 1.9197572091191173\n"
     ]
    },
    {
     "name": "stderr",
     "output_type": "stream",
     "text": [
      "<ipython-input-60-1788d9335322>:45: SettingWithCopyWarning: \n",
      "A value is trying to be set on a copy of a slice from a DataFrame\n",
      "\n",
      "See the caveats in the documentation: https://pandas.pydata.org/pandas-docs/stable/user_guide/indexing.html#returning-a-view-versus-a-copy\n",
      "  df[\"y_pred\"][df[\"y_pred\"] > 5] = 5\n",
      "<ipython-input-60-1788d9335322>:46: SettingWithCopyWarning: \n",
      "A value is trying to be set on a copy of a slice from a DataFrame\n",
      "\n",
      "See the caveats in the documentation: https://pandas.pydata.org/pandas-docs/stable/user_guide/indexing.html#returning-a-view-versus-a-copy\n",
      "  df[\"y_pred\"][df[\"y_pred\"] < 1] = 1\n"
     ]
    },
    {
     "name": "stdout",
     "output_type": "stream",
     "text": [
      "round_robin 0.2 60 2376 2375\n",
      "475 10000 1.3498660824608604\n"
     ]
    },
    {
     "name": "stderr",
     "output_type": "stream",
     "text": [
      "<ipython-input-60-1788d9335322>:45: SettingWithCopyWarning: \n",
      "A value is trying to be set on a copy of a slice from a DataFrame\n",
      "\n",
      "See the caveats in the documentation: https://pandas.pydata.org/pandas-docs/stable/user_guide/indexing.html#returning-a-view-versus-a-copy\n",
      "  df[\"y_pred\"][df[\"y_pred\"] > 5] = 5\n",
      "<ipython-input-60-1788d9335322>:46: SettingWithCopyWarning: \n",
      "A value is trying to be set on a copy of a slice from a DataFrame\n",
      "\n",
      "See the caveats in the documentation: https://pandas.pydata.org/pandas-docs/stable/user_guide/indexing.html#returning-a-view-versus-a-copy\n",
      "  df[\"y_pred\"][df[\"y_pred\"] < 1] = 1\n"
     ]
    },
    {
     "name": "stdout",
     "output_type": "stream",
     "text": [
      "round_robin 0.2 60 2408 2406\n",
      "481 10000 1.3545411539582142\n"
     ]
    },
    {
     "name": "stderr",
     "output_type": "stream",
     "text": [
      "<ipython-input-60-1788d9335322>:45: SettingWithCopyWarning: \n",
      "A value is trying to be set on a copy of a slice from a DataFrame\n",
      "\n",
      "See the caveats in the documentation: https://pandas.pydata.org/pandas-docs/stable/user_guide/indexing.html#returning-a-view-versus-a-copy\n",
      "  df[\"y_pred\"][df[\"y_pred\"] > 5] = 5\n",
      "<ipython-input-60-1788d9335322>:46: SettingWithCopyWarning: \n",
      "A value is trying to be set on a copy of a slice from a DataFrame\n",
      "\n",
      "See the caveats in the documentation: https://pandas.pydata.org/pandas-docs/stable/user_guide/indexing.html#returning-a-view-versus-a-copy\n",
      "  df[\"y_pred\"][df[\"y_pred\"] < 1] = 1\n"
     ]
    },
    {
     "name": "stdout",
     "output_type": "stream",
     "text": [
      "round_robin 0.2 60 2169 2165\n",
      "220 10000 3.6081761903691136\n"
     ]
    },
    {
     "name": "stderr",
     "output_type": "stream",
     "text": [
      "<ipython-input-60-1788d9335322>:45: SettingWithCopyWarning: \n",
      "A value is trying to be set on a copy of a slice from a DataFrame\n",
      "\n",
      "See the caveats in the documentation: https://pandas.pydata.org/pandas-docs/stable/user_guide/indexing.html#returning-a-view-versus-a-copy\n",
      "  df[\"y_pred\"][df[\"y_pred\"] > 5] = 5\n",
      "<ipython-input-60-1788d9335322>:46: SettingWithCopyWarning: \n",
      "A value is trying to be set on a copy of a slice from a DataFrame\n",
      "\n",
      "See the caveats in the documentation: https://pandas.pydata.org/pandas-docs/stable/user_guide/indexing.html#returning-a-view-versus-a-copy\n",
      "  df[\"y_pred\"][df[\"y_pred\"] < 1] = 1\n"
     ]
    },
    {
     "name": "stdout",
     "output_type": "stream",
     "text": [
      "round_robin 1 60 2376 2375\n",
      "2345 10000 1.1071263480575688\n"
     ]
    },
    {
     "name": "stderr",
     "output_type": "stream",
     "text": [
      "<ipython-input-60-1788d9335322>:45: SettingWithCopyWarning: \n",
      "A value is trying to be set on a copy of a slice from a DataFrame\n",
      "\n",
      "See the caveats in the documentation: https://pandas.pydata.org/pandas-docs/stable/user_guide/indexing.html#returning-a-view-versus-a-copy\n",
      "  df[\"y_pred\"][df[\"y_pred\"] > 5] = 5\n",
      "<ipython-input-60-1788d9335322>:46: SettingWithCopyWarning: \n",
      "A value is trying to be set on a copy of a slice from a DataFrame\n",
      "\n",
      "See the caveats in the documentation: https://pandas.pydata.org/pandas-docs/stable/user_guide/indexing.html#returning-a-view-versus-a-copy\n",
      "  df[\"y_pred\"][df[\"y_pred\"] < 1] = 1\n"
     ]
    },
    {
     "name": "stdout",
     "output_type": "stream",
     "text": [
      "round_robin 1 60 2408 2407\n",
      "2369 10000 1.0963522679720425\n"
     ]
    },
    {
     "name": "stderr",
     "output_type": "stream",
     "text": [
      "<ipython-input-60-1788d9335322>:45: SettingWithCopyWarning: \n",
      "A value is trying to be set on a copy of a slice from a DataFrame\n",
      "\n",
      "See the caveats in the documentation: https://pandas.pydata.org/pandas-docs/stable/user_guide/indexing.html#returning-a-view-versus-a-copy\n",
      "  df[\"y_pred\"][df[\"y_pred\"] > 5] = 5\n",
      "<ipython-input-60-1788d9335322>:46: SettingWithCopyWarning: \n",
      "A value is trying to be set on a copy of a slice from a DataFrame\n",
      "\n",
      "See the caveats in the documentation: https://pandas.pydata.org/pandas-docs/stable/user_guide/indexing.html#returning-a-view-versus-a-copy\n",
      "  df[\"y_pred\"][df[\"y_pred\"] < 1] = 1\n"
     ]
    },
    {
     "name": "stdout",
     "output_type": "stream",
     "text": [
      "round_robin 1 60 2169 2168\n",
      "987 10000 1.2785568718813303\n"
     ]
    },
    {
     "name": "stderr",
     "output_type": "stream",
     "text": [
      "<ipython-input-60-1788d9335322>:45: SettingWithCopyWarning: \n",
      "A value is trying to be set on a copy of a slice from a DataFrame\n",
      "\n",
      "See the caveats in the documentation: https://pandas.pydata.org/pandas-docs/stable/user_guide/indexing.html#returning-a-view-versus-a-copy\n",
      "  df[\"y_pred\"][df[\"y_pred\"] > 5] = 5\n",
      "<ipython-input-60-1788d9335322>:46: SettingWithCopyWarning: \n",
      "A value is trying to be set on a copy of a slice from a DataFrame\n",
      "\n",
      "See the caveats in the documentation: https://pandas.pydata.org/pandas-docs/stable/user_guide/indexing.html#returning-a-view-versus-a-copy\n",
      "  df[\"y_pred\"][df[\"y_pred\"] < 1] = 1\n"
     ]
    },
    {
     "name": "stdout",
     "output_type": "stream",
     "text": [
      "round_robin 2 60 2376 2375\n",
      "3764 10000 1.0997616755916633\n"
     ]
    },
    {
     "name": "stderr",
     "output_type": "stream",
     "text": [
      "<ipython-input-60-1788d9335322>:45: SettingWithCopyWarning: \n",
      "A value is trying to be set on a copy of a slice from a DataFrame\n",
      "\n",
      "See the caveats in the documentation: https://pandas.pydata.org/pandas-docs/stable/user_guide/indexing.html#returning-a-view-versus-a-copy\n",
      "  df[\"y_pred\"][df[\"y_pred\"] > 5] = 5\n",
      "<ipython-input-60-1788d9335322>:46: SettingWithCopyWarning: \n",
      "A value is trying to be set on a copy of a slice from a DataFrame\n",
      "\n",
      "See the caveats in the documentation: https://pandas.pydata.org/pandas-docs/stable/user_guide/indexing.html#returning-a-view-versus-a-copy\n",
      "  df[\"y_pred\"][df[\"y_pred\"] < 1] = 1\n"
     ]
    },
    {
     "name": "stdout",
     "output_type": "stream",
     "text": [
      "round_robin 2 60 2408 2407\n",
      "3771 10000 1.0906384150685735\n"
     ]
    },
    {
     "name": "stderr",
     "output_type": "stream",
     "text": [
      "<ipython-input-60-1788d9335322>:45: SettingWithCopyWarning: \n",
      "A value is trying to be set on a copy of a slice from a DataFrame\n",
      "\n",
      "See the caveats in the documentation: https://pandas.pydata.org/pandas-docs/stable/user_guide/indexing.html#returning-a-view-versus-a-copy\n",
      "  df[\"y_pred\"][df[\"y_pred\"] > 5] = 5\n",
      "<ipython-input-60-1788d9335322>:46: SettingWithCopyWarning: \n",
      "A value is trying to be set on a copy of a slice from a DataFrame\n",
      "\n",
      "See the caveats in the documentation: https://pandas.pydata.org/pandas-docs/stable/user_guide/indexing.html#returning-a-view-versus-a-copy\n",
      "  df[\"y_pred\"][df[\"y_pred\"] < 1] = 1\n"
     ]
    },
    {
     "name": "stdout",
     "output_type": "stream",
     "text": [
      "round_robin 2 60 2169 2168\n",
      "1659 10000 1.1368909542342256\n"
     ]
    },
    {
     "name": "stderr",
     "output_type": "stream",
     "text": [
      "<ipython-input-60-1788d9335322>:45: SettingWithCopyWarning: \n",
      "A value is trying to be set on a copy of a slice from a DataFrame\n",
      "\n",
      "See the caveats in the documentation: https://pandas.pydata.org/pandas-docs/stable/user_guide/indexing.html#returning-a-view-versus-a-copy\n",
      "  df[\"y_pred\"][df[\"y_pred\"] > 5] = 5\n",
      "<ipython-input-60-1788d9335322>:46: SettingWithCopyWarning: \n",
      "A value is trying to be set on a copy of a slice from a DataFrame\n",
      "\n",
      "See the caveats in the documentation: https://pandas.pydata.org/pandas-docs/stable/user_guide/indexing.html#returning-a-view-versus-a-copy\n",
      "  df[\"y_pred\"][df[\"y_pred\"] < 1] = 1\n"
     ]
    },
    {
     "name": "stdout",
     "output_type": "stream",
     "text": [
      "round_robin 3 60 2376 2375\n",
      "4061 10000 1.1001335111362756\n"
     ]
    },
    {
     "name": "stderr",
     "output_type": "stream",
     "text": [
      "<ipython-input-60-1788d9335322>:45: SettingWithCopyWarning: \n",
      "A value is trying to be set on a copy of a slice from a DataFrame\n",
      "\n",
      "See the caveats in the documentation: https://pandas.pydata.org/pandas-docs/stable/user_guide/indexing.html#returning-a-view-versus-a-copy\n",
      "  df[\"y_pred\"][df[\"y_pred\"] > 5] = 5\n",
      "<ipython-input-60-1788d9335322>:46: SettingWithCopyWarning: \n",
      "A value is trying to be set on a copy of a slice from a DataFrame\n",
      "\n",
      "See the caveats in the documentation: https://pandas.pydata.org/pandas-docs/stable/user_guide/indexing.html#returning-a-view-versus-a-copy\n",
      "  df[\"y_pred\"][df[\"y_pred\"] < 1] = 1\n"
     ]
    },
    {
     "name": "stdout",
     "output_type": "stream",
     "text": [
      "round_robin 3 60 2408 2407\n",
      "4076 10000 1.0906381903308933\n"
     ]
    },
    {
     "name": "stderr",
     "output_type": "stream",
     "text": [
      "<ipython-input-60-1788d9335322>:45: SettingWithCopyWarning: \n",
      "A value is trying to be set on a copy of a slice from a DataFrame\n",
      "\n",
      "See the caveats in the documentation: https://pandas.pydata.org/pandas-docs/stable/user_guide/indexing.html#returning-a-view-versus-a-copy\n",
      "  df[\"y_pred\"][df[\"y_pred\"] > 5] = 5\n",
      "<ipython-input-60-1788d9335322>:46: SettingWithCopyWarning: \n",
      "A value is trying to be set on a copy of a slice from a DataFrame\n",
      "\n",
      "See the caveats in the documentation: https://pandas.pydata.org/pandas-docs/stable/user_guide/indexing.html#returning-a-view-versus-a-copy\n",
      "  df[\"y_pred\"][df[\"y_pred\"] < 1] = 1\n"
     ]
    },
    {
     "name": "stdout",
     "output_type": "stream",
     "text": [
      "round_robin 3 60 2169 2168\n",
      "2013 10000 1.1365964921959313\n"
     ]
    },
    {
     "name": "stderr",
     "output_type": "stream",
     "text": [
      "<ipython-input-60-1788d9335322>:45: SettingWithCopyWarning: \n",
      "A value is trying to be set on a copy of a slice from a DataFrame\n",
      "\n",
      "See the caveats in the documentation: https://pandas.pydata.org/pandas-docs/stable/user_guide/indexing.html#returning-a-view-versus-a-copy\n",
      "  df[\"y_pred\"][df[\"y_pred\"] > 5] = 5\n",
      "<ipython-input-60-1788d9335322>:46: SettingWithCopyWarning: \n",
      "A value is trying to be set on a copy of a slice from a DataFrame\n",
      "\n",
      "See the caveats in the documentation: https://pandas.pydata.org/pandas-docs/stable/user_guide/indexing.html#returning-a-view-versus-a-copy\n",
      "  df[\"y_pred\"][df[\"y_pred\"] < 1] = 1\n"
     ]
    },
    {
     "name": "stdout",
     "output_type": "stream",
     "text": [
      "round_robin 4 60 2376 2375\n",
      "4099 10000 1.1001334556540063\n"
     ]
    },
    {
     "name": "stderr",
     "output_type": "stream",
     "text": [
      "<ipython-input-60-1788d9335322>:45: SettingWithCopyWarning: \n",
      "A value is trying to be set on a copy of a slice from a DataFrame\n",
      "\n",
      "See the caveats in the documentation: https://pandas.pydata.org/pandas-docs/stable/user_guide/indexing.html#returning-a-view-versus-a-copy\n",
      "  df[\"y_pred\"][df[\"y_pred\"] > 5] = 5\n",
      "<ipython-input-60-1788d9335322>:46: SettingWithCopyWarning: \n",
      "A value is trying to be set on a copy of a slice from a DataFrame\n",
      "\n",
      "See the caveats in the documentation: https://pandas.pydata.org/pandas-docs/stable/user_guide/indexing.html#returning-a-view-versus-a-copy\n",
      "  df[\"y_pred\"][df[\"y_pred\"] < 1] = 1\n"
     ]
    },
    {
     "name": "stdout",
     "output_type": "stream",
     "text": [
      "round_robin 4 60 2408 2407\n",
      "4117 10000 1.0906382493354578\n"
     ]
    },
    {
     "name": "stderr",
     "output_type": "stream",
     "text": [
      "<ipython-input-60-1788d9335322>:45: SettingWithCopyWarning: \n",
      "A value is trying to be set on a copy of a slice from a DataFrame\n",
      "\n",
      "See the caveats in the documentation: https://pandas.pydata.org/pandas-docs/stable/user_guide/indexing.html#returning-a-view-versus-a-copy\n",
      "  df[\"y_pred\"][df[\"y_pred\"] > 5] = 5\n",
      "<ipython-input-60-1788d9335322>:46: SettingWithCopyWarning: \n",
      "A value is trying to be set on a copy of a slice from a DataFrame\n",
      "\n",
      "See the caveats in the documentation: https://pandas.pydata.org/pandas-docs/stable/user_guide/indexing.html#returning-a-view-versus-a-copy\n",
      "  df[\"y_pred\"][df[\"y_pred\"] < 1] = 1\n"
     ]
    },
    {
     "name": "stdout",
     "output_type": "stream",
     "text": [
      "round_robin 4 60 2169 2168\n",
      "2158 10000 1.135560827909751\n"
     ]
    },
    {
     "name": "stderr",
     "output_type": "stream",
     "text": [
      "<ipython-input-60-1788d9335322>:45: SettingWithCopyWarning: \n",
      "A value is trying to be set on a copy of a slice from a DataFrame\n",
      "\n",
      "See the caveats in the documentation: https://pandas.pydata.org/pandas-docs/stable/user_guide/indexing.html#returning-a-view-versus-a-copy\n",
      "  df[\"y_pred\"][df[\"y_pred\"] > 5] = 5\n",
      "<ipython-input-60-1788d9335322>:46: SettingWithCopyWarning: \n",
      "A value is trying to be set on a copy of a slice from a DataFrame\n",
      "\n",
      "See the caveats in the documentation: https://pandas.pydata.org/pandas-docs/stable/user_guide/indexing.html#returning-a-view-versus-a-copy\n",
      "  df[\"y_pred\"][df[\"y_pred\"] < 1] = 1\n"
     ]
    },
    {
     "name": "stdout",
     "output_type": "stream",
     "text": [
      "missing /data/wooders/ralf-vldb/results/ml-1m/round_robin_5_60_split_0.75_dist_exponential_updates.csv\n",
      "missing /data/wooders/ralf-vldb/results/ml-1m/round_robin_5_60_split_0.75_dist_gaussian_updates.csv\n",
      "round_robin 5 60 2169 2168\n",
      "2202 10000 1.135759930809384\n"
     ]
    },
    {
     "name": "stderr",
     "output_type": "stream",
     "text": [
      "<ipython-input-60-1788d9335322>:45: SettingWithCopyWarning: \n",
      "A value is trying to be set on a copy of a slice from a DataFrame\n",
      "\n",
      "See the caveats in the documentation: https://pandas.pydata.org/pandas-docs/stable/user_guide/indexing.html#returning-a-view-versus-a-copy\n",
      "  df[\"y_pred\"][df[\"y_pred\"] > 5] = 5\n",
      "<ipython-input-60-1788d9335322>:46: SettingWithCopyWarning: \n",
      "A value is trying to be set on a copy of a slice from a DataFrame\n",
      "\n",
      "See the caveats in the documentation: https://pandas.pydata.org/pandas-docs/stable/user_guide/indexing.html#returning-a-view-versus-a-copy\n",
      "  df[\"y_pred\"][df[\"y_pred\"] < 1] = 1\n"
     ]
    },
    {
     "name": "stdout",
     "output_type": "stream",
     "text": [
      "missing /data/wooders/ralf-vldb/results/ml-1m/round_robin_8_60_split_0.75_dist_exponential_updates.csv\n",
      "missing /data/wooders/ralf-vldb/results/ml-1m/round_robin_8_60_split_0.75_dist_gaussian_updates.csv\n",
      "round_robin 8 60 2169 2168\n",
      "2210 10000 1.1357546377067504\n"
     ]
    },
    {
     "name": "stderr",
     "output_type": "stream",
     "text": [
      "<ipython-input-60-1788d9335322>:45: SettingWithCopyWarning: \n",
      "A value is trying to be set on a copy of a slice from a DataFrame\n",
      "\n",
      "See the caveats in the documentation: https://pandas.pydata.org/pandas-docs/stable/user_guide/indexing.html#returning-a-view-versus-a-copy\n",
      "  df[\"y_pred\"][df[\"y_pred\"] > 5] = 5\n",
      "<ipython-input-60-1788d9335322>:46: SettingWithCopyWarning: \n",
      "A value is trying to be set on a copy of a slice from a DataFrame\n",
      "\n",
      "See the caveats in the documentation: https://pandas.pydata.org/pandas-docs/stable/user_guide/indexing.html#returning-a-view-versus-a-copy\n",
      "  df[\"y_pred\"][df[\"y_pred\"] < 1] = 1\n"
     ]
    },
    {
     "name": "stdout",
     "output_type": "stream",
     "text": [
      "round_robin None 60 2376 nan\n",
      "0 10000 4.968573254767408\n"
     ]
    },
    {
     "name": "stderr",
     "output_type": "stream",
     "text": [
      "<ipython-input-60-1788d9335322>:45: SettingWithCopyWarning: \n",
      "A value is trying to be set on a copy of a slice from a DataFrame\n",
      "\n",
      "See the caveats in the documentation: https://pandas.pydata.org/pandas-docs/stable/user_guide/indexing.html#returning-a-view-versus-a-copy\n",
      "  df[\"y_pred\"][df[\"y_pred\"] > 5] = 5\n",
      "<ipython-input-60-1788d9335322>:46: SettingWithCopyWarning: \n",
      "A value is trying to be set on a copy of a slice from a DataFrame\n",
      "\n",
      "See the caveats in the documentation: https://pandas.pydata.org/pandas-docs/stable/user_guide/indexing.html#returning-a-view-versus-a-copy\n",
      "  df[\"y_pred\"][df[\"y_pred\"] < 1] = 1\n"
     ]
    },
    {
     "name": "stdout",
     "output_type": "stream",
     "text": [
      "round_robin None 60 2408 nan\n",
      "0 10000 4.968573254767408\n"
     ]
    },
    {
     "name": "stderr",
     "output_type": "stream",
     "text": [
      "<ipython-input-60-1788d9335322>:45: SettingWithCopyWarning: \n",
      "A value is trying to be set on a copy of a slice from a DataFrame\n",
      "\n",
      "See the caveats in the documentation: https://pandas.pydata.org/pandas-docs/stable/user_guide/indexing.html#returning-a-view-versus-a-copy\n",
      "  df[\"y_pred\"][df[\"y_pred\"] > 5] = 5\n",
      "<ipython-input-60-1788d9335322>:46: SettingWithCopyWarning: \n",
      "A value is trying to be set on a copy of a slice from a DataFrame\n",
      "\n",
      "See the caveats in the documentation: https://pandas.pydata.org/pandas-docs/stable/user_guide/indexing.html#returning-a-view-versus-a-copy\n",
      "  df[\"y_pred\"][df[\"y_pred\"] < 1] = 1\n"
     ]
    },
    {
     "name": "stdout",
     "output_type": "stream",
     "text": [
      "round_robin None 60 2169 nan\n",
      "0 10000 4.966949289411807\n"
     ]
    },
    {
     "name": "stderr",
     "output_type": "stream",
     "text": [
      "<ipython-input-60-1788d9335322>:45: SettingWithCopyWarning: \n",
      "A value is trying to be set on a copy of a slice from a DataFrame\n",
      "\n",
      "See the caveats in the documentation: https://pandas.pydata.org/pandas-docs/stable/user_guide/indexing.html#returning-a-view-versus-a-copy\n",
      "  df[\"y_pred\"][df[\"y_pred\"] > 5] = 5\n",
      "<ipython-input-60-1788d9335322>:46: SettingWithCopyWarning: \n",
      "A value is trying to be set on a copy of a slice from a DataFrame\n",
      "\n",
      "See the caveats in the documentation: https://pandas.pydata.org/pandas-docs/stable/user_guide/indexing.html#returning-a-view-versus-a-copy\n",
      "  df[\"y_pred\"][df[\"y_pred\"] < 1] = 1\n"
     ]
    },
    {
     "name": "stdout",
     "output_type": "stream",
     "text": [
      "round_robin 10000 60 2376 2375\n",
      "4101 10000 1.100133457706349\n"
     ]
    },
    {
     "name": "stderr",
     "output_type": "stream",
     "text": [
      "<ipython-input-60-1788d9335322>:45: SettingWithCopyWarning: \n",
      "A value is trying to be set on a copy of a slice from a DataFrame\n",
      "\n",
      "See the caveats in the documentation: https://pandas.pydata.org/pandas-docs/stable/user_guide/indexing.html#returning-a-view-versus-a-copy\n",
      "  df[\"y_pred\"][df[\"y_pred\"] > 5] = 5\n",
      "<ipython-input-60-1788d9335322>:46: SettingWithCopyWarning: \n",
      "A value is trying to be set on a copy of a slice from a DataFrame\n",
      "\n",
      "See the caveats in the documentation: https://pandas.pydata.org/pandas-docs/stable/user_guide/indexing.html#returning-a-view-versus-a-copy\n",
      "  df[\"y_pred\"][df[\"y_pred\"] < 1] = 1\n"
     ]
    },
    {
     "name": "stdout",
     "output_type": "stream",
     "text": [
      "round_robin 10000 60 2408 2407\n",
      "4117 10000 1.0906382492812106\n"
     ]
    },
    {
     "name": "stderr",
     "output_type": "stream",
     "text": [
      "<ipython-input-60-1788d9335322>:45: SettingWithCopyWarning: \n",
      "A value is trying to be set on a copy of a slice from a DataFrame\n",
      "\n",
      "See the caveats in the documentation: https://pandas.pydata.org/pandas-docs/stable/user_guide/indexing.html#returning-a-view-versus-a-copy\n",
      "  df[\"y_pred\"][df[\"y_pred\"] > 5] = 5\n",
      "<ipython-input-60-1788d9335322>:46: SettingWithCopyWarning: \n",
      "A value is trying to be set on a copy of a slice from a DataFrame\n",
      "\n",
      "See the caveats in the documentation: https://pandas.pydata.org/pandas-docs/stable/user_guide/indexing.html#returning-a-view-versus-a-copy\n",
      "  df[\"y_pred\"][df[\"y_pred\"] < 1] = 1\n"
     ]
    },
    {
     "name": "stdout",
     "output_type": "stream",
     "text": [
      "round_robin 10000 60 2169 2168\n",
      "2210 10000 1.1357546377067504\n"
     ]
    },
    {
     "name": "stderr",
     "output_type": "stream",
     "text": [
      "<ipython-input-60-1788d9335322>:45: SettingWithCopyWarning: \n",
      "A value is trying to be set on a copy of a slice from a DataFrame\n",
      "\n",
      "See the caveats in the documentation: https://pandas.pydata.org/pandas-docs/stable/user_guide/indexing.html#returning-a-view-versus-a-copy\n",
      "  df[\"y_pred\"][df[\"y_pred\"] > 5] = 5\n",
      "<ipython-input-60-1788d9335322>:46: SettingWithCopyWarning: \n",
      "A value is trying to be set on a copy of a slice from a DataFrame\n",
      "\n",
      "See the caveats in the documentation: https://pandas.pydata.org/pandas-docs/stable/user_guide/indexing.html#returning-a-view-versus-a-copy\n",
      "  df[\"y_pred\"][df[\"y_pred\"] < 1] = 1\n"
     ]
    },
    {
     "name": "stdout",
     "output_type": "stream",
     "text": [
      "missing /data/wooders/ralf-vldb/results/ml-1m/batch_0.5_60_split_0.75_dist_exponential_updates.csv\n",
      "missing /data/wooders/ralf-vldb/results/ml-1m/batch_0.5_60_split_0.75_dist_gaussian_updates.csv\n",
      "batch 0.5 60 2169 2161\n",
      "490 10000 1.8068793618625074\n"
     ]
    },
    {
     "name": "stderr",
     "output_type": "stream",
     "text": [
      "<ipython-input-60-1788d9335322>:45: SettingWithCopyWarning: \n",
      "A value is trying to be set on a copy of a slice from a DataFrame\n",
      "\n",
      "See the caveats in the documentation: https://pandas.pydata.org/pandas-docs/stable/user_guide/indexing.html#returning-a-view-versus-a-copy\n",
      "  df[\"y_pred\"][df[\"y_pred\"] > 5] = 5\n",
      "<ipython-input-60-1788d9335322>:46: SettingWithCopyWarning: \n",
      "A value is trying to be set on a copy of a slice from a DataFrame\n",
      "\n",
      "See the caveats in the documentation: https://pandas.pydata.org/pandas-docs/stable/user_guide/indexing.html#returning-a-view-versus-a-copy\n",
      "  df[\"y_pred\"][df[\"y_pred\"] < 1] = 1\n"
     ]
    },
    {
     "name": "stdout",
     "output_type": "stream",
     "text": [
      "missing /data/wooders/ralf-vldb/results/ml-1m/batch_0.25_60_split_0.75_dist_exponential_updates.csv\n",
      "missing /data/wooders/ralf-vldb/results/ml-1m/batch_0.25_60_split_0.75_dist_gaussian_updates.csv\n",
      "batch 0.25 60 2169 977\n",
      "190 10000 3.305518311922317\n"
     ]
    },
    {
     "name": "stderr",
     "output_type": "stream",
     "text": [
      "<ipython-input-60-1788d9335322>:45: SettingWithCopyWarning: \n",
      "A value is trying to be set on a copy of a slice from a DataFrame\n",
      "\n",
      "See the caveats in the documentation: https://pandas.pydata.org/pandas-docs/stable/user_guide/indexing.html#returning-a-view-versus-a-copy\n",
      "  df[\"y_pred\"][df[\"y_pred\"] > 5] = 5\n",
      "<ipython-input-60-1788d9335322>:46: SettingWithCopyWarning: \n",
      "A value is trying to be set on a copy of a slice from a DataFrame\n",
      "\n",
      "See the caveats in the documentation: https://pandas.pydata.org/pandas-docs/stable/user_guide/indexing.html#returning-a-view-versus-a-copy\n",
      "  df[\"y_pred\"][df[\"y_pred\"] < 1] = 1\n"
     ]
    },
    {
     "name": "stdout",
     "output_type": "stream",
     "text": [
      "missing /data/wooders/ralf-vldb/results/ml-1m/batch_0.2_60_split_0.75_dist_exponential_updates.csv\n",
      "missing /data/wooders/ralf-vldb/results/ml-1m/batch_0.2_60_split_0.75_dist_gaussian_updates.csv\n",
      "batch 0.2 60 2169 942\n",
      "145 10000 3.5376021739275645\n"
     ]
    },
    {
     "name": "stderr",
     "output_type": "stream",
     "text": [
      "<ipython-input-60-1788d9335322>:45: SettingWithCopyWarning: \n",
      "A value is trying to be set on a copy of a slice from a DataFrame\n",
      "\n",
      "See the caveats in the documentation: https://pandas.pydata.org/pandas-docs/stable/user_guide/indexing.html#returning-a-view-versus-a-copy\n",
      "  df[\"y_pred\"][df[\"y_pred\"] > 5] = 5\n",
      "<ipython-input-60-1788d9335322>:46: SettingWithCopyWarning: \n",
      "A value is trying to be set on a copy of a slice from a DataFrame\n",
      "\n",
      "See the caveats in the documentation: https://pandas.pydata.org/pandas-docs/stable/user_guide/indexing.html#returning-a-view-versus-a-copy\n",
      "  df[\"y_pred\"][df[\"y_pred\"] < 1] = 1\n"
     ]
    },
    {
     "name": "stdout",
     "output_type": "stream",
     "text": [
      "missing /data/wooders/ralf-vldb/results/ml-1m/batch_1_60_split_0.75_dist_exponential_updates.csv\n",
      "missing /data/wooders/ralf-vldb/results/ml-1m/batch_1_60_split_0.75_dist_gaussian_updates.csv\n",
      "batch 1 60 2169 2165\n",
      "984 10000 1.31146852195022\n"
     ]
    },
    {
     "name": "stderr",
     "output_type": "stream",
     "text": [
      "<ipython-input-60-1788d9335322>:45: SettingWithCopyWarning: \n",
      "A value is trying to be set on a copy of a slice from a DataFrame\n",
      "\n",
      "See the caveats in the documentation: https://pandas.pydata.org/pandas-docs/stable/user_guide/indexing.html#returning-a-view-versus-a-copy\n",
      "  df[\"y_pred\"][df[\"y_pred\"] > 5] = 5\n",
      "<ipython-input-60-1788d9335322>:46: SettingWithCopyWarning: \n",
      "A value is trying to be set on a copy of a slice from a DataFrame\n",
      "\n",
      "See the caveats in the documentation: https://pandas.pydata.org/pandas-docs/stable/user_guide/indexing.html#returning-a-view-versus-a-copy\n",
      "  df[\"y_pred\"][df[\"y_pred\"] < 1] = 1\n"
     ]
    },
    {
     "name": "stdout",
     "output_type": "stream",
     "text": [
      "missing /data/wooders/ralf-vldb/results/ml-1m/batch_2_60_split_0.75_dist_exponential_updates.csv\n",
      "missing /data/wooders/ralf-vldb/results/ml-1m/batch_2_60_split_0.75_dist_gaussian_updates.csv\n",
      "batch 2 60 2169 2168\n",
      "1537 10000 1.1753167465026444\n"
     ]
    },
    {
     "name": "stderr",
     "output_type": "stream",
     "text": [
      "<ipython-input-60-1788d9335322>:45: SettingWithCopyWarning: \n",
      "A value is trying to be set on a copy of a slice from a DataFrame\n",
      "\n",
      "See the caveats in the documentation: https://pandas.pydata.org/pandas-docs/stable/user_guide/indexing.html#returning-a-view-versus-a-copy\n",
      "  df[\"y_pred\"][df[\"y_pred\"] > 5] = 5\n",
      "<ipython-input-60-1788d9335322>:46: SettingWithCopyWarning: \n",
      "A value is trying to be set on a copy of a slice from a DataFrame\n",
      "\n",
      "See the caveats in the documentation: https://pandas.pydata.org/pandas-docs/stable/user_guide/indexing.html#returning-a-view-versus-a-copy\n",
      "  df[\"y_pred\"][df[\"y_pred\"] < 1] = 1\n"
     ]
    },
    {
     "name": "stdout",
     "output_type": "stream",
     "text": [
      "missing /data/wooders/ralf-vldb/results/ml-1m/batch_3_60_split_0.75_dist_exponential_updates.csv\n",
      "missing /data/wooders/ralf-vldb/results/ml-1m/batch_3_60_split_0.75_dist_gaussian_updates.csv\n",
      "batch 3 60 2169 2168\n",
      "1862 10000 1.1568934487483384\n"
     ]
    },
    {
     "name": "stderr",
     "output_type": "stream",
     "text": [
      "<ipython-input-60-1788d9335322>:45: SettingWithCopyWarning: \n",
      "A value is trying to be set on a copy of a slice from a DataFrame\n",
      "\n",
      "See the caveats in the documentation: https://pandas.pydata.org/pandas-docs/stable/user_guide/indexing.html#returning-a-view-versus-a-copy\n",
      "  df[\"y_pred\"][df[\"y_pred\"] > 5] = 5\n",
      "<ipython-input-60-1788d9335322>:46: SettingWithCopyWarning: \n",
      "A value is trying to be set on a copy of a slice from a DataFrame\n",
      "\n",
      "See the caveats in the documentation: https://pandas.pydata.org/pandas-docs/stable/user_guide/indexing.html#returning-a-view-versus-a-copy\n",
      "  df[\"y_pred\"][df[\"y_pred\"] < 1] = 1\n"
     ]
    },
    {
     "name": "stdout",
     "output_type": "stream",
     "text": [
      "missing /data/wooders/ralf-vldb/results/ml-1m/batch_4_60_split_0.75_dist_exponential_updates.csv\n",
      "missing /data/wooders/ralf-vldb/results/ml-1m/batch_4_60_split_0.75_dist_gaussian_updates.csv\n",
      "batch 4 60 2169 2168\n",
      "2075 10000 1.1393625196765318\n"
     ]
    },
    {
     "name": "stderr",
     "output_type": "stream",
     "text": [
      "<ipython-input-60-1788d9335322>:45: SettingWithCopyWarning: \n",
      "A value is trying to be set on a copy of a slice from a DataFrame\n",
      "\n",
      "See the caveats in the documentation: https://pandas.pydata.org/pandas-docs/stable/user_guide/indexing.html#returning-a-view-versus-a-copy\n",
      "  df[\"y_pred\"][df[\"y_pred\"] > 5] = 5\n",
      "<ipython-input-60-1788d9335322>:46: SettingWithCopyWarning: \n",
      "A value is trying to be set on a copy of a slice from a DataFrame\n",
      "\n",
      "See the caveats in the documentation: https://pandas.pydata.org/pandas-docs/stable/user_guide/indexing.html#returning-a-view-versus-a-copy\n",
      "  df[\"y_pred\"][df[\"y_pred\"] < 1] = 1\n"
     ]
    },
    {
     "name": "stdout",
     "output_type": "stream",
     "text": [
      "missing /data/wooders/ralf-vldb/results/ml-1m/batch_5_60_split_0.75_dist_exponential_updates.csv\n",
      "missing /data/wooders/ralf-vldb/results/ml-1m/batch_5_60_split_0.75_dist_gaussian_updates.csv\n",
      "batch 5 60 2169 2168\n",
      "2177 10000 1.136124746493405\n"
     ]
    },
    {
     "name": "stderr",
     "output_type": "stream",
     "text": [
      "<ipython-input-60-1788d9335322>:45: SettingWithCopyWarning: \n",
      "A value is trying to be set on a copy of a slice from a DataFrame\n",
      "\n",
      "See the caveats in the documentation: https://pandas.pydata.org/pandas-docs/stable/user_guide/indexing.html#returning-a-view-versus-a-copy\n",
      "  df[\"y_pred\"][df[\"y_pred\"] > 5] = 5\n",
      "<ipython-input-60-1788d9335322>:46: SettingWithCopyWarning: \n",
      "A value is trying to be set on a copy of a slice from a DataFrame\n",
      "\n",
      "See the caveats in the documentation: https://pandas.pydata.org/pandas-docs/stable/user_guide/indexing.html#returning-a-view-versus-a-copy\n",
      "  df[\"y_pred\"][df[\"y_pred\"] < 1] = 1\n"
     ]
    },
    {
     "name": "stdout",
     "output_type": "stream",
     "text": [
      "missing /data/wooders/ralf-vldb/results/ml-1m/batch_8_60_split_0.75_dist_exponential_updates.csv\n",
      "missing /data/wooders/ralf-vldb/results/ml-1m/batch_8_60_split_0.75_dist_gaussian_updates.csv\n",
      "batch 8 60 2169 2168\n",
      "2210 10000 1.1357546377067504\n"
     ]
    },
    {
     "name": "stderr",
     "output_type": "stream",
     "text": [
      "<ipython-input-60-1788d9335322>:45: SettingWithCopyWarning: \n",
      "A value is trying to be set on a copy of a slice from a DataFrame\n",
      "\n",
      "See the caveats in the documentation: https://pandas.pydata.org/pandas-docs/stable/user_guide/indexing.html#returning-a-view-versus-a-copy\n",
      "  df[\"y_pred\"][df[\"y_pred\"] > 5] = 5\n",
      "<ipython-input-60-1788d9335322>:46: SettingWithCopyWarning: \n",
      "A value is trying to be set on a copy of a slice from a DataFrame\n",
      "\n",
      "See the caveats in the documentation: https://pandas.pydata.org/pandas-docs/stable/user_guide/indexing.html#returning-a-view-versus-a-copy\n",
      "  df[\"y_pred\"][df[\"y_pred\"] < 1] = 1\n"
     ]
    },
    {
     "name": "stdout",
     "output_type": "stream",
     "text": [
      "missing /data/wooders/ralf-vldb/results/ml-1m/batch_None_60_split_0.75_dist_exponential_updates.csv\n",
      "missing /data/wooders/ralf-vldb/results/ml-1m/batch_None_60_split_0.75_dist_gaussian_updates.csv\n",
      "missing /data/wooders/ralf-vldb/results/ml-1m/batch_None_60_split_0.75_updates.csv\n",
      "missing /data/wooders/ralf-vldb/results/ml-1m/batch_10000_60_split_0.75_dist_exponential_updates.csv\n",
      "missing /data/wooders/ralf-vldb/results/ml-1m/batch_10000_60_split_0.75_dist_gaussian_updates.csv\n",
      "missing /data/wooders/ralf-vldb/results/ml-1m/batch_10000_60_split_0.75_updates.csv\n"
     ]
    },
    {
     "data": {
      "text/html": [
       "<div>\n",
       "<style scoped>\n",
       "    .dataframe tbody tr th:only-of-type {\n",
       "        vertical-align: middle;\n",
       "    }\n",
       "\n",
       "    .dataframe tbody tr th {\n",
       "        vertical-align: top;\n",
       "    }\n",
       "\n",
       "    .dataframe thead th {\n",
       "        text-align: right;\n",
       "    }\n",
       "</style>\n",
       "<table border=\"1\" class=\"dataframe\">\n",
       "  <thead>\n",
       "    <tr style=\"text-align: right;\">\n",
       "      <th></th>\n",
       "      <th>updates</th>\n",
       "      <th>policy</th>\n",
       "      <th>error</th>\n",
       "      <th>total_updates</th>\n",
       "      <th>ts_factor</th>\n",
       "      <th>max_ts</th>\n",
       "      <th>dist</th>\n",
       "    </tr>\n",
       "  </thead>\n",
       "  <tbody>\n",
       "    <tr>\n",
       "      <th>0</th>\n",
       "      <td>0.50</td>\n",
       "      <td>random</td>\n",
       "      <td>1.340563</td>\n",
       "      <td>1177</td>\n",
       "      <td>60</td>\n",
       "      <td>2376</td>\n",
       "      <td>exponential</td>\n",
       "    </tr>\n",
       "    <tr>\n",
       "      <th>1</th>\n",
       "      <td>0.50</td>\n",
       "      <td>random</td>\n",
       "      <td>1.243399</td>\n",
       "      <td>1196</td>\n",
       "      <td>60</td>\n",
       "      <td>2408</td>\n",
       "      <td>gaussian</td>\n",
       "    </tr>\n",
       "    <tr>\n",
       "      <th>2</th>\n",
       "      <td>0.50</td>\n",
       "      <td>random</td>\n",
       "      <td>1.759495</td>\n",
       "      <td>513</td>\n",
       "      <td>60</td>\n",
       "      <td>2169</td>\n",
       "      <td>None</td>\n",
       "    </tr>\n",
       "    <tr>\n",
       "      <th>3</th>\n",
       "      <td>0.25</td>\n",
       "      <td>random</td>\n",
       "      <td>1.697388</td>\n",
       "      <td>592</td>\n",
       "      <td>60</td>\n",
       "      <td>2376</td>\n",
       "      <td>exponential</td>\n",
       "    </tr>\n",
       "    <tr>\n",
       "      <th>4</th>\n",
       "      <td>0.25</td>\n",
       "      <td>random</td>\n",
       "      <td>1.821874</td>\n",
       "      <td>600</td>\n",
       "      <td>60</td>\n",
       "      <td>2408</td>\n",
       "      <td>gaussian</td>\n",
       "    </tr>\n",
       "    <tr>\n",
       "      <th>...</th>\n",
       "      <td>...</td>\n",
       "      <td>...</td>\n",
       "      <td>...</td>\n",
       "      <td>...</td>\n",
       "      <td>...</td>\n",
       "      <td>...</td>\n",
       "      <td>...</td>\n",
       "    </tr>\n",
       "    <tr>\n",
       "      <th>168</th>\n",
       "      <td>2.00</td>\n",
       "      <td>batch</td>\n",
       "      <td>1.175317</td>\n",
       "      <td>1537</td>\n",
       "      <td>60</td>\n",
       "      <td>2169</td>\n",
       "      <td>None</td>\n",
       "    </tr>\n",
       "    <tr>\n",
       "      <th>169</th>\n",
       "      <td>3.00</td>\n",
       "      <td>batch</td>\n",
       "      <td>1.156893</td>\n",
       "      <td>1862</td>\n",
       "      <td>60</td>\n",
       "      <td>2169</td>\n",
       "      <td>None</td>\n",
       "    </tr>\n",
       "    <tr>\n",
       "      <th>170</th>\n",
       "      <td>4.00</td>\n",
       "      <td>batch</td>\n",
       "      <td>1.139363</td>\n",
       "      <td>2075</td>\n",
       "      <td>60</td>\n",
       "      <td>2169</td>\n",
       "      <td>None</td>\n",
       "    </tr>\n",
       "    <tr>\n",
       "      <th>171</th>\n",
       "      <td>5.00</td>\n",
       "      <td>batch</td>\n",
       "      <td>1.136125</td>\n",
       "      <td>2177</td>\n",
       "      <td>60</td>\n",
       "      <td>2169</td>\n",
       "      <td>None</td>\n",
       "    </tr>\n",
       "    <tr>\n",
       "      <th>172</th>\n",
       "      <td>8.00</td>\n",
       "      <td>batch</td>\n",
       "      <td>1.135755</td>\n",
       "      <td>2210</td>\n",
       "      <td>60</td>\n",
       "      <td>2169</td>\n",
       "      <td>None</td>\n",
       "    </tr>\n",
       "  </tbody>\n",
       "</table>\n",
       "<p>173 rows × 7 columns</p>\n",
       "</div>"
      ],
      "text/plain": [
       "     updates  policy     error  total_updates  ts_factor  max_ts         dist\n",
       "0       0.50  random  1.340563           1177         60    2376  exponential\n",
       "1       0.50  random  1.243399           1196         60    2408     gaussian\n",
       "2       0.50  random  1.759495            513         60    2169         None\n",
       "3       0.25  random  1.697388            592         60    2376  exponential\n",
       "4       0.25  random  1.821874            600         60    2408     gaussian\n",
       "..       ...     ...       ...            ...        ...     ...          ...\n",
       "168     2.00   batch  1.175317           1537         60    2169         None\n",
       "169     3.00   batch  1.156893           1862         60    2169         None\n",
       "170     4.00   batch  1.139363           2075         60    2169         None\n",
       "171     5.00   batch  1.136125           2177         60    2169         None\n",
       "172     8.00   batch  1.135755           2210         60    2169         None\n",
       "\n",
       "[173 rows x 7 columns]"
      ]
     },
     "execution_count": 60,
     "metadata": {},
     "output_type": "execute_result"
    }
   ],
   "source": [
    "updates_df = pd.DataFrame()\n",
    "df_all = pd.DataFrame()\n",
    "results = [] \n",
    "\n",
    "for p in policies: \n",
    "    for u in updates_per_ts: \n",
    "        for t in ts_factor: \n",
    "            \n",
    "            for d in dist: \n",
    "            \n",
    "                if d:\n",
    "                    path = f\"{result_dir}/{p}_{u}_{t}_split_{split}_dist_{d}\"\n",
    "                else: \n",
    "                    path = f\"{result_dir}/{p}_{u}_{t}_split_{split}\"\n",
    "                    \n",
    "                if not os.path.exists(f\"{path}_updates.csv\"): \n",
    "                    print(\"missing\", f\"{path}_updates.csv\")\n",
    "                    continue\n",
    "\n",
    "                update_df = pd.read_csv(f\"{path}_updates.csv\")\n",
    "                df = pd.read_csv(f\"{path}_results.csv\")\n",
    "\n",
    "\n",
    "                if limit is not None:\n",
    "                    if len(df.index) <= limit: \n",
    "                        print(\"max index\", len(df.index), f\"{result_dir}/{p}_{u}_{t}_split_{split}_results.csv\")\n",
    "                        continue \n",
    "\n",
    "                    # filter time \n",
    "                    df = df.iloc[:limit]\n",
    "                    timestamp = df.timestamp.max()\n",
    "                    update_df = update_df[update_df[\"time\"] < timestamp]\n",
    "\n",
    "                print(p, u, t, df.timestamp.max(), update_df[\"time\"].max())\n",
    "\n",
    "                df[\"policy\"] = p\n",
    "                df[\"updates\"] = u \n",
    "                df[\"ts_factor\"] = t\n",
    "                df[\"dist\"] = d\n",
    "                update_df[\"updates\"] = u \n",
    "                update_df[\"ts_factor\"] = t\n",
    "                update_df[\"dist\"] = d\n",
    "\n",
    "                # threshold predictions \n",
    "                df[\"y_pred\"][df[\"y_pred\"] > 5] = 5\n",
    "                df[\"y_pred\"][df[\"y_pred\"] < 1] = 1\n",
    "\n",
    "                #print(df.y_pred)\n",
    "                #print(df.y_true)\n",
    "\n",
    "                error = mean_squared_error(df.y_pred, df.y_true)\n",
    "\n",
    "                #print(update_df.time.value_counts())\n",
    "\n",
    "\n",
    "                total_updates = len(update_df.index)\n",
    "                print(total_updates, len(df.index), error)\n",
    "                results.append([u , p, error, total_updates, t, df.timestamp.max(), d])\n",
    "                updates_df = pd.concat([updates_df, update_df])\n",
    "                df_all = pd.concat([df_all, df])\n",
    "      \n",
    "results_df = pd.DataFrame(results, columns=[\"updates\", \"policy\", \"error\", \"total_updates\", \"ts_factor\", \"max_ts\", \"dist\"])\n",
    "results_df"
   ]
  },
  {
   "cell_type": "code",
   "execution_count": 61,
   "id": "50c48f7c",
   "metadata": {},
   "outputs": [
    {
     "name": "stdout",
     "output_type": "stream",
     "text": [
      "{'results_dir': '/data/wooders/ralf-vldb/results', 'dataset_dir': '/data/wooders/ralf-vldb/datasets', 'plots_dir': '/data/wooders/ralf-vldb/plots', 'aws_dir': 'vldb', 'credentials': '/home/eecs/wooders/experiments/ralf-vldb.json'}\n",
      "uploading /data/wooders/ralf-vldb/plots ml-1m-dist\n",
      "vldb/plots ml-1m-dist /ml-1m-dist/updates.csv\n",
      "uploading /data/wooders/ralf-vldb/plots/ml-1m-dist vldb/plots vldb/plots/ml-1m-dist/updates.csv\n",
      "vldb/plots ml-1m-dist /ml-1m-dist/predictions.csv\n",
      "uploading /data/wooders/ralf-vldb/plots/ml-1m-dist vldb/plots vldb/plots/ml-1m-dist/predictions.csv\n",
      "vldb/plots ml-1m-dist /ml-1m-dist/baseline.csv\n",
      "uploading /data/wooders/ralf-vldb/plots/ml-1m-dist vldb/plots vldb/plots/ml-1m-dist/baseline.csv\n",
      "vldb/plots ml-1m-dist /ml-1m-dist/results.csv\n",
      "uploading /data/wooders/ralf-vldb/plots/ml-1m-dist vldb/plots vldb/plots/ml-1m-dist/results.csv\n"
     ]
    },
    {
     "data": {
      "text/plain": [
       "'vldb/plots/ml-1m-dist'"
      ]
     },
     "execution_count": 61,
     "metadata": {},
     "output_type": "execute_result"
    }
   ],
   "source": [
    "plots_dir = use_plots(\"ml-1m-dist\")\n",
    "df_all.to_csv(f\"{plots_dir}/predictions.csv\")\n",
    "results_df.to_csv(f\"{plots_dir}/results.csv\")\n",
    "baseline_results_df.to_csv(f\"{plots_dir}/baseline.csv\")\n",
    "updates_df.to_csv(f\"{plots_dir}/updates.csv\")\n",
    "log_plots(\"ml-1m-dist\")"
   ]
  },
  {
   "cell_type": "code",
   "execution_count": 62,
   "id": "4beb4011",
   "metadata": {},
   "outputs": [
    {
     "data": {
      "text/html": [
       "<div>\n",
       "<style scoped>\n",
       "    .dataframe tbody tr th:only-of-type {\n",
       "        vertical-align: middle;\n",
       "    }\n",
       "\n",
       "    .dataframe tbody tr th {\n",
       "        vertical-align: top;\n",
       "    }\n",
       "\n",
       "    .dataframe thead th {\n",
       "        text-align: right;\n",
       "    }\n",
       "</style>\n",
       "<table border=\"1\" class=\"dataframe\">\n",
       "  <thead>\n",
       "    <tr style=\"text-align: right;\">\n",
       "      <th></th>\n",
       "      <th>updates</th>\n",
       "      <th>policy</th>\n",
       "      <th>error</th>\n",
       "      <th>total_updates</th>\n",
       "      <th>ts_factor</th>\n",
       "      <th>max_ts</th>\n",
       "      <th>dist</th>\n",
       "    </tr>\n",
       "  </thead>\n",
       "  <tbody>\n",
       "    <tr>\n",
       "      <th>0</th>\n",
       "      <td>0.50</td>\n",
       "      <td>random</td>\n",
       "      <td>1.340563</td>\n",
       "      <td>1177</td>\n",
       "      <td>60</td>\n",
       "      <td>2376</td>\n",
       "      <td>exponential</td>\n",
       "    </tr>\n",
       "    <tr>\n",
       "      <th>1</th>\n",
       "      <td>0.50</td>\n",
       "      <td>random</td>\n",
       "      <td>1.243399</td>\n",
       "      <td>1196</td>\n",
       "      <td>60</td>\n",
       "      <td>2408</td>\n",
       "      <td>gaussian</td>\n",
       "    </tr>\n",
       "    <tr>\n",
       "      <th>2</th>\n",
       "      <td>0.50</td>\n",
       "      <td>random</td>\n",
       "      <td>1.759495</td>\n",
       "      <td>513</td>\n",
       "      <td>60</td>\n",
       "      <td>2169</td>\n",
       "      <td>None</td>\n",
       "    </tr>\n",
       "    <tr>\n",
       "      <th>3</th>\n",
       "      <td>0.25</td>\n",
       "      <td>random</td>\n",
       "      <td>1.697388</td>\n",
       "      <td>592</td>\n",
       "      <td>60</td>\n",
       "      <td>2376</td>\n",
       "      <td>exponential</td>\n",
       "    </tr>\n",
       "    <tr>\n",
       "      <th>4</th>\n",
       "      <td>0.25</td>\n",
       "      <td>random</td>\n",
       "      <td>1.821874</td>\n",
       "      <td>600</td>\n",
       "      <td>60</td>\n",
       "      <td>2408</td>\n",
       "      <td>gaussian</td>\n",
       "    </tr>\n",
       "    <tr>\n",
       "      <th>...</th>\n",
       "      <td>...</td>\n",
       "      <td>...</td>\n",
       "      <td>...</td>\n",
       "      <td>...</td>\n",
       "      <td>...</td>\n",
       "      <td>...</td>\n",
       "      <td>...</td>\n",
       "    </tr>\n",
       "    <tr>\n",
       "      <th>168</th>\n",
       "      <td>2.00</td>\n",
       "      <td>batch</td>\n",
       "      <td>1.175317</td>\n",
       "      <td>1537</td>\n",
       "      <td>60</td>\n",
       "      <td>2169</td>\n",
       "      <td>None</td>\n",
       "    </tr>\n",
       "    <tr>\n",
       "      <th>169</th>\n",
       "      <td>3.00</td>\n",
       "      <td>batch</td>\n",
       "      <td>1.156893</td>\n",
       "      <td>1862</td>\n",
       "      <td>60</td>\n",
       "      <td>2169</td>\n",
       "      <td>None</td>\n",
       "    </tr>\n",
       "    <tr>\n",
       "      <th>170</th>\n",
       "      <td>4.00</td>\n",
       "      <td>batch</td>\n",
       "      <td>1.139363</td>\n",
       "      <td>2075</td>\n",
       "      <td>60</td>\n",
       "      <td>2169</td>\n",
       "      <td>None</td>\n",
       "    </tr>\n",
       "    <tr>\n",
       "      <th>171</th>\n",
       "      <td>5.00</td>\n",
       "      <td>batch</td>\n",
       "      <td>1.136125</td>\n",
       "      <td>2177</td>\n",
       "      <td>60</td>\n",
       "      <td>2169</td>\n",
       "      <td>None</td>\n",
       "    </tr>\n",
       "    <tr>\n",
       "      <th>172</th>\n",
       "      <td>8.00</td>\n",
       "      <td>batch</td>\n",
       "      <td>1.135755</td>\n",
       "      <td>2210</td>\n",
       "      <td>60</td>\n",
       "      <td>2169</td>\n",
       "      <td>None</td>\n",
       "    </tr>\n",
       "  </tbody>\n",
       "</table>\n",
       "<p>173 rows × 7 columns</p>\n",
       "</div>"
      ],
      "text/plain": [
       "     updates  policy     error  total_updates  ts_factor  max_ts         dist\n",
       "0       0.50  random  1.340563           1177         60    2376  exponential\n",
       "1       0.50  random  1.243399           1196         60    2408     gaussian\n",
       "2       0.50  random  1.759495            513         60    2169         None\n",
       "3       0.25  random  1.697388            592         60    2376  exponential\n",
       "4       0.25  random  1.821874            600         60    2408     gaussian\n",
       "..       ...     ...       ...            ...        ...     ...          ...\n",
       "168     2.00   batch  1.175317           1537         60    2169         None\n",
       "169     3.00   batch  1.156893           1862         60    2169         None\n",
       "170     4.00   batch  1.139363           2075         60    2169         None\n",
       "171     5.00   batch  1.136125           2177         60    2169         None\n",
       "172     8.00   batch  1.135755           2210         60    2169         None\n",
       "\n",
       "[173 rows x 7 columns]"
      ]
     },
     "execution_count": 62,
     "metadata": {},
     "output_type": "execute_result"
    }
   ],
   "source": [
    "results_df"
   ]
  },
  {
   "cell_type": "code",
   "execution_count": 63,
   "id": "a7b05b0c",
   "metadata": {},
   "outputs": [
    {
     "data": {
      "text/html": [
       "<div>\n",
       "<style scoped>\n",
       "    .dataframe tbody tr th:only-of-type {\n",
       "        vertical-align: middle;\n",
       "    }\n",
       "\n",
       "    .dataframe tbody tr th {\n",
       "        vertical-align: top;\n",
       "    }\n",
       "\n",
       "    .dataframe thead th {\n",
       "        text-align: right;\n",
       "    }\n",
       "</style>\n",
       "<table border=\"1\" class=\"dataframe\">\n",
       "  <thead>\n",
       "    <tr style=\"text-align: right;\">\n",
       "      <th></th>\n",
       "      <th>updates</th>\n",
       "      <th>policy</th>\n",
       "      <th>error</th>\n",
       "      <th>total_updates</th>\n",
       "      <th>ts_factor</th>\n",
       "      <th>max_ts</th>\n",
       "      <th>dist</th>\n",
       "    </tr>\n",
       "  </thead>\n",
       "  <tbody>\n",
       "    <tr>\n",
       "      <th>0</th>\n",
       "      <td>0.50</td>\n",
       "      <td>random</td>\n",
       "      <td>1.340563</td>\n",
       "      <td>1177</td>\n",
       "      <td>60</td>\n",
       "      <td>2376</td>\n",
       "      <td>exponential</td>\n",
       "    </tr>\n",
       "    <tr>\n",
       "      <th>1</th>\n",
       "      <td>0.50</td>\n",
       "      <td>random</td>\n",
       "      <td>1.243399</td>\n",
       "      <td>1196</td>\n",
       "      <td>60</td>\n",
       "      <td>2408</td>\n",
       "      <td>gaussian</td>\n",
       "    </tr>\n",
       "    <tr>\n",
       "      <th>2</th>\n",
       "      <td>0.50</td>\n",
       "      <td>random</td>\n",
       "      <td>1.759495</td>\n",
       "      <td>513</td>\n",
       "      <td>60</td>\n",
       "      <td>2169</td>\n",
       "      <td>None</td>\n",
       "    </tr>\n",
       "    <tr>\n",
       "      <th>3</th>\n",
       "      <td>0.25</td>\n",
       "      <td>random</td>\n",
       "      <td>1.697388</td>\n",
       "      <td>592</td>\n",
       "      <td>60</td>\n",
       "      <td>2376</td>\n",
       "      <td>exponential</td>\n",
       "    </tr>\n",
       "    <tr>\n",
       "      <th>4</th>\n",
       "      <td>0.25</td>\n",
       "      <td>random</td>\n",
       "      <td>1.821874</td>\n",
       "      <td>600</td>\n",
       "      <td>60</td>\n",
       "      <td>2408</td>\n",
       "      <td>gaussian</td>\n",
       "    </tr>\n",
       "    <tr>\n",
       "      <th>...</th>\n",
       "      <td>...</td>\n",
       "      <td>...</td>\n",
       "      <td>...</td>\n",
       "      <td>...</td>\n",
       "      <td>...</td>\n",
       "      <td>...</td>\n",
       "      <td>...</td>\n",
       "    </tr>\n",
       "    <tr>\n",
       "      <th>168</th>\n",
       "      <td>2.00</td>\n",
       "      <td>batch</td>\n",
       "      <td>1.175317</td>\n",
       "      <td>1537</td>\n",
       "      <td>60</td>\n",
       "      <td>2169</td>\n",
       "      <td>None</td>\n",
       "    </tr>\n",
       "    <tr>\n",
       "      <th>169</th>\n",
       "      <td>3.00</td>\n",
       "      <td>batch</td>\n",
       "      <td>1.156893</td>\n",
       "      <td>1862</td>\n",
       "      <td>60</td>\n",
       "      <td>2169</td>\n",
       "      <td>None</td>\n",
       "    </tr>\n",
       "    <tr>\n",
       "      <th>170</th>\n",
       "      <td>4.00</td>\n",
       "      <td>batch</td>\n",
       "      <td>1.139363</td>\n",
       "      <td>2075</td>\n",
       "      <td>60</td>\n",
       "      <td>2169</td>\n",
       "      <td>None</td>\n",
       "    </tr>\n",
       "    <tr>\n",
       "      <th>171</th>\n",
       "      <td>5.00</td>\n",
       "      <td>batch</td>\n",
       "      <td>1.136125</td>\n",
       "      <td>2177</td>\n",
       "      <td>60</td>\n",
       "      <td>2169</td>\n",
       "      <td>None</td>\n",
       "    </tr>\n",
       "    <tr>\n",
       "      <th>172</th>\n",
       "      <td>8.00</td>\n",
       "      <td>batch</td>\n",
       "      <td>1.135755</td>\n",
       "      <td>2210</td>\n",
       "      <td>60</td>\n",
       "      <td>2169</td>\n",
       "      <td>None</td>\n",
       "    </tr>\n",
       "  </tbody>\n",
       "</table>\n",
       "<p>173 rows × 7 columns</p>\n",
       "</div>"
      ],
      "text/plain": [
       "     updates  policy     error  total_updates  ts_factor  max_ts         dist\n",
       "0       0.50  random  1.340563           1177         60    2376  exponential\n",
       "1       0.50  random  1.243399           1196         60    2408     gaussian\n",
       "2       0.50  random  1.759495            513         60    2169         None\n",
       "3       0.25  random  1.697388            592         60    2376  exponential\n",
       "4       0.25  random  1.821874            600         60    2408     gaussian\n",
       "..       ...     ...       ...            ...        ...     ...          ...\n",
       "168     2.00   batch  1.175317           1537         60    2169         None\n",
       "169     3.00   batch  1.156893           1862         60    2169         None\n",
       "170     4.00   batch  1.139363           2075         60    2169         None\n",
       "171     5.00   batch  1.136125           2177         60    2169         None\n",
       "172     8.00   batch  1.135755           2210         60    2169         None\n",
       "\n",
       "[173 rows x 7 columns]"
      ]
     },
     "execution_count": 63,
     "metadata": {},
     "output_type": "execute_result"
    }
   ],
   "source": [
    "results_df"
   ]
  },
  {
   "cell_type": "code",
   "execution_count": 64,
   "id": "3569218c",
   "metadata": {},
   "outputs": [
    {
     "data": {
      "text/html": [
       "<div>\n",
       "<style scoped>\n",
       "    .dataframe tbody tr th:only-of-type {\n",
       "        vertical-align: middle;\n",
       "    }\n",
       "\n",
       "    .dataframe tbody tr th {\n",
       "        vertical-align: top;\n",
       "    }\n",
       "\n",
       "    .dataframe thead th {\n",
       "        text-align: right;\n",
       "    }\n",
       "</style>\n",
       "<table border=\"1\" class=\"dataframe\">\n",
       "  <thead>\n",
       "    <tr style=\"text-align: right;\">\n",
       "      <th></th>\n",
       "      <th>Unnamed: 0</th>\n",
       "      <th>y_true</th>\n",
       "      <th>y_pred</th>\n",
       "      <th>user_id</th>\n",
       "      <th>movie_id</th>\n",
       "      <th>timestamp</th>\n",
       "      <th>policy</th>\n",
       "      <th>updates</th>\n",
       "      <th>ts_factor</th>\n",
       "      <th>dist</th>\n",
       "    </tr>\n",
       "  </thead>\n",
       "  <tbody>\n",
       "    <tr>\n",
       "      <th>0</th>\n",
       "      <td>0</td>\n",
       "      <td>4</td>\n",
       "      <td>5.000000</td>\n",
       "      <td>897</td>\n",
       "      <td>3147</td>\n",
       "      <td>0</td>\n",
       "      <td>random</td>\n",
       "      <td>0.5</td>\n",
       "      <td>60</td>\n",
       "      <td>exponential</td>\n",
       "    </tr>\n",
       "    <tr>\n",
       "      <th>1</th>\n",
       "      <td>1</td>\n",
       "      <td>1</td>\n",
       "      <td>2.864905</td>\n",
       "      <td>1010</td>\n",
       "      <td>2394</td>\n",
       "      <td>0</td>\n",
       "      <td>random</td>\n",
       "      <td>0.5</td>\n",
       "      <td>60</td>\n",
       "      <td>exponential</td>\n",
       "    </tr>\n",
       "    <tr>\n",
       "      <th>2</th>\n",
       "      <td>2</td>\n",
       "      <td>2</td>\n",
       "      <td>2.275176</td>\n",
       "      <td>1010</td>\n",
       "      <td>2294</td>\n",
       "      <td>0</td>\n",
       "      <td>random</td>\n",
       "      <td>0.5</td>\n",
       "      <td>60</td>\n",
       "      <td>exponential</td>\n",
       "    </tr>\n",
       "    <tr>\n",
       "      <th>3</th>\n",
       "      <td>3</td>\n",
       "      <td>2</td>\n",
       "      <td>2.510539</td>\n",
       "      <td>1010</td>\n",
       "      <td>588</td>\n",
       "      <td>0</td>\n",
       "      <td>random</td>\n",
       "      <td>0.5</td>\n",
       "      <td>60</td>\n",
       "      <td>exponential</td>\n",
       "    </tr>\n",
       "    <tr>\n",
       "      <th>4</th>\n",
       "      <td>4</td>\n",
       "      <td>2</td>\n",
       "      <td>3.103672</td>\n",
       "      <td>1010</td>\n",
       "      <td>364</td>\n",
       "      <td>0</td>\n",
       "      <td>random</td>\n",
       "      <td>0.5</td>\n",
       "      <td>60</td>\n",
       "      <td>exponential</td>\n",
       "    </tr>\n",
       "    <tr>\n",
       "      <th>...</th>\n",
       "      <td>...</td>\n",
       "      <td>...</td>\n",
       "      <td>...</td>\n",
       "      <td>...</td>\n",
       "      <td>...</td>\n",
       "      <td>...</td>\n",
       "      <td>...</td>\n",
       "      <td>...</td>\n",
       "      <td>...</td>\n",
       "      <td>...</td>\n",
       "    </tr>\n",
       "    <tr>\n",
       "      <th>9995</th>\n",
       "      <td>9995</td>\n",
       "      <td>4</td>\n",
       "      <td>4.164848</td>\n",
       "      <td>848</td>\n",
       "      <td>2396</td>\n",
       "      <td>2169</td>\n",
       "      <td>batch</td>\n",
       "      <td>8</td>\n",
       "      <td>60</td>\n",
       "      <td>None</td>\n",
       "    </tr>\n",
       "    <tr>\n",
       "      <th>9996</th>\n",
       "      <td>9996</td>\n",
       "      <td>3</td>\n",
       "      <td>3.969520</td>\n",
       "      <td>850</td>\n",
       "      <td>596</td>\n",
       "      <td>2169</td>\n",
       "      <td>batch</td>\n",
       "      <td>8</td>\n",
       "      <td>60</td>\n",
       "      <td>None</td>\n",
       "    </tr>\n",
       "    <tr>\n",
       "      <th>9997</th>\n",
       "      <td>9997</td>\n",
       "      <td>3</td>\n",
       "      <td>3.925536</td>\n",
       "      <td>850</td>\n",
       "      <td>3271</td>\n",
       "      <td>2169</td>\n",
       "      <td>batch</td>\n",
       "      <td>8</td>\n",
       "      <td>60</td>\n",
       "      <td>None</td>\n",
       "    </tr>\n",
       "    <tr>\n",
       "      <th>9998</th>\n",
       "      <td>9998</td>\n",
       "      <td>3</td>\n",
       "      <td>4.241657</td>\n",
       "      <td>850</td>\n",
       "      <td>3547</td>\n",
       "      <td>2169</td>\n",
       "      <td>batch</td>\n",
       "      <td>8</td>\n",
       "      <td>60</td>\n",
       "      <td>None</td>\n",
       "    </tr>\n",
       "    <tr>\n",
       "      <th>9999</th>\n",
       "      <td>9999</td>\n",
       "      <td>4</td>\n",
       "      <td>4.215334</td>\n",
       "      <td>850</td>\n",
       "      <td>1945</td>\n",
       "      <td>2169</td>\n",
       "      <td>batch</td>\n",
       "      <td>8</td>\n",
       "      <td>60</td>\n",
       "      <td>None</td>\n",
       "    </tr>\n",
       "  </tbody>\n",
       "</table>\n",
       "<p>1730000 rows × 10 columns</p>\n",
       "</div>"
      ],
      "text/plain": [
       "      Unnamed: 0  y_true    y_pred  user_id  movie_id  timestamp  policy  \\\n",
       "0              0       4  5.000000      897      3147          0  random   \n",
       "1              1       1  2.864905     1010      2394          0  random   \n",
       "2              2       2  2.275176     1010      2294          0  random   \n",
       "3              3       2  2.510539     1010       588          0  random   \n",
       "4              4       2  3.103672     1010       364          0  random   \n",
       "...          ...     ...       ...      ...       ...        ...     ...   \n",
       "9995        9995       4  4.164848      848      2396       2169   batch   \n",
       "9996        9996       3  3.969520      850       596       2169   batch   \n",
       "9997        9997       3  3.925536      850      3271       2169   batch   \n",
       "9998        9998       3  4.241657      850      3547       2169   batch   \n",
       "9999        9999       4  4.215334      850      1945       2169   batch   \n",
       "\n",
       "     updates  ts_factor         dist  \n",
       "0        0.5         60  exponential  \n",
       "1        0.5         60  exponential  \n",
       "2        0.5         60  exponential  \n",
       "3        0.5         60  exponential  \n",
       "4        0.5         60  exponential  \n",
       "...      ...        ...          ...  \n",
       "9995       8         60         None  \n",
       "9996       8         60         None  \n",
       "9997       8         60         None  \n",
       "9998       8         60         None  \n",
       "9999       8         60         None  \n",
       "\n",
       "[1730000 rows x 10 columns]"
      ]
     },
     "execution_count": 64,
     "metadata": {},
     "output_type": "execute_result"
    }
   ],
   "source": [
    "df_all"
   ]
  },
  {
   "cell_type": "code",
   "execution_count": 65,
   "id": "61afbc99",
   "metadata": {},
   "outputs": [
    {
     "data": {
      "text/html": [
       "<div>\n",
       "<style scoped>\n",
       "    .dataframe tbody tr th:only-of-type {\n",
       "        vertical-align: middle;\n",
       "    }\n",
       "\n",
       "    .dataframe tbody tr th {\n",
       "        vertical-align: top;\n",
       "    }\n",
       "\n",
       "    .dataframe thead th {\n",
       "        text-align: right;\n",
       "    }\n",
       "</style>\n",
       "<table border=\"1\" class=\"dataframe\">\n",
       "  <thead>\n",
       "    <tr style=\"text-align: right;\">\n",
       "      <th></th>\n",
       "      <th>updates</th>\n",
       "      <th>policy</th>\n",
       "      <th>error</th>\n",
       "      <th>total_updates</th>\n",
       "      <th>ts_factor</th>\n",
       "      <th>max_ts</th>\n",
       "      <th>dist</th>\n",
       "    </tr>\n",
       "  </thead>\n",
       "  <tbody>\n",
       "    <tr>\n",
       "      <th>0</th>\n",
       "      <td>0.50</td>\n",
       "      <td>random</td>\n",
       "      <td>1.340563</td>\n",
       "      <td>1177</td>\n",
       "      <td>60</td>\n",
       "      <td>2376</td>\n",
       "      <td>exponential</td>\n",
       "    </tr>\n",
       "    <tr>\n",
       "      <th>1</th>\n",
       "      <td>0.50</td>\n",
       "      <td>random</td>\n",
       "      <td>1.243399</td>\n",
       "      <td>1196</td>\n",
       "      <td>60</td>\n",
       "      <td>2408</td>\n",
       "      <td>gaussian</td>\n",
       "    </tr>\n",
       "    <tr>\n",
       "      <th>2</th>\n",
       "      <td>0.50</td>\n",
       "      <td>random</td>\n",
       "      <td>1.759495</td>\n",
       "      <td>513</td>\n",
       "      <td>60</td>\n",
       "      <td>2169</td>\n",
       "      <td>None</td>\n",
       "    </tr>\n",
       "    <tr>\n",
       "      <th>3</th>\n",
       "      <td>0.25</td>\n",
       "      <td>random</td>\n",
       "      <td>1.697388</td>\n",
       "      <td>592</td>\n",
       "      <td>60</td>\n",
       "      <td>2376</td>\n",
       "      <td>exponential</td>\n",
       "    </tr>\n",
       "    <tr>\n",
       "      <th>4</th>\n",
       "      <td>0.25</td>\n",
       "      <td>random</td>\n",
       "      <td>1.821874</td>\n",
       "      <td>600</td>\n",
       "      <td>60</td>\n",
       "      <td>2408</td>\n",
       "      <td>gaussian</td>\n",
       "    </tr>\n",
       "    <tr>\n",
       "      <th>...</th>\n",
       "      <td>...</td>\n",
       "      <td>...</td>\n",
       "      <td>...</td>\n",
       "      <td>...</td>\n",
       "      <td>...</td>\n",
       "      <td>...</td>\n",
       "      <td>...</td>\n",
       "    </tr>\n",
       "    <tr>\n",
       "      <th>168</th>\n",
       "      <td>2.00</td>\n",
       "      <td>batch</td>\n",
       "      <td>1.175317</td>\n",
       "      <td>1537</td>\n",
       "      <td>60</td>\n",
       "      <td>2169</td>\n",
       "      <td>None</td>\n",
       "    </tr>\n",
       "    <tr>\n",
       "      <th>169</th>\n",
       "      <td>3.00</td>\n",
       "      <td>batch</td>\n",
       "      <td>1.156893</td>\n",
       "      <td>1862</td>\n",
       "      <td>60</td>\n",
       "      <td>2169</td>\n",
       "      <td>None</td>\n",
       "    </tr>\n",
       "    <tr>\n",
       "      <th>170</th>\n",
       "      <td>4.00</td>\n",
       "      <td>batch</td>\n",
       "      <td>1.139363</td>\n",
       "      <td>2075</td>\n",
       "      <td>60</td>\n",
       "      <td>2169</td>\n",
       "      <td>None</td>\n",
       "    </tr>\n",
       "    <tr>\n",
       "      <th>171</th>\n",
       "      <td>5.00</td>\n",
       "      <td>batch</td>\n",
       "      <td>1.136125</td>\n",
       "      <td>2177</td>\n",
       "      <td>60</td>\n",
       "      <td>2169</td>\n",
       "      <td>None</td>\n",
       "    </tr>\n",
       "    <tr>\n",
       "      <th>172</th>\n",
       "      <td>8.00</td>\n",
       "      <td>batch</td>\n",
       "      <td>1.135755</td>\n",
       "      <td>2210</td>\n",
       "      <td>60</td>\n",
       "      <td>2169</td>\n",
       "      <td>None</td>\n",
       "    </tr>\n",
       "  </tbody>\n",
       "</table>\n",
       "<p>173 rows × 7 columns</p>\n",
       "</div>"
      ],
      "text/plain": [
       "     updates  policy     error  total_updates  ts_factor  max_ts         dist\n",
       "0       0.50  random  1.340563           1177         60    2376  exponential\n",
       "1       0.50  random  1.243399           1196         60    2408     gaussian\n",
       "2       0.50  random  1.759495            513         60    2169         None\n",
       "3       0.25  random  1.697388            592         60    2376  exponential\n",
       "4       0.25  random  1.821874            600         60    2408     gaussian\n",
       "..       ...     ...       ...            ...        ...     ...          ...\n",
       "168     2.00   batch  1.175317           1537         60    2169         None\n",
       "169     3.00   batch  1.156893           1862         60    2169         None\n",
       "170     4.00   batch  1.139363           2075         60    2169         None\n",
       "171     5.00   batch  1.136125           2177         60    2169         None\n",
       "172     8.00   batch  1.135755           2210         60    2169         None\n",
       "\n",
       "[173 rows x 7 columns]"
      ]
     },
     "execution_count": 65,
     "metadata": {},
     "output_type": "execute_result"
    }
   ],
   "source": [
    "results_df[results_df[\"ts_factor\"] == 60]"
   ]
  },
  {
   "cell_type": "code",
   "execution_count": 66,
   "id": "3ff18d72",
   "metadata": {},
   "outputs": [],
   "source": [
    "def plot_factor_total_updates(ts_factor_filter, subset, log=False):\n",
    "\n",
    "    f, ax = plt.subplots(ncols=1, figsize=(8, 5))\n",
    "    plt.tight_layout()\n",
    "    sns.set_theme(style=\"whitegrid\", font_scale=1.7)\n",
    "    #ts_factor_filter = 60\n",
    "\n",
    "    plot_df = results_df[(results_df[\"ts_factor\"] == ts_factor_filter) & (results_df.policy.isin(subset))]\n",
    "    plot_df.policy = plot_df.policy.map({\n",
    "        'total_error_cold': 'Regret Optimized', \n",
    "        'min_past': 'Minumum Past', \n",
    "        'round_robin': \"Round-Robin\", \n",
    "        'max_pending': \"Maximum Pending Updates\", \n",
    "        'last_query': \"Read-Optimized\", \n",
    "        \"query_proportional\": \"Query Proportional\",\n",
    "        \"batch\": \"Batched\",\n",
    "        \"random\": \"Random\"\n",
    "    })\n",
    "    \n",
    "    plot_df = plot_df.dropna()\n",
    "    \n",
    "    if log: \n",
    "        plot_df.error = np.log2(plot_df.error)\n",
    "        \n",
    "    sns.lineplot(x=\"total_updates\", y=\"error\", hue=\"policy\", data=plot_df, ax=ax, linewidth=3)\n",
    "    #ax.set(title=\"Prediction Accuracy per Policy (Recommendation)\", xlabel=\"Total Featurization Updates\",  ylabel=\"MSE\")\n",
    "    \n",
    "    if log: \n",
    "        ax.set(title=\"\", xlabel=\"Total Featurization Updates\",  ylabel=\"Log2 MSE\")\n",
    "    else:\n",
    "        ax.set(title=\"\", xlabel=\"Total Featurization Updates\",  ylabel=\"MSE\")\n",
    "    ax.set(xscale=\"log\")\n",
    "    \n",
    "    upper_bound = baseline_results_df[(baseline_results_df[\"updates\"] == 10000) & (baseline_results_df[\"ts_factor\"] == ts_factor_filter)].error.iloc[0]\n",
    "    upper_bound_updates = baseline_results_df[(baseline_results_df[\"updates\"] == 10000) & (baseline_results_df[\"ts_factor\"] == ts_factor_filter)].total_updates.iloc[0]\n",
    "    lower_bound = baseline_results_df[(baseline_results_df[\"updates\"] == 0) & (baseline_results_df[\"ts_factor\"] == ts_factor_filter)].error.iloc[0]\n",
    "    lower_bound_updates = baseline_results_df[(baseline_results_df[\"updates\"] == 0) & (baseline_results_df[\"ts_factor\"] == ts_factor_filter)].total_updates.iloc[0]\n",
    "    print(upper_bound, upper_bound_updates)\n",
    "    \n",
    "    return plt\n",
    "    \n",
    "    if log: \n",
    "        plt.axline((0, np.log2(upper_bound)), (1, np.log2(upper_bound)), color='black', linestyle=\"--\")\n",
    "    else:\n",
    "        plt.axline((0, upper_bound), (1, upper_bound), color='black', linestyle=\"--\")\n",
    "        \n",
    "    plt.axvline(upper_bound_updates, color='black', linestyle=\"--\")\n",
    "    \n",
    "    #plt.axline((0, lower_bound), (1, lower_bound), color='black', linestyle=\"--\")\n",
    "    #plt.axvline(lower_bound_updates, linewidth=3, color='black', linestyle=\"--\")\n",
    "    #plt.legend(loc='upper right')\n",
    "    \n",
    "    #plt.scatter(upper_bound_updates, upper_bound, marker='o', s=100)\n",
    "    #plt.scatter(lower_bound_updates, lower_bound, marker='o', s=100)\n",
    "    \n",
    "    return plt\n",
    "    \n"
   ]
  },
  {
   "cell_type": "code",
   "execution_count": 67,
   "id": "d880a9c4",
   "metadata": {
    "scrolled": true
   },
   "outputs": [],
   "source": [
    "def plot_factor(ts_factor_filter, subset, updates):\n",
    "\n",
    "    f, ax = plt.subplots(ncols=1, figsize=(8, 5))\n",
    "    plt.tight_layout()\n",
    "    sns.set_theme(style=\"whitegrid\", font_scale=1.7)\n",
    "    #ts_factor_filter = 60\n",
    "\n",
    "    plot_df = results_df[(results_df[\"ts_factor\"] == ts_factor_filter) & (results_df.policy.isin(subset)) & (results_df.updates.isin(updates))]\n",
    "    plot_df.policy = plot_df.policy.map({\n",
    "        'total_error_cold': 'Regret Optimized', \n",
    "        'min_past': 'Minimum Past', \n",
    "        'round_robin': \"Round-Robin\", \n",
    "        'max_pending': \"Maximum Pending Updates\", \n",
    "        'last_query': \"Read-Optimized\", \n",
    "        \"query_proportional\": \"Query Proportional\",\n",
    "        \"batch\": \"Batched\"\n",
    "    })\n",
    "    plot_df = plot_df.dropna()\n",
    "    print(plot_df)\n",
    "    sns.barplot(x=\"updates\", y=\"error\", hue=\"policy\", data=plot_df, log=False, ax=ax)\n",
    "    #ax.set(title=\"Prediction Error per Policy (Recommendation)\", xlabel=\"Budget (Updates per Timestep)\",  ylabel=\"Log MSE\")\n",
    "    \n",
    "    ax.set(title=\"\", xlabel=\"Budget (Updates per Timestep)\",  ylabel=\"Log MSE\")\n",
    "    \n",
    "    upper_bound = baseline_results_df[(baseline_results_df[\"updates\"] == 10000) & (baseline_results_df[\"ts_factor\"] == ts_factor_filter)].error.iloc[0]\n",
    "    lower_bound = baseline_results_df[(baseline_results_df[\"updates\"] == 0) & (baseline_results_df[\"ts_factor\"] == ts_factor_filter)].error.iloc[0]\n",
    "\n",
    "    #plt.axline((0, lower_bound), (1, lower_bound), color='r')\n",
    "    plt.axline((0, upper_bound), (1, upper_bound), linewidth=3, color='g')\n",
    "    \n",
    "    margin = (plot_df.error.max() - upper_bound)/10\n",
    "    plt.ylim([upper_bound - margin, plot_df.error.max() + margin])\n",
    "    \n",
    "    return plt \n",
    "    \n",
    "    "
   ]
  },
  {
   "cell_type": "code",
   "execution_count": 68,
   "id": "76b536d7",
   "metadata": {},
   "outputs": [
    {
     "name": "stderr",
     "output_type": "stream",
     "text": [
      "/data/wooders/anaconda3/lib/python3.8/site-packages/pandas/core/generic.py:5494: SettingWithCopyWarning: \n",
      "A value is trying to be set on a copy of a slice from a DataFrame.\n",
      "Try using .loc[row_indexer,col_indexer] = value instead\n",
      "\n",
      "See the caveats in the documentation: https://pandas.pydata.org/pandas-docs/stable/user_guide/indexing.html#returning-a-view-versus-a-copy\n",
      "  self[name] = value\n"
     ]
    },
    {
     "name": "stdout",
     "output_type": "stream",
     "text": [
      "     updates                   policy     error  total_updates  ts_factor  \\\n",
      "27       0.5         Regret Optimized  1.135676           1177         60   \n",
      "28       0.5         Regret Optimized  1.131930           1196         60   \n",
      "36       1.0         Regret Optimized  1.108289           2345         60   \n",
      "37       1.0         Regret Optimized  1.099290           2369         60   \n",
      "39       2.0         Regret Optimized  1.099846           3762         60   \n",
      "40       2.0         Regret Optimized  1.091979           3778         60   \n",
      "54       0.5       Query Proportional  1.295989           1177         60   \n",
      "55       0.5       Query Proportional  1.279852           1196         60   \n",
      "63       1.0       Query Proportional  1.146023           2345         60   \n",
      "64       1.0       Query Proportional  1.155359           2369         60   \n",
      "66       2.0       Query Proportional  1.103516           3757         60   \n",
      "67       2.0       Query Proportional  1.091404           3791         60   \n",
      "81       0.5  Maximum Pending Updates  1.295989           1177         60   \n",
      "82       0.5  Maximum Pending Updates  1.279852           1196         60   \n",
      "90       1.0  Maximum Pending Updates  1.146023           2345         60   \n",
      "91       1.0  Maximum Pending Updates  1.155359           2369         60   \n",
      "93       2.0  Maximum Pending Updates  1.103516           3757         60   \n",
      "94       2.0  Maximum Pending Updates  1.091404           3791         60   \n",
      "108      0.5             Minimum Past  1.185024           1177         60   \n",
      "109      0.5             Minimum Past  1.177387           1196         60   \n",
      "117      1.0             Minimum Past  1.138129           2345         60   \n",
      "118      1.0             Minimum Past  1.135455           2369         60   \n",
      "120      2.0             Minimum Past  1.103743           3753         60   \n",
      "121      2.0             Minimum Past  1.092937           3760         60   \n",
      "135      0.5              Round-Robin  1.174450           1177         60   \n",
      "136      0.5              Round-Robin  1.138461           1196         60   \n",
      "144      1.0              Round-Robin  1.107126           2345         60   \n",
      "145      1.0              Round-Robin  1.096352           2369         60   \n",
      "147      2.0              Round-Robin  1.099762           3764         60   \n",
      "148      2.0              Round-Robin  1.090638           3771         60   \n",
      "\n",
      "     max_ts         dist  \n",
      "27     2376  exponential  \n",
      "28     2408     gaussian  \n",
      "36     2376  exponential  \n",
      "37     2408     gaussian  \n",
      "39     2376  exponential  \n",
      "40     2408     gaussian  \n",
      "54     2376  exponential  \n",
      "55     2408     gaussian  \n",
      "63     2376  exponential  \n",
      "64     2408     gaussian  \n",
      "66     2376  exponential  \n",
      "67     2408     gaussian  \n",
      "81     2376  exponential  \n",
      "82     2408     gaussian  \n",
      "90     2376  exponential  \n",
      "91     2408     gaussian  \n",
      "93     2376  exponential  \n",
      "94     2408     gaussian  \n",
      "108    2376  exponential  \n",
      "109    2408     gaussian  \n",
      "117    2376  exponential  \n",
      "118    2408     gaussian  \n",
      "120    2376  exponential  \n",
      "121    2408     gaussian  \n",
      "135    2376  exponential  \n",
      "136    2408     gaussian  \n",
      "144    2376  exponential  \n",
      "145    2408     gaussian  \n",
      "147    2376  exponential  \n",
      "148    2408     gaussian  \n"
     ]
    },
    {
     "data": {
      "image/png": "[encoded data removed]",
      "text/plain": [
       "<Figure size 576x360 with 1 Axes>"
      ]
     },
     "metadata": {},
     "output_type": "display_data"
    }
   ],
   "source": [
    "subset = [\"random\", \"total_error_cold\", \"min_past\", \"round_robin\", \"max_pending\", \"last_query\", \"query_proportional\", \"batch\"]\n",
    "#subset = [\"total_error_cold\", \"min_past\"]\n",
    "\n",
    "plt = plot_factor(60, subset, updates=[0.5, 1, 2])\n",
    "plt.tight_layout()\n",
    "plt.savefig('/data/wooders/ralf-vldb/plots/als_1m_bar_1.pdf') "
   ]
  },
  {
   "cell_type": "code",
   "execution_count": 69,
   "id": "e0ca0f33",
   "metadata": {},
   "outputs": [
    {
     "name": "stderr",
     "output_type": "stream",
     "text": [
      "/data/wooders/anaconda3/lib/python3.8/site-packages/pandas/core/generic.py:5494: SettingWithCopyWarning: \n",
      "A value is trying to be set on a copy of a slice from a DataFrame.\n",
      "Try using .loc[row_indexer,col_indexer] = value instead\n",
      "\n",
      "See the caveats in the documentation: https://pandas.pydata.org/pandas-docs/stable/user_guide/indexing.html#returning-a-view-versus-a-copy\n",
      "  self[name] = value\n"
     ]
    },
    {
     "name": "stdout",
     "output_type": "stream",
     "text": [
      "     updates            policy     error  total_updates  ts_factor  max_ts  \\\n",
      "36       1.0  Regret Optimized  1.108289           2345         60    2376   \n",
      "37       1.0  Regret Optimized  1.099290           2369         60    2408   \n",
      "39       2.0  Regret Optimized  1.099846           3762         60    2376   \n",
      "40       2.0  Regret Optimized  1.091979           3778         60    2408   \n",
      "42       3.0  Regret Optimized  1.100243           4060         60    2376   \n",
      "43       3.0  Regret Optimized  1.091117           4077         60    2408   \n",
      "45       4.0  Regret Optimized  1.100133           4099         60    2376   \n",
      "46       4.0  Regret Optimized  1.090638           4116         60    2408   \n",
      "117      1.0      Minimum Past  1.138129           2345         60    2376   \n",
      "118      1.0      Minimum Past  1.135455           2369         60    2408   \n",
      "120      2.0      Minimum Past  1.103743           3753         60    2376   \n",
      "121      2.0      Minimum Past  1.092937           3760         60    2408   \n",
      "123      3.0      Minimum Past  1.100351           4059         60    2376   \n",
      "124      3.0      Minimum Past  1.090639           4071         60    2408   \n",
      "126      4.0      Minimum Past  1.100133           4101         60    2376   \n",
      "127      4.0      Minimum Past  1.090638           4117         60    2408   \n",
      "\n",
      "            dist  \n",
      "36   exponential  \n",
      "37      gaussian  \n",
      "39   exponential  \n",
      "40      gaussian  \n",
      "42   exponential  \n",
      "43      gaussian  \n",
      "45   exponential  \n",
      "46      gaussian  \n",
      "117  exponential  \n",
      "118     gaussian  \n",
      "120  exponential  \n",
      "121     gaussian  \n",
      "123  exponential  \n",
      "124     gaussian  \n",
      "126  exponential  \n",
      "127     gaussian  \n"
     ]
    },
    {
     "data": {
      "image/png": "[encoded data removed]",
      "text/plain": [
       "<Figure size 576x360 with 1 Axes>"
      ]
     },
     "metadata": {},
     "output_type": "display_data"
    }
   ],
   "source": [
    "subset = [\"total_error_cold\", \"min_past\"]\n",
    "\n",
    "plot_factor(60, subset, updates=[1, 2, 3, 4, 6, 8])\n",
    "plt.tight_layout()\n",
    "plt.savefig('/data/wooders/ralf-vldb/plots/als_1m_bar_2.pdf') "
   ]
  },
  {
   "cell_type": "code",
   "execution_count": 70,
   "id": "327d790b",
   "metadata": {},
   "outputs": [
    {
     "name": "stderr",
     "output_type": "stream",
     "text": [
      "/data/wooders/anaconda3/lib/python3.8/site-packages/pandas/core/generic.py:5494: SettingWithCopyWarning: \n",
      "A value is trying to be set on a copy of a slice from a DataFrame.\n",
      "Try using .loc[row_indexer,col_indexer] = value instead\n",
      "\n",
      "See the caveats in the documentation: https://pandas.pydata.org/pandas-docs/stable/user_guide/indexing.html#returning-a-view-versus-a-copy\n",
      "  self[name] = value\n"
     ]
    },
    {
     "name": "stdout",
     "output_type": "stream",
     "text": [
      "     updates                   policy     error  total_updates  ts_factor  \\\n",
      "27       0.5         Regret Optimized  1.135676           1177         60   \n",
      "28       0.5         Regret Optimized  1.131930           1196         60   \n",
      "36       1.0         Regret Optimized  1.108289           2345         60   \n",
      "37       1.0         Regret Optimized  1.099290           2369         60   \n",
      "39       2.0         Regret Optimized  1.099846           3762         60   \n",
      "40       2.0         Regret Optimized  1.091979           3778         60   \n",
      "42       3.0         Regret Optimized  1.100243           4060         60   \n",
      "43       3.0         Regret Optimized  1.091117           4077         60   \n",
      "45       4.0         Regret Optimized  1.100133           4099         60   \n",
      "46       4.0         Regret Optimized  1.090638           4116         60   \n",
      "54       0.5       Query Proportional  1.295989           1177         60   \n",
      "55       0.5       Query Proportional  1.279852           1196         60   \n",
      "63       1.0       Query Proportional  1.146023           2345         60   \n",
      "64       1.0       Query Proportional  1.155359           2369         60   \n",
      "66       2.0       Query Proportional  1.103516           3757         60   \n",
      "67       2.0       Query Proportional  1.091404           3791         60   \n",
      "69       3.0       Query Proportional  1.100243           4063         60   \n",
      "70       3.0       Query Proportional  1.090638           4080         60   \n",
      "72       4.0       Query Proportional  1.100133           4099         60   \n",
      "73       4.0       Query Proportional  1.090638           4117         60   \n",
      "81       0.5  Maximum Pending Updates  1.295989           1177         60   \n",
      "82       0.5  Maximum Pending Updates  1.279852           1196         60   \n",
      "90       1.0  Maximum Pending Updates  1.146023           2345         60   \n",
      "91       1.0  Maximum Pending Updates  1.155359           2369         60   \n",
      "93       2.0  Maximum Pending Updates  1.103516           3757         60   \n",
      "94       2.0  Maximum Pending Updates  1.091404           3791         60   \n",
      "96       3.0  Maximum Pending Updates  1.100243           4063         60   \n",
      "97       3.0  Maximum Pending Updates  1.090638           4080         60   \n",
      "99       4.0  Maximum Pending Updates  1.100133           4099         60   \n",
      "100      4.0  Maximum Pending Updates  1.090638           4117         60   \n",
      "108      0.5             Minimum Past  1.185024           1177         60   \n",
      "109      0.5             Minimum Past  1.177387           1196         60   \n",
      "117      1.0             Minimum Past  1.138129           2345         60   \n",
      "118      1.0             Minimum Past  1.135455           2369         60   \n",
      "120      2.0             Minimum Past  1.103743           3753         60   \n",
      "121      2.0             Minimum Past  1.092937           3760         60   \n",
      "123      3.0             Minimum Past  1.100351           4059         60   \n",
      "124      3.0             Minimum Past  1.090639           4071         60   \n",
      "126      4.0             Minimum Past  1.100133           4101         60   \n",
      "127      4.0             Minimum Past  1.090638           4117         60   \n",
      "135      0.5              Round-Robin  1.174450           1177         60   \n",
      "136      0.5              Round-Robin  1.138461           1196         60   \n",
      "144      1.0              Round-Robin  1.107126           2345         60   \n",
      "145      1.0              Round-Robin  1.096352           2369         60   \n",
      "147      2.0              Round-Robin  1.099762           3764         60   \n",
      "148      2.0              Round-Robin  1.090638           3771         60   \n",
      "150      3.0              Round-Robin  1.100134           4061         60   \n",
      "151      3.0              Round-Robin  1.090638           4076         60   \n",
      "153      4.0              Round-Robin  1.100133           4099         60   \n",
      "154      4.0              Round-Robin  1.090638           4117         60   \n",
      "\n",
      "     max_ts         dist  \n",
      "27     2376  exponential  \n",
      "28     2408     gaussian  \n",
      "36     2376  exponential  \n",
      "37     2408     gaussian  \n",
      "39     2376  exponential  \n",
      "40     2408     gaussian  \n",
      "42     2376  exponential  \n",
      "43     2408     gaussian  \n",
      "45     2376  exponential  \n",
      "46     2408     gaussian  \n",
      "54     2376  exponential  \n",
      "55     2408     gaussian  \n",
      "63     2376  exponential  \n",
      "64     2408     gaussian  \n",
      "66     2376  exponential  \n",
      "67     2408     gaussian  \n",
      "69     2376  exponential  \n",
      "70     2408     gaussian  \n",
      "72     2376  exponential  \n",
      "73     2408     gaussian  \n",
      "81     2376  exponential  \n",
      "82     2408     gaussian  \n",
      "90     2376  exponential  \n",
      "91     2408     gaussian  \n",
      "93     2376  exponential  \n",
      "94     2408     gaussian  \n",
      "96     2376  exponential  \n",
      "97     2408     gaussian  \n",
      "99     2376  exponential  \n",
      "100    2408     gaussian  \n",
      "108    2376  exponential  \n",
      "109    2408     gaussian  \n",
      "117    2376  exponential  \n",
      "118    2408     gaussian  \n",
      "120    2376  exponential  \n",
      "121    2408     gaussian  \n",
      "123    2376  exponential  \n",
      "124    2408     gaussian  \n",
      "126    2376  exponential  \n",
      "127    2408     gaussian  \n",
      "135    2376  exponential  \n",
      "136    2408     gaussian  \n",
      "144    2376  exponential  \n",
      "145    2408     gaussian  \n",
      "147    2376  exponential  \n",
      "148    2408     gaussian  \n",
      "150    2376  exponential  \n",
      "151    2408     gaussian  \n",
      "153    2376  exponential  \n",
      "154    2408     gaussian  \n"
     ]
    },
    {
     "data": {
      "image/png": "[encoded data removed]",
      "text/plain": [
       "<Figure size 576x360 with 1 Axes>"
      ]
     },
     "metadata": {},
     "output_type": "display_data"
    }
   ],
   "source": [
    "subset = [\"total_error_cold\", \"min_past\", \"round_robin\", \"max_pending\", \"last_query\", \"query_proportional\", \"batch\"]\n",
    "\n",
    "plt = plot_factor(60, subset, updates=[0.5, 1, 2, 3, 4, 6, 8])\n",
    "plt.tight_layout()\n",
    "plt.savefig('/data/wooders/ralf-vldb/plots/als_1m_bar_all.pdf') "
   ]
  },
  {
   "cell_type": "code",
   "execution_count": 71,
   "id": "8229538d",
   "metadata": {},
   "outputs": [
    {
     "name": "stderr",
     "output_type": "stream",
     "text": [
      "/data/wooders/anaconda3/lib/python3.8/site-packages/pandas/core/generic.py:5494: SettingWithCopyWarning: \n",
      "A value is trying to be set on a copy of a slice from a DataFrame.\n",
      "Try using .loc[row_indexer,col_indexer] = value instead\n",
      "\n",
      "See the caveats in the documentation: https://pandas.pydata.org/pandas-docs/stable/user_guide/indexing.html#returning-a-view-versus-a-copy\n",
      "  self[name] = value\n"
     ]
    },
    {
     "name": "stdout",
     "output_type": "stream",
     "text": [
      "1.100133457706349 4101\n"
     ]
    },
    {
     "data": {
      "image/png": "[encoded data removed]",
      "text/plain": [
       "<Figure size 576x360 with 1 Axes>"
      ]
     },
     "metadata": {},
     "output_type": "display_data"
    }
   ],
   "source": [
    "subset = [\"total_error_cold\", \"min_past\"] #, \"round_robin\", \"max_pending\", \"last_query\", \"query_proportional\", \"batch\"]\n",
    "\n",
    "plt = plot_factor_total_updates(60, subset, log=False)\n",
    "plt.tight_layout()\n",
    "plt.savefig('/data/wooders/ralf-vldb/plots/als_1m_line.pdf') "
   ]
  },
  {
   "cell_type": "code",
   "execution_count": 55,
   "id": "2b62e92e",
   "metadata": {},
   "outputs": [
    {
     "name": "stderr",
     "output_type": "stream",
     "text": [
      "/tmp/ipykernel_3092022/1439645019.py:9: SettingWithCopyWarning: \n",
      "A value is trying to be set on a copy of a slice from a DataFrame.\n",
      "Try using .loc[row_indexer,col_indexer] = value instead\n",
      "\n",
      "See the caveats in the documentation: https://pandas.pydata.org/pandas-docs/stable/user_guide/indexing.html#returning-a-view-versus-a-copy\n",
      "  plot_df.policy = plot_df.policy.map({\n"
     ]
    },
    {
     "name": "stdout",
     "output_type": "stream",
     "text": [
      "1.1169459005554807 25497\n"
     ]
    },
    {
     "data": {
      "image/png": "[encoded data removed]",
      "text/plain": [
       "<Figure size 576x360 with 1 Axes>"
      ]
     },
     "metadata": {},
     "output_type": "display_data"
    }
   ],
   "source": [
    "subset = [\"total_error_cold\", \"min_past\", \"round_robin\", \"max_pending\", \"last_query\", \"query_proportional\", \"batch\"]\n",
    "\n",
    "plt = plot_factor_total_updates(60, subset, log=False)\n",
    "plt.tight_layout()\n",
    "plt.savefig('/data/wooders/ralf-vldb/plots/als_1m_line_all.pdf') "
   ]
  },
  {
   "cell_type": "markdown",
   "id": "470f8188",
   "metadata": {},
   "source": [
    "## Plot Rate of Updates vs. Error Improvement "
   ]
  },
  {
   "cell_type": "code",
   "execution_count": null,
   "id": "fe2a5bde",
   "metadata": {},
   "outputs": [],
   "source": [
    "window_size = 1 \n",
    "ts_factor = 60"
   ]
  },
  {
   "cell_type": "code",
   "execution_count": null,
   "id": "77bd7bb1",
   "metadata": {},
   "outputs": [],
   "source": [
    "stream_df[\"adj_timestamp\"] = stream_df[\"timestamp\"].apply(lambda x: int(x/60))\n",
    "start_ts = stream_df.adj_timestamp.min()\n",
    "end_ts = stream_df.adj_timestamp.max()\n",
    "\n",
    "print(start_ts, end_ts)"
   ]
  },
  {
   "cell_type": "code",
   "execution_count": null,
   "id": "e039470b",
   "metadata": {},
   "outputs": [],
   "source": [
    "count_df = stream_df.groupby(\"adj_timestamp\").user_id.nunique().to_frame()"
   ]
  },
  {
   "cell_type": "code",
   "execution_count": null,
   "id": "7a417e7c",
   "metadata": {},
   "outputs": [],
   "source": [
    "count_df = stream_df.groupby(\"adj_timestamp\").user_id.nunique().to_frame()\n",
    "time_df = pd.Series(range(start_ts, end_ts, 1)).to_frame(\"timestamp\").merge(count_df, how=\"left\", left_on=\"timestamp\", right_on=\"adj_timestamp\").fillna(0)\n",
    "user_update_rate_df = time_df.user_id.rolling(window_size).sum()"
   ]
  },
  {
   "cell_type": "code",
   "execution_count": null,
   "id": "6e44c8e7",
   "metadata": {},
   "outputs": [],
   "source": [
    "user_update_rate_df.plot()"
   ]
  },
  {
   "cell_type": "code",
   "execution_count": null,
   "id": "49599ed1",
   "metadata": {},
   "outputs": [],
   "source": [
    "count_df = stream_df.groupby(\"adj_timestamp\").user_id.count().to_frame()\n",
    "time_df = pd.Series(range(start_ts, end_ts, 1)).to_frame(\"timestamp\").merge(count_df, how=\"left\", left_on=\"timestamp\", right_on=\"adj_timestamp\").fillna(0)\n",
    "\n",
    "rating_update_rate_df = pd.DataFrame()\n",
    "rating_update_rate_df[\"n\"] = time_df.user_id.rolling(window_size).sum()\n",
    "rating_update_rate_df[\"timestamp\"] = time_df.timestamp.rolling(window_size).max().fillna(0)"
   ]
  },
  {
   "cell_type": "code",
   "execution_count": null,
   "id": "88bbde08",
   "metadata": {},
   "outputs": [],
   "source": [
    "rating_update_rate_df.n.plot()"
   ]
  },
  {
   "cell_type": "code",
   "execution_count": null,
   "id": "9f7191c5",
   "metadata": {
    "scrolled": true
   },
   "outputs": [],
   "source": [
    "eval_df = df_all[df_all[\"ts_factor\"] == ts_factor]\n",
    "eval_df[\"error_diff\"] = (eval_df[\"y_pred\"] - eval_df[\"y_true\"]).pow(2)\n",
    "eval_df"
   ]
  },
  {
   "cell_type": "code",
   "execution_count": null,
   "id": "07e735ea",
   "metadata": {},
   "outputs": [],
   "source": [
    "eval_df = df_all[df_all[\"ts_factor\"] == ts_factor]\n",
    "eval_df[\"error_diff\"] = (eval_df[\"y_pred\"] - eval_df[\"y_true\"]).pow(2)\n",
    "\n",
    "records = []\n",
    "for (updates, policy, ts), group in tqdm(eval_df.groupby([\"updates\", \"policy\", \"timestamp\"])): \n",
    "    records.append({\n",
    "        \"updates\": updates, \n",
    "        \"policy\": policy, \n",
    "        \"timestamp\": ts, \n",
    "        \"error\": group.error_diff.mean()\n",
    "    })\n",
    "\n",
    "    \n",
    "    \n",
    "print(\"finished group\")\n",
    "ts_error_df = pd.DataFrame(records)\n",
    "print(ts_error_df)"
   ]
  },
  {
   "cell_type": "code",
   "execution_count": null,
   "id": "b2939eca",
   "metadata": {},
   "outputs": [],
   "source": [
    "ts_error_df.to_csv(f\"{result_dir}/error_time_{ts_factor}.csv\")"
   ]
  },
  {
   "cell_type": "code",
   "execution_count": null,
   "id": "2d8c40c6",
   "metadata": {},
   "outputs": [],
   "source": [
    "error_window_df = ts_error_df.reset_index()"
   ]
  },
  {
   "cell_type": "code",
   "execution_count": null,
   "id": "df70088d",
   "metadata": {},
   "outputs": [],
   "source": [
    "min_past_df = error_window_df[error_window_df[\"policy\"] == \"min_past\"].groupby([\"updates\", \"timestamp\"]).error.min().to_frame().reset_index()\n",
    "max_pending_df = error_window_df[error_window_df[\"policy\"] == \"max_pending\"].groupby([\"updates\", \"timestamp\"]).error.min().to_frame().reset_index()\n",
    "optimized_df = error_window_df[error_window_df[\"policy\"] == \"total_error_cold\"].groupby([\"updates\", \"timestamp\"]).error.min().to_frame().reset_index()"
   ]
  },
  {
   "cell_type": "code",
   "execution_count": null,
   "id": "e858c19a",
   "metadata": {},
   "outputs": [],
   "source": [
    "updates = 0.2\n",
    "\n",
    "improvement_min_past = min_past_df[min_past_df[\"updates\"] == updates].error - optimized_df[optimized_df[\"updates\"] == updates].error\n",
    "improvement_max_pending = max_pending_df[max_pending_df[\"updates\"] == updates].error - optimized_df[optimized_df[\"updates\"] == updates].error"
   ]
  },
  {
   "cell_type": "code",
   "execution_count": null,
   "id": "74c828b6",
   "metadata": {},
   "outputs": [],
   "source": [
    "total_counts = []\n",
    "for ts in tqdm(baseline_df[baseline_df[\"updates\"] == updates].timestamp.tolist()):\n",
    "    if ts >= 60: \n",
    "        total_count = time_df[(time_df[\"timestamp\"] > ts - 60) & (time_df[\"timestamp\"] <= ts)].user_id.unique().sum()\n",
    "        total_counts.append(total_count)\n",
    "        \n",
    "    if len(total_counts) >= 100000:\n",
    "        break"
   ]
  },
  {
   "cell_type": "code",
   "execution_count": null,
   "id": "3b1fb844",
   "metadata": {},
   "outputs": [],
   "source": [
    "improvement"
   ]
  },
  {
   "cell_type": "code",
   "execution_count": null,
   "id": "8662f978",
   "metadata": {},
   "outputs": [],
   "source": [
    "min_past_df = pd.DataFrame({\"update_rate\": total_counts, \"improvement\": improvement_min_past.rolling(60).mean().tolist()[58:], \"policy\": \"Minimum Past\"})\n",
    "max_pending_df = pd.DataFrame({\"update_rate\": total_counts, \"improvement\": improvement_max_pending.rolling(60).mean().tolist()[58:], \"policy\": \"Maximum Pending\"})\n",
    "\n",
    "plot_df = pd.concat([min_past_df, max_pending_df])\n",
    "plot_df"
   ]
  },
  {
   "cell_type": "code",
   "execution_count": null,
   "id": "66321a14",
   "metadata": {},
   "outputs": [],
   "source": [
    "plt.tight_layout()\n",
    "\n",
    "g=sns.lmplot(x=\"update_rate\", y=\"improvement\", hue=\"policy\", data=plot_df, order=2, scatter=False, legend=False, height=5, aspect=1.5)\n",
    "\n",
    "g.set(title=\"Improvement (Recommendation)\", xlabel=\"Hourly Unique User Ratings\",  ylabel=\"MSE\")\n",
    "\n",
    "g.despine(left=True)\n",
    "plt.legend(loc='lower center')\n",
    "\n",
    "results_df.to_csv(f\"/data/wooders/ralf-vldb/plots/als_improvements.csv\")\n",
    "plt.savefig('/data/wooders/ralf-vldb/plots/als_1m_improvement_rate.pdf')"
   ]
  },
  {
   "cell_type": "code",
   "execution_count": null,
   "id": "ea193075",
   "metadata": {},
   "outputs": [],
   "source": [
    "plot_df = pd.DataFrame({\"update_rate\": total_counts, \"improvement\": improvement_max_pending.rolling(60).mean().tolist()[58:]})\n",
    "\n",
    "sns.regplot(x=\"update_rate\", y=\"improvement\", data=plot_df, order=2, scatter=False)"
   ]
  },
  {
   "cell_type": "code",
   "execution_count": null,
   "id": "251aafc9",
   "metadata": {},
   "outputs": [],
   "source": [
    "plot_df = pd.DataFrame({\"update_rate\": total_counts, \"improvement\": improvement_min_past.rolling(60).mean().tolist()[58:]})\n",
    "\n",
    "sns.regplot(x=\"update_rate\", y=\"improvement\", data=plot_df, order=2, scatter=False)"
   ]
  },
  {
   "cell_type": "code",
   "execution_count": null,
   "id": "db2b7859",
   "metadata": {},
   "outputs": [],
   "source": [
    "f, ax = plt.subplots(ncols=1, figsize=(5, 5))\n",
    "plt.tight_layout()\n",
    "\n",
    "plot_df = pd.DataFrame({\"update_rate\": total_counts, \"improvement\": improvement_max_pending.rolling(60).mean().tolist()[58:]})\n",
    "\n",
    "sns.regplot(x=\"update_rate\", y=\"improvement\", data=plot_df, order=2, scatter=False, ax=ax, label=\"Max Pending\", x_bins=100)\n",
    "\n",
    "ax.set(title=\"Mean Improvement per Hour\", xlabel=\"Unique Users per Hour\",  ylabel=\"MSE\")\n",
    "ax.legend()\n",
    "plt.savefig('/data/wooders/ralf-vldb/plots/als_1m_improvement_max_pending.pdf')"
   ]
  },
  {
   "cell_type": "code",
   "execution_count": null,
   "id": "716926fa",
   "metadata": {},
   "outputs": [],
   "source": [
    "f, ax = plt.subplots(ncols=1, figsize=(5, 5))\n",
    "plt.tight_layout()\n",
    "\n",
    "plot_df = pd.DataFrame({\"update_rate\": total_counts, \"improvement\": improvement_min_past.rolling(60).mean().tolist()[58:]})\n",
    "\n",
    "sns.regplot(x=\"update_rate\", y=\"improvement\", data=plot_df, order=2, scatter=False, ax=ax, label=\"Max Pending\", x_bins=100)\n",
    "\n",
    "ax.set(title=\"Mean Improvement per Hour\", xlabel=\"Unique Users per Hour\",  ylabel=\"MSE\")\n",
    "ax.legend()\n",
    "plt.savefig('/data/wooders/ralf-vldb/plots/als_1m_improvement_min_past.pdf')"
   ]
  },
  {
   "cell_type": "code",
   "execution_count": null,
   "id": "cf1cf610",
   "metadata": {},
   "outputs": [],
   "source": [
    "f, ax = plt.subplots(ncols=1, figsize=(5, 5))\n",
    "plt.tight_layout()\n",
    "\n",
    "plot_df = pd.DataFrame({\"update_rate\": total_counts, \"improvement\": improvement_min_past.rolling(60).mean().tolist()[58:]})\n",
    "\n",
    "sns.regplot(x=\"update_rate\", y=\"improvement\", data=plot_df, order=6, scatter=False, ax=ax, label=\"Minimum Past\")\n",
    "\n",
    "ax.set(title=\"Mean Improvement per Hour\", xlabel=\"Unique Users per Hour\",  ylabel=\"MSE\")\n",
    "ax.legend()"
   ]
  },
  {
   "cell_type": "code",
   "execution_count": null,
   "id": "82f9d576",
   "metadata": {},
   "outputs": [],
   "source": [
    "plot_df = pd.DataFrame({ \n",
    "    #\"timestamp\": rating_update_rate_df.iloc[:1000].timestamp, \n",
    "    \"update_rate\":  rating_update_rate_df.iloc[:100000].n,\n",
    "    \"improvement\": improvement.iloc[:100000]\n",
    "})\n",
    "plot_df = pd.DataFrame({\n",
    "    \"update_rate\": plot_df.groupby(\"update_rate\").groups.keys(), \n",
    "    \"improvement\": plot_df.groupby(\"update_rate\").improvement.mean()\n",
    "})\n",
    "\n",
    "\n",
    "sns.regplot(x=\"update_rate\", y=\"improvement\", data=plot_df, order=2)"
   ]
  },
  {
   "cell_type": "code",
   "execution_count": null,
   "id": "7d4579f0",
   "metadata": {},
   "outputs": [],
   "source": [
    "sns.scatterplot(x=\"update_rate\", y=\"improvement\", data=plot_df)"
   ]
  },
  {
   "cell_type": "code",
   "execution_count": null,
   "id": "cc8d2c18",
   "metadata": {},
   "outputs": [],
   "source": [
    "plot_df.groupby(\"update_rate\").groups.keys()"
   ]
  },
  {
   "cell_type": "code",
   "execution_count": null,
   "id": "f4afee67",
   "metadata": {},
   "outputs": [],
   "source": [
    "plot_df = pd.DataFrame({ \n",
    "    \"timestamp\": rating_update_rate_df.iloc[window_size:10000+window_size].timestamp, \n",
    "    \"update_rate\":  rating_update_rate_df.iloc[window_size:10000+window_size].n,\n",
    "    \"improvement\": improvement.iloc[0:10000]\n",
    "})\n",
    "\n",
    "sns.regplot(x=\"update_rate\", y=\"improvement\", data=plot_df)"
   ]
  },
  {
   "cell_type": "code",
   "execution_count": null,
   "id": "f3f6ba63",
   "metadata": {},
   "outputs": [],
   "source": [
    "optimized_df[optimized_df[\"updates\"] == 0.2].iloc[:1000].error.mean()"
   ]
  },
  {
   "cell_type": "code",
   "execution_count": null,
   "id": "e46ea6e3",
   "metadata": {},
   "outputs": [],
   "source": [
    "baseline_df[baseline_df[\"updates\"] == 0.2].iloc[:1000].error.mean()"
   ]
  },
  {
   "cell_type": "code",
   "execution_count": null,
   "id": "f7a91e5d",
   "metadata": {},
   "outputs": [],
   "source": [
    "error_window_df[(error_window_df[\"updates\"] == 0.2) & (error_window_df[\"policy\"] == \"total_error_cold\")].error.plot()"
   ]
  },
  {
   "cell_type": "code",
   "execution_count": null,
   "id": "5f7a2764",
   "metadata": {},
   "outputs": [],
   "source": [
    "error_window_df"
   ]
  },
  {
   "cell_type": "code",
   "execution_count": null,
   "id": "beae78d4",
   "metadata": {},
   "outputs": [],
   "source": [
    "error_window_df = eval_df.groupby([\"policy\", \"updates\"]) \\\n",
    "    .apply(lambda x: x.error_diff.rolling(window_size).sum())#lambda x: mean_absolute_error(x.y_pred, x.y_true)*x.y_pred.count() if x.y_pred.count() > 0 else 0)"
   ]
  },
  {
   "cell_type": "code",
   "execution_count": null,
   "id": "f2f5f28e",
   "metadata": {},
   "outputs": [],
   "source": [
    "error_window_df = error_window_df.reset_index()"
   ]
  },
  {
   "cell_type": "code",
   "execution_count": null,
   "id": "dbc152f4",
   "metadata": {},
   "outputs": [],
   "source": [
    "error_window_df"
   ]
  },
  {
   "cell_type": "code",
   "execution_count": null,
   "id": "4a0f8a3b",
   "metadata": {},
   "outputs": [],
   "source": [
    "optimized_window_error = error_window_df[error_window_df[\"policy\"] == \"total_error_cold\"]\n",
    "optimized_window_error"
   ]
  },
  {
   "cell_type": "code",
   "execution_count": null,
   "id": "23fac447",
   "metadata": {},
   "outputs": [],
   "source": [
    "baseline_window_error = error_window_df[error_window_df[\"policy\"] != \"total_error_cold\"].groupby(\"updates\").apply(lambda x: x.iloc[:, 2:].min()).reset_index()\n",
    "baseline_window_error"
   ]
  },
  {
   "cell_type": "code",
   "execution_count": null,
   "id": "41180a94",
   "metadata": {},
   "outputs": [],
   "source": [
    "updates = 0.2\n",
    "\n",
    "baseline = (baseline_window_error[baseline_window_error[\"updates\"] == updates].iloc[0, 1:]).to_list()\n",
    "optimized = (optimized_window_error[optimized_window_error[\"updates\"] == updates].iloc[0, 2:]).to_list()\n",
    "\n",
    "improvement_df = pd.DataFrame({\"baseline\": baseline, \"optimized\": optimized})\n",
    "improvement_df[\"improvement\"] = improvement_df[\"baseline\"] - improvement_df[\"optimized\"]\n",
    "improvement_df"
   ]
  },
  {
   "cell_type": "code",
   "execution_count": null,
   "id": "146f1920",
   "metadata": {},
   "outputs": [],
   "source": [
    "improvement_df.improvement.plot()"
   ]
  },
  {
   "cell_type": "code",
   "execution_count": null,
   "id": "354833e2",
   "metadata": {},
   "outputs": [],
   "source": [
    "eval_df = df_all[df_all[\"ts_factor\"] == ts_factor]\n",
    "error_dfs = []\n",
    "improvement_df = []\n",
    "for t in tqdm(range(start_ts, end_ts, window_size)): \n",
    "    eval_t_df = eval_df[(eval_df[\"timestamp\"] >= t) & (eval_df[\"timestamp\"] < t+window_size)]\n",
    "    \n",
    "    if len(eval_t_df.index) == 0: continue\n",
    "    \n",
    "    group_df = eval_t_df.groupby([\"policy\", \"updates\"])\n",
    "    error_t_df = group_df.apply(lambda x: mean_absolute_error(x.y_pred, x.y_true)*x.y_pred.count() if x.y_pred.count() > 0 else 0)\n",
    "    #error_t_df = group_df.apply(lambda x: mean_absolute_error(x.y_pred, x.y_true) if x.y_pred.count() > 0 else 0)\n",
    "\n",
    "    error_t_df = error_t_df.reset_index(name=\"error\")\n",
    "    error_t_df[\"timestamp_idx\"] = int(t/window_size)\n",
    "    error_dfs.append(error_t_df)\n",
    "    \n",
    "    \n",
    "    impr_df = pd.DataFrame()\n",
    "    impr_df[\"baseline\"] = error_t_df[error_t_df[\"policy\"] != \"total_error_cold\"].groupby(\"updates\").error.min()\n",
    "    impr_df[\"regret_optimized\"] = error_t_df[error_t_df[\"policy\"] == \"total_error_cold\"].groupby(\"updates\").error.min()\n",
    "    impr_df[\"timestamp_hr\"] = int(t/60)\n",
    "    impr_df[\"timestamp\"] = t+60\n",
    "    improvement_df.append(impr_df)\n",
    "    \n",
    "    \n",
    "    \n",
    "\n",
    "error_df = pd.concat(error_dfs)\n",
    "improvement_df = pd.concat(improvement_df)\n",
    "error_df"
   ]
  },
  {
   "cell_type": "code",
   "execution_count": null,
   "id": "16682ef2",
   "metadata": {},
   "outputs": [],
   "source": [
    "u_df = updates_df[(updates_df[\"ts_factor\"] == 60) &(updates_df[\"policy\"] == \"round_robin\")]"
   ]
  },
  {
   "cell_type": "code",
   "execution_count": null,
   "id": "1a56bfa6",
   "metadata": {},
   "outputs": [],
   "source": [
    "ts_factor = 60\n",
    "single_update_df = updates_df[(updates_df[\"ts_factor\"] == 60) &(updates_df[\"policy\"] == \"round_robin\")]\n",
    "single_update_df = single_update_df.groupby(\"time\").runtime.count().reset_index()\n",
    "stream_df[\"adj_timestamp\"] = stream_df[\"timestamp\"].apply(lambda x: int(x/60))\n",
    "all_update_df = pd.DataFrame()\n",
    "all_update_df[\"user_updates\"] = stream_df.groupby(\"adj_timestamp\").user_id.nunique()\n",
    "all_update_df[\"rating_updates\"] = stream_df.groupby(\"adj_timestamp\").user_id.count()\n",
    "print(all_update_df)\n",
    "print(single_update_df)"
   ]
  },
  {
   "cell_type": "code",
   "execution_count": null,
   "id": "9eef980d",
   "metadata": {},
   "outputs": [],
   "source": [
    "update_time_df = all_update_df.merge(single_update_df, how=\"left\", left_on=\"adj_timestamp\", right_on=\"time\")\n",
    "print(update_time_df)\n",
    "update_time_df = update_time_df[[\"time\", \"user_updates\", \"rating_updates\", \"runtime\"]]\n",
    "update_time_df.columns = [\"timestamp\", \"user_updates\", \"rating_updates\", \"updates\"]\n",
    "update_time_df"
   ]
  },
  {
   "cell_type": "code",
   "execution_count": null,
   "id": "c891c208",
   "metadata": {},
   "outputs": [],
   "source": [
    "\n",
    "sns.scatterplot(x='timestamp', y='rating_updates', data=update_time_df[update_time_df[\"timestamp\"] < 10000])\n",
    "sns.scatterplot(x='timestamp', y='user_updates', data=update_time_df[update_time_df[\"timestamp\"] < 10000])"
   ]
  },
  {
   "cell_type": "code",
   "execution_count": null,
   "id": "7e2fc78c",
   "metadata": {},
   "outputs": [],
   "source": [
    "plt.tight_layout()\n",
    "f, ax = plt.subplots(ncols=1, figsize=(10, 5))\n",
    "sns.set_theme(style=\"whitegrid\", font_scale=1.7)\n",
    "\n",
    "sns.regplot(x='timestamp', y='rating_updates', data=update_time_df[update_time_df[\"timestamp\"] < 10000], order=10, label=\"Number Ratings\", x_bins=20, ax=ax)\n",
    "sns.regplot(x='timestamp', y='user_updates', data=update_time_df[update_time_df[\"timestamp\"] < 10000], order=10, label=\"Number Unique Users\", x_bins=100, ax=ax)\n",
    "\n",
    "ax.set(title=\"Incoming Data Rate per Minute (Recommendation)\", xlabel=\"Timestep (minutes)\",  ylabel=\"Count\")\n",
    "ax.legend()"
   ]
  },
  {
   "cell_type": "code",
   "execution_count": null,
   "id": "558d2e4d",
   "metadata": {},
   "outputs": [],
   "source": [
    "plt.tight_layout()\n",
    "f, ax = plt.subplots(ncols=1, figsize=(10, 5))\n",
    "sns.set_theme(style=\"whitegrid\", font_scale=1.7)\n",
    "\n",
    "sns.scatterplot(x='timestamp', y='rating_updates', data=update_time_df[update_time_df[\"timestamp\"] < 10000], label=\"Number Ratings\", ax=ax)\n",
    "sns.scatterplot(x='timestamp', y='user_updates', data=update_time_df[update_time_df[\"timestamp\"] < 10000], label=\"Number Unique Users\", ax=ax)\n",
    "\n",
    "ax.set(title=\"Incoming Data Rate per Minute (Recommendation)\", xlabel=\"Timestep (minutes)\",  ylabel=\"Count\")\n",
    "ax.legend()"
   ]
  },
  {
   "cell_type": "code",
   "execution_count": null,
   "id": "8041d153",
   "metadata": {},
   "outputs": [],
   "source": [
    "df_all"
   ]
  },
  {
   "cell_type": "code",
   "execution_count": null,
   "id": "c721fa4d",
   "metadata": {},
   "outputs": [],
   "source": [
    "df_all"
   ]
  },
  {
   "cell_type": "code",
   "execution_count": null,
   "id": "6f5c8593",
   "metadata": {},
   "outputs": [],
   "source": [
    "eval_df = df_all[df_all[\"ts_factor\"] == 60]\n",
    "error_dfs = []\n",
    "improvement_df = []\n",
    "for t in tqdm(range(0, 10000, 60)): \n",
    "    eval_t_df = eval_df[(eval_df[\"timestamp\"] >= t) & (eval_df[\"timestamp\"] < t+60)]\n",
    "    \n",
    "    if len(eval_t_df.index) == 0: continue\n",
    "    \n",
    "    group_df = eval_t_df.groupby([\"policy\", \"updates\"])\n",
    "    error_t_df = group_df.apply(lambda x: mean_absolute_error(x.y_pred, x.y_true)*x.y_pred.count() if x.y_pred.count() > 0 else 0)\n",
    "    #error_t_df = group_df.apply(lambda x: mean_absolute_error(x.y_pred, x.y_true) if x.y_pred.count() > 0 else 0)\n",
    "\n",
    "    error_t_df = error_t_df.reset_index(name=\"error\")\n",
    "    error_t_df[\"timestamp_hr\"] = t/60\n",
    "    error_dfs.append(error_t_df)\n",
    "    \n",
    "    \n",
    "    impr_df = pd.DataFrame()\n",
    "    impr_df[\"baseline\"] = error_t_df[error_t_df[\"policy\"] != \"total_error_cold\"].groupby(\"updates\").error.min()\n",
    "    impr_df[\"regret_optimized\"] = error_t_df[error_t_df[\"policy\"] == \"total_error_cold\"].groupby(\"updates\").error.min()\n",
    "    impr_df[\"timestamp_hr\"] = int(t/60)\n",
    "    impr_df[\"timestamp\"] = t+60\n",
    "    improvement_df.append(impr_df)\n",
    "    \n",
    "    \n",
    "    \n",
    "\n",
    "error_df = pd.concat(error_dfs)\n",
    "improvement_df = pd.concat(improvement_df)\n",
    "error_df"
   ]
  },
  {
   "cell_type": "code",
   "execution_count": null,
   "id": "13e03b45",
   "metadata": {},
   "outputs": [],
   "source": [
    "improvement_df = improvement_df.reset_index()"
   ]
  },
  {
   "cell_type": "code",
   "execution_count": null,
   "id": "8c6118e0",
   "metadata": {},
   "outputs": [],
   "source": [
    "improvement_df[\"total_error_change\"] = improvement_df[\"baseline\"] - improvement_df[\"regret_optimized\"]"
   ]
  },
  {
   "cell_type": "code",
   "execution_count": null,
   "id": "5d0512bc",
   "metadata": {},
   "outputs": [],
   "source": [
    "plt.tight_layout()\n",
    "sns.set_theme(style=\"whitegrid\", font_scale=1.7)\n",
    "plot_df = improvement_df\n",
    "plot_df[\"total_error_change\"] = improvement_df[\"baseline\"] - improvement_df[\"regret_optimized\"]\n",
    "plot_df[\"Updates per Hour\"] = (plot_df[\"updates\"] * 60).astype(int)\n",
    "ax = sns.lmplot(x=\"timestamp\", y=\"total_error_change\", hue=\"Updates per Hour\", col=\"Updates per Hour\", col_wrap=2, order=10, data=plot_df)\n",
    "ax.set(xlabel=\"Timestep (minutes)\",  ylabel=\"Total Error\", ylim=(-30, 60))\n",
    "\n",
    "ax.fig.subplots_adjust(top=0.9) # adjust the Figure in rp\n",
    "ax.fig.suptitle(\"Hourly Total Error Improvement (Recommendation)\")"
   ]
  },
  {
   "cell_type": "code",
   "execution_count": null,
   "id": "f0e2f81b",
   "metadata": {},
   "outputs": [],
   "source": [
    "df = improvement_df.merge(update_time_df, how=\"left\", on=[\"timestamp\", \"updates\"])"
   ]
  },
  {
   "cell_type": "code",
   "execution_count": null,
   "id": "8ae13a84",
   "metadata": {},
   "outputs": [],
   "source": [
    "df.rating_updates.value_counts()"
   ]
  },
  {
   "cell_type": "code",
   "execution_count": null,
   "id": "e95b7f4d",
   "metadata": {},
   "outputs": [],
   "source": [
    "plt.tight_layout()\n",
    "sns.set_theme(style=\"whitegrid\", font_scale=1.7)\n",
    "ax = sns.regplot(x=\"timestamp\", y=\"total_error_change\", order=10, data=improvement_df)\n",
    "ax.set(title=\"Total Error Improvement per Hour (Recommendation)\", xlabel=\"Timestep (minutes)\",  ylabel=\"Total Error\")"
   ]
  },
  {
   "cell_type": "code",
   "execution_count": null,
   "id": "af906d5f",
   "metadata": {},
   "outputs": [],
   "source": [
    "improvement_df[improvement_df[\"total_error_change\"] < -100]"
   ]
  },
  {
   "cell_type": "code",
   "execution_count": null,
   "id": "b76e1496",
   "metadata": {},
   "outputs": [],
   "source": [
    "sns.scatterplot(x='timestamp', y='ratings', data=update_time_df[update_time_df[\"timestamp\"] < 10000])\n",
    "sns.scatterplot(x='timestamp', y='updates', data=update_time_df[update_time_df[\"timestamp\"] < 10000])"
   ]
  },
  {
   "cell_type": "code",
   "execution_count": null,
   "id": "4a860c44",
   "metadata": {},
   "outputs": [],
   "source": [
    "sns.regplot(x='timestamp', y='ratings', data=update_time_df[update_time_df[\"timestamp\"] < 10000], order=10)"
   ]
  },
  {
   "cell_type": "code",
   "execution_count": null,
   "id": "4f7c66f7",
   "metadata": {},
   "outputs": [],
   "source": [
    "update_time_df[\"timestamp_hr\"] = update_time_df[\"timestamp\"].apply(lambda x: int(x/60))\n",
    "update_agg_df = update_time_df.groupby(\"timestamp_hr\").ratings.sum().reset_index(name=\"user_updates\")\n",
    "print(update_agg_df)\n",
    "sns.lineplot(x='timestamp', y='user_updates', data=update_agg_df[update_agg_df[\"timestamp_hr\"] < 160])"
   ]
  },
  {
   "cell_type": "code",
   "execution_count": null,
   "id": "823d5163",
   "metadata": {},
   "outputs": [],
   "source": [
    "diff_df = error_df[error_df[\"policy\"] != \"total_error_cold\"]\n",
    "diff_df = diff_df.merge(error_df[error_df[\"policy\"] == \"total_error_cold\"], how=\"left\", on=\"timestamp\", suffixes=('', '_baseline')).reset_index()\n",
    "diff_df[\"error_improvement\"] = diff_df[\"error\"] - diff_df[\"error_baseline\"]\n",
    "sns.lineplot(x=\"timestamp\", y=\"error_improvement\", hue=\"policy\", data=diff_df)"
   ]
  },
  {
   "cell_type": "code",
   "execution_count": null,
   "id": "4e524898",
   "metadata": {},
   "outputs": [],
   "source": [
    "#f, ax = plt.subplots(ncols=1, figsize=(10, 5))\n",
    "plt.tight_layout()\n",
    "#sns.set_theme(style=\"whitegrid\", font_scale=1.7)\n",
    "ts_factor_filter = 60\n",
    "\n",
    "subset = [\"total_error_cold\", \"min_past\", \"round_robin\", \"max_pending\"]\n",
    "#subset = [\"total_error_cold\", \"min_past\", \"max_pending\"]\n",
    "\n",
    "diff_df = error_df[error_df[\"policy\"] != \"total_error_cold\"]\n",
    "diff_df = diff_df.merge(error_df[error_df[\"policy\"] == \"total_error_cold\"], how=\"left\", on=\"timestamp_hr\", suffixes=('', '_baseline')).reset_index()\n",
    "diff_df[\"error_improvement\"] = diff_df[\"error\"] - diff_df[\"error_baseline\"]\n",
    "\n",
    "plot_df = diff_df[diff_df.policy.isin(subset)]\n",
    "plot_df.policy = plot_df.policy.map({\n",
    "    'total_error_cold': 'Regret Optimized', \n",
    "    'min_past': 'Minimum Past Updates', \n",
    "    'round_robin': \"Round-Robin\", \n",
    "    'max_pending': \"Maximum Pending Updates\", \n",
    "    'last_query': \"Read-Optimized\", \n",
    "    \"query_proportional\": \"Query Proportional\",\n",
    "    \"batch\": \"Batched\"\n",
    "})\n",
    "#sns.scatterplot(x=\"timestamp_hr\", y=\"error_improvement\", hue=\"policy\", data=plot_df, ax=ax)\n",
    "g = sns.lmplot(x=\"timestamp_hr\", y=\"error_improvement\", hue=\"policy\", aspect=2, data=plot_df, order=10)\n",
    "#g.set(ylim=(-1000, 6000))\n",
    "ax.set(title=\"Total Error Improvement per Hour (Recommendation)\", xlabel=\"Timestep (hours)\",  ylabel=\"Total Squared Error\")"
   ]
  },
  {
   "cell_type": "code",
   "execution_count": null,
   "id": "6671499f",
   "metadata": {},
   "outputs": [],
   "source": [
    "data_df = error_df[(error_df[\"policy\"] == \"total_error_cold\") | (error_df[\"policy\"] == \"min_past\")].reset_index()\n",
    "data_df[\"error\"] = np.log(data_df[\"error\"])\n",
    "sns.lineplot(x=\"timestamp\", y=\"error\", hue=\"policy\", data=data_df)"
   ]
  },
  {
   "cell_type": "code",
   "execution_count": null,
   "id": "35ed92c2",
   "metadata": {},
   "outputs": [],
   "source": [
    "data_df = error_df[(error_df[\"policy\"] == \"total_error_cold\") | (error_df[\"policy\"] == \"query_proportional\")].reset_index()\n",
    "data_df[\"error\"] = np.log(data_df[\"error\"])\n",
    "sns.lineplot(x=\"timestamp\", y=\"error\", hue=\"policy\", data=data_df)"
   ]
  },
  {
   "cell_type": "code",
   "execution_count": null,
   "id": "3020d09d",
   "metadata": {},
   "outputs": [],
   "source": [
    "f, ax = plt.subplots(ncols=2, figsize=(10, 5))\n",
    "plt.tight_layout()\n",
    "sns.set_theme(style=\"whitegrid\", font_scale=1.2)\n",
    "ts_factor = 10 \n",
    "\n",
    "plot_df = results_df[(results_df[\"ts_factor\"] == 10) & (results_df.policy.isin([\"total_error_cold\", \"min_past\", \"round_robin\", \"max_pending\", \"last_query\"]))]\n",
    "plot_df.policy = plot_df.policy.map({\n",
    "    'total_error_cold': 'Regret Optimized', \n",
    "    'min_past': 'Minimum Past Updates', \n",
    "    'round_robin': \"Round-Robin\", \n",
    "    'max_pending': \"Maximum Pending Updates\", \n",
    "    'last_query': \"Read-Optimized\"\n",
    "})\n",
    "plot_df = plot_df.dropna()\n",
    "sns.barplot(x=\"updates\", y=\"error\", hue=\"policy\", data=plot_df, log=True, ax=ax[0])\n",
    "\n",
    "plot_df = plot_df[plot_df.policy.isin(['Minimum Past Updates', 'Regret Optimized'])].reset_index()\n",
    "print(plot_df)\n",
    "sns.barplot(x=\"updates\", y=\"error\", hue=\"policy\", data=plot_df, log=True, ax=ax[1])\n",
    "\n",
    "ax[1].set(title=\"Prediction Accuracy per Policy (Recommendation)\", xlabel=\"Updates per Timestep\",  ylabel=\"Log MSE\")\n",
    "ax[1].set(title=\"Prediction Accuracy per Policy (Recommendation)\", xlabel=\"Updates per Timestep\",  ylabel=\"MSE\")\n",
    "#plt.legend(np.flip(plot_df['policy'].unique()), loc='upper right', title=\"Event Type\")"
   ]
  },
  {
   "cell_type": "code",
   "execution_count": null,
   "id": "f93439a7",
   "metadata": {},
   "outputs": [],
   "source": [
    "ax = sns.barplot(x=\"updates\", y=\"error\", hue=\"policy\", data=results_df[results_df[\"ts_factor\"] == 10], log=True)"
   ]
  },
  {
   "cell_type": "code",
   "execution_count": null,
   "id": "53520f28",
   "metadata": {},
   "outputs": [],
   "source": [
    "updates_df.key.value_counts()"
   ]
  },
  {
   "cell_type": "code",
   "execution_count": null,
   "id": "4d34c309",
   "metadata": {},
   "outputs": [],
   "source": [
    "updates_df[(updates_df[\"time\"] > ts_min) & (updates_df[\"time\"] < ts_max) & (updates_df[\"updates\"] == updates) & (updates_df[\"ts_factor\"] == 10)].key.value_counts()"
   ]
  },
  {
   "cell_type": "code",
   "execution_count": null,
   "id": "4e9fd6a3",
   "metadata": {},
   "outputs": [],
   "source": [
    "df_all[(df_all.index > ts_min) & (df_all.index < ts_max) & (df_all[\"updates\"] == updates) & (df_all[\"ts_factor\"] == 10)].user_id.value_counts()"
   ]
  },
  {
   "cell_type": "code",
   "execution_count": null,
   "id": "a706dc8d",
   "metadata": {},
   "outputs": [],
   "source": [
    "updates_df"
   ]
  },
  {
   "cell_type": "code",
   "execution_count": null,
   "id": "0dd780cc",
   "metadata": {},
   "outputs": [],
   "source": [
    "ts_min = 35000\n",
    "ts_max = 40000\n",
    "updates=1"
   ]
  },
  {
   "cell_type": "code",
   "execution_count": null,
   "id": "867dce83",
   "metadata": {},
   "outputs": [],
   "source": [
    "df_all[(df_all[\"updates\"] == updates) & (df_all[\"ts_factor\"] == 10)].groupby(\"timestamp\").updates.count().plot()\n"
   ]
  },
  {
   "cell_type": "code",
   "execution_count": null,
   "id": "617c929a",
   "metadata": {},
   "outputs": [],
   "source": [
    "hist_df = updates_df[(updates_df[\"time\"] > ts_min) & (updates_df[\"time\"] < ts_max) & (updates_df[\"updates\"] == updates) & (updates_df[\"ts_factor\"] == 10)].groupby(by=[\"key\", \"policy\"]).updates.count().reset_index()\n",
    "hist_df[\"user_id\"] = hist_df[\"key\"]\n",
    "hist_df[\"policy\"] = hist_df.policy.map({\n",
    "    'total_error_cold': 'Accuracy Optimized', \n",
    "    'min_past': 'Minimum Past Updates', \n",
    "    'round_robin': \"Round Robin\", \n",
    "    'max_pending': \"Maximum Pending\"\n",
    "})\n",
    "hist_df = hist_df.dropna()\n",
    "hist_df.user_id.value_counts()\n",
    "\n",
    "samples_df = df_all[(df_all[\"timestamp\"] > ts_min) & (df_all.index < ts_max) & (df_all[\"updates\"] == updates) & (df_all[\"ts_factor\"] == 10)]\\\n",
    "    .groupby(by=[\"user_id\", \"policy\"])\\\n",
    "    .ts_factor.count()\\\n",
    "    .to_frame(name=\"samples\")\\\n",
    "    .reset_index()"
   ]
  },
  {
   "cell_type": "code",
   "execution_count": null,
   "id": "f0726298",
   "metadata": {},
   "outputs": [],
   "source": [
    "# samples_df = df_all[(df_all.index > ts_min) & (df_all.index < ts_max) & (df_all[\"updates\"] == updates) & (df_all[\"ts_factor\"] == 10)].groupby(by=[\"user_id\", \"policy\"]).ts_factor.count().to_frame(name=\"samples\")\n",
    "# ratio_df = pd.DataFrame(samples_df).join(hist_df.set_index([\"user_id\", \"policy\"]), on=[\"user_id\", \"policy\"]).reset_index()\n",
    "# hist_df = updates_df[(updates_df[\"time\"] > ts_min) & (updates_df[\"time\"] < ts_max) & (updates_df[\"updates\"] == updates) & (updates_df[\"ts_factor\"] == 10)].groupby(by=[\"key\", \"policy\"]).updates.count().reset_index()\n",
    "# hist_df[\"user_id\"] = hist_df[\"key\"]\n",
    "# print(ratio_df)\n",
    "# ratio_df[\"policy\"] = ratio_df.policy.map({\n",
    "#     'total_error_cold': 'Accuracy Optimized', \n",
    "#     'min_past': 'Minimum Past Updates', \n",
    "#     'round_robin': \"Round Robin\", \n",
    "#     'max_pending': \"Maximum Pending\"\n",
    "# })\n",
    "# ratio_df = ratio_df.dropna().reset_index()\n",
    "# ratio_df[\"ratio\"] = ratio_df.apply(lambda x: x[\"updates\"]/x[\"samples\"], axis=1)\n",
    "\n",
    "# sns.set_theme(style=\"whitegrid\", font_scale=1.5)\n",
    "# g = sns.histplot(data=ratio_df, x=\"updates\", hue=\"policy\", discrete=False)\n",
    "# g.set(title=\"Distribution of Updates Across Keys\", xlabel=\"Scheduled Updates per Key\",  ylabel=\"Number Keys\")"
   ]
  },
  {
   "cell_type": "code",
   "execution_count": null,
   "id": "a18232aa",
   "metadata": {},
   "outputs": [],
   "source": [
    "heat_df = hist_df.pivot(\"policy\", \"user_id\", \"updates\").sort_values(\"Round Robin\", axis=1, ascending=False).fillna(0)\n",
    "heat_df"
   ]
  },
  {
   "cell_type": "code",
   "execution_count": null,
   "id": "13a07877",
   "metadata": {},
   "outputs": [],
   "source": [
    "heat_df = hist_df.pivot(\"policy\", \"user_id\", \"updates\").sort_values(\"Round Robin\", axis=1, ascending=False).fillna(0)\n",
    "f, ax = plt.subplots(figsize=(10, 5))\n",
    "plt.tight_layout()\n",
    "sns.set_theme(style=\"whitegrid\", font_scale=1.7)\n",
    "\n",
    "sns.heatmap(\n",
    "    heat_df.iloc[:, :20], \n",
    "    annot=True, \n",
    "    cbar=False,  \n",
    "    yticklabels=[\"Regret Optimized\", \"Maximum Pending\", \"Minimum Past\", \"Round Robin\"],\n",
    "    xticklabels=range(1, 21, 1),\n",
    "    square=True,\n",
    "    ax=ax\n",
    ")\n",
    "ax.set_xlabel(f\"Most Updated Users (Timestamps {ts_min}-{ts_max})\")\n",
    "ax.set_ylabel(None)\n",
    "ax.set_title(\"Number of Featurization Updates\")\n",
    "#plt.legend(fontsize='x-large')\n",
    "f.savefig('/data/wooders/ralf-vldb/plots/als_heatmap.pdf', dpi=300, bbox_inches = \"tight\")"
   ]
  },
  {
   "cell_type": "code",
   "execution_count": null,
   "id": "3307a994",
   "metadata": {},
   "outputs": [],
   "source": [
    "heat_df = hist_df.pivot(\"policy\", \"user_id\", \"updates\").sort_values(\"Round Robin\", axis=1, ascending=False).fillna(0)\n",
    "f, ax = plt.subplots(nrows=2, figsize=(20, 10))\n",
    "sns.heatmap(\n",
    "    heat_df.iloc[:, :20], \n",
    "    annot=True, \n",
    "    cbar=False,  \n",
    "    #yticklabels=[\"Regret Optimized\", \"Minimum Past\", \"Round Robin\"],\n",
    "    xticklabels=range(1, 21, 1),\n",
    "    square=True,\n",
    "    ax=ax[0]\n",
    ")\n",
    "ax[0].set_xlabel(\"Most Updated Users\")\n",
    "ax[0].set_ylabel(None)\n",
    "ax[0].set_title(\"Featurization Updates\")\n",
    "\n",
    "users = heat_df.columns[1:21]\n",
    "print(users)\n",
    "samples = [samples_df[samples_df[\"user_id\"] == u].samples.max() for u in users]\n",
    "d = pd.DataFrame({\"User\": range(1, 21, 1), \"Raw Data Updates\": samples})\n",
    "print(d)\n",
    "#d = pd.DataFrame([samples], columns=users, index=[\"Total Data Points\"])\n",
    "sns.barplot(data=d, x=\"User\", y=\"Raw Data Updates\", ax=ax[1])\n",
    "#ax[1].set_ylabel(None)\n",
    "#ax[1].set_title(\"Raw Data Updates Updates\")"
   ]
  },
  {
   "cell_type": "code",
   "execution_count": null,
   "id": "c00afc4a",
   "metadata": {},
   "outputs": [],
   "source": [
    "key_df = updates_df[(updates_df[\"key\"] == 2693) & (updates_df[\"ts_factor\"] == 10) & (updates_df[\"updates\"] == 1)]\n",
    "key_df = key_df.set_index([\"time\", \"policy\"]).reset_index()\n",
    "sns.histplot(key_df, x=\"time\", hue=\"policy\")"
   ]
  },
  {
   "cell_type": "code",
   "execution_count": null,
   "id": "3c4f15e8",
   "metadata": {},
   "outputs": [],
   "source": [
    "for (i, (key, group)) in enumerate(key_df.groupby(\"policy\")):\n",
    "    group = group.time.tolist()\n",
    "    x = group\n",
    "    y = range(1, len(group) + 1, 1)\n",
    "    plt.plot(x, y, label=key)\n",
    "plt.legend()\n",
    "    "
   ]
  },
  {
   "cell_type": "code",
   "execution_count": null,
   "id": "f137b660",
   "metadata": {},
   "outputs": [],
   "source": [
    "samples_df[samples_df[\"user_id\"] == 3437]"
   ]
  },
  {
   "cell_type": "code",
   "execution_count": null,
   "id": "4e385bd7",
   "metadata": {},
   "outputs": [],
   "source": [
    "heat_df = hist_df.pivot(\"policy\", \"user_id\", \"updates\").sort_values(\"Round Robin\", axis=1, ascending=False).fillna(0)\n",
    "f, ax = plt.subplots(nrows=2, figsize=(20, 10))\n",
    "sns.heatmap(\n",
    "    heat_df.iloc[:, :20], \n",
    "    annot=True,\n",
    "    cbar=False,  \n",
    "    #yticklabels=[\"Regret Optimized\", \"Minimum Past\", \"Round Robin\"],\n",
    "    xticklabels=range(1, 21, 1),\n",
    "    square=True,\n",
    "    ax=ax[0]\n",
    ")\n",
    "ax[0].set_xlabel(\"Most Updated Users\")\n",
    "ax[0].set_ylabel(None)\n",
    "ax[0].set_title(\"Featurization Updates\")\n",
    "\n",
    "heat_df = hist_df.pivot(\"policy\", \"user_id\", \"updates\").sort_values(\"Round Robin\", axis=1, ascending=True).fillna(0)\n",
    "sns.heatmap(\n",
    "    heat_df.iloc[:, :20], \n",
    "    annot=True, \n",
    "    cbar=False,  \n",
    "    #yticklabels=[\"Regret Optimized\", \"Minimum Past\", \"Round Robin\"],\n",
    "    xticklabels=range(1, 21, 1),\n",
    "    square=True,\n",
    "    ax=ax[1]\n",
    ")\n",
    "ax[1].set_xlabel(\"Least Updated Users\")\n",
    "ax[1].set_ylabel(None)\n",
    "ax[1].set_title(\"Featurization Updates\")"
   ]
  },
  {
   "cell_type": "code",
   "execution_count": null,
   "id": "bd06d083",
   "metadata": {},
   "outputs": [],
   "source": [
    "users = heat_df.columns[1:21]\n",
    "samples = [ratio_df[ratio_df[\"user_id\"] == u].samples.max() for u in users]\n",
    "d = pd.DataFrame({\"User\": range(1, 21, 1), \"Raw Data Updates\": samples})\n",
    "print(d)\n",
    "#d = pd.DataFrame([samples], columns=users, index=[\"Total Data Points\"])\n",
    "sns.barplot(data=d, x=\"User\", y=\"Raw Data Updates\")"
   ]
  },
  {
   "cell_type": "code",
   "execution_count": null,
   "id": "425aa8b9",
   "metadata": {},
   "outputs": [],
   "source": [
    "#f, ax = plt.subplots(figsize=(20, 2))\n",
    "\n",
    "#fig, axs = plt.subplots(2, figsize=(20, 6))\n",
    "fig, axs = plt.subplots(nrows=3)\n",
    "\n",
    "fig.suptitle('Vertically stacked subplots')\n",
    "\n",
    "heat_df = ratio_df.pivot(\"policy\", \"user_id\", \"ratio\").fillna(0)\n",
    "sns.heatmap(heat_df.iloc[:, :10], ax=axs[0]) #, square=True, annot=True, cbar=False)\n",
    "\n",
    "heat_df = ratio_df.pivot(\"policy\", \"user_id\", \"updates\").sort_values(\"Accuracy Optimized\", axis=1, ascending=False).fillna(0)\n",
    "sns.heatmap(heat_df.iloc[:, :10], ax=axs[1], annot=True)\n",
    "\n",
    "heat_df = ratio_df.pivot(\"policy\", \"user_id\", \"samples\").fillna(0)\n",
    "sns.heatmap(heat_df.iloc[:, :10], ax=axs[2])\n"
   ]
  },
  {
   "cell_type": "code",
   "execution_count": null,
   "id": "b559447b",
   "metadata": {},
   "outputs": [],
   "source": [
    "runtime = 1.0\n",
    "sns.set(rc={'figure.figsize':(10.7,5.27)})\n",
    "hist_df = updates_df[updates_df[\"runtime\"] == runtime].groupby(by=[\"key\", \"policy\"]).size()\n",
    "hist_df = hist_df / samples_df\n",
    "print(hist_df.max())\n",
    "hist_df = hist_df.to_frame(name=\"updates\").reset_index()\n",
    "print(hist_df.policy.value_counts())\n",
    "hist_df[\"policy\"] = hist_df.policy.map({'total_error_cold': 'Accuracy Optimized', 'min_past': 'Minimum Past Updates', 'round_robin': \"Round Robin\"})\n",
    "hist_df = hist_df.dropna()\n",
    "print(hist_df.max())\n",
    "\n",
    "sns.set_theme(style=\"whitegrid\", font_scale=1.5)\n",
    "g = sns.histplot(data=hist_df, x=\"updates\", hue=\"policy\", log_scale=(False, True), discrete=False, bins=30)\n",
    "g.set(title=\"Distribution of Updates Across Keys\", xlabel=\"Scheduled Updates per Key\",  ylabel=\"Number Keys\")"
   ]
  },
  {
   "cell_type": "code",
   "execution_count": null,
   "id": "2135c0fd",
   "metadata": {},
   "outputs": [],
   "source": [
    "updates_df[(updates_df[\"policy\"] == \"total_error\") & (updates_df[\"runtime\"] == 1.00)]"
   ]
  },
  {
   "cell_type": "markdown",
   "id": "bcbc8f23",
   "metadata": {},
   "source": [
    "# Plot Dataset"
   ]
  },
  {
   "cell_type": "code",
   "execution_count": null,
   "id": "fb1c291a",
   "metadata": {},
   "outputs": [],
   "source": [
    "factor = 100"
   ]
  },
  {
   "cell_type": "code",
   "execution_count": null,
   "id": "1877da4f",
   "metadata": {},
   "outputs": [],
   "source": [
    "test_df = pd.read_csv(f'{dataset_dir}/stream.csv')\n",
    "train_df = pd.read_csv(f'{dataset_dir}/train.csv')\n",
    "start_ts = test_df.timestamp.min()\n",
    "past_updates = pickle.load(open(f\"{result_dir}/past_updates.pkl\", \"rb\"))\n",
    "test_df.timestamp = test_df.timestamp.apply(lambda ts: int((ts - start_ts)/factor))"
   ]
  },
  {
   "cell_type": "code",
   "execution_count": null,
   "id": "32460abb",
   "metadata": {},
   "outputs": [],
   "source": [
    "new_user_df = test_df[test_df.user_id.isin(past_updates.keys())]\n",
    "old_user_df = test_df[~test_df.user_id.isin(past_updates.keys())]"
   ]
  },
  {
   "cell_type": "code",
   "execution_count": null,
   "id": "826f07ae",
   "metadata": {},
   "outputs": [],
   "source": [
    "old_user_df.groupby(by=\"timestamp\").user_id.nunique().plot(label=\"old_user\").legend()\n",
    "new_user_df.groupby(by=\"timestamp\").user_id.nunique().plot(label=\"new_user\").legend()"
   ]
  },
  {
   "cell_type": "code",
   "execution_count": null,
   "id": "843e8416",
   "metadata": {},
   "outputs": [],
   "source": [
    "old_user_df.groupby(by=\"timestamp\").rating.count().rolling(1000).mean().plot(label=\"old_user\")\n",
    "new_user_df.groupby(by=\"timestamp\").rating.count().rolling(1000).mean().plot(label=\"new_user\").legend()"
   ]
  },
  {
   "cell_type": "code",
   "execution_count": null,
   "id": "6bc0f36d",
   "metadata": {},
   "outputs": [],
   "source": [
    "test_df.groupby(by=\"timestamp\").count().rolling(window=100).mean().plot()"
   ]
  },
  {
   "cell_type": "code",
   "execution_count": null,
   "id": "a7851e01",
   "metadata": {},
   "outputs": [],
   "source": [
    "train_df.movie_id.value_counts()"
   ]
  },
  {
   "cell_type": "code",
   "execution_count": null,
   "id": "5ce3fc45",
   "metadata": {},
   "outputs": [],
   "source": [
    "test_df.movie_id.value_counts()"
   ]
  },
  {
   "cell_type": "markdown",
   "id": "c094df8f",
   "metadata": {},
   "source": [
    "# Results Over Time "
   ]
  },
  {
   "cell_type": "code",
   "execution_count": null,
   "id": "04a519ca",
   "metadata": {},
   "outputs": [],
   "source": [
    "results[0]"
   ]
  },
  {
   "cell_type": "code",
   "execution_count": null,
   "id": "820d62e8",
   "metadata": {},
   "outputs": [],
   "source": [
    "x0 = 0 #190000#test_df.timestamp.min()\n",
    "x1 = 200000 #test_df.timestamp.max()\n",
    "\n",
    "p = \"min_past\"\n",
    "u = 1\n",
    "t = 100\n",
    "df = df_all[(df_all[\"policy\"] == p) & (df_all[\"ts_factor\"] == t) & (df_all[\"updates\"] == u)]\n",
    "df[\"square_error\"] = df.y_pred - df.y_true\n",
    "df[\"square_error\"] = df[\"square_error\"].apply(lambda x: x*x)\n",
    "print(df.square_error.mean())\n",
    "df[(df[\"timestamp\"] < x1) & (df[\"timestamp\"] > x0)].groupby(by=\"timestamp\").square_error.sum().plot(label=p) #rolling(1000).mean().plot(xlim=(x0, x1), label=p)\n",
    "min_past_df = df\n",
    "\n",
    "p = \"total_error_cold\"\n",
    "df = df_all[(df_all[\"policy\"] == p) & (df_all[\"ts_factor\"] == t) & (df_all[\"updates\"] == u)]\n",
    "df[\"square_error\"] = df.y_pred - df.y_true\n",
    "df[\"square_error\"] = df[\"square_error\"].apply(lambda x: x*x)\n",
    "print(df.square_error.mean())\n",
    "df[(df[\"timestamp\"] < x1) & (df[\"timestamp\"] > x0)].groupby(by=\"timestamp\").square_error.sum().plot(label=p).legend() #rolling(1000).mean().plot(xlim=(x0, x1), label=p)\n",
    "total_error_df = df\n",
    "#p = \"total_error\"\n",
    "#df = df_all[(df_all[\"policy\"] == p) & (df_all[\"ts_factor\"] == t) & (df_all[\"updates\"] == u)]\n",
    "#df[\"square_error\"] = df.y_pred - df.y_true\n",
    "#df[\"square_error\"] = df[\"square_error\"].apply(lambda x: x*x)\n",
    "#df[(df[\"timestamp\"] < x1) & (df[\"timestamp\"] > x0) ].groupby(by=\"timestamp\").square_error.sum().rolling(100).mean().plot(label=p).legend() #rolling(1000).mean().plot(xlim=(x0, x1), label=p)\n",
    "\n",
    "\n",
    "df"
   ]
  },
  {
   "cell_type": "code",
   "execution_count": null,
   "id": "fbe556d1",
   "metadata": {},
   "outputs": [],
   "source": [
    "min_past_df"
   ]
  },
  {
   "cell_type": "code",
   "execution_count": null,
   "id": "de5f54a2",
   "metadata": {},
   "outputs": [],
   "source": [
    "diff_df = pd.concat([total_error_df, min_past_df]).drop_duplicates(keep=False, subset=[\"timestamp\", \"user_id\", \"movie_id\", \"square_error\"])"
   ]
  },
  {
   "cell_type": "code",
   "execution_count": null,
   "id": "58841009",
   "metadata": {},
   "outputs": [],
   "source": [
    "diff_df.groupby(by=[\"user_id\"]).square_error.sum()"
   ]
  },
  {
   "cell_type": "code",
   "execution_count": null,
   "id": "71de530e",
   "metadata": {},
   "outputs": [],
   "source": [
    "update_table = updates_df[(updates_df[\"ts_factor\"] == t) & (updates_df[\"updates\"] == u)]\\\n",
    "                            .groupby(by=[\"key\", \"policy\"])\\\n",
    "                            .time.apply(np.array)\n",
    "                            \n",
    "update_table"
   ]
  },
  {
   "cell_type": "code",
   "execution_count": null,
   "id": "f6da15cf",
   "metadata": {},
   "outputs": [],
   "source": [
    "update_table.loc[1].loc[\"last_query\"]"
   ]
  },
  {
   "cell_type": "code",
   "execution_count": null,
   "id": "57e2209b",
   "metadata": {},
   "outputs": [],
   "source": [
    "df = df_all[(df_all[\"ts_factor\"] == t) & (df_all[\"updates\"] == u)]\n",
    "df[\"square_error\"] = df.y_pred - df.y_true\n",
    "df[\"square_error\"] = df[\"square_error\"].apply(lambda x: x*x)\n",
    "df.square_error.max()"
   ]
  },
  {
   "cell_type": "code",
   "execution_count": null,
   "id": "5672f4f4",
   "metadata": {},
   "outputs": [],
   "source": [
    "df.groupby(by=\"policy\").square_error.mean()"
   ]
  },
  {
   "cell_type": "code",
   "execution_count": null,
   "id": "e1011952",
   "metadata": {},
   "outputs": [],
   "source": [
    "df[~df.user_id.isin(past_updates.keys())].groupby(by=\"policy\").square_error.mean()"
   ]
  },
  {
   "cell_type": "code",
   "execution_count": null,
   "id": "b52e404a",
   "metadata": {},
   "outputs": [],
   "source": [
    "df[df.user_id.isin(past_updates.keys())].groupby(by=\"policy\").square_error.mean()"
   ]
  },
  {
   "cell_type": "code",
   "execution_count": null,
   "id": "afb72165",
   "metadata": {},
   "outputs": [],
   "source": [
    "df.groupby(by=\"user_id\").y_true.count()"
   ]
  },
  {
   "cell_type": "code",
   "execution_count": null,
   "id": "73ee6c28",
   "metadata": {},
   "outputs": [],
   "source": [
    "for user_id, group in df.groupby(by=[\"user_id\"]):\n",
    "    #print(group)\n",
    "    te = group[group[\"policy\"] == \"total_error_cold\"].square_error.sum()\n",
    "    mp = group[group[\"policy\"] == \"min_past\"].square_error.sum()\n",
    "    if te > mp*1.1: \n",
    "        print(user_id, past_updates[user_id], te, mp)\n",
    "        print(\"    total_error\", update_table.loc[user_id].loc[\"total_error_cold\"].mean(), update_table.loc[user_id].loc[\"total_error_cold\"].shape)\n",
    "        print(\"    min_past\", update_table.loc[user_id].loc[\"min_past\"].mean(), update_table.loc[user_id].loc[\"min_past\"].shape)"
   ]
  },
  {
   "cell_type": "code",
   "execution_count": null,
   "id": "8cade46f",
   "metadata": {},
   "outputs": [],
   "source": [
    "for user_id, group in diff_df.groupby(by=[\"user_id\"]):\n",
    "    #print(group)\n",
    "    te = group[group[\"policy\"] == \"total_error_cold\"].square_error.sum()\n",
    "    mp = group[group[\"policy\"] == \"min_past\"].square_error.sum()\n",
    "    if te*1.1 < mp: \n",
    "        print(user_id, past_updates[user_id] if user_id in past_updates else False, te, mp)\n",
    "        print(\"    total_error\", update_table.loc[user_id].loc[\"total_error_cold\"].mean(), update_table.loc[user_id].loc[\"total_error_cold\"].shape)\n",
    "        print(\"    min_past\", update_table.loc[user_id].loc[\"min_past\"].mean(), update_table.loc[user_id].loc[\"min_past\"].shape)"
   ]
  },
  {
   "cell_type": "code",
   "execution_count": null,
   "id": "7f9d8e04",
   "metadata": {},
   "outputs": [],
   "source": [
    "x0 = test_df.timestamp.min()\n",
    "x1 = test_df.timestamp.max()\n",
    "\n",
    "p = \"max_pending\"\n",
    "u = 1\n",
    "t = 100\n",
    "df = pd.read_csv(f\"{result_dir}/{p}_{u}_{t}_results.csv\")\n",
    "df[\"square_error\"] = df.y_pred - df.y_true\n",
    "df[\"square_error\"] = df[\"square_error\"].apply(lambda x: x*x)\n",
    "#df.groupby(by=\"timestamp\").square_error.mean().rolling(1000).mean().plot(xlim=(x0, x1))\n",
    "\n",
    "p = \"total_error_cold\"\n",
    "df = pd.read_csv(f\"{result_dir}/{p}_{u}_{t}_results.csv\")\n",
    "df[\"square_error\"] = df.y_pred - df.y_true\n",
    "df[\"square_error\"] = df[\"square_error\"].apply(lambda x: x*x)\n",
    "df.groupby(by=\"timestamp\").square_error.mean().expanding().sum().plot(xlim=(x0, x1), label=p)\n",
    "\n",
    "\n",
    "p = \"min_past\"\n",
    "df = pd.read_csv(f\"{result_dir}/{p}_{u}_{t}_results.csv\")\n",
    "df[\"square_error\"] = df.y_pred - df.y_true\n",
    "df[\"square_error\"] = df[\"square_error\"].apply(lambda x: x*x)\n",
    "df.groupby(by=\"timestamp\").square_error.mean().expanding().sum().plot(xlim=(x0, x1), label=p).legend()\n",
    "\n",
    "p = \"max_pending\"\n",
    "df = pd.read_csv(f\"{result_dir}/{p}_{u}_{t}_results.csv\")\n",
    "df[\"square_error\"] = df.y_pred - df.y_true\n",
    "df[\"square_error\"] = df[\"square_error\"].apply(lambda x: x*x)\n",
    "df.groupby(by=\"timestamp\").square_error.mean().expanding().sum().plot(xlim=(x0, x1), label=p).legend()\n",
    "\n",
    "p = \"round_robin\"\n",
    "df = pd.read_csv(f\"{result_dir}/{p}_{u}_{t}_results.csv\")\n",
    "df[\"square_error\"] = df.y_pred - df.y_true\n",
    "df[\"square_error\"] = df[\"square_error\"].apply(lambda x: x*x)\n",
    "df.groupby(by=\"timestamp\").square_error.mean().expanding().sum().plot(xlim=(x0, x1), label=p).legend()\n",
    "\n",
    "\n",
    "\n",
    "df"
   ]
  },
  {
   "cell_type": "code",
   "execution_count": null,
   "id": "dfc1bb2e",
   "metadata": {},
   "outputs": [],
   "source": [
    "p = \"min_past\"\n",
    "df = pd.read_csv(f\"{result_dir}/{p}_{u}_{t}_results.csv\")\n",
    "df[df[\"y_pred\"] > 10]"
   ]
  },
  {
   "cell_type": "code",
   "execution_count": null,
   "id": "1f847e1d",
   "metadata": {},
   "outputs": [],
   "source": [
    "x0 = test_df.timestamp.min()\n",
    "x1 = 1000 #100000\n",
    "\n",
    "\n",
    "p = \"min_past\"\n",
    "df = pd.read_csv(f\"{result_dir}/{p}_{u}_{t}_results.csv\")\n",
    "df[\"square_error\"] = df.y_pred - df.y_true\n",
    "df[\"square_error\"] = df[\"square_error\"].apply(lambda x: x*x)\n",
    "df.groupby(by=\"timestamp\").square_error.mean().rolling(1).mean().plot(xlim=(x0, x1), label=p).legend()\n"
   ]
  },
  {
   "cell_type": "code",
   "execution_count": null,
   "id": "9b21b5f4",
   "metadata": {},
   "outputs": [],
   "source": [
    "p = \"total_error_cold\"\n",
    "df = pd.read_csv(f\"{result_dir}/{p}_{u}_{t}_results.csv\")\n",
    "df[\"square_error\"] = df.y_pred - df.y_true\n",
    "df[\"square_error\"] = df[\"square_error\"].apply(lambda x: x*x)\n",
    "df.groupby(by=\"timestamp\").square_error.mean().rolling(1).mean().plot(xlim=(x0, x1), label=p).legend()\n",
    "#df[df[\"square_error\"] > 100]"
   ]
  },
  {
   "cell_type": "code",
   "execution_count": null,
   "id": "7233d2bf",
   "metadata": {},
   "outputs": [],
   "source": [
    "import pickle\n",
    "\n",
    "movie_features = pickle.load(open(f\"{result_dir}/train_movie_features.pkl\", \"rb\"))\n",
    "user_features = pickle.load(open(f\"{result_dir}/train_user_features.pkl\", \"rb\"))\n",
    "past_updates = pickle.load(open(f\"{result_dir}/past_updates.pkl\", \"rb\"))"
   ]
  },
  {
   "cell_type": "code",
   "execution_count": null,
   "id": "ee25e99e",
   "metadata": {},
   "outputs": [],
   "source": [
    "from workloads.recsys.stream_als import  predict_user_movie_rating"
   ]
  },
  {
   "cell_type": "code",
   "execution_count": null,
   "id": "fa85b078",
   "metadata": {},
   "outputs": [],
   "source": [
    "movie_features[481][-1]"
   ]
  },
  {
   "cell_type": "code",
   "execution_count": null,
   "id": "182b78c8",
   "metadata": {},
   "outputs": [],
   "source": [
    "predict_user_movie_rating(user_features[4312], movie_features[481])"
   ]
  },
  {
   "cell_type": "code",
   "execution_count": null,
   "id": "955daf44",
   "metadata": {},
   "outputs": [],
   "source": [
    "train_df[train_df[\"movie_id\"] == 481]"
   ]
  },
  {
   "cell_type": "code",
   "execution_count": null,
   "id": "7a253a32",
   "metadata": {},
   "outputs": [],
   "source": [
    "test_df.groupby(by=\"timestamp\").user_id.nunique().rolling(window=1000).mean().plot()"
   ]
  },
  {
   "cell_type": "code",
   "execution_count": null,
   "id": "84313b07",
   "metadata": {},
   "outputs": [],
   "source": [
    "test_df.groupby(by=\"timestamp\").user_id.nunique().plot(xlim=(x0, x1))"
   ]
  },
  {
   "cell_type": "code",
   "execution_count": null,
   "id": "1aee0d00",
   "metadata": {},
   "outputs": [],
   "source": [
    "test_df.groupby(by=\"timestamp\").user_id.nunique().rolling(window=1000).mean().plot(xlim=(x0, x1))"
   ]
  },
  {
   "cell_type": "code",
   "execution_count": null,
   "id": "6c3f7b87",
   "metadata": {},
   "outputs": [],
   "source": [
    "test_df.groupby(by=\"timestamp\").count().plot(xlim=(x0, x1))#.rolling(window=100).mean().plot()"
   ]
  },
  {
   "cell_type": "code",
   "execution_count": null,
   "id": "54a5db36",
   "metadata": {},
   "outputs": [],
   "source": [
    "test_df.groupby(by=\"timestamp\").count().rolling(window=1).mean().plot(xlim=(x0, x1))"
   ]
  },
  {
   "cell_type": "code",
   "execution_count": null,
   "id": "616483e8",
   "metadata": {},
   "outputs": [],
   "source": []
  }
 ],
 "metadata": {
  "kernelspec": {
   "display_name": "Python 3",
   "language": "python",
   "name": "python3"
  },
  "language_info": {
   "codemirror_mode": {
    "name": "ipython",
    "version": 3
   },
   "file_extension": ".py",
   "mimetype": "text/x-python",
   "name": "python",
   "nbconvert_exporter": "python",
   "pygments_lexer": "ipython3",
   "version": "3.8.8"
  }
 },
 "nbformat": 4,
 "nbformat_minor": 5
}
