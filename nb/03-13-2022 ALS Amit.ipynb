{
 "cells": [
  {
   "cell_type": "code",
   "execution_count": 3,
   "id": "7db6a754",
   "metadata": {},
   "outputs": [],
   "source": [
    "import modin.pandas as pd\n",
    "from pyspark.sql import SparkSession\n",
    "from pyspark.ml.evaluation import RegressionEvaluator\n",
    "from pyspark.ml.recommendation import ALS\n",
    "from pyspark.mllib.recommendation import ALS as newALS\n",
    "from sklearn.metrics import mean_squared_error\n",
    "from pyspark.sql.functions import *\n",
    "from pyspark.sql.types import *\n",
    "import numpy as np"
   ]
  },
  {
   "cell_type": "code",
   "execution_count": 1,
   "id": "50560a1c",
   "metadata": {},
   "outputs": [],
   "source": [
    "path = \"../../Downloads/ml-1m\"\n",
    "\n",
    "def split_data(path, sep):  \n",
    "    df = pd.read_csv(f'{path}/ratings.dat', sep = sep, names=['user_id', 'movie_id', 'rating', 'timestamp']).sort_values('timestamp')\n",
    "    start_ts = df['timestamp'].min()\n",
    "    med_ts = df['timestamp'].quantile(.5)\n",
    "    end_ts = df['timestamp'].max()\n",
    "    train_df = df[df['timestamp'] <= med_ts]\n",
    "    stream_df = df[df['timestamp'] > med_ts]\n",
    "    '''\n",
    "    seen_movies = set(train_df['movie_id'])\n",
    "    print(len(seen_movies), len(set(stream_df['movie_id'])), len(stream_df))\n",
    "    stream_df = stream_df.drop(stream_df[stream_df['movie_id'].map(lambda x: x not in seen_movies)].index)\n",
    "    print(len(set(stream_df['movie_id'])), len(stream_df))\n",
    "    seen_users = set(train_df['user_id'])\n",
    "    num_stream_users = set(stream_df['user_id'])\n",
    "    stream_df = stream_df.drop(stream_df[stream_df['user_id'].map(lambda x: x not in seen_users)].index)\n",
    "    print(len(seen_users), len(num_stream_users), len(set(stream_df['user_id'])), len(stream_df))\n",
    "    '''\n",
    "    #train_df.to_csv(f'{path}/train.csv', header=True, index = False)\n",
    "    #stream_df.to_csv(f'{path}/stream.csv', header=True, index = False)\n",
    "    return start_ts, med_ts, end_ts"
   ]
  },
  {
   "cell_type": "code",
   "execution_count": 4,
   "id": "ec12396c",
   "metadata": {},
   "outputs": [
    {
     "name": "stderr",
     "output_type": "stream",
     "text": [
      "UserWarning: Ray execution environment not yet initialized. Initializing...\n",
      "To remove this warning, run the following python code before doing dataframe operations:\n",
      "\n",
      "    import ray\n",
      "    ray.init()\n",
      "\n",
      "ParserWarning: Falling back to the 'python' engine because the 'c' engine does not support regex separators (separators > 1 char and different from '\\s+' are interpreted as regex); you can avoid this warning by specifying engine='python'.\n",
      "UserWarning: sort_values defaulting to pandas implementation.\n",
      "To request implementation, send an email to feature_requests@modin.org.\n"
     ]
    },
    {
     "data": {
      "text/plain": [
       "(956703932, 973018006.0, 1046454590)"
      ]
     },
     "execution_count": 4,
     "metadata": {},
     "output_type": "execute_result"
    }
   ],
   "source": [
    "split_data(path, \"::\")"
   ]
  },
  {
   "cell_type": "code",
   "execution_count": 5,
   "id": "af530738",
   "metadata": {
    "scrolled": true
   },
   "outputs": [
    {
     "name": "stderr",
     "output_type": "stream",
     "text": [
      "WARNING: An illegal reflective access operation has occurred\n",
      "WARNING: Illegal reflective access by org.apache.spark.unsafe.Platform (file:/opt/homebrew/Caskroom/miniconda/base/envs/myenv/lib/python3.8/site-packages/pyspark/jars/spark-unsafe_2.12-3.2.1.jar) to constructor java.nio.DirectByteBuffer(long,int)\n",
      "WARNING: Please consider reporting this to the maintainers of org.apache.spark.unsafe.Platform\n",
      "WARNING: Use --illegal-access=warn to enable warnings of further illegal reflective access operations\n",
      "WARNING: All illegal access operations will be denied in a future release\n",
      "Using Spark's default log4j profile: org/apache/spark/log4j-defaults.properties\n",
      "Setting default log level to \"WARN\".\n",
      "To adjust logging level use sc.setLogLevel(newLevel). For SparkR, use setLogLevel(newLevel).\n",
      "22/03/16 14:26:59 WARN NativeCodeLoader: Unable to load native-hadoop library for your platform... using builtin-java classes where applicable\n"
     ]
    }
   ],
   "source": [
    "spark = SparkSession.builder.master('local').appName('als').getOrCreate()"
   ]
  },
  {
   "cell_type": "code",
   "execution_count": 6,
   "id": "933209a6",
   "metadata": {
    "scrolled": true
   },
   "outputs": [
    {
     "name": "stderr",
     "output_type": "stream",
     "text": [
      "\r",
      "[Stage 1:>                                                          (0 + 1) / 1]\r",
      "\r",
      "                                                                                \r"
     ]
    }
   ],
   "source": [
    "spark_df = spark.read.options(delimiter=\",\", inferSchema=True, header=True).csv(f'{path}/train.csv')"
   ]
  },
  {
   "cell_type": "code",
   "execution_count": 7,
   "id": "fbcae155",
   "metadata": {},
   "outputs": [
    {
     "name": "stdout",
     "output_type": "stream",
     "text": [
      "+-------+--------+------+---------+\n",
      "|user_id|movie_id|rating|timestamp|\n",
      "+-------+--------+------+---------+\n",
      "|   6040|     858|     4|956703932|\n",
      "|   6040|    2384|     4|956703954|\n",
      "|   6040|     593|     5|956703954|\n",
      "|   6040|    1961|     4|956703977|\n",
      "|   6040|    2019|     5|956703977|\n",
      "|   6040|    1419|     3|956704056|\n",
      "|   6040|     213|     5|956704056|\n",
      "|   6040|    3111|     5|956704056|\n",
      "|   6040|     573|     4|956704056|\n",
      "|   6040|    3505|     4|956704056|\n",
      "|   6040|    1734|     2|956704081|\n",
      "|   6040|    2503|     5|956704191|\n",
      "|   6040|     919|     5|956704191|\n",
      "|   6040|     912|     5|956704191|\n",
      "|   6040|     527|     5|956704219|\n",
      "|   6040|    1252|     5|956704257|\n",
      "|   6040|     649|     5|956704257|\n",
      "|   6040|     318|     4|956704257|\n",
      "|   6040|    3289|     5|956704305|\n",
      "|   6040|     759|     5|956704448|\n",
      "+-------+--------+------+---------+\n",
      "only showing top 20 rows\n",
      "\n"
     ]
    }
   ],
   "source": [
    "spark_df.show()"
   ]
  },
  {
   "cell_type": "code",
   "execution_count": 8,
   "id": "9704ac4d",
   "metadata": {},
   "outputs": [
    {
     "name": "stdout",
     "output_type": "stream",
     "text": [
      "+-------+--------+------+\n",
      "|user_id|movie_id|rating|\n",
      "+-------+--------+------+\n",
      "|   6040|     858|     4|\n",
      "|   6040|    2384|     4|\n",
      "|   6040|     593|     5|\n",
      "|   6040|    1961|     4|\n",
      "|   6040|    2019|     5|\n",
      "|   6040|    1419|     3|\n",
      "|   6040|     213|     5|\n",
      "|   6040|    3111|     5|\n",
      "|   6040|     573|     4|\n",
      "|   6040|    3505|     4|\n",
      "|   6040|    1734|     2|\n",
      "|   6040|    2503|     5|\n",
      "|   6040|     919|     5|\n",
      "|   6040|     912|     5|\n",
      "|   6040|     527|     5|\n",
      "|   6040|    1252|     5|\n",
      "|   6040|     649|     5|\n",
      "|   6040|     318|     4|\n",
      "|   6040|    3289|     5|\n",
      "|   6040|     759|     5|\n",
      "+-------+--------+------+\n",
      "only showing top 20 rows\n",
      "\n"
     ]
    },
    {
     "name": "stderr",
     "output_type": "stream",
     "text": [
      "22/03/15 11:47:20 WARN InstanceBuilder$NativeBLAS: Failed to load implementation from:dev.ludovic.netlib.blas.JNIBLAS\n",
      "22/03/15 11:47:20 WARN InstanceBuilder$NativeBLAS: Failed to load implementation from:dev.ludovic.netlib.blas.ForeignLinkerBLAS\n",
      "22/03/15 11:47:20 WARN InstanceBuilder$NativeLAPACK: Failed to load implementation from:dev.ludovic.netlib.lapack.JNILAPACK\n",
      "                                                                                \r"
     ]
    }
   ],
   "source": [
    "spark_df = spark_df.drop('timestamp')\n",
    "spark_df.show()\n",
    "new_model = newALS.train(ratings = spark_df.rdd, rank = 150, iterations=15, lambda_=.2)"
   ]
  },
  {
   "cell_type": "code",
   "execution_count": 9,
   "id": "99ff5202",
   "metadata": {},
   "outputs": [
    {
     "name": "stdout",
     "output_type": "stream",
     "text": [
      "+-------+--------+------+\n",
      "|user_id|movie_id|rating|\n",
      "+-------+--------+------+\n",
      "|   2783|     541|     4|\n",
      "|   2783|    3927|     3|\n",
      "|   2783|     750|     5|\n",
      "|   2783|    1097|     3|\n",
      "|   2783|     260|     4|\n",
      "|   2783|     208|     1|\n",
      "|   2783|    1199|     3|\n",
      "|   2783|    2111|     3|\n",
      "|   2783|    1214|     4|\n",
      "|   2783|    1270|     4|\n",
      "|   2783|     589|     5|\n",
      "|   2783|    1210|     3|\n",
      "|   2783|    1243|     3|\n",
      "|   2783|    1200|     4|\n",
      "|   2783|    1077|     5|\n",
      "|   2783|     741|     5|\n",
      "|   2783|    3702|     3|\n",
      "|   2783|    1301|     5|\n",
      "|   2783|    3471|     3|\n",
      "|   2783|    2968|     5|\n",
      "+-------+--------+------+\n",
      "only showing top 20 rows\n",
      "\n"
     ]
    }
   ],
   "source": [
    "spark_df.sort(\"user_id\").show()"
   ]
  },
  {
   "cell_type": "code",
   "execution_count": 10,
   "id": "74cccd9e",
   "metadata": {},
   "outputs": [
    {
     "name": "stderr",
     "output_type": "stream",
     "text": [
      "22/03/15 11:48:54 WARN BlockManager: Task 49 already completed, not releasing lock for rdd_321_0\n",
      "                                                                                \r"
     ]
    },
    {
     "data": {
      "text/html": [
       "<div>\n",
       "<style scoped>\n",
       "    .dataframe tbody tr th:only-of-type {\n",
       "        vertical-align: middle;\n",
       "    }\n",
       "\n",
       "    .dataframe tbody tr th {\n",
       "        vertical-align: top;\n",
       "    }\n",
       "\n",
       "    .dataframe thead th {\n",
       "        text-align: right;\n",
       "    }\n",
       "</style>\n",
       "<table border=\"1\" class=\"dataframe\">\n",
       "  <thead>\n",
       "    <tr style=\"text-align: right;\">\n",
       "      <th></th>\n",
       "      <th>id</th>\n",
       "      <th>features</th>\n",
       "    </tr>\n",
       "  </thead>\n",
       "  <tbody>\n",
       "    <tr>\n",
       "      <th>0</th>\n",
       "      <td>2783</td>\n",
       "      <td>[-0.07469388097524643, -0.11229582130908966, -...</td>\n",
       "    </tr>\n",
       "    <tr>\n",
       "      <th>1</th>\n",
       "      <td>2784</td>\n",
       "      <td>[-0.08663611114025116, -0.010234715417027473, ...</td>\n",
       "    </tr>\n",
       "    <tr>\n",
       "      <th>2</th>\n",
       "      <td>2785</td>\n",
       "      <td>[-0.032865673303604126, -0.008891520090401173,...</td>\n",
       "    </tr>\n",
       "    <tr>\n",
       "      <th>3</th>\n",
       "      <td>2786</td>\n",
       "      <td>[-0.0562487356364727, -0.06679890304803848, -0...</td>\n",
       "    </tr>\n",
       "    <tr>\n",
       "      <th>4</th>\n",
       "      <td>2787</td>\n",
       "      <td>[-0.06586312502622604, -0.06487643718719482, -...</td>\n",
       "    </tr>\n",
       "    <tr>\n",
       "      <th>...</th>\n",
       "      <td>...</td>\n",
       "      <td>...</td>\n",
       "    </tr>\n",
       "    <tr>\n",
       "      <th>3250</th>\n",
       "      <td>6036</td>\n",
       "      <td>[-0.04556586593389511, -0.11425884813070297, 0...</td>\n",
       "    </tr>\n",
       "    <tr>\n",
       "      <th>3251</th>\n",
       "      <td>6037</td>\n",
       "      <td>[-0.05084821954369545, -0.07124742120504379, -...</td>\n",
       "    </tr>\n",
       "    <tr>\n",
       "      <th>3252</th>\n",
       "      <td>6038</td>\n",
       "      <td>[-0.004150833003222942, -0.046171560883522034,...</td>\n",
       "    </tr>\n",
       "    <tr>\n",
       "      <th>3253</th>\n",
       "      <td>6039</td>\n",
       "      <td>[-0.026292433962225914, -0.058327674865722656,...</td>\n",
       "    </tr>\n",
       "    <tr>\n",
       "      <th>3254</th>\n",
       "      <td>6040</td>\n",
       "      <td>[-0.04643099382519722, -0.15823514759540558, 0...</td>\n",
       "    </tr>\n",
       "  </tbody>\n",
       "</table>\n",
       "<p>3255 rows × 2 columns</p>\n",
       "</div>"
      ],
      "text/plain": [
       "        id                                           features\n",
       "0     2783  [-0.07469388097524643, -0.11229582130908966, -...\n",
       "1     2784  [-0.08663611114025116, -0.010234715417027473, ...\n",
       "2     2785  [-0.032865673303604126, -0.008891520090401173,...\n",
       "3     2786  [-0.0562487356364727, -0.06679890304803848, -0...\n",
       "4     2787  [-0.06586312502622604, -0.06487643718719482, -...\n",
       "...    ...                                                ...\n",
       "3250  6036  [-0.04556586593389511, -0.11425884813070297, 0...\n",
       "3251  6037  [-0.05084821954369545, -0.07124742120504379, -...\n",
       "3252  6038  [-0.004150833003222942, -0.046171560883522034,...\n",
       "3253  6039  [-0.026292433962225914, -0.058327674865722656,...\n",
       "3254  6040  [-0.04643099382519722, -0.15823514759540558, 0...\n",
       "\n",
       "[3255 rows x 2 columns]"
      ]
     },
     "execution_count": 10,
     "metadata": {},
     "output_type": "execute_result"
    }
   ],
   "source": [
    "user_features = new_model.userFeatures().toDF().toPandas()\n",
    "user_features = user_features.rename(columns={'_1': 'id', '_2': 'features'}).sort_values(\"id\")\n",
    "user_features"
   ]
  },
  {
   "cell_type": "code",
   "execution_count": 11,
   "id": "29124982",
   "metadata": {},
   "outputs": [
    {
     "name": "stderr",
     "output_type": "stream",
     "text": [
      "22/03/15 11:48:55 WARN BlockManager: Task 51 already completed, not releasing lock for rdd_322_0\n"
     ]
    }
   ],
   "source": [
    "product_features = new_model.productFeatures().toDF().toPandas()\n",
    "product_features = product_features.rename(columns={'_1': 'id', '_2': 'features'})"
   ]
  },
  {
   "cell_type": "code",
   "execution_count": 12,
   "id": "4d55aa2a",
   "metadata": {},
   "outputs": [],
   "source": [
    "product_features.sort_values('id').to_csv(f'{path}/movie_features.csv', index = False)\n",
    "user_features.sort_values('id').to_csv(f'{path}/user_features.csv', index = False)"
   ]
  },
  {
   "cell_type": "code",
   "execution_count": 13,
   "id": "2ad256e4",
   "metadata": {},
   "outputs": [],
   "source": [
    "def get_feature_dict(features):\n",
    "    feature_dict = dict()\n",
    "    for row in features.itertuples():\n",
    "        feature_dict[int(row.id)] = np.array(row.features)\n",
    "    return feature_dict"
   ]
  },
  {
   "cell_type": "code",
   "execution_count": 14,
   "id": "e25ea040",
   "metadata": {},
   "outputs": [],
   "source": [
    "user_dict = get_feature_dict(user_features)\n",
    "movie_dict = get_feature_dict(product_features)  "
   ]
  },
  {
   "cell_type": "code",
   "execution_count": 15,
   "id": "36a86932",
   "metadata": {},
   "outputs": [],
   "source": [
    "new_user_dict = get_feature_dict(user_features)\n",
    "new_movie_dict = get_feature_dict(product_features)  "
   ]
  },
  {
   "cell_type": "code",
   "execution_count": 24,
   "id": "77dffffd",
   "metadata": {},
   "outputs": [
    {
     "name": "stderr",
     "output_type": "stream",
     "text": [
      "FutureWarning: The series.append method is deprecated and will be removed from pandas in a future version. Use pandas.concat instead.\n"
     ]
    }
   ],
   "source": [
    "stream_df = pd.read_csv(f'{path}/stream.csv')\n",
    "stream_df['user_id'] = stream_df['user_id'].astype(int)\n",
    "\n",
    "def predict_rating(row):\n",
    "    if row.movie_id not in movie_dict:\n",
    "        movie_dict[row.movie_id] = np.zeros(150)\n",
    "    if row.user_id not in user_dict:\n",
    "        return -1\n",
    "        user_dict[row.user_id] = np.zeros(150)\n",
    "        return -1\n",
    "    movie_feature = movie_dict[row.movie_id]\n",
    "    user_feature = user_dict[row.user_id]\n",
    "    return user_feature.dot(movie_feature.T)\n",
    "\n",
    "def predict_table(df):\n",
    "    df['prediction'] = df.apply(predict_rating , axis=1)\n",
    "    return df"
   ]
  },
  {
   "cell_type": "code",
   "execution_count": 13,
   "id": "ef147bb6",
   "metadata": {},
   "outputs": [
    {
     "data": {
      "text/plain": [
       "array([6040, 6039, 6038, ..., 2785, 2784, 2783])"
      ]
     },
     "execution_count": 13,
     "metadata": {},
     "output_type": "execute_result"
    }
   ],
   "source": [
    "og_df = pd.read_csv(f'{path}/train.csv')\n",
    "og_users = og_df['user_id'].unique()\n",
    "og_users"
   ]
  },
  {
   "cell_type": "code",
   "execution_count": 25,
   "id": "ca42d7aa",
   "metadata": {},
   "outputs": [],
   "source": [
    "stream_df['in_og'] = stream_df['user_id'].apply(lambda x: x in og_users)"
   ]
  },
  {
   "cell_type": "code",
   "execution_count": 27,
   "id": "cba24d9d",
   "metadata": {},
   "outputs": [],
   "source": [
    "cleaned_stream_df = stream_df[stream_df['in_og'] == False]"
   ]
  },
  {
   "cell_type": "code",
   "execution_count": 31,
   "id": "b9e541e4",
   "metadata": {},
   "outputs": [
    {
     "data": {
      "text/html": [
       "<div>\n",
       "<style scoped>\n",
       "    .dataframe tbody tr th:only-of-type {\n",
       "        vertical-align: middle;\n",
       "    }\n",
       "\n",
       "    .dataframe tbody tr th {\n",
       "        vertical-align: top;\n",
       "    }\n",
       "\n",
       "    .dataframe thead th {\n",
       "        text-align: right;\n",
       "    }\n",
       "</style>\n",
       "<table border=\"1\" class=\"dataframe\">\n",
       "  <thead>\n",
       "    <tr style=\"text-align: right;\">\n",
       "      <th></th>\n",
       "      <th>user_id</th>\n",
       "      <th>movie_id</th>\n",
       "      <th>rating</th>\n",
       "      <th>timestamp</th>\n",
       "      <th>in_og</th>\n",
       "    </tr>\n",
       "  </thead>\n",
       "  <tbody>\n",
       "    <tr>\n",
       "      <th>4</th>\n",
       "      <td>2782</td>\n",
       "      <td>2580</td>\n",
       "      <td>4</td>\n",
       "      <td>973018637</td>\n",
       "      <td>False</td>\n",
       "    </tr>\n",
       "    <tr>\n",
       "      <th>5</th>\n",
       "      <td>2782</td>\n",
       "      <td>356</td>\n",
       "      <td>5</td>\n",
       "      <td>973018637</td>\n",
       "      <td>False</td>\n",
       "    </tr>\n",
       "    <tr>\n",
       "      <th>6</th>\n",
       "      <td>2782</td>\n",
       "      <td>1265</td>\n",
       "      <td>4</td>\n",
       "      <td>973018656</td>\n",
       "      <td>False</td>\n",
       "    </tr>\n",
       "    <tr>\n",
       "      <th>7</th>\n",
       "      <td>2782</td>\n",
       "      <td>1097</td>\n",
       "      <td>3</td>\n",
       "      <td>973018670</td>\n",
       "      <td>False</td>\n",
       "    </tr>\n",
       "    <tr>\n",
       "      <th>8</th>\n",
       "      <td>2782</td>\n",
       "      <td>380</td>\n",
       "      <td>3</td>\n",
       "      <td>973018687</td>\n",
       "      <td>False</td>\n",
       "    </tr>\n",
       "    <tr>\n",
       "      <th>...</th>\n",
       "      <td>...</td>\n",
       "      <td>...</td>\n",
       "      <td>...</td>\n",
       "      <td>...</td>\n",
       "      <td>...</td>\n",
       "    </tr>\n",
       "    <tr>\n",
       "      <th>500045</th>\n",
       "      <td>1647</td>\n",
       "      <td>1646</td>\n",
       "      <td>3</td>\n",
       "      <td>1046322905</td>\n",
       "      <td>False</td>\n",
       "    </tr>\n",
       "    <tr>\n",
       "      <th>500046</th>\n",
       "      <td>229</td>\n",
       "      <td>3089</td>\n",
       "      <td>4</td>\n",
       "      <td>1046325739</td>\n",
       "      <td>False</td>\n",
       "    </tr>\n",
       "    <tr>\n",
       "      <th>500047</th>\n",
       "      <td>229</td>\n",
       "      <td>2839</td>\n",
       "      <td>5</td>\n",
       "      <td>1046325855</td>\n",
       "      <td>False</td>\n",
       "    </tr>\n",
       "    <tr>\n",
       "      <th>500048</th>\n",
       "      <td>424</td>\n",
       "      <td>2581</td>\n",
       "      <td>3</td>\n",
       "      <td>1046349099</td>\n",
       "      <td>False</td>\n",
       "    </tr>\n",
       "    <tr>\n",
       "      <th>500091</th>\n",
       "      <td>403</td>\n",
       "      <td>1036</td>\n",
       "      <td>4</td>\n",
       "      <td>1046388675</td>\n",
       "      <td>False</td>\n",
       "    </tr>\n",
       "  </tbody>\n",
       "</table>\n",
       "<p>452397 rows x 5 columns</p>\n",
       "</div>"
      ],
      "text/plain": [
       "        user_id  movie_id  rating   timestamp  in_og\n",
       "4          2782      2580       4   973018637  False\n",
       "5          2782       356       5   973018637  False\n",
       "6          2782      1265       4   973018656  False\n",
       "7          2782      1097       3   973018670  False\n",
       "8          2782       380       3   973018687  False\n",
       "...         ...       ...     ...         ...    ...\n",
       "500045     1647      1646       3  1046322905  False\n",
       "500046      229      3089       4  1046325739  False\n",
       "500047      229      2839       5  1046325855  False\n",
       "500048      424      2581       3  1046349099  False\n",
       "500091      403      1036       4  1046388675  False\n",
       "\n",
       "[452397 rows x 5 columns]"
      ]
     },
     "execution_count": 31,
     "metadata": {},
     "output_type": "execute_result"
    }
   ],
   "source": [
    "cleaned_stream_df"
   ]
  },
  {
   "cell_type": "code",
   "execution_count": 34,
   "id": "3d1e6da7",
   "metadata": {
    "scrolled": true
   },
   "outputs": [
    {
     "name": "stdout",
     "output_type": "stream",
     "text": [
      "\u001b[2m\u001b[36m(apply_list_of_funcs pid=55555)\u001b[0m \n",
      "\u001b[2m\u001b[36m(apply_list_of_funcs pid=55548)\u001b[0m \n"
     ]
    },
    {
     "data": {
      "text/plain": [
       "[60,\n",
       " 284,\n",
       " 40,\n",
       " 171,\n",
       " 106,\n",
       " 875,\n",
       " 350,\n",
       " 29,\n",
       " 277,\n",
       " 83,\n",
       " 178,\n",
       " 287,\n",
       " 47,\n",
       " 146,\n",
       " 80,\n",
       " 26,\n",
       " 102,\n",
       " 211,\n",
       " 354,\n",
       " 25,\n",
       " 47,\n",
       " 483,\n",
       " 68,\n",
       " 20,\n",
       " 29,\n",
       " 129,\n",
       " 239,\n",
       " 23,\n",
       " 100,\n",
       " 505,\n",
       " 378,\n",
       " 178,\n",
       " 200,\n",
       " 90,\n",
       " 326,\n",
       " 139,\n",
       " 57,\n",
       " 197,\n",
       " 138,\n",
       " 439,\n",
       " 108,\n",
       " 35,\n",
       " 145,\n",
       " 32,\n",
       " 105,\n",
       " 399,\n",
       " 101,\n",
       " 24,\n",
       " 121,\n",
       " 99,\n",
       " 45,\n",
       " 280,\n",
       " 157,\n",
       " 23,\n",
       " 67,\n",
       " 88,\n",
       " 84,\n",
       " 35,\n",
       " 205,\n",
       " 84,\n",
       " 23,\n",
       " 34,\n",
       " 38,\n",
       " 117,\n",
       " 117,\n",
       " 24,\n",
       " 20,\n",
       " 25,\n",
       " 78,\n",
       " 25,\n",
       " 68,\n",
       " 38,\n",
       " 30,\n",
       " 32,\n",
       " 37,\n",
       " 23,\n",
       " 25,\n",
       " 22,\n",
       " 48,\n",
       " 92,\n",
       " 41,\n",
       " 114,\n",
       " 294,\n",
       " 100,\n",
       " 43,\n",
       " 34,\n",
       " 20,\n",
       " 63,\n",
       " 72,\n",
       " 136,\n",
       " 134,\n",
       " 241,\n",
       " 23,\n",
       " 101,\n",
       " 135,\n",
       " 23,\n",
       " 21,\n",
       " 196,\n",
       " 219,\n",
       " 257,\n",
       " 110,\n",
       " 223,\n",
       " 214,\n",
       " 342,\n",
       " 42,\n",
       " 38,\n",
       " 229,\n",
       " 44,\n",
       " 119,\n",
       " 20,\n",
       " 54,\n",
       " 23,\n",
       " 282,\n",
       " 115,\n",
       " 218,\n",
       " 32,\n",
       " 94,\n",
       " 828,\n",
       " 367,\n",
       " 156,\n",
       " 42,\n",
       " 98,\n",
       " 47,\n",
       " 161,\n",
       " 31,\n",
       " 22,\n",
       " 132,\n",
       " 76,\n",
       " 29,\n",
       " 41,\n",
       " 116,\n",
       " 49,\n",
       " 215,\n",
       " 107,\n",
       " 100,\n",
       " 24,\n",
       " 23,\n",
       " 282,\n",
       " 21,\n",
       " 454,\n",
       " 71,\n",
       " 318,\n",
       " 21,\n",
       " 33,\n",
       " 521,\n",
       " 56,\n",
       " 63,\n",
       " 59,\n",
       " 278,\n",
       " 37,\n",
       " 41,\n",
       " 89,\n",
       " 54,\n",
       " 272,\n",
       " 203,\n",
       " 485,\n",
       " 22,\n",
       " 142,\n",
       " 306,\n",
       " 54,\n",
       " 37,\n",
       " 315,\n",
       " 156,\n",
       " 93,\n",
       " 25,\n",
       " 82,\n",
       " 50,\n",
       " 61,\n",
       " 30,\n",
       " 22,\n",
       " 43,\n",
       " 429,\n",
       " 46,\n",
       " 202,\n",
       " 228,\n",
       " 62,\n",
       " 50,\n",
       " 188,\n",
       " 68,\n",
       " 43,\n",
       " 29,\n",
       " 91,\n",
       " 229,\n",
       " 27,\n",
       " 65,\n",
       " 29,\n",
       " 41,\n",
       " 159,\n",
       " 94,\n",
       " 136,\n",
       " 442,\n",
       " 41,\n",
       " 357,\n",
       " 212,\n",
       " 41,\n",
       " 31,\n",
       " 49,\n",
       " 20,\n",
       " 109,\n",
       " 331,\n",
       " 22,\n",
       " 403,\n",
       " 74,\n",
       " 68,\n",
       " 35,\n",
       " 52,\n",
       " 276,\n",
       " 169,\n",
       " 33,\n",
       " 97,\n",
       " 151,\n",
       " 68,\n",
       " 80,\n",
       " 46,\n",
       " 33,\n",
       " 336,\n",
       " 264,\n",
       " 300,\n",
       " 120,\n",
       " 27,\n",
       " 171,\n",
       " 77,\n",
       " 40,\n",
       " 195,\n",
       " 48,\n",
       " 74,\n",
       " 47,\n",
       " 158,\n",
       " 42,\n",
       " 23,\n",
       " 80,\n",
       " 76,\n",
       " 94,\n",
       " 23,\n",
       " 43,\n",
       " 139,\n",
       " 118,\n",
       " 51,\n",
       " 729,\n",
       " 24,\n",
       " 25,\n",
       " 256,\n",
       " 223,\n",
       " 41,\n",
       " 25,\n",
       " 554,\n",
       " 66,\n",
       " 57,\n",
       " 38,\n",
       " 131,\n",
       " 31,\n",
       " 31,\n",
       " 20,\n",
       " 812,\n",
       " 62,\n",
       " 21,\n",
       " 263,\n",
       " 59,\n",
       " 26,\n",
       " 130,\n",
       " 74,\n",
       " 54,\n",
       " 48,\n",
       " 47,\n",
       " 42,\n",
       " 50,\n",
       " 22,\n",
       " 51,\n",
       " 31,\n",
       " 66,\n",
       " 31,\n",
       " 29,\n",
       " 43,\n",
       " 41,\n",
       " 60,\n",
       " 859,\n",
       " 251,\n",
       " 32,\n",
       " 301,\n",
       " 200,\n",
       " 21,\n",
       " 85,\n",
       " 140,\n",
       " 47,\n",
       " 154,\n",
       " 121,\n",
       " 511,\n",
       " 39,\n",
       " 38,\n",
       " 86,\n",
       " 89,\n",
       " 114,\n",
       " 22,\n",
       " 397,\n",
       " 20,\n",
       " 37,\n",
       " 154,\n",
       " 246,\n",
       " 547,\n",
       " 70,\n",
       " 38,\n",
       " 132,\n",
       " 45,\n",
       " 33,\n",
       " 287,\n",
       " 61,\n",
       " 61,\n",
       " 37,\n",
       " 32,\n",
       " 38,\n",
       " 290,\n",
       " 37,\n",
       " 23,\n",
       " 58,\n",
       " 125,\n",
       " 22,\n",
       " 203,\n",
       " 235,\n",
       " 35,\n",
       " 254,\n",
       " 105,\n",
       " 104,\n",
       " 51,\n",
       " 123,\n",
       " 165,\n",
       " 499,\n",
       " 366,\n",
       " 192,\n",
       " 301,\n",
       " 629,\n",
       " 52,\n",
       " 159,\n",
       " 27,\n",
       " 26,\n",
       " 73,\n",
       " 57,\n",
       " 421,\n",
       " 244,\n",
       " 105,\n",
       " 26,\n",
       " 29,\n",
       " 27,\n",
       " 23,\n",
       " 90,\n",
       " 200,\n",
       " 427,\n",
       " 117,\n",
       " 34,\n",
       " 42,\n",
       " 26,\n",
       " 42,\n",
       " 35,\n",
       " 24,\n",
       " 125,\n",
       " 83,\n",
       " 121,\n",
       " 36,\n",
       " 147,\n",
       " 75,\n",
       " 21,\n",
       " 61,\n",
       " 47,\n",
       " 58,\n",
       " 528,\n",
       " 57,\n",
       " 29,\n",
       " 36,\n",
       " 47,\n",
       " 232,\n",
       " 27,\n",
       " 30,\n",
       " 326,\n",
       " 114,\n",
       " 134,\n",
       " 69,\n",
       " 152,\n",
       " 100,\n",
       " 59,\n",
       " 95,\n",
       " 180,\n",
       " 529,\n",
       " 50,\n",
       " 53,\n",
       " 22,\n",
       " 116,\n",
       " 60,\n",
       " 36,\n",
       " 224,\n",
       " 71,\n",
       " 145,\n",
       " 43,\n",
       " 71,\n",
       " 76,\n",
       " 299,\n",
       " 22,\n",
       " 62,\n",
       " 71,\n",
       " 23,\n",
       " 31,\n",
       " 456,\n",
       " 61,\n",
       " 20,\n",
       " 406,\n",
       " 261,\n",
       " 26,\n",
       " 36,\n",
       " 494,\n",
       " 27,\n",
       " 159,\n",
       " 21,\n",
       " 71,\n",
       " 81,\n",
       " 76,\n",
       " 29,\n",
       " 232,\n",
       " 53,\n",
       " 41,\n",
       " 47,\n",
       " 29,\n",
       " 31,\n",
       " 49,\n",
       " 49,\n",
       " 37,\n",
       " 59,\n",
       " 35,\n",
       " 29,\n",
       " 24,\n",
       " 141,\n",
       " 65,\n",
       " 119,\n",
       " 197,\n",
       " 143,\n",
       " 116,\n",
       " 206,\n",
       " 117,\n",
       " 23,\n",
       " 69,\n",
       " 23,\n",
       " 188,\n",
       " 77,\n",
       " 36,\n",
       " 57,\n",
       " 399,\n",
       " 23,\n",
       " 187,\n",
       " 55,\n",
       " 21,\n",
       " 96,\n",
       " 333,\n",
       " 62,\n",
       " 46,\n",
       " 70,\n",
       " 120,\n",
       " 40,\n",
       " 41,\n",
       " 59,\n",
       " 56,\n",
       " 28,\n",
       " 89,\n",
       " 269,\n",
       " 66,\n",
       " 111,\n",
       " 100,\n",
       " 62,\n",
       " 69,\n",
       " 61,\n",
       " 153,\n",
       " 44,\n",
       " 35,\n",
       " 43,\n",
       " 35,\n",
       " 23,\n",
       " 101,\n",
       " 173,\n",
       " 63,\n",
       " 145,\n",
       " 71,\n",
       " 77,\n",
       " 873,\n",
       " 308,\n",
       " 199,\n",
       " 52,\n",
       " 52,\n",
       " 75,\n",
       " 120,\n",
       " 42,\n",
       " 28,\n",
       " 22,\n",
       " 62,\n",
       " 283,\n",
       " 20,\n",
       " 41,\n",
       " 165,\n",
       " 37,\n",
       " 535,\n",
       " 27,\n",
       " 45,\n",
       " 52,\n",
       " 52,\n",
       " 43,\n",
       " 188,\n",
       " 77,\n",
       " 76,\n",
       " 420,\n",
       " 67,\n",
       " 28,\n",
       " 108,\n",
       " 37,\n",
       " 40,\n",
       " 71,\n",
       " 127,\n",
       " 329,\n",
       " 103,\n",
       " 25,\n",
       " 23,\n",
       " 53,\n",
       " 101,\n",
       " 232,\n",
       " 300,\n",
       " 236,\n",
       " 133,\n",
       " 242,\n",
       " 25,\n",
       " 229,\n",
       " 358,\n",
       " 35,\n",
       " 68,\n",
       " 175,\n",
       " 84,\n",
       " 31,\n",
       " 23,\n",
       " 67,\n",
       " 413,\n",
       " 107,\n",
       " 172,\n",
       " 429,\n",
       " 60,\n",
       " 332,\n",
       " 128,\n",
       " 70,\n",
       " 51,\n",
       " 99,\n",
       " 119,\n",
       " 88,\n",
       " 442,\n",
       " 142,\n",
       " 95,\n",
       " 21,\n",
       " 207,\n",
       " 318,\n",
       " 436,\n",
       " 233,\n",
       " 39,\n",
       " 61,\n",
       " 48,\n",
       " 52,\n",
       " 38,\n",
       " 399,\n",
       " 528,\n",
       " 219,\n",
       " 162,\n",
       " 29,\n",
       " 210,\n",
       " 34,\n",
       " 40,\n",
       " 52,\n",
       " 187,\n",
       " 81,\n",
       " 100,\n",
       " 39,\n",
       " 298,\n",
       " 29,\n",
       " 23,\n",
       " 21,\n",
       " 265,\n",
       " 156,\n",
       " 509,\n",
       " 539,\n",
       " 33,\n",
       " 71,\n",
       " 65,\n",
       " 76,\n",
       " 129,\n",
       " 56,\n",
       " 67,\n",
       " 36,\n",
       " 258,\n",
       " 121,\n",
       " 38,\n",
       " 27,\n",
       " 107,\n",
       " 130,\n",
       " 35,\n",
       " 405,\n",
       " 292,\n",
       " 293,\n",
       " 137,\n",
       " 30,\n",
       " 24,\n",
       " 35,\n",
       " 915,\n",
       " 409,\n",
       " 146,\n",
       " 174,\n",
       " 203,\n",
       " 169,\n",
       " 179,\n",
       " 178,\n",
       " 297,\n",
       " 451,\n",
       " 101,\n",
       " 37,\n",
       " 126,\n",
       " 365,\n",
       " 222,\n",
       " 213,\n",
       " 225,\n",
       " 471,\n",
       " 96,\n",
       " 182,\n",
       " 120,\n",
       " 20,\n",
       " 34,\n",
       " 113,\n",
       " 148,\n",
       " 315,\n",
       " 71,\n",
       " 45,\n",
       " 353,\n",
       " 23,\n",
       " 34,\n",
       " 38,\n",
       " 53,\n",
       " 255,\n",
       " 96,\n",
       " 102,\n",
       " 219,\n",
       " 101,\n",
       " 112,\n",
       " 77,\n",
       " 25,\n",
       " 206,\n",
       " 53,\n",
       " 60,\n",
       " 69,\n",
       " 160,\n",
       " 26,\n",
       " 59,\n",
       " 20,\n",
       " 69,\n",
       " 321,\n",
       " 67,\n",
       " 357,\n",
       " 20,\n",
       " 168,\n",
       " 90,\n",
       " 229,\n",
       " 35,\n",
       " 628,\n",
       " 208,\n",
       " 191,\n",
       " 164,\n",
       " 178,\n",
       " 87,\n",
       " 46,\n",
       " 971,\n",
       " 58,\n",
       " 150,\n",
       " 46,\n",
       " 50,\n",
       " 20,\n",
       " 221,\n",
       " 749,\n",
       " 22,\n",
       " 29,\n",
       " 900,\n",
       " 517,\n",
       " 53,\n",
       " 89,\n",
       " 530,\n",
       " 105,\n",
       " 308,\n",
       " 36,\n",
       " 373,\n",
       " 174,\n",
       " 121,\n",
       " 75,\n",
       " 56,\n",
       " 71,\n",
       " 729,\n",
       " 147,\n",
       " 229,\n",
       " 441,\n",
       " 95,\n",
       " 53,\n",
       " 272,\n",
       " 30,\n",
       " 155,\n",
       " 40,\n",
       " 71,\n",
       " 49,\n",
       " 32,\n",
       " 96,\n",
       " 102,\n",
       " 684,\n",
       " 43,\n",
       " 83,\n",
       " 36,\n",
       " 645,\n",
       " 205,\n",
       " 238,\n",
       " 104,\n",
       " 75,\n",
       " 125,\n",
       " 199,\n",
       " 29,\n",
       " 247,\n",
       " 31,\n",
       " 1323,\n",
       " 88,\n",
       " 20,\n",
       " 261,\n",
       " 253,\n",
       " 65,\n",
       " 94,\n",
       " 256,\n",
       " 138,\n",
       " 335,\n",
       " 25,\n",
       " 30,\n",
       " 229,\n",
       " 260,\n",
       " 35,\n",
       " 35,\n",
       " 289,\n",
       " 83,\n",
       " 25,\n",
       " 25,\n",
       " 91,\n",
       " 265,\n",
       " 556,\n",
       " 121,\n",
       " 46,\n",
       " 440,\n",
       " 65,\n",
       " 20,\n",
       " 171,\n",
       " 37,\n",
       " 56,\n",
       " 63,\n",
       " 225,\n",
       " 582,\n",
       " 227,\n",
       " 27,\n",
       " 105,\n",
       " 218,\n",
       " 119,\n",
       " 256,\n",
       " 286,\n",
       " 194,\n",
       " 471,\n",
       " 149,\n",
       " 34,\n",
       " 447,\n",
       " 119,\n",
       " 333,\n",
       " 903,\n",
       " 54,\n",
       " 80,\n",
       " 611,\n",
       " 247,\n",
       " 733,\n",
       " 54,\n",
       " 177,\n",
       " 90,\n",
       " 40,\n",
       " 41,\n",
       " 109,\n",
       " 167,\n",
       " 61,\n",
       " 49,\n",
       " 98,\n",
       " 87,\n",
       " 356,\n",
       " 40,\n",
       " 177,\n",
       " 86,\n",
       " 29,\n",
       " 20,\n",
       " 92,\n",
       " 24,\n",
       " 35,\n",
       " 27,\n",
       " 629,\n",
       " 160,\n",
       " 22,\n",
       " 47,\n",
       " 546,\n",
       " 283,\n",
       " 155,\n",
       " 67,\n",
       " 1260,\n",
       " 35,\n",
       " 154,\n",
       " 67,\n",
       " 518,\n",
       " 49,\n",
       " 38,\n",
       " 123,\n",
       " 33,\n",
       " 83,\n",
       " 517,\n",
       " 444,\n",
       " 24,\n",
       " 52,\n",
       " 44,\n",
       " 64,\n",
       " 22,\n",
       " 83,\n",
       " 533,\n",
       " 89,\n",
       " 215,\n",
       " 61,\n",
       " 852,\n",
       " 50,\n",
       " 65,\n",
       " 40,\n",
       " 251,\n",
       " 128,\n",
       " 151,\n",
       " 174,\n",
       " 73,\n",
       " 78,\n",
       " 34,\n",
       " 68,\n",
       " 295,\n",
       " 102,\n",
       " 137,\n",
       " 680,\n",
       " 1595,\n",
       " 59,\n",
       " 175,\n",
       " 58,\n",
       " 221,\n",
       " 147,\n",
       " 64,\n",
       " 59,\n",
       " 86,\n",
       " 212,\n",
       " 585,\n",
       " 27,\n",
       " 22,\n",
       " 86,\n",
       " 305,\n",
       " 58,\n",
       " 85,\n",
       " 601,\n",
       " 429,\n",
       " 28,\n",
       " 55,\n",
       " 324,\n",
       " 97,\n",
       " 23,\n",
       " 391,\n",
       " 23,\n",
       " 947,\n",
       " 57,\n",
       " 31,\n",
       " 26,\n",
       " 352,\n",
       " 208,\n",
       " 47,\n",
       " 197,\n",
       " 24,\n",
       " 258,\n",
       " 150,\n",
       " 40,\n",
       " 30,\n",
       " 38,\n",
       " 53,\n",
       " 172,\n",
       " 207,\n",
       " 26,\n",
       " 756,\n",
       " 28,\n",
       " 22,\n",
       " 86,\n",
       " 44,\n",
       " 279,\n",
       " 624,\n",
       " 202,\n",
       " 34,\n",
       " 26,\n",
       " 57,\n",
       " 657,\n",
       " 125,\n",
       " 223,\n",
       " 57,\n",
       " 955,\n",
       " 435,\n",
       " 263,\n",
       " 707,\n",
       " 78,\n",
       " 83,\n",
       " 33,\n",
       " 198,\n",
       " 64,\n",
       " 33,\n",
       " 117,\n",
       " 158,\n",
       " 48,\n",
       " 54,\n",
       " 54,\n",
       " 139,\n",
       " 334,\n",
       " 23,\n",
       " 104,\n",
       " 35,\n",
       " 46,\n",
       " 460,\n",
       " 293,\n",
       " 98,\n",
       " 41,\n",
       " 134,\n",
       " 83,\n",
       " 246,\n",
       " 54,\n",
       " 504,\n",
       " 77,\n",
       " 24,\n",
       " 61,\n",
       " 20,\n",
       " 119,\n",
       " 22,\n",
       " 41,\n",
       " 465,\n",
       " 227,\n",
       " 24,\n",
       " 87,\n",
       " 27,\n",
       " 782,\n",
       " 100,\n",
       " 770,\n",
       " 65,\n",
       " 30,\n",
       " 159,\n",
       " 44,\n",
       " 416,\n",
       " 57,\n",
       " 220,\n",
       " 67,\n",
       " 30,\n",
       " 143,\n",
       " 28,\n",
       " 49,\n",
       " 317,\n",
       " 116,\n",
       " 43,\n",
       " 123,\n",
       " 62,\n",
       " 49,\n",
       " 698,\n",
       " 30,\n",
       " 22,\n",
       " 27,\n",
       " 56,\n",
       " 31,\n",
       " 40,\n",
       " 202,\n",
       " 111,\n",
       " 174,\n",
       " 116,\n",
       " 214,\n",
       " 39,\n",
       " 284,\n",
       " 211,\n",
       " 21,\n",
       " 252,\n",
       " 67,\n",
       " 91,\n",
       " 175,\n",
       " 176,\n",
       " 287,\n",
       " 25,\n",
       " 39,\n",
       " 453,\n",
       " 339,\n",
       " 145,\n",
       " 28,\n",
       " 338,\n",
       " 58,\n",
       " 32,\n",
       " 52,\n",
       " 21,\n",
       " 54,\n",
       " 38,\n",
       " 106,\n",
       " 616,\n",
       " 149,\n",
       " 546,\n",
       " ...]"
      ]
     },
     "execution_count": 34,
     "metadata": {},
     "output_type": "execute_result"
    }
   ],
   "source": [
    "num_rows = []\n",
    "for user_id in cleaned_stream_df['user_id'].unique():\n",
    "    user_df = cleaned_stream_df[cleaned_stream_df['user_id'] == user_id]\n",
    "    num_rows.append(len(user_df))\n",
    "num_rows"
   ]
  },
  {
   "cell_type": "code",
   "execution_count": 35,
   "id": "b604b4f8",
   "metadata": {},
   "outputs": [
    {
     "data": {
      "text/plain": [
       "162.44057450628367"
      ]
     },
     "execution_count": 35,
     "metadata": {},
     "output_type": "execute_result"
    },
    {
     "name": "stderr",
     "output_type": "stream",
     "text": [
      "22/03/16 18:43:06 WARN HeartbeatReceiver: Removing executor driver with no recent heartbeats: 322445 ms exceeds timeout 120000 ms\n",
      "22/03/16 18:43:06 WARN SparkContext: Killing executors is not supported by current scheduler.\n"
     ]
    }
   ],
   "source": [
    "np.average(np.asarray(num_rows))\n",
    "# switch to 50-100 features"
   ]
  },
  {
   "cell_type": "code",
   "execution_count": 17,
   "id": "f0015b3a",
   "metadata": {},
   "outputs": [
    {
     "name": "stderr",
     "output_type": "stream",
     "text": [
      "UserWarning: User-defined function verification is still under development in Modin. The function provided is not verified.\n"
     ]
    }
   ],
   "source": [
    "prediction_df = predict_table(stream_df)"
   ]
  },
  {
   "cell_type": "code",
   "execution_count": 22,
   "id": "a7f00a6b",
   "metadata": {},
   "outputs": [
    {
     "data": {
      "text/plain": [
       "0.9636635490536786"
      ]
     },
     "execution_count": 22,
     "metadata": {},
     "output_type": "execute_result"
    }
   ],
   "source": [
    "sans_new = prediction_df[prediction_df['prediction'] != -1]\n",
    "mean_squared_error(sans_new['rating'], sans_new['prediction'])"
   ]
  },
  {
   "cell_type": "code",
   "execution_count": 23,
   "id": "7b0eeff4",
   "metadata": {},
   "outputs": [],
   "source": [
    "class FIFOScheduler:\n",
    "    \n",
    "    def __init__(self):\n",
    "        self.queue = []\n",
    "        \n",
    "    def push(self, row):\n",
    "        self.queue.append(row)\n",
    "    \n",
    "    def pop(self):\n",
    "        if len(self.queue) == 0:\n",
    "            return None\n",
    "        return self.queue.pop()"
   ]
  },
  {
   "cell_type": "code",
   "execution_count": 20,
   "id": "0c272ef1",
   "metadata": {},
   "outputs": [
    {
     "ename": "SyntaxError",
     "evalue": "invalid syntax (3544257431.py, line 4)",
     "output_type": "error",
     "traceback": [
      "\u001b[0;36m  File \u001b[0;32m\"/var/folders/p5/zwk89rgd0cdf07_7k1wdqjgw0000gn/T/ipykernel_47834/3544257431.py\"\u001b[0;36m, line \u001b[0;32m4\u001b[0m\n\u001b[0;31m    self.queue =\u001b[0m\n\u001b[0m                ^\u001b[0m\n\u001b[0;31mSyntaxError\u001b[0m\u001b[0;31m:\u001b[0m invalid syntax\n"
     ]
    }
   ],
   "source": [
    "class LeastUpdatedScheduler:\n",
    "    \n",
    "    def __init__():\n",
    "        self.queue ="
   ]
  },
  {
   "cell_type": "code",
   "execution_count": 24,
   "id": "d9eeb32c",
   "metadata": {},
   "outputs": [
    {
     "data": {
      "text/plain": [
       "(73436566, 500104)"
      ]
     },
     "execution_count": 24,
     "metadata": {},
     "output_type": "execute_result"
    }
   ],
   "source": [
    "stream_df['timestamp'].max() - stream_df['timestamp'].min(), len(stream_df)"
   ]
  },
  {
   "cell_type": "code",
   "execution_count": 55,
   "id": "58a9b926",
   "metadata": {},
   "outputs": [],
   "source": [
    "class SGDUpdater:\n",
    "    \n",
    "    def __init__(self, user_features, product_features, learning_rate, u_reg, m_reg, update_movies = True):\n",
    "        self.user_dict = get_feature_dict(user_features)\n",
    "        self.movie_dict = get_feature_dict(product_features) \n",
    "        self.l = learning_rate\n",
    "        self.u_reg = u_reg\n",
    "        self.m_reg = m_reg\n",
    "        self.update_movies = update_movies\n",
    "    \n",
    "    def predict(self, row):\n",
    "        movie_id = row.movie_id\n",
    "        user_id = row.user_id\n",
    "        \n",
    "        if movie_id not in self.movie_dict:\n",
    "            return -1\n",
    "            self.movie_dict[movie_id] = np.random.rand(150)      \n",
    "        if user_id not in self.user_dict:\n",
    "            return -1\n",
    "            self.user_dict[user_id] = np.random.rand(150)\n",
    "        \n",
    "        return self.user_dict[user_id].dot(self.movie_dict[movie_id].T)\n",
    "    \n",
    "    def update(self, row):\n",
    "        movie_id = row.movie_id\n",
    "        user_id = row.user_id\n",
    "        rating = row.rating\n",
    "        \n",
    "        if movie_id not in self.movie_dict or user_id not in self.user_dict:\n",
    "            return\n",
    "        \n",
    "        prediction = self.predict(row)\n",
    "        error = rating - prediction\n",
    "        \n",
    "        \n",
    "        self.user_dict[user_id] = self.user_dict[user_id] + self.l * (error * self.movie_dict[movie_id] - self.u_reg  * self.user_dict[user_id])\n",
    "        if self.update_movies:\n",
    "            self.movie_dict[movie_id] = self.movie_dict[movie_id] + self.l * (error * self.user_dict[user_id] - self.m_reg * self.movie_dict[movie_id])"
   ]
  },
  {
   "cell_type": "code",
   "execution_count": 27,
   "id": "30074b28",
   "metadata": {
    "scrolled": true
   },
   "outputs": [
    {
     "name": "stderr",
     "output_type": "stream",
     "text": [
      "\u001b[2m\u001b[36m(apply_list_of_funcs pid=47866)\u001b[0m \n",
      "\u001b[2m\u001b[36m(compute_sliced_len pid=47866)\u001b[0m \n"
     ]
    },
    {
     "name": "stdout",
     "output_type": "stream",
     "text": [
      "\u001b[2m\u001b[36m(compute_sliced_len pid=47864)\u001b[0m \n",
      "\u001b[2m\u001b[36m(apply_list_of_funcs pid=47861)\u001b[0m \n",
      "\u001b[2m\u001b[36m(apply_list_of_funcs pid=47860)\u001b[0m \n",
      "\u001b[2m\u001b[36m(apply_list_of_funcs pid=47865)\u001b[0m \n",
      "\u001b[2m\u001b[36m(compute_sliced_len pid=47864)\u001b[0m \n",
      "\u001b[2m\u001b[36m(compute_sliced_len pid=47867)\u001b[0m \n",
      "\u001b[2m\u001b[36m(apply_list_of_funcs pid=47866)\u001b[0m \n",
      "\u001b[2m\u001b[36m(apply_list_of_funcs pid=47865)\u001b[0m \n"
     ]
    },
    {
     "name": "stderr",
     "output_type": "stream",
     "text": [
      "\u001b[2m\u001b[36m(compute_sliced_len pid=47865)\u001b[0m \n"
     ]
    },
    {
     "name": "stdout",
     "output_type": "stream",
     "text": [
      "\u001b[2m\u001b[36m(apply_list_of_funcs pid=47866)\u001b[0m \n",
      "\u001b[2m\u001b[36m(apply_list_of_funcs pid=47860)\u001b[0m \n",
      "\u001b[2m\u001b[36m(compute_sliced_len pid=47859)\u001b[0m \n",
      "\u001b[2m\u001b[36m(apply_list_of_funcs pid=47865)\u001b[0m \n",
      "\u001b[2m\u001b[36m(apply_list_of_funcs pid=47859)\u001b[0m \n",
      "\u001b[2m\u001b[36m(compute_sliced_len pid=47865)\u001b[0m \n",
      "\u001b[2m\u001b[36m(compute_sliced_len pid=47866)\u001b[0m \n",
      "\u001b[2m\u001b[36m(apply_list_of_funcs pid=47862)\u001b[0m \n",
      "\u001b[2m\u001b[36m(compute_sliced_len pid=47863)\u001b[0m \n",
      "\u001b[2m\u001b[36m(apply_list_of_funcs pid=47864)\u001b[0m \n",
      "\u001b[2m\u001b[36m(apply_list_of_funcs pid=47862)\u001b[0m \n"
     ]
    },
    {
     "name": "stderr",
     "output_type": "stream",
     "text": [
      "\u001b[2m\u001b[36m(compute_sliced_len pid=47860)\u001b[0m \n"
     ]
    },
    {
     "name": "stdout",
     "output_type": "stream",
     "text": [
      "\u001b[2m\u001b[36m(compute_sliced_len pid=47859)\u001b[0m \n",
      "\u001b[2m\u001b[36m(compute_sliced_len pid=47860)\u001b[0m \n",
      "\u001b[2m\u001b[36m(compute_sliced_len pid=47868)\u001b[0m \n",
      "\u001b[2m\u001b[36m(compute_sliced_len pid=47862)\u001b[0m \n"
     ]
    },
    {
     "name": "stderr",
     "output_type": "stream",
     "text": [
      "\u001b[2m\u001b[36m(apply_list_of_funcs pid=47861)\u001b[0m \n"
     ]
    },
    {
     "name": "stdout",
     "output_type": "stream",
     "text": [
      "\u001b[2m\u001b[36m(compute_sliced_len pid=47859)\u001b[0m \n"
     ]
    },
    {
     "name": "stderr",
     "output_type": "stream",
     "text": [
      "\u001b[2m\u001b[36m(compute_sliced_len pid=47859)\u001b[0m \n",
      "\u001b[2m\u001b[36m(compute_sliced_len pid=47865)\u001b[0m \n"
     ]
    },
    {
     "name": "stdout",
     "output_type": "stream",
     "text": [
      "\u001b[2m\u001b[36m(apply_list_of_funcs pid=47860)\u001b[0m \n"
     ]
    },
    {
     "name": "stderr",
     "output_type": "stream",
     "text": [
      "\u001b[2m\u001b[36m(compute_sliced_len pid=47864)\u001b[0m \n"
     ]
    },
    {
     "name": "stdout",
     "output_type": "stream",
     "text": [
      "\u001b[2m\u001b[36m(compute_sliced_len pid=47865)\u001b[0m \n",
      "\u001b[2m\u001b[36m(apply_list_of_funcs pid=47863)\u001b[0m \n"
     ]
    },
    {
     "name": "stderr",
     "output_type": "stream",
     "text": [
      "\u001b[2m\u001b[36m(apply_list_of_funcs pid=47864)\u001b[0m \n"
     ]
    },
    {
     "name": "stdout",
     "output_type": "stream",
     "text": [
      "\u001b[2m\u001b[36m(compute_sliced_len pid=47937)\u001b[0m \n",
      "\u001b[2m\u001b[36m(apply_list_of_funcs pid=47860)\u001b[0m \n",
      "\u001b[2m\u001b[36m(compute_sliced_len pid=47867)\u001b[0m \n"
     ]
    },
    {
     "name": "stderr",
     "output_type": "stream",
     "text": [
      "\u001b[2m\u001b[36m(apply_list_of_funcs pid=47862)\u001b[0m \n"
     ]
    },
    {
     "name": "stdout",
     "output_type": "stream",
     "text": [
      "\u001b[2m\u001b[36m(apply_list_of_funcs pid=47862)\u001b[0m \n",
      "\u001b[2m\u001b[36m(apply_list_of_funcs pid=47861)\u001b[0m \n",
      "\u001b[2m\u001b[36m(compute_sliced_len pid=47867)\u001b[0m \n"
     ]
    },
    {
     "name": "stderr",
     "output_type": "stream",
     "text": [
      "\u001b[2m\u001b[36m(compute_sliced_len pid=47859)\u001b[0m \n"
     ]
    },
    {
     "name": "stdout",
     "output_type": "stream",
     "text": [
      "\u001b[2m\u001b[36m(compute_sliced_len pid=47860)\u001b[0m \n",
      "\u001b[2m\u001b[36m(apply_list_of_funcs pid=47861)\u001b[0m \n"
     ]
    },
    {
     "name": "stderr",
     "output_type": "stream",
     "text": [
      "\u001b[2m\u001b[36m(apply_list_of_funcs pid=47859)\u001b[0m \n"
     ]
    },
    {
     "name": "stdout",
     "output_type": "stream",
     "text": [
      "\u001b[2m\u001b[36m(compute_sliced_len pid=47866)\u001b[0m \n",
      "\u001b[2m\u001b[36m(compute_sliced_len pid=47866)\u001b[0m \n",
      "\u001b[2m\u001b[36m(compute_sliced_len pid=47937)\u001b[0m \n",
      "\u001b[2m\u001b[36m(compute_sliced_len pid=47860)\u001b[0m \n",
      "\u001b[2m\u001b[36m(apply_list_of_funcs pid=47864)\u001b[0m \n",
      "\u001b[2m\u001b[36m(compute_sliced_len pid=47937)\u001b[0m \n",
      "\u001b[2m\u001b[36m(compute_sliced_len pid=47861)\u001b[0m \n"
     ]
    },
    {
     "name": "stderr",
     "output_type": "stream",
     "text": [
      "\u001b[2m\u001b[36m(apply_list_of_funcs pid=47860)\u001b[0m \n"
     ]
    },
    {
     "name": "stdout",
     "output_type": "stream",
     "text": [
      "\u001b[2m\u001b[36m(compute_sliced_len pid=47866)\u001b[0m \n",
      "\u001b[2m\u001b[36m(compute_sliced_len pid=47862)\u001b[0m \n",
      "\u001b[2m\u001b[36m(compute_sliced_len pid=47936)\u001b[0m \n",
      "\u001b[2m\u001b[36m(compute_sliced_len pid=47859)\u001b[0m \n"
     ]
    },
    {
     "name": "stderr",
     "output_type": "stream",
     "text": [
      "\u001b[2m\u001b[36m(compute_sliced_len pid=47860)\u001b[0m \n"
     ]
    },
    {
     "name": "stdout",
     "output_type": "stream",
     "text": [
      "\u001b[2m\u001b[36m(compute_sliced_len pid=47867)\u001b[0m \n",
      "\u001b[2m\u001b[36m(compute_sliced_len pid=47866)\u001b[0m \n"
     ]
    },
    {
     "name": "stderr",
     "output_type": "stream",
     "text": [
      "\u001b[2m\u001b[36m(compute_sliced_len pid=47860)\u001b[0m \n",
      "\u001b[2m\u001b[36m(apply_list_of_funcs pid=47866)\u001b[0m \n"
     ]
    },
    {
     "name": "stdout",
     "output_type": "stream",
     "text": [
      "\u001b[2m\u001b[36m(compute_sliced_len pid=47862)\u001b[0m \n",
      "\u001b[2m\u001b[36m(compute_sliced_len pid=47859)\u001b[0m \n"
     ]
    },
    {
     "name": "stderr",
     "output_type": "stream",
     "text": [
      "\u001b[2m\u001b[36m(compute_sliced_len pid=47864)\u001b[0m \n"
     ]
    },
    {
     "name": "stdout",
     "output_type": "stream",
     "text": [
      "\u001b[2m\u001b[36m(apply_list_of_funcs pid=47861)\u001b[0m \n",
      "\u001b[2m\u001b[36m(apply_list_of_funcs pid=47860)\u001b[0m \n",
      "\u001b[2m\u001b[36m(apply_list_of_funcs pid=47864)\u001b[0m \n"
     ]
    },
    {
     "name": "stderr",
     "output_type": "stream",
     "text": [
      "\u001b[2m\u001b[36m(apply_list_of_funcs pid=47862)\u001b[0m \n"
     ]
    },
    {
     "name": "stdout",
     "output_type": "stream",
     "text": [
      "\u001b[2m\u001b[36m(compute_sliced_len pid=47860)\u001b[0m \n",
      "\u001b[2m\u001b[36m(compute_sliced_len pid=47862)\u001b[0m \n"
     ]
    },
    {
     "name": "stderr",
     "output_type": "stream",
     "text": [
      "\u001b[2m\u001b[36m(compute_sliced_len pid=47864)\u001b[0m \n",
      "\u001b[2m\u001b[36m(compute_sliced_len pid=47862)\u001b[0m \n"
     ]
    },
    {
     "name": "stdout",
     "output_type": "stream",
     "text": [
      "\u001b[2m\u001b[36m(apply_list_of_funcs pid=47937)\u001b[0m \n",
      "\u001b[2m\u001b[36m(apply_list_of_funcs pid=47866)\u001b[0m \n",
      "\u001b[2m\u001b[36m(compute_sliced_len pid=47936)\u001b[0m \n",
      "\u001b[2m\u001b[36m(compute_sliced_len pid=47860)\u001b[0m \n",
      "\u001b[2m\u001b[36m(apply_list_of_funcs pid=47937)\u001b[0m \n"
     ]
    },
    {
     "name": "stderr",
     "output_type": "stream",
     "text": [
      "\u001b[2m\u001b[36m(compute_sliced_len pid=47859)\u001b[0m \n"
     ]
    },
    {
     "name": "stdout",
     "output_type": "stream",
     "text": [
      "\u001b[2m\u001b[36m(compute_sliced_len pid=47867)\u001b[0m \n",
      "\u001b[2m\u001b[36m(compute_sliced_len pid=47862)\u001b[0m \n",
      "\u001b[2m\u001b[36m(apply_list_of_funcs pid=47861)\u001b[0m \n",
      "\u001b[2m\u001b[36m(compute_sliced_len pid=47863)\u001b[0m \n"
     ]
    },
    {
     "name": "stderr",
     "output_type": "stream",
     "text": [
      "\u001b[2m\u001b[36m(compute_sliced_len pid=47862)\u001b[0m \n"
     ]
    },
    {
     "name": "stdout",
     "output_type": "stream",
     "text": [
      "\u001b[2m\u001b[36m(apply_list_of_funcs pid=47866)\u001b[0m \n"
     ]
    },
    {
     "name": "stderr",
     "output_type": "stream",
     "text": [
      "\u001b[2m\u001b[36m(compute_sliced_len pid=47862)\u001b[0m \n"
     ]
    },
    {
     "name": "stdout",
     "output_type": "stream",
     "text": [
      "\u001b[2m\u001b[36m(compute_sliced_len pid=47862)\u001b[0m \n",
      "\u001b[2m\u001b[36m(compute_sliced_len pid=47863)\u001b[0m \n",
      "\u001b[2m\u001b[36m(compute_sliced_len pid=47866)\u001b[0m \n",
      "\u001b[2m\u001b[36m(compute_sliced_len pid=47867)\u001b[0m \n"
     ]
    },
    {
     "name": "stderr",
     "output_type": "stream",
     "text": [
      "\u001b[2m\u001b[36m(compute_sliced_len pid=47936)\u001b[0m \n"
     ]
    },
    {
     "name": "stdout",
     "output_type": "stream",
     "text": [
      "\u001b[2m\u001b[36m(compute_sliced_len pid=47860)\u001b[0m \n",
      "\u001b[2m\u001b[36m(compute_sliced_len pid=47867)\u001b[0m \n",
      "\u001b[2m\u001b[36m(compute_sliced_len pid=47861)\u001b[0m \n",
      "\u001b[2m\u001b[36m(apply_list_of_funcs pid=47859)\u001b[0m \n",
      "\u001b[2m\u001b[36m(apply_list_of_funcs pid=47862)\u001b[0m \n",
      "\u001b[2m\u001b[36m(apply_list_of_funcs pid=47862)\u001b[0m \n"
     ]
    },
    {
     "name": "stderr",
     "output_type": "stream",
     "text": [
      "\u001b[2m\u001b[36m(compute_sliced_len pid=47859)\u001b[0m \n",
      "\u001b[2m\u001b[36m(compute_sliced_len pid=47862)\u001b[0m \n"
     ]
    },
    {
     "name": "stdout",
     "output_type": "stream",
     "text": [
      "\u001b[2m\u001b[36m(apply_list_of_funcs pid=47861)\u001b[0m \n"
     ]
    },
    {
     "name": "stderr",
     "output_type": "stream",
     "text": [
      "\u001b[2m\u001b[36m(compute_sliced_len pid=47862)\u001b[0m \n"
     ]
    },
    {
     "name": "stdout",
     "output_type": "stream",
     "text": [
      "\u001b[2m\u001b[36m(compute_sliced_len pid=47862)\u001b[0m \n",
      "\u001b[2m\u001b[36m(apply_list_of_funcs pid=48002)\u001b[0m \n",
      "\u001b[2m\u001b[36m(apply_list_of_funcs pid=48002)\u001b[0m \n",
      "\u001b[2m\u001b[36m(compute_sliced_len pid=47861)\u001b[0m \n"
     ]
    },
    {
     "name": "stderr",
     "output_type": "stream",
     "text": [
      "\u001b[2m\u001b[36m(compute_sliced_len pid=47859)\u001b[0m \n",
      "\u001b[2m\u001b[36m(apply_list_of_funcs pid=47866)\u001b[0m \n",
      "\u001b[2m\u001b[36m(compute_sliced_len pid=47864)\u001b[0m \n",
      "\u001b[2m\u001b[36m(compute_sliced_len pid=47864)\u001b[0m \n",
      "\u001b[2m\u001b[36m(apply_list_of_funcs pid=47936)\u001b[0m \n"
     ]
    },
    {
     "name": "stdout",
     "output_type": "stream",
     "text": [
      "\u001b[2m\u001b[36m(compute_sliced_len pid=47867)\u001b[0m \n",
      "\u001b[2m\u001b[36m(compute_sliced_len pid=47937)\u001b[0m \n",
      "\u001b[2m\u001b[36m(apply_list_of_funcs pid=47937)\u001b[0m \n",
      "\u001b[2m\u001b[36m(compute_sliced_len pid=47867)\u001b[0m \n",
      "\u001b[2m\u001b[36m(apply_list_of_funcs pid=48002)\u001b[0m \n",
      "\u001b[2m\u001b[36m(compute_sliced_len pid=47937)\u001b[0m \n",
      "\u001b[2m\u001b[36m(compute_sliced_len pid=47936)\u001b[0m \n",
      "\u001b[2m\u001b[36m(compute_sliced_len pid=47860)\u001b[0m \n"
     ]
    },
    {
     "name": "stderr",
     "output_type": "stream",
     "text": [
      "\u001b[2m\u001b[36m(apply_list_of_funcs pid=47937)\u001b[0m \n"
     ]
    },
    {
     "name": "stdout",
     "output_type": "stream",
     "text": [
      "\u001b[2m\u001b[36m(apply_list_of_funcs pid=47936)\u001b[0m \n",
      "\u001b[2m\u001b[36m(apply_list_of_funcs pid=47859)\u001b[0m \n",
      "\u001b[2m\u001b[36m(compute_sliced_len pid=47936)\u001b[0m \n",
      "\u001b[2m\u001b[36m(apply_list_of_funcs pid=47859)\u001b[0m \n",
      "\u001b[2m\u001b[36m(apply_list_of_funcs pid=47861)\u001b[0m \n",
      "\u001b[2m\u001b[36m(apply_list_of_funcs pid=47937)\u001b[0m \n",
      "\u001b[2m\u001b[36m(compute_sliced_len pid=47936)\u001b[0m \n",
      "\u001b[2m\u001b[36m(compute_sliced_len pid=47866)\u001b[0m \n",
      "\u001b[2m\u001b[36m(compute_sliced_len pid=47867)\u001b[0m \n",
      "\u001b[2m\u001b[36m(compute_sliced_len pid=47866)\u001b[0m \n",
      "\u001b[2m\u001b[36m(apply_list_of_funcs pid=47860)\u001b[0m \n",
      "\u001b[2m\u001b[36m(compute_sliced_len pid=47864)\u001b[0m \n"
     ]
    },
    {
     "name": "stderr",
     "output_type": "stream",
     "text": [
      "\u001b[2m\u001b[36m(compute_sliced_len pid=47866)\u001b[0m \n"
     ]
    },
    {
     "name": "stdout",
     "output_type": "stream",
     "text": [
      "\u001b[2m\u001b[36m(apply_list_of_funcs pid=47859)\u001b[0m \n",
      "\u001b[2m\u001b[36m(compute_sliced_len pid=47866)\u001b[0m \n"
     ]
    },
    {
     "name": "stderr",
     "output_type": "stream",
     "text": [
      "\u001b[2m\u001b[36m(compute_sliced_len pid=47936)\u001b[0m \n"
     ]
    },
    {
     "name": "stdout",
     "output_type": "stream",
     "text": [
      "\u001b[2m\u001b[36m(compute_sliced_len pid=47936)\u001b[0m \n",
      "\u001b[2m\u001b[36m(apply_list_of_funcs pid=48002)\u001b[0m \n",
      "\u001b[2m\u001b[36m(apply_list_of_funcs pid=47860)\u001b[0m \n"
     ]
    },
    {
     "name": "stderr",
     "output_type": "stream",
     "text": [
      "\u001b[2m\u001b[36m(apply_list_of_funcs pid=48001)\u001b[0m \n"
     ]
    },
    {
     "name": "stdout",
     "output_type": "stream",
     "text": [
      "\u001b[2m\u001b[36m(apply_list_of_funcs pid=47937)\u001b[0m \n",
      "\u001b[2m\u001b[36m(compute_sliced_len pid=47937)\u001b[0m \n",
      "\u001b[2m\u001b[36m(apply_list_of_funcs pid=47867)\u001b[0m \n",
      "\u001b[2m\u001b[36m(apply_list_of_funcs pid=47866)\u001b[0m \n",
      "\u001b[2m\u001b[36m(apply_list_of_funcs pid=47936)\u001b[0m \n",
      "\u001b[2m\u001b[36m(apply_list_of_funcs pid=48001)\u001b[0m \n",
      "\u001b[2m\u001b[36m(apply_list_of_funcs pid=47866)\u001b[0m \n",
      "\u001b[2m\u001b[36m(compute_sliced_len pid=47864)\u001b[0m \n",
      "\u001b[2m\u001b[36m(compute_sliced_len pid=47864)\u001b[0m \n",
      "\u001b[2m\u001b[36m(apply_list_of_funcs pid=47936)\u001b[0m \n",
      "\u001b[2m\u001b[36m(compute_sliced_len pid=47861)\u001b[0m \n",
      "\u001b[2m\u001b[36m(compute_sliced_len pid=47861)\u001b[0m \n",
      "\u001b[2m\u001b[36m(compute_sliced_len pid=47937)\u001b[0m \n",
      "\u001b[2m\u001b[36m(compute_sliced_len pid=47861)\u001b[0m \n",
      "\u001b[2m\u001b[36m(apply_list_of_funcs pid=48002)\u001b[0m \n",
      "\u001b[2m\u001b[36m(compute_sliced_len pid=47867)\u001b[0m \n",
      "\u001b[2m\u001b[36m(apply_list_of_funcs pid=47861)\u001b[0m \n",
      "\u001b[2m\u001b[36m(compute_sliced_len pid=47937)\u001b[0m \n",
      "\u001b[2m\u001b[36m(apply_list_of_funcs pid=47859)\u001b[0m \n",
      "\u001b[2m\u001b[36m(compute_sliced_len pid=47864)\u001b[0m \n",
      "\u001b[2m\u001b[36m(compute_sliced_len pid=48002)\u001b[0m \n",
      "\u001b[2m\u001b[36m(compute_sliced_len pid=47860)\u001b[0m \n",
      "\u001b[2m\u001b[36m(apply_list_of_funcs pid=47867)\u001b[0m \n",
      "\u001b[2m\u001b[36m(compute_sliced_len pid=47937)\u001b[0m \n",
      "\u001b[2m\u001b[36m(apply_list_of_funcs pid=47937)\u001b[0m \n",
      "\u001b[2m\u001b[36m(apply_list_of_funcs pid=48001)\u001b[0m \n"
     ]
    },
    {
     "name": "stderr",
     "output_type": "stream",
     "text": [
      "\u001b[2m\u001b[36m(apply_list_of_funcs pid=47864)\u001b[0m \n",
      "\u001b[2m\u001b[36m(compute_sliced_len pid=48001)\u001b[0m \n",
      "\u001b[2m\u001b[36m(compute_sliced_len pid=48001)\u001b[0m \n",
      "\u001b[2m\u001b[36m(apply_list_of_funcs pid=47937)\u001b[0m \n"
     ]
    },
    {
     "name": "stdout",
     "output_type": "stream",
     "text": [
      "\u001b[2m\u001b[36m(apply_list_of_funcs pid=48023)\u001b[0m \n",
      "\u001b[2m\u001b[36m(compute_sliced_len pid=48002)\u001b[0m \n",
      "\u001b[2m\u001b[36m(compute_sliced_len pid=48031)\u001b[0m \n",
      "\u001b[2m\u001b[36m(compute_sliced_len pid=48031)\u001b[0m \n",
      "\u001b[2m\u001b[36m(compute_sliced_len pid=48031)\u001b[0m \n",
      "\u001b[2m\u001b[36m(compute_sliced_len pid=47866)\u001b[0m \n",
      "\u001b[2m\u001b[36m(apply_list_of_funcs pid=48040)\u001b[0m \n",
      "\u001b[2m\u001b[36m(compute_sliced_len pid=47861)\u001b[0m \n",
      "\u001b[2m\u001b[36m(compute_sliced_len pid=48002)\u001b[0m \n",
      "\u001b[2m\u001b[36m(apply_list_of_funcs pid=48027)\u001b[0m \n",
      "\u001b[2m\u001b[36m(compute_sliced_len pid=48031)\u001b[0m \n",
      "\u001b[2m\u001b[36m(apply_list_of_funcs pid=48028)\u001b[0m \n",
      "\u001b[2m\u001b[36m(apply_list_of_funcs pid=48031)\u001b[0m \n",
      "\u001b[2m\u001b[36m(compute_sliced_len pid=48027)\u001b[0m \n",
      "\u001b[2m\u001b[36m(compute_sliced_len pid=48027)\u001b[0m \n",
      "\u001b[2m\u001b[36m(apply_list_of_funcs pid=48028)\u001b[0m \n",
      "\u001b[2m\u001b[36m(apply_list_of_funcs pid=48032)\u001b[0m \n",
      "\u001b[2m\u001b[36m(compute_sliced_len pid=48002)\u001b[0m \n"
     ]
    },
    {
     "name": "stderr",
     "output_type": "stream",
     "text": [
      "\u001b[2m\u001b[36m(apply_list_of_funcs pid=48040)\u001b[0m \n"
     ]
    },
    {
     "name": "stdout",
     "output_type": "stream",
     "text": [
      "\u001b[2m\u001b[36m(compute_sliced_len pid=48028)\u001b[0m \n",
      "\u001b[2m\u001b[36m(apply_list_of_funcs pid=48028)\u001b[0m \n",
      "\u001b[2m\u001b[36m(apply_list_of_funcs pid=48027)\u001b[0m \n",
      "\u001b[2m\u001b[36m(compute_sliced_len pid=48032)\u001b[0m \n",
      "\u001b[2m\u001b[36m(compute_sliced_len pid=47861)\u001b[0m \n",
      "\u001b[2m\u001b[36m(compute_sliced_len pid=48028)\u001b[0m \n",
      "\u001b[2m\u001b[36m(apply_list_of_funcs pid=48035)\u001b[0m \n",
      "\u001b[2m\u001b[36m(compute_sliced_len pid=48032)\u001b[0m \n"
     ]
    },
    {
     "name": "stderr",
     "output_type": "stream",
     "text": [
      "\u001b[2m\u001b[36m(apply_list_of_funcs pid=48031)\u001b[0m \n"
     ]
    },
    {
     "name": "stdout",
     "output_type": "stream",
     "text": [
      "\u001b[2m\u001b[36m(apply_list_of_funcs pid=48031)\u001b[0m \n",
      "\u001b[2m\u001b[36m(apply_list_of_funcs pid=48031)\u001b[0m \n",
      "\u001b[2m\u001b[36m(apply_list_of_funcs pid=48035)\u001b[0m \n",
      "\u001b[2m\u001b[36m(apply_list_of_funcs pid=48040)\u001b[0m \n",
      "\u001b[2m\u001b[36m(apply_list_of_funcs pid=48002)\u001b[0m \n",
      "\u001b[2m\u001b[36m(apply_list_of_funcs pid=48035)\u001b[0m \n",
      "\u001b[2m\u001b[36m(compute_sliced_len pid=47866)\u001b[0m \n",
      "\u001b[2m\u001b[36m(apply_list_of_funcs pid=48002)\u001b[0m \n",
      "\u001b[2m\u001b[36m(compute_sliced_len pid=47861)\u001b[0m \n",
      "\u001b[2m\u001b[36m(compute_sliced_len pid=47866)\u001b[0m \n",
      "\u001b[2m\u001b[36m(apply_list_of_funcs pid=47861)\u001b[0m \n",
      "\u001b[2m\u001b[36m(apply_list_of_funcs pid=48002)\u001b[0m \n",
      "\u001b[2m\u001b[36m(apply_list_of_funcs pid=48032)\u001b[0m \n",
      "\u001b[2m\u001b[36m(compute_sliced_len pid=48027)\u001b[0m \n"
     ]
    },
    {
     "name": "stderr",
     "output_type": "stream",
     "text": [
      "\u001b[2m\u001b[36m(compute_sliced_len pid=48031)\u001b[0m \n"
     ]
    },
    {
     "name": "stdout",
     "output_type": "stream",
     "text": [
      "\u001b[2m\u001b[36m(compute_sliced_len pid=48002)\u001b[0m \n",
      "\u001b[2m\u001b[36m(compute_sliced_len pid=48031)\u001b[0m \n",
      "\u001b[2m\u001b[36m(compute_sliced_len pid=47866)\u001b[0m \n",
      "\u001b[2m\u001b[36m(compute_sliced_len pid=48028)\u001b[0m \n",
      "\u001b[2m\u001b[36m(compute_sliced_len pid=48028)\u001b[0m \n",
      "\u001b[2m\u001b[36m(compute_sliced_len pid=48002)\u001b[0m \n"
     ]
    },
    {
     "name": "stderr",
     "output_type": "stream",
     "text": [
      "\u001b[2m\u001b[36m(compute_sliced_len pid=48040)\u001b[0m \n"
     ]
    },
    {
     "name": "stdout",
     "output_type": "stream",
     "text": [
      "\u001b[2m\u001b[36m(apply_list_of_funcs pid=48002)\u001b[0m \n",
      "\u001b[2m\u001b[36m(compute_sliced_len pid=48031)\u001b[0m \n",
      "\u001b[2m\u001b[36m(apply_list_of_funcs pid=48027)\u001b[0m \n",
      "\u001b[2m\u001b[36m(apply_list_of_funcs pid=48028)\u001b[0m \n",
      "\u001b[2m\u001b[36m(apply_list_of_funcs pid=47861)\u001b[0m \n",
      "\u001b[2m\u001b[36m(compute_sliced_len pid=48047)\u001b[0m \n",
      "\u001b[2m\u001b[36m(apply_list_of_funcs pid=48035)\u001b[0m \n",
      "\u001b[2m\u001b[36m(compute_sliced_len pid=47866)\u001b[0m \n",
      "\u001b[2m\u001b[36m(apply_list_of_funcs pid=47866)\u001b[0m \n",
      "\u001b[2m\u001b[36m(compute_sliced_len pid=48032)\u001b[0m \n",
      "\u001b[2m\u001b[36m(apply_list_of_funcs pid=48040)\u001b[0m \n",
      "\u001b[2m\u001b[36m(apply_list_of_funcs pid=48032)\u001b[0m \n",
      "\u001b[2m\u001b[36m(apply_list_of_funcs pid=48047)\u001b[0m \n",
      "\u001b[2m\u001b[36m(apply_list_of_funcs pid=48047)\u001b[0m \n",
      "\u001b[2m\u001b[36m(apply_list_of_funcs pid=48035)\u001b[0m \n",
      "\u001b[2m\u001b[36m(compute_sliced_len pid=48035)\u001b[0m \n",
      "\u001b[2m\u001b[36m(compute_sliced_len pid=48059)\u001b[0m \n",
      "\u001b[2m\u001b[36m(apply_list_of_funcs pid=48046)\u001b[0m \n",
      "\u001b[2m\u001b[36m(apply_list_of_funcs pid=48059)\u001b[0m \n",
      "\u001b[2m\u001b[36m(compute_sliced_len pid=47866)\u001b[0m \n",
      "\u001b[2m\u001b[36m(compute_sliced_len pid=48060)\u001b[0m \n",
      "\u001b[2m\u001b[36m(apply_list_of_funcs pid=48069)\u001b[0m \n",
      "\u001b[2m\u001b[36m(apply_list_of_funcs pid=47861)\u001b[0m \n"
     ]
    },
    {
     "name": "stderr",
     "output_type": "stream",
     "text": [
      "\u001b[2m\u001b[36m(compute_sliced_len pid=48047)\u001b[0m \n"
     ]
    },
    {
     "name": "stdout",
     "output_type": "stream",
     "text": [
      "\u001b[2m\u001b[36m(apply_list_of_funcs pid=48031)\u001b[0m \n",
      "\u001b[2m\u001b[36m(apply_list_of_funcs pid=48046)\u001b[0m \n"
     ]
    },
    {
     "name": "stderr",
     "output_type": "stream",
     "text": [
      "\u001b[2m\u001b[36m(apply_list_of_funcs pid=48068)\u001b[0m \n"
     ]
    },
    {
     "name": "stdout",
     "output_type": "stream",
     "text": [
      "\u001b[2m\u001b[36m(apply_list_of_funcs pid=48047)\u001b[0m \n",
      "\u001b[2m\u001b[36m(apply_list_of_funcs pid=48069)\u001b[0m \n"
     ]
    },
    {
     "name": "stderr",
     "output_type": "stream",
     "text": [
      "\u001b[2m\u001b[36m(compute_sliced_len pid=47866)\u001b[0m \n"
     ]
    },
    {
     "name": "stdout",
     "output_type": "stream",
     "text": [
      "\u001b[2m\u001b[36m(apply_list_of_funcs pid=48031)\u001b[0m \n",
      "\u001b[2m\u001b[36m(apply_list_of_funcs pid=48046)\u001b[0m \n"
     ]
    },
    {
     "name": "stderr",
     "output_type": "stream",
     "text": [
      "\u001b[2m\u001b[36m(apply_list_of_funcs pid=47866)\u001b[0m \n"
     ]
    },
    {
     "name": "stdout",
     "output_type": "stream",
     "text": [
      "\u001b[2m\u001b[36m(compute_sliced_len pid=48046)\u001b[0m \n",
      "\u001b[2m\u001b[36m(apply_list_of_funcs pid=48060)\u001b[0m \n",
      "\u001b[2m\u001b[36m(apply_list_of_funcs pid=48031)\u001b[0m \n",
      "\u001b[2m\u001b[36m(compute_sliced_len pid=48046)\u001b[0m \n",
      "\u001b[2m\u001b[36m(apply_list_of_funcs pid=48068)\u001b[0m \n",
      "\u001b[2m\u001b[36m(apply_list_of_funcs pid=48047)\u001b[0m \n",
      "\u001b[2m\u001b[36m(compute_sliced_len pid=48047)\u001b[0m \n",
      "\u001b[2m\u001b[36m(apply_list_of_funcs pid=48046)\u001b[0m \n",
      "\u001b[2m\u001b[36m(compute_sliced_len pid=48068)\u001b[0m \n"
     ]
    },
    {
     "name": "stderr",
     "output_type": "stream",
     "text": [
      "\u001b[2m\u001b[36m(compute_sliced_len pid=48059)\u001b[0m \n"
     ]
    },
    {
     "name": "stdout",
     "output_type": "stream",
     "text": [
      "\u001b[2m\u001b[36m(compute_sliced_len pid=48059)\u001b[0m \n",
      "\u001b[2m\u001b[36m(compute_sliced_len pid=48047)\u001b[0m \n",
      "\u001b[2m\u001b[36m(apply_list_of_funcs pid=48081)\u001b[0m \n",
      "\u001b[2m\u001b[36m(compute_sliced_len pid=48035)\u001b[0m \n",
      "\u001b[2m\u001b[36m(apply_list_of_funcs pid=48031)\u001b[0m \n",
      "\u001b[2m\u001b[36m(apply_list_of_funcs pid=48031)\u001b[0m \n",
      "\u001b[2m\u001b[36m(apply_list_of_funcs pid=47861)\u001b[0m \n",
      "\u001b[2m\u001b[36m(apply_list_of_funcs pid=48081)\u001b[0m \n",
      "\u001b[2m\u001b[36m(apply_list_of_funcs pid=48081)\u001b[0m \n",
      "\u001b[2m\u001b[36m(apply_list_of_funcs pid=48087)\u001b[0m \n",
      "\u001b[2m\u001b[36m(apply_list_of_funcs pid=47866)\u001b[0m \n",
      "\u001b[2m\u001b[36m(apply_list_of_funcs pid=47861)\u001b[0m \n",
      "\u001b[2m\u001b[36m(apply_list_of_funcs pid=47861)\u001b[0m \n",
      "\u001b[2m\u001b[36m(compute_sliced_len pid=48086)\u001b[0m \n"
     ]
    },
    {
     "name": "stderr",
     "output_type": "stream",
     "text": [
      "\u001b[2m\u001b[36m(apply_list_of_funcs pid=47866)\u001b[0m \n"
     ]
    },
    {
     "name": "stdout",
     "output_type": "stream",
     "text": [
      "\u001b[2m\u001b[36m(compute_sliced_len pid=48068)\u001b[0m \n",
      "\u001b[2m\u001b[36m(apply_list_of_funcs pid=48031)\u001b[0m \n",
      "\u001b[2m\u001b[36m(compute_sliced_len pid=48086)\u001b[0m \n",
      "\u001b[2m\u001b[36m(compute_sliced_len pid=48068)\u001b[0m \n",
      "\u001b[2m\u001b[36m(compute_sliced_len pid=47861)\u001b[0m \n"
     ]
    },
    {
     "name": "stderr",
     "output_type": "stream",
     "text": [
      "\u001b[2m\u001b[36m(compute_sliced_len pid=47866)\u001b[0m \n"
     ]
    },
    {
     "name": "stdout",
     "output_type": "stream",
     "text": [
      "\u001b[2m\u001b[36m(compute_sliced_len pid=48087)\u001b[0m \n",
      "\u001b[2m\u001b[36m(compute_sliced_len pid=48059)\u001b[0m \n",
      "\u001b[2m\u001b[36m(compute_sliced_len pid=48068)\u001b[0m \n",
      "\u001b[2m\u001b[36m(apply_list_of_funcs pid=48068)\u001b[0m \n"
     ]
    },
    {
     "name": "stderr",
     "output_type": "stream",
     "text": [
      "\u001b[2m\u001b[36m(compute_sliced_len pid=47861)\u001b[0m \n"
     ]
    },
    {
     "name": "stdout",
     "output_type": "stream",
     "text": [
      "\u001b[2m\u001b[36m(compute_sliced_len pid=48031)\u001b[0m \n",
      "\u001b[2m\u001b[36m(compute_sliced_len pid=48035)\u001b[0m \n",
      "\u001b[2m\u001b[36m(compute_sliced_len pid=48081)\u001b[0m \n",
      "\u001b[2m\u001b[36m(compute_sliced_len pid=48031)\u001b[0m \n"
     ]
    },
    {
     "name": "stderr",
     "output_type": "stream",
     "text": [
      "\u001b[2m\u001b[36m(apply_list_of_funcs pid=48031)\u001b[0m \n"
     ]
    },
    {
     "name": "stdout",
     "output_type": "stream",
     "text": [
      "\u001b[2m\u001b[36m(apply_list_of_funcs pid=48087)\u001b[0m \n",
      "\u001b[2m\u001b[36m(apply_list_of_funcs pid=48068)\u001b[0m \n",
      "\u001b[2m\u001b[36m(apply_list_of_funcs pid=48031)\u001b[0m \n",
      "\u001b[2m\u001b[36m(apply_list_of_funcs pid=48068)\u001b[0m \n",
      "\u001b[2m\u001b[36m(apply_list_of_funcs pid=48081)\u001b[0m \n"
     ]
    },
    {
     "name": "stderr",
     "output_type": "stream",
     "text": [
      "\u001b[2m\u001b[36m(apply_list_of_funcs pid=48031)\u001b[0m \n"
     ]
    },
    {
     "name": "stdout",
     "output_type": "stream",
     "text": [
      "\u001b[2m\u001b[36m(apply_list_of_funcs pid=48068)\u001b[0m \n",
      "\u001b[2m\u001b[36m(apply_list_of_funcs pid=48086)\u001b[0m \n",
      "\u001b[2m\u001b[36m(apply_list_of_funcs pid=48031)\u001b[0m \n",
      "\u001b[2m\u001b[36m(apply_list_of_funcs pid=48086)\u001b[0m \n"
     ]
    },
    {
     "name": "stderr",
     "output_type": "stream",
     "text": [
      "\u001b[2m\u001b[36m(apply_list_of_funcs pid=47861)\u001b[0m \n"
     ]
    },
    {
     "name": "stdout",
     "output_type": "stream",
     "text": [
      "\u001b[2m\u001b[36m(apply_list_of_funcs pid=48097)\u001b[0m \n",
      "\u001b[2m\u001b[36m(compute_sliced_len pid=48031)\u001b[0m \n",
      "\u001b[2m\u001b[36m(apply_list_of_funcs pid=48087)\u001b[0m \n",
      "\u001b[2m\u001b[36m(apply_list_of_funcs pid=48069)\u001b[0m \n",
      "\u001b[2m\u001b[36m(apply_list_of_funcs pid=47861)\u001b[0m \n",
      "\u001b[2m\u001b[36m(compute_sliced_len pid=48092)\u001b[0m \n",
      "\u001b[2m\u001b[36m(compute_sliced_len pid=48031)\u001b[0m \n",
      "\u001b[2m\u001b[36m(apply_list_of_funcs pid=48069)\u001b[0m \n",
      "\u001b[2m\u001b[36m(apply_list_of_funcs pid=48035)\u001b[0m \n"
     ]
    },
    {
     "name": "stderr",
     "output_type": "stream",
     "text": [
      "\u001b[2m\u001b[36m(apply_list_of_funcs pid=48081)\u001b[0m \n",
      "\u001b[2m\u001b[36m(apply_list_of_funcs pid=48035)\u001b[0m \n"
     ]
    },
    {
     "name": "stdout",
     "output_type": "stream",
     "text": [
      "\u001b[2m\u001b[36m(apply_list_of_funcs pid=48031)\u001b[0m \n",
      "\u001b[2m\u001b[36m(apply_list_of_funcs pid=48031)\u001b[0m \n",
      "\u001b[2m\u001b[36m(compute_sliced_len pid=48092)\u001b[0m \n",
      "\u001b[2m\u001b[36m(apply_list_of_funcs pid=48097)\u001b[0m \n",
      "\u001b[2m\u001b[36m(apply_list_of_funcs pid=48081)\u001b[0m \n",
      "\u001b[2m\u001b[36m(apply_list_of_funcs pid=47861)\u001b[0m \n",
      "\u001b[2m\u001b[36m(apply_list_of_funcs pid=48097)\u001b[0m \n",
      "\u001b[2m\u001b[36m(apply_list_of_funcs pid=48096)\u001b[0m \n",
      "\u001b[2m\u001b[36m(compute_sliced_len pid=48097)\u001b[0m \n",
      "\u001b[2m\u001b[36m(compute_sliced_len pid=48096)\u001b[0m \n",
      "\u001b[2m\u001b[36m(compute_sliced_len pid=48081)\u001b[0m \n",
      "\u001b[2m\u001b[36m(compute_sliced_len pid=48092)\u001b[0m \n"
     ]
    },
    {
     "name": "stderr",
     "output_type": "stream",
     "text": [
      "\u001b[2m\u001b[36m(compute_sliced_len pid=48031)\u001b[0m \n"
     ]
    },
    {
     "name": "stdout",
     "output_type": "stream",
     "text": [
      "\u001b[2m\u001b[36m(apply_list_of_funcs pid=48081)\u001b[0m \n",
      "\u001b[2m\u001b[36m(apply_list_of_funcs pid=48086)\u001b[0m \n",
      "\u001b[2m\u001b[36m(apply_list_of_funcs pid=47861)\u001b[0m \n",
      "\u001b[2m\u001b[36m(apply_list_of_funcs pid=48092)\u001b[0m \n",
      "\u001b[2m\u001b[36m(apply_list_of_funcs pid=48087)\u001b[0m \n",
      "\u001b[2m\u001b[36m(compute_sliced_len pid=48081)\u001b[0m \n",
      "\u001b[2m\u001b[36m(compute_sliced_len pid=47861)\u001b[0m \n"
     ]
    },
    {
     "name": "stderr",
     "output_type": "stream",
     "text": [
      "\u001b[2m\u001b[36m(compute_sliced_len pid=48031)\u001b[0m \n"
     ]
    },
    {
     "name": "stdout",
     "output_type": "stream",
     "text": [
      "\u001b[2m\u001b[36m(apply_list_of_funcs pid=48035)\u001b[0m \n",
      "\u001b[2m\u001b[36m(apply_list_of_funcs pid=48097)\u001b[0m \n",
      "\u001b[2m\u001b[36m(apply_list_of_funcs pid=48069)\u001b[0m \n",
      "\u001b[2m\u001b[36m(apply_list_of_funcs pid=48087)\u001b[0m \n",
      "\u001b[2m\u001b[36m(compute_sliced_len pid=48031)\u001b[0m \n",
      "\u001b[2m\u001b[36m(apply_list_of_funcs pid=48031)\u001b[0m \n",
      "\u001b[2m\u001b[36m(apply_list_of_funcs pid=48092)\u001b[0m \n",
      "\u001b[2m\u001b[36m(compute_sliced_len pid=48069)\u001b[0m \n",
      "\u001b[2m\u001b[36m(compute_sliced_len pid=48081)\u001b[0m \n",
      "\u001b[2m\u001b[36m(apply_list_of_funcs pid=48087)\u001b[0m \n",
      "\u001b[2m\u001b[36m(compute_sliced_len pid=48096)\u001b[0m \n"
     ]
    },
    {
     "name": "stderr",
     "output_type": "stream",
     "text": [
      "\u001b[2m\u001b[36m(compute_sliced_len pid=48031)\u001b[0m \n"
     ]
    },
    {
     "name": "stdout",
     "output_type": "stream",
     "text": [
      "\u001b[2m\u001b[36m(apply_list_of_funcs pid=48096)\u001b[0m \n",
      "\u001b[2m\u001b[36m(compute_sliced_len pid=48096)\u001b[0m \n",
      "\u001b[2m\u001b[36m(apply_list_of_funcs pid=48096)\u001b[0m \n",
      "\u001b[2m\u001b[36m(compute_sliced_len pid=48086)\u001b[0m \n",
      "\u001b[2m\u001b[36m(apply_list_of_funcs pid=48069)\u001b[0m \n",
      "\u001b[2m\u001b[36m(compute_sliced_len pid=48031)\u001b[0m \n",
      "\u001b[2m\u001b[36m(apply_list_of_funcs pid=48087)\u001b[0m \n",
      "\u001b[2m\u001b[36m(apply_list_of_funcs pid=47861)\u001b[0m \n",
      "\u001b[2m\u001b[36m(compute_sliced_len pid=48087)\u001b[0m \n",
      "\u001b[2m\u001b[36m(apply_list_of_funcs pid=48092)\u001b[0m \n",
      "\u001b[2m\u001b[36m(apply_list_of_funcs pid=48035)\u001b[0m \n",
      "\u001b[2m\u001b[36m(compute_sliced_len pid=48097)\u001b[0m \n",
      "\u001b[2m\u001b[36m(compute_sliced_len pid=48035)\u001b[0m \n",
      "\u001b[2m\u001b[36m(compute_sliced_len pid=47861)\u001b[0m \n",
      "\u001b[2m\u001b[36m(apply_list_of_funcs pid=48069)\u001b[0m \n",
      "\u001b[2m\u001b[36m(apply_list_of_funcs pid=47861)\u001b[0m \n"
     ]
    },
    {
     "name": "stderr",
     "output_type": "stream",
     "text": [
      "\u001b[2m\u001b[36m(compute_sliced_len pid=48035)\u001b[0m \n"
     ]
    },
    {
     "name": "stdout",
     "output_type": "stream",
     "text": [
      "\u001b[2m\u001b[36m(apply_list_of_funcs pid=48081)\u001b[0m \n"
     ]
    },
    {
     "name": "stderr",
     "output_type": "stream",
     "text": [
      "\u001b[2m\u001b[36m(compute_sliced_len pid=48035)\u001b[0m \n"
     ]
    },
    {
     "name": "stdout",
     "output_type": "stream",
     "text": [
      "\u001b[2m\u001b[36m(compute_sliced_len pid=48092)\u001b[0m \n",
      "\u001b[2m\u001b[36m(apply_list_of_funcs pid=48035)\u001b[0m \n",
      "\u001b[2m\u001b[36m(apply_list_of_funcs pid=48097)\u001b[0m \n",
      "\u001b[2m\u001b[36m(apply_list_of_funcs pid=48086)\u001b[0m \n",
      "\u001b[2m\u001b[36m(compute_sliced_len pid=48086)\u001b[0m \n",
      "\u001b[2m\u001b[36m(compute_sliced_len pid=47861)\u001b[0m \n",
      "\u001b[2m\u001b[36m(apply_list_of_funcs pid=48109)\u001b[0m \n"
     ]
    },
    {
     "name": "stderr",
     "output_type": "stream",
     "text": [
      "\u001b[2m\u001b[36m(apply_list_of_funcs pid=48109)\u001b[0m \n"
     ]
    },
    {
     "name": "stdout",
     "output_type": "stream",
     "text": [
      "\u001b[2m\u001b[36m(apply_list_of_funcs pid=48113)\u001b[0m \n",
      "\u001b[2m\u001b[36m(apply_list_of_funcs pid=48087)\u001b[0m \n",
      "\u001b[2m\u001b[36m(apply_list_of_funcs pid=48113)\u001b[0m \n",
      "\u001b[2m\u001b[36m(apply_list_of_funcs pid=47861)\u001b[0m \n"
     ]
    },
    {
     "name": "stderr",
     "output_type": "stream",
     "text": [
      "\u001b[2m\u001b[36m(apply_list_of_funcs pid=48092)\u001b[0m \n"
     ]
    },
    {
     "name": "stdout",
     "output_type": "stream",
     "text": [
      "\u001b[2m\u001b[36m(apply_list_of_funcs pid=48092)\u001b[0m \n",
      "\u001b[2m\u001b[36m(apply_list_of_funcs pid=48109)\u001b[0m \n",
      "\u001b[2m\u001b[36m(compute_sliced_len pid=48035)\u001b[0m \n"
     ]
    },
    {
     "name": "stderr",
     "output_type": "stream",
     "text": [
      "\u001b[2m\u001b[36m(apply_list_of_funcs pid=47861)\u001b[0m \n"
     ]
    },
    {
     "name": "stdout",
     "output_type": "stream",
     "text": [
      "\u001b[2m\u001b[36m(apply_list_of_funcs pid=48035)\u001b[0m \n"
     ]
    },
    {
     "name": "stderr",
     "output_type": "stream",
     "text": [
      "\u001b[2m\u001b[36m(apply_list_of_funcs pid=48086)\u001b[0m \n"
     ]
    },
    {
     "name": "stdout",
     "output_type": "stream",
     "text": [
      "\u001b[2m\u001b[36m(apply_list_of_funcs pid=48117)\u001b[0m \n",
      "\u001b[2m\u001b[36m(compute_sliced_len pid=47861)\u001b[0m \n",
      "\u001b[2m\u001b[36m(compute_sliced_len pid=48109)\u001b[0m \n",
      "\u001b[2m\u001b[36m(apply_list_of_funcs pid=48087)\u001b[0m \n"
     ]
    },
    {
     "name": "stderr",
     "output_type": "stream",
     "text": [
      "\u001b[2m\u001b[36m(compute_sliced_len pid=48086)\u001b[0m \n"
     ]
    },
    {
     "name": "stdout",
     "output_type": "stream",
     "text": [
      "\u001b[2m\u001b[36m(compute_sliced_len pid=48069)\u001b[0m \n",
      "\u001b[2m\u001b[36m(compute_sliced_len pid=48109)\u001b[0m \n"
     ]
    },
    {
     "name": "stderr",
     "output_type": "stream",
     "text": [
      "\u001b[2m\u001b[36m(apply_list_of_funcs pid=47861)\u001b[0m \n"
     ]
    },
    {
     "name": "stdout",
     "output_type": "stream",
     "text": [
      "\u001b[2m\u001b[36m(apply_list_of_funcs pid=48092)\u001b[0m \n",
      "\u001b[2m\u001b[36m(apply_list_of_funcs pid=48069)\u001b[0m \n",
      "\u001b[2m\u001b[36m(apply_list_of_funcs pid=48086)\u001b[0m \n",
      "\u001b[2m\u001b[36m(apply_list_of_funcs pid=48086)\u001b[0m \n"
     ]
    },
    {
     "name": "stderr",
     "output_type": "stream",
     "text": [
      "\u001b[2m\u001b[36m(compute_sliced_len pid=48086)\u001b[0m \n"
     ]
    },
    {
     "name": "stdout",
     "output_type": "stream",
     "text": [
      "\u001b[2m\u001b[36m(compute_sliced_len pid=48117)\u001b[0m \n",
      "\u001b[2m\u001b[36m(compute_sliced_len pid=48086)\u001b[0m \n",
      "\u001b[2m\u001b[36m(compute_sliced_len pid=48109)\u001b[0m \n",
      "\u001b[2m\u001b[36m(apply_list_of_funcs pid=47861)\u001b[0m \n"
     ]
    },
    {
     "name": "stderr",
     "output_type": "stream",
     "text": [
      "\u001b[2m\u001b[36m(apply_list_of_funcs pid=48116)\u001b[0m \n"
     ]
    },
    {
     "name": "stdout",
     "output_type": "stream",
     "text": [
      "\u001b[2m\u001b[36m(compute_sliced_len pid=48109)\u001b[0m \n",
      "\u001b[2m\u001b[36m(compute_sliced_len pid=48113)\u001b[0m \n"
     ]
    },
    {
     "name": "stderr",
     "output_type": "stream",
     "text": [
      "\u001b[2m\u001b[36m(compute_sliced_len pid=47861)\u001b[0m \n"
     ]
    },
    {
     "name": "stdout",
     "output_type": "stream",
     "text": [
      "\u001b[2m\u001b[36m(apply_list_of_funcs pid=48092)\u001b[0m \n",
      "\u001b[2m\u001b[36m(apply_list_of_funcs pid=47861)\u001b[0m \n",
      "\u001b[2m\u001b[36m(compute_sliced_len pid=48117)\u001b[0m \n",
      "\u001b[2m\u001b[36m(compute_sliced_len pid=48035)\u001b[0m \n",
      "\u001b[2m\u001b[36m(compute_sliced_len pid=47861)\u001b[0m \n",
      "\u001b[2m\u001b[36m(apply_list_of_funcs pid=48035)\u001b[0m \n",
      "\u001b[2m\u001b[36m(compute_sliced_len pid=48035)\u001b[0m \n",
      "\u001b[2m\u001b[36m(apply_list_of_funcs pid=48113)\u001b[0m \n"
     ]
    },
    {
     "name": "stderr",
     "output_type": "stream",
     "text": [
      "\u001b[2m\u001b[36m(apply_list_of_funcs pid=47861)\u001b[0m \n",
      "\u001b[2m\u001b[36m(compute_sliced_len pid=48117)\u001b[0m \n"
     ]
    },
    {
     "name": "stdout",
     "output_type": "stream",
     "text": [
      "\u001b[2m\u001b[36m(compute_sliced_len pid=48035)\u001b[0m \n",
      "\u001b[2m\u001b[36m(compute_sliced_len pid=48109)\u001b[0m \n"
     ]
    },
    {
     "name": "stderr",
     "output_type": "stream",
     "text": [
      "\u001b[2m\u001b[36m(compute_sliced_len pid=48086)\u001b[0m \n"
     ]
    },
    {
     "name": "stdout",
     "output_type": "stream",
     "text": [
      "\u001b[2m\u001b[36m(compute_sliced_len pid=48116)\u001b[0m \n",
      "\u001b[2m\u001b[36m(apply_list_of_funcs pid=48086)\u001b[0m \n",
      "\u001b[2m\u001b[36m(apply_list_of_funcs pid=48117)\u001b[0m \n",
      "\u001b[2m\u001b[36m(apply_list_of_funcs pid=48109)\u001b[0m \n",
      "\u001b[2m\u001b[36m(compute_sliced_len pid=48035)\u001b[0m \n",
      "\u001b[2m\u001b[36m(apply_list_of_funcs pid=48116)\u001b[0m \n",
      "\u001b[2m\u001b[36m(apply_list_of_funcs pid=48109)\u001b[0m \n",
      "\u001b[2m\u001b[36m(apply_list_of_funcs pid=48069)\u001b[0m \n",
      "\u001b[2m\u001b[36m(compute_sliced_len pid=47861)\u001b[0m \n",
      "\u001b[2m\u001b[36m(apply_list_of_funcs pid=48109)\u001b[0m \n",
      "\u001b[2m\u001b[36m(apply_list_of_funcs pid=48069)\u001b[0m \n",
      "\u001b[2m\u001b[36m(apply_list_of_funcs pid=48035)\u001b[0m \n",
      "\u001b[2m\u001b[36m(apply_list_of_funcs pid=48113)\u001b[0m \n",
      "\u001b[2m\u001b[36m(apply_list_of_funcs pid=47861)\u001b[0m \n",
      "\u001b[2m\u001b[36m(apply_list_of_funcs pid=48092)\u001b[0m \n",
      "\u001b[2m\u001b[36m(apply_list_of_funcs pid=48109)\u001b[0m \n",
      "\u001b[2m\u001b[36m(apply_list_of_funcs pid=48109)\u001b[0m \n",
      "\u001b[2m\u001b[36m(compute_sliced_len pid=48116)\u001b[0m \n",
      "\u001b[2m\u001b[36m(compute_sliced_len pid=48113)\u001b[0m \n",
      "\u001b[2m\u001b[36m(apply_list_of_funcs pid=48298)\u001b[0m \n",
      "\u001b[2m\u001b[36m(apply_list_of_funcs pid=48298)\u001b[0m \n",
      "\u001b[2m\u001b[36m(compute_sliced_len pid=48109)\u001b[0m \n",
      "\u001b[2m\u001b[36m(apply_list_of_funcs pid=48303)\u001b[0m \n",
      "\u001b[2m\u001b[36m(compute_sliced_len pid=48116)\u001b[0m \n",
      "\u001b[2m\u001b[36m(compute_sliced_len pid=48298)\u001b[0m \n",
      "\u001b[2m\u001b[36m(compute_sliced_len pid=48109)\u001b[0m \n",
      "\u001b[2m\u001b[36m(apply_list_of_funcs pid=48087)\u001b[0m \n",
      "\u001b[2m\u001b[36m(apply_list_of_funcs pid=48303)\u001b[0m \n"
     ]
    },
    {
     "name": "stderr",
     "output_type": "stream",
     "text": [
      "\u001b[2m\u001b[36m(apply_list_of_funcs pid=48295)\u001b[0m \n"
     ]
    },
    {
     "name": "stdout",
     "output_type": "stream",
     "text": [
      "\u001b[2m\u001b[36m(compute_sliced_len pid=48113)\u001b[0m \n",
      "\u001b[2m\u001b[36m(apply_list_of_funcs pid=48299)\u001b[0m \n"
     ]
    },
    {
     "name": "stderr",
     "output_type": "stream",
     "text": [
      "\u001b[2m\u001b[36m(apply_list_of_funcs pid=48295)\u001b[0m \n"
     ]
    },
    {
     "name": "stdout",
     "output_type": "stream",
     "text": [
      "\u001b[2m\u001b[36m(compute_sliced_len pid=48109)\u001b[0m \n",
      "\u001b[2m\u001b[36m(compute_sliced_len pid=48116)\u001b[0m \n",
      "\u001b[2m\u001b[36m(apply_list_of_funcs pid=48299)\u001b[0m \n",
      "\u001b[2m\u001b[36m(compute_sliced_len pid=48294)\u001b[0m \n",
      "\u001b[2m\u001b[36m(apply_list_of_funcs pid=48295)\u001b[0m \n",
      "\u001b[2m\u001b[36m(apply_list_of_funcs pid=48302)\u001b[0m \n"
     ]
    },
    {
     "name": "stderr",
     "output_type": "stream",
     "text": [
      "\u001b[2m\u001b[36m(apply_list_of_funcs pid=48299)\u001b[0m \n"
     ]
    },
    {
     "name": "stdout",
     "output_type": "stream",
     "text": [
      "\u001b[2m\u001b[36m(apply_list_of_funcs pid=48307)\u001b[0m \n",
      "\u001b[2m\u001b[36m(apply_list_of_funcs pid=48307)\u001b[0m \n",
      "\u001b[2m\u001b[36m(apply_list_of_funcs pid=48109)\u001b[0m \n",
      "\u001b[2m\u001b[36m(compute_sliced_len pid=48299)\u001b[0m \n"
     ]
    },
    {
     "name": "stderr",
     "output_type": "stream",
     "text": [
      "\u001b[2m\u001b[36m(apply_list_of_funcs pid=48109)\u001b[0m \n"
     ]
    },
    {
     "name": "stdout",
     "output_type": "stream",
     "text": [
      "\u001b[2m\u001b[36m(compute_sliced_len pid=48109)\u001b[0m \n",
      "\u001b[2m\u001b[36m(apply_list_of_funcs pid=48294)\u001b[0m \n",
      "\u001b[2m\u001b[36m(apply_list_of_funcs pid=48299)\u001b[0m \n",
      "\u001b[2m\u001b[36m(apply_list_of_funcs pid=48116)\u001b[0m \n",
      "\u001b[2m\u001b[36m(apply_list_of_funcs pid=48308)\u001b[0m \n",
      "\u001b[2m\u001b[36m(compute_sliced_len pid=48109)\u001b[0m \n"
     ]
    },
    {
     "name": "stderr",
     "output_type": "stream",
     "text": [
      "\u001b[2m\u001b[36m(apply_list_of_funcs pid=48308)\u001b[0m \n"
     ]
    },
    {
     "name": "stdout",
     "output_type": "stream",
     "text": [
      "\u001b[2m\u001b[36m(apply_list_of_funcs pid=48116)\u001b[0m \n",
      "\u001b[2m\u001b[36m(compute_sliced_len pid=48087)\u001b[0m \n"
     ]
    },
    {
     "name": "stderr",
     "output_type": "stream",
     "text": [
      "\u001b[2m\u001b[36m(apply_list_of_funcs pid=48295)\u001b[0m \n"
     ]
    },
    {
     "name": "stdout",
     "output_type": "stream",
     "text": [
      "\u001b[2m\u001b[36m(apply_list_of_funcs pid=48299)\u001b[0m \n",
      "\u001b[2m\u001b[36m(apply_list_of_funcs pid=48302)\u001b[0m \n",
      "\u001b[2m\u001b[36m(compute_sliced_len pid=48303)\u001b[0m \n",
      "\u001b[2m\u001b[36m(apply_list_of_funcs pid=48308)\u001b[0m \n",
      "\u001b[2m\u001b[36m(apply_list_of_funcs pid=48315)\u001b[0m \n"
     ]
    },
    {
     "name": "stderr",
     "output_type": "stream",
     "text": [
      "\u001b[2m\u001b[36m(compute_sliced_len pid=48116)\u001b[0m \n",
      "\u001b[2m\u001b[36m(compute_sliced_len pid=48303)\u001b[0m \n"
     ]
    },
    {
     "name": "stdout",
     "output_type": "stream",
     "text": [
      "\u001b[2m\u001b[36m(compute_sliced_len pid=48308)\u001b[0m \n",
      "\u001b[2m\u001b[36m(apply_list_of_funcs pid=48299)\u001b[0m \n"
     ]
    },
    {
     "name": "stderr",
     "output_type": "stream",
     "text": [
      "\u001b[2m\u001b[36m(compute_sliced_len pid=48299)\u001b[0m \n",
      "\u001b[2m\u001b[36m(apply_list_of_funcs pid=48303)\u001b[0m \n"
     ]
    },
    {
     "name": "stdout",
     "output_type": "stream",
     "text": [
      "\u001b[2m\u001b[36m(apply_list_of_funcs pid=48087)\u001b[0m \n",
      "\u001b[2m\u001b[36m(apply_list_of_funcs pid=48109)\u001b[0m \n",
      "\u001b[2m\u001b[36m(apply_list_of_funcs pid=48308)\u001b[0m \n",
      "\u001b[2m\u001b[36m(compute_sliced_len pid=48315)\u001b[0m \n",
      "\u001b[2m\u001b[36m(apply_list_of_funcs pid=48321)\u001b[0m \n",
      "\u001b[2m\u001b[36m(apply_list_of_funcs pid=48295)\u001b[0m \n",
      "\u001b[2m\u001b[36m(apply_list_of_funcs pid=48320)\u001b[0m \n"
     ]
    },
    {
     "name": "stderr",
     "output_type": "stream",
     "text": [
      "\u001b[2m\u001b[36m(apply_list_of_funcs pid=48299)\u001b[0m \n"
     ]
    },
    {
     "name": "stdout",
     "output_type": "stream",
     "text": [
      "\u001b[2m\u001b[36m(apply_list_of_funcs pid=48303)\u001b[0m \n",
      "\u001b[2m\u001b[36m(apply_list_of_funcs pid=48087)\u001b[0m \n"
     ]
    },
    {
     "name": "stderr",
     "output_type": "stream",
     "text": [
      "\u001b[2m\u001b[36m(compute_sliced_len pid=48315)\u001b[0m \n"
     ]
    },
    {
     "name": "stdout",
     "output_type": "stream",
     "text": [
      "\u001b[2m\u001b[36m(apply_list_of_funcs pid=48315)\u001b[0m \n",
      "\u001b[2m\u001b[36m(compute_sliced_len pid=48087)\u001b[0m \n"
     ]
    },
    {
     "name": "stderr",
     "output_type": "stream",
     "text": [
      "\u001b[2m\u001b[36m(apply_list_of_funcs pid=48109)\u001b[0m \n"
     ]
    },
    {
     "name": "stdout",
     "output_type": "stream",
     "text": [
      "\u001b[2m\u001b[36m(compute_sliced_len pid=48308)\u001b[0m \n",
      "\u001b[2m\u001b[36m(compute_sliced_len pid=48299)\u001b[0m \n",
      "\u001b[2m\u001b[36m(apply_list_of_funcs pid=48295)\u001b[0m \n",
      "\u001b[2m\u001b[36m(apply_list_of_funcs pid=48295)\u001b[0m \n",
      "\u001b[2m\u001b[36m(apply_list_of_funcs pid=48320)\u001b[0m \n",
      "\u001b[2m\u001b[36m(compute_sliced_len pid=48295)\u001b[0m \n",
      "\u001b[2m\u001b[36m(apply_list_of_funcs pid=48116)\u001b[0m \n",
      "\u001b[2m\u001b[36m(apply_list_of_funcs pid=48116)\u001b[0m \n"
     ]
    },
    {
     "name": "stderr",
     "output_type": "stream",
     "text": [
      "\u001b[2m\u001b[36m(apply_list_of_funcs pid=48308)\u001b[0m \n"
     ]
    },
    {
     "name": "stdout",
     "output_type": "stream",
     "text": [
      "\u001b[2m\u001b[36m(apply_list_of_funcs pid=48308)\u001b[0m \n",
      "\u001b[2m\u001b[36m(apply_list_of_funcs pid=48109)\u001b[0m \n",
      "\u001b[2m\u001b[36m(apply_list_of_funcs pid=48325)\u001b[0m \n",
      "\u001b[2m\u001b[36m(apply_list_of_funcs pid=48325)\u001b[0m \n",
      "\u001b[2m\u001b[36m(compute_sliced_len pid=48308)\u001b[0m \n",
      "\u001b[2m\u001b[36m(apply_list_of_funcs pid=48320)\u001b[0m \n",
      "\u001b[2m\u001b[36m(apply_list_of_funcs pid=48109)\u001b[0m \n",
      "\u001b[2m\u001b[36m(apply_list_of_funcs pid=48303)\u001b[0m \n",
      "\u001b[2m\u001b[36m(apply_list_of_funcs pid=48325)\u001b[0m \n",
      "\u001b[2m\u001b[36m(apply_list_of_funcs pid=48326)\u001b[0m \n",
      "\u001b[2m\u001b[36m(compute_sliced_len pid=48087)\u001b[0m \n"
     ]
    },
    {
     "name": "stderr",
     "output_type": "stream",
     "text": [
      "\u001b[2m\u001b[36m(compute_sliced_len pid=48087)\u001b[0m \n"
     ]
    },
    {
     "name": "stdout",
     "output_type": "stream",
     "text": [
      "\u001b[2m\u001b[36m(compute_sliced_len pid=48299)\u001b[0m \n",
      "\u001b[2m\u001b[36m(apply_list_of_funcs pid=48295)\u001b[0m \n",
      "\u001b[2m\u001b[36m(apply_list_of_funcs pid=48295)\u001b[0m \n",
      "\u001b[2m\u001b[36m(compute_sliced_len pid=48320)\u001b[0m \n"
     ]
    },
    {
     "name": "stderr",
     "output_type": "stream",
     "text": [
      "\u001b[2m\u001b[36m(apply_list_of_funcs pid=48337)\u001b[0m \n"
     ]
    },
    {
     "name": "stdout",
     "output_type": "stream",
     "text": [
      "\u001b[2m\u001b[36m(apply_list_of_funcs pid=48337)\u001b[0m \n",
      "\u001b[2m\u001b[36m(apply_list_of_funcs pid=48087)\u001b[0m \n"
     ]
    },
    {
     "name": "stderr",
     "output_type": "stream",
     "text": [
      "\u001b[2m\u001b[36m(apply_list_of_funcs pid=48299)\u001b[0m \n"
     ]
    },
    {
     "name": "stdout",
     "output_type": "stream",
     "text": [
      "\u001b[2m\u001b[36m(compute_sliced_len pid=48325)\u001b[0m \n",
      "\u001b[2m\u001b[36m(apply_list_of_funcs pid=48325)\u001b[0m \n",
      "\u001b[2m\u001b[36m(compute_sliced_len pid=48116)\u001b[0m \n",
      "\u001b[2m\u001b[36m(compute_sliced_len pid=48337)\u001b[0m \n",
      "\u001b[2m\u001b[36m(apply_list_of_funcs pid=48295)\u001b[0m \n",
      "\u001b[2m\u001b[36m(apply_list_of_funcs pid=48340)\u001b[0m \n",
      "\u001b[2m\u001b[36m(compute_sliced_len pid=48295)\u001b[0m \n",
      "\u001b[2m\u001b[36m(apply_list_of_funcs pid=48325)\u001b[0m \n",
      "\u001b[2m\u001b[36m(compute_sliced_len pid=48116)\u001b[0m \n"
     ]
    },
    {
     "name": "stderr",
     "output_type": "stream",
     "text": [
      "\u001b[2m\u001b[36m(apply_list_of_funcs pid=48320)\u001b[0m \n"
     ]
    },
    {
     "name": "stdout",
     "output_type": "stream",
     "text": [
      "\u001b[2m\u001b[36m(compute_sliced_len pid=48116)\u001b[0m \n",
      "\u001b[2m\u001b[36m(apply_list_of_funcs pid=48087)\u001b[0m \n",
      "\u001b[2m\u001b[36m(compute_sliced_len pid=48320)\u001b[0m \n",
      "\u001b[2m\u001b[36m(apply_list_of_funcs pid=48320)\u001b[0m \n",
      "\u001b[2m\u001b[36m(apply_list_of_funcs pid=48087)\u001b[0m \n",
      "\u001b[2m\u001b[36m(compute_sliced_len pid=48295)\u001b[0m \n",
      "\u001b[2m\u001b[36m(apply_list_of_funcs pid=48116)\u001b[0m \n",
      "\u001b[2m\u001b[36m(compute_sliced_len pid=48326)\u001b[0m \n",
      "\u001b[2m\u001b[36m(apply_list_of_funcs pid=48308)\u001b[0m \n",
      "\u001b[2m\u001b[36m(compute_sliced_len pid=48087)\u001b[0m \n",
      "\u001b[2m\u001b[36m(apply_list_of_funcs pid=48116)\u001b[0m \n",
      "\u001b[2m\u001b[36m(apply_list_of_funcs pid=48295)\u001b[0m \n",
      "\u001b[2m\u001b[36m(apply_list_of_funcs pid=48325)\u001b[0m \n",
      "\u001b[2m\u001b[36m(apply_list_of_funcs pid=48340)\u001b[0m \n",
      "\u001b[2m\u001b[36m(apply_list_of_funcs pid=48326)\u001b[0m \n",
      "\u001b[2m\u001b[36m(compute_sliced_len pid=48087)\u001b[0m \n",
      "\u001b[2m\u001b[36m(compute_sliced_len pid=48087)\u001b[0m \n",
      "\u001b[2m\u001b[36m(compute_sliced_len pid=48087)\u001b[0m \n",
      "\u001b[2m\u001b[36m(compute_sliced_len pid=48325)\u001b[0m \n"
     ]
    },
    {
     "name": "stderr",
     "output_type": "stream",
     "text": [
      "\u001b[2m\u001b[36m(apply_list_of_funcs pid=48087)\u001b[0m \n"
     ]
    },
    {
     "name": "stdout",
     "output_type": "stream",
     "text": [
      "\u001b[2m\u001b[36m(apply_list_of_funcs pid=48087)\u001b[0m \n",
      "\u001b[2m\u001b[36m(compute_sliced_len pid=48340)\u001b[0m \n",
      "\u001b[2m\u001b[36m(apply_list_of_funcs pid=48326)\u001b[0m \n",
      "\u001b[2m\u001b[36m(compute_sliced_len pid=48325)\u001b[0m \n",
      "\u001b[2m\u001b[36m(apply_list_of_funcs pid=48116)\u001b[0m \n",
      "\u001b[2m\u001b[36m(apply_list_of_funcs pid=48337)\u001b[0m \n",
      "\u001b[2m\u001b[36m(apply_list_of_funcs pid=48116)\u001b[0m \n",
      "\u001b[2m\u001b[36m(compute_sliced_len pid=48087)\u001b[0m \n",
      "\u001b[2m\u001b[36m(apply_list_of_funcs pid=48295)\u001b[0m \n",
      "\u001b[2m\u001b[36m(compute_sliced_len pid=48295)\u001b[0m \n"
     ]
    },
    {
     "name": "stderr",
     "output_type": "stream",
     "text": [
      "\u001b[2m\u001b[36m(apply_list_of_funcs pid=48337)\u001b[0m \n",
      "\u001b[2m\u001b[36m(apply_list_of_funcs pid=48308)\u001b[0m \n"
     ]
    },
    {
     "name": "stdout",
     "output_type": "stream",
     "text": [
      "\u001b[2m\u001b[36m(apply_list_of_funcs pid=48326)\u001b[0m \n",
      "\u001b[2m\u001b[36m(apply_list_of_funcs pid=48116)\u001b[0m \n",
      "\u001b[2m\u001b[36m(apply_list_of_funcs pid=48087)\u001b[0m \n",
      "\u001b[2m\u001b[36m(compute_sliced_len pid=48087)\u001b[0m \n",
      "\u001b[2m\u001b[36m(apply_list_of_funcs pid=48326)\u001b[0m \n",
      "\u001b[2m\u001b[36m(apply_list_of_funcs pid=48308)\u001b[0m \n",
      "\u001b[2m\u001b[36m(apply_list_of_funcs pid=48337)\u001b[0m \n"
     ]
    },
    {
     "name": "stderr",
     "output_type": "stream",
     "text": [
      "\u001b[2m\u001b[36m(compute_sliced_len pid=48337)\u001b[0m \n"
     ]
    },
    {
     "name": "stdout",
     "output_type": "stream",
     "text": [
      "\u001b[2m\u001b[36m(compute_sliced_len pid=48087)\u001b[0m \n",
      "\u001b[2m\u001b[36m(apply_list_of_funcs pid=48320)\u001b[0m \n"
     ]
    },
    {
     "name": "stderr",
     "output_type": "stream",
     "text": [
      "\u001b[2m\u001b[36m(apply_list_of_funcs pid=48116)\u001b[0m \n"
     ]
    },
    {
     "name": "stdout",
     "output_type": "stream",
     "text": [
      "\u001b[2m\u001b[36m(apply_list_of_funcs pid=48337)\u001b[0m \n",
      "\u001b[2m\u001b[36m(apply_list_of_funcs pid=48299)\u001b[0m \n",
      "\u001b[2m\u001b[36m(compute_sliced_len pid=48295)\u001b[0m \n",
      "\u001b[2m\u001b[36m(apply_list_of_funcs pid=48337)\u001b[0m \n",
      "\u001b[2m\u001b[36m(apply_list_of_funcs pid=48340)\u001b[0m \n",
      "\u001b[2m\u001b[36m(compute_sliced_len pid=48087)\u001b[0m \n",
      "\u001b[2m\u001b[36m(apply_list_of_funcs pid=48326)\u001b[0m \n",
      "\u001b[2m\u001b[36m(apply_list_of_funcs pid=48337)\u001b[0m \n",
      "\u001b[2m\u001b[36m(apply_list_of_funcs pid=48320)\u001b[0m \n",
      "\u001b[2m\u001b[36m(compute_sliced_len pid=48308)\u001b[0m \n",
      "\u001b[2m\u001b[36m(compute_sliced_len pid=48325)\u001b[0m \n",
      "\u001b[2m\u001b[36m(apply_list_of_funcs pid=48320)\u001b[0m \n",
      "\u001b[2m\u001b[36m(apply_list_of_funcs pid=48337)\u001b[0m \n",
      "\u001b[2m\u001b[36m(compute_sliced_len pid=48371)\u001b[0m \n",
      "\u001b[2m\u001b[36m(apply_list_of_funcs pid=48299)\u001b[0m \n",
      "\u001b[2m\u001b[36m(apply_list_of_funcs pid=48337)\u001b[0m \n"
     ]
    },
    {
     "name": "stderr",
     "output_type": "stream",
     "text": [
      "\u001b[2m\u001b[36m(compute_sliced_len pid=48320)\u001b[0m \n"
     ]
    },
    {
     "name": "stdout",
     "output_type": "stream",
     "text": [
      "\u001b[2m\u001b[36m(apply_list_of_funcs pid=48116)\u001b[0m \n",
      "\u001b[2m\u001b[36m(apply_list_of_funcs pid=48320)\u001b[0m \n",
      "\u001b[2m\u001b[36m(compute_sliced_len pid=48087)\u001b[0m \n",
      "\u001b[2m\u001b[36m(apply_list_of_funcs pid=48308)\u001b[0m \n",
      "\u001b[2m\u001b[36m(compute_sliced_len pid=48308)\u001b[0m \n"
     ]
    },
    {
     "name": "stderr",
     "output_type": "stream",
     "text": [
      "\u001b[2m\u001b[36m(apply_list_of_funcs pid=48320)\u001b[0m \n"
     ]
    },
    {
     "name": "stdout",
     "output_type": "stream",
     "text": [
      "\u001b[2m\u001b[36m(compute_sliced_len pid=48325)\u001b[0m \n",
      "\u001b[2m\u001b[36m(compute_sliced_len pid=48326)\u001b[0m \n",
      "\u001b[2m\u001b[36m(compute_sliced_len pid=48308)\u001b[0m \n",
      "\u001b[2m\u001b[36m(compute_sliced_len pid=48371)\u001b[0m \n"
     ]
    },
    {
     "name": "stderr",
     "output_type": "stream",
     "text": [
      "\u001b[2m\u001b[36m(compute_sliced_len pid=48308)\u001b[0m \n"
     ]
    },
    {
     "name": "stdout",
     "output_type": "stream",
     "text": [
      "\u001b[2m\u001b[36m(apply_list_of_funcs pid=48116)\u001b[0m \n",
      "\u001b[2m\u001b[36m(apply_list_of_funcs pid=48326)\u001b[0m \n"
     ]
    },
    {
     "name": "stderr",
     "output_type": "stream",
     "text": [
      "\u001b[2m\u001b[36m(apply_list_of_funcs pid=48402)\u001b[0m \n"
     ]
    },
    {
     "name": "stdout",
     "output_type": "stream",
     "text": [
      "\u001b[2m\u001b[36m(apply_list_of_funcs pid=48371)\u001b[0m \n",
      "\u001b[2m\u001b[36m(apply_list_of_funcs pid=48320)\u001b[0m \n",
      "\u001b[2m\u001b[36m(apply_list_of_funcs pid=48299)\u001b[0m \n",
      "\u001b[2m\u001b[36m(apply_list_of_funcs pid=48371)\u001b[0m \n",
      "\u001b[2m\u001b[36m(apply_list_of_funcs pid=48087)\u001b[0m \n",
      "\u001b[2m\u001b[36m(apply_list_of_funcs pid=48299)\u001b[0m \n",
      "\u001b[2m\u001b[36m(compute_sliced_len pid=48405)\u001b[0m \n",
      "\u001b[2m\u001b[36m(apply_list_of_funcs pid=48371)\u001b[0m \n",
      "\u001b[2m\u001b[36m(apply_list_of_funcs pid=48320)\u001b[0m \n"
     ]
    },
    {
     "name": "stderr",
     "output_type": "stream",
     "text": [
      "\u001b[2m\u001b[36m(compute_sliced_len pid=48326)\u001b[0m \n",
      "\u001b[2m\u001b[36m(apply_list_of_funcs pid=48087)\u001b[0m \n"
     ]
    },
    {
     "name": "stdout",
     "output_type": "stream",
     "text": [
      "\u001b[2m\u001b[36m(compute_sliced_len pid=48326)\u001b[0m \n",
      "\u001b[2m\u001b[36m(compute_sliced_len pid=48382)\u001b[0m \n",
      "\u001b[2m\u001b[36m(compute_sliced_len pid=48382)\u001b[0m \n",
      "\u001b[2m\u001b[36m(apply_list_of_funcs pid=48087)\u001b[0m \n",
      "\u001b[2m\u001b[36m(compute_sliced_len pid=48408)\u001b[0m \n",
      "\u001b[2m\u001b[36m(apply_list_of_funcs pid=48405)\u001b[0m \n",
      "\u001b[2m\u001b[36m(apply_list_of_funcs pid=48408)\u001b[0m \n",
      "\u001b[2m\u001b[36m(compute_sliced_len pid=48320)\u001b[0m \n",
      "\u001b[2m\u001b[36m(apply_list_of_funcs pid=48087)\u001b[0m \n",
      "\u001b[2m\u001b[36m(apply_list_of_funcs pid=48299)\u001b[0m \n",
      "\u001b[2m\u001b[36m(apply_list_of_funcs pid=48405)\u001b[0m \n"
     ]
    },
    {
     "name": "stderr",
     "output_type": "stream",
     "text": [
      "\u001b[2m\u001b[36m(apply_list_of_funcs pid=48405)\u001b[0m \n"
     ]
    },
    {
     "name": "stdout",
     "output_type": "stream",
     "text": [
      "\u001b[2m\u001b[36m(compute_sliced_len pid=48326)\u001b[0m \n",
      "\u001b[2m\u001b[36m(apply_list_of_funcs pid=48320)\u001b[0m \n",
      "\u001b[2m\u001b[36m(apply_list_of_funcs pid=48382)\u001b[0m \n",
      "\u001b[2m\u001b[36m(apply_list_of_funcs pid=48299)\u001b[0m \n",
      "\u001b[2m\u001b[36m(apply_list_of_funcs pid=48326)\u001b[0m \n",
      "\u001b[2m\u001b[36m(apply_list_of_funcs pid=48382)\u001b[0m \n"
     ]
    },
    {
     "name": "stderr",
     "output_type": "stream",
     "text": [
      "\u001b[2m\u001b[36m(compute_sliced_len pid=48326)\u001b[0m \n",
      "\u001b[2m\u001b[36m(compute_sliced_len pid=48320)\u001b[0m \n"
     ]
    },
    {
     "name": "stdout",
     "output_type": "stream",
     "text": [
      "\u001b[2m\u001b[36m(compute_sliced_len pid=48326)\u001b[0m \n",
      "\u001b[2m\u001b[36m(apply_list_of_funcs pid=48371)\u001b[0m \n",
      "\u001b[2m\u001b[36m(apply_list_of_funcs pid=48299)\u001b[0m \n",
      "\u001b[2m\u001b[36m(apply_list_of_funcs pid=48326)\u001b[0m \n",
      "\u001b[2m\u001b[36m(compute_sliced_len pid=48408)\u001b[0m \n",
      "\u001b[2m\u001b[36m(compute_sliced_len pid=48382)\u001b[0m \n",
      "\u001b[2m\u001b[36m(compute_sliced_len pid=48326)\u001b[0m \n",
      "\u001b[2m\u001b[36m(apply_list_of_funcs pid=48455)\u001b[0m \n",
      "\u001b[2m\u001b[36m(compute_sliced_len pid=48382)\u001b[0m \n",
      "\u001b[2m\u001b[36m(compute_sliced_len pid=48371)\u001b[0m \n"
     ]
    },
    {
     "name": "stderr",
     "output_type": "stream",
     "text": [
      "\u001b[2m\u001b[36m(compute_sliced_len pid=48326)\u001b[0m \n"
     ]
    },
    {
     "name": "stdout",
     "output_type": "stream",
     "text": [
      "\u001b[2m\u001b[36m(apply_list_of_funcs pid=48308)\u001b[0m \n",
      "\u001b[2m\u001b[36m(apply_list_of_funcs pid=48087)\u001b[0m \n"
     ]
    },
    {
     "name": "stderr",
     "output_type": "stream",
     "text": [
      "\u001b[2m\u001b[36m(apply_list_of_funcs pid=48326)\u001b[0m \n"
     ]
    },
    {
     "name": "stdout",
     "output_type": "stream",
     "text": [
      "\u001b[2m\u001b[36m(apply_list_of_funcs pid=48320)\u001b[0m \n",
      "\u001b[2m\u001b[36m(apply_list_of_funcs pid=48455)\u001b[0m \n",
      "\u001b[2m\u001b[36m(apply_list_of_funcs pid=48371)\u001b[0m \n",
      "\u001b[2m\u001b[36m(compute_sliced_len pid=48308)\u001b[0m \n",
      "\u001b[2m\u001b[36m(compute_sliced_len pid=48087)\u001b[0m \n",
      "\u001b[2m\u001b[36m(apply_list_of_funcs pid=48326)\u001b[0m \n",
      "\u001b[2m\u001b[36m(apply_list_of_funcs pid=48382)\u001b[0m \n"
     ]
    },
    {
     "name": "stderr",
     "output_type": "stream",
     "text": [
      "\u001b[2m\u001b[36m(apply_list_of_funcs pid=48320)\u001b[0m \n"
     ]
    },
    {
     "name": "stdout",
     "output_type": "stream",
     "text": [
      "\u001b[2m\u001b[36m(apply_list_of_funcs pid=48408)\u001b[0m \n",
      "\u001b[2m\u001b[36m(compute_sliced_len pid=48371)\u001b[0m \n"
     ]
    },
    {
     "name": "stderr",
     "output_type": "stream",
     "text": [
      "\u001b[2m\u001b[36m(apply_list_of_funcs pid=48299)\u001b[0m \n"
     ]
    },
    {
     "name": "stdout",
     "output_type": "stream",
     "text": [
      "\u001b[2m\u001b[36m(apply_list_of_funcs pid=48402)\u001b[0m \n"
     ]
    },
    {
     "name": "stderr",
     "output_type": "stream",
     "text": [
      "\u001b[2m\u001b[36m(apply_list_of_funcs pid=48402)\u001b[0m \n"
     ]
    },
    {
     "name": "stdout",
     "output_type": "stream",
     "text": [
      "\u001b[2m\u001b[36m(compute_sliced_len pid=48465)\u001b[0m \n",
      "\u001b[2m\u001b[36m(compute_sliced_len pid=48408)\u001b[0m \n"
     ]
    },
    {
     "name": "stderr",
     "output_type": "stream",
     "text": [
      "\u001b[2m\u001b[36m(apply_list_of_funcs pid=48465)\u001b[0m \n"
     ]
    },
    {
     "name": "stdout",
     "output_type": "stream",
     "text": [
      "\u001b[2m\u001b[36m(apply_list_of_funcs pid=48455)\u001b[0m \n",
      "\u001b[2m\u001b[36m(apply_list_of_funcs pid=48465)\u001b[0m \n"
     ]
    },
    {
     "name": "stderr",
     "output_type": "stream",
     "text": [
      "\u001b[2m\u001b[36m(apply_list_of_funcs pid=48464)\u001b[0m \n"
     ]
    },
    {
     "name": "stdout",
     "output_type": "stream",
     "text": [
      "\u001b[2m\u001b[36m(apply_list_of_funcs pid=48465)\u001b[0m \n"
     ]
    },
    {
     "name": "stderr",
     "output_type": "stream",
     "text": [
      "\u001b[2m\u001b[36m(compute_sliced_len pid=48465)\u001b[0m \n"
     ]
    },
    {
     "name": "stdout",
     "output_type": "stream",
     "text": [
      "\u001b[2m\u001b[36m(apply_list_of_funcs pid=48465)\u001b[0m \n",
      "\u001b[2m\u001b[36m(apply_list_of_funcs pid=48299)\u001b[0m \n",
      "\u001b[2m\u001b[36m(apply_list_of_funcs pid=48408)\u001b[0m \n",
      "\u001b[2m\u001b[36m(apply_list_of_funcs pid=48402)\u001b[0m \n"
     ]
    },
    {
     "name": "stderr",
     "output_type": "stream",
     "text": [
      "\u001b[2m\u001b[36m(apply_list_of_funcs pid=48320)\u001b[0m \n"
     ]
    },
    {
     "name": "stdout",
     "output_type": "stream",
     "text": [
      "\u001b[2m\u001b[36m(apply_list_of_funcs pid=48308)\u001b[0m \n"
     ]
    }
   ],
   "source": [
    "data_to_send = dict()\n",
    "for ts in stream_df['timestamp'].unique():\n",
    "    curr_data = stream_df[stream_df['timestamp'] == ts]\n",
    "    data_to_send[ts] = curr_data"
   ]
  },
  {
   "cell_type": "code",
   "execution_count": 36,
   "id": "07d1f371",
   "metadata": {},
   "outputs": [],
   "source": [
    "def simulate(scheduler, updater, data, feature_update_cadence, num_process):\n",
    "    ts_range = sorted(data.keys())\n",
    "    #ts = df['timestamp'].min()\n",
    "    #end_ts = df['timestamp'].max()\n",
    "    \n",
    "    predictions = []\n",
    "    next_feature_update_time = ts_range[0] + feature_update_cadence\n",
    "    num_updates = 0\n",
    "    num_processed = 0\n",
    "    \n",
    "    for ts in ts_range:\n",
    "        curr_data = data[ts]\n",
    "        #print(curr_data)\n",
    "        #print(num_processed)\n",
    "        for row in curr_data.itertuples():\n",
    "            scheduler.push(row)\n",
    "            predictions.append(updater.predict(row))\n",
    "        num_processed += len(curr_data)\n",
    "        if ts >= next_feature_update_time:\n",
    "            # how many records to process\n",
    "            for i in range(num_process):\n",
    "                row = scheduler.pop()\n",
    "                if row:\n",
    "                    updater.update(row)\n",
    "                    num_updates += 1\n",
    "            next_feature_update_time += feature_update_cadence\n",
    "    '''\n",
    "    while ts <= end_ts:\n",
    "        # stream in data\n",
    "        curr_data = df[df['timestamp'] == ts]\n",
    "        \n",
    "        if (num_processed + len(curr_data)) // 10 > num_processed // 10:\n",
    "            print(num_processed)\n",
    "        \n",
    "        for row in curr_data.itertuples():\n",
    "            scheduler.push(row)\n",
    "            predictions.append(updater.predict(row))\n",
    "        \n",
    "        num_processed += len(curr_data)\n",
    "        \n",
    "        if ts == next_feature_update_time:\n",
    "            # how many records to process\n",
    "            for i in range(num_process):\n",
    "                row = scheduler.pop()\n",
    "                if row:\n",
    "                    updater.update(row)\n",
    "                    num_updates += 1\n",
    "            next_feature_update_time += feature_update_cadence\n",
    "             \n",
    "        ts += 1\n",
    "    '''\n",
    "    print(num_updates)\n",
    "    return predictions\n",
    "    "
   ]
  },
  {
   "cell_type": "code",
   "execution_count": 37,
   "id": "6fafbf67",
   "metadata": {},
   "outputs": [
    {
     "ename": "NameError",
     "evalue": "name 'FIFOScheduler' is not defined",
     "output_type": "error",
     "traceback": [
      "\u001b[0;31m---------------------------------------------------------------------------\u001b[0m",
      "\u001b[0;31mNameError\u001b[0m                                 Traceback (most recent call last)",
      "\u001b[0;32m/var/folders/p5/zwk89rgd0cdf07_7k1wdqjgw0000gn/T/ipykernel_55425/1674436372.py\u001b[0m in \u001b[0;36m<module>\u001b[0;34m\u001b[0m\n\u001b[0;32m----> 1\u001b[0;31m \u001b[0msched\u001b[0m \u001b[0;34m=\u001b[0m \u001b[0mFIFOScheduler\u001b[0m\u001b[0;34m(\u001b[0m\u001b[0;34m)\u001b[0m\u001b[0;34m\u001b[0m\u001b[0;34m\u001b[0m\u001b[0m\n\u001b[0m\u001b[1;32m      2\u001b[0m \u001b[0mupdater\u001b[0m \u001b[0;34m=\u001b[0m \u001b[0mSGDUpdater\u001b[0m\u001b[0;34m(\u001b[0m\u001b[0muser_features\u001b[0m\u001b[0;34m,\u001b[0m \u001b[0mproduct_features\u001b[0m\u001b[0;34m,\u001b[0m \u001b[0;36m.02\u001b[0m\u001b[0;34m,\u001b[0m \u001b[0;36m.01\u001b[0m\u001b[0;34m,\u001b[0m \u001b[0;36m.01\u001b[0m\u001b[0;34m)\u001b[0m\u001b[0;34m\u001b[0m\u001b[0;34m\u001b[0m\u001b[0m\n\u001b[1;32m      3\u001b[0m \u001b[0;34m\u001b[0m\u001b[0m\n\u001b[1;32m      4\u001b[0m \u001b[0;32mimport\u001b[0m \u001b[0mtime\u001b[0m\u001b[0;34m\u001b[0m\u001b[0;34m\u001b[0m\u001b[0m\n\u001b[1;32m      5\u001b[0m \u001b[0mcurr\u001b[0m \u001b[0;34m=\u001b[0m \u001b[0mtime\u001b[0m\u001b[0;34m.\u001b[0m\u001b[0mtime\u001b[0m\u001b[0;34m(\u001b[0m\u001b[0;34m)\u001b[0m\u001b[0;34m\u001b[0m\u001b[0;34m\u001b[0m\u001b[0m\n",
      "\u001b[0;31mNameError\u001b[0m: name 'FIFOScheduler' is not defined"
     ]
    }
   ],
   "source": [
    "sched = FIFOScheduler()\n",
    "updater = SGDUpdater(user_features, product_features, .02, .01, .01)\n",
    "\n",
    "import time\n",
    "curr = time.time()\n",
    "predictions = simulate(sched, updater, data_to_send, 100, 10)\n",
    "print(time.time - curr)\n",
    "\n"
   ]
  },
  {
   "cell_type": "code",
   "execution_count": 61,
   "id": "943bc31c",
   "metadata": {
    "collapsed": true
   },
   "outputs": [
    {
     "data": {
      "text/html": [
       "<div>\n",
       "<style scoped>\n",
       "    .dataframe tbody tr th:only-of-type {\n",
       "        vertical-align: middle;\n",
       "    }\n",
       "\n",
       "    .dataframe tbody tr th {\n",
       "        vertical-align: top;\n",
       "    }\n",
       "\n",
       "    .dataframe thead th {\n",
       "        text-align: right;\n",
       "    }\n",
       "</style>\n",
       "<table border=\"1\" class=\"dataframe\">\n",
       "  <thead>\n",
       "    <tr style=\"text-align: right;\">\n",
       "      <th></th>\n",
       "      <th>user_id</th>\n",
       "      <th>movie_id</th>\n",
       "      <th>rating</th>\n",
       "      <th>timestamp</th>\n",
       "      <th>prediction</th>\n",
       "      <th>predictions</th>\n",
       "    </tr>\n",
       "  </thead>\n",
       "  <tbody>\n",
       "    <tr>\n",
       "      <th>3</th>\n",
       "      <td>3970</td>\n",
       "      <td>2890</td>\n",
       "      <td>4</td>\n",
       "      <td>973018153</td>\n",
       "      <td>3.356627</td>\n",
       "      <td>3.393901</td>\n",
       "    </tr>\n",
       "    <tr>\n",
       "      <th>171</th>\n",
       "      <td>2784</td>\n",
       "      <td>608</td>\n",
       "      <td>5</td>\n",
       "      <td>973021691</td>\n",
       "      <td>3.547614</td>\n",
       "      <td>3.793208</td>\n",
       "    </tr>\n",
       "    <tr>\n",
       "      <th>172</th>\n",
       "      <td>2784</td>\n",
       "      <td>1259</td>\n",
       "      <td>5</td>\n",
       "      <td>973021691</td>\n",
       "      <td>3.576579</td>\n",
       "      <td>3.807878</td>\n",
       "    </tr>\n",
       "    <tr>\n",
       "      <th>173</th>\n",
       "      <td>2784</td>\n",
       "      <td>2858</td>\n",
       "      <td>5</td>\n",
       "      <td>973021691</td>\n",
       "      <td>3.750439</td>\n",
       "      <td>4.001544</td>\n",
       "    </tr>\n",
       "    <tr>\n",
       "      <th>200</th>\n",
       "      <td>2784</td>\n",
       "      <td>3408</td>\n",
       "      <td>3</td>\n",
       "      <td>973021816</td>\n",
       "      <td>3.410957</td>\n",
       "      <td>3.661493</td>\n",
       "    </tr>\n",
       "    <tr>\n",
       "      <th>...</th>\n",
       "      <td>...</td>\n",
       "      <td>...</td>\n",
       "      <td>...</td>\n",
       "      <td>...</td>\n",
       "      <td>...</td>\n",
       "      <td>...</td>\n",
       "    </tr>\n",
       "    <tr>\n",
       "      <th>500099</th>\n",
       "      <td>4958</td>\n",
       "      <td>2399</td>\n",
       "      <td>1</td>\n",
       "      <td>1046454338</td>\n",
       "      <td>2.397113</td>\n",
       "      <td>2.297596</td>\n",
       "    </tr>\n",
       "    <tr>\n",
       "      <th>500100</th>\n",
       "      <td>4958</td>\n",
       "      <td>1407</td>\n",
       "      <td>5</td>\n",
       "      <td>1046454443</td>\n",
       "      <td>3.179136</td>\n",
       "      <td>2.916980</td>\n",
       "    </tr>\n",
       "    <tr>\n",
       "      <th>500101</th>\n",
       "      <td>4958</td>\n",
       "      <td>3264</td>\n",
       "      <td>4</td>\n",
       "      <td>1046454548</td>\n",
       "      <td>2.845697</td>\n",
       "      <td>3.169769</td>\n",
       "    </tr>\n",
       "    <tr>\n",
       "      <th>500102</th>\n",
       "      <td>4958</td>\n",
       "      <td>2634</td>\n",
       "      <td>3</td>\n",
       "      <td>1046454548</td>\n",
       "      <td>2.887716</td>\n",
       "      <td>2.812283</td>\n",
       "    </tr>\n",
       "    <tr>\n",
       "      <th>500103</th>\n",
       "      <td>4958</td>\n",
       "      <td>1924</td>\n",
       "      <td>4</td>\n",
       "      <td>1046454590</td>\n",
       "      <td>2.307750</td>\n",
       "      <td>2.248052</td>\n",
       "    </tr>\n",
       "  </tbody>\n",
       "</table>\n",
       "<p>47595 rows x 6 columns</p>\n",
       "</div>"
      ],
      "text/plain": [
       "        user_id  movie_id  rating   timestamp  prediction  predictions\n",
       "3          3970      2890       4   973018153    3.356627     3.393901\n",
       "171        2784       608       5   973021691    3.547614     3.793208\n",
       "172        2784      1259       5   973021691    3.576579     3.807878\n",
       "173        2784      2858       5   973021691    3.750439     4.001544\n",
       "200        2784      3408       3   973021816    3.410957     3.661493\n",
       "...         ...       ...     ...         ...         ...          ...\n",
       "500099     4958      2399       1  1046454338    2.397113     2.297596\n",
       "500100     4958      1407       5  1046454443    3.179136     2.916980\n",
       "500101     4958      3264       4  1046454548    2.845697     3.169769\n",
       "500102     4958      2634       3  1046454548    2.887716     2.812283\n",
       "500103     4958      1924       4  1046454590    2.307750     2.248052\n",
       "\n",
       "[47595 rows x 6 columns]"
      ]
     },
     "execution_count": 61,
     "metadata": {},
     "output_type": "execute_result"
    }
   ],
   "source": [
    "stream_df['sgd_predictions'] = predictions\n"
   ]
  },
  {
   "cell_type": "code",
   "execution_count": 71,
   "id": "aa03b406",
   "metadata": {},
   "outputs": [],
   "source": [
    "stream_df.rename(columns={'predictions': 'sgd_predictions'},inplace=True)"
   ]
  },
  {
   "cell_type": "code",
   "execution_count": 72,
   "id": "e0a368f1",
   "metadata": {
    "collapsed": true
   },
   "outputs": [
    {
     "data": {
      "text/html": [
       "<div>\n",
       "<style scoped>\n",
       "    .dataframe tbody tr th:only-of-type {\n",
       "        vertical-align: middle;\n",
       "    }\n",
       "\n",
       "    .dataframe tbody tr th {\n",
       "        vertical-align: top;\n",
       "    }\n",
       "\n",
       "    .dataframe thead th {\n",
       "        text-align: right;\n",
       "    }\n",
       "</style>\n",
       "<table border=\"1\" class=\"dataframe\">\n",
       "  <thead>\n",
       "    <tr style=\"text-align: right;\">\n",
       "      <th></th>\n",
       "      <th>user_id</th>\n",
       "      <th>movie_id</th>\n",
       "      <th>rating</th>\n",
       "      <th>timestamp</th>\n",
       "      <th>pre_train_predictions</th>\n",
       "      <th>sgd_predictions</th>\n",
       "    </tr>\n",
       "  </thead>\n",
       "  <tbody>\n",
       "    <tr>\n",
       "      <th>0</th>\n",
       "      <td>2783</td>\n",
       "      <td>1396</td>\n",
       "      <td>4</td>\n",
       "      <td>973018024</td>\n",
       "      <td>3.562985</td>\n",
       "      <td>3.562985</td>\n",
       "    </tr>\n",
       "    <tr>\n",
       "      <th>1</th>\n",
       "      <td>2783</td>\n",
       "      <td>2901</td>\n",
       "      <td>5</td>\n",
       "      <td>973018024</td>\n",
       "      <td>3.113821</td>\n",
       "      <td>3.113821</td>\n",
       "    </tr>\n",
       "    <tr>\n",
       "      <th>2</th>\n",
       "      <td>3970</td>\n",
       "      <td>3408</td>\n",
       "      <td>4</td>\n",
       "      <td>973018130</td>\n",
       "      <td>3.480977</td>\n",
       "      <td>3.480977</td>\n",
       "    </tr>\n",
       "    <tr>\n",
       "      <th>3</th>\n",
       "      <td>3970</td>\n",
       "      <td>2890</td>\n",
       "      <td>4</td>\n",
       "      <td>973018153</td>\n",
       "      <td>3.356627</td>\n",
       "      <td>3.393901</td>\n",
       "    </tr>\n",
       "    <tr>\n",
       "      <th>4</th>\n",
       "      <td>2782</td>\n",
       "      <td>2580</td>\n",
       "      <td>4</td>\n",
       "      <td>973018637</td>\n",
       "      <td>-1.000000</td>\n",
       "      <td>-1.000000</td>\n",
       "    </tr>\n",
       "    <tr>\n",
       "      <th>...</th>\n",
       "      <td>...</td>\n",
       "      <td>...</td>\n",
       "      <td>...</td>\n",
       "      <td>...</td>\n",
       "      <td>...</td>\n",
       "      <td>...</td>\n",
       "    </tr>\n",
       "    <tr>\n",
       "      <th>500099</th>\n",
       "      <td>4958</td>\n",
       "      <td>2399</td>\n",
       "      <td>1</td>\n",
       "      <td>1046454338</td>\n",
       "      <td>2.397113</td>\n",
       "      <td>2.297596</td>\n",
       "    </tr>\n",
       "    <tr>\n",
       "      <th>500100</th>\n",
       "      <td>4958</td>\n",
       "      <td>1407</td>\n",
       "      <td>5</td>\n",
       "      <td>1046454443</td>\n",
       "      <td>3.179136</td>\n",
       "      <td>2.916980</td>\n",
       "    </tr>\n",
       "    <tr>\n",
       "      <th>500101</th>\n",
       "      <td>4958</td>\n",
       "      <td>3264</td>\n",
       "      <td>4</td>\n",
       "      <td>1046454548</td>\n",
       "      <td>2.845697</td>\n",
       "      <td>3.169769</td>\n",
       "    </tr>\n",
       "    <tr>\n",
       "      <th>500102</th>\n",
       "      <td>4958</td>\n",
       "      <td>2634</td>\n",
       "      <td>3</td>\n",
       "      <td>1046454548</td>\n",
       "      <td>2.887716</td>\n",
       "      <td>2.812283</td>\n",
       "    </tr>\n",
       "    <tr>\n",
       "      <th>500103</th>\n",
       "      <td>4958</td>\n",
       "      <td>1924</td>\n",
       "      <td>4</td>\n",
       "      <td>1046454590</td>\n",
       "      <td>2.307750</td>\n",
       "      <td>2.248052</td>\n",
       "    </tr>\n",
       "  </tbody>\n",
       "</table>\n",
       "<p>500104 rows x 6 columns</p>\n",
       "</div>"
      ],
      "text/plain": [
       "        user_id  movie_id  rating   timestamp  pre_train_predictions  \\\n",
       "0          2783      1396       4   973018024               3.562985   \n",
       "1          2783      2901       5   973018024               3.113821   \n",
       "2          3970      3408       4   973018130               3.480977   \n",
       "3          3970      2890       4   973018153               3.356627   \n",
       "4          2782      2580       4   973018637              -1.000000   \n",
       "...         ...       ...     ...         ...                    ...   \n",
       "500099     4958      2399       1  1046454338               2.397113   \n",
       "500100     4958      1407       5  1046454443               3.179136   \n",
       "500101     4958      3264       4  1046454548               2.845697   \n",
       "500102     4958      2634       3  1046454548               2.887716   \n",
       "500103     4958      1924       4  1046454590               2.307750   \n",
       "\n",
       "        sgd_predictions  \n",
       "0              3.562985  \n",
       "1              3.113821  \n",
       "2              3.480977  \n",
       "3              3.393901  \n",
       "4             -1.000000  \n",
       "...                 ...  \n",
       "500099         2.297596  \n",
       "500100         2.916980  \n",
       "500101         3.169769  \n",
       "500102         2.812283  \n",
       "500103         2.248052  \n",
       "\n",
       "[500104 rows x 6 columns]"
      ]
     },
     "execution_count": 72,
     "metadata": {},
     "output_type": "execute_result"
    },
    {
     "name": "stderr",
     "output_type": "stream",
     "text": [
      "22/03/15 20:42:43 WARN TransportChannelHandler: Exception in connection from amits-mbp.lan/192.168.86.27:64225\n",
      "java.io.IOException: Operation timed out\n",
      "\tat java.base/sun.nio.ch.FileDispatcherImpl.read0(Native Method)\n",
      "\tat java.base/sun.nio.ch.SocketDispatcher.read(SocketDispatcher.java:39)\n",
      "\tat java.base/sun.nio.ch.IOUtil.readIntoNativeBuffer(IOUtil.java:276)\n",
      "\tat java.base/sun.nio.ch.IOUtil.read(IOUtil.java:233)\n",
      "\tat java.base/sun.nio.ch.IOUtil.read(IOUtil.java:223)\n",
      "\tat java.base/sun.nio.ch.SocketChannelImpl.read(SocketChannelImpl.java:356)\n",
      "\tat io.netty.buffer.PooledByteBuf.setBytes(PooledByteBuf.java:253)\n",
      "\tat io.netty.buffer.AbstractByteBuf.writeBytes(AbstractByteBuf.java:1132)\n",
      "\tat io.netty.channel.socket.nio.NioSocketChannel.doReadBytes(NioSocketChannel.java:350)\n",
      "\tat io.netty.channel.nio.AbstractNioByteChannel$NioByteUnsafe.read(AbstractNioByteChannel.java:151)\n",
      "\tat io.netty.channel.nio.NioEventLoop.processSelectedKey(NioEventLoop.java:719)\n",
      "\tat io.netty.channel.nio.NioEventLoop.processSelectedKeysOptimized(NioEventLoop.java:655)\n",
      "\tat io.netty.channel.nio.NioEventLoop.processSelectedKeys(NioEventLoop.java:581)\n",
      "\tat io.netty.channel.nio.NioEventLoop.run(NioEventLoop.java:493)\n",
      "\tat io.netty.util.concurrent.SingleThreadEventExecutor$4.run(SingleThreadEventExecutor.java:986)\n",
      "\tat io.netty.util.internal.ThreadExecutorMap$2.run(ThreadExecutorMap.java:74)\n",
      "\tat io.netty.util.concurrent.FastThreadLocalRunnable.run(FastThreadLocalRunnable.java:30)\n",
      "\tat java.base/java.lang.Thread.run(Thread.java:829)\n"
     ]
    }
   ],
   "source": [
    "stream_df"
   ]
  }
 ],
 "metadata": {
  "kernelspec": {
   "display_name": "Python 3",
   "language": "python",
   "name": "python3"
  },
  "language_info": {
   "codemirror_mode": {
    "name": "ipython",
    "version": 3
   },
   "file_extension": ".py",
   "mimetype": "text/x-python",
   "name": "python",
   "nbconvert_exporter": "python",
   "pygments_lexer": "ipython3",
   "version": "3.6.13"
  }
 },
 "nbformat": 4,
 "nbformat_minor": 5
}
