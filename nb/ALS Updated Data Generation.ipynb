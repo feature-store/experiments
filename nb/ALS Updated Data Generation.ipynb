{
 "cells": [
  {
   "cell_type": "code",
<<<<<<< HEAD
   "execution_count": 2,
=======
   "execution_count": null,
>>>>>>> sigmod-experiments
   "id": "8c670793",
   "metadata": {},
   "outputs": [],
   "source": [
    "import pandas as pd\n",
    "from pyspark.sql import SparkSession\n",
    "from pyspark.ml.evaluation import RegressionEvaluator\n",
    "from pyspark.ml.recommendation import ALS\n",
    "\n",
    "import pandas as pd, numpy as np, matplotlib.pyplot as plt\n",
    "\n",
    "import sys \n",
    "sys.path.insert(1, \"../\")\n",
    "from workloads.util import use_results, use_dataset, read_config, log_dataset\n",
    "\n",
    "%load_ext autoreload\n",
    "%autoreload 2"
   ]
  },
  {
   "cell_type": "code",
<<<<<<< HEAD
   "execution_count": 11,
   "id": "40d484db",
   "metadata": {},
   "outputs": [
    {
     "name": "stdout",
     "output_type": "stream",
     "text": [
      "/data/wooders/ralf-vldb//datasets/ml-latest-small\n"
     ]
    }
   ],
=======
   "execution_count": null,
   "id": "40d484db",
   "metadata": {},
   "outputs": [],
>>>>>>> sigmod-experiments
   "source": [
    "dataset_dir = use_dataset(\"ml-latest-small\")"
   ]
  },
  {
   "cell_type": "code",
<<<<<<< HEAD
   "execution_count": 12,
=======
   "execution_count": null,
>>>>>>> sigmod-experiments
   "id": "0f1b5d11",
   "metadata": {},
   "outputs": [],
   "source": [
    "ratings_path = f\"{dataset_dir}/ratings.csv\"\n",
    "tags_path = f\"{dataset_dir}/tags.csv\" \n",
    "movies_path = f\"{dataset_dir}/movies.csv\""
   ]
  },
  {
   "cell_type": "code",
<<<<<<< HEAD
   "execution_count": 34,
=======
   "execution_count": null,
>>>>>>> sigmod-experiments
   "id": "4c0c1cc4",
   "metadata": {},
   "outputs": [],
   "source": [
    "tags = pd.read_csv(tags_path)\n",
    "tags.columns = ['user_id', 'movie_id', 'tag', 'timestamp']\n",
    "ratings = pd.read_csv(ratings_path)\n",
    "ratings.columns = ['user_id', 'movie_id', 'rating', 'timestamp']\n",
    "movies = pd.read_csv(movies_path)\n",
    "movies.columns = ['movie_id', 'title', 'genres']"
   ]
  },
  {
   "cell_type": "code",
<<<<<<< HEAD
   "execution_count": 73,
   "id": "d1182f4f",
   "metadata": {},
   "outputs": [
    {
     "name": "stdout",
     "output_type": "stream",
     "text": [
      "/data/wooders/ralf-vldb//datasets/ml-25m\n"
     ]
    },
    {
     "data": {
      "text/html": [
       "<div>\n",
       "<style scoped>\n",
       "    .dataframe tbody tr th:only-of-type {\n",
       "        vertical-align: middle;\n",
       "    }\n",
       "\n",
       "    .dataframe tbody tr th {\n",
       "        vertical-align: top;\n",
       "    }\n",
       "\n",
       "    .dataframe thead th {\n",
       "        text-align: right;\n",
       "    }\n",
       "</style>\n",
       "<table border=\"1\" class=\"dataframe\">\n",
       "  <thead>\n",
       "    <tr style=\"text-align: right;\">\n",
       "      <th></th>\n",
       "      <th>Unnamed: 0</th>\n",
       "      <th>user_id</th>\n",
       "      <th>movie_id</th>\n",
       "      <th>rating</th>\n",
       "      <th>timestamp</th>\n",
       "    </tr>\n",
       "  </thead>\n",
       "  <tbody>\n",
       "    <tr>\n",
       "      <th>0</th>\n",
       "      <td>6132</td>\n",
       "      <td>42</td>\n",
       "      <td>2424</td>\n",
       "      <td>4.0</td>\n",
       "      <td>81</td>\n",
       "    </tr>\n",
       "    <tr>\n",
       "      <th>1</th>\n",
       "      <td>38927</td>\n",
       "      <td>268</td>\n",
       "      <td>1093</td>\n",
       "      <td>1.0</td>\n",
       "      <td>81</td>\n",
       "    </tr>\n",
       "    <tr>\n",
       "      <th>2</th>\n",
       "      <td>31275</td>\n",
       "      <td>217</td>\n",
       "      <td>2231</td>\n",
       "      <td>4.0</td>\n",
       "      <td>81</td>\n",
       "    </tr>\n",
       "    <tr>\n",
       "      <th>3</th>\n",
       "      <td>80503</td>\n",
       "      <td>509</td>\n",
       "      <td>4700</td>\n",
       "      <td>3.5</td>\n",
       "      <td>81</td>\n",
       "    </tr>\n",
       "    <tr>\n",
       "      <th>4</th>\n",
       "      <td>80447</td>\n",
       "      <td>509</td>\n",
       "      <td>2059</td>\n",
       "      <td>2.5</td>\n",
       "      <td>81</td>\n",
       "    </tr>\n",
       "    <tr>\n",
       "      <th>...</th>\n",
       "      <td>...</td>\n",
       "      <td>...</td>\n",
       "      <td>...</td>\n",
       "      <td>...</td>\n",
       "      <td>...</td>\n",
       "    </tr>\n",
       "    <tr>\n",
       "      <th>44120</th>\n",
       "      <td>64984</td>\n",
       "      <td>414</td>\n",
       "      <td>179817</td>\n",
       "      <td>4.0</td>\n",
       "      <td>5641265</td>\n",
       "    </tr>\n",
       "    <tr>\n",
       "      <th>44121</th>\n",
       "      <td>64934</td>\n",
       "      <td>414</td>\n",
       "      <td>140715</td>\n",
       "      <td>4.0</td>\n",
       "      <td>5641267</td>\n",
       "    </tr>\n",
       "    <tr>\n",
       "      <th>44122</th>\n",
       "      <td>64918</td>\n",
       "      <td>414</td>\n",
       "      <td>122906</td>\n",
       "      <td>4.0</td>\n",
       "      <td>5665416</td>\n",
       "    </tr>\n",
       "    <tr>\n",
       "      <th>44123</th>\n",
       "      <td>64991</td>\n",
       "      <td>414</td>\n",
       "      <td>187595</td>\n",
       "      <td>3.5</td>\n",
       "      <td>5665417</td>\n",
       "    </tr>\n",
       "    <tr>\n",
       "      <th>44124</th>\n",
       "      <td>64989</td>\n",
       "      <td>414</td>\n",
       "      <td>180985</td>\n",
       "      <td>3.5</td>\n",
       "      <td>5665418</td>\n",
       "    </tr>\n",
       "  </tbody>\n",
       "</table>\n",
       "<p>44125 rows × 5 columns</p>\n",
       "</div>"
      ],
      "text/plain": [
       "       Unnamed: 0  user_id  movie_id  rating  timestamp\n",
       "0            6132       42      2424     4.0         81\n",
       "1           38927      268      1093     1.0         81\n",
       "2           31275      217      2231     4.0         81\n",
       "3           80503      509      4700     3.5         81\n",
       "4           80447      509      2059     2.5         81\n",
       "...           ...      ...       ...     ...        ...\n",
       "44120       64984      414    179817     4.0    5641265\n",
       "44121       64934      414    140715     4.0    5641267\n",
       "44122       64918      414    122906     4.0    5665416\n",
       "44123       64991      414    187595     3.5    5665417\n",
       "44124       64989      414    180985     3.5    5665418\n",
       "\n",
       "[44125 rows x 5 columns]"
      ]
     },
     "execution_count": 73,
     "metadata": {},
     "output_type": "execute_result"
    }
   ],
=======
   "execution_count": null,
   "id": "d1182f4f",
   "metadata": {},
   "outputs": [],
>>>>>>> sigmod-experiments
   "source": [
    "test_df"
   ]
  },
  {
   "cell_type": "markdown",
   "id": "5453ab63",
   "metadata": {},
   "source": [
    "# Preprocessing Dataset \n",
    "* Re-assing timestamp \n",
    "* Split train/test"
   ]
  },
  {
   "cell_type": "markdown",
   "id": "be8e6a71",
   "metadata": {},
   "source": [
    "## Re-assing timestamps \n",
    "Set user start timestamp to all be the same "
   ]
  },
  {
   "cell_type": "code",
<<<<<<< HEAD
   "execution_count": 5,
=======
   "execution_count": null,
>>>>>>> sigmod-experiments
   "id": "19f4c325",
   "metadata": {},
   "outputs": [],
   "source": [
    "users = list(set(ratings.user_id.tolist()))\n",
    "user_start_ts = {user: ratings[ratings[\"user_id\"] == user].timestamp.min() for user in users}\n",
    "ratings.timestamp = ratings.apply(lambda x: x[\"timestamp\"] - user_start_ts[x[\"user_id\"]], axis=1)"
   ]
  },
  {
   "cell_type": "markdown",
   "id": "87dfc34b",
   "metadata": {},
   "source": [
    "Squash rating timestamps by 100 (TODO: potentially make sure timestamps dont userlap)"
   ]
  },
  {
   "cell_type": "code",
<<<<<<< HEAD
   "execution_count": 6,
=======
   "execution_count": null,
>>>>>>> sigmod-experiments
   "id": "087ebae6",
   "metadata": {},
   "outputs": [],
   "source": [
    "ratings.timestamp = ratings.timestamp.apply(lambda x: int(x/100))"
   ]
  },
  {
   "cell_type": "code",
<<<<<<< HEAD
   "execution_count": 7,
   "id": "bc059263",
   "metadata": {},
   "outputs": [
    {
     "data": {
      "text/plain": [
       "356       329\n",
       "318       317\n",
       "296       307\n",
       "593       279\n",
       "2571      278\n",
       "         ... \n",
       "152085      1\n",
       "164367      1\n",
       "98799       1\n",
       "4573        1\n",
       "6141        1\n",
       "Name: movie_id, Length: 9724, dtype: int64"
      ]
     },
     "execution_count": 7,
     "metadata": {},
     "output_type": "execute_result"
    }
   ],
=======
   "execution_count": null,
   "id": "bc059263",
   "metadata": {},
   "outputs": [],
>>>>>>> sigmod-experiments
   "source": [
    "ratings.movie_id.value_counts()"
   ]
  },
  {
   "cell_type": "code",
<<<<<<< HEAD
   "execution_count": 58,
   "id": "23ee274f",
   "metadata": {},
   "outputs": [
    {
     "data": {
      "text/plain": [
       "torch.Size([611, 193610])"
      ]
     },
     "execution_count": 58,
     "metadata": {},
     "output_type": "execute_result"
    }
   ],
=======
   "execution_count": null,
   "id": "23ee274f",
   "metadata": {},
   "outputs": [],
>>>>>>> sigmod-experiments
   "source": [
    "import torch \n",
    "\n",
    "A = torch.zeros((ratings.user_id.max()+1, ratings.movie_id.max()+1), dtype=int)\n",
    "R = torch.zeros((ratings.user_id.max()+1, ratings.movie_id.max()+1), dtype=int)\n",
    "A.shape"
   ]
  },
  {
   "cell_type": "code",
<<<<<<< HEAD
   "execution_count": 48,
   "id": "1e729878",
   "metadata": {},
   "outputs": [
    {
     "data": {
      "text/plain": [
       "array([[     1,      1,      4],\n",
       "       [     1,      3,      4],\n",
       "       [     1,      6,      4],\n",
       "       ...,\n",
       "       [   610, 168250,      5],\n",
       "       [   610, 168252,      5],\n",
       "       [   610, 170875,      3]])"
      ]
     },
     "execution_count": 48,
     "metadata": {},
     "output_type": "execute_result"
    }
   ],
=======
   "execution_count": null,
   "id": "1e729878",
   "metadata": {},
   "outputs": [],
>>>>>>> sigmod-experiments
   "source": [
    "idx = ratings[[\"user_id\", \"movie_id\", \"rating\"]].to_numpy().astype(int)\n",
    "idx"
   ]
  },
  {
   "cell_type": "code",
<<<<<<< HEAD
   "execution_count": 60,
=======
   "execution_count": null,
>>>>>>> sigmod-experiments
   "id": "004045d0",
   "metadata": {},
   "outputs": [],
   "source": [
    "A[idx[:,0], idx[:,1]] = torch.LongTensor(idx[:,2])\n",
    "R[idx[:,0], idx[:,1]] = torch.LongTensor(idx[:,2] > 0)"
   ]
  },
  {
   "cell_type": "code",
<<<<<<< HEAD
   "execution_count": 61,
   "id": "d5bfe25c",
   "metadata": {},
   "outputs": [
    {
     "data": {
      "text/plain": [
       "tensor([[0, 0, 0,  ..., 0, 0, 0],\n",
       "        [0, 4, 0,  ..., 0, 0, 0],\n",
       "        [0, 0, 0,  ..., 0, 0, 0],\n",
       "        ...,\n",
       "        [0, 2, 2,  ..., 0, 0, 0],\n",
       "        [0, 3, 0,  ..., 0, 0, 0],\n",
       "        [0, 5, 0,  ..., 0, 0, 0]])"
      ]
     },
     "execution_count": 61,
     "metadata": {},
     "output_type": "execute_result"
    }
   ],
=======
   "execution_count": null,
   "id": "d5bfe25c",
   "metadata": {},
   "outputs": [],
>>>>>>> sigmod-experiments
   "source": [
    "A"
   ]
  },
  {
   "cell_type": "code",
<<<<<<< HEAD
   "execution_count": 62,
   "id": "76e01569",
   "metadata": {},
   "outputs": [
    {
     "data": {
      "text/plain": [
       "tensor([[0, 0, 0,  ..., 0, 0, 0],\n",
       "        [0, 1, 0,  ..., 0, 0, 0],\n",
       "        [0, 0, 0,  ..., 0, 0, 0],\n",
       "        ...,\n",
       "        [0, 1, 1,  ..., 0, 0, 0],\n",
       "        [0, 1, 0,  ..., 0, 0, 0],\n",
       "        [0, 1, 0,  ..., 0, 0, 0]])"
      ]
     },
     "execution_count": 62,
     "metadata": {},
     "output_type": "execute_result"
    }
   ],
=======
   "execution_count": null,
   "id": "76e01569",
   "metadata": {},
   "outputs": [],
>>>>>>> sigmod-experiments
   "source": [
    "R"
   ]
  },
  {
   "cell_type": "markdown",
   "id": "71132ff4",
   "metadata": {},
   "source": [
    "## Train/Test Split \n",
    "Split by median timestamp "
   ]
  },
  {
   "cell_type": "code",
<<<<<<< HEAD
   "execution_count": 8,
   "id": "13e6bd01",
   "metadata": {},
   "outputs": [
    {
     "data": {
      "text/plain": [
       "80.0"
      ]
     },
     "execution_count": 8,
     "metadata": {},
     "output_type": "execute_result"
    }
   ],
=======
   "execution_count": null,
   "id": "13e6bd01",
   "metadata": {},
   "outputs": [],
>>>>>>> sigmod-experiments
   "source": [
    "cutoff = ratings.timestamp.median()\n",
    "mask = ratings[\"timestamp\"] < cutoff\n",
    "cutoff"
   ]
  },
  {
   "cell_type": "code",
<<<<<<< HEAD
   "execution_count": 9,
=======
   "execution_count": null,
>>>>>>> sigmod-experiments
   "id": "95ff5997",
   "metadata": {},
   "outputs": [],
   "source": [
    "#train_df = pd.read_csv(ratings_path)\n",
    "#train_df.columns = ['user_id', 'movie_id', 'rating', 'timestamp']\n",
    "#train_df[\"rating\"] = train_df[\"rating\"].where(mask, np.NaN)"
   ]
  },
  {
   "cell_type": "code",
<<<<<<< HEAD
   "execution_count": 11,
=======
   "execution_count": null,
>>>>>>> sigmod-experiments
   "id": "b92c96b3",
   "metadata": {},
   "outputs": [],
   "source": [
    "train_df = ratings[ratings[\"timestamp\"] < cutoff].sort_values(\"timestamp\")\n",
    "test_df = ratings[ratings[\"timestamp\"] > cutoff].sort_values(\"timestamp\")"
   ]
  },
  {
   "cell_type": "code",
<<<<<<< HEAD
   "execution_count": 12,
   "id": "b230e7b3",
   "metadata": {},
   "outputs": [
    {
     "data": {
      "text/plain": [
       "[186,\n",
       " 593,\n",
       " 595,\n",
       " 431,\n",
       " 485,\n",
       " 724,\n",
       " 1690,\n",
       " 1729,\n",
       " 1918,\n",
       " 2076,\n",
       " 2395,\n",
       " 2890,\n",
       " 3421,\n",
       " 3994,\n",
       " 1223,\n",
       " 296,\n",
       " 344,\n",
       " 349,\n",
       " 780,\n",
       " 596,\n",
       " 593,\n",
       " 592,\n",
       " 588,\n",
       " 380,\n",
       " 586,\n",
       " 519,\n",
       " 500,\n",
       " 480,\n",
       " 442,\n",
       " 7361,\n",
       " 592,\n",
       " 590,\n",
       " 1385,\n",
       " 1674,\n",
       " 1909,\n",
       " 1994,\n",
       " 2021,\n",
       " 141,\n",
       " 95,\n",
       " 62,\n",
       " 52,\n",
       " 2968,\n",
       " 36,\n",
       " 17,\n",
       " 7,\n",
       " 6,\n",
       " 5,\n",
       " 165,\n",
       " 3006,\n",
       " 318,\n",
       " 2571,\n",
       " 8622,\n",
       " 4993,\n",
       " 109487,\n",
       " 112556,\n",
       " 116797,\n",
       " 68358,\n",
       " 150,\n",
       " 296,\n",
       " 329,\n",
       " 344,\n",
       " 588,\n",
       " 367,\n",
       " 364,\n",
       " 356,\n",
       " 344,\n",
       " 2959,\n",
       " 2571,\n",
       " 2006,\n",
       " 2001,\n",
       " 1876,\n",
       " 3424,\n",
       " 2069,\n",
       " 4571,\n",
       " 1953,\n",
       " 1372,\n",
       " 1721,\n",
       " 2324,\n",
       " 1198,\n",
       " 1201,\n",
       " 2349,\n",
       " 2390,\n",
       " 4447,\n",
       " 2393,\n",
       " 3471,\n",
       " 2473,\n",
       " 1961,\n",
       " 1,\n",
       " 1466,\n",
       " 260,\n",
       " 32,\n",
       " 1261,\n",
       " 1196,\n",
       " 158,\n",
       " 145,\n",
       " 2076,\n",
       " 1371,\n",
       " 1805,\n",
       " 1476,\n",
       " 480,\n",
       " 527,\n",
       " 316,\n",
       " 260,\n",
       " 587,\n",
       " 180,\n",
       " 173,\n",
       " 858,\n",
       " 165,\n",
       " 588,\n",
       " 153,\n",
       " 104,\n",
       " 590,\n",
       " 592,\n",
       " 47,\n",
       " 920,\n",
       " 19,\n",
       " 10,\n",
       " 2,\n",
       " 4022,\n",
       " 1095,\n",
       " 1,\n",
       " 127096,\n",
       " 1123,\n",
       " 125914,\n",
       " 119145,\n",
       " 79132,\n",
       " 1210,\n",
       " 1405,\n",
       " 3418,\n",
       " 1198,\n",
       " 1282,\n",
       " 1047,\n",
       " 910,\n",
       " 909,\n",
       " 905,\n",
       " 902,\n",
       " 899,\n",
       " 898,\n",
       " 750,\n",
       " 745,\n",
       " 588,\n",
       " 356,\n",
       " 2471,\n",
       " 1,\n",
       " 2791,\n",
       " 911,\n",
       " 110,\n",
       " 923,\n",
       " 1210,\n",
       " 1302,\n",
       " 1033,\n",
       " 783,\n",
       " 2762,\n",
       " 2858,\n",
       " 1,\n",
       " 3,\n",
       " 5,\n",
       " 6,\n",
       " 25,\n",
       " 32,\n",
       " 1036,\n",
       " 915,\n",
       " 916,\n",
       " 936,\n",
       " 2791,\n",
       " 2716,\n",
       " 2599,\n",
       " 2395,\n",
       " 2324,\n",
       " 1682,\n",
       " 1580,\n",
       " 1394,\n",
       " 1307,\n",
       " 1288,\n",
       " 1278,\n",
       " 1270,\n",
       " 1269,\n",
       " 1265,\n",
       " 1256,\n",
       " 1234,\n",
       " 1223,\n",
       " 1197,\n",
       " 1148,\n",
       " 1136,\n",
       " 1080,\n",
       " 1079,\n",
       " 955,\n",
       " 954,\n",
       " 951,\n",
       " 950,\n",
       " 947,\n",
       " 946,\n",
       " 945,\n",
       " 58559,\n",
       " 95,\n",
       " 494,\n",
       " 648,\n",
       " 1704,\n",
       " 17,\n",
       " 1693,\n",
       " 1643,\n",
       " 1641,\n",
       " 1633,\n",
       " 25,\n",
       " 32,\n",
       " 36,\n",
       " 1446,\n",
       " 62,\n",
       " 95,\n",
       " 112,\n",
       " 1183,\n",
       " 141,\n",
       " 376,\n",
       " 494,\n",
       " 608,\n",
       " 1073,\n",
       " 648,\n",
       " 788,\n",
       " 736,\n",
       " 733,\n",
       " 708,\n",
       " 608,\n",
       " 733,\n",
       " 736,\n",
       " 780,\n",
       " 969,\n",
       " 1747,\n",
       " 1120,\n",
       " 1680,\n",
       " 3300,\n",
       " 3255,\n",
       " 2105,\n",
       " 1994,\n",
       " 733,\n",
       " 1597,\n",
       " 1358,\n",
       " 785,\n",
       " 780,\n",
       " 783,\n",
       " 784,\n",
       " 786,\n",
       " 4571,\n",
       " 1073,\n",
       " 2300,\n",
       " 1,\n",
       " 3,\n",
       " 1345,\n",
       " 1077,\n",
       " 671,\n",
       " 531,\n",
       " 327,\n",
       " 5,\n",
       " 60,\n",
       " 6,\n",
       " 7,\n",
       " 6947,\n",
       " 5266,\n",
       " 4310,\n",
       " 3555,\n",
       " 2421,\n",
       " 2918,\n",
       " 1210,\n",
       " 592,\n",
       " 296,\n",
       " 2571,\n",
       " 122912,\n",
       " 122916,\n",
       " 122918,\n",
       " 344,\n",
       " 349,\n",
       " 1961,\n",
       " 380,\n",
       " 588,\n",
       " 858,\n",
       " 590,\n",
       " 592,\n",
       " 165,\n",
       " 593,\n",
       " 356,\n",
       " 260,\n",
       " 176371,\n",
       " 177765,\n",
       " 6787,\n",
       " 1,\n",
       " 3101,\n",
       " 158,\n",
       " 7153,\n",
       " 5445,\n",
       " 1625,\n",
       " 2763,\n",
       " 2640,\n",
       " 1247,\n",
       " 153,\n",
       " 150,\n",
       " 1918,\n",
       " 7153,\n",
       " 6539,\n",
       " 5989,\n",
       " 5952,\n",
       " 5816,\n",
       " 5418,\n",
       " 5349,\n",
       " 4993,\n",
       " 4973,\n",
       " 4878,\n",
       " 4226,\n",
       " 3996,\n",
       " 3578,\n",
       " 2571,\n",
       " 1210,\n",
       " 1198,\n",
       " 1196,\n",
       " 260,\n",
       " 780,\n",
       " 736,\n",
       " 733,\n",
       " 648,\n",
       " 6863,\n",
       " 141,\n",
       " 95,\n",
       " 62,\n",
       " 32,\n",
       " 7,\n",
       " 1,\n",
       " 2001,\n",
       " 2470,\n",
       " 1653,\n",
       " 3147,\n",
       " 1220,\n",
       " 1258,\n",
       " 1917,\n",
       " 2012,\n",
       " 2174,\n",
       " 2710,\n",
       " 2797,\n",
       " 1196,\n",
       " 2423,\n",
       " 2485,\n",
       " 593,\n",
       " 527,\n",
       " 913,\n",
       " 48,\n",
       " 1050,\n",
       " 2,\n",
       " 1193,\n",
       " 541,\n",
       " 92259,\n",
       " 1270,\n",
       " 1193,\n",
       " 3697,\n",
       " 507,\n",
       " 2355,\n",
       " 2959,\n",
       " 2372,\n",
       " 2324,\n",
       " 2028,\n",
       " 2549,\n",
       " 1208,\n",
       " 7361,\n",
       " 1101,\n",
       " 750,\n",
       " 1234,\n",
       " 2278,\n",
       " 2002,\n",
       " 908,\n",
       " 435,\n",
       " 173,\n",
       " 151,\n",
       " 187593,\n",
       " 1374,\n",
       " 4445,\n",
       " 2915,\n",
       " 1485,\n",
       " 2942,\n",
       " 1210,\n",
       " 2613,\n",
       " 1193,\n",
       " 1097,\n",
       " 1979,\n",
       " 1968,\n",
       " 1961,\n",
       " 780,\n",
       " 1544,\n",
       " 1873,\n",
       " 3,\n",
       " 16,\n",
       " 235,\n",
       " 266,\n",
       " 594,\n",
       " 708,\n",
       " 1080,\n",
       " 1291,\n",
       " 7438,\n",
       " 33794,\n",
       " 318,\n",
       " 344,\n",
       " 349,\n",
       " 62,\n",
       " 5952,\n",
       " 380,\n",
       " 95,\n",
       " 104,\n",
       " 434,\n",
       " 112,\n",
       " 260,\n",
       " 588,\n",
       " 590,\n",
       " 32,\n",
       " 592,\n",
       " 653,\n",
       " 595,\n",
       " 736,\n",
       " 780,\n",
       " 786,\n",
       " 788,\n",
       " 1073,\n",
       " 1356,\n",
       " 203,\n",
       " 880,\n",
       " 1347,\n",
       " 1635,\n",
       " 2109,\n",
       " 637,\n",
       " 1,\n",
       " 300,\n",
       " 780,\n",
       " 588,\n",
       " 380,\n",
       " 344,\n",
       " 296,\n",
       " 480,\n",
       " 165,\n",
       " 1,\n",
       " 153,\n",
       " 150,\n",
       " 5,\n",
       " 62,\n",
       " 110,\n",
       " 150,\n",
       " 153,\n",
       " 161,\n",
       " 2006,\n",
       " 165,\n",
       " 185,\n",
       " 208,\n",
       " 225,\n",
       " 231,\n",
       " 253,\n",
       " 2353,\n",
       " 648,\n",
       " 288,\n",
       " 736,\n",
       " 3753,\n",
       " 292,\n",
       " 296,\n",
       " 2144,\n",
       " 2352,\n",
       " 5388,\n",
       " 2369,\n",
       " 72641,\n",
       " 79132,\n",
       " 1196,\n",
       " 112552,\n",
       " 277,\n",
       " 585,\n",
       " 2581,\n",
       " 252,\n",
       " 783,\n",
       " 2023,\n",
       " 2694,\n",
       " 4571,\n",
       " 31,\n",
       " 3826,\n",
       " 2795,\n",
       " 2746,\n",
       " 590,\n",
       " 2605,\n",
       " 1831,\n",
       " 380,\n",
       " 743,\n",
       " 349,\n",
       " 1082,\n",
       " 1097,\n",
       " 150,\n",
       " 3717,\n",
       " 1073,\n",
       " 79132,\n",
       " 58559,\n",
       " 68319,\n",
       " 8961,\n",
       " 58559,\n",
       " 2150,\n",
       " 2371,\n",
       " 2427,\n",
       " 3105,\n",
       " 3148,\n",
       " 3210,\n",
       " 3396,\n",
       " 4002,\n",
       " 4321,\n",
       " 3863,\n",
       " 50,\n",
       " 296,\n",
       " 318,\n",
       " 2763,\n",
       " 2470,\n",
       " 593,\n",
       " 608,\n",
       " 780,\n",
       " 858,\n",
       " 451,\n",
       " 1302,\n",
       " 1196,\n",
       " 1198,\n",
       " 1213,\n",
       " 2028,\n",
       " 2571,\n",
       " 3006,\n",
       " 2858,\n",
       " 2959,\n",
       " 2791,\n",
       " 1345,\n",
       " 3863,\n",
       " 2935,\n",
       " 2987,\n",
       " 63082,\n",
       " 3363,\n",
       " 62434,\n",
       " 62113,\n",
       " 61289,\n",
       " 61132,\n",
       " 4016,\n",
       " 4306,\n",
       " 432,\n",
       " 4993,\n",
       " 60937,\n",
       " 60684,\n",
       " 6942,\n",
       " 63113,\n",
       " 60126,\n",
       " 60074,\n",
       " 79,\n",
       " 46578,\n",
       " 60756,\n",
       " 64969,\n",
       " 69122,\n",
       " 60040,\n",
       " 71535,\n",
       " 76093,\n",
       " 59900,\n",
       " 59784,\n",
       " 80549,\n",
       " 59615,\n",
       " 35836,\n",
       " 2300,\n",
       " 1449,\n",
       " 1271,\n",
       " 1196,\n",
       " 3418,\n",
       " 4886,\n",
       " 293,\n",
       " 1080,\n",
       " 296,\n",
       " 318,\n",
       " 99114,\n",
       " 527,\n",
       " 593,\n",
       " 923,\n",
       " 908,\n",
       " 1704,\n",
       " 2028,\n",
       " 2571,\n",
       " 134130,\n",
       " 39,\n",
       " 2959,\n",
       " 2571,\n",
       " 296,\n",
       " 2959,\n",
       " 653,\n",
       " 356,\n",
       " 134853,\n",
       " 164179,\n",
       " 164909,\n",
       " 1307,\n",
       " 3578,\n",
       " 1212,\n",
       " 88405,\n",
       " 96588,\n",
       " 225,\n",
       " 59315,\n",
       " 51255,\n",
       " 50872,\n",
       " 49272,\n",
       " 3363,\n",
       " 3510,\n",
       " 48774,\n",
       " 46972,\n",
       " 1073,\n",
       " 46335,\n",
       " 45722,\n",
       " 45672,\n",
       " 45499,\n",
       " 45431,\n",
       " 45186,\n",
       " 44191,\n",
       " 780,\n",
       " 43928,\n",
       " 708,\n",
       " 43836,\n",
       " 41569,\n",
       " 608,\n",
       " 260,\n",
       " 141,\n",
       " 58,\n",
       " 52,\n",
       " 36,\n",
       " 32,\n",
       " 25,\n",
       " 17,\n",
       " 51662,\n",
       " 3101,\n",
       " 52287,\n",
       " 52973,\n",
       " 58998,\n",
       " 58559,\n",
       " 58297,\n",
       " 173,\n",
       " 58025,\n",
       " 57640,\n",
       " 56921,\n",
       " 56174,\n",
       " 56152,\n",
       " 55768,\n",
       " 54503,\n",
       " 54272,\n",
       " 54259,\n",
       " 1037,\n",
       " 54004,\n",
       " 53996,\n",
       " 53972,\n",
       " 58,\n",
       " 7153,\n",
       " 53519,\n",
       " 150,\n",
       " 53140,\n",
       " 53138,\n",
       " 53125,\n",
       " 153,\n",
       " 1805,\n",
       " 1882,\n",
       " 53121,\n",
       " 16,\n",
       " 52722,\n",
       " 7,\n",
       " 2770,\n",
       " 1876,\n",
       " 86644,\n",
       " 318,\n",
       " 356,\n",
       " 527,\n",
       " 1704,\n",
       " 86332,\n",
       " 2324,\n",
       " 85414,\n",
       " 85367,\n",
       " 2571,\n",
       " 2762,\n",
       " 84772,\n",
       " 2959,\n",
       " 86892,\n",
       " 3147,\n",
       " 83134,\n",
       " 82461,\n",
       " 81847,\n",
       " 81564,\n",
       " 4973,\n",
       " 4993,\n",
       " 80549,\n",
       " 80166,\n",
       " 79702,\n",
       " 79695,\n",
       " 2012,\n",
       " 5995,\n",
       " 79592,\n",
       " 83349,\n",
       " 86911,\n",
       " 4085,\n",
       " 87222,\n",
       " 94953,\n",
       " 94864,\n",
       " 1320,\n",
       " 5481,\n",
       " 94780,\n",
       " 94777,\n",
       " 94018,\n",
       " 2006,\n",
       " 93838,\n",
       " 2105,\n",
       " 6365,\n",
       " 93510,\n",
       " 93363,\n",
       " 91630,\n",
       " 2671,\n",
       " 91500,\n",
       " 6934,\n",
       " 2701,\n",
       " 91485,\n",
       " 91323,\n",
       " 90522,\n",
       " 89745,\n",
       " 89305,\n",
       " 88785,\n",
       " 88744,\n",
       " 88140,\n",
       " 87869,\n",
       " 87520,\n",
       " 87232,\n",
       " 79428,\n",
       " 7153,\n",
       " 79185,\n",
       " 79134,\n",
       " 67408,\n",
       " 67087,\n",
       " 74458,\n",
       " 66798,\n",
       " 66097,\n",
       " 1374,\n",
       " 79132,\n",
       " 65802,\n",
       " 65514,\n",
       " 64969,\n",
       " 64957,\n",
       " 63859,\n",
       " 63131,\n",
       " 1304,\n",
       " 45,\n",
       " 81834,\n",
       " 345,\n",
       " 3706,\n",
       " 783,\n",
       " 1258,\n",
       " 1282,\n",
       " 88125,\n",
       " 260,\n",
       " 89745,\n",
       " 1219,\n",
       " 1285,\n",
       " 1408,\n",
       " 91529,\n",
       " 1674,\n",
       " 67923,\n",
       " 318,\n",
       " 68157,\n",
       " 58559,\n",
       " 79132,\n",
       " 79091,\n",
       " 77866,\n",
       " 77561,\n",
       " 1917,\n",
       " 76293,\n",
       " 60069,\n",
       " 68954,\n",
       " 81845,\n",
       " 92259,\n",
       " 76251,\n",
       " 260,\n",
       " 1196,\n",
       " 2571,\n",
       " 76175,\n",
       " 76093,\n",
       " 4993,\n",
       " 74530,\n",
       " 73017,\n",
       " 72998,\n",
       " 72308,\n",
       " 71535,\n",
       " 71264,\n",
       " 70183,\n",
       " 69805,\n",
       " 69275,\n",
       " 69122,\n",
       " 68954,\n",
       " 68358,\n",
       " 68319,\n",
       " 2936,\n",
       " 1,\n",
       " 39715,\n",
       " 56367,\n",
       " 1407,\n",
       " 1917,\n",
       " 2054,\n",
       " 5952,\n",
       " 3159,\n",
       " 3114,\n",
       " 2174,\n",
       " 2987,\n",
       " 2986,\n",
       " 2985,\n",
       " 46578,\n",
       " 2953,\n",
       " 1090,\n",
       " 2858,\n",
       " 2717,\n",
       " 44022,\n",
       " 2716,\n",
       " 2706,\n",
       " 2640,\n",
       " 2628,\n",
       " 2617,\n",
       " 2571,\n",
       " 2394,\n",
       " 38038,\n",
       " 2355,\n",
       " 2329,\n",
       " 2324,\n",
       " 2762,\n",
       " 653,\n",
       " 151,\n",
       " 2770,\n",
       " 4369,\n",
       " 4366,\n",
       " 4306,\n",
       " 2002,\n",
       " 2273,\n",
       " 2717,\n",
       " 2723,\n",
       " 4085,\n",
       " 6863,\n",
       " 10,\n",
       " 4270,\n",
       " 4103,\n",
       " 4011,\n",
       " 3948,\n",
       " 3793,\n",
       " 3752,\n",
       " 3751,\n",
       " 296,\n",
       " 318,\n",
       " 3624,\n",
       " 339,\n",
       " 380,\n",
       " 3578,\n",
       " 457,\n",
       " 3489,\n",
       " 593,\n",
       " 3483,\n",
       " 3300,\n",
       " 2763,\n",
       " 899,\n",
       " 969,\n",
       " 2294,\n",
       " 2291,\n",
       " 1387,\n",
       " 1377,\n",
       " 1370,\n",
       " 1291,\n",
       " 1282,\n",
       " 1270,\n",
       " 1210,\n",
       " 3471,\n",
       " 2797,\n",
       " 1198,\n",
       " 4979,\n",
       " 4973,\n",
       " 1196,\n",
       " 1097,\n",
       " 4306,\n",
       " 4014,\n",
       " 3948,\n",
       " 3751,\n",
       " 132,\n",
       " 135,\n",
       " 3481,\n",
       " 3462,\n",
       " 3307,\n",
       " 1210,\n",
       " 3114,\n",
       " 3097,\n",
       " 3088,\n",
       " 3022,\n",
       " 2997,\n",
       " 1527,\n",
       " 4533,\n",
       " 1544,\n",
       " 2628,\n",
       " 2273,\n",
       " 1198,\n",
       " 2174,\n",
       " 2167,\n",
       " 2115,\n",
       " 2683,\n",
       " 2089,\n",
       " 2085,\n",
       " 2081,\n",
       " 2080,\n",
       " 2054,\n",
       " 2028,\n",
       " 2018,\n",
       " 2012,\n",
       " 2011,\n",
       " 2005,\n",
       " 2004,\n",
       " 2003,\n",
       " 1923,\n",
       " 1917,\n",
       " 1907,\n",
       " 1876,\n",
       " 1721,\n",
       " 1688,\n",
       " 1682,\n",
       " 1676,\n",
       " 1580,\n",
       " 6863,\n",
       " 1566,\n",
       " 6650,\n",
       " 40815,\n",
       " 4638,\n",
       " 4728,\n",
       " 2571,\n",
       " 68157,\n",
       " 68954,\n",
       " 72998,\n",
       " 116797,\n",
       " 134130,\n",
       " 3996,\n",
       " 318,\n",
       " 527,\n",
       " 1197,\n",
       " 2571,\n",
       " 47099,\n",
       " 122916,\n",
       " 1210,\n",
       " 122918,\n",
       " 368,\n",
       " 410,\n",
       " 442,\n",
       " 508,\n",
       " 509,\n",
       " 786,\n",
       " 1356,\n",
       " 1517,\n",
       " 1584,\n",
       " 1784,\n",
       " 2683,\n",
       " 3114,\n",
       " 127052,\n",
       " 2,\n",
       " 1198,\n",
       " 1196,\n",
       " 318,\n",
       " 37729,\n",
       " 37386,\n",
       " 35836,\n",
       " 34162,\n",
       " 33794,\n",
       " 33669,\n",
       " 177765,\n",
       " 33615,\n",
       " 33493,\n",
       " 32587,\n",
       " 32031,\n",
       " 30825,\n",
       " 27706,\n",
       " 27660,\n",
       " 27611,\n",
       " 8984,\n",
       " 8972,\n",
       " 8961,\n",
       " 344,\n",
       " 420,\n",
       " 1210,\n",
       " 1230,\n",
       " 1739,\n",
       " 1907,\n",
       " 2023,\n",
       " 2542,\n",
       " 3751,\n",
       " 4480,\n",
       " 260,\n",
       " 3793,\n",
       " 3996,\n",
       " 4306,\n",
       " 4993,\n",
       " 6377,\n",
       " 6373,\n",
       " 6333,\n",
       " 6156,\n",
       " 5952,\n",
       " 5882,\n",
       " 5816,\n",
       " 1584,\n",
       " 5459,\n",
       " 5449,\n",
       " 5445,\n",
       " 5444,\n",
       " 1610,\n",
       " 5418,\n",
       " 5378,\n",
       " 5349,\n",
       " 3507,\n",
       " ...]"
      ]
     },
     "execution_count": 12,
     "metadata": {},
     "output_type": "execute_result"
    }
   ],
=======
   "execution_count": null,
   "id": "b230e7b3",
   "metadata": {},
   "outputs": [],
>>>>>>> sigmod-experiments
   "source": [
    "train_movies = train_df.movie_id.tolist()\n",
    "train_movies"
   ]
  },
  {
   "cell_type": "code",
<<<<<<< HEAD
   "execution_count": 13,
=======
   "execution_count": null,
>>>>>>> sigmod-experiments
   "id": "98688b56",
   "metadata": {},
   "outputs": [],
   "source": [
    "test_df = test_df[test_df.movie_id.apply(lambda x: x in train_movies)]"
   ]
  },
  {
   "cell_type": "code",
<<<<<<< HEAD
   "execution_count": 14,
   "id": "2002ff2c",
   "metadata": {},
   "outputs": [
    {
     "data": {
      "text/html": [
       "<div>\n",
       "<style scoped>\n",
       "    .dataframe tbody tr th:only-of-type {\n",
       "        vertical-align: middle;\n",
       "    }\n",
       "\n",
       "    .dataframe tbody tr th {\n",
       "        vertical-align: top;\n",
       "    }\n",
       "\n",
       "    .dataframe thead th {\n",
       "        text-align: right;\n",
       "    }\n",
       "</style>\n",
       "<table border=\"1\" class=\"dataframe\">\n",
       "  <thead>\n",
       "    <tr style=\"text-align: right;\">\n",
       "      <th></th>\n",
       "      <th>user_id</th>\n",
       "      <th>movie_id</th>\n",
       "      <th>rating</th>\n",
       "      <th>timestamp</th>\n",
       "    </tr>\n",
       "  </thead>\n",
       "  <tbody>\n",
       "    <tr>\n",
       "      <th>6132</th>\n",
       "      <td>42</td>\n",
       "      <td>2424</td>\n",
       "      <td>4.0</td>\n",
       "      <td>81</td>\n",
       "    </tr>\n",
       "    <tr>\n",
       "      <th>38927</th>\n",
       "      <td>268</td>\n",
       "      <td>1093</td>\n",
       "      <td>1.0</td>\n",
       "      <td>81</td>\n",
       "    </tr>\n",
       "    <tr>\n",
       "      <th>31275</th>\n",
       "      <td>217</td>\n",
       "      <td>2231</td>\n",
       "      <td>4.0</td>\n",
       "      <td>81</td>\n",
       "    </tr>\n",
       "    <tr>\n",
       "      <th>80503</th>\n",
       "      <td>509</td>\n",
       "      <td>4700</td>\n",
       "      <td>3.5</td>\n",
       "      <td>81</td>\n",
       "    </tr>\n",
       "    <tr>\n",
       "      <th>80447</th>\n",
       "      <td>509</td>\n",
       "      <td>2059</td>\n",
       "      <td>2.5</td>\n",
       "      <td>81</td>\n",
       "    </tr>\n",
       "    <tr>\n",
       "      <th>...</th>\n",
       "      <td>...</td>\n",
       "      <td>...</td>\n",
       "      <td>...</td>\n",
       "      <td>...</td>\n",
       "    </tr>\n",
       "    <tr>\n",
       "      <th>64984</th>\n",
       "      <td>414</td>\n",
       "      <td>179817</td>\n",
       "      <td>4.0</td>\n",
       "      <td>5641265</td>\n",
       "    </tr>\n",
       "    <tr>\n",
       "      <th>64934</th>\n",
       "      <td>414</td>\n",
       "      <td>140715</td>\n",
       "      <td>4.0</td>\n",
       "      <td>5641267</td>\n",
       "    </tr>\n",
       "    <tr>\n",
       "      <th>64918</th>\n",
       "      <td>414</td>\n",
       "      <td>122906</td>\n",
       "      <td>4.0</td>\n",
       "      <td>5665416</td>\n",
       "    </tr>\n",
       "    <tr>\n",
       "      <th>64991</th>\n",
       "      <td>414</td>\n",
       "      <td>187595</td>\n",
       "      <td>3.5</td>\n",
       "      <td>5665417</td>\n",
       "    </tr>\n",
       "    <tr>\n",
       "      <th>64989</th>\n",
       "      <td>414</td>\n",
       "      <td>180985</td>\n",
       "      <td>3.5</td>\n",
       "      <td>5665418</td>\n",
       "    </tr>\n",
       "  </tbody>\n",
       "</table>\n",
       "<p>44125 rows × 4 columns</p>\n",
       "</div>"
      ],
      "text/plain": [
       "       user_id  movie_id  rating  timestamp\n",
       "6132        42      2424     4.0         81\n",
       "38927      268      1093     1.0         81\n",
       "31275      217      2231     4.0         81\n",
       "80503      509      4700     3.5         81\n",
       "80447      509      2059     2.5         81\n",
       "...        ...       ...     ...        ...\n",
       "64984      414    179817     4.0    5641265\n",
       "64934      414    140715     4.0    5641267\n",
       "64918      414    122906     4.0    5665416\n",
       "64991      414    187595     3.5    5665417\n",
       "64989      414    180985     3.5    5665418\n",
       "\n",
       "[44125 rows x 4 columns]"
      ]
     },
     "execution_count": 14,
     "metadata": {},
     "output_type": "execute_result"
    }
   ],
=======
   "execution_count": null,
   "id": "2002ff2c",
   "metadata": {},
   "outputs": [],
>>>>>>> sigmod-experiments
   "source": [
    "test_df"
   ]
  },
  {
   "cell_type": "code",
<<<<<<< HEAD
   "execution_count": 15,
   "id": "3f876a29",
   "metadata": {},
   "outputs": [
    {
     "data": {
      "text/html": [
       "<div>\n",
       "<style scoped>\n",
       "    .dataframe tbody tr th:only-of-type {\n",
       "        vertical-align: middle;\n",
       "    }\n",
       "\n",
       "    .dataframe tbody tr th {\n",
       "        vertical-align: top;\n",
       "    }\n",
       "\n",
       "    .dataframe thead th {\n",
       "        text-align: right;\n",
       "    }\n",
       "</style>\n",
       "<table border=\"1\" class=\"dataframe\">\n",
       "  <thead>\n",
       "    <tr style=\"text-align: right;\">\n",
       "      <th></th>\n",
       "      <th>user_id</th>\n",
       "      <th>movie_id</th>\n",
       "      <th>rating</th>\n",
       "      <th>timestamp</th>\n",
       "    </tr>\n",
       "  </thead>\n",
       "  <tbody>\n",
       "    <tr>\n",
       "      <th>79121</th>\n",
       "      <td>490</td>\n",
       "      <td>186</td>\n",
       "      <td>2.0</td>\n",
       "      <td>0</td>\n",
       "    </tr>\n",
       "    <tr>\n",
       "      <th>39223</th>\n",
       "      <td>273</td>\n",
       "      <td>593</td>\n",
       "      <td>5.0</td>\n",
       "      <td>0</td>\n",
       "    </tr>\n",
       "    <tr>\n",
       "      <th>39224</th>\n",
       "      <td>273</td>\n",
       "      <td>595</td>\n",
       "      <td>5.0</td>\n",
       "      <td>0</td>\n",
       "    </tr>\n",
       "    <tr>\n",
       "      <th>39313</th>\n",
       "      <td>274</td>\n",
       "      <td>431</td>\n",
       "      <td>4.0</td>\n",
       "      <td>0</td>\n",
       "    </tr>\n",
       "    <tr>\n",
       "      <th>39319</th>\n",
       "      <td>274</td>\n",
       "      <td>485</td>\n",
       "      <td>2.0</td>\n",
       "      <td>0</td>\n",
       "    </tr>\n",
       "    <tr>\n",
       "      <th>...</th>\n",
       "      <td>...</td>\n",
       "      <td>...</td>\n",
       "      <td>...</td>\n",
       "      <td>...</td>\n",
       "    </tr>\n",
       "    <tr>\n",
       "      <th>2841</th>\n",
       "      <td>19</td>\n",
       "      <td>3034</td>\n",
       "      <td>3.0</td>\n",
       "      <td>79</td>\n",
       "    </tr>\n",
       "    <tr>\n",
       "      <th>88129</th>\n",
       "      <td>567</td>\n",
       "      <td>152063</td>\n",
       "      <td>0.5</td>\n",
       "      <td>79</td>\n",
       "    </tr>\n",
       "    <tr>\n",
       "      <th>2342</th>\n",
       "      <td>19</td>\n",
       "      <td>364</td>\n",
       "      <td>3.0</td>\n",
       "      <td>79</td>\n",
       "    </tr>\n",
       "    <tr>\n",
       "      <th>32705</th>\n",
       "      <td>222</td>\n",
       "      <td>4844</td>\n",
       "      <td>2.5</td>\n",
       "      <td>79</td>\n",
       "    </tr>\n",
       "    <tr>\n",
       "      <th>95638</th>\n",
       "      <td>600</td>\n",
       "      <td>4280</td>\n",
       "      <td>4.0</td>\n",
       "      <td>79</td>\n",
       "    </tr>\n",
       "  </tbody>\n",
       "</table>\n",
       "<p>50407 rows × 4 columns</p>\n",
       "</div>"
      ],
      "text/plain": [
       "       user_id  movie_id  rating  timestamp\n",
       "79121      490       186     2.0          0\n",
       "39223      273       593     5.0          0\n",
       "39224      273       595     5.0          0\n",
       "39313      274       431     4.0          0\n",
       "39319      274       485     2.0          0\n",
       "...        ...       ...     ...        ...\n",
       "2841        19      3034     3.0         79\n",
       "88129      567    152063     0.5         79\n",
       "2342        19       364     3.0         79\n",
       "32705      222      4844     2.5         79\n",
       "95638      600      4280     4.0         79\n",
       "\n",
       "[50407 rows x 4 columns]"
      ]
     },
     "execution_count": 15,
     "metadata": {},
     "output_type": "execute_result"
    }
   ],
=======
   "execution_count": null,
   "id": "3f876a29",
   "metadata": {},
   "outputs": [],
>>>>>>> sigmod-experiments
   "source": [
    "train_df"
   ]
  },
  {
   "cell_type": "code",
<<<<<<< HEAD
   "execution_count": 16,
   "id": "6dabf464",
   "metadata": {},
   "outputs": [
    {
     "data": {
      "text/html": [
       "<div>\n",
       "<style scoped>\n",
       "    .dataframe tbody tr th:only-of-type {\n",
       "        vertical-align: middle;\n",
       "    }\n",
       "\n",
       "    .dataframe tbody tr th {\n",
       "        vertical-align: top;\n",
       "    }\n",
       "\n",
       "    .dataframe thead th {\n",
       "        text-align: right;\n",
       "    }\n",
       "</style>\n",
       "<table border=\"1\" class=\"dataframe\">\n",
       "  <thead>\n",
       "    <tr style=\"text-align: right;\">\n",
       "      <th></th>\n",
       "      <th>user_id</th>\n",
       "      <th>movie_id</th>\n",
       "      <th>rating</th>\n",
       "      <th>timestamp</th>\n",
       "    </tr>\n",
       "  </thead>\n",
       "  <tbody>\n",
       "    <tr>\n",
       "      <th>79121</th>\n",
       "      <td>490</td>\n",
       "      <td>186</td>\n",
       "      <td>2.0</td>\n",
       "      <td>0</td>\n",
       "    </tr>\n",
       "    <tr>\n",
       "      <th>39223</th>\n",
       "      <td>273</td>\n",
       "      <td>593</td>\n",
       "      <td>5.0</td>\n",
       "      <td>0</td>\n",
       "    </tr>\n",
       "    <tr>\n",
       "      <th>39224</th>\n",
       "      <td>273</td>\n",
       "      <td>595</td>\n",
       "      <td>5.0</td>\n",
       "      <td>0</td>\n",
       "    </tr>\n",
       "    <tr>\n",
       "      <th>39313</th>\n",
       "      <td>274</td>\n",
       "      <td>431</td>\n",
       "      <td>4.0</td>\n",
       "      <td>0</td>\n",
       "    </tr>\n",
       "    <tr>\n",
       "      <th>39319</th>\n",
       "      <td>274</td>\n",
       "      <td>485</td>\n",
       "      <td>2.0</td>\n",
       "      <td>0</td>\n",
       "    </tr>\n",
       "    <tr>\n",
       "      <th>...</th>\n",
       "      <td>...</td>\n",
       "      <td>...</td>\n",
       "      <td>...</td>\n",
       "      <td>...</td>\n",
       "    </tr>\n",
       "    <tr>\n",
       "      <th>2841</th>\n",
       "      <td>19</td>\n",
       "      <td>3034</td>\n",
       "      <td>3.0</td>\n",
       "      <td>79</td>\n",
       "    </tr>\n",
       "    <tr>\n",
       "      <th>88129</th>\n",
       "      <td>567</td>\n",
       "      <td>152063</td>\n",
       "      <td>0.5</td>\n",
       "      <td>79</td>\n",
       "    </tr>\n",
       "    <tr>\n",
       "      <th>2342</th>\n",
       "      <td>19</td>\n",
       "      <td>364</td>\n",
       "      <td>3.0</td>\n",
       "      <td>79</td>\n",
       "    </tr>\n",
       "    <tr>\n",
       "      <th>32705</th>\n",
       "      <td>222</td>\n",
       "      <td>4844</td>\n",
       "      <td>2.5</td>\n",
       "      <td>79</td>\n",
       "    </tr>\n",
       "    <tr>\n",
       "      <th>95638</th>\n",
       "      <td>600</td>\n",
       "      <td>4280</td>\n",
       "      <td>4.0</td>\n",
       "      <td>79</td>\n",
       "    </tr>\n",
       "  </tbody>\n",
       "</table>\n",
       "<p>50407 rows × 4 columns</p>\n",
       "</div>"
      ],
      "text/plain": [
       "       user_id  movie_id  rating  timestamp\n",
       "79121      490       186     2.0          0\n",
       "39223      273       593     5.0          0\n",
       "39224      273       595     5.0          0\n",
       "39313      274       431     4.0          0\n",
       "39319      274       485     2.0          0\n",
       "...        ...       ...     ...        ...\n",
       "2841        19      3034     3.0         79\n",
       "88129      567    152063     0.5         79\n",
       "2342        19       364     3.0         79\n",
       "32705      222      4844     2.5         79\n",
       "95638      600      4280     4.0         79\n",
       "\n",
       "[50407 rows x 4 columns]"
      ]
     },
     "execution_count": 16,
     "metadata": {},
     "output_type": "execute_result"
    }
   ],
=======
   "execution_count": null,
   "id": "6dabf464",
   "metadata": {},
   "outputs": [],
>>>>>>> sigmod-experiments
   "source": [
    "train_df"
   ]
  },
  {
   "cell_type": "code",
<<<<<<< HEAD
   "execution_count": 17,
   "id": "a13fb3ad",
   "metadata": {},
   "outputs": [
    {
     "data": {
      "text/html": [
       "<div>\n",
       "<style scoped>\n",
       "    .dataframe tbody tr th:only-of-type {\n",
       "        vertical-align: middle;\n",
       "    }\n",
       "\n",
       "    .dataframe tbody tr th {\n",
       "        vertical-align: top;\n",
       "    }\n",
       "\n",
       "    .dataframe thead th {\n",
       "        text-align: right;\n",
       "    }\n",
       "</style>\n",
       "<table border=\"1\" class=\"dataframe\">\n",
       "  <thead>\n",
       "    <tr style=\"text-align: right;\">\n",
       "      <th></th>\n",
       "      <th>user_id</th>\n",
       "      <th>movie_id</th>\n",
       "      <th>rating</th>\n",
       "      <th>timestamp</th>\n",
       "    </tr>\n",
       "  </thead>\n",
       "  <tbody>\n",
       "    <tr>\n",
       "      <th>171</th>\n",
       "      <td>1</td>\n",
       "      <td>2628</td>\n",
       "      <td>4.0</td>\n",
       "      <td>0</td>\n",
       "    </tr>\n",
       "    <tr>\n",
       "      <th>120</th>\n",
       "      <td>1</td>\n",
       "      <td>2018</td>\n",
       "      <td>5.0</td>\n",
       "      <td>0</td>\n",
       "    </tr>\n",
       "    <tr>\n",
       "      <th>183</th>\n",
       "      <td>1</td>\n",
       "      <td>2826</td>\n",
       "      <td>4.0</td>\n",
       "      <td>0</td>\n",
       "    </tr>\n",
       "    <tr>\n",
       "      <th>43</th>\n",
       "      <td>1</td>\n",
       "      <td>804</td>\n",
       "      <td>4.0</td>\n",
       "      <td>0</td>\n",
       "    </tr>\n",
       "    <tr>\n",
       "      <th>73</th>\n",
       "      <td>1</td>\n",
       "      <td>1210</td>\n",
       "      <td>5.0</td>\n",
       "      <td>0</td>\n",
       "    </tr>\n",
       "    <tr>\n",
       "      <th>...</th>\n",
       "      <td>...</td>\n",
       "      <td>...</td>\n",
       "      <td>...</td>\n",
       "      <td>...</td>\n",
       "    </tr>\n",
       "    <tr>\n",
       "      <th>31</th>\n",
       "      <td>1</td>\n",
       "      <td>553</td>\n",
       "      <td>5.0</td>\n",
       "      <td>36</td>\n",
       "    </tr>\n",
       "    <tr>\n",
       "      <th>9</th>\n",
       "      <td>1</td>\n",
       "      <td>157</td>\n",
       "      <td>5.0</td>\n",
       "      <td>36</td>\n",
       "    </tr>\n",
       "    <tr>\n",
       "      <th>119</th>\n",
       "      <td>1</td>\n",
       "      <td>2012</td>\n",
       "      <td>4.0</td>\n",
       "      <td>36</td>\n",
       "    </tr>\n",
       "    <tr>\n",
       "      <th>95</th>\n",
       "      <td>1</td>\n",
       "      <td>1445</td>\n",
       "      <td>3.0</td>\n",
       "      <td>36</td>\n",
       "    </tr>\n",
       "    <tr>\n",
       "      <th>160</th>\n",
       "      <td>1</td>\n",
       "      <td>2478</td>\n",
       "      <td>4.0</td>\n",
       "      <td>36</td>\n",
       "    </tr>\n",
       "  </tbody>\n",
       "</table>\n",
       "<p>231 rows × 4 columns</p>\n",
       "</div>"
      ],
      "text/plain": [
       "     user_id  movie_id  rating  timestamp\n",
       "171        1      2628     4.0          0\n",
       "120        1      2018     5.0          0\n",
       "183        1      2826     4.0          0\n",
       "43         1       804     4.0          0\n",
       "73         1      1210     5.0          0\n",
       "..       ...       ...     ...        ...\n",
       "31         1       553     5.0         36\n",
       "9          1       157     5.0         36\n",
       "119        1      2012     4.0         36\n",
       "95         1      1445     3.0         36\n",
       "160        1      2478     4.0         36\n",
       "\n",
       "[231 rows x 4 columns]"
      ]
     },
     "execution_count": 17,
     "metadata": {},
     "output_type": "execute_result"
    }
   ],
=======
   "execution_count": null,
   "id": "a13fb3ad",
   "metadata": {},
   "outputs": [],
>>>>>>> sigmod-experiments
   "source": [
    "train_df[train_df[\"user_id\"] == 1]"
   ]
  },
  {
   "cell_type": "markdown",
   "id": "2f8515eb",
   "metadata": {},
   "source": [
    "## Create Matrix "
   ]
  },
  {
   "cell_type": "code",
<<<<<<< HEAD
   "execution_count": 18,
   "id": "f3b1d3e9",
   "metadata": {},
   "outputs": [
    {
     "data": {
      "text/html": [
       "<div>\n",
       "<style scoped>\n",
       "    .dataframe tbody tr th:only-of-type {\n",
       "        vertical-align: middle;\n",
       "    }\n",
       "\n",
       "    .dataframe tbody tr th {\n",
       "        vertical-align: top;\n",
       "    }\n",
       "\n",
       "    .dataframe thead th {\n",
       "        text-align: right;\n",
       "    }\n",
       "</style>\n",
       "<table border=\"1\" class=\"dataframe\">\n",
       "  <thead>\n",
       "    <tr style=\"text-align: right;\">\n",
       "      <th></th>\n",
       "      <th>user_id</th>\n",
       "      <th>movie_id</th>\n",
       "      <th>rating</th>\n",
       "      <th>timestamp</th>\n",
       "      <th>movie_id_r</th>\n",
       "      <th>title</th>\n",
       "      <th>genres</th>\n",
       "      <th>user_id_t</th>\n",
       "      <th>movie_id_t</th>\n",
       "      <th>tag</th>\n",
       "      <th>timestamp_t</th>\n",
       "    </tr>\n",
       "  </thead>\n",
       "  <tbody>\n",
       "    <tr>\n",
       "      <th>79121</th>\n",
       "      <td>490</td>\n",
       "      <td>186</td>\n",
       "      <td>2.0</td>\n",
       "      <td>0</td>\n",
       "      <td>218.0</td>\n",
       "      <td>Boys on the Side (1995)</td>\n",
       "      <td>Comedy|Drama</td>\n",
       "      <td>62.0</td>\n",
       "      <td>49530.0</td>\n",
       "      <td>Leonardo DiCaprio</td>\n",
       "      <td>1.536875e+09</td>\n",
       "    </tr>\n",
       "    <tr>\n",
       "      <th>39223</th>\n",
       "      <td>273</td>\n",
       "      <td>593</td>\n",
       "      <td>5.0</td>\n",
       "      <td>0</td>\n",
       "      <td>735.0</td>\n",
       "      <td>Cemetery Man (Dellamorte Dellamore) (1994)</td>\n",
       "      <td>Horror</td>\n",
       "      <td>318.0</td>\n",
       "      <td>68954.0</td>\n",
       "      <td>children</td>\n",
       "      <td>1.266409e+09</td>\n",
       "    </tr>\n",
       "    <tr>\n",
       "      <th>39224</th>\n",
       "      <td>273</td>\n",
       "      <td>595</td>\n",
       "      <td>5.0</td>\n",
       "      <td>0</td>\n",
       "      <td>737.0</td>\n",
       "      <td>Barb Wire (1996)</td>\n",
       "      <td>Action|Sci-Fi</td>\n",
       "      <td>318.0</td>\n",
       "      <td>68954.0</td>\n",
       "      <td>divorce</td>\n",
       "      <td>1.266409e+09</td>\n",
       "    </tr>\n",
       "    <tr>\n",
       "      <th>39313</th>\n",
       "      <td>274</td>\n",
       "      <td>431</td>\n",
       "      <td>4.0</td>\n",
       "      <td>0</td>\n",
       "      <td>494.0</td>\n",
       "      <td>Executive Decision (1996)</td>\n",
       "      <td>Action|Adventure|Thriller</td>\n",
       "      <td>125.0</td>\n",
       "      <td>1726.0</td>\n",
       "      <td>Kevin Costner</td>\n",
       "      <td>1.474483e+09</td>\n",
       "    </tr>\n",
       "    <tr>\n",
       "      <th>39319</th>\n",
       "      <td>274</td>\n",
       "      <td>485</td>\n",
       "      <td>2.0</td>\n",
       "      <td>0</td>\n",
       "      <td>553.0</td>\n",
       "      <td>Tombstone (1993)</td>\n",
       "      <td>Action|Drama|Western</td>\n",
       "      <td>161.0</td>\n",
       "      <td>52287.0</td>\n",
       "      <td>Something for everyone in this one... saw it w...</td>\n",
       "      <td>1.176499e+09</td>\n",
       "    </tr>\n",
       "    <tr>\n",
       "      <th>...</th>\n",
       "      <td>...</td>\n",
       "      <td>...</td>\n",
       "      <td>...</td>\n",
       "      <td>...</td>\n",
       "      <td>...</td>\n",
       "      <td>...</td>\n",
       "      <td>...</td>\n",
       "      <td>...</td>\n",
       "      <td>...</td>\n",
       "      <td>...</td>\n",
       "      <td>...</td>\n",
       "    </tr>\n",
       "    <tr>\n",
       "      <th>2841</th>\n",
       "      <td>19</td>\n",
       "      <td>3034</td>\n",
       "      <td>3.0</td>\n",
       "      <td>79</td>\n",
       "      <td>4062.0</td>\n",
       "      <td>Mystic Pizza (1988)</td>\n",
       "      <td>Comedy|Drama|Romance</td>\n",
       "      <td>567.0</td>\n",
       "      <td>5673.0</td>\n",
       "      <td>unique</td>\n",
       "      <td>1.525283e+09</td>\n",
       "    </tr>\n",
       "    <tr>\n",
       "      <th>88129</th>\n",
       "      <td>567</td>\n",
       "      <td>152063</td>\n",
       "      <td>0.5</td>\n",
       "      <td>79</td>\n",
       "      <td>NaN</td>\n",
       "      <td>NaN</td>\n",
       "      <td>NaN</td>\n",
       "      <td>NaN</td>\n",
       "      <td>NaN</td>\n",
       "      <td>NaN</td>\n",
       "      <td>NaN</td>\n",
       "    </tr>\n",
       "    <tr>\n",
       "      <th>2342</th>\n",
       "      <td>19</td>\n",
       "      <td>364</td>\n",
       "      <td>3.0</td>\n",
       "      <td>79</td>\n",
       "      <td>420.0</td>\n",
       "      <td>Beverly Hills Cop III (1994)</td>\n",
       "      <td>Action|Comedy|Crime|Thriller</td>\n",
       "      <td>62.0</td>\n",
       "      <td>136864.0</td>\n",
       "      <td>superman</td>\n",
       "      <td>1.525555e+09</td>\n",
       "    </tr>\n",
       "    <tr>\n",
       "      <th>32705</th>\n",
       "      <td>222</td>\n",
       "      <td>4844</td>\n",
       "      <td>2.5</td>\n",
       "      <td>79</td>\n",
       "      <td>7236.0</td>\n",
       "      <td>Boy and His Dog, A (1975)</td>\n",
       "      <td>Sci-Fi</td>\n",
       "      <td>NaN</td>\n",
       "      <td>NaN</td>\n",
       "      <td>NaN</td>\n",
       "      <td>NaN</td>\n",
       "    </tr>\n",
       "    <tr>\n",
       "      <th>95638</th>\n",
       "      <td>600</td>\n",
       "      <td>4280</td>\n",
       "      <td>4.0</td>\n",
       "      <td>79</td>\n",
       "      <td>6249.0</td>\n",
       "      <td>Boat Trip (2003)</td>\n",
       "      <td>Comedy</td>\n",
       "      <td>NaN</td>\n",
       "      <td>NaN</td>\n",
       "      <td>NaN</td>\n",
       "      <td>NaN</td>\n",
       "    </tr>\n",
       "  </tbody>\n",
       "</table>\n",
       "<p>50407 rows × 11 columns</p>\n",
       "</div>"
      ],
      "text/plain": [
       "       user_id  movie_id  rating  timestamp  movie_id_r  \\\n",
       "79121      490       186     2.0          0       218.0   \n",
       "39223      273       593     5.0          0       735.0   \n",
       "39224      273       595     5.0          0       737.0   \n",
       "39313      274       431     4.0          0       494.0   \n",
       "39319      274       485     2.0          0       553.0   \n",
       "...        ...       ...     ...        ...         ...   \n",
       "2841        19      3034     3.0         79      4062.0   \n",
       "88129      567    152063     0.5         79         NaN   \n",
       "2342        19       364     3.0         79       420.0   \n",
       "32705      222      4844     2.5         79      7236.0   \n",
       "95638      600      4280     4.0         79      6249.0   \n",
       "\n",
       "                                            title  \\\n",
       "79121                     Boys on the Side (1995)   \n",
       "39223  Cemetery Man (Dellamorte Dellamore) (1994)   \n",
       "39224                            Barb Wire (1996)   \n",
       "39313                   Executive Decision (1996)   \n",
       "39319                            Tombstone (1993)   \n",
       "...                                           ...   \n",
       "2841                          Mystic Pizza (1988)   \n",
       "88129                                         NaN   \n",
       "2342                 Beverly Hills Cop III (1994)   \n",
       "32705                   Boy and His Dog, A (1975)   \n",
       "95638                            Boat Trip (2003)   \n",
       "\n",
       "                             genres  user_id_t  movie_id_t  \\\n",
       "79121                  Comedy|Drama       62.0     49530.0   \n",
       "39223                        Horror      318.0     68954.0   \n",
       "39224                 Action|Sci-Fi      318.0     68954.0   \n",
       "39313     Action|Adventure|Thriller      125.0      1726.0   \n",
       "39319          Action|Drama|Western      161.0     52287.0   \n",
       "...                             ...        ...         ...   \n",
       "2841           Comedy|Drama|Romance      567.0      5673.0   \n",
       "88129                           NaN        NaN         NaN   \n",
       "2342   Action|Comedy|Crime|Thriller       62.0    136864.0   \n",
       "32705                        Sci-Fi        NaN         NaN   \n",
       "95638                        Comedy        NaN         NaN   \n",
       "\n",
       "                                                     tag   timestamp_t  \n",
       "79121                                  Leonardo DiCaprio  1.536875e+09  \n",
       "39223                                           children  1.266409e+09  \n",
       "39224                                            divorce  1.266409e+09  \n",
       "39313                                      Kevin Costner  1.474483e+09  \n",
       "39319  Something for everyone in this one... saw it w...  1.176499e+09  \n",
       "...                                                  ...           ...  \n",
       "2841                                              unique  1.525283e+09  \n",
       "88129                                                NaN           NaN  \n",
       "2342                                            superman  1.525555e+09  \n",
       "32705                                                NaN           NaN  \n",
       "95638                                                NaN           NaN  \n",
       "\n",
       "[50407 rows x 11 columns]"
      ]
     },
     "execution_count": 18,
     "metadata": {},
     "output_type": "execute_result"
    }
   ],
=======
   "execution_count": null,
   "id": "f3b1d3e9",
   "metadata": {},
   "outputs": [],
>>>>>>> sigmod-experiments
   "source": [
    "combined_df = train_df.join(movies, on=['movie_id'], rsuffix='_r').join(tags, on=['movie_id'], rsuffix='_t')\n",
    "combined_df"
   ]
  },
  {
   "cell_type": "code",
<<<<<<< HEAD
   "execution_count": 19,
=======
   "execution_count": null,
>>>>>>> sigmod-experiments
   "id": "54669d99",
   "metadata": {},
   "outputs": [],
   "source": [
    "pivot_table = combined_df.pivot_table(columns=['movie_id'], index=['user_id'], values='rating')\n",
    "A = pivot_table.fillna(0).values"
   ]
  },
  {
   "cell_type": "code",
<<<<<<< HEAD
   "execution_count": 20,
=======
   "execution_count": null,
>>>>>>> sigmod-experiments
   "id": "a0bd7346",
   "metadata": {},
   "outputs": [],
   "source": [
    "movie_to_index = {pivot_table.columns[i]: i for i in range(len(pivot_table.columns))}\n",
    "user_to_index = {pivot_table.index[i]: i for i in range(len(pivot_table.index))}"
   ]
  },
  {
   "cell_type": "code",
<<<<<<< HEAD
   "execution_count": 21,
=======
   "execution_count": null,
>>>>>>> sigmod-experiments
   "id": "c977fedd",
   "metadata": {},
   "outputs": [],
   "source": [
    "R = A>0.5; R[R == True] = 1; R[R == False] = 0; R = R.astype(np.float64, copy=False)"
   ]
  },
  {
   "cell_type": "code",
<<<<<<< HEAD
   "execution_count": 22,
   "id": "218a67d2",
   "metadata": {},
   "outputs": [
    {
     "data": {
      "text/plain": [
       "array([[1., 0., 1., ..., 0., 0., 0.],\n",
       "       [0., 0., 0., ..., 0., 0., 0.],\n",
       "       [0., 0., 0., ..., 0., 0., 0.],\n",
       "       ...,\n",
       "       [0., 0., 0., ..., 0., 0., 0.],\n",
       "       [1., 0., 0., ..., 0., 0., 0.],\n",
       "       [1., 0., 0., ..., 0., 0., 0.]])"
      ]
     },
     "execution_count": 22,
     "metadata": {},
     "output_type": "execute_result"
    }
   ],
=======
   "execution_count": null,
   "id": "218a67d2",
   "metadata": {},
   "outputs": [],
>>>>>>> sigmod-experiments
   "source": [
    "R"
   ]
  },
  {
   "cell_type": "code",
<<<<<<< HEAD
   "execution_count": 23,
   "id": "ff97fdbb",
   "metadata": {},
   "outputs": [
    {
     "data": {
      "text/plain": [
       "(610, 5880)"
      ]
     },
     "execution_count": 23,
     "metadata": {},
     "output_type": "execute_result"
    }
   ],
=======
   "execution_count": null,
   "id": "ff97fdbb",
   "metadata": {},
   "outputs": [],
>>>>>>> sigmod-experiments
   "source": [
    "R.shape"
   ]
  },
  {
   "cell_type": "code",
<<<<<<< HEAD
   "execution_count": 24,
   "id": "a7fdd05b",
   "metadata": {},
   "outputs": [
    {
     "data": {
      "text/plain": [
       "array([[4., 0., 4., ..., 0., 0., 0.],\n",
       "       [0., 0., 0., ..., 0., 0., 0.],\n",
       "       [0., 0., 0., ..., 0., 0., 0.],\n",
       "       ...,\n",
       "       [0., 0., 0., ..., 0., 0., 0.],\n",
       "       [3., 0., 0., ..., 0., 0., 0.],\n",
       "       [5., 0., 0., ..., 0., 0., 0.]])"
      ]
     },
     "execution_count": 24,
     "metadata": {},
     "output_type": "execute_result"
    }
   ],
=======
   "execution_count": null,
   "id": "a7fdd05b",
   "metadata": {},
   "outputs": [],
>>>>>>> sigmod-experiments
   "source": [
    "A"
   ]
  },
  {
   "cell_type": "code",
<<<<<<< HEAD
   "execution_count": 25,
   "id": "aba2955e",
   "metadata": {},
   "outputs": [
    {
     "data": {
      "text/plain": [
       "(610, 5880)"
      ]
     },
     "execution_count": 25,
     "metadata": {},
     "output_type": "execute_result"
    }
   ],
=======
   "execution_count": null,
   "id": "aba2955e",
   "metadata": {},
   "outputs": [],
>>>>>>> sigmod-experiments
   "source": [
    "A.shape"
   ]
  },
  {
   "cell_type": "markdown",
   "id": "8176c444",
   "metadata": {},
   "source": [
    "# Train ALS Model "
   ]
  },
  {
   "cell_type": "code",
<<<<<<< HEAD
   "execution_count": 26,
   "id": "e78bf443",
   "metadata": {},
   "outputs": [
    {
     "data": {
      "text/html": [
       "<div>\n",
       "<style scoped>\n",
       "    .dataframe tbody tr th:only-of-type {\n",
       "        vertical-align: middle;\n",
       "    }\n",
       "\n",
       "    .dataframe tbody tr th {\n",
       "        vertical-align: top;\n",
       "    }\n",
       "\n",
       "    .dataframe thead th {\n",
       "        text-align: right;\n",
       "    }\n",
       "</style>\n",
       "<table border=\"1\" class=\"dataframe\">\n",
       "  <thead>\n",
       "    <tr style=\"text-align: right;\">\n",
       "      <th></th>\n",
       "      <th>user_id</th>\n",
       "      <th>movie_id</th>\n",
       "      <th>rating</th>\n",
       "      <th>timestamp</th>\n",
       "    </tr>\n",
       "  </thead>\n",
       "  <tbody>\n",
       "    <tr>\n",
       "      <th>6192</th>\n",
       "      <td>42</td>\n",
       "      <td>3033</td>\n",
       "      <td>4.0</td>\n",
       "      <td>0</td>\n",
       "    </tr>\n",
       "    <tr>\n",
       "      <th>6003</th>\n",
       "      <td>42</td>\n",
       "      <td>1097</td>\n",
       "      <td>4.0</td>\n",
       "      <td>1</td>\n",
       "    </tr>\n",
       "    <tr>\n",
       "      <th>6000</th>\n",
       "      <td>42</td>\n",
       "      <td>1090</td>\n",
       "      <td>5.0</td>\n",
       "      <td>1</td>\n",
       "    </tr>\n",
       "    <tr>\n",
       "      <th>6252</th>\n",
       "      <td>42</td>\n",
       "      <td>3793</td>\n",
       "      <td>2.0</td>\n",
       "      <td>2</td>\n",
       "    </tr>\n",
       "    <tr>\n",
       "      <th>6248</th>\n",
       "      <td>42</td>\n",
       "      <td>3753</td>\n",
       "      <td>4.0</td>\n",
       "      <td>2</td>\n",
       "    </tr>\n",
       "    <tr>\n",
       "      <th>...</th>\n",
       "      <td>...</td>\n",
       "      <td>...</td>\n",
       "      <td>...</td>\n",
       "      <td>...</td>\n",
       "    </tr>\n",
       "    <tr>\n",
       "      <th>5964</th>\n",
       "      <td>42</td>\n",
       "      <td>552</td>\n",
       "      <td>4.0</td>\n",
       "      <td>78</td>\n",
       "    </tr>\n",
       "    <tr>\n",
       "      <th>6008</th>\n",
       "      <td>42</td>\n",
       "      <td>1191</td>\n",
       "      <td>4.0</td>\n",
       "      <td>78</td>\n",
       "    </tr>\n",
       "    <tr>\n",
       "      <th>5950</th>\n",
       "      <td>42</td>\n",
       "      <td>459</td>\n",
       "      <td>3.0</td>\n",
       "      <td>79</td>\n",
       "    </tr>\n",
       "    <tr>\n",
       "      <th>5909</th>\n",
       "      <td>42</td>\n",
       "      <td>236</td>\n",
       "      <td>3.0</td>\n",
       "      <td>79</td>\n",
       "    </tr>\n",
       "    <tr>\n",
       "      <th>5885</th>\n",
       "      <td>42</td>\n",
       "      <td>86</td>\n",
       "      <td>4.0</td>\n",
       "      <td>79</td>\n",
       "    </tr>\n",
       "  </tbody>\n",
       "</table>\n",
       "<p>239 rows × 4 columns</p>\n",
       "</div>"
      ],
      "text/plain": [
       "      user_id  movie_id  rating  timestamp\n",
       "6192       42      3033     4.0          0\n",
       "6003       42      1097     4.0          1\n",
       "6000       42      1090     5.0          1\n",
       "6252       42      3793     2.0          2\n",
       "6248       42      3753     4.0          2\n",
       "...       ...       ...     ...        ...\n",
       "5964       42       552     4.0         78\n",
       "6008       42      1191     4.0         78\n",
       "5950       42       459     3.0         79\n",
       "5909       42       236     3.0         79\n",
       "5885       42        86     4.0         79\n",
       "\n",
       "[239 rows x 4 columns]"
      ]
     },
     "execution_count": 26,
     "metadata": {},
     "output_type": "execute_result"
    }
   ],
=======
   "execution_count": null,
   "id": "e78bf443",
   "metadata": {},
   "outputs": [],
>>>>>>> sigmod-experiments
   "source": [
    "train_df[train_df[\"user_id\"] == 42]"
   ]
  },
  {
   "cell_type": "code",
<<<<<<< HEAD
   "execution_count": 440,
=======
   "execution_count": null,
>>>>>>> sigmod-experiments
   "id": "9026cc65",
   "metadata": {},
   "outputs": [],
   "source": [
    "spark = SparkSession.builder.master('local').appName('als').getOrCreate()"
   ]
  },
  {
   "cell_type": "code",
<<<<<<< HEAD
   "execution_count": 441,
=======
   "execution_count": null,
>>>>>>> sigmod-experiments
   "id": "a919eeb0",
   "metadata": {},
   "outputs": [],
   "source": [
    "spark_als_df = spark.createDataFrame(train_df) "
   ]
  },
  {
   "cell_type": "code",
<<<<<<< HEAD
   "execution_count": 442,
=======
   "execution_count": null,
>>>>>>> sigmod-experiments
   "id": "378f8191",
   "metadata": {},
   "outputs": [],
   "source": [
    "als = ALS(\n",
    "         userCol=\"user_id\", \n",
    "         itemCol=\"movie_id\",\n",
    "         ratingCol=\"rating\", \n",
    "         nonnegative = True, \n",
    "         implicitPrefs = False,\n",
    "         coldStartStrategy=\"drop\",\n",
    "         rank=150,\n",
    "         maxIter=10,\n",
    "         regParam=.1\n",
    ")"
   ]
  },
  {
   "cell_type": "code",
<<<<<<< HEAD
   "execution_count": 443,
=======
   "execution_count": null,
>>>>>>> sigmod-experiments
   "id": "0d519a81",
   "metadata": {},
   "outputs": [],
   "source": [
    "model=als.fit(spark_als_df)"
   ]
  },
  {
   "cell_type": "code",
<<<<<<< HEAD
   "execution_count": 444,
   "id": "56f1670b",
   "metadata": {},
   "outputs": [
    {
     "name": "stderr",
     "output_type": "stream",
     "text": [
      "/data/wooders/anaconda3/lib/python3.8/site-packages/pyspark/sql/context.py:125: FutureWarning: Deprecated in 3.0.0. Use SparkSession.builder.getOrCreate() instead.\n",
      "  warnings.warn(\n"
     ]
    },
    {
     "data": {
      "text/html": [
       "<div>\n",
       "<style scoped>\n",
       "    .dataframe tbody tr th:only-of-type {\n",
       "        vertical-align: middle;\n",
       "    }\n",
       "\n",
       "    .dataframe tbody tr th {\n",
       "        vertical-align: top;\n",
       "    }\n",
       "\n",
       "    .dataframe thead th {\n",
       "        text-align: right;\n",
       "    }\n",
       "</style>\n",
       "<table border=\"1\" class=\"dataframe\">\n",
       "  <thead>\n",
       "    <tr style=\"text-align: right;\">\n",
       "      <th></th>\n",
       "      <th>id</th>\n",
       "      <th>features</th>\n",
       "    </tr>\n",
       "  </thead>\n",
       "  <tbody>\n",
       "    <tr>\n",
       "      <th>0</th>\n",
       "      <td>10</td>\n",
       "      <td>[0.11650148779153824, 0.04232074320316315, 0.0...</td>\n",
       "    </tr>\n",
       "    <tr>\n",
       "      <th>1</th>\n",
       "      <td>20</td>\n",
       "      <td>[0.2106592059135437, 0.05959160625934601, 0.00...</td>\n",
       "    </tr>\n",
       "    <tr>\n",
       "      <th>2</th>\n",
       "      <td>30</td>\n",
       "      <td>[0.0, 0.24659287929534912, 0.06424497067928314...</td>\n",
       "    </tr>\n",
       "    <tr>\n",
       "      <th>3</th>\n",
       "      <td>40</td>\n",
       "      <td>[0.07291918992996216, 0.018218539655208588, 0....</td>\n",
       "    </tr>\n",
       "    <tr>\n",
       "      <th>4</th>\n",
       "      <td>50</td>\n",
       "      <td>[0.11718441545963287, 0.26664504408836365, 0.0...</td>\n",
       "    </tr>\n",
       "    <tr>\n",
       "      <th>...</th>\n",
       "      <td>...</td>\n",
       "      <td>...</td>\n",
       "    </tr>\n",
       "    <tr>\n",
       "      <th>5875</th>\n",
       "      <td>184349</td>\n",
       "      <td>[0.31705808639526367, 0.24816708266735077, 0.0...</td>\n",
       "    </tr>\n",
       "    <tr>\n",
       "      <th>5876</th>\n",
       "      <td>185029</td>\n",
       "      <td>[0.0, 0.2722361981868744, 0.052408330142498016...</td>\n",
       "    </tr>\n",
       "    <tr>\n",
       "      <th>5877</th>\n",
       "      <td>190209</td>\n",
       "      <td>[0.0, 0.22294940054416656, 0.05644667148590088...</td>\n",
       "    </tr>\n",
       "    <tr>\n",
       "      <th>5878</th>\n",
       "      <td>190219</td>\n",
       "      <td>[0.0, 0.05573735013604164, 0.01411166787147522...</td>\n",
       "    </tr>\n",
       "    <tr>\n",
       "      <th>5879</th>\n",
       "      <td>193609</td>\n",
       "      <td>[0.13288892805576324, 0.2762823700904846, 0.03...</td>\n",
       "    </tr>\n",
       "  </tbody>\n",
       "</table>\n",
       "<p>5880 rows × 2 columns</p>\n",
       "</div>"
      ],
      "text/plain": [
       "          id                                           features\n",
       "0         10  [0.11650148779153824, 0.04232074320316315, 0.0...\n",
       "1         20  [0.2106592059135437, 0.05959160625934601, 0.00...\n",
       "2         30  [0.0, 0.24659287929534912, 0.06424497067928314...\n",
       "3         40  [0.07291918992996216, 0.018218539655208588, 0....\n",
       "4         50  [0.11718441545963287, 0.26664504408836365, 0.0...\n",
       "...      ...                                                ...\n",
       "5875  184349  [0.31705808639526367, 0.24816708266735077, 0.0...\n",
       "5876  185029  [0.0, 0.2722361981868744, 0.052408330142498016...\n",
       "5877  190209  [0.0, 0.22294940054416656, 0.05644667148590088...\n",
       "5878  190219  [0.0, 0.05573735013604164, 0.01411166787147522...\n",
       "5879  193609  [0.13288892805576324, 0.2762823700904846, 0.03...\n",
       "\n",
       "[5880 rows x 2 columns]"
      ]
     },
     "execution_count": 444,
     "metadata": {},
     "output_type": "execute_result"
    }
   ],
=======
   "execution_count": null,
   "id": "56f1670b",
   "metadata": {},
   "outputs": [],
>>>>>>> sigmod-experiments
   "source": [
    "model.itemFactors.toPandas()"
   ]
  },
  {
   "cell_type": "code",
<<<<<<< HEAD
   "execution_count": 445,
   "id": "1aaacd01",
   "metadata": {},
   "outputs": [
    {
     "name": "stderr",
     "output_type": "stream",
     "text": [
      "/data/wooders/anaconda3/lib/python3.8/site-packages/pyspark/sql/context.py:125: FutureWarning: Deprecated in 3.0.0. Use SparkSession.builder.getOrCreate() instead.\n",
      "  warnings.warn(\n"
     ]
    },
    {
     "data": {
      "text/plain": [
       "features    [0.10101053863763809, 0.04698500409722328, 0.0...\n",
       "Name: 1, dtype: object"
      ]
     },
     "execution_count": 445,
     "metadata": {},
     "output_type": "execute_result"
    }
   ],
=======
   "execution_count": null,
   "id": "1aaacd01",
   "metadata": {},
   "outputs": [],
>>>>>>> sigmod-experiments
   "source": [
    "movie_table = model.itemFactors.toPandas().sort_values(\"id\").set_index(\"id\")\n",
    "user_table = model.userFactors.toPandas().sort_values(\"id\").set_index(\"id\")\n",
    "movie_table.loc[1]"
   ]
  },
  {
   "cell_type": "code",
<<<<<<< HEAD
   "execution_count": 446,
   "id": "4e28a8d5",
   "metadata": {},
   "outputs": [
    {
     "data": {
      "text/plain": [
       "features    [0.05390123277902603, 0.021040668711066246, 0....\n",
       "Name: 42, dtype: object"
      ]
     },
     "execution_count": 446,
     "metadata": {},
     "output_type": "execute_result"
    }
   ],
=======
   "execution_count": null,
   "id": "4e28a8d5",
   "metadata": {},
   "outputs": [],
>>>>>>> sigmod-experiments
   "source": [
    "user_table.loc[42]"
   ]
  },
  {
   "cell_type": "code",
<<<<<<< HEAD
   "execution_count": 447,
=======
   "execution_count": null,
>>>>>>> sigmod-experiments
   "id": "5aff7cbb",
   "metadata": {},
   "outputs": [],
   "source": [
    "user_matrix = model.userFactors.toPandas().sort_values(\"id\").set_index(\"id\").features.to_list()"
   ]
  },
  {
   "cell_type": "code",
<<<<<<< HEAD
   "execution_count": 448,
=======
   "execution_count": null,
>>>>>>> sigmod-experiments
   "id": "67aa3865",
   "metadata": {},
   "outputs": [],
   "source": [
    "movie_matrix = model.itemFactors.toPandas().sort_values(\"id\").set_index(\"id\").features.to_list()"
   ]
  },
  {
   "cell_type": "code",
<<<<<<< HEAD
   "execution_count": 449,
=======
   "execution_count": null,
>>>>>>> sigmod-experiments
   "id": "7bf3e173",
   "metadata": {},
   "outputs": [],
   "source": [
    "user_matrix = np.array(user_matrix)"
   ]
  },
  {
   "cell_type": "code",
<<<<<<< HEAD
   "execution_count": 450,
=======
   "execution_count": null,
>>>>>>> sigmod-experiments
   "id": "9b172601",
   "metadata": {},
   "outputs": [],
   "source": [
    "movie_matrix = np.array(movie_matrix)"
   ]
  },
  {
   "cell_type": "code",
<<<<<<< HEAD
   "execution_count": 451,
   "id": "4db14ac4",
   "metadata": {},
   "outputs": [
    {
     "data": {
      "text/plain": [
       "(5880, 150)"
      ]
     },
     "execution_count": 451,
     "metadata": {},
     "output_type": "execute_result"
    }
   ],
=======
   "execution_count": null,
   "id": "4db14ac4",
   "metadata": {},
   "outputs": [],
>>>>>>> sigmod-experiments
   "source": [
    "movie_matrix.shape"
   ]
  },
  {
   "cell_type": "code",
<<<<<<< HEAD
   "execution_count": 452,
   "id": "cfd5dd07",
   "metadata": {},
   "outputs": [
    {
     "data": {
      "text/plain": [
       "(610, 150)"
      ]
     },
     "execution_count": 452,
     "metadata": {},
     "output_type": "execute_result"
    }
   ],
=======
   "execution_count": null,
   "id": "cfd5dd07",
   "metadata": {},
   "outputs": [],
>>>>>>> sigmod-experiments
   "source": [
    "user_matrix.shape"
   ]
  },
  {
   "cell_type": "markdown",
   "id": "a67e5a49",
   "metadata": {},
   "source": [
    "## Evaluate on Test Data "
   ]
  },
  {
   "cell_type": "code",
<<<<<<< HEAD
   "execution_count": 435,
=======
   "execution_count": null,
>>>>>>> sigmod-experiments
   "id": "ffab0a84",
   "metadata": {},
   "outputs": [],
   "source": [
    "# ALS Evaluation\n",
    "spark_als_test_df = spark.createDataFrame(test_df) \n",
    "predictions = model.transform(spark_als_test_df)"
   ]
  },
  {
   "cell_type": "code",
<<<<<<< HEAD
   "execution_count": 436,
   "id": "7de9295d",
   "metadata": {},
   "outputs": [
    {
     "data": {
      "text/plain": [
       "0.9929453775047337"
      ]
     },
     "execution_count": 436,
     "metadata": {},
     "output_type": "execute_result"
    }
   ],
=======
   "execution_count": null,
   "id": "7de9295d",
   "metadata": {},
   "outputs": [],
>>>>>>> sigmod-experiments
   "source": [
    "evaluator = RegressionEvaluator().setMetricName(\"rmse\").setLabelCol(\"rating\").setPredictionCol(\"prediction\")\n",
    "rmse = evaluator.evaluate(predictions)\n",
    "rmse"
   ]
  },
  {
   "cell_type": "code",
<<<<<<< HEAD
   "execution_count": 437,
   "id": "34a8d2b1",
   "metadata": {},
   "outputs": [
    {
     "data": {
      "text/plain": [
       "0.9929453775047337"
      ]
     },
     "execution_count": 437,
     "metadata": {},
     "output_type": "execute_result"
    }
   ],
=======
   "execution_count": null,
   "id": "34a8d2b1",
   "metadata": {},
   "outputs": [],
>>>>>>> sigmod-experiments
   "source": [
    "evaluator = RegressionEvaluator().setMetricName(\"rmse\").setLabelCol(\"rating\").setPredictionCol(\"prediction\")\n",
    "rmse = evaluator.evaluate(predictions)\n",
    "rmse"
   ]
  },
  {
   "cell_type": "code",
<<<<<<< HEAD
   "execution_count": 438,
   "id": "8969e46a",
   "metadata": {},
   "outputs": [
    {
     "data": {
      "text/plain": [
       "0.985940522708018"
      ]
     },
     "execution_count": 438,
     "metadata": {},
     "output_type": "execute_result"
    }
   ],
=======
   "execution_count": null,
   "id": "8969e46a",
   "metadata": {},
   "outputs": [],
>>>>>>> sigmod-experiments
   "source": [
    "rmse*rmse"
   ]
  },
  {
   "cell_type": "code",
<<<<<<< HEAD
   "execution_count": 461,
=======
   "execution_count": null,
>>>>>>> sigmod-experiments
   "id": "c4b050ec",
   "metadata": {},
   "outputs": [],
   "source": [
    "def evaluate(df, curr_user_matrix, curr_movie_matrix): \n",
    "\n",
    "    y_pred = []\n",
    "    y_true = [] \n",
    "\n",
    "    for index, row in df.iterrows():\n",
    "        #print(row)\n",
    "        ui = user_to_index[int(row[\"user_id\"])]\n",
    "        mi = movie_to_index[int(row[\"movie_id\"])]\n",
    "        user_features = curr_user_matrix[ui]\n",
    "        movie_features = curr_movie_matrix[mi]\n",
    "        y_pred.append(np.dot(user_features, movie_features))\n",
    "        y_true.append(row[\"rating\"])\n",
    "        \n",
    "    return mean_squared_error(y_true, y_pred)"
   ]
  },
  {
   "cell_type": "code",
<<<<<<< HEAD
   "execution_count": 456,
=======
   "execution_count": null,
>>>>>>> sigmod-experiments
   "id": "e1755957",
   "metadata": {},
   "outputs": [],
   "source": [
    "from sklearn.metrics import mean_squared_error"
   ]
  },
  {
   "cell_type": "code",
<<<<<<< HEAD
   "execution_count": 463,
   "id": "5f914e59",
   "metadata": {},
   "outputs": [
    {
     "data": {
      "text/plain": [
       "0.9859405302385216"
      ]
     },
     "execution_count": 463,
     "metadata": {},
     "output_type": "execute_result"
    }
   ],
=======
   "execution_count": null,
   "id": "5f914e59",
   "metadata": {},
   "outputs": [],
>>>>>>> sigmod-experiments
   "source": [
    "evaluate(test_df, user_matrix, movie_matrix)"
   ]
  },
  {
   "cell_type": "code",
<<<<<<< HEAD
   "execution_count": 464,
   "id": "662efd57",
   "metadata": {},
   "outputs": [
    {
     "data": {
      "text/plain": [
       "0.19571238578648462"
      ]
     },
     "execution_count": 464,
     "metadata": {},
     "output_type": "execute_result"
    }
   ],
=======
   "execution_count": null,
   "id": "662efd57",
   "metadata": {},
   "outputs": [],
>>>>>>> sigmod-experiments
   "source": [
    "evaluate(train_df, user_matrix, movie_matrix)"
   ]
  },
  {
   "cell_type": "code",
<<<<<<< HEAD
   "execution_count": 462,
   "id": "e42c1143",
   "metadata": {},
   "outputs": [
    {
     "data": {
      "text/plain": [
       "0.9847773627960464"
      ]
     },
     "execution_count": 462,
     "metadata": {},
     "output_type": "execute_result"
    }
   ],
=======
   "execution_count": null,
   "id": "e42c1143",
   "metadata": {},
   "outputs": [],
>>>>>>> sigmod-experiments
   "source": [
    "evaluate(test_df, pickle.load(open(f\"{dataset_dir}/user_matrix.pkl\", \"rb\")), pickle.load(open(f\"{dataset_dir}/movie_matrix.pkl\", \"rb\")))"
   ]
  },
  {
   "cell_type": "code",
<<<<<<< HEAD
   "execution_count": 465,
   "id": "93fc019c",
   "metadata": {},
   "outputs": [
    {
     "data": {
      "text/plain": [
       "0.19477497114823844"
      ]
     },
     "execution_count": 465,
     "metadata": {},
     "output_type": "execute_result"
    }
   ],
=======
   "execution_count": null,
   "id": "93fc019c",
   "metadata": {},
   "outputs": [],
>>>>>>> sigmod-experiments
   "source": [
    "evaluate(train_df, pickle.load(open(f\"{dataset_dir}/user_matrix.pkl\", \"rb\")), pickle.load(open(f\"{dataset_dir}/movie_matrix.pkl\", \"rb\")))"
   ]
  },
  {
   "cell_type": "markdown",
   "id": "82187640",
   "metadata": {},
   "source": [
    "# Write Batch ALS Features "
   ]
  },
  {
   "cell_type": "code",
<<<<<<< HEAD
   "execution_count": 64,
=======
   "execution_count": null,
>>>>>>> sigmod-experiments
   "id": "e9c1f91b",
   "metadata": {},
   "outputs": [],
   "source": [
    "import pickle\n",
    "import json"
   ]
  },
  {
   "cell_type": "code",
<<<<<<< HEAD
   "execution_count": 466,
=======
   "execution_count": null,
>>>>>>> sigmod-experiments
   "id": "fc69f841",
   "metadata": {},
   "outputs": [],
   "source": [
    "pickle.dump(user_matrix, open(f\"{dataset_dir}/spark_user_matrix.pkl\", \"wb\"))\n",
    "pickle.dump(movie_matrix, open(f\"{dataset_dir}/spark_movie_matrix.pkl\", \"wb\"))"
   ]
  },
  {
   "cell_type": "code",
<<<<<<< HEAD
   "execution_count": 65,
=======
   "execution_count": null,
>>>>>>> sigmod-experiments
   "id": "f1b30c32",
   "metadata": {},
   "outputs": [],
   "source": [
    "#user_matrix = pickle.load(open(f\"{dataset_dir}/spark_user_matrix.pkl\", \"rb\"))\n",
    "#movie_matrix = pickle.load(open(f\"{dataset_dir}/spark_movie_matrix.pkl\", \"rb\"))\n",
    "user_matrix = pickle.load(open(f\"{dataset_dir}/trained_users.pkl\", \"rb\"))\n",
    "movie_matrix = pickle.load(open(f\"{dataset_dir}/trained_items.pkl\", \"rb\"))"
   ]
  },
  {
   "cell_type": "code",
<<<<<<< HEAD
   "execution_count": 68,
=======
   "execution_count": null,
>>>>>>> sigmod-experiments
   "id": "61d49b31",
   "metadata": {},
   "outputs": [],
   "source": [
    "movie_to_index = json.load(open(f\"{dataset_dir}/movie_to_index.json\", \"r\"))\n",
    "user_to_index = json.load(open(f\"{dataset_dir}/user_to_index.json\", \"r\"))\n",
    "A = pickle.load(open(f\"{dataset_dir}/A.pkl\", \"rb\"))\n",
    "R = pickle.load(open(f\"{dataset_dir}/R.pkl\", \"rb\"))\n",
    "\n",
    "test_df = pd.read_csv(f\"{dataset_dir}/test.csv\")"
   ]
  },
  {
   "cell_type": "markdown",
   "id": "ddc8bd0e",
   "metadata": {},
   "source": [
    "# Test Streaming Updates "
   ]
  },
  {
   "cell_type": "code",
<<<<<<< HEAD
   "execution_count": 15,
=======
   "execution_count": null,
>>>>>>> sigmod-experiments
   "id": "a89219da",
   "metadata": {},
   "outputs": [],
   "source": [
    "from tqdm import tqdm"
   ]
  },
  {
   "cell_type": "code",
<<<<<<< HEAD
   "execution_count": 4,
   "id": "bacf7f09",
   "metadata": {},
   "outputs": [
    {
     "ename": "NameError",
     "evalue": "name 'streaming_user_matrix' is not defined",
     "output_type": "error",
     "traceback": [
      "\u001b[0;31m---------------------------------------------------------------------------\u001b[0m",
      "\u001b[0;31mNameError\u001b[0m                                 Traceback (most recent call last)",
      "\u001b[0;32m<ipython-input-4-15428696d6f1>\u001b[0m in \u001b[0;36m<module>\u001b[0;34m\u001b[0m\n\u001b[0;32m----> 1\u001b[0;31m \u001b[0;32mdel\u001b[0m \u001b[0mstreaming_user_matrix\u001b[0m\u001b[0;34m\u001b[0m\u001b[0;34m\u001b[0m\u001b[0m\n\u001b[0m\u001b[1;32m      2\u001b[0m \u001b[0;32mdel\u001b[0m \u001b[0mA_matrix\u001b[0m\u001b[0;34m\u001b[0m\u001b[0;34m\u001b[0m\u001b[0m\n\u001b[1;32m      3\u001b[0m \u001b[0;32mdel\u001b[0m \u001b[0mR_matrix\u001b[0m\u001b[0;34m\u001b[0m\u001b[0;34m\u001b[0m\u001b[0m\n",
      "\u001b[0;31mNameError\u001b[0m: name 'streaming_user_matrix' is not defined"
     ]
    }
   ],
=======
   "execution_count": null,
   "id": "bacf7f09",
   "metadata": {},
   "outputs": [],
>>>>>>> sigmod-experiments
   "source": [
    "del streaming_user_matrix\n",
    "del A_matrix\n",
    "del R_matrix"
   ]
  },
  {
   "cell_type": "code",
<<<<<<< HEAD
   "execution_count": 26,
=======
   "execution_count": null,
>>>>>>> sigmod-experiments
   "id": "a3b6dccd",
   "metadata": {},
   "outputs": [],
   "source": [
    "limit = 100"
   ]
  },
  {
   "cell_type": "code",
<<<<<<< HEAD
   "execution_count": 27,
=======
   "execution_count": null,
>>>>>>> sigmod-experiments
   "id": "dbde5a0b",
   "metadata": {},
   "outputs": [],
   "source": [
    "from workloads.recsys.als import runALS"
   ]
  },
  {
   "cell_type": "code",
<<<<<<< HEAD
   "execution_count": 71,
   "id": "ecba755a",
   "metadata": {},
   "outputs": [
    {
     "name": "stderr",
     "output_type": "stream",
     "text": [
      "\r",
      "0it [00:00, ?it/s]"
     ]
    },
    {
     "name": "stdout",
     "output_type": "stream",
     "text": [
      "0 41 1599 (5880, 10)\n",
      "0.6889370618942472 0.6889370618942472\n",
      "Initiating \n",
      "Starting Iterations\n",
      "Error after solving for Item Matrix: tensor(0.1776, device='cuda:0', dtype=torch.float64)\n",
      "0th iteration is complete...\n"
     ]
    },
    {
     "name": "stderr",
     "output_type": "stream",
     "text": [
      "\r",
      "1it [00:29, 29.11s/it]"
     ]
    },
    {
     "name": "stdout",
     "output_type": "stream",
     "text": [
      "Error after solving for Item Matrix: tensor(0.1766, device='cuda:0', dtype=torch.float64)\n",
      "1th iteration is complete...\n",
      "[tensor(0.1776, device='cuda:0', dtype=torch.float64), tensor(0.1766, device='cuda:0', dtype=torch.float64)]\n",
      "1 267 744 (5880, 10)\n",
      "-2.625574400433976 -2.57143402540881\n",
      "Initiating \n",
      "Starting Iterations\n",
      "Error after solving for Item Matrix: tensor(0.1758, device='cuda:0', dtype=torch.float64)\n",
      "0th iteration is complete...\n"
     ]
    },
    {
     "name": "stderr",
     "output_type": "stream",
     "text": [
      "\r",
      "2it [00:57, 28.70s/it]"
     ]
    },
    {
     "name": "stdout",
     "output_type": "stream",
     "text": [
      "Error after solving for Item Matrix: tensor(0.1750, device='cuda:0', dtype=torch.float64)\n",
      "1th iteration is complete...\n",
      "[tensor(0.1758, device='cuda:0', dtype=torch.float64), tensor(0.1750, device='cuda:0', dtype=torch.float64)]\n",
      "2 216 1459 (5880, 10)\n",
      "2.7197844201481485 2.787629407692218\n",
      "Initiating \n",
      "Starting Iterations\n",
      "Error after solving for Item Matrix: tensor(0.1742, device='cuda:0', dtype=torch.float64)\n",
      "0th iteration is complete...\n"
     ]
    },
    {
     "name": "stderr",
     "output_type": "stream",
     "text": [
      "\r",
      "3it [05:03, 127.84s/it]"
     ]
    },
    {
     "name": "stdout",
     "output_type": "stream",
     "text": [
      "Error after solving for Item Matrix: tensor(0.1735, device='cuda:0', dtype=torch.float64)\n",
      "1th iteration is complete...\n",
      "[tensor(0.1742, device='cuda:0', dtype=torch.float64), tensor(0.1735, device='cuda:0', dtype=torch.float64)]\n",
      "3 508 2812 (5880, 10)\n",
      "0.9243579845264991 1.2405115660754173\n",
      "Initiating \n",
      "Starting Iterations\n",
      "Error after solving for Item Matrix: tensor(0.1728, device='cuda:0', dtype=torch.float64)\n",
      "0th iteration is complete...\n"
     ]
    },
    {
     "name": "stderr",
     "output_type": "stream",
     "text": [
      "\r",
      "4it [05:32, 88.69s/it] "
     ]
    },
    {
     "name": "stdout",
     "output_type": "stream",
     "text": [
      "Error after solving for Item Matrix: tensor(0.1722, device='cuda:0', dtype=torch.float64)\n",
      "1th iteration is complete...\n",
      "[tensor(0.1728, device='cuda:0', dtype=torch.float64), tensor(0.1722, device='cuda:0', dtype=torch.float64)]\n",
      "4 508 1346 (5880, 10)\n",
      "-0.7052639603582156 -0.876333434207925\n",
      "Initiating \n",
      "Starting Iterations\n",
      "Error after solving for Item Matrix: tensor(0.1715, device='cuda:0', dtype=torch.float64)\n",
      "0th iteration is complete...\n"
     ]
    },
    {
     "name": "stderr",
     "output_type": "stream",
     "text": [
      "\r",
      "5it [06:00, 66.91s/it]"
     ]
    },
    {
     "name": "stdout",
     "output_type": "stream",
     "text": [
      "Error after solving for Item Matrix: tensor(0.1709, device='cuda:0', dtype=torch.float64)\n",
      "1th iteration is complete...\n",
      "[tensor(0.1715, device='cuda:0', dtype=torch.float64), tensor(0.1709, device='cuda:0', dtype=torch.float64)]\n",
      "5 508 1133 (5880, 10)\n",
      "1.9749850049273177 1.9878756431019726\n",
      "Initiating \n",
      "Starting Iterations\n",
      "Error after solving for Item Matrix: tensor(0.1703, device='cuda:0', dtype=torch.float64)\n",
      "0th iteration is complete...\n"
     ]
    },
    {
     "name": "stderr",
     "output_type": "stream",
     "text": [
      "\r",
      "6it [06:28, 53.75s/it]"
     ]
    },
    {
     "name": "stdout",
     "output_type": "stream",
     "text": [
      "Error after solving for Item Matrix: tensor(0.1698, device='cuda:0', dtype=torch.float64)\n",
      "1th iteration is complete...\n",
      "[tensor(0.1703, device='cuda:0', dtype=torch.float64), tensor(0.1698, device='cuda:0', dtype=torch.float64)]\n",
      "6 41 1642 (5880, 10)\n",
      "1.2357120339941305 1.474499092696459\n",
      "Initiating \n",
      "Starting Iterations\n",
      "Error after solving for Item Matrix: tensor(0.1692, device='cuda:0', dtype=torch.float64)\n",
      "0th iteration is complete...\n"
     ]
    },
    {
     "name": "stderr",
     "output_type": "stream",
     "text": [
      "\r",
      "7it [06:56, 45.38s/it]"
     ]
    },
    {
     "name": "stdout",
     "output_type": "stream",
     "text": [
      "Error after solving for Item Matrix: tensor(0.1687, device='cuda:0', dtype=torch.float64)\n",
      "1th iteration is complete...\n",
      "[tensor(0.1692, device='cuda:0', dtype=torch.float64), tensor(0.1687, device='cuda:0', dtype=torch.float64)]\n",
      "7 216 1485 (5880, 10)\n",
      "-2.4572215671177027 -1.5258053073949034\n",
      "Initiating \n",
      "Starting Iterations\n",
      "Error after solving for Item Matrix: tensor(0.1683, device='cuda:0', dtype=torch.float64)\n",
      "0th iteration is complete...\n"
     ]
    },
    {
     "name": "stderr",
     "output_type": "stream",
     "text": [
      "\r",
      "8it [07:25, 40.06s/it]"
     ]
    },
    {
     "name": "stdout",
     "output_type": "stream",
     "text": [
      "Error after solving for Item Matrix: tensor(0.1678, device='cuda:0', dtype=torch.float64)\n",
      "1th iteration is complete...\n",
      "[tensor(0.1683, device='cuda:0', dtype=torch.float64), tensor(0.1678, device='cuda:0', dtype=torch.float64)]\n",
      "8 508 1062 (5880, 10)\n",
      "2.134968965719402 1.9472265634812345\n",
      "Initiating \n",
      "Starting Iterations\n",
      "Error after solving for Item Matrix: tensor(0.1673, device='cuda:0', dtype=torch.float64)\n",
      "0th iteration is complete...\n"
     ]
    },
    {
     "name": "stderr",
     "output_type": "stream",
     "text": [
      "\r",
      "9it [07:54, 36.55s/it]"
     ]
    },
    {
     "name": "stdout",
     "output_type": "stream",
     "text": [
      "Error after solving for Item Matrix: tensor(0.1669, device='cuda:0', dtype=torch.float64)\n",
      "1th iteration is complete...\n",
      "[tensor(0.1673, device='cuda:0', dtype=torch.float64), tensor(0.1669, device='cuda:0', dtype=torch.float64)]\n",
      "9 41 109 (5880, 10)\n",
      "-4.0665140367509585 -3.9087481460087172\n",
      "Initiating \n",
      "Starting Iterations\n",
      "Error after solving for Item Matrix: tensor(0.1667, device='cuda:0', dtype=torch.float64)\n",
      "0th iteration is complete...\n"
     ]
    },
    {
     "name": "stderr",
     "output_type": "stream",
     "text": [
      "\r",
      "10it [08:22, 34.04s/it]"
     ]
    },
    {
     "name": "stdout",
     "output_type": "stream",
     "text": [
      "Error after solving for Item Matrix: tensor(0.1663, device='cuda:0', dtype=torch.float64)\n",
      "1th iteration is complete...\n",
      "[tensor(0.1667, device='cuda:0', dtype=torch.float64), tensor(0.1663, device='cuda:0', dtype=torch.float64)]\n",
      "10 599 1596 (5880, 10)\n",
      "0.5567283533809215 0.8232567921992762\n",
      "Initiating \n",
      "Starting Iterations\n",
      "Error after solving for Item Matrix: tensor(0.1659, device='cuda:0', dtype=torch.float64)\n",
      "0th iteration is complete...\n"
     ]
    },
    {
     "name": "stderr",
     "output_type": "stream",
     "text": [
      "\r",
      "11it [08:51, 32.33s/it]"
     ]
    },
    {
     "name": "stdout",
     "output_type": "stream",
     "text": [
      "Error after solving for Item Matrix: tensor(0.1655, device='cuda:0', dtype=torch.float64)\n",
      "1th iteration is complete...\n",
      "[tensor(0.1659, device='cuda:0', dtype=torch.float64), tensor(0.1655, device='cuda:0', dtype=torch.float64)]\n",
      "11 508 951 (5880, 10)\n",
      "0.7914339410082634 0.9255983372679484\n",
      "Initiating \n",
      "Starting Iterations\n",
      "Error after solving for Item Matrix: tensor(0.1651, device='cuda:0', dtype=torch.float64)\n",
      "0th iteration is complete...\n"
     ]
    },
    {
     "name": "stderr",
     "output_type": "stream",
     "text": [
      "\r",
      "12it [09:19, 31.16s/it]"
     ]
    },
    {
     "name": "stdout",
     "output_type": "stream",
     "text": [
      "Error after solving for Item Matrix: tensor(0.1648, device='cuda:0', dtype=torch.float64)\n",
      "1th iteration is complete...\n",
      "[tensor(0.1651, device='cuda:0', dtype=torch.float64), tensor(0.1648, device='cuda:0', dtype=torch.float64)]\n",
      "12 267 1226 (5880, 10)\n",
      "-0.3143581221896561 0.0005298588824622641\n",
      "Initiating \n",
      "Starting Iterations\n",
      "Error after solving for Item Matrix: tensor(0.1644, device='cuda:0', dtype=torch.float64)\n",
      "0th iteration is complete...\n"
     ]
    },
    {
     "name": "stderr",
     "output_type": "stream",
     "text": [
      "\r",
      "13it [09:47, 30.32s/it]"
     ]
    },
    {
     "name": "stdout",
     "output_type": "stream",
     "text": [
      "Error after solving for Item Matrix: tensor(0.1641, device='cuda:0', dtype=torch.float64)\n",
      "1th iteration is complete...\n",
      "[tensor(0.1644, device='cuda:0', dtype=torch.float64), tensor(0.1641, device='cuda:0', dtype=torch.float64)]\n",
      "13 599 1638 (5880, 10)\n",
      "2.4604265220959056 3.4657672010961096\n",
      "Initiating \n",
      "Starting Iterations\n",
      "Error after solving for Item Matrix: tensor(0.1638, device='cuda:0', dtype=torch.float64)\n",
      "0th iteration is complete...\n"
     ]
    },
    {
     "name": "stderr",
     "output_type": "stream",
     "text": [
      "\r",
      "14it [10:16, 29.70s/it]"
     ]
    },
    {
     "name": "stdout",
     "output_type": "stream",
     "text": [
      "Error after solving for Item Matrix: tensor(0.1635, device='cuda:0', dtype=torch.float64)\n",
      "1th iteration is complete...\n",
      "[tensor(0.1638, device='cuda:0', dtype=torch.float64), tensor(0.1635, device='cuda:0', dtype=torch.float64)]\n",
      "14 599 1645 (5880, 10)\n",
      "1.7695339699339572 1.8122170214314015\n",
      "Initiating \n",
      "Starting Iterations\n",
      "Error after solving for Item Matrix: tensor(0.1632, device='cuda:0', dtype=torch.float64)\n",
      "0th iteration is complete...\n"
     ]
    },
    {
     "name": "stderr",
     "output_type": "stream",
     "text": [
      "\r",
      "15it [10:44, 29.28s/it]"
     ]
    },
    {
     "name": "stdout",
     "output_type": "stream",
     "text": [
      "Error after solving for Item Matrix: tensor(0.1629, device='cuda:0', dtype=torch.float64)\n",
      "1th iteration is complete...\n",
      "[tensor(0.1632, device='cuda:0', dtype=torch.float64), tensor(0.1629, device='cuda:0', dtype=torch.float64)]\n",
      "15 599 1527 (5880, 10)\n",
      "1.1229904238407062 0.21036921150542742\n",
      "Initiating \n",
      "Starting Iterations\n",
      "Error after solving for Item Matrix: tensor(0.1627, device='cuda:0', dtype=torch.float64)\n",
      "0th iteration is complete...\n"
     ]
    },
    {
     "name": "stderr",
     "output_type": "stream",
     "text": [
      "\r",
      "16it [11:12, 28.94s/it]"
     ]
    },
    {
     "name": "stdout",
     "output_type": "stream",
     "text": [
      "Error after solving for Item Matrix: tensor(0.1624, device='cuda:0', dtype=torch.float64)\n",
      "1th iteration is complete...\n",
      "[tensor(0.1627, device='cuda:0', dtype=torch.float64), tensor(0.1624, device='cuda:0', dtype=torch.float64)]\n",
      "16 508 3305 (5880, 10)\n",
      "0.8729157453177372 -0.050715054100903156\n",
      "Initiating \n",
      "Starting Iterations\n",
      "Error after solving for Item Matrix: tensor(0.1621, device='cuda:0', dtype=torch.float64)\n",
      "0th iteration is complete...\n"
     ]
    },
    {
     "name": "stderr",
     "output_type": "stream",
     "text": [
      "\r",
      "17it [11:40, 28.72s/it]"
     ]
    },
    {
     "name": "stdout",
     "output_type": "stream",
     "text": [
      "Error after solving for Item Matrix: tensor(0.1619, device='cuda:0', dtype=torch.float64)\n",
      "1th iteration is complete...\n",
      "[tensor(0.1621, device='cuda:0', dtype=torch.float64), tensor(0.1619, device='cuda:0', dtype=torch.float64)]\n",
      "17 566 4990 (5880, 10)\n",
      "-0.2809366818794097 -1.1461566207824223\n",
      "Initiating \n",
      "Starting Iterations\n",
      "Error after solving for Item Matrix: tensor(0.1616, device='cuda:0', dtype=torch.float64)\n",
      "0th iteration is complete...\n"
     ]
    },
    {
     "name": "stderr",
     "output_type": "stream",
     "text": [
      "\r",
      "18it [12:09, 28.61s/it]"
     ]
    },
    {
     "name": "stdout",
     "output_type": "stream",
     "text": [
      "Error after solving for Item Matrix: tensor(0.1614, device='cuda:0', dtype=torch.float64)\n",
      "1th iteration is complete...\n",
      "[tensor(0.1616, device='cuda:0', dtype=torch.float64), tensor(0.1614, device='cuda:0', dtype=torch.float64)]\n",
      "18 198 1436 (5880, 10)\n",
      "6.443513343151235 4.61677625195847\n",
      "Initiating \n",
      "Starting Iterations\n",
      "Error after solving for Item Matrix: tensor(0.1612, device='cuda:0', dtype=torch.float64)\n",
      "0th iteration is complete...\n"
     ]
    },
    {
     "name": "stderr",
     "output_type": "stream",
     "text": [
      "\r",
      "19it [12:37, 28.63s/it]"
     ]
    },
    {
     "name": "stdout",
     "output_type": "stream",
     "text": [
      "Error after solving for Item Matrix: tensor(0.1609, device='cuda:0', dtype=torch.float64)\n",
      "1th iteration is complete...\n",
      "[tensor(0.1612, device='cuda:0', dtype=torch.float64), tensor(0.1609, device='cuda:0', dtype=torch.float64)]\n",
      "19 185 2126 (5880, 10)\n",
      "-0.5250593543459527 -0.6681155008227364\n",
      "Initiating \n",
      "Starting Iterations\n",
      "Error after solving for Item Matrix: tensor(0.1607, device='cuda:0', dtype=torch.float64)\n",
      "0th iteration is complete...\n"
     ]
    },
    {
     "name": "stderr",
     "output_type": "stream",
     "text": [
      "\r",
      "20it [13:06, 28.60s/it]"
     ]
    },
    {
     "name": "stdout",
     "output_type": "stream",
     "text": [
      "Error after solving for Item Matrix: tensor(0.1605, device='cuda:0', dtype=torch.float64)\n",
      "1th iteration is complete...\n",
      "[tensor(0.1607, device='cuda:0', dtype=torch.float64), tensor(0.1605, device='cuda:0', dtype=torch.float64)]\n",
      "20 281 212 (5880, 10)\n",
      "-1.3963027794654037 -1.1405980894580772\n",
      "Initiating \n",
      "Starting Iterations\n",
      "Error after solving for Item Matrix: tensor(0.1603, device='cuda:0', dtype=torch.float64)\n",
      "0th iteration is complete...\n"
     ]
    },
    {
     "name": "stderr",
     "output_type": "stream",
     "text": [
      "\r",
      "21it [13:34, 28.53s/it]"
     ]
    },
    {
     "name": "stdout",
     "output_type": "stream",
     "text": [
      "Error after solving for Item Matrix: tensor(0.1601, device='cuda:0', dtype=torch.float64)\n",
      "1th iteration is complete...\n",
      "[tensor(0.1603, device='cuda:0', dtype=torch.float64), tensor(0.1601, device='cuda:0', dtype=torch.float64)]\n",
      "21 185 1735 (5880, 10)\n",
      "0.35301436237065653 0.7159256750963969\n",
      "Initiating \n",
      "Starting Iterations\n",
      "Error after solving for Item Matrix: tensor(0.1599, device='cuda:0', dtype=torch.float64)\n",
      "0th iteration is complete...\n"
     ]
    },
    {
     "name": "stderr",
     "output_type": "stream",
     "text": [
      "\r",
      "22it [14:03, 28.47s/it]"
     ]
    },
    {
     "name": "stdout",
     "output_type": "stream",
     "text": [
      "Error after solving for Item Matrix: tensor(0.1597, device='cuda:0', dtype=torch.float64)\n",
      "1th iteration is complete...\n",
      "[tensor(0.1599, device='cuda:0', dtype=torch.float64), tensor(0.1597, device='cuda:0', dtype=torch.float64)]\n",
      "22 185 1669 (5880, 10)\n",
      "1.1567429210558315 0.38485069789812965\n",
      "Initiating \n",
      "Starting Iterations\n",
      "Error after solving for Item Matrix: tensor(0.1595, device='cuda:0', dtype=torch.float64)\n",
      "0th iteration is complete...\n"
     ]
    },
    {
     "name": "stderr",
     "output_type": "stream",
     "text": [
      "\r",
      "23it [14:31, 28.48s/it]"
     ]
    },
    {
     "name": "stdout",
     "output_type": "stream",
     "text": [
      "Error after solving for Item Matrix: tensor(0.1593, device='cuda:0', dtype=torch.float64)\n",
      "1th iteration is complete...\n",
      "[tensor(0.1595, device='cuda:0', dtype=torch.float64), tensor(0.1593, device='cuda:0', dtype=torch.float64)]\n",
      "23 281 468 (5880, 10)\n",
      "-0.3553742593274616 -0.3721866798157225\n",
      "Initiating \n",
      "Starting Iterations\n",
      "Error after solving for Item Matrix: tensor(0.1592, device='cuda:0', dtype=torch.float64)\n",
      "0th iteration is complete...\n"
     ]
    },
    {
     "name": "stderr",
     "output_type": "stream",
     "text": [
      "\r",
      "24it [14:59, 28.39s/it]"
     ]
    },
    {
     "name": "stdout",
     "output_type": "stream",
     "text": [
      "Error after solving for Item Matrix: tensor(0.1590, device='cuda:0', dtype=torch.float64)\n",
      "1th iteration is complete...\n",
      "[tensor(0.1592, device='cuda:0', dtype=torch.float64), tensor(0.1590, device='cuda:0', dtype=torch.float64)]\n",
      "24 281 555 (5880, 10)\n",
      "0.20062961969020687 0.016200609569254176\n",
      "Initiating \n",
      "Starting Iterations\n",
      "Error after solving for Item Matrix: tensor(0.1588, device='cuda:0', dtype=torch.float64)\n",
      "0th iteration is complete...\n"
     ]
    },
    {
     "name": "stderr",
     "output_type": "stream",
     "text": [
      "\r",
      "25it [15:27, 28.32s/it]"
     ]
    },
    {
     "name": "stdout",
     "output_type": "stream",
     "text": [
      "Error after solving for Item Matrix: tensor(0.1586, device='cuda:0', dtype=torch.float64)\n",
      "1th iteration is complete...\n",
      "[tensor(0.1588, device='cuda:0', dtype=torch.float64), tensor(0.1586, device='cuda:0', dtype=torch.float64)]\n",
      "25 447 1158 (5880, 10)\n",
      "0.11658939882331432 -1.7122661952411011\n",
      "Initiating \n",
      "Starting Iterations\n",
      "Error after solving for Item Matrix: tensor(0.1585, device='cuda:0', dtype=torch.float64)\n",
      "0th iteration is complete...\n"
     ]
    },
    {
     "name": "stderr",
     "output_type": "stream",
     "text": [
      "\r",
      "26it [15:56, 28.29s/it]"
     ]
    },
    {
     "name": "stdout",
     "output_type": "stream",
     "text": [
      "Error after solving for Item Matrix: tensor(0.1583, device='cuda:0', dtype=torch.float64)\n",
      "1th iteration is complete...\n",
      "[tensor(0.1585, device='cuda:0', dtype=torch.float64), tensor(0.1583, device='cuda:0', dtype=torch.float64)]\n",
      "26 559 4350 (5880, 10)\n",
      "3.377886008044893 3.1253505457436628\n",
      "Initiating \n",
      "Starting Iterations\n",
      "Error after solving for Item Matrix: tensor(0.1581, device='cuda:0', dtype=torch.float64)\n",
      "0th iteration is complete...\n"
     ]
    },
    {
     "name": "stderr",
     "output_type": "stream",
     "text": [
      "\r",
      "27it [16:24, 28.27s/it]"
     ]
    },
    {
     "name": "stdout",
     "output_type": "stream",
     "text": [
      "Error after solving for Item Matrix: tensor(0.1580, device='cuda:0', dtype=torch.float64)\n",
      "1th iteration is complete...\n",
      "[tensor(0.1581, device='cuda:0', dtype=torch.float64), tensor(0.1580, device='cuda:0', dtype=torch.float64)]\n",
      "27 559 4640 (5880, 10)\n",
      "0.3926896827696176 0.3526965349359794\n",
      "Initiating \n",
      "Starting Iterations\n",
      "Error after solving for Item Matrix: tensor(0.1578, device='cuda:0', dtype=torch.float64)\n",
      "0th iteration is complete...\n"
     ]
    },
    {
     "name": "stderr",
     "output_type": "stream",
     "text": [
      "\r",
      "28it [16:52, 28.26s/it]"
     ]
    },
    {
     "name": "stdout",
     "output_type": "stream",
     "text": [
      "Error after solving for Item Matrix: tensor(0.1577, device='cuda:0', dtype=torch.float64)\n",
      "1th iteration is complete...\n",
      "[tensor(0.1578, device='cuda:0', dtype=torch.float64), tensor(0.1577, device='cuda:0', dtype=torch.float64)]\n",
      "28 185 1503 (5880, 10)\n",
      "1.9339779184521255 1.6977657573359957\n",
      "Initiating \n",
      "Starting Iterations\n",
      "Error after solving for Item Matrix: tensor(0.1575, device='cuda:0', dtype=torch.float64)\n",
      "0th iteration is complete...\n"
     ]
    },
    {
     "name": "stderr",
     "output_type": "stream",
     "text": [
      "\r",
      "29it [17:21, 28.37s/it]"
     ]
    },
    {
     "name": "stdout",
     "output_type": "stream",
     "text": [
      "Error after solving for Item Matrix: tensor(0.1574, device='cuda:0', dtype=torch.float64)\n",
      "1th iteration is complete...\n",
      "[tensor(0.1575, device='cuda:0', dtype=torch.float64), tensor(0.1574, device='cuda:0', dtype=torch.float64)]\n",
      "29 605 3766 (5880, 10)\n",
      "-0.21375806243544382 -0.591714676985096\n",
      "Initiating \n",
      "Starting Iterations\n",
      "Error after solving for Item Matrix: tensor(0.1572, device='cuda:0', dtype=torch.float64)\n",
      "0th iteration is complete...\n"
     ]
    },
    {
     "name": "stderr",
     "output_type": "stream",
     "text": [
      "\r",
      "30it [17:49, 28.41s/it]"
     ]
    },
    {
     "name": "stdout",
     "output_type": "stream",
     "text": [
      "Error after solving for Item Matrix: tensor(0.1571, device='cuda:0', dtype=torch.float64)\n",
      "1th iteration is complete...\n",
      "[tensor(0.1572, device='cuda:0', dtype=torch.float64), tensor(0.1571, device='cuda:0', dtype=torch.float64)]\n",
      "30 185 1342 (5880, 10)\n",
      "0.8969410688654404 1.3451267378301268\n",
      "Initiating \n",
      "Starting Iterations\n",
      "Error after solving for Item Matrix: tensor(0.1569, device='cuda:0', dtype=torch.float64)\n",
      "0th iteration is complete...\n"
     ]
    },
    {
     "name": "stderr",
     "output_type": "stream",
     "text": [
      "\r",
      "31it [18:18, 28.40s/it]"
     ]
    },
    {
     "name": "stdout",
     "output_type": "stream",
     "text": [
      "Error after solving for Item Matrix: tensor(0.1568, device='cuda:0', dtype=torch.float64)\n",
      "1th iteration is complete...\n",
      "[tensor(0.1569, device='cuda:0', dtype=torch.float64), tensor(0.1568, device='cuda:0', dtype=torch.float64)]\n",
      "31 216 2278 (5880, 10)\n",
      "1.9435872952419833 2.795112495490343\n",
      "Initiating \n",
      "Starting Iterations\n",
      "Error after solving for Item Matrix: tensor(0.1567, device='cuda:0', dtype=torch.float64)\n",
      "0th iteration is complete...\n"
     ]
    },
    {
     "name": "stderr",
     "output_type": "stream",
     "text": [
      "\r",
      "32it [18:46, 28.35s/it]"
     ]
    },
    {
     "name": "stdout",
     "output_type": "stream",
     "text": [
      "Error after solving for Item Matrix: tensor(0.1565, device='cuda:0', dtype=torch.float64)\n",
      "1th iteration is complete...\n",
      "[tensor(0.1567, device='cuda:0', dtype=torch.float64), tensor(0.1565, device='cuda:0', dtype=torch.float64)]\n",
      "32 185 1041 (5880, 10)\n",
      "3.4098904186764356 2.256258663750645\n",
      "Initiating \n",
      "Starting Iterations\n",
      "Error after solving for Item Matrix: tensor(0.1565, device='cuda:0', dtype=torch.float64)\n",
      "0th iteration is complete...\n"
     ]
    },
    {
     "name": "stderr",
     "output_type": "stream",
     "text": [
      "\r",
      "33it [19:14, 28.42s/it]"
     ]
    },
    {
     "name": "stdout",
     "output_type": "stream",
     "text": [
      "Error after solving for Item Matrix: tensor(0.1563, device='cuda:0', dtype=torch.float64)\n",
      "1th iteration is complete...\n",
      "[tensor(0.1565, device='cuda:0', dtype=torch.float64), tensor(0.1563, device='cuda:0', dtype=torch.float64)]\n",
      "33 599 1736 (5880, 10)\n",
      "1.974813100403499 4.046036628233519\n",
      "Initiating \n",
      "Starting Iterations\n",
      "Error after solving for Item Matrix: tensor(0.1562, device='cuda:0', dtype=torch.float64)\n",
      "0th iteration is complete...\n"
     ]
    },
    {
     "name": "stderr",
     "output_type": "stream",
     "text": [
      "\r",
      "34it [19:43, 28.54s/it]"
     ]
    },
    {
     "name": "stdout",
     "output_type": "stream",
     "text": [
      "Error after solving for Item Matrix: tensor(0.1561, device='cuda:0', dtype=torch.float64)\n",
      "1th iteration is complete...\n",
      "[tensor(0.1562, device='cuda:0', dtype=torch.float64), tensor(0.1561, device='cuda:0', dtype=torch.float64)]\n",
      "34 599 1753 (5880, 10)\n",
      "0.8952899332099005 -0.07603978058224792\n",
      "Initiating \n",
      "Starting Iterations\n",
      "Error after solving for Item Matrix: tensor(0.1560, device='cuda:0', dtype=torch.float64)\n",
      "0th iteration is complete...\n"
     ]
    },
    {
     "name": "stderr",
     "output_type": "stream",
     "text": [
      "\r",
      "35it [20:12, 28.65s/it]"
     ]
    },
    {
     "name": "stdout",
     "output_type": "stream",
     "text": [
      "Error after solving for Item Matrix: tensor(0.1558, device='cuda:0', dtype=torch.float64)\n",
      "1th iteration is complete...\n",
      "[tensor(0.1560, device='cuda:0', dtype=torch.float64), tensor(0.1558, device='cuda:0', dtype=torch.float64)]\n",
      "35 267 1118 (5880, 10)\n",
      "-0.46842883428102144 0.6636624403978315\n",
      "Initiating \n",
      "Starting Iterations\n",
      "Error after solving for Item Matrix: tensor(0.1557, device='cuda:0', dtype=torch.float64)\n",
      "0th iteration is complete...\n"
     ]
    },
    {
     "name": "stderr",
     "output_type": "stream",
     "text": [
      "\r",
      "36it [20:41, 28.67s/it]"
     ]
    },
    {
     "name": "stdout",
     "output_type": "stream",
     "text": [
      "Error after solving for Item Matrix: tensor(0.1556, device='cuda:0', dtype=torch.float64)\n",
      "1th iteration is complete...\n",
      "[tensor(0.1557, device='cuda:0', dtype=torch.float64), tensor(0.1556, device='cuda:0', dtype=torch.float64)]\n",
      "36 41 329 (5880, 10)\n",
      "-2.1070463846338594 -2.2237785177835505\n",
      "Initiating \n",
      "Starting Iterations\n",
      "Error after solving for Item Matrix: tensor(0.1556, device='cuda:0', dtype=torch.float64)\n",
      "0th iteration is complete...\n"
     ]
    },
    {
     "name": "stderr",
     "output_type": "stream",
     "text": [
      "\r",
      "37it [21:10, 28.68s/it]"
     ]
    },
    {
     "name": "stdout",
     "output_type": "stream",
     "text": [
      "Error after solving for Item Matrix: tensor(0.1554, device='cuda:0', dtype=torch.float64)\n",
      "1th iteration is complete...\n",
      "[tensor(0.1556, device='cuda:0', dtype=torch.float64), tensor(0.1554, device='cuda:0', dtype=torch.float64)]\n",
      "37 216 1137 (5880, 10)\n",
      "2.0089054318320607 2.5805516982133545\n",
      "Initiating \n",
      "Starting Iterations\n",
      "Error after solving for Item Matrix: tensor(0.1553, device='cuda:0', dtype=torch.float64)\n",
      "0th iteration is complete...\n"
     ]
    },
    {
     "name": "stderr",
     "output_type": "stream",
     "text": [
      "\r",
      "38it [21:38, 28.64s/it]"
     ]
    },
    {
     "name": "stdout",
     "output_type": "stream",
     "text": [
      "Error after solving for Item Matrix: tensor(0.1552, device='cuda:0', dtype=torch.float64)\n",
      "1th iteration is complete...\n",
      "[tensor(0.1553, device='cuda:0', dtype=torch.float64), tensor(0.1552, device='cuda:0', dtype=torch.float64)]\n",
      "38 18 748 (5880, 10)\n",
      "2.188771364023777 2.079967733241844\n",
      "Initiating \n",
      "Starting Iterations\n",
      "Error after solving for Item Matrix: tensor(0.1552, device='cuda:0', dtype=torch.float64)\n",
      "0th iteration is complete...\n",
      "Error after solving for Item Matrix: tensor(0.1551, device='cuda:0', dtype=torch.float64)\n",
      "1th iteration is complete...\n",
      "[tensor(0.1552, device='cuda:0', dtype=torch.float64), tensor(0.1551, device='cuda:0', dtype=torch.float64)]\n"
     ]
    },
    {
     "name": "stderr",
     "output_type": "stream",
     "text": [
      "\r",
      "39it [23:06, 46.48s/it]"
     ]
    },
    {
     "name": "stdout",
     "output_type": "stream",
     "text": [
      "39 447 1974 (5880, 10)\n",
      "0.6137619499303972 -0.14227041737098922\n",
      "Initiating \n",
      "Starting Iterations\n",
      "Error after solving for Item Matrix: tensor(0.1550, device='cuda:0', dtype=torch.float64)\n",
      "0th iteration is complete...\n"
     ]
    },
    {
     "name": "stderr",
     "output_type": "stream",
     "text": [
      "\r",
      "40it [25:07, 68.76s/it]"
     ]
    },
    {
     "name": "stdout",
     "output_type": "stream",
     "text": [
      "Error after solving for Item Matrix: tensor(0.1549, device='cuda:0', dtype=torch.float64)\n",
      "1th iteration is complete...\n",
      "[tensor(0.1550, device='cuda:0', dtype=torch.float64), tensor(0.1549, device='cuda:0', dtype=torch.float64)]\n",
      "40 508 5442 (5880, 10)\n",
      "2.2671970865749227 1.2345028137710863\n",
      "Initiating \n",
      "Starting Iterations\n",
      "Error after solving for Item Matrix: tensor(0.1548, device='cuda:0', dtype=torch.float64)\n",
      "0th iteration is complete...\n"
     ]
    },
    {
     "name": "stderr",
     "output_type": "stream",
     "text": [
      "\r",
      "41it [25:44, 59.15s/it]"
     ]
    },
    {
     "name": "stdout",
     "output_type": "stream",
     "text": [
      "Error after solving for Item Matrix: tensor(0.1547, device='cuda:0', dtype=torch.float64)\n",
      "1th iteration is complete...\n",
      "[tensor(0.1548, device='cuda:0', dtype=torch.float64), tensor(0.1547, device='cuda:0', dtype=torch.float64)]\n",
      "41 41 1191 (5880, 10)\n",
      "0.43106698389107656 -0.17597055529991668\n",
      "Initiating \n",
      "Starting Iterations\n",
      "Error after solving for Item Matrix: tensor(0.1546, device='cuda:0', dtype=torch.float64)\n",
      "0th iteration is complete...\n",
      "Error after solving for Item Matrix: tensor(0.1545, device='cuda:0', dtype=torch.float64)\n",
      "1th iteration is complete...\n",
      "[tensor(0.1546, device='cuda:0', dtype=torch.float64), tensor(0.1545, device='cuda:0', dtype=torch.float64)]\n"
     ]
    },
    {
     "name": "stderr",
     "output_type": "stream",
     "text": [
      "\r",
      "42it [26:14, 50.42s/it]"
     ]
    },
    {
     "name": "stdout",
     "output_type": "stream",
     "text": [
      "42 44 815 (5880, 10)\n",
      "-0.054232181156065984 -0.312986731184127\n",
      "Initiating \n",
      "Starting Iterations\n",
      "Error after solving for Item Matrix: tensor(0.1545, device='cuda:0', dtype=torch.float64)\n",
      "0th iteration is complete...\n"
     ]
    },
    {
     "name": "stderr",
     "output_type": "stream",
     "text": [
      "\r",
      "43it [27:09, 51.92s/it]"
     ]
    },
    {
     "name": "stdout",
     "output_type": "stream",
     "text": [
      "Error after solving for Item Matrix: tensor(0.1544, device='cuda:0', dtype=torch.float64)\n",
      "1th iteration is complete...\n",
      "[tensor(0.1545, device='cuda:0', dtype=torch.float64), tensor(0.1544, device='cuda:0', dtype=torch.float64)]\n",
      "43 605 2914 (5880, 10)\n",
      "4.816942450638468 0.9601108510637362\n",
      "Initiating \n",
      "Starting Iterations\n",
      "Error after solving for Item Matrix: tensor(0.1543, device='cuda:0', dtype=torch.float64)\n",
      "0th iteration is complete...\n"
     ]
    },
    {
     "name": "stderr",
     "output_type": "stream",
     "text": [
      "\r",
      "44it [27:38, 45.06s/it]"
     ]
    },
    {
     "name": "stdout",
     "output_type": "stream",
     "text": [
      "Error after solving for Item Matrix: tensor(0.1542, device='cuda:0', dtype=torch.float64)\n",
      "1th iteration is complete...\n",
      "[tensor(0.1543, device='cuda:0', dtype=torch.float64), tensor(0.1542, device='cuda:0', dtype=torch.float64)]\n",
      "44 552 1459 (5880, 10)\n",
      "0.591301261663796 1.2352152528323042\n",
      "Initiating \n",
      "Starting Iterations\n",
      "Error after solving for Item Matrix: tensor(0.1541, device='cuda:0', dtype=torch.float64)\n",
      "0th iteration is complete...\n"
     ]
    },
    {
     "name": "stderr",
     "output_type": "stream",
     "text": [
      "\r",
      "45it [28:07, 40.05s/it]"
     ]
    },
    {
     "name": "stdout",
     "output_type": "stream",
     "text": [
      "Error after solving for Item Matrix: tensor(0.1540, device='cuda:0', dtype=torch.float64)\n",
      "1th iteration is complete...\n",
      "[tensor(0.1541, device='cuda:0', dtype=torch.float64), tensor(0.1540, device='cuda:0', dtype=torch.float64)]\n",
      "45 41 1813 (5880, 10)\n",
      "0.562121089534942 2.5471968198673696\n",
      "Initiating \n",
      "Starting Iterations\n",
      "Error after solving for Item Matrix: tensor(0.1540, device='cuda:0', dtype=torch.float64)\n",
      "0th iteration is complete...\n"
     ]
    },
    {
     "name": "stderr",
     "output_type": "stream",
     "text": [
      "\r",
      "46it [28:35, 36.63s/it]"
     ]
    },
    {
     "name": "stdout",
     "output_type": "stream",
     "text": [
      "Error after solving for Item Matrix: tensor(0.1539, device='cuda:0', dtype=torch.float64)\n",
      "1th iteration is complete...\n",
      "[tensor(0.1540, device='cuda:0', dtype=torch.float64), tensor(0.1539, device='cuda:0', dtype=torch.float64)]\n",
      "46 41 1729 (5880, 10)\n",
      "0.2706130152795385 -0.13525579023145573\n",
      "Initiating \n",
      "Starting Iterations\n",
      "Error after solving for Item Matrix: tensor(0.1538, device='cuda:0', dtype=torch.float64)\n",
      "0th iteration is complete...\n"
     ]
    },
    {
     "name": "stderr",
     "output_type": "stream",
     "text": [
      "\r",
      "47it [29:04, 34.20s/it]"
     ]
    },
    {
     "name": "stdout",
     "output_type": "stream",
     "text": [
      "Error after solving for Item Matrix: tensor(0.1538, device='cuda:0', dtype=torch.float64)\n",
      "1th iteration is complete...\n",
      "[tensor(0.1538, device='cuda:0', dtype=torch.float64), tensor(0.1538, device='cuda:0', dtype=torch.float64)]\n",
      "47 216 1063 (5880, 10)\n",
      "1.4421631526834888 0.9228025298258746\n",
      "Initiating \n",
      "Starting Iterations\n",
      "Error after solving for Item Matrix: tensor(0.1537, device='cuda:0', dtype=torch.float64)\n",
      "0th iteration is complete...\n"
     ]
    },
    {
     "name": "stderr",
     "output_type": "stream",
     "text": [
      "\r",
      "48it [29:32, 32.47s/it]"
     ]
    },
    {
     "name": "stdout",
     "output_type": "stream",
     "text": [
      "Error after solving for Item Matrix: tensor(0.1536, device='cuda:0', dtype=torch.float64)\n",
      "1th iteration is complete...\n",
      "[tensor(0.1537, device='cuda:0', dtype=torch.float64), tensor(0.1536, device='cuda:0', dtype=torch.float64)]\n",
      "48 44 316 (5880, 10)\n",
      "0.3757387643536987 0.24619211296513255\n",
      "Initiating \n",
      "Starting Iterations\n",
      "Error after solving for Item Matrix: tensor(0.1535, device='cuda:0', dtype=torch.float64)\n",
      "0th iteration is complete...\n"
     ]
    },
    {
     "name": "stderr",
     "output_type": "stream",
     "text": [
      "\r",
      "49it [30:01, 31.29s/it]"
     ]
    },
    {
     "name": "stdout",
     "output_type": "stream",
     "text": [
      "Error after solving for Item Matrix: tensor(0.1535, device='cuda:0', dtype=torch.float64)\n",
      "1th iteration is complete...\n",
      "[tensor(0.1535, device='cuda:0', dtype=torch.float64), tensor(0.1535, device='cuda:0', dtype=torch.float64)]\n",
      "49 216 134 (5880, 10)\n",
      "-0.43515403909478945 -3.215334940153557\n",
      "Initiating \n",
      "Starting Iterations\n",
      "Error after solving for Item Matrix: tensor(0.1535, device='cuda:0', dtype=torch.float64)\n",
      "0th iteration is complete...\n"
     ]
    },
    {
     "name": "stderr",
     "output_type": "stream",
     "text": [
      "\r",
      "50it [30:29, 30.39s/it]"
     ]
    },
    {
     "name": "stdout",
     "output_type": "stream",
     "text": [
      "Error after solving for Item Matrix: tensor(0.1534, device='cuda:0', dtype=torch.float64)\n",
      "1th iteration is complete...\n",
      "[tensor(0.1535, device='cuda:0', dtype=torch.float64), tensor(0.1534, device='cuda:0', dtype=torch.float64)]\n",
      "50 185 2366 (5880, 10)\n",
      "1.6010264643088763 0.5638680260150335\n",
      "Initiating \n",
      "Starting Iterations\n",
      "Error after solving for Item Matrix: tensor(0.1533, device='cuda:0', dtype=torch.float64)\n",
      "0th iteration is complete...\n"
     ]
    },
    {
     "name": "stderr",
     "output_type": "stream",
     "text": [
      "\r",
      "51it [30:57, 29.77s/it]"
     ]
    },
    {
     "name": "stdout",
     "output_type": "stream",
     "text": [
      "Error after solving for Item Matrix: tensor(0.1532, device='cuda:0', dtype=torch.float64)\n",
      "1th iteration is complete...\n",
      "[tensor(0.1533, device='cuda:0', dtype=torch.float64), tensor(0.1532, device='cuda:0', dtype=torch.float64)]\n",
      "51 41 1080 (5880, 10)\n",
      "2.3975142652912678 4.1803002030618694\n",
      "Initiating \n",
      "Starting Iterations\n",
      "Error after solving for Item Matrix: tensor(0.1532, device='cuda:0', dtype=torch.float64)\n",
      "0th iteration is complete...\n"
     ]
    },
    {
     "name": "stderr",
     "output_type": "stream",
     "text": [
      "\r",
      "52it [31:26, 29.36s/it]"
     ]
    },
    {
     "name": "stdout",
     "output_type": "stream",
     "text": [
      "Error after solving for Item Matrix: tensor(0.1531, device='cuda:0', dtype=torch.float64)\n",
      "1th iteration is complete...\n",
      "[tensor(0.1532, device='cuda:0', dtype=torch.float64), tensor(0.1531, device='cuda:0', dtype=torch.float64)]\n",
      "52 185 148 (5880, 10)\n",
      "1.3512439245089083 1.6989197733520838\n",
      "Initiating \n",
      "Starting Iterations\n",
      "Error after solving for Item Matrix: tensor(0.1531, device='cuda:0', dtype=torch.float64)\n",
      "0th iteration is complete...\n"
     ]
    },
    {
     "name": "stderr",
     "output_type": "stream",
     "text": [
      "\r",
      "53it [31:54, 29.14s/it]"
     ]
    },
    {
     "name": "stdout",
     "output_type": "stream",
     "text": [
      "Error after solving for Item Matrix: tensor(0.1530, device='cuda:0', dtype=torch.float64)\n",
      "1th iteration is complete...\n",
      "[tensor(0.1531, device='cuda:0', dtype=torch.float64), tensor(0.1530, device='cuda:0', dtype=torch.float64)]\n",
      "53 216 21 (5880, 10)\n",
      "-0.7180706109843564 1.7215720191557446\n",
      "Initiating \n",
      "Starting Iterations\n",
      "Error after solving for Item Matrix: tensor(0.1530, device='cuda:0', dtype=torch.float64)\n",
      "0th iteration is complete...\n"
     ]
    },
    {
     "name": "stderr",
     "output_type": "stream",
     "text": [
      "\r",
      "54it [32:23, 29.00s/it]"
     ]
    },
    {
     "name": "stdout",
     "output_type": "stream",
     "text": [
      "Error after solving for Item Matrix: tensor(0.1529, device='cuda:0', dtype=torch.float64)\n",
      "1th iteration is complete...\n",
      "[tensor(0.1530, device='cuda:0', dtype=torch.float64), tensor(0.1529, device='cuda:0', dtype=torch.float64)]\n",
      "54 41 353 (5880, 10)\n",
      "3.669277321773502 3.9153544245637644\n",
      "Initiating \n",
      "Starting Iterations\n",
      "Error after solving for Item Matrix: tensor(0.1529, device='cuda:0', dtype=torch.float64)\n",
      "0th iteration is complete...\n"
     ]
    },
    {
     "name": "stderr",
     "output_type": "stream",
     "text": [
      "\r",
      "55it [32:53, 29.17s/it]"
     ]
    },
    {
     "name": "stdout",
     "output_type": "stream",
     "text": [
      "Error after solving for Item Matrix: tensor(0.1528, device='cuda:0', dtype=torch.float64)\n",
      "1th iteration is complete...\n",
      "[tensor(0.1529, device='cuda:0', dtype=torch.float64), tensor(0.1528, device='cuda:0', dtype=torch.float64)]\n",
      "55 185 158 (5880, 10)\n",
      "1.566067294460614 0.9002159779354475\n",
      "Initiating \n",
      "Starting Iterations\n",
      "Error after solving for Item Matrix: tensor(0.1527, device='cuda:0', dtype=torch.float64)\n",
      "0th iteration is complete...\n"
     ]
    },
    {
     "name": "stderr",
     "output_type": "stream",
     "text": [
      "\r",
      "56it [33:21, 29.04s/it]"
     ]
    },
    {
     "name": "stdout",
     "output_type": "stream",
     "text": [
      "Error after solving for Item Matrix: tensor(0.1527, device='cuda:0', dtype=torch.float64)\n",
      "1th iteration is complete...\n",
      "[tensor(0.1527, device='cuda:0', dtype=torch.float64), tensor(0.1527, device='cuda:0', dtype=torch.float64)]\n",
      "56 198 751 (5880, 10)\n",
      "-0.4010669963183213 -0.6920080578564738\n",
      "Initiating \n",
      "Starting Iterations\n",
      "Error after solving for Item Matrix: tensor(0.1526, device='cuda:0', dtype=torch.float64)\n",
      "0th iteration is complete...\n"
     ]
    },
    {
     "name": "stderr",
     "output_type": "stream",
     "text": [
      "\r",
      "57it [33:50, 28.96s/it]"
     ]
    },
    {
     "name": "stdout",
     "output_type": "stream",
     "text": [
      "Error after solving for Item Matrix: tensor(0.1526, device='cuda:0', dtype=torch.float64)\n",
      "1th iteration is complete...\n",
      "[tensor(0.1526, device='cuda:0', dtype=torch.float64), tensor(0.1526, device='cuda:0', dtype=torch.float64)]\n",
      "57 185 315 (5880, 10)\n",
      "1.8332771184280978 1.7525274395271717\n",
      "Initiating \n",
      "Starting Iterations\n",
      "Error after solving for Item Matrix: tensor(0.1525, device='cuda:0', dtype=torch.float64)\n",
      "0th iteration is complete...\n"
     ]
    },
    {
     "name": "stderr",
     "output_type": "stream",
     "text": [
      "\r",
      "58it [34:20, 29.11s/it]"
     ]
    },
    {
     "name": "stdout",
     "output_type": "stream",
     "text": [
      "Error after solving for Item Matrix: tensor(0.1525, device='cuda:0', dtype=torch.float64)\n",
      "1th iteration is complete...\n",
      "[tensor(0.1525, device='cuda:0', dtype=torch.float64), tensor(0.1525, device='cuda:0', dtype=torch.float64)]\n",
      "58 185 562 (5880, 10)\n",
      "-0.697995543135173 0.11988786114794037\n",
      "Initiating \n",
      "Starting Iterations\n",
      "Error after solving for Item Matrix: tensor(0.1524, device='cuda:0', dtype=torch.float64)\n",
      "0th iteration is complete...\n"
     ]
    },
    {
     "name": "stderr",
     "output_type": "stream",
     "text": [
      "\r",
      "59it [34:48, 28.99s/it]"
     ]
    },
    {
     "name": "stdout",
     "output_type": "stream",
     "text": [
      "Error after solving for Item Matrix: tensor(0.1523, device='cuda:0', dtype=torch.float64)\n",
      "1th iteration is complete...\n",
      "[tensor(0.1524, device='cuda:0', dtype=torch.float64), tensor(0.1523, device='cuda:0', dtype=torch.float64)]\n",
      "59 185 358 (5880, 10)\n",
      "0.09184991486733107 0.5434917117169111\n",
      "Initiating \n",
      "Starting Iterations\n",
      "Error after solving for Item Matrix: tensor(0.1523, device='cuda:0', dtype=torch.float64)\n",
      "0th iteration is complete...\n"
     ]
    },
    {
     "name": "stderr",
     "output_type": "stream",
     "text": [
      "\r",
      "60it [35:17, 28.94s/it]"
     ]
    },
    {
     "name": "stdout",
     "output_type": "stream",
     "text": [
      "Error after solving for Item Matrix: tensor(0.1522, device='cuda:0', dtype=torch.float64)\n",
      "1th iteration is complete...\n",
      "[tensor(0.1523, device='cuda:0', dtype=torch.float64), tensor(0.1522, device='cuda:0', dtype=torch.float64)]\n",
      "60 281 1822 (5880, 10)\n",
      "-2.2737706350834888 -1.7519301746491447\n",
      "Initiating \n",
      "Starting Iterations\n",
      "Error after solving for Item Matrix: tensor(0.1522, device='cuda:0', dtype=torch.float64)\n",
      "0th iteration is complete...\n"
     ]
    },
    {
     "name": "stderr",
     "output_type": "stream",
     "text": [
      "\r",
      "61it [35:46, 28.84s/it]"
     ]
    },
    {
     "name": "stdout",
     "output_type": "stream",
     "text": [
      "Error after solving for Item Matrix: tensor(0.1522, device='cuda:0', dtype=torch.float64)\n",
      "1th iteration is complete...\n",
      "[tensor(0.1522, device='cuda:0', dtype=torch.float64), tensor(0.1522, device='cuda:0', dtype=torch.float64)]\n",
      "61 216 621 (5880, 10)\n",
      "2.979179030360851 1.2085081347350242\n",
      "Initiating \n",
      "Starting Iterations\n",
      "Error after solving for Item Matrix: tensor(0.1521, device='cuda:0', dtype=torch.float64)\n",
      "0th iteration is complete...\n"
     ]
    },
    {
     "name": "stderr",
     "output_type": "stream",
     "text": [
      "\r",
      "62it [36:15, 28.83s/it]"
     ]
    },
    {
     "name": "stdout",
     "output_type": "stream",
     "text": [
      "Error after solving for Item Matrix: tensor(0.1520, device='cuda:0', dtype=torch.float64)\n",
      "1th iteration is complete...\n",
      "[tensor(0.1521, device='cuda:0', dtype=torch.float64), tensor(0.1520, device='cuda:0', dtype=torch.float64)]\n",
      "62 281 731 (5880, 10)\n",
      "-0.5755297053164705 -0.9955190974169437\n",
      "Initiating \n",
      "Starting Iterations\n",
      "Error after solving for Item Matrix: tensor(0.1520, device='cuda:0', dtype=torch.float64)\n",
      "0th iteration is complete...\n"
     ]
    },
    {
     "name": "stderr",
     "output_type": "stream",
     "text": [
      "\r",
      "63it [36:43, 28.85s/it]"
     ]
    },
    {
     "name": "stdout",
     "output_type": "stream",
     "text": [
      "Error after solving for Item Matrix: tensor(0.1519, device='cuda:0', dtype=torch.float64)\n",
      "1th iteration is complete...\n",
      "[tensor(0.1520, device='cuda:0', dtype=torch.float64), tensor(0.1519, device='cuda:0', dtype=torch.float64)]\n",
      "63 216 834 (5880, 10)\n",
      "-1.6529397873681173 -2.859160127863193\n",
      "Initiating \n",
      "Starting Iterations\n",
      "Error after solving for Item Matrix: tensor(0.1520, device='cuda:0', dtype=torch.float64)\n",
      "0th iteration is complete...\n"
     ]
    },
    {
     "name": "stderr",
     "output_type": "stream",
     "text": [
      "\r",
      "64it [37:12, 28.86s/it]"
     ]
    },
    {
     "name": "stdout",
     "output_type": "stream",
     "text": [
      "Error after solving for Item Matrix: tensor(0.1519, device='cuda:0', dtype=torch.float64)\n",
      "1th iteration is complete...\n",
      "[tensor(0.1520, device='cuda:0', dtype=torch.float64), tensor(0.1519, device='cuda:0', dtype=torch.float64)]\n",
      "64 559 4299 (5880, 10)\n",
      "2.144685124295661 2.3802292380628343\n",
      "Initiating \n",
      "Starting Iterations\n",
      "Error after solving for Item Matrix: tensor(0.1519, device='cuda:0', dtype=torch.float64)\n",
      "0th iteration is complete...\n"
     ]
    },
    {
     "name": "stderr",
     "output_type": "stream",
     "text": [
      "\r",
      "65it [37:43, 29.33s/it]"
     ]
    },
    {
     "name": "stdout",
     "output_type": "stream",
     "text": [
      "Error after solving for Item Matrix: tensor(0.1518, device='cuda:0', dtype=torch.float64)\n",
      "1th iteration is complete...\n",
      "[tensor(0.1519, device='cuda:0', dtype=torch.float64), tensor(0.1518, device='cuda:0', dtype=torch.float64)]\n",
      "65 41 445 (5880, 10)\n",
      "3.966919922242359 2.716919889495245\n",
      "Initiating \n",
      "Starting Iterations\n",
      "Error after solving for Item Matrix: tensor(0.1517, device='cuda:0', dtype=torch.float64)\n",
      "0th iteration is complete...\n"
     ]
    },
    {
     "name": "stderr",
     "output_type": "stream",
     "text": [
      "\r",
      "66it [38:12, 29.42s/it]"
     ]
    },
    {
     "name": "stdout",
     "output_type": "stream",
     "text": [
      "Error after solving for Item Matrix: tensor(0.1517, device='cuda:0', dtype=torch.float64)\n",
      "1th iteration is complete...\n",
      "[tensor(0.1517, device='cuda:0', dtype=torch.float64), tensor(0.1517, device='cuda:0', dtype=torch.float64)]\n",
      "66 281 464 (5880, 10)\n",
      "0.3728598308307385 -0.2651616211901402\n",
      "Initiating \n",
      "Starting Iterations\n",
      "Error after solving for Item Matrix: tensor(0.1516, device='cuda:0', dtype=torch.float64)\n",
      "0th iteration is complete...\n"
     ]
    },
    {
     "name": "stderr",
     "output_type": "stream",
     "text": [
      "\r",
      "67it [38:42, 29.48s/it]"
     ]
    },
    {
     "name": "stdout",
     "output_type": "stream",
     "text": [
      "Error after solving for Item Matrix: tensor(0.1515, device='cuda:0', dtype=torch.float64)\n",
      "1th iteration is complete...\n",
      "[tensor(0.1516, device='cuda:0', dtype=torch.float64), tensor(0.1515, device='cuda:0', dtype=torch.float64)]\n",
      "67 41 1760 (5880, 10)\n",
      "4.616348828746039 1.4582789122265858\n",
      "Initiating \n",
      "Starting Iterations\n",
      "Error after solving for Item Matrix: tensor(0.1515, device='cuda:0', dtype=torch.float64)\n",
      "0th iteration is complete...\n"
     ]
    },
    {
     "name": "stderr",
     "output_type": "stream",
     "text": [
      "\r",
      "68it [39:12, 29.62s/it]"
     ]
    },
    {
     "name": "stdout",
     "output_type": "stream",
     "text": [
      "Error after solving for Item Matrix: tensor(0.1514, device='cuda:0', dtype=torch.float64)\n",
      "1th iteration is complete...\n",
      "[tensor(0.1515, device='cuda:0', dtype=torch.float64), tensor(0.1514, device='cuda:0', dtype=torch.float64)]\n",
      "68 41 148 (5880, 10)\n",
      "0.7493996098381994 0.8106736443362097\n",
      "Initiating \n",
      "Starting Iterations\n",
      "Error after solving for Item Matrix: tensor(0.1513, device='cuda:0', dtype=torch.float64)\n",
      "0th iteration is complete...\n"
     ]
    },
    {
     "name": "stderr",
     "output_type": "stream",
     "text": [
      "\r",
      "69it [39:41, 29.58s/it]"
     ]
    },
    {
     "name": "stdout",
     "output_type": "stream",
     "text": [
      "Error after solving for Item Matrix: tensor(0.1513, device='cuda:0', dtype=torch.float64)\n",
      "1th iteration is complete...\n",
      "[tensor(0.1513, device='cuda:0', dtype=torch.float64), tensor(0.1513, device='cuda:0', dtype=torch.float64)]\n",
      "69 41 149 (5880, 10)\n",
      "0.291423612612578 1.053511909824011\n",
      "Initiating \n",
      "Starting Iterations\n",
      "Error after solving for Item Matrix: tensor(0.1512, device='cuda:0', dtype=torch.float64)\n",
      "0th iteration is complete...\n"
     ]
    },
    {
     "name": "stderr",
     "output_type": "stream",
     "text": [
      "\r",
      "70it [40:11, 29.60s/it]"
     ]
    },
    {
     "name": "stdout",
     "output_type": "stream",
     "text": [
      "Error after solving for Item Matrix: tensor(0.1512, device='cuda:0', dtype=torch.float64)\n",
      "1th iteration is complete...\n",
      "[tensor(0.1512, device='cuda:0', dtype=torch.float64), tensor(0.1512, device='cuda:0', dtype=torch.float64)]\n",
      "70 599 1508 (5880, 10)\n",
      "-0.001328739702302073 -0.5491068591512667\n",
      "Initiating \n",
      "Starting Iterations\n",
      "Error after solving for Item Matrix: tensor(0.1511, device='cuda:0', dtype=torch.float64)\n",
      "0th iteration is complete...\n"
     ]
    },
    {
     "name": "stderr",
     "output_type": "stream",
     "text": [
      "\r",
      "71it [40:40, 29.50s/it]"
     ]
    },
    {
     "name": "stdout",
     "output_type": "stream",
     "text": [
      "Error after solving for Item Matrix: tensor(0.1510, device='cuda:0', dtype=torch.float64)\n",
      "1th iteration is complete...\n",
      "[tensor(0.1511, device='cuda:0', dtype=torch.float64), tensor(0.1510, device='cuda:0', dtype=torch.float64)]\n",
      "71 599 1116 (5880, 10)\n",
      "2.5112083570153043 0.9741303266610384\n",
      "Initiating \n",
      "Starting Iterations\n",
      "Error after solving for Item Matrix: tensor(0.1510, device='cuda:0', dtype=torch.float64)\n",
      "0th iteration is complete...\n"
     ]
    },
    {
     "name": "stderr",
     "output_type": "stream",
     "text": [
      "\r",
      "72it [41:10, 29.48s/it]"
     ]
    },
    {
     "name": "stdout",
     "output_type": "stream",
     "text": [
      "Error after solving for Item Matrix: tensor(0.1509, device='cuda:0', dtype=torch.float64)\n",
      "1th iteration is complete...\n",
      "[tensor(0.1510, device='cuda:0', dtype=torch.float64), tensor(0.1509, device='cuda:0', dtype=torch.float64)]\n",
      "72 599 963 (5880, 10)\n",
      "-0.5381625555565304 -2.345657228950528\n",
      "Initiating \n",
      "Starting Iterations\n",
      "Error after solving for Item Matrix: tensor(0.1509, device='cuda:0', dtype=torch.float64)\n",
      "0th iteration is complete...\n"
     ]
    },
    {
     "name": "stderr",
     "output_type": "stream",
     "text": [
      "\r",
      "73it [41:39, 29.54s/it]"
     ]
    },
    {
     "name": "stdout",
     "output_type": "stream",
     "text": [
      "Error after solving for Item Matrix: tensor(0.1508, device='cuda:0', dtype=torch.float64)\n",
      "1th iteration is complete...\n",
      "[tensor(0.1509, device='cuda:0', dtype=torch.float64), tensor(0.1508, device='cuda:0', dtype=torch.float64)]\n",
      "73 599 1308 (5880, 10)\n",
      "0.6069136527119299 -0.4640936247066092\n",
      "Initiating \n",
      "Starting Iterations\n",
      "Error after solving for Item Matrix: tensor(0.1507, device='cuda:0', dtype=torch.float64)\n",
      "0th iteration is complete...\n"
     ]
    },
    {
     "name": "stderr",
     "output_type": "stream",
     "text": [
      "\r",
      "74it [42:09, 29.54s/it]"
     ]
    },
    {
     "name": "stdout",
     "output_type": "stream",
     "text": [
      "Error after solving for Item Matrix: tensor(0.1507, device='cuda:0', dtype=torch.float64)\n",
      "1th iteration is complete...\n",
      "[tensor(0.1507, device='cuda:0', dtype=torch.float64), tensor(0.1507, device='cuda:0', dtype=torch.float64)]\n",
      "74 18 804 (5880, 10)\n",
      "1.5897980007312063 1.2367855912179087\n",
      "Initiating \n",
      "Starting Iterations\n",
      "Error after solving for Item Matrix: tensor(0.1506, device='cuda:0', dtype=torch.float64)\n",
      "0th iteration is complete...\n"
     ]
    },
    {
     "name": "stderr",
     "output_type": "stream",
     "text": [
      "\r",
      "75it [42:39, 29.61s/it]"
     ]
    },
    {
     "name": "stdout",
     "output_type": "stream",
     "text": [
      "Error after solving for Item Matrix: tensor(0.1506, device='cuda:0', dtype=torch.float64)\n",
      "1th iteration is complete...\n",
      "[tensor(0.1506, device='cuda:0', dtype=torch.float64), tensor(0.1506, device='cuda:0', dtype=torch.float64)]\n",
      "75 267 1113 (5880, 10)\n",
      "0.7730670257226517 0.38050675386363064\n",
      "Initiating \n",
      "Starting Iterations\n",
      "Error after solving for Item Matrix: tensor(0.1505, device='cuda:0', dtype=torch.float64)\n",
      "0th iteration is complete...\n"
     ]
    },
    {
     "name": "stderr",
     "output_type": "stream",
     "text": [
      "\r",
      "76it [43:09, 29.80s/it]"
     ]
    },
    {
     "name": "stdout",
     "output_type": "stream",
     "text": [
      "Error after solving for Item Matrix: tensor(0.1504, device='cuda:0', dtype=torch.float64)\n",
      "1th iteration is complete...\n",
      "[tensor(0.1505, device='cuda:0', dtype=torch.float64), tensor(0.1504, device='cuda:0', dtype=torch.float64)]\n",
      "76 508 4291 (5880, 10)\n",
      "-0.7819536900204493 -0.43830812818477494\n",
      "Initiating \n",
      "Starting Iterations\n",
      "Error after solving for Item Matrix: tensor(0.1504, device='cuda:0', dtype=torch.float64)\n",
      "0th iteration is complete...\n"
     ]
    },
    {
     "name": "stderr",
     "output_type": "stream",
     "text": [
      "\r",
      "77it [43:39, 30.00s/it]"
     ]
    },
    {
     "name": "stdout",
     "output_type": "stream",
     "text": [
      "Error after solving for Item Matrix: tensor(0.1503, device='cuda:0', dtype=torch.float64)\n",
      "1th iteration is complete...\n",
      "[tensor(0.1504, device='cuda:0', dtype=torch.float64), tensor(0.1503, device='cuda:0', dtype=torch.float64)]\n",
      "77 447 2748 (5880, 10)\n",
      "2.1244311391870156 1.9394305703478836\n",
      "Initiating \n",
      "Starting Iterations\n",
      "Error after solving for Item Matrix: tensor(0.1503, device='cuda:0', dtype=torch.float64)\n",
      "0th iteration is complete...\n"
     ]
    },
    {
     "name": "stderr",
     "output_type": "stream",
     "text": [
      "\r",
      "78it [44:09, 29.89s/it]"
     ]
    },
    {
     "name": "stdout",
     "output_type": "stream",
     "text": [
      "Error after solving for Item Matrix: tensor(0.1502, device='cuda:0', dtype=torch.float64)\n",
      "1th iteration is complete...\n",
      "[tensor(0.1503, device='cuda:0', dtype=torch.float64), tensor(0.1502, device='cuda:0', dtype=torch.float64)]\n",
      "78 443 451 (5880, 10)\n",
      "-0.41876144182063424 -1.208589954907504\n",
      "Initiating \n",
      "Starting Iterations\n",
      "Error after solving for Item Matrix: tensor(0.1501, device='cuda:0', dtype=torch.float64)\n",
      "0th iteration is complete...\n"
     ]
    },
    {
     "name": "stderr",
     "output_type": "stream",
     "text": [
      "\r",
      "79it [44:39, 29.79s/it]"
     ]
    },
    {
     "name": "stdout",
     "output_type": "stream",
     "text": [
      "Error after solving for Item Matrix: tensor(0.1501, device='cuda:0', dtype=torch.float64)\n",
      "1th iteration is complete...\n",
      "[tensor(0.1501, device='cuda:0', dtype=torch.float64), tensor(0.1501, device='cuda:0', dtype=torch.float64)]\n",
      "79 281 9 (5880, 10)\n",
      "-0.1878997066942114 -0.11198525886914501\n",
      "Initiating \n",
      "Starting Iterations\n",
      "Error after solving for Item Matrix: tensor(0.1500, device='cuda:0', dtype=torch.float64)\n",
      "0th iteration is complete...\n"
     ]
    },
    {
     "name": "stderr",
     "output_type": "stream",
     "text": [
      "\r",
      "80it [45:08, 29.73s/it]"
     ]
    },
    {
     "name": "stdout",
     "output_type": "stream",
     "text": [
      "Error after solving for Item Matrix: tensor(0.1500, device='cuda:0', dtype=torch.float64)\n",
      "1th iteration is complete...\n",
      "[tensor(0.1500, device='cuda:0', dtype=torch.float64), tensor(0.1500, device='cuda:0', dtype=torch.float64)]\n",
      "80 41 186 (5880, 10)\n",
      "0.23283886465771708 0.4344471598328834\n",
      "Initiating \n",
      "Starting Iterations\n",
      "Error after solving for Item Matrix: tensor(0.1499, device='cuda:0', dtype=torch.float64)\n",
      "0th iteration is complete...\n"
     ]
    },
    {
     "name": "stderr",
     "output_type": "stream",
     "text": [
      "\r",
      "81it [45:38, 29.63s/it]"
     ]
    },
    {
     "name": "stdout",
     "output_type": "stream",
     "text": [
      "Error after solving for Item Matrix: tensor(0.1499, device='cuda:0', dtype=torch.float64)\n",
      "1th iteration is complete...\n",
      "[tensor(0.1499, device='cuda:0', dtype=torch.float64), tensor(0.1499, device='cuda:0', dtype=torch.float64)]\n",
      "81 198 1839 (5880, 10)\n",
      "-0.07473647836593544 -4.145411077257942\n",
      "Initiating \n",
      "Starting Iterations\n",
      "Error after solving for Item Matrix: tensor(0.1499, device='cuda:0', dtype=torch.float64)\n",
      "0th iteration is complete...\n"
     ]
    },
    {
     "name": "stderr",
     "output_type": "stream",
     "text": [
      "\r",
      "82it [46:07, 29.47s/it]"
     ]
    },
    {
     "name": "stdout",
     "output_type": "stream",
     "text": [
      "Error after solving for Item Matrix: tensor(0.1498, device='cuda:0', dtype=torch.float64)\n",
      "1th iteration is complete...\n",
      "[tensor(0.1499, device='cuda:0', dtype=torch.float64), tensor(0.1498, device='cuda:0', dtype=torch.float64)]\n",
      "82 198 1751 (5880, 10)\n",
      "2.827464270567344 2.353129450173128\n",
      "Initiating \n",
      "Starting Iterations\n",
      "Error after solving for Item Matrix: tensor(0.1497, device='cuda:0', dtype=torch.float64)\n",
      "0th iteration is complete...\n"
     ]
    },
    {
     "name": "stderr",
     "output_type": "stream",
     "text": [
      "\r",
      "83it [46:36, 29.35s/it]"
     ]
    },
    {
     "name": "stdout",
     "output_type": "stream",
     "text": [
      "Error after solving for Item Matrix: tensor(0.1497, device='cuda:0', dtype=torch.float64)\n",
      "1th iteration is complete...\n",
      "[tensor(0.1497, device='cuda:0', dtype=torch.float64), tensor(0.1497, device='cuda:0', dtype=torch.float64)]\n",
      "83 599 784 (5880, 10)\n",
      "1.6288598840218933 0.001582551397111498\n",
      "Initiating \n",
      "Starting Iterations\n",
      "Error after solving for Item Matrix: tensor(0.1496, device='cuda:0', dtype=torch.float64)\n",
      "0th iteration is complete...\n"
     ]
    },
    {
     "name": "stderr",
     "output_type": "stream",
     "text": [
      "\r",
      "84it [47:05, 29.38s/it]"
     ]
    },
    {
     "name": "stdout",
     "output_type": "stream",
     "text": [
      "Error after solving for Item Matrix: tensor(0.1495, device='cuda:0', dtype=torch.float64)\n",
      "1th iteration is complete...\n",
      "[tensor(0.1496, device='cuda:0', dtype=torch.float64), tensor(0.1495, device='cuda:0', dtype=torch.float64)]\n",
      "84 599 761 (5880, 10)\n",
      "5.236838208234225 4.460841449899522\n",
      "Initiating \n",
      "Starting Iterations\n",
      "Error after solving for Item Matrix: tensor(0.1495, device='cuda:0', dtype=torch.float64)\n",
      "0th iteration is complete...\n"
     ]
    },
    {
     "name": "stderr",
     "output_type": "stream",
     "text": [
      "\r",
      "85it [47:35, 29.57s/it]"
     ]
    },
    {
     "name": "stdout",
     "output_type": "stream",
     "text": [
      "Error after solving for Item Matrix: tensor(0.1494, device='cuda:0', dtype=torch.float64)\n",
      "1th iteration is complete...\n",
      "[tensor(0.1495, device='cuda:0', dtype=torch.float64), tensor(0.1494, device='cuda:0', dtype=torch.float64)]\n",
      "85 508 3973 (5880, 10)\n",
      "3.053836472308171 2.634695959400757\n",
      "Initiating \n",
      "Starting Iterations\n",
      "Error after solving for Item Matrix: tensor(0.1494, device='cuda:0', dtype=torch.float64)\n",
      "0th iteration is complete...\n"
     ]
    },
    {
     "name": "stderr",
     "output_type": "stream",
     "text": [
      "\r",
      "86it [48:06, 29.77s/it]"
     ]
    },
    {
     "name": "stdout",
     "output_type": "stream",
     "text": [
      "Error after solving for Item Matrix: tensor(0.1493, device='cuda:0', dtype=torch.float64)\n",
      "1th iteration is complete...\n",
      "[tensor(0.1494, device='cuda:0', dtype=torch.float64), tensor(0.1493, device='cuda:0', dtype=torch.float64)]\n",
      "86 185 910 (5880, 10)\n",
      "0.26415854216253454 0.9931650212133101\n",
      "Initiating \n",
      "Starting Iterations\n",
      "Error after solving for Item Matrix: tensor(0.1493, device='cuda:0', dtype=torch.float64)\n",
      "0th iteration is complete...\n"
     ]
    },
    {
     "name": "stderr",
     "output_type": "stream",
     "text": [
      "\r",
      "87it [48:35, 29.75s/it]"
     ]
    },
    {
     "name": "stdout",
     "output_type": "stream",
     "text": [
      "Error after solving for Item Matrix: tensor(0.1493, device='cuda:0', dtype=torch.float64)\n",
      "1th iteration is complete...\n",
      "[tensor(0.1493, device='cuda:0', dtype=torch.float64), tensor(0.1493, device='cuda:0', dtype=torch.float64)]\n",
      "87 267 273 (5880, 10)\n",
      "2.152090501087929 1.5817633769826869\n",
      "Initiating \n",
      "Starting Iterations\n",
      "Error after solving for Item Matrix: tensor(0.1492, device='cuda:0', dtype=torch.float64)\n",
      "0th iteration is complete...\n"
     ]
    },
    {
     "name": "stderr",
     "output_type": "stream",
     "text": [
      "\r",
      "88it [49:05, 29.67s/it]"
     ]
    },
    {
     "name": "stdout",
     "output_type": "stream",
     "text": [
      "Error after solving for Item Matrix: tensor(0.1492, device='cuda:0', dtype=torch.float64)\n",
      "1th iteration is complete...\n",
      "[tensor(0.1492, device='cuda:0', dtype=torch.float64), tensor(0.1492, device='cuda:0', dtype=torch.float64)]\n",
      "88 267 171 (5880, 10)\n",
      "5.067271950536864 2.291603452578083\n",
      "Initiating \n",
      "Starting Iterations\n",
      "Error after solving for Item Matrix: tensor(0.1491, device='cuda:0', dtype=torch.float64)\n",
      "0th iteration is complete...\n"
     ]
    },
    {
     "name": "stderr",
     "output_type": "stream",
     "text": [
      "\r",
      "89it [49:34, 29.59s/it]"
     ]
    },
    {
     "name": "stdout",
     "output_type": "stream",
     "text": [
      "Error after solving for Item Matrix: tensor(0.1491, device='cuda:0', dtype=torch.float64)\n",
      "1th iteration is complete...\n",
      "[tensor(0.1491, device='cuda:0', dtype=torch.float64), tensor(0.1491, device='cuda:0', dtype=torch.float64)]\n",
      "89 185 2770 (5880, 10)\n",
      "0.30642337756245386 -0.6485195611353678\n",
      "Initiating \n",
      "Starting Iterations\n",
      "Error after solving for Item Matrix: tensor(0.1490, device='cuda:0', dtype=torch.float64)\n",
      "0th iteration is complete...\n"
     ]
    },
    {
     "name": "stderr",
     "output_type": "stream",
     "text": [
      "\r",
      "90it [50:03, 29.40s/it]"
     ]
    },
    {
     "name": "stdout",
     "output_type": "stream",
     "text": [
      "Error after solving for Item Matrix: tensor(0.1490, device='cuda:0', dtype=torch.float64)\n",
      "1th iteration is complete...\n",
      "[tensor(0.1490, device='cuda:0', dtype=torch.float64), tensor(0.1490, device='cuda:0', dtype=torch.float64)]\n",
      "90 447 2105 (5880, 10)\n",
      "0.002405489509341052 -0.22811332848519017\n",
      "Initiating \n",
      "Starting Iterations\n",
      "Error after solving for Item Matrix: tensor(0.1489, device='cuda:0', dtype=torch.float64)\n",
      "0th iteration is complete...\n"
     ]
    },
    {
     "name": "stderr",
     "output_type": "stream",
     "text": [
      "\r",
      "91it [50:32, 29.15s/it]"
     ]
    },
    {
     "name": "stdout",
     "output_type": "stream",
     "text": [
      "Error after solving for Item Matrix: tensor(0.1489, device='cuda:0', dtype=torch.float64)\n",
      "1th iteration is complete...\n",
      "[tensor(0.1489, device='cuda:0', dtype=torch.float64), tensor(0.1489, device='cuda:0', dtype=torch.float64)]\n",
      "91 605 983 (5880, 10)\n",
      "-0.3315380607525107 0.6572276811751285\n",
      "Initiating \n",
      "Starting Iterations\n",
      "Error after solving for Item Matrix: tensor(0.1488, device='cuda:0', dtype=torch.float64)\n",
      "0th iteration is complete...\n"
     ]
    },
    {
     "name": "stderr",
     "output_type": "stream",
     "text": [
      "\r",
      "92it [51:00, 28.92s/it]"
     ]
    },
    {
     "name": "stdout",
     "output_type": "stream",
     "text": [
      "Error after solving for Item Matrix: tensor(0.1488, device='cuda:0', dtype=torch.float64)\n",
      "1th iteration is complete...\n",
      "[tensor(0.1488, device='cuda:0', dtype=torch.float64), tensor(0.1488, device='cuda:0', dtype=torch.float64)]\n",
      "92 247 5865 (5880, 10)\n",
      "1.7509976885614047 1.5530682178529966\n",
      "Initiating \n",
      "Starting Iterations\n",
      "Error after solving for Item Matrix: tensor(0.1488, device='cuda:0', dtype=torch.float64)\n",
      "0th iteration is complete...\n"
     ]
    },
    {
     "name": "stderr",
     "output_type": "stream",
     "text": [
      "\r",
      "93it [51:28, 28.77s/it]"
     ]
    },
    {
     "name": "stdout",
     "output_type": "stream",
     "text": [
      "Error after solving for Item Matrix: tensor(0.1487, device='cuda:0', dtype=torch.float64)\n",
      "1th iteration is complete...\n",
      "[tensor(0.1488, device='cuda:0', dtype=torch.float64), tensor(0.1487, device='cuda:0', dtype=torch.float64)]\n",
      "93 247 5475 (5880, 10)\n",
      "0.611603680383229 1.3548188618642163\n",
      "Initiating \n",
      "Starting Iterations\n",
      "Error after solving for Item Matrix: tensor(0.1487, device='cuda:0', dtype=torch.float64)\n",
      "0th iteration is complete...\n"
     ]
    },
    {
     "name": "stderr",
     "output_type": "stream",
     "text": [
      "\r",
      "94it [51:57, 28.68s/it]"
     ]
    },
    {
     "name": "stdout",
     "output_type": "stream",
     "text": [
      "Error after solving for Item Matrix: tensor(0.1486, device='cuda:0', dtype=torch.float64)\n",
      "1th iteration is complete...\n",
      "[tensor(0.1487, device='cuda:0', dtype=torch.float64), tensor(0.1486, device='cuda:0', dtype=torch.float64)]\n",
      "94 114 827 (5880, 10)\n",
      "0.03924902241135797 0.6689940391609515\n",
      "Initiating \n",
      "Starting Iterations\n",
      "Error after solving for Item Matrix: tensor(0.1486, device='cuda:0', dtype=torch.float64)\n",
      "0th iteration is complete...\n"
     ]
    },
    {
     "name": "stderr",
     "output_type": "stream",
     "text": [
      "\r",
      "95it [52:25, 28.63s/it]"
     ]
    },
    {
     "name": "stdout",
     "output_type": "stream",
     "text": [
      "Error after solving for Item Matrix: tensor(0.1485, device='cuda:0', dtype=torch.float64)\n",
      "1th iteration is complete...\n",
      "[tensor(0.1486, device='cuda:0', dtype=torch.float64), tensor(0.1485, device='cuda:0', dtype=torch.float64)]\n",
      "95 216 1690 (5880, 10)\n",
      "3.475213760039744 3.1094245369543825\n",
      "Initiating \n",
      "Starting Iterations\n",
      "Error after solving for Item Matrix: tensor(0.1485, device='cuda:0', dtype=torch.float64)\n",
      "0th iteration is complete...\n"
     ]
    },
    {
     "name": "stderr",
     "output_type": "stream",
     "text": [
      "\r",
      "96it [52:54, 28.53s/it]"
     ]
    },
    {
     "name": "stdout",
     "output_type": "stream",
     "text": [
      "Error after solving for Item Matrix: tensor(0.1485, device='cuda:0', dtype=torch.float64)\n",
      "1th iteration is complete...\n",
      "[tensor(0.1485, device='cuda:0', dtype=torch.float64), tensor(0.1485, device='cuda:0', dtype=torch.float64)]\n",
      "96 605 826 (5880, 10)\n",
      "-0.5352037588943475 -0.5396297947795636\n",
      "Initiating \n",
      "Starting Iterations\n",
      "Error after solving for Item Matrix: tensor(0.1484, device='cuda:0', dtype=torch.float64)\n",
      "0th iteration is complete...\n"
     ]
    },
    {
     "name": "stderr",
     "output_type": "stream",
     "text": [
      "\r",
      "97it [53:22, 28.48s/it]"
     ]
    },
    {
     "name": "stdout",
     "output_type": "stream",
     "text": [
      "Error after solving for Item Matrix: tensor(0.1484, device='cuda:0', dtype=torch.float64)\n",
      "1th iteration is complete...\n",
      "[tensor(0.1484, device='cuda:0', dtype=torch.float64), tensor(0.1484, device='cuda:0', dtype=torch.float64)]\n",
      "97 216 1620 (5880, 10)\n",
      "2.2574280758894103 0.2399511934251206\n",
      "Initiating \n",
      "Starting Iterations\n",
      "Error after solving for Item Matrix: tensor(0.1483, device='cuda:0', dtype=torch.float64)\n",
      "0th iteration is complete...\n"
     ]
    },
    {
     "name": "stderr",
     "output_type": "stream",
     "text": [
      "\r",
      "98it [53:50, 28.47s/it]"
     ]
    },
    {
     "name": "stdout",
     "output_type": "stream",
     "text": [
      "Error after solving for Item Matrix: tensor(0.1483, device='cuda:0', dtype=torch.float64)\n",
      "1th iteration is complete...\n",
      "[tensor(0.1483, device='cuda:0', dtype=torch.float64), tensor(0.1483, device='cuda:0', dtype=torch.float64)]\n",
      "98 605 830 (5880, 10)\n",
      "0.6518455992534364 0.05360399689538964\n",
      "Initiating \n",
      "Starting Iterations\n",
      "Error after solving for Item Matrix: tensor(0.1483, device='cuda:0', dtype=torch.float64)\n",
      "0th iteration is complete...\n"
     ]
    },
    {
     "name": "stderr",
     "output_type": "stream",
     "text": [
      "\r",
      "99it [54:19, 28.38s/it]"
     ]
    },
    {
     "name": "stdout",
     "output_type": "stream",
     "text": [
      "Error after solving for Item Matrix: tensor(0.1482, device='cuda:0', dtype=torch.float64)\n",
      "1th iteration is complete...\n",
      "[tensor(0.1483, device='cuda:0', dtype=torch.float64), tensor(0.1482, device='cuda:0', dtype=torch.float64)]\n",
      "99 281 3680 (5880, 10)\n",
      "-0.5007121471244291 -0.07547954430882875\n",
      "Initiating \n",
      "Starting Iterations\n",
      "Error after solving for Item Matrix: tensor(0.1482, device='cuda:0', dtype=torch.float64)\n",
      "0th iteration is complete...\n"
     ]
    },
    {
     "name": "stderr",
     "output_type": "stream",
     "text": [
      "100it [54:47, 32.88s/it]"
     ]
    },
    {
     "name": "stdout",
     "output_type": "stream",
     "text": [
      "Error after solving for Item Matrix: tensor(0.1481, device='cuda:0', dtype=torch.float64)\n",
      "1th iteration is complete...\n",
      "[tensor(0.1482, device='cuda:0', dtype=torch.float64), tensor(0.1481, device='cuda:0', dtype=torch.float64)]\n"
     ]
    },
    {
     "name": "stderr",
     "output_type": "stream",
     "text": [
      "\n"
     ]
    }
   ],
=======
   "execution_count": null,
   "id": "ecba755a",
   "metadata": {},
   "outputs": [],
>>>>>>> sigmod-experiments
   "source": [
    "streaming_user_matrix_batch = np.array(user_matrix, copy=True) \n",
    "streaming_movie_matrix_batch = np.array(movie_matrix, copy=True) \n",
    "A_matrix_batch = np.array(A, copy=True)\n",
    "R_matrix_batch = np.array(R, copy=True)\n",
    "\n",
    "y = []\n",
    "origin_pred = []\n",
    "updated_pred = []\n",
    "\n",
    "for index, row in tqdm(test_df.iloc[:limit].iterrows()):\n",
    "    \n",
    "    \n",
    "    ui = user_to_index[str(int(row[\"user_id\"]))]\n",
    "    mi = movie_to_index[str(int(row[\"movie_id\"]))]\n",
    "    \n",
    "    print(index, ui, mi, movie_matrix.shape)\n",
    "    \n",
    "    A_matrix_batch[ui][mi] = row[\"rating\"]\n",
    "    R_matrix_batch[ui][mi] = 1\n",
    "    \n",
    "    origin_pred.append(user_matrix[ui].dot(movie_matrix[mi].T))\n",
    "    updated_pred.append(streaming_user_matrix_batch[ui].dot(streaming_movie_matrix_batch[mi].T))\n",
    "    y.append(row[\"rating\"])\n",
    "    \n",
    "    print(row[\"rating\"] - origin_pred[-1], row[\"rating\"] - updated_pred[-1])\n",
    "    \n",
    "    n_factors = len(user_matrix[ui])\n",
    "    n_iter = 2\n",
    "    reg = 0.1\n",
    "    streaming_user_matrix_batch, streaming_movie_matrix_batch = runALS(\n",
    "        A_matrix_batch, \n",
    "        R_matrix_batch, \n",
    "        n_factors, \n",
    "        n_iter, \n",
    "        reg, \n",
    "        streaming_user_matrix_batch, \n",
    "        streaming_movie_matrix_batch, \n",
    "        users=None #, [ui]\n",
    "    )\n",
    "\n"
   ]
  },
  {
   "cell_type": "code",
   "execution_count": null,
   "id": "e6224136",
   "metadata": {},
   "outputs": [],
   "source": [
    "streaming_user_matrix = np.array(user_matrix, copy=True) \n",
    "A_matrix = np.array(A, copy=True)\n",
    "R_matrix = np.array(R, copy=True)\n",
    "\n",
    "\n",
    "y = []\n",
    "origin_pred = []\n",
    "updated_pred = []\n",
    "#for index, row in test_df.iloc[:limit].iterrows():\n",
    "for index, row in tqdm(test_df.iloc[:limit].iterrows()):\n",
    "    ui = user_to_index[int(row[\"user_id\"])]\n",
    "    mi = movie_to_index[int(row[\"movie_id\"])]\n",
    "    \n",
    "    #print(ui, mi)\n",
    "    \n",
    "    A_matrix[ui][mi] = row[\"rating\"]\n",
    "    R_matrix[ui][mi] = 1\n",
    "    \n",
    "    Ri = R_matrix[ui]\n",
    "    user_features = user_matrix[ui]\n",
    "    user_feature_reg = 10\n",
    "    n_factors = len(user_features)\n",
    "\n",
    "    origin_pred.append(user_features.dot(movie_matrix[mi].T))\n",
    "    updated_pred.append(streaming_user_matrix[ui].dot(movie_matrix[mi].T))\n",
    "    y.append(row[\"rating\"])\n",
    "    \n",
    "    streaming_user_matrix[ui] = np.linalg.solve(\n",
    "        np.dot(movie_matrix.T, np.dot(np.diag(Ri), movie_matrix)) + user_feature_reg * np.eye(n_factors),\n",
    "        np.dot(movie_matrix.T, np.dot(np.diag(Ri), A_matrix[ui].T))\n",
    "    ).T"
   ]
  },
  {
   "cell_type": "code",
<<<<<<< HEAD
   "execution_count": 281,
   "id": "651daf70",
   "metadata": {},
   "outputs": [
    {
     "name": "stdout",
     "output_type": "stream",
     "text": [
      "0.8082726343231565\n",
      "1.0230204056129373\n"
     ]
    }
   ],
=======
   "execution_count": null,
   "id": "651daf70",
   "metadata": {},
   "outputs": [],
>>>>>>> sigmod-experiments
   "source": [
    "# 0.01\n",
    "print(mean_squared_error(y, origin_pred))\n",
    "print(mean_squared_error(y, updated_pred))"
   ]
  },
  {
   "cell_type": "code",
<<<<<<< HEAD
   "execution_count": 397,
   "id": "4b29c187",
   "metadata": {},
   "outputs": [
    {
     "name": "stdout",
     "output_type": "stream",
     "text": [
      "1.4671150686446557\n",
      "1.0133199089937928\n"
     ]
    }
   ],
=======
   "execution_count": null,
   "id": "4b29c187",
   "metadata": {},
   "outputs": [],
>>>>>>> sigmod-experiments
   "source": [
    "# 0.1\n",
    "print(mean_squared_error(y, origin_pred))\n",
    "print(mean_squared_error(y, updated_pred))"
   ]
  },
  {
   "cell_type": "code",
<<<<<<< HEAD
   "execution_count": 367,
   "id": "b0d43e2b",
   "metadata": {},
   "outputs": [
    {
     "name": "stdout",
     "output_type": "stream",
     "text": [
      "0.9443630672033476\n",
      "0.7268476127735536\n"
     ]
    }
   ],
=======
   "execution_count": null,
   "id": "b0d43e2b",
   "metadata": {},
   "outputs": [],
>>>>>>> sigmod-experiments
   "source": [
    "# 10 \n",
    "print(mean_squared_error(y, origin_pred))\n",
    "print(mean_squared_error(y, updated_pred))"
   ]
  },
  {
   "cell_type": "code",
<<<<<<< HEAD
   "execution_count": 198,
   "id": "036ceaa0",
   "metadata": {},
   "outputs": [
    {
     "name": "stdout",
     "output_type": "stream",
     "text": [
      "0.8082726343231565\n",
      "0.7681332529828907\n"
     ]
    }
   ],
=======
   "execution_count": null,
   "id": "036ceaa0",
   "metadata": {},
   "outputs": [],
>>>>>>> sigmod-experiments
   "source": [
    "# 5\n",
    "print(mean_squared_error(y, origin_pred))\n",
    "print(mean_squared_error(y, updated_pred))"
   ]
  },
  {
   "cell_type": "code",
<<<<<<< HEAD
   "execution_count": 389,
   "id": "3883c8df",
   "metadata": {},
   "outputs": [
    {
     "name": "stdout",
     "output_type": "stream",
     "text": [
      "0.9443630672033476\n",
      "0.7603693972176797\n"
     ]
    }
   ],
=======
   "execution_count": null,
   "id": "3883c8df",
   "metadata": {},
   "outputs": [],
>>>>>>> sigmod-experiments
   "source": [
    "# 1\n",
    "print(mean_squared_error(y, origin_pred))\n",
    "print(mean_squared_error(y, updated_pred))"
   ]
  },
  {
   "cell_type": "code",
<<<<<<< HEAD
   "execution_count": 388,
   "id": "59afd448",
   "metadata": {},
   "outputs": [
    {
     "data": {
      "text/plain": [
       "0.9443630672033476"
      ]
     },
     "execution_count": 388,
     "metadata": {},
     "output_type": "execute_result"
    }
   ],
=======
   "execution_count": null,
   "id": "59afd448",
   "metadata": {},
   "outputs": [],
>>>>>>> sigmod-experiments
   "source": [
    "mean_squared_error(y, origin_pred)"
   ]
  },
  {
   "cell_type": "code",
<<<<<<< HEAD
   "execution_count": 108,
   "id": "e1d259ec",
   "metadata": {},
   "outputs": [
    {
     "data": {
      "text/plain": [
       "0.8402972775978212"
      ]
     },
     "execution_count": 108,
     "metadata": {},
     "output_type": "execute_result"
    }
   ],
=======
   "execution_count": null,
   "id": "e1d259ec",
   "metadata": {},
   "outputs": [],
>>>>>>> sigmod-experiments
   "source": [
    "mean_squared_error(y, updated_pred)"
   ]
  },
  {
   "cell_type": "code",
<<<<<<< HEAD
   "execution_count": 51,
   "id": "254e8eb8",
   "metadata": {},
   "outputs": [
    {
     "data": {
      "text/plain": [
       "array([0., 0., 0., ..., 0., 0., 0.])"
      ]
     },
     "execution_count": 51,
     "metadata": {},
     "output_type": "execute_result"
    }
   ],
=======
   "execution_count": null,
   "id": "254e8eb8",
   "metadata": {},
   "outputs": [],
>>>>>>> sigmod-experiments
   "source": [
    "A[199]"
   ]
  },
  {
   "cell_type": "code",
<<<<<<< HEAD
   "execution_count": 52,
   "id": "a86efc52",
   "metadata": {},
   "outputs": [
    {
     "data": {
      "text/plain": [
       "array([3.5, 0. , 0. , ..., 0. , 0. , 0. ])"
      ]
     },
     "execution_count": 52,
     "metadata": {},
     "output_type": "execute_result"
    }
   ],
=======
   "execution_count": null,
   "id": "a86efc52",
   "metadata": {},
   "outputs": [],
>>>>>>> sigmod-experiments
   "source": [
    "A_matrix[199]"
   ]
  },
  {
   "cell_type": "code",
<<<<<<< HEAD
   "execution_count": 72,
   "id": "53d63717",
   "metadata": {},
   "outputs": [
    {
     "name": "stdout",
     "output_type": "stream",
     "text": [
      "/data/wooders/ralf-vldb//datasets/ml-25m\n"
     ]
    },
    {
     "ename": "NameError",
     "evalue": "name 'streaming_sgd_user_matrix' is not defined",
     "output_type": "error",
     "traceback": [
      "\u001b[0;31m---------------------------------------------------------------------------\u001b[0m",
      "\u001b[0;31mNameError\u001b[0m                                 Traceback (most recent call last)",
      "\u001b[0;32m<ipython-input-72-52fa17d40dee>\u001b[0m in \u001b[0;36m<module>\u001b[0;34m\u001b[0m\n\u001b[0;32m----> 1\u001b[0;31m \u001b[0;32mdel\u001b[0m \u001b[0mstreaming_sgd_user_matrix\u001b[0m\u001b[0;34m\u001b[0m\u001b[0;34m\u001b[0m\u001b[0m\n\u001b[0m\u001b[1;32m      2\u001b[0m \u001b[0mstreaming_sgd_user_matrix\u001b[0m \u001b[0;34m=\u001b[0m \u001b[0mnp\u001b[0m\u001b[0;34m.\u001b[0m\u001b[0marray\u001b[0m\u001b[0;34m(\u001b[0m\u001b[0muser_matrix\u001b[0m\u001b[0;34m,\u001b[0m \u001b[0mcopy\u001b[0m\u001b[0;34m=\u001b[0m\u001b[0;32mTrue\u001b[0m\u001b[0;34m)\u001b[0m\u001b[0;34m\u001b[0m\u001b[0;34m\u001b[0m\u001b[0m\n\u001b[1;32m      3\u001b[0m \u001b[0;34m\u001b[0m\u001b[0m\n\u001b[1;32m      4\u001b[0m \u001b[0msgd_updated_pred\u001b[0m \u001b[0;34m=\u001b[0m \u001b[0;34m[\u001b[0m\u001b[0;34m]\u001b[0m\u001b[0;34m\u001b[0m\u001b[0;34m\u001b[0m\u001b[0m\n\u001b[1;32m      5\u001b[0m \u001b[0my\u001b[0m \u001b[0;34m=\u001b[0m \u001b[0;34m[\u001b[0m\u001b[0;34m]\u001b[0m\u001b[0;34m\u001b[0m\u001b[0;34m\u001b[0m\u001b[0m\n",
      "\u001b[0;31mNameError\u001b[0m: name 'streaming_sgd_user_matrix' is not defined"
     ]
    }
   ],
=======
   "execution_count": null,
   "id": "53d63717",
   "metadata": {},
   "outputs": [],
>>>>>>> sigmod-experiments
   "source": [
    "del streaming_sgd_user_matrix\n",
    "streaming_sgd_user_matrix = np.array(user_matrix, copy=True) \n",
    "\n",
    "sgd_updated_pred = []\n",
    "y = []\n",
    "origin_pred = []\n",
    "for index, row in tqdm(test_df[:limit].iterrows()):\n",
    "    ui = user_to_index[int(row[\"user_id\"])]\n",
    "    mi = movie_to_index[int(row[\"movie_id\"])]\n",
    "    \n",
    "    user_features = streaming_sgd_user_matrix[ui]\n",
    "    user_feature_reg = 0.01\n",
    "    learning_rate = 0.02\n",
    "\n",
    "    prediction = user_features.dot(movie_matrix[mi].T)\n",
    "    \n",
    "    sgd_updated_pred.append(prediction)\n",
    "    origin_pred.append(user_matrix[ui].dot(movie_matrix[mi].T))\n",
    "    y.append(row[\"rating\"])\n",
    "    \n",
    "    error = row[\"rating\"] - prediction\n",
    "    streaming_sgd_user_matrix[ui] = user_features + learning_rate * (error * movie_matrix[mi] - user_feature_reg * user_features)\n",
    "    "
   ]
  },
  {
   "cell_type": "code",
   "execution_count": null,
   "id": "e6537b0c",
   "metadata": {},
   "outputs": [],
   "source": [
    "# reg = 10 \n",
    "print(mean_squared_error(y, origin_pred)) # original user matrix (ALS)\n",
    "print(mean_squared_error(y, updated_pred)) # update entire user vector (ALS) - expensive \n",
    "print(mean_squared_error(y, sgd_updated_pred)) # sgd update - cheap "
   ]
  },
  {
   "cell_type": "code",
<<<<<<< HEAD
   "execution_count": 394,
   "id": "3035addd",
   "metadata": {},
   "outputs": [
    {
     "name": "stdout",
     "output_type": "stream",
     "text": [
      "0.9443630672033476\n",
      "0.7603693972176797\n",
      "0.6866947552973449\n"
     ]
    }
   ],
=======
   "execution_count": null,
   "id": "3035addd",
   "metadata": {},
   "outputs": [],
>>>>>>> sigmod-experiments
   "source": [
    "# reg = 5 \n",
    "print(mean_squared_error(y, origin_pred)) # original user matrix (ALS)\n",
    "print(mean_squared_error(y, updated_pred)) # update entire user vector (ALS) - expensive \n",
    "print(mean_squared_error(y, sgd_updated_pred)) # sgd update - cheap "
   ]
  },
  {
   "cell_type": "code",
<<<<<<< HEAD
   "execution_count": 425,
   "id": "3445ae2f",
   "metadata": {},
   "outputs": [
    {
     "name": "stdout",
     "output_type": "stream",
     "text": [
      "0.9859405302385216\n",
      "0.7659639874041033\n"
     ]
    }
   ],
=======
   "execution_count": null,
   "id": "3445ae2f",
   "metadata": {},
   "outputs": [],
>>>>>>> sigmod-experiments
   "source": [
    "# reg = 5 \n",
    "print(mean_squared_error(y, origin_pred)) # original user matrix (ALS)\n",
    "#print(mean_squared_error(y, updated_pred)) # update entire user vector (ALS) - expensive \n",
    "print(mean_squared_error(y, sgd_updated_pred)) # sgd update - cheap "
   ]
  },
  {
   "cell_type": "code",
   "execution_count": null,
   "id": "e9f8d062",
   "metadata": {},
   "outputs": [],
   "source": [
    "# reg = 5 \n",
    "print(mean_squared_error(y, origin_pred)) # original user matrix (ALS)\n",
    "print(mean_squared_error(y, updated_pred)) # update entire user vector (ALS) - expensive \n",
    "print(mean_squared_error(y, sgd_updated_pred)) # sgd update - cheap "
   ]
  },
  {
   "cell_type": "code",
<<<<<<< HEAD
   "execution_count": 488,
   "id": "6ecd77db",
   "metadata": {},
   "outputs": [
    {
     "data": {
      "text/plain": [
       "0.9857666576931231"
      ]
     },
     "execution_count": 488,
     "metadata": {},
     "output_type": "execute_result"
    }
   ],
=======
   "execution_count": null,
   "id": "6ecd77db",
   "metadata": {},
   "outputs": [],
>>>>>>> sigmod-experiments
   "source": [
    "# original user matrix (ALS)\n",
    "evaluate(test_df.iloc[limit:limit+1], user_matrix, movie_matrix)"
   ]
  },
  {
   "cell_type": "code",
<<<<<<< HEAD
   "execution_count": 489,
   "id": "c514cf24",
   "metadata": {},
   "outputs": [
    {
     "data": {
      "text/plain": [
       "1.0723155273511797"
      ]
     },
     "execution_count": 489,
     "metadata": {},
     "output_type": "execute_result"
    }
   ],
=======
   "execution_count": null,
   "id": "c514cf24",
   "metadata": {},
   "outputs": [],
>>>>>>> sigmod-experiments
   "source": [
    "# update entire user vector (ALS) - expensive \n",
    "evaluate(test_df.iloc[limit:], streaming_user_matrix_batch, streaming_movie_matrix_batch)"
   ]
  },
  {
   "cell_type": "code",
<<<<<<< HEAD
   "execution_count": 490,
   "id": "a059b182",
   "metadata": {},
   "outputs": [
    {
     "data": {
      "text/plain": [
       "0.9861059351499817"
      ]
     },
     "execution_count": 490,
     "metadata": {},
     "output_type": "execute_result"
    }
   ],
=======
   "execution_count": null,
   "id": "a059b182",
   "metadata": {},
   "outputs": [],
>>>>>>> sigmod-experiments
   "source": [
    "# sgd update - cheap \n",
    "evaluate(test_df.iloc[limit:], streaming_sgd_user_matrix, movie_matrix)"
   ]
  },
  {
   "cell_type": "code",
<<<<<<< HEAD
   "execution_count": 684,
=======
   "execution_count": null,
>>>>>>> sigmod-experiments
   "id": "6d74b234",
   "metadata": {},
   "outputs": [],
   "source": [
    "import time"
   ]
  },
  {
   "cell_type": "code",
<<<<<<< HEAD
   "execution_count": 685,
   "id": "f307486c",
   "metadata": {},
   "outputs": [
    {
     "name": "stdout",
     "output_type": "stream",
     "text": [
      "0.22275853157043457\n"
     ]
    }
   ],
=======
   "execution_count": null,
   "id": "f307486c",
   "metadata": {},
   "outputs": [],
>>>>>>> sigmod-experiments
   "source": [
    "user_id = 41\n",
    "movie_id = 2\n",
    "rating = 5\n",
    "\n",
    "#[user_id][movie_id] = rating\n",
    "#[user_id][movie_id] = 1\n",
    "\n",
    "Ri = R[user_id]\n",
    "user_features = user_matrix[user_id]\n",
    "user_feature_reg = 0.1\n",
    "n_factors = len(user_features)\n",
    "\n",
    "# TODO: update A and R? \n",
    "\n",
    "st = time.time()\n",
    "user_i = np.linalg.solve(\n",
    "    np.dot(movie_matrix.T, np.dot(np.diag(Ri), movie_matrix)) + user_feature_reg * np.eye(n_factors),\n",
    "    np.dot(movie_matrix.T, np.dot(np.diag(Ri), A[user_id].T))\n",
    ").T\n",
    "print(time.time() - st)"
   ]
  },
  {
   "cell_type": "code",
<<<<<<< HEAD
   "execution_count": 642,
   "id": "17875ab2",
   "metadata": {},
   "outputs": [
    {
     "data": {
      "text/plain": [
       "array([3.43223327, 3.87258543, 3.69176398, ..., 3.26802417, 3.26802417,\n",
       "       2.4217038 ])"
      ]
     },
     "execution_count": 642,
     "metadata": {},
     "output_type": "execute_result"
    }
   ],
=======
   "execution_count": null,
   "id": "17875ab2",
   "metadata": {},
   "outputs": [],
>>>>>>> sigmod-experiments
   "source": [
    "np.dot(user_i, movie_matrix.T)"
   ]
  },
  {
   "cell_type": "code",
<<<<<<< HEAD
   "execution_count": 643,
   "id": "89f9135b",
   "metadata": {},
   "outputs": [
    {
     "data": {
      "text/plain": [
       "array([0., 5., 5., ..., 0., 0., 0.])"
      ]
     },
     "execution_count": 643,
     "metadata": {},
     "output_type": "execute_result"
    }
   ],
=======
   "execution_count": null,
   "id": "89f9135b",
   "metadata": {},
   "outputs": [],
>>>>>>> sigmod-experiments
   "source": [
    "A[i]"
   ]
  },
  {
   "cell_type": "code",
<<<<<<< HEAD
   "execution_count": 644,
   "id": "97af1aaa",
   "metadata": {},
   "outputs": [
    {
     "data": {
      "text/plain": [
       "array([3.80353686, 3.30881405, 3.49977696, ..., 3.40841961, 3.40841961,\n",
       "       2.61236709])"
      ]
     },
     "execution_count": 644,
     "metadata": {},
     "output_type": "execute_result"
    }
   ],
=======
   "execution_count": null,
   "id": "97af1aaa",
   "metadata": {},
   "outputs": [],
>>>>>>> sigmod-experiments
   "source": [
    "np.dot(user_features, movie_matrix.T)"
   ]
  },
  {
   "cell_type": "code",
<<<<<<< HEAD
   "execution_count": 107,
   "id": "fc1c3122",
   "metadata": {},
   "outputs": [
    {
     "data": {
      "text/plain": [
       "array([3.58017118, 3.22859376, 3.46855566, ..., 2.75121633, 2.75121633,\n",
       "       2.61935194])"
      ]
     },
     "execution_count": 107,
     "metadata": {},
     "output_type": "execute_result"
    }
   ],
=======
   "execution_count": null,
   "id": "fc1c3122",
   "metadata": {},
   "outputs": [],
>>>>>>> sigmod-experiments
   "source": [
    "np.dot(user_matrix[i], movie_matrix.T)"
   ]
  },
  {
   "cell_type": "code",
<<<<<<< HEAD
   "execution_count": 108,
   "id": "2a3756cf",
   "metadata": {},
   "outputs": [
    {
     "data": {
      "text/plain": [
       "array([3.58017118, 3.22859376, 3.46855566, ..., 2.75121633, 2.75121633,\n",
       "       2.61935194])"
      ]
     },
     "execution_count": 108,
     "metadata": {},
     "output_type": "execute_result"
    }
   ],
=======
   "execution_count": null,
   "id": "2a3756cf",
   "metadata": {},
   "outputs": [],
>>>>>>> sigmod-experiments
   "source": [
    "np.dot(user_matrix, movie_matrix.T)[i]"
   ]
  },
  {
   "cell_type": "code",
<<<<<<< HEAD
   "execution_count": 70,
   "id": "159a96ea",
   "metadata": {},
   "outputs": [
    {
     "data": {
      "text/plain": [
       "216"
      ]
     },
     "execution_count": 70,
     "metadata": {},
     "output_type": "execute_result"
    }
   ],
=======
   "execution_count": null,
   "id": "159a96ea",
   "metadata": {},
   "outputs": [],
>>>>>>> sigmod-experiments
   "source": [
    "user_to_index[217]"
   ]
  },
  {
   "cell_type": "code",
<<<<<<< HEAD
   "execution_count": 298,
   "id": "c707f301",
   "metadata": {},
   "outputs": [
    {
     "data": {
      "text/plain": [
       "29.0"
      ]
     },
     "execution_count": 298,
     "metadata": {},
     "output_type": "execute_result"
    }
   ],
=======
   "execution_count": null,
   "id": "c707f301",
   "metadata": {},
   "outputs": [],
>>>>>>> sigmod-experiments
   "source": [
    "R_matrix[268].sum()"
   ]
  },
  {
   "cell_type": "code",
<<<<<<< HEAD
   "execution_count": 308,
   "id": "b360bf26",
   "metadata": {},
   "outputs": [
    {
     "data": {
      "text/plain": [
       "{1: 0,\n",
       " 2: 1,\n",
       " 3: 2,\n",
       " 4: 3,\n",
       " 5: 4,\n",
       " 6: 5,\n",
       " 7: 6,\n",
       " 8: 7,\n",
       " 9: 8,\n",
       " 10: 9,\n",
       " 11: 10,\n",
       " 12: 11,\n",
       " 13: 12,\n",
       " 14: 13,\n",
       " 15: 14,\n",
       " 16: 15,\n",
       " 17: 16,\n",
       " 18: 17,\n",
       " 19: 18,\n",
       " 20: 19,\n",
       " 21: 20,\n",
       " 22: 21,\n",
       " 23: 22,\n",
       " 24: 23,\n",
       " 25: 24,\n",
       " 26: 25,\n",
       " 27: 26,\n",
       " 28: 27,\n",
       " 29: 28,\n",
       " 30: 29,\n",
       " 31: 30,\n",
       " 32: 31,\n",
       " 34: 32,\n",
       " 36: 33,\n",
       " 39: 34,\n",
       " 40: 35,\n",
       " 41: 36,\n",
       " 42: 37,\n",
       " 43: 38,\n",
       " 44: 39,\n",
       " 45: 40,\n",
       " 46: 41,\n",
       " 47: 42,\n",
       " 48: 43,\n",
       " 50: 44,\n",
       " 52: 45,\n",
       " 53: 46,\n",
       " 54: 47,\n",
       " 57: 48,\n",
       " 58: 49,\n",
       " 60: 50,\n",
       " 61: 51,\n",
       " 62: 52,\n",
       " 63: 53,\n",
       " 64: 54,\n",
       " 65: 55,\n",
       " 66: 56,\n",
       " 68: 57,\n",
       " 69: 58,\n",
       " 70: 59,\n",
       " 71: 60,\n",
       " 72: 61,\n",
       " 73: 62,\n",
       " 74: 63,\n",
       " 75: 64,\n",
       " 76: 65,\n",
       " 78: 66,\n",
       " 79: 67,\n",
       " 80: 68,\n",
       " 81: 69,\n",
       " 82: 70,\n",
       " 83: 71,\n",
       " 85: 72,\n",
       " 86: 73,\n",
       " 87: 74,\n",
       " 88: 75,\n",
       " 89: 76,\n",
       " 92: 77,\n",
       " 93: 78,\n",
       " 94: 79,\n",
       " 95: 80,\n",
       " 97: 81,\n",
       " 99: 82,\n",
       " 100: 83,\n",
       " 101: 84,\n",
       " 102: 85,\n",
       " 103: 86,\n",
       " 104: 87,\n",
       " 105: 88,\n",
       " 107: 89,\n",
       " 110: 90,\n",
       " 111: 91,\n",
       " 112: 92,\n",
       " 113: 93,\n",
       " 116: 94,\n",
       " 117: 95,\n",
       " 118: 96,\n",
       " 119: 97,\n",
       " 121: 98,\n",
       " 122: 99,\n",
       " 123: 100,\n",
       " 125: 101,\n",
       " 126: 102,\n",
       " 128: 103,\n",
       " 129: 104,\n",
       " 132: 105,\n",
       " 135: 106,\n",
       " 137: 107,\n",
       " 140: 108,\n",
       " 141: 109,\n",
       " 144: 110,\n",
       " 145: 111,\n",
       " 146: 112,\n",
       " 147: 113,\n",
       " 148: 114,\n",
       " 150: 115,\n",
       " 151: 116,\n",
       " 152: 117,\n",
       " 153: 118,\n",
       " 154: 119,\n",
       " 155: 120,\n",
       " 156: 121,\n",
       " 157: 122,\n",
       " 158: 123,\n",
       " 159: 124,\n",
       " 160: 125,\n",
       " 161: 126,\n",
       " 162: 127,\n",
       " 163: 128,\n",
       " 164: 129,\n",
       " 165: 130,\n",
       " 166: 131,\n",
       " 168: 132,\n",
       " 169: 133,\n",
       " 170: 134,\n",
       " 171: 135,\n",
       " 172: 136,\n",
       " 173: 137,\n",
       " 174: 138,\n",
       " 175: 139,\n",
       " 176: 140,\n",
       " 177: 141,\n",
       " 178: 142,\n",
       " 179: 143,\n",
       " 180: 144,\n",
       " 181: 145,\n",
       " 183: 146,\n",
       " 184: 147,\n",
       " 185: 148,\n",
       " 186: 149,\n",
       " 187: 150,\n",
       " 188: 151,\n",
       " 189: 152,\n",
       " 190: 153,\n",
       " 191: 154,\n",
       " 193: 155,\n",
       " 194: 156,\n",
       " 195: 157,\n",
       " 196: 158,\n",
       " 198: 159,\n",
       " 199: 160,\n",
       " 201: 161,\n",
       " 203: 162,\n",
       " 204: 163,\n",
       " 205: 164,\n",
       " 207: 165,\n",
       " 208: 166,\n",
       " 209: 167,\n",
       " 210: 168,\n",
       " 211: 169,\n",
       " 212: 170,\n",
       " 213: 171,\n",
       " 215: 172,\n",
       " 216: 173,\n",
       " 217: 174,\n",
       " 218: 175,\n",
       " 219: 176,\n",
       " 220: 177,\n",
       " 222: 178,\n",
       " 223: 179,\n",
       " 224: 180,\n",
       " 225: 181,\n",
       " 227: 182,\n",
       " 228: 183,\n",
       " 229: 184,\n",
       " 230: 185,\n",
       " 231: 186,\n",
       " 232: 187,\n",
       " 233: 188,\n",
       " 234: 189,\n",
       " 235: 190,\n",
       " 236: 191,\n",
       " 237: 192,\n",
       " 238: 193,\n",
       " 239: 194,\n",
       " 240: 195,\n",
       " 242: 196,\n",
       " 243: 197,\n",
       " 246: 198,\n",
       " 247: 199,\n",
       " 248: 200,\n",
       " 249: 201,\n",
       " 250: 202,\n",
       " 251: 203,\n",
       " 252: 204,\n",
       " 253: 205,\n",
       " 254: 206,\n",
       " 255: 207,\n",
       " 256: 208,\n",
       " 257: 209,\n",
       " 258: 210,\n",
       " 259: 211,\n",
       " 260: 212,\n",
       " 261: 213,\n",
       " 262: 214,\n",
       " 265: 215,\n",
       " 266: 216,\n",
       " 267: 217,\n",
       " 269: 218,\n",
       " 270: 219,\n",
       " 271: 220,\n",
       " 272: 221,\n",
       " 273: 222,\n",
       " 274: 223,\n",
       " 275: 224,\n",
       " 276: 225,\n",
       " 277: 226,\n",
       " 278: 227,\n",
       " 279: 228,\n",
       " 280: 229,\n",
       " 281: 230,\n",
       " 282: 231,\n",
       " 283: 232,\n",
       " 285: 233,\n",
       " 288: 234,\n",
       " 289: 235,\n",
       " 290: 236,\n",
       " 291: 237,\n",
       " 292: 238,\n",
       " 293: 239,\n",
       " 294: 240,\n",
       " 295: 241,\n",
       " 296: 242,\n",
       " 298: 243,\n",
       " 299: 244,\n",
       " 300: 245,\n",
       " 302: 246,\n",
       " 303: 247,\n",
       " 304: 248,\n",
       " 305: 249,\n",
       " 306: 250,\n",
       " 307: 251,\n",
       " 308: 252,\n",
       " 310: 253,\n",
       " 311: 254,\n",
       " 312: 255,\n",
       " 313: 256,\n",
       " 314: 257,\n",
       " 315: 258,\n",
       " 316: 259,\n",
       " 317: 260,\n",
       " 318: 261,\n",
       " 319: 262,\n",
       " 320: 263,\n",
       " 322: 264,\n",
       " 325: 265,\n",
       " 326: 266,\n",
       " 327: 267,\n",
       " 328: 268,\n",
       " 329: 269,\n",
       " 330: 270,\n",
       " 332: 271,\n",
       " 333: 272,\n",
       " 334: 273,\n",
       " 335: 274,\n",
       " 336: 275,\n",
       " 337: 276,\n",
       " 338: 277,\n",
       " 339: 278,\n",
       " 340: 279,\n",
       " 341: 280,\n",
       " 342: 281,\n",
       " 343: 282,\n",
       " 344: 283,\n",
       " 345: 284,\n",
       " 346: 285,\n",
       " 347: 286,\n",
       " 348: 287,\n",
       " 349: 288,\n",
       " 350: 289,\n",
       " 351: 290,\n",
       " 352: 291,\n",
       " 353: 292,\n",
       " 354: 293,\n",
       " 355: 294,\n",
       " 356: 295,\n",
       " 357: 296,\n",
       " 358: 297,\n",
       " 359: 298,\n",
       " 360: 299,\n",
       " 361: 300,\n",
       " 362: 301,\n",
       " 364: 302,\n",
       " 365: 303,\n",
       " 366: 304,\n",
       " 367: 305,\n",
       " 368: 306,\n",
       " 370: 307,\n",
       " 371: 308,\n",
       " 372: 309,\n",
       " 373: 310,\n",
       " 374: 311,\n",
       " 376: 312,\n",
       " 377: 313,\n",
       " 378: 314,\n",
       " 379: 315,\n",
       " 380: 316,\n",
       " 381: 317,\n",
       " 382: 318,\n",
       " 383: 319,\n",
       " 384: 320,\n",
       " 387: 321,\n",
       " 388: 322,\n",
       " 389: 323,\n",
       " 391: 324,\n",
       " 393: 325,\n",
       " 405: 326,\n",
       " 407: 327,\n",
       " 409: 328,\n",
       " 410: 329,\n",
       " 412: 330,\n",
       " 413: 331,\n",
       " 414: 332,\n",
       " 415: 333,\n",
       " 416: 334,\n",
       " 417: 335,\n",
       " 418: 336,\n",
       " 419: 337,\n",
       " 420: 338,\n",
       " 421: 339,\n",
       " 422: 340,\n",
       " 423: 341,\n",
       " 424: 342,\n",
       " 426: 343,\n",
       " 427: 344,\n",
       " 428: 345,\n",
       " 429: 346,\n",
       " 430: 347,\n",
       " 431: 348,\n",
       " 432: 349,\n",
       " 433: 350,\n",
       " 434: 351,\n",
       " 435: 352,\n",
       " 436: 353,\n",
       " 437: 354,\n",
       " 438: 355,\n",
       " 440: 356,\n",
       " 441: 357,\n",
       " 442: 358,\n",
       " 444: 359,\n",
       " 445: 360,\n",
       " 446: 361,\n",
       " 448: 362,\n",
       " 449: 363,\n",
       " 450: 364,\n",
       " 451: 365,\n",
       " 452: 366,\n",
       " 453: 367,\n",
       " 454: 368,\n",
       " 455: 369,\n",
       " 456: 370,\n",
       " 457: 371,\n",
       " 458: 372,\n",
       " 459: 373,\n",
       " 460: 374,\n",
       " 461: 375,\n",
       " 464: 376,\n",
       " 466: 377,\n",
       " 467: 378,\n",
       " 468: 379,\n",
       " 469: 380,\n",
       " 470: 381,\n",
       " 471: 382,\n",
       " 472: 383,\n",
       " 473: 384,\n",
       " 474: 385,\n",
       " 475: 386,\n",
       " 477: 387,\n",
       " 479: 388,\n",
       " 480: 389,\n",
       " 481: 390,\n",
       " 482: 391,\n",
       " 484: 392,\n",
       " 485: 393,\n",
       " 486: 394,\n",
       " 487: 395,\n",
       " 489: 396,\n",
       " 490: 397,\n",
       " 491: 398,\n",
       " 492: 399,\n",
       " 493: 400,\n",
       " 494: 401,\n",
       " 495: 402,\n",
       " 496: 403,\n",
       " 497: 404,\n",
       " 499: 405,\n",
       " 500: 406,\n",
       " 501: 407,\n",
       " 502: 408,\n",
       " 504: 409,\n",
       " 505: 410,\n",
       " 507: 411,\n",
       " 508: 412,\n",
       " 509: 413,\n",
       " 510: 414,\n",
       " 512: 415,\n",
       " 513: 416,\n",
       " 514: 417,\n",
       " 515: 418,\n",
       " 516: 419,\n",
       " 517: 420,\n",
       " 518: 421,\n",
       " 519: 422,\n",
       " 520: 423,\n",
       " 521: 424,\n",
       " 522: 425,\n",
       " 523: 426,\n",
       " 524: 427,\n",
       " 527: 428,\n",
       " 529: 429,\n",
       " 531: 430,\n",
       " 532: 431,\n",
       " 533: 432,\n",
       " 534: 433,\n",
       " 535: 434,\n",
       " 536: 435,\n",
       " 537: 436,\n",
       " 538: 437,\n",
       " 539: 438,\n",
       " 540: 439,\n",
       " 541: 440,\n",
       " 542: 441,\n",
       " 543: 442,\n",
       " 544: 443,\n",
       " 546: 444,\n",
       " 548: 445,\n",
       " 549: 446,\n",
       " 550: 447,\n",
       " 551: 448,\n",
       " 552: 449,\n",
       " 553: 450,\n",
       " 555: 451,\n",
       " 556: 452,\n",
       " 558: 453,\n",
       " 562: 454,\n",
       " 564: 455,\n",
       " 567: 456,\n",
       " 568: 457,\n",
       " 569: 458,\n",
       " 574: 459,\n",
       " 575: 460,\n",
       " 581: 461,\n",
       " 585: 462,\n",
       " 586: 463,\n",
       " 587: 464,\n",
       " 588: 465,\n",
       " 589: 466,\n",
       " 590: 467,\n",
       " 592: 468,\n",
       " 593: 469,\n",
       " 594: 470,\n",
       " 595: 471,\n",
       " 596: 472,\n",
       " 597: 473,\n",
       " 599: 474,\n",
       " 605: 475,\n",
       " 606: 476,\n",
       " 608: 477,\n",
       " 609: 478,\n",
       " 610: 479,\n",
       " 611: 480,\n",
       " 612: 481,\n",
       " 613: 482,\n",
       " 616: 483,\n",
       " 617: 484,\n",
       " 619: 485,\n",
       " 626: 486,\n",
       " 627: 487,\n",
       " 628: 488,\n",
       " 631: 489,\n",
       " 633: 490,\n",
       " 634: 491,\n",
       " 636: 492,\n",
       " 637: 493,\n",
       " 640: 494,\n",
       " 645: 495,\n",
       " 647: 496,\n",
       " 648: 497,\n",
       " 650: 498,\n",
       " 653: 499,\n",
       " 656: 500,\n",
       " 661: 501,\n",
       " 662: 502,\n",
       " 663: 503,\n",
       " 667: 504,\n",
       " 668: 505,\n",
       " 671: 506,\n",
       " 673: 507,\n",
       " 674: 508,\n",
       " 678: 509,\n",
       " 680: 510,\n",
       " 685: 511,\n",
       " 688: 512,\n",
       " 691: 513,\n",
       " 692: 514,\n",
       " 694: 515,\n",
       " 695: 516,\n",
       " 697: 517,\n",
       " 700: 518,\n",
       " 704: 519,\n",
       " 706: 520,\n",
       " 707: 521,\n",
       " 708: 522,\n",
       " 709: 523,\n",
       " 710: 524,\n",
       " 711: 525,\n",
       " 714: 526,\n",
       " 715: 527,\n",
       " 718: 528,\n",
       " 719: 529,\n",
       " 720: 530,\n",
       " 724: 531,\n",
       " 725: 532,\n",
       " 728: 533,\n",
       " 731: 534,\n",
       " 733: 535,\n",
       " 735: 536,\n",
       " 736: 537,\n",
       " 737: 538,\n",
       " 741: 539,\n",
       " 742: 540,\n",
       " 743: 541,\n",
       " 745: 542,\n",
       " 747: 543,\n",
       " 748: 544,\n",
       " 750: 545,\n",
       " 759: 546,\n",
       " 760: 547,\n",
       " 761: 548,\n",
       " 762: 549,\n",
       " 765: 550,\n",
       " 766: 551,\n",
       " 775: 552,\n",
       " 778: 553,\n",
       " 779: 554,\n",
       " 780: 555,\n",
       " 781: 556,\n",
       " 782: 557,\n",
       " 783: 558,\n",
       " 784: 559,\n",
       " 785: 560,\n",
       " 786: 561,\n",
       " 788: 562,\n",
       " 790: 563,\n",
       " 791: 564,\n",
       " 795: 565,\n",
       " 798: 566,\n",
       " 799: 567,\n",
       " 800: 568,\n",
       " 801: 569,\n",
       " 802: 570,\n",
       " 803: 571,\n",
       " 804: 572,\n",
       " 805: 573,\n",
       " 808: 574,\n",
       " 809: 575,\n",
       " 810: 576,\n",
       " 813: 577,\n",
       " 818: 578,\n",
       " 828: 579,\n",
       " 829: 580,\n",
       " 830: 581,\n",
       " 832: 582,\n",
       " 833: 583,\n",
       " 835: 584,\n",
       " 836: 585,\n",
       " 837: 586,\n",
       " 838: 587,\n",
       " 839: 588,\n",
       " 840: 589,\n",
       " 842: 590,\n",
       " 848: 591,\n",
       " 849: 592,\n",
       " 851: 593,\n",
       " 852: 594,\n",
       " 858: 595,\n",
       " 861: 596,\n",
       " 866: 597,\n",
       " 867: 598,\n",
       " 869: 599,\n",
       " 876: 600,\n",
       " 879: 601,\n",
       " 880: 602,\n",
       " 881: 603,\n",
       " 882: 604,\n",
       " 885: 605,\n",
       " 886: 606,\n",
       " 888: 607,\n",
       " 889: 608,\n",
       " 891: 609,\n",
       " 892: 610,\n",
       " 893: 611,\n",
       " 896: 612,\n",
       " 897: 613,\n",
       " 898: 614,\n",
       " 899: 615,\n",
       " 900: 616,\n",
       " 901: 617,\n",
       " 902: 618,\n",
       " 903: 619,\n",
       " 904: 620,\n",
       " 905: 621,\n",
       " 906: 622,\n",
       " 907: 623,\n",
       " 908: 624,\n",
       " 909: 625,\n",
       " 910: 626,\n",
       " 911: 627,\n",
       " 912: 628,\n",
       " 913: 629,\n",
       " 914: 630,\n",
       " 915: 631,\n",
       " 916: 632,\n",
       " 918: 633,\n",
       " 919: 634,\n",
       " 920: 635,\n",
       " 921: 636,\n",
       " 922: 637,\n",
       " 923: 638,\n",
       " 924: 639,\n",
       " 926: 640,\n",
       " 928: 641,\n",
       " 930: 642,\n",
       " 931: 643,\n",
       " 932: 644,\n",
       " 933: 645,\n",
       " 934: 646,\n",
       " 935: 647,\n",
       " 936: 648,\n",
       " 938: 649,\n",
       " 940: 650,\n",
       " 942: 651,\n",
       " 943: 652,\n",
       " 945: 653,\n",
       " 946: 654,\n",
       " 947: 655,\n",
       " 948: 656,\n",
       " 949: 657,\n",
       " 950: 658,\n",
       " 951: 659,\n",
       " 952: 660,\n",
       " 953: 661,\n",
       " 954: 662,\n",
       " 955: 663,\n",
       " 965: 664,\n",
       " 968: 665,\n",
       " 969: 666,\n",
       " 971: 667,\n",
       " 973: 668,\n",
       " 979: 669,\n",
       " 981: 670,\n",
       " 984: 671,\n",
       " 986: 672,\n",
       " 990: 673,\n",
       " 991: 674,\n",
       " 994: 675,\n",
       " 996: 676,\n",
       " 998: 677,\n",
       " 999: 678,\n",
       " 1004: 679,\n",
       " 1005: 680,\n",
       " 1006: 681,\n",
       " 1007: 682,\n",
       " 1009: 683,\n",
       " 1010: 684,\n",
       " 1011: 685,\n",
       " 1012: 686,\n",
       " 1013: 687,\n",
       " 1014: 688,\n",
       " 1015: 689,\n",
       " 1016: 690,\n",
       " 1017: 691,\n",
       " 1018: 692,\n",
       " 1019: 693,\n",
       " 1020: 694,\n",
       " 1021: 695,\n",
       " 1022: 696,\n",
       " 1023: 697,\n",
       " 1024: 698,\n",
       " 1025: 699,\n",
       " 1027: 700,\n",
       " 1028: 701,\n",
       " 1029: 702,\n",
       " 1030: 703,\n",
       " 1031: 704,\n",
       " 1032: 705,\n",
       " 1033: 706,\n",
       " 1034: 707,\n",
       " 1035: 708,\n",
       " 1036: 709,\n",
       " 1037: 710,\n",
       " 1041: 711,\n",
       " 1042: 712,\n",
       " 1043: 713,\n",
       " 1046: 714,\n",
       " 1047: 715,\n",
       " 1049: 716,\n",
       " 1050: 717,\n",
       " 1051: 718,\n",
       " 1053: 719,\n",
       " 1055: 720,\n",
       " 1056: 721,\n",
       " 1057: 722,\n",
       " 1059: 723,\n",
       " 1060: 724,\n",
       " 1061: 725,\n",
       " 1064: 726,\n",
       " 1066: 727,\n",
       " 1073: 728,\n",
       " 1077: 729,\n",
       " 1078: 730,\n",
       " 1079: 731,\n",
       " 1080: 732,\n",
       " 1081: 733,\n",
       " 1082: 734,\n",
       " 1083: 735,\n",
       " 1084: 736,\n",
       " 1085: 737,\n",
       " 1086: 738,\n",
       " 1088: 739,\n",
       " 1089: 740,\n",
       " 1090: 741,\n",
       " 1091: 742,\n",
       " 1092: 743,\n",
       " 1093: 744,\n",
       " 1094: 745,\n",
       " 1095: 746,\n",
       " 1096: 747,\n",
       " 1097: 748,\n",
       " 1099: 749,\n",
       " 1100: 750,\n",
       " 1101: 751,\n",
       " 1103: 752,\n",
       " 1104: 753,\n",
       " 1105: 754,\n",
       " 1111: 755,\n",
       " 1116: 756,\n",
       " 1120: 757,\n",
       " 1123: 758,\n",
       " 1124: 759,\n",
       " 1125: 760,\n",
       " 1126: 761,\n",
       " 1127: 762,\n",
       " 1128: 763,\n",
       " 1129: 764,\n",
       " 1130: 765,\n",
       " 1131: 766,\n",
       " 1132: 767,\n",
       " 1135: 768,\n",
       " 1136: 769,\n",
       " 1137: 770,\n",
       " 1140: 771,\n",
       " 1144: 772,\n",
       " 1147: 773,\n",
       " 1148: 774,\n",
       " 1150: 775,\n",
       " 1151: 776,\n",
       " 1161: 777,\n",
       " 1163: 778,\n",
       " 1167: 779,\n",
       " 1170: 780,\n",
       " 1171: 781,\n",
       " 1172: 782,\n",
       " 1173: 783,\n",
       " 1175: 784,\n",
       " 1176: 785,\n",
       " 1177: 786,\n",
       " 1178: 787,\n",
       " 1179: 788,\n",
       " 1180: 789,\n",
       " 1183: 790,\n",
       " 1184: 791,\n",
       " 1185: 792,\n",
       " 1186: 793,\n",
       " 1187: 794,\n",
       " 1188: 795,\n",
       " 1189: 796,\n",
       " 1190: 797,\n",
       " 1191: 798,\n",
       " 1192: 799,\n",
       " 1193: 800,\n",
       " 1194: 801,\n",
       " 1196: 802,\n",
       " 1197: 803,\n",
       " 1198: 804,\n",
       " 1199: 805,\n",
       " 1200: 806,\n",
       " 1201: 807,\n",
       " 1202: 808,\n",
       " 1203: 809,\n",
       " 1204: 810,\n",
       " 1206: 811,\n",
       " 1207: 812,\n",
       " 1208: 813,\n",
       " 1209: 814,\n",
       " 1210: 815,\n",
       " 1211: 816,\n",
       " 1212: 817,\n",
       " 1213: 818,\n",
       " 1214: 819,\n",
       " 1215: 820,\n",
       " 1216: 821,\n",
       " 1217: 822,\n",
       " 1218: 823,\n",
       " 1219: 824,\n",
       " 1220: 825,\n",
       " 1221: 826,\n",
       " 1222: 827,\n",
       " 1223: 828,\n",
       " 1224: 829,\n",
       " 1225: 830,\n",
       " 1226: 831,\n",
       " 1227: 832,\n",
       " 1228: 833,\n",
       " 1230: 834,\n",
       " 1231: 835,\n",
       " 1232: 836,\n",
       " 1233: 837,\n",
       " 1234: 838,\n",
       " 1235: 839,\n",
       " 1236: 840,\n",
       " 1237: 841,\n",
       " 1238: 842,\n",
       " 1240: 843,\n",
       " 1241: 844,\n",
       " 1242: 845,\n",
       " 1243: 846,\n",
       " 1244: 847,\n",
       " 1245: 848,\n",
       " 1246: 849,\n",
       " 1247: 850,\n",
       " 1248: 851,\n",
       " 1249: 852,\n",
       " 1250: 853,\n",
       " 1251: 854,\n",
       " 1252: 855,\n",
       " 1253: 856,\n",
       " 1254: 857,\n",
       " 1255: 858,\n",
       " 1256: 859,\n",
       " 1257: 860,\n",
       " 1258: 861,\n",
       " 1259: 862,\n",
       " 1260: 863,\n",
       " 1261: 864,\n",
       " 1262: 865,\n",
       " 1263: 866,\n",
       " 1264: 867,\n",
       " 1265: 868,\n",
       " 1266: 869,\n",
       " 1267: 870,\n",
       " 1268: 871,\n",
       " 1269: 872,\n",
       " 1270: 873,\n",
       " 1271: 874,\n",
       " 1272: 875,\n",
       " 1273: 876,\n",
       " 1274: 877,\n",
       " 1275: 878,\n",
       " 1276: 879,\n",
       " 1277: 880,\n",
       " 1278: 881,\n",
       " 1279: 882,\n",
       " 1280: 883,\n",
       " 1281: 884,\n",
       " 1282: 885,\n",
       " 1283: 886,\n",
       " 1284: 887,\n",
       " 1285: 888,\n",
       " 1286: 889,\n",
       " 1287: 890,\n",
       " 1288: 891,\n",
       " 1289: 892,\n",
       " 1290: 893,\n",
       " 1291: 894,\n",
       " 1292: 895,\n",
       " 1293: 896,\n",
       " 1295: 897,\n",
       " 1296: 898,\n",
       " 1297: 899,\n",
       " 1298: 900,\n",
       " 1299: 901,\n",
       " 1300: 902,\n",
       " 1301: 903,\n",
       " 1302: 904,\n",
       " 1303: 905,\n",
       " 1304: 906,\n",
       " 1306: 907,\n",
       " 1307: 908,\n",
       " 1312: 909,\n",
       " 1320: 910,\n",
       " 1321: 911,\n",
       " 1322: 912,\n",
       " 1323: 913,\n",
       " 1324: 914,\n",
       " 1325: 915,\n",
       " 1326: 916,\n",
       " 1327: 917,\n",
       " 1328: 918,\n",
       " 1329: 919,\n",
       " 1330: 920,\n",
       " 1331: 921,\n",
       " 1332: 922,\n",
       " 1333: 923,\n",
       " 1334: 924,\n",
       " 1337: 925,\n",
       " 1339: 926,\n",
       " 1340: 927,\n",
       " 1341: 928,\n",
       " 1342: 929,\n",
       " 1343: 930,\n",
       " 1344: 931,\n",
       " 1345: 932,\n",
       " 1346: 933,\n",
       " 1347: 934,\n",
       " 1348: 935,\n",
       " 1349: 936,\n",
       " 1350: 937,\n",
       " 1351: 938,\n",
       " 1352: 939,\n",
       " 1353: 940,\n",
       " 1354: 941,\n",
       " 1355: 942,\n",
       " 1356: 943,\n",
       " 1357: 944,\n",
       " 1358: 945,\n",
       " 1359: 946,\n",
       " 1361: 947,\n",
       " 1363: 948,\n",
       " 1365: 949,\n",
       " 1366: 950,\n",
       " 1367: 951,\n",
       " 1370: 952,\n",
       " 1371: 953,\n",
       " 1372: 954,\n",
       " 1373: 955,\n",
       " 1374: 956,\n",
       " 1375: 957,\n",
       " 1376: 958,\n",
       " 1377: 959,\n",
       " 1378: 960,\n",
       " 1379: 961,\n",
       " 1380: 962,\n",
       " 1381: 963,\n",
       " 1382: 964,\n",
       " 1385: 965,\n",
       " 1387: 966,\n",
       " 1388: 967,\n",
       " 1389: 968,\n",
       " 1390: 969,\n",
       " 1391: 970,\n",
       " 1392: 971,\n",
       " 1393: 972,\n",
       " 1394: 973,\n",
       " 1395: 974,\n",
       " 1396: 975,\n",
       " 1397: 976,\n",
       " 1401: 977,\n",
       " 1405: 978,\n",
       " 1406: 979,\n",
       " 1407: 980,\n",
       " 1408: 981,\n",
       " 1409: 982,\n",
       " 1411: 983,\n",
       " 1414: 984,\n",
       " 1416: 985,\n",
       " 1417: 986,\n",
       " 1419: 987,\n",
       " 1422: 988,\n",
       " 1425: 989,\n",
       " 1428: 990,\n",
       " 1429: 991,\n",
       " 1431: 992,\n",
       " 1432: 993,\n",
       " 1437: 994,\n",
       " 1438: 995,\n",
       " 1439: 996,\n",
       " 1440: 997,\n",
       " 1441: 998,\n",
       " 1442: 999,\n",
       " ...}"
      ]
     },
     "execution_count": 308,
     "metadata": {},
     "output_type": "execute_result"
    }
   ],
=======
   "execution_count": null,
   "id": "b360bf26",
   "metadata": {},
   "outputs": [],
>>>>>>> sigmod-experiments
   "source": [
    "movie_to_index"
   ]
  },
  {
   "cell_type": "code",
<<<<<<< HEAD
   "execution_count": 327,
=======
   "execution_count": null,
>>>>>>> sigmod-experiments
   "id": "9d8a86b1",
   "metadata": {},
   "outputs": [],
   "source": [
    "u = 509"
   ]
  },
  {
   "cell_type": "code",
<<<<<<< HEAD
   "execution_count": 328,
   "id": "a2281e7f",
   "metadata": {},
   "outputs": [
    {
     "data": {
      "text/plain": [
       "array([1., 0., 0., ..., 0., 0., 0.])"
      ]
     },
     "execution_count": 328,
     "metadata": {},
     "output_type": "execute_result"
    }
   ],
=======
   "execution_count": null,
   "id": "a2281e7f",
   "metadata": {},
   "outputs": [],
>>>>>>> sigmod-experiments
   "source": [
    "R[u-1]"
   ]
  },
  {
   "cell_type": "code",
<<<<<<< HEAD
   "execution_count": 335,
   "id": "a1f26c74",
   "metadata": {},
   "outputs": [
    {
     "data": {
      "text/plain": [
       "11.0"
      ]
     },
     "execution_count": 335,
     "metadata": {},
     "output_type": "execute_result"
    }
   ],
=======
   "execution_count": null,
   "id": "a1f26c74",
   "metadata": {},
   "outputs": [],
>>>>>>> sigmod-experiments
   "source": [
    "(R_matrix[u-1] - R[u-1]).sum()"
   ]
  },
  {
   "cell_type": "code",
<<<<<<< HEAD
   "execution_count": 340,
=======
   "execution_count": null,
>>>>>>> sigmod-experiments
   "id": "70983c4a",
   "metadata": {},
   "outputs": [],
   "source": [
    "df = test_df.iloc[limit:]"
   ]
  },
  {
   "cell_type": "code",
<<<<<<< HEAD
   "execution_count": 341,
   "id": "d3a616a2",
   "metadata": {},
   "outputs": [
    {
     "data": {
      "text/plain": [
       "0.657047342358235"
      ]
     },
     "execution_count": 341,
     "metadata": {},
     "output_type": "execute_result"
    }
   ],
=======
   "execution_count": null,
   "id": "d3a616a2",
   "metadata": {},
   "outputs": [],
>>>>>>> sigmod-experiments
   "source": [
    "evaluate(df[df[\"user_id\"] == u], streaming_user_matrix)"
   ]
  },
  {
   "cell_type": "code",
<<<<<<< HEAD
   "execution_count": 342,
   "id": "b2890a2b",
   "metadata": {},
   "outputs": [
    {
     "data": {
      "text/plain": [
       "0.5968001739089254"
      ]
     },
     "execution_count": 342,
     "metadata": {},
     "output_type": "execute_result"
    }
   ],
=======
   "execution_count": null,
   "id": "b2890a2b",
   "metadata": {},
   "outputs": [],
>>>>>>> sigmod-experiments
   "source": [
    "evaluate(df[df[\"user_id\"] == u], user_matrix)"
   ]
  },
  {
   "cell_type": "code",
<<<<<<< HEAD
   "execution_count": 343,
   "id": "2884e31a",
   "metadata": {},
   "outputs": [
    {
     "data": {
      "text/plain": [
       "0.5968001739089254"
      ]
     },
     "execution_count": 343,
     "metadata": {},
     "output_type": "execute_result"
    }
   ],
=======
   "execution_count": null,
   "id": "2884e31a",
   "metadata": {},
   "outputs": [],
>>>>>>> sigmod-experiments
   "source": [
    "evaluate(df[df[\"user_id\"] == u], streaming_sgd_user_matrix)"
   ]
  },
  {
   "cell_type": "code",
<<<<<<< HEAD
   "execution_count": 344,
   "id": "cfb26601",
   "metadata": {},
   "outputs": [
    {
     "data": {
      "text/html": [
       "<div>\n",
       "<style scoped>\n",
       "    .dataframe tbody tr th:only-of-type {\n",
       "        vertical-align: middle;\n",
       "    }\n",
       "\n",
       "    .dataframe tbody tr th {\n",
       "        vertical-align: top;\n",
       "    }\n",
       "\n",
       "    .dataframe thead th {\n",
       "        text-align: right;\n",
       "    }\n",
       "</style>\n",
       "<table border=\"1\" class=\"dataframe\">\n",
       "  <thead>\n",
       "    <tr style=\"text-align: right;\">\n",
       "      <th></th>\n",
       "      <th>user_id</th>\n",
       "      <th>movie_id</th>\n",
       "      <th>rating</th>\n",
       "      <th>timestamp</th>\n",
       "    </tr>\n",
       "  </thead>\n",
       "  <tbody>\n",
       "    <tr>\n",
       "      <th>80773</th>\n",
       "      <td>509</td>\n",
       "      <td>92259</td>\n",
       "      <td>3.5</td>\n",
       "      <td>0</td>\n",
       "    </tr>\n",
       "    <tr>\n",
       "      <th>80697</th>\n",
       "      <td>509</td>\n",
       "      <td>63082</td>\n",
       "      <td>4.0</td>\n",
       "      <td>0</td>\n",
       "    </tr>\n",
       "    <tr>\n",
       "      <th>80740</th>\n",
       "      <td>509</td>\n",
       "      <td>78499</td>\n",
       "      <td>4.0</td>\n",
       "      <td>0</td>\n",
       "    </tr>\n",
       "    <tr>\n",
       "      <th>80748</th>\n",
       "      <td>509</td>\n",
       "      <td>81845</td>\n",
       "      <td>3.5</td>\n",
       "      <td>0</td>\n",
       "    </tr>\n",
       "    <tr>\n",
       "      <th>80373</th>\n",
       "      <td>509</td>\n",
       "      <td>1</td>\n",
       "      <td>4.0</td>\n",
       "      <td>0</td>\n",
       "    </tr>\n",
       "    <tr>\n",
       "      <th>...</th>\n",
       "      <td>...</td>\n",
       "      <td>...</td>\n",
       "      <td>...</td>\n",
       "      <td>...</td>\n",
       "    </tr>\n",
       "    <tr>\n",
       "      <th>80469</th>\n",
       "      <td>509</td>\n",
       "      <td>2687</td>\n",
       "      <td>3.0</td>\n",
       "      <td>78</td>\n",
       "    </tr>\n",
       "    <tr>\n",
       "      <th>80520</th>\n",
       "      <td>509</td>\n",
       "      <td>5444</td>\n",
       "      <td>3.5</td>\n",
       "      <td>78</td>\n",
       "    </tr>\n",
       "    <tr>\n",
       "      <th>80627</th>\n",
       "      <td>509</td>\n",
       "      <td>40339</td>\n",
       "      <td>1.5</td>\n",
       "      <td>78</td>\n",
       "    </tr>\n",
       "    <tr>\n",
       "      <th>80597</th>\n",
       "      <td>509</td>\n",
       "      <td>26999</td>\n",
       "      <td>3.0</td>\n",
       "      <td>78</td>\n",
       "    </tr>\n",
       "    <tr>\n",
       "      <th>80453</th>\n",
       "      <td>509</td>\n",
       "      <td>2090</td>\n",
       "      <td>3.0</td>\n",
       "      <td>78</td>\n",
       "    </tr>\n",
       "  </tbody>\n",
       "</table>\n",
       "<p>350 rows × 4 columns</p>\n",
       "</div>"
      ],
      "text/plain": [
       "       user_id  movie_id  rating  timestamp\n",
       "80773      509     92259     3.5          0\n",
       "80697      509     63082     4.0          0\n",
       "80740      509     78499     4.0          0\n",
       "80748      509     81845     3.5          0\n",
       "80373      509         1     4.0          0\n",
       "...        ...       ...     ...        ...\n",
       "80469      509      2687     3.0         78\n",
       "80520      509      5444     3.5         78\n",
       "80627      509     40339     1.5         78\n",
       "80597      509     26999     3.0         78\n",
       "80453      509      2090     3.0         78\n",
       "\n",
       "[350 rows x 4 columns]"
      ]
     },
     "execution_count": 344,
     "metadata": {},
     "output_type": "execute_result"
    }
   ],
=======
   "execution_count": null,
   "id": "cfb26601",
   "metadata": {},
   "outputs": [],
>>>>>>> sigmod-experiments
   "source": [
    "train_df[train_df[\"user_id\"] == u]"
   ]
  },
  {
   "cell_type": "code",
<<<<<<< HEAD
   "execution_count": 345,
   "id": "e7639a39",
   "metadata": {},
   "outputs": [
    {
     "data": {
      "text/plain": [
       "[4700,\n",
       " 2059,\n",
       " 1702,\n",
       " 1588,\n",
       " 1367,\n",
       " 6297,\n",
       " 118997,\n",
       " 53125,\n",
       " 33830,\n",
       " 6958,\n",
       " 2054,\n",
       " 72701,\n",
       " 62644,\n",
       " 2701,\n",
       " 2761,\n",
       " 231,\n",
       " 153,\n",
       " 344,\n",
       " 19,\n",
       " 64969,\n",
       " 106072,\n",
       " 1917,\n",
       " 837,\n",
       " 1073,\n",
       " 2161,\n",
       " 30793,\n",
       " 95858,\n",
       " 4299,\n",
       " 262,\n",
       " 3967,\n",
       " 52245,\n",
       " 74868,\n",
       " 95558,\n",
       " 2683,\n",
       " 51834,\n",
       " 1517,\n",
       " 94503,\n",
       " 4519,\n",
       " 7669,\n",
       " 28,\n",
       " 838,\n",
       " 1127,\n",
       " 32587,\n",
       " 98491,\n",
       " 52694,\n",
       " 1665,\n",
       " 13,\n",
       " 709,\n",
       " 34520,\n",
       " 551,\n",
       " 33004,\n",
       " 3081,\n",
       " 2174,\n",
       " 2291,\n",
       " 1391,\n",
       " 56757,\n",
       " 2502,\n",
       " 98243,\n",
       " 44195,\n",
       " 1079,\n",
       " 1732,\n",
       " 6807,\n",
       " 3481,\n",
       " 52973,\n",
       " 66934,\n",
       " 1080,\n",
       " 1243,\n",
       " 296,\n",
       " 35836,\n",
       " 2700,\n",
       " 6662,\n",
       " 68954,\n",
       " 112852,\n",
       " 2028,\n",
       " 103335,\n",
       " 3307,\n",
       " 101962,\n",
       " 7099,\n",
       " 6942,\n",
       " 3000,\n",
       " 6350,\n",
       " 82169,\n",
       " 59315,\n",
       " 2657,\n",
       " 60069,\n",
       " 54259,\n",
       " 5991,\n",
       " 2124,\n",
       " 26776,\n",
       " 83132,\n",
       " 26903,\n",
       " 1225,\n",
       " 1281,\n",
       " 1148,\n",
       " 80586,\n",
       " 6093,\n",
       " 2248,\n",
       " 64957,\n",
       " 2138,\n",
       " 106696]"
      ]
     },
     "execution_count": 345,
     "metadata": {},
     "output_type": "execute_result"
    }
   ],
=======
   "execution_count": null,
   "id": "e7639a39",
   "metadata": {},
   "outputs": [],
>>>>>>> sigmod-experiments
   "source": [
    "test_df[test_df[\"user_id\"] == u].movie_id.tolist()"
   ]
  },
  {
   "cell_type": "code",
<<<<<<< HEAD
   "execution_count": 339,
   "id": "864b2ef6",
   "metadata": {},
   "outputs": [
    {
     "data": {
      "text/html": [
       "<div>\n",
       "<style scoped>\n",
       "    .dataframe tbody tr th:only-of-type {\n",
       "        vertical-align: middle;\n",
       "    }\n",
       "\n",
       "    .dataframe tbody tr th {\n",
       "        vertical-align: top;\n",
       "    }\n",
       "\n",
       "    .dataframe thead th {\n",
       "        text-align: right;\n",
       "    }\n",
       "</style>\n",
       "<table border=\"1\" class=\"dataframe\">\n",
       "  <thead>\n",
       "    <tr style=\"text-align: right;\">\n",
       "      <th></th>\n",
       "      <th>user_id</th>\n",
       "      <th>movie_id</th>\n",
       "      <th>rating</th>\n",
       "      <th>timestamp</th>\n",
       "    </tr>\n",
       "  </thead>\n",
       "  <tbody>\n",
       "    <tr>\n",
       "      <th>80773</th>\n",
       "      <td>509</td>\n",
       "      <td>92259</td>\n",
       "      <td>3.5</td>\n",
       "      <td>0</td>\n",
       "    </tr>\n",
       "    <tr>\n",
       "      <th>80697</th>\n",
       "      <td>509</td>\n",
       "      <td>63082</td>\n",
       "      <td>4.0</td>\n",
       "      <td>0</td>\n",
       "    </tr>\n",
       "    <tr>\n",
       "      <th>80740</th>\n",
       "      <td>509</td>\n",
       "      <td>78499</td>\n",
       "      <td>4.0</td>\n",
       "      <td>0</td>\n",
       "    </tr>\n",
       "    <tr>\n",
       "      <th>80748</th>\n",
       "      <td>509</td>\n",
       "      <td>81845</td>\n",
       "      <td>3.5</td>\n",
       "      <td>0</td>\n",
       "    </tr>\n",
       "    <tr>\n",
       "      <th>80373</th>\n",
       "      <td>509</td>\n",
       "      <td>1</td>\n",
       "      <td>4.0</td>\n",
       "      <td>0</td>\n",
       "    </tr>\n",
       "    <tr>\n",
       "      <th>...</th>\n",
       "      <td>...</td>\n",
       "      <td>...</td>\n",
       "      <td>...</td>\n",
       "      <td>...</td>\n",
       "    </tr>\n",
       "    <tr>\n",
       "      <th>80469</th>\n",
       "      <td>509</td>\n",
       "      <td>2687</td>\n",
       "      <td>3.0</td>\n",
       "      <td>78</td>\n",
       "    </tr>\n",
       "    <tr>\n",
       "      <th>80520</th>\n",
       "      <td>509</td>\n",
       "      <td>5444</td>\n",
       "      <td>3.5</td>\n",
       "      <td>78</td>\n",
       "    </tr>\n",
       "    <tr>\n",
       "      <th>80627</th>\n",
       "      <td>509</td>\n",
       "      <td>40339</td>\n",
       "      <td>1.5</td>\n",
       "      <td>78</td>\n",
       "    </tr>\n",
       "    <tr>\n",
       "      <th>80597</th>\n",
       "      <td>509</td>\n",
       "      <td>26999</td>\n",
       "      <td>3.0</td>\n",
       "      <td>78</td>\n",
       "    </tr>\n",
       "    <tr>\n",
       "      <th>80453</th>\n",
       "      <td>509</td>\n",
       "      <td>2090</td>\n",
       "      <td>3.0</td>\n",
       "      <td>78</td>\n",
       "    </tr>\n",
       "  </tbody>\n",
       "</table>\n",
       "<p>350 rows × 4 columns</p>\n",
       "</div>"
      ],
      "text/plain": [
       "       user_id  movie_id  rating  timestamp\n",
       "80773      509     92259     3.5          0\n",
       "80697      509     63082     4.0          0\n",
       "80740      509     78499     4.0          0\n",
       "80748      509     81845     3.5          0\n",
       "80373      509         1     4.0          0\n",
       "...        ...       ...     ...        ...\n",
       "80469      509      2687     3.0         78\n",
       "80520      509      5444     3.5         78\n",
       "80627      509     40339     1.5         78\n",
       "80597      509     26999     3.0         78\n",
       "80453      509      2090     3.0         78\n",
       "\n",
       "[350 rows x 4 columns]"
      ]
     },
     "execution_count": 339,
     "metadata": {},
     "output_type": "execute_result"
    }
   ],
=======
   "execution_count": null,
   "id": "864b2ef6",
   "metadata": {},
   "outputs": [],
>>>>>>> sigmod-experiments
   "source": [
    "train_df[train_df[\"user_id\"] == u]"
   ]
  },
  {
   "cell_type": "code",
   "execution_count": null,
   "id": "24a2c6cd",
   "metadata": {},
   "outputs": [],
   "source": []
  }
 ],
 "metadata": {
  "kernelspec": {
<<<<<<< HEAD
   "display_name": "Python 3",
=======
   "display_name": "Python 3 (ipykernel)",
>>>>>>> sigmod-experiments
   "language": "python",
   "name": "python3"
  },
  "language_info": {
   "codemirror_mode": {
    "name": "ipython",
    "version": 3
   },
   "file_extension": ".py",
   "mimetype": "text/x-python",
   "name": "python",
   "nbconvert_exporter": "python",
   "pygments_lexer": "ipython3",
<<<<<<< HEAD
   "version": "3.8.8"
=======
   "version": "3.9.7"
>>>>>>> sigmod-experiments
  }
 },
 "nbformat": 4,
 "nbformat_minor": 5
}
