{
 "cells": [
  {
   "cell_type": "code",
   "execution_count": null,
   "id": "8c670793",
   "metadata": {},
   "outputs": [],
   "source": [
    "import pandas as pd\n",
    "from pyspark.sql import SparkSession\n",
    "from pyspark.ml.evaluation import RegressionEvaluator\n",
    "from pyspark.ml.recommendation import ALS\n",
    "\n",
    "import pandas as pd, numpy as np, matplotlib.pyplot as plt\n",
    "\n",
    "import sys \n",
    "sys.path.insert(1, \"../\")\n",
    "from workloads.util import use_results, use_dataset, read_config, log_dataset\n",
    "\n",
    "%load_ext autoreload\n",
    "%autoreload 2"
   ]
  },
  {
   "cell_type": "code",
   "execution_count": null,
   "id": "40d484db",
   "metadata": {},
   "outputs": [],
   "source": [
    "dataset_dir = use_dataset(\"ml-latest-small\")"
   ]
  },
  {
   "cell_type": "code",
   "execution_count": null,
   "id": "0f1b5d11",
   "metadata": {},
   "outputs": [],
   "source": [
    "ratings_path = f\"{dataset_dir}/ratings.csv\"\n",
    "tags_path = f\"{dataset_dir}/tags.csv\" \n",
    "movies_path = f\"{dataset_dir}/movies.csv\""
   ]
  },
  {
   "cell_type": "code",
   "execution_count": null,
   "id": "4c0c1cc4",
   "metadata": {},
   "outputs": [],
   "source": [
    "tags = pd.read_csv(tags_path)\n",
    "tags.columns = ['user_id', 'movie_id', 'tag', 'timestamp']\n",
    "ratings = pd.read_csv(ratings_path)\n",
    "ratings.columns = ['user_id', 'movie_id', 'rating', 'timestamp']\n",
    "movies = pd.read_csv(movies_path)\n",
    "movies.columns = ['movie_id', 'title', 'genres']"
   ]
  },
  {
   "cell_type": "code",
   "execution_count": null,
   "id": "d1182f4f",
   "metadata": {},
   "outputs": [],
   "source": [
    "test_df"
   ]
  },
  {
   "cell_type": "markdown",
   "id": "5453ab63",
   "metadata": {},
   "source": [
    "# Preprocessing Dataset \n",
    "* Re-assing timestamp \n",
    "* Split train/test"
   ]
  },
  {
   "cell_type": "markdown",
   "id": "be8e6a71",
   "metadata": {},
   "source": [
    "## Re-assing timestamps \n",
    "Set user start timestamp to all be the same "
   ]
  },
  {
   "cell_type": "code",
   "execution_count": null,
   "id": "19f4c325",
   "metadata": {},
   "outputs": [],
   "source": [
    "users = list(set(ratings.user_id.tolist()))\n",
    "user_start_ts = {user: ratings[ratings[\"user_id\"] == user].timestamp.min() for user in users}\n",
    "ratings.timestamp = ratings.apply(lambda x: x[\"timestamp\"] - user_start_ts[x[\"user_id\"]], axis=1)"
   ]
  },
  {
   "cell_type": "markdown",
   "id": "87dfc34b",
   "metadata": {},
   "source": [
    "Squash rating timestamps by 100 (TODO: potentially make sure timestamps dont userlap)"
   ]
  },
  {
   "cell_type": "code",
   "execution_count": null,
   "id": "087ebae6",
   "metadata": {},
   "outputs": [],
   "source": [
    "ratings.timestamp = ratings.timestamp.apply(lambda x: int(x/100))"
   ]
  },
  {
   "cell_type": "code",
   "execution_count": null,
   "id": "bc059263",
   "metadata": {},
   "outputs": [],
   "source": [
    "ratings.movie_id.value_counts()"
   ]
  },
  {
   "cell_type": "code",
   "execution_count": null,
   "id": "23ee274f",
   "metadata": {},
   "outputs": [],
   "source": [
    "import torch \n",
    "\n",
    "A = torch.zeros((ratings.user_id.max()+1, ratings.movie_id.max()+1), dtype=int)\n",
    "R = torch.zeros((ratings.user_id.max()+1, ratings.movie_id.max()+1), dtype=int)\n",
    "A.shape"
   ]
  },
  {
   "cell_type": "code",
   "execution_count": null,
   "id": "1e729878",
   "metadata": {},
   "outputs": [],
   "source": [
    "idx = ratings[[\"user_id\", \"movie_id\", \"rating\"]].to_numpy().astype(int)\n",
    "idx"
   ]
  },
  {
   "cell_type": "code",
   "execution_count": null,
   "id": "004045d0",
   "metadata": {},
   "outputs": [],
   "source": [
    "A[idx[:,0], idx[:,1]] = torch.LongTensor(idx[:,2])\n",
    "R[idx[:,0], idx[:,1]] = torch.LongTensor(idx[:,2] > 0)"
   ]
  },
  {
   "cell_type": "code",
   "execution_count": null,
   "id": "d5bfe25c",
   "metadata": {},
   "outputs": [],
   "source": [
    "A"
   ]
  },
  {
   "cell_type": "code",
   "execution_count": null,
   "id": "76e01569",
   "metadata": {},
   "outputs": [],
   "source": [
    "R"
   ]
  },
  {
   "cell_type": "markdown",
   "id": "71132ff4",
   "metadata": {},
   "source": [
    "## Train/Test Split \n",
    "Split by median timestamp "
   ]
  },
  {
   "cell_type": "code",
   "execution_count": null,
   "id": "13e6bd01",
   "metadata": {},
   "outputs": [],
   "source": [
    "cutoff = ratings.timestamp.median()\n",
    "mask = ratings[\"timestamp\"] < cutoff\n",
    "cutoff"
   ]
  },
  {
   "cell_type": "code",
   "execution_count": null,
   "id": "95ff5997",
   "metadata": {},
   "outputs": [],
   "source": [
    "#train_df = pd.read_csv(ratings_path)\n",
    "#train_df.columns = ['user_id', 'movie_id', 'rating', 'timestamp']\n",
    "#train_df[\"rating\"] = train_df[\"rating\"].where(mask, np.NaN)"
   ]
  },
  {
   "cell_type": "code",
   "execution_count": null,
   "id": "b92c96b3",
   "metadata": {},
   "outputs": [],
   "source": [
    "train_df = ratings[ratings[\"timestamp\"] < cutoff].sort_values(\"timestamp\")\n",
    "test_df = ratings[ratings[\"timestamp\"] > cutoff].sort_values(\"timestamp\")"
   ]
  },
  {
   "cell_type": "code",
   "execution_count": null,
   "id": "b230e7b3",
   "metadata": {},
   "outputs": [],
   "source": [
    "train_movies = train_df.movie_id.tolist()\n",
    "train_movies"
   ]
  },
  {
   "cell_type": "code",
   "execution_count": null,
   "id": "98688b56",
   "metadata": {},
   "outputs": [],
   "source": [
    "test_df = test_df[test_df.movie_id.apply(lambda x: x in train_movies)]"
   ]
  },
  {
   "cell_type": "code",
   "execution_count": null,
   "id": "2002ff2c",
   "metadata": {},
   "outputs": [],
   "source": [
    "test_df"
   ]
  },
  {
   "cell_type": "code",
   "execution_count": null,
   "id": "3f876a29",
   "metadata": {},
   "outputs": [],
   "source": [
    "train_df"
   ]
  },
  {
   "cell_type": "code",
   "execution_count": null,
   "id": "6dabf464",
   "metadata": {},
   "outputs": [],
   "source": [
    "train_df"
   ]
  },
  {
   "cell_type": "code",
   "execution_count": null,
   "id": "a13fb3ad",
   "metadata": {},
   "outputs": [],
   "source": [
    "train_df[train_df[\"user_id\"] == 1]"
   ]
  },
  {
   "cell_type": "markdown",
   "id": "2f8515eb",
   "metadata": {},
   "source": [
    "## Create Matrix "
   ]
  },
  {
   "cell_type": "code",
   "execution_count": null,
   "id": "f3b1d3e9",
   "metadata": {},
   "outputs": [],
   "source": [
    "combined_df = train_df.join(movies, on=['movie_id'], rsuffix='_r').join(tags, on=['movie_id'], rsuffix='_t')\n",
    "combined_df"
   ]
  },
  {
   "cell_type": "code",
   "execution_count": null,
   "id": "54669d99",
   "metadata": {},
   "outputs": [],
   "source": [
    "pivot_table = combined_df.pivot_table(columns=['movie_id'], index=['user_id'], values='rating')\n",
    "A = pivot_table.fillna(0).values"
   ]
  },
  {
   "cell_type": "code",
   "execution_count": null,
   "id": "a0bd7346",
   "metadata": {},
   "outputs": [],
   "source": [
    "movie_to_index = {pivot_table.columns[i]: i for i in range(len(pivot_table.columns))}\n",
    "user_to_index = {pivot_table.index[i]: i for i in range(len(pivot_table.index))}"
   ]
  },
  {
   "cell_type": "code",
   "execution_count": null,
   "id": "c977fedd",
   "metadata": {},
   "outputs": [],
   "source": [
    "R = A>0.5; R[R == True] = 1; R[R == False] = 0; R = R.astype(np.float64, copy=False)"
   ]
  },
  {
   "cell_type": "code",
   "execution_count": null,
   "id": "218a67d2",
   "metadata": {},
   "outputs": [],
   "source": [
    "R"
   ]
  },
  {
   "cell_type": "code",
   "execution_count": null,
   "id": "ff97fdbb",
   "metadata": {},
   "outputs": [],
   "source": [
    "R.shape"
   ]
  },
  {
   "cell_type": "code",
   "execution_count": null,
   "id": "a7fdd05b",
   "metadata": {},
   "outputs": [],
   "source": [
    "A"
   ]
  },
  {
   "cell_type": "code",
   "execution_count": null,
   "id": "aba2955e",
   "metadata": {},
   "outputs": [],
   "source": [
    "A.shape"
   ]
  },
  {
   "cell_type": "markdown",
   "id": "8176c444",
   "metadata": {},
   "source": [
    "# Train ALS Model "
   ]
  },
  {
   "cell_type": "code",
   "execution_count": null,
   "id": "e78bf443",
   "metadata": {},
   "outputs": [],
   "source": [
    "train_df[train_df[\"user_id\"] == 42]"
   ]
  },
  {
   "cell_type": "code",
   "execution_count": null,
   "id": "9026cc65",
   "metadata": {},
   "outputs": [],
   "source": [
    "spark = SparkSession.builder.master('local').appName('als').getOrCreate()"
   ]
  },
  {
   "cell_type": "code",
   "execution_count": null,
   "id": "a919eeb0",
   "metadata": {},
   "outputs": [],
   "source": [
    "spark_als_df = spark.createDataFrame(train_df) "
   ]
  },
  {
   "cell_type": "code",
   "execution_count": null,
   "id": "378f8191",
   "metadata": {},
   "outputs": [],
   "source": [
    "als = ALS(\n",
    "         userCol=\"user_id\", \n",
    "         itemCol=\"movie_id\",\n",
    "         ratingCol=\"rating\", \n",
    "         nonnegative = True, \n",
    "         implicitPrefs = False,\n",
    "         coldStartStrategy=\"drop\",\n",
    "         rank=150,\n",
    "         maxIter=10,\n",
    "         regParam=.1\n",
    ")"
   ]
  },
  {
   "cell_type": "code",
   "execution_count": null,
   "id": "0d519a81",
   "metadata": {},
   "outputs": [],
   "source": [
    "model=als.fit(spark_als_df)"
   ]
  },
  {
   "cell_type": "code",
   "execution_count": null,
   "id": "56f1670b",
   "metadata": {},
   "outputs": [],
   "source": [
    "model.itemFactors.toPandas()"
   ]
  },
  {
   "cell_type": "code",
   "execution_count": null,
   "id": "1aaacd01",
   "metadata": {},
   "outputs": [],
   "source": [
    "movie_table = model.itemFactors.toPandas().sort_values(\"id\").set_index(\"id\")\n",
    "user_table = model.userFactors.toPandas().sort_values(\"id\").set_index(\"id\")\n",
    "movie_table.loc[1]"
   ]
  },
  {
   "cell_type": "code",
   "execution_count": null,
   "id": "4e28a8d5",
   "metadata": {},
   "outputs": [],
   "source": [
    "user_table.loc[42]"
   ]
  },
  {
   "cell_type": "code",
   "execution_count": null,
   "id": "5aff7cbb",
   "metadata": {},
   "outputs": [],
   "source": [
    "user_matrix = model.userFactors.toPandas().sort_values(\"id\").set_index(\"id\").features.to_list()"
   ]
  },
  {
   "cell_type": "code",
   "execution_count": null,
   "id": "67aa3865",
   "metadata": {},
   "outputs": [],
   "source": [
    "movie_matrix = model.itemFactors.toPandas().sort_values(\"id\").set_index(\"id\").features.to_list()"
   ]
  },
  {
   "cell_type": "code",
   "execution_count": null,
   "id": "7bf3e173",
   "metadata": {},
   "outputs": [],
   "source": [
    "user_matrix = np.array(user_matrix)"
   ]
  },
  {
   "cell_type": "code",
   "execution_count": null,
   "id": "9b172601",
   "metadata": {},
   "outputs": [],
   "source": [
    "movie_matrix = np.array(movie_matrix)"
   ]
  },
  {
   "cell_type": "code",
   "execution_count": null,
   "id": "4db14ac4",
   "metadata": {},
   "outputs": [],
   "source": [
    "movie_matrix.shape"
   ]
  },
  {
   "cell_type": "code",
   "execution_count": null,
   "id": "cfd5dd07",
   "metadata": {},
   "outputs": [],
   "source": [
    "user_matrix.shape"
   ]
  },
  {
   "cell_type": "markdown",
   "id": "a67e5a49",
   "metadata": {},
   "source": [
    "## Evaluate on Test Data "
   ]
  },
  {
   "cell_type": "code",
   "execution_count": null,
   "id": "ffab0a84",
   "metadata": {},
   "outputs": [],
   "source": [
    "# ALS Evaluation\n",
    "spark_als_test_df = spark.createDataFrame(test_df) \n",
    "predictions = model.transform(spark_als_test_df)"
   ]
  },
  {
   "cell_type": "code",
   "execution_count": null,
   "id": "7de9295d",
   "metadata": {},
   "outputs": [],
   "source": [
    "evaluator = RegressionEvaluator().setMetricName(\"rmse\").setLabelCol(\"rating\").setPredictionCol(\"prediction\")\n",
    "rmse = evaluator.evaluate(predictions)\n",
    "rmse"
   ]
  },
  {
   "cell_type": "code",
   "execution_count": null,
   "id": "34a8d2b1",
   "metadata": {},
   "outputs": [],
   "source": [
    "evaluator = RegressionEvaluator().setMetricName(\"rmse\").setLabelCol(\"rating\").setPredictionCol(\"prediction\")\n",
    "rmse = evaluator.evaluate(predictions)\n",
    "rmse"
   ]
  },
  {
   "cell_type": "code",
   "execution_count": null,
   "id": "8969e46a",
   "metadata": {},
   "outputs": [],
   "source": [
    "rmse*rmse"
   ]
  },
  {
   "cell_type": "code",
   "execution_count": null,
   "id": "c4b050ec",
   "metadata": {},
   "outputs": [],
   "source": [
    "def evaluate(df, curr_user_matrix, curr_movie_matrix): \n",
    "\n",
    "    y_pred = []\n",
    "    y_true = [] \n",
    "\n",
    "    for index, row in df.iterrows():\n",
    "        #print(row)\n",
    "        ui = user_to_index[int(row[\"user_id\"])]\n",
    "        mi = movie_to_index[int(row[\"movie_id\"])]\n",
    "        user_features = curr_user_matrix[ui]\n",
    "        movie_features = curr_movie_matrix[mi]\n",
    "        y_pred.append(np.dot(user_features, movie_features))\n",
    "        y_true.append(row[\"rating\"])\n",
    "        \n",
    "    return mean_squared_error(y_true, y_pred)"
   ]
  },
  {
   "cell_type": "code",
   "execution_count": null,
   "id": "e1755957",
   "metadata": {},
   "outputs": [],
   "source": [
    "from sklearn.metrics import mean_squared_error"
   ]
  },
  {
   "cell_type": "code",
   "execution_count": null,
   "id": "5f914e59",
   "metadata": {},
   "outputs": [],
   "source": [
    "evaluate(test_df, user_matrix, movie_matrix)"
   ]
  },
  {
   "cell_type": "code",
   "execution_count": null,
   "id": "662efd57",
   "metadata": {},
   "outputs": [],
   "source": [
    "evaluate(train_df, user_matrix, movie_matrix)"
   ]
  },
  {
   "cell_type": "code",
   "execution_count": null,
   "id": "e42c1143",
   "metadata": {},
   "outputs": [],
   "source": [
    "evaluate(test_df, pickle.load(open(f\"{dataset_dir}/user_matrix.pkl\", \"rb\")), pickle.load(open(f\"{dataset_dir}/movie_matrix.pkl\", \"rb\")))"
   ]
  },
  {
   "cell_type": "code",
   "execution_count": null,
   "id": "93fc019c",
   "metadata": {},
   "outputs": [],
   "source": [
    "evaluate(train_df, pickle.load(open(f\"{dataset_dir}/user_matrix.pkl\", \"rb\")), pickle.load(open(f\"{dataset_dir}/movie_matrix.pkl\", \"rb\")))"
   ]
  },
  {
   "cell_type": "markdown",
   "id": "82187640",
   "metadata": {},
   "source": [
    "# Write Batch ALS Features "
   ]
  },
  {
   "cell_type": "code",
   "execution_count": null,
   "id": "e9c1f91b",
   "metadata": {},
   "outputs": [],
   "source": [
    "import pickle\n",
    "import json"
   ]
  },
  {
   "cell_type": "code",
   "execution_count": null,
   "id": "fc69f841",
   "metadata": {},
   "outputs": [],
   "source": [
    "pickle.dump(user_matrix, open(f\"{dataset_dir}/spark_user_matrix.pkl\", \"wb\"))\n",
    "pickle.dump(movie_matrix, open(f\"{dataset_dir}/spark_movie_matrix.pkl\", \"wb\"))"
   ]
  },
  {
   "cell_type": "code",
   "execution_count": null,
   "id": "f1b30c32",
   "metadata": {},
   "outputs": [],
   "source": [
    "#user_matrix = pickle.load(open(f\"{dataset_dir}/spark_user_matrix.pkl\", \"rb\"))\n",
    "#movie_matrix = pickle.load(open(f\"{dataset_dir}/spark_movie_matrix.pkl\", \"rb\"))\n",
    "user_matrix = pickle.load(open(f\"{dataset_dir}/trained_users.pkl\", \"rb\"))\n",
    "movie_matrix = pickle.load(open(f\"{dataset_dir}/trained_items.pkl\", \"rb\"))"
   ]
  },
  {
   "cell_type": "code",
   "execution_count": null,
   "id": "61d49b31",
   "metadata": {},
   "outputs": [],
   "source": [
    "movie_to_index = json.load(open(f\"{dataset_dir}/movie_to_index.json\", \"r\"))\n",
    "user_to_index = json.load(open(f\"{dataset_dir}/user_to_index.json\", \"r\"))\n",
    "A = pickle.load(open(f\"{dataset_dir}/A.pkl\", \"rb\"))\n",
    "R = pickle.load(open(f\"{dataset_dir}/R.pkl\", \"rb\"))\n",
    "\n",
    "test_df = pd.read_csv(f\"{dataset_dir}/test.csv\")"
   ]
  },
  {
   "cell_type": "markdown",
   "id": "ddc8bd0e",
   "metadata": {},
   "source": [
    "# Test Streaming Updates "
   ]
  },
  {
   "cell_type": "code",
   "execution_count": null,
   "id": "a89219da",
   "metadata": {},
   "outputs": [],
   "source": [
    "from tqdm import tqdm"
   ]
  },
  {
   "cell_type": "code",
   "execution_count": null,
   "id": "bacf7f09",
   "metadata": {},
   "outputs": [],
   "source": [
    "del streaming_user_matrix\n",
    "del A_matrix\n",
    "del R_matrix"
   ]
  },
  {
   "cell_type": "code",
   "execution_count": null,
   "id": "a3b6dccd",
   "metadata": {},
   "outputs": [],
   "source": [
    "limit = 100"
   ]
  },
  {
   "cell_type": "code",
   "execution_count": null,
   "id": "dbde5a0b",
   "metadata": {},
   "outputs": [],
   "source": [
    "from workloads.recsys.als import runALS"
   ]
  },
  {
   "cell_type": "code",
   "execution_count": null,
   "id": "ecba755a",
   "metadata": {},
   "outputs": [],
   "source": [
    "streaming_user_matrix_batch = np.array(user_matrix, copy=True) \n",
    "streaming_movie_matrix_batch = np.array(movie_matrix, copy=True) \n",
    "A_matrix_batch = np.array(A, copy=True)\n",
    "R_matrix_batch = np.array(R, copy=True)\n",
    "\n",
    "y = []\n",
    "origin_pred = []\n",
    "updated_pred = []\n",
    "\n",
    "for index, row in tqdm(test_df.iloc[:limit].iterrows()):\n",
    "    \n",
    "    \n",
    "    ui = user_to_index[str(int(row[\"user_id\"]))]\n",
    "    mi = movie_to_index[str(int(row[\"movie_id\"]))]\n",
    "    \n",
    "    print(index, ui, mi, movie_matrix.shape)\n",
    "    \n",
    "    A_matrix_batch[ui][mi] = row[\"rating\"]\n",
    "    R_matrix_batch[ui][mi] = 1\n",
    "    \n",
    "    origin_pred.append(user_matrix[ui].dot(movie_matrix[mi].T))\n",
    "    updated_pred.append(streaming_user_matrix_batch[ui].dot(streaming_movie_matrix_batch[mi].T))\n",
    "    y.append(row[\"rating\"])\n",
    "    \n",
    "    print(row[\"rating\"] - origin_pred[-1], row[\"rating\"] - updated_pred[-1])\n",
    "    \n",
    "    n_factors = len(user_matrix[ui])\n",
    "    n_iter = 2\n",
    "    reg = 0.1\n",
    "    streaming_user_matrix_batch, streaming_movie_matrix_batch = runALS(\n",
    "        A_matrix_batch, \n",
    "        R_matrix_batch, \n",
    "        n_factors, \n",
    "        n_iter, \n",
    "        reg, \n",
    "        streaming_user_matrix_batch, \n",
    "        streaming_movie_matrix_batch, \n",
    "        users=None #, [ui]\n",
    "    )\n",
    "\n"
   ]
  },
  {
   "cell_type": "code",
   "execution_count": null,
   "id": "e6224136",
   "metadata": {},
   "outputs": [],
   "source": [
    "streaming_user_matrix = np.array(user_matrix, copy=True) \n",
    "A_matrix = np.array(A, copy=True)\n",
    "R_matrix = np.array(R, copy=True)\n",
    "\n",
    "\n",
    "y = []\n",
    "origin_pred = []\n",
    "updated_pred = []\n",
    "#for index, row in test_df.iloc[:limit].iterrows():\n",
    "for index, row in tqdm(test_df.iloc[:limit].iterrows()):\n",
    "    ui = user_to_index[int(row[\"user_id\"])]\n",
    "    mi = movie_to_index[int(row[\"movie_id\"])]\n",
    "    \n",
    "    #print(ui, mi)\n",
    "    \n",
    "    A_matrix[ui][mi] = row[\"rating\"]\n",
    "    R_matrix[ui][mi] = 1\n",
    "    \n",
    "    Ri = R_matrix[ui]\n",
    "    user_features = user_matrix[ui]\n",
    "    user_feature_reg = 10\n",
    "    n_factors = len(user_features)\n",
    "\n",
    "    origin_pred.append(user_features.dot(movie_matrix[mi].T))\n",
    "    updated_pred.append(streaming_user_matrix[ui].dot(movie_matrix[mi].T))\n",
    "    y.append(row[\"rating\"])\n",
    "    \n",
    "    streaming_user_matrix[ui] = np.linalg.solve(\n",
    "        np.dot(movie_matrix.T, np.dot(np.diag(Ri), movie_matrix)) + user_feature_reg * np.eye(n_factors),\n",
    "        np.dot(movie_matrix.T, np.dot(np.diag(Ri), A_matrix[ui].T))\n",
    "    ).T"
   ]
  },
  {
   "cell_type": "code",
   "execution_count": null,
   "id": "651daf70",
   "metadata": {},
   "outputs": [],
   "source": [
    "# 0.01\n",
    "print(mean_squared_error(y, origin_pred))\n",
    "print(mean_squared_error(y, updated_pred))"
   ]
  },
  {
   "cell_type": "code",
   "execution_count": null,
   "id": "4b29c187",
   "metadata": {},
   "outputs": [],
   "source": [
    "# 0.1\n",
    "print(mean_squared_error(y, origin_pred))\n",
    "print(mean_squared_error(y, updated_pred))"
   ]
  },
  {
   "cell_type": "code",
   "execution_count": null,
   "id": "b0d43e2b",
   "metadata": {},
   "outputs": [],
   "source": [
    "# 10 \n",
    "print(mean_squared_error(y, origin_pred))\n",
    "print(mean_squared_error(y, updated_pred))"
   ]
  },
  {
   "cell_type": "code",
   "execution_count": null,
   "id": "036ceaa0",
   "metadata": {},
   "outputs": [],
   "source": [
    "# 5\n",
    "print(mean_squared_error(y, origin_pred))\n",
    "print(mean_squared_error(y, updated_pred))"
   ]
  },
  {
   "cell_type": "code",
   "execution_count": null,
   "id": "3883c8df",
   "metadata": {},
   "outputs": [],
   "source": [
    "# 1\n",
    "print(mean_squared_error(y, origin_pred))\n",
    "print(mean_squared_error(y, updated_pred))"
   ]
  },
  {
   "cell_type": "code",
   "execution_count": null,
   "id": "59afd448",
   "metadata": {},
   "outputs": [],
   "source": [
    "mean_squared_error(y, origin_pred)"
   ]
  },
  {
   "cell_type": "code",
   "execution_count": null,
   "id": "e1d259ec",
   "metadata": {},
   "outputs": [],
   "source": [
    "mean_squared_error(y, updated_pred)"
   ]
  },
  {
   "cell_type": "code",
   "execution_count": null,
   "id": "254e8eb8",
   "metadata": {},
   "outputs": [],
   "source": [
    "A[199]"
   ]
  },
  {
   "cell_type": "code",
   "execution_count": null,
   "id": "a86efc52",
   "metadata": {},
   "outputs": [],
   "source": [
    "A_matrix[199]"
   ]
  },
  {
   "cell_type": "code",
   "execution_count": null,
   "id": "53d63717",
   "metadata": {},
   "outputs": [],
   "source": [
    "del streaming_sgd_user_matrix\n",
    "streaming_sgd_user_matrix = np.array(user_matrix, copy=True) \n",
    "\n",
    "sgd_updated_pred = []\n",
    "y = []\n",
    "origin_pred = []\n",
    "for index, row in tqdm(test_df[:limit].iterrows()):\n",
    "    ui = user_to_index[int(row[\"user_id\"])]\n",
    "    mi = movie_to_index[int(row[\"movie_id\"])]\n",
    "    \n",
    "    user_features = streaming_sgd_user_matrix[ui]\n",
    "    user_feature_reg = 0.01\n",
    "    learning_rate = 0.02\n",
    "\n",
    "    prediction = user_features.dot(movie_matrix[mi].T)\n",
    "    \n",
    "    sgd_updated_pred.append(prediction)\n",
    "    origin_pred.append(user_matrix[ui].dot(movie_matrix[mi].T))\n",
    "    y.append(row[\"rating\"])\n",
    "    \n",
    "    error = row[\"rating\"] - prediction\n",
    "    streaming_sgd_user_matrix[ui] = user_features + learning_rate * (error * movie_matrix[mi] - user_feature_reg * user_features)\n",
    "    "
   ]
  },
  {
   "cell_type": "code",
   "execution_count": null,
   "id": "e6537b0c",
   "metadata": {},
   "outputs": [],
   "source": [
    "# reg = 10 \n",
    "print(mean_squared_error(y, origin_pred)) # original user matrix (ALS)\n",
    "print(mean_squared_error(y, updated_pred)) # update entire user vector (ALS) - expensive \n",
    "print(mean_squared_error(y, sgd_updated_pred)) # sgd update - cheap "
   ]
  },
  {
   "cell_type": "code",
   "execution_count": null,
   "id": "3035addd",
   "metadata": {},
   "outputs": [],
   "source": [
    "# reg = 5 \n",
    "print(mean_squared_error(y, origin_pred)) # original user matrix (ALS)\n",
    "print(mean_squared_error(y, updated_pred)) # update entire user vector (ALS) - expensive \n",
    "print(mean_squared_error(y, sgd_updated_pred)) # sgd update - cheap "
   ]
  },
  {
   "cell_type": "code",
   "execution_count": null,
   "id": "3445ae2f",
   "metadata": {},
   "outputs": [],
   "source": [
    "# reg = 5 \n",
    "print(mean_squared_error(y, origin_pred)) # original user matrix (ALS)\n",
    "#print(mean_squared_error(y, updated_pred)) # update entire user vector (ALS) - expensive \n",
    "print(mean_squared_error(y, sgd_updated_pred)) # sgd update - cheap "
   ]
  },
  {
   "cell_type": "code",
   "execution_count": null,
   "id": "e9f8d062",
   "metadata": {},
   "outputs": [],
   "source": [
    "# reg = 5 \n",
    "print(mean_squared_error(y, origin_pred)) # original user matrix (ALS)\n",
    "print(mean_squared_error(y, updated_pred)) # update entire user vector (ALS) - expensive \n",
    "print(mean_squared_error(y, sgd_updated_pred)) # sgd update - cheap "
   ]
  },
  {
   "cell_type": "code",
   "execution_count": null,
   "id": "6ecd77db",
   "metadata": {},
   "outputs": [],
   "source": [
    "# original user matrix (ALS)\n",
    "evaluate(test_df.iloc[limit:limit+1], user_matrix, movie_matrix)"
   ]
  },
  {
   "cell_type": "code",
   "execution_count": null,
   "id": "c514cf24",
   "metadata": {},
   "outputs": [],
   "source": [
    "# update entire user vector (ALS) - expensive \n",
    "evaluate(test_df.iloc[limit:], streaming_user_matrix_batch, streaming_movie_matrix_batch)"
   ]
  },
  {
   "cell_type": "code",
   "execution_count": null,
   "id": "a059b182",
   "metadata": {},
   "outputs": [],
   "source": [
    "# sgd update - cheap \n",
    "evaluate(test_df.iloc[limit:], streaming_sgd_user_matrix, movie_matrix)"
   ]
  },
  {
   "cell_type": "code",
   "execution_count": null,
   "id": "6d74b234",
   "metadata": {},
   "outputs": [],
   "source": [
    "import time"
   ]
  },
  {
   "cell_type": "code",
   "execution_count": null,
   "id": "f307486c",
   "metadata": {},
   "outputs": [],
   "source": [
    "user_id = 41\n",
    "movie_id = 2\n",
    "rating = 5\n",
    "\n",
    "#[user_id][movie_id] = rating\n",
    "#[user_id][movie_id] = 1\n",
    "\n",
    "Ri = R[user_id]\n",
    "user_features = user_matrix[user_id]\n",
    "user_feature_reg = 0.1\n",
    "n_factors = len(user_features)\n",
    "\n",
    "# TODO: update A and R? \n",
    "\n",
    "st = time.time()\n",
    "user_i = np.linalg.solve(\n",
    "    np.dot(movie_matrix.T, np.dot(np.diag(Ri), movie_matrix)) + user_feature_reg * np.eye(n_factors),\n",
    "    np.dot(movie_matrix.T, np.dot(np.diag(Ri), A[user_id].T))\n",
    ").T\n",
    "print(time.time() - st)"
   ]
  },
  {
   "cell_type": "code",
   "execution_count": null,
   "id": "17875ab2",
   "metadata": {},
   "outputs": [],
   "source": [
    "np.dot(user_i, movie_matrix.T)"
   ]
  },
  {
   "cell_type": "code",
   "execution_count": null,
   "id": "89f9135b",
   "metadata": {},
   "outputs": [],
   "source": [
    "A[i]"
   ]
  },
  {
   "cell_type": "code",
   "execution_count": null,
   "id": "97af1aaa",
   "metadata": {},
   "outputs": [],
   "source": [
    "np.dot(user_features, movie_matrix.T)"
   ]
  },
  {
   "cell_type": "code",
   "execution_count": null,
   "id": "fc1c3122",
   "metadata": {},
   "outputs": [],
   "source": [
    "np.dot(user_matrix[i], movie_matrix.T)"
   ]
  },
  {
   "cell_type": "code",
   "execution_count": null,
   "id": "2a3756cf",
   "metadata": {},
   "outputs": [],
   "source": [
    "np.dot(user_matrix, movie_matrix.T)[i]"
   ]
  },
  {
   "cell_type": "code",
   "execution_count": null,
   "id": "159a96ea",
   "metadata": {},
   "outputs": [],
   "source": [
    "user_to_index[217]"
   ]
  },
  {
   "cell_type": "code",
   "execution_count": null,
   "id": "c707f301",
   "metadata": {},
   "outputs": [],
   "source": [
    "R_matrix[268].sum()"
   ]
  },
  {
   "cell_type": "code",
   "execution_count": null,
   "id": "b360bf26",
   "metadata": {},
   "outputs": [],
   "source": [
    "movie_to_index"
   ]
  },
  {
   "cell_type": "code",
   "execution_count": null,
   "id": "9d8a86b1",
   "metadata": {},
   "outputs": [],
   "source": [
    "u = 509"
   ]
  },
  {
   "cell_type": "code",
   "execution_count": null,
   "id": "a2281e7f",
   "metadata": {},
   "outputs": [],
   "source": [
    "R[u-1]"
   ]
  },
  {
   "cell_type": "code",
   "execution_count": null,
   "id": "a1f26c74",
   "metadata": {},
   "outputs": [],
   "source": [
    "(R_matrix[u-1] - R[u-1]).sum()"
   ]
  },
  {
   "cell_type": "code",
   "execution_count": null,
   "id": "70983c4a",
   "metadata": {},
   "outputs": [],
   "source": [
    "df = test_df.iloc[limit:]"
   ]
  },
  {
   "cell_type": "code",
   "execution_count": null,
   "id": "d3a616a2",
   "metadata": {},
   "outputs": [],
   "source": [
    "evaluate(df[df[\"user_id\"] == u], streaming_user_matrix)"
   ]
  },
  {
   "cell_type": "code",
   "execution_count": null,
   "id": "b2890a2b",
   "metadata": {},
   "outputs": [],
   "source": [
    "evaluate(df[df[\"user_id\"] == u], user_matrix)"
   ]
  },
  {
   "cell_type": "code",
   "execution_count": null,
   "id": "2884e31a",
   "metadata": {},
   "outputs": [],
   "source": [
    "evaluate(df[df[\"user_id\"] == u], streaming_sgd_user_matrix)"
   ]
  },
  {
   "cell_type": "code",
   "execution_count": null,
   "id": "cfb26601",
   "metadata": {},
   "outputs": [],
   "source": [
    "train_df[train_df[\"user_id\"] == u]"
   ]
  },
  {
   "cell_type": "code",
   "execution_count": null,
   "id": "e7639a39",
   "metadata": {},
   "outputs": [],
   "source": [
    "test_df[test_df[\"user_id\"] == u].movie_id.tolist()"
   ]
  },
  {
   "cell_type": "code",
   "execution_count": null,
   "id": "864b2ef6",
   "metadata": {},
   "outputs": [],
   "source": [
    "train_df[train_df[\"user_id\"] == u]"
   ]
  },
  {
   "cell_type": "code",
   "execution_count": null,
   "id": "24a2c6cd",
   "metadata": {},
   "outputs": [],
   "source": []
  }
 ],
 "metadata": {
  "kernelspec": {
   "display_name": "Python 3 (ipykernel)",
   "language": "python",
   "name": "python3"
  },
  "language_info": {
   "codemirror_mode": {
    "name": "ipython",
    "version": 3
   },
   "file_extension": ".py",
   "mimetype": "text/x-python",
   "name": "python",
   "nbconvert_exporter": "python",
   "pygments_lexer": "ipython3",
   "version": "3.9.7"
  }
 },
 "nbformat": 4,
 "nbformat_minor": 5
}
