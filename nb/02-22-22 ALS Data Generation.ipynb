{
 "cells": [
  {
   "cell_type": "code",
   "execution_count": 28,
   "id": "b879d6a6",
   "metadata": {},
   "outputs": [
    {
     "name": "stdout",
     "output_type": "stream",
     "text": [
      "The autoreload extension is already loaded. To reload it, use:\n",
      "  %reload_ext autoreload\n"
     ]
    }
   ],
   "source": [
    "import pandas as pd\n",
    "from pyspark.sql import SparkSession\n",
    "from pyspark.ml.evaluation import RegressionEvaluator\n",
    "from pyspark.ml.recommendation import ALS\n",
    "\n",
    "\n",
    "import sys \n",
    "sys.path.insert(1, \"../\")\n",
    "from workloads.util import use_results, use_dataset, read_config, log_dataset\n",
    "\n",
    "%load_ext autoreload\n",
    "%autoreload 2"
   ]
  },
  {
   "cell_type": "code",
   "execution_count": 2,
   "id": "f3a9eb98",
   "metadata": {},
   "outputs": [
    {
     "name": "stdout",
     "output_type": "stream",
     "text": [
      "/data/wooders/ralf-vldb//datasets/ml-100k\n",
      "Downloading from aws: vldb\n"
     ]
    }
   ],
   "source": [
    "dataset_dir = use_dataset(\"ml-100k\")"
   ]
  },
  {
   "cell_type": "code",
   "execution_count": 15,
   "id": "72504b89",
   "metadata": {},
   "outputs": [
    {
     "data": {
      "text/html": [
       "<div>\n",
       "<style scoped>\n",
       "    .dataframe tbody tr th:only-of-type {\n",
       "        vertical-align: middle;\n",
       "    }\n",
       "\n",
       "    .dataframe tbody tr th {\n",
       "        vertical-align: top;\n",
       "    }\n",
       "\n",
       "    .dataframe thead th {\n",
       "        text-align: right;\n",
       "    }\n",
       "</style>\n",
       "<table border=\"1\" class=\"dataframe\">\n",
       "  <thead>\n",
       "    <tr style=\"text-align: right;\">\n",
       "      <th></th>\n",
       "      <th>user_id</th>\n",
       "      <th>movie_id</th>\n",
       "      <th>rating</th>\n",
       "      <th>timestamp</th>\n",
       "    </tr>\n",
       "  </thead>\n",
       "  <tbody>\n",
       "    <tr>\n",
       "      <th>214</th>\n",
       "      <td>259</td>\n",
       "      <td>255</td>\n",
       "      <td>4</td>\n",
       "      <td>874724710</td>\n",
       "    </tr>\n",
       "    <tr>\n",
       "      <th>83965</th>\n",
       "      <td>259</td>\n",
       "      <td>286</td>\n",
       "      <td>4</td>\n",
       "      <td>874724727</td>\n",
       "    </tr>\n",
       "    <tr>\n",
       "      <th>43027</th>\n",
       "      <td>259</td>\n",
       "      <td>298</td>\n",
       "      <td>4</td>\n",
       "      <td>874724754</td>\n",
       "    </tr>\n",
       "    <tr>\n",
       "      <th>21396</th>\n",
       "      <td>259</td>\n",
       "      <td>185</td>\n",
       "      <td>4</td>\n",
       "      <td>874724781</td>\n",
       "    </tr>\n",
       "    <tr>\n",
       "      <th>82655</th>\n",
       "      <td>259</td>\n",
       "      <td>173</td>\n",
       "      <td>4</td>\n",
       "      <td>874724843</td>\n",
       "    </tr>\n",
       "    <tr>\n",
       "      <th>...</th>\n",
       "      <td>...</td>\n",
       "      <td>...</td>\n",
       "      <td>...</td>\n",
       "      <td>...</td>\n",
       "    </tr>\n",
       "    <tr>\n",
       "      <th>46773</th>\n",
       "      <td>729</td>\n",
       "      <td>689</td>\n",
       "      <td>4</td>\n",
       "      <td>893286638</td>\n",
       "    </tr>\n",
       "    <tr>\n",
       "      <th>73008</th>\n",
       "      <td>729</td>\n",
       "      <td>313</td>\n",
       "      <td>3</td>\n",
       "      <td>893286638</td>\n",
       "    </tr>\n",
       "    <tr>\n",
       "      <th>46574</th>\n",
       "      <td>729</td>\n",
       "      <td>328</td>\n",
       "      <td>3</td>\n",
       "      <td>893286638</td>\n",
       "    </tr>\n",
       "    <tr>\n",
       "      <th>64312</th>\n",
       "      <td>729</td>\n",
       "      <td>748</td>\n",
       "      <td>4</td>\n",
       "      <td>893286638</td>\n",
       "    </tr>\n",
       "    <tr>\n",
       "      <th>79208</th>\n",
       "      <td>729</td>\n",
       "      <td>272</td>\n",
       "      <td>4</td>\n",
       "      <td>893286638</td>\n",
       "    </tr>\n",
       "  </tbody>\n",
       "</table>\n",
       "<p>100000 rows × 4 columns</p>\n",
       "</div>"
      ],
      "text/plain": [
       "       user_id  movie_id  rating  timestamp\n",
       "214        259       255       4  874724710\n",
       "83965      259       286       4  874724727\n",
       "43027      259       298       4  874724754\n",
       "21396      259       185       4  874724781\n",
       "82655      259       173       4  874724843\n",
       "...        ...       ...     ...        ...\n",
       "46773      729       689       4  893286638\n",
       "73008      729       313       3  893286638\n",
       "46574      729       328       3  893286638\n",
       "64312      729       748       4  893286638\n",
       "79208      729       272       4  893286638\n",
       "\n",
       "[100000 rows x 4 columns]"
      ]
     },
     "execution_count": 15,
     "metadata": {},
     "output_type": "execute_result"
    }
   ],
   "source": [
    "ratings_path = f\"{dataset_dir}/u.data\"\n",
    "df = pd.read_csv(ratings_path, sep = '\\t', names = [\"user_id\", \"movie_id\", \"rating\", \"timestamp\"]).sort_values('timestamp')\n",
    "df"
   ]
  },
  {
   "cell_type": "code",
   "execution_count": 9,
   "id": "7872947f",
   "metadata": {},
   "outputs": [],
   "source": [
    "squash_amount = 100"
   ]
  },
  {
   "cell_type": "code",
   "execution_count": 39,
   "id": "a7208ffb",
   "metadata": {},
   "outputs": [],
   "source": [
    "new_timestamp = [i // squash_amount for i in range(1, len(df)+1)]"
   ]
  },
  {
   "cell_type": "code",
   "execution_count": 17,
   "id": "3593095a",
   "metadata": {},
   "outputs": [],
   "source": [
    "new_df = df.drop('timestamp', 1)\n",
    "new_df['timestamp'] = new_timestamp"
   ]
  },
  {
   "cell_type": "code",
   "execution_count": 18,
   "id": "e282f6e6",
   "metadata": {},
   "outputs": [
    {
     "data": {
      "text/html": [
       "<div>\n",
       "<style scoped>\n",
       "    .dataframe tbody tr th:only-of-type {\n",
       "        vertical-align: middle;\n",
       "    }\n",
       "\n",
       "    .dataframe tbody tr th {\n",
       "        vertical-align: top;\n",
       "    }\n",
       "\n",
       "    .dataframe thead th {\n",
       "        text-align: right;\n",
       "    }\n",
       "</style>\n",
       "<table border=\"1\" class=\"dataframe\">\n",
       "  <thead>\n",
       "    <tr style=\"text-align: right;\">\n",
       "      <th></th>\n",
       "      <th>user_id</th>\n",
       "      <th>movie_id</th>\n",
       "      <th>rating</th>\n",
       "      <th>timestamp</th>\n",
       "    </tr>\n",
       "  </thead>\n",
       "  <tbody>\n",
       "    <tr>\n",
       "      <th>214</th>\n",
       "      <td>259</td>\n",
       "      <td>255</td>\n",
       "      <td>4</td>\n",
       "      <td>0</td>\n",
       "    </tr>\n",
       "    <tr>\n",
       "      <th>83965</th>\n",
       "      <td>259</td>\n",
       "      <td>286</td>\n",
       "      <td>4</td>\n",
       "      <td>0</td>\n",
       "    </tr>\n",
       "    <tr>\n",
       "      <th>43027</th>\n",
       "      <td>259</td>\n",
       "      <td>298</td>\n",
       "      <td>4</td>\n",
       "      <td>0</td>\n",
       "    </tr>\n",
       "    <tr>\n",
       "      <th>21396</th>\n",
       "      <td>259</td>\n",
       "      <td>185</td>\n",
       "      <td>4</td>\n",
       "      <td>0</td>\n",
       "    </tr>\n",
       "    <tr>\n",
       "      <th>82655</th>\n",
       "      <td>259</td>\n",
       "      <td>173</td>\n",
       "      <td>4</td>\n",
       "      <td>0</td>\n",
       "    </tr>\n",
       "    <tr>\n",
       "      <th>...</th>\n",
       "      <td>...</td>\n",
       "      <td>...</td>\n",
       "      <td>...</td>\n",
       "      <td>...</td>\n",
       "    </tr>\n",
       "    <tr>\n",
       "      <th>46773</th>\n",
       "      <td>729</td>\n",
       "      <td>689</td>\n",
       "      <td>4</td>\n",
       "      <td>999</td>\n",
       "    </tr>\n",
       "    <tr>\n",
       "      <th>73008</th>\n",
       "      <td>729</td>\n",
       "      <td>313</td>\n",
       "      <td>3</td>\n",
       "      <td>999</td>\n",
       "    </tr>\n",
       "    <tr>\n",
       "      <th>46574</th>\n",
       "      <td>729</td>\n",
       "      <td>328</td>\n",
       "      <td>3</td>\n",
       "      <td>999</td>\n",
       "    </tr>\n",
       "    <tr>\n",
       "      <th>64312</th>\n",
       "      <td>729</td>\n",
       "      <td>748</td>\n",
       "      <td>4</td>\n",
       "      <td>999</td>\n",
       "    </tr>\n",
       "    <tr>\n",
       "      <th>79208</th>\n",
       "      <td>729</td>\n",
       "      <td>272</td>\n",
       "      <td>4</td>\n",
       "      <td>1000</td>\n",
       "    </tr>\n",
       "  </tbody>\n",
       "</table>\n",
       "<p>100000 rows × 4 columns</p>\n",
       "</div>"
      ],
      "text/plain": [
       "       user_id  movie_id  rating  timestamp\n",
       "214        259       255       4          0\n",
       "83965      259       286       4          0\n",
       "43027      259       298       4          0\n",
       "21396      259       185       4          0\n",
       "82655      259       173       4          0\n",
       "...        ...       ...     ...        ...\n",
       "46773      729       689       4        999\n",
       "73008      729       313       3        999\n",
       "46574      729       328       3        999\n",
       "64312      729       748       4        999\n",
       "79208      729       272       4       1000\n",
       "\n",
       "[100000 rows x 4 columns]"
      ]
     },
     "execution_count": 18,
     "metadata": {},
     "output_type": "execute_result"
    }
   ],
   "source": [
    "new_df"
   ]
  },
  {
   "cell_type": "markdown",
   "id": "bc45b2a7",
   "metadata": {},
   "source": [
    "## Train PySpark ALS Model "
   ]
  },
  {
   "cell_type": "code",
   "execution_count": 19,
   "id": "1bf4516d",
   "metadata": {},
   "outputs": [],
   "source": [
    "def train_stream_test_split(df):\n",
    "    columns = [\"user_id\", \"movie_id\", \"rating\", \"timestamp\"]\n",
    "    als_data = []\n",
    "    stream_data = []\n",
    "    for user_id in df[\"user_id\"].unique():\n",
    "        user_df = df[df[\"user_id\"] == user_id].sort_values(\"timestamp\")\n",
    "        count = 0\n",
    "        for row in user_df.itertuples():\n",
    "            data = [row.user_id, row.movie_id, row.rating, row.timestamp]\n",
    "            if count < len(user_df) / 2:\n",
    "                als_data.append(data)\n",
    "            else:\n",
    "                stream_data.append(data)\n",
    "            count += 1\n",
    "    als_df = pd.DataFrame(data=als_data, columns=columns).sort_values(\"timestamp\")\n",
    "    movie_list = set(als_df['movie_id'])\n",
    "    stream_df = pd.DataFrame(data=stream_data, columns=columns).sort_values(\"timestamp\")\n",
    "    # Drop movies not seen before from stream\n",
    "    stream_df = stream_df.drop(stream_df[stream_df['movie_id'].map(lambda x: x not in movie_list)].index)\n",
    "    test_df = stream_df.copy()\n",
    "    return als_df, stream_df, test_df"
   ]
  },
  {
   "cell_type": "code",
   "execution_count": 20,
   "id": "255b8c3f",
   "metadata": {},
   "outputs": [],
   "source": [
    "als_df, stream_df, test_df = train_stream_test_split(new_df)"
   ]
  },
  {
   "cell_type": "code",
   "execution_count": 21,
   "id": "e70df952",
   "metadata": {},
   "outputs": [],
   "source": [
    "spark = SparkSession.builder.master('local').appName('als').getOrCreate()"
   ]
  },
  {
   "cell_type": "code",
   "execution_count": 22,
   "id": "a26d686d",
   "metadata": {},
   "outputs": [],
   "source": [
    "spark_als_df = spark.createDataFrame(als_df) \n",
    "spark_stream_df = spark.createDataFrame(stream_df)"
   ]
  },
  {
   "cell_type": "code",
   "execution_count": 24,
   "id": "07e9e19a",
   "metadata": {},
   "outputs": [],
   "source": [
    "als = ALS(\n",
    "         userCol=\"user_id\", \n",
    "         itemCol=\"movie_id\",\n",
    "         ratingCol=\"rating\", \n",
    "         nonnegative = True, \n",
    "         implicitPrefs = False,\n",
    "         coldStartStrategy=\"drop\",\n",
    "         rank=150,\n",
    "         maxIter=10,\n",
    "         regParam=.1\n",
    ")"
   ]
  },
  {
   "cell_type": "code",
   "execution_count": 25,
   "id": "929f4ae8",
   "metadata": {},
   "outputs": [],
   "source": [
    "model=als.fit(spark_als_df)"
   ]
  },
  {
   "cell_type": "code",
   "execution_count": 26,
   "id": "181414b9",
   "metadata": {},
   "outputs": [
    {
     "data": {
      "text/plain": [
       "0.9815395865331437"
      ]
     },
     "execution_count": 26,
     "metadata": {},
     "output_type": "execute_result"
    }
   ],
   "source": [
    "predictions = model.transform(spark_stream_df)\n",
    "evaluator = RegressionEvaluator().setMetricName(\"rmse\").setLabelCol(\"rating\").setPredictionCol(\"prediction\")\n",
    "rmse = evaluator.evaluate(predictions)\n",
    "rmse"
   ]
  },
  {
   "cell_type": "markdown",
   "id": "02a06cf0",
   "metadata": {},
   "source": [
    "## Save Features CSV"
   ]
  },
  {
   "cell_type": "code",
   "execution_count": 34,
   "id": "bb217060",
   "metadata": {},
   "outputs": [
    {
     "data": {
      "text/plain": [
       "'/data/wooders/ralf-vldb//datasets/ml-100k-features'"
      ]
     },
     "execution_count": 34,
     "metadata": {},
     "output_type": "execute_result"
    }
   ],
   "source": [
    "name = \"ml-100k-features\"\n",
    "dataset_dir = read_config()[\"dataset_dir\"] + \"/\" + name\n",
    "dataset_dir"
   ]
  },
  {
   "cell_type": "code",
   "execution_count": 36,
   "id": "50217c36",
   "metadata": {},
   "outputs": [],
   "source": [
    "model.itemFactors.toPandas().sort_values('id').to_csv(f'{dataset_dir}/movie_features.csv', index = False)\n",
    "model.userFactors.toPandas().sort_values('id').to_csv(f'{dataset_dir}/user_features.csv', index = False)"
   ]
  },
  {
   "cell_type": "code",
   "execution_count": 37,
   "id": "49ced130",
   "metadata": {},
   "outputs": [
    {
     "name": "stdout",
     "output_type": "stream",
     "text": [
      "49442\n"
     ]
    }
   ],
   "source": [
    "stream_df = stream_df.sort_values('timestamp')\n",
    "new_timestamp = [i // squash_amount for i in range(1, len(stream_df)+1)]\n",
    "stream_df['timestamp'] = new_timestamp\n",
    "print(len(stream_df))\n",
    "stream_df.to_csv(f'{dataset_dir}/ratings.csv', index = False)"
   ]
  },
  {
   "cell_type": "code",
   "execution_count": 38,
   "id": "7f8fd9b3",
   "metadata": {},
   "outputs": [
    {
     "name": "stdout",
     "output_type": "stream",
     "text": [
      "vldb/datasets ml-100k-features /ml-100k-features/ratings.csv\n",
      "uploading /data/wooders/ralf-vldb//datasets/ml-100k-features vldb/datasets vldb/datasets/ml-100k-features/ratings.csv\n",
      "vldb/datasets ml-100k-features /ml-100k-features/user_features.csv\n",
      "uploading /data/wooders/ralf-vldb//datasets/ml-100k-features vldb/datasets vldb/datasets/ml-100k-features/user_features.csv\n",
      "vldb/datasets ml-100k-features /ml-100k-features/movie_features.csv\n",
      "uploading /data/wooders/ralf-vldb//datasets/ml-100k-features vldb/datasets vldb/datasets/ml-100k-features/movie_features.csv\n"
     ]
    },
    {
     "data": {
      "text/plain": [
       "'vldb/datasets/ml-100k-features'"
      ]
     },
     "execution_count": 38,
     "metadata": {},
     "output_type": "execute_result"
    }
   ],
   "source": [
    "log_dataset(name)"
   ]
  },
  {
   "cell_type": "code",
   "execution_count": null,
   "id": "c9ba0af4",
   "metadata": {},
   "outputs": [],
   "source": []
  }
 ],
 "metadata": {
  "kernelspec": {
   "display_name": "Python 3",
   "language": "python",
   "name": "python3"
  },
  "language_info": {
   "codemirror_mode": {
    "name": "ipython",
    "version": 3
   },
   "file_extension": ".py",
   "mimetype": "text/x-python",
   "name": "python",
   "nbconvert_exporter": "python",
   "pygments_lexer": "ipython3",
   "version": "3.8.8"
  }
 },
 "nbformat": 4,
 "nbformat_minor": 5
}
