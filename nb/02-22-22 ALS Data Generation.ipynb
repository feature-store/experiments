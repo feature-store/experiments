{
 "cells": [
  {
   "cell_type": "code",
   "execution_count": 28,
   "id": "7baaa590",
   "metadata": {},
   "outputs": [
    {
     "name": "stdout",
     "output_type": "stream",
     "text": [
      "The autoreload extension is already loaded. To reload it, use:\n",
      "  %reload_ext autoreload\n"
     ]
    }
   ],
   "source": [
    "import pandas as pd\n",
    "from pyspark.sql import SparkSession\n",
    "from pyspark.ml.evaluation import RegressionEvaluator\n",
    "from pyspark.ml.recommendation import ALS\n",
    "\n",
    "\n",
    "import sys \n",
    "sys.path.insert(1, \"../\")\n",
    "from workloads.util import use_results, use_dataset, read_config, log_dataset\n",
    "\n",
    "%load_ext autoreload\n",
    "%autoreload 2"
   ]
  },
  {
   "cell_type": "code",
   "execution_count": 43,
   "id": "393d0147",
   "metadata": {},
   "outputs": [
    {
     "name": "stdout",
     "output_type": "stream",
     "text": [
      "/data/wooders/ralf-vldb//datasets/ml-100k\n"
     ]
    }
   ],
   "source": [
    "dataset_dir = use_dataset(\"ml-100k\")"
   ]
  },
  {
   "cell_type": "code",
   "execution_count": 76,
   "id": "10b2fa2f",
   "metadata": {},
   "outputs": [
    {
     "data": {
      "text/html": [
       "<div>\n",
       "<style scoped>\n",
       "    .dataframe tbody tr th:only-of-type {\n",
       "        vertical-align: middle;\n",
       "    }\n",
       "\n",
       "    .dataframe tbody tr th {\n",
       "        vertical-align: top;\n",
       "    }\n",
       "\n",
       "    .dataframe thead th {\n",
       "        text-align: right;\n",
       "    }\n",
       "</style>\n",
       "<table border=\"1\" class=\"dataframe\">\n",
       "  <thead>\n",
       "    <tr style=\"text-align: right;\">\n",
       "      <th></th>\n",
       "      <th>user_id</th>\n",
       "      <th>movie_id</th>\n",
       "      <th>rating</th>\n",
       "      <th>timestamp</th>\n",
       "    </tr>\n",
       "  </thead>\n",
       "  <tbody>\n",
       "    <tr>\n",
       "      <th>214</th>\n",
       "      <td>259</td>\n",
       "      <td>255</td>\n",
       "      <td>4</td>\n",
       "      <td>874724710</td>\n",
       "    </tr>\n",
       "    <tr>\n",
       "      <th>83965</th>\n",
       "      <td>259</td>\n",
       "      <td>286</td>\n",
       "      <td>4</td>\n",
       "      <td>874724727</td>\n",
       "    </tr>\n",
       "    <tr>\n",
       "      <th>43027</th>\n",
       "      <td>259</td>\n",
       "      <td>298</td>\n",
       "      <td>4</td>\n",
       "      <td>874724754</td>\n",
       "    </tr>\n",
       "    <tr>\n",
       "      <th>21396</th>\n",
       "      <td>259</td>\n",
       "      <td>185</td>\n",
       "      <td>4</td>\n",
       "      <td>874724781</td>\n",
       "    </tr>\n",
       "    <tr>\n",
       "      <th>82655</th>\n",
       "      <td>259</td>\n",
       "      <td>173</td>\n",
       "      <td>4</td>\n",
       "      <td>874724843</td>\n",
       "    </tr>\n",
       "    <tr>\n",
       "      <th>...</th>\n",
       "      <td>...</td>\n",
       "      <td>...</td>\n",
       "      <td>...</td>\n",
       "      <td>...</td>\n",
       "    </tr>\n",
       "    <tr>\n",
       "      <th>46773</th>\n",
       "      <td>729</td>\n",
       "      <td>689</td>\n",
       "      <td>4</td>\n",
       "      <td>893286638</td>\n",
       "    </tr>\n",
       "    <tr>\n",
       "      <th>73008</th>\n",
       "      <td>729</td>\n",
       "      <td>313</td>\n",
       "      <td>3</td>\n",
       "      <td>893286638</td>\n",
       "    </tr>\n",
       "    <tr>\n",
       "      <th>46574</th>\n",
       "      <td>729</td>\n",
       "      <td>328</td>\n",
       "      <td>3</td>\n",
       "      <td>893286638</td>\n",
       "    </tr>\n",
       "    <tr>\n",
       "      <th>64312</th>\n",
       "      <td>729</td>\n",
       "      <td>748</td>\n",
       "      <td>4</td>\n",
       "      <td>893286638</td>\n",
       "    </tr>\n",
       "    <tr>\n",
       "      <th>79208</th>\n",
       "      <td>729</td>\n",
       "      <td>272</td>\n",
       "      <td>4</td>\n",
       "      <td>893286638</td>\n",
       "    </tr>\n",
       "  </tbody>\n",
       "</table>\n",
       "<p>100000 rows × 4 columns</p>\n",
       "</div>"
      ],
      "text/plain": [
       "       user_id  movie_id  rating  timestamp\n",
       "214        259       255       4  874724710\n",
       "83965      259       286       4  874724727\n",
       "43027      259       298       4  874724754\n",
       "21396      259       185       4  874724781\n",
       "82655      259       173       4  874724843\n",
       "...        ...       ...     ...        ...\n",
       "46773      729       689       4  893286638\n",
       "73008      729       313       3  893286638\n",
       "46574      729       328       3  893286638\n",
       "64312      729       748       4  893286638\n",
       "79208      729       272       4  893286638\n",
       "\n",
       "[100000 rows x 4 columns]"
      ]
     },
     "execution_count": 76,
     "metadata": {},
     "output_type": "execute_result"
    }
   ],
   "source": [
    "ratings_path = f\"{dataset_dir}/u.data\"\n",
    "df = pd.read_csv(ratings_path, sep = '\\t', names = [\"user_id\", \"movie_id\", \"rating\", \"timestamp\"]).sort_values('timestamp')\n",
    "df"
   ]
  },
  {
   "cell_type": "code",
   "execution_count": 77,
   "id": "b2bb0207",
   "metadata": {},
   "outputs": [],
   "source": [
    "#users = list(set(df.user_id.tolist()))\n",
    "#user_start_ts = {user: df[df[\"user_id\"] == user].timestamp.min() for user in users}\n",
    "#df.timestamp = df.apply(lambda x: x[\"timestamp\"] - user_start_ts[x[\"user_id\"]], axis=1)"
   ]
  },
  {
   "cell_type": "code",
   "execution_count": 78,
   "id": "d9e6e4c1",
   "metadata": {},
   "outputs": [
    {
     "data": {
      "text/plain": [
       "18561928"
      ]
     },
     "execution_count": 78,
     "metadata": {},
     "output_type": "execute_result"
    }
   ],
   "source": [
    "df.timestamp.max() - df.timestamp.min() "
   ]
  },
  {
   "cell_type": "code",
   "execution_count": 79,
   "id": "7b1a12ca",
   "metadata": {},
   "outputs": [
    {
     "data": {
      "text/plain": [
       "385088"
      ]
     },
     "execution_count": 79,
     "metadata": {},
     "output_type": "execute_result"
    }
   ],
   "source": [
    "df[df[\"user_id\"] == 148].timestamp.max() - df[df[\"user_id\"] == 148].timestamp.min()"
   ]
  },
  {
   "cell_type": "code",
   "execution_count": 9,
   "id": "6a661837",
   "metadata": {},
   "outputs": [],
   "source": [
    "squash_amount = 100"
   ]
  },
  {
   "cell_type": "code",
   "execution_count": 39,
   "id": "7b02e408",
   "metadata": {},
   "outputs": [],
   "source": [
    "new_timestamp = [i // squash_amount for i in range(1, len(df)+1)]"
   ]
  },
  {
   "cell_type": "code",
   "execution_count": 17,
   "id": "d51611d3",
   "metadata": {},
   "outputs": [],
   "source": [
    "new_df = df.drop('timestamp', 1)\n",
    "new_df['timestamp'] = new_timestamp"
   ]
  },
  {
   "cell_type": "code",
   "execution_count": 59,
   "id": "a15c6179",
   "metadata": {},
   "outputs": [
    {
     "data": {
      "text/html": [
       "<div>\n",
       "<style scoped>\n",
       "    .dataframe tbody tr th:only-of-type {\n",
       "        vertical-align: middle;\n",
       "    }\n",
       "\n",
       "    .dataframe tbody tr th {\n",
       "        vertical-align: top;\n",
       "    }\n",
       "\n",
       "    .dataframe thead th {\n",
       "        text-align: right;\n",
       "    }\n",
       "</style>\n",
       "<table border=\"1\" class=\"dataframe\">\n",
       "  <thead>\n",
       "    <tr style=\"text-align: right;\">\n",
       "      <th></th>\n",
       "      <th>user_id</th>\n",
       "      <th>movie_id</th>\n",
       "      <th>rating</th>\n",
       "      <th>timestamp</th>\n",
       "    </tr>\n",
       "  </thead>\n",
       "  <tbody>\n",
       "    <tr>\n",
       "      <th>99336</th>\n",
       "      <td>148</td>\n",
       "      <td>194</td>\n",
       "      <td>5</td>\n",
       "      <td>125</td>\n",
       "    </tr>\n",
       "    <tr>\n",
       "      <th>33589</th>\n",
       "      <td>148</td>\n",
       "      <td>496</td>\n",
       "      <td>3</td>\n",
       "      <td>125</td>\n",
       "    </tr>\n",
       "    <tr>\n",
       "      <th>72245</th>\n",
       "      <td>148</td>\n",
       "      <td>174</td>\n",
       "      <td>5</td>\n",
       "      <td>125</td>\n",
       "    </tr>\n",
       "    <tr>\n",
       "      <th>12982</th>\n",
       "      <td>148</td>\n",
       "      <td>1039</td>\n",
       "      <td>2</td>\n",
       "      <td>125</td>\n",
       "    </tr>\n",
       "    <tr>\n",
       "      <th>46538</th>\n",
       "      <td>148</td>\n",
       "      <td>168</td>\n",
       "      <td>5</td>\n",
       "      <td>125</td>\n",
       "    </tr>\n",
       "    <tr>\n",
       "      <th>...</th>\n",
       "      <td>...</td>\n",
       "      <td>...</td>\n",
       "      <td>...</td>\n",
       "      <td>...</td>\n",
       "    </tr>\n",
       "    <tr>\n",
       "      <th>7784</th>\n",
       "      <td>148</td>\n",
       "      <td>473</td>\n",
       "      <td>5</td>\n",
       "      <td>142</td>\n",
       "    </tr>\n",
       "    <tr>\n",
       "      <th>99511</th>\n",
       "      <td>148</td>\n",
       "      <td>127</td>\n",
       "      <td>1</td>\n",
       "      <td>142</td>\n",
       "    </tr>\n",
       "    <tr>\n",
       "      <th>32257</th>\n",
       "      <td>148</td>\n",
       "      <td>151</td>\n",
       "      <td>4</td>\n",
       "      <td>142</td>\n",
       "    </tr>\n",
       "    <tr>\n",
       "      <th>7203</th>\n",
       "      <td>148</td>\n",
       "      <td>1012</td>\n",
       "      <td>4</td>\n",
       "      <td>142</td>\n",
       "    </tr>\n",
       "    <tr>\n",
       "      <th>19382</th>\n",
       "      <td>148</td>\n",
       "      <td>993</td>\n",
       "      <td>4</td>\n",
       "      <td>142</td>\n",
       "    </tr>\n",
       "  </tbody>\n",
       "</table>\n",
       "<p>65 rows × 4 columns</p>\n",
       "</div>"
      ],
      "text/plain": [
       "       user_id  movie_id  rating  timestamp\n",
       "99336      148       194       5        125\n",
       "33589      148       496       3        125\n",
       "72245      148       174       5        125\n",
       "12982      148      1039       2        125\n",
       "46538      148       168       5        125\n",
       "...        ...       ...     ...        ...\n",
       "7784       148       473       5        142\n",
       "99511      148       127       1        142\n",
       "32257      148       151       4        142\n",
       "7203       148      1012       4        142\n",
       "19382      148       993       4        142\n",
       "\n",
       "[65 rows x 4 columns]"
      ]
     },
     "execution_count": 59,
     "metadata": {},
     "output_type": "execute_result"
    }
   ],
   "source": [
    "new_df[new_df[\"user_id\"] == 148]"
   ]
  },
  {
   "cell_type": "markdown",
   "id": "ec47c195",
   "metadata": {},
   "source": [
    "## Train PySpark ALS Model "
   ]
  },
  {
   "cell_type": "code",
   "execution_count": 19,
   "id": "5543864c",
   "metadata": {},
   "outputs": [],
   "source": [
    "def train_stream_test_split(df):\n",
    "    columns = [\"user_id\", \"movie_id\", \"rating\", \"timestamp\"]\n",
    "    als_data = []\n",
    "    stream_data = []\n",
    "    for user_id in df[\"user_id\"].unique():\n",
    "        user_df = df[df[\"user_id\"] == user_id].sort_values(\"timestamp\")\n",
    "        count = 0\n",
    "        for row in user_df.itertuples():\n",
    "            data = [row.user_id, row.movie_id, row.rating, row.timestamp]\n",
    "            if count < len(user_df) / 2:\n",
    "                als_data.append(data)\n",
    "            else:\n",
    "                stream_data.append(data)\n",
    "            count += 1\n",
    "    als_df = pd.DataFrame(data=als_data, columns=columns).sort_values(\"timestamp\")\n",
    "    movie_list = set(als_df['movie_id'])\n",
    "    stream_df = pd.DataFrame(data=stream_data, columns=columns).sort_values(\"timestamp\")\n",
    "    # Drop movies not seen before from stream\n",
    "    stream_df = stream_df.drop(stream_df[stream_df['movie_id'].map(lambda x: x not in movie_list)].index)\n",
    "    test_df = stream_df.copy()\n",
    "    return als_df, stream_df, test_df"
   ]
  },
  {
   "cell_type": "code",
   "execution_count": 20,
   "id": "645240df",
   "metadata": {},
   "outputs": [],
   "source": [
    "als_df, stream_df, test_df = train_stream_test_split(new_df)"
   ]
  },
  {
   "cell_type": "code",
   "execution_count": 21,
   "id": "4a3e9139",
   "metadata": {},
   "outputs": [],
   "source": [
    "spark = SparkSession.builder.master('local').appName('als').getOrCreate()"
   ]
  },
  {
   "cell_type": "code",
   "execution_count": 22,
   "id": "08472ff6",
   "metadata": {},
   "outputs": [],
   "source": [
    "spark_als_df = spark.createDataFrame(als_df) \n",
    "spark_stream_df = spark.createDataFrame(stream_df)"
   ]
  },
  {
   "cell_type": "code",
   "execution_count": 24,
   "id": "ff59cd32",
   "metadata": {},
   "outputs": [],
   "source": [
    "als = ALS(\n",
    "         userCol=\"user_id\", \n",
    "         itemCol=\"movie_id\",\n",
    "         ratingCol=\"rating\", \n",
    "         nonnegative = True, \n",
    "         implicitPrefs = False,\n",
    "         coldStartStrategy=\"drop\",\n",
    "         rank=150,\n",
    "         maxIter=10,\n",
    "         regParam=.1\n",
    ")"
   ]
  },
  {
   "cell_type": "code",
   "execution_count": 25,
   "id": "924ad16a",
   "metadata": {},
   "outputs": [],
   "source": [
    "model=als.fit(spark_als_df)"
   ]
  },
  {
   "cell_type": "code",
   "execution_count": 26,
   "id": "0e455f0c",
   "metadata": {},
   "outputs": [
    {
     "data": {
      "text/plain": [
       "0.9815395865331437"
      ]
     },
     "execution_count": 26,
     "metadata": {},
     "output_type": "execute_result"
    }
   ],
   "source": [
    "predictions = model.transform(spark_stream_df)\n",
    "evaluator = RegressionEvaluator().setMetricName(\"rmse\").setLabelCol(\"rating\").setPredictionCol(\"prediction\")\n",
    "rmse = evaluator.evaluate(predictions)\n",
    "rmse"
   ]
  },
  {
   "cell_type": "markdown",
   "id": "b9f8ba40",
   "metadata": {},
   "source": [
    "## Save Features CSV"
   ]
  },
  {
   "cell_type": "code",
   "execution_count": 34,
   "id": "d71ea5a7",
   "metadata": {},
   "outputs": [
    {
     "data": {
      "text/plain": [
       "'/data/wooders/ralf-vldb//datasets/ml-100k-features'"
      ]
     },
     "execution_count": 34,
     "metadata": {},
     "output_type": "execute_result"
    }
   ],
   "source": [
    "name = \"ml-100k-features\"\n",
    "dataset_dir = read_config()[\"dataset_dir\"] + \"/\" + name\n",
    "dataset_dir"
   ]
  },
  {
   "cell_type": "code",
   "execution_count": 36,
   "id": "a73204d0",
   "metadata": {},
   "outputs": [],
   "source": [
    "model.itemFactors.toPandas().sort_values('id').to_csv(f'{dataset_dir}/movie_features.csv', index = False)\n",
    "model.userFactors.toPandas().sort_values('id').to_csv(f'{dataset_dir}/user_features.csv', index = False)"
   ]
  },
  {
   "cell_type": "code",
   "execution_count": 37,
   "id": "bf3dfcb2",
   "metadata": {},
   "outputs": [
    {
     "name": "stdout",
     "output_type": "stream",
     "text": [
      "49442\n"
     ]
    }
   ],
   "source": [
    "stream_df = stream_df.sort_values('timestamp')\n",
    "new_timestamp = [i // squash_amount for i in range(1, len(stream_df)+1)]\n",
    "stream_df['timestamp'] = new_timestamp\n",
    "print(len(stream_df))\n",
    "stream_df.to_csv(f'{dataset_dir}/ratings.csv', index = False)"
   ]
  },
  {
   "cell_type": "code",
   "execution_count": 38,
   "id": "c90ed609",
   "metadata": {},
   "outputs": [
    {
     "name": "stdout",
     "output_type": "stream",
     "text": [
      "vldb/datasets ml-100k-features /ml-100k-features/ratings.csv\n",
      "uploading /data/wooders/ralf-vldb//datasets/ml-100k-features vldb/datasets vldb/datasets/ml-100k-features/ratings.csv\n",
      "vldb/datasets ml-100k-features /ml-100k-features/user_features.csv\n",
      "uploading /data/wooders/ralf-vldb//datasets/ml-100k-features vldb/datasets vldb/datasets/ml-100k-features/user_features.csv\n",
      "vldb/datasets ml-100k-features /ml-100k-features/movie_features.csv\n",
      "uploading /data/wooders/ralf-vldb//datasets/ml-100k-features vldb/datasets vldb/datasets/ml-100k-features/movie_features.csv\n"
     ]
    },
    {
     "data": {
      "text/plain": [
       "'vldb/datasets/ml-100k-features'"
      ]
     },
     "execution_count": 38,
     "metadata": {},
     "output_type": "execute_result"
    }
   ],
   "source": [
    "log_dataset(name)"
   ]
  },
  {
   "cell_type": "code",
   "execution_count": 41,
   "id": "a2cac680",
   "metadata": {},
   "outputs": [
    {
     "data": {
      "text/html": [
       "<div>\n",
       "<style scoped>\n",
       "    .dataframe tbody tr th:only-of-type {\n",
       "        vertical-align: middle;\n",
       "    }\n",
       "\n",
       "    .dataframe tbody tr th {\n",
       "        vertical-align: top;\n",
       "    }\n",
       "\n",
       "    .dataframe thead th {\n",
       "        text-align: right;\n",
       "    }\n",
       "</style>\n",
       "<table border=\"1\" class=\"dataframe\">\n",
       "  <thead>\n",
       "    <tr style=\"text-align: right;\">\n",
       "      <th></th>\n",
       "      <th>user_id</th>\n",
       "      <th>movie_id</th>\n",
       "      <th>rating</th>\n",
       "      <th>timestamp</th>\n",
       "    </tr>\n",
       "  </thead>\n",
       "  <tbody>\n",
       "    <tr>\n",
       "      <th>8936</th>\n",
       "      <td>148</td>\n",
       "      <td>191</td>\n",
       "      <td>1</td>\n",
       "      <td>48</td>\n",
       "    </tr>\n",
       "    <tr>\n",
       "      <th>8938</th>\n",
       "      <td>148</td>\n",
       "      <td>169</td>\n",
       "      <td>5</td>\n",
       "      <td>48</td>\n",
       "    </tr>\n",
       "    <tr>\n",
       "      <th>8940</th>\n",
       "      <td>148</td>\n",
       "      <td>8</td>\n",
       "      <td>4</td>\n",
       "      <td>48</td>\n",
       "    </tr>\n",
       "    <tr>\n",
       "      <th>8941</th>\n",
       "      <td>148</td>\n",
       "      <td>501</td>\n",
       "      <td>4</td>\n",
       "      <td>48</td>\n",
       "    </tr>\n",
       "    <tr>\n",
       "      <th>8937</th>\n",
       "      <td>148</td>\n",
       "      <td>234</td>\n",
       "      <td>3</td>\n",
       "      <td>48</td>\n",
       "    </tr>\n",
       "    <tr>\n",
       "      <th>8939</th>\n",
       "      <td>148</td>\n",
       "      <td>596</td>\n",
       "      <td>5</td>\n",
       "      <td>48</td>\n",
       "    </tr>\n",
       "    <tr>\n",
       "      <th>8942</th>\n",
       "      <td>148</td>\n",
       "      <td>132</td>\n",
       "      <td>4</td>\n",
       "      <td>49</td>\n",
       "    </tr>\n",
       "    <tr>\n",
       "      <th>8963</th>\n",
       "      <td>148</td>\n",
       "      <td>181</td>\n",
       "      <td>5</td>\n",
       "      <td>55</td>\n",
       "    </tr>\n",
       "    <tr>\n",
       "      <th>8946</th>\n",
       "      <td>148</td>\n",
       "      <td>408</td>\n",
       "      <td>5</td>\n",
       "      <td>55</td>\n",
       "    </tr>\n",
       "    <tr>\n",
       "      <th>8962</th>\n",
       "      <td>148</td>\n",
       "      <td>1012</td>\n",
       "      <td>4</td>\n",
       "      <td>55</td>\n",
       "    </tr>\n",
       "    <tr>\n",
       "      <th>8964</th>\n",
       "      <td>148</td>\n",
       "      <td>473</td>\n",
       "      <td>5</td>\n",
       "      <td>55</td>\n",
       "    </tr>\n",
       "    <tr>\n",
       "      <th>8967</th>\n",
       "      <td>148</td>\n",
       "      <td>993</td>\n",
       "      <td>4</td>\n",
       "      <td>55</td>\n",
       "    </tr>\n",
       "    <tr>\n",
       "      <th>8966</th>\n",
       "      <td>148</td>\n",
       "      <td>151</td>\n",
       "      <td>4</td>\n",
       "      <td>55</td>\n",
       "    </tr>\n",
       "    <tr>\n",
       "      <th>8959</th>\n",
       "      <td>148</td>\n",
       "      <td>549</td>\n",
       "      <td>3</td>\n",
       "      <td>55</td>\n",
       "    </tr>\n",
       "    <tr>\n",
       "      <th>8961</th>\n",
       "      <td>148</td>\n",
       "      <td>507</td>\n",
       "      <td>5</td>\n",
       "      <td>55</td>\n",
       "    </tr>\n",
       "    <tr>\n",
       "      <th>8948</th>\n",
       "      <td>148</td>\n",
       "      <td>222</td>\n",
       "      <td>4</td>\n",
       "      <td>55</td>\n",
       "    </tr>\n",
       "    <tr>\n",
       "      <th>8960</th>\n",
       "      <td>148</td>\n",
       "      <td>56</td>\n",
       "      <td>5</td>\n",
       "      <td>55</td>\n",
       "    </tr>\n",
       "    <tr>\n",
       "      <th>8958</th>\n",
       "      <td>148</td>\n",
       "      <td>185</td>\n",
       "      <td>1</td>\n",
       "      <td>55</td>\n",
       "    </tr>\n",
       "    <tr>\n",
       "      <th>8947</th>\n",
       "      <td>148</td>\n",
       "      <td>663</td>\n",
       "      <td>5</td>\n",
       "      <td>55</td>\n",
       "    </tr>\n",
       "    <tr>\n",
       "      <th>8957</th>\n",
       "      <td>148</td>\n",
       "      <td>164</td>\n",
       "      <td>4</td>\n",
       "      <td>55</td>\n",
       "    </tr>\n",
       "    <tr>\n",
       "      <th>8956</th>\n",
       "      <td>148</td>\n",
       "      <td>969</td>\n",
       "      <td>4</td>\n",
       "      <td>55</td>\n",
       "    </tr>\n",
       "    <tr>\n",
       "      <th>8955</th>\n",
       "      <td>148</td>\n",
       "      <td>190</td>\n",
       "      <td>2</td>\n",
       "      <td>55</td>\n",
       "    </tr>\n",
       "    <tr>\n",
       "      <th>8949</th>\n",
       "      <td>148</td>\n",
       "      <td>529</td>\n",
       "      <td>5</td>\n",
       "      <td>55</td>\n",
       "    </tr>\n",
       "    <tr>\n",
       "      <th>8944</th>\n",
       "      <td>148</td>\n",
       "      <td>588</td>\n",
       "      <td>4</td>\n",
       "      <td>55</td>\n",
       "    </tr>\n",
       "    <tr>\n",
       "      <th>8945</th>\n",
       "      <td>148</td>\n",
       "      <td>78</td>\n",
       "      <td>1</td>\n",
       "      <td>55</td>\n",
       "    </tr>\n",
       "    <tr>\n",
       "      <th>8953</th>\n",
       "      <td>148</td>\n",
       "      <td>89</td>\n",
       "      <td>5</td>\n",
       "      <td>55</td>\n",
       "    </tr>\n",
       "    <tr>\n",
       "      <th>8943</th>\n",
       "      <td>148</td>\n",
       "      <td>227</td>\n",
       "      <td>4</td>\n",
       "      <td>55</td>\n",
       "    </tr>\n",
       "    <tr>\n",
       "      <th>8954</th>\n",
       "      <td>148</td>\n",
       "      <td>238</td>\n",
       "      <td>4</td>\n",
       "      <td>55</td>\n",
       "    </tr>\n",
       "    <tr>\n",
       "      <th>8950</th>\n",
       "      <td>148</td>\n",
       "      <td>521</td>\n",
       "      <td>1</td>\n",
       "      <td>55</td>\n",
       "    </tr>\n",
       "    <tr>\n",
       "      <th>8952</th>\n",
       "      <td>148</td>\n",
       "      <td>116</td>\n",
       "      <td>5</td>\n",
       "      <td>55</td>\n",
       "    </tr>\n",
       "    <tr>\n",
       "      <th>8951</th>\n",
       "      <td>148</td>\n",
       "      <td>209</td>\n",
       "      <td>5</td>\n",
       "      <td>55</td>\n",
       "    </tr>\n",
       "    <tr>\n",
       "      <th>8965</th>\n",
       "      <td>148</td>\n",
       "      <td>127</td>\n",
       "      <td>1</td>\n",
       "      <td>56</td>\n",
       "    </tr>\n",
       "  </tbody>\n",
       "</table>\n",
       "</div>"
      ],
      "text/plain": [
       "      user_id  movie_id  rating  timestamp\n",
       "8936      148       191       1         48\n",
       "8938      148       169       5         48\n",
       "8940      148         8       4         48\n",
       "8941      148       501       4         48\n",
       "8937      148       234       3         48\n",
       "8939      148       596       5         48\n",
       "8942      148       132       4         49\n",
       "8963      148       181       5         55\n",
       "8946      148       408       5         55\n",
       "8962      148      1012       4         55\n",
       "8964      148       473       5         55\n",
       "8967      148       993       4         55\n",
       "8966      148       151       4         55\n",
       "8959      148       549       3         55\n",
       "8961      148       507       5         55\n",
       "8948      148       222       4         55\n",
       "8960      148        56       5         55\n",
       "8958      148       185       1         55\n",
       "8947      148       663       5         55\n",
       "8957      148       164       4         55\n",
       "8956      148       969       4         55\n",
       "8955      148       190       2         55\n",
       "8949      148       529       5         55\n",
       "8944      148       588       4         55\n",
       "8945      148        78       1         55\n",
       "8953      148        89       5         55\n",
       "8943      148       227       4         55\n",
       "8954      148       238       4         55\n",
       "8950      148       521       1         55\n",
       "8952      148       116       5         55\n",
       "8951      148       209       5         55\n",
       "8965      148       127       1         56"
      ]
     },
     "execution_count": 41,
     "metadata": {},
     "output_type": "execute_result"
    }
   ],
   "source": [
    "stream_df[stream_df[\"user_id\"] == 148]"
   ]
  },
  {
   "cell_type": "code",
   "execution_count": null,
   "id": "8bda186c",
   "metadata": {},
   "outputs": [],
   "source": []
  }
 ],
 "metadata": {
  "kernelspec": {
   "display_name": "Python 3",
   "language": "python",
   "name": "python3"
  },
  "language_info": {
   "codemirror_mode": {
    "name": "ipython",
    "version": 3
   },
   "file_extension": ".py",
   "mimetype": "text/x-python",
   "name": "python",
   "nbconvert_exporter": "python",
   "pygments_lexer": "ipython3",
   "version": "3.8.8"
  }
 },
 "nbformat": 4,
 "nbformat_minor": 5
}
