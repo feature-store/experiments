{
 "cells": [
  {
   "cell_type": "code",
   "execution_count": 4,
   "id": "15f8e033",
   "metadata": {},
   "outputs": [
    {
     "name": "stdout",
     "output_type": "stream",
     "text": [
      "The autoreload extension is already loaded. To reload it, use:\n",
      "  %reload_ext autoreload\n"
     ]
    }
   ],
   "source": [
    "import pandas as pd\n",
    "from pyspark.sql import SparkSession\n",
    "from pyspark.ml.evaluation import RegressionEvaluator\n",
    "from pyspark.ml.recommendation import ALS\n",
    "\n",
    "\n",
    "import sys \n",
    "sys.path.insert(1, \"../\")\n",
    "from workloads.util import use_results, use_dataset, read_config, log_dataset\n",
    "\n",
    "%load_ext autoreload\n",
    "%autoreload 2"
   ]
  },
  {
   "cell_type": "markdown",
   "id": "70b87bd8",
   "metadata": {},
   "source": [
    "* model user arrival as poisson process \n",
    "* half dataset - consider only movies within that half of time \n",
    "* want to have new users - cold start problem \n",
    "* whenever spare updates - gradient updates and ALS solves \n",
    "* if past gradient was large - prioritize that update \n",
    "* movielens 1M is probably fine \n",
    "* SGD on one user - SGD on all the items (then until convergence?)\n",
    "\n",
    "1. just update the user \n",
    "2. allow for movie updates - update until convergence? (user, movie that the user clicked on, etc.) \n",
    "3. beginning of them (nothing for anything) "
   ]
  },
  {
   "cell_type": "code",
   "execution_count": 2,
   "id": "2ab247cf",
   "metadata": {},
   "outputs": [
    {
     "name": "stdout",
     "output_type": "stream",
     "text": [
      "/data/wooders/ralf-vldb//datasets/ml-25m\n"
     ]
    }
   ],
   "source": [
    "#dataset_dir = use_dataset(\"ml-100k\")\n",
    "#dataset_dir = use_dataset(\"ml-latest-small\")\n",
    "dataset_dir = use_dataset(\"ml-25m\")"
   ]
  },
  {
   "cell_type": "code",
   "execution_count": 3,
   "id": "f7091b55",
   "metadata": {},
   "outputs": [
    {
     "data": {
      "text/html": [
       "<div>\n",
       "<style scoped>\n",
       "    .dataframe tbody tr th:only-of-type {\n",
       "        vertical-align: middle;\n",
       "    }\n",
       "\n",
       "    .dataframe tbody tr th {\n",
       "        vertical-align: top;\n",
       "    }\n",
       "\n",
       "    .dataframe thead th {\n",
       "        text-align: right;\n",
       "    }\n",
       "</style>\n",
       "<table border=\"1\" class=\"dataframe\">\n",
       "  <thead>\n",
       "    <tr style=\"text-align: right;\">\n",
       "      <th></th>\n",
       "      <th>user_id</th>\n",
       "      <th>movie_id</th>\n",
       "      <th>rating</th>\n",
       "      <th>timestamp</th>\n",
       "    </tr>\n",
       "  </thead>\n",
       "  <tbody>\n",
       "    <tr>\n",
       "      <th>0</th>\n",
       "      <td>1</td>\n",
       "      <td>296</td>\n",
       "      <td>5.0</td>\n",
       "      <td>1147880044</td>\n",
       "    </tr>\n",
       "    <tr>\n",
       "      <th>1</th>\n",
       "      <td>1</td>\n",
       "      <td>306</td>\n",
       "      <td>3.5</td>\n",
       "      <td>1147868817</td>\n",
       "    </tr>\n",
       "    <tr>\n",
       "      <th>2</th>\n",
       "      <td>1</td>\n",
       "      <td>307</td>\n",
       "      <td>5.0</td>\n",
       "      <td>1147868828</td>\n",
       "    </tr>\n",
       "    <tr>\n",
       "      <th>3</th>\n",
       "      <td>1</td>\n",
       "      <td>665</td>\n",
       "      <td>5.0</td>\n",
       "      <td>1147878820</td>\n",
       "    </tr>\n",
       "    <tr>\n",
       "      <th>4</th>\n",
       "      <td>1</td>\n",
       "      <td>899</td>\n",
       "      <td>3.5</td>\n",
       "      <td>1147868510</td>\n",
       "    </tr>\n",
       "    <tr>\n",
       "      <th>...</th>\n",
       "      <td>...</td>\n",
       "      <td>...</td>\n",
       "      <td>...</td>\n",
       "      <td>...</td>\n",
       "    </tr>\n",
       "    <tr>\n",
       "      <th>25000090</th>\n",
       "      <td>162541</td>\n",
       "      <td>50872</td>\n",
       "      <td>4.5</td>\n",
       "      <td>1240953372</td>\n",
       "    </tr>\n",
       "    <tr>\n",
       "      <th>25000091</th>\n",
       "      <td>162541</td>\n",
       "      <td>55768</td>\n",
       "      <td>2.5</td>\n",
       "      <td>1240951998</td>\n",
       "    </tr>\n",
       "    <tr>\n",
       "      <th>25000092</th>\n",
       "      <td>162541</td>\n",
       "      <td>56176</td>\n",
       "      <td>2.0</td>\n",
       "      <td>1240950697</td>\n",
       "    </tr>\n",
       "    <tr>\n",
       "      <th>25000093</th>\n",
       "      <td>162541</td>\n",
       "      <td>58559</td>\n",
       "      <td>4.0</td>\n",
       "      <td>1240953434</td>\n",
       "    </tr>\n",
       "    <tr>\n",
       "      <th>25000094</th>\n",
       "      <td>162541</td>\n",
       "      <td>63876</td>\n",
       "      <td>5.0</td>\n",
       "      <td>1240952515</td>\n",
       "    </tr>\n",
       "  </tbody>\n",
       "</table>\n",
       "<p>25000095 rows × 4 columns</p>\n",
       "</div>"
      ],
      "text/plain": [
       "          user_id  movie_id  rating   timestamp\n",
       "0               1       296     5.0  1147880044\n",
       "1               1       306     3.5  1147868817\n",
       "2               1       307     5.0  1147868828\n",
       "3               1       665     5.0  1147878820\n",
       "4               1       899     3.5  1147868510\n",
       "...           ...       ...     ...         ...\n",
       "25000090   162541     50872     4.5  1240953372\n",
       "25000091   162541     55768     2.5  1240951998\n",
       "25000092   162541     56176     2.0  1240950697\n",
       "25000093   162541     58559     4.0  1240953434\n",
       "25000094   162541     63876     5.0  1240952515\n",
       "\n",
       "[25000095 rows x 4 columns]"
      ]
     },
     "execution_count": 3,
     "metadata": {},
     "output_type": "execute_result"
    }
   ],
   "source": [
    "#ratings_path = f\"{dataset_dir}/u.data\"\n",
    "ratings_path = f\"{dataset_dir}/ratings.csv\"\n",
    "#df = pd.read_csv(ratings_path, sep = '\\t', names = [\"user_id\", \"movie_id\", \"rating\", \"timestamp\"]).sort_values('timestamp')\n",
    "df = pd.read_csv(ratings_path) #, names = [\"userId\", \"movieId\", \"rating\", \"timestamp\"])\n",
    "df.columns = [\"user_id\", \"movie_id\", \"rating\", \"timestamp\"]\n",
    "df"
   ]
  },
  {
   "cell_type": "code",
   "execution_count": 14,
   "id": "01f42738",
   "metadata": {},
   "outputs": [],
   "source": [
    "df['datetime'] = pd.to_datetime(df['timestamp'], unit='s')"
   ]
  },
  {
   "cell_type": "code",
   "execution_count": 15,
   "id": "868ca3ac",
   "metadata": {},
   "outputs": [
    {
     "data": {
      "text/html": [
       "<div>\n",
       "<style scoped>\n",
       "    .dataframe tbody tr th:only-of-type {\n",
       "        vertical-align: middle;\n",
       "    }\n",
       "\n",
       "    .dataframe tbody tr th {\n",
       "        vertical-align: top;\n",
       "    }\n",
       "\n",
       "    .dataframe thead th {\n",
       "        text-align: right;\n",
       "    }\n",
       "</style>\n",
       "<table border=\"1\" class=\"dataframe\">\n",
       "  <thead>\n",
       "    <tr style=\"text-align: right;\">\n",
       "      <th></th>\n",
       "      <th>user_id</th>\n",
       "      <th>movie_id</th>\n",
       "      <th>rating</th>\n",
       "      <th>timestamp</th>\n",
       "      <th>datetime</th>\n",
       "    </tr>\n",
       "  </thead>\n",
       "  <tbody>\n",
       "    <tr>\n",
       "      <th>0</th>\n",
       "      <td>1</td>\n",
       "      <td>296</td>\n",
       "      <td>5.0</td>\n",
       "      <td>1147880044</td>\n",
       "      <td>2006-05-17 15:34:04</td>\n",
       "    </tr>\n",
       "    <tr>\n",
       "      <th>1</th>\n",
       "      <td>1</td>\n",
       "      <td>306</td>\n",
       "      <td>3.5</td>\n",
       "      <td>1147868817</td>\n",
       "      <td>2006-05-17 12:26:57</td>\n",
       "    </tr>\n",
       "    <tr>\n",
       "      <th>2</th>\n",
       "      <td>1</td>\n",
       "      <td>307</td>\n",
       "      <td>5.0</td>\n",
       "      <td>1147868828</td>\n",
       "      <td>2006-05-17 12:27:08</td>\n",
       "    </tr>\n",
       "    <tr>\n",
       "      <th>3</th>\n",
       "      <td>1</td>\n",
       "      <td>665</td>\n",
       "      <td>5.0</td>\n",
       "      <td>1147878820</td>\n",
       "      <td>2006-05-17 15:13:40</td>\n",
       "    </tr>\n",
       "    <tr>\n",
       "      <th>4</th>\n",
       "      <td>1</td>\n",
       "      <td>899</td>\n",
       "      <td>3.5</td>\n",
       "      <td>1147868510</td>\n",
       "      <td>2006-05-17 12:21:50</td>\n",
       "    </tr>\n",
       "    <tr>\n",
       "      <th>...</th>\n",
       "      <td>...</td>\n",
       "      <td>...</td>\n",
       "      <td>...</td>\n",
       "      <td>...</td>\n",
       "      <td>...</td>\n",
       "    </tr>\n",
       "    <tr>\n",
       "      <th>25000090</th>\n",
       "      <td>162541</td>\n",
       "      <td>50872</td>\n",
       "      <td>4.5</td>\n",
       "      <td>1240953372</td>\n",
       "      <td>2009-04-28 21:16:12</td>\n",
       "    </tr>\n",
       "    <tr>\n",
       "      <th>25000091</th>\n",
       "      <td>162541</td>\n",
       "      <td>55768</td>\n",
       "      <td>2.5</td>\n",
       "      <td>1240951998</td>\n",
       "      <td>2009-04-28 20:53:18</td>\n",
       "    </tr>\n",
       "    <tr>\n",
       "      <th>25000092</th>\n",
       "      <td>162541</td>\n",
       "      <td>56176</td>\n",
       "      <td>2.0</td>\n",
       "      <td>1240950697</td>\n",
       "      <td>2009-04-28 20:31:37</td>\n",
       "    </tr>\n",
       "    <tr>\n",
       "      <th>25000093</th>\n",
       "      <td>162541</td>\n",
       "      <td>58559</td>\n",
       "      <td>4.0</td>\n",
       "      <td>1240953434</td>\n",
       "      <td>2009-04-28 21:17:14</td>\n",
       "    </tr>\n",
       "    <tr>\n",
       "      <th>25000094</th>\n",
       "      <td>162541</td>\n",
       "      <td>63876</td>\n",
       "      <td>5.0</td>\n",
       "      <td>1240952515</td>\n",
       "      <td>2009-04-28 21:01:55</td>\n",
       "    </tr>\n",
       "  </tbody>\n",
       "</table>\n",
       "<p>25000095 rows × 5 columns</p>\n",
       "</div>"
      ],
      "text/plain": [
       "          user_id  movie_id  rating   timestamp            datetime\n",
       "0               1       296     5.0  1147880044 2006-05-17 15:34:04\n",
       "1               1       306     3.5  1147868817 2006-05-17 12:26:57\n",
       "2               1       307     5.0  1147868828 2006-05-17 12:27:08\n",
       "3               1       665     5.0  1147878820 2006-05-17 15:13:40\n",
       "4               1       899     3.5  1147868510 2006-05-17 12:21:50\n",
       "...           ...       ...     ...         ...                 ...\n",
       "25000090   162541     50872     4.5  1240953372 2009-04-28 21:16:12\n",
       "25000091   162541     55768     2.5  1240951998 2009-04-28 20:53:18\n",
       "25000092   162541     56176     2.0  1240950697 2009-04-28 20:31:37\n",
       "25000093   162541     58559     4.0  1240953434 2009-04-28 21:17:14\n",
       "25000094   162541     63876     5.0  1240952515 2009-04-28 21:01:55\n",
       "\n",
       "[25000095 rows x 5 columns]"
      ]
     },
     "execution_count": 15,
     "metadata": {},
     "output_type": "execute_result"
    }
   ],
   "source": [
    "df"
   ]
  },
  {
   "cell_type": "code",
   "execution_count": 7,
   "id": "6923e853",
   "metadata": {},
   "outputs": [],
   "source": [
    "df_small = df.head(10)"
   ]
  },
  {
   "cell_type": "code",
   "execution_count": 11,
   "id": "1934efd8",
   "metadata": {},
   "outputs": [
    {
     "data": {
      "text/plain": [
       "0   2006-05-17 15:34:04\n",
       "1   2006-05-17 12:26:57\n",
       "2   2006-05-17 12:27:08\n",
       "3   2006-05-17 15:13:40\n",
       "4   2006-05-17 12:21:50\n",
       "5   2006-05-17 12:21:35\n",
       "6   2006-05-17 12:27:06\n",
       "7   2006-05-17 15:05:26\n",
       "8   2006-05-17 12:27:19\n",
       "9   2006-05-17 12:20:14\n",
       "Name: timestamp, dtype: datetime64[ns]"
      ]
     },
     "execution_count": 11,
     "metadata": {},
     "output_type": "execute_result"
    }
   ],
   "source": [
    "pd.to_datetime(df_small['timestamp'],unit='s')"
   ]
  },
  {
   "cell_type": "code",
   "execution_count": 18,
   "id": "b55ab050",
   "metadata": {},
   "outputs": [
    {
     "data": {
      "text/plain": [
       "Timestamp('1995-01-09 11:46:49')"
      ]
     },
     "execution_count": 18,
     "metadata": {},
     "output_type": "execute_result"
    }
   ],
   "source": [
    "df.datetime.min()"
   ]
  },
  {
   "cell_type": "code",
   "execution_count": 19,
   "id": "04c72630",
   "metadata": {},
   "outputs": [
    {
     "data": {
      "text/plain": [
       "Timestamp('2019-11-21 09:15:03')"
      ]
     },
     "execution_count": 19,
     "metadata": {},
     "output_type": "execute_result"
    }
   ],
   "source": [
    "df.datetime.max()"
   ]
  },
  {
   "cell_type": "code",
   "execution_count": 21,
   "id": "1d45bc91",
   "metadata": {},
   "outputs": [
    {
     "data": {
      "text/plain": [
       "Timestamp('2006-05-17 12:14:13')"
      ]
     },
     "execution_count": 21,
     "metadata": {},
     "output_type": "execute_result"
    }
   ],
   "source": [
    "df[df[\"user_id\"] == 1].datetime.min()"
   ]
  },
  {
   "cell_type": "code",
   "execution_count": 22,
   "id": "bf8e0804",
   "metadata": {},
   "outputs": [
    {
     "data": {
      "text/plain": [
       "Timestamp('2006-05-17 15:34:15')"
      ]
     },
     "execution_count": 22,
     "metadata": {},
     "output_type": "execute_result"
    }
   ],
   "source": [
    "df[df[\"user_id\"] == 1].datetime.max()"
   ]
  },
  {
   "cell_type": "code",
   "execution_count": 24,
   "id": "b8d158c6",
   "metadata": {},
   "outputs": [],
   "source": [
    "user_range = df.groupby(\"user_id\").datetime.max() - df.groupby(\"user_id\").datetime.min()"
   ]
  },
  {
   "cell_type": "code",
   "execution_count": 34,
   "id": "7b1c6d08",
   "metadata": {},
   "outputs": [
    {
     "data": {
      "text/plain": [
       "user_id\n",
       "1           0 days 03:20:02\n",
       "2           0 days 00:41:39\n",
       "3        1465 days 12:08:04\n",
       "4           2 days 23:40:10\n",
       "5         322 days 05:57:46\n",
       "                ...        \n",
       "162537      0 days 00:18:06\n",
       "162538      0 days 01:21:11\n",
       "162539      0 days 00:17:48\n",
       "162540      2 days 00:33:26\n",
       "162541      0 days 01:57:22\n",
       "Name: datetime, Length: 162541, dtype: timedelta64[ns]"
      ]
     },
     "execution_count": 34,
     "metadata": {},
     "output_type": "execute_result"
    }
   ],
   "source": [
    "user_range"
   ]
  },
  {
   "cell_type": "code",
   "execution_count": 39,
   "id": "8039c668",
   "metadata": {},
   "outputs": [
    {
     "data": {
      "text/plain": [
       "user_id\n",
       "85727       0 days 00:00:00\n",
       "107927      0 days 00:00:00\n",
       "16603       0 days 00:00:00\n",
       "65824       0 days 00:00:00\n",
       "121119      0 days 00:00:00\n",
       "                ...        \n",
       "121934   8045 days 22:22:37\n",
       "62383    8067 days 22:35:30\n",
       "107681   8068 days 23:41:00\n",
       "39415    8077 days 17:07:31\n",
       "39905    8101 days 08:33:56\n",
       "Name: datetime, Length: 162541, dtype: timedelta64[ns]"
      ]
     },
     "execution_count": 39,
     "metadata": {},
     "output_type": "execute_result"
    }
   ],
   "source": [
    "user_range.sort_values()"
   ]
  },
  {
   "cell_type": "code",
   "execution_count": 68,
   "id": "5bc4031c",
   "metadata": {},
   "outputs": [],
   "source": [
    "df_time_sorted = df.sort_values(by=\"datetime\")"
   ]
  },
  {
   "cell_type": "code",
   "execution_count": 69,
   "id": "061b27dc",
   "metadata": {},
   "outputs": [
    {
     "data": {
      "text/html": [
       "<div>\n",
       "<style scoped>\n",
       "    .dataframe tbody tr th:only-of-type {\n",
       "        vertical-align: middle;\n",
       "    }\n",
       "\n",
       "    .dataframe tbody tr th {\n",
       "        vertical-align: top;\n",
       "    }\n",
       "\n",
       "    .dataframe thead th {\n",
       "        text-align: right;\n",
       "    }\n",
       "</style>\n",
       "<table border=\"1\" class=\"dataframe\">\n",
       "  <thead>\n",
       "    <tr style=\"text-align: right;\">\n",
       "      <th></th>\n",
       "      <th>user_id</th>\n",
       "      <th>movie_id</th>\n",
       "      <th>rating</th>\n",
       "      <th>timestamp</th>\n",
       "      <th>datetime</th>\n",
       "    </tr>\n",
       "  </thead>\n",
       "  <tbody>\n",
       "    <tr>\n",
       "      <th>326761</th>\n",
       "      <td>2262</td>\n",
       "      <td>21</td>\n",
       "      <td>3.0</td>\n",
       "      <td>789652009</td>\n",
       "      <td>1995-01-09 11:46:49</td>\n",
       "    </tr>\n",
       "    <tr>\n",
       "      <th>326810</th>\n",
       "      <td>2262</td>\n",
       "      <td>1079</td>\n",
       "      <td>3.0</td>\n",
       "      <td>789652009</td>\n",
       "      <td>1995-01-09 11:46:49</td>\n",
       "    </tr>\n",
       "    <tr>\n",
       "      <th>326767</th>\n",
       "      <td>2262</td>\n",
       "      <td>47</td>\n",
       "      <td>5.0</td>\n",
       "      <td>789652009</td>\n",
       "      <td>1995-01-09 11:46:49</td>\n",
       "    </tr>\n",
       "    <tr>\n",
       "      <th>15845015</th>\n",
       "      <td>102689</td>\n",
       "      <td>1</td>\n",
       "      <td>4.0</td>\n",
       "      <td>822873600</td>\n",
       "      <td>1996-01-29 00:00:00</td>\n",
       "    </tr>\n",
       "    <tr>\n",
       "      <th>15845023</th>\n",
       "      <td>102689</td>\n",
       "      <td>39</td>\n",
       "      <td>5.0</td>\n",
       "      <td>822873600</td>\n",
       "      <td>1996-01-29 00:00:00</td>\n",
       "    </tr>\n",
       "    <tr>\n",
       "      <th>...</th>\n",
       "      <td>...</td>\n",
       "      <td>...</td>\n",
       "      <td>...</td>\n",
       "      <td>...</td>\n",
       "      <td>...</td>\n",
       "    </tr>\n",
       "    <tr>\n",
       "      <th>13207880</th>\n",
       "      <td>85523</td>\n",
       "      <td>168252</td>\n",
       "      <td>4.0</td>\n",
       "      <td>1574327479</td>\n",
       "      <td>2019-11-21 09:11:19</td>\n",
       "    </tr>\n",
       "    <tr>\n",
       "      <th>1284508</th>\n",
       "      <td>8642</td>\n",
       "      <td>202101</td>\n",
       "      <td>2.0</td>\n",
       "      <td>1574327512</td>\n",
       "      <td>2019-11-21 09:11:52</td>\n",
       "    </tr>\n",
       "    <tr>\n",
       "      <th>13207893</th>\n",
       "      <td>85523</td>\n",
       "      <td>204704</td>\n",
       "      <td>4.0</td>\n",
       "      <td>1574327533</td>\n",
       "      <td>2019-11-21 09:12:13</td>\n",
       "    </tr>\n",
       "    <tr>\n",
       "      <th>1284464</th>\n",
       "      <td>8642</td>\n",
       "      <td>122914</td>\n",
       "      <td>4.0</td>\n",
       "      <td>1574327549</td>\n",
       "      <td>2019-11-21 09:12:29</td>\n",
       "    </tr>\n",
       "    <tr>\n",
       "      <th>13207877</th>\n",
       "      <td>85523</td>\n",
       "      <td>149406</td>\n",
       "      <td>4.5</td>\n",
       "      <td>1574327703</td>\n",
       "      <td>2019-11-21 09:15:03</td>\n",
       "    </tr>\n",
       "  </tbody>\n",
       "</table>\n",
       "<p>25000095 rows × 5 columns</p>\n",
       "</div>"
      ],
      "text/plain": [
       "          user_id  movie_id  rating   timestamp            datetime\n",
       "326761       2262        21     3.0   789652009 1995-01-09 11:46:49\n",
       "326810       2262      1079     3.0   789652009 1995-01-09 11:46:49\n",
       "326767       2262        47     5.0   789652009 1995-01-09 11:46:49\n",
       "15845015   102689         1     4.0   822873600 1996-01-29 00:00:00\n",
       "15845023   102689        39     5.0   822873600 1996-01-29 00:00:00\n",
       "...           ...       ...     ...         ...                 ...\n",
       "13207880    85523    168252     4.0  1574327479 2019-11-21 09:11:19\n",
       "1284508      8642    202101     2.0  1574327512 2019-11-21 09:11:52\n",
       "13207893    85523    204704     4.0  1574327533 2019-11-21 09:12:13\n",
       "1284464      8642    122914     4.0  1574327549 2019-11-21 09:12:29\n",
       "13207877    85523    149406     4.5  1574327703 2019-11-21 09:15:03\n",
       "\n",
       "[25000095 rows x 5 columns]"
      ]
     },
     "execution_count": 69,
     "metadata": {},
     "output_type": "execute_result"
    }
   ],
   "source": [
    "df_time_sorted"
   ]
  },
  {
   "cell_type": "code",
   "execution_count": 72,
   "id": "13af7560",
   "metadata": {},
   "outputs": [
    {
     "data": {
      "text/plain": [
       "<AxesSubplot:xlabel='datetime', ylabel='user_id'>"
      ]
     },
     "execution_count": 72,
     "metadata": {},
     "output_type": "execute_result"
    },
    {
     "data": {
      "image/png": "[encoded data removed]",
      "text/plain": [
       "<Figure size 432x288 with 1 Axes>"
      ]
     },
     "metadata": {
      "needs_background": "light"
     },
     "output_type": "display_data"
    }
   ],
   "source": [
    "df_time_sorted.head(10000).plot.scatter(x=\"datetime\", y=\"user_id\")"
   ]
  },
  {
   "cell_type": "code",
   "execution_count": 77,
   "id": "32b594a3",
   "metadata": {},
   "outputs": [
    {
     "data": {
      "text/plain": [
       "<AxesSubplot:xlabel='datetime', ylabel='user_id'>"
      ]
     },
     "execution_count": 77,
     "metadata": {},
     "output_type": "execute_result"
    },
    {
     "data": {
      "image/png": "[encoded data removed]",
      "text/plain": [
       "<Figure size 432x288 with 1 Axes>"
      ]
     },
     "metadata": {
      "needs_background": "light"
     },
     "output_type": "display_data"
    }
   ],
   "source": [
    "df_time_sorted.iloc[10000:20000].plot.scatter(x=\"datetime\", y=\"user_id\")"
   ]
  },
  {
   "cell_type": "code",
   "execution_count": 78,
   "id": "b2305996",
   "metadata": {},
   "outputs": [
    {
     "data": {
      "text/html": [
       "<div>\n",
       "<style scoped>\n",
       "    .dataframe tbody tr th:only-of-type {\n",
       "        vertical-align: middle;\n",
       "    }\n",
       "\n",
       "    .dataframe tbody tr th {\n",
       "        vertical-align: top;\n",
       "    }\n",
       "\n",
       "    .dataframe thead th {\n",
       "        text-align: right;\n",
       "    }\n",
       "</style>\n",
       "<table border=\"1\" class=\"dataframe\">\n",
       "  <thead>\n",
       "    <tr style=\"text-align: right;\">\n",
       "      <th></th>\n",
       "      <th>user_id</th>\n",
       "      <th>movie_id</th>\n",
       "      <th>rating</th>\n",
       "      <th>timestamp</th>\n",
       "      <th>datetime</th>\n",
       "    </tr>\n",
       "  </thead>\n",
       "  <tbody>\n",
       "    <tr>\n",
       "      <th>326757</th>\n",
       "      <td>2262</td>\n",
       "      <td>1</td>\n",
       "      <td>5.0</td>\n",
       "      <td>852806429</td>\n",
       "      <td>1997-01-09 10:40:29</td>\n",
       "    </tr>\n",
       "    <tr>\n",
       "      <th>326758</th>\n",
       "      <td>2262</td>\n",
       "      <td>6</td>\n",
       "      <td>3.0</td>\n",
       "      <td>852809757</td>\n",
       "      <td>1997-01-09 11:35:57</td>\n",
       "    </tr>\n",
       "    <tr>\n",
       "      <th>326759</th>\n",
       "      <td>2262</td>\n",
       "      <td>9</td>\n",
       "      <td>2.0</td>\n",
       "      <td>852809531</td>\n",
       "      <td>1997-01-09 11:32:11</td>\n",
       "    </tr>\n",
       "    <tr>\n",
       "      <th>326760</th>\n",
       "      <td>2262</td>\n",
       "      <td>14</td>\n",
       "      <td>3.0</td>\n",
       "      <td>852806963</td>\n",
       "      <td>1997-01-09 10:49:23</td>\n",
       "    </tr>\n",
       "    <tr>\n",
       "      <th>326761</th>\n",
       "      <td>2262</td>\n",
       "      <td>21</td>\n",
       "      <td>3.0</td>\n",
       "      <td>789652009</td>\n",
       "      <td>1995-01-09 11:46:49</td>\n",
       "    </tr>\n",
       "    <tr>\n",
       "      <th>...</th>\n",
       "      <td>...</td>\n",
       "      <td>...</td>\n",
       "      <td>...</td>\n",
       "      <td>...</td>\n",
       "      <td>...</td>\n",
       "    </tr>\n",
       "    <tr>\n",
       "      <th>326814</th>\n",
       "      <td>2262</td>\n",
       "      <td>1198</td>\n",
       "      <td>4.0</td>\n",
       "      <td>852810527</td>\n",
       "      <td>1997-01-09 11:48:47</td>\n",
       "    </tr>\n",
       "    <tr>\n",
       "      <th>326815</th>\n",
       "      <td>2262</td>\n",
       "      <td>1356</td>\n",
       "      <td>4.0</td>\n",
       "      <td>852806794</td>\n",
       "      <td>1997-01-09 10:46:34</td>\n",
       "    </tr>\n",
       "    <tr>\n",
       "      <th>326816</th>\n",
       "      <td>2262</td>\n",
       "      <td>1357</td>\n",
       "      <td>5.0</td>\n",
       "      <td>852808661</td>\n",
       "      <td>1997-01-09 11:17:41</td>\n",
       "    </tr>\n",
       "    <tr>\n",
       "      <th>326817</th>\n",
       "      <td>2262</td>\n",
       "      <td>1419</td>\n",
       "      <td>3.0</td>\n",
       "      <td>852810136</td>\n",
       "      <td>1997-01-09 11:42:16</td>\n",
       "    </tr>\n",
       "    <tr>\n",
       "      <th>326818</th>\n",
       "      <td>2262</td>\n",
       "      <td>4424</td>\n",
       "      <td>3.0</td>\n",
       "      <td>852809355</td>\n",
       "      <td>1997-01-09 11:29:15</td>\n",
       "    </tr>\n",
       "  </tbody>\n",
       "</table>\n",
       "<p>62 rows × 5 columns</p>\n",
       "</div>"
      ],
      "text/plain": [
       "        user_id  movie_id  rating  timestamp            datetime\n",
       "326757     2262         1     5.0  852806429 1997-01-09 10:40:29\n",
       "326758     2262         6     3.0  852809757 1997-01-09 11:35:57\n",
       "326759     2262         9     2.0  852809531 1997-01-09 11:32:11\n",
       "326760     2262        14     3.0  852806963 1997-01-09 10:49:23\n",
       "326761     2262        21     3.0  789652009 1995-01-09 11:46:49\n",
       "...         ...       ...     ...        ...                 ...\n",
       "326814     2262      1198     4.0  852810527 1997-01-09 11:48:47\n",
       "326815     2262      1356     4.0  852806794 1997-01-09 10:46:34\n",
       "326816     2262      1357     5.0  852808661 1997-01-09 11:17:41\n",
       "326817     2262      1419     3.0  852810136 1997-01-09 11:42:16\n",
       "326818     2262      4424     3.0  852809355 1997-01-09 11:29:15\n",
       "\n",
       "[62 rows x 5 columns]"
      ]
     },
     "execution_count": 78,
     "metadata": {},
     "output_type": "execute_result"
    }
   ],
   "source": [
    "df[df[\"user_id\"] == 2262]"
   ]
  },
  {
   "cell_type": "code",
   "execution_count": null,
   "id": "3df08638",
   "metadata": {},
   "outputs": [],
   "source": [
    "users = list(set(df.user_id.tolist()))\n",
    "user_start_ts = {user: df[df[\"user_id\"] == user].timestamp.min() for user in users}\n",
    "df.timestamp = df.apply(lambda x: x[\"timestamp\"] - user_start_ts[x[\"user_id\"]], axis=1)"
   ]
  },
  {
   "cell_type": "code",
   "execution_count": null,
   "id": "0fcf499b",
   "metadata": {},
   "outputs": [],
   "source": [
    "df = df.sort_values('timestamp')\n",
    "df"
   ]
  },
  {
   "cell_type": "code",
   "execution_count": 88,
   "id": "b79b2dfc",
   "metadata": {},
   "outputs": [
    {
     "data": {
      "text/plain": [
       "784675694"
      ]
     },
     "execution_count": 88,
     "metadata": {},
     "output_type": "execute_result"
    }
   ],
   "source": [
    "df.timestamp.max() - df.timestamp.min() "
   ]
  },
  {
   "cell_type": "code",
   "execution_count": 90,
   "id": "2770d943",
   "metadata": {},
   "outputs": [
    {
     "data": {
      "text/plain": [
       "72315     32202\n",
       "80974      9178\n",
       "137293     8913\n",
       "33844      7919\n",
       "20055      7488\n",
       "          ...  \n",
       "21443        20\n",
       "45297        20\n",
       "82652        20\n",
       "30764        20\n",
       "20369        20\n",
       "Name: userId, Length: 162541, dtype: int64"
      ]
     },
     "execution_count": 90,
     "metadata": {},
     "output_type": "execute_result"
    }
   ],
   "source": [
    "df.userId.value_counts()"
   ]
  },
  {
   "cell_type": "code",
   "execution_count": 79,
   "id": "5e0d7d36",
   "metadata": {},
   "outputs": [
    {
     "data": {
      "text/plain": [
       "385088"
      ]
     },
     "execution_count": 79,
     "metadata": {},
     "output_type": "execute_result"
    }
   ],
   "source": [
    "df[df[\"user_id\"] == 148].timestamp.max() - df[df[\"user_id\"] == 148].timestamp.min()"
   ]
  },
  {
   "cell_type": "code",
   "execution_count": 9,
   "id": "7508e9b8",
   "metadata": {},
   "outputs": [],
   "source": [
    "squash_amount = 100"
   ]
  },
  {
   "cell_type": "code",
   "execution_count": 39,
   "id": "8ef56241",
   "metadata": {},
   "outputs": [],
   "source": [
    "new_timestamp = [i // squash_amount for i in range(1, len(df)+1)]"
   ]
  },
  {
   "cell_type": "code",
   "execution_count": 17,
   "id": "52ec5422",
   "metadata": {},
   "outputs": [],
   "source": [
    "new_df = df.drop('timestamp', 1)\n",
    "new_df['timestamp'] = new_timestamp"
   ]
  },
  {
   "cell_type": "code",
   "execution_count": 59,
   "id": "174649e8",
   "metadata": {},
   "outputs": [
    {
     "data": {
      "text/html": [
       "<div>\n",
       "<style scoped>\n",
       "    .dataframe tbody tr th:only-of-type {\n",
       "        vertical-align: middle;\n",
       "    }\n",
       "\n",
       "    .dataframe tbody tr th {\n",
       "        vertical-align: top;\n",
       "    }\n",
       "\n",
       "    .dataframe thead th {\n",
       "        text-align: right;\n",
       "    }\n",
       "</style>\n",
       "<table border=\"1\" class=\"dataframe\">\n",
       "  <thead>\n",
       "    <tr style=\"text-align: right;\">\n",
       "      <th></th>\n",
       "      <th>user_id</th>\n",
       "      <th>movie_id</th>\n",
       "      <th>rating</th>\n",
       "      <th>timestamp</th>\n",
       "    </tr>\n",
       "  </thead>\n",
       "  <tbody>\n",
       "    <tr>\n",
       "      <th>99336</th>\n",
       "      <td>148</td>\n",
       "      <td>194</td>\n",
       "      <td>5</td>\n",
       "      <td>125</td>\n",
       "    </tr>\n",
       "    <tr>\n",
       "      <th>33589</th>\n",
       "      <td>148</td>\n",
       "      <td>496</td>\n",
       "      <td>3</td>\n",
       "      <td>125</td>\n",
       "    </tr>\n",
       "    <tr>\n",
       "      <th>72245</th>\n",
       "      <td>148</td>\n",
       "      <td>174</td>\n",
       "      <td>5</td>\n",
       "      <td>125</td>\n",
       "    </tr>\n",
       "    <tr>\n",
       "      <th>12982</th>\n",
       "      <td>148</td>\n",
       "      <td>1039</td>\n",
       "      <td>2</td>\n",
       "      <td>125</td>\n",
       "    </tr>\n",
       "    <tr>\n",
       "      <th>46538</th>\n",
       "      <td>148</td>\n",
       "      <td>168</td>\n",
       "      <td>5</td>\n",
       "      <td>125</td>\n",
       "    </tr>\n",
       "    <tr>\n",
       "      <th>...</th>\n",
       "      <td>...</td>\n",
       "      <td>...</td>\n",
       "      <td>...</td>\n",
       "      <td>...</td>\n",
       "    </tr>\n",
       "    <tr>\n",
       "      <th>7784</th>\n",
       "      <td>148</td>\n",
       "      <td>473</td>\n",
       "      <td>5</td>\n",
       "      <td>142</td>\n",
       "    </tr>\n",
       "    <tr>\n",
       "      <th>99511</th>\n",
       "      <td>148</td>\n",
       "      <td>127</td>\n",
       "      <td>1</td>\n",
       "      <td>142</td>\n",
       "    </tr>\n",
       "    <tr>\n",
       "      <th>32257</th>\n",
       "      <td>148</td>\n",
       "      <td>151</td>\n",
       "      <td>4</td>\n",
       "      <td>142</td>\n",
       "    </tr>\n",
       "    <tr>\n",
       "      <th>7203</th>\n",
       "      <td>148</td>\n",
       "      <td>1012</td>\n",
       "      <td>4</td>\n",
       "      <td>142</td>\n",
       "    </tr>\n",
       "    <tr>\n",
       "      <th>19382</th>\n",
       "      <td>148</td>\n",
       "      <td>993</td>\n",
       "      <td>4</td>\n",
       "      <td>142</td>\n",
       "    </tr>\n",
       "  </tbody>\n",
       "</table>\n",
       "<p>65 rows × 4 columns</p>\n",
       "</div>"
      ],
      "text/plain": [
       "       user_id  movie_id  rating  timestamp\n",
       "99336      148       194       5        125\n",
       "33589      148       496       3        125\n",
       "72245      148       174       5        125\n",
       "12982      148      1039       2        125\n",
       "46538      148       168       5        125\n",
       "...        ...       ...     ...        ...\n",
       "7784       148       473       5        142\n",
       "99511      148       127       1        142\n",
       "32257      148       151       4        142\n",
       "7203       148      1012       4        142\n",
       "19382      148       993       4        142\n",
       "\n",
       "[65 rows x 4 columns]"
      ]
     },
     "execution_count": 59,
     "metadata": {},
     "output_type": "execute_result"
    }
   ],
   "source": [
    "new_df[new_df[\"user_id\"] == 148]"
   ]
  },
  {
   "cell_type": "markdown",
   "id": "3e4f1673",
   "metadata": {},
   "source": [
    "## Train PySpark ALS Model "
   ]
  },
  {
   "cell_type": "code",
   "execution_count": 19,
   "id": "22eec96d",
   "metadata": {},
   "outputs": [],
   "source": [
    "def train_stream_test_split(df):\n",
    "    columns = [\"user_id\", \"movie_id\", \"rating\", \"timestamp\"]\n",
    "    als_data = []\n",
    "    stream_data = []\n",
    "    for user_id in df[\"user_id\"].unique():\n",
    "        user_df = df[df[\"user_id\"] == user_id].sort_values(\"timestamp\")\n",
    "        count = 0\n",
    "        for row in user_df.itertuples():\n",
    "            data = [row.user_id, row.movie_id, row.rating, row.timestamp]\n",
    "            if count < len(user_df) / 2:\n",
    "                als_data.append(data)\n",
    "            else:\n",
    "                stream_data.append(data)\n",
    "            count += 1\n",
    "    als_df = pd.DataFrame(data=als_data, columns=columns).sort_values(\"timestamp\")\n",
    "    movie_list = set(als_df['movie_id'])\n",
    "    stream_df = pd.DataFrame(data=stream_data, columns=columns).sort_values(\"timestamp\")\n",
    "    # Drop movies not seen before from stream\n",
    "    stream_df = stream_df.drop(stream_df[stream_df['movie_id'].map(lambda x: x not in movie_list)].index)\n",
    "    test_df = stream_df.copy()\n",
    "    return als_df, stream_df, test_df"
   ]
  },
  {
   "cell_type": "code",
   "execution_count": 20,
   "id": "b8c5af2b",
   "metadata": {},
   "outputs": [],
   "source": [
    "als_df, stream_df, test_df = train_stream_test_split(new_df)"
   ]
  },
  {
   "cell_type": "code",
   "execution_count": 21,
   "id": "546d949c",
   "metadata": {},
   "outputs": [],
   "source": [
    "spark = SparkSession.builder.master('local').appName('als').getOrCreate()"
   ]
  },
  {
   "cell_type": "code",
   "execution_count": 22,
   "id": "309b5ca9",
   "metadata": {},
   "outputs": [],
   "source": [
    "spark_als_df = spark.createDataFrame(als_df) \n",
    "spark_stream_df = spark.createDataFrame(stream_df)"
   ]
  },
  {
   "cell_type": "code",
   "execution_count": 24,
   "id": "7b955b48",
   "metadata": {},
   "outputs": [],
   "source": [
    "als = ALS(\n",
    "         userCol=\"user_id\", \n",
    "         itemCol=\"movie_id\",\n",
    "         ratingCol=\"rating\", \n",
    "         nonnegative = True, \n",
    "         implicitPrefs = False,\n",
    "         coldStartStrategy=\"drop\",\n",
    "         rank=150,\n",
    "         maxIter=10,\n",
    "         regParam=.1\n",
    ")"
   ]
  },
  {
   "cell_type": "code",
   "execution_count": 25,
   "id": "18001f39",
   "metadata": {},
   "outputs": [],
   "source": [
    "model=als.fit(spark_als_df)"
   ]
  },
  {
   "cell_type": "code",
   "execution_count": 26,
   "id": "3ddc39bc",
   "metadata": {},
   "outputs": [
    {
     "data": {
      "text/plain": [
       "0.9815395865331437"
      ]
     },
     "execution_count": 26,
     "metadata": {},
     "output_type": "execute_result"
    }
   ],
   "source": [
    "predictions = model.transform(spark_stream_df)\n",
    "evaluator = RegressionEvaluator().setMetricName(\"rmse\").setLabelCol(\"rating\").setPredictionCol(\"prediction\")\n",
    "rmse = evaluator.evaluate(predictions)\n",
    "rmse"
   ]
  },
  {
   "cell_type": "markdown",
   "id": "30dab656",
   "metadata": {},
   "source": [
    "## Save Features CSV"
   ]
  },
  {
   "cell_type": "code",
   "execution_count": 34,
   "id": "9c1bdae6",
   "metadata": {},
   "outputs": [
    {
     "data": {
      "text/plain": [
       "'/data/wooders/ralf-vldb//datasets/ml-100k-features'"
      ]
     },
     "execution_count": 34,
     "metadata": {},
     "output_type": "execute_result"
    }
   ],
   "source": [
    "name = \"ml-100k-features\"\n",
    "dataset_dir = read_config()[\"dataset_dir\"] + \"/\" + name\n",
    "dataset_dir"
   ]
  },
  {
   "cell_type": "code",
   "execution_count": 36,
   "id": "21285648",
   "metadata": {},
   "outputs": [],
   "source": [
    "model.itemFactors.toPandas().sort_values('id').to_csv(f'{dataset_dir}/movie_features.csv', index = False)\n",
    "model.userFactors.toPandas().sort_values('id').to_csv(f'{dataset_dir}/user_features.csv', index = False)"
   ]
  },
  {
   "cell_type": "code",
   "execution_count": 37,
   "id": "6f21d0fc",
   "metadata": {},
   "outputs": [
    {
     "name": "stdout",
     "output_type": "stream",
     "text": [
      "49442\n"
     ]
    }
   ],
   "source": [
    "stream_df = stream_df.sort_values('timestamp')\n",
    "new_timestamp = [i // squash_amount for i in range(1, len(stream_df)+1)]\n",
    "stream_df['timestamp'] = new_timestamp\n",
    "print(len(stream_df))\n",
    "stream_df.to_csv(f'{dataset_dir}/ratings.csv', index = False)"
   ]
  },
  {
   "cell_type": "code",
   "execution_count": 38,
   "id": "3cb84e1d",
   "metadata": {},
   "outputs": [
    {
     "name": "stdout",
     "output_type": "stream",
     "text": [
      "vldb/datasets ml-100k-features /ml-100k-features/ratings.csv\n",
      "uploading /data/wooders/ralf-vldb//datasets/ml-100k-features vldb/datasets vldb/datasets/ml-100k-features/ratings.csv\n",
      "vldb/datasets ml-100k-features /ml-100k-features/user_features.csv\n",
      "uploading /data/wooders/ralf-vldb//datasets/ml-100k-features vldb/datasets vldb/datasets/ml-100k-features/user_features.csv\n",
      "vldb/datasets ml-100k-features /ml-100k-features/movie_features.csv\n",
      "uploading /data/wooders/ralf-vldb//datasets/ml-100k-features vldb/datasets vldb/datasets/ml-100k-features/movie_features.csv\n"
     ]
    },
    {
     "data": {
      "text/plain": [
       "'vldb/datasets/ml-100k-features'"
      ]
     },
     "execution_count": 38,
     "metadata": {},
     "output_type": "execute_result"
    }
   ],
   "source": [
    "log_dataset(name)"
   ]
  },
  {
   "cell_type": "code",
   "execution_count": 41,
   "id": "2fd3585b",
   "metadata": {},
   "outputs": [
    {
     "data": {
      "text/html": [
       "<div>\n",
       "<style scoped>\n",
       "    .dataframe tbody tr th:only-of-type {\n",
       "        vertical-align: middle;\n",
       "    }\n",
       "\n",
       "    .dataframe tbody tr th {\n",
       "        vertical-align: top;\n",
       "    }\n",
       "\n",
       "    .dataframe thead th {\n",
       "        text-align: right;\n",
       "    }\n",
       "</style>\n",
       "<table border=\"1\" class=\"dataframe\">\n",
       "  <thead>\n",
       "    <tr style=\"text-align: right;\">\n",
       "      <th></th>\n",
       "      <th>user_id</th>\n",
       "      <th>movie_id</th>\n",
       "      <th>rating</th>\n",
       "      <th>timestamp</th>\n",
       "    </tr>\n",
       "  </thead>\n",
       "  <tbody>\n",
       "    <tr>\n",
       "      <th>8936</th>\n",
       "      <td>148</td>\n",
       "      <td>191</td>\n",
       "      <td>1</td>\n",
       "      <td>48</td>\n",
       "    </tr>\n",
       "    <tr>\n",
       "      <th>8938</th>\n",
       "      <td>148</td>\n",
       "      <td>169</td>\n",
       "      <td>5</td>\n",
       "      <td>48</td>\n",
       "    </tr>\n",
       "    <tr>\n",
       "      <th>8940</th>\n",
       "      <td>148</td>\n",
       "      <td>8</td>\n",
       "      <td>4</td>\n",
       "      <td>48</td>\n",
       "    </tr>\n",
       "    <tr>\n",
       "      <th>8941</th>\n",
       "      <td>148</td>\n",
       "      <td>501</td>\n",
       "      <td>4</td>\n",
       "      <td>48</td>\n",
       "    </tr>\n",
       "    <tr>\n",
       "      <th>8937</th>\n",
       "      <td>148</td>\n",
       "      <td>234</td>\n",
       "      <td>3</td>\n",
       "      <td>48</td>\n",
       "    </tr>\n",
       "    <tr>\n",
       "      <th>8939</th>\n",
       "      <td>148</td>\n",
       "      <td>596</td>\n",
       "      <td>5</td>\n",
       "      <td>48</td>\n",
       "    </tr>\n",
       "    <tr>\n",
       "      <th>8942</th>\n",
       "      <td>148</td>\n",
       "      <td>132</td>\n",
       "      <td>4</td>\n",
       "      <td>49</td>\n",
       "    </tr>\n",
       "    <tr>\n",
       "      <th>8963</th>\n",
       "      <td>148</td>\n",
       "      <td>181</td>\n",
       "      <td>5</td>\n",
       "      <td>55</td>\n",
       "    </tr>\n",
       "    <tr>\n",
       "      <th>8946</th>\n",
       "      <td>148</td>\n",
       "      <td>408</td>\n",
       "      <td>5</td>\n",
       "      <td>55</td>\n",
       "    </tr>\n",
       "    <tr>\n",
       "      <th>8962</th>\n",
       "      <td>148</td>\n",
       "      <td>1012</td>\n",
       "      <td>4</td>\n",
       "      <td>55</td>\n",
       "    </tr>\n",
       "    <tr>\n",
       "      <th>8964</th>\n",
       "      <td>148</td>\n",
       "      <td>473</td>\n",
       "      <td>5</td>\n",
       "      <td>55</td>\n",
       "    </tr>\n",
       "    <tr>\n",
       "      <th>8967</th>\n",
       "      <td>148</td>\n",
       "      <td>993</td>\n",
       "      <td>4</td>\n",
       "      <td>55</td>\n",
       "    </tr>\n",
       "    <tr>\n",
       "      <th>8966</th>\n",
       "      <td>148</td>\n",
       "      <td>151</td>\n",
       "      <td>4</td>\n",
       "      <td>55</td>\n",
       "    </tr>\n",
       "    <tr>\n",
       "      <th>8959</th>\n",
       "      <td>148</td>\n",
       "      <td>549</td>\n",
       "      <td>3</td>\n",
       "      <td>55</td>\n",
       "    </tr>\n",
       "    <tr>\n",
       "      <th>8961</th>\n",
       "      <td>148</td>\n",
       "      <td>507</td>\n",
       "      <td>5</td>\n",
       "      <td>55</td>\n",
       "    </tr>\n",
       "    <tr>\n",
       "      <th>8948</th>\n",
       "      <td>148</td>\n",
       "      <td>222</td>\n",
       "      <td>4</td>\n",
       "      <td>55</td>\n",
       "    </tr>\n",
       "    <tr>\n",
       "      <th>8960</th>\n",
       "      <td>148</td>\n",
       "      <td>56</td>\n",
       "      <td>5</td>\n",
       "      <td>55</td>\n",
       "    </tr>\n",
       "    <tr>\n",
       "      <th>8958</th>\n",
       "      <td>148</td>\n",
       "      <td>185</td>\n",
       "      <td>1</td>\n",
       "      <td>55</td>\n",
       "    </tr>\n",
       "    <tr>\n",
       "      <th>8947</th>\n",
       "      <td>148</td>\n",
       "      <td>663</td>\n",
       "      <td>5</td>\n",
       "      <td>55</td>\n",
       "    </tr>\n",
       "    <tr>\n",
       "      <th>8957</th>\n",
       "      <td>148</td>\n",
       "      <td>164</td>\n",
       "      <td>4</td>\n",
       "      <td>55</td>\n",
       "    </tr>\n",
       "    <tr>\n",
       "      <th>8956</th>\n",
       "      <td>148</td>\n",
       "      <td>969</td>\n",
       "      <td>4</td>\n",
       "      <td>55</td>\n",
       "    </tr>\n",
       "    <tr>\n",
       "      <th>8955</th>\n",
       "      <td>148</td>\n",
       "      <td>190</td>\n",
       "      <td>2</td>\n",
       "      <td>55</td>\n",
       "    </tr>\n",
       "    <tr>\n",
       "      <th>8949</th>\n",
       "      <td>148</td>\n",
       "      <td>529</td>\n",
       "      <td>5</td>\n",
       "      <td>55</td>\n",
       "    </tr>\n",
       "    <tr>\n",
       "      <th>8944</th>\n",
       "      <td>148</td>\n",
       "      <td>588</td>\n",
       "      <td>4</td>\n",
       "      <td>55</td>\n",
       "    </tr>\n",
       "    <tr>\n",
       "      <th>8945</th>\n",
       "      <td>148</td>\n",
       "      <td>78</td>\n",
       "      <td>1</td>\n",
       "      <td>55</td>\n",
       "    </tr>\n",
       "    <tr>\n",
       "      <th>8953</th>\n",
       "      <td>148</td>\n",
       "      <td>89</td>\n",
       "      <td>5</td>\n",
       "      <td>55</td>\n",
       "    </tr>\n",
       "    <tr>\n",
       "      <th>8943</th>\n",
       "      <td>148</td>\n",
       "      <td>227</td>\n",
       "      <td>4</td>\n",
       "      <td>55</td>\n",
       "    </tr>\n",
       "    <tr>\n",
       "      <th>8954</th>\n",
       "      <td>148</td>\n",
       "      <td>238</td>\n",
       "      <td>4</td>\n",
       "      <td>55</td>\n",
       "    </tr>\n",
       "    <tr>\n",
       "      <th>8950</th>\n",
       "      <td>148</td>\n",
       "      <td>521</td>\n",
       "      <td>1</td>\n",
       "      <td>55</td>\n",
       "    </tr>\n",
       "    <tr>\n",
       "      <th>8952</th>\n",
       "      <td>148</td>\n",
       "      <td>116</td>\n",
       "      <td>5</td>\n",
       "      <td>55</td>\n",
       "    </tr>\n",
       "    <tr>\n",
       "      <th>8951</th>\n",
       "      <td>148</td>\n",
       "      <td>209</td>\n",
       "      <td>5</td>\n",
       "      <td>55</td>\n",
       "    </tr>\n",
       "    <tr>\n",
       "      <th>8965</th>\n",
       "      <td>148</td>\n",
       "      <td>127</td>\n",
       "      <td>1</td>\n",
       "      <td>56</td>\n",
       "    </tr>\n",
       "  </tbody>\n",
       "</table>\n",
       "</div>"
      ],
      "text/plain": [
       "      user_id  movie_id  rating  timestamp\n",
       "8936      148       191       1         48\n",
       "8938      148       169       5         48\n",
       "8940      148         8       4         48\n",
       "8941      148       501       4         48\n",
       "8937      148       234       3         48\n",
       "8939      148       596       5         48\n",
       "8942      148       132       4         49\n",
       "8963      148       181       5         55\n",
       "8946      148       408       5         55\n",
       "8962      148      1012       4         55\n",
       "8964      148       473       5         55\n",
       "8967      148       993       4         55\n",
       "8966      148       151       4         55\n",
       "8959      148       549       3         55\n",
       "8961      148       507       5         55\n",
       "8948      148       222       4         55\n",
       "8960      148        56       5         55\n",
       "8958      148       185       1         55\n",
       "8947      148       663       5         55\n",
       "8957      148       164       4         55\n",
       "8956      148       969       4         55\n",
       "8955      148       190       2         55\n",
       "8949      148       529       5         55\n",
       "8944      148       588       4         55\n",
       "8945      148        78       1         55\n",
       "8953      148        89       5         55\n",
       "8943      148       227       4         55\n",
       "8954      148       238       4         55\n",
       "8950      148       521       1         55\n",
       "8952      148       116       5         55\n",
       "8951      148       209       5         55\n",
       "8965      148       127       1         56"
      ]
     },
     "execution_count": 41,
     "metadata": {},
     "output_type": "execute_result"
    }
   ],
   "source": [
    "stream_df[stream_df[\"user_id\"] == 148]"
   ]
  },
  {
   "cell_type": "code",
   "execution_count": null,
   "id": "7363f451",
   "metadata": {},
   "outputs": [],
   "source": []
  }
 ],
 "metadata": {
  "kernelspec": {
   "display_name": "Python 3",
   "language": "python",
   "name": "python3"
  },
  "language_info": {
   "codemirror_mode": {
    "name": "ipython",
    "version": 3
   },
   "file_extension": ".py",
   "mimetype": "text/x-python",
   "name": "python",
   "nbconvert_exporter": "python",
   "pygments_lexer": "ipython3",
   "version": "3.8.8"
  }
 },
 "nbformat": 4,
 "nbformat_minor": 5
}
