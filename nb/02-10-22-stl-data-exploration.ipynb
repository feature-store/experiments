{
 "cells": [
  {
   "cell_type": "code",
   "execution_count": null,
   "id": "3e70dee0",
   "metadata": {},
   "outputs": [],
   "source": [
    "import sys \n",
    "sys.path.insert(1, \"../\")\n",
    "import pandas as pd\n",
    "import matplotlib.pyplot as plt\n",
    "import os\n",
    "import numpy as np\n",
    "import ast\n",
    "\n",
    "from workloads.util import use_results, use_dataset\n",
    "\n",
    "%load_ext autoreload\n",
    "%autoreload 2"
   ]
  },
  {
   "cell_type": "code",
   "execution_count": null,
   "id": "6c42a5b0",
   "metadata": {},
   "outputs": [],
   "source": [
    "experiment = \"stl-yahoo-A4-keys-100-interval-10000-events-200000-queries-200000\"\n",
    "\n",
    "results_dir = get_results(experiment)\n",
    "dataset_dir = use_dataset(experiment)\n",
    "print(results_dir)\n",
    "print(dataset_dir)"
   ]
  },
  {
   "cell_type": "code",
   "execution_count": null,
   "id": "0b569a8c",
   "metadata": {
    "scrolled": true
   },
   "outputs": [],
   "source": [
    "#import wandb\n",
    "#run = wandb.init(project=\"ralf-stl\", entity=\"ucb-ralf\")\n",
    "#experiment = 'stl-A4-keys-100-interval-10000-events-200000'\n",
    "#dataset_artifact = run.use_artifact(f'{experiment}:latest', type='dataset')\n",
    "#results_artifact = run.use_artifact(f'{experiment}-results:latest', type='results')\n",
    "#dataset_dir = dataset_artifact.download()\n",
    "#results_dir = results_artifact.download()\n",
    "#print(dataset_dir)\n",
    "#print(results_dir)"
   ]
  },
  {
   "cell_type": "code",
   "execution_count": null,
   "id": "33abeeb9",
   "metadata": {},
   "outputs": [],
   "source": [
    "os.listdir(results_dir)"
   ]
  },
  {
   "cell_type": "code",
   "execution_count": null,
   "id": "ea110f0c",
   "metadata": {},
   "outputs": [],
   "source": [
    "queries_df = pd.read_csv(f\"{dataset_dir}/queries.csv\")\n",
    "events_df = pd.read_csv(f\"{dataset_dir}/events.csv\")\n",
    "oracle_df = pd.read_csv(f\"{dataset_dir}/oracle_features.csv\")\n",
    "#oracle_df[\"seasonality\"] = oracle_df['seasonality'].dropna().apply(ast.literal_eval)"
   ]
  },
  {
   "cell_type": "markdown",
   "id": "9805ba61",
   "metadata": {},
   "source": [
    "## Feature Results for Queries "
   ]
  },
  {
   "cell_type": "code",
   "execution_count": null,
   "id": "cebfa7de",
   "metadata": {},
   "outputs": [],
   "source": [
    "results = {}\n",
    "for result_file in os.listdir(results_dir): \n",
    "    results_df = pd.read_csv(f\"{results_dir}/{result_file}\")\n",
    "    results_df[\"seasonality\"] = results_df['seasonality'].apply(ast.literal_eval)\n",
    "    #print(results_df[\"seasonality\"][0][0])\n",
    "    joined_df = queries_df.join(results_df.set_index(\"key_id\"), on=\"key_id\", how=\"outer\", lsuffix='_query', rsuffix='_feature')\n",
    "    query_result_df = joined_df[joined_df[\"timestamp_ms_query\"] >= joined_df[\"timestamp_ms_feature\"]].set_index(\"timestamp_ms_feature\", drop=False).groupby(by=[\"query_id\"]).max()\n",
    "    #print(joined_df.columns)\n",
    "    #print(result_file, query_result_df.columns)\n",
    "    results[result_file] = query_result_df"
   ]
  },
  {
   "cell_type": "markdown",
   "id": "6f2aa778",
   "metadata": {},
   "source": [
    "## Oracle Feature Results for Queries "
   ]
  },
  {
   "cell_type": "code",
   "execution_count": null,
   "id": "97392670",
   "metadata": {},
   "outputs": [],
   "source": [
    "query_oracle_df = queries_df.join(oracle_df.set_index([\"key_id\", \"timestamp_ms\"]), on=[\"key_id\", \"timestamp_ms\"], how=\"left\", lsuffix='_query', rsuffix='_feature').dropna().set_index(\"query_id\").sort_index()"
   ]
  },
  {
   "cell_type": "code",
   "execution_count": null,
   "id": "cc2ea31e",
   "metadata": {},
   "outputs": [],
   "source": [
    "oracle_df['seasonality'][1000]"
   ]
  },
  {
   "cell_type": "markdown",
   "id": "762a3ec3",
   "metadata": {},
   "source": [
    "# Evaluate Approximated Features "
   ]
  },
  {
   "cell_type": "code",
   "execution_count": null,
   "id": "3daf5025",
   "metadata": {},
   "outputs": [],
   "source": [
    "from workloads.stl.stl_util import predict, predict_seasonality"
   ]
  },
  {
   "cell_type": "code",
   "execution_count": null,
   "id": "c5280e2e",
   "metadata": {},
   "outputs": [],
   "source": [
    "key_id = 3\n",
    "\n",
    "for key, df in results.items():\n",
    "    print(df.columns)\n",
    "    #residuals = df.apply(lambda x: print(x), axis=1)\n",
    "    residuals = df.apply(lambda x: predict(\n",
    "        x[\"value\"], \n",
    "        x[\"trend\"], \n",
    "        x[\"seasonality\"], \n",
    "        int(x[\"timestamp_ms_query\"]), \n",
    "        int(x[\"timestamp_ms_feature\"]), \n",
    "        interval=5\n",
    "    ), axis=1)\n",
    "    print(residuals.abs().mean())\n",
    "    staleness = df[\"timestamp_ms_query\"] - df[\"timestamp_ms_feature\"]\n",
    "    error = query_oracle_df[\"trend\"] - df[\"trend\"]\n",
    "    print(key, \"staleness\", staleness.mean(), \"trend error\", error.abs().mean())\n",
    "    \n",
    "    residuals = df.apply(lambda x: predict(\n",
    "        int(x[\"value\"]), \n",
    "        int(x[\"trend\"]), \n",
    "        x[\"seasonality\"], \n",
    "        int(x[\"timestamp_ms_query\"]), \n",
    "        int(x[\"timestamp_ms_feature\"]), \n",
    "        interval=5\n",
    "    ), axis=1)\n",
    "    print(residuals.abs().mean())\n",
    "    \n",
    "    df[\"pred_seasonality\"] = df.apply(lambda x: predict_seasonality(\n",
    "        x[\"seasonality\"], \n",
    "        int(x[\"timestamp_ms_query\"]), \n",
    "        int(x[\"timestamp_ms_feature\"]), \n",
    "        interval=5\n",
    "    ), axis=1)\n",
    "    df[df[\"key_id\"] == 3][\"trend\"].plot()"
   ]
  },
  {
   "cell_type": "code",
   "execution_count": null,
   "id": "ccafc97f",
   "metadata": {},
   "outputs": [],
   "source": [
    "residuals = query_oracle_df.apply(lambda x: predict(\n",
    "        int(x[\"value_query\"]), \n",
    "        int(x[\"trend\"]), \n",
    "        x[\"seasonality\"], \n",
    "        int(x[\"timestamp_ms\"]), \n",
    "        int(x[\"timestamp_ms\"]), \n",
    "        interval=5\n",
    "), axis=1)\n",
    "print(residuals.abs().mean())"
   ]
  }
 ],
 "metadata": {
  "kernelspec": {
   "display_name": "Python 3",
   "language": "python",
   "name": "python3"
  },
  "language_info": {
   "codemirror_mode": {
    "name": "ipython",
    "version": 3
   },
   "file_extension": ".py",
   "mimetype": "text/x-python",
   "name": "python",
   "nbconvert_exporter": "python",
   "pygments_lexer": "ipython3",
   "version": "3.8.8"
  }
 },
 "nbformat": 4,
 "nbformat_minor": 5
}
