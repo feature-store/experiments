{
 "cells": [
  {
   "cell_type": "code",
   "execution_count": null,
   "id": "3e70dee0",
   "metadata": {},
   "outputs": [],
   "source": [
    "import sys \n",
    "sys.path.insert(1, \"../\")\n",
    "import pandas as pd\n",
    "import matplotlib.pyplot as plt\n",
    "import os\n",
    "import numpy as np\n",
    "import ast\n",
    "\n",
    "import dask.dataframe as dd\n",
    "from dask.dataframe import from_pandas\n",
    "\n",
    "from workloads.util import use_results, use_dataset\n",
    "\n",
    "%load_ext autoreload\n",
    "%autoreload 2"
   ]
  },
  {
   "cell_type": "code",
   "execution_count": null,
   "id": "6c42a5b0",
   "metadata": {},
   "outputs": [],
   "source": [
    "experiment = \"stl-yahoo-A4-keys-100-interval-10000-events-200000-queries-200000\"\n",
    "\n",
    "results_dir = use_results(experiment)\n",
    "dataset_dir = use_dataset(experiment)\n",
    "print(results_dir)\n",
    "print(dataset_dir)"
   ]
  },
  {
   "cell_type": "code",
   "execution_count": null,
   "id": "0b569a8c",
   "metadata": {
    "scrolled": true
   },
   "outputs": [],
   "source": [
    "#import wandb\n",
    "#run = wandb.init(project=\"ralf-stl\", entity=\"ucb-ralf\")\n",
    "#experiment = 'stl-A4-keys-100-interval-10000-events-200000'\n",
    "#dataset_artifact = run.use_artifact(f'{experiment}:latest', type='dataset')\n",
    "#results_artifact = run.use_artifact(f'{experiment}-results:latest', type='results')\n",
    "#dataset_dir = dataset_artifact.download()\n",
    "#results_dir = results_artifact.download()\n",
    "#print(dataset_dir)\n",
    "#print(results_dir)"
   ]
  },
  {
   "cell_type": "code",
   "execution_count": null,
   "id": "33abeeb9",
   "metadata": {},
   "outputs": [],
   "source": [
    "os.listdir(results_dir)"
   ]
  },
  {
   "cell_type": "code",
   "execution_count": null,
   "id": "ea110f0c",
   "metadata": {},
   "outputs": [],
   "source": [
    "#queries_df = from_pandas(pd.read_csv(f\"{dataset_dir}/queries.csv\").head(100000), npartitions=1000)\n",
    "queries_df = pd.read_csv(f\"{dataset_dir}/queries.csv\")\n",
    "events_df = pd.read_csv(f\"{dataset_dir}/events.csv\")\n",
    "oracle_df = pd.read_csv(f\"{dataset_dir}/oracle_features.csv\").dropna()\n",
    "oracle_df[\"seasonality\"] = oracle_df['seasonality'].dropna().apply(ast.literal_eval)\n",
    "#oracle_df[\"seasonality\"] = oracle_df['seasonality'].dropna().apply(ast.literal_eval)\n",
    "# for i in oracle_df.index:\n",
    "#     try:\n",
    "#         ast.literal_eval(oracle_df.loc[i][\"seasonality\"])\n",
    "#     except Exception as e:\n",
    "#         print(e)\n",
    "#         print(oracle_df.loc[i][\"seasonality\"])\n",
    "#         break"
   ]
  },
  {
   "cell_type": "code",
   "execution_count": null,
   "id": "272972b8",
   "metadata": {},
   "outputs": [],
   "source": []
  },
  {
   "cell_type": "code",
   "execution_count": null,
   "id": "33652828",
   "metadata": {},
   "outputs": [],
   "source": [
    "oracle_df[\"seasonality\"] = oracle_df['seasonality'].dropna().apply(ast.literal_eval)"
   ]
  },
  {
   "cell_type": "code",
   "execution_count": null,
   "id": "cc3df8c1",
   "metadata": {},
   "outputs": [],
   "source": [
    "from workloads.util import join_queries_features"
   ]
  },
  {
   "cell_type": "code",
   "execution_count": null,
   "id": "341091c6",
   "metadata": {},
   "outputs": [],
   "source": [
    "results_df = pd.read_csv(f\"{results_dir}/results_workers_4_lifo_window_128_slide_24.csv\")"
   ]
  },
  {
   "cell_type": "code",
   "execution_count": null,
   "id": "58ad7c85",
   "metadata": {},
   "outputs": [],
   "source": [
    "joined_df = join_queries_features(queries_df, results_df).set_index(\"query_id\")"
   ]
  },
  {
   "cell_type": "code",
   "execution_count": null,
   "id": "3700e728",
   "metadata": {},
   "outputs": [],
   "source": [
    "queries_df.join(joined_df, on=\"query_id\", lsuffix='_query', rsuffix='_feature')"
   ]
  },
  {
   "cell_type": "code",
   "execution_count": null,
   "id": "2ad943a2",
   "metadata": {},
   "outputs": [],
   "source": [
    "joined_df"
   ]
  },
  {
   "cell_type": "code",
   "execution_count": null,
   "id": "e6f8b76b",
   "metadata": {},
   "outputs": [],
   "source": [
    "queries_df.sort_values(by=[\"key_id\", \"timestamp_ms\"]).iloc[237]"
   ]
  },
  {
   "cell_type": "code",
   "execution_count": null,
   "id": "6ab865d2",
   "metadata": {},
   "outputs": [],
   "source": [
    "queries_df.iloc[237]"
   ]
  },
  {
   "cell_type": "markdown",
   "id": "9805ba61",
   "metadata": {},
   "source": [
    "## Feature Results for Queries "
   ]
  },
  {
   "cell_type": "code",
   "execution_count": null,
   "id": "cebfa7de",
   "metadata": {},
   "outputs": [],
   "source": [
    "results = {}\n",
    "for result_file in os.listdir(results_dir): \n",
    "    results_df = pd.read_csv(f\"{results_dir}/{result_file}\")\n",
    "    print(result_file, \"updates:\", len(results_df.index))\n",
    "    results_df[\"seasonality\"] = results_df['seasonality'].apply(ast.literal_eval)\n",
    "    \n",
    "    joined_df = join_queries_features(queries_df, results_df).set_index(\"query_id\")\n",
    "    query_result_df = queries_df.join(joined_df, on=\"query_id\", lsuffix='_query', rsuffix='_feature')\n",
    "    \n",
    "    #print(results_df[\"seasonality\"][0][0])\n",
    "\n",
    "#     #print(key_results_df.filter(lambda x: x[\"timestamp_ms\"].max() < 100))\n",
    "#     query_result_df = queries_df[queries_df.key_id.isin([3, 8])].apply(\n",
    "#         lambda q: results_df[(results_df[\"key_id\"] == q[\"key_id\"]) & (results_df[\"timestamp_ms\"] <= q[\"timestamp_ms\"])].set_index(\"timestamp_ms\", drop=False).max(), \n",
    "# #         meta={\n",
    "# #             'key_id': 'int64', \n",
    "# #             'trend': 'float64', \n",
    "# #             'seasonality': 'object', \n",
    "# #             'timestamp_ms': 'int64', \n",
    "# #             'processing_time': 'float64', \n",
    "# #             'runtime': 'float64', \n",
    "# #             'ingest_time': 'float64'\n",
    "# #         },\n",
    "#         axis=1\n",
    "#     )\n",
    "    \n",
    "    #print(\"converting to dask...\")\n",
    "    #results_df = from_pandas(results_df, npartitions=128)\n",
    "    \n",
    "    #joined_df = queries_df.join(results_df.set_index(\"key_id\"), on=\"key_id\", how=\"outer\", lsuffix='_query', rsuffix='_feature')\n",
    "    #query_result_df = joined_df[joined_df[\"timestamp_ms_query\"] >= joined_df[\"timestamp_ms_feature\"]].set_index(\"timestamp_ms_feature\", drop=False).groupby(by=[\"query_id\"]).max()\n",
    "    \n",
    "    #print(\"starting computation...\")\n",
    "    #key_result = query_result_df[query_result_df[\"key_id\"] == 3]\n",
    "    #key_result.compute()\n",
    "    #print(key_result)\n",
    "    #print(query_result_df)\n",
    "    #query_result_df.compute()\n",
    "    #print(joined_df.columns)\n",
    "    #print(result_file, query_result_df.columns)\n",
    "    \n",
    "    results[result_file] = query_result_df"
   ]
  },
  {
   "cell_type": "markdown",
   "id": "6f2aa778",
   "metadata": {},
   "source": [
    "## Oracle Feature Results for Queries "
   ]
  },
  {
   "cell_type": "code",
   "execution_count": null,
   "id": "3f1a2b63",
   "metadata": {},
   "outputs": [],
   "source": [
    "joined_df = join_queries_features(queries_df, oracle_df).set_index(\"query_id\")"
   ]
  },
  {
   "cell_type": "code",
   "execution_count": null,
   "id": "f335e096",
   "metadata": {},
   "outputs": [],
   "source": [
    "results[\"oracle\"] = queries_df.join(joined_df, on=\"query_id\", lsuffix='_query', rsuffix='_oracle')"
   ]
  },
  {
   "cell_type": "code",
   "execution_count": null,
   "id": "97392670",
   "metadata": {},
   "outputs": [],
   "source": [
    "oracle_predictions = results[\"oracle\"].dropna().apply(lambda x: predict(\n",
    "        int(x[\"value_query\"]), \n",
    "        int(x[\"trend\"]), \n",
    "        x[\"seasonality\"], \n",
    "        int(x[\"timestamp_ms_query\"]), \n",
    "        int(x[\"timestamp_ms_oracle\"]), \n",
    "        interval=5\n",
    "    ), axis=1)"
   ]
  },
  {
   "cell_type": "code",
   "execution_count": null,
   "id": "cc2ea31e",
   "metadata": {},
   "outputs": [],
   "source": [
    "results[\"oracle\"][\"prediction\"] = oracle_predictions"
   ]
  },
  {
   "cell_type": "markdown",
   "id": "762a3ec3",
   "metadata": {},
   "source": [
    "# Evaluate Approximated Features "
   ]
  },
  {
   "cell_type": "code",
   "execution_count": null,
   "id": "3daf5025",
   "metadata": {},
   "outputs": [],
   "source": [
    "from workloads.stl.stl_util import predict, predict_seasonality"
   ]
  },
  {
   "cell_type": "markdown",
   "id": "32d037c1",
   "metadata": {},
   "source": [
    "### Run predictions "
   ]
  },
  {
   "cell_type": "code",
   "execution_count": null,
   "id": "c5280e2e",
   "metadata": {},
   "outputs": [],
   "source": [
    "for key, df in results.items():\n",
    "    \n",
    "    if key == \"oracle\": continue \n",
    "\n",
    "    print(key)\n",
    "    staleness = df[\"timestamp_ms_query\"] - df[\"timestamp_ms_feature\"]\n",
    "    print(\"staleness\", staleness.mean())\n",
    "    \n",
    "    results[key][\"prediction\"] = df.dropna().apply(lambda x: predict(\n",
    "        int(x[\"value\"]), \n",
    "        int(x[\"trend\"]), \n",
    "        x[\"seasonality\"], \n",
    "        int(x[\"timestamp_ms_query\"]), \n",
    "        int(x[\"timestamp_ms_feature\"]), \n",
    "        interval=5\n",
    "    ), axis=1)\n",
    "    print(\"residual\", residuals.abs().mean())\n",
    "    \n",
    "    results[key][\"prediction_seasonality\"] = df.dropna().apply(lambda x: predict_seasonality(\n",
    "        x[\"seasonality\"], \n",
    "        int(x[\"timestamp_ms_query\"]), \n",
    "        int(x[\"timestamp_ms_feature\"]), \n",
    "        interval=5\n",
    "    ), axis=1)\n",
    "    print()"
   ]
  },
  {
   "cell_type": "code",
   "execution_count": null,
   "id": "6a5d326d",
   "metadata": {},
   "outputs": [],
   "source": [
    "from sktime.performance_metrics.forecasting import mean_squared_scaled_error\n",
    "from tqdm import tqdm "
   ]
  },
  {
   "cell_type": "code",
   "execution_count": null,
   "id": "27877296",
   "metadata": {},
   "outputs": [],
   "source": [
    "losses = {}\n",
    "for key, df in results.items():\n",
    "    \n",
    "    if key == \"oracle\": continue \n",
    "    print(key)\n",
    "    losses[key] = {}\n",
    "    \n",
    "    joined_df = results[key].join(results[\"oracle\"], on=\"query_id\", rsuffix='_oracle')\n",
    "    #print(joined_df.key_id_query.value_counts())\n",
    "    for key_id in tqdm(range(1, 101, 1)): \n",
    "        \n",
    "        df = joined_df[joined_df[\"key_id_query\"] == key_id].dropna(subset=[\"prediction\", \"prediction_oracle\", \"value\"])\n",
    "         \n",
    "        if len(df.index) == 0: \n",
    "            print(key, key_id, \"no results\")\n",
    "            continue \n",
    "        \n",
    "        y_true = df[\"prediction_oracle\"]\n",
    "        y_pred = df[\"prediction\"]\n",
    "        value = df[\"value\"]\n",
    "        \n",
    "        #y_true = results[\"oracle\"][results[\"oracle\"][\"key_id_query\"] == key_id][\"prediction\"]\n",
    "        #y_pred = results[key][results[key][\"key_id_query\"] == key_id][\"prediction\"]\n",
    "        #value = results[key][results[key][\"key_id_query\"] == key_id][\"value\"]\n",
    "        loss = mean_squared_scaled_error(\n",
    "            y_true=y_true, y_pred=y_pred, y_train=value\n",
    "        )\n",
    "        losses[key][key_id] = loss"
   ]
  },
  {
   "cell_type": "code",
   "execution_count": null,
   "id": "ffd0d0ae",
   "metadata": {},
   "outputs": [],
   "source": [
    "for key in losses.keys(): \n",
    "    print(key)\n",
    "    print(sum(list(losses[key].values())))"
   ]
  },
  {
   "cell_type": "code",
   "execution_count": null,
   "id": "ccafc97f",
   "metadata": {},
   "outputs": [],
   "source": [
    "residuals = query_oracle_df.apply(lambda x: predict(\n",
    "        int(x[\"value_query\"]), \n",
    "        int(x[\"trend\"]), \n",
    "        x[\"seasonality\"], \n",
    "        int(x[\"timestamp_ms\"]), \n",
    "        int(x[\"timestamp_ms\"]), \n",
    "        interval=5\n",
    "), axis=1)\n",
    "print(residuals.abs().mean())\n"
   ]
  },
  {
   "cell_type": "code",
   "execution_count": null,
   "id": "e460dd3b",
   "metadata": {},
   "outputs": [],
   "source": [
    "results[\"results_workers_4_lifo_window_128_slide_24.csv\"]"
   ]
  },
  {
   "cell_type": "markdown",
   "id": "49c9b9b9",
   "metadata": {},
   "source": [
    "## Per-key Evaluation "
   ]
  },
  {
   "cell_type": "code",
   "execution_count": null,
   "id": "64be873b",
   "metadata": {},
   "outputs": [],
   "source": [
    "results[\"results_workers_4_lifo_window_128_slide_128.csv\"]"
   ]
  },
  {
   "cell_type": "code",
   "execution_count": null,
   "id": "a2323ec5",
   "metadata": {},
   "outputs": [],
   "source": [
    "results[\"oracle\"][results[\"oracle\"][\"key_id_query\"] == 1]"
   ]
  },
  {
   "cell_type": "code",
   "execution_count": null,
   "id": "5db8a34e",
   "metadata": {},
   "outputs": [],
   "source": [
    "d = results[\"results_workers_4_lifo_window_128_slide_24.csv\"].join(results[\"oracle\"], on=\"query_id\", rsuffix=\"_oracle\")"
   ]
  },
  {
   "cell_type": "code",
   "execution_count": null,
   "id": "e944a086",
   "metadata": {},
   "outputs": [],
   "source": [
    "d[d[\"key_id_query\"] == 28]"
   ]
  },
  {
   "cell_type": "code",
   "execution_count": null,
   "id": "404130b6",
   "metadata": {},
   "outputs": [],
   "source": [
    "d"
   ]
  },
  {
   "cell_type": "code",
   "execution_count": null,
   "id": "4e054766",
   "metadata": {},
   "outputs": [],
   "source": []
  }
 ],
 "metadata": {
  "kernelspec": {
   "display_name": "Python 3",
   "language": "python",
   "name": "python3"
  },
  "language_info": {
   "codemirror_mode": {
    "name": "ipython",
    "version": 3
   },
   "file_extension": ".py",
   "mimetype": "text/x-python",
   "name": "python",
   "nbconvert_exporter": "python",
   "pygments_lexer": "ipython3",
   "version": "3.8.8"
  }
 },
 "nbformat": 4,
 "nbformat_minor": 5
}
