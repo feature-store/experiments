{
 "cells": [
  {
   "cell_type": "code",
   "execution_count": null,
   "id": "3e70dee0",
   "metadata": {},
   "outputs": [],
   "source": [
    "import sys \n",
    "sys.path.insert(1, \"../\")\n",
    "import pandas as pd\n",
    "import matplotlib.pyplot as plt\n",
    "import os\n",
    "import numpy as np\n",
    "import ast\n",
    "\n",
    "import dask.dataframe as dd\n",
    "from dask.dataframe import from_pandas\n",
    "\n",
    "from workloads.util import use_results, use_dataset\n",
    "\n",
    "%load_ext autoreload\n",
    "%autoreload 2"
   ]
  },
  {
   "cell_type": "code",
   "execution_count": null,
   "id": "6c42a5b0",
   "metadata": {},
   "outputs": [],
   "source": [
    "experiment = \"stl-yahoo-A4-keys-100-interval-10000-events-200000-queries-200000\"\n",
    "\n",
    "results_dir = use_results(experiment)\n",
    "dataset_dir = use_dataset(experiment, redownload=True)\n",
    "print(results_dir)\n",
    "print(dataset_dir)"
   ]
  },
  {
   "cell_type": "code",
   "execution_count": null,
   "id": "0b569a8c",
   "metadata": {
    "scrolled": true
   },
   "outputs": [],
   "source": [
    "os.listdir(dataset_dir)"
   ]
  },
  {
   "cell_type": "code",
   "execution_count": null,
   "id": "33abeeb9",
   "metadata": {},
   "outputs": [],
   "source": [
    "sorted(os.listdir(results_dir))"
   ]
  },
  {
   "cell_type": "code",
   "execution_count": null,
   "id": "ea110f0c",
   "metadata": {},
   "outputs": [],
   "source": [
    "#queries_df = from_pandas(pd.read_csv(f\"{dataset_dir}/queries.csv\").head(100000), npartitions=1000)\n",
    "queries_df = pd.read_csv(f\"{dataset_dir}/queries.csv\")\n",
    "events_df = pd.read_csv(f\"{dataset_dir}/events.csv\")\n",
    "oracle_df = pd.read_csv(f\"{dataset_dir}/oracle_features_672.csv\").dropna()\n",
    "oracle_df[\"seasonality\"] = oracle_df['seasonality'].dropna().apply(ast.literal_eval)"
   ]
  },
  {
   "cell_type": "code",
   "execution_count": null,
   "id": "13fc0705",
   "metadata": {},
   "outputs": [],
   "source": [
    "oracle_df[oracle_df[\"key_id\"] == 1]"
   ]
  },
  {
   "cell_type": "code",
   "execution_count": null,
   "id": "1f2f1530",
   "metadata": {},
   "outputs": [],
   "source": [
    "queries_df[queries_df[\"key_id\"] == 1]"
   ]
  },
  {
   "cell_type": "code",
   "execution_count": null,
   "id": "33652828",
   "metadata": {},
   "outputs": [],
   "source": [
    "oracle_df[\"seasonality\"] = oracle_df['seasonality'].dropna().apply(ast.literal_eval)"
   ]
  },
  {
   "cell_type": "code",
   "execution_count": null,
   "id": "bfaa2446",
   "metadata": {},
   "outputs": [],
   "source": [
    "from workloads.util import join_queries_features"
   ]
  },
  {
   "cell_type": "code",
   "execution_count": null,
   "id": "d870e627",
   "metadata": {},
   "outputs": [],
   "source": [
    "results_df = pd.read_csv(f\"{results_dir}/results_workers_4_lifo_window_128_slide_24.csv\")"
   ]
  },
  {
   "cell_type": "code",
   "execution_count": null,
   "id": "f263313e",
   "metadata": {},
   "outputs": [],
   "source": [
    "joined_df = join_queries_features(queries_df, results_df).set_index(\"query_id\")"
   ]
  },
  {
   "cell_type": "code",
   "execution_count": null,
   "id": "118d724f",
   "metadata": {},
   "outputs": [],
   "source": [
    "queries_df.join(joined_df, on=\"query_id\", lsuffix='_query', rsuffix='_feature')"
   ]
  },
  {
   "cell_type": "code",
   "execution_count": null,
   "id": "105c0a45",
   "metadata": {},
   "outputs": [],
   "source": [
    "joined_df"
   ]
  },
  {
   "cell_type": "code",
   "execution_count": null,
   "id": "07d00e59",
   "metadata": {},
   "outputs": [],
   "source": [
    "queries_df.sort_values(by=[\"key_id\", \"timestamp_ms\"]).iloc[237]"
   ]
  },
  {
   "cell_type": "code",
   "execution_count": null,
   "id": "f6877a40",
   "metadata": {},
   "outputs": [],
   "source": [
    "queries_df.iloc[237]"
   ]
  },
  {
   "cell_type": "markdown",
   "id": "9805ba61",
   "metadata": {},
   "source": [
    "## Feature Results for Queries "
   ]
  },
  {
   "cell_type": "code",
   "execution_count": null,
   "id": "2d851ff3",
   "metadata": {},
   "outputs": [],
   "source": [
    "result_files = [\n",
    " 'results_workers_1_lifo_window_672_slide_12.csv',\n",
    " 'results_workers_1_lifo_window_672_slide_192.csv',\n",
    " 'results_workers_1_lifo_window_672_slide_24.csv',\n",
    " 'results_workers_1_lifo_window_672_slide_384.csv',\n",
    " 'results_workers_1_lifo_window_672_slide_48.csv',\n",
    " 'results_workers_1_lifo_window_672_slide_672.csv',\n",
    " 'results_workers_1_lifo_window_672_slide_96.csv',\n",
    "]\n",
    "# result_files = os.listdir(results_dir)"
   ]
  },
  {
   "cell_type": "code",
   "execution_count": null,
   "id": "b63eace9",
   "metadata": {},
   "outputs": [],
   "source": [
    "results = {}"
   ]
  },
  {
   "cell_type": "code",
   "execution_count": null,
   "id": "cebfa7de",
   "metadata": {},
   "outputs": [],
   "source": [
    "for result_file in result_files: \n",
    "    results_df = pd.read_csv(f\"{results_dir}/{result_file}\")\n",
    "    print(result_file, \"updates:\", len(results_df.index))\n",
    "    #results_df[\"seasonality\"] = results_df['seasonality'].apply(ast.literal_eval)\n",
    "    \n",
    "    joined_df = join_queries_features(queries_df, results_df).set_index(\"query_id\")\n",
    "    joined_df.to_csv(f\"{results_dir}/query_{result_file}\")"
   ]
  },
  {
   "cell_type": "markdown",
   "id": "6f2aa778",
   "metadata": {},
   "source": [
    "## Oracle Feature Results for Queries "
   ]
  },
  {
   "cell_type": "code",
   "execution_count": null,
   "id": "ad826d53",
   "metadata": {},
   "outputs": [],
   "source": [
    "#joined_df = join_queries_features(queries_df, oracle_df).set_index(\"query_id\")"
   ]
  },
  {
   "cell_type": "code",
   "execution_count": null,
   "id": "bbadc8ac",
   "metadata": {},
   "outputs": [],
   "source": [
    "results[\"oracle\"] = queries_df.merge(oracle_df, on=[\"timestamp_ms\", \"key_id\", \"value\"]) #, lsuffix='_query', rsuffix='_oracle')"
   ]
  },
  {
   "cell_type": "code",
   "execution_count": null,
   "id": "416cdbe9",
   "metadata": {},
   "outputs": [],
   "source": [
    "results[\"oracle\"][results[\"oracle\"][\"key_id\"] == 1]"
   ]
  },
  {
   "cell_type": "code",
   "execution_count": null,
   "id": "97392670",
   "metadata": {},
   "outputs": [],
   "source": [
    "oracle_predictions = results[\"oracle\"].dropna().apply(lambda x: predict(\n",
    "        int(x[\"value\"]), \n",
    "        int(x[\"trend\"]), \n",
    "        x[\"seasonality\"], \n",
    "        int(x[\"timestamp_ms\"]), \n",
    "        int(x[\"timestamp_ms\"]), \n",
    "        interval=5\n",
    "    ), axis=1)"
   ]
  },
  {
   "cell_type": "code",
   "execution_count": null,
   "id": "cc2ea31e",
   "metadata": {},
   "outputs": [],
   "source": [
    "results[\"oracle\"][\"prediction\"] = oracle_predictions"
   ]
  },
  {
   "cell_type": "markdown",
   "id": "762a3ec3",
   "metadata": {},
   "source": [
    "# Evaluate Approximated Features "
   ]
  },
  {
   "cell_type": "code",
   "execution_count": null,
   "id": "3daf5025",
   "metadata": {},
   "outputs": [],
   "source": [
    "from workloads.stl.stl_util import predict, predict_seasonality"
   ]
  },
  {
   "cell_type": "markdown",
   "id": "cd5ab9b3",
   "metadata": {},
   "source": [
    "### Run predictions "
   ]
  },
  {
   "cell_type": "code",
   "execution_count": null,
   "id": "c5280e2e",
   "metadata": {},
   "outputs": [],
   "source": [
    "for key in result_files:\n",
    "    \n",
    "    if key == \"oracle\": continue \n",
    "        \n",
    "    joined_df = pd.read_csv(f\"{results_dir}/query_{key}\")\n",
    "    joined_df[\"seasonality\"] = joined_df['seasonality'].apply(ast.literal_eval)\n",
    "    print(joined_df.timestamp_ms.mean())\n",
    "    df = queries_df.merge(joined_df, on=[\"query_id\", \"key_id\"], suffixes=('_query', '_feature'))\n",
    "\n",
    "\n",
    "    results[key] = df\n",
    "    print(key)\n",
    "    staleness = df[\"timestamp_ms_query\"] - df[\"timestamp_ms_feature\"]\n",
    "    print(\"staleness\", staleness.mean())\n",
    "    \n",
    "    results[key][\"prediction\"] = df.dropna().apply(lambda x: predict(\n",
    "        int(x[\"value\"]), \n",
    "        int(x[\"trend\"]), \n",
    "        x[\"seasonality\"], \n",
    "        int(x[\"timestamp_ms_query\"]), \n",
    "        int(x[\"timestamp_ms_feature\"]), \n",
    "        interval=5\n",
    "    ), axis=1)\n",
    "    print(\"residual\", residuals.abs().mean())\n",
    "    \n",
    "    results[key][\"prediction_seasonality\"] = df.dropna().apply(lambda x: predict_seasonality(\n",
    "        x[\"seasonality\"], \n",
    "        int(x[\"timestamp_ms_query\"]), \n",
    "        int(x[\"timestamp_ms_feature\"]), \n",
    "        interval=5\n",
    "    ), axis=1)\n",
    "    print()"
   ]
  },
  {
   "cell_type": "code",
   "execution_count": null,
   "id": "e5279330",
   "metadata": {},
   "outputs": [],
   "source": [
    "from sktime.performance_metrics.forecasting import mean_squared_scaled_error\n",
    "from tqdm import tqdm "
   ]
  },
  {
   "cell_type": "code",
   "execution_count": null,
   "id": "7e6c1a12",
   "metadata": {},
   "outputs": [],
   "source": [
    "losses = {}\n",
    "for key, df in results.items():\n",
    "    \n",
    "    if key == \"oracle\": continue \n",
    "    print(key)\n",
    "    losses[key] = {}\n",
    "    \n",
    "    joined_df = results[key].join(results[\"oracle\"].set_index(\"query_id\"), on=\"query_id\", rsuffix='_oracle')\n",
    "    #print(joined_df.key_id_query.value_counts())\n",
    "    for key_id in tqdm(range(1, 101, 1)): \n",
    "        \n",
    "        df = joined_df[joined_df[\"key_id\"] == key_id].dropna(subset=[\"prediction\", \"prediction_oracle\", \"value\"])\n",
    "         \n",
    "        if len(df.index) == 0: \n",
    "            print(key, key_id, \"no results\")\n",
    "            continue \n",
    "        \n",
    "        y_true = df[\"prediction_oracle\"]\n",
    "        y_pred = df[\"prediction\"]\n",
    "        value = df[\"value\"]\n",
    "        \n",
    "        #y_true = results[\"oracle\"][results[\"oracle\"][\"key_id_query\"] == key_id][\"prediction\"]\n",
    "        #y_pred = results[key][results[key][\"key_id_query\"] == key_id][\"prediction\"]\n",
    "        #value = results[key][results[key][\"key_id_query\"] == key_id][\"value\"]\n",
    "        loss = mean_squared_scaled_error(\n",
    "            y_true=y_true, y_pred=y_pred, y_train=value\n",
    "        )\n",
    "        losses[key][key_id] = loss"
   ]
  },
  {
   "cell_type": "code",
   "execution_count": null,
   "id": "74c2cdb0",
   "metadata": {},
   "outputs": [],
   "source": [
    "for key in losses.keys(): \n",
    "    print(key, len(list(losses[key].values())))\n",
    "    print(sum(list(losses[key].values())))\n",
    "    print(list(losses[key].keys()))"
   ]
  },
  {
   "cell_type": "code",
   "execution_count": null,
   "id": "6caeac33",
   "metadata": {},
   "outputs": [],
   "source": [
    "import matplotlib.pyplot as plt\n",
    "import numpy as np\n",
    "from collections import OrderedDict\n",
    "\n",
    "L = 5\n",
    "plt.rcParams[\"figure.figsize\"] = (10,5)\n",
    "\n",
    "heights_a = list(losses[\"results_workers_1_lifo_window_672_slide_24.csv\"].values())\n",
    "heights_b = list(losses[\"results_workers_1_lifo_window_672_slide_48.csv\"].values())\n",
    "heights_c =  list(losses[\"results_workers_1_lifo_window_672_slide_96.csv\"].values())\n",
    "\n",
    "#position = np.arange(L)\n",
    "position = range(1, 30, 1)\n",
    "colors = ['C0', 'C1', 'C2']\n",
    "labels = [\"slide=24\", \"slide=48\", \"slide=96\"]\n",
    "\n",
    "plt.figure()\n",
    "\n",
    "for x, ha, hb, hc in zip(position, heights_a, heights_b, heights_c):\n",
    "    for i, (h, c, l) in enumerate(sorted(zip([ha, hb, hc], colors, labels))):\n",
    "        plt.bar(x, h, color=c, zorder=-i, label=l)\n",
    "\n",
    "handles, labels = plt.gca().get_legend_handles_labels()\n",
    "by_label = OrderedDict(zip(labels, handles))\n",
    "plt.legend(by_label.values(), by_label.keys())\n",
    "plt.xlabel(\"Key\")\n",
    "plt.ylabel(\"MASE Loss\")\n",
    "\n",
    "plt.show()"
   ]
  },
  {
   "cell_type": "code",
   "execution_count": null,
   "id": "384ead75",
   "metadata": {},
   "outputs": [],
   "source": [
    "import matplotlib.pyplot as plt\n",
    "import numpy as np\n",
    "from collections import OrderedDict\n",
    "\n",
    "L = 5\n",
    "plt.rcParams[\"figure.figsize\"] = (15,3)\n",
    "\n",
    "heights_a = list(losses[\"results_workers_1_lifo_window_672_slide_192.csv\"].values())\n",
    "heights_b = list(losses[\"results_workers_1_lifo_window_672_slide_672.csv\"].values())\n",
    "\n",
    "#position = np.arange(L)\n",
    "position = range(1, 101, 1)\n",
    "colors = ['blue', 'red']\n",
    "labels = [\"slide=192\", \"slide=672\"]\n",
    "\n",
    "plt.figure()\n",
    "\n",
    "for x, ha, hb, hc in zip(position, heights_a, heights_b, heights_c):\n",
    "    for i, (h, c, l) in enumerate(sorted(zip([ha, hb, hc], colors, labels))):\n",
    "        plt.bar(x, h, color=c, zorder=-i, label=l)\n",
    "\n",
    "handles, labels = plt.gca().get_legend_handles_labels()\n",
    "by_label = OrderedDict(zip(labels, handles))\n",
    "plt.legend(by_label.values(), by_label.keys())\n",
    "plt.xlabel(\"Key\")\n",
    "plt.ylabel(\"MASE Loss\")\n",
    "\n",
    "plt.show()"
   ]
  },
  {
   "cell_type": "code",
   "execution_count": null,
   "id": "8a0b1731",
   "metadata": {},
   "outputs": [],
   "source": [
    "import matplotlib.pyplot as plt\n",
    "import numpy as np\n",
    "from collections import OrderedDict\n",
    "\n",
    "L = 5\n",
    "plt.rcParams[\"figure.figsize\"] = (15,3)\n",
    "\n",
    "heights_a = list(losses[\"results_workers_1_lifo_window_672_slide_48.csv\"].values())\n",
    "heights_b = list(losses[\"results_workers_1_lifo_window_672_slide_192.csv\"].values())\n",
    "\n",
    "#position = np.arange(L)\n",
    "position = range(1, 101, 1)\n",
    "colors = ['blue', 'red']\n",
    "labels = [\"slide=48\", \"slide=192\"]\n",
    "\n",
    "plt.figure()\n",
    "\n",
    "for x, ha, hb, hc in zip(position, heights_a, heights_b, heights_c):\n",
    "    for i, (h, c, l) in enumerate(sorted(zip([ha, hb, hc], colors, labels))):\n",
    "        plt.bar(x, h, color=c, zorder=-i, label=l)\n",
    "\n",
    "handles, labels = plt.gca().get_legend_handles_labels()\n",
    "by_label = OrderedDict(zip(labels, handles))\n",
    "plt.legend(by_label.values(), by_label.keys())\n",
    "plt.xlabel(\"Key\")\n",
    "plt.ylabel(\"MASE Loss\")\n",
    "\n",
    "plt.show()"
   ]
  },
  {
   "cell_type": "code",
   "execution_count": null,
   "id": "16867279",
   "metadata": {},
   "outputs": [],
   "source": [
    "import matplotlib.pyplot as plt\n",
    "import numpy as np\n",
    "from collections import OrderedDict\n",
    "\n",
    "L = 5\n",
    "plt.rcParams[\"figure.figsize\"] = (15,3)\n",
    "\n",
    "heights_a = list(losses[\"results_workers_1_lifo_window_672_slide_24.csv\"].values())\n",
    "heights_b = list(losses[\"results_workers_1_lifo_window_672_slide_48.csv\"].values())\n",
    "\n",
    "#position = np.arange(L)\n",
    "position = range(1, 101, 1)\n",
    "colors = ['blue', 'red']\n",
    "labels = [\"slide=24\", \"slide=48\"]\n",
    "\n",
    "plt.figure()\n",
    "\n",
    "for x, ha, hb, hc in zip(position, heights_a, heights_b, heights_c):\n",
    "    for i, (h, c, l) in enumerate(sorted(zip([ha, hb, hc], colors, labels))):\n",
    "        plt.bar(x, h, color=c, zorder=-i, label=l)\n",
    "\n",
    "handles, labels = plt.gca().get_legend_handles_labels()\n",
    "by_label = OrderedDict(zip(labels, handles))\n",
    "plt.legend(by_label.values(), by_label.keys())\n",
    "plt.xlabel(\"Key\")\n",
    "plt.ylabel(\"MASE Loss\")\n",
    "\n",
    "plt.show()"
   ]
  },
  {
   "cell_type": "code",
   "execution_count": null,
   "id": "ecd4246d",
   "metadata": {},
   "outputs": [],
   "source": [
    "import matplotlib.pyplot as plt\n",
    "import numpy as np\n",
    "from collections import OrderedDict\n",
    "\n",
    "L = 5\n",
    "plt.rcParams[\"figure.figsize\"] = (15,5)\n",
    "\n",
    "heights_a = list(losses[\"results_workers_1_lifo_window_672_slide_24.csv\"].values())\n",
    "heights_b = list(losses[\"results_workers_1_lifo_window_672_slide_192.csv\"].values())\n",
    "\n",
    "#position = np.arange(L)\n",
    "position = range(1, 101, 1)\n",
    "colors = ['blue', 'red']\n",
    "labels = [\"slide=24\", \"slide=192\"]\n",
    "\n",
    "plt.figure()\n",
    "\n",
    "for x, ha, hb, hc in zip(position, heights_a, heights_b, heights_c):\n",
    "    for i, (h, c, l) in enumerate(sorted(zip([ha, hb, hc], colors, labels))):\n",
    "        plt.bar(x, h, color=c, zorder=-i, label=l)\n",
    "\n",
    "handles, labels = plt.gca().get_legend_handles_labels()\n",
    "by_label = OrderedDict(zip(labels, handles))\n",
    "plt.legend(by_label.values(), by_label.keys())\n",
    "plt.xlabel(\"Key\")\n",
    "plt.ylabel(\"MASE Loss\")\n",
    "\n",
    "plt.show()"
   ]
  },
  {
   "cell_type": "code",
   "execution_count": null,
   "id": "cb877765",
   "metadata": {},
   "outputs": [],
   "source": [
    "# plot key=1, 6, 20"
   ]
  },
  {
   "cell_type": "code",
   "execution_count": null,
   "id": "e78e8e4b",
   "metadata": {},
   "outputs": [],
   "source": [
    "import matplotlib.pyplot as plt\n",
    "import numpy as np\n",
    "from collections import OrderedDict\n",
    "\n",
    "L = 5\n",
    "plt.rcParams[\"figure.figsize\"] = (10,5)\n",
    "\n",
    "heights_a = list(losses[\"results_workers_2_lifo_window_672_slide_96.csv\"].values())\n",
    "heights_b = list(losses[\"results_workers_2_lifo_window_672_slide_192.csv\"].values())\n",
    "heights_c =  list(losses[\"results_workers_2_lifo_window_672_slide_384.csv\"].values())\n",
    "\n",
    "#position = np.arange(L)\n",
    "position = range(1, 30, 1)\n",
    "colors = ['C0', 'C1', 'C2']\n",
    "labels = [\"slide=96\", \"slide=192\", \"slide=384\"]\n",
    "\n",
    "plt.figure()\n",
    "\n",
    "for x, ha, hb, hc in zip(position, heights_a, heights_b, heights_c):\n",
    "    for i, (h, c, l) in enumerate(sorted(zip([ha, hb, hc], colors, labels))):\n",
    "        plt.bar(x, h, color=c, zorder=-i, label=l)\n",
    "\n",
    "handles, labels = plt.gca().get_legend_handles_labels()\n",
    "by_label = OrderedDict(zip(labels, handles))\n",
    "plt.legend(by_label.values(), by_label.keys())\n",
    "plt.xlabel(\"Key\")\n",
    "plt.ylabel(\"MASE Loss\")\n",
    "\n",
    "plt.show()"
   ]
  },
  {
   "cell_type": "code",
   "execution_count": null,
   "id": "ccafc97f",
   "metadata": {},
   "outputs": [],
   "source": [
    "residuals = query_oracle_df.apply(lambda x: predict(\n",
    "        int(x[\"value_query\"]), \n",
    "        int(x[\"trend\"]), \n",
    "        x[\"seasonality\"], \n",
    "        int(x[\"timestamp_ms\"]), \n",
    "        int(x[\"timestamp_ms\"]), \n",
    "        interval=5\n",
    "), axis=1)\n",
    "print(residuals.abs().mean())\n"
   ]
  },
  {
   "cell_type": "code",
   "execution_count": null,
   "id": "e460dd3b",
   "metadata": {},
   "outputs": [],
   "source": [
    "results[\"results_workers_4_lifo_window_128_slide_24.csv\"]"
   ]
  },
  {
   "cell_type": "markdown",
   "id": "49c9b9b9",
   "metadata": {},
   "source": [
    "## Per-key Evaluation "
   ]
  },
  {
   "cell_type": "code",
   "execution_count": null,
   "id": "64be873b",
   "metadata": {},
   "outputs": [],
   "source": [
    "results[\"results_workers_4_lifo_window_128_slide_128.csv\"]"
   ]
  },
  {
   "cell_type": "code",
   "execution_count": null,
   "id": "7facaa53",
   "metadata": {},
   "outputs": [],
   "source": [
    "results[\"oracle\"][results[\"oracle\"][\"key_id_query\"] == 1]"
   ]
  },
  {
   "cell_type": "code",
   "execution_count": null,
   "id": "a4d82576",
   "metadata": {},
   "outputs": [],
   "source": [
    "d = results[\"results_workers_4_lifo_window_672_slide_96.csv\"].join(results[\"oracle\"].set_index(\"query_id\"), on=\"query_id\", rsuffix=\"_oracle\")"
   ]
  },
  {
   "cell_type": "code",
   "execution_count": null,
   "id": "214c003a",
   "metadata": {},
   "outputs": [],
   "source": [
    "d[d[\"key_id_query\"] == 1]"
   ]
  },
  {
   "cell_type": "code",
   "execution_count": null,
   "id": "2c2ed57b",
   "metadata": {},
   "outputs": [],
   "source": [
    "results[\"results_workers_4_lifo_window_672_slide_96.csv\"][results[\"results_workers_4_lifo_window_672_slide_96.csv\"][\"key_id_query\"] == 1]"
   ]
  },
  {
   "cell_type": "code",
   "execution_count": null,
   "id": "c10b8431",
   "metadata": {},
   "outputs": [],
   "source": [
    "results[\"oracle\"][results[\"oracle\"][\"key_id_oracle\"] == 1].sort_values(by=\"timestamp_ms_oracle\")"
   ]
  },
  {
   "cell_type": "code",
   "execution_count": null,
   "id": "18fd4a30",
   "metadata": {},
   "outputs": [],
   "source": [
    "results[\"results_workers_4_lifo_window_672_slide_96.csv\"][results[\"results_workers_4_lifo_window_672_slide_96.csv\"][\"key_id_feature\"] == 1]"
   ]
  },
  {
   "cell_type": "code",
   "execution_count": null,
   "id": "83d8dfe5",
   "metadata": {},
   "outputs": [],
   "source": [
    "results[\"results_workers_4_lifo_window_672_slide_192.csv\"][results[\"results_workers_4_lifo_window_672_slide_192.csv\"][\"key_id_feature\"] == 1]"
   ]
  },
  {
   "cell_type": "code",
   "execution_count": null,
   "id": "5ea261f4",
   "metadata": {},
   "outputs": [],
   "source": [
    "results.keys()"
   ]
  },
  {
   "cell_type": "code",
   "execution_count": null,
   "id": "c60c1f9c",
   "metadata": {},
   "outputs": [],
   "source": [
    "results['results_workers_2_lifo_window_672_slide_192.csv'][results['results_workers_2_lifo_window_672_slide_192.csv'][\"key_id_feature\"]== 40]"
   ]
  },
  {
   "cell_type": "code",
   "execution_count": null,
   "id": "ab008656",
   "metadata": {},
   "outputs": [],
   "source": [
    "results['results_workers_2_lifo_window_672_slide_672.csv'][results['results_workers_2_lifo_window_672_slide_672.csv'][\"key_id_feature\"]== 40]"
   ]
  },
  {
   "cell_type": "code",
   "execution_count": null,
   "id": "3e3496e9",
   "metadata": {},
   "outputs": [],
   "source": [
    "df = pd.read_csv(f'{results_dir}/results_workers_2_lifo_window_672_slide_672.csv')"
   ]
  },
  {
   "cell_type": "code",
   "execution_count": null,
   "id": "15405bb9",
   "metadata": {},
   "outputs": [],
   "source": [
    "df[df[\"key_id\"] == 40]"
   ]
  },
  {
   "cell_type": "code",
   "execution_count": null,
   "id": "b08b7197",
   "metadata": {},
   "outputs": [],
   "source": [
    "joined_df = join_queries_features(queries_df, df).set_index(\"query_id\")"
   ]
  },
  {
   "cell_type": "code",
   "execution_count": null,
   "id": "bb10f61f",
   "metadata": {},
   "outputs": [],
   "source": [
    "joined_df[joined_df[\"key_id\"] == 40]"
   ]
  },
  {
   "cell_type": "code",
   "execution_count": null,
   "id": "bf347fa2",
   "metadata": {},
   "outputs": [],
   "source": [
    "query_results_df = queries_df.merge(joined_df, on=[\"query_id\", \"key_id\"], suffixes=('_query', '_feature'))"
   ]
  },
  {
   "cell_type": "code",
   "execution_count": null,
   "id": "ee13bf1c",
   "metadata": {},
   "outputs": [],
   "source": [
    "query_results_df[query_results_df[\"key_id\"] == 40]"
   ]
  },
  {
   "cell_type": "code",
   "execution_count": null,
   "id": "51649b3f",
   "metadata": {},
   "outputs": [],
   "source": [
    "queries_df"
   ]
  },
  {
   "cell_type": "code",
   "execution_count": null,
   "id": "ca21db0e",
   "metadata": {},
   "outputs": [],
   "source": []
  }
 ],
 "metadata": {
  "kernelspec": {
   "display_name": "Python 3",
   "language": "python",
   "name": "python3"
  },
  "language_info": {
   "codemirror_mode": {
    "name": "ipython",
    "version": 3
   },
   "file_extension": ".py",
   "mimetype": "text/x-python",
   "name": "python",
   "nbconvert_exporter": "python",
   "pygments_lexer": "ipython3",
   "version": "3.8.8"
  }
 },
 "nbformat": 4,
 "nbformat_minor": 5
}
