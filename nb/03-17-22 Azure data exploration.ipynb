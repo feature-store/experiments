{
 "cells": [
  {
   "cell_type": "code",
   "execution_count": 3,
   "metadata": {},
   "outputs": [
    {
     "ename": "ModuleNotFoundError",
     "evalue": "No module named 'sktime'",
     "output_type": "error",
     "traceback": [
      "\u001b[0;31m---------------------------------------------------------------------------\u001b[0m",
      "\u001b[0;31mModuleNotFoundError\u001b[0m                       Traceback (most recent call last)",
      "Input \u001b[0;32mIn [3]\u001b[0m, in \u001b[0;36m<cell line: 3>\u001b[0;34m()\u001b[0m\n\u001b[1;32m      1\u001b[0m \u001b[38;5;28;01mfrom\u001b[39;00m \u001b[38;5;21;01mstatsmodels\u001b[39;00m\u001b[38;5;21;01m.\u001b[39;00m\u001b[38;5;21;01mtsa\u001b[39;00m\u001b[38;5;21;01m.\u001b[39;00m\u001b[38;5;21;01marima\u001b[39;00m\u001b[38;5;21;01m.\u001b[39;00m\u001b[38;5;21;01mmodel\u001b[39;00m \u001b[38;5;28;01mimport\u001b[39;00m ARIMA\n\u001b[1;32m      2\u001b[0m \u001b[38;5;28;01mfrom\u001b[39;00m \u001b[38;5;21;01mstatsmodels\u001b[39;00m\u001b[38;5;21;01m.\u001b[39;00m\u001b[38;5;21;01mtsa\u001b[39;00m\u001b[38;5;21;01m.\u001b[39;00m\u001b[38;5;21;01mforecasting\u001b[39;00m\u001b[38;5;21;01m.\u001b[39;00m\u001b[38;5;21;01mstl\u001b[39;00m \u001b[38;5;28;01mimport\u001b[39;00m STLForecast\n\u001b[0;32m----> 3\u001b[0m \u001b[38;5;28;01mfrom\u001b[39;00m \u001b[38;5;21;01msktime\u001b[39;00m\u001b[38;5;21;01m.\u001b[39;00m\u001b[38;5;21;01mperformance_metrics\u001b[39;00m\u001b[38;5;21;01m.\u001b[39;00m\u001b[38;5;21;01mforecasting\u001b[39;00m \u001b[38;5;28;01mimport\u001b[39;00m mean_absolute_scaled_error\n\u001b[1;32m      5\u001b[0m \u001b[38;5;28;01mfrom\u001b[39;00m \u001b[38;5;21;01mtqdm\u001b[39;00m \u001b[38;5;28;01mimport\u001b[39;00m tqdm\n\u001b[1;32m      6\u001b[0m \u001b[38;5;28;01mfrom\u001b[39;00m \u001b[38;5;21;01mstatsmodels\u001b[39;00m\u001b[38;5;21;01m.\u001b[39;00m\u001b[38;5;21;01mtsa\u001b[39;00m\u001b[38;5;21;01m.\u001b[39;00m\u001b[38;5;21;01mseasonal\u001b[39;00m \u001b[38;5;28;01mimport\u001b[39;00m STL\n",
      "\u001b[0;31mModuleNotFoundError\u001b[0m: No module named 'sktime'"
     ]
    }
   ],
   "source": [
    "from statsmodels.tsa.arima.model import ARIMA\n",
    "from statsmodels.tsa.forecasting.stl import STLForecast\n",
    "from sktime.performance_metrics.forecasting import mean_absolute_scaled_error\n",
    "\n",
    "from tqdm import tqdm\n",
    "from statsmodels.tsa.seasonal import STL\n",
    "\n",
    "import sys \n",
    "sys.path.insert(1, \"../\")\n",
    "import pandas as pd\n",
    "import matplotlib.pyplot as plt\n",
    "import os\n",
    "import numpy as np\n",
    "import ast\n",
    "\n",
    "import dask.dataframe as dd\n",
    "from dask.dataframe import from_pandas\n",
    "import json\n",
    "\n",
    "from collections import defaultdict\n",
    "from workloads.util import use_results, use_dataset, join_queries_features\n",
    "\n",
    "%load_ext autoreload\n",
    "%autoreload 2"
   ]
  },
  {
   "cell_type": "code",
   "execution_count": 4,
   "metadata": {},
   "outputs": [
    {
     "name": "stdout",
     "output_type": "stream",
     "text": [
      "/data/wooders/ralf-vldb//datasets/azure\n"
     ]
    }
   ],
   "source": [
    "dataset_dir = use_dataset(\"azure\")"
   ]
  },
  {
   "cell_type": "code",
   "execution_count": 5,
   "metadata": {},
   "outputs": [],
   "source": [
    "#df = pd.read_csv(\"/data/wooders/azure/vm_cpu_readings-file-1-of-195.csv\")"
   ]
  },
  {
   "cell_type": "code",
   "execution_count": 33,
   "metadata": {},
   "outputs": [
    {
     "name": "stderr",
     "output_type": "stream",
     "text": [
      "100%|██████████| 9/9 [05:05<00:00, 33.92s/it]\n"
     ]
    }
   ],
   "source": [
    "dfs = []\n",
    "test = True\n",
    "if test: \n",
    "    test_keys = json.load(open(\"test_keys.json\", \"r\"))\n",
    "for file in tqdm(os.listdir(dataset_dir)):\n",
    "    if not file.endswith(\".csv\") or \"schema\" in file: continue \n",
    "\n",
    "    df = pd.read_csv(os.path.join(dataset_dir, file), header=None)\n",
    "    df.columns=[\"timestamp\", \"vm_id\", \"min\", \"max\", \"avg\"]\n",
    "    if test: \n",
    "        df = df[df.vm_id.isin(test_keys)]\n",
    "\n",
    "    dfs.append(df)\n",
    "    #if len(dfs) >= 3: break\n",
    "  "
   ]
  },
  {
   "cell_type": "code",
   "execution_count": 34,
   "metadata": {},
   "outputs": [
    {
     "data": {
      "text/html": [
       "<div>\n",
       "<style scoped>\n",
       "    .dataframe tbody tr th:only-of-type {\n",
       "        vertical-align: middle;\n",
       "    }\n",
       "\n",
       "    .dataframe tbody tr th {\n",
       "        vertical-align: top;\n",
       "    }\n",
       "\n",
       "    .dataframe thead th {\n",
       "        text-align: right;\n",
       "    }\n",
       "</style>\n",
       "<table border=\"1\" class=\"dataframe\">\n",
       "  <thead>\n",
       "    <tr style=\"text-align: right;\">\n",
       "      <th></th>\n",
       "      <th>timestamp</th>\n",
       "      <th>vm_id</th>\n",
       "      <th>min</th>\n",
       "      <th>max</th>\n",
       "      <th>avg</th>\n",
       "    </tr>\n",
       "  </thead>\n",
       "  <tbody>\n",
       "    <tr>\n",
       "      <th>45544</th>\n",
       "      <td>80100</td>\n",
       "      <td>kyCjJRF6wJtFpFcf1e5qpaCvMhGzwYIyqTMnPgPWuJZbCV...</td>\n",
       "      <td>0.181789</td>\n",
       "      <td>3.927840</td>\n",
       "      <td>1.700451</td>\n",
       "    </tr>\n",
       "    <tr>\n",
       "      <th>45545</th>\n",
       "      <td>80100</td>\n",
       "      <td>OxnvTtD8HVE86ZRuMlM3b76MBbUL+Rt4QSqqyCeSB+po8a...</td>\n",
       "      <td>0.640966</td>\n",
       "      <td>1.394346</td>\n",
       "      <td>0.919743</td>\n",
       "    </tr>\n",
       "    <tr>\n",
       "      <th>45546</th>\n",
       "      <td>80100</td>\n",
       "      <td>D3sqz0npFD3v6VqJG0k33zEvOiscFSSb12GYazz634mKs8...</td>\n",
       "      <td>2.369279</td>\n",
       "      <td>79.577758</td>\n",
       "      <td>7.843582</td>\n",
       "    </tr>\n",
       "    <tr>\n",
       "      <th>45548</th>\n",
       "      <td>80100</td>\n",
       "      <td>u11JZYQETO83diVD5ffoqQc+RvgCTJx5d1nXG7QxHuKBoy...</td>\n",
       "      <td>7.525755</td>\n",
       "      <td>10.592764</td>\n",
       "      <td>8.451798</td>\n",
       "    </tr>\n",
       "    <tr>\n",
       "      <th>45550</th>\n",
       "      <td>80100</td>\n",
       "      <td>wYMq8ESCXiu3CYAwgcEVzW48JS+oRixaExyc+T4CbWRRgg...</td>\n",
       "      <td>1.338155</td>\n",
       "      <td>9.838779</td>\n",
       "      <td>5.431936</td>\n",
       "    </tr>\n",
       "    <tr>\n",
       "      <th>...</th>\n",
       "      <td>...</td>\n",
       "      <td>...</td>\n",
       "      <td>...</td>\n",
       "      <td>...</td>\n",
       "      <td>...</td>\n",
       "    </tr>\n",
       "    <tr>\n",
       "      <th>9990448</th>\n",
       "      <td>93600</td>\n",
       "      <td>WPgv3rmeAjCaIn+NNGOvofvvL6NyhgBh+BEkAGQJ0HTwAH...</td>\n",
       "      <td>1.659131</td>\n",
       "      <td>13.024813</td>\n",
       "      <td>3.150655</td>\n",
       "    </tr>\n",
       "    <tr>\n",
       "      <th>9990449</th>\n",
       "      <td>93600</td>\n",
       "      <td>hFSlIMvwonA9ZbXgupTa02OUc0EWp5jR5Ni+yh9FDbyCP+...</td>\n",
       "      <td>11.907817</td>\n",
       "      <td>14.643764</td>\n",
       "      <td>12.587700</td>\n",
       "    </tr>\n",
       "    <tr>\n",
       "      <th>9990453</th>\n",
       "      <td>93600</td>\n",
       "      <td>8ntrdFN7gwosjT8eriK9bWGzVzCmYqiKNIF2vJKq3RE7cl...</td>\n",
       "      <td>4.119876</td>\n",
       "      <td>35.198791</td>\n",
       "      <td>10.262689</td>\n",
       "    </tr>\n",
       "    <tr>\n",
       "      <th>9990456</th>\n",
       "      <td>93600</td>\n",
       "      <td>45xXd0tdlsDmz2Ej6G2Luy3jx+IEWIUUmgDEmJdlPkHw38...</td>\n",
       "      <td>5.361053</td>\n",
       "      <td>38.388881</td>\n",
       "      <td>17.713672</td>\n",
       "    </tr>\n",
       "    <tr>\n",
       "      <th>9990457</th>\n",
       "      <td>93600</td>\n",
       "      <td>N/Fy18l0SSnjQ01P7R6yyzGVCQDGfxIc+DlcDmyNUPRuoK...</td>\n",
       "      <td>3.021238</td>\n",
       "      <td>51.383707</td>\n",
       "      <td>6.596767</td>\n",
       "    </tr>\n",
       "  </tbody>\n",
       "</table>\n",
       "<p>46000 rows × 5 columns</p>\n",
       "</div>"
      ],
      "text/plain": [
       "         timestamp                                              vm_id  \\\n",
       "45544        80100  kyCjJRF6wJtFpFcf1e5qpaCvMhGzwYIyqTMnPgPWuJZbCV...   \n",
       "45545        80100  OxnvTtD8HVE86ZRuMlM3b76MBbUL+Rt4QSqqyCeSB+po8a...   \n",
       "45546        80100  D3sqz0npFD3v6VqJG0k33zEvOiscFSSb12GYazz634mKs8...   \n",
       "45548        80100  u11JZYQETO83diVD5ffoqQc+RvgCTJx5d1nXG7QxHuKBoy...   \n",
       "45550        80100  wYMq8ESCXiu3CYAwgcEVzW48JS+oRixaExyc+T4CbWRRgg...   \n",
       "...            ...                                                ...   \n",
       "9990448      93600  WPgv3rmeAjCaIn+NNGOvofvvL6NyhgBh+BEkAGQJ0HTwAH...   \n",
       "9990449      93600  hFSlIMvwonA9ZbXgupTa02OUc0EWp5jR5Ni+yh9FDbyCP+...   \n",
       "9990453      93600  8ntrdFN7gwosjT8eriK9bWGzVzCmYqiKNIF2vJKq3RE7cl...   \n",
       "9990456      93600  45xXd0tdlsDmz2Ej6G2Luy3jx+IEWIUUmgDEmJdlPkHw38...   \n",
       "9990457      93600  N/Fy18l0SSnjQ01P7R6yyzGVCQDGfxIc+DlcDmyNUPRuoK...   \n",
       "\n",
       "               min        max        avg  \n",
       "45544     0.181789   3.927840   1.700451  \n",
       "45545     0.640966   1.394346   0.919743  \n",
       "45546     2.369279  79.577758   7.843582  \n",
       "45548     7.525755  10.592764   8.451798  \n",
       "45550     1.338155   9.838779   5.431936  \n",
       "...            ...        ...        ...  \n",
       "9990448   1.659131  13.024813   3.150655  \n",
       "9990449  11.907817  14.643764  12.587700  \n",
       "9990453   4.119876  35.198791  10.262689  \n",
       "9990456   5.361053  38.388881  17.713672  \n",
       "9990457   3.021238  51.383707   6.596767  \n",
       "\n",
       "[46000 rows x 5 columns]"
      ]
     },
     "execution_count": 34,
     "metadata": {},
     "output_type": "execute_result"
    }
   ],
   "source": [
    "dfs[0]"
   ]
  },
  {
   "cell_type": "code",
   "execution_count": 35,
   "metadata": {},
   "outputs": [
    {
     "data": {
      "text/html": [
       "<div>\n",
       "<style scoped>\n",
       "    .dataframe tbody tr th:only-of-type {\n",
       "        vertical-align: middle;\n",
       "    }\n",
       "\n",
       "    .dataframe tbody tr th {\n",
       "        vertical-align: top;\n",
       "    }\n",
       "\n",
       "    .dataframe thead th {\n",
       "        text-align: right;\n",
       "    }\n",
       "</style>\n",
       "<table border=\"1\" class=\"dataframe\">\n",
       "  <thead>\n",
       "    <tr style=\"text-align: right;\">\n",
       "      <th></th>\n",
       "      <th>timestamp</th>\n",
       "      <th>vm_id</th>\n",
       "      <th>min</th>\n",
       "      <th>max</th>\n",
       "      <th>avg</th>\n",
       "    </tr>\n",
       "  </thead>\n",
       "  <tbody>\n",
       "    <tr>\n",
       "      <th>45544</th>\n",
       "      <td>80100</td>\n",
       "      <td>kyCjJRF6wJtFpFcf1e5qpaCvMhGzwYIyqTMnPgPWuJZbCV...</td>\n",
       "      <td>0.181789</td>\n",
       "      <td>3.927840</td>\n",
       "      <td>1.700451</td>\n",
       "    </tr>\n",
       "    <tr>\n",
       "      <th>45545</th>\n",
       "      <td>80100</td>\n",
       "      <td>OxnvTtD8HVE86ZRuMlM3b76MBbUL+Rt4QSqqyCeSB+po8a...</td>\n",
       "      <td>0.640966</td>\n",
       "      <td>1.394346</td>\n",
       "      <td>0.919743</td>\n",
       "    </tr>\n",
       "    <tr>\n",
       "      <th>45546</th>\n",
       "      <td>80100</td>\n",
       "      <td>D3sqz0npFD3v6VqJG0k33zEvOiscFSSb12GYazz634mKs8...</td>\n",
       "      <td>2.369279</td>\n",
       "      <td>79.577758</td>\n",
       "      <td>7.843582</td>\n",
       "    </tr>\n",
       "    <tr>\n",
       "      <th>45548</th>\n",
       "      <td>80100</td>\n",
       "      <td>u11JZYQETO83diVD5ffoqQc+RvgCTJx5d1nXG7QxHuKBoy...</td>\n",
       "      <td>7.525755</td>\n",
       "      <td>10.592764</td>\n",
       "      <td>8.451798</td>\n",
       "    </tr>\n",
       "    <tr>\n",
       "      <th>45550</th>\n",
       "      <td>80100</td>\n",
       "      <td>wYMq8ESCXiu3CYAwgcEVzW48JS+oRixaExyc+T4CbWRRgg...</td>\n",
       "      <td>1.338155</td>\n",
       "      <td>9.838779</td>\n",
       "      <td>5.431936</td>\n",
       "    </tr>\n",
       "    <tr>\n",
       "      <th>...</th>\n",
       "      <td>...</td>\n",
       "      <td>...</td>\n",
       "      <td>...</td>\n",
       "      <td>...</td>\n",
       "      <td>...</td>\n",
       "    </tr>\n",
       "    <tr>\n",
       "      <th>9824504</th>\n",
       "      <td>79800</td>\n",
       "      <td>zCt3XvrzDOgRNZJe/Q5ju02SAchwjqHDvvYIQobIZhRv+n...</td>\n",
       "      <td>4.981131</td>\n",
       "      <td>11.447565</td>\n",
       "      <td>7.444950</td>\n",
       "    </tr>\n",
       "    <tr>\n",
       "      <th>9824505</th>\n",
       "      <td>79800</td>\n",
       "      <td>M5OsKfMmMsrOz9h9DDr3x0y+PQL1jaU/Y/HgMFFV2FkoMv...</td>\n",
       "      <td>0.571329</td>\n",
       "      <td>4.274882</td>\n",
       "      <td>2.174440</td>\n",
       "    </tr>\n",
       "    <tr>\n",
       "      <th>9824507</th>\n",
       "      <td>79800</td>\n",
       "      <td>cjyC9rZBKCcVh9Mr45nWCYPvmRRaC59odu/XHjerW1suWo...</td>\n",
       "      <td>4.724025</td>\n",
       "      <td>50.161330</td>\n",
       "      <td>12.422472</td>\n",
       "    </tr>\n",
       "    <tr>\n",
       "      <th>9824508</th>\n",
       "      <td>79800</td>\n",
       "      <td>3oCJmoqkLZQ5XUO3iaIomOWc+2DRq/FgrPLbvMLWXYPAV7...</td>\n",
       "      <td>6.082553</td>\n",
       "      <td>61.954037</td>\n",
       "      <td>12.575630</td>\n",
       "    </tr>\n",
       "    <tr>\n",
       "      <th>9824510</th>\n",
       "      <td>79800</td>\n",
       "      <td>b93BKIqKiMC+zo0HIf6VBCFDwvHiWq2GSYsy3pHnkhxdIX...</td>\n",
       "      <td>4.893676</td>\n",
       "      <td>97.457030</td>\n",
       "      <td>67.763670</td>\n",
       "    </tr>\n",
       "  </tbody>\n",
       "</table>\n",
       "<p>351825 rows × 5 columns</p>\n",
       "</div>"
      ],
      "text/plain": [
       "         timestamp                                              vm_id  \\\n",
       "45544        80100  kyCjJRF6wJtFpFcf1e5qpaCvMhGzwYIyqTMnPgPWuJZbCV...   \n",
       "45545        80100  OxnvTtD8HVE86ZRuMlM3b76MBbUL+Rt4QSqqyCeSB+po8a...   \n",
       "45546        80100  D3sqz0npFD3v6VqJG0k33zEvOiscFSSb12GYazz634mKs8...   \n",
       "45548        80100  u11JZYQETO83diVD5ffoqQc+RvgCTJx5d1nXG7QxHuKBoy...   \n",
       "45550        80100  wYMq8ESCXiu3CYAwgcEVzW48JS+oRixaExyc+T4CbWRRgg...   \n",
       "...            ...                                                ...   \n",
       "9824504      79800  zCt3XvrzDOgRNZJe/Q5ju02SAchwjqHDvvYIQobIZhRv+n...   \n",
       "9824505      79800  M5OsKfMmMsrOz9h9DDr3x0y+PQL1jaU/Y/HgMFFV2FkoMv...   \n",
       "9824507      79800  cjyC9rZBKCcVh9Mr45nWCYPvmRRaC59odu/XHjerW1suWo...   \n",
       "9824508      79800  3oCJmoqkLZQ5XUO3iaIomOWc+2DRq/FgrPLbvMLWXYPAV7...   \n",
       "9824510      79800  b93BKIqKiMC+zo0HIf6VBCFDwvHiWq2GSYsy3pHnkhxdIX...   \n",
       "\n",
       "              min        max        avg  \n",
       "45544    0.181789   3.927840   1.700451  \n",
       "45545    0.640966   1.394346   0.919743  \n",
       "45546    2.369279  79.577758   7.843582  \n",
       "45548    7.525755  10.592764   8.451798  \n",
       "45550    1.338155   9.838779   5.431936  \n",
       "...           ...        ...        ...  \n",
       "9824504  4.981131  11.447565   7.444950  \n",
       "9824505  0.571329   4.274882   2.174440  \n",
       "9824507  4.724025  50.161330  12.422472  \n",
       "9824508  6.082553  61.954037  12.575630  \n",
       "9824510  4.893676  97.457030  67.763670  \n",
       "\n",
       "[351825 rows x 5 columns]"
      ]
     },
     "execution_count": 35,
     "metadata": {},
     "output_type": "execute_result"
    }
   ],
   "source": [
    "df = pd.concat(dfs)\n",
    "df"
   ]
  },
  {
   "cell_type": "code",
   "execution_count": 36,
   "metadata": {},
   "outputs": [],
   "source": [
    "df.columns=[\"timestamp\", \"vm_id\", \"min\", \"max\", \"avg\"]"
   ]
  },
  {
   "cell_type": "code",
   "execution_count": 37,
   "metadata": {},
   "outputs": [
    {
     "data": {
      "text/plain": [
       "INELxr/I5SJ/gnaB7rObrPp3QVQyMDRDfYTlqtou9YJFMVUF8F4ofIft5jjU77MM    356\n",
       "CibcXn41u6hYjyj8AjPt+ZV8x12mkts9pelAuTUvommQJKrngZh+YqqNm3f4S9ZA    356\n",
       "BTIedl6cblUldT8gadbYk1eaDKR99uDGoPWKaAJQVzKIM4Pu93D+4UkQnMLKZvZQ    356\n",
       "TrBGRgHfE9BdZ71AKHC7m5kF+iT8niyXBYabV2za/do9+AXyOgYjbI+zgh7fDR33    356\n",
       "FFl28uXYhH9d+LXYALYS4NGgrGmbenQvxy0aB5TNRyW1ShbRpoKgQQQi0Mat9S/5    356\n",
       "                                                                   ... \n",
       "iXtVIm+BTErJuvUnmAy1K5Nffm+8Ef/zCCU4lIG0A4QMPhuYFH4jkNohl+Vuds9b    199\n",
       "LUYZYEj7ntVIaPtLAMA4dDRcecT+TNGEIZDPN6v7e0i7ojkXnhwWqUP93WPHPa0F    179\n",
       "kGOILkcLAx9f0BP1EwwF8I6Uxp2IyCsBF9x5rEEMOZxg29giJBZxsCoXqI6ccmpC    175\n",
       "WYeqyL8kujAHQX6+AuPIhEBhIq6OIZpkTaMizLjCHRonYqgFUXcv5qS2VuHzJv7J    162\n",
       "FRlef8jcAcXgCM4rsODluyvfe6TUISZTflHvkOqbpxjLZSzFLM+CaQVR4LsU7wwO    140\n",
       "Name: vm_id, Length: 1000, dtype: int64"
      ]
     },
     "execution_count": 37,
     "metadata": {},
     "output_type": "execute_result"
    }
   ],
   "source": [
    "df.vm_id.value_counts()"
   ]
  },
  {
   "cell_type": "code",
   "execution_count": 38,
   "metadata": {},
   "outputs": [
    {
     "data": {
      "text/plain": [
       "0         976\n",
       "300       976\n",
       "600       976\n",
       "900       978\n",
       "1200      979\n",
       "         ... \n",
       "105300    979\n",
       "105600    979\n",
       "105900    978\n",
       "106200    976\n",
       "106500    975\n",
       "Name: timestamp, Length: 356, dtype: int64"
      ]
     },
     "execution_count": 38,
     "metadata": {},
     "output_type": "execute_result"
    }
   ],
   "source": [
    "df.timestamp.value_counts().sort_index()"
   ]
  },
  {
   "cell_type": "code",
   "execution_count": 39,
   "metadata": {},
   "outputs": [
    {
     "data": {
      "text/plain": [
       "Nd3EbchpIpH78lkXQtoLORmfnl9qIxRNJKeL5AnwaBPvqTsOb4aZC1wITGIMcfO7    1\n",
       "1qd5Z5M1+Ipq5jyC3TpIVgyvk0drxKwJtEGnCe0ix1yphdSrP5obgNGKVEvghzPg    1\n",
       "VnIbDmsPp7ajAP9BtE8drozM1FbuYoIZLY8g9po4h2GZyVNfwiWQoviA2076nXzA    1\n",
       "s92z3yrn7eV8hGsfwfQdXqgJ+8mlAz+5l78FA96yWtAyJByx0U2eNVNCNZ9iwEL1    1\n",
       "/9h/fgxPgsU3RxBCLYjVwTFU4syldmFGirWQNH2aIcgjjf5GkxIQS0SUclKkpCNr    1\n",
       "                                                                   ..\n",
       "PHbcanatAoOCA8NbQxndlTV3Eg/1TmcvuQ/fKk/KxVy5s9SHQZJpjreBHpubYF8w    1\n",
       "y/nbgJ3zCZ+shA/NP53/sdZHq+A7FEwLa6yvUPLA1RwKjtsUxCKBsM14+6tIx6Sq    1\n",
       "B+T+N5gZxKPC2rqBlM6dQSvmkoxvLZtLUzoL1PVQCKz4aOPq0tbYp60YUr57a1cN    1\n",
       "yu3PK8knBITespniVKwiFCn4xUlY2IVVgTE4t+Ugx+Bz6gooba45SB+jv+Fscdyy    1\n",
       "3XWgHWbuNXNeSddYmdSpFOfdIwGkyCH9vTH4DCNjG4FzisvkOGxDRy4PTCzHiHpX    1\n",
       "Name: vm_id, Length: 976, dtype: int64"
      ]
     },
     "execution_count": 39,
     "metadata": {},
     "output_type": "execute_result"
    }
   ],
   "source": [
    "df[df[\"timestamp\"] == 0].vm_id.value_counts()"
   ]
  },
  {
   "cell_type": "code",
   "execution_count": 22,
   "metadata": {},
   "outputs": [
    {
     "data": {
      "text/plain": [
       "kzEzcYi3pvCGAQtMZp2Rh21D6hQEWxoLJlOiqorT0GNyYp3jVowjL5t6ABVhq3wB    92\n",
       "ALXjm1bqlfw4+u5M1zxitNDy2tcXrZfbglA1qCy87N6Tbj7X8CTQYkoDmwJ3WL+f    92\n",
       "rM3aelLck5c5CvyOWn6vYLP/hf1OsLYqrlsxJXnpGwyj4KfCGMUySyp++JbReGBz    92\n",
       "O0GeLVWDxPdqFetiKZ/Uyl7LVg+7YjvU9LwovRl1hwqcocwtxHS5UX12hy7fhaM+    92\n",
       "hVXkoWeVzxHgXAPzhtDttaWwDP0u66TMdzE/02lRISsrIFr9Os0KH7j/wl5yC0NK    92\n",
       "                                                                    ..\n",
       "FsZo6hlAtQqxMzcvvPY9Ib+MFfENfiyA89rMX77sVv6iBEulGAs+iMIUJ78Na4pG    92\n",
       "R6Nav82htU1KBgTF8t60TuR1BduQAcwlx1CTRabsSn8xthyIYU2B8if0gMBTWIR/    92\n",
       "Tfyu9HNto75VYujiYRlkAAnZPvHaFdhzFWXP0Jc9Y0ZaXSz+R6LMwXdQhm0vCiTR    92\n",
       "7Ppa4573VMpbKu7N9uHgF7xzdLAnGSwH2jd5RcExSrGhb2pE4lt5GtsXkEjnn8EB    92\n",
       "ui1tK7P9fJxOiCNXJ1W9j39ZuG/hQOyqeCX2dH6PtA0VGxytDo3VhQDpon6JpYbX    92\n",
       "Name: vm_id, Length: 1332, dtype: int64"
      ]
     },
     "execution_count": 22,
     "metadata": {},
     "output_type": "execute_result"
    }
   ],
   "source": [
    "key_counts = df.vm_id.value_counts()\n",
    "key_counts = key_counts[key_counts >= key_counts.max()]\n",
    "key_counts"
   ]
  },
  {
   "cell_type": "code",
   "execution_count": 23,
   "metadata": {},
   "outputs": [],
   "source": [
    "test_ids = key_counts.sample(1000)\n",
    "test_ids = test_ids.index.tolist()"
   ]
  },
  {
   "cell_type": "code",
   "execution_count": 25,
   "metadata": {},
   "outputs": [],
   "source": [
    "json.dump(test_ids, open(\"test_keys.json\", \"w\"))"
   ]
  },
  {
   "cell_type": "code",
   "execution_count": 41,
   "metadata": {},
   "outputs": [],
   "source": [
    "test_df = df[df[\"vm_id\"].isin(test_ids)]"
   ]
  },
  {
   "cell_type": "code",
   "execution_count": 42,
   "metadata": {},
   "outputs": [
    {
     "data": {
      "text/html": [
       "<div>\n",
       "<style scoped>\n",
       "    .dataframe tbody tr th:only-of-type {\n",
       "        vertical-align: middle;\n",
       "    }\n",
       "\n",
       "    .dataframe tbody tr th {\n",
       "        vertical-align: top;\n",
       "    }\n",
       "\n",
       "    .dataframe thead th {\n",
       "        text-align: right;\n",
       "    }\n",
       "</style>\n",
       "<table border=\"1\" class=\"dataframe\">\n",
       "  <thead>\n",
       "    <tr style=\"text-align: right;\">\n",
       "      <th></th>\n",
       "      <th>timestamp</th>\n",
       "      <th>vm_id</th>\n",
       "      <th>min</th>\n",
       "      <th>max</th>\n",
       "      <th>avg</th>\n",
       "    </tr>\n",
       "  </thead>\n",
       "  <tbody>\n",
       "    <tr>\n",
       "      <th>45544</th>\n",
       "      <td>80100</td>\n",
       "      <td>kyCjJRF6wJtFpFcf1e5qpaCvMhGzwYIyqTMnPgPWuJZbCV...</td>\n",
       "      <td>0.181789</td>\n",
       "      <td>3.927840</td>\n",
       "      <td>1.700451</td>\n",
       "    </tr>\n",
       "    <tr>\n",
       "      <th>45545</th>\n",
       "      <td>80100</td>\n",
       "      <td>OxnvTtD8HVE86ZRuMlM3b76MBbUL+Rt4QSqqyCeSB+po8a...</td>\n",
       "      <td>0.640966</td>\n",
       "      <td>1.394346</td>\n",
       "      <td>0.919743</td>\n",
       "    </tr>\n",
       "    <tr>\n",
       "      <th>45546</th>\n",
       "      <td>80100</td>\n",
       "      <td>D3sqz0npFD3v6VqJG0k33zEvOiscFSSb12GYazz634mKs8...</td>\n",
       "      <td>2.369279</td>\n",
       "      <td>79.577758</td>\n",
       "      <td>7.843582</td>\n",
       "    </tr>\n",
       "    <tr>\n",
       "      <th>45548</th>\n",
       "      <td>80100</td>\n",
       "      <td>u11JZYQETO83diVD5ffoqQc+RvgCTJx5d1nXG7QxHuKBoy...</td>\n",
       "      <td>7.525755</td>\n",
       "      <td>10.592764</td>\n",
       "      <td>8.451798</td>\n",
       "    </tr>\n",
       "    <tr>\n",
       "      <th>45550</th>\n",
       "      <td>80100</td>\n",
       "      <td>wYMq8ESCXiu3CYAwgcEVzW48JS+oRixaExyc+T4CbWRRgg...</td>\n",
       "      <td>1.338155</td>\n",
       "      <td>9.838779</td>\n",
       "      <td>5.431936</td>\n",
       "    </tr>\n",
       "    <tr>\n",
       "      <th>...</th>\n",
       "      <td>...</td>\n",
       "      <td>...</td>\n",
       "      <td>...</td>\n",
       "      <td>...</td>\n",
       "      <td>...</td>\n",
       "    </tr>\n",
       "    <tr>\n",
       "      <th>9824504</th>\n",
       "      <td>79800</td>\n",
       "      <td>zCt3XvrzDOgRNZJe/Q5ju02SAchwjqHDvvYIQobIZhRv+n...</td>\n",
       "      <td>4.981131</td>\n",
       "      <td>11.447565</td>\n",
       "      <td>7.444950</td>\n",
       "    </tr>\n",
       "    <tr>\n",
       "      <th>9824505</th>\n",
       "      <td>79800</td>\n",
       "      <td>M5OsKfMmMsrOz9h9DDr3x0y+PQL1jaU/Y/HgMFFV2FkoMv...</td>\n",
       "      <td>0.571329</td>\n",
       "      <td>4.274882</td>\n",
       "      <td>2.174440</td>\n",
       "    </tr>\n",
       "    <tr>\n",
       "      <th>9824507</th>\n",
       "      <td>79800</td>\n",
       "      <td>cjyC9rZBKCcVh9Mr45nWCYPvmRRaC59odu/XHjerW1suWo...</td>\n",
       "      <td>4.724025</td>\n",
       "      <td>50.161330</td>\n",
       "      <td>12.422472</td>\n",
       "    </tr>\n",
       "    <tr>\n",
       "      <th>9824508</th>\n",
       "      <td>79800</td>\n",
       "      <td>3oCJmoqkLZQ5XUO3iaIomOWc+2DRq/FgrPLbvMLWXYPAV7...</td>\n",
       "      <td>6.082553</td>\n",
       "      <td>61.954037</td>\n",
       "      <td>12.575630</td>\n",
       "    </tr>\n",
       "    <tr>\n",
       "      <th>9824510</th>\n",
       "      <td>79800</td>\n",
       "      <td>b93BKIqKiMC+zo0HIf6VBCFDwvHiWq2GSYsy3pHnkhxdIX...</td>\n",
       "      <td>4.893676</td>\n",
       "      <td>97.457030</td>\n",
       "      <td>67.763670</td>\n",
       "    </tr>\n",
       "  </tbody>\n",
       "</table>\n",
       "<p>351825 rows × 5 columns</p>\n",
       "</div>"
      ],
      "text/plain": [
       "         timestamp                                              vm_id  \\\n",
       "45544        80100  kyCjJRF6wJtFpFcf1e5qpaCvMhGzwYIyqTMnPgPWuJZbCV...   \n",
       "45545        80100  OxnvTtD8HVE86ZRuMlM3b76MBbUL+Rt4QSqqyCeSB+po8a...   \n",
       "45546        80100  D3sqz0npFD3v6VqJG0k33zEvOiscFSSb12GYazz634mKs8...   \n",
       "45548        80100  u11JZYQETO83diVD5ffoqQc+RvgCTJx5d1nXG7QxHuKBoy...   \n",
       "45550        80100  wYMq8ESCXiu3CYAwgcEVzW48JS+oRixaExyc+T4CbWRRgg...   \n",
       "...            ...                                                ...   \n",
       "9824504      79800  zCt3XvrzDOgRNZJe/Q5ju02SAchwjqHDvvYIQobIZhRv+n...   \n",
       "9824505      79800  M5OsKfMmMsrOz9h9DDr3x0y+PQL1jaU/Y/HgMFFV2FkoMv...   \n",
       "9824507      79800  cjyC9rZBKCcVh9Mr45nWCYPvmRRaC59odu/XHjerW1suWo...   \n",
       "9824508      79800  3oCJmoqkLZQ5XUO3iaIomOWc+2DRq/FgrPLbvMLWXYPAV7...   \n",
       "9824510      79800  b93BKIqKiMC+zo0HIf6VBCFDwvHiWq2GSYsy3pHnkhxdIX...   \n",
       "\n",
       "              min        max        avg  \n",
       "45544    0.181789   3.927840   1.700451  \n",
       "45545    0.640966   1.394346   0.919743  \n",
       "45546    2.369279  79.577758   7.843582  \n",
       "45548    7.525755  10.592764   8.451798  \n",
       "45550    1.338155   9.838779   5.431936  \n",
       "...           ...        ...        ...  \n",
       "9824504  4.981131  11.447565   7.444950  \n",
       "9824505  0.571329   4.274882   2.174440  \n",
       "9824507  4.724025  50.161330  12.422472  \n",
       "9824508  6.082553  61.954037  12.575630  \n",
       "9824510  4.893676  97.457030  67.763670  \n",
       "\n",
       "[351825 rows x 5 columns]"
      ]
     },
     "execution_count": 42,
     "metadata": {},
     "output_type": "execute_result"
    }
   ],
   "source": [
    "test_df"
   ]
  },
  {
   "cell_type": "code",
   "execution_count": 43,
   "metadata": {},
   "outputs": [
    {
     "data": {
      "text/plain": [
       "<AxesSubplot:xlabel='timestamp'>"
      ]
     },
     "execution_count": 43,
     "metadata": {},
     "output_type": "execute_result"
    },
    {
     "data": {
      "image/png": "[encoded data removed]",
      "text/plain": [
       "<Figure size 432x288 with 1 Axes>"
      ]
     },
     "metadata": {
      "needs_background": "light"
     },
     "output_type": "display_data"
    }
   ],
   "source": [
    "test_df.groupby(by=\"timestamp\").count().plot()"
   ]
  },
  {
   "cell_type": "code",
   "execution_count": 44,
   "metadata": {},
   "outputs": [
    {
     "data": {
      "text/plain": [
       "<AxesSubplot:xlabel='timestamp,vm_id'>"
      ]
     },
     "execution_count": 44,
     "metadata": {},
     "output_type": "execute_result"
    },
    {
     "data": {
      "image/png": "[encoded data removed]",
      "text/plain": [
       "<Figure size 432x288 with 1 Axes>"
      ]
     },
     "metadata": {
      "needs_background": "light"
     },
     "output_type": "display_data"
    }
   ],
   "source": [
    "test_df.groupby(by=[\"timestamp\", \"vm_id\"]).count().plot()"
   ]
  },
  {
   "cell_type": "code",
   "execution_count": 45,
   "metadata": {},
   "outputs": [
    {
     "data": {
      "text/html": [
       "<div>\n",
       "<style scoped>\n",
       "    .dataframe tbody tr th:only-of-type {\n",
       "        vertical-align: middle;\n",
       "    }\n",
       "\n",
       "    .dataframe tbody tr th {\n",
       "        vertical-align: top;\n",
       "    }\n",
       "\n",
       "    .dataframe thead th {\n",
       "        text-align: right;\n",
       "    }\n",
       "</style>\n",
       "<table border=\"1\" class=\"dataframe\">\n",
       "  <thead>\n",
       "    <tr style=\"text-align: right;\">\n",
       "      <th></th>\n",
       "      <th>timestamp</th>\n",
       "      <th>min</th>\n",
       "      <th>max</th>\n",
       "      <th>avg</th>\n",
       "    </tr>\n",
       "    <tr>\n",
       "      <th>vm_id</th>\n",
       "      <th></th>\n",
       "      <th></th>\n",
       "      <th></th>\n",
       "      <th></th>\n",
       "    </tr>\n",
       "  </thead>\n",
       "  <tbody>\n",
       "    <tr>\n",
       "      <th>FRlef8jcAcXgCM4rsODluyvfe6TUISZTflHvkOqbpxjLZSzFLM+CaQVR4LsU7wwO</th>\n",
       "      <td>140</td>\n",
       "      <td>140</td>\n",
       "      <td>140</td>\n",
       "      <td>140</td>\n",
       "    </tr>\n",
       "    <tr>\n",
       "      <th>WYeqyL8kujAHQX6+AuPIhEBhIq6OIZpkTaMizLjCHRonYqgFUXcv5qS2VuHzJv7J</th>\n",
       "      <td>162</td>\n",
       "      <td>162</td>\n",
       "      <td>162</td>\n",
       "      <td>162</td>\n",
       "    </tr>\n",
       "    <tr>\n",
       "      <th>kGOILkcLAx9f0BP1EwwF8I6Uxp2IyCsBF9x5rEEMOZxg29giJBZxsCoXqI6ccmpC</th>\n",
       "      <td>175</td>\n",
       "      <td>175</td>\n",
       "      <td>175</td>\n",
       "      <td>175</td>\n",
       "    </tr>\n",
       "    <tr>\n",
       "      <th>LUYZYEj7ntVIaPtLAMA4dDRcecT+TNGEIZDPN6v7e0i7ojkXnhwWqUP93WPHPa0F</th>\n",
       "      <td>179</td>\n",
       "      <td>179</td>\n",
       "      <td>179</td>\n",
       "      <td>179</td>\n",
       "    </tr>\n",
       "    <tr>\n",
       "      <th>iXtVIm+BTErJuvUnmAy1K5Nffm+8Ef/zCCU4lIG0A4QMPhuYFH4jkNohl+Vuds9b</th>\n",
       "      <td>199</td>\n",
       "      <td>199</td>\n",
       "      <td>199</td>\n",
       "      <td>199</td>\n",
       "    </tr>\n",
       "    <tr>\n",
       "      <th>...</th>\n",
       "      <td>...</td>\n",
       "      <td>...</td>\n",
       "      <td>...</td>\n",
       "      <td>...</td>\n",
       "    </tr>\n",
       "    <tr>\n",
       "      <th>LvidroAXRoHdADxX53woHKMgnVc9O2pkNFNlJ8Ooo5o9RBUkUIa1JiRaWpVYJpD2</th>\n",
       "      <td>356</td>\n",
       "      <td>356</td>\n",
       "      <td>356</td>\n",
       "      <td>356</td>\n",
       "    </tr>\n",
       "    <tr>\n",
       "      <th>M1JAyNceZDOvr5Mk1xPHSolBiqjIsGkKHDEEQYkMt4MJEmOCAP02Glft7Y0QLlly</th>\n",
       "      <td>356</td>\n",
       "      <td>356</td>\n",
       "      <td>356</td>\n",
       "      <td>356</td>\n",
       "    </tr>\n",
       "    <tr>\n",
       "      <th>M5OsKfMmMsrOz9h9DDr3x0y+PQL1jaU/Y/HgMFFV2FkoMv8lE5ZgdHbzGSs+jn/c</th>\n",
       "      <td>356</td>\n",
       "      <td>356</td>\n",
       "      <td>356</td>\n",
       "      <td>356</td>\n",
       "    </tr>\n",
       "    <tr>\n",
       "      <th>La7YnxxFLDJhYx3YUnQaTTBVoDVI3dMccVbATTxxrSgdXyPO505ddz8kb6BNSr7R</th>\n",
       "      <td>356</td>\n",
       "      <td>356</td>\n",
       "      <td>356</td>\n",
       "      <td>356</td>\n",
       "    </tr>\n",
       "    <tr>\n",
       "      <th>zzyUrPQWi9i9O0SGP3AvQpZtSQcfhbO7VRHtTgCFOIbEJI/uSDd5fzoQnNnUpfie</th>\n",
       "      <td>356</td>\n",
       "      <td>356</td>\n",
       "      <td>356</td>\n",
       "      <td>356</td>\n",
       "    </tr>\n",
       "  </tbody>\n",
       "</table>\n",
       "<p>1000 rows × 4 columns</p>\n",
       "</div>"
      ],
      "text/plain": [
       "                                                    timestamp  min  max  avg\n",
       "vm_id                                                                       \n",
       "FRlef8jcAcXgCM4rsODluyvfe6TUISZTflHvkOqbpxjLZSz...        140  140  140  140\n",
       "WYeqyL8kujAHQX6+AuPIhEBhIq6OIZpkTaMizLjCHRonYqg...        162  162  162  162\n",
       "kGOILkcLAx9f0BP1EwwF8I6Uxp2IyCsBF9x5rEEMOZxg29g...        175  175  175  175\n",
       "LUYZYEj7ntVIaPtLAMA4dDRcecT+TNGEIZDPN6v7e0i7ojk...        179  179  179  179\n",
       "iXtVIm+BTErJuvUnmAy1K5Nffm+8Ef/zCCU4lIG0A4QMPhu...        199  199  199  199\n",
       "...                                                       ...  ...  ...  ...\n",
       "LvidroAXRoHdADxX53woHKMgnVc9O2pkNFNlJ8Ooo5o9RBU...        356  356  356  356\n",
       "M1JAyNceZDOvr5Mk1xPHSolBiqjIsGkKHDEEQYkMt4MJEmO...        356  356  356  356\n",
       "M5OsKfMmMsrOz9h9DDr3x0y+PQL1jaU/Y/HgMFFV2FkoMv8...        356  356  356  356\n",
       "La7YnxxFLDJhYx3YUnQaTTBVoDVI3dMccVbATTxxrSgdXyP...        356  356  356  356\n",
       "zzyUrPQWi9i9O0SGP3AvQpZtSQcfhbO7VRHtTgCFOIbEJI/...        356  356  356  356\n",
       "\n",
       "[1000 rows x 4 columns]"
      ]
     },
     "execution_count": 45,
     "metadata": {},
     "output_type": "execute_result"
    }
   ],
   "source": [
    "test_df.groupby(by=\"vm_id\").count().sort_values(by=\"avg\")"
   ]
  },
  {
   "cell_type": "code",
   "execution_count": 51,
   "metadata": {},
   "outputs": [
    {
     "data": {
      "text/plain": [
       "0        976\n",
       "900        2\n",
       "53100      2\n",
       "52800      1\n",
       "3000       1\n",
       "20400      1\n",
       "45900      1\n",
       "9000       1\n",
       "31500      1\n",
       "34500      1\n",
       "12900      1\n",
       "15900      1\n",
       "2100       1\n",
       "33300      1\n",
       "1500       1\n",
       "42300      1\n",
       "30000      1\n",
       "45300      1\n",
       "1200       1\n",
       "23700      1\n",
       "33900      1\n",
       "51300      1\n",
       "27600      1\n",
       "Name: timestamp, dtype: int64"
      ]
     },
     "execution_count": 51,
     "metadata": {},
     "output_type": "execute_result"
    }
   ],
   "source": [
    "test_df.groupby(by=\"vm_id\").timestamp.min().value_counts()"
   ]
  },
  {
   "cell_type": "code",
   "execution_count": null,
   "metadata": {},
   "outputs": [],
   "source": [
    "test_df[test_df[\"vm_id\"] == \"iM3xUsfYSOvqWKx9xxfAxs8dvc64EgZ6iXHc+vaHB0QwClBYOknOYFqQvuXt89i9\"]"
   ]
  },
  {
   "cell_type": "code",
   "execution_count": null,
   "metadata": {},
   "outputs": [],
   "source": [
    "test_df[test_df[\"vm_id\"] ==j \"Q7rurwAAouuL6HsYHCRauV1v8pWu3Hto/0AdVtdR2KmfOkSbLTTT7++1ECIKmzcv\"]"
   ]
  },
  {
   "cell_type": "code",
   "execution_count": 55,
   "metadata": {},
   "outputs": [],
   "source": [
    "test_df = test_df.sort_values(by=\"timestamp\")"
   ]
  },
  {
   "cell_type": "code",
   "execution_count": 57,
   "metadata": {},
   "outputs": [
    {
     "name": "stdout",
     "output_type": "stream",
     "text": [
      "non-zero start\n",
      "non-zero start\n",
      "non-zero start\n",
      "non-zero start\n",
      "non-zero start\n",
      "non-zero start\n",
      "non-zero start\n",
      "non-zero start\n",
      "non-zero start\n",
      "non-zero start\n",
      "non-zero start\n",
      "non-zero start\n",
      "non-zero start\n",
      "non-zero start\n",
      "non-zero start\n",
      "non-zero start\n",
      "non-zero start\n",
      "non-zero start\n",
      "non-zero start\n",
      "non-zero start\n",
      "non-zero start\n",
      "non-zero start\n",
      "non-zero start\n",
      "non-zero start\n",
      "976\n"
     ]
    }
   ],
   "source": [
    "data = {}\n",
    "key_df = test_df.groupby(by=\"vm_id\")\n",
    "for key in test_ids:\n",
    "    group = key_df.get_group(key)\n",
    "    timestamps = group.timestamp.tolist()\n",
    "    values = group.avg.to_numpy()\n",
    "\n",
    "    if timestamps[0] != 0: \n",
    "        print(\"non-zero start\")\n",
    "        #print(timestamps)\n",
    "        continue \n",
    "    if len(values) < 45: \n",
    "        print(\"too few values\")\n",
    "        continue\n",
    "\n",
    "    data[key] = values\n",
    "\n",
    "print(len(data.keys()))"
   ]
  },
  {
   "cell_type": "code",
   "execution_count": 66,
   "metadata": {},
   "outputs": [],
   "source": [
    "cache = {}"
   ]
  },
  {
   "cell_type": "code",
   "execution_count": 70,
   "metadata": {},
   "outputs": [],
   "source": [
    "def get_model(key, ts):\n",
    "\n",
    "    if key in cache and ts in cache[key]:\n",
    "        return cache[key][ts]\n",
    "\n",
    "    if key not in cache: \n",
    "        cache[key] = {}\n",
    "\n",
    "    chunk = data[key][ts - WINDOW_SIZE : ts]\n",
    "    last_model = STLForecast(\n",
    "        chunk, ARIMA, model_kwargs=dict(order=(1, 1, 0), trend=\"t\"), period=24\n",
    "    ).fit()\n",
    "    #print(\"new model\", key, ts, last_model.model_result.mse, last_model)\n",
    "    cache[key][ts] = {\"model\": last_model, \"forecast\": last_model.forecast(1000), \"data\": chunk, \"time\": ts}\n",
    "    return cache[key][ts]"
   ]
  },
  {
   "cell_type": "code",
   "execution_count": 84,
   "metadata": {},
   "outputs": [],
   "source": [
    "WINDOW_SIZE = 48\n",
    "MAX_LEN = 300\n",
    "\n",
    "def max_score(score):\n",
    "    max_score = 0\n",
    "    max_key = None\n",
    "    for key in score.keys():\n",
    "        if score[key] >= max_score: \n",
    "            max_score = score[key]\n",
    "            max_key = key\n",
    "\n",
    "    return max_key\n",
    "\n",
    "def experiment(test_start, runtime, policy):\n",
    "\n",
    "    predictions = defaultdict(list)\n",
    "    values = defaultdict(list)\n",
    "    staleness = defaultdict(list)\n",
    "    score = {key: 0 for key in data.keys()}\n",
    "    update_times = defaultdict(list)\n",
    "    \n",
    "    last_model = {key: get_model(key, test_start) for key in data.keys()} \n",
    "    next_update_time = test_start + runtime # time when model is completed\n",
    "\n",
    "    for ts in tqdm(range(test_start, MAX_LEN, 1)):\n",
    "        #print(total_error)\n",
    "\n",
    "        # run predictions per key \n",
    "        for key in last_model.keys(): \n",
    "            #print(\"key\", key, last_model[key][\"forecast\"])\n",
    "            last_time = last_model[key][\"time\"]\n",
    "            predictions[key].append(last_model[key][\"forecast\"][ts-last_time])\n",
    "            values[key].append(float(data[key][ts]))\n",
    "            staleness[key].append(ts-last_time)\n",
    "\n",
    "            # policy scoring\n",
    "            t = ts - last_time\n",
    "            if policy == \"total_error\" and len(predictions[key]) > 1 and t > 1: \n",
    "                e = mean_absolute_scaled_error(\n",
    "                    np.array(values[key][-t:]), \n",
    "                    np.array(predictions[key][-t:]), \n",
    "                    y_train=np.array(values[key][-t:]), \n",
    "                    sp=1\n",
    "                )\n",
    "                score[key] = e * t # use total, not mean \n",
    "            elif policy == \"round_robin\": \n",
    "                score[key] += 1\n",
    "            elif policy == \"max_staleness\": \n",
    "                score[key] = ts-last_time\n",
    "\n",
    "        # can update model\n",
    "        while ts >= next_update_time: \n",
    "            # pick max error key \n",
    "            #key = np.array(score).argmax() + 1\n",
    "            key = max_score(score)\n",
    "            #print(key, score)\n",
    "            \n",
    "            # mark as update time for key  \n",
    "            update_times[key].append(ts) \n",
    "            last_model[key] = get_model(key, ts)\n",
    "            score[key] = 0\n",
    "            \n",
    "            # update next update time \n",
    "            next_update_time += runtime\n",
    "\n",
    "    results_df = pd.concat([\n",
    "        pd.DataFrame({\n",
    "            \"y_pred\": predictions[key], \n",
    "            \"y_true\": values[key], \n",
    "            \"staleness\": staleness[key], \n",
    "            \"key\": [key] * len(predictions[key])\n",
    "        })\n",
    "        for key in predictions.keys()\n",
    "    ])\n",
    "    return update_times, results_df"
   ]
  },
  {
   "cell_type": "code",
   "execution_count": null,
   "metadata": {},
   "outputs": [],
   "source": [
    "test_start = WINDOW_SIZE\n",
    "\n",
    "update_times, results_df = experiment(test_start, 0.5, \"round_robin\")\n",
    "update_times"
   ]
  },
  {
   "cell_type": "code",
   "execution_count": 73,
   "metadata": {},
   "outputs": [],
   "source": [
    "def error(df):\n",
    "    total = 0\n",
    "    for key in df.groupby(\"key\").groups.keys(): \n",
    "        e = mean_absolute_scaled_error(\n",
    "            df[df[\"key\"] == key].y_pred, \n",
    "            df[df[\"key\"] == key].y_true, \n",
    "            y_train=df[df[\"key\"] == key].y_true\n",
    "        )\n",
    "        total += e\n",
    "    return total "
   ]
  },
  {
   "cell_type": "code",
   "execution_count": 74,
   "metadata": {},
   "outputs": [
    {
     "data": {
      "text/plain": [
       "'/data/wooders/ralf-vldb//results/azure'"
      ]
     },
     "execution_count": 74,
     "metadata": {},
     "output_type": "execute_result"
    }
   ],
   "source": [
    "from workloads.util import use_results\n",
    "import os \n",
    "\n",
    "result_dir = use_results(\"azure\")\n",
    "result_dir"
   ]
  },
  {
   "cell_type": "code",
   "execution_count": 75,
   "metadata": {},
   "outputs": [],
   "source": [
    "import warnings\n",
    "warnings.filterwarnings('ignore')"
   ]
  },
  {
   "cell_type": "code",
   "execution_count": 76,
   "metadata": {},
   "outputs": [],
   "source": [
    "recompute = True"
   ]
  },
  {
   "cell_type": "code",
   "execution_count": 77,
   "metadata": {},
   "outputs": [
    {
     "name": "stderr",
     "output_type": "stream",
     "text": [
      "  0%|          | 0/252 [00:00<?, ?it/s]"
     ]
    },
    {
     "name": "stdout",
     "output_type": "stream",
     "text": [
      "round_robin_1_A1\n"
     ]
    },
    {
     "name": "stderr",
     "output_type": "stream",
     "text": [
      "100%|██████████| 252/252 [00:00<00:00, 584.95it/s]\n",
      "  0%|          | 0/252 [00:00<?, ?it/s]"
     ]
    },
    {
     "name": "stdout",
     "output_type": "stream",
     "text": [
      "total_error_1_A1\n"
     ]
    },
    {
     "name": "stderr",
     "output_type": "stream",
     "text": [
      "100%|██████████| 252/252 [02:20<00:00,  1.79it/s]\n",
      "  0%|          | 0/252 [00:00<?, ?it/s]"
     ]
    },
    {
     "name": "stdout",
     "output_type": "stream",
     "text": [
      "round_robin_2_A1\n"
     ]
    },
    {
     "name": "stderr",
     "output_type": "stream",
     "text": [
      "100%|██████████| 252/252 [00:24<00:00, 10.46it/s]\n",
      "  0%|          | 0/252 [00:00<?, ?it/s]"
     ]
    },
    {
     "name": "stdout",
     "output_type": "stream",
     "text": [
      "total_error_2_A1\n"
     ]
    },
    {
     "name": "stderr",
     "output_type": "stream",
     "text": [
      "100%|██████████| 252/252 [02:06<00:00,  1.99it/s]\n",
      "  0%|          | 0/252 [00:00<?, ?it/s]"
     ]
    },
    {
     "name": "stdout",
     "output_type": "stream",
     "text": [
      "round_robin_4_A1\n"
     ]
    },
    {
     "name": "stderr",
     "output_type": "stream",
     "text": [
      "100%|██████████| 252/252 [00:13<00:00, 19.16it/s]\n",
      "  0%|          | 0/252 [00:00<?, ?it/s]"
     ]
    },
    {
     "name": "stdout",
     "output_type": "stream",
     "text": [
      "total_error_4_A1\n"
     ]
    },
    {
     "name": "stderr",
     "output_type": "stream",
     "text": [
      "100%|██████████| 252/252 [01:45<00:00,  2.40it/s]\n"
     ]
    }
   ],
   "source": [
    "runtime = [1, 2, 4]\n",
    "policy = [\"round_robin\", \"total_error\"]\n",
    "\n",
    "results_df = pd.DataFrame()\n",
    "updates_df = pd.DataFrame()\n",
    "df_all = pd.DataFrame()\n",
    "\n",
    "for r in runtime: \n",
    "    for p in policy: \n",
    "        \n",
    "        name = f\"{p}_{r}_A1\"\n",
    "        print(name)\n",
    "        # skip completed\n",
    "        if not recompute and os.path.exists(f\"{result_dir}/{name}/simulation_predictions.csv\"):\n",
    "            df = pd.read_csv(f\"{result_dir}/{name}/simulation_predictions.csv\")\n",
    "            r_df = pd.read_csv(f\"{result_dir}/{name}/simulation_result.csv\")\n",
    "            u_df = pd.read_csv(f\"{result_dir}/{name}/simulation_update_time.csv\")\n",
    "        else: \n",
    "            update_times, df = experiment(test_start=WINDOW_SIZE, runtime=r, policy=p)\n",
    "            e = error(df)\n",
    "            s = df.staleness.mean()\n",
    "            u = sum([len(v) for v in update_times.values()])\n",
    "\n",
    "            r_df = pd.DataFrame([[r, p, e, s, u]])\n",
    "            r_df.columns = [\"runtime\", \"policy\", \"total_error\", \"average_staleness\", \"total_updates\"]\n",
    "            u_df = pd.DataFrame([\n",
    "                [r, p, k, i, update_times[k][i]]\n",
    "                for k, v in update_times.items() for i in range(len(v))\n",
    "            ])\n",
    "            u_df.columns = [\"runtime\", \"policy\", \"key\", \"i\", \"time\"]\n",
    "\n",
    "            os.makedirs(f\"{result_dir}/{name}\", exist_ok=True)\n",
    "            df.to_csv(f\"{result_dir}/{name}/simulation_predictions.csv\")\n",
    "            r_df.to_csv(f\"{result_dir}/{name}/simulation_result.csv\")\n",
    "            u_df.to_csv(f\"{result_dir}/{name}/simulation_update_time.csv\")\n",
    "        \n",
    "        df_all = pd.concat([df_all, df])\n",
    "        results_df = pd.concat([results_df, r_df])\n",
    "        updates_df = pd.concat([updates_df, u_df])\n",
    "        \n",
    "results_df.to_csv(f\"{result_dir}/simulation_results.csv\")"
   ]
  },
  {
   "cell_type": "code",
   "execution_count": 78,
   "metadata": {},
   "outputs": [],
   "source": [
    "result_df = pd.read_csv(f\"{result_dir}/simulation_results.csv\")"
   ]
  },
  {
   "cell_type": "code",
   "execution_count": 79,
   "metadata": {},
   "outputs": [],
   "source": [
    "import seaborn as sns\n",
    "sns.set_theme(style=\"whitegrid\")"
   ]
  },
  {
   "cell_type": "code",
   "execution_count": 80,
   "metadata": {},
   "outputs": [
    {
     "data": {
      "image/png": "[encoded data removed]",
      "text/plain": [
       "<Figure size 432x288 with 1 Axes>"
      ]
     },
     "metadata": {},
     "output_type": "display_data"
    }
   ],
   "source": [
    "ax = sns.barplot(x=\"runtime\", y=\"total_error\", hue=\"policy\", data=result_df)"
   ]
  },
  {
   "cell_type": "code",
   "execution_count": 81,
   "metadata": {},
   "outputs": [
    {
     "data": {
      "image/png": "[encoded data removed]",
      "text/plain": [
       "<Figure size 432x288 with 1 Axes>"
      ]
     },
     "metadata": {},
     "output_type": "display_data"
    }
   ],
   "source": [
    "ax = sns.barplot(x=\"runtime\", y=\"average_staleness\", hue=\"policy\", data=result_df)"
   ]
  },
  {
   "cell_type": "code",
   "execution_count": 82,
   "metadata": {},
   "outputs": [
    {
     "data": {
      "text/html": [
       "<div>\n",
       "<style scoped>\n",
       "    .dataframe tbody tr th:only-of-type {\n",
       "        vertical-align: middle;\n",
       "    }\n",
       "\n",
       "    .dataframe tbody tr th {\n",
       "        vertical-align: top;\n",
       "    }\n",
       "\n",
       "    .dataframe thead th {\n",
       "        text-align: right;\n",
       "    }\n",
       "</style>\n",
       "<table border=\"1\" class=\"dataframe\">\n",
       "  <thead>\n",
       "    <tr style=\"text-align: right;\">\n",
       "      <th></th>\n",
       "      <th>key</th>\n",
       "      <th>+/+wHEptfMc4BDHAIVviKFJGJSp8tUMfdp0xxMyhgUIfBVWG/eQqbgNStNUGHusE</th>\n",
       "      <th>+/xSb3UfIhJmIM0B03TBsa1t8mT621pu2jIUJ3viMmg5teOK8WywQnqZlht1TaOr</th>\n",
       "      <th>+2NL56xf9VZLUNZs4/MtQC379HR1Wn/C0gT1N1SzgKlWvfmgPnMbTQ9FsqJz1Bms</th>\n",
       "      <th>+mVkhY5xU687sTWbLgFNJQGq+/UC/hE/VitJtOuJkglhWOSf8BE2Oetpriic6Jbm</th>\n",
       "      <th>//IUkVFEStODP4hq09Sc0uj9VowvK8dl2zoYtsfSH4Zaglwwfo1m6CYUXpHT2WDF</th>\n",
       "      <th>//OKfzeE0qxA+Rv4phu+pT3K6aq/Xrog2jPe6Rtq+Dl/j7DPlbXiiDKicMt4iOe2</th>\n",
       "      <th>/2gr9ur8bOoZoFcJoQZJizl82R3/nCalW5kltzBSmqn86XNsmvYQ1PWbTrwvProo</th>\n",
       "      <th>/GykekQxm87epX9EGOurNu7PXkSk8Iouv2Iw1AjhhB/3hErqPrYHOEcFk/39DXtI</th>\n",
       "      <th>/VC4DlR5OjFJg+sMrcA7LBk18swhGZdzJq/Wl+1qmeBxEfYuyT1Z1EZ7dyijTf0U</th>\n",
       "      <th>/k3YdSsUhS+LoF8vBoecktIb6N/BArneMmnU2pjWCsv8b9xltr5Cvvy7Dh3zlJTy</th>\n",
       "      <th>...</th>\n",
       "      <th>zY2DclVvIOLtT0KcsazwK8fm0qsgapt/14/V8xDnLfvNtlhr8k0SFIg4Gcnb5Auf</th>\n",
       "      <th>zdnhDFzzpqgJsTFbYQXWYtPtRoqWNbyYlvWJxqx7dBf6MBlfHlkXrNV2mKitbUFs</th>\n",
       "      <th>zfC4dyRM+pbpMWZdqF1OQMwKFyPGe4BOT7m/EeBPj/gAHKmMw15XwDIRbqjVQQ8i</th>\n",
       "      <th>zhLgfHGAvMiBd+awMYkVNsezX0Y+nBIglP4sC7KqHd+Ln1ZyDfW7wBx8TCTI0b+R</th>\n",
       "      <th>zjqg3S1/WSi0B63j6f82PRSw5x8Nr6BNE6lW4TBX0EZLnKfzdcnT7Q6xBzklavx8</th>\n",
       "      <th>zkXjdszMNIUfYkIOelfVTdnR6eMLDKJAASghVBc4U9gZOWSuaOp1HLBONZzMA4Q1</th>\n",
       "      <th>zow9NgpoB/ZJ+wpAX61bPmP3V1EPTFnzqzEsP3YJKRhTGxW87g4xz2WFqDq/YpIv</th>\n",
       "      <th>ztT7P5RzB9CXCY71xsGB+YSe7cqhyTz11+ughsN/Z4lFEPysIxO23eg7xqSQULix</th>\n",
       "      <th>zyNpK9qpKDQEtJnnnaLU5Ssqe/7c3+4AJvDqxNmTeYIsuR3bPfxupcoXBQeNsThC</th>\n",
       "      <th>zzyUrPQWi9i9O0SGP3AvQpZtSQcfhbO7VRHtTgCFOIbEJI/uSDd5fzoQnNnUpfie</th>\n",
       "    </tr>\n",
       "    <tr>\n",
       "      <th>runtime</th>\n",
       "      <th>policy</th>\n",
       "      <th></th>\n",
       "      <th></th>\n",
       "      <th></th>\n",
       "      <th></th>\n",
       "      <th></th>\n",
       "      <th></th>\n",
       "      <th></th>\n",
       "      <th></th>\n",
       "      <th></th>\n",
       "      <th></th>\n",
       "      <th></th>\n",
       "      <th></th>\n",
       "      <th></th>\n",
       "      <th></th>\n",
       "      <th></th>\n",
       "      <th></th>\n",
       "      <th></th>\n",
       "      <th></th>\n",
       "      <th></th>\n",
       "      <th></th>\n",
       "      <th></th>\n",
       "    </tr>\n",
       "  </thead>\n",
       "  <tbody>\n",
       "    <tr>\n",
       "      <th rowspan=\"2\" valign=\"top\">1</th>\n",
       "      <th>round_robin</th>\n",
       "      <td>1</td>\n",
       "      <td>1</td>\n",
       "      <td>1</td>\n",
       "      <td>1</td>\n",
       "      <td>0</td>\n",
       "      <td>0</td>\n",
       "      <td>1</td>\n",
       "      <td>1</td>\n",
       "      <td>1</td>\n",
       "      <td>0</td>\n",
       "      <td>...</td>\n",
       "      <td>1</td>\n",
       "      <td>0</td>\n",
       "      <td>1</td>\n",
       "      <td>1</td>\n",
       "      <td>0</td>\n",
       "      <td>1</td>\n",
       "      <td>1</td>\n",
       "      <td>1</td>\n",
       "      <td>1</td>\n",
       "      <td>0</td>\n",
       "    </tr>\n",
       "    <tr>\n",
       "      <th>total_error</th>\n",
       "      <td>0</td>\n",
       "      <td>0</td>\n",
       "      <td>0</td>\n",
       "      <td>0</td>\n",
       "      <td>1</td>\n",
       "      <td>1</td>\n",
       "      <td>0</td>\n",
       "      <td>0</td>\n",
       "      <td>9</td>\n",
       "      <td>2</td>\n",
       "      <td>...</td>\n",
       "      <td>0</td>\n",
       "      <td>1</td>\n",
       "      <td>1</td>\n",
       "      <td>0</td>\n",
       "      <td>4</td>\n",
       "      <td>0</td>\n",
       "      <td>0</td>\n",
       "      <td>1</td>\n",
       "      <td>0</td>\n",
       "      <td>1</td>\n",
       "    </tr>\n",
       "    <tr>\n",
       "      <th rowspan=\"2\" valign=\"top\">2</th>\n",
       "      <th>round_robin</th>\n",
       "      <td>1</td>\n",
       "      <td>0</td>\n",
       "      <td>1</td>\n",
       "      <td>0</td>\n",
       "      <td>0</td>\n",
       "      <td>0</td>\n",
       "      <td>1</td>\n",
       "      <td>1</td>\n",
       "      <td>1</td>\n",
       "      <td>0</td>\n",
       "      <td>...</td>\n",
       "      <td>0</td>\n",
       "      <td>0</td>\n",
       "      <td>0</td>\n",
       "      <td>1</td>\n",
       "      <td>0</td>\n",
       "      <td>0</td>\n",
       "      <td>0</td>\n",
       "      <td>0</td>\n",
       "      <td>0</td>\n",
       "      <td>0</td>\n",
       "    </tr>\n",
       "    <tr>\n",
       "      <th>total_error</th>\n",
       "      <td>0</td>\n",
       "      <td>0</td>\n",
       "      <td>0</td>\n",
       "      <td>0</td>\n",
       "      <td>0</td>\n",
       "      <td>1</td>\n",
       "      <td>0</td>\n",
       "      <td>0</td>\n",
       "      <td>5</td>\n",
       "      <td>2</td>\n",
       "      <td>...</td>\n",
       "      <td>0</td>\n",
       "      <td>1</td>\n",
       "      <td>0</td>\n",
       "      <td>0</td>\n",
       "      <td>1</td>\n",
       "      <td>0</td>\n",
       "      <td>0</td>\n",
       "      <td>1</td>\n",
       "      <td>0</td>\n",
       "      <td>0</td>\n",
       "    </tr>\n",
       "    <tr>\n",
       "      <th rowspan=\"2\" valign=\"top\">4</th>\n",
       "      <th>round_robin</th>\n",
       "      <td>1</td>\n",
       "      <td>0</td>\n",
       "      <td>1</td>\n",
       "      <td>0</td>\n",
       "      <td>0</td>\n",
       "      <td>0</td>\n",
       "      <td>0</td>\n",
       "      <td>0</td>\n",
       "      <td>1</td>\n",
       "      <td>0</td>\n",
       "      <td>...</td>\n",
       "      <td>0</td>\n",
       "      <td>0</td>\n",
       "      <td>0</td>\n",
       "      <td>1</td>\n",
       "      <td>0</td>\n",
       "      <td>0</td>\n",
       "      <td>0</td>\n",
       "      <td>0</td>\n",
       "      <td>0</td>\n",
       "      <td>0</td>\n",
       "    </tr>\n",
       "    <tr>\n",
       "      <th>total_error</th>\n",
       "      <td>0</td>\n",
       "      <td>0</td>\n",
       "      <td>0</td>\n",
       "      <td>0</td>\n",
       "      <td>0</td>\n",
       "      <td>0</td>\n",
       "      <td>0</td>\n",
       "      <td>0</td>\n",
       "      <td>3</td>\n",
       "      <td>1</td>\n",
       "      <td>...</td>\n",
       "      <td>0</td>\n",
       "      <td>1</td>\n",
       "      <td>0</td>\n",
       "      <td>0</td>\n",
       "      <td>1</td>\n",
       "      <td>0</td>\n",
       "      <td>0</td>\n",
       "      <td>0</td>\n",
       "      <td>0</td>\n",
       "      <td>0</td>\n",
       "    </tr>\n",
       "  </tbody>\n",
       "</table>\n",
       "<p>6 rows × 355 columns</p>\n",
       "</div>"
      ],
      "text/plain": [
       "key                  +/+wHEptfMc4BDHAIVviKFJGJSp8tUMfdp0xxMyhgUIfBVWG/eQqbgNStNUGHusE  \\\n",
       "runtime policy                                                                          \n",
       "1       round_robin                                                  1                  \n",
       "        total_error                                                  0                  \n",
       "2       round_robin                                                  1                  \n",
       "        total_error                                                  0                  \n",
       "4       round_robin                                                  1                  \n",
       "        total_error                                                  0                  \n",
       "\n",
       "key                  +/xSb3UfIhJmIM0B03TBsa1t8mT621pu2jIUJ3viMmg5teOK8WywQnqZlht1TaOr  \\\n",
       "runtime policy                                                                          \n",
       "1       round_robin                                                  1                  \n",
       "        total_error                                                  0                  \n",
       "2       round_robin                                                  0                  \n",
       "        total_error                                                  0                  \n",
       "4       round_robin                                                  0                  \n",
       "        total_error                                                  0                  \n",
       "\n",
       "key                  +2NL56xf9VZLUNZs4/MtQC379HR1Wn/C0gT1N1SzgKlWvfmgPnMbTQ9FsqJz1Bms  \\\n",
       "runtime policy                                                                          \n",
       "1       round_robin                                                  1                  \n",
       "        total_error                                                  0                  \n",
       "2       round_robin                                                  1                  \n",
       "        total_error                                                  0                  \n",
       "4       round_robin                                                  1                  \n",
       "        total_error                                                  0                  \n",
       "\n",
       "key                  +mVkhY5xU687sTWbLgFNJQGq+/UC/hE/VitJtOuJkglhWOSf8BE2Oetpriic6Jbm  \\\n",
       "runtime policy                                                                          \n",
       "1       round_robin                                                  1                  \n",
       "        total_error                                                  0                  \n",
       "2       round_robin                                                  0                  \n",
       "        total_error                                                  0                  \n",
       "4       round_robin                                                  0                  \n",
       "        total_error                                                  0                  \n",
       "\n",
       "key                  //IUkVFEStODP4hq09Sc0uj9VowvK8dl2zoYtsfSH4Zaglwwfo1m6CYUXpHT2WDF  \\\n",
       "runtime policy                                                                          \n",
       "1       round_robin                                                  0                  \n",
       "        total_error                                                  1                  \n",
       "2       round_robin                                                  0                  \n",
       "        total_error                                                  0                  \n",
       "4       round_robin                                                  0                  \n",
       "        total_error                                                  0                  \n",
       "\n",
       "key                  //OKfzeE0qxA+Rv4phu+pT3K6aq/Xrog2jPe6Rtq+Dl/j7DPlbXiiDKicMt4iOe2  \\\n",
       "runtime policy                                                                          \n",
       "1       round_robin                                                  0                  \n",
       "        total_error                                                  1                  \n",
       "2       round_robin                                                  0                  \n",
       "        total_error                                                  1                  \n",
       "4       round_robin                                                  0                  \n",
       "        total_error                                                  0                  \n",
       "\n",
       "key                  /2gr9ur8bOoZoFcJoQZJizl82R3/nCalW5kltzBSmqn86XNsmvYQ1PWbTrwvProo  \\\n",
       "runtime policy                                                                          \n",
       "1       round_robin                                                  1                  \n",
       "        total_error                                                  0                  \n",
       "2       round_robin                                                  1                  \n",
       "        total_error                                                  0                  \n",
       "4       round_robin                                                  0                  \n",
       "        total_error                                                  0                  \n",
       "\n",
       "key                  /GykekQxm87epX9EGOurNu7PXkSk8Iouv2Iw1AjhhB/3hErqPrYHOEcFk/39DXtI  \\\n",
       "runtime policy                                                                          \n",
       "1       round_robin                                                  1                  \n",
       "        total_error                                                  0                  \n",
       "2       round_robin                                                  1                  \n",
       "        total_error                                                  0                  \n",
       "4       round_robin                                                  0                  \n",
       "        total_error                                                  0                  \n",
       "\n",
       "key                  /VC4DlR5OjFJg+sMrcA7LBk18swhGZdzJq/Wl+1qmeBxEfYuyT1Z1EZ7dyijTf0U  \\\n",
       "runtime policy                                                                          \n",
       "1       round_robin                                                  1                  \n",
       "        total_error                                                  9                  \n",
       "2       round_robin                                                  1                  \n",
       "        total_error                                                  5                  \n",
       "4       round_robin                                                  1                  \n",
       "        total_error                                                  3                  \n",
       "\n",
       "key                  /k3YdSsUhS+LoF8vBoecktIb6N/BArneMmnU2pjWCsv8b9xltr5Cvvy7Dh3zlJTy  \\\n",
       "runtime policy                                                                          \n",
       "1       round_robin                                                  0                  \n",
       "        total_error                                                  2                  \n",
       "2       round_robin                                                  0                  \n",
       "        total_error                                                  2                  \n",
       "4       round_robin                                                  0                  \n",
       "        total_error                                                  1                  \n",
       "\n",
       "key                  ...  \\\n",
       "runtime policy       ...   \n",
       "1       round_robin  ...   \n",
       "        total_error  ...   \n",
       "2       round_robin  ...   \n",
       "        total_error  ...   \n",
       "4       round_robin  ...   \n",
       "        total_error  ...   \n",
       "\n",
       "key                  zY2DclVvIOLtT0KcsazwK8fm0qsgapt/14/V8xDnLfvNtlhr8k0SFIg4Gcnb5Auf  \\\n",
       "runtime policy                                                                          \n",
       "1       round_robin                                                  1                  \n",
       "        total_error                                                  0                  \n",
       "2       round_robin                                                  0                  \n",
       "        total_error                                                  0                  \n",
       "4       round_robin                                                  0                  \n",
       "        total_error                                                  0                  \n",
       "\n",
       "key                  zdnhDFzzpqgJsTFbYQXWYtPtRoqWNbyYlvWJxqx7dBf6MBlfHlkXrNV2mKitbUFs  \\\n",
       "runtime policy                                                                          \n",
       "1       round_robin                                                  0                  \n",
       "        total_error                                                  1                  \n",
       "2       round_robin                                                  0                  \n",
       "        total_error                                                  1                  \n",
       "4       round_robin                                                  0                  \n",
       "        total_error                                                  1                  \n",
       "\n",
       "key                  zfC4dyRM+pbpMWZdqF1OQMwKFyPGe4BOT7m/EeBPj/gAHKmMw15XwDIRbqjVQQ8i  \\\n",
       "runtime policy                                                                          \n",
       "1       round_robin                                                  1                  \n",
       "        total_error                                                  1                  \n",
       "2       round_robin                                                  0                  \n",
       "        total_error                                                  0                  \n",
       "4       round_robin                                                  0                  \n",
       "        total_error                                                  0                  \n",
       "\n",
       "key                  zhLgfHGAvMiBd+awMYkVNsezX0Y+nBIglP4sC7KqHd+Ln1ZyDfW7wBx8TCTI0b+R  \\\n",
       "runtime policy                                                                          \n",
       "1       round_robin                                                  1                  \n",
       "        total_error                                                  0                  \n",
       "2       round_robin                                                  1                  \n",
       "        total_error                                                  0                  \n",
       "4       round_robin                                                  1                  \n",
       "        total_error                                                  0                  \n",
       "\n",
       "key                  zjqg3S1/WSi0B63j6f82PRSw5x8Nr6BNE6lW4TBX0EZLnKfzdcnT7Q6xBzklavx8  \\\n",
       "runtime policy                                                                          \n",
       "1       round_robin                                                  0                  \n",
       "        total_error                                                  4                  \n",
       "2       round_robin                                                  0                  \n",
       "        total_error                                                  1                  \n",
       "4       round_robin                                                  0                  \n",
       "        total_error                                                  1                  \n",
       "\n",
       "key                  zkXjdszMNIUfYkIOelfVTdnR6eMLDKJAASghVBc4U9gZOWSuaOp1HLBONZzMA4Q1  \\\n",
       "runtime policy                                                                          \n",
       "1       round_robin                                                  1                  \n",
       "        total_error                                                  0                  \n",
       "2       round_robin                                                  0                  \n",
       "        total_error                                                  0                  \n",
       "4       round_robin                                                  0                  \n",
       "        total_error                                                  0                  \n",
       "\n",
       "key                  zow9NgpoB/ZJ+wpAX61bPmP3V1EPTFnzqzEsP3YJKRhTGxW87g4xz2WFqDq/YpIv  \\\n",
       "runtime policy                                                                          \n",
       "1       round_robin                                                  1                  \n",
       "        total_error                                                  0                  \n",
       "2       round_robin                                                  0                  \n",
       "        total_error                                                  0                  \n",
       "4       round_robin                                                  0                  \n",
       "        total_error                                                  0                  \n",
       "\n",
       "key                  ztT7P5RzB9CXCY71xsGB+YSe7cqhyTz11+ughsN/Z4lFEPysIxO23eg7xqSQULix  \\\n",
       "runtime policy                                                                          \n",
       "1       round_robin                                                  1                  \n",
       "        total_error                                                  1                  \n",
       "2       round_robin                                                  0                  \n",
       "        total_error                                                  1                  \n",
       "4       round_robin                                                  0                  \n",
       "        total_error                                                  0                  \n",
       "\n",
       "key                  zyNpK9qpKDQEtJnnnaLU5Ssqe/7c3+4AJvDqxNmTeYIsuR3bPfxupcoXBQeNsThC  \\\n",
       "runtime policy                                                                          \n",
       "1       round_robin                                                  1                  \n",
       "        total_error                                                  0                  \n",
       "2       round_robin                                                  0                  \n",
       "        total_error                                                  0                  \n",
       "4       round_robin                                                  0                  \n",
       "        total_error                                                  0                  \n",
       "\n",
       "key                  zzyUrPQWi9i9O0SGP3AvQpZtSQcfhbO7VRHtTgCFOIbEJI/uSDd5fzoQnNnUpfie  \n",
       "runtime policy                                                                         \n",
       "1       round_robin                                                  0                 \n",
       "        total_error                                                  1                 \n",
       "2       round_robin                                                  0                 \n",
       "        total_error                                                  0                 \n",
       "4       round_robin                                                  0                 \n",
       "        total_error                                                  0                 \n",
       "\n",
       "[6 rows x 355 columns]"
      ]
     },
     "execution_count": 82,
     "metadata": {},
     "output_type": "execute_result"
    }
   ],
   "source": [
    "import numpy as np; np.random.seed(0)\n",
    "import seaborn as sns; sns.set_theme()\n",
    "\n",
    "d = updates_df.groupby([\"key\", \"runtime\", \"policy\"]).size().unstack(\"key\", fill_value=0)\n",
    "d"
   ]
  },
  {
   "cell_type": "code",
   "execution_count": 83,
   "metadata": {},
   "outputs": [
    {
     "data": {
      "image/png": "[encoded data removed]",
      "text/plain": [
       "<Figure size 432x288 with 2 Axes>"
      ]
     },
     "metadata": {},
     "output_type": "display_data"
    }
   ],
   "source": [
    "ax = sns.heatmap(d, square=True, annot=True)"
   ]
  },
  {
   "cell_type": "code",
   "execution_count": null,
   "metadata": {},
   "outputs": [],
   "source": []
  }
 ],
 "metadata": {
  "interpreter": {
   "hash": "1dc751811c529e88765b7ce96b7dfd0b5d4ad3dfe561f6662e2f17c21e2ffbb1"
  },
  "kernelspec": {
   "display_name": "Python 3 (ipykernel)",
   "language": "python",
   "name": "python3"
  },
  "language_info": {
   "codemirror_mode": {
    "name": "ipython",
    "version": 3
   },
   "file_extension": ".py",
   "mimetype": "text/x-python",
   "name": "python",
   "nbconvert_exporter": "python",
   "pygments_lexer": "ipython3",
   "version": "3.9.7"
  }
 },
 "nbformat": 4,
 "nbformat_minor": 2
}
