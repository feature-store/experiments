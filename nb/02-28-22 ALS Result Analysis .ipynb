{
 "cells": [
  {
   "cell_type": "code",
   "execution_count": 211,
   "id": "01fe1b8a",
   "metadata": {},
   "outputs": [
    {
     "name": "stdout",
     "output_type": "stream",
     "text": [
      "The autoreload extension is already loaded. To reload it, use:\n",
      "  %reload_ext autoreload\n"
     ]
    }
   ],
   "source": [
    "import pandas as pd\n",
    "import numpy as np\n",
    "import matplotlib.pyplot as plt\n",
    "from sklearn.metrics import mean_squared_error\n",
    "import time\n",
    "\n",
    "from pyspark.sql import SparkSession\n",
    "from pyspark.ml.evaluation import RegressionEvaluator\n",
    "from pyspark.ml.recommendation import ALS\n",
    "\n",
    "import ast\n",
    "import os\n",
    "import pickle\n",
    "import json\n",
    "\n",
    "from sklearn.metrics import mean_squared_error\n",
    "\n",
    "from pprint import pprint\n",
    "\n",
    "import sys \n",
    "sys.path.insert(1, \"../\")\n",
    "from workloads.util import use_results, use_dataset, read_config, log_dataset, join_queries_features\n",
    "from workloads.recsys.recsys_util import get_features, get_feature_update, predict_rating\n",
    "\n",
    "%load_ext autoreload\n",
    "%autoreload 2"
   ]
  },
  {
   "cell_type": "code",
   "execution_count": 212,
   "id": "97d50e56",
   "metadata": {},
   "outputs": [],
   "source": [
    "#experiment=\"results_user_workers_1_random_learningrate_0.02_userfeaturereg_0.01_sleep_0.001\"\n",
    "experiment=\"results_user_workers_2_key-fifo_learningrate_0.02_userfeaturereg_0.01_sleep_0.01\""
   ]
  },
  {
   "cell_type": "code",
   "execution_count": 213,
   "id": "0b63924e",
   "metadata": {},
   "outputs": [
    {
     "name": "stdout",
     "output_type": "stream",
     "text": [
      "0.8389195970407741\n"
     ]
    },
    {
     "data": {
      "text/plain": [
       "0.9195248125801637"
      ]
     },
     "execution_count": 213,
     "metadata": {},
     "output_type": "execute_result"
    }
   ],
   "source": [
    "experiment=\"results_user_workers_2_key-fifo_learningrate_0.02_userfeaturereg_0.01_sleep_0.01\"\n",
    "df = pd.read_csv(f\"/home/eecs/wooders/experiments/{experiment}.csv\")\n",
    "print(df[df[\"past_updates\"] != 0].error.mean())\n",
    "df.error.mean()"
   ]
  },
  {
   "cell_type": "code",
   "execution_count": 207,
   "id": "b4254cb5",
   "metadata": {},
   "outputs": [
    {
     "name": "stdout",
     "output_type": "stream",
     "text": [
      "0.8569106547928912\n"
     ]
    },
    {
     "data": {
      "text/plain": [
       "0.9232079774221076"
      ]
     },
     "execution_count": 207,
     "metadata": {},
     "output_type": "execute_result"
    }
   ],
   "source": [
    "experiment=\"results_user_workers_2_random_learningrate_0.02_userfeaturereg_0.01_sleep_0.01\"\n",
    "df = pd.read_csv(f\"/home/eecs/wooders/experiments/{experiment}.csv\")\n",
    "print(df[df[\"past_updates\"] != 0].error.mean())\n",
    "df.error.mean()"
   ]
  },
  {
   "cell_type": "code",
   "execution_count": 208,
   "id": "fc4b54cf",
   "metadata": {},
   "outputs": [
    {
     "name": "stdout",
     "output_type": "stream",
     "text": [
      "0.8999492860892693\n"
     ]
    },
    {
     "data": {
      "text/plain": [
       "0.9258124588565988"
      ]
     },
     "execution_count": 208,
     "metadata": {},
     "output_type": "execute_result"
    }
   ],
   "source": [
    "experiment=\"results_user_workers_2_bad_learningrate_0.02_userfeaturereg_0.01_sleep_0.01\"\n",
    "df = pd.read_csv(f\"/home/eecs/wooders/experiments/{experiment}.csv\")\n",
    "print(df[df[\"past_updates\"] != 0].error.mean())\n",
    "df.error.mean()"
   ]
  },
  {
   "cell_type": "code",
   "execution_count": 210,
   "id": "ba8fc36f",
   "metadata": {},
   "outputs": [
    {
     "name": "stdout",
     "output_type": "stream",
     "text": [
      "1.0737385714097687\n"
     ]
    },
    {
     "data": {
      "text/plain": [
       "0.948298319897669"
      ]
     },
     "execution_count": 210,
     "metadata": {},
     "output_type": "execute_result"
    }
   ],
   "source": [
    "experiment=\"results_user_workers_2_ml_learningrate_0.02_userfeaturereg_0.01_sleep_0.01\"\n",
    "df = pd.read_csv(f\"/home/eecs/wooders/experiments/{experiment}.csv\")\n",
    "print(df[df[\"past_updates\"] != 0].error.mean())\n",
    "df.error.mean()"
   ]
  },
  {
   "cell_type": "code",
   "execution_count": 146,
   "id": "35696ecd",
   "metadata": {},
   "outputs": [
    {
     "data": {
      "text/plain": [
       "0       15642\n",
       "79        434\n",
       "2         405\n",
       "210       383\n",
       "109       240\n",
       "        ...  \n",
       "268         1\n",
       "172         1\n",
       "595         1\n",
       "119         1\n",
       "1387        1\n",
       "Name: past_updates, Length: 327, dtype: int64"
      ]
     },
     "execution_count": 146,
     "metadata": {},
     "output_type": "execute_result"
    }
   ],
   "source": [
    "df.past_updates.value_counts()"
   ]
  },
  {
   "cell_type": "code",
   "execution_count": 177,
   "id": "41cf633a",
   "metadata": {},
   "outputs": [
    {
     "data": {
      "text/plain": [
       "0.8999492860892693"
      ]
     },
     "execution_count": 177,
     "metadata": {},
     "output_type": "execute_result"
    }
   ],
   "source": [
    "df[df[\"past_updates\"] != 0].error.mean()"
   ]
  },
  {
   "cell_type": "code",
   "execution_count": 152,
   "id": "3f01079d",
   "metadata": {},
   "outputs": [
    {
     "data": {
      "text/html": [
       "<div>\n",
       "<style scoped>\n",
       "    .dataframe tbody tr th:only-of-type {\n",
       "        vertical-align: middle;\n",
       "    }\n",
       "\n",
       "    .dataframe tbody tr th {\n",
       "        vertical-align: top;\n",
       "    }\n",
       "\n",
       "    .dataframe thead th {\n",
       "        text-align: right;\n",
       "    }\n",
       "</style>\n",
       "<table border=\"1\" class=\"dataframe\">\n",
       "  <thead>\n",
       "    <tr style=\"text-align: right;\">\n",
       "      <th></th>\n",
       "      <th>Unnamed: 0</th>\n",
       "      <th>prediction</th>\n",
       "      <th>ts</th>\n",
       "      <th>user</th>\n",
       "      <th>past_updates</th>\n",
       "      <th>pending_updates</th>\n",
       "      <th>baseline</th>\n",
       "      <th>staleness</th>\n",
       "      <th>error</th>\n",
       "      <th>oracle</th>\n",
       "      <th>label</th>\n",
       "    </tr>\n",
       "  </thead>\n",
       "  <tbody>\n",
       "    <tr>\n",
       "      <th>678</th>\n",
       "      <td>678</td>\n",
       "      <td>4.014400</td>\n",
       "      <td>5905</td>\n",
       "      <td>414</td>\n",
       "      <td>678</td>\n",
       "      <td>3</td>\n",
       "      <td>3.721784</td>\n",
       "      <td>9.701715</td>\n",
       "      <td>0.000181</td>\n",
       "      <td>4.000954</td>\n",
       "      <td>4.0</td>\n",
       "    </tr>\n",
       "    <tr>\n",
       "      <th>679</th>\n",
       "      <td>679</td>\n",
       "      <td>3.657013</td>\n",
       "      <td>5905</td>\n",
       "      <td>414</td>\n",
       "      <td>678</td>\n",
       "      <td>3</td>\n",
       "      <td>3.318390</td>\n",
       "      <td>9.701715</td>\n",
       "      <td>0.117925</td>\n",
       "      <td>4.000415</td>\n",
       "      <td>4.0</td>\n",
       "    </tr>\n",
       "    <tr>\n",
       "      <th>680</th>\n",
       "      <td>680</td>\n",
       "      <td>4.121856</td>\n",
       "      <td>5905</td>\n",
       "      <td>414</td>\n",
       "      <td>678</td>\n",
       "      <td>3</td>\n",
       "      <td>3.614318</td>\n",
       "      <td>9.701715</td>\n",
       "      <td>0.013583</td>\n",
       "      <td>4.005309</td>\n",
       "      <td>4.0</td>\n",
       "    </tr>\n",
       "    <tr>\n",
       "      <th>681</th>\n",
       "      <td>681</td>\n",
       "      <td>1.830667</td>\n",
       "      <td>7661</td>\n",
       "      <td>414</td>\n",
       "      <td>681</td>\n",
       "      <td>1</td>\n",
       "      <td>1.889115</td>\n",
       "      <td>4.492603</td>\n",
       "      <td>1.364915</td>\n",
       "      <td>2.998963</td>\n",
       "      <td>3.0</td>\n",
       "    </tr>\n",
       "    <tr>\n",
       "      <th>682</th>\n",
       "      <td>682</td>\n",
       "      <td>3.484693</td>\n",
       "      <td>9355</td>\n",
       "      <td>414</td>\n",
       "      <td>682</td>\n",
       "      <td>1</td>\n",
       "      <td>3.233982</td>\n",
       "      <td>4.340501</td>\n",
       "      <td>0.266473</td>\n",
       "      <td>4.000903</td>\n",
       "      <td>4.0</td>\n",
       "    </tr>\n",
       "    <tr>\n",
       "      <th>...</th>\n",
       "      <td>...</td>\n",
       "      <td>...</td>\n",
       "      <td>...</td>\n",
       "      <td>...</td>\n",
       "      <td>...</td>\n",
       "      <td>...</td>\n",
       "      <td>...</td>\n",
       "      <td>...</td>\n",
       "      <td>...</td>\n",
       "      <td>...</td>\n",
       "      <td>...</td>\n",
       "    </tr>\n",
       "    <tr>\n",
       "      <th>24613</th>\n",
       "      <td>24613</td>\n",
       "      <td>4.129463</td>\n",
       "      <td>15775</td>\n",
       "      <td>362</td>\n",
       "      <td>2</td>\n",
       "      <td>5</td>\n",
       "      <td>4.122393</td>\n",
       "      <td>10.645875</td>\n",
       "      <td>0.140128</td>\n",
       "      <td>4.503800</td>\n",
       "      <td>4.5</td>\n",
       "    </tr>\n",
       "    <tr>\n",
       "      <th>24614</th>\n",
       "      <td>24614</td>\n",
       "      <td>4.534038</td>\n",
       "      <td>15776</td>\n",
       "      <td>362</td>\n",
       "      <td>2</td>\n",
       "      <td>6</td>\n",
       "      <td>4.525952</td>\n",
       "      <td>10.651695</td>\n",
       "      <td>0.286585</td>\n",
       "      <td>3.998701</td>\n",
       "      <td>4.0</td>\n",
       "    </tr>\n",
       "    <tr>\n",
       "      <th>24643</th>\n",
       "      <td>24643</td>\n",
       "      <td>2.122862</td>\n",
       "      <td>827</td>\n",
       "      <td>567</td>\n",
       "      <td>5</td>\n",
       "      <td>1</td>\n",
       "      <td>2.097736</td>\n",
       "      <td>2.914648</td>\n",
       "      <td>0.138857</td>\n",
       "      <td>2.495496</td>\n",
       "      <td>2.5</td>\n",
       "    </tr>\n",
       "    <tr>\n",
       "      <th>24644</th>\n",
       "      <td>24644</td>\n",
       "      <td>2.796314</td>\n",
       "      <td>925</td>\n",
       "      <td>567</td>\n",
       "      <td>5</td>\n",
       "      <td>2</td>\n",
       "      <td>2.751416</td>\n",
       "      <td>3.234117</td>\n",
       "      <td>0.042306</td>\n",
       "      <td>3.001998</td>\n",
       "      <td>3.0</td>\n",
       "    </tr>\n",
       "    <tr>\n",
       "      <th>24665</th>\n",
       "      <td>24665</td>\n",
       "      <td>3.117267</td>\n",
       "      <td>2194</td>\n",
       "      <td>205</td>\n",
       "      <td>1</td>\n",
       "      <td>1</td>\n",
       "      <td>3.309496</td>\n",
       "      <td>1.223282</td>\n",
       "      <td>3.328641</td>\n",
       "      <td>4.941724</td>\n",
       "      <td>5.0</td>\n",
       "    </tr>\n",
       "  </tbody>\n",
       "</table>\n",
       "<p>8556 rows × 11 columns</p>\n",
       "</div>"
      ],
      "text/plain": [
       "       Unnamed: 0  prediction     ts  user  past_updates  pending_updates  \\\n",
       "678           678    4.014400   5905   414           678                3   \n",
       "679           679    3.657013   5905   414           678                3   \n",
       "680           680    4.121856   5905   414           678                3   \n",
       "681           681    1.830667   7661   414           681                1   \n",
       "682           682    3.484693   9355   414           682                1   \n",
       "...           ...         ...    ...   ...           ...              ...   \n",
       "24613       24613    4.129463  15775   362             2                5   \n",
       "24614       24614    4.534038  15776   362             2                6   \n",
       "24643       24643    2.122862    827   567             5                1   \n",
       "24644       24644    2.796314    925   567             5                2   \n",
       "24665       24665    3.117267   2194   205             1                1   \n",
       "\n",
       "       baseline  staleness     error    oracle  label  \n",
       "678    3.721784   9.701715  0.000181  4.000954    4.0  \n",
       "679    3.318390   9.701715  0.117925  4.000415    4.0  \n",
       "680    3.614318   9.701715  0.013583  4.005309    4.0  \n",
       "681    1.889115   4.492603  1.364915  2.998963    3.0  \n",
       "682    3.233982   4.340501  0.266473  4.000903    4.0  \n",
       "...         ...        ...       ...       ...    ...  \n",
       "24613  4.122393  10.645875  0.140128  4.503800    4.5  \n",
       "24614  4.525952  10.651695  0.286585  3.998701    4.0  \n",
       "24643  2.097736   2.914648  0.138857  2.495496    2.5  \n",
       "24644  2.751416   3.234117  0.042306  3.001998    3.0  \n",
       "24665  3.309496   1.223282  3.328641  4.941724    5.0  \n",
       "\n",
       "[8556 rows x 11 columns]"
      ]
     },
     "execution_count": 152,
     "metadata": {},
     "output_type": "execute_result"
    }
   ],
   "source": [
    "df[df[\"past_updates\"] > 0]"
   ]
  },
  {
   "cell_type": "code",
   "execution_count": 79,
   "id": "f4f9e1bb",
   "metadata": {},
   "outputs": [
    {
     "name": "stdout",
     "output_type": "stream",
     "text": [
      "0        3.478210\n",
      "1        4.247243\n",
      "2        4.338513\n",
      "3        4.125871\n",
      "4        4.113813\n",
      "           ...   \n",
      "23386    2.044478\n",
      "23387    1.832175\n",
      "23388    3.215661\n",
      "23389    3.268939\n",
      "23390    4.193177\n",
      "Name: baseline, Length: 23391, dtype: float64\n",
      "0        5.0\n",
      "1        4.0\n",
      "2        5.0\n",
      "3        5.0\n",
      "4        5.0\n",
      "        ... \n",
      "23386    4.0\n",
      "23387    5.0\n",
      "23388    3.0\n",
      "23389    2.0\n",
      "23390    2.5\n",
      "Name: label, Length: 23391, dtype: float64\n"
     ]
    },
    {
     "data": {
      "text/html": [
       "<div>\n",
       "<style scoped>\n",
       "    .dataframe tbody tr th:only-of-type {\n",
       "        vertical-align: middle;\n",
       "    }\n",
       "\n",
       "    .dataframe tbody tr th {\n",
       "        vertical-align: top;\n",
       "    }\n",
       "\n",
       "    .dataframe thead th {\n",
       "        text-align: right;\n",
       "    }\n",
       "</style>\n",
       "<table border=\"1\" class=\"dataframe\">\n",
       "  <thead>\n",
       "    <tr style=\"text-align: right;\">\n",
       "      <th></th>\n",
       "      <th>Unnamed: 0</th>\n",
       "      <th>prediction</th>\n",
       "      <th>ts</th>\n",
       "      <th>user</th>\n",
       "      <th>past_updates</th>\n",
       "      <th>pending_updates</th>\n",
       "      <th>baseline</th>\n",
       "      <th>staleness</th>\n",
       "      <th>error</th>\n",
       "      <th>oracle</th>\n",
       "      <th>label</th>\n",
       "      <th>baseline_error</th>\n",
       "    </tr>\n",
       "  </thead>\n",
       "  <tbody>\n",
       "    <tr>\n",
       "      <th>0</th>\n",
       "      <td>0</td>\n",
       "      <td>3.478210</td>\n",
       "      <td>760</td>\n",
       "      <td>414</td>\n",
       "      <td>0</td>\n",
       "      <td>5</td>\n",
       "      <td>3.478210</td>\n",
       "      <td>0.0</td>\n",
       "      <td>2.315643</td>\n",
       "      <td>4.999934</td>\n",
       "      <td>5.0</td>\n",
       "      <td>NaN</td>\n",
       "    </tr>\n",
       "    <tr>\n",
       "      <th>1</th>\n",
       "      <td>1</td>\n",
       "      <td>4.247243</td>\n",
       "      <td>760</td>\n",
       "      <td>414</td>\n",
       "      <td>0</td>\n",
       "      <td>5</td>\n",
       "      <td>4.247243</td>\n",
       "      <td>0.0</td>\n",
       "      <td>0.060377</td>\n",
       "      <td>4.001525</td>\n",
       "      <td>4.0</td>\n",
       "      <td>NaN</td>\n",
       "    </tr>\n",
       "    <tr>\n",
       "      <th>2</th>\n",
       "      <td>2</td>\n",
       "      <td>4.338513</td>\n",
       "      <td>760</td>\n",
       "      <td>414</td>\n",
       "      <td>0</td>\n",
       "      <td>5</td>\n",
       "      <td>4.338513</td>\n",
       "      <td>0.0</td>\n",
       "      <td>0.443805</td>\n",
       "      <td>5.004700</td>\n",
       "      <td>5.0</td>\n",
       "      <td>NaN</td>\n",
       "    </tr>\n",
       "    <tr>\n",
       "      <th>3</th>\n",
       "      <td>3</td>\n",
       "      <td>4.125871</td>\n",
       "      <td>760</td>\n",
       "      <td>414</td>\n",
       "      <td>0</td>\n",
       "      <td>5</td>\n",
       "      <td>4.125871</td>\n",
       "      <td>0.0</td>\n",
       "      <td>0.761982</td>\n",
       "      <td>4.998787</td>\n",
       "      <td>5.0</td>\n",
       "      <td>NaN</td>\n",
       "    </tr>\n",
       "    <tr>\n",
       "      <th>4</th>\n",
       "      <td>4</td>\n",
       "      <td>4.113813</td>\n",
       "      <td>760</td>\n",
       "      <td>414</td>\n",
       "      <td>0</td>\n",
       "      <td>5</td>\n",
       "      <td>4.113813</td>\n",
       "      <td>0.0</td>\n",
       "      <td>0.791451</td>\n",
       "      <td>5.003449</td>\n",
       "      <td>5.0</td>\n",
       "      <td>NaN</td>\n",
       "    </tr>\n",
       "    <tr>\n",
       "      <th>...</th>\n",
       "      <td>...</td>\n",
       "      <td>...</td>\n",
       "      <td>...</td>\n",
       "      <td>...</td>\n",
       "      <td>...</td>\n",
       "      <td>...</td>\n",
       "      <td>...</td>\n",
       "      <td>...</td>\n",
       "      <td>...</td>\n",
       "      <td>...</td>\n",
       "      <td>...</td>\n",
       "      <td>...</td>\n",
       "    </tr>\n",
       "    <tr>\n",
       "      <th>23386</th>\n",
       "      <td>23386</td>\n",
       "      <td>2.044478</td>\n",
       "      <td>7391</td>\n",
       "      <td>1</td>\n",
       "      <td>0</td>\n",
       "      <td>1</td>\n",
       "      <td>2.044478</td>\n",
       "      <td>0.0</td>\n",
       "      <td>3.774475</td>\n",
       "      <td>3.987279</td>\n",
       "      <td>4.0</td>\n",
       "      <td>NaN</td>\n",
       "    </tr>\n",
       "    <tr>\n",
       "      <th>23387</th>\n",
       "      <td>23387</td>\n",
       "      <td>1.832175</td>\n",
       "      <td>263</td>\n",
       "      <td>185</td>\n",
       "      <td>0</td>\n",
       "      <td>1</td>\n",
       "      <td>1.832175</td>\n",
       "      <td>0.0</td>\n",
       "      <td>9.814410</td>\n",
       "      <td>4.964971</td>\n",
       "      <td>5.0</td>\n",
       "      <td>NaN</td>\n",
       "    </tr>\n",
       "    <tr>\n",
       "      <th>23388</th>\n",
       "      <td>23388</td>\n",
       "      <td>3.215661</td>\n",
       "      <td>15620</td>\n",
       "      <td>591</td>\n",
       "      <td>0</td>\n",
       "      <td>1</td>\n",
       "      <td>3.215661</td>\n",
       "      <td>0.0</td>\n",
       "      <td>0.045265</td>\n",
       "      <td>3.002906</td>\n",
       "      <td>3.0</td>\n",
       "      <td>NaN</td>\n",
       "    </tr>\n",
       "    <tr>\n",
       "      <th>23389</th>\n",
       "      <td>23389</td>\n",
       "      <td>3.268939</td>\n",
       "      <td>939</td>\n",
       "      <td>100</td>\n",
       "      <td>0</td>\n",
       "      <td>1</td>\n",
       "      <td>3.268939</td>\n",
       "      <td>0.0</td>\n",
       "      <td>1.613151</td>\n",
       "      <td>1.998840</td>\n",
       "      <td>2.0</td>\n",
       "      <td>NaN</td>\n",
       "    </tr>\n",
       "    <tr>\n",
       "      <th>23390</th>\n",
       "      <td>23390</td>\n",
       "      <td>4.193177</td>\n",
       "      <td>3241</td>\n",
       "      <td>398</td>\n",
       "      <td>0</td>\n",
       "      <td>1</td>\n",
       "      <td>4.193177</td>\n",
       "      <td>0.0</td>\n",
       "      <td>2.890277</td>\n",
       "      <td>2.493096</td>\n",
       "      <td>2.5</td>\n",
       "      <td>NaN</td>\n",
       "    </tr>\n",
       "  </tbody>\n",
       "</table>\n",
       "<p>23391 rows × 12 columns</p>\n",
       "</div>"
      ],
      "text/plain": [
       "       Unnamed: 0  prediction     ts  user  past_updates  pending_updates  \\\n",
       "0               0    3.478210    760   414             0                5   \n",
       "1               1    4.247243    760   414             0                5   \n",
       "2               2    4.338513    760   414             0                5   \n",
       "3               3    4.125871    760   414             0                5   \n",
       "4               4    4.113813    760   414             0                5   \n",
       "...           ...         ...    ...   ...           ...              ...   \n",
       "23386       23386    2.044478   7391     1             0                1   \n",
       "23387       23387    1.832175    263   185             0                1   \n",
       "23388       23388    3.215661  15620   591             0                1   \n",
       "23389       23389    3.268939    939   100             0                1   \n",
       "23390       23390    4.193177   3241   398             0                1   \n",
       "\n",
       "       baseline  staleness     error    oracle  label baseline_error  \n",
       "0      3.478210        0.0  2.315643  4.999934    5.0            NaN  \n",
       "1      4.247243        0.0  0.060377  4.001525    4.0            NaN  \n",
       "2      4.338513        0.0  0.443805  5.004700    5.0            NaN  \n",
       "3      4.125871        0.0  0.761982  4.998787    5.0            NaN  \n",
       "4      4.113813        0.0  0.791451  5.003449    5.0            NaN  \n",
       "...         ...        ...       ...       ...    ...            ...  \n",
       "23386  2.044478        0.0  3.774475  3.987279    4.0            NaN  \n",
       "23387  1.832175        0.0  9.814410  4.964971    5.0            NaN  \n",
       "23388  3.215661        0.0  0.045265  3.002906    3.0            NaN  \n",
       "23389  3.268939        0.0  1.613151  1.998840    2.0            NaN  \n",
       "23390  4.193177        0.0  2.890277  2.493096    2.5            NaN  \n",
       "\n",
       "[23391 rows x 12 columns]"
      ]
     },
     "execution_count": 79,
     "metadata": {},
     "output_type": "execute_result"
    }
   ],
   "source": [
    "df[\"baseline_error\"] = df[[\"baseline\", \"label\"]].apply(lambda x: print(x))\n",
    "df"
   ]
  },
  {
   "cell_type": "code",
   "execution_count": null,
   "id": "eca5a006",
   "metadata": {},
   "outputs": [],
   "source": [
    "df = "
   ]
  },
  {
   "cell_type": "code",
   "execution_count": 69,
   "id": "7453c2e2",
   "metadata": {},
   "outputs": [
    {
     "data": {
      "text/plain": [
       "user\n",
       "1      1.328261\n",
       "4      0.982921\n",
       "7      0.183413\n",
       "10     0.638623\n",
       "11    -0.348690\n",
       "         ...   \n",
       "603    0.413006\n",
       "605   -0.409781\n",
       "606   -0.473384\n",
       "607   -0.121070\n",
       "608   -0.140983\n",
       "Name: error, Length: 240, dtype: float64"
      ]
     },
     "execution_count": 69,
     "metadata": {},
     "output_type": "execute_result"
    }
   ],
   "source": [
    "np.log(df.groupby(\"user\").error.mean())"
   ]
  },
  {
   "cell_type": "code",
   "execution_count": 55,
   "id": "cc015ba6",
   "metadata": {},
   "outputs": [
    {
     "data": {
      "text/plain": [
       "user\n",
       "1        0.000000\n",
       "4       99.011559\n",
       "7      128.117636\n",
       "10      20.409890\n",
       "11       0.509548\n",
       "          ...    \n",
       "603      0.403060\n",
       "605      0.390720\n",
       "606     15.652394\n",
       "607    417.664739\n",
       "608     15.800097\n",
       "Name: staleness, Length: 240, dtype: float64"
      ]
     },
     "execution_count": 55,
     "metadata": {},
     "output_type": "execute_result"
    }
   ],
   "source": [
    "df.groupby(\"user\").staleness.mean()"
   ]
  },
  {
   "cell_type": "code",
   "execution_count": 48,
   "id": "284ac42a",
   "metadata": {},
   "outputs": [
    {
     "data": {
      "text/plain": [
       "Int64Index([   0,    1,    2,    3,    4,    5,    6,    7,    8,    9,\n",
       "            ...\n",
       "            1333, 1334, 1335, 1339, 1340, 1345, 1387, 1391, 1392, 1393],\n",
       "           dtype='int64', name='past_updates', length=519)"
      ]
     },
     "execution_count": 48,
     "metadata": {},
     "output_type": "execute_result"
    }
   ],
   "source": [
    "df.groupby(\"past_updates\").error.mean().index"
   ]
  },
  {
   "cell_type": "code",
   "execution_count": 24,
   "id": "f5d14c30",
   "metadata": {},
   "outputs": [
    {
     "data": {
      "text/plain": [
       "36.493310078300084"
      ]
     },
     "execution_count": 24,
     "metadata": {},
     "output_type": "execute_result"
    }
   ],
   "source": [
    "df.staleness.mean()"
   ]
  },
  {
   "cell_type": "code",
   "execution_count": 51,
   "id": "f51c3dbb",
   "metadata": {},
   "outputs": [
    {
     "data": {
      "image/png": "[encoded data removed]",
      "text/plain": [
       "<Figure size 432x288 with 1 Axes>"
      ]
     },
     "metadata": {
      "needs_background": "light"
     },
     "output_type": "display_data"
    }
   ],
   "source": [
    "plt.scatter(df.groupby(\"past_updates\").error.median().index.tolist(), df.groupby(\"past_updates\").error.median().tolist(), c =\"blue\", label=\"past updates\")\n",
    "\n",
    "plt.legend()\n",
    "# To show the plot\n",
    "plt.title(\"Error vs. Pending Updates \")\n",
    "plt.ylabel(\"Prediction Error (MSE)\")\n",
    "plt.xlabel(\"Number Updates\")\n",
    "plt.show()"
   ]
  },
  {
   "cell_type": "code",
   "execution_count": 70,
   "id": "5a30a024",
   "metadata": {},
   "outputs": [
    {
     "data": {
      "text/plain": [
       "<matplotlib.collections.PathCollection at 0x7fea8163f430>"
      ]
     },
     "execution_count": 70,
     "metadata": {},
     "output_type": "execute_result"
    },
    {
     "data": {
      "image/png": "[encoded data removed]",
      "text/plain": [
       "<Figure size 432x288 with 1 Axes>"
      ]
     },
     "metadata": {
      "needs_background": "light"
     },
     "output_type": "display_data"
    }
   ],
   "source": [
    "plt.scatter(df.groupby(\"pending_updates\").error.mean().index.tolist(), np.log(df.groupby(\"pending_updates\").error.mean()), c =\"red\", label=\"pending updates\")\n"
   ]
  },
  {
   "cell_type": "code",
   "execution_count": 71,
   "id": "4e9eef69",
   "metadata": {},
   "outputs": [
    {
     "data": {
      "text/plain": [
       "<matplotlib.collections.PathCollection at 0x7fea816165b0>"
      ]
     },
     "execution_count": 71,
     "metadata": {},
     "output_type": "execute_result"
    },
    {
     "data": {
      "image/png": "[encoded data removed]",
      "text/plain": [
       "<Figure size 432x288 with 1 Axes>"
      ]
     },
     "metadata": {
      "needs_background": "light"
     },
     "output_type": "display_data"
    }
   ],
   "source": [
    "plt.scatter(df.groupby(\"past_updates\").error.mean().index.tolist(), np.log(df.groupby(\"past_updates\").error.mean()), c =\"blue\", label=\"pending updates\")\n"
   ]
  },
  {
   "cell_type": "code",
   "execution_count": 53,
   "id": "84bdcef7",
   "metadata": {},
   "outputs": [
    {
     "data": {
      "image/png": "[encoded data removed]",
      "text/plain": [
       "<Figure size 432x288 with 1 Axes>"
      ]
     },
     "metadata": {
      "needs_background": "light"
     },
     "output_type": "display_data"
    }
   ],
   "source": [
    "import matplotlib.pyplot as plt\n",
    "\n",
    "#plt.scatter(df[\"staleness\"].tolist(), df[\"error\"].tolist(), c =\"green\", label=f\"staleness\")\n",
    "\n",
    "plt.scatter(df.groupby(\"staleness\").error.mean().index.tolist(), df.groupby(\"staleness\").error.mean().tolist(), c =\"green\", label=\"staleness\")\n",
    "\n",
    "plt.legend()\n",
    "# To show the plot\n",
    "plt.title(\"Error vs. Staleness\")\n",
    "plt.ylabel(\"Predicted Error\")\n",
    "plt.xlabel(\"Staleness (s)\")\n",
    "plt.show()"
   ]
  },
  {
   "cell_type": "code",
   "execution_count": 56,
   "id": "874e29a2",
   "metadata": {},
   "outputs": [
    {
     "data": {
      "image/png": "[encoded data removed]",
      "text/plain": [
       "<Figure size 432x288 with 1 Axes>"
      ]
     },
     "metadata": {
      "needs_background": "light"
     },
     "output_type": "display_data"
    }
   ],
   "source": [
    "import matplotlib.pyplot as plt\n",
    "\n",
    "#plt.scatter(df[\"staleness\"].tolist(), df[\"error\"].tolist(), c =\"green\", label=f\"staleness\")\n",
    "\n",
    "plt.scatter(df.groupby(\"user\").staleness.mean().tolist(), df.groupby(\"user\").error.mean().tolist(), c =\"green\", label=\"staleness\")\n",
    "\n",
    "plt.legend()\n",
    "# To show the plot\n",
    "plt.title(\"Error vs. Staleness\")\n",
    "plt.ylabel(\"Predicted Error\")\n",
    "plt.xlabel(\"Staleness (s)\")\n",
    "plt.show()"
   ]
  },
  {
   "cell_type": "code",
   "execution_count": 61,
   "id": "e53c2a52",
   "metadata": {},
   "outputs": [
    {
     "data": {
      "image/png": "[encoded data removed]",
      "text/plain": [
       "<Figure size 432x288 with 1 Axes>"
      ]
     },
     "metadata": {
      "needs_background": "light"
     },
     "output_type": "display_data"
    }
   ],
   "source": [
    "import matplotlib.pyplot as plt\n",
    "\n",
    "#plt.scatter(df[\"staleness\"].tolist(), df[\"error\"].tolist(), c =\"green\", label=f\"staleness\")\n",
    "\n",
    "plt.scatter(df.groupby(\"user\").past_updates.mean().tolist(), df.groupby(\"user\").error.mean().tolist(), c =\"blue\", label=\"staleness\")\n",
    "\n",
    "plt.legend()\n",
    "# To show the plot\n",
    "plt.title(\"Error vs. Staleness\")\n",
    "plt.ylabel(\"Predicted Error\")\n",
    "plt.xlabel(\"Staleness (s)\")\n",
    "plt.show()"
   ]
  },
  {
   "cell_type": "code",
   "execution_count": 60,
   "id": "c5893b4c",
   "metadata": {},
   "outputs": [
    {
     "data": {
      "image/png": "[encoded data removed]",
      "text/plain": [
       "<Figure size 432x288 with 1 Axes>"
      ]
     },
     "metadata": {
      "needs_background": "light"
     },
     "output_type": "display_data"
    }
   ],
   "source": [
    "import matplotlib.pyplot as plt\n",
    "\n",
    "#plt.scatter(df[\"staleness\"].tolist(), df[\"error\"].tolist(), c =\"green\", label=f\"staleness\")\n",
    "\n",
    "plt.scatter(df.groupby(\"user\").pending_updates.mean().tolist(), df.groupby(\"user\").error.mean().tolist(), c =\"red\", label=\"pending\")\n",
    "\n",
    "plt.legend()\n",
    "# To show the plot\n",
    "plt.title(\"Error vs. Staleness\")\n",
    "plt.ylabel(\"Predicted Error\")\n",
    "plt.xlabel(\"Staleness (s)\")\n",
    "plt.show()"
   ]
  },
  {
   "cell_type": "code",
   "execution_count": 82,
   "id": "a01c042c",
   "metadata": {},
   "outputs": [
    {
     "name": "stdout",
     "output_type": "stream",
     "text": [
      "/data/wooders/ralf-vldb//datasets/ml-latest-small\n"
     ]
    }
   ],
   "source": [
    "dataset_dir = use_dataset(\"ml-latest-small\")\n",
    "events_df = pd.read_csv(f'{dataset_dir}/test.csv')"
   ]
  },
  {
   "cell_type": "code",
   "execution_count": 83,
   "id": "03efd19b",
   "metadata": {},
   "outputs": [
    {
     "data": {
      "text/html": [
       "<div>\n",
       "<style scoped>\n",
       "    .dataframe tbody tr th:only-of-type {\n",
       "        vertical-align: middle;\n",
       "    }\n",
       "\n",
       "    .dataframe tbody tr th {\n",
       "        vertical-align: top;\n",
       "    }\n",
       "\n",
       "    .dataframe thead th {\n",
       "        text-align: right;\n",
       "    }\n",
       "</style>\n",
       "<table border=\"1\" class=\"dataframe\">\n",
       "  <thead>\n",
       "    <tr style=\"text-align: right;\">\n",
       "      <th></th>\n",
       "      <th>Unnamed: 0</th>\n",
       "      <th>user_id</th>\n",
       "      <th>movie_id</th>\n",
       "      <th>rating</th>\n",
       "      <th>timestamp</th>\n",
       "    </tr>\n",
       "  </thead>\n",
       "  <tbody>\n",
       "    <tr>\n",
       "      <th>0</th>\n",
       "      <td>6132</td>\n",
       "      <td>42</td>\n",
       "      <td>2424</td>\n",
       "      <td>4.0</td>\n",
       "      <td>81</td>\n",
       "    </tr>\n",
       "    <tr>\n",
       "      <th>1</th>\n",
       "      <td>38927</td>\n",
       "      <td>268</td>\n",
       "      <td>1093</td>\n",
       "      <td>1.0</td>\n",
       "      <td>81</td>\n",
       "    </tr>\n",
       "    <tr>\n",
       "      <th>2</th>\n",
       "      <td>31275</td>\n",
       "      <td>217</td>\n",
       "      <td>2231</td>\n",
       "      <td>4.0</td>\n",
       "      <td>81</td>\n",
       "    </tr>\n",
       "    <tr>\n",
       "      <th>3</th>\n",
       "      <td>80503</td>\n",
       "      <td>509</td>\n",
       "      <td>4700</td>\n",
       "      <td>3.5</td>\n",
       "      <td>81</td>\n",
       "    </tr>\n",
       "    <tr>\n",
       "      <th>4</th>\n",
       "      <td>80447</td>\n",
       "      <td>509</td>\n",
       "      <td>2059</td>\n",
       "      <td>2.5</td>\n",
       "      <td>81</td>\n",
       "    </tr>\n",
       "    <tr>\n",
       "      <th>...</th>\n",
       "      <td>...</td>\n",
       "      <td>...</td>\n",
       "      <td>...</td>\n",
       "      <td>...</td>\n",
       "      <td>...</td>\n",
       "    </tr>\n",
       "    <tr>\n",
       "      <th>44120</th>\n",
       "      <td>64984</td>\n",
       "      <td>414</td>\n",
       "      <td>179817</td>\n",
       "      <td>4.0</td>\n",
       "      <td>5641265</td>\n",
       "    </tr>\n",
       "    <tr>\n",
       "      <th>44121</th>\n",
       "      <td>64934</td>\n",
       "      <td>414</td>\n",
       "      <td>140715</td>\n",
       "      <td>4.0</td>\n",
       "      <td>5641267</td>\n",
       "    </tr>\n",
       "    <tr>\n",
       "      <th>44122</th>\n",
       "      <td>64918</td>\n",
       "      <td>414</td>\n",
       "      <td>122906</td>\n",
       "      <td>4.0</td>\n",
       "      <td>5665416</td>\n",
       "    </tr>\n",
       "    <tr>\n",
       "      <th>44123</th>\n",
       "      <td>64991</td>\n",
       "      <td>414</td>\n",
       "      <td>187595</td>\n",
       "      <td>3.5</td>\n",
       "      <td>5665417</td>\n",
       "    </tr>\n",
       "    <tr>\n",
       "      <th>44124</th>\n",
       "      <td>64989</td>\n",
       "      <td>414</td>\n",
       "      <td>180985</td>\n",
       "      <td>3.5</td>\n",
       "      <td>5665418</td>\n",
       "    </tr>\n",
       "  </tbody>\n",
       "</table>\n",
       "<p>44125 rows × 5 columns</p>\n",
       "</div>"
      ],
      "text/plain": [
       "       Unnamed: 0  user_id  movie_id  rating  timestamp\n",
       "0            6132       42      2424     4.0         81\n",
       "1           38927      268      1093     1.0         81\n",
       "2           31275      217      2231     4.0         81\n",
       "3           80503      509      4700     3.5         81\n",
       "4           80447      509      2059     2.5         81\n",
       "...           ...      ...       ...     ...        ...\n",
       "44120       64984      414    179817     4.0    5641265\n",
       "44121       64934      414    140715     4.0    5641267\n",
       "44122       64918      414    122906     4.0    5665416\n",
       "44123       64991      414    187595     3.5    5665417\n",
       "44124       64989      414    180985     3.5    5665418\n",
       "\n",
       "[44125 rows x 5 columns]"
      ]
     },
     "execution_count": 83,
     "metadata": {},
     "output_type": "execute_result"
    }
   ],
   "source": [
    "events_df"
   ]
  },
  {
   "cell_type": "code",
   "execution_count": 85,
   "id": "3fe8b0fe",
   "metadata": {},
   "outputs": [
    {
     "data": {
      "text/plain": [
       "813        72\n",
       "109        66\n",
       "100        63\n",
       "118        63\n",
       "81         60\n",
       "           ..\n",
       "3316379     1\n",
       "207217      1\n",
       "2085778     1\n",
       "567649      1\n",
       "2625538     1\n",
       "Name: timestamp, Length: 13810, dtype: int64"
      ]
     },
     "execution_count": 85,
     "metadata": {},
     "output_type": "execute_result"
    }
   ],
   "source": [
    "events_df.timestamp.value_counts()"
   ]
  },
  {
   "cell_type": "code",
   "execution_count": 92,
   "id": "40ae9c02",
   "metadata": {},
   "outputs": [
    {
     "data": {
      "text/plain": [
       "<AxesSubplot:>"
      ]
     },
     "execution_count": 92,
     "metadata": {},
     "output_type": "execute_result"
    },
    {
     "data": {
      "image/png": "[encoded data removed]",
      "text/plain": [
       "<Figure size 432x288 with 1 Axes>"
      ]
     },
     "metadata": {
      "needs_background": "light"
     },
     "output_type": "display_data"
    }
   ],
   "source": [
    "events_df[events_df[\"timestamp\"] < 40000].timestamp.value_counts().sort_index().plot()"
   ]
  },
  {
   "cell_type": "code",
   "execution_count": 87,
   "id": "c43761b8",
   "metadata": {},
   "outputs": [
    {
     "data": {
      "text/plain": [
       "7567.799999999999"
      ]
     },
     "execution_count": 87,
     "metadata": {},
     "output_type": "execute_result"
    }
   ],
   "source": [
    "25226*0.3"
   ]
  },
  {
   "cell_type": "code",
   "execution_count": null,
   "id": "54734854",
   "metadata": {},
   "outputs": [],
   "source": []
  }
 ],
 "metadata": {
  "kernelspec": {
   "display_name": "Python 3",
   "language": "python",
   "name": "python3"
  },
  "language_info": {
   "codemirror_mode": {
    "name": "ipython",
    "version": 3
   },
   "file_extension": ".py",
   "mimetype": "text/x-python",
   "name": "python",
   "nbconvert_exporter": "python",
   "pygments_lexer": "ipython3",
   "version": "3.8.8"
  }
 },
 "nbformat": 4,
 "nbformat_minor": 5
}
