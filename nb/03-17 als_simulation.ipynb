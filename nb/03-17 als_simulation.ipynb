{
 "cells": [
  {
   "cell_type": "code",
   "execution_count": 127,
   "id": "8b25a596",
   "metadata": {},
   "outputs": [],
   "source": [
    "import modin.pandas as pd\n",
    "from pyspark.sql import SparkSession\n",
    "from pyspark.ml.evaluation import RegressionEvaluator\n",
    "from pyspark.mllib.recommendation import ALS as newALS\n",
    "from sklearn.metrics import mean_squared_error\n",
    "from pyspark.sql.functions import *\n",
    "from pyspark.sql.types import *\n",
    "import numpy as np\n",
    "from sortedcontainers import SortedList, SortedDict\n",
    "import time"
   ]
  },
  {
   "cell_type": "code",
   "execution_count": 74,
   "id": "06a5aef5",
   "metadata": {},
   "outputs": [],
   "source": [
    "num_features = 50\n",
    "learning_rate = .02"
   ]
  },
  {
   "cell_type": "code",
   "execution_count": 108,
   "id": "0ab59e64",
   "metadata": {},
   "outputs": [],
   "source": [
    "np.random.seed(100)\n",
    "initial_features = np.random.rand(num_features)"
   ]
  },
  {
   "cell_type": "code",
   "execution_count": 2,
   "id": "ccdd8301",
   "metadata": {},
   "outputs": [],
   "source": [
    "path = \"../../Downloads/ml-1m\"\n",
    "\n",
    "def split_data(path):  \n",
    "    df = pd.read_csv(f'{path}/ratings.dat', sep = \"::\", names=['user_id', 'movie_id', 'rating', 'timestamp']).sort_values('timestamp')\n",
    "    start_ts = df['timestamp'].min()\n",
    "    med_ts = df['timestamp'].quantile(.5)\n",
    "    end_ts = df['timestamp'].max()\n",
    "    train_df = df[df['timestamp'] <= med_ts]\n",
    "    stream_df = df[df['timestamp'] > med_ts]\n",
    "    seen_movies = set(train_df['movie_id'])\n",
    "    print(len(seen_movies), len(set(stream_df['movie_id'])), len(stream_df))\n",
    "    stream_df = stream_df.drop(stream_df[stream_df['movie_id'].map(lambda x: x not in seen_movies)].index)\n",
    "    '''\n",
    "    print(len(set(stream_df['movie_id'])), len(stream_df))\n",
    "    seen_users = set(train_df['user_id'])\n",
    "    num_stream_users = set(stream_df['user_id'])\n",
    "    stream_df = stream_df.drop(stream_df[stream_df['user_id'].map(lambda x: x not in seen_users)].index)\n",
    "    print(len(seen_users), len(num_stream_users), len(set(stream_df['user_id'])), len(stream_df))\n",
    "    '''\n",
    "    train_df.to_csv(f'{path}/train.csv', header=True, index = False)\n",
    "    stream_df.to_csv(f'{path}/stream.csv', header=True, index = False)\n",
    "    return start_ts, med_ts, end_ts"
   ]
  },
  {
   "cell_type": "code",
   "execution_count": 6,
   "id": "6ac525ca",
   "metadata": {},
   "outputs": [
    {
     "name": "stderr",
     "output_type": "stream",
     "text": [
      "ParserWarning: Falling back to the 'python' engine because the 'c' engine does not support regex separators (separators > 1 char and different from '\\s+' are interpreted as regex); you can avoid this warning by specifying engine='python'.\n",
      "UserWarning: sort_values defaulting to pandas implementation.\n"
     ]
    },
    {
     "name": "stdout",
     "output_type": "stream",
     "text": [
      "3551 3643 500104\n"
     ]
    },
    {
     "data": {
      "text/plain": [
       "(956703932, 973018006.0, 1046454590)"
      ]
     },
     "execution_count": 6,
     "metadata": {},
     "output_type": "execute_result"
    }
   ],
   "source": [
    "split_data(path)"
   ]
  },
  {
   "cell_type": "code",
   "execution_count": 4,
   "id": "4a38666a",
   "metadata": {
    "scrolled": true
   },
   "outputs": [
    {
     "name": "stderr",
     "output_type": "stream",
     "text": [
      "WARNING: An illegal reflective access operation has occurred\n",
      "WARNING: Illegal reflective access by org.apache.spark.unsafe.Platform (file:/opt/homebrew/Caskroom/miniconda/base/envs/myenv/lib/python3.8/site-packages/pyspark/jars/spark-unsafe_2.12-3.2.1.jar) to constructor java.nio.DirectByteBuffer(long,int)\n",
      "WARNING: Please consider reporting this to the maintainers of org.apache.spark.unsafe.Platform\n",
      "WARNING: Use --illegal-access=warn to enable warnings of further illegal reflective access operations\n",
      "WARNING: All illegal access operations will be denied in a future release\n",
      "Using Spark's default log4j profile: org/apache/spark/log4j-defaults.properties\n",
      "Setting default log level to \"WARN\".\n",
      "To adjust logging level use sc.setLogLevel(newLevel). For SparkR, use setLogLevel(newLevel).\n",
      "22/03/17 13:06:29 WARN NativeCodeLoader: Unable to load native-hadoop library for your platform... using builtin-java classes where applicable\n",
      "22/03/17 13:06:30 WARN Utils: Service 'SparkUI' could not bind on port 4040. Attempting port 4041.\n"
     ]
    }
   ],
   "source": [
    "spark = SparkSession.builder.master('local').appName('als').getOrCreate()"
   ]
  },
  {
   "cell_type": "code",
   "execution_count": 7,
   "id": "a3fbc1e7",
   "metadata": {},
   "outputs": [],
   "source": [
    "spark_df = spark.read.options(delimiter=\",\", inferSchema=True, header=True).csv(f'{path}/train.csv')"
   ]
  },
  {
   "cell_type": "code",
   "execution_count": 10,
   "id": "4f286b1b",
   "metadata": {},
   "outputs": [
    {
     "name": "stdout",
     "output_type": "stream",
     "text": [
      "+-------+--------+------+\n",
      "|user_id|movie_id|rating|\n",
      "+-------+--------+------+\n",
      "|   6040|     858|     4|\n",
      "|   6040|    2384|     4|\n",
      "|   6040|     593|     5|\n",
      "|   6040|    1961|     4|\n",
      "|   6040|    2019|     5|\n",
      "|   6040|    1419|     3|\n",
      "|   6040|     213|     5|\n",
      "|   6040|    3111|     5|\n",
      "|   6040|     573|     4|\n",
      "|   6040|    3505|     4|\n",
      "|   6040|    1734|     2|\n",
      "|   6040|    2503|     5|\n",
      "|   6040|     919|     5|\n",
      "|   6040|     912|     5|\n",
      "|   6040|     527|     5|\n",
      "|   6040|    1252|     5|\n",
      "|   6040|     649|     5|\n",
      "|   6040|     318|     4|\n",
      "|   6040|    3289|     5|\n",
      "|   6040|     759|     5|\n",
      "+-------+--------+------+\n",
      "only showing top 20 rows\n",
      "\n"
     ]
    },
    {
     "name": "stderr",
     "output_type": "stream",
     "text": [
      "22/03/17 13:07:55 WARN InstanceBuilder$NativeBLAS: Failed to load implementation from:dev.ludovic.netlib.blas.JNIBLAS\n",
      "22/03/17 13:07:55 WARN InstanceBuilder$NativeBLAS: Failed to load implementation from:dev.ludovic.netlib.blas.ForeignLinkerBLAS\n",
      "22/03/17 13:07:55 WARN InstanceBuilder$NativeLAPACK: Failed to load implementation from:dev.ludovic.netlib.lapack.JNILAPACK\n"
     ]
    }
   ],
   "source": [
    "spark_df = spark_df.drop('timestamp')\n",
    "spark_df.show()\n",
    "new_model = newALS.train(ratings = spark_df.rdd, rank = num_features, iterations=15, lambda_=learning_rate)"
   ]
  },
  {
   "cell_type": "code",
   "execution_count": 11,
   "id": "4b6b9644",
   "metadata": {},
   "outputs": [
    {
     "name": "stderr",
     "output_type": "stream",
     "text": [
      "22/03/17 13:09:59 WARN BlockManager: Task 51 already completed, not releasing lock for rdd_328_0\n"
     ]
    }
   ],
   "source": [
    "user_features = new_model.userFeatures().toDF().toPandas()\n",
    "user_features = user_features.rename(columns={'_1': 'id', '_2': 'features'})\n",
    "product_features = new_model.productFeatures().toDF().toPandas()\n",
    "product_features = product_features.rename(columns={'_1': 'id', '_2': 'features'})"
   ]
  },
  {
   "cell_type": "code",
   "execution_count": 13,
   "id": "9354c127",
   "metadata": {},
   "outputs": [],
   "source": [
    "product_features.sort_values('id').to_csv(f'{path}/movie_features.csv', index = False)\n",
    "user_features.sort_values('id').to_csv(f'{path}/user_features.csv', index = False)"
   ]
  },
  {
   "cell_type": "code",
   "execution_count": 58,
   "id": "fbd7e763",
   "metadata": {},
   "outputs": [],
   "source": [
    "def get_feature_dict(features):\n",
    "    feature_dict = dict()\n",
    "    for row in features.itertuples():\n",
    "        feature_dict[int(row.id)] = np.array(row.features)\n",
    "    return feature_dict"
   ]
  },
  {
   "cell_type": "code",
   "execution_count": 258,
   "id": "9080bc68",
   "metadata": {},
   "outputs": [],
   "source": [
    "class FIFOScheduler:\n",
    "    \n",
    "    def __init__(self):\n",
    "        self.queue = []\n",
    "        self.name = \"fifo\"\n",
    "        \n",
    "    def push(self, row):\n",
    "        self.queue.append(row)\n",
    "    \n",
    "    def pop(self):\n",
    "        if len(self.queue) == 0:\n",
    "            return None\n",
    "        return self.queue.pop()"
   ]
  },
  {
   "cell_type": "code",
   "execution_count": 256,
   "id": "d8c8bc2a",
   "metadata": {},
   "outputs": [],
   "source": [
    "class FewestUpdateScheduler:\n",
    "    \n",
    "    def __init__(self):\n",
    "        self.updated_list = SortedList(key = lambda x: x[1])\n",
    "        self.row_dict = dict()\n",
    "        self.name = \"fewest\"\n",
    "\n",
    "    def push(self, row):\n",
    "        user = row.user_id\n",
    "        if user not in self.row_dict:\n",
    "            self.updated_list.add([user, 0])\n",
    "            self.row_dict[user] = [row]\n",
    "        else:\n",
    "            self.row_dict[user].append(row)\n",
    "          \n",
    "    def pop(self):\n",
    "        user_data = self.updated_list.pop(0)\n",
    "        user = user_data[0]\n",
    "        row = self.row_dict[user].pop()\n",
    "        if len(self.row_dict[user]) != 0:\n",
    "            user_data[1] = user_data[1] + 1\n",
    "            self.updated_list.add(user_data)\n",
    "        #self.updated_list[0][1] = self.updated_list[0][1] + 1\n",
    "        return row"
   ]
  },
  {
   "cell_type": "code",
   "execution_count": 257,
   "id": "acdcc954",
   "metadata": {},
   "outputs": [],
   "source": [
    "class MaxPendingScheduler:\n",
    "    \n",
    "    def __init__(self):\n",
    "        # items = [key, num_pending]\n",
    "        self.updated_list = SortedList(key = lambda x: x[1])\n",
    "        self.row_dict = dict()\n",
    "        self.name = \"pending\"\n",
    "\n",
    "    def push(self, row):\n",
    "        user = row.user_id\n",
    "        if user not in self.row_dict:\n",
    "            self.updated_list.add([user, 1])\n",
    "            self.row_dict[user] = [row]\n",
    "        else:\n",
    "            pending_updates = len(self.row_dict[user])\n",
    "            self.updated_list.remove([user, pending_updates])\n",
    "            self.updated_list.add([user, pending_updates + 1])\n",
    "            self.row_dict[user].append(row)\n",
    "        #print(self.row_dict, self.updated_list)\n",
    "        \n",
    "    def pop(self):\n",
    "        user = self.updated_list[-1][0]\n",
    "        row = self.row_dict[user].pop()\n",
    "        if len(self.row_dict[user]) == 0:\n",
    "            self.updated_list.pop(-1)\n",
    "            del self.row_dict[user]\n",
    "        else:\n",
    "            self.updated_list[-1][1] = self.updated_list[-1][1] - 1\n",
    "        return row"
   ]
  },
  {
   "cell_type": "code",
   "execution_count": 259,
   "id": "d1cc21d1",
   "metadata": {},
   "outputs": [],
   "source": [
    "class SGDUpdater:\n",
    "    \n",
    "    def __init__(self, user_features, movie_features, learning_rate, u_reg, m_reg, update_movies = True):\n",
    "        self.user_dict = get_feature_dict(user_features)\n",
    "        self.movie_dict = get_feature_dict(movie_features) \n",
    "        self.l = learning_rate\n",
    "        self.u_reg = u_reg\n",
    "        self.m_reg = m_reg\n",
    "        self.update_movies = update_movies\n",
    "        self.name = \"sgd\"\n",
    "    \n",
    "    def predict(self, row):\n",
    "        movie_id = row.movie_id\n",
    "        user_id = row.user_id\n",
    "         \n",
    "        if user_id not in self.user_dict:\n",
    "            self.user_dict[user_id] = np.copy(initial_features)\n",
    "        \n",
    "        return self.user_dict[user_id].dot(self.movie_dict[movie_id].T)\n",
    "    \n",
    "    def update(self, rows):\n",
    "        for row in rows:\n",
    "            movie_id = row.movie_id\n",
    "            user_id = row.user_id\n",
    "            rating = row.rating\n",
    "\n",
    "            prediction = self.predict(row)\n",
    "            error = rating - prediction\n",
    "\n",
    "            self.user_dict[user_id] = self.user_dict[user_id] + self.l * (error * self.movie_dict[movie_id] - self.u_reg  * self.user_dict[user_id])\n",
    "            if self.update_movies:\n",
    "                self.movie_dict[movie_id] = self.movie_dict[movie_id] + self.l * (error * self.user_dict[user_id] - self.m_reg * self.movie_dict[movie_id])"
   ]
  },
  {
   "cell_type": "code",
   "execution_count": 250,
   "id": "39b713c0",
   "metadata": {},
   "outputs": [],
   "source": [
    "def get_feature_matrix(num_rows, features):\n",
    "    matrix = np.zeros((num_rows, num_features))\n",
    "    feature_dict = dict()\n",
    "    for row in features.itertuples():\n",
    "        feature_dict[int(row.id)] = np.array(row.features)\n",
    "    for i in range(num_rows):\n",
    "        if i in feature_dict:\n",
    "            matrix[i] = feature_dict[i]\n",
    "        else:\n",
    "            matrix[i] = np.copy(initial_features)\n",
    "    return matrix"
   ]
  },
  {
   "cell_type": "code",
   "execution_count": 287,
   "id": "477a4d6c",
   "metadata": {},
   "outputs": [],
   "source": [
    "class ALSUpdater:\n",
    "    \n",
    "    def __init__(self, user_features, movie_features, rating_matrix, confidence_matrix, max_user, max_movie, u_reg, m_reg):\n",
    "        self.user_matrix = get_feature_matrix(max_user, user_features)\n",
    "        self.movie_matrix = get_feature_matrix(max_movie, movie_features)\n",
    "        self.rating_matrix = rating_matrix\n",
    "        self.confidence_matrix = confidence_matrix\n",
    "        self.u_reg = u_reg\n",
    "        self.m_reg = m_reg\n",
    "        self.name = \"als\"\n",
    "        \n",
    "    def predict(self, row):\n",
    "        movie_id = row.movie_id\n",
    "        user_id = row.user_id\n",
    "        prediction = np.dot(self.movie_matrix[movie_id], self.user_matrix[user_id])\n",
    "        return prediction\n",
    "    \n",
    "    def update(self, rows):\n",
    "        for row in rows:\n",
    "            movie_id = row.movie_id\n",
    "            user_id = row.user_id\n",
    "            rating = row.rating\n",
    "            self.confidence_matrix[user_id][movie_id] = 1\n",
    "            self.rating_matrix[user_id][movie_id] = rating\n",
    "            user_confidence_row = self.confidence_matrix[user_id]\n",
    "            left = np.dot(self.movie_matrix.T, np.dot(np.diag(user_confidence_row), self.movie_matrix)) + self.u_reg * np.eye(num_features)\n",
    "            right = np.dot(self.movie_matrix.T, np.dot(np.diag(user_confidence_row), self.rating_matrix[user_id].T))\n",
    "            print(self.movie_matrix.T.shape, np.dot(np.diag(user_confidence_row), self.rating_matrix[user_id].T).shape, left.shape, right.shape)\n",
    "            self.user_matrix[user_id] = np.linalg.solve(\n",
    "                    left,\n",
    "                    right\n",
    "                ).T       \n",
    "        "
   ]
  },
  {
   "cell_type": "code",
   "execution_count": 79,
   "id": "e59b4a6b",
   "metadata": {},
   "outputs": [
    {
     "name": "stdout",
     "output_type": "stream",
     "text": [
      "\u001b[2m\u001b[36m(apply_func pid=58240)\u001b[0m \n"
     ]
    },
    {
     "name": "stderr",
     "output_type": "stream",
     "text": [
      "\u001b[2m\u001b[36m(apply_list_of_funcs pid=58234)\u001b[0m \n",
      "\u001b[2m\u001b[36m(apply_list_of_funcs pid=61884)\u001b[0m \n",
      "\u001b[2m\u001b[36m(apply_list_of_funcs pid=61881)\u001b[0m \n"
     ]
    },
    {
     "name": "stdout",
     "output_type": "stream",
     "text": [
      "\u001b[2m\u001b[36m(apply_list_of_funcs pid=61880)\u001b[0m \n"
     ]
    },
    {
     "name": "stderr",
     "output_type": "stream",
     "text": [
      "\u001b[2m\u001b[36m(apply_list_of_funcs pid=61880)\u001b[0m \n",
      "\u001b[2m\u001b[36m(apply_func pid=58234)\u001b[0m \n"
     ]
    },
    {
     "name": "stdout",
     "output_type": "stream",
     "text": [
      "\u001b[2m\u001b[36m(apply_list_of_funcs pid=61884)\u001b[0m \n",
      "\u001b[2m\u001b[36m(apply_list_of_funcs pid=61880)\u001b[0m \n",
      "\u001b[2m\u001b[36m(apply_list_of_funcs pid=58234)\u001b[0m \n"
     ]
    },
    {
     "name": "stderr",
     "output_type": "stream",
     "text": [
      "\u001b[2m\u001b[36m(apply_func pid=58240)\u001b[0m \n"
     ]
    },
    {
     "name": "stdout",
     "output_type": "stream",
     "text": [
      "\u001b[2m\u001b[36m(apply_func pid=58234)\u001b[0m \n",
      "\u001b[2m\u001b[36m(apply_func pid=58233)\u001b[0m \n",
      "\u001b[2m\u001b[36m(apply_list_of_funcs pid=61881)\u001b[0m \n",
      "\u001b[2m\u001b[36m(apply_list_of_funcs pid=58235)\u001b[0m \n",
      "\u001b[2m\u001b[36m(apply_list_of_funcs pid=58235)\u001b[0m \n"
     ]
    },
    {
     "name": "stderr",
     "output_type": "stream",
     "text": [
      "\u001b[2m\u001b[36m(apply_list_of_funcs pid=58235)\u001b[0m \n"
     ]
    },
    {
     "name": "stdout",
     "output_type": "stream",
     "text": [
      "\u001b[2m\u001b[36m(apply_func pid=61881)\u001b[0m \n",
      "\u001b[2m\u001b[36m(apply_func pid=58235)\u001b[0m \n",
      "\u001b[2m\u001b[36m(apply_func pid=58232)\u001b[0m \n",
      "\u001b[2m\u001b[36m(apply_func pid=58234)\u001b[0m \n",
      "\u001b[2m\u001b[36m(apply_func pid=58233)\u001b[0m \n"
     ]
    },
    {
     "name": "stderr",
     "output_type": "stream",
     "text": [
      "\u001b[2m\u001b[36m(apply_func pid=58240)\u001b[0m \n",
      "\u001b[2m\u001b[36m(apply_list_of_funcs pid=61882)\u001b[0m \n"
     ]
    },
    {
     "name": "stdout",
     "output_type": "stream",
     "text": [
      "\u001b[2m\u001b[36m(apply_list_of_funcs pid=58235)\u001b[0m \n",
      "\u001b[2m\u001b[36m(apply_func pid=58235)\u001b[0m \n",
      "\u001b[2m\u001b[36m(apply_list_of_funcs pid=58240)\u001b[0m \n",
      "\u001b[2m\u001b[36m(apply_list_of_funcs pid=61882)\u001b[0m \n"
     ]
    },
    {
     "name": "stderr",
     "output_type": "stream",
     "text": [
      "\u001b[2m\u001b[36m(apply_list_of_funcs pid=61880)\u001b[0m \n"
     ]
    },
    {
     "name": "stdout",
     "output_type": "stream",
     "text": [
      "\u001b[2m\u001b[36m(apply_list_of_funcs pid=61880)\u001b[0m \n"
     ]
    },
    {
     "name": "stderr",
     "output_type": "stream",
     "text": [
      "\u001b[2m\u001b[36m(apply_list_of_funcs pid=58232)\u001b[0m \n",
      "\u001b[2m\u001b[36m(apply_list_of_funcs pid=61884)\u001b[0m \n"
     ]
    },
    {
     "name": "stdout",
     "output_type": "stream",
     "text": [
      "\u001b[2m\u001b[36m(apply_list_of_funcs pid=61881)\u001b[0m \n",
      "\u001b[2m\u001b[36m(apply_func pid=61883)\u001b[0m \n"
     ]
    },
    {
     "name": "stderr",
     "output_type": "stream",
     "text": [
      "\u001b[2m\u001b[36m(apply_list_of_funcs pid=58232)\u001b[0m \n"
     ]
    },
    {
     "name": "stdout",
     "output_type": "stream",
     "text": [
      "\u001b[2m\u001b[36m(apply_func pid=58233)\u001b[0m \n",
      "\u001b[2m\u001b[36m(apply_list_of_funcs pid=61884)\u001b[0m \n"
     ]
    },
    {
     "name": "stderr",
     "output_type": "stream",
     "text": [
      "\u001b[2m\u001b[36m(apply_list_of_funcs pid=58233)\u001b[0m \n"
     ]
    },
    {
     "name": "stdout",
     "output_type": "stream",
     "text": [
      "\u001b[2m\u001b[36m(apply_list_of_funcs pid=58235)\u001b[0m \n",
      "\u001b[2m\u001b[36m(apply_func pid=58235)\u001b[0m \n",
      "\u001b[2m\u001b[36m(apply_func pid=58240)\u001b[0m \n",
      "\u001b[2m\u001b[36m(apply_list_of_funcs pid=61881)\u001b[0m \n"
     ]
    },
    {
     "name": "stderr",
     "output_type": "stream",
     "text": [
      "\u001b[2m\u001b[36m(apply_list_of_funcs pid=61883)\u001b[0m \n"
     ]
    },
    {
     "name": "stdout",
     "output_type": "stream",
     "text": [
      "\u001b[2m\u001b[36m(apply_list_of_funcs pid=61883)\u001b[0m \n",
      "\u001b[2m\u001b[36m(apply_func pid=58240)\u001b[0m \n",
      "\u001b[2m\u001b[36m(apply_func pid=61884)\u001b[0m \n",
      "\u001b[2m\u001b[36m(apply_func pid=61884)\u001b[0m \n",
      "\u001b[2m\u001b[36m(apply_list_of_funcs pid=61884)\u001b[0m \n",
      "\u001b[2m\u001b[36m(apply_list_of_funcs pid=58240)\u001b[0m \n",
      "\u001b[2m\u001b[36m(apply_list_of_funcs pid=58234)\u001b[0m \n",
      "\u001b[2m\u001b[36m(apply_list_of_funcs pid=58232)\u001b[0m \n",
      "\u001b[2m\u001b[36m(apply_list_of_funcs pid=61884)\u001b[0m \n",
      "\u001b[2m\u001b[36m(apply_list_of_funcs pid=58233)\u001b[0m \n"
     ]
    },
    {
     "name": "stderr",
     "output_type": "stream",
     "text": [
      "\u001b[2m\u001b[36m(apply_list_of_funcs pid=58233)\u001b[0m \n"
     ]
    },
    {
     "name": "stdout",
     "output_type": "stream",
     "text": [
      "\u001b[2m\u001b[36m(apply_func pid=61884)\u001b[0m \n",
      "\u001b[2m\u001b[36m(apply_list_of_funcs pid=58235)\u001b[0m \n"
     ]
    },
    {
     "name": "stderr",
     "output_type": "stream",
     "text": [
      "\u001b[2m\u001b[36m(apply_func pid=61881)\u001b[0m \n"
     ]
    },
    {
     "name": "stdout",
     "output_type": "stream",
     "text": [
      "\u001b[2m\u001b[36m(apply_list_of_funcs pid=58235)\u001b[0m \n",
      "\u001b[2m\u001b[36m(apply_func pid=58233)\u001b[0m \n",
      "\u001b[2m\u001b[36m(apply_list_of_funcs pid=58234)\u001b[0m \n",
      "\u001b[2m\u001b[36m(apply_list_of_funcs pid=58240)\u001b[0m \n",
      "\u001b[2m\u001b[36m(apply_func pid=58232)\u001b[0m \n"
     ]
    },
    {
     "name": "stderr",
     "output_type": "stream",
     "text": [
      "\u001b[2m\u001b[36m(apply_list_of_funcs pid=58240)\u001b[0m \n",
      "\u001b[2m\u001b[36m(apply_list_of_funcs pid=58240)\u001b[0m \n"
     ]
    },
    {
     "name": "stdout",
     "output_type": "stream",
     "text": [
      "\u001b[2m\u001b[36m(apply_func pid=61880)\u001b[0m \n",
      "\u001b[2m\u001b[36m(apply_func pid=61883)\u001b[0m \n",
      "\u001b[2m\u001b[36m(apply_func pid=61880)\u001b[0m \n",
      "\u001b[2m\u001b[36m(apply_func pid=61881)\u001b[0m \n",
      "\u001b[2m\u001b[36m(apply_func pid=58234)\u001b[0m \n",
      "\u001b[2m\u001b[36m(apply_list_of_funcs pid=58235)\u001b[0m \n",
      "\u001b[2m\u001b[36m(apply_list_of_funcs pid=58233)\u001b[0m \n",
      "\u001b[2m\u001b[36m(apply_list_of_funcs pid=61883)\u001b[0m \n"
     ]
    },
    {
     "name": "stderr",
     "output_type": "stream",
     "text": [
      "\u001b[2m\u001b[36m(apply_list_of_funcs pid=58232)\u001b[0m \n",
      "\u001b[2m\u001b[36m(apply_list_of_funcs pid=61881)\u001b[0m \n"
     ]
    },
    {
     "name": "stdout",
     "output_type": "stream",
     "text": [
      "\u001b[2m\u001b[36m(apply_list_of_funcs pid=58235)\u001b[0m \n",
      "\u001b[2m\u001b[36m(apply_func pid=61881)\u001b[0m \n"
     ]
    },
    {
     "name": "stderr",
     "output_type": "stream",
     "text": [
      "\u001b[2m\u001b[36m(apply_list_of_funcs pid=61881)\u001b[0m \n",
      "\u001b[2m\u001b[36m(apply_func pid=58234)\u001b[0m \n"
     ]
    },
    {
     "name": "stdout",
     "output_type": "stream",
     "text": [
      "\u001b[2m\u001b[36m(apply_func pid=61884)\u001b[0m \n"
     ]
    },
    {
     "name": "stderr",
     "output_type": "stream",
     "text": [
      "\u001b[2m\u001b[36m(apply_list_of_funcs pid=61882)\u001b[0m \n",
      "\u001b[2m\u001b[36m(apply_list_of_funcs pid=58233)\u001b[0m \n",
      "\u001b[2m\u001b[36m(apply_list_of_funcs pid=58234)\u001b[0m \n"
     ]
    },
    {
     "name": "stdout",
     "output_type": "stream",
     "text": [
      "\u001b[2m\u001b[36m(apply_func pid=58234)\u001b[0m \n",
      "\u001b[2m\u001b[36m(apply_func pid=58235)\u001b[0m \n",
      "\u001b[2m\u001b[36m(apply_list_of_funcs pid=61882)\u001b[0m \n"
     ]
    },
    {
     "name": "stderr",
     "output_type": "stream",
     "text": [
      "\u001b[2m\u001b[36m(apply_list_of_funcs pid=61882)\u001b[0m \n"
     ]
    },
    {
     "name": "stdout",
     "output_type": "stream",
     "text": [
      "\u001b[2m\u001b[36m(apply_list_of_funcs pid=58234)\u001b[0m \n"
     ]
    },
    {
     "name": "stderr",
     "output_type": "stream",
     "text": [
      "\u001b[2m\u001b[36m(apply_func pid=58240)\u001b[0m \n"
     ]
    },
    {
     "name": "stdout",
     "output_type": "stream",
     "text": [
      "\u001b[2m\u001b[36m(apply_func pid=61880)\u001b[0m \n"
     ]
    },
    {
     "name": "stderr",
     "output_type": "stream",
     "text": [
      "\u001b[2m\u001b[36m(apply_list_of_funcs pid=61880)\u001b[0m \n"
     ]
    },
    {
     "name": "stdout",
     "output_type": "stream",
     "text": [
      "\u001b[2m\u001b[36m(apply_func pid=58232)\u001b[0m \n",
      "\u001b[2m\u001b[36m(apply_func pid=61881)\u001b[0m \n"
     ]
    },
    {
     "name": "stderr",
     "output_type": "stream",
     "text": [
      "\u001b[2m\u001b[36m(apply_func pid=61882)\u001b[0m \n"
     ]
    },
    {
     "name": "stdout",
     "output_type": "stream",
     "text": [
      "\u001b[2m\u001b[36m(apply_func pid=61882)\u001b[0m \n",
      "\u001b[2m\u001b[36m(apply_func pid=61884)\u001b[0m \n",
      "\u001b[2m\u001b[36m(apply_list_of_funcs pid=61883)\u001b[0m \n",
      "\u001b[2m\u001b[36m(apply_func pid=58233)\u001b[0m \n",
      "\u001b[2m\u001b[36m(apply_func pid=58234)\u001b[0m \n",
      "\u001b[2m\u001b[36m(apply_func pid=61882)\u001b[0m \n",
      "\u001b[2m\u001b[36m(apply_list_of_funcs pid=61881)\u001b[0m \n",
      "\u001b[2m\u001b[36m(apply_func pid=58235)\u001b[0m \n",
      "\u001b[2m\u001b[36m(apply_func pid=61883)\u001b[0m \n"
     ]
    },
    {
     "name": "stderr",
     "output_type": "stream",
     "text": [
      "\u001b[2m\u001b[36m(apply_func pid=58232)\u001b[0m \n"
     ]
    },
    {
     "name": "stdout",
     "output_type": "stream",
     "text": [
      "\u001b[2m\u001b[36m(apply_func pid=58232)\u001b[0m \n",
      "\u001b[2m\u001b[36m(apply_func pid=61880)\u001b[0m \n",
      "\u001b[2m\u001b[36m(apply_list_of_funcs pid=58233)\u001b[0m \n"
     ]
    },
    {
     "name": "stderr",
     "output_type": "stream",
     "text": [
      "\u001b[2m\u001b[36m(apply_func pid=61883)\u001b[0m \n"
     ]
    },
    {
     "name": "stdout",
     "output_type": "stream",
     "text": [
      "\u001b[2m\u001b[36m(apply_func pid=61881)\u001b[0m \n",
      "\u001b[2m\u001b[36m(apply_list_of_funcs pid=58240)\u001b[0m \n"
     ]
    },
    {
     "name": "stderr",
     "output_type": "stream",
     "text": [
      "\u001b[2m\u001b[36m(apply_list_of_funcs pid=61880)\u001b[0m \n"
     ]
    },
    {
     "name": "stdout",
     "output_type": "stream",
     "text": [
      "\u001b[2m\u001b[36m(apply_func pid=58235)\u001b[0m \n",
      "\u001b[2m\u001b[36m(apply_func pid=58233)\u001b[0m \n",
      "\u001b[2m\u001b[36m(apply_list_of_funcs pid=58240)\u001b[0m \n",
      "\u001b[2m\u001b[36m(apply_list_of_funcs pid=61882)\u001b[0m \n"
     ]
    },
    {
     "name": "stderr",
     "output_type": "stream",
     "text": [
      "\u001b[2m\u001b[36m(apply_list_of_funcs pid=58235)\u001b[0m \n",
      "\u001b[2m\u001b[36m(apply_list_of_funcs pid=61882)\u001b[0m \n"
     ]
    },
    {
     "name": "stdout",
     "output_type": "stream",
     "text": [
      "\u001b[2m\u001b[36m(apply_list_of_funcs pid=58240)\u001b[0m \n"
     ]
    },
    {
     "name": "stderr",
     "output_type": "stream",
     "text": [
      "\u001b[2m\u001b[36m(apply_func pid=58234)\u001b[0m \n"
     ]
    },
    {
     "name": "stdout",
     "output_type": "stream",
     "text": [
      "\u001b[2m\u001b[36m(apply_list_of_funcs pid=61880)\u001b[0m \n",
      "\u001b[2m\u001b[36m(apply_list_of_funcs pid=58232)\u001b[0m \n"
     ]
    },
    {
     "name": "stderr",
     "output_type": "stream",
     "text": [
      "\u001b[2m\u001b[36m(apply_list_of_funcs pid=58240)\u001b[0m \n"
     ]
    },
    {
     "name": "stdout",
     "output_type": "stream",
     "text": [
      "\u001b[2m\u001b[36m(apply_func pid=58240)\u001b[0m \n"
     ]
    },
    {
     "name": "stderr",
     "output_type": "stream",
     "text": [
      "\u001b[2m\u001b[36m(apply_list_of_funcs pid=61883)\u001b[0m \n"
     ]
    },
    {
     "name": "stdout",
     "output_type": "stream",
     "text": [
      "\u001b[2m\u001b[36m(apply_list_of_funcs pid=58235)\u001b[0m \n",
      "\u001b[2m\u001b[36m(apply_func pid=58240)\u001b[0m \n",
      "\u001b[2m\u001b[36m(apply_list_of_funcs pid=61880)\u001b[0m \n",
      "\u001b[2m\u001b[36m(apply_func pid=61882)\u001b[0m \n",
      "\u001b[2m\u001b[36m(apply_func pid=61881)\u001b[0m \n",
      "\u001b[2m\u001b[36m(apply_func pid=61884)\u001b[0m \n",
      "\u001b[2m\u001b[36m(apply_func pid=61881)\u001b[0m \n",
      "\u001b[2m\u001b[36m(apply_func pid=61881)\u001b[0m \n",
      "\u001b[2m\u001b[36m(apply_func pid=61881)\u001b[0m \n",
      "\u001b[2m\u001b[36m(apply_func pid=58235)\u001b[0m \n",
      "\u001b[2m\u001b[36m(apply_list_of_funcs pid=58240)\u001b[0m \n"
     ]
    },
    {
     "name": "stderr",
     "output_type": "stream",
     "text": [
      "\u001b[2m\u001b[36m(apply_list_of_funcs pid=58232)\u001b[0m \n",
      "\u001b[2m\u001b[36m(apply_list_of_funcs pid=61881)\u001b[0m \n"
     ]
    },
    {
     "name": "stdout",
     "output_type": "stream",
     "text": [
      "\u001b[2m\u001b[36m(apply_list_of_funcs pid=61881)\u001b[0m \n",
      "\u001b[2m\u001b[36m(apply_list_of_funcs pid=58235)\u001b[0m \n",
      "\u001b[2m\u001b[36m(apply_func pid=58232)\u001b[0m \n",
      "\u001b[2m\u001b[36m(apply_list_of_funcs pid=58240)\u001b[0m \n",
      "\u001b[2m\u001b[36m(apply_list_of_funcs pid=61881)\u001b[0m \n",
      "\u001b[2m\u001b[36m(apply_func pid=58232)\u001b[0m \n"
     ]
    },
    {
     "name": "stderr",
     "output_type": "stream",
     "text": [
      "\u001b[2m\u001b[36m(apply_list_of_funcs pid=61883)\u001b[0m \n"
     ]
    },
    {
     "name": "stdout",
     "output_type": "stream",
     "text": [
      "\u001b[2m\u001b[36m(apply_list_of_funcs pid=58233)\u001b[0m \n"
     ]
    },
    {
     "name": "stderr",
     "output_type": "stream",
     "text": [
      "\u001b[2m\u001b[36m(apply_list_of_funcs pid=58235)\u001b[0m \n"
     ]
    },
    {
     "name": "stdout",
     "output_type": "stream",
     "text": [
      "\u001b[2m\u001b[36m(apply_list_of_funcs pid=61881)\u001b[0m \n",
      "\u001b[2m\u001b[36m(apply_func pid=61884)\u001b[0m \n"
     ]
    },
    {
     "name": "stderr",
     "output_type": "stream",
     "text": [
      "\u001b[2m\u001b[36m(apply_list_of_funcs pid=61884)\u001b[0m \n"
     ]
    },
    {
     "name": "stdout",
     "output_type": "stream",
     "text": [
      "\u001b[2m\u001b[36m(apply_func pid=61882)\u001b[0m \n",
      "\u001b[2m\u001b[36m(apply_list_of_funcs pid=61880)\u001b[0m \n"
     ]
    },
    {
     "name": "stderr",
     "output_type": "stream",
     "text": [
      "\u001b[2m\u001b[36m(apply_list_of_funcs pid=58235)\u001b[0m \n"
     ]
    },
    {
     "name": "stdout",
     "output_type": "stream",
     "text": [
      "\u001b[2m\u001b[36m(apply_list_of_funcs pid=61883)\u001b[0m \n"
     ]
    },
    {
     "name": "stderr",
     "output_type": "stream",
     "text": [
      "\u001b[2m\u001b[36m(apply_list_of_funcs pid=61882)\u001b[0m \n"
     ]
    },
    {
     "name": "stdout",
     "output_type": "stream",
     "text": [
      "\u001b[2m\u001b[36m(apply_func pid=58240)\u001b[0m \n",
      "\u001b[2m\u001b[36m(apply_func pid=58240)\u001b[0m \n",
      "\u001b[2m\u001b[36m(apply_func pid=58232)\u001b[0m \n",
      "\u001b[2m\u001b[36m(apply_func pid=61883)\u001b[0m \n"
     ]
    },
    {
     "name": "stderr",
     "output_type": "stream",
     "text": [
      "\u001b[2m\u001b[36m(apply_list_of_funcs pid=58234)\u001b[0m \n",
      "\u001b[2m\u001b[36m(apply_func pid=61881)\u001b[0m \n",
      "\u001b[2m\u001b[36m(apply_func pid=61881)\u001b[0m \n"
     ]
    },
    {
     "name": "stdout",
     "output_type": "stream",
     "text": [
      "\u001b[2m\u001b[36m(apply_func pid=61881)\u001b[0m \n",
      "\u001b[2m\u001b[36m(apply_func pid=58234)\u001b[0m \n",
      "\u001b[2m\u001b[36m(apply_func pid=61883)\u001b[0m \n",
      "\u001b[2m\u001b[36m(apply_list_of_funcs pid=58233)\u001b[0m \n"
     ]
    },
    {
     "name": "stderr",
     "output_type": "stream",
     "text": [
      "\u001b[2m\u001b[36m(apply_func pid=58232)\u001b[0m \n"
     ]
    },
    {
     "name": "stdout",
     "output_type": "stream",
     "text": [
      "\u001b[2m\u001b[36m(apply_func pid=58235)\u001b[0m \n"
     ]
    },
    {
     "name": "stderr",
     "output_type": "stream",
     "text": [
      "\u001b[2m\u001b[36m(apply_list_of_funcs pid=58232)\u001b[0m \n"
     ]
    },
    {
     "name": "stdout",
     "output_type": "stream",
     "text": [
      "\u001b[2m\u001b[36m(apply_func pid=61882)\u001b[0m \n",
      "\u001b[2m\u001b[36m(apply_list_of_funcs pid=61883)\u001b[0m \n"
     ]
    },
    {
     "name": "stderr",
     "output_type": "stream",
     "text": [
      "\u001b[2m\u001b[36m(apply_func pid=61882)\u001b[0m \n"
     ]
    },
    {
     "name": "stdout",
     "output_type": "stream",
     "text": [
      "\u001b[2m\u001b[36m(apply_func pid=61882)\u001b[0m \n",
      "\u001b[2m\u001b[36m(apply_list_of_funcs pid=58233)\u001b[0m \n",
      "\u001b[2m\u001b[36m(apply_func pid=61883)\u001b[0m \n",
      "\u001b[2m\u001b[36m(apply_func pid=61880)\u001b[0m \n",
      "\u001b[2m\u001b[36m(apply_func pid=61881)\u001b[0m \n",
      "\u001b[2m\u001b[36m(apply_list_of_funcs pid=58240)\u001b[0m \n",
      "\u001b[2m\u001b[36m(apply_list_of_funcs pid=58234)\u001b[0m \n",
      "\u001b[2m\u001b[36m(apply_func pid=58233)\u001b[0m \n"
     ]
    },
    {
     "name": "stderr",
     "output_type": "stream",
     "text": [
      "\u001b[2m\u001b[36m(apply_list_of_funcs pid=58232)\u001b[0m \n"
     ]
    },
    {
     "name": "stdout",
     "output_type": "stream",
     "text": [
      "\u001b[2m\u001b[36m(apply_list_of_funcs pid=61882)\u001b[0m \n",
      "\u001b[2m\u001b[36m(apply_func pid=58235)\u001b[0m \n",
      "\u001b[2m\u001b[36m(apply_func pid=58232)\u001b[0m \n",
      "\u001b[2m\u001b[36m(apply_list_of_funcs pid=61884)\u001b[0m \n",
      "\u001b[2m\u001b[36m(apply_list_of_funcs pid=61884)\u001b[0m \n",
      "\u001b[2m\u001b[36m(apply_list_of_funcs pid=58235)\u001b[0m \n",
      "\u001b[2m\u001b[36m(apply_func pid=58232)\u001b[0m \n",
      "\u001b[2m\u001b[36m(apply_func pid=61882)\u001b[0m \n",
      "\u001b[2m\u001b[36m(apply_list_of_funcs pid=61880)\u001b[0m \n",
      "\u001b[2m\u001b[36m(apply_list_of_funcs pid=61884)\u001b[0m \n",
      "\u001b[2m\u001b[36m(apply_func pid=61880)\u001b[0m \n",
      "\u001b[2m\u001b[36m(apply_list_of_funcs pid=61880)\u001b[0m \n",
      "\u001b[2m\u001b[36m(apply_func pid=61884)\u001b[0m \n"
     ]
    },
    {
     "name": "stderr",
     "output_type": "stream",
     "text": [
      "\u001b[2m\u001b[36m(apply_list_of_funcs pid=58234)\u001b[0m \n",
      "\u001b[2m\u001b[36m(apply_list_of_funcs pid=58234)\u001b[0m \n",
      "\u001b[2m\u001b[36m(apply_func pid=58232)\u001b[0m \n"
     ]
    },
    {
     "name": "stdout",
     "output_type": "stream",
     "text": [
      "\u001b[2m\u001b[36m(apply_func pid=61883)\u001b[0m \n"
     ]
    },
    {
     "name": "stderr",
     "output_type": "stream",
     "text": [
      "22/03/18 16:39:44 WARN TransportChannelHandler: Exception in connection from amits-mbp.lan/192.168.86.27:54411\n",
      "java.io.IOException: Operation timed out\n",
      "\tat java.base/sun.nio.ch.FileDispatcherImpl.read0(Native Method)\n",
      "\tat java.base/sun.nio.ch.SocketDispatcher.read(SocketDispatcher.java:39)\n",
      "\tat java.base/sun.nio.ch.IOUtil.readIntoNativeBuffer(IOUtil.java:276)\n",
      "\tat java.base/sun.nio.ch.IOUtil.read(IOUtil.java:233)\n",
      "\tat java.base/sun.nio.ch.IOUtil.read(IOUtil.java:223)\n",
      "\tat java.base/sun.nio.ch.SocketChannelImpl.read(SocketChannelImpl.java:356)\n",
      "\tat io.netty.buffer.PooledByteBuf.setBytes(PooledByteBuf.java:253)\n",
      "\tat io.netty.buffer.AbstractByteBuf.writeBytes(AbstractByteBuf.java:1132)\n",
      "\tat io.netty.channel.socket.nio.NioSocketChannel.doReadBytes(NioSocketChannel.java:350)\n",
      "\tat io.netty.channel.nio.AbstractNioByteChannel$NioByteUnsafe.read(AbstractNioByteChannel.java:151)\n",
      "\tat io.netty.channel.nio.NioEventLoop.processSelectedKey(NioEventLoop.java:719)\n",
      "\tat io.netty.channel.nio.NioEventLoop.processSelectedKeysOptimized(NioEventLoop.java:655)\n",
      "\tat io.netty.channel.nio.NioEventLoop.processSelectedKeys(NioEventLoop.java:581)\n",
      "\tat io.netty.channel.nio.NioEventLoop.run(NioEventLoop.java:493)\n",
      "\tat io.netty.util.concurrent.SingleThreadEventExecutor$4.run(SingleThreadEventExecutor.java:986)\n",
      "\tat io.netty.util.internal.ThreadExecutorMap$2.run(ThreadExecutorMap.java:74)\n",
      "\tat io.netty.util.concurrent.FastThreadLocalRunnable.run(FastThreadLocalRunnable.java:30)\n",
      "\tat java.base/java.lang.Thread.run(Thread.java:829)\n"
     ]
    },
    {
     "name": "stdout",
     "output_type": "stream",
     "text": [
      "\u001b[2m\u001b[36m(apply_list_of_funcs pid=61881)\u001b[0m \n",
      "\u001b[2m\u001b[36m(apply_list_of_funcs pid=61881)\u001b[0m \n"
     ]
    },
    {
     "name": "stderr",
     "output_type": "stream",
     "text": [
      "\u001b[2m\u001b[36m(apply_list_of_funcs pid=61880)\u001b[0m \n"
     ]
    },
    {
     "name": "stdout",
     "output_type": "stream",
     "text": [
      "\u001b[2m\u001b[36m(apply_func pid=58235)\u001b[0m \n",
      "\u001b[2m\u001b[36m(apply_func pid=58234)\u001b[0m \n"
     ]
    },
    {
     "name": "stderr",
     "output_type": "stream",
     "text": [
      "\u001b[2m\u001b[36m(apply_list_of_funcs pid=61882)\u001b[0m \n"
     ]
    },
    {
     "name": "stdout",
     "output_type": "stream",
     "text": [
      "\u001b[2m\u001b[36m(apply_list_of_funcs pid=58235)\u001b[0m \n",
      "\u001b[2m\u001b[36m(apply_list_of_funcs pid=61883)\u001b[0m \n",
      "\u001b[2m\u001b[36m(apply_func pid=58233)\u001b[0m \n",
      "\u001b[2m\u001b[36m(apply_func pid=58234)\u001b[0m \n"
     ]
    },
    {
     "name": "stderr",
     "output_type": "stream",
     "text": [
      "\u001b[2m\u001b[36m(apply_list_of_funcs pid=61884)\u001b[0m \n"
     ]
    },
    {
     "name": "stdout",
     "output_type": "stream",
     "text": [
      "\u001b[2m\u001b[36m(apply_list_of_funcs pid=61880)\u001b[0m \n",
      "\u001b[2m\u001b[36m(apply_list_of_funcs pid=61884)\u001b[0m \n",
      "\u001b[2m\u001b[36m(apply_list_of_funcs pid=58234)\u001b[0m \n",
      "\u001b[2m\u001b[36m(apply_func pid=58240)\u001b[0m \n"
     ]
    },
    {
     "name": "stderr",
     "output_type": "stream",
     "text": [
      "\u001b[2m\u001b[36m(apply_list_of_funcs pid=61882)\u001b[0m \n"
     ]
    },
    {
     "name": "stdout",
     "output_type": "stream",
     "text": [
      "\u001b[2m\u001b[36m(apply_func pid=61883)\u001b[0m \n",
      "\u001b[2m\u001b[36m(apply_list_of_funcs pid=58233)\u001b[0m \n",
      "\u001b[2m\u001b[36m(apply_list_of_funcs pid=61883)\u001b[0m \n",
      "\u001b[2m\u001b[36m(apply_list_of_funcs pid=58240)\u001b[0m \n"
     ]
    },
    {
     "name": "stderr",
     "output_type": "stream",
     "text": [
      "\u001b[2m\u001b[36m(apply_list_of_funcs pid=61880)\u001b[0m \n"
     ]
    },
    {
     "name": "stdout",
     "output_type": "stream",
     "text": [
      "\u001b[2m\u001b[36m(apply_func pid=58233)\u001b[0m \n",
      "\u001b[2m\u001b[36m(apply_func pid=61883)\u001b[0m \n",
      "\u001b[2m\u001b[36m(apply_list_of_funcs pid=61881)\u001b[0m \n"
     ]
    },
    {
     "name": "stderr",
     "output_type": "stream",
     "text": [
      "\u001b[2m\u001b[36m(apply_func pid=58235)\u001b[0m \n",
      "\u001b[2m\u001b[36m(apply_list_of_funcs pid=58233)\u001b[0m \n"
     ]
    },
    {
     "name": "stdout",
     "output_type": "stream",
     "text": [
      "\u001b[2m\u001b[36m(apply_list_of_funcs pid=58233)\u001b[0m \n",
      "\u001b[2m\u001b[36m(apply_func pid=61882)\u001b[0m \n",
      "\u001b[2m\u001b[36m(apply_func pid=61884)\u001b[0m \n",
      "\u001b[2m\u001b[36m(apply_func pid=58233)\u001b[0m \n",
      "\u001b[2m\u001b[36m(apply_list_of_funcs pid=61881)\u001b[0m \n",
      "\u001b[2m\u001b[36m(apply_list_of_funcs pid=61880)\u001b[0m \n",
      "\u001b[2m\u001b[36m(apply_func pid=58232)\u001b[0m \n",
      "\u001b[2m\u001b[36m(apply_func pid=58235)\u001b[0m \n",
      "\u001b[2m\u001b[36m(apply_func pid=61884)\u001b[0m \n"
     ]
    },
    {
     "name": "stderr",
     "output_type": "stream",
     "text": [
      "\u001b[2m\u001b[36m(apply_list_of_funcs pid=58240)\u001b[0m \n",
      "\u001b[2m\u001b[36m(apply_list_of_funcs pid=61883)\u001b[0m \n"
     ]
    },
    {
     "name": "stdout",
     "output_type": "stream",
     "text": [
      "\u001b[2m\u001b[36m(apply_list_of_funcs pid=61883)\u001b[0m \n",
      "\u001b[2m\u001b[36m(apply_list_of_funcs pid=61883)\u001b[0m \n",
      "\u001b[2m\u001b[36m(apply_func pid=58232)\u001b[0m \n",
      "\u001b[2m\u001b[36m(apply_func pid=58232)\u001b[0m \n",
      "\u001b[2m\u001b[36m(apply_func pid=61882)\u001b[0m \n",
      "\u001b[2m\u001b[36m(apply_func pid=58235)\u001b[0m \n"
     ]
    },
    {
     "name": "stderr",
     "output_type": "stream",
     "text": [
      "\u001b[2m\u001b[36m(apply_list_of_funcs pid=61882)\u001b[0m \n"
     ]
    },
    {
     "name": "stdout",
     "output_type": "stream",
     "text": [
      "\u001b[2m\u001b[36m(apply_func pid=61881)\u001b[0m \n",
      "\u001b[2m\u001b[36m(apply_func pid=61883)\u001b[0m \n",
      "\u001b[2m\u001b[36m(apply_list_of_funcs pid=58234)\u001b[0m \n",
      "\u001b[2m\u001b[36m(apply_func pid=61883)\u001b[0m \n",
      "\u001b[2m\u001b[36m(apply_func pid=58235)\u001b[0m \n"
     ]
    },
    {
     "name": "stderr",
     "output_type": "stream",
     "text": [
      "\u001b[2m\u001b[36m(apply_func pid=61884)\u001b[0m \n",
      "\u001b[2m\u001b[36m(apply_func pid=58235)\u001b[0m \n"
     ]
    },
    {
     "name": "stdout",
     "output_type": "stream",
     "text": [
      "\u001b[2m\u001b[36m(apply_list_of_funcs pid=61882)\u001b[0m \n"
     ]
    },
    {
     "name": "stderr",
     "output_type": "stream",
     "text": [
      "\u001b[2m\u001b[36m(apply_list_of_funcs pid=61883)\u001b[0m \n"
     ]
    },
    {
     "name": "stdout",
     "output_type": "stream",
     "text": [
      "\u001b[2m\u001b[36m(apply_func pid=58240)\u001b[0m \n",
      "\u001b[2m\u001b[36m(apply_func pid=58233)\u001b[0m \n",
      "\u001b[2m\u001b[36m(apply_list_of_funcs pid=61880)\u001b[0m \n",
      "\u001b[2m\u001b[36m(apply_list_of_funcs pid=58233)\u001b[0m \n"
     ]
    },
    {
     "name": "stderr",
     "output_type": "stream",
     "text": [
      "\u001b[2m\u001b[36m(apply_list_of_funcs pid=58240)\u001b[0m \n"
     ]
    },
    {
     "name": "stdout",
     "output_type": "stream",
     "text": [
      "\u001b[2m\u001b[36m(apply_list_of_funcs pid=58232)\u001b[0m \n",
      "\u001b[2m\u001b[36m(apply_func pid=58240)\u001b[0m \n",
      "\u001b[2m\u001b[36m(apply_func pid=61882)\u001b[0m \n",
      "\u001b[2m\u001b[36m(apply_list_of_funcs pid=61882)\u001b[0m \n"
     ]
    },
    {
     "name": "stderr",
     "output_type": "stream",
     "text": [
      "\u001b[2m\u001b[36m(apply_list_of_funcs pid=58232)\u001b[0m \n",
      "\u001b[2m\u001b[36m(apply_list_of_funcs pid=61881)\u001b[0m \n"
     ]
    },
    {
     "name": "stdout",
     "output_type": "stream",
     "text": [
      "\u001b[2m\u001b[36m(apply_func pid=61881)\u001b[0m \n"
     ]
    },
    {
     "name": "stderr",
     "output_type": "stream",
     "text": [
      "\u001b[2m\u001b[36m(apply_list_of_funcs pid=58233)\u001b[0m \n",
      "\u001b[2m\u001b[36m(apply_list_of_funcs pid=61880)\u001b[0m \n",
      "\u001b[2m\u001b[36m(apply_list_of_funcs pid=58234)\u001b[0m \n",
      "\u001b[2m\u001b[36m(apply_list_of_funcs pid=58233)\u001b[0m \n"
     ]
    },
    {
     "name": "stdout",
     "output_type": "stream",
     "text": [
      "\u001b[2m\u001b[36m(apply_func pid=58235)\u001b[0m \n"
     ]
    },
    {
     "name": "stderr",
     "output_type": "stream",
     "text": [
      "\u001b[2m\u001b[36m(apply_list_of_funcs pid=58233)\u001b[0m \n"
     ]
    },
    {
     "name": "stdout",
     "output_type": "stream",
     "text": [
      "\u001b[2m\u001b[36m(apply_list_of_funcs pid=61880)\u001b[0m \n",
      "\u001b[2m\u001b[36m(apply_list_of_funcs pid=58240)\u001b[0m \n",
      "\u001b[2m\u001b[36m(apply_func pid=61882)\u001b[0m \n",
      "\u001b[2m\u001b[36m(apply_list_of_funcs pid=61882)\u001b[0m \n",
      "\u001b[2m\u001b[36m(apply_func pid=61880)\u001b[0m \n",
      "\u001b[2m\u001b[36m(apply_list_of_funcs pid=58234)\u001b[0m \n",
      "\u001b[2m\u001b[36m(apply_func pid=58240)\u001b[0m \n"
     ]
    },
    {
     "name": "stderr",
     "output_type": "stream",
     "text": [
      "\u001b[2m\u001b[36m(apply_func pid=58240)\u001b[0m \n"
     ]
    },
    {
     "name": "stdout",
     "output_type": "stream",
     "text": [
      "\u001b[2m\u001b[36m(apply_list_of_funcs pid=61882)\u001b[0m \n",
      "\u001b[2m\u001b[36m(apply_list_of_funcs pid=61880)\u001b[0m \n",
      "\u001b[2m\u001b[36m(apply_list_of_funcs pid=61884)\u001b[0m \n",
      "\u001b[2m\u001b[36m(apply_list_of_funcs pid=61881)\u001b[0m \n"
     ]
    },
    {
     "name": "stderr",
     "output_type": "stream",
     "text": [
      "\u001b[2m\u001b[36m(apply_list_of_funcs pid=58240)\u001b[0m \n"
     ]
    },
    {
     "name": "stdout",
     "output_type": "stream",
     "text": [
      "\u001b[2m\u001b[36m(apply_list_of_funcs pid=58234)\u001b[0m \n",
      "\u001b[2m\u001b[36m(apply_list_of_funcs pid=61882)\u001b[0m \n",
      "\u001b[2m\u001b[36m(apply_list_of_funcs pid=58235)\u001b[0m \n",
      "\u001b[2m\u001b[36m(apply_func pid=58240)\u001b[0m \n",
      "\u001b[2m\u001b[36m(apply_func pid=58240)\u001b[0m \n",
      "\u001b[2m\u001b[36m(apply_func pid=58235)\u001b[0m \n",
      "\u001b[2m\u001b[36m(apply_list_of_funcs pid=58233)\u001b[0m \n",
      "\u001b[2m\u001b[36m(apply_list_of_funcs pid=58235)\u001b[0m \n"
     ]
    },
    {
     "name": "stderr",
     "output_type": "stream",
     "text": [
      "\u001b[2m\u001b[36m(apply_func pid=58240)\u001b[0m \n"
     ]
    },
    {
     "name": "stdout",
     "output_type": "stream",
     "text": [
      "\u001b[2m\u001b[36m(apply_list_of_funcs pid=58232)\u001b[0m \n"
     ]
    },
    {
     "name": "stderr",
     "output_type": "stream",
     "text": [
      "\u001b[2m\u001b[36m(apply_func pid=61884)\u001b[0m \n"
     ]
    },
    {
     "name": "stdout",
     "output_type": "stream",
     "text": [
      "\u001b[2m\u001b[36m(apply_func pid=58233)\u001b[0m \n"
     ]
    },
    {
     "name": "stderr",
     "output_type": "stream",
     "text": [
      "\u001b[2m\u001b[36m(apply_list_of_funcs pid=61881)\u001b[0m \n"
     ]
    },
    {
     "name": "stdout",
     "output_type": "stream",
     "text": [
      "\u001b[2m\u001b[36m(apply_list_of_funcs pid=58232)\u001b[0m \n"
     ]
    },
    {
     "name": "stderr",
     "output_type": "stream",
     "text": [
      "\u001b[2m\u001b[36m(apply_list_of_funcs pid=61880)\u001b[0m \n"
     ]
    },
    {
     "name": "stdout",
     "output_type": "stream",
     "text": [
      "\u001b[2m\u001b[36m(apply_list_of_funcs pid=61883)\u001b[0m \n",
      "\u001b[2m\u001b[36m(apply_list_of_funcs pid=61883)\u001b[0m \n",
      "\u001b[2m\u001b[36m(apply_list_of_funcs pid=61880)\u001b[0m \n",
      "\u001b[2m\u001b[36m(apply_list_of_funcs pid=58234)\u001b[0m \n"
     ]
    },
    {
     "name": "stderr",
     "output_type": "stream",
     "text": [
      "\u001b[2m\u001b[36m(apply_list_of_funcs pid=61884)\u001b[0m \n"
     ]
    },
    {
     "name": "stdout",
     "output_type": "stream",
     "text": [
      "\u001b[2m\u001b[36m(apply_list_of_funcs pid=61882)\u001b[0m \n",
      "\u001b[2m\u001b[36m(apply_list_of_funcs pid=58234)\u001b[0m \n",
      "\u001b[2m\u001b[36m(apply_func pid=61882)\u001b[0m \n",
      "\u001b[2m\u001b[36m(apply_list_of_funcs pid=58232)\u001b[0m \n",
      "\u001b[2m\u001b[36m(apply_list_of_funcs pid=61880)\u001b[0m \n",
      "\u001b[2m\u001b[36m(apply_func pid=58232)\u001b[0m \n",
      "\u001b[2m\u001b[36m(apply_func pid=58232)\u001b[0m \n",
      "\u001b[2m\u001b[36m(apply_func pid=58235)\u001b[0m \n"
     ]
    },
    {
     "name": "stderr",
     "output_type": "stream",
     "text": [
      "\u001b[2m\u001b[36m(apply_func pid=58233)\u001b[0m \n"
     ]
    },
    {
     "name": "stdout",
     "output_type": "stream",
     "text": [
      "\u001b[2m\u001b[36m(apply_func pid=61880)\u001b[0m \n",
      "\u001b[2m\u001b[36m(apply_func pid=58240)\u001b[0m \n",
      "\u001b[2m\u001b[36m(apply_list_of_funcs pid=58235)\u001b[0m \n",
      "\u001b[2m\u001b[36m(apply_list_of_funcs pid=61883)\u001b[0m \n",
      "\u001b[2m\u001b[36m(apply_func pid=58232)\u001b[0m \n"
     ]
    },
    {
     "name": "stderr",
     "output_type": "stream",
     "text": [
      "\u001b[2m\u001b[36m(apply_func pid=61884)\u001b[0m \n",
      "\u001b[2m\u001b[36m(apply_list_of_funcs pid=58233)\u001b[0m \n"
     ]
    },
    {
     "name": "stdout",
     "output_type": "stream",
     "text": [
      "\u001b[2m\u001b[36m(apply_list_of_funcs pid=58233)\u001b[0m \n",
      "\u001b[2m\u001b[36m(apply_list_of_funcs pid=58232)\u001b[0m \n"
     ]
    },
    {
     "name": "stderr",
     "output_type": "stream",
     "text": [
      "\u001b[2m\u001b[36m(apply_list_of_funcs pid=61884)\u001b[0m \n"
     ]
    },
    {
     "name": "stdout",
     "output_type": "stream",
     "text": [
      "\u001b[2m\u001b[36m(apply_func pid=61881)\u001b[0m \n",
      "\u001b[2m\u001b[36m(apply_list_of_funcs pid=58240)\u001b[0m \n",
      "\u001b[2m\u001b[36m(apply_func pid=61883)\u001b[0m \n",
      "\u001b[2m\u001b[36m(apply_func pid=61883)\u001b[0m \n",
      "\u001b[2m\u001b[36m(apply_func pid=61884)\u001b[0m \n"
     ]
    },
    {
     "name": "stderr",
     "output_type": "stream",
     "text": [
      "\u001b[2m\u001b[36m(apply_list_of_funcs pid=61880)\u001b[0m \n"
     ]
    },
    {
     "name": "stdout",
     "output_type": "stream",
     "text": [
      "\u001b[2m\u001b[36m(apply_func pid=58235)\u001b[0m \n"
     ]
    },
    {
     "name": "stderr",
     "output_type": "stream",
     "text": [
      "\u001b[2m\u001b[36m(apply_list_of_funcs pid=61880)\u001b[0m \n"
     ]
    },
    {
     "name": "stdout",
     "output_type": "stream",
     "text": [
      "\u001b[2m\u001b[36m(apply_func pid=61882)\u001b[0m \n",
      "\u001b[2m\u001b[36m(apply_func pid=58233)\u001b[0m \n",
      "\u001b[2m\u001b[36m(apply_func pid=61882)\u001b[0m \n",
      "\u001b[2m\u001b[36m(apply_func pid=61883)\u001b[0m \n",
      "\u001b[2m\u001b[36m(apply_func pid=58232)\u001b[0m \n"
     ]
    },
    {
     "name": "stderr",
     "output_type": "stream",
     "text": [
      "\u001b[2m\u001b[36m(apply_func pid=61882)\u001b[0m \n"
     ]
    },
    {
     "name": "stdout",
     "output_type": "stream",
     "text": [
      "\u001b[2m\u001b[36m(apply_func pid=61882)\u001b[0m \n",
      "\u001b[2m\u001b[36m(apply_list_of_funcs pid=61880)\u001b[0m \n",
      "\u001b[2m\u001b[36m(apply_list_of_funcs pid=61884)\u001b[0m \n",
      "\u001b[2m\u001b[36m(apply_list_of_funcs pid=61880)\u001b[0m \n",
      "\u001b[2m\u001b[36m(apply_func pid=58240)\u001b[0m \n",
      "\u001b[2m\u001b[36m(apply_list_of_funcs pid=58240)\u001b[0m \n",
      "\u001b[2m\u001b[36m(apply_func pid=58233)\u001b[0m \n",
      "\u001b[2m\u001b[36m(apply_func pid=58232)\u001b[0m \n",
      "\u001b[2m\u001b[36m(apply_func pid=58234)\u001b[0m \n",
      "\u001b[2m\u001b[36m(apply_func pid=61883)\u001b[0m \n",
      "\u001b[2m\u001b[36m(apply_func pid=61880)\u001b[0m \n",
      "\u001b[2m\u001b[36m(apply_func pid=61881)\u001b[0m \n",
      "\u001b[2m\u001b[36m(apply_func pid=61883)\u001b[0m \n",
      "\u001b[2m\u001b[36m(apply_func pid=61884)\u001b[0m \n",
      "\u001b[2m\u001b[36m(apply_func pid=61882)\u001b[0m \n",
      "\u001b[2m\u001b[36m(apply_list_of_funcs pid=61884)\u001b[0m \n",
      "\u001b[2m\u001b[36m(apply_func pid=58234)\u001b[0m \n",
      "\u001b[2m\u001b[36m(apply_list_of_funcs pid=61884)\u001b[0m \n",
      "\u001b[2m\u001b[36m(apply_list_of_funcs pid=58240)\u001b[0m \n",
      "\u001b[2m\u001b[36m(apply_list_of_funcs pid=58234)\u001b[0m \n",
      "\u001b[2m\u001b[36m(apply_func pid=58233)\u001b[0m \n",
      "\u001b[2m\u001b[36m(apply_list_of_funcs pid=61881)\u001b[0m \n"
     ]
    },
    {
     "name": "stderr",
     "output_type": "stream",
     "text": [
      "\u001b[2m\u001b[36m(apply_list_of_funcs pid=61880)\u001b[0m \n"
     ]
    },
    {
     "name": "stdout",
     "output_type": "stream",
     "text": [
      "\u001b[2m\u001b[36m(apply_func pid=58240)\u001b[0m \n"
     ]
    },
    {
     "name": "stderr",
     "output_type": "stream",
     "text": [
      "\u001b[2m\u001b[36m(apply_func pid=61882)\u001b[0m \n"
     ]
    },
    {
     "name": "stdout",
     "output_type": "stream",
     "text": [
      "\u001b[2m\u001b[36m(apply_func pid=61882)\u001b[0m \n",
      "\u001b[2m\u001b[36m(apply_list_of_funcs pid=58234)\u001b[0m \n",
      "\u001b[2m\u001b[36m(apply_list_of_funcs pid=61880)\u001b[0m \n",
      "\u001b[2m\u001b[36m(apply_list_of_funcs pid=58240)\u001b[0m \n",
      "\u001b[2m\u001b[36m(apply_func pid=61883)\u001b[0m \n",
      "\u001b[2m\u001b[36m(apply_func pid=58235)\u001b[0m \n"
     ]
    },
    {
     "name": "stderr",
     "output_type": "stream",
     "text": [
      "\u001b[2m\u001b[36m(apply_list_of_funcs pid=61880)\u001b[0m \n"
     ]
    },
    {
     "name": "stdout",
     "output_type": "stream",
     "text": [
      "\u001b[2m\u001b[36m(apply_list_of_funcs pid=58233)\u001b[0m \n",
      "\u001b[2m\u001b[36m(apply_func pid=58232)\u001b[0m \n",
      "\u001b[2m\u001b[36m(apply_func pid=58240)\u001b[0m \n",
      "\u001b[2m\u001b[36m(apply_list_of_funcs pid=58234)\u001b[0m \n"
     ]
    },
    {
     "name": "stderr",
     "output_type": "stream",
     "text": [
      "\u001b[2m\u001b[36m(apply_func pid=58233)\u001b[0m \n"
     ]
    },
    {
     "name": "stdout",
     "output_type": "stream",
     "text": [
      "\u001b[2m\u001b[36m(apply_func pid=58233)\u001b[0m \n",
      "\u001b[2m\u001b[36m(apply_func pid=58234)\u001b[0m \n"
     ]
    },
    {
     "name": "stderr",
     "output_type": "stream",
     "text": [
      "\u001b[2m\u001b[36m(apply_func pid=58240)\u001b[0m \n"
     ]
    },
    {
     "name": "stdout",
     "output_type": "stream",
     "text": [
      "\u001b[2m\u001b[36m(apply_func pid=61881)\u001b[0m \n"
     ]
    },
    {
     "name": "stderr",
     "output_type": "stream",
     "text": [
      "\u001b[2m\u001b[36m(apply_func pid=61881)\u001b[0m \n",
      "\u001b[2m\u001b[36m(apply_list_of_funcs pid=61881)\u001b[0m \n"
     ]
    },
    {
     "name": "stdout",
     "output_type": "stream",
     "text": [
      "\u001b[2m\u001b[36m(apply_func pid=58232)\u001b[0m \n"
     ]
    },
    {
     "name": "stderr",
     "output_type": "stream",
     "text": [
      "\u001b[2m\u001b[36m(apply_list_of_funcs pid=58234)\u001b[0m \n"
     ]
    },
    {
     "name": "stdout",
     "output_type": "stream",
     "text": [
      "\u001b[2m\u001b[36m(apply_func pid=61883)\u001b[0m \n"
     ]
    },
    {
     "name": "stderr",
     "output_type": "stream",
     "text": [
      "\u001b[2m\u001b[36m(apply_list_of_funcs pid=61881)\u001b[0m \n"
     ]
    },
    {
     "name": "stdout",
     "output_type": "stream",
     "text": [
      "\u001b[2m\u001b[36m(apply_func pid=61884)\u001b[0m \n",
      "\u001b[2m\u001b[36m(apply_func pid=58235)\u001b[0m \n",
      "\u001b[2m\u001b[36m(apply_func pid=61881)\u001b[0m \n",
      "\u001b[2m\u001b[36m(apply_list_of_funcs pid=61881)\u001b[0m \n"
     ]
    },
    {
     "name": "stderr",
     "output_type": "stream",
     "text": [
      "\u001b[2m\u001b[36m(apply_func pid=58234)\u001b[0m \n"
     ]
    },
    {
     "name": "stdout",
     "output_type": "stream",
     "text": [
      "\u001b[2m\u001b[36m(apply_list_of_funcs pid=58234)\u001b[0m \n",
      "\u001b[2m\u001b[36m(apply_func pid=58235)\u001b[0m \n",
      "\u001b[2m\u001b[36m(apply_func pid=58235)\u001b[0m \n",
      "\u001b[2m\u001b[36m(apply_func pid=61880)\u001b[0m \n",
      "\u001b[2m\u001b[36m(apply_func pid=61881)\u001b[0m \n",
      "\u001b[2m\u001b[36m(apply_list_of_funcs pid=58233)\u001b[0m \n"
     ]
    },
    {
     "name": "stderr",
     "output_type": "stream",
     "text": [
      "\u001b[2m\u001b[36m(apply_list_of_funcs pid=58233)\u001b[0m \n"
     ]
    },
    {
     "name": "stdout",
     "output_type": "stream",
     "text": [
      "\u001b[2m\u001b[36m(apply_list_of_funcs pid=58235)\u001b[0m \n",
      "\u001b[2m\u001b[36m(apply_func pid=61880)\u001b[0m \n"
     ]
    },
    {
     "name": "stderr",
     "output_type": "stream",
     "text": [
      "\u001b[2m\u001b[36m(apply_func pid=58234)\u001b[0m \n"
     ]
    },
    {
     "name": "stdout",
     "output_type": "stream",
     "text": [
      "\u001b[2m\u001b[36m(apply_func pid=58233)\u001b[0m \n",
      "\u001b[2m\u001b[36m(apply_func pid=58234)\u001b[0m \n",
      "\u001b[2m\u001b[36m(apply_func pid=58232)\u001b[0m \n",
      "\u001b[2m\u001b[36m(apply_func pid=61884)\u001b[0m \n",
      "\u001b[2m\u001b[36m(apply_list_of_funcs pid=58235)\u001b[0m \n",
      "\u001b[2m\u001b[36m(apply_list_of_funcs pid=61881)\u001b[0m \n"
     ]
    },
    {
     "name": "stderr",
     "output_type": "stream",
     "text": [
      "\u001b[2m\u001b[36m(apply_func pid=58240)\u001b[0m \n"
     ]
    },
    {
     "name": "stdout",
     "output_type": "stream",
     "text": [
      "\u001b[2m\u001b[36m(apply_list_of_funcs pid=58240)\u001b[0m \n",
      "\u001b[2m\u001b[36m(apply_list_of_funcs pid=61880)\u001b[0m \n",
      "\u001b[2m\u001b[36m(apply_func pid=58232)\u001b[0m \n"
     ]
    },
    {
     "name": "stderr",
     "output_type": "stream",
     "text": [
      "\u001b[2m\u001b[36m(apply_list_of_funcs pid=61880)\u001b[0m \n",
      "\u001b[2m\u001b[36m(apply_list_of_funcs pid=61881)\u001b[0m \n"
     ]
    },
    {
     "name": "stdout",
     "output_type": "stream",
     "text": [
      "\u001b[2m\u001b[36m(apply_list_of_funcs pid=58232)\u001b[0m \n",
      "\u001b[2m\u001b[36m(apply_list_of_funcs pid=61881)\u001b[0m \n"
     ]
    },
    {
     "name": "stderr",
     "output_type": "stream",
     "text": [
      "\u001b[2m\u001b[36m(apply_list_of_funcs pid=61883)\u001b[0m \n",
      "\u001b[2m\u001b[36m(apply_func pid=61882)\u001b[0m \n"
     ]
    },
    {
     "name": "stdout",
     "output_type": "stream",
     "text": [
      "\u001b[2m\u001b[36m(apply_list_of_funcs pid=58234)\u001b[0m \n"
     ]
    },
    {
     "name": "stderr",
     "output_type": "stream",
     "text": [
      "\u001b[2m\u001b[36m(apply_list_of_funcs pid=58240)\u001b[0m \n"
     ]
    },
    {
     "name": "stdout",
     "output_type": "stream",
     "text": [
      "\u001b[2m\u001b[36m(apply_list_of_funcs pid=61880)\u001b[0m \n"
     ]
    },
    {
     "name": "stderr",
     "output_type": "stream",
     "text": [
      "\u001b[2m\u001b[36m(apply_list_of_funcs pid=58233)\u001b[0m \n"
     ]
    },
    {
     "name": "stdout",
     "output_type": "stream",
     "text": [
      "\u001b[2m\u001b[36m(apply_list_of_funcs pid=58240)\u001b[0m \n",
      "\u001b[2m\u001b[36m(apply_list_of_funcs pid=58232)\u001b[0m \n",
      "\u001b[2m\u001b[36m(apply_func pid=61881)\u001b[0m \n",
      "\u001b[2m\u001b[36m(apply_list_of_funcs pid=61883)\u001b[0m \n",
      "\u001b[2m\u001b[36m(apply_func pid=58235)\u001b[0m \n"
     ]
    },
    {
     "name": "stderr",
     "output_type": "stream",
     "text": [
      "\u001b[2m\u001b[36m(apply_list_of_funcs pid=61881)\u001b[0m \n"
     ]
    },
    {
     "name": "stdout",
     "output_type": "stream",
     "text": [
      "\u001b[2m\u001b[36m(apply_list_of_funcs pid=61880)\u001b[0m \n",
      "\u001b[2m\u001b[36m(apply_list_of_funcs pid=61884)\u001b[0m \n"
     ]
    },
    {
     "name": "stderr",
     "output_type": "stream",
     "text": [
      "\u001b[2m\u001b[36m(apply_list_of_funcs pid=61881)\u001b[0m \n"
     ]
    },
    {
     "name": "stdout",
     "output_type": "stream",
     "text": [
      "\u001b[2m\u001b[36m(apply_func pid=58235)\u001b[0m \n",
      "\u001b[2m\u001b[36m(apply_func pid=61884)\u001b[0m \n"
     ]
    },
    {
     "name": "stderr",
     "output_type": "stream",
     "text": [
      "\u001b[2m\u001b[36m(apply_list_of_funcs pid=58233)\u001b[0m \n"
     ]
    },
    {
     "name": "stdout",
     "output_type": "stream",
     "text": [
      "\u001b[2m\u001b[36m(apply_func pid=58232)\u001b[0m \n",
      "\u001b[2m\u001b[36m(apply_func pid=58233)\u001b[0m \n",
      "\u001b[2m\u001b[36m(apply_func pid=61882)\u001b[0m \n",
      "\u001b[2m\u001b[36m(apply_func pid=61881)\u001b[0m \n",
      "\u001b[2m\u001b[36m(apply_func pid=61884)\u001b[0m \n",
      "\u001b[2m\u001b[36m(apply_list_of_funcs pid=58235)\u001b[0m \n",
      "\u001b[2m\u001b[36m(apply_list_of_funcs pid=61884)\u001b[0m \n"
     ]
    },
    {
     "name": "stderr",
     "output_type": "stream",
     "text": [
      "\u001b[2m\u001b[36m(apply_func pid=58235)\u001b[0m \n"
     ]
    },
    {
     "name": "stdout",
     "output_type": "stream",
     "text": [
      "\u001b[2m\u001b[36m(apply_func pid=58234)\u001b[0m \n"
     ]
    },
    {
     "name": "stderr",
     "output_type": "stream",
     "text": [
      "\u001b[2m\u001b[36m(apply_list_of_funcs pid=61880)\u001b[0m \n",
      "\u001b[2m\u001b[36m(apply_list_of_funcs pid=61882)\u001b[0m \n"
     ]
    },
    {
     "name": "stdout",
     "output_type": "stream",
     "text": [
      "\u001b[2m\u001b[36m(apply_func pid=58235)\u001b[0m \n"
     ]
    },
    {
     "name": "stderr",
     "output_type": "stream",
     "text": [
      "\u001b[2m\u001b[36m(apply_list_of_funcs pid=61880)\u001b[0m \n"
     ]
    },
    {
     "name": "stdout",
     "output_type": "stream",
     "text": [
      "\u001b[2m\u001b[36m(apply_func pid=61884)\u001b[0m \n"
     ]
    },
    {
     "name": "stderr",
     "output_type": "stream",
     "text": [
      "\u001b[2m\u001b[36m(apply_list_of_funcs pid=58235)\u001b[0m \n",
      "\u001b[2m\u001b[36m(apply_list_of_funcs pid=58233)\u001b[0m \n",
      "\u001b[2m\u001b[36m(apply_func pid=58232)\u001b[0m \n",
      "\u001b[2m\u001b[36m(apply_func pid=61881)\u001b[0m \n",
      "\u001b[2m\u001b[36m(apply_func pid=58235)\u001b[0m \n"
     ]
    },
    {
     "name": "stdout",
     "output_type": "stream",
     "text": [
      "\u001b[2m\u001b[36m(apply_func pid=58232)\u001b[0m \n",
      "\u001b[2m\u001b[36m(apply_func pid=61881)\u001b[0m \n",
      "\u001b[2m\u001b[36m(apply_func pid=61884)\u001b[0m \n",
      "\u001b[2m\u001b[36m(apply_func pid=61883)\u001b[0m \n",
      "\u001b[2m\u001b[36m(apply_list_of_funcs pid=61883)\u001b[0m \n",
      "\u001b[2m\u001b[36m(apply_list_of_funcs pid=58232)\u001b[0m \n",
      "\u001b[2m\u001b[36m(apply_list_of_funcs pid=58240)\u001b[0m \n",
      "\u001b[2m\u001b[36m(apply_list_of_funcs pid=58240)\u001b[0m \n",
      "\u001b[2m\u001b[36m(apply_list_of_funcs pid=58234)\u001b[0m \n",
      "\u001b[2m\u001b[36m(apply_func pid=58235)\u001b[0m \n",
      "\u001b[2m\u001b[36m(apply_list_of_funcs pid=61883)\u001b[0m \n"
     ]
    },
    {
     "name": "stderr",
     "output_type": "stream",
     "text": [
      "\u001b[2m\u001b[36m(apply_list_of_funcs pid=61883)\u001b[0m \n"
     ]
    },
    {
     "name": "stdout",
     "output_type": "stream",
     "text": [
      "\u001b[2m\u001b[36m(apply_func pid=61883)\u001b[0m \n",
      "\u001b[2m\u001b[36m(apply_list_of_funcs pid=61882)\u001b[0m \n",
      "\u001b[2m\u001b[36m(apply_func pid=58232)\u001b[0m \n",
      "\u001b[2m\u001b[36m(apply_list_of_funcs pid=58232)\u001b[0m \n",
      "\u001b[2m\u001b[36m(apply_func pid=61884)\u001b[0m \n",
      "\u001b[2m\u001b[36m(apply_list_of_funcs pid=58232)\u001b[0m \n",
      "\u001b[2m\u001b[36m(apply_list_of_funcs pid=61882)\u001b[0m \n",
      "\u001b[2m\u001b[36m(apply_list_of_funcs pid=58233)\u001b[0m \n"
     ]
    },
    {
     "name": "stderr",
     "output_type": "stream",
     "text": [
      "\u001b[2m\u001b[36m(apply_func pid=61880)\u001b[0m \n"
     ]
    },
    {
     "name": "stdout",
     "output_type": "stream",
     "text": [
      "\u001b[2m\u001b[36m(apply_func pid=58233)\u001b[0m \n",
      "\u001b[2m\u001b[36m(apply_func pid=58233)\u001b[0m \n",
      "\u001b[2m\u001b[36m(apply_func pid=58235)\u001b[0m \n"
     ]
    },
    {
     "name": "stderr",
     "output_type": "stream",
     "text": [
      "\u001b[2m\u001b[36m(apply_list_of_funcs pid=58240)\u001b[0m \n",
      "\u001b[2m\u001b[36m(apply_func pid=61883)\u001b[0m \n"
     ]
    },
    {
     "name": "stdout",
     "output_type": "stream",
     "text": [
      "\u001b[2m\u001b[36m(apply_func pid=61883)\u001b[0m \n",
      "\u001b[2m\u001b[36m(apply_list_of_funcs pid=58233)\u001b[0m \n"
     ]
    },
    {
     "name": "stderr",
     "output_type": "stream",
     "text": [
      "\u001b[2m\u001b[36m(apply_func pid=58240)\u001b[0m \n",
      "\u001b[2m\u001b[36m(apply_list_of_funcs pid=61883)\u001b[0m \n"
     ]
    },
    {
     "name": "stdout",
     "output_type": "stream",
     "text": [
      "\u001b[2m\u001b[36m(apply_func pid=58232)\u001b[0m \n",
      "\u001b[2m\u001b[36m(apply_list_of_funcs pid=58235)\u001b[0m \n",
      "\u001b[2m\u001b[36m(apply_func pid=61884)\u001b[0m \n",
      "\u001b[2m\u001b[36m(apply_func pid=61882)\u001b[0m \n",
      "\u001b[2m\u001b[36m(apply_list_of_funcs pid=58240)\u001b[0m \n",
      "\u001b[2m\u001b[36m(apply_list_of_funcs pid=58234)\u001b[0m \n",
      "\u001b[2m\u001b[36m(apply_list_of_funcs pid=58240)\u001b[0m \n"
     ]
    },
    {
     "name": "stderr",
     "output_type": "stream",
     "text": [
      "\u001b[2m\u001b[36m(apply_list_of_funcs pid=58232)\u001b[0m \n",
      "\u001b[2m\u001b[36m(apply_list_of_funcs pid=61883)\u001b[0m \n",
      "\u001b[2m\u001b[36m(apply_list_of_funcs pid=61881)\u001b[0m \n"
     ]
    },
    {
     "name": "stdout",
     "output_type": "stream",
     "text": [
      "\u001b[2m\u001b[36m(apply_list_of_funcs pid=61884)\u001b[0m \n",
      "\u001b[2m\u001b[36m(apply_func pid=61881)\u001b[0m \n"
     ]
    },
    {
     "name": "stderr",
     "output_type": "stream",
     "text": [
      "\u001b[2m\u001b[36m(apply_list_of_funcs pid=58232)\u001b[0m \n"
     ]
    },
    {
     "name": "stdout",
     "output_type": "stream",
     "text": [
      "\u001b[2m\u001b[36m(apply_list_of_funcs pid=61880)\u001b[0m \n"
     ]
    },
    {
     "name": "stderr",
     "output_type": "stream",
     "text": [
      "\u001b[2m\u001b[36m(apply_list_of_funcs pid=61884)\u001b[0m \n"
     ]
    },
    {
     "name": "stdout",
     "output_type": "stream",
     "text": [
      "\u001b[2m\u001b[36m(apply_list_of_funcs pid=58235)\u001b[0m \n",
      "\u001b[2m\u001b[36m(apply_func pid=61881)\u001b[0m \n",
      "\u001b[2m\u001b[36m(apply_func pid=58235)\u001b[0m \n",
      "\u001b[2m\u001b[36m(apply_func pid=61882)\u001b[0m \n",
      "\u001b[2m\u001b[36m(apply_func pid=61881)\u001b[0m \n",
      "\u001b[2m\u001b[36m(apply_func pid=58232)\u001b[0m \n",
      "\u001b[2m\u001b[36m(apply_func pid=58232)\u001b[0m \n"
     ]
    },
    {
     "name": "stderr",
     "output_type": "stream",
     "text": [
      "\u001b[2m\u001b[36m(apply_func pid=58235)\u001b[0m \n"
     ]
    },
    {
     "name": "stdout",
     "output_type": "stream",
     "text": [
      "\u001b[2m\u001b[36m(apply_list_of_funcs pid=61880)\u001b[0m \n",
      "\u001b[2m\u001b[36m(apply_list_of_funcs pid=58233)\u001b[0m \n"
     ]
    },
    {
     "name": "stderr",
     "output_type": "stream",
     "text": [
      "\u001b[2m\u001b[36m(apply_list_of_funcs pid=58235)\u001b[0m \n"
     ]
    },
    {
     "name": "stdout",
     "output_type": "stream",
     "text": [
      "\u001b[2m\u001b[36m(apply_list_of_funcs pid=58240)\u001b[0m \n",
      "\u001b[2m\u001b[36m(apply_list_of_funcs pid=61884)\u001b[0m \n",
      "\u001b[2m\u001b[36m(apply_func pid=61881)\u001b[0m \n"
     ]
    },
    {
     "name": "stderr",
     "output_type": "stream",
     "text": [
      "\u001b[2m\u001b[36m(apply_func pid=61881)\u001b[0m \n",
      "\u001b[2m\u001b[36m(apply_func pid=58235)\u001b[0m \n"
     ]
    },
    {
     "name": "stdout",
     "output_type": "stream",
     "text": [
      "\u001b[2m\u001b[36m(apply_func pid=58234)\u001b[0m \n",
      "\u001b[2m\u001b[36m(apply_list_of_funcs pid=61881)\u001b[0m \n",
      "\u001b[2m\u001b[36m(apply_func pid=61882)\u001b[0m \n",
      "\u001b[2m\u001b[36m(apply_list_of_funcs pid=61881)\u001b[0m \n",
      "\u001b[2m\u001b[36m(apply_list_of_funcs pid=58234)\u001b[0m \n",
      "\u001b[2m\u001b[36m(apply_func pid=61884)\u001b[0m \n",
      "\u001b[2m\u001b[36m(apply_list_of_funcs pid=61884)\u001b[0m \n",
      "\u001b[2m\u001b[36m(apply_list_of_funcs pid=58234)\u001b[0m \n",
      "\u001b[2m\u001b[36m(apply_list_of_funcs pid=61883)\u001b[0m \n"
     ]
    },
    {
     "name": "stderr",
     "output_type": "stream",
     "text": [
      "\u001b[2m\u001b[36m(apply_list_of_funcs pid=61883)\u001b[0m \n",
      "\u001b[2m\u001b[36m(apply_func pid=61881)\u001b[0m \n"
     ]
    },
    {
     "name": "stdout",
     "output_type": "stream",
     "text": [
      "\u001b[2m\u001b[36m(apply_list_of_funcs pid=58233)\u001b[0m \n"
     ]
    },
    {
     "name": "stderr",
     "output_type": "stream",
     "text": [
      "\u001b[2m\u001b[36m(apply_list_of_funcs pid=61883)\u001b[0m \n",
      "\u001b[2m\u001b[36m(apply_list_of_funcs pid=61881)\u001b[0m \n"
     ]
    },
    {
     "name": "stdout",
     "output_type": "stream",
     "text": [
      "\u001b[2m\u001b[36m(apply_list_of_funcs pid=61881)\u001b[0m \n"
     ]
    },
    {
     "name": "stderr",
     "output_type": "stream",
     "text": [
      "\u001b[2m\u001b[36m(apply_func pid=61881)\u001b[0m \n"
     ]
    },
    {
     "name": "stdout",
     "output_type": "stream",
     "text": [
      "\u001b[2m\u001b[36m(apply_func pid=58233)\u001b[0m \n",
      "\u001b[2m\u001b[36m(apply_list_of_funcs pid=61881)\u001b[0m \n",
      "\u001b[2m\u001b[36m(apply_func pid=61883)\u001b[0m \n"
     ]
    },
    {
     "name": "stderr",
     "output_type": "stream",
     "text": [
      "\u001b[2m\u001b[36m(apply_list_of_funcs pid=61880)\u001b[0m \n"
     ]
    },
    {
     "name": "stdout",
     "output_type": "stream",
     "text": [
      "\u001b[2m\u001b[36m(apply_func pid=58234)\u001b[0m \n",
      "\u001b[2m\u001b[36m(apply_func pid=58232)\u001b[0m \n",
      "\u001b[2m\u001b[36m(apply_list_of_funcs pid=61880)\u001b[0m \n",
      "\u001b[2m\u001b[36m(apply_list_of_funcs pid=58232)\u001b[0m \n"
     ]
    },
    {
     "name": "stderr",
     "output_type": "stream",
     "text": [
      "\u001b[2m\u001b[36m(apply_list_of_funcs pid=61884)\u001b[0m \n"
     ]
    },
    {
     "name": "stdout",
     "output_type": "stream",
     "text": [
      "\u001b[2m\u001b[36m(apply_list_of_funcs pid=61882)\u001b[0m \n",
      "\u001b[2m\u001b[36m(apply_func pid=58233)\u001b[0m \n",
      "\u001b[2m\u001b[36m(apply_func pid=61883)\u001b[0m \n",
      "\u001b[2m\u001b[36m(apply_func pid=61883)\u001b[0m \n",
      "\u001b[2m\u001b[36m(apply_func pid=58240)\u001b[0m \n",
      "\u001b[2m\u001b[36m(apply_list_of_funcs pid=58235)\u001b[0m \n"
     ]
    },
    {
     "name": "stderr",
     "output_type": "stream",
     "text": [
      "\u001b[2m\u001b[36m(apply_func pid=61881)\u001b[0m \n"
     ]
    },
    {
     "name": "stdout",
     "output_type": "stream",
     "text": [
      "\u001b[2m\u001b[36m(apply_func pid=61882)\u001b[0m \n"
     ]
    },
    {
     "name": "stderr",
     "output_type": "stream",
     "text": [
      "\u001b[2m\u001b[36m(apply_func pid=61884)\u001b[0m \n"
     ]
    },
    {
     "name": "stdout",
     "output_type": "stream",
     "text": [
      "\u001b[2m\u001b[36m(apply_list_of_funcs pid=58240)\u001b[0m \n",
      "\u001b[2m\u001b[36m(apply_list_of_funcs pid=58240)\u001b[0m \n"
     ]
    },
    {
     "name": "stderr",
     "output_type": "stream",
     "text": [
      "\u001b[2m\u001b[36m(apply_func pid=58234)\u001b[0m \n"
     ]
    },
    {
     "name": "stdout",
     "output_type": "stream",
     "text": [
      "\u001b[2m\u001b[36m(apply_func pid=61883)\u001b[0m \n",
      "\u001b[2m\u001b[36m(apply_list_of_funcs pid=61883)\u001b[0m \n",
      "\u001b[2m\u001b[36m(apply_list_of_funcs pid=58235)\u001b[0m \n",
      "\u001b[2m\u001b[36m(apply_func pid=61883)\u001b[0m \n",
      "\u001b[2m\u001b[36m(apply_list_of_funcs pid=61881)\u001b[0m \n"
     ]
    },
    {
     "name": "stderr",
     "output_type": "stream",
     "text": [
      "\u001b[2m\u001b[36m(apply_func pid=61882)\u001b[0m \n"
     ]
    },
    {
     "name": "stdout",
     "output_type": "stream",
     "text": [
      "\u001b[2m\u001b[36m(apply_func pid=58240)\u001b[0m \n"
     ]
    },
    {
     "name": "stderr",
     "output_type": "stream",
     "text": [
      "\u001b[2m\u001b[36m(apply_list_of_funcs pid=61883)\u001b[0m \n"
     ]
    },
    {
     "name": "stdout",
     "output_type": "stream",
     "text": [
      "\u001b[2m\u001b[36m(apply_list_of_funcs pid=61883)\u001b[0m \n",
      "\u001b[2m\u001b[36m(apply_list_of_funcs pid=58232)\u001b[0m \n"
     ]
    },
    {
     "name": "stderr",
     "output_type": "stream",
     "text": [
      "\u001b[2m\u001b[36m(apply_func pid=61883)\u001b[0m \n",
      "\u001b[2m\u001b[36m(apply_func pid=58240)\u001b[0m \n"
     ]
    },
    {
     "name": "stdout",
     "output_type": "stream",
     "text": [
      "\u001b[2m\u001b[36m(apply_list_of_funcs pid=58235)\u001b[0m \n",
      "\u001b[2m\u001b[36m(apply_list_of_funcs pid=58232)\u001b[0m \n"
     ]
    },
    {
     "name": "stderr",
     "output_type": "stream",
     "text": [
      "\u001b[2m\u001b[36m(apply_list_of_funcs pid=61881)\u001b[0m \n"
     ]
    },
    {
     "name": "stdout",
     "output_type": "stream",
     "text": [
      "\u001b[2m\u001b[36m(apply_func pid=58240)\u001b[0m \n",
      "\u001b[2m\u001b[36m(apply_func pid=61883)\u001b[0m \n"
     ]
    },
    {
     "name": "stderr",
     "output_type": "stream",
     "text": [
      "\u001b[2m\u001b[36m(apply_list_of_funcs pid=61882)\u001b[0m \n"
     ]
    },
    {
     "name": "stdout",
     "output_type": "stream",
     "text": [
      "\u001b[2m\u001b[36m(apply_func pid=58235)\u001b[0m \n",
      "\u001b[2m\u001b[36m(apply_list_of_funcs pid=61880)\u001b[0m \n"
     ]
    },
    {
     "name": "stderr",
     "output_type": "stream",
     "text": [
      "\u001b[2m\u001b[36m(apply_func pid=61883)\u001b[0m \n"
     ]
    },
    {
     "name": "stdout",
     "output_type": "stream",
     "text": [
      "\u001b[2m\u001b[36m(apply_func pid=61883)\u001b[0m \n",
      "\u001b[2m\u001b[36m(apply_func pid=61880)\u001b[0m \n"
     ]
    },
    {
     "name": "stderr",
     "output_type": "stream",
     "text": [
      "\u001b[2m\u001b[36m(apply_list_of_funcs pid=61882)\u001b[0m \n"
     ]
    },
    {
     "name": "stdout",
     "output_type": "stream",
     "text": [
      "\u001b[2m\u001b[36m(apply_list_of_funcs pid=61882)\u001b[0m \n",
      "\u001b[2m\u001b[36m(apply_func pid=61880)\u001b[0m \n",
      "\u001b[2m\u001b[36m(apply_func pid=58233)\u001b[0m \n",
      "\u001b[2m\u001b[36m(apply_func pid=58232)\u001b[0m \n"
     ]
    },
    {
     "name": "stderr",
     "output_type": "stream",
     "text": [
      "\u001b[2m\u001b[36m(apply_func pid=61883)\u001b[0m \n",
      "\u001b[2m\u001b[36m(apply_list_of_funcs pid=58235)\u001b[0m \n",
      "\u001b[2m\u001b[36m(apply_func pid=58234)\u001b[0m \n"
     ]
    },
    {
     "name": "stdout",
     "output_type": "stream",
     "text": [
      "\u001b[2m\u001b[36m(apply_func pid=58240)\u001b[0m \n",
      "\u001b[2m\u001b[36m(apply_list_of_funcs pid=61882)\u001b[0m \n"
     ]
    },
    {
     "name": "stderr",
     "output_type": "stream",
     "text": [
      "\u001b[2m\u001b[36m(apply_func pid=58232)\u001b[0m \n"
     ]
    },
    {
     "name": "stdout",
     "output_type": "stream",
     "text": [
      "\u001b[2m\u001b[36m(apply_list_of_funcs pid=61884)\u001b[0m \n",
      "\u001b[2m\u001b[36m(apply_func pid=58235)\u001b[0m \n",
      "\u001b[2m\u001b[36m(apply_list_of_funcs pid=61880)\u001b[0m \n",
      "\u001b[2m\u001b[36m(apply_list_of_funcs pid=58233)\u001b[0m \n",
      "\u001b[2m\u001b[36m(apply_list_of_funcs pid=61880)\u001b[0m \n",
      "\u001b[2m\u001b[36m(apply_list_of_funcs pid=61883)\u001b[0m \n",
      "\u001b[2m\u001b[36m(apply_func pid=61883)\u001b[0m \n",
      "\u001b[2m\u001b[36m(apply_func pid=58240)\u001b[0m \n",
      "\u001b[2m\u001b[36m(apply_func pid=61881)\u001b[0m \n",
      "\u001b[2m\u001b[36m(apply_func pid=61880)\u001b[0m \n",
      "\u001b[2m\u001b[36m(apply_func pid=58235)\u001b[0m \n",
      "\u001b[2m\u001b[36m(apply_list_of_funcs pid=58232)\u001b[0m \n",
      "\u001b[2m\u001b[36m(apply_func pid=58240)\u001b[0m \n"
     ]
    },
    {
     "name": "stderr",
     "output_type": "stream",
     "text": [
      "\u001b[2m\u001b[36m(apply_list_of_funcs pid=58233)\u001b[0m \n",
      "\u001b[2m\u001b[36m(apply_func pid=58232)\u001b[0m \n",
      "\u001b[2m\u001b[36m(apply_list_of_funcs pid=61881)\u001b[0m \n",
      "\u001b[2m\u001b[36m(apply_list_of_funcs pid=61882)\u001b[0m \n"
     ]
    },
    {
     "name": "stdout",
     "output_type": "stream",
     "text": [
      "\u001b[2m\u001b[36m(apply_list_of_funcs pid=61881)\u001b[0m \n",
      "\u001b[2m\u001b[36m(apply_list_of_funcs pid=58235)\u001b[0m \n"
     ]
    },
    {
     "name": "stderr",
     "output_type": "stream",
     "text": [
      "\u001b[2m\u001b[36m(apply_list_of_funcs pid=58234)\u001b[0m \n"
     ]
    },
    {
     "name": "stdout",
     "output_type": "stream",
     "text": [
      "\u001b[2m\u001b[36m(apply_func pid=58234)\u001b[0m \n",
      "\u001b[2m\u001b[36m(apply_list_of_funcs pid=58235)\u001b[0m \n",
      "\u001b[2m\u001b[36m(apply_list_of_funcs pid=58235)\u001b[0m \n",
      "\u001b[2m\u001b[36m(apply_func pid=61884)\u001b[0m \n",
      "\u001b[2m\u001b[36m(apply_func pid=61881)\u001b[0m \n",
      "\u001b[2m\u001b[36m(apply_list_of_funcs pid=61884)\u001b[0m \n",
      "\u001b[2m\u001b[36m(apply_func pid=58235)\u001b[0m \n"
     ]
    },
    {
     "name": "stderr",
     "output_type": "stream",
     "text": [
      "\u001b[2m\u001b[36m(apply_func pid=61880)\u001b[0m \n"
     ]
    },
    {
     "name": "stdout",
     "output_type": "stream",
     "text": [
      "\u001b[2m\u001b[36m(apply_func pid=61880)\u001b[0m \n",
      "\u001b[2m\u001b[36m(apply_func pid=58235)\u001b[0m \n",
      "\u001b[2m\u001b[36m(apply_func pid=61881)\u001b[0m \n",
      "\u001b[2m\u001b[36m(apply_func pid=58233)\u001b[0m \n",
      "\u001b[2m\u001b[36m(apply_func pid=58233)\u001b[0m \n"
     ]
    },
    {
     "name": "stderr",
     "output_type": "stream",
     "text": [
      "\u001b[2m\u001b[36m(apply_func pid=58233)\u001b[0m \n"
     ]
    },
    {
     "name": "stdout",
     "output_type": "stream",
     "text": [
      "\u001b[2m\u001b[36m(apply_func pid=58232)\u001b[0m \n",
      "\u001b[2m\u001b[36m(apply_list_of_funcs pid=58240)\u001b[0m \n",
      "\u001b[2m\u001b[36m(apply_list_of_funcs pid=58232)\u001b[0m \n",
      "\u001b[2m\u001b[36m(apply_list_of_funcs pid=61881)\u001b[0m \n",
      "\u001b[2m\u001b[36m(apply_list_of_funcs pid=58235)\u001b[0m \n",
      "\u001b[2m\u001b[36m(apply_list_of_funcs pid=58233)\u001b[0m \n",
      "\u001b[2m\u001b[36m(apply_list_of_funcs pid=58234)\u001b[0m \n",
      "\u001b[2m\u001b[36m(apply_func pid=58233)\u001b[0m \n"
     ]
    },
    {
     "name": "stderr",
     "output_type": "stream",
     "text": [
      "\u001b[2m\u001b[36m(apply_list_of_funcs pid=58240)\u001b[0m \n"
     ]
    },
    {
     "name": "stdout",
     "output_type": "stream",
     "text": [
      "\u001b[2m\u001b[36m(apply_list_of_funcs pid=61882)\u001b[0m \n",
      "\u001b[2m\u001b[36m(apply_list_of_funcs pid=61882)\u001b[0m \n"
     ]
    },
    {
     "name": "stderr",
     "output_type": "stream",
     "text": [
      "\u001b[2m\u001b[36m(apply_func pid=58234)\u001b[0m \n"
     ]
    },
    {
     "name": "stdout",
     "output_type": "stream",
     "text": [
      "\u001b[2m\u001b[36m(apply_list_of_funcs pid=58233)\u001b[0m \n",
      "\u001b[2m\u001b[36m(apply_func pid=58234)\u001b[0m \n",
      "\u001b[2m\u001b[36m(apply_func pid=58233)\u001b[0m \n"
     ]
    },
    {
     "name": "stderr",
     "output_type": "stream",
     "text": [
      "\u001b[2m\u001b[36m(apply_func pid=58235)\u001b[0m \n"
     ]
    },
    {
     "name": "stdout",
     "output_type": "stream",
     "text": [
      "\u001b[2m\u001b[36m(apply_list_of_funcs pid=58233)\u001b[0m \n",
      "\u001b[2m\u001b[36m(apply_func pid=58233)\u001b[0m \n"
     ]
    },
    {
     "name": "stderr",
     "output_type": "stream",
     "text": [
      "\u001b[2m\u001b[36m(apply_list_of_funcs pid=58232)\u001b[0m \n"
     ]
    },
    {
     "name": "stdout",
     "output_type": "stream",
     "text": [
      "\u001b[2m\u001b[36m(apply_func pid=58240)\u001b[0m \n",
      "\u001b[2m\u001b[36m(apply_func pid=58235)\u001b[0m \n",
      "\u001b[2m\u001b[36m(apply_list_of_funcs pid=61881)\u001b[0m \n",
      "\u001b[2m\u001b[36m(apply_list_of_funcs pid=58235)\u001b[0m \n",
      "\u001b[2m\u001b[36m(apply_func pid=61882)\u001b[0m \n"
     ]
    },
    {
     "name": "stderr",
     "output_type": "stream",
     "text": [
      "\u001b[2m\u001b[36m(apply_func pid=61883)\u001b[0m \n"
     ]
    },
    {
     "name": "stdout",
     "output_type": "stream",
     "text": [
      "\u001b[2m\u001b[36m(apply_func pid=61883)\u001b[0m \n",
      "\u001b[2m\u001b[36m(apply_func pid=61882)\u001b[0m \n",
      "\u001b[2m\u001b[36m(apply_func pid=58235)\u001b[0m \n"
     ]
    },
    {
     "name": "stderr",
     "output_type": "stream",
     "text": [
      "\u001b[2m\u001b[36m(apply_list_of_funcs pid=58232)\u001b[0m \n"
     ]
    },
    {
     "name": "stdout",
     "output_type": "stream",
     "text": [
      "\u001b[2m\u001b[36m(apply_list_of_funcs pid=58234)\u001b[0m \n",
      "\u001b[2m\u001b[36m(apply_list_of_funcs pid=58240)\u001b[0m \n",
      "\u001b[2m\u001b[36m(apply_list_of_funcs pid=58234)\u001b[0m \n",
      "\u001b[2m\u001b[36m(apply_func pid=58234)\u001b[0m \n",
      "\u001b[2m\u001b[36m(apply_func pid=61881)\u001b[0m \n",
      "\u001b[2m\u001b[36m(apply_func pid=61881)\u001b[0m \n",
      "\u001b[2m\u001b[36m(apply_list_of_funcs pid=58234)\u001b[0m \n"
     ]
    },
    {
     "name": "stderr",
     "output_type": "stream",
     "text": [
      "\u001b[2m\u001b[36m(apply_list_of_funcs pid=61882)\u001b[0m \n"
     ]
    },
    {
     "name": "stdout",
     "output_type": "stream",
     "text": [
      "\u001b[2m\u001b[36m(apply_list_of_funcs pid=61882)\u001b[0m \n",
      "\u001b[2m\u001b[36m(apply_func pid=61882)\u001b[0m \n"
     ]
    },
    {
     "name": "stderr",
     "output_type": "stream",
     "text": [
      "\u001b[2m\u001b[36m(apply_list_of_funcs pid=58235)\u001b[0m \n"
     ]
    },
    {
     "name": "stdout",
     "output_type": "stream",
     "text": [
      "\u001b[2m\u001b[36m(apply_list_of_funcs pid=58240)\u001b[0m \n"
     ]
    },
    {
     "name": "stderr",
     "output_type": "stream",
     "text": [
      "\u001b[2m\u001b[36m(apply_func pid=58233)\u001b[0m \n",
      "\u001b[2m\u001b[36m(apply_func pid=61884)\u001b[0m \n",
      "\u001b[2m\u001b[36m(apply_list_of_funcs pid=61882)\u001b[0m \n"
     ]
    },
    {
     "name": "stdout",
     "output_type": "stream",
     "text": [
      "\u001b[2m\u001b[36m(apply_func pid=58232)\u001b[0m \n",
      "\u001b[2m\u001b[36m(apply_list_of_funcs pid=58240)\u001b[0m \n"
     ]
    },
    {
     "name": "stderr",
     "output_type": "stream",
     "text": [
      "\u001b[2m\u001b[36m(apply_func pid=61882)\u001b[0m \n"
     ]
    },
    {
     "name": "stdout",
     "output_type": "stream",
     "text": [
      "\u001b[2m\u001b[36m(apply_func pid=61882)\u001b[0m \n",
      "\u001b[2m\u001b[36m(apply_func pid=58240)\u001b[0m \n",
      "\u001b[2m\u001b[36m(apply_list_of_funcs pid=58233)\u001b[0m \n"
     ]
    },
    {
     "name": "stderr",
     "output_type": "stream",
     "text": [
      "\u001b[2m\u001b[36m(apply_func pid=58232)\u001b[0m \n"
     ]
    },
    {
     "name": "stdout",
     "output_type": "stream",
     "text": [
      "\u001b[2m\u001b[36m(apply_list_of_funcs pid=58240)\u001b[0m \n",
      "\u001b[2m\u001b[36m(apply_list_of_funcs pid=58240)\u001b[0m \n",
      "\u001b[2m\u001b[36m(apply_list_of_funcs pid=58232)\u001b[0m \n",
      "\u001b[2m\u001b[36m(apply_func pid=58235)\u001b[0m \n",
      "\u001b[2m\u001b[36m(apply_list_of_funcs pid=58233)\u001b[0m \n",
      "\u001b[2m\u001b[36m(apply_func pid=58240)\u001b[0m \n",
      "\u001b[2m\u001b[36m(apply_func pid=61881)\u001b[0m \n",
      "\u001b[2m\u001b[36m(apply_list_of_funcs pid=61882)\u001b[0m \n"
     ]
    },
    {
     "name": "stderr",
     "output_type": "stream",
     "text": [
      "\u001b[2m\u001b[36m(apply_func pid=58234)\u001b[0m \n"
     ]
    },
    {
     "name": "stdout",
     "output_type": "stream",
     "text": [
      "\u001b[2m\u001b[36m(apply_list_of_funcs pid=61882)\u001b[0m \n",
      "\u001b[2m\u001b[36m(apply_func pid=58232)\u001b[0m \n"
     ]
    }
   ],
   "source": [
    "stream_df = pd.read_csv(f'{path}/stream.csv')\n",
    "data_to_send = dict()\n",
    "for ts in stream_df['timestamp'].unique():\n",
    "    curr_data = stream_df[stream_df['timestamp'] == ts]\n",
    "    data_to_send[ts] = curr_data"
   ]
  },
  {
   "cell_type": "code",
   "execution_count": 166,
   "id": "2c832ce0",
   "metadata": {},
   "outputs": [
    {
     "data": {
      "text/plain": [
       "[973018024,\n",
       " 973018130,\n",
       " 973018153,\n",
       " 973018637,\n",
       " 973018656,\n",
       " 973018670,\n",
       " 973018687,\n",
       " 973018718,\n",
       " 973018748,\n",
       " 973018836,\n",
       " 973018869,\n",
       " 973018891,\n",
       " 973018907,\n",
       " 973018918,\n",
       " 973018930,\n",
       " 973018940,\n",
       " 973018981,\n",
       " 973018995,\n",
       " 973019010,\n",
       " 973019041,\n",
       " 973019054,\n",
       " 973019072,\n",
       " 973019088,\n",
       " 973019113,\n",
       " 973019123,\n",
       " 973019132,\n",
       " 973019147,\n",
       " 973019153,\n",
       " 973019169,\n",
       " 973019172,\n",
       " 973019190,\n",
       " 973019207,\n",
       " 973019225,\n",
       " 973019272,\n",
       " 973019290,\n",
       " 973019307,\n",
       " 973019319,\n",
       " 973019341,\n",
       " 973019354,\n",
       " 973019423,\n",
       " 973019451,\n",
       " 973019468,\n",
       " 973019491,\n",
       " 973019545,\n",
       " 973019581,\n",
       " 973019603,\n",
       " 973019631,\n",
       " 973019653,\n",
       " 973019677,\n",
       " 973019693,\n",
       " 973019722,\n",
       " 973019748,\n",
       " 973019765,\n",
       " 973019789,\n",
       " 973019816,\n",
       " 973019832,\n",
       " 973019906,\n",
       " 973019978,\n",
       " 973019990,\n",
       " 973020005,\n",
       " 973020017,\n",
       " 973020041,\n",
       " 973021384,\n",
       " 973021399,\n",
       " 973021419,\n",
       " 973021481,\n",
       " 973021498,\n",
       " 973021518,\n",
       " 973021536,\n",
       " 973021540,\n",
       " 973021554,\n",
       " 973021578,\n",
       " 973021594,\n",
       " 973021613,\n",
       " 973021629,\n",
       " 973021632,\n",
       " 973021643,\n",
       " 973021653,\n",
       " 973021662,\n",
       " 973021691,\n",
       " 973021699,\n",
       " 973021720,\n",
       " 973021722,\n",
       " 973021739,\n",
       " 973021745,\n",
       " 973021758,\n",
       " 973021765,\n",
       " 973021771,\n",
       " 973021785,\n",
       " 973021797,\n",
       " 973021815,\n",
       " 973021816,\n",
       " 973021831,\n",
       " 973021853,\n",
       " 973021880,\n",
       " 973021894,\n",
       " 973021908,\n",
       " 973021959,\n",
       " 973021994,\n",
       " 973022014,\n",
       " 973022084,\n",
       " 973022103,\n",
       " 973022119,\n",
       " 973022172,\n",
       " 973022194,\n",
       " 973022206,\n",
       " 973022226,\n",
       " 973022247,\n",
       " 973022279,\n",
       " 973022293,\n",
       " 973022314,\n",
       " 973022337,\n",
       " 973022352,\n",
       " 973022379,\n",
       " 973022395,\n",
       " 973022781,\n",
       " 973022854,\n",
       " 973022898,\n",
       " 973022916,\n",
       " 973022932,\n",
       " 973022997,\n",
       " 973023015,\n",
       " 973023027,\n",
       " 973023042,\n",
       " 973023062,\n",
       " 973023149,\n",
       " 973023168,\n",
       " 973023184,\n",
       " 973023215,\n",
       " 973023230,\n",
       " 973023248,\n",
       " 973026198,\n",
       " 973026311,\n",
       " 973026338,\n",
       " 973026369,\n",
       " 973026536,\n",
       " 973026628,\n",
       " 973026781,\n",
       " 973026819,\n",
       " 973027596,\n",
       " 973027623,\n",
       " 973027703,\n",
       " 973027727,\n",
       " 973027754,\n",
       " 973027776,\n",
       " 973030009,\n",
       " 973030031,\n",
       " 973030052,\n",
       " 973030091,\n",
       " 973030144,\n",
       " 973030192,\n",
       " 973030211,\n",
       " 973030229,\n",
       " 973030246,\n",
       " 973030817,\n",
       " 973030838,\n",
       " 973035798,\n",
       " 973035828,\n",
       " 973035879,\n",
       " 973035996,\n",
       " 973036031,\n",
       " 973036070,\n",
       " 973036132,\n",
       " 973036147,\n",
       " 973036169,\n",
       " 973036618,\n",
       " 973036648,\n",
       " 973036673,\n",
       " 973036692,\n",
       " 973036709,\n",
       " 973036731,\n",
       " 973038082,\n",
       " 973038102,\n",
       " 973038121,\n",
       " 973038144,\n",
       " 973038193,\n",
       " 973038284,\n",
       " 973038314,\n",
       " 973040854,\n",
       " 973040907,\n",
       " 973040973,\n",
       " 973041031,\n",
       " 973041067,\n",
       " 973041909,\n",
       " 973041921,\n",
       " 973041966,\n",
       " 973041971,\n",
       " 973042037,\n",
       " 973042066,\n",
       " 973042096,\n",
       " 973042118,\n",
       " 973042126,\n",
       " 973042154,\n",
       " 973042193,\n",
       " 973042218,\n",
       " 973042235,\n",
       " 973042238,\n",
       " 973042263,\n",
       " 973042274,\n",
       " 973042285,\n",
       " 973042310,\n",
       " 973042316,\n",
       " 973042333,\n",
       " 973042357,\n",
       " 973042394,\n",
       " 973042401,\n",
       " 973042403,\n",
       " 973042419,\n",
       " 973042438,\n",
       " 973042444,\n",
       " 973042476,\n",
       " 973042483,\n",
       " 973042505,\n",
       " 973042520,\n",
       " 973042526,\n",
       " 973042563,\n",
       " 973042584,\n",
       " 973042603,\n",
       " 973042630,\n",
       " 973042650,\n",
       " 973042667,\n",
       " 973042685,\n",
       " 973042710,\n",
       " 973042725,\n",
       " 973042726,\n",
       " 973042746,\n",
       " 973042765,\n",
       " 973042780,\n",
       " 973042800,\n",
       " 973042815,\n",
       " 973042847,\n",
       " 973042848,\n",
       " 973042868,\n",
       " 973042891,\n",
       " 973042935,\n",
       " 973042946,\n",
       " 973042955,\n",
       " 973042998,\n",
       " 973043055,\n",
       " 973043099,\n",
       " 973043211,\n",
       " 973043256,\n",
       " 973043308,\n",
       " 973043763,\n",
       " 973043804,\n",
       " 973043832,\n",
       " 973045476,\n",
       " 973045531,\n",
       " 973045710,\n",
       " 973048256,\n",
       " 973048294,\n",
       " 973048315,\n",
       " 973048329,\n",
       " 973048344,\n",
       " 973048371,\n",
       " 973048391,\n",
       " 973048421,\n",
       " 973048436,\n",
       " 973048461,\n",
       " 973048487,\n",
       " 973048516,\n",
       " 973048539,\n",
       " 973048556,\n",
       " 973048592,\n",
       " 973048632,\n",
       " 973048644,\n",
       " 973048678,\n",
       " 973048738,\n",
       " 973048756,\n",
       " 973048781,\n",
       " 973048822,\n",
       " 973048837,\n",
       " 973048897,\n",
       " 973048916,\n",
       " 973048959,\n",
       " 973048984,\n",
       " 973049054,\n",
       " 973049068,\n",
       " 973049097,\n",
       " 973049114,\n",
       " 973049140,\n",
       " 973049165,\n",
       " 973049178,\n",
       " 973049201,\n",
       " 973049220,\n",
       " 973049297,\n",
       " 973049407,\n",
       " 973049631,\n",
       " 973049665,\n",
       " 973049702,\n",
       " 973049720,\n",
       " 973049739,\n",
       " 973049761,\n",
       " 973049778,\n",
       " 973049793,\n",
       " 973049803,\n",
       " 973049817,\n",
       " 973049838,\n",
       " 973049872,\n",
       " 973049904,\n",
       " 973049920,\n",
       " 973049943,\n",
       " 973049965,\n",
       " 973049980,\n",
       " 973050000,\n",
       " 973050001,\n",
       " 973050022,\n",
       " 973050031,\n",
       " 973050051,\n",
       " 973050066,\n",
       " 973050075,\n",
       " 973050095,\n",
       " 973050108,\n",
       " 973050130,\n",
       " 973050149,\n",
       " 973050164,\n",
       " 973050189,\n",
       " 973050198,\n",
       " 973050220,\n",
       " 973050239,\n",
       " 973050256,\n",
       " 973050285,\n",
       " 973050310,\n",
       " 973050340,\n",
       " 973050376,\n",
       " 973050405,\n",
       " 973050419,\n",
       " 973050452,\n",
       " 973050473,\n",
       " 973050490,\n",
       " 973050518,\n",
       " 973050533,\n",
       " 973050557,\n",
       " 973050571,\n",
       " 973050607,\n",
       " 973050632,\n",
       " 973050645,\n",
       " 973050659,\n",
       " 973050679,\n",
       " 973050698,\n",
       " 973050728,\n",
       " 973050755,\n",
       " 973050779,\n",
       " 973050807,\n",
       " 973050836,\n",
       " 973050837,\n",
       " 973050861,\n",
       " 973050882,\n",
       " 973050906,\n",
       " 973050924,\n",
       " 973050948,\n",
       " 973050974,\n",
       " 973051006,\n",
       " 973051025,\n",
       " 973051062,\n",
       " 973051105,\n",
       " 973051121,\n",
       " 973051264,\n",
       " 973051290,\n",
       " 973051331,\n",
       " 973051349,\n",
       " 973051379,\n",
       " 973051423,\n",
       " 973051447,\n",
       " 973051475,\n",
       " 973051504,\n",
       " 973051562,\n",
       " 973051594,\n",
       " 973051644,\n",
       " 973051720,\n",
       " 973051752,\n",
       " 973051782,\n",
       " 973051783,\n",
       " 973051805,\n",
       " 973051839,\n",
       " 973051863,\n",
       " 973051897,\n",
       " 973051920,\n",
       " 973051944,\n",
       " 973051976,\n",
       " 973052008,\n",
       " 973052030,\n",
       " 973052052,\n",
       " 973052073,\n",
       " 973052109,\n",
       " 973052140,\n",
       " 973052158,\n",
       " 973052198,\n",
       " 973052221,\n",
       " 973052247,\n",
       " 973052269,\n",
       " 973052294,\n",
       " 973052311,\n",
       " 973052340,\n",
       " 973052374,\n",
       " 973052400,\n",
       " 973052429,\n",
       " 973052473,\n",
       " 973052506,\n",
       " 973052535,\n",
       " 973052584,\n",
       " 973052609,\n",
       " 973052629,\n",
       " 973052650,\n",
       " 973052677,\n",
       " 973052714,\n",
       " 973052732,\n",
       " 973052767,\n",
       " 973052777,\n",
       " 973052818,\n",
       " 973052842,\n",
       " 973052849,\n",
       " 973052869,\n",
       " 973052886,\n",
       " 973052904,\n",
       " 973052932,\n",
       " 973052977,\n",
       " 973053011,\n",
       " 973053861,\n",
       " 973053885,\n",
       " 973053905,\n",
       " 973053991,\n",
       " 973054021,\n",
       " 973054032,\n",
       " 973054049,\n",
       " 973054063,\n",
       " 973054092,\n",
       " 973054096,\n",
       " 973054113,\n",
       " 973054126,\n",
       " 973054140,\n",
       " 973054158,\n",
       " 973054171,\n",
       " 973054184,\n",
       " 973054203,\n",
       " 973054279,\n",
       " 973054301,\n",
       " 973054323,\n",
       " 973054328,\n",
       " 973054342,\n",
       " 973054363,\n",
       " 973054380,\n",
       " 973054395,\n",
       " 973054412,\n",
       " 973054414,\n",
       " 973054438,\n",
       " 973054454,\n",
       " 973054477,\n",
       " 973054498,\n",
       " 973054517,\n",
       " 973054522,\n",
       " 973054537,\n",
       " 973054563,\n",
       " 973054578,\n",
       " 973054597,\n",
       " 973054604,\n",
       " 973054634,\n",
       " 973054648,\n",
       " 973054662,\n",
       " 973054679,\n",
       " 973054701,\n",
       " 973054717,\n",
       " 973054731,\n",
       " 973054747,\n",
       " 973054751,\n",
       " 973054764,\n",
       " 973054777,\n",
       " 973054793,\n",
       " 973054811,\n",
       " 973054829,\n",
       " 973054845,\n",
       " 973054848,\n",
       " 973054865,\n",
       " 973054880,\n",
       " 973054892,\n",
       " 973054907,\n",
       " 973054921,\n",
       " 973054937,\n",
       " 973054957,\n",
       " 973054981,\n",
       " 973054997,\n",
       " 973055011,\n",
       " 973055026,\n",
       " 973055041,\n",
       " 973055060,\n",
       " 973055075,\n",
       " 973055090,\n",
       " 973055109,\n",
       " 973055124,\n",
       " 973055138,\n",
       " 973055151,\n",
       " 973055171,\n",
       " 973055184,\n",
       " 973055210,\n",
       " 973055236,\n",
       " 973055249,\n",
       " 973055264,\n",
       " 973055293,\n",
       " 973055307,\n",
       " 973055353,\n",
       " 973055366,\n",
       " 973055381,\n",
       " 973055396,\n",
       " 973055424,\n",
       " 973055469,\n",
       " 973055521,\n",
       " 973055556,\n",
       " 973055571,\n",
       " 973055585,\n",
       " 973055600,\n",
       " 973055616,\n",
       " 973055633,\n",
       " 973055654,\n",
       " 973055669,\n",
       " 973055674,\n",
       " 973055701,\n",
       " 973055716,\n",
       " 973055733,\n",
       " 973055747,\n",
       " 973055762,\n",
       " 973055779,\n",
       " 973055792,\n",
       " 973055805,\n",
       " 973055825,\n",
       " 973055859,\n",
       " 973055872,\n",
       " 973055885,\n",
       " 973055907,\n",
       " 973055923,\n",
       " 973055938,\n",
       " 973055954,\n",
       " 973055968,\n",
       " 973055986,\n",
       " 973055987,\n",
       " 973056010,\n",
       " 973056029,\n",
       " 973056043,\n",
       " 973056057,\n",
       " 973056070,\n",
       " 973056083,\n",
       " 973056095,\n",
       " 973056107,\n",
       " 973056122,\n",
       " 973056147,\n",
       " 973056176,\n",
       " 973056205,\n",
       " 973056206,\n",
       " 973056221,\n",
       " 973056235,\n",
       " 973056294,\n",
       " 973056326,\n",
       " 973056341,\n",
       " 973056391,\n",
       " 973056407,\n",
       " 973056422,\n",
       " 973056435,\n",
       " 973056447,\n",
       " 973056461,\n",
       " 973056474,\n",
       " 973056486,\n",
       " 973056510,\n",
       " 973056524,\n",
       " 973056539,\n",
       " 973056556,\n",
       " 973056570,\n",
       " 973056584,\n",
       " 973056597,\n",
       " 973056610,\n",
       " 973056620,\n",
       " 973056652,\n",
       " 973056669,\n",
       " 973056688,\n",
       " 973056705,\n",
       " 973056723,\n",
       " 973056781,\n",
       " 973056795,\n",
       " 973056844,\n",
       " 973056858,\n",
       " 973058354,\n",
       " 973058410,\n",
       " 973058462,\n",
       " 973060882,\n",
       " 973060918,\n",
       " 973062778,\n",
       " 973062797,\n",
       " 973062928,\n",
       " 973062942,\n",
       " 973063003,\n",
       " 973063023,\n",
       " 973063043,\n",
       " 973063068,\n",
       " 973063114,\n",
       " 973063129,\n",
       " 973063162,\n",
       " 973063180,\n",
       " 973063205,\n",
       " 973063226,\n",
       " 973063242,\n",
       " 973063269,\n",
       " 973063287,\n",
       " 973063301,\n",
       " 973063314,\n",
       " 973063335,\n",
       " 973063364,\n",
       " 973063386,\n",
       " 973063433,\n",
       " 973063452,\n",
       " 973063468,\n",
       " 973063511,\n",
       " 973063531,\n",
       " 973063561,\n",
       " 973063584,\n",
       " 973063612,\n",
       " 973063628,\n",
       " 973063642,\n",
       " 973063663,\n",
       " 973063677,\n",
       " 973063694,\n",
       " 973063709,\n",
       " 973063730,\n",
       " 973063747,\n",
       " 973063764,\n",
       " 973063792,\n",
       " 973063809,\n",
       " 973063824,\n",
       " 973063840,\n",
       " 973063857,\n",
       " 973063873,\n",
       " 973063898,\n",
       " 973063915,\n",
       " 973063932,\n",
       " 973063948,\n",
       " 973063966,\n",
       " 973063992,\n",
       " 973064115,\n",
       " 973064139,\n",
       " 973064153,\n",
       " 973064165,\n",
       " 973064179,\n",
       " 973064213,\n",
       " 973064234,\n",
       " 973064250,\n",
       " 973064269,\n",
       " 973064287,\n",
       " 973064379,\n",
       " 973064395,\n",
       " 973069928,\n",
       " 973069946,\n",
       " 973070025,\n",
       " 973070063,\n",
       " 973070131,\n",
       " 973070161,\n",
       " 973070175,\n",
       " 973070265,\n",
       " 973070280,\n",
       " 973070298,\n",
       " 973070310,\n",
       " 973070327,\n",
       " 973070355,\n",
       " 973070370,\n",
       " 973070384,\n",
       " 973070398,\n",
       " 973070399,\n",
       " 973070411,\n",
       " 973070426,\n",
       " 973070439,\n",
       " 973070454,\n",
       " 973070469,\n",
       " 973070482,\n",
       " 973070493,\n",
       " 973070506,\n",
       " 973070521,\n",
       " 973070533,\n",
       " 973070545,\n",
       " 973070563,\n",
       " 973070583,\n",
       " 973070599,\n",
       " 973070612,\n",
       " 973070626,\n",
       " 973070672,\n",
       " 973070685,\n",
       " 973070735,\n",
       " 973085305,\n",
       " 973089286,\n",
       " 973091375,\n",
       " 973094027,\n",
       " 973094054,\n",
       " 973094085,\n",
       " 973094119,\n",
       " 973094273,\n",
       " 973094321,\n",
       " 973094357,\n",
       " 973094471,\n",
       " 973094505,\n",
       " 973094548,\n",
       " 973094580,\n",
       " 973094600,\n",
       " 973094617,\n",
       " 973094652,\n",
       " 973094676,\n",
       " 973094694,\n",
       " 973096634,\n",
       " 973096648,\n",
       " 973096660,\n",
       " 973096674,\n",
       " 973096727,\n",
       " 973096761,\n",
       " 973096778,\n",
       " 973096796,\n",
       " 973096819,\n",
       " 973096834,\n",
       " 973096852,\n",
       " 973096880,\n",
       " 973096921,\n",
       " 973096936,\n",
       " 973096947,\n",
       " 973096982,\n",
       " 973096994,\n",
       " 973097006,\n",
       " 973097019,\n",
       " 973097032,\n",
       " 973097053,\n",
       " 973097071,\n",
       " 973097091,\n",
       " 973097103,\n",
       " 973097117,\n",
       " 973097133,\n",
       " 973097143,\n",
       " 973097159,\n",
       " 973097173,\n",
       " 973097186,\n",
       " 973097213,\n",
       " 973097228,\n",
       " 973097238,\n",
       " 973097254,\n",
       " 973097265,\n",
       " 973097276,\n",
       " 973097303,\n",
       " 973097316,\n",
       " 973097330,\n",
       " 973097340,\n",
       " 973097353,\n",
       " 973097469,\n",
       " 973097496,\n",
       " 973097535,\n",
       " 973097558,\n",
       " 973097575,\n",
       " 973097594,\n",
       " 973097615,\n",
       " 973097639,\n",
       " 973097665,\n",
       " 973097684,\n",
       " 973097707,\n",
       " 973097733,\n",
       " 973097766,\n",
       " 973097804,\n",
       " 973097828,\n",
       " 973097847,\n",
       " 973097878,\n",
       " 973097894,\n",
       " 973097913,\n",
       " 973097938,\n",
       " 973097953,\n",
       " 973097974,\n",
       " 973097997,\n",
       " 973098018,\n",
       " 973098055,\n",
       " 973098078,\n",
       " 973098102,\n",
       " 973098122,\n",
       " 973098146,\n",
       " 973098176,\n",
       " 973098208,\n",
       " 973098227,\n",
       " 973098250,\n",
       " 973098313,\n",
       " 973098336,\n",
       " 973098355,\n",
       " 973098386,\n",
       " 973098403,\n",
       " 973098419,\n",
       " 973098439,\n",
       " 973098464,\n",
       " 973098486,\n",
       " 973098509,\n",
       " 973098547,\n",
       " 973098573,\n",
       " 973098613,\n",
       " 973098638,\n",
       " 973098671,\n",
       " 973098715,\n",
       " 973098751,\n",
       " 973098772,\n",
       " 973098852,\n",
       " 973098874,\n",
       " 973098890,\n",
       " 973098909,\n",
       " 973098928,\n",
       " 973098944,\n",
       " 973098967,\n",
       " 973098985,\n",
       " 973099002,\n",
       " 973099028,\n",
       " 973099056,\n",
       " 973099076,\n",
       " 973099103,\n",
       " 973099140,\n",
       " 973099179,\n",
       " 973101571,\n",
       " 973101616,\n",
       " 973101635,\n",
       " 973101666,\n",
       " 973101679,\n",
       " 973101702,\n",
       " 973101720,\n",
       " 973101738,\n",
       " 973101758,\n",
       " 973101770,\n",
       " 973101786,\n",
       " 973101787,\n",
       " 973101797,\n",
       " 973101809,\n",
       " 973101825,\n",
       " 973101849,\n",
       " 973101922,\n",
       " 973104129,\n",
       " 973104146,\n",
       " 973104158,\n",
       " 973104172,\n",
       " 973104194,\n",
       " 973104208,\n",
       " 973104227,\n",
       " 973104248,\n",
       " 973104262,\n",
       " 973104279,\n",
       " 973104297,\n",
       " 973104351,\n",
       " 973104380,\n",
       " 973104413,\n",
       " 973104433,\n",
       " 973104441,\n",
       " 973104451,\n",
       " 973104466,\n",
       " 973104515,\n",
       " 973104532,\n",
       " 973104567,\n",
       " 973104575,\n",
       " 973104587,\n",
       " 973104603,\n",
       " 973104623,\n",
       " 973104648,\n",
       " 973104653,\n",
       " 973104654,\n",
       " 973104700,\n",
       " 973104730,\n",
       " 973104756,\n",
       " 973104797,\n",
       " 973104815,\n",
       " 973104833,\n",
       " 973104852,\n",
       " 973104873,\n",
       " 973104887,\n",
       " 973104908,\n",
       " 973104942,\n",
       " 973104967,\n",
       " 973105009,\n",
       " 973105030,\n",
       " 973107493,\n",
       " 973107696,\n",
       " 973107728,\n",
       " 973107782,\n",
       " 973107830,\n",
       " 973107871,\n",
       " 973107894,\n",
       " 973107926,\n",
       " 973107966,\n",
       " 973107987,\n",
       " 973108005,\n",
       " 973108029,\n",
       " 973108073,\n",
       " 973108115,\n",
       " 973108131,\n",
       " 973108236,\n",
       " 973108768,\n",
       " 973109084,\n",
       " 973116102,\n",
       " 973116115,\n",
       " 973116202,\n",
       " 973116221,\n",
       " 973116285,\n",
       " 973116318,\n",
       " 973116334,\n",
       " 973116358,\n",
       " 973116387,\n",
       " 973116463,\n",
       " 973116555,\n",
       " 973116569,\n",
       " 973116606,\n",
       " 973116629,\n",
       " 973116675,\n",
       " 973116689,\n",
       " 973116711,\n",
       " 973116726,\n",
       " 973116765,\n",
       " 973116785,\n",
       " 973116810,\n",
       " 973116828,\n",
       " 973116841,\n",
       " 973116854,\n",
       " 973116879,\n",
       " 973116912,\n",
       " 973116933,\n",
       " 973116953,\n",
       " 973116964,\n",
       " 973116967,\n",
       " 973116980,\n",
       " 973116989,\n",
       " 973116995,\n",
       " 973117010,\n",
       " 973117027,\n",
       " 973117043,\n",
       " 973117055,\n",
       " 973117067,\n",
       " 973117087,\n",
       " 973117098,\n",
       " 973117108,\n",
       " 973117114,\n",
       " 973117127,\n",
       " 973117144,\n",
       " 973117151,\n",
       " 973117165,\n",
       " 973117172,\n",
       " 973117183,\n",
       " 973117193,\n",
       " 973117209,\n",
       " 973117223,\n",
       " 973117240,\n",
       " 973117255,\n",
       " 973117268,\n",
       " 973117283,\n",
       " 973117290,\n",
       " 973117299,\n",
       " 973117315,\n",
       " 973117327,\n",
       " 973117356,\n",
       " 973117371,\n",
       " 973117377,\n",
       " 973117387,\n",
       " 973117407,\n",
       " 973117416,\n",
       " 973117421,\n",
       " 973117432,\n",
       " 973117440,\n",
       " 973117443,\n",
       " 973117454,\n",
       " 973117465,\n",
       " 973117479,\n",
       " 973117489,\n",
       " 973117500,\n",
       " 973117515,\n",
       " 973117518,\n",
       " 973117529,\n",
       " 973117541,\n",
       " 973117571,\n",
       " 973117575,\n",
       " 973117587,\n",
       " 973117612,\n",
       " 973122108,\n",
       " 973122155,\n",
       " 973122229,\n",
       " 973122238,\n",
       " 973122265,\n",
       " 973122316,\n",
       " 973122342,\n",
       " 973123104,\n",
       " 973123140,\n",
       " 973123203,\n",
       " 973123223,\n",
       " 973123246,\n",
       " 973123265,\n",
       " 973123273,\n",
       " 973123301,\n",
       " 973123325,\n",
       " 973123331,\n",
       " 973123348,\n",
       " 973123379,\n",
       " 973123396,\n",
       " 973123423,\n",
       " 973123426,\n",
       " 973123443,\n",
       " 973123445,\n",
       " 973123456,\n",
       " 973123465,\n",
       " 973123476,\n",
       " 973123483,\n",
       " 973123495,\n",
       " 973123501,\n",
       " 973123517,\n",
       " 973123527,\n",
       " 973123537,\n",
       " ...]"
      ]
     },
     "execution_count": 166,
     "metadata": {},
     "output_type": "execute_result"
    }
   ],
   "source": [
    "sorted(list(data_to_send.keys()))"
   ]
  },
  {
   "cell_type": "code",
   "execution_count": 167,
   "id": "266a11cd",
   "metadata": {},
   "outputs": [
    {
     "data": {
      "text/plain": [
       "user_id              1\n",
       "movie_id             1\n",
       "rating               1\n",
       "timestamp    973018024\n",
       "dtype: int64"
      ]
     },
     "execution_count": 167,
     "metadata": {},
     "output_type": "execute_result"
    }
   ],
   "source": [
    "stream_df.min()"
   ]
  },
  {
   "cell_type": "code",
   "execution_count": 239,
   "id": "89973789",
   "metadata": {},
   "outputs": [],
   "source": [
    "def simulate(scheduler, updater, stream, df, update_cadence, num_update):\n",
    "    ts = df['timestamp'].min()\n",
    "    end_ts = df['timestamp'].max()\n",
    "    \n",
    "    predictions = []\n",
    "    next_feature_update_time = ts + update_cadence\n",
    "    num_updates = 0\n",
    "    num_processed = 0\n",
    "    \n",
    "    while ts <= end_ts:\n",
    "        if ts in stream:\n",
    "            curr_data = stream[ts]\n",
    "            for row in curr_data.itertuples():\n",
    "                scheduler.push(row)\n",
    "                predictions.append(updater.predict(row))\n",
    "            num_processed += len(curr_data)\n",
    "        if ts >= next_feature_update_time:\n",
    "            # how many records to process\n",
    "            rows = []\n",
    "            for i in range(num_update):\n",
    "                row = scheduler.pop()\n",
    "                if row:\n",
    "                    rows.append(row)\n",
    "            updater.update(rows)\n",
    "            num_updates += len(rows)\n",
    "            next_feature_update_time += update_cadence\n",
    "        ts += 1\n",
    "    return predictions"
   ]
  },
  {
   "cell_type": "code",
   "execution_count": 255,
   "id": "bca17449",
   "metadata": {},
   "outputs": [],
   "source": [
    "def run_simulations(scheduler_list, updater_list, stream, df, update_cadences, num_updates):\n",
    "    experiments = []\n",
    "    for scheduler in scheduler_list:\n",
    "        for updater in updater_list:\n",
    "            print(\"Scheduler\")\n",
    "            for update_cadence in update_cadences:\n",
    "                for num_update in num_updates:\n",
    "                    experiment_name = f'{scheduler.name}_{updater.name}_{update_cadence}_{num_update}_predictions'\n",
    "                    start = time.time()\n",
    "                    predictions = simulate(scheduler, updater, stream, df, update_cadence, num_update)\n",
    "                    elapsed = time.time() - start\n",
    "                    stream[experiment_name] = predictions\n",
    "                    mse = mean_squared_error(stream['rating'], stream[experiment_name])\n",
    "                    experiments.append([experiment_name, elapsed, mse])\n",
    "    return stream, experiments"
   ]
  },
  {
   "cell_type": "code",
   "execution_count": 113,
   "id": "91df2a83",
   "metadata": {
    "scrolled": true
   },
   "outputs": [],
   "source": [
    "train_df = spark_df.toPandas()"
   ]
  },
  {
   "cell_type": "code",
   "execution_count": 119,
   "id": "235a9ac6",
   "metadata": {},
   "outputs": [
    {
     "data": {
      "text/plain": [
       "(6041, 3953)"
      ]
     },
     "execution_count": 119,
     "metadata": {},
     "output_type": "execute_result"
    }
   ],
   "source": [
    "max_user = train_df.max()[0]\n",
    "if stream_df.max()[0] > max_user:\n",
    "    max_user = stream_df.max()[0]\n",
    "max_user += 1\n",
    "\n",
    "max_movie = train_df.max()[1]\n",
    "if stream_df.max()[1] > max_movie:\n",
    "    max_movie = stream_df.max()[1]\n",
    "max_movie += 1\n",
    "\n",
    "max_user, max_movie"
   ]
  },
  {
   "cell_type": "code",
   "execution_count": 121,
   "id": "0c72734c",
   "metadata": {},
   "outputs": [
    {
     "data": {
      "text/plain": [
       "(user_id            6040\n",
       " movie_id           3952\n",
       " rating                5\n",
       " timestamp    1046454590\n",
       " dtype: int64,\n",
       " user_id     6040\n",
       " movie_id    3952\n",
       " rating         5\n",
       " dtype: int32)"
      ]
     },
     "execution_count": 121,
     "metadata": {},
     "output_type": "execute_result"
    }
   ],
   "source": [
    "stream_df.max(), train_df.max()"
   ]
  },
  {
   "cell_type": "code",
   "execution_count": 264,
   "id": "abff18af",
   "metadata": {},
   "outputs": [],
   "source": [
    "def construct_matrices(df, max_user, max_movie):\n",
    "    confidence_matrix = np.zeros((max_user, max_movie))\n",
    "    ratings_matrix = np.copy(confidence_matrix)\n",
    "    for row in df.itertuples():\n",
    "        confidence_matrix[row.user_id][row.movie_id] = 1\n",
    "        ratings_matrix[row.user_id][row.movie_id] = row.rating\n",
    "    return ratings_matrix, confidence_matrix\n",
    "    \n",
    "rating_matrix, confidence_matrix = construct_matrices(train_df, max_user, max_movie)"
   ]
  },
  {
   "cell_type": "code",
   "execution_count": 288,
   "id": "11c779f8",
   "metadata": {},
   "outputs": [],
   "source": [
    "scheduler_list = [MaxPendingScheduler(), FewestUpdateScheduler(), FIFOScheduler()]\n",
    "sgd_updater = SGDUpdater(user_features, product_features, .02, .01, .01)\n",
    "als_updater = ALSUpdater(user_features, product_features, rating_matrix, confidence_matrix, max_user, max_movie, 0, 0)\n",
    "updater_list = [als_updater, sgd_updater]"
   ]
  },
  {
   "cell_type": "code",
   "execution_count": 289,
   "id": "22dce1b3",
   "metadata": {},
   "outputs": [
    {
     "name": "stdout",
     "output_type": "stream",
     "text": [
      "Scheduler\n",
      "(50, 3953) (3953,) (50, 50) (50,)\n"
     ]
    },
    {
     "ename": "LinAlgError",
     "evalue": "Singular matrix",
     "output_type": "error",
     "traceback": [
      "\u001b[0;31m---------------------------------------------------------------------------\u001b[0m",
      "\u001b[0;31mLinAlgError\u001b[0m                               Traceback (most recent call last)",
      "\u001b[0;32m/var/folders/p5/zwk89rgd0cdf07_7k1wdqjgw0000gn/T/ipykernel_58214/200651930.py\u001b[0m in \u001b[0;36m<module>\u001b[0;34m\u001b[0m\n\u001b[0;32m----> 1\u001b[0;31m \u001b[0mstream_prediction_df\u001b[0m\u001b[0;34m,\u001b[0m \u001b[0mexperiments\u001b[0m \u001b[0;34m=\u001b[0m \u001b[0mrun_simulations\u001b[0m\u001b[0;34m(\u001b[0m\u001b[0mscheduler_list\u001b[0m\u001b[0;34m,\u001b[0m \u001b[0mupdater_list\u001b[0m\u001b[0;34m,\u001b[0m \u001b[0mdata_to_send\u001b[0m\u001b[0;34m,\u001b[0m \u001b[0mstream_df\u001b[0m\u001b[0;34m,\u001b[0m \u001b[0;34m[\u001b[0m\u001b[0;36m1000\u001b[0m\u001b[0;34m]\u001b[0m\u001b[0;34m,\u001b[0m \u001b[0;34m[\u001b[0m\u001b[0;36m1\u001b[0m\u001b[0;34m]\u001b[0m\u001b[0;34m)\u001b[0m\u001b[0;34m\u001b[0m\u001b[0;34m\u001b[0m\u001b[0m\n\u001b[0m",
      "\u001b[0;32m/var/folders/p5/zwk89rgd0cdf07_7k1wdqjgw0000gn/T/ipykernel_58214/1663944996.py\u001b[0m in \u001b[0;36mrun_simulations\u001b[0;34m(scheduler_list, updater_list, stream, df, update_cadences, num_updates)\u001b[0m\n\u001b[1;32m      8\u001b[0m                     \u001b[0mexperiment_name\u001b[0m \u001b[0;34m=\u001b[0m \u001b[0;34mf'{scheduler.name}_{updater.name}_{update_cadence}_{num_update}_predictions'\u001b[0m\u001b[0;34m\u001b[0m\u001b[0;34m\u001b[0m\u001b[0m\n\u001b[1;32m      9\u001b[0m                     \u001b[0mstart\u001b[0m \u001b[0;34m=\u001b[0m \u001b[0mtime\u001b[0m\u001b[0;34m.\u001b[0m\u001b[0mtime\u001b[0m\u001b[0;34m(\u001b[0m\u001b[0;34m)\u001b[0m\u001b[0;34m\u001b[0m\u001b[0;34m\u001b[0m\u001b[0m\n\u001b[0;32m---> 10\u001b[0;31m                     \u001b[0mpredictions\u001b[0m \u001b[0;34m=\u001b[0m \u001b[0msimulate\u001b[0m\u001b[0;34m(\u001b[0m\u001b[0mscheduler\u001b[0m\u001b[0;34m,\u001b[0m \u001b[0mupdater\u001b[0m\u001b[0;34m,\u001b[0m \u001b[0mstream\u001b[0m\u001b[0;34m,\u001b[0m \u001b[0mdf\u001b[0m\u001b[0;34m,\u001b[0m \u001b[0mupdate_cadence\u001b[0m\u001b[0;34m,\u001b[0m \u001b[0mnum_update\u001b[0m\u001b[0;34m)\u001b[0m\u001b[0;34m\u001b[0m\u001b[0;34m\u001b[0m\u001b[0m\n\u001b[0m\u001b[1;32m     11\u001b[0m                     \u001b[0melapsed\u001b[0m \u001b[0;34m=\u001b[0m \u001b[0mtime\u001b[0m\u001b[0;34m.\u001b[0m\u001b[0mtime\u001b[0m\u001b[0;34m(\u001b[0m\u001b[0;34m)\u001b[0m \u001b[0;34m-\u001b[0m \u001b[0mstart\u001b[0m\u001b[0;34m\u001b[0m\u001b[0;34m\u001b[0m\u001b[0m\n\u001b[1;32m     12\u001b[0m                     \u001b[0mstream\u001b[0m\u001b[0;34m[\u001b[0m\u001b[0mexperiment_name\u001b[0m\u001b[0;34m]\u001b[0m \u001b[0;34m=\u001b[0m \u001b[0mpredictions\u001b[0m\u001b[0;34m\u001b[0m\u001b[0;34m\u001b[0m\u001b[0m\n",
      "\u001b[0;32m/var/folders/p5/zwk89rgd0cdf07_7k1wdqjgw0000gn/T/ipykernel_58214/1240153808.py\u001b[0m in \u001b[0;36msimulate\u001b[0;34m(scheduler, updater, stream, df, update_cadence, num_update)\u001b[0m\n\u001b[1;32m     22\u001b[0m                 \u001b[0;32mif\u001b[0m \u001b[0mrow\u001b[0m\u001b[0;34m:\u001b[0m\u001b[0;34m\u001b[0m\u001b[0;34m\u001b[0m\u001b[0m\n\u001b[1;32m     23\u001b[0m                     \u001b[0mrows\u001b[0m\u001b[0;34m.\u001b[0m\u001b[0mappend\u001b[0m\u001b[0;34m(\u001b[0m\u001b[0mrow\u001b[0m\u001b[0;34m)\u001b[0m\u001b[0;34m\u001b[0m\u001b[0;34m\u001b[0m\u001b[0m\n\u001b[0;32m---> 24\u001b[0;31m             \u001b[0mupdater\u001b[0m\u001b[0;34m.\u001b[0m\u001b[0mupdate\u001b[0m\u001b[0;34m(\u001b[0m\u001b[0mrows\u001b[0m\u001b[0;34m)\u001b[0m\u001b[0;34m\u001b[0m\u001b[0;34m\u001b[0m\u001b[0m\n\u001b[0m\u001b[1;32m     25\u001b[0m             \u001b[0mnum_updates\u001b[0m \u001b[0;34m+=\u001b[0m \u001b[0mlen\u001b[0m\u001b[0;34m(\u001b[0m\u001b[0mrows\u001b[0m\u001b[0;34m)\u001b[0m\u001b[0;34m\u001b[0m\u001b[0;34m\u001b[0m\u001b[0m\n\u001b[1;32m     26\u001b[0m             \u001b[0mnext_feature_update_time\u001b[0m \u001b[0;34m+=\u001b[0m \u001b[0mupdate_cadence\u001b[0m\u001b[0;34m\u001b[0m\u001b[0;34m\u001b[0m\u001b[0m\n",
      "\u001b[0;32m/var/folders/p5/zwk89rgd0cdf07_7k1wdqjgw0000gn/T/ipykernel_58214/883530486.py\u001b[0m in \u001b[0;36mupdate\u001b[0;34m(self, rows)\u001b[0m\n\u001b[1;32m     27\u001b[0m             \u001b[0mright\u001b[0m \u001b[0;34m=\u001b[0m \u001b[0mnp\u001b[0m\u001b[0;34m.\u001b[0m\u001b[0mdot\u001b[0m\u001b[0;34m(\u001b[0m\u001b[0mself\u001b[0m\u001b[0;34m.\u001b[0m\u001b[0mmovie_matrix\u001b[0m\u001b[0;34m.\u001b[0m\u001b[0mT\u001b[0m\u001b[0;34m,\u001b[0m \u001b[0mnp\u001b[0m\u001b[0;34m.\u001b[0m\u001b[0mdot\u001b[0m\u001b[0;34m(\u001b[0m\u001b[0mnp\u001b[0m\u001b[0;34m.\u001b[0m\u001b[0mdiag\u001b[0m\u001b[0;34m(\u001b[0m\u001b[0muser_confidence_row\u001b[0m\u001b[0;34m)\u001b[0m\u001b[0;34m,\u001b[0m \u001b[0mself\u001b[0m\u001b[0;34m.\u001b[0m\u001b[0mrating_matrix\u001b[0m\u001b[0;34m[\u001b[0m\u001b[0muser_id\u001b[0m\u001b[0;34m]\u001b[0m\u001b[0;34m.\u001b[0m\u001b[0mT\u001b[0m\u001b[0;34m)\u001b[0m\u001b[0;34m)\u001b[0m\u001b[0;34m\u001b[0m\u001b[0;34m\u001b[0m\u001b[0m\n\u001b[1;32m     28\u001b[0m             \u001b[0mprint\u001b[0m\u001b[0;34m(\u001b[0m\u001b[0mself\u001b[0m\u001b[0;34m.\u001b[0m\u001b[0mmovie_matrix\u001b[0m\u001b[0;34m.\u001b[0m\u001b[0mT\u001b[0m\u001b[0;34m.\u001b[0m\u001b[0mshape\u001b[0m\u001b[0;34m,\u001b[0m \u001b[0mnp\u001b[0m\u001b[0;34m.\u001b[0m\u001b[0mdot\u001b[0m\u001b[0;34m(\u001b[0m\u001b[0mnp\u001b[0m\u001b[0;34m.\u001b[0m\u001b[0mdiag\u001b[0m\u001b[0;34m(\u001b[0m\u001b[0muser_confidence_row\u001b[0m\u001b[0;34m)\u001b[0m\u001b[0;34m,\u001b[0m \u001b[0mself\u001b[0m\u001b[0;34m.\u001b[0m\u001b[0mrating_matrix\u001b[0m\u001b[0;34m[\u001b[0m\u001b[0muser_id\u001b[0m\u001b[0;34m]\u001b[0m\u001b[0;34m.\u001b[0m\u001b[0mT\u001b[0m\u001b[0;34m)\u001b[0m\u001b[0;34m.\u001b[0m\u001b[0mshape\u001b[0m\u001b[0;34m,\u001b[0m \u001b[0mleft\u001b[0m\u001b[0;34m.\u001b[0m\u001b[0mshape\u001b[0m\u001b[0;34m,\u001b[0m \u001b[0mright\u001b[0m\u001b[0;34m.\u001b[0m\u001b[0mshape\u001b[0m\u001b[0;34m)\u001b[0m\u001b[0;34m\u001b[0m\u001b[0;34m\u001b[0m\u001b[0m\n\u001b[0;32m---> 29\u001b[0;31m             self.user_matrix[user_id] = np.linalg.solve(\n\u001b[0m\u001b[1;32m     30\u001b[0m                     \u001b[0mleft\u001b[0m\u001b[0;34m,\u001b[0m\u001b[0;34m\u001b[0m\u001b[0;34m\u001b[0m\u001b[0m\n\u001b[1;32m     31\u001b[0m                     \u001b[0mright\u001b[0m\u001b[0;34m\u001b[0m\u001b[0;34m\u001b[0m\u001b[0m\n",
      "\u001b[0;32m/opt/homebrew/Caskroom/miniconda/base/envs/myenv/lib/python3.8/site-packages/numpy/core/overrides.py\u001b[0m in \u001b[0;36msolve\u001b[0;34m(*args, **kwargs)\u001b[0m\n",
      "\u001b[0;32m/opt/homebrew/Caskroom/miniconda/base/envs/myenv/lib/python3.8/site-packages/numpy/linalg/linalg.py\u001b[0m in \u001b[0;36msolve\u001b[0;34m(a, b)\u001b[0m\n\u001b[1;32m    391\u001b[0m     \u001b[0msignature\u001b[0m \u001b[0;34m=\u001b[0m \u001b[0;34m'DD->D'\u001b[0m \u001b[0;32mif\u001b[0m \u001b[0misComplexType\u001b[0m\u001b[0;34m(\u001b[0m\u001b[0mt\u001b[0m\u001b[0;34m)\u001b[0m \u001b[0;32melse\u001b[0m \u001b[0;34m'dd->d'\u001b[0m\u001b[0;34m\u001b[0m\u001b[0;34m\u001b[0m\u001b[0m\n\u001b[1;32m    392\u001b[0m     \u001b[0mextobj\u001b[0m \u001b[0;34m=\u001b[0m \u001b[0mget_linalg_error_extobj\u001b[0m\u001b[0;34m(\u001b[0m\u001b[0m_raise_linalgerror_singular\u001b[0m\u001b[0;34m)\u001b[0m\u001b[0;34m\u001b[0m\u001b[0;34m\u001b[0m\u001b[0m\n\u001b[0;32m--> 393\u001b[0;31m     \u001b[0mr\u001b[0m \u001b[0;34m=\u001b[0m \u001b[0mgufunc\u001b[0m\u001b[0;34m(\u001b[0m\u001b[0ma\u001b[0m\u001b[0;34m,\u001b[0m \u001b[0mb\u001b[0m\u001b[0;34m,\u001b[0m \u001b[0msignature\u001b[0m\u001b[0;34m=\u001b[0m\u001b[0msignature\u001b[0m\u001b[0;34m,\u001b[0m \u001b[0mextobj\u001b[0m\u001b[0;34m=\u001b[0m\u001b[0mextobj\u001b[0m\u001b[0;34m)\u001b[0m\u001b[0;34m\u001b[0m\u001b[0;34m\u001b[0m\u001b[0m\n\u001b[0m\u001b[1;32m    394\u001b[0m \u001b[0;34m\u001b[0m\u001b[0m\n\u001b[1;32m    395\u001b[0m     \u001b[0;32mreturn\u001b[0m \u001b[0mwrap\u001b[0m\u001b[0;34m(\u001b[0m\u001b[0mr\u001b[0m\u001b[0;34m.\u001b[0m\u001b[0mastype\u001b[0m\u001b[0;34m(\u001b[0m\u001b[0mresult_t\u001b[0m\u001b[0;34m,\u001b[0m \u001b[0mcopy\u001b[0m\u001b[0;34m=\u001b[0m\u001b[0;32mFalse\u001b[0m\u001b[0;34m)\u001b[0m\u001b[0;34m)\u001b[0m\u001b[0;34m\u001b[0m\u001b[0;34m\u001b[0m\u001b[0m\n",
      "\u001b[0;32m/opt/homebrew/Caskroom/miniconda/base/envs/myenv/lib/python3.8/site-packages/numpy/linalg/linalg.py\u001b[0m in \u001b[0;36m_raise_linalgerror_singular\u001b[0;34m(err, flag)\u001b[0m\n\u001b[1;32m     86\u001b[0m \u001b[0;34m\u001b[0m\u001b[0m\n\u001b[1;32m     87\u001b[0m \u001b[0;32mdef\u001b[0m \u001b[0m_raise_linalgerror_singular\u001b[0m\u001b[0;34m(\u001b[0m\u001b[0merr\u001b[0m\u001b[0;34m,\u001b[0m \u001b[0mflag\u001b[0m\u001b[0;34m)\u001b[0m\u001b[0;34m:\u001b[0m\u001b[0;34m\u001b[0m\u001b[0;34m\u001b[0m\u001b[0m\n\u001b[0;32m---> 88\u001b[0;31m     \u001b[0;32mraise\u001b[0m \u001b[0mLinAlgError\u001b[0m\u001b[0;34m(\u001b[0m\u001b[0;34m\"Singular matrix\"\u001b[0m\u001b[0;34m)\u001b[0m\u001b[0;34m\u001b[0m\u001b[0;34m\u001b[0m\u001b[0m\n\u001b[0m\u001b[1;32m     89\u001b[0m \u001b[0;34m\u001b[0m\u001b[0m\n\u001b[1;32m     90\u001b[0m \u001b[0;32mdef\u001b[0m \u001b[0m_raise_linalgerror_nonposdef\u001b[0m\u001b[0;34m(\u001b[0m\u001b[0merr\u001b[0m\u001b[0;34m,\u001b[0m \u001b[0mflag\u001b[0m\u001b[0;34m)\u001b[0m\u001b[0;34m:\u001b[0m\u001b[0;34m\u001b[0m\u001b[0;34m\u001b[0m\u001b[0m\n",
      "\u001b[0;31mLinAlgError\u001b[0m: Singular matrix"
     ]
    }
   ],
   "source": [
    "stream_prediction_df, experiments = run_simulations(scheduler_list, updater_list, data_to_send, stream_df, [1000], [1])"
   ]
  },
  {
   "cell_type": "code",
   "execution_count": null,
   "id": "287bceec",
   "metadata": {},
   "outputs": [],
   "source": []
  }
 ],
 "metadata": {
  "kernelspec": {
   "display_name": "Python 3 (ipykernel)",
   "language": "python",
   "name": "python3"
  },
  "language_info": {
   "codemirror_mode": {
    "name": "ipython",
    "version": 3
   },
   "file_extension": ".py",
   "mimetype": "text/x-python",
   "name": "python",
   "nbconvert_exporter": "python",
   "pygments_lexer": "ipython3",
   "version": "3.8.12"
  }
 },
 "nbformat": 4,
 "nbformat_minor": 5
}
