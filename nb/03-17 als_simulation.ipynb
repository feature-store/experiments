{
 "cells": [
  {
   "cell_type": "code",
   "execution_count": 2,
   "id": "8b25a596",
   "metadata": {},
   "outputs": [],
   "source": [
    "import modin.pandas as pd\n",
    "from pyspark.sql import SparkSession\n",
    "from pyspark.ml.evaluation import RegressionEvaluator\n",
    "from pyspark.mllib.recommendation import ALS as newALS\n",
    "from sklearn.metrics import mean_squared_error\n",
    "from pyspark.sql.functions import *\n",
    "from pyspark.sql.types import *\n",
    "import numpy as np\n",
    "from sortedcontainers import SortedList, SortedDict\n",
    "import time"
   ]
  },
  {
   "cell_type": "code",
   "execution_count": 3,
   "id": "06a5aef5",
   "metadata": {},
   "outputs": [],
   "source": [
    "num_features = 50\n",
    "learning_rate = .02"
   ]
  },
  {
   "cell_type": "code",
   "execution_count": 4,
   "id": "0ab59e64",
   "metadata": {},
   "outputs": [],
   "source": [
    "np.random.seed(100)\n",
    "initial_features = np.random.rand(num_features)"
   ]
  },
  {
   "cell_type": "code",
   "execution_count": 6,
   "id": "ccdd8301",
   "metadata": {},
   "outputs": [],
   "source": [
    "path = \"../../Downloads/ml-1m\"\n",
    "\n",
    "def split_data(path):  \n",
    "    df = pd.read_csv(f'{path}/ratings.dat', sep = \"::\", names=['user_id', 'movie_id', 'rating', 'timestamp']).sort_values('timestamp')\n",
    "    start_ts = df['timestamp'].min()\n",
    "    med_ts = df['timestamp'].quantile(.5)\n",
    "    end_ts = df['timestamp'].max()\n",
    "    train_df = df[df['timestamp'] <= med_ts]\n",
    "    stream_df = df[df['timestamp'] > med_ts]\n",
    "    seen_movies = set(train_df['movie_id'])\n",
    "    print(len(seen_movies), len(set(stream_df['movie_id'])), len(stream_df))\n",
    "    stream_df = stream_df.drop(stream_df[stream_df['movie_id'].map(lambda x: x not in seen_movies)].index)\n",
    "    '''\n",
    "    print(len(set(stream_df['movie_id'])), len(stream_df))\n",
    "    seen_users = set(train_df['user_id'])\n",
    "    num_stream_users = set(stream_df['user_id'])\n",
    "    stream_df = stream_df.drop(stream_df[stream_df['user_id'].map(lambda x: x not in seen_users)].index)\n",
    "    print(len(seen_users), len(num_stream_users), len(set(stream_df['user_id'])), len(stream_df))\n",
    "    '''\n",
    "    train_df.to_csv(f'{path}/train.csv', header=True, index = False)\n",
    "    stream_df.to_csv(f'{path}/stream.csv', header=True, index = False)\n",
    "    return start_ts, med_ts, end_ts"
   ]
  },
  {
   "cell_type": "code",
   "execution_count": 7,
   "id": "6ac525ca",
   "metadata": {},
   "outputs": [
    {
     "name": "stderr",
     "output_type": "stream",
     "text": [
      "UserWarning: Ray execution environment not yet initialized. Initializing...\n",
      "To remove this warning, run the following python code before doing dataframe operations:\n",
      "\n",
      "    import ray\n",
      "    ray.init()\n",
      "\n",
      "ParserWarning: Falling back to the 'python' engine because the 'c' engine does not support regex separators (separators > 1 char and different from '\\s+' are interpreted as regex); you can avoid this warning by specifying engine='python'.\n",
      "UserWarning: sort_values defaulting to pandas implementation.\n",
      "To request implementation, send an email to feature_requests@modin.org.\n"
     ]
    },
    {
     "name": "stdout",
     "output_type": "stream",
     "text": [
      "3551 3643 500104\n"
     ]
    },
    {
     "data": {
      "text/plain": [
       "(956703932, 973018006.0, 1046454590)"
      ]
     },
     "execution_count": 7,
     "metadata": {},
     "output_type": "execute_result"
    }
   ],
   "source": [
    "split_data(path)"
   ]
  },
  {
   "cell_type": "code",
   "execution_count": 8,
   "id": "4a38666a",
   "metadata": {
    "scrolled": true
   },
   "outputs": [
    {
     "name": "stderr",
     "output_type": "stream",
     "text": [
      "22/03/25 22:55:04 WARN Utils: Your hostname, Amits-MacBook-Pro.local resolves to a loopback address: 127.0.0.1; using 192.168.0.33 instead (on interface en0)\n",
      "22/03/25 22:55:04 WARN Utils: Set SPARK_LOCAL_IP if you need to bind to another address\n",
      "WARNING: An illegal reflective access operation has occurred\n",
      "WARNING: Illegal reflective access by org.apache.spark.unsafe.Platform (file:/opt/homebrew/Caskroom/miniconda/base/envs/myenv/lib/python3.8/site-packages/pyspark/jars/spark-unsafe_2.12-3.2.1.jar) to constructor java.nio.DirectByteBuffer(long,int)\n",
      "WARNING: Please consider reporting this to the maintainers of org.apache.spark.unsafe.Platform\n",
      "WARNING: Use --illegal-access=warn to enable warnings of further illegal reflective access operations\n",
      "WARNING: All illegal access operations will be denied in a future release\n",
      "Using Spark's default log4j profile: org/apache/spark/log4j-defaults.properties\n",
      "Setting default log level to \"WARN\".\n",
      "To adjust logging level use sc.setLogLevel(newLevel). For SparkR, use setLogLevel(newLevel).\n",
      "22/03/25 22:55:06 WARN NativeCodeLoader: Unable to load native-hadoop library for your platform... using builtin-java classes where applicable\n"
     ]
    }
   ],
   "source": [
    "spark = SparkSession.builder.master('local').appName('als').getOrCreate()"
   ]
  },
  {
   "cell_type": "code",
   "execution_count": 9,
   "id": "a3fbc1e7",
   "metadata": {},
   "outputs": [
    {
     "name": "stderr",
     "output_type": "stream",
     "text": [
      "\r",
      "[Stage 1:>                                                          (0 + 1) / 1]\r",
      "\r",
      "                                                                                \r"
     ]
    }
   ],
   "source": [
    "spark_df = spark.read.options(delimiter=\",\", inferSchema=True, header=True).csv(f'{path}/train.csv')"
   ]
  },
  {
   "cell_type": "code",
   "execution_count": 10,
   "id": "4f286b1b",
   "metadata": {},
   "outputs": [
    {
     "name": "stdout",
     "output_type": "stream",
     "text": [
      "+-------+--------+------+\n",
      "|user_id|movie_id|rating|\n",
      "+-------+--------+------+\n",
      "|   6040|     858|     4|\n",
      "|   6040|    2384|     4|\n",
      "|   6040|     593|     5|\n",
      "|   6040|    1961|     4|\n",
      "|   6040|    2019|     5|\n",
      "|   6040|    1419|     3|\n",
      "|   6040|     213|     5|\n",
      "|   6040|    3111|     5|\n",
      "|   6040|     573|     4|\n",
      "|   6040|    3505|     4|\n",
      "|   6040|    1734|     2|\n",
      "|   6040|    2503|     5|\n",
      "|   6040|     919|     5|\n",
      "|   6040|     912|     5|\n",
      "|   6040|     527|     5|\n",
      "|   6040|    1252|     5|\n",
      "|   6040|     649|     5|\n",
      "|   6040|     318|     4|\n",
      "|   6040|    3289|     5|\n",
      "|   6040|     759|     5|\n",
      "+-------+--------+------+\n",
      "only showing top 20 rows\n",
      "\n"
     ]
    },
    {
     "name": "stderr",
     "output_type": "stream",
     "text": [
      "22/03/25 22:55:24 WARN InstanceBuilder$NativeBLAS: Failed to load implementation from:dev.ludovic.netlib.blas.JNIBLAS\n",
      "22/03/25 22:55:24 WARN InstanceBuilder$NativeBLAS: Failed to load implementation from:dev.ludovic.netlib.blas.ForeignLinkerBLAS\n",
      "22/03/25 22:55:24 WARN InstanceBuilder$NativeLAPACK: Failed to load implementation from:dev.ludovic.netlib.lapack.JNILAPACK\n"
     ]
    }
   ],
   "source": [
    "spark_df = spark_df.drop('timestamp')\n",
    "spark_df.show()\n",
    "new_model = newALS.train(ratings = spark_df.rdd, rank = num_features, iterations=15, lambda_=learning_rate)"
   ]
  },
  {
   "cell_type": "code",
   "execution_count": 11,
   "id": "4b6b9644",
   "metadata": {},
   "outputs": [
    {
     "name": "stderr",
     "output_type": "stream",
     "text": [
      "22/03/25 22:59:28 WARN BlockManager: Task 49 already completed, not releasing lock for rdd_318_0\n"
     ]
    }
   ],
   "source": [
    "user_features = new_model.userFeatures().toDF().toPandas()\n",
    "user_features = user_features.rename(columns={'_1': 'id', '_2': 'features'})\n",
    "product_features = new_model.productFeatures().toDF().toPandas()\n",
    "product_features = product_features.rename(columns={'_1': 'id', '_2': 'features'})"
   ]
  },
  {
   "cell_type": "code",
   "execution_count": 12,
   "id": "9354c127",
   "metadata": {},
   "outputs": [],
   "source": [
    "product_features.sort_values('id').to_csv(f'{path}/movie_features.csv', index = False)\n",
    "user_features.sort_values('id').to_csv(f'{path}/user_features.csv', index = False)"
   ]
  },
  {
   "cell_type": "code",
   "execution_count": 13,
   "id": "fbd7e763",
   "metadata": {},
   "outputs": [],
   "source": [
    "def get_feature_dict(features):\n",
    "    feature_dict = dict()\n",
    "    for row in features.itertuples():\n",
    "        feature_dict[int(row.id)] = np.array(row.features)\n",
    "    return feature_dict"
   ]
  },
  {
   "cell_type": "code",
   "execution_count": 14,
   "id": "9080bc68",
   "metadata": {},
   "outputs": [],
   "source": [
    "class FIFOScheduler:\n",
    "    \n",
    "    def __init__(self):\n",
    "        self.queue = []\n",
    "        self.name = \"fifo\"\n",
    "        \n",
    "    def push(self, row):\n",
    "        self.queue.append(row)\n",
    "    \n",
    "    def pop(self):\n",
    "        if len(self.queue) == 0:\n",
    "            return None\n",
    "        return self.queue.pop()"
   ]
  },
  {
   "cell_type": "code",
   "execution_count": 15,
   "id": "d8c8bc2a",
   "metadata": {},
   "outputs": [],
   "source": [
    "class FewestUpdateScheduler:\n",
    "    \n",
    "    def __init__(self):\n",
    "        self.updated_list = SortedList(key = lambda x: x[1])\n",
    "        self.row_dict = dict()\n",
    "        self.name = \"fewest\"\n",
    "\n",
    "    def push(self, row):\n",
    "        user = row.user_id\n",
    "        if user not in self.row_dict:\n",
    "            self.updated_list.add([user, 0])\n",
    "            self.row_dict[user] = [row]\n",
    "        else:\n",
    "            self.row_dict[user].append(row)\n",
    "          \n",
    "    def pop(self):\n",
    "        user_data = self.updated_list.pop(0)\n",
    "        user = user_data[0]\n",
    "        row = self.row_dict[user].pop()\n",
    "        if len(self.row_dict[user]) != 0:\n",
    "            user_data[1] = user_data[1] + 1\n",
    "            self.updated_list.add(user_data)\n",
    "        #self.updated_list[0][1] = self.updated_list[0][1] + 1\n",
    "        return row"
   ]
  },
  {
   "cell_type": "code",
   "execution_count": 50,
   "id": "acdcc954",
   "metadata": {},
   "outputs": [],
   "source": [
    "class MaxPendingScheduler:\n",
    "    \n",
    "    def __init__(self):\n",
    "        # items = [key, num_pending]\n",
    "        self.updated_list = SortedList(key = lambda x: x[1])\n",
    "        self.row_dict = dict()\n",
    "        self.name = \"pending\"\n",
    "\n",
    "    def push(self, row):\n",
    "        user = row.user_id\n",
    "        if user not in self.row_dict:\n",
    "            self.updated_list.add([user, 1])\n",
    "            self.row_dict[user] = [row]\n",
    "        else:\n",
    "            pending_updates = len(self.row_dict[user])\n",
    "            self.updated_list.remove([user, pending_updates])\n",
    "            self.updated_list.add([user, pending_updates + 1])\n",
    "            self.row_dict[user].append(row)\n",
    "        \n",
    "    def pop(self):\n",
    "        user = self.updated_list[-1][0]\n",
    "        num_pending = len(self.row_dict[user])\n",
    "        row = self.row_dict[user].pop()\n",
    "        if num_pending == 1:\n",
    "            self.updated_list.pop(-1)\n",
    "            del self.row_dict[user]\n",
    "        else:\n",
    "            self.updated_list.remove([user, num_pending])\n",
    "            self.updated_list.add([user, num_pending - 1])\n",
    "        return row"
   ]
  },
  {
   "cell_type": "code",
   "execution_count": 17,
   "id": "d1cc21d1",
   "metadata": {},
   "outputs": [],
   "source": [
    "class SGDUpdater:\n",
    "    \n",
    "    def __init__(self, user_features, movie_features, learning_rate, u_reg, m_reg, update_movies = True):\n",
    "        self.user_dict = get_feature_dict(user_features)\n",
    "        self.movie_dict = get_feature_dict(movie_features) \n",
    "        self.l = learning_rate\n",
    "        self.u_reg = u_reg\n",
    "        self.m_reg = m_reg\n",
    "        self.update_movies = update_movies\n",
    "        self.name = \"sgd\"\n",
    "    \n",
    "    def predict(self, row):\n",
    "        movie_id = row.movie_id\n",
    "        user_id = row.user_id\n",
    "         \n",
    "        if user_id not in self.user_dict:\n",
    "            self.user_dict[user_id] = np.copy(initial_features)\n",
    "        \n",
    "        return self.user_dict[user_id].dot(self.movie_dict[movie_id].T)\n",
    "    \n",
    "    def update(self, rows):\n",
    "        for row in rows:\n",
    "            movie_id = row.movie_id\n",
    "            user_id = row.user_id\n",
    "            rating = row.rating\n",
    "\n",
    "            prediction = self.predict(row)\n",
    "            error = rating - prediction\n",
    "\n",
    "            self.user_dict[user_id] = self.user_dict[user_id] + self.l * (error * self.movie_dict[movie_id] - self.u_reg  * self.user_dict[user_id])\n",
    "            if self.update_movies:\n",
    "                self.movie_dict[movie_id] = self.movie_dict[movie_id] + self.l * (error * self.user_dict[user_id] - self.m_reg * self.movie_dict[movie_id])"
   ]
  },
  {
   "cell_type": "code",
   "execution_count": 18,
   "id": "39b713c0",
   "metadata": {},
   "outputs": [],
   "source": [
    "def get_feature_matrix(num_rows, features):\n",
    "    matrix = np.zeros((num_rows, num_features))\n",
    "    feature_dict = dict()\n",
    "    for row in features.itertuples():\n",
    "        feature_dict[int(row.id)] = np.array(row.features)\n",
    "    for i in range(num_rows):\n",
    "        if i in feature_dict:\n",
    "            matrix[i] = feature_dict[i]\n",
    "        else:\n",
    "            matrix[i] = np.copy(initial_features)\n",
    "    return matrix"
   ]
  },
  {
   "cell_type": "code",
   "execution_count": 19,
   "id": "477a4d6c",
   "metadata": {},
   "outputs": [],
   "source": [
    "class ALSUpdater:\n",
    "    \n",
    "    def __init__(self, user_features, movie_features, rating_matrix, confidence_matrix, max_user, max_movie, u_reg, m_reg):\n",
    "        self.user_matrix = get_feature_matrix(max_user, user_features)\n",
    "        self.movie_matrix = get_feature_matrix(max_movie, movie_features)\n",
    "        self.rating_matrix = rating_matrix\n",
    "        self.confidence_matrix = confidence_matrix\n",
    "        self.u_reg = u_reg\n",
    "        self.m_reg = m_reg\n",
    "        self.name = \"als\"\n",
    "        \n",
    "    def predict(self, row):\n",
    "        movie_id = row.movie_id\n",
    "        user_id = row.user_id\n",
    "        prediction = np.dot(self.movie_matrix[movie_id], self.user_matrix[user_id])\n",
    "        return prediction\n",
    "    \n",
    "    def update(self, rows):\n",
    "        for row in rows:\n",
    "            movie_id = row.movie_id\n",
    "            user_id = row.user_id\n",
    "            rating = row.rating\n",
    "            self.confidence_matrix[user_id][movie_id] = 1\n",
    "            self.rating_matrix[user_id][movie_id] = rating\n",
    "            user_confidence_row = self.confidence_matrix[user_id]\n",
    "            left = np.dot(self.movie_matrix.T, np.dot(np.diag(user_confidence_row), self.movie_matrix)) + self.u_reg * np.eye(num_features)\n",
    "            right = np.dot(self.movie_matrix.T, np.dot(np.diag(user_confidence_row), self.rating_matrix[user_id].T))\n",
    "            print(self.movie_matrix.T.shape, np.dot(np.diag(user_confidence_row), self.rating_matrix[user_id].T).shape, left.shape, right.shape)\n",
    "            self.user_matrix[user_id] = np.linalg.solve(\n",
    "                    left,\n",
    "                    right\n",
    "                ).T       \n",
    "        "
   ]
  },
  {
   "cell_type": "code",
   "execution_count": 20,
   "id": "e59b4a6b",
   "metadata": {},
   "outputs": [
    {
     "name": "stdout",
     "output_type": "stream",
     "text": [
      "\u001b[2m\u001b[36m(apply_func pid=72613)\u001b[0m \n"
     ]
    },
    {
     "name": "stderr",
     "output_type": "stream",
     "text": [
      "\u001b[2m\u001b[36m(apply_list_of_funcs pid=72616)\u001b[0m \n"
     ]
    },
    {
     "name": "stdout",
     "output_type": "stream",
     "text": [
      "\u001b[2m\u001b[36m(apply_list_of_funcs pid=72720)\u001b[0m \n",
      "\u001b[2m\u001b[36m(apply_func pid=72616)\u001b[0m \n",
      "\u001b[2m\u001b[36m(apply_list_of_funcs pid=72613)\u001b[0m \n",
      "\u001b[2m\u001b[36m(apply_list_of_funcs pid=72719)\u001b[0m \n",
      "\u001b[2m\u001b[36m(apply_list_of_funcs pid=72719)\u001b[0m \n"
     ]
    },
    {
     "name": "stderr",
     "output_type": "stream",
     "text": [
      "\u001b[2m\u001b[36m(apply_list_of_funcs pid=72721)\u001b[0m \n"
     ]
    },
    {
     "name": "stdout",
     "output_type": "stream",
     "text": [
      "\u001b[2m\u001b[36m(apply_func pid=72613)\u001b[0m \n",
      "\u001b[2m\u001b[36m(apply_list_of_funcs pid=72618)\u001b[0m \n",
      "\u001b[2m\u001b[36m(apply_list_of_funcs pid=72721)\u001b[0m \n"
     ]
    },
    {
     "name": "stderr",
     "output_type": "stream",
     "text": [
      "\u001b[2m\u001b[36m(apply_list_of_funcs pid=72610)\u001b[0m \n"
     ]
    },
    {
     "name": "stdout",
     "output_type": "stream",
     "text": [
      "\u001b[2m\u001b[36m(apply_func pid=72616)\u001b[0m \n",
      "\u001b[2m\u001b[36m(apply_list_of_funcs pid=72618)\u001b[0m \n"
     ]
    },
    {
     "name": "stderr",
     "output_type": "stream",
     "text": [
      "\u001b[2m\u001b[36m(apply_func pid=72719)\u001b[0m \n"
     ]
    },
    {
     "name": "stdout",
     "output_type": "stream",
     "text": [
      "\u001b[2m\u001b[36m(apply_list_of_funcs pid=72722)\u001b[0m \n",
      "\u001b[2m\u001b[36m(apply_list_of_funcs pid=72613)\u001b[0m \n",
      "\u001b[2m\u001b[36m(apply_func pid=72615)\u001b[0m \n",
      "\u001b[2m\u001b[36m(apply_func pid=72721)\u001b[0m \n",
      "\u001b[2m\u001b[36m(apply_list_of_funcs pid=72721)\u001b[0m \n",
      "\u001b[2m\u001b[36m(apply_list_of_funcs pid=72722)\u001b[0m \n",
      "\u001b[2m\u001b[36m(apply_list_of_funcs pid=72720)\u001b[0m \n",
      "\u001b[2m\u001b[36m(apply_list_of_funcs pid=72719)\u001b[0m \n",
      "\u001b[2m\u001b[36m(apply_list_of_funcs pid=72722)\u001b[0m \n",
      "\u001b[2m\u001b[36m(apply_list_of_funcs pid=72721)\u001b[0m \n",
      "\u001b[2m\u001b[36m(apply_func pid=72615)\u001b[0m \n",
      "\u001b[2m\u001b[36m(apply_list_of_funcs pid=72718)\u001b[0m \n",
      "\u001b[2m\u001b[36m(apply_func pid=72616)\u001b[0m \n",
      "\u001b[2m\u001b[36m(apply_list_of_funcs pid=72721)\u001b[0m \n",
      "\u001b[2m\u001b[36m(apply_list_of_funcs pid=72719)\u001b[0m \n"
     ]
    },
    {
     "name": "stderr",
     "output_type": "stream",
     "text": [
      "\u001b[2m\u001b[36m(apply_list_of_funcs pid=72722)\u001b[0m \n"
     ]
    },
    {
     "name": "stdout",
     "output_type": "stream",
     "text": [
      "\u001b[2m\u001b[36m(apply_list_of_funcs pid=72615)\u001b[0m \n",
      "\u001b[2m\u001b[36m(apply_list_of_funcs pid=72615)\u001b[0m \n",
      "\u001b[2m\u001b[36m(apply_list_of_funcs pid=72719)\u001b[0m \n",
      "\u001b[2m\u001b[36m(apply_func pid=72615)\u001b[0m \n",
      "\u001b[2m\u001b[36m(apply_func pid=72722)\u001b[0m \n",
      "\u001b[2m\u001b[36m(apply_func pid=72616)\u001b[0m \n",
      "\u001b[2m\u001b[36m(apply_list_of_funcs pid=72719)\u001b[0m \n"
     ]
    },
    {
     "name": "stderr",
     "output_type": "stream",
     "text": [
      "\u001b[2m\u001b[36m(apply_list_of_funcs pid=72615)\u001b[0m \n",
      "\u001b[2m\u001b[36m(apply_list_of_funcs pid=72718)\u001b[0m \n"
     ]
    },
    {
     "name": "stdout",
     "output_type": "stream",
     "text": [
      "\u001b[2m\u001b[36m(apply_func pid=72610)\u001b[0m \n",
      "\u001b[2m\u001b[36m(apply_list_of_funcs pid=72615)\u001b[0m \n",
      "\u001b[2m\u001b[36m(apply_func pid=72613)\u001b[0m \n",
      "\u001b[2m\u001b[36m(apply_list_of_funcs pid=72722)\u001b[0m \n",
      "\u001b[2m\u001b[36m(apply_list_of_funcs pid=72616)\u001b[0m \n",
      "\u001b[2m\u001b[36m(apply_list_of_funcs pid=72615)\u001b[0m \n",
      "\u001b[2m\u001b[36m(apply_func pid=72610)\u001b[0m \n",
      "\u001b[2m\u001b[36m(apply_func pid=72718)\u001b[0m \n",
      "\u001b[2m\u001b[36m(apply_func pid=72610)\u001b[0m \n",
      "\u001b[2m\u001b[36m(apply_list_of_funcs pid=72721)\u001b[0m \n",
      "\u001b[2m\u001b[36m(apply_func pid=72720)\u001b[0m \n",
      "\u001b[2m\u001b[36m(apply_list_of_funcs pid=72610)\u001b[0m \n",
      "\u001b[2m\u001b[36m(apply_func pid=72719)\u001b[0m \n"
     ]
    },
    {
     "name": "stderr",
     "output_type": "stream",
     "text": [
      "\u001b[2m\u001b[36m(apply_list_of_funcs pid=72718)\u001b[0m \n"
     ]
    },
    {
     "name": "stdout",
     "output_type": "stream",
     "text": [
      "\u001b[2m\u001b[36m(apply_func pid=72618)\u001b[0m \n",
      "\u001b[2m\u001b[36m(apply_list_of_funcs pid=72719)\u001b[0m \n",
      "\u001b[2m\u001b[36m(apply_func pid=72721)\u001b[0m \n",
      "\u001b[2m\u001b[36m(apply_list_of_funcs pid=72616)\u001b[0m \n",
      "\u001b[2m\u001b[36m(apply_list_of_funcs pid=72618)\u001b[0m \n",
      "\u001b[2m\u001b[36m(apply_list_of_funcs pid=72721)\u001b[0m \n",
      "\u001b[2m\u001b[36m(apply_list_of_funcs pid=72615)\u001b[0m \n"
     ]
    },
    {
     "name": "stderr",
     "output_type": "stream",
     "text": [
      "\u001b[2m\u001b[36m(apply_list_of_funcs pid=72616)\u001b[0m \n",
      "\u001b[2m\u001b[36m(apply_func pid=72719)\u001b[0m \n"
     ]
    },
    {
     "name": "stdout",
     "output_type": "stream",
     "text": [
      "\u001b[2m\u001b[36m(apply_func pid=72613)\u001b[0m \n"
     ]
    },
    {
     "name": "stderr",
     "output_type": "stream",
     "text": [
      "\u001b[2m\u001b[36m(apply_list_of_funcs pid=72722)\u001b[0m \n"
     ]
    },
    {
     "name": "stdout",
     "output_type": "stream",
     "text": [
      "\u001b[2m\u001b[36m(apply_func pid=72613)\u001b[0m \n",
      "\u001b[2m\u001b[36m(apply_list_of_funcs pid=72616)\u001b[0m \n",
      "\u001b[2m\u001b[36m(apply_list_of_funcs pid=72719)\u001b[0m \n",
      "\u001b[2m\u001b[36m(apply_list_of_funcs pid=72720)\u001b[0m \n",
      "\u001b[2m\u001b[36m(apply_list_of_funcs pid=72613)\u001b[0m \n",
      "\u001b[2m\u001b[36m(apply_list_of_funcs pid=72721)\u001b[0m \n",
      "\u001b[2m\u001b[36m(apply_list_of_funcs pid=72618)\u001b[0m \n",
      "\u001b[2m\u001b[36m(apply_list_of_funcs pid=72721)\u001b[0m \n",
      "\u001b[2m\u001b[36m(apply_func pid=72721)\u001b[0m \n",
      "\u001b[2m\u001b[36m(apply_func pid=72613)\u001b[0m \n",
      "\u001b[2m\u001b[36m(apply_func pid=72610)\u001b[0m \n",
      "\u001b[2m\u001b[36m(apply_func pid=72613)\u001b[0m \n",
      "\u001b[2m\u001b[36m(apply_list_of_funcs pid=72720)\u001b[0m \n",
      "\u001b[2m\u001b[36m(apply_list_of_funcs pid=72720)\u001b[0m \n",
      "\u001b[2m\u001b[36m(apply_func pid=72718)\u001b[0m \n",
      "\u001b[2m\u001b[36m(apply_func pid=72613)\u001b[0m \n",
      "\u001b[2m\u001b[36m(apply_func pid=72722)\u001b[0m \n",
      "\u001b[2m\u001b[36m(apply_list_of_funcs pid=72718)\u001b[0m \n"
     ]
    },
    {
     "name": "stderr",
     "output_type": "stream",
     "text": [
      "\u001b[2m\u001b[36m(apply_list_of_funcs pid=72721)\u001b[0m \n"
     ]
    },
    {
     "name": "stdout",
     "output_type": "stream",
     "text": [
      "\u001b[2m\u001b[36m(apply_list_of_funcs pid=72610)\u001b[0m \n",
      "\u001b[2m\u001b[36m(apply_func pid=72618)\u001b[0m \n",
      "\u001b[2m\u001b[36m(apply_list_of_funcs pid=72720)\u001b[0m \n",
      "\u001b[2m\u001b[36m(apply_list_of_funcs pid=72616)\u001b[0m \n"
     ]
    },
    {
     "name": "stderr",
     "output_type": "stream",
     "text": [
      "\u001b[2m\u001b[36m(apply_list_of_funcs pid=72722)\u001b[0m \n"
     ]
    },
    {
     "name": "stdout",
     "output_type": "stream",
     "text": [
      "\u001b[2m\u001b[36m(apply_func pid=72722)\u001b[0m \n",
      "\u001b[2m\u001b[36m(apply_func pid=72722)\u001b[0m \n",
      "\u001b[2m\u001b[36m(apply_list_of_funcs pid=72719)\u001b[0m \n"
     ]
    },
    {
     "name": "stderr",
     "output_type": "stream",
     "text": [
      "\u001b[2m\u001b[36m(apply_func pid=72719)\u001b[0m \n",
      "\u001b[2m\u001b[36m(apply_func pid=72616)\u001b[0m \n",
      "\u001b[2m\u001b[36m(apply_func pid=72610)\u001b[0m \n",
      "\u001b[2m\u001b[36m(apply_list_of_funcs pid=72718)\u001b[0m \n",
      "\u001b[2m\u001b[36m(apply_list_of_funcs pid=72615)\u001b[0m \n"
     ]
    },
    {
     "name": "stdout",
     "output_type": "stream",
     "text": [
      "\u001b[2m\u001b[36m(apply_func pid=72613)\u001b[0m \n",
      "\u001b[2m\u001b[36m(apply_list_of_funcs pid=72718)\u001b[0m \n",
      "\u001b[2m\u001b[36m(apply_list_of_funcs pid=72613)\u001b[0m \n",
      "\u001b[2m\u001b[36m(apply_func pid=72718)\u001b[0m \n",
      "\u001b[2m\u001b[36m(apply_func pid=72610)\u001b[0m \n",
      "\u001b[2m\u001b[36m(apply_func pid=72721)\u001b[0m \n"
     ]
    },
    {
     "name": "stderr",
     "output_type": "stream",
     "text": [
      "\u001b[2m\u001b[36m(apply_func pid=72719)\u001b[0m \n"
     ]
    },
    {
     "name": "stdout",
     "output_type": "stream",
     "text": [
      "\u001b[2m\u001b[36m(apply_list_of_funcs pid=72615)\u001b[0m \n",
      "\u001b[2m\u001b[36m(apply_list_of_funcs pid=72721)\u001b[0m \n",
      "\u001b[2m\u001b[36m(apply_list_of_funcs pid=72718)\u001b[0m \n",
      "\u001b[2m\u001b[36m(apply_list_of_funcs pid=72616)\u001b[0m \n"
     ]
    },
    {
     "name": "stderr",
     "output_type": "stream",
     "text": [
      "\u001b[2m\u001b[36m(apply_func pid=72718)\u001b[0m \n"
     ]
    },
    {
     "name": "stdout",
     "output_type": "stream",
     "text": [
      "\u001b[2m\u001b[36m(apply_func pid=72618)\u001b[0m \n",
      "\u001b[2m\u001b[36m(apply_func pid=72615)\u001b[0m \n",
      "\u001b[2m\u001b[36m(apply_func pid=72718)\u001b[0m \n"
     ]
    },
    {
     "name": "stderr",
     "output_type": "stream",
     "text": [
      "\u001b[2m\u001b[36m(apply_list_of_funcs pid=72721)\u001b[0m \n"
     ]
    },
    {
     "name": "stdout",
     "output_type": "stream",
     "text": [
      "\u001b[2m\u001b[36m(apply_list_of_funcs pid=72719)\u001b[0m \n",
      "\u001b[2m\u001b[36m(apply_func pid=72613)\u001b[0m \n",
      "\u001b[2m\u001b[36m(apply_func pid=72721)\u001b[0m \n",
      "\u001b[2m\u001b[36m(apply_list_of_funcs pid=72613)\u001b[0m \n"
     ]
    },
    {
     "name": "stderr",
     "output_type": "stream",
     "text": [
      "\u001b[2m\u001b[36m(apply_func pid=72720)\u001b[0m \n"
     ]
    },
    {
     "name": "stdout",
     "output_type": "stream",
     "text": [
      "\u001b[2m\u001b[36m(apply_func pid=72616)\u001b[0m \n",
      "\u001b[2m\u001b[36m(apply_list_of_funcs pid=72610)\u001b[0m \n",
      "\u001b[2m\u001b[36m(apply_list_of_funcs pid=72618)\u001b[0m \n",
      "\u001b[2m\u001b[36m(apply_func pid=72720)\u001b[0m \n",
      "\u001b[2m\u001b[36m(apply_list_of_funcs pid=72616)\u001b[0m \n"
     ]
    },
    {
     "name": "stderr",
     "output_type": "stream",
     "text": [
      "\u001b[2m\u001b[36m(apply_list_of_funcs pid=72616)\u001b[0m \n",
      "\u001b[2m\u001b[36m(apply_list_of_funcs pid=72618)\u001b[0m \n",
      "\u001b[2m\u001b[36m(apply_func pid=72722)\u001b[0m \n"
     ]
    },
    {
     "name": "stdout",
     "output_type": "stream",
     "text": [
      "\u001b[2m\u001b[36m(apply_func pid=72722)\u001b[0m \n",
      "\u001b[2m\u001b[36m(apply_func pid=72615)\u001b[0m \n"
     ]
    },
    {
     "name": "stderr",
     "output_type": "stream",
     "text": [
      "\u001b[2m\u001b[36m(apply_list_of_funcs pid=72720)\u001b[0m \n"
     ]
    },
    {
     "name": "stdout",
     "output_type": "stream",
     "text": [
      "\u001b[2m\u001b[36m(apply_func pid=72721)\u001b[0m \n",
      "\u001b[2m\u001b[36m(apply_list_of_funcs pid=72722)\u001b[0m \n",
      "\u001b[2m\u001b[36m(apply_func pid=72616)\u001b[0m \n",
      "\u001b[2m\u001b[36m(apply_list_of_funcs pid=72721)\u001b[0m \n",
      "\u001b[2m\u001b[36m(apply_func pid=72615)\u001b[0m \n"
     ]
    },
    {
     "name": "stderr",
     "output_type": "stream",
     "text": [
      "\u001b[2m\u001b[36m(apply_list_of_funcs pid=72615)\u001b[0m \n",
      "\u001b[2m\u001b[36m(apply_func pid=72616)\u001b[0m \n",
      "\u001b[2m\u001b[36m(apply_list_of_funcs pid=72618)\u001b[0m \n"
     ]
    },
    {
     "name": "stdout",
     "output_type": "stream",
     "text": [
      "\u001b[2m\u001b[36m(apply_func pid=72616)\u001b[0m \n",
      "\u001b[2m\u001b[36m(apply_func pid=72722)\u001b[0m \n",
      "\u001b[2m\u001b[36m(apply_func pid=72719)\u001b[0m \n",
      "\u001b[2m\u001b[36m(apply_func pid=72721)\u001b[0m \n",
      "\u001b[2m\u001b[36m(apply_func pid=72718)\u001b[0m \n",
      "\u001b[2m\u001b[36m(apply_func pid=72722)\u001b[0m \n",
      "\u001b[2m\u001b[36m(apply_list_of_funcs pid=72613)\u001b[0m \n",
      "\u001b[2m\u001b[36m(apply_list_of_funcs pid=72610)\u001b[0m \n"
     ]
    },
    {
     "name": "stderr",
     "output_type": "stream",
     "text": [
      "\u001b[2m\u001b[36m(apply_list_of_funcs pid=72615)\u001b[0m \n"
     ]
    },
    {
     "name": "stdout",
     "output_type": "stream",
     "text": [
      "\u001b[2m\u001b[36m(apply_func pid=72615)\u001b[0m \n",
      "\u001b[2m\u001b[36m(apply_list_of_funcs pid=72613)\u001b[0m \n",
      "\u001b[2m\u001b[36m(apply_func pid=72610)\u001b[0m \n",
      "\u001b[2m\u001b[36m(apply_func pid=72616)\u001b[0m \n",
      "\u001b[2m\u001b[36m(apply_func pid=72613)\u001b[0m \n",
      "\u001b[2m\u001b[36m(apply_func pid=72722)\u001b[0m \n",
      "\u001b[2m\u001b[36m(apply_list_of_funcs pid=72721)\u001b[0m \n",
      "\u001b[2m\u001b[36m(apply_func pid=72719)\u001b[0m \n"
     ]
    },
    {
     "name": "stderr",
     "output_type": "stream",
     "text": [
      "\u001b[2m\u001b[36m(apply_func pid=72721)\u001b[0m \n"
     ]
    },
    {
     "name": "stdout",
     "output_type": "stream",
     "text": [
      "\u001b[2m\u001b[36m(apply_func pid=72610)\u001b[0m \n",
      "\u001b[2m\u001b[36m(apply_list_of_funcs pid=72613)\u001b[0m \n",
      "\u001b[2m\u001b[36m(apply_func pid=72615)\u001b[0m \n",
      "\u001b[2m\u001b[36m(apply_func pid=72618)\u001b[0m \n",
      "\u001b[2m\u001b[36m(apply_list_of_funcs pid=72618)\u001b[0m \n"
     ]
    },
    {
     "name": "stderr",
     "output_type": "stream",
     "text": [
      "\u001b[2m\u001b[36m(apply_func pid=72610)\u001b[0m \n"
     ]
    },
    {
     "name": "stdout",
     "output_type": "stream",
     "text": [
      "\u001b[2m\u001b[36m(apply_list_of_funcs pid=72615)\u001b[0m \n",
      "\u001b[2m\u001b[36m(apply_func pid=72722)\u001b[0m \n",
      "\u001b[2m\u001b[36m(apply_func pid=72618)\u001b[0m \n",
      "\u001b[2m\u001b[36m(apply_list_of_funcs pid=72721)\u001b[0m \n",
      "\u001b[2m\u001b[36m(apply_func pid=72610)\u001b[0m \n"
     ]
    },
    {
     "name": "stderr",
     "output_type": "stream",
     "text": [
      "\u001b[2m\u001b[36m(apply_list_of_funcs pid=72616)\u001b[0m \n"
     ]
    },
    {
     "name": "stdout",
     "output_type": "stream",
     "text": [
      "\u001b[2m\u001b[36m(apply_func pid=72610)\u001b[0m \n",
      "\u001b[2m\u001b[36m(apply_func pid=72721)\u001b[0m \n",
      "\u001b[2m\u001b[36m(apply_list_of_funcs pid=72618)\u001b[0m \n",
      "\u001b[2m\u001b[36m(apply_list_of_funcs pid=72720)\u001b[0m \n",
      "\u001b[2m\u001b[36m(apply_func pid=72615)\u001b[0m \n"
     ]
    },
    {
     "name": "stderr",
     "output_type": "stream",
     "text": [
      "\u001b[2m\u001b[36m(apply_list_of_funcs pid=72720)\u001b[0m \n",
      "\u001b[2m\u001b[36m(apply_list_of_funcs pid=72616)\u001b[0m \n"
     ]
    },
    {
     "name": "stdout",
     "output_type": "stream",
     "text": [
      "\u001b[2m\u001b[36m(apply_func pid=72615)\u001b[0m \n"
     ]
    },
    {
     "name": "stderr",
     "output_type": "stream",
     "text": [
      "\u001b[2m\u001b[36m(apply_func pid=72718)\u001b[0m \n"
     ]
    },
    {
     "name": "stdout",
     "output_type": "stream",
     "text": [
      "\u001b[2m\u001b[36m(apply_func pid=72618)\u001b[0m \n"
     ]
    },
    {
     "name": "stderr",
     "output_type": "stream",
     "text": [
      "\u001b[2m\u001b[36m(apply_func pid=72718)\u001b[0m \n",
      "\u001b[2m\u001b[36m(apply_func pid=72720)\u001b[0m \n"
     ]
    },
    {
     "name": "stdout",
     "output_type": "stream",
     "text": [
      "\u001b[2m\u001b[36m(apply_func pid=72618)\u001b[0m \n",
      "\u001b[2m\u001b[36m(apply_func pid=72616)\u001b[0m \n",
      "\u001b[2m\u001b[36m(apply_list_of_funcs pid=72615)\u001b[0m \n",
      "\u001b[2m\u001b[36m(apply_list_of_funcs pid=72718)\u001b[0m \n",
      "\u001b[2m\u001b[36m(apply_func pid=72618)\u001b[0m \n",
      "\u001b[2m\u001b[36m(apply_func pid=72722)\u001b[0m \n",
      "\u001b[2m\u001b[36m(apply_func pid=72718)\u001b[0m \n",
      "\u001b[2m\u001b[36m(apply_list_of_funcs pid=72610)\u001b[0m \n",
      "\u001b[2m\u001b[36m(apply_func pid=72613)\u001b[0m \n"
     ]
    },
    {
     "name": "stderr",
     "output_type": "stream",
     "text": [
      "\u001b[2m\u001b[36m(apply_func pid=72722)\u001b[0m \n"
     ]
    },
    {
     "name": "stdout",
     "output_type": "stream",
     "text": [
      "\u001b[2m\u001b[36m(apply_func pid=72722)\u001b[0m \n",
      "\u001b[2m\u001b[36m(apply_func pid=72618)\u001b[0m \n",
      "\u001b[2m\u001b[36m(apply_list_of_funcs pid=72719)\u001b[0m \n"
     ]
    },
    {
     "name": "stderr",
     "output_type": "stream",
     "text": [
      "\u001b[2m\u001b[36m(apply_list_of_funcs pid=72615)\u001b[0m \n"
     ]
    },
    {
     "name": "stdout",
     "output_type": "stream",
     "text": [
      "\u001b[2m\u001b[36m(apply_list_of_funcs pid=72720)\u001b[0m \n"
     ]
    },
    {
     "name": "stderr",
     "output_type": "stream",
     "text": [
      "\u001b[2m\u001b[36m(apply_list_of_funcs pid=72616)\u001b[0m \n",
      "\u001b[2m\u001b[36m(apply_func pid=72721)\u001b[0m \n"
     ]
    },
    {
     "name": "stdout",
     "output_type": "stream",
     "text": [
      "\u001b[2m\u001b[36m(apply_list_of_funcs pid=72615)\u001b[0m \n",
      "\u001b[2m\u001b[36m(apply_func pid=72616)\u001b[0m \n",
      "\u001b[2m\u001b[36m(apply_list_of_funcs pid=72613)\u001b[0m \n"
     ]
    },
    {
     "name": "stderr",
     "output_type": "stream",
     "text": [
      "\u001b[2m\u001b[36m(apply_list_of_funcs pid=72615)\u001b[0m \n",
      "\u001b[2m\u001b[36m(apply_list_of_funcs pid=72613)\u001b[0m \n"
     ]
    },
    {
     "name": "stdout",
     "output_type": "stream",
     "text": [
      "\u001b[2m\u001b[36m(apply_list_of_funcs pid=72618)\u001b[0m \n",
      "\u001b[2m\u001b[36m(apply_list_of_funcs pid=72616)\u001b[0m \n",
      "\u001b[2m\u001b[36m(apply_list_of_funcs pid=72615)\u001b[0m \n",
      "\u001b[2m\u001b[36m(apply_list_of_funcs pid=72722)\u001b[0m \n",
      "\u001b[2m\u001b[36m(apply_func pid=72615)\u001b[0m \n",
      "\u001b[2m\u001b[36m(apply_func pid=72722)\u001b[0m \n",
      "\u001b[2m\u001b[36m(apply_list_of_funcs pid=72720)\u001b[0m \n",
      "\u001b[2m\u001b[36m(apply_func pid=72719)\u001b[0m \n",
      "\u001b[2m\u001b[36m(apply_func pid=72718)\u001b[0m \n",
      "\u001b[2m\u001b[36m(apply_func pid=72613)\u001b[0m \n"
     ]
    },
    {
     "name": "stderr",
     "output_type": "stream",
     "text": [
      "\u001b[2m\u001b[36m(apply_list_of_funcs pid=72615)\u001b[0m \n",
      "\u001b[2m\u001b[36m(apply_func pid=72610)\u001b[0m \n"
     ]
    },
    {
     "name": "stdout",
     "output_type": "stream",
     "text": [
      "\u001b[2m\u001b[36m(apply_list_of_funcs pid=72719)\u001b[0m \n",
      "\u001b[2m\u001b[36m(apply_func pid=72616)\u001b[0m \n",
      "\u001b[2m\u001b[36m(apply_func pid=72722)\u001b[0m \n",
      "\u001b[2m\u001b[36m(apply_func pid=72719)\u001b[0m \n",
      "\u001b[2m\u001b[36m(apply_list_of_funcs pid=72720)\u001b[0m \n",
      "\u001b[2m\u001b[36m(apply_func pid=72722)\u001b[0m \n",
      "\u001b[2m\u001b[36m(apply_func pid=72721)\u001b[0m \n",
      "\u001b[2m\u001b[36m(apply_list_of_funcs pid=72616)\u001b[0m \n",
      "\u001b[2m\u001b[36m(apply_func pid=72613)\u001b[0m \n"
     ]
    },
    {
     "name": "stderr",
     "output_type": "stream",
     "text": [
      "\u001b[2m\u001b[36m(apply_func pid=72618)\u001b[0m \n"
     ]
    },
    {
     "name": "stdout",
     "output_type": "stream",
     "text": [
      "\u001b[2m\u001b[36m(apply_func pid=72719)\u001b[0m \n",
      "\u001b[2m\u001b[36m(apply_list_of_funcs pid=72613)\u001b[0m \n",
      "\u001b[2m\u001b[36m(apply_func pid=72613)\u001b[0m \n"
     ]
    },
    {
     "name": "stderr",
     "output_type": "stream",
     "text": [
      "\u001b[2m\u001b[36m(apply_list_of_funcs pid=72721)\u001b[0m \n"
     ]
    },
    {
     "name": "stdout",
     "output_type": "stream",
     "text": [
      "\u001b[2m\u001b[36m(apply_func pid=72618)\u001b[0m \n",
      "\u001b[2m\u001b[36m(apply_func pid=72721)\u001b[0m \n",
      "\u001b[2m\u001b[36m(apply_func pid=72613)\u001b[0m \n"
     ]
    },
    {
     "name": "stderr",
     "output_type": "stream",
     "text": [
      "\u001b[2m\u001b[36m(apply_list_of_funcs pid=72722)\u001b[0m \n",
      "\u001b[2m\u001b[36m(apply_func pid=72719)\u001b[0m \n"
     ]
    },
    {
     "name": "stdout",
     "output_type": "stream",
     "text": [
      "\u001b[2m\u001b[36m(apply_list_of_funcs pid=72618)\u001b[0m \n"
     ]
    },
    {
     "name": "stderr",
     "output_type": "stream",
     "text": [
      "\u001b[2m\u001b[36m(apply_func pid=72616)\u001b[0m \n"
     ]
    },
    {
     "name": "stdout",
     "output_type": "stream",
     "text": [
      "\u001b[2m\u001b[36m(apply_func pid=72720)\u001b[0m \n",
      "\u001b[2m\u001b[36m(apply_func pid=72721)\u001b[0m \n"
     ]
    },
    {
     "name": "stderr",
     "output_type": "stream",
     "text": [
      "\u001b[2m\u001b[36m(apply_list_of_funcs pid=72719)\u001b[0m \n",
      "\u001b[2m\u001b[36m(apply_func pid=72613)\u001b[0m \n"
     ]
    },
    {
     "name": "stdout",
     "output_type": "stream",
     "text": [
      "\u001b[2m\u001b[36m(apply_func pid=72613)\u001b[0m \n",
      "\u001b[2m\u001b[36m(apply_func pid=72722)\u001b[0m \n"
     ]
    },
    {
     "name": "stderr",
     "output_type": "stream",
     "text": [
      "\u001b[2m\u001b[36m(apply_list_of_funcs pid=72720)\u001b[0m \n"
     ]
    },
    {
     "name": "stdout",
     "output_type": "stream",
     "text": [
      "\u001b[2m\u001b[36m(apply_list_of_funcs pid=72613)\u001b[0m \n",
      "\u001b[2m\u001b[36m(apply_func pid=72616)\u001b[0m \n",
      "\u001b[2m\u001b[36m(apply_list_of_funcs pid=72613)\u001b[0m \n",
      "\u001b[2m\u001b[36m(apply_list_of_funcs pid=72613)\u001b[0m \n",
      "\u001b[2m\u001b[36m(apply_func pid=72719)\u001b[0m \n",
      "\u001b[2m\u001b[36m(apply_func pid=72610)\u001b[0m \n",
      "\u001b[2m\u001b[36m(apply_list_of_funcs pid=72610)\u001b[0m \n",
      "\u001b[2m\u001b[36m(apply_func pid=72719)\u001b[0m \n",
      "\u001b[2m\u001b[36m(apply_func pid=72613)\u001b[0m \n",
      "\u001b[2m\u001b[36m(apply_func pid=72616)\u001b[0m \n",
      "\u001b[2m\u001b[36m(apply_func pid=72722)\u001b[0m \n"
     ]
    },
    {
     "name": "stderr",
     "output_type": "stream",
     "text": [
      "\u001b[2m\u001b[36m(apply_list_of_funcs pid=72718)\u001b[0m \n"
     ]
    },
    {
     "name": "stdout",
     "output_type": "stream",
     "text": [
      "\u001b[2m\u001b[36m(apply_list_of_funcs pid=72613)\u001b[0m \n",
      "\u001b[2m\u001b[36m(apply_func pid=72721)\u001b[0m \n",
      "\u001b[2m\u001b[36m(apply_list_of_funcs pid=72610)\u001b[0m \n",
      "\u001b[2m\u001b[36m(apply_list_of_funcs pid=72721)\u001b[0m \n",
      "\u001b[2m\u001b[36m(apply_list_of_funcs pid=72718)\u001b[0m \n",
      "\u001b[2m\u001b[36m(apply_func pid=72720)\u001b[0m \n",
      "\u001b[2m\u001b[36m(apply_func pid=72721)\u001b[0m \n",
      "\u001b[2m\u001b[36m(apply_func pid=72610)\u001b[0m \n",
      "\u001b[2m\u001b[36m(apply_list_of_funcs pid=72718)\u001b[0m \n",
      "\u001b[2m\u001b[36m(apply_list_of_funcs pid=72719)\u001b[0m \n",
      "\u001b[2m\u001b[36m(apply_list_of_funcs pid=72618)\u001b[0m \n",
      "\u001b[2m\u001b[36m(apply_func pid=72618)\u001b[0m \n",
      "\u001b[2m\u001b[36m(apply_list_of_funcs pid=72719)\u001b[0m \n",
      "\u001b[2m\u001b[36m(apply_func pid=72615)\u001b[0m \n",
      "\u001b[2m\u001b[36m(apply_func pid=72615)\u001b[0m \n"
     ]
    },
    {
     "name": "stderr",
     "output_type": "stream",
     "text": [
      "\u001b[2m\u001b[36m(apply_func pid=72616)\u001b[0m \n"
     ]
    },
    {
     "name": "stdout",
     "output_type": "stream",
     "text": [
      "\u001b[2m\u001b[36m(apply_list_of_funcs pid=72618)\u001b[0m \n",
      "\u001b[2m\u001b[36m(apply_list_of_funcs pid=72615)\u001b[0m \n"
     ]
    },
    {
     "name": "stderr",
     "output_type": "stream",
     "text": [
      "\u001b[2m\u001b[36m(apply_list_of_funcs pid=72616)\u001b[0m \n",
      "\u001b[2m\u001b[36m(apply_list_of_funcs pid=72718)\u001b[0m \n"
     ]
    },
    {
     "name": "stdout",
     "output_type": "stream",
     "text": [
      "\u001b[2m\u001b[36m(apply_func pid=72721)\u001b[0m \n",
      "\u001b[2m\u001b[36m(apply_list_of_funcs pid=72722)\u001b[0m \n",
      "\u001b[2m\u001b[36m(apply_list_of_funcs pid=72719)\u001b[0m \n",
      "\u001b[2m\u001b[36m(apply_func pid=72610)\u001b[0m \n",
      "\u001b[2m\u001b[36m(apply_list_of_funcs pid=72618)\u001b[0m \n"
     ]
    },
    {
     "name": "stderr",
     "output_type": "stream",
     "text": [
      "\u001b[2m\u001b[36m(apply_list_of_funcs pid=72618)\u001b[0m \n"
     ]
    },
    {
     "name": "stdout",
     "output_type": "stream",
     "text": [
      "\u001b[2m\u001b[36m(apply_list_of_funcs pid=72616)\u001b[0m \n",
      "\u001b[2m\u001b[36m(apply_list_of_funcs pid=72615)\u001b[0m \n",
      "\u001b[2m\u001b[36m(apply_func pid=72719)\u001b[0m \n",
      "\u001b[2m\u001b[36m(apply_func pid=72718)\u001b[0m \n",
      "\u001b[2m\u001b[36m(apply_func pid=72721)\u001b[0m \n",
      "\u001b[2m\u001b[36m(apply_list_of_funcs pid=72610)\u001b[0m \n",
      "\u001b[2m\u001b[36m(apply_func pid=72718)\u001b[0m \n"
     ]
    },
    {
     "name": "stderr",
     "output_type": "stream",
     "text": [
      "\u001b[2m\u001b[36m(apply_func pid=72615)\u001b[0m \n",
      "\u001b[2m\u001b[36m(apply_list_of_funcs pid=72616)\u001b[0m \n"
     ]
    },
    {
     "name": "stdout",
     "output_type": "stream",
     "text": [
      "\u001b[2m\u001b[36m(apply_func pid=72721)\u001b[0m \n",
      "\u001b[2m\u001b[36m(apply_list_of_funcs pid=72616)\u001b[0m \n"
     ]
    },
    {
     "name": "stderr",
     "output_type": "stream",
     "text": [
      "\u001b[2m\u001b[36m(apply_list_of_funcs pid=72613)\u001b[0m \n"
     ]
    },
    {
     "name": "stdout",
     "output_type": "stream",
     "text": [
      "\u001b[2m\u001b[36m(apply_list_of_funcs pid=72616)\u001b[0m \n"
     ]
    },
    {
     "name": "stderr",
     "output_type": "stream",
     "text": [
      "\u001b[2m\u001b[36m(apply_list_of_funcs pid=72718)\u001b[0m \n",
      "\u001b[2m\u001b[36m(apply_func pid=72615)\u001b[0m \n"
     ]
    },
    {
     "name": "stdout",
     "output_type": "stream",
     "text": [
      "\u001b[2m\u001b[36m(apply_func pid=72615)\u001b[0m \n"
     ]
    },
    {
     "name": "stderr",
     "output_type": "stream",
     "text": [
      "\u001b[2m\u001b[36m(apply_list_of_funcs pid=72616)\u001b[0m \n"
     ]
    },
    {
     "name": "stdout",
     "output_type": "stream",
     "text": [
      "\u001b[2m\u001b[36m(apply_list_of_funcs pid=72718)\u001b[0m \n",
      "\u001b[2m\u001b[36m(apply_func pid=72721)\u001b[0m \n",
      "\u001b[2m\u001b[36m(apply_func pid=72721)\u001b[0m \n"
     ]
    },
    {
     "name": "stderr",
     "output_type": "stream",
     "text": [
      "\u001b[2m\u001b[36m(apply_list_of_funcs pid=72618)\u001b[0m \n"
     ]
    },
    {
     "name": "stdout",
     "output_type": "stream",
     "text": [
      "\u001b[2m\u001b[36m(apply_list_of_funcs pid=72718)\u001b[0m \n"
     ]
    },
    {
     "name": "stderr",
     "output_type": "stream",
     "text": [
      "\u001b[2m\u001b[36m(apply_list_of_funcs pid=72719)\u001b[0m \n"
     ]
    },
    {
     "name": "stdout",
     "output_type": "stream",
     "text": [
      "\u001b[2m\u001b[36m(apply_func pid=72615)\u001b[0m \n",
      "\u001b[2m\u001b[36m(apply_list_of_funcs pid=72721)\u001b[0m \n",
      "\u001b[2m\u001b[36m(apply_list_of_funcs pid=72718)\u001b[0m \n",
      "\u001b[2m\u001b[36m(apply_func pid=72721)\u001b[0m \n",
      "\u001b[2m\u001b[36m(apply_func pid=72720)\u001b[0m \n",
      "\u001b[2m\u001b[36m(apply_func pid=72718)\u001b[0m \n",
      "\u001b[2m\u001b[36m(apply_func pid=72722)\u001b[0m \n",
      "\u001b[2m\u001b[36m(apply_list_of_funcs pid=72721)\u001b[0m \n",
      "\u001b[2m\u001b[36m(apply_list_of_funcs pid=72613)\u001b[0m \n",
      "\u001b[2m\u001b[36m(apply_func pid=72719)\u001b[0m \n",
      "\u001b[2m\u001b[36m(apply_func pid=72722)\u001b[0m \n",
      "\u001b[2m\u001b[36m(apply_list_of_funcs pid=72720)\u001b[0m \n",
      "\u001b[2m\u001b[36m(apply_func pid=72722)\u001b[0m \n"
     ]
    },
    {
     "name": "stderr",
     "output_type": "stream",
     "text": [
      "\u001b[2m\u001b[36m(apply_func pid=72720)\u001b[0m \n",
      "\u001b[2m\u001b[36m(apply_list_of_funcs pid=72613)\u001b[0m \n",
      "\u001b[2m\u001b[36m(apply_list_of_funcs pid=72721)\u001b[0m \n"
     ]
    },
    {
     "name": "stdout",
     "output_type": "stream",
     "text": [
      "\u001b[2m\u001b[36m(apply_list_of_funcs pid=72618)\u001b[0m \n"
     ]
    },
    {
     "name": "stderr",
     "output_type": "stream",
     "text": [
      "\u001b[2m\u001b[36m(apply_func pid=72719)\u001b[0m \n"
     ]
    },
    {
     "name": "stdout",
     "output_type": "stream",
     "text": [
      "\u001b[2m\u001b[36m(apply_func pid=72610)\u001b[0m \n",
      "\u001b[2m\u001b[36m(apply_func pid=72616)\u001b[0m \n",
      "\u001b[2m\u001b[36m(apply_func pid=72722)\u001b[0m \n"
     ]
    },
    {
     "name": "stderr",
     "output_type": "stream",
     "text": [
      "\u001b[2m\u001b[36m(apply_list_of_funcs pid=72722)\u001b[0m \n"
     ]
    },
    {
     "name": "stdout",
     "output_type": "stream",
     "text": [
      "\u001b[2m\u001b[36m(apply_list_of_funcs pid=72616)\u001b[0m \n",
      "\u001b[2m\u001b[36m(apply_list_of_funcs pid=72721)\u001b[0m \n",
      "\u001b[2m\u001b[36m(apply_list_of_funcs pid=72613)\u001b[0m \n",
      "\u001b[2m\u001b[36m(apply_func pid=72720)\u001b[0m \n",
      "\u001b[2m\u001b[36m(apply_func pid=72722)\u001b[0m \n",
      "\u001b[2m\u001b[36m(apply_list_of_funcs pid=72722)\u001b[0m \n",
      "\u001b[2m\u001b[36m(apply_func pid=72720)\u001b[0m \n",
      "\u001b[2m\u001b[36m(apply_list_of_funcs pid=72613)\u001b[0m \n",
      "\u001b[2m\u001b[36m(apply_func pid=72615)\u001b[0m \n",
      "\u001b[2m\u001b[36m(apply_func pid=72613)\u001b[0m \n",
      "\u001b[2m\u001b[36m(apply_list_of_funcs pid=72616)\u001b[0m \n",
      "\u001b[2m\u001b[36m(apply_func pid=72616)\u001b[0m \n",
      "\u001b[2m\u001b[36m(apply_list_of_funcs pid=72718)\u001b[0m \n",
      "\u001b[2m\u001b[36m(apply_func pid=72722)\u001b[0m \n"
     ]
    },
    {
     "name": "stderr",
     "output_type": "stream",
     "text": [
      "\u001b[2m\u001b[36m(apply_list_of_funcs pid=72719)\u001b[0m \n"
     ]
    },
    {
     "name": "stdout",
     "output_type": "stream",
     "text": [
      "\u001b[2m\u001b[36m(apply_list_of_funcs pid=72720)\u001b[0m \n",
      "\u001b[2m\u001b[36m(apply_list_of_funcs pid=72719)\u001b[0m \n",
      "\u001b[2m\u001b[36m(apply_list_of_funcs pid=72718)\u001b[0m \n",
      "\u001b[2m\u001b[36m(apply_list_of_funcs pid=72618)\u001b[0m \n",
      "\u001b[2m\u001b[36m(apply_func pid=72719)\u001b[0m \n",
      "\u001b[2m\u001b[36m(apply_func pid=72718)\u001b[0m \n",
      "\u001b[2m\u001b[36m(apply_func pid=72610)\u001b[0m \n",
      "\u001b[2m\u001b[36m(apply_func pid=72720)\u001b[0m \n",
      "\u001b[2m\u001b[36m(apply_list_of_funcs pid=72722)\u001b[0m \n",
      "\u001b[2m\u001b[36m(apply_func pid=72722)\u001b[0m \n",
      "\u001b[2m\u001b[36m(apply_func pid=72618)\u001b[0m \n",
      "\u001b[2m\u001b[36m(apply_func pid=72720)\u001b[0m \n"
     ]
    },
    {
     "name": "stderr",
     "output_type": "stream",
     "text": [
      "\u001b[2m\u001b[36m(apply_func pid=72616)\u001b[0m \n"
     ]
    },
    {
     "name": "stdout",
     "output_type": "stream",
     "text": [
      "\u001b[2m\u001b[36m(apply_func pid=72615)\u001b[0m \n",
      "\u001b[2m\u001b[36m(apply_func pid=72722)\u001b[0m \n",
      "\u001b[2m\u001b[36m(apply_list_of_funcs pid=72616)\u001b[0m \n",
      "\u001b[2m\u001b[36m(apply_list_of_funcs pid=72719)\u001b[0m \n"
     ]
    },
    {
     "name": "stderr",
     "output_type": "stream",
     "text": [
      "\u001b[2m\u001b[36m(apply_list_of_funcs pid=72613)\u001b[0m \n"
     ]
    },
    {
     "name": "stdout",
     "output_type": "stream",
     "text": [
      "\u001b[2m\u001b[36m(apply_list_of_funcs pid=72613)\u001b[0m \n",
      "\u001b[2m\u001b[36m(apply_func pid=72618)\u001b[0m \n",
      "\u001b[2m\u001b[36m(apply_list_of_funcs pid=72616)\u001b[0m \n",
      "\u001b[2m\u001b[36m(apply_list_of_funcs pid=72616)\u001b[0m \n",
      "\u001b[2m\u001b[36m(apply_list_of_funcs pid=72721)\u001b[0m \n",
      "\u001b[2m\u001b[36m(apply_list_of_funcs pid=72615)\u001b[0m \n",
      "\u001b[2m\u001b[36m(apply_func pid=72615)\u001b[0m \n",
      "\u001b[2m\u001b[36m(apply_func pid=72721)\u001b[0m \n"
     ]
    },
    {
     "name": "stderr",
     "output_type": "stream",
     "text": [
      "\u001b[2m\u001b[36m(apply_func pid=72721)\u001b[0m \n"
     ]
    },
    {
     "name": "stdout",
     "output_type": "stream",
     "text": [
      "\u001b[2m\u001b[36m(apply_func pid=72618)\u001b[0m \n",
      "\u001b[2m\u001b[36m(apply_list_of_funcs pid=72610)\u001b[0m \n",
      "\u001b[2m\u001b[36m(apply_list_of_funcs pid=72721)\u001b[0m \n",
      "\u001b[2m\u001b[36m(apply_func pid=72610)\u001b[0m \n"
     ]
    },
    {
     "name": "stderr",
     "output_type": "stream",
     "text": [
      "\u001b[2m\u001b[36m(apply_list_of_funcs pid=72720)\u001b[0m \n"
     ]
    },
    {
     "name": "stdout",
     "output_type": "stream",
     "text": [
      "\u001b[2m\u001b[36m(apply_list_of_funcs pid=72615)\u001b[0m \n"
     ]
    },
    {
     "name": "stderr",
     "output_type": "stream",
     "text": [
      "\u001b[2m\u001b[36m(apply_list_of_funcs pid=72718)\u001b[0m \n"
     ]
    },
    {
     "name": "stdout",
     "output_type": "stream",
     "text": [
      "\u001b[2m\u001b[36m(apply_list_of_funcs pid=72718)\u001b[0m \n",
      "\u001b[2m\u001b[36m(apply_func pid=72618)\u001b[0m \n",
      "\u001b[2m\u001b[36m(apply_list_of_funcs pid=72722)\u001b[0m \n",
      "\u001b[2m\u001b[36m(apply_list_of_funcs pid=72719)\u001b[0m \n",
      "\u001b[2m\u001b[36m(apply_list_of_funcs pid=72613)\u001b[0m \n",
      "\u001b[2m\u001b[36m(apply_list_of_funcs pid=72720)\u001b[0m \n",
      "\u001b[2m\u001b[36m(apply_list_of_funcs pid=72718)\u001b[0m \n",
      "\u001b[2m\u001b[36m(apply_list_of_funcs pid=72616)\u001b[0m \n",
      "\u001b[2m\u001b[36m(apply_func pid=72618)\u001b[0m \n",
      "\u001b[2m\u001b[36m(apply_list_of_funcs pid=72618)\u001b[0m \n"
     ]
    },
    {
     "name": "stderr",
     "output_type": "stream",
     "text": [
      "\u001b[2m\u001b[36m(apply_func pid=72719)\u001b[0m \n",
      "\u001b[2m\u001b[36m(apply_list_of_funcs pid=72718)\u001b[0m \n"
     ]
    },
    {
     "name": "stdout",
     "output_type": "stream",
     "text": [
      "\u001b[2m\u001b[36m(apply_list_of_funcs pid=72616)\u001b[0m \n",
      "\u001b[2m\u001b[36m(apply_list_of_funcs pid=72615)\u001b[0m \n",
      "\u001b[2m\u001b[36m(apply_list_of_funcs pid=72718)\u001b[0m \n"
     ]
    },
    {
     "name": "stderr",
     "output_type": "stream",
     "text": [
      "\u001b[2m\u001b[36m(apply_func pid=72618)\u001b[0m \n",
      "\u001b[2m\u001b[36m(apply_func pid=72615)\u001b[0m \n"
     ]
    },
    {
     "name": "stdout",
     "output_type": "stream",
     "text": [
      "\u001b[2m\u001b[36m(apply_list_of_funcs pid=72722)\u001b[0m \n",
      "\u001b[2m\u001b[36m(apply_list_of_funcs pid=72722)\u001b[0m \n",
      "\u001b[2m\u001b[36m(apply_list_of_funcs pid=72718)\u001b[0m \n"
     ]
    },
    {
     "name": "stderr",
     "output_type": "stream",
     "text": [
      "\u001b[2m\u001b[36m(apply_list_of_funcs pid=72616)\u001b[0m \n"
     ]
    },
    {
     "name": "stdout",
     "output_type": "stream",
     "text": [
      "\u001b[2m\u001b[36m(apply_list_of_funcs pid=72718)\u001b[0m \n",
      "\u001b[2m\u001b[36m(apply_func pid=72615)\u001b[0m \n",
      "\u001b[2m\u001b[36m(apply_func pid=72721)\u001b[0m \n"
     ]
    },
    {
     "name": "stderr",
     "output_type": "stream",
     "text": [
      "\u001b[2m\u001b[36m(apply_list_of_funcs pid=72719)\u001b[0m \n"
     ]
    },
    {
     "name": "stdout",
     "output_type": "stream",
     "text": [
      "\u001b[2m\u001b[36m(apply_list_of_funcs pid=72615)\u001b[0m \n"
     ]
    },
    {
     "name": "stderr",
     "output_type": "stream",
     "text": [
      "\u001b[2m\u001b[36m(apply_list_of_funcs pid=72722)\u001b[0m \n",
      "\u001b[2m\u001b[36m(apply_list_of_funcs pid=72618)\u001b[0m \n"
     ]
    },
    {
     "name": "stdout",
     "output_type": "stream",
     "text": [
      "\u001b[2m\u001b[36m(apply_list_of_funcs pid=72721)\u001b[0m \n",
      "\u001b[2m\u001b[36m(apply_list_of_funcs pid=72719)\u001b[0m \n",
      "\u001b[2m\u001b[36m(apply_list_of_funcs pid=72720)\u001b[0m \n",
      "\u001b[2m\u001b[36m(apply_list_of_funcs pid=72615)\u001b[0m \n",
      "\u001b[2m\u001b[36m(apply_list_of_funcs pid=72719)\u001b[0m \n",
      "\u001b[2m\u001b[36m(apply_list_of_funcs pid=72718)\u001b[0m \n",
      "\u001b[2m\u001b[36m(apply_list_of_funcs pid=72721)\u001b[0m \n"
     ]
    },
    {
     "name": "stderr",
     "output_type": "stream",
     "text": [
      "\u001b[2m\u001b[36m(apply_func pid=72618)\u001b[0m \n"
     ]
    },
    {
     "name": "stdout",
     "output_type": "stream",
     "text": [
      "\u001b[2m\u001b[36m(apply_func pid=72613)\u001b[0m \n",
      "\u001b[2m\u001b[36m(apply_func pid=72615)\u001b[0m \n",
      "\u001b[2m\u001b[36m(apply_list_of_funcs pid=72719)\u001b[0m \n",
      "\u001b[2m\u001b[36m(apply_list_of_funcs pid=72610)\u001b[0m \n",
      "\u001b[2m\u001b[36m(apply_list_of_funcs pid=72722)\u001b[0m \n",
      "\u001b[2m\u001b[36m(apply_list_of_funcs pid=72618)\u001b[0m \n",
      "\u001b[2m\u001b[36m(apply_func pid=72722)\u001b[0m \n",
      "\u001b[2m\u001b[36m(apply_list_of_funcs pid=72718)\u001b[0m \n"
     ]
    },
    {
     "name": "stderr",
     "output_type": "stream",
     "text": [
      "\u001b[2m\u001b[36m(apply_func pid=72722)\u001b[0m \n"
     ]
    },
    {
     "name": "stdout",
     "output_type": "stream",
     "text": [
      "\u001b[2m\u001b[36m(apply_func pid=72722)\u001b[0m \n",
      "\u001b[2m\u001b[36m(apply_list_of_funcs pid=72721)\u001b[0m \n",
      "\u001b[2m\u001b[36m(apply_list_of_funcs pid=72720)\u001b[0m \n",
      "\u001b[2m\u001b[36m(apply_list_of_funcs pid=72718)\u001b[0m \n",
      "\u001b[2m\u001b[36m(apply_list_of_funcs pid=72615)\u001b[0m \n",
      "\u001b[2m\u001b[36m(apply_list_of_funcs pid=72610)\u001b[0m \n",
      "\u001b[2m\u001b[36m(apply_func pid=72618)\u001b[0m \n",
      "\u001b[2m\u001b[36m(apply_list_of_funcs pid=72616)\u001b[0m \n"
     ]
    },
    {
     "name": "stderr",
     "output_type": "stream",
     "text": [
      "\u001b[2m\u001b[36m(apply_func pid=72616)\u001b[0m \n"
     ]
    },
    {
     "name": "stdout",
     "output_type": "stream",
     "text": [
      "\u001b[2m\u001b[36m(apply_func pid=72613)\u001b[0m \n",
      "\u001b[2m\u001b[36m(apply_list_of_funcs pid=72721)\u001b[0m \n"
     ]
    },
    {
     "name": "stderr",
     "output_type": "stream",
     "text": [
      "\u001b[2m\u001b[36m(apply_list_of_funcs pid=72615)\u001b[0m \n"
     ]
    },
    {
     "name": "stdout",
     "output_type": "stream",
     "text": [
      "\u001b[2m\u001b[36m(apply_func pid=72719)\u001b[0m \n",
      "\u001b[2m\u001b[36m(apply_list_of_funcs pid=72616)\u001b[0m \n",
      "\u001b[2m\u001b[36m(apply_func pid=72615)\u001b[0m \n",
      "\u001b[2m\u001b[36m(apply_list_of_funcs pid=72618)\u001b[0m \n",
      "\u001b[2m\u001b[36m(apply_list_of_funcs pid=72618)\u001b[0m \n",
      "\u001b[2m\u001b[36m(apply_list_of_funcs pid=72618)\u001b[0m \n"
     ]
    },
    {
     "name": "stderr",
     "output_type": "stream",
     "text": [
      "\u001b[2m\u001b[36m(apply_list_of_funcs pid=72719)\u001b[0m \n"
     ]
    },
    {
     "name": "stdout",
     "output_type": "stream",
     "text": [
      "\u001b[2m\u001b[36m(apply_list_of_funcs pid=72618)\u001b[0m \n",
      "\u001b[2m\u001b[36m(apply_list_of_funcs pid=72613)\u001b[0m \n",
      "\u001b[2m\u001b[36m(apply_list_of_funcs pid=72610)\u001b[0m \n",
      "\u001b[2m\u001b[36m(apply_func pid=72613)\u001b[0m \n",
      "\u001b[2m\u001b[36m(apply_list_of_funcs pid=72610)\u001b[0m \n",
      "\u001b[2m\u001b[36m(apply_list_of_funcs pid=72610)\u001b[0m \n",
      "\u001b[2m\u001b[36m(apply_list_of_funcs pid=72719)\u001b[0m \n",
      "\u001b[2m\u001b[36m(apply_list_of_funcs pid=72613)\u001b[0m \n",
      "\u001b[2m\u001b[36m(apply_list_of_funcs pid=72618)\u001b[0m \n",
      "\u001b[2m\u001b[36m(apply_list_of_funcs pid=72721)\u001b[0m \n",
      "\u001b[2m\u001b[36m(apply_list_of_funcs pid=72616)\u001b[0m \n",
      "\u001b[2m\u001b[36m(apply_list_of_funcs pid=72719)\u001b[0m \n",
      "\u001b[2m\u001b[36m(apply_list_of_funcs pid=72719)\u001b[0m \n",
      "\u001b[2m\u001b[36m(apply_list_of_funcs pid=72610)\u001b[0m \n",
      "\u001b[2m\u001b[36m(apply_list_of_funcs pid=72721)\u001b[0m \n",
      "\u001b[2m\u001b[36m(apply_list_of_funcs pid=72719)\u001b[0m \n",
      "\u001b[2m\u001b[36m(apply_list_of_funcs pid=72616)\u001b[0m \n",
      "\u001b[2m\u001b[36m(apply_list_of_funcs pid=72616)\u001b[0m \n"
     ]
    },
    {
     "name": "stderr",
     "output_type": "stream",
     "text": [
      "\u001b[2m\u001b[36m(apply_func pid=72615)\u001b[0m \n"
     ]
    },
    {
     "name": "stdout",
     "output_type": "stream",
     "text": [
      "\u001b[2m\u001b[36m(apply_list_of_funcs pid=72718)\u001b[0m \n",
      "\u001b[2m\u001b[36m(apply_func pid=72721)\u001b[0m \n"
     ]
    },
    {
     "name": "stderr",
     "output_type": "stream",
     "text": [
      "\u001b[2m\u001b[36m(apply_list_of_funcs pid=72618)\u001b[0m \n"
     ]
    },
    {
     "name": "stdout",
     "output_type": "stream",
     "text": [
      "\u001b[2m\u001b[36m(apply_list_of_funcs pid=72719)\u001b[0m \n",
      "\u001b[2m\u001b[36m(apply_list_of_funcs pid=72721)\u001b[0m \n",
      "\u001b[2m\u001b[36m(apply_list_of_funcs pid=72718)\u001b[0m \n",
      "\u001b[2m\u001b[36m(apply_func pid=72722)\u001b[0m \n",
      "\u001b[2m\u001b[36m(apply_list_of_funcs pid=72616)\u001b[0m \n",
      "\u001b[2m\u001b[36m(apply_list_of_funcs pid=72718)\u001b[0m \n",
      "\u001b[2m\u001b[36m(apply_list_of_funcs pid=72719)\u001b[0m \n",
      "\u001b[2m\u001b[36m(apply_func pid=72721)\u001b[0m \n",
      "\u001b[2m\u001b[36m(apply_list_of_funcs pid=72615)\u001b[0m \n",
      "\u001b[2m\u001b[36m(apply_func pid=72615)\u001b[0m \n",
      "\u001b[2m\u001b[36m(apply_list_of_funcs pid=72721)\u001b[0m \n",
      "\u001b[2m\u001b[36m(apply_func pid=72618)\u001b[0m \n",
      "\u001b[2m\u001b[36m(apply_list_of_funcs pid=72613)\u001b[0m \n",
      "\u001b[2m\u001b[36m(apply_list_of_funcs pid=72721)\u001b[0m \n",
      "\u001b[2m\u001b[36m(apply_list_of_funcs pid=72613)\u001b[0m \n"
     ]
    },
    {
     "name": "stderr",
     "output_type": "stream",
     "text": [
      "\u001b[2m\u001b[36m(apply_list_of_funcs pid=72720)\u001b[0m \n"
     ]
    },
    {
     "name": "stdout",
     "output_type": "stream",
     "text": [
      "\u001b[2m\u001b[36m(apply_list_of_funcs pid=72616)\u001b[0m \n",
      "\u001b[2m\u001b[36m(apply_list_of_funcs pid=72615)\u001b[0m \n",
      "\u001b[2m\u001b[36m(apply_list_of_funcs pid=72720)\u001b[0m \n",
      "\u001b[2m\u001b[36m(apply_list_of_funcs pid=72718)\u001b[0m \n",
      "\u001b[2m\u001b[36m(apply_list_of_funcs pid=72618)\u001b[0m \n",
      "\u001b[2m\u001b[36m(apply_list_of_funcs pid=72721)\u001b[0m \n"
     ]
    },
    {
     "name": "stderr",
     "output_type": "stream",
     "text": [
      "\u001b[2m\u001b[36m(apply_func pid=72719)\u001b[0m \n"
     ]
    },
    {
     "name": "stdout",
     "output_type": "stream",
     "text": [
      "\u001b[2m\u001b[36m(apply_list_of_funcs pid=72721)\u001b[0m \n",
      "\u001b[2m\u001b[36m(apply_func pid=72615)\u001b[0m \n"
     ]
    },
    {
     "name": "stderr",
     "output_type": "stream",
     "text": [
      "\u001b[2m\u001b[36m(apply_list_of_funcs pid=72718)\u001b[0m \n"
     ]
    },
    {
     "name": "stdout",
     "output_type": "stream",
     "text": [
      "\u001b[2m\u001b[36m(apply_list_of_funcs pid=72721)\u001b[0m \n",
      "\u001b[2m\u001b[36m(apply_func pid=72721)\u001b[0m \n",
      "\u001b[2m\u001b[36m(apply_func pid=72615)\u001b[0m \n",
      "\u001b[2m\u001b[36m(apply_list_of_funcs pid=72613)\u001b[0m \n",
      "\u001b[2m\u001b[36m(apply_list_of_funcs pid=72613)\u001b[0m \n",
      "\u001b[2m\u001b[36m(apply_func pid=72618)\u001b[0m \n",
      "\u001b[2m\u001b[36m(apply_list_of_funcs pid=72616)\u001b[0m \n",
      "\u001b[2m\u001b[36m(apply_list_of_funcs pid=72613)\u001b[0m \n",
      "\u001b[2m\u001b[36m(apply_list_of_funcs pid=72722)\u001b[0m \n"
     ]
    },
    {
     "name": "stderr",
     "output_type": "stream",
     "text": [
      "\u001b[2m\u001b[36m(apply_list_of_funcs pid=72718)\u001b[0m \n"
     ]
    },
    {
     "name": "stdout",
     "output_type": "stream",
     "text": [
      "\u001b[2m\u001b[36m(apply_list_of_funcs pid=72610)\u001b[0m \n",
      "\u001b[2m\u001b[36m(apply_list_of_funcs pid=72616)\u001b[0m \n",
      "\u001b[2m\u001b[36m(apply_func pid=72616)\u001b[0m \n",
      "\u001b[2m\u001b[36m(apply_list_of_funcs pid=72722)\u001b[0m \n"
     ]
    },
    {
     "name": "stderr",
     "output_type": "stream",
     "text": [
      "\u001b[2m\u001b[36m(apply_list_of_funcs pid=72718)\u001b[0m \n"
     ]
    },
    {
     "name": "stdout",
     "output_type": "stream",
     "text": [
      "\u001b[2m\u001b[36m(apply_list_of_funcs pid=72720)\u001b[0m \n",
      "\u001b[2m\u001b[36m(apply_list_of_funcs pid=72616)\u001b[0m \n",
      "\u001b[2m\u001b[36m(apply_list_of_funcs pid=72610)\u001b[0m \n",
      "\u001b[2m\u001b[36m(apply_list_of_funcs pid=72721)\u001b[0m \n"
     ]
    },
    {
     "name": "stderr",
     "output_type": "stream",
     "text": [
      "\u001b[2m\u001b[36m(apply_list_of_funcs pid=72722)\u001b[0m \n"
     ]
    },
    {
     "name": "stdout",
     "output_type": "stream",
     "text": [
      "\u001b[2m\u001b[36m(apply_func pid=72722)\u001b[0m \n"
     ]
    },
    {
     "name": "stderr",
     "output_type": "stream",
     "text": [
      "\u001b[2m\u001b[36m(apply_list_of_funcs pid=72615)\u001b[0m \n"
     ]
    },
    {
     "name": "stdout",
     "output_type": "stream",
     "text": [
      "\u001b[2m\u001b[36m(apply_list_of_funcs pid=72718)\u001b[0m \n",
      "\u001b[2m\u001b[36m(apply_list_of_funcs pid=72610)\u001b[0m \n",
      "\u001b[2m\u001b[36m(apply_func pid=72719)\u001b[0m \n",
      "\u001b[2m\u001b[36m(apply_list_of_funcs pid=72615)\u001b[0m \n",
      "\u001b[2m\u001b[36m(apply_list_of_funcs pid=72722)\u001b[0m \n",
      "\u001b[2m\u001b[36m(apply_func pid=72720)\u001b[0m \n",
      "\u001b[2m\u001b[36m(apply_list_of_funcs pid=72721)\u001b[0m \n",
      "\u001b[2m\u001b[36m(apply_func pid=72610)\u001b[0m \n"
     ]
    },
    {
     "name": "stderr",
     "output_type": "stream",
     "text": [
      "\u001b[2m\u001b[36m(apply_list_of_funcs pid=72618)\u001b[0m \n"
     ]
    },
    {
     "name": "stdout",
     "output_type": "stream",
     "text": [
      "\u001b[2m\u001b[36m(apply_list_of_funcs pid=72722)\u001b[0m \n",
      "\u001b[2m\u001b[36m(apply_list_of_funcs pid=72721)\u001b[0m \n",
      "\u001b[2m\u001b[36m(apply_list_of_funcs pid=72719)\u001b[0m \n",
      "\u001b[2m\u001b[36m(apply_func pid=72616)\u001b[0m \n"
     ]
    },
    {
     "name": "stderr",
     "output_type": "stream",
     "text": [
      "\u001b[2m\u001b[36m(apply_func pid=72721)\u001b[0m \n"
     ]
    },
    {
     "name": "stdout",
     "output_type": "stream",
     "text": [
      "\u001b[2m\u001b[36m(apply_func pid=72618)\u001b[0m \n",
      "\u001b[2m\u001b[36m(apply_list_of_funcs pid=72718)\u001b[0m \n"
     ]
    },
    {
     "name": "stderr",
     "output_type": "stream",
     "text": [
      "\u001b[2m\u001b[36m(apply_list_of_funcs pid=72721)\u001b[0m \n"
     ]
    },
    {
     "name": "stdout",
     "output_type": "stream",
     "text": [
      "\u001b[2m\u001b[36m(apply_list_of_funcs pid=72720)\u001b[0m \n",
      "\u001b[2m\u001b[36m(apply_func pid=72615)\u001b[0m \n",
      "\u001b[2m\u001b[36m(apply_list_of_funcs pid=72613)\u001b[0m \n",
      "\u001b[2m\u001b[36m(apply_list_of_funcs pid=72718)\u001b[0m \n",
      "\u001b[2m\u001b[36m(apply_func pid=72616)\u001b[0m \n",
      "\u001b[2m\u001b[36m(apply_list_of_funcs pid=72615)\u001b[0m \n",
      "\u001b[2m\u001b[36m(apply_list_of_funcs pid=72618)\u001b[0m \n"
     ]
    },
    {
     "name": "stderr",
     "output_type": "stream",
     "text": [
      "\u001b[2m\u001b[36m(apply_list_of_funcs pid=72719)\u001b[0m \n"
     ]
    },
    {
     "name": "stdout",
     "output_type": "stream",
     "text": [
      "\u001b[2m\u001b[36m(apply_func pid=72720)\u001b[0m \n",
      "\u001b[2m\u001b[36m(apply_func pid=72718)\u001b[0m \n"
     ]
    },
    {
     "name": "stderr",
     "output_type": "stream",
     "text": [
      "\u001b[2m\u001b[36m(apply_list_of_funcs pid=72610)\u001b[0m \n"
     ]
    },
    {
     "name": "stdout",
     "output_type": "stream",
     "text": [
      "\u001b[2m\u001b[36m(apply_list_of_funcs pid=72721)\u001b[0m \n",
      "\u001b[2m\u001b[36m(apply_list_of_funcs pid=72615)\u001b[0m \n",
      "\u001b[2m\u001b[36m(apply_list_of_funcs pid=72718)\u001b[0m \n",
      "\u001b[2m\u001b[36m(apply_func pid=72610)\u001b[0m \n",
      "\u001b[2m\u001b[36m(apply_func pid=72719)\u001b[0m \n"
     ]
    },
    {
     "name": "stderr",
     "output_type": "stream",
     "text": [
      "\u001b[2m\u001b[36m(apply_list_of_funcs pid=72610)\u001b[0m \n"
     ]
    },
    {
     "name": "stdout",
     "output_type": "stream",
     "text": [
      "\u001b[2m\u001b[36m(apply_func pid=72719)\u001b[0m \n",
      "\u001b[2m\u001b[36m(apply_list_of_funcs pid=72613)\u001b[0m \n"
     ]
    },
    {
     "name": "stderr",
     "output_type": "stream",
     "text": [
      "\u001b[2m\u001b[36m(apply_func pid=72721)\u001b[0m \n"
     ]
    },
    {
     "name": "stdout",
     "output_type": "stream",
     "text": [
      "\u001b[2m\u001b[36m(apply_list_of_funcs pid=72616)\u001b[0m \n",
      "\u001b[2m\u001b[36m(apply_func pid=72613)\u001b[0m \n",
      "\u001b[2m\u001b[36m(apply_func pid=72615)\u001b[0m \n",
      "\u001b[2m\u001b[36m(apply_func pid=72719)\u001b[0m \n",
      "\u001b[2m\u001b[36m(apply_list_of_funcs pid=72720)\u001b[0m \n"
     ]
    },
    {
     "name": "stderr",
     "output_type": "stream",
     "text": [
      "\u001b[2m\u001b[36m(apply_list_of_funcs pid=72721)\u001b[0m \n"
     ]
    },
    {
     "name": "stdout",
     "output_type": "stream",
     "text": [
      "\u001b[2m\u001b[36m(apply_list_of_funcs pid=72618)\u001b[0m \n"
     ]
    },
    {
     "name": "stderr",
     "output_type": "stream",
     "text": [
      "\u001b[2m\u001b[36m(apply_list_of_funcs pid=72613)\u001b[0m \n"
     ]
    },
    {
     "name": "stdout",
     "output_type": "stream",
     "text": [
      "\u001b[2m\u001b[36m(apply_list_of_funcs pid=72613)\u001b[0m \n",
      "\u001b[2m\u001b[36m(apply_list_of_funcs pid=72615)\u001b[0m \n",
      "\u001b[2m\u001b[36m(apply_func pid=72719)\u001b[0m \n"
     ]
    },
    {
     "name": "stderr",
     "output_type": "stream",
     "text": [
      "\u001b[2m\u001b[36m(apply_list_of_funcs pid=72719)\u001b[0m \n",
      "\u001b[2m\u001b[36m(apply_func pid=72616)\u001b[0m \n"
     ]
    },
    {
     "name": "stdout",
     "output_type": "stream",
     "text": [
      "\u001b[2m\u001b[36m(apply_list_of_funcs pid=72610)\u001b[0m \n"
     ]
    },
    {
     "name": "stderr",
     "output_type": "stream",
     "text": [
      "\u001b[2m\u001b[36m(apply_list_of_funcs pid=72720)\u001b[0m \n"
     ]
    },
    {
     "name": "stdout",
     "output_type": "stream",
     "text": [
      "\u001b[2m\u001b[36m(apply_func pid=72615)\u001b[0m \n",
      "\u001b[2m\u001b[36m(apply_list_of_funcs pid=72613)\u001b[0m \n",
      "\u001b[2m\u001b[36m(apply_func pid=72722)\u001b[0m \n",
      "\u001b[2m\u001b[36m(apply_list_of_funcs pid=72615)\u001b[0m \n"
     ]
    },
    {
     "name": "stderr",
     "output_type": "stream",
     "text": [
      "\u001b[2m\u001b[36m(apply_list_of_funcs pid=72615)\u001b[0m \n"
     ]
    },
    {
     "name": "stdout",
     "output_type": "stream",
     "text": [
      "\u001b[2m\u001b[36m(apply_list_of_funcs pid=72616)\u001b[0m \n",
      "\u001b[2m\u001b[36m(apply_list_of_funcs pid=72720)\u001b[0m \n",
      "\u001b[2m\u001b[36m(apply_func pid=72720)\u001b[0m \n",
      "\u001b[2m\u001b[36m(apply_func pid=72718)\u001b[0m \n",
      "\u001b[2m\u001b[36m(apply_list_of_funcs pid=72718)\u001b[0m \n",
      "\u001b[2m\u001b[36m(apply_list_of_funcs pid=72616)\u001b[0m \n",
      "\u001b[2m\u001b[36m(apply_list_of_funcs pid=72719)\u001b[0m \n",
      "\u001b[2m\u001b[36m(apply_list_of_funcs pid=72610)\u001b[0m \n"
     ]
    },
    {
     "name": "stderr",
     "output_type": "stream",
     "text": [
      "\u001b[2m\u001b[36m(apply_list_of_funcs pid=72719)\u001b[0m \n"
     ]
    },
    {
     "name": "stdout",
     "output_type": "stream",
     "text": [
      "\u001b[2m\u001b[36m(apply_func pid=72615)\u001b[0m \n"
     ]
    },
    {
     "name": "stderr",
     "output_type": "stream",
     "text": [
      "\u001b[2m\u001b[36m(apply_list_of_funcs pid=72615)\u001b[0m \n"
     ]
    },
    {
     "name": "stdout",
     "output_type": "stream",
     "text": [
      "\u001b[2m\u001b[36m(apply_list_of_funcs pid=72613)\u001b[0m \n"
     ]
    },
    {
     "name": "stderr",
     "output_type": "stream",
     "text": [
      "\u001b[2m\u001b[36m(apply_func pid=72718)\u001b[0m \n",
      "\u001b[2m\u001b[36m(apply_func pid=72720)\u001b[0m \n"
     ]
    },
    {
     "name": "stdout",
     "output_type": "stream",
     "text": [
      "\u001b[2m\u001b[36m(apply_list_of_funcs pid=72719)\u001b[0m \n",
      "\u001b[2m\u001b[36m(apply_list_of_funcs pid=72616)\u001b[0m \n",
      "\u001b[2m\u001b[36m(apply_list_of_funcs pid=72616)\u001b[0m \n",
      "\u001b[2m\u001b[36m(apply_list_of_funcs pid=72719)\u001b[0m \n",
      "\u001b[2m\u001b[36m(apply_list_of_funcs pid=72720)\u001b[0m \n"
     ]
    },
    {
     "name": "stderr",
     "output_type": "stream",
     "text": [
      "\u001b[2m\u001b[36m(apply_list_of_funcs pid=72719)\u001b[0m \n",
      "\u001b[2m\u001b[36m(apply_list_of_funcs pid=72618)\u001b[0m \n",
      "\u001b[2m\u001b[36m(apply_list_of_funcs pid=72720)\u001b[0m \n",
      "\u001b[2m\u001b[36m(apply_list_of_funcs pid=72613)\u001b[0m \n"
     ]
    },
    {
     "name": "stdout",
     "output_type": "stream",
     "text": [
      "\u001b[2m\u001b[36m(apply_list_of_funcs pid=72613)\u001b[0m \n",
      "\u001b[2m\u001b[36m(apply_list_of_funcs pid=72610)\u001b[0m \n",
      "\u001b[2m\u001b[36m(apply_list_of_funcs pid=72615)\u001b[0m \n",
      "\u001b[2m\u001b[36m(apply_list_of_funcs pid=72616)\u001b[0m \n",
      "\u001b[2m\u001b[36m(apply_list_of_funcs pid=72720)\u001b[0m \n"
     ]
    },
    {
     "name": "stderr",
     "output_type": "stream",
     "text": [
      "\u001b[2m\u001b[36m(apply_func pid=72718)\u001b[0m \n"
     ]
    },
    {
     "name": "stdout",
     "output_type": "stream",
     "text": [
      "\u001b[2m\u001b[36m(apply_func pid=72722)\u001b[0m \n",
      "\u001b[2m\u001b[36m(apply_list_of_funcs pid=72610)\u001b[0m \n"
     ]
    },
    {
     "name": "stderr",
     "output_type": "stream",
     "text": [
      "\u001b[2m\u001b[36m(apply_list_of_funcs pid=72618)\u001b[0m \n",
      "\u001b[2m\u001b[36m(apply_list_of_funcs pid=72722)\u001b[0m \n"
     ]
    },
    {
     "name": "stdout",
     "output_type": "stream",
     "text": [
      "\u001b[2m\u001b[36m(apply_list_of_funcs pid=72610)\u001b[0m \n",
      "\u001b[2m\u001b[36m(apply_func pid=72613)\u001b[0m \n"
     ]
    },
    {
     "name": "stderr",
     "output_type": "stream",
     "text": [
      "\u001b[2m\u001b[36m(apply_list_of_funcs pid=72618)\u001b[0m \n",
      "\u001b[2m\u001b[36m(apply_list_of_funcs pid=72722)\u001b[0m \n"
     ]
    },
    {
     "name": "stdout",
     "output_type": "stream",
     "text": [
      "\u001b[2m\u001b[36m(apply_func pid=72610)\u001b[0m \n",
      "\u001b[2m\u001b[36m(apply_list_of_funcs pid=72618)\u001b[0m \n",
      "\u001b[2m\u001b[36m(apply_func pid=72718)\u001b[0m \n",
      "\u001b[2m\u001b[36m(apply_list_of_funcs pid=72618)\u001b[0m \n",
      "\u001b[2m\u001b[36m(apply_func pid=72616)\u001b[0m \n",
      "\u001b[2m\u001b[36m(apply_func pid=72721)\u001b[0m \n",
      "\u001b[2m\u001b[36m(apply_func pid=72618)\u001b[0m \n",
      "\u001b[2m\u001b[36m(apply_list_of_funcs pid=72616)\u001b[0m \n",
      "\u001b[2m\u001b[36m(apply_list_of_funcs pid=72610)\u001b[0m \n",
      "\u001b[2m\u001b[36m(apply_list_of_funcs pid=72610)\u001b[0m \n",
      "\u001b[2m\u001b[36m(apply_list_of_funcs pid=72719)\u001b[0m \n",
      "\u001b[2m\u001b[36m(apply_list_of_funcs pid=72613)\u001b[0m \n"
     ]
    },
    {
     "name": "stderr",
     "output_type": "stream",
     "text": [
      "\u001b[2m\u001b[36m(apply_list_of_funcs pid=72721)\u001b[0m \n"
     ]
    },
    {
     "name": "stdout",
     "output_type": "stream",
     "text": [
      "\u001b[2m\u001b[36m(apply_list_of_funcs pid=72720)\u001b[0m \n",
      "\u001b[2m\u001b[36m(apply_func pid=72613)\u001b[0m \n",
      "\u001b[2m\u001b[36m(apply_list_of_funcs pid=72613)\u001b[0m \n",
      "\u001b[2m\u001b[36m(apply_func pid=72613)\u001b[0m \n"
     ]
    },
    {
     "name": "stderr",
     "output_type": "stream",
     "text": [
      "\u001b[2m\u001b[36m(apply_list_of_funcs pid=72719)\u001b[0m \n"
     ]
    },
    {
     "name": "stdout",
     "output_type": "stream",
     "text": [
      "\u001b[2m\u001b[36m(apply_list_of_funcs pid=72718)\u001b[0m \n",
      "\u001b[2m\u001b[36m(apply_list_of_funcs pid=72613)\u001b[0m \n",
      "\u001b[2m\u001b[36m(apply_func pid=72618)\u001b[0m \n"
     ]
    },
    {
     "name": "stderr",
     "output_type": "stream",
     "text": [
      "\u001b[2m\u001b[36m(apply_func pid=72618)\u001b[0m \n"
     ]
    },
    {
     "name": "stdout",
     "output_type": "stream",
     "text": [
      "\u001b[2m\u001b[36m(apply_list_of_funcs pid=72613)\u001b[0m \n",
      "\u001b[2m\u001b[36m(apply_list_of_funcs pid=72720)\u001b[0m \n",
      "\u001b[2m\u001b[36m(apply_func pid=72616)\u001b[0m \n"
     ]
    },
    {
     "name": "stderr",
     "output_type": "stream",
     "text": [
      "\u001b[2m\u001b[36m(apply_list_of_funcs pid=72610)\u001b[0m \n"
     ]
    },
    {
     "name": "stdout",
     "output_type": "stream",
     "text": [
      "\u001b[2m\u001b[36m(apply_list_of_funcs pid=72721)\u001b[0m \n",
      "\u001b[2m\u001b[36m(apply_list_of_funcs pid=72722)\u001b[0m \n",
      "\u001b[2m\u001b[36m(apply_list_of_funcs pid=72616)\u001b[0m \n",
      "\u001b[2m\u001b[36m(apply_func pid=72613)\u001b[0m \n",
      "\u001b[2m\u001b[36m(apply_list_of_funcs pid=72722)\u001b[0m \n"
     ]
    },
    {
     "name": "stderr",
     "output_type": "stream",
     "text": [
      "\u001b[2m\u001b[36m(apply_list_of_funcs pid=72610)\u001b[0m \n"
     ]
    },
    {
     "name": "stdout",
     "output_type": "stream",
     "text": [
      "\u001b[2m\u001b[36m(apply_list_of_funcs pid=72719)\u001b[0m \n",
      "\u001b[2m\u001b[36m(apply_func pid=72610)\u001b[0m \n"
     ]
    },
    {
     "name": "stderr",
     "output_type": "stream",
     "text": [
      "\u001b[2m\u001b[36m(apply_list_of_funcs pid=72718)\u001b[0m \n"
     ]
    },
    {
     "name": "stdout",
     "output_type": "stream",
     "text": [
      "\u001b[2m\u001b[36m(apply_list_of_funcs pid=72618)\u001b[0m \n",
      "\u001b[2m\u001b[36m(apply_list_of_funcs pid=72721)\u001b[0m \n"
     ]
    },
    {
     "name": "stderr",
     "output_type": "stream",
     "text": [
      "\u001b[2m\u001b[36m(apply_list_of_funcs pid=72613)\u001b[0m \n",
      "\u001b[2m\u001b[36m(apply_list_of_funcs pid=72719)\u001b[0m \n"
     ]
    },
    {
     "name": "stdout",
     "output_type": "stream",
     "text": [
      "\u001b[2m\u001b[36m(apply_func pid=72718)\u001b[0m \n",
      "\u001b[2m\u001b[36m(apply_func pid=72719)\u001b[0m \n"
     ]
    },
    {
     "name": "stderr",
     "output_type": "stream",
     "text": [
      "\u001b[2m\u001b[36m(apply_list_of_funcs pid=72616)\u001b[0m \n"
     ]
    },
    {
     "name": "stdout",
     "output_type": "stream",
     "text": [
      "\u001b[2m\u001b[36m(apply_list_of_funcs pid=72613)\u001b[0m \n",
      "\u001b[2m\u001b[36m(apply_list_of_funcs pid=72615)\u001b[0m \n",
      "\u001b[2m\u001b[36m(apply_list_of_funcs pid=72615)\u001b[0m \n"
     ]
    }
   ],
   "source": [
    "stream_df = pd.read_csv(f'{path}/stream.csv')\n",
    "data_to_send = dict()\n",
    "for ts in stream_df['timestamp'].unique():\n",
    "    curr_data = stream_df[stream_df['timestamp'] == ts]\n",
    "    data_to_send[ts] = curr_data"
   ]
  },
  {
   "cell_type": "code",
   "execution_count": 21,
   "id": "89973789",
   "metadata": {},
   "outputs": [],
   "source": [
    "def simulate(scheduler, updater, stream, df, update_cadence, num_update):\n",
    "    ts = df['timestamp'].min()\n",
    "    end_ts = df['timestamp'].max()\n",
    "    \n",
    "    predictions = []\n",
    "    next_feature_update_time = ts + update_cadence\n",
    "    num_updates = 0\n",
    "    num_processed = 0\n",
    "    \n",
    "    while ts <= end_ts:\n",
    "        if ts in stream:\n",
    "            curr_data = stream[ts]\n",
    "            for row in curr_data.itertuples():\n",
    "                scheduler.push(row)\n",
    "                predictions.append(updater.predict(row))\n",
    "            num_processed += len(curr_data)\n",
    "        if ts >= next_feature_update_time:\n",
    "            # how many records to process\n",
    "            rows = []\n",
    "            for i in range(num_update):\n",
    "                row = scheduler.pop()\n",
    "                if row:\n",
    "                    rows.append(row)\n",
    "            updater.update(rows)\n",
    "            num_updates += len(rows)\n",
    "            next_feature_update_time += update_cadence\n",
    "        ts += 1\n",
    "    return predictions"
   ]
  },
  {
   "cell_type": "code",
   "execution_count": 22,
   "id": "bca17449",
   "metadata": {},
   "outputs": [],
   "source": [
    "def run_simulations(scheduler_list, updater_list, stream, df, update_cadences, num_updates):\n",
    "    experiments = []\n",
    "    for scheduler in scheduler_list:\n",
    "        for updater in updater_list:\n",
    "            print(\"Scheduler\")\n",
    "            for update_cadence in update_cadences:\n",
    "                for num_update in num_updates:\n",
    "                    experiment_name = f'{scheduler.name}_{updater.name}_{update_cadence}_{num_update}_predictions'\n",
    "                    start = time.time()\n",
    "                    predictions = simulate(scheduler, updater, stream, df, update_cadence, num_update)\n",
    "                    elapsed = time.time() - start\n",
    "                    stream[experiment_name] = predictions\n",
    "                    mse = mean_squared_error(stream['rating'], stream[experiment_name])\n",
    "                    experiments.append([experiment_name, elapsed, mse])\n",
    "    return stream, experiments"
   ]
  },
  {
   "cell_type": "code",
   "execution_count": 23,
   "id": "91df2a83",
   "metadata": {
    "scrolled": true
   },
   "outputs": [
    {
     "name": "stderr",
     "output_type": "stream",
     "text": [
      "\r",
      "[Stage 347:>                                                        (0 + 1) / 1]\r",
      "\r",
      "                                                                                \r"
     ]
    }
   ],
   "source": [
    "train_df = spark_df.toPandas()"
   ]
  },
  {
   "cell_type": "code",
   "execution_count": 24,
   "id": "235a9ac6",
   "metadata": {},
   "outputs": [
    {
     "data": {
      "text/plain": [
       "(6041, 3953)"
      ]
     },
     "execution_count": 24,
     "metadata": {},
     "output_type": "execute_result"
    }
   ],
   "source": [
    "max_user = train_df.max()[0]\n",
    "if stream_df.max()[0] > max_user:\n",
    "    max_user = stream_df.max()[0]\n",
    "max_user += 1\n",
    "\n",
    "max_movie = train_df.max()[1]\n",
    "if stream_df.max()[1] > max_movie:\n",
    "    max_movie = stream_df.max()[1]\n",
    "max_movie += 1\n",
    "\n",
    "max_user, max_movie"
   ]
  },
  {
   "cell_type": "code",
   "execution_count": 26,
   "id": "abff18af",
   "metadata": {},
   "outputs": [],
   "source": [
    "def construct_matrices(df, max_user, max_movie):\n",
    "    confidence_matrix = np.zeros((max_user, max_movie))\n",
    "    ratings_matrix = np.copy(confidence_matrix)\n",
    "    for row in df.itertuples():\n",
    "        confidence_matrix[row.user_id][row.movie_id] = 1\n",
    "        ratings_matrix[row.user_id][row.movie_id] = row.rating\n",
    "    return ratings_matrix, confidence_matrix\n",
    "    \n",
    "rating_matrix, confidence_matrix = construct_matrices(train_df, max_user, max_movie)"
   ]
  },
  {
   "cell_type": "code",
   "execution_count": 52,
   "id": "11c779f8",
   "metadata": {},
   "outputs": [],
   "source": [
    "scheduler_list = [MaxPendingScheduler(), FewestUpdateScheduler(), FIFOScheduler()]\n",
    "sgd_updater = SGDUpdater(user_features, product_features, .02, .01, .01)\n",
    "als_updater = ALSUpdater(user_features, product_features, rating_matrix, confidence_matrix, max_user, max_movie, 0, 0)\n",
    "updater_list = [als_updater, sgd_updater]"
   ]
  },
  {
   "cell_type": "code",
   "execution_count": 53,
   "id": "22dce1b3",
   "metadata": {},
   "outputs": [
    {
     "name": "stdout",
     "output_type": "stream",
     "text": [
      "Scheduler\n",
      "(50, 3953) (3953,) (50, 50) (50,)\n"
     ]
    },
    {
     "ename": "LinAlgError",
     "evalue": "Singular matrix",
     "output_type": "error",
     "traceback": [
      "\u001b[0;31m---------------------------------------------------------------------------\u001b[0m",
      "\u001b[0;31mLinAlgError\u001b[0m                               Traceback (most recent call last)",
      "\u001b[0;32m/var/folders/p5/zwk89rgd0cdf07_7k1wdqjgw0000gn/T/ipykernel_72593/200651930.py\u001b[0m in \u001b[0;36m<module>\u001b[0;34m\u001b[0m\n\u001b[0;32m----> 1\u001b[0;31m \u001b[0mstream_prediction_df\u001b[0m\u001b[0;34m,\u001b[0m \u001b[0mexperiments\u001b[0m \u001b[0;34m=\u001b[0m \u001b[0mrun_simulations\u001b[0m\u001b[0;34m(\u001b[0m\u001b[0mscheduler_list\u001b[0m\u001b[0;34m,\u001b[0m \u001b[0mupdater_list\u001b[0m\u001b[0;34m,\u001b[0m \u001b[0mdata_to_send\u001b[0m\u001b[0;34m,\u001b[0m \u001b[0mstream_df\u001b[0m\u001b[0;34m,\u001b[0m \u001b[0;34m[\u001b[0m\u001b[0;36m1000\u001b[0m\u001b[0;34m]\u001b[0m\u001b[0;34m,\u001b[0m \u001b[0;34m[\u001b[0m\u001b[0;36m1\u001b[0m\u001b[0;34m]\u001b[0m\u001b[0;34m)\u001b[0m\u001b[0;34m\u001b[0m\u001b[0;34m\u001b[0m\u001b[0m\n\u001b[0m",
      "\u001b[0;32m/var/folders/p5/zwk89rgd0cdf07_7k1wdqjgw0000gn/T/ipykernel_72593/1663944996.py\u001b[0m in \u001b[0;36mrun_simulations\u001b[0;34m(scheduler_list, updater_list, stream, df, update_cadences, num_updates)\u001b[0m\n\u001b[1;32m      8\u001b[0m                     \u001b[0mexperiment_name\u001b[0m \u001b[0;34m=\u001b[0m \u001b[0;34mf'{scheduler.name}_{updater.name}_{update_cadence}_{num_update}_predictions'\u001b[0m\u001b[0;34m\u001b[0m\u001b[0;34m\u001b[0m\u001b[0m\n\u001b[1;32m      9\u001b[0m                     \u001b[0mstart\u001b[0m \u001b[0;34m=\u001b[0m \u001b[0mtime\u001b[0m\u001b[0;34m.\u001b[0m\u001b[0mtime\u001b[0m\u001b[0;34m(\u001b[0m\u001b[0;34m)\u001b[0m\u001b[0;34m\u001b[0m\u001b[0;34m\u001b[0m\u001b[0m\n\u001b[0;32m---> 10\u001b[0;31m                     \u001b[0mpredictions\u001b[0m \u001b[0;34m=\u001b[0m \u001b[0msimulate\u001b[0m\u001b[0;34m(\u001b[0m\u001b[0mscheduler\u001b[0m\u001b[0;34m,\u001b[0m \u001b[0mupdater\u001b[0m\u001b[0;34m,\u001b[0m \u001b[0mstream\u001b[0m\u001b[0;34m,\u001b[0m \u001b[0mdf\u001b[0m\u001b[0;34m,\u001b[0m \u001b[0mupdate_cadence\u001b[0m\u001b[0;34m,\u001b[0m \u001b[0mnum_update\u001b[0m\u001b[0;34m)\u001b[0m\u001b[0;34m\u001b[0m\u001b[0;34m\u001b[0m\u001b[0m\n\u001b[0m\u001b[1;32m     11\u001b[0m                     \u001b[0melapsed\u001b[0m \u001b[0;34m=\u001b[0m \u001b[0mtime\u001b[0m\u001b[0;34m.\u001b[0m\u001b[0mtime\u001b[0m\u001b[0;34m(\u001b[0m\u001b[0;34m)\u001b[0m \u001b[0;34m-\u001b[0m \u001b[0mstart\u001b[0m\u001b[0;34m\u001b[0m\u001b[0;34m\u001b[0m\u001b[0m\n\u001b[1;32m     12\u001b[0m                     \u001b[0mstream\u001b[0m\u001b[0;34m[\u001b[0m\u001b[0mexperiment_name\u001b[0m\u001b[0;34m]\u001b[0m \u001b[0;34m=\u001b[0m \u001b[0mpredictions\u001b[0m\u001b[0;34m\u001b[0m\u001b[0;34m\u001b[0m\u001b[0m\n",
      "\u001b[0;32m/var/folders/p5/zwk89rgd0cdf07_7k1wdqjgw0000gn/T/ipykernel_72593/1240153808.py\u001b[0m in \u001b[0;36msimulate\u001b[0;34m(scheduler, updater, stream, df, update_cadence, num_update)\u001b[0m\n\u001b[1;32m     22\u001b[0m                 \u001b[0;32mif\u001b[0m \u001b[0mrow\u001b[0m\u001b[0;34m:\u001b[0m\u001b[0;34m\u001b[0m\u001b[0;34m\u001b[0m\u001b[0m\n\u001b[1;32m     23\u001b[0m                     \u001b[0mrows\u001b[0m\u001b[0;34m.\u001b[0m\u001b[0mappend\u001b[0m\u001b[0;34m(\u001b[0m\u001b[0mrow\u001b[0m\u001b[0;34m)\u001b[0m\u001b[0;34m\u001b[0m\u001b[0;34m\u001b[0m\u001b[0m\n\u001b[0;32m---> 24\u001b[0;31m             \u001b[0mupdater\u001b[0m\u001b[0;34m.\u001b[0m\u001b[0mupdate\u001b[0m\u001b[0;34m(\u001b[0m\u001b[0mrows\u001b[0m\u001b[0;34m)\u001b[0m\u001b[0;34m\u001b[0m\u001b[0;34m\u001b[0m\u001b[0m\n\u001b[0m\u001b[1;32m     25\u001b[0m             \u001b[0mnum_updates\u001b[0m \u001b[0;34m+=\u001b[0m \u001b[0mlen\u001b[0m\u001b[0;34m(\u001b[0m\u001b[0mrows\u001b[0m\u001b[0;34m)\u001b[0m\u001b[0;34m\u001b[0m\u001b[0;34m\u001b[0m\u001b[0m\n\u001b[1;32m     26\u001b[0m             \u001b[0mnext_feature_update_time\u001b[0m \u001b[0;34m+=\u001b[0m \u001b[0mupdate_cadence\u001b[0m\u001b[0;34m\u001b[0m\u001b[0;34m\u001b[0m\u001b[0m\n",
      "\u001b[0;32m/var/folders/p5/zwk89rgd0cdf07_7k1wdqjgw0000gn/T/ipykernel_72593/883530486.py\u001b[0m in \u001b[0;36mupdate\u001b[0;34m(self, rows)\u001b[0m\n\u001b[1;32m     27\u001b[0m             \u001b[0mright\u001b[0m \u001b[0;34m=\u001b[0m \u001b[0mnp\u001b[0m\u001b[0;34m.\u001b[0m\u001b[0mdot\u001b[0m\u001b[0;34m(\u001b[0m\u001b[0mself\u001b[0m\u001b[0;34m.\u001b[0m\u001b[0mmovie_matrix\u001b[0m\u001b[0;34m.\u001b[0m\u001b[0mT\u001b[0m\u001b[0;34m,\u001b[0m \u001b[0mnp\u001b[0m\u001b[0;34m.\u001b[0m\u001b[0mdot\u001b[0m\u001b[0;34m(\u001b[0m\u001b[0mnp\u001b[0m\u001b[0;34m.\u001b[0m\u001b[0mdiag\u001b[0m\u001b[0;34m(\u001b[0m\u001b[0muser_confidence_row\u001b[0m\u001b[0;34m)\u001b[0m\u001b[0;34m,\u001b[0m \u001b[0mself\u001b[0m\u001b[0;34m.\u001b[0m\u001b[0mrating_matrix\u001b[0m\u001b[0;34m[\u001b[0m\u001b[0muser_id\u001b[0m\u001b[0;34m]\u001b[0m\u001b[0;34m.\u001b[0m\u001b[0mT\u001b[0m\u001b[0;34m)\u001b[0m\u001b[0;34m)\u001b[0m\u001b[0;34m\u001b[0m\u001b[0;34m\u001b[0m\u001b[0m\n\u001b[1;32m     28\u001b[0m             \u001b[0mprint\u001b[0m\u001b[0;34m(\u001b[0m\u001b[0mself\u001b[0m\u001b[0;34m.\u001b[0m\u001b[0mmovie_matrix\u001b[0m\u001b[0;34m.\u001b[0m\u001b[0mT\u001b[0m\u001b[0;34m.\u001b[0m\u001b[0mshape\u001b[0m\u001b[0;34m,\u001b[0m \u001b[0mnp\u001b[0m\u001b[0;34m.\u001b[0m\u001b[0mdot\u001b[0m\u001b[0;34m(\u001b[0m\u001b[0mnp\u001b[0m\u001b[0;34m.\u001b[0m\u001b[0mdiag\u001b[0m\u001b[0;34m(\u001b[0m\u001b[0muser_confidence_row\u001b[0m\u001b[0;34m)\u001b[0m\u001b[0;34m,\u001b[0m \u001b[0mself\u001b[0m\u001b[0;34m.\u001b[0m\u001b[0mrating_matrix\u001b[0m\u001b[0;34m[\u001b[0m\u001b[0muser_id\u001b[0m\u001b[0;34m]\u001b[0m\u001b[0;34m.\u001b[0m\u001b[0mT\u001b[0m\u001b[0;34m)\u001b[0m\u001b[0;34m.\u001b[0m\u001b[0mshape\u001b[0m\u001b[0;34m,\u001b[0m \u001b[0mleft\u001b[0m\u001b[0;34m.\u001b[0m\u001b[0mshape\u001b[0m\u001b[0;34m,\u001b[0m \u001b[0mright\u001b[0m\u001b[0;34m.\u001b[0m\u001b[0mshape\u001b[0m\u001b[0;34m)\u001b[0m\u001b[0;34m\u001b[0m\u001b[0;34m\u001b[0m\u001b[0m\n\u001b[0;32m---> 29\u001b[0;31m             self.user_matrix[user_id] = np.linalg.solve(\n\u001b[0m\u001b[1;32m     30\u001b[0m                     \u001b[0mleft\u001b[0m\u001b[0;34m,\u001b[0m\u001b[0;34m\u001b[0m\u001b[0;34m\u001b[0m\u001b[0m\n\u001b[1;32m     31\u001b[0m                     \u001b[0mright\u001b[0m\u001b[0;34m\u001b[0m\u001b[0;34m\u001b[0m\u001b[0m\n",
      "\u001b[0;32m/opt/homebrew/Caskroom/miniconda/base/envs/myenv/lib/python3.8/site-packages/numpy/core/overrides.py\u001b[0m in \u001b[0;36msolve\u001b[0;34m(*args, **kwargs)\u001b[0m\n",
      "\u001b[0;32m/opt/homebrew/Caskroom/miniconda/base/envs/myenv/lib/python3.8/site-packages/numpy/linalg/linalg.py\u001b[0m in \u001b[0;36msolve\u001b[0;34m(a, b)\u001b[0m\n\u001b[1;32m    391\u001b[0m     \u001b[0msignature\u001b[0m \u001b[0;34m=\u001b[0m \u001b[0;34m'DD->D'\u001b[0m \u001b[0;32mif\u001b[0m \u001b[0misComplexType\u001b[0m\u001b[0;34m(\u001b[0m\u001b[0mt\u001b[0m\u001b[0;34m)\u001b[0m \u001b[0;32melse\u001b[0m \u001b[0;34m'dd->d'\u001b[0m\u001b[0;34m\u001b[0m\u001b[0;34m\u001b[0m\u001b[0m\n\u001b[1;32m    392\u001b[0m     \u001b[0mextobj\u001b[0m \u001b[0;34m=\u001b[0m \u001b[0mget_linalg_error_extobj\u001b[0m\u001b[0;34m(\u001b[0m\u001b[0m_raise_linalgerror_singular\u001b[0m\u001b[0;34m)\u001b[0m\u001b[0;34m\u001b[0m\u001b[0;34m\u001b[0m\u001b[0m\n\u001b[0;32m--> 393\u001b[0;31m     \u001b[0mr\u001b[0m \u001b[0;34m=\u001b[0m \u001b[0mgufunc\u001b[0m\u001b[0;34m(\u001b[0m\u001b[0ma\u001b[0m\u001b[0;34m,\u001b[0m \u001b[0mb\u001b[0m\u001b[0;34m,\u001b[0m \u001b[0msignature\u001b[0m\u001b[0;34m=\u001b[0m\u001b[0msignature\u001b[0m\u001b[0;34m,\u001b[0m \u001b[0mextobj\u001b[0m\u001b[0;34m=\u001b[0m\u001b[0mextobj\u001b[0m\u001b[0;34m)\u001b[0m\u001b[0;34m\u001b[0m\u001b[0;34m\u001b[0m\u001b[0m\n\u001b[0m\u001b[1;32m    394\u001b[0m \u001b[0;34m\u001b[0m\u001b[0m\n\u001b[1;32m    395\u001b[0m     \u001b[0;32mreturn\u001b[0m \u001b[0mwrap\u001b[0m\u001b[0;34m(\u001b[0m\u001b[0mr\u001b[0m\u001b[0;34m.\u001b[0m\u001b[0mastype\u001b[0m\u001b[0;34m(\u001b[0m\u001b[0mresult_t\u001b[0m\u001b[0;34m,\u001b[0m \u001b[0mcopy\u001b[0m\u001b[0;34m=\u001b[0m\u001b[0;32mFalse\u001b[0m\u001b[0;34m)\u001b[0m\u001b[0;34m)\u001b[0m\u001b[0;34m\u001b[0m\u001b[0;34m\u001b[0m\u001b[0m\n",
      "\u001b[0;32m/opt/homebrew/Caskroom/miniconda/base/envs/myenv/lib/python3.8/site-packages/numpy/linalg/linalg.py\u001b[0m in \u001b[0;36m_raise_linalgerror_singular\u001b[0;34m(err, flag)\u001b[0m\n\u001b[1;32m     86\u001b[0m \u001b[0;34m\u001b[0m\u001b[0m\n\u001b[1;32m     87\u001b[0m \u001b[0;32mdef\u001b[0m \u001b[0m_raise_linalgerror_singular\u001b[0m\u001b[0;34m(\u001b[0m\u001b[0merr\u001b[0m\u001b[0;34m,\u001b[0m \u001b[0mflag\u001b[0m\u001b[0;34m)\u001b[0m\u001b[0;34m:\u001b[0m\u001b[0;34m\u001b[0m\u001b[0;34m\u001b[0m\u001b[0m\n\u001b[0;32m---> 88\u001b[0;31m     \u001b[0;32mraise\u001b[0m \u001b[0mLinAlgError\u001b[0m\u001b[0;34m(\u001b[0m\u001b[0;34m\"Singular matrix\"\u001b[0m\u001b[0;34m)\u001b[0m\u001b[0;34m\u001b[0m\u001b[0;34m\u001b[0m\u001b[0m\n\u001b[0m\u001b[1;32m     89\u001b[0m \u001b[0;34m\u001b[0m\u001b[0m\n\u001b[1;32m     90\u001b[0m \u001b[0;32mdef\u001b[0m \u001b[0m_raise_linalgerror_nonposdef\u001b[0m\u001b[0;34m(\u001b[0m\u001b[0merr\u001b[0m\u001b[0;34m,\u001b[0m \u001b[0mflag\u001b[0m\u001b[0;34m)\u001b[0m\u001b[0;34m:\u001b[0m\u001b[0;34m\u001b[0m\u001b[0;34m\u001b[0m\u001b[0m\n",
      "\u001b[0;31mLinAlgError\u001b[0m: Singular matrix"
     ]
    }
   ],
   "source": [
    "stream_prediction_df, experiments = run_simulations(scheduler_list, updater_list, data_to_send, stream_df, [1000], [1])"
   ]
  },
  {
   "cell_type": "code",
   "execution_count": null,
   "id": "287bceec",
   "metadata": {},
   "outputs": [],
   "source": []
  }
 ],
 "metadata": {
  "kernelspec": {
   "display_name": "Python 3 (ipykernel)",
   "language": "python",
   "name": "python3"
  },
  "language_info": {
   "codemirror_mode": {
    "name": "ipython",
    "version": 3
   },
   "file_extension": ".py",
   "mimetype": "text/x-python",
   "name": "python",
   "nbconvert_exporter": "python",
   "pygments_lexer": "ipython3",
   "version": "3.8.12"
  }
 },
 "nbformat": 4,
 "nbformat_minor": 5
}
