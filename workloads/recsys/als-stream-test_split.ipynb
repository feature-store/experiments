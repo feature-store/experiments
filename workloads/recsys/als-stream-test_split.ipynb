{
 "cells": [
  {
   "cell_type": "code",
   "execution_count": 8,
   "id": "24ce0bc5",
   "metadata": {},
   "outputs": [],
   "source": [
    "import pandas as pd\n",
    "import numpy as np\n",
    "from sklearn.model_selection import train_test_split"
   ]
  },
  {
   "cell_type": "code",
   "execution_count": 9,
   "id": "ad7088b3",
   "metadata": {},
   "outputs": [
    {
     "data": {
      "text/plain": [
       "100000"
      ]
     },
     "execution_count": 9,
     "metadata": {},
     "output_type": "execute_result"
    }
   ],
   "source": [
    "ratings_path = \"/Users/amitnarang/Downloads/ml-100k/u.data\"\n",
    "columns=[\"user_id\", \"movie_id\", \"rating\", \"timestamp\"]\n",
    "df = pd.read_csv(ratings_path, sep = '\\t')\n",
    "len(df)"
   ]
  },
  {
   "cell_type": "code",
   "execution_count": 17,
   "id": "7352efb6",
   "metadata": {},
   "outputs": [],
   "source": [
    "def fifty_split(df):\n",
    "    als_data = []\n",
    "    stream_data = []\n",
    "    test_data = []\n",
    "\n",
    "    for user_id in df[\"user_id\"].unique():\n",
    "        user_df = df[df[\"user_id\"] == user_id].sort_values(\"timestamp\")\n",
    "        test_set = user_df.tail(5)\n",
    "        user_df.drop(user_df.tail(5).index,inplace=True)\n",
    "        count = 0\n",
    "        for row in user_df.itertuples():\n",
    "            data = [row.user_id, row.movie_id, row.rating, row.timestamp]\n",
    "            if count < len(user_df) / 2:\n",
    "                als_data.append(data)\n",
    "            else:\n",
    "                stream_data.append(data)\n",
    "            count += 1\n",
    "        for row in test_set.itertuples():\n",
    "            test_data.append([row.user_id, row.movie_id, row.rating, row.timestamp])\n",
    "    als_df = pd.DataFrame(data=als_data, columns=columns).sort_values(\"timestamp\")\n",
    "    stream_df = pd.DataFrame(data=stream_data, columns=columns).sort_values(\"timestamp\")\n",
    "    test_df = pd.DataFrame(data=test_data, columns=columns).sort_values(\"timestamp\")\n",
    "    output_path = \"movielens/5050/\"\n",
    "    stream_df.to_csv(output_path + \"stream_data.csv\", index = False)\n",
    "    als_df.to_csv(output_path + \"als_data.csv\", index = False)\n",
    "    test_df.to_csv(output_path + \"test_data.csv\", index = False)\n",
    "\n",
    "def random_timestamp_split(df):\n",
    "    als_data = []\n",
    "    stream_data = []\n",
    "    test_data = []\n",
    "    print(len(df))\n",
    "    print(len(df[\"user_id\"].unique()))\n",
    "    for user_id in df[\"user_id\"].unique():\n",
    "        user_df = df[df[\"user_id\"] == user_id].sample(frac=1, random_state=7)\n",
    "        test_set = user_df.tail(5)\n",
    "        df.drop(user_df.tail(5).index,inplace=True)\n",
    "        for row in test_set.itertuples():\n",
    "            test_data.append([row.user_id, row.movie_id, row.rating, row.timestamp])\n",
    "    output_path = \"~/movielens/random_timestamp/\"\n",
    "    als_df, stream_df = train_test_split(df, test_size=0.5, random_state = 7)\n",
    "    test_df = pd.DataFrame(data=test_data, columns=columns).sample(frac=1, random_state=7)\n",
    "    stream_df.to_csv(output_path + \"stream_data.csv\", index = False)\n",
    "    als_df.to_csv(output_path + \"als_data.csv\", index = False)\n",
    "    test_df.to_csv(output_path + \"test_data.csv\", index = False)\n",
    "    \n",
    "def sarah_edit_split(df):\n",
    "    als_data = []\n",
    "    test_data = []\n",
    "\n",
    "    for user_id in df[\"user_id\"].unique():\n",
    "        user_df = df[df[\"user_id\"] == user_id].sort_values(\"timestamp\")\n",
    "        count = 0\n",
    "        for row in user_df.itertuples():\n",
    "            data = [row.user_id, row.movie_id, row.rating, row.timestamp]\n",
    "            if count < len(user_df) / 4:\n",
    "                als_data.append(data)\n",
    "            else:\n",
    "                test_data.append(data)\n",
    "            count += 1\n",
    "    als_df = pd.DataFrame(data=als_data, columns=columns).sort_values(\"timestamp\")\n",
    "    test_df = pd.DataFrame(data=test_data, columns=columns).sort_values(\"timestamp\")\n",
    "    output_path = \"~/movielens/sarah_edits/\"\n",
    "    als_df.to_csv(output_path + \"als_data.csv\", index = False)\n",
    "    test_df.to_csv(output_path + \"test_data.csv\", index = False)"
   ]
  },
  {
   "cell_type": "code",
   "execution_count": 18,
   "id": "11180eb2",
   "metadata": {},
   "outputs": [],
   "source": [
    "sarah_edit_split(df)"
   ]
  },
  {
   "cell_type": "code",
   "execution_count": null,
   "id": "9210aff6",
   "metadata": {},
   "outputs": [],
   "source": []
  }
 ],
 "metadata": {
  "kernelspec": {
   "display_name": "Python 3 (ipykernel)",
   "language": "python",
   "name": "python3"
  },
  "language_info": {
   "codemirror_mode": {
    "name": "ipython",
    "version": 3
   },
   "file_extension": ".py",
   "mimetype": "text/x-python",
   "name": "python",
   "nbconvert_exporter": "python",
   "pygments_lexer": "ipython3",
   "version": "3.8.12"
  }
 },
 "nbformat": 4,
 "nbformat_minor": 5
}
