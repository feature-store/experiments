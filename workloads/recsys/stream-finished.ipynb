{
 "cells": [
  {
   "cell_type": "code",
   "execution_count": 224,
   "id": "d1e2976a",
   "metadata": {},
   "outputs": [],
   "source": [
    "import pandas as pd\n",
    "import numpy as np\n",
    "import matplotlib.pyplot as plt\n",
    "from sklearn.metrics import mean_squared_error\n",
    "import time\n",
    "\n",
    "from pyspark.sql import SparkSession\n",
    "from pyspark.ml.evaluation import RegressionEvaluator\n",
    "from pyspark.ml.recommendation import ALS"
   ]
  },
  {
   "cell_type": "code",
   "execution_count": 225,
   "id": "33b84a90",
   "metadata": {},
   "outputs": [],
   "source": [
    "ratings_path = \"~/Downloads/ml-100k/u.data\"\n",
    "columns=[\"user_id\", \"movie_id\", \"rating\", \"timestamp\"]\n",
    "df = pd.read_csv(ratings_path, sep = '\\t')"
   ]
  },
  {
   "cell_type": "code",
   "execution_count": 226,
   "id": "e3109432",
   "metadata": {},
   "outputs": [],
   "source": [
    "def sarah_edit_split(df):\n",
    "    als_data = []\n",
    "    stream_data = []\n",
    "\n",
    "    for user_id in df[\"user_id\"].unique():\n",
    "        user_df = df[df[\"user_id\"] == user_id].sort_values(\"timestamp\")\n",
    "        count = 0\n",
    "        for row in user_df.itertuples():\n",
    "            data = [row.user_id, row.movie_id, row.rating, row.timestamp]\n",
    "            if count < len(user_df) / 2:\n",
    "                als_data.append(data)\n",
    "            else:\n",
    "                stream_data.append(data)\n",
    "            count += 1\n",
    "    als_df = pd.DataFrame(data=als_data, columns=columns).sort_values(\"timestamp\")\n",
    "    movie_list = set(als_df['movie_id'])\n",
    "    stream_df = pd.DataFrame(data=stream_data, columns=columns).sort_values(\"timestamp\")\n",
    "    print(len(stream_df))\n",
    "    stream_df = stream_df.drop(stream_df[stream_df['movie_id'].map(lambda x: x not in movie_list)].index)\n",
    "    print(len(stream_df))\n",
    "    test_df = stream_df.copy()\n",
    "    return als_df, stream_df, test_df"
   ]
  },
  {
   "cell_type": "code",
   "execution_count": 227,
   "id": "e79620af",
   "metadata": {},
   "outputs": [
    {
     "name": "stdout",
     "output_type": "stream",
     "text": [
      "49760\n",
      "49253\n"
     ]
    }
   ],
   "source": [
    "als_df, stream_df, test_df = sarah_edit_split(df)"
   ]
  },
  {
   "cell_type": "code",
   "execution_count": 228,
   "id": "1dc015c5",
   "metadata": {},
   "outputs": [],
   "source": [
    "spark = SparkSession.builder.master('local').appName('als').getOrCreate()"
   ]
  },
  {
   "cell_type": "code",
   "execution_count": 229,
   "id": "e584135e",
   "metadata": {},
   "outputs": [],
   "source": [
    "spark_als_df = spark.createDataFrame(als_df) \n",
    "spark_stream_df = spark.createDataFrame(stream_df)"
   ]
  },
  {
   "cell_type": "code",
   "execution_count": 230,
   "id": "c47a2550",
   "metadata": {},
   "outputs": [],
   "source": [
    "als = ALS(\n",
    "         userCol=\"user_id\", \n",
    "         itemCol=\"movie_id\",\n",
    "         ratingCol=\"rating\", \n",
    "         nonnegative = True, \n",
    "         implicitPrefs = False,\n",
    "         coldStartStrategy=\"drop\",\n",
    "         rank=150,\n",
    "         maxIter=10,\n",
    "         regParam=.1\n",
    ")"
   ]
  },
  {
   "cell_type": "code",
   "execution_count": 231,
   "id": "f603ee41",
   "metadata": {},
   "outputs": [
    {
     "name": "stderr",
     "output_type": "stream",
     "text": [
      "                                                                                \r"
     ]
    }
   ],
   "source": [
    "model=als.fit(spark_als_df)"
   ]
  },
  {
   "cell_type": "code",
   "execution_count": 232,
   "id": "fb55a879",
   "metadata": {},
   "outputs": [
    {
     "name": "stderr",
     "output_type": "stream",
     "text": [
      "                                                                                \r"
     ]
    },
    {
     "data": {
      "text/plain": [
       "1.0022209363046015"
      ]
     },
     "execution_count": 232,
     "metadata": {},
     "output_type": "execute_result"
    }
   ],
   "source": [
    "predictions = model.transform(spark_stream_df)\n",
    "evaluator = RegressionEvaluator().setMetricName(\"rmse\").setLabelCol(\"rating\").setPredictionCol(\"prediction\")\n",
    "rmse = evaluator.evaluate(predictions)\n",
    "rmse"
   ]
  },
  {
   "cell_type": "code",
   "execution_count": 233,
   "id": "7dece583",
   "metadata": {},
   "outputs": [],
   "source": [
    "def get_als_features(model):\n",
    "    \n",
    "    user_features = dict()\n",
    "    user_feature_df = model.userFactors.toPandas()\n",
    "    for row in user_feature_df.itertuples():\n",
    "        user_features[row.id] = np.array(row.features)\n",
    "    \n",
    "    movie_features = dict()\n",
    "    movie_feature_df = model.itemFactors.toPandas()\n",
    "    for row in movie_feature_df.itertuples():\n",
    "        movie_features[row.id] = np.array(row.features)\n",
    "    \n",
    "    return user_features, movie_features"
   ]
  },
  {
   "cell_type": "code",
   "execution_count": 234,
   "id": "be201f6b",
   "metadata": {},
   "outputs": [],
   "source": [
    "class ALSStreamingModel():\n",
    "    \n",
    "    def __init__(self, als_model, train_data, test_data, als_test_data, num_users, num_movies, learning_rate, user_bias_reg, user_feature_reg):\n",
    "        self.als_model = als_model\n",
    "        self.train_data = train_data\n",
    "        self.test_data = test_data\n",
    "        self.num_users = num_users + 1\n",
    "        self.num_movies = num_movies + 1\n",
    "        self.learning_rate = learning_rate\n",
    "        self.num_features = self.als_model.rank\n",
    "        \n",
    "        self.global_bias = 0 #np.average(train_data['rating'])\n",
    "        self.user_bias = np.zeros(self.num_users)\n",
    "        self.user_bias_reg = user_bias_reg\n",
    "        \n",
    "        # make movie vectors initialiazble, global bias = avg(rating)\n",
    "        self.user_vectors, self.movie_vectors = get_als_features(self.als_model)\n",
    "        self.user_feature_reg = user_feature_reg\n",
    "        \n",
    "        self.evaluator = RegressionEvaluator().setMetricName(\"rmse\").setLabelCol(\"rating\").setPredictionCol(\"prediction\")\n",
    "        self.als_test_data = als_test_data\n",
    "        \n",
    "    def train(self):\n",
    "        mse = []\n",
    "        als_mse = []\n",
    "        count = 0\n",
    "        for row in self.train_data.itertuples():\n",
    "            curr = time.time()\n",
    "            if count % 1000 == 0:\n",
    "                mse.append(self.compute_test_mse())\n",
    "                als_mse.append(self.compute_als_mse())\n",
    "            user_id = row.user_id\n",
    "            movie_id = row.movie_id\n",
    "            rating = row.rating\n",
    "            self.step(user_id, movie_id, rating)\n",
    "            count += 1\n",
    "            #print(time.time()-curr)\n",
    "        mse.append(self.compute_test_mse())\n",
    "        als_mse.append(self.compute_als_mse())\n",
    "        self.als_mse_record = als_mse\n",
    "        self.test_mse_record = mse\n",
    "            \n",
    "    \n",
    "    def update_features(self, user_id, movie_id, error):\n",
    "        self.user_vectors[user_id] += self.learning_rate * (error * self.movie_vectors[movie_id] - self.user_feature_reg * self.user_vectors[user_id])\n",
    "        \n",
    "    def predict_rating(self, user_id, movie_id):\n",
    "        prediction = self.user_vectors[user_id].dot(self.movie_vectors[movie_id].T)\n",
    "        return prediction\n",
    "    \n",
    "    def compute_prediction_error(self, user_id, movie_id, rating):\n",
    "        prediction = self.predict_rating(user_id, movie_id)\n",
    "        return rating - prediction\n",
    "    \n",
    "    def step(self, user_id, movie_id, rating):\n",
    "        error = self.compute_prediction_error(user_id, movie_id, rating)\n",
    "        self.update_features(user_id, movie_id, error)\n",
    "            \n",
    "    def compute_test_mse(self):\n",
    "        predictions = []\n",
    "        ratings = []\n",
    "        count = 0\n",
    "        for row in self.test_data.itertuples():\n",
    "            user_id = row.user_id\n",
    "            movie_id = row.movie_id\n",
    "            rating = row.rating\n",
    "            predictions.append(self.predict_rating(user_id, movie_id))\n",
    "            ratings.append(rating) \n",
    "        mse = mean_squared_error(ratings, predictions)\n",
    "        return mse\n",
    "    \n",
    "    def compute_train_mse(self):\n",
    "        predictions = []\n",
    "        ratings = []\n",
    "        for row in self.train_data.itertuples():\n",
    "            user_id = row.user_id\n",
    "            movie_id = row.movie_id\n",
    "            rating = row.rating\n",
    "            if movie_id in self.movie_vectors:\n",
    "                predictions.append(self.predict_rating(user_id, movie_id))\n",
    "                ratings.append(rating)\n",
    "        mse = mean_squared_error(ratings, predictions)\n",
    "        return mse\n",
    "    \n",
    "    def compute_als_mse(self):\n",
    "        user_features, movie_features = get_als_features(self.als_model)\n",
    "        '''for i in user_features:\n",
    "            print(i)\n",
    "            assert(np.testing.assert_array_equal(user_features[i], self.user_vectors[i]))\n",
    "        for i in movie_features:\n",
    "            print(i)\n",
    "            assert(np.testing.assert_array_equal(movie_features[i], self.movie_vectors[i]))'''\n",
    "        ratings = []\n",
    "        predictions = []\n",
    "        for row in self.test_data.itertuples():\n",
    "            user_id = row.user_id\n",
    "            movie_id = row.movie_id\n",
    "            rating = row.rating\n",
    "            prediction = user_features[user_id].dot(movie_features[movie_id].T)\n",
    "            predictions.append(prediction)\n",
    "            ratings.append(rating)\n",
    "        mse = mean_squared_error(ratings, predictions)\n",
    "        return mse\n",
    "    \n",
    "    def plot_learning_curve(self):\n",
    "        \"\"\"visualize the training/testing loss\"\"\"\n",
    "        linewidth = 3\n",
    "        plt.plot(self.test_mse_record, label = 'Test', linewidth = linewidth)\n",
    "        plt.plot(self.als_mse_record, label = 'ALS', linewidth = linewidth)\n",
    "        plt.xlabel('iterations')\n",
    "        plt.ylabel('MSE')\n",
    "        plt.legend(loc = 'best')"
   ]
  },
  {
   "cell_type": "code",
   "execution_count": 235,
   "id": "4a25430b",
   "metadata": {},
   "outputs": [],
   "source": [
    "def generate_optimal_hyperparameters():\n",
    "    learning_rates = [1e-3, 1e-2, 1e-1, 2e-1, 2e-2]\n",
    "    user_bias_reg = [1e-2, 1e-1, 2e-1]\n",
    "    movie_bias_reg = [1e-2, 1e-1, 2e-1]\n",
    "    user_feature_reg = [1e-2, 1e-1, 2e-1, 2e-2]\n",
    "    movie_feature_reg = [1e-2, 1e-1, 2e-1]\n",
    "\n",
    "    best_params = {}\n",
    "    best_params['learning_rate'] = None\n",
    "    best_params['user_bias_reg'] = None\n",
    "    best_params['movie_bias_reg'] = None\n",
    "    best_params['user_feature_reg'] = None\n",
    "    best_params['movie_feature_reg'] = None\n",
    "    best_params['train_mse'] = np.inf\n",
    "    best_params['test_mse'] = np.inf\n",
    "    best_params['model'] = None\n",
    "\n",
    "\n",
    "    for rate in learning_rates:\n",
    "        print(rate)\n",
    "        for ufreg in user_feature_reg:\n",
    "            als_stream = ALSStreamingModel(model, stream_df, test_df, spark_stream_df, num_users, num_movies, rate, .1, 0)\n",
    "            als_stream.train()\n",
    "            test_mse = als_stream.compute_test_mse()\n",
    "            if test_mse < best_params['test_mse']:\n",
    "                best_params['test_mse'] = test_mse\n",
    "                best_params['learning_rate'] = rate\n",
    "                best_params['user_feature_reg'] = ufreg\n",
    "                best_params['model'] = als_stream\n",
    "                print(\"New optimal parameters\")\n",
    "    return best_params"
   ]
  },
  {
   "cell_type": "code",
   "execution_count": 236,
   "id": "a973f48a",
   "metadata": {},
   "outputs": [
    {
     "name": "stderr",
     "output_type": "stream",
     "text": [
      "/opt/homebrew/Caskroom/miniconda/base/envs/myenv/lib/python3.8/site-packages/pyspark/sql/context.py:125: FutureWarning: Deprecated in 3.0.0. Use SparkSession.builder.getOrCreate() instead.\n",
      "  warnings.warn(\n"
     ]
    }
   ],
   "source": [
    "optimal_learning_rate = .02\n",
    "optimal_uf_reg = .01\n",
    "num_users = max(stream_df['user_id'])\n",
    "num_movies = max(stream_df['movie_id'])\n",
    "als_stream = ALSStreamingModel(model, stream_df, test_df, spark_stream_df, num_users, num_movies, optimal_learning_rate, optimal_ub_reg, optimal_uf_reg)"
   ]
  },
  {
   "cell_type": "code",
   "execution_count": 237,
   "id": "057c40d4",
   "metadata": {
    "scrolled": true
   },
   "outputs": [
    {
     "name": "stderr",
     "output_type": "stream",
     "text": [
      "/opt/homebrew/Caskroom/miniconda/base/envs/myenv/lib/python3.8/site-packages/pyspark/sql/context.py:125: FutureWarning: Deprecated in 3.0.0. Use SparkSession.builder.getOrCreate() instead.\n",
      "  warnings.warn(\n",
      "/opt/homebrew/Caskroom/miniconda/base/envs/myenv/lib/python3.8/site-packages/pyspark/sql/context.py:125: FutureWarning: Deprecated in 3.0.0. Use SparkSession.builder.getOrCreate() instead.\n",
      "  warnings.warn(\n",
      "/opt/homebrew/Caskroom/miniconda/base/envs/myenv/lib/python3.8/site-packages/pyspark/sql/context.py:125: FutureWarning: Deprecated in 3.0.0. Use SparkSession.builder.getOrCreate() instead.\n",
      "  warnings.warn(\n",
      "/opt/homebrew/Caskroom/miniconda/base/envs/myenv/lib/python3.8/site-packages/pyspark/sql/context.py:125: FutureWarning: Deprecated in 3.0.0. Use SparkSession.builder.getOrCreate() instead.\n",
      "  warnings.warn(\n",
      "/opt/homebrew/Caskroom/miniconda/base/envs/myenv/lib/python3.8/site-packages/pyspark/sql/context.py:125: FutureWarning: Deprecated in 3.0.0. Use SparkSession.builder.getOrCreate() instead.\n",
      "  warnings.warn(\n",
      "/opt/homebrew/Caskroom/miniconda/base/envs/myenv/lib/python3.8/site-packages/pyspark/sql/context.py:125: FutureWarning: Deprecated in 3.0.0. Use SparkSession.builder.getOrCreate() instead.\n",
      "  warnings.warn(\n",
      "/opt/homebrew/Caskroom/miniconda/base/envs/myenv/lib/python3.8/site-packages/pyspark/sql/context.py:125: FutureWarning: Deprecated in 3.0.0. Use SparkSession.builder.getOrCreate() instead.\n",
      "  warnings.warn(\n",
      "/opt/homebrew/Caskroom/miniconda/base/envs/myenv/lib/python3.8/site-packages/pyspark/sql/context.py:125: FutureWarning: Deprecated in 3.0.0. Use SparkSession.builder.getOrCreate() instead.\n",
      "  warnings.warn(\n",
      "/opt/homebrew/Caskroom/miniconda/base/envs/myenv/lib/python3.8/site-packages/pyspark/sql/context.py:125: FutureWarning: Deprecated in 3.0.0. Use SparkSession.builder.getOrCreate() instead.\n",
      "  warnings.warn(\n",
      "/opt/homebrew/Caskroom/miniconda/base/envs/myenv/lib/python3.8/site-packages/pyspark/sql/context.py:125: FutureWarning: Deprecated in 3.0.0. Use SparkSession.builder.getOrCreate() instead.\n",
      "  warnings.warn(\n",
      "/opt/homebrew/Caskroom/miniconda/base/envs/myenv/lib/python3.8/site-packages/pyspark/sql/context.py:125: FutureWarning: Deprecated in 3.0.0. Use SparkSession.builder.getOrCreate() instead.\n",
      "  warnings.warn(\n",
      "/opt/homebrew/Caskroom/miniconda/base/envs/myenv/lib/python3.8/site-packages/pyspark/sql/context.py:125: FutureWarning: Deprecated in 3.0.0. Use SparkSession.builder.getOrCreate() instead.\n",
      "  warnings.warn(\n",
      "/opt/homebrew/Caskroom/miniconda/base/envs/myenv/lib/python3.8/site-packages/pyspark/sql/context.py:125: FutureWarning: Deprecated in 3.0.0. Use SparkSession.builder.getOrCreate() instead.\n",
      "  warnings.warn(\n",
      "/opt/homebrew/Caskroom/miniconda/base/envs/myenv/lib/python3.8/site-packages/pyspark/sql/context.py:125: FutureWarning: Deprecated in 3.0.0. Use SparkSession.builder.getOrCreate() instead.\n",
      "  warnings.warn(\n",
      "/opt/homebrew/Caskroom/miniconda/base/envs/myenv/lib/python3.8/site-packages/pyspark/sql/context.py:125: FutureWarning: Deprecated in 3.0.0. Use SparkSession.builder.getOrCreate() instead.\n",
      "  warnings.warn(\n",
      "/opt/homebrew/Caskroom/miniconda/base/envs/myenv/lib/python3.8/site-packages/pyspark/sql/context.py:125: FutureWarning: Deprecated in 3.0.0. Use SparkSession.builder.getOrCreate() instead.\n",
      "  warnings.warn(\n",
      "/opt/homebrew/Caskroom/miniconda/base/envs/myenv/lib/python3.8/site-packages/pyspark/sql/context.py:125: FutureWarning: Deprecated in 3.0.0. Use SparkSession.builder.getOrCreate() instead.\n",
      "  warnings.warn(\n",
      "/opt/homebrew/Caskroom/miniconda/base/envs/myenv/lib/python3.8/site-packages/pyspark/sql/context.py:125: FutureWarning: Deprecated in 3.0.0. Use SparkSession.builder.getOrCreate() instead.\n",
      "  warnings.warn(\n",
      "/opt/homebrew/Caskroom/miniconda/base/envs/myenv/lib/python3.8/site-packages/pyspark/sql/context.py:125: FutureWarning: Deprecated in 3.0.0. Use SparkSession.builder.getOrCreate() instead.\n",
      "  warnings.warn(\n",
      "/opt/homebrew/Caskroom/miniconda/base/envs/myenv/lib/python3.8/site-packages/pyspark/sql/context.py:125: FutureWarning: Deprecated in 3.0.0. Use SparkSession.builder.getOrCreate() instead.\n",
      "  warnings.warn(\n",
      "/opt/homebrew/Caskroom/miniconda/base/envs/myenv/lib/python3.8/site-packages/pyspark/sql/context.py:125: FutureWarning: Deprecated in 3.0.0. Use SparkSession.builder.getOrCreate() instead.\n",
      "  warnings.warn(\n",
      "/opt/homebrew/Caskroom/miniconda/base/envs/myenv/lib/python3.8/site-packages/pyspark/sql/context.py:125: FutureWarning: Deprecated in 3.0.0. Use SparkSession.builder.getOrCreate() instead.\n",
      "  warnings.warn(\n",
      "/opt/homebrew/Caskroom/miniconda/base/envs/myenv/lib/python3.8/site-packages/pyspark/sql/context.py:125: FutureWarning: Deprecated in 3.0.0. Use SparkSession.builder.getOrCreate() instead.\n",
      "  warnings.warn(\n",
      "/opt/homebrew/Caskroom/miniconda/base/envs/myenv/lib/python3.8/site-packages/pyspark/sql/context.py:125: FutureWarning: Deprecated in 3.0.0. Use SparkSession.builder.getOrCreate() instead.\n",
      "  warnings.warn(\n",
      "/opt/homebrew/Caskroom/miniconda/base/envs/myenv/lib/python3.8/site-packages/pyspark/sql/context.py:125: FutureWarning: Deprecated in 3.0.0. Use SparkSession.builder.getOrCreate() instead.\n",
      "  warnings.warn(\n",
      "/opt/homebrew/Caskroom/miniconda/base/envs/myenv/lib/python3.8/site-packages/pyspark/sql/context.py:125: FutureWarning: Deprecated in 3.0.0. Use SparkSession.builder.getOrCreate() instead.\n",
      "  warnings.warn(\n",
      "/opt/homebrew/Caskroom/miniconda/base/envs/myenv/lib/python3.8/site-packages/pyspark/sql/context.py:125: FutureWarning: Deprecated in 3.0.0. Use SparkSession.builder.getOrCreate() instead.\n",
      "  warnings.warn(\n",
      "/opt/homebrew/Caskroom/miniconda/base/envs/myenv/lib/python3.8/site-packages/pyspark/sql/context.py:125: FutureWarning: Deprecated in 3.0.0. Use SparkSession.builder.getOrCreate() instead.\n",
      "  warnings.warn(\n",
      "/opt/homebrew/Caskroom/miniconda/base/envs/myenv/lib/python3.8/site-packages/pyspark/sql/context.py:125: FutureWarning: Deprecated in 3.0.0. Use SparkSession.builder.getOrCreate() instead.\n",
      "  warnings.warn(\n",
      "/opt/homebrew/Caskroom/miniconda/base/envs/myenv/lib/python3.8/site-packages/pyspark/sql/context.py:125: FutureWarning: Deprecated in 3.0.0. Use SparkSession.builder.getOrCreate() instead.\n",
      "  warnings.warn(\n",
      "/opt/homebrew/Caskroom/miniconda/base/envs/myenv/lib/python3.8/site-packages/pyspark/sql/context.py:125: FutureWarning: Deprecated in 3.0.0. Use SparkSession.builder.getOrCreate() instead.\n",
      "  warnings.warn(\n",
      "/opt/homebrew/Caskroom/miniconda/base/envs/myenv/lib/python3.8/site-packages/pyspark/sql/context.py:125: FutureWarning: Deprecated in 3.0.0. Use SparkSession.builder.getOrCreate() instead.\n",
      "  warnings.warn(\n",
      "/opt/homebrew/Caskroom/miniconda/base/envs/myenv/lib/python3.8/site-packages/pyspark/sql/context.py:125: FutureWarning: Deprecated in 3.0.0. Use SparkSession.builder.getOrCreate() instead.\n",
      "  warnings.warn(\n",
      "/opt/homebrew/Caskroom/miniconda/base/envs/myenv/lib/python3.8/site-packages/pyspark/sql/context.py:125: FutureWarning: Deprecated in 3.0.0. Use SparkSession.builder.getOrCreate() instead.\n",
      "  warnings.warn(\n",
      "/opt/homebrew/Caskroom/miniconda/base/envs/myenv/lib/python3.8/site-packages/pyspark/sql/context.py:125: FutureWarning: Deprecated in 3.0.0. Use SparkSession.builder.getOrCreate() instead.\n",
      "  warnings.warn(\n",
      "/opt/homebrew/Caskroom/miniconda/base/envs/myenv/lib/python3.8/site-packages/pyspark/sql/context.py:125: FutureWarning: Deprecated in 3.0.0. Use SparkSession.builder.getOrCreate() instead.\n",
      "  warnings.warn(\n",
      "/opt/homebrew/Caskroom/miniconda/base/envs/myenv/lib/python3.8/site-packages/pyspark/sql/context.py:125: FutureWarning: Deprecated in 3.0.0. Use SparkSession.builder.getOrCreate() instead.\n",
      "  warnings.warn(\n",
      "/opt/homebrew/Caskroom/miniconda/base/envs/myenv/lib/python3.8/site-packages/pyspark/sql/context.py:125: FutureWarning: Deprecated in 3.0.0. Use SparkSession.builder.getOrCreate() instead.\n",
      "  warnings.warn(\n",
      "/opt/homebrew/Caskroom/miniconda/base/envs/myenv/lib/python3.8/site-packages/pyspark/sql/context.py:125: FutureWarning: Deprecated in 3.0.0. Use SparkSession.builder.getOrCreate() instead.\n",
      "  warnings.warn(\n",
      "/opt/homebrew/Caskroom/miniconda/base/envs/myenv/lib/python3.8/site-packages/pyspark/sql/context.py:125: FutureWarning: Deprecated in 3.0.0. Use SparkSession.builder.getOrCreate() instead.\n",
      "  warnings.warn(\n"
     ]
    },
    {
     "name": "stderr",
     "output_type": "stream",
     "text": [
      "/opt/homebrew/Caskroom/miniconda/base/envs/myenv/lib/python3.8/site-packages/pyspark/sql/context.py:125: FutureWarning: Deprecated in 3.0.0. Use SparkSession.builder.getOrCreate() instead.\n",
      "  warnings.warn(\n",
      "/opt/homebrew/Caskroom/miniconda/base/envs/myenv/lib/python3.8/site-packages/pyspark/sql/context.py:125: FutureWarning: Deprecated in 3.0.0. Use SparkSession.builder.getOrCreate() instead.\n",
      "  warnings.warn(\n",
      "/opt/homebrew/Caskroom/miniconda/base/envs/myenv/lib/python3.8/site-packages/pyspark/sql/context.py:125: FutureWarning: Deprecated in 3.0.0. Use SparkSession.builder.getOrCreate() instead.\n",
      "  warnings.warn(\n",
      "/opt/homebrew/Caskroom/miniconda/base/envs/myenv/lib/python3.8/site-packages/pyspark/sql/context.py:125: FutureWarning: Deprecated in 3.0.0. Use SparkSession.builder.getOrCreate() instead.\n",
      "  warnings.warn(\n",
      "/opt/homebrew/Caskroom/miniconda/base/envs/myenv/lib/python3.8/site-packages/pyspark/sql/context.py:125: FutureWarning: Deprecated in 3.0.0. Use SparkSession.builder.getOrCreate() instead.\n",
      "  warnings.warn(\n",
      "/opt/homebrew/Caskroom/miniconda/base/envs/myenv/lib/python3.8/site-packages/pyspark/sql/context.py:125: FutureWarning: Deprecated in 3.0.0. Use SparkSession.builder.getOrCreate() instead.\n",
      "  warnings.warn(\n",
      "/opt/homebrew/Caskroom/miniconda/base/envs/myenv/lib/python3.8/site-packages/pyspark/sql/context.py:125: FutureWarning: Deprecated in 3.0.0. Use SparkSession.builder.getOrCreate() instead.\n",
      "  warnings.warn(\n",
      "/opt/homebrew/Caskroom/miniconda/base/envs/myenv/lib/python3.8/site-packages/pyspark/sql/context.py:125: FutureWarning: Deprecated in 3.0.0. Use SparkSession.builder.getOrCreate() instead.\n",
      "  warnings.warn(\n",
      "/opt/homebrew/Caskroom/miniconda/base/envs/myenv/lib/python3.8/site-packages/pyspark/sql/context.py:125: FutureWarning: Deprecated in 3.0.0. Use SparkSession.builder.getOrCreate() instead.\n",
      "  warnings.warn(\n",
      "/opt/homebrew/Caskroom/miniconda/base/envs/myenv/lib/python3.8/site-packages/pyspark/sql/context.py:125: FutureWarning: Deprecated in 3.0.0. Use SparkSession.builder.getOrCreate() instead.\n",
      "  warnings.warn(\n",
      "/opt/homebrew/Caskroom/miniconda/base/envs/myenv/lib/python3.8/site-packages/pyspark/sql/context.py:125: FutureWarning: Deprecated in 3.0.0. Use SparkSession.builder.getOrCreate() instead.\n",
      "  warnings.warn(\n"
     ]
    }
   ],
   "source": [
    "als_stream.train()"
   ]
  },
  {
   "cell_type": "code",
   "execution_count": 238,
   "id": "ece8c52a",
   "metadata": {},
   "outputs": [
    {
     "data": {
      "image/png": "[encoded data removed]",
      "text/plain": [
       "<Figure size 432x288 with 1 Axes>"
      ]
     },
     "metadata": {
      "needs_background": "light"
     },
     "output_type": "display_data"
    }
   ],
   "source": [
    "als_stream.plot_learning_curve()"
   ]
  },
  {
   "cell_type": "code",
   "execution_count": 239,
   "id": "994a3207",
   "metadata": {},
   "outputs": [
    {
     "data": {
      "text/plain": [
       "(1.0044468049695947, 0.8419704911521818)"
      ]
     },
     "execution_count": 239,
     "metadata": {},
     "output_type": "execute_result"
    }
   ],
   "source": [
    "als_stream.als_mse_record[-1], als_stream.test_mse_record[-1]"
   ]
  },
  {
   "cell_type": "code",
   "execution_count": 240,
   "id": "301eb8ff",
   "metadata": {},
   "outputs": [
    {
     "data": {
      "text/plain": [
       "(1.0044468049695947, 1.0044468049695947)"
      ]
     },
     "execution_count": 240,
     "metadata": {},
     "output_type": "execute_result"
    }
   ],
   "source": [
    "als_stream.als_mse_record[0], als_stream.test_mse_record[0]"
   ]
  },
  {
   "cell_type": "code",
   "execution_count": null,
   "id": "484e11f4",
   "metadata": {},
   "outputs": [],
   "source": []
  }
 ],
 "metadata": {
  "kernelspec": {
   "display_name": "Python 3 (ipykernel)",
   "language": "python",
   "name": "python3"
  },
  "language_info": {
   "codemirror_mode": {
    "name": "ipython",
    "version": 3
   },
   "file_extension": ".py",
   "mimetype": "text/x-python",
   "name": "python",
   "nbconvert_exporter": "python",
   "pygments_lexer": "ipython3",
   "version": "3.8.12"
  }
 },
 "nbformat": 4,
 "nbformat_minor": 5
}
