{
 "cells": [
  {
   "cell_type": "code",
   "execution_count": 375,
   "id": "8800e968",
   "metadata": {
    "scrolled": false
   },
   "outputs": [
    {
     "name": "stdout",
     "output_type": "stream",
     "text": [
      "/Users/amitnarang/movielens/5050/\n",
      "+-------+--------+------+---------+\n",
      "|user_id|movie_id|rating|timestamp|\n",
      "+-------+--------+------+---------+\n",
      "|    259|     255|     4|874724710|\n",
      "|    259|     286|     4|874724727|\n",
      "|    259|     298|     4|874724754|\n",
      "|    259|     185|     4|874724781|\n",
      "|    259|     173|     4|874724843|\n",
      "|    259|     108|     4|874724882|\n",
      "|    259|     772|     4|874724882|\n",
      "|    259|     288|     3|874724905|\n",
      "|    259|     928|     4|874724937|\n",
      "|    259|     117|     4|874724988|\n",
      "|    259|     200|     4|874725081|\n",
      "|    259|     405|     3|874725120|\n",
      "|    259|    1074|     3|874725264|\n",
      "|    259|     176|     4|874725386|\n",
      "|    259|     210|     4|874725485|\n",
      "|    259|     357|     5|874725485|\n",
      "|    851|     687|     2|874728168|\n",
      "|    851|     284|     3|874728338|\n",
      "|    851|     696|     3|874728338|\n",
      "|    851|     295|     5|874728370|\n",
      "+-------+--------+------+---------+\n",
      "only showing top 20 rows\n",
      "\n",
      "+-------+--------+------+---------+\n",
      "|user_id|movie_id|rating|timestamp|\n",
      "+-------+--------+------+---------+\n",
      "|      1|      42|     5|876892425|\n",
      "|      1|      27|     2|876892946|\n",
      "|      1|      92|     3|876892425|\n",
      "|      1|     176|     5|876892468|\n",
      "|      1|      91|     5|876892636|\n",
      "|      1|     193|     4|876892654|\n",
      "|      1|     217|     3|876892676|\n",
      "|      1|     177|     5|876892701|\n",
      "|      1|     216|     5|876892701|\n",
      "|      1|     194|     4|876892743|\n",
      "|      1|      73|     3|876892774|\n",
      "|      1|      59|     5|876892817|\n",
      "|      1|      41|     2|876892818|\n",
      "|      1|     133|     4|876892818|\n",
      "|      1|     195|     5|876892855|\n",
      "|      1|     170|     5|876892856|\n",
      "|      1|     218|     3|876892856|\n",
      "|      1|     213|     2|876892896|\n",
      "|      1|     157|     4|876892918|\n",
      "|      1|     223|     5|876892918|\n",
      "+-------+--------+------+---------+\n",
      "only showing top 20 rows\n",
      "\n",
      "Num models to be tested:  1\n"
     ]
    },
    {
     "name": "stderr",
     "output_type": "stream",
     "text": [
      "22/02/12 08:37:27 WARN CacheManager: Asked to cache already cached data.        \n",
      "22/02/12 08:37:27 WARN CacheManager: Asked to cache already cached data.\n",
      "/opt/homebrew/Caskroom/miniconda/base/envs/myenv/lib/python3.8/site-packages/pyspark/sql/context.py:125: FutureWarning: Deprecated in 3.0.0. Use SparkSession.builder.getOrCreate() instead.\n",
      "  warnings.warn(\n"
     ]
    },
    {
     "name": "stdout",
     "output_type": "stream",
     "text": [
      "1.010619416089037\n",
      "**Best Model**\n",
      "  Rank: 150\n",
      "  MaxIter: 10\n",
      "  RegParam: 0.1\n"
     ]
    },
    {
     "name": "stderr",
     "output_type": "stream",
     "text": [
      "                                                                                \r"
     ]
    },
    {
     "name": "stdout",
     "output_type": "stream",
     "text": [
      "+-------+--------------------+\n",
      "|user_id|     recommendations|\n",
      "+-------+--------------------+\n",
      "|      1|[{1142, 4.9608097...|\n",
      "|      2|[{1449, 4.5669127...|\n",
      "|      3|[{342, 3.4642184}...|\n",
      "|      4|[{169, 5.404254},...|\n",
      "|      5|[{169, 4.7577233}...|\n",
      "|      6|[{1463, 4.3914886...|\n",
      "|      7|[{612, 4.858188},...|\n",
      "|      8|[{127, 4.8034077}...|\n",
      "|      9|[{134, 3.9054456}...|\n",
      "|     10|[{1449, 4.936683}...|\n",
      "|     11|[{718, 4.6699853}...|\n",
      "|     12|[{318, 4.9674087}...|\n",
      "|     13|[{851, 4.903815},...|\n",
      "|     14|[{408, 5.098738},...|\n",
      "|     15|[{459, 4.445922},...|\n",
      "|     16|[{136, 5.0090284}...|\n",
      "|     17|[{114, 3.978496},...|\n",
      "|     18|[{1449, 4.750326}...|\n",
      "|     19|[{318, 3.8885353}...|\n",
      "|     20|[{500, 4.031583},...|\n",
      "+-------+--------------------+\n",
      "only showing top 20 rows\n",
      "\n"
     ]
    },
    {
     "name": "stderr",
     "output_type": "stream",
     "text": [
      "                                                                                \r"
     ]
    },
    {
     "name": "stdout",
     "output_type": "stream",
     "text": [
      "+-------+--------+---------+\n",
      "|user_id|movie_id|   rating|\n",
      "+-------+--------+---------+\n",
      "|      1|    1142|4.9608097|\n",
      "|      1|     169|4.9065733|\n",
      "|      1|     408|4.8603964|\n",
      "|      1|    1449| 4.780268|\n",
      "|      1|     114|4.7689214|\n",
      "|      2|    1449|4.5669127|\n",
      "|      2|     478| 4.347782|\n",
      "|      2|    1512|4.3441296|\n",
      "|      2|     275| 4.293311|\n",
      "|      2|     190| 4.221725|\n",
      "+-------+--------+---------+\n",
      "\n"
     ]
    },
    {
     "name": "stderr",
     "output_type": "stream",
     "text": [
      "                                                                                \r"
     ]
    },
    {
     "name": "stdout",
     "output_type": "stream",
     "text": [
      "+-------+--------+---------+\n",
      "|user_id|movie_id|   rating|\n",
      "+-------+--------+---------+\n",
      "|    100|     313|4.2223907|\n",
      "|    100|     408| 4.011558|\n",
      "|    100|     169|3.8658636|\n",
      "|    100|     318|3.8631282|\n",
      "|    100|     750|3.8311474|\n",
      "+-------+--------+---------+\n",
      "\n"
     ]
    },
    {
     "name": "stderr",
     "output_type": "stream",
     "text": [
      "\r",
      "[Stage 60328:>                                                      (0 + 1) / 1]\r"
     ]
    },
    {
     "name": "stdout",
     "output_type": "stream",
     "text": [
      "1.010619416089037\n"
     ]
    },
    {
     "name": "stderr",
     "output_type": "stream",
     "text": [
      "\r",
      "                                                                                \r"
     ]
    }
   ],
   "source": [
    "%run pyspark-implementation.ipynb"
   ]
  },
  {
   "cell_type": "code",
   "execution_count": 376,
   "id": "7350941b",
   "metadata": {},
   "outputs": [],
   "source": [
    "import pandas as pd\n",
    "import numpy as np\n",
    "import matplotlib.pyplot as plt\n",
    "from sklearn.metrics import mean_squared_error\n",
    "import time"
   ]
  },
  {
   "cell_type": "code",
   "execution_count": 377,
   "id": "ea533b7a",
   "metadata": {},
   "outputs": [],
   "source": [
    "# Download from Kaggle: https://www.kaggle.com/prajitdatta/movielens-100k-dataset\n",
    "dir_path = \"/Users/amitnarang/movielens/5050/\""
   ]
  },
  {
   "cell_type": "code",
   "execution_count": 378,
   "id": "d106f806",
   "metadata": {
    "scrolled": true
   },
   "outputs": [],
   "source": [
    "stream_df = pd.read_csv(dir_path + 'stream_data.csv').sort_values('timestamp')\n",
    "test_df = pd.read_csv(dir_path + 'stream_data.csv').sort_values('timestamp')\n",
    "num_users = max(stream_df['user_id'])\n",
    "num_movies = max(stream_df['movie_id'])\n",
    "num_features = 150"
   ]
  },
  {
   "cell_type": "code",
   "execution_count": 379,
   "id": "05835e11",
   "metadata": {
    "scrolled": true
   },
   "outputs": [
    {
     "data": {
      "text/plain": [
       "id           int64\n",
       "features    object\n",
       "dtype: object"
      ]
     },
     "execution_count": 379,
     "metadata": {},
     "output_type": "execute_result"
    }
   ],
   "source": [
    "user_feature_df = pd.read_csv(dir_path + 'user_features.csv')\n",
    "movie_feature_df = pd.read_csv(dir_path + 'movie_features.csv')\n",
    "user_feature_df.dtypes"
   ]
  },
  {
   "cell_type": "code",
   "execution_count": 380,
   "id": "55d00bb8",
   "metadata": {},
   "outputs": [
    {
     "data": {
      "text/html": [
       "<div>\n",
       "<style scoped>\n",
       "    .dataframe tbody tr th:only-of-type {\n",
       "        vertical-align: middle;\n",
       "    }\n",
       "\n",
       "    .dataframe tbody tr th {\n",
       "        vertical-align: top;\n",
       "    }\n",
       "\n",
       "    .dataframe thead th {\n",
       "        text-align: right;\n",
       "    }\n",
       "</style>\n",
       "<table border=\"1\" class=\"dataframe\">\n",
       "  <thead>\n",
       "    <tr style=\"text-align: right;\">\n",
       "      <th></th>\n",
       "      <th>id</th>\n",
       "      <th>features</th>\n",
       "    </tr>\n",
       "  </thead>\n",
       "  <tbody>\n",
       "    <tr>\n",
       "      <th>0</th>\n",
       "      <td>1</td>\n",
       "      <td>[0.09928978234529495, 0.0, 0.05489214137196541...</td>\n",
       "    </tr>\n",
       "  </tbody>\n",
       "</table>\n",
       "</div>"
      ],
      "text/plain": [
       "   id                                           features\n",
       "0   1  [0.09928978234529495, 0.0, 0.05489214137196541..."
      ]
     },
     "execution_count": 380,
     "metadata": {},
     "output_type": "execute_result"
    }
   ],
   "source": [
    "user_feature_df[user_feature_df['id'] == 1]"
   ]
  },
  {
   "cell_type": "code",
   "execution_count": 381,
   "id": "533a7c34",
   "metadata": {},
   "outputs": [],
   "source": [
    "def get_features(df, dim):\n",
    "    features = dict()\n",
    "    for row in df.itertuples():\n",
    "        features[row.id] = np.array(eval(row.features))\n",
    "    return features"
   ]
  },
  {
   "cell_type": "code",
   "execution_count": 382,
   "id": "862ea3ae",
   "metadata": {},
   "outputs": [],
   "source": [
    "user_features = get_features(user_feature_df, num_users)\n",
    "movie_features = get_features(movie_feature_df, num_movies)"
   ]
  },
  {
   "cell_type": "code",
   "execution_count": 383,
   "id": "323be2f9",
   "metadata": {},
   "outputs": [],
   "source": [
    "class ALSStreamingModel():\n",
    "    \n",
    "    def __init__(self, als_model, train_data, test_data, num_users, num_movies, num_features, user_vectors, movie_vectors, learning_rate, user_bias_reg, user_feature_reg):\n",
    "        self.train_data = train_data\n",
    "        self.test_data = test_data\n",
    "        self.num_users = num_users + 1\n",
    "        self.num_movies = num_movies + 1\n",
    "        self.learning_rate = learning_rate\n",
    "        self.num_features = num_features\n",
    "        \n",
    "        self.global_bias = np.average(train_data['rating'])\n",
    "        self.user_bias = np.zeros(self.num_users)\n",
    "        self.user_bias_reg = user_bias_reg\n",
    "        \n",
    "        # make movie vectors initialiazble, global bias = avg(rating)\n",
    "        self.user_vectors = user_vectors\n",
    "        self.movie_vectors = movie_vectors\n",
    "        self.user_feature_reg = user_feature_reg\n",
    "        \n",
    "        self.als_model = als_model\n",
    "        self.evaluator = RegressionEvaluator().setMetricName(\"rmse\").setLabelCol(\"rating\").setPredictionCol(\"prediction\")\n",
    "        \n",
    "    def train(self):\n",
    "        mse = []\n",
    "        als_mse = []\n",
    "        for row in self.train_data.itertuples():\n",
    "            curr = time.time()\n",
    "            if row.Index % 20000 == 0:\n",
    "                mse.append(self.compute_test_mse())\n",
    "                als_mse.append(self.compute_als_mse())\n",
    "            user_id = row.user_id\n",
    "            movie_id = row.movie_id\n",
    "            rating = row.rating\n",
    "            self.step(user_id, movie_id, rating)\n",
    "            #print(time.time()-curr)\n",
    "        mse.append(self.compute_test_mse())\n",
    "        als_mse.append(self.compute_als_mse())\n",
    "        self.als_mse_record = als_mse\n",
    "        self.test_mse_record = mse\n",
    "            \n",
    "    def update_bias(self, user_id, movie_id, error):\n",
    "        self.user_bias[user_id] += self.learning_rate * (error - self.user_bias_reg * self.user_bias[user_id])\n",
    "    \n",
    "    def update_features(self, user_id, movie_id, error):\n",
    "        self.user_vectors[user_id] += self.learning_rate * (error * self.movie_vectors[movie_id] - self.user_feature_reg * self.user_vectors[user_id])\n",
    "        \n",
    "    def predict_rating(self, user_id, movie_id):\n",
    "        biases = self.global_bias + self.user_bias[user_id]\n",
    "        prediction = self.user_vectors[user_id].dot(self.movie_vectors[movie_id].T)\n",
    "        return biases + prediction\n",
    "    \n",
    "    def compute_prediction_error(self, user_id, movie_id, rating):\n",
    "        prediction = self.predict_rating(user_id, movie_id)\n",
    "        return rating - prediction\n",
    "    \n",
    "    def step(self, user_id, movie_id, rating):\n",
    "        if user_id not in self.user_vectors:\n",
    "            self.user_vectors[user_id] = np.random.normal(scale=1./self.num_features, size=self.num_features)\n",
    "        if movie_id in self.movie_vectors:\n",
    "            error = self.compute_prediction_error(user_id, movie_id, rating)\n",
    "            self.update_bias(user_id, movie_id, error)\n",
    "            self.update_features(user_id, movie_id, error)\n",
    "            \n",
    "    def compute_test_mse(self):\n",
    "        predictions = []\n",
    "        ratings = []\n",
    "        count = 0\n",
    "        for row in self.test_data.itertuples():\n",
    "            user_id = row.user_id\n",
    "            movie_id = row.movie_id\n",
    "            rating = row.rating\n",
    "            if user_id not in self.user_vectors:\n",
    "                self.user_vectors[user_id] = np.random.normal(scale=1./self.num_features, size=self.num_features)\n",
    "            if movie_id in self.movie_vectors:\n",
    "                count += 1\n",
    "                predictions.append(self.predict_rating(user_id, movie_id))\n",
    "                ratings.append(rating) \n",
    "        mse = mean_squared_error(ratings, predictions)\n",
    "        return mse\n",
    "    \n",
    "    def compute_train_mse(self):\n",
    "        predictions = []\n",
    "        ratings = []\n",
    "        for row in self.train_data.itertuples():\n",
    "            user_id = row.user_id\n",
    "            movie_id = row.movie_id\n",
    "            rating = row.rating\n",
    "            if movie_id in self.movie_vectors:\n",
    "                predictions.append(self.predict_rating(user_id, movie_id))\n",
    "                ratings.append(rating) \n",
    "        mse = mean_squared_error(ratings, predictions)\n",
    "        return mse\n",
    "    \n",
    "    def compute_als_mse(self):\n",
    "        predictions = self.als_model.transform(test_data)\n",
    "        rmse = self.evaluator.evaluate(predictions)\n",
    "        return rmse"
   ]
  },
  {
   "cell_type": "code",
   "execution_count": 384,
   "id": "ee3707e6",
   "metadata": {},
   "outputs": [],
   "source": [
    "def plot_learning_curve(model):\n",
    "    \"\"\"visualize the training/testing loss\"\"\"\n",
    "    linewidth = 3\n",
    "    plt.plot(model.test_mse_record, label = 'Test', linewidth = linewidth)\n",
    "    plt.plot(model.als_mse_record, label = 'ALS', linewidth = linewidth)\n",
    "    plt.xlabel('iterations')\n",
    "    plt.ylabel('MSE')\n",
    "    plt.legend(loc = 'best')"
   ]
  },
  {
   "cell_type": "code",
   "execution_count": 385,
   "id": "d892a2b0",
   "metadata": {},
   "outputs": [],
   "source": [
    "optimal_learning_rate = .1\n",
    "optimal_ub_reg = .1\n",
    "optimal_mb_reg = .01\n",
    "optimal_uf_reg = .01\n",
    "optimal_mf_reg = .1\n",
    "als = ALSStreamingModel(best_model, stream_df, test_df, num_users, num_movies, 150, user_features, movie_features, optimal_learning_rate, optimal_ub_reg, optimal_uf_reg)"
   ]
  },
  {
   "cell_type": "code",
   "execution_count": 386,
   "id": "d3ca4404",
   "metadata": {},
   "outputs": [
    {
     "data": {
      "text/plain": [
       "11.315446538019842"
      ]
     },
     "execution_count": 386,
     "metadata": {},
     "output_type": "execute_result"
    }
   ],
   "source": [
    "als.compute_test_mse()"
   ]
  },
  {
   "cell_type": "code",
   "execution_count": 387,
   "id": "1a9a0937",
   "metadata": {},
   "outputs": [
    {
     "name": "stderr",
     "output_type": "stream",
     "text": [
      "                                                                                \r"
     ]
    },
    {
     "data": {
      "text/plain": [
       "1.010619416089037"
      ]
     },
     "execution_count": 387,
     "metadata": {},
     "output_type": "execute_result"
    }
   ],
   "source": [
    "als.compute_als_mse()"
   ]
  },
  {
   "cell_type": "code",
   "execution_count": 388,
   "id": "a70b733a",
   "metadata": {},
   "outputs": [
    {
     "name": "stderr",
     "output_type": "stream",
     "text": [
      "                                                                                \r"
     ]
    }
   ],
   "source": [
    "als.train()"
   ]
  },
  {
   "cell_type": "code",
   "execution_count": 389,
   "id": "12cf9e43",
   "metadata": {},
   "outputs": [
    {
     "data": {
      "text/plain": [
       "1.0966697877099971"
      ]
     },
     "execution_count": 389,
     "metadata": {},
     "output_type": "execute_result"
    }
   ],
   "source": [
    "als.compute_test_mse()"
   ]
  },
  {
   "cell_type": "code",
   "execution_count": 390,
   "id": "9dcc0489",
   "metadata": {
    "scrolled": true
   },
   "outputs": [
    {
     "name": "stderr",
     "output_type": "stream",
     "text": [
      "                                                                                \r"
     ]
    },
    {
     "data": {
      "text/plain": [
       "1.010619416089037"
      ]
     },
     "execution_count": 390,
     "metadata": {},
     "output_type": "execute_result"
    }
   ],
   "source": [
    "als.compute_als_mse()"
   ]
  },
  {
   "cell_type": "code",
   "execution_count": 391,
   "id": "0bbea353",
   "metadata": {},
   "outputs": [
    {
     "data": {
      "image/png": "[encoded data removed]",
      "text/plain": [
       "<Figure size 432x288 with 1 Axes>"
      ]
     },
     "metadata": {
      "needs_background": "light"
     },
     "output_type": "display_data"
    }
   ],
   "source": [
    "plot_learning_curve(als)"
   ]
  },
  {
   "cell_type": "code",
   "execution_count": null,
   "id": "6977e82f",
   "metadata": {},
   "outputs": [],
   "source": []
  }
 ],
 "metadata": {
  "kernelspec": {
   "display_name": "Python 3 (ipykernel)",
   "language": "python",
   "name": "python3"
  },
  "language_info": {
   "codemirror_mode": {
    "name": "ipython",
    "version": 3
   },
   "file_extension": ".py",
   "mimetype": "text/x-python",
   "name": "python",
   "nbconvert_exporter": "python",
   "pygments_lexer": "ipython3",
   "version": "3.8.12"
  }
 },
 "nbformat": 4,
 "nbformat_minor": 5
}
