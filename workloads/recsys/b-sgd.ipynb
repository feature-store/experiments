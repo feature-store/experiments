{
 "cells": [
  {
   "cell_type": "markdown",
   "id": "c0a51137",
   "metadata": {},
   "source": [
    "What is the point of this?\n",
    "\n",
    "1) Prove that streaming in more data decreases MSE\n",
    "- break down into separate functions that operate on ALS model for convertibility purposes\n",
    "2) Convertable to Ralf.\n",
    "- What is the structure of a Ralf experiment\n",
    "- Source --> Passes down Record that has rating, movie, user\n",
    "- BiasOperator --> Predicts, Updates Biases, passes down record that stores \n",
    "\n",
    "Predicting needs: biases, item vectors, user vectors\n",
    "Bias Updating needs: user bias, item bias, error, learning rate, bias regularization terms\n",
    "Factor Updating needs: error, learning rate, factor regularization terms, item vectors, user vectors\n",
    "\n",
    "where can these vectors stay taht are stored and accessible across all? to ask in research meeting\n",
    "\n",
    "\n"
   ]
  },
  {
   "cell_type": "code",
   "execution_count": 2,
   "id": "1c63bd1b",
   "metadata": {},
   "outputs": [],
   "source": [
    "import pandas as pd\n",
    "import numpy as np\n",
    "from collections import defaultdict\n",
    "import matplotlib.pyplot as plt\n",
    "from sklearn.metrics import mean_squared_error\n",
    "import time"
   ]
  },
  {
   "cell_type": "code",
   "execution_count": 3,
   "id": "6c2a275c",
   "metadata": {},
   "outputs": [],
   "source": [
    "# Download from Kaggle: https://www.kaggle.com/prajitdatta/movielens-100k-dataset\n",
    "ratings_path = \"/Users/amitnarang/Downloads/ml-100k/u.data\""
   ]
  },
  {
   "cell_type": "code",
   "execution_count": 4,
   "id": "aa66d6fd",
   "metadata": {
    "scrolled": true
   },
   "outputs": [],
   "source": [
    "columns=[\"user_id\", \"movie_id\", \"rating\", \"timestamp\"]\n",
    "df = pd.read_csv(ratings_path, sep = '\\t', names=columns)"
   ]
  },
  {
   "cell_type": "code",
   "execution_count": 5,
   "id": "5db4e4f5",
   "metadata": {},
   "outputs": [],
   "source": [
    "def split_train_test(df, num_test):\n",
    "    columns = list(df.columns)\n",
    "    train_data = []\n",
    "    test_data = []\n",
    "    for user_id in df[\"user_id\"].unique():\n",
    "        user_df = df[df[\"user_id\"] == user_id].sort_values(\"timestamp\")\n",
    "        last_rows = user_df.tail(num_test)\n",
    "        for row in user_df.itertuples():\n",
    "            if row.user_id < 1000:\n",
    "                data = [row.user_id, row.movie_id, row.rating, row.timestamp]\n",
    "                if any(last_rows[\"movie_id\"] == row.movie_id):\n",
    "                    test_data.append(data)\n",
    "                else:\n",
    "                    train_data.append(data)\n",
    "    train_df = pd.DataFrame(data=train_data, columns=columns).sample(frac=1)\n",
    "    test_df = pd.DataFrame(data=test_data, columns=columns)\n",
    "    return train_df, test_df"
   ]
  },
  {
   "cell_type": "code",
   "execution_count": 6,
   "id": "aec83160",
   "metadata": {},
   "outputs": [],
   "source": [
    "train_df, test_df = split_train_test(df, 5)\n",
    "num_users = max(df['user_id'])\n",
    "num_movies = max(df['movie_id'])"
   ]
  },
  {
   "cell_type": "markdown",
   "id": "d6273c77",
   "metadata": {},
   "source": [
    "how to handle streaming sgd?\n",
    "\n",
    "as we stream in a rating, update that movie's vector, that movie's bias, that user's vector, that user's bias"
   ]
  },
  {
   "cell_type": "code",
   "execution_count": 7,
   "id": "fac70de0",
   "metadata": {},
   "outputs": [],
   "source": [
    "class ALSStreamingModel():\n",
    "    \n",
    "    def __init__(self, train_data, test_data, num_users, num_movies, num_features, learning_rate, user_bias_reg, movie_bias_reg, user_feature_reg, movie_feature_reg):\n",
    "        self.train_data = train_data\n",
    "        self.test_data = test_data\n",
    "        self.num_users = num_users + 1\n",
    "        self.num_movies = num_movies + 1\n",
    "        self.learning_rate = learning_rate\n",
    "        self.num_features = num_features\n",
    "        \n",
    "        self.global_bias = np.average(train_data['rating'])\n",
    "        self.user_bias = np.zeros(self.num_users)\n",
    "        self.movie_bias = np.zeros(self.num_movies)\n",
    "        self.user_bias_reg = user_bias_reg\n",
    "        self.movie_bias_reg = movie_bias_reg\n",
    "        \n",
    "        # make movie vectors initialiazble, global bias = avg(rating)\n",
    "        self.user_vectors = np.random.normal(scale=1./self.num_features, size=(self.num_users, self.num_features))\n",
    "        self.movie_vectors = np.random.normal(scale=1./self.num_features, size=(self.num_movies, self.num_features))\n",
    "        self.user_feature_reg = user_feature_reg\n",
    "        self.movie_feature_reg = movie_feature_reg\n",
    "    \n",
    "    def train(self):\n",
    "        mse = []\n",
    "        for row in self.train_data.itertuples():\n",
    "            if row.Index % 10 == 0:\n",
    "                mse.append(self.compute_test_mse())\n",
    "            user_id = row.user_id\n",
    "            movie_id = row.movie_id\n",
    "            rating = row.rating\n",
    "            error = self.compute_prediction_error(user_id, movie_id, rating)\n",
    "            self.update_bias(user_id, movie_id, error)\n",
    "            self.update_features(user_id, movie_id, error)\n",
    "        self.test_mse_record = mse\n",
    "            \n",
    "    def update_bias(self, user_id, movie_id, error):\n",
    "        self.user_bias[user_id] += self.learning_rate * (error - self.user_bias_reg * self.user_bias[user_id])\n",
    "        self.movie_bias[movie_id] += self.learning_rate * (error - self.movie_bias_reg * self.movie_bias[movie_id])\n",
    "    \n",
    "    def update_features(self, user_id, movie_id, error):\n",
    "        self.user_vectors[user_id, :] += self.learning_rate * (error * self.movie_vectors[movie_id, :] - self.user_feature_reg * self.user_vectors[user_id,:])\n",
    "        self.movie_vectors[movie_id, :] += self.learning_rate * (error * self.user_vectors[user_id, :] - self.movie_feature_reg * self.movie_vectors[movie_id,:])\n",
    "        \n",
    "    def predict_rating(self, user_id, movie_id):\n",
    "        biases = self.global_bias + self.user_bias[user_id] + self.movie_bias[movie_id]\n",
    "        prediction = self.user_vectors[user_id].dot(self.movie_vectors[movie_id].T)\n",
    "        return biases + prediction\n",
    "    \n",
    "    def compute_prediction_error(self, user_id, movie_id, rating):\n",
    "        prediction = self.predict_rating(user_id, movie_id)\n",
    "        return rating - prediction\n",
    "    \n",
    "    def compute_test_mse(self):\n",
    "        predictions = []\n",
    "        ratings = []\n",
    "        for row in self.test_data.itertuples():\n",
    "            user_id = row.user_id\n",
    "            movie_id = row.movie_id\n",
    "            rating = row.rating\n",
    "            predictions.append(self.predict_rating(user_id, movie_id))\n",
    "            ratings.append(rating) \n",
    "        mse = mean_squared_error(ratings, predictions)\n",
    "        return mse"
   ]
  },
  {
   "cell_type": "code",
   "execution_count": 8,
   "id": "a38b7c08",
   "metadata": {},
   "outputs": [],
   "source": [
    "als = ALSStreamingModel(train_df, test_df, num_users, num_movies, 40, .01, .1, .1, .1, .1)"
   ]
  },
  {
   "cell_type": "code",
   "execution_count": 9,
   "id": "b23b365f",
   "metadata": {},
   "outputs": [
    {
     "name": "stdout",
     "output_type": "stream",
     "text": [
      "59.95193886756897\n"
     ]
    }
   ],
   "source": [
    "curr_time = time.time()\n",
    "als.train()\n",
    "time_elapsed = time.time() - curr_time\n",
    "print(time_elapsed)"
   ]
  },
  {
   "cell_type": "code",
   "execution_count": 10,
   "id": "c99f1f0a",
   "metadata": {
    "scrolled": true
   },
   "outputs": [],
   "source": [
    "def plot_learning_curve(model):\n",
    "    \"\"\"visualize the training/testing loss\"\"\"\n",
    "    linewidth = 3\n",
    "    plt.plot(model.test_mse_record, label = 'Test', linewidth = linewidth)\n",
    "    plt.xlabel('iterations')\n",
    "    plt.ylabel('MSE')\n",
    "    plt.legend(loc = 'best')"
   ]
  },
  {
   "cell_type": "code",
   "execution_count": 11,
   "id": "18dfd6e5",
   "metadata": {},
   "outputs": [
    {
     "data": {
      "image/png": "[encoded data removed]",
      "text/plain": [
       "<Figure size 432x288 with 1 Axes>"
      ]
     },
     "metadata": {
      "needs_background": "light"
     },
     "output_type": "display_data"
    }
   ],
   "source": [
    "plot_learning_curve(als)"
   ]
  },
  {
   "cell_type": "code",
   "execution_count": 12,
   "id": "3216ec40",
   "metadata": {},
   "outputs": [
    {
     "data": {
      "text/html": [
       "<div>\n",
       "<style scoped>\n",
       "    .dataframe tbody tr th:only-of-type {\n",
       "        vertical-align: middle;\n",
       "    }\n",
       "\n",
       "    .dataframe tbody tr th {\n",
       "        vertical-align: top;\n",
       "    }\n",
       "\n",
       "    .dataframe thead th {\n",
       "        text-align: right;\n",
       "    }\n",
       "</style>\n",
       "<table border=\"1\" class=\"dataframe\">\n",
       "  <thead>\n",
       "    <tr style=\"text-align: right;\">\n",
       "      <th></th>\n",
       "      <th>user_id</th>\n",
       "      <th>movie_id</th>\n",
       "      <th>rating</th>\n",
       "      <th>timestamp</th>\n",
       "    </tr>\n",
       "  </thead>\n",
       "  <tbody>\n",
       "    <tr>\n",
       "      <th>0</th>\n",
       "      <td>196</td>\n",
       "      <td>411</td>\n",
       "      <td>4</td>\n",
       "      <td>881252090</td>\n",
       "    </tr>\n",
       "    <tr>\n",
       "      <th>1</th>\n",
       "      <td>196</td>\n",
       "      <td>108</td>\n",
       "      <td>4</td>\n",
       "      <td>881252110</td>\n",
       "    </tr>\n",
       "    <tr>\n",
       "      <th>2</th>\n",
       "      <td>196</td>\n",
       "      <td>1118</td>\n",
       "      <td>4</td>\n",
       "      <td>881252128</td>\n",
       "    </tr>\n",
       "    <tr>\n",
       "      <th>3</th>\n",
       "      <td>196</td>\n",
       "      <td>94</td>\n",
       "      <td>3</td>\n",
       "      <td>881252172</td>\n",
       "    </tr>\n",
       "    <tr>\n",
       "      <th>4</th>\n",
       "      <td>196</td>\n",
       "      <td>110</td>\n",
       "      <td>1</td>\n",
       "      <td>881252305</td>\n",
       "    </tr>\n",
       "    <tr>\n",
       "      <th>...</th>\n",
       "      <td>...</td>\n",
       "      <td>...</td>\n",
       "      <td>...</td>\n",
       "      <td>...</td>\n",
       "    </tr>\n",
       "    <tr>\n",
       "      <th>4710</th>\n",
       "      <td>941</td>\n",
       "      <td>455</td>\n",
       "      <td>4</td>\n",
       "      <td>875049038</td>\n",
       "    </tr>\n",
       "    <tr>\n",
       "      <th>4711</th>\n",
       "      <td>941</td>\n",
       "      <td>147</td>\n",
       "      <td>4</td>\n",
       "      <td>875049077</td>\n",
       "    </tr>\n",
       "    <tr>\n",
       "      <th>4712</th>\n",
       "      <td>941</td>\n",
       "      <td>1007</td>\n",
       "      <td>4</td>\n",
       "      <td>875049077</td>\n",
       "    </tr>\n",
       "    <tr>\n",
       "      <th>4713</th>\n",
       "      <td>941</td>\n",
       "      <td>1</td>\n",
       "      <td>5</td>\n",
       "      <td>875049144</td>\n",
       "    </tr>\n",
       "    <tr>\n",
       "      <th>4714</th>\n",
       "      <td>941</td>\n",
       "      <td>15</td>\n",
       "      <td>4</td>\n",
       "      <td>875049144</td>\n",
       "    </tr>\n",
       "  </tbody>\n",
       "</table>\n",
       "<p>4715 rows × 4 columns</p>\n",
       "</div>"
      ],
      "text/plain": [
       "      user_id  movie_id  rating  timestamp\n",
       "0         196       411       4  881252090\n",
       "1         196       108       4  881252110\n",
       "2         196      1118       4  881252128\n",
       "3         196        94       3  881252172\n",
       "4         196       110       1  881252305\n",
       "...       ...       ...     ...        ...\n",
       "4710      941       455       4  875049038\n",
       "4711      941       147       4  875049077\n",
       "4712      941      1007       4  875049077\n",
       "4713      941         1       5  875049144\n",
       "4714      941        15       4  875049144\n",
       "\n",
       "[4715 rows x 4 columns]"
      ]
     },
     "execution_count": 12,
     "metadata": {},
     "output_type": "execute_result"
    }
   ],
   "source": [
    "test_df"
   ]
  },
  {
   "cell_type": "raw",
   "id": "805d7781",
   "metadata": {},
   "source": [
    "als.predict_rating(22, 566)"
   ]
  },
  {
   "cell_type": "code",
   "execution_count": 13,
   "id": "6f467e9e",
   "metadata": {},
   "outputs": [
    {
     "data": {
      "text/plain": [
       "3.330493140027351"
      ]
     },
     "execution_count": 13,
     "metadata": {},
     "output_type": "execute_result"
    }
   ],
   "source": [
    "als.predict_rating(22, 550)"
   ]
  }
 ],
 "metadata": {
  "kernelspec": {
   "display_name": "Python 3 (ipykernel)",
   "language": "python",
   "name": "python3"
  },
  "language_info": {
   "codemirror_mode": {
    "name": "ipython",
    "version": 3
   },
   "file_extension": ".py",
   "mimetype": "text/x-python",
   "name": "python",
   "nbconvert_exporter": "python",
   "pygments_lexer": "ipython3",
   "version": "3.8.12"
  }
 },
 "nbformat": 4,
 "nbformat_minor": 5
}
