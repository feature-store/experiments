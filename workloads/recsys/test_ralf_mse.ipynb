{
 "cells": [
  {
   "cell_type": "code",
   "execution_count": 53,
   "id": "853905a0",
   "metadata": {},
   "outputs": [],
   "source": [
    "import pandas as pd\n",
    "import numpy as np\n",
    "import matplotlib.pyplot as plt\n",
    "from sklearn.metrics import mean_squared_error"
   ]
  },
  {
   "cell_type": "code",
   "execution_count": 54,
   "id": "ec1897e6",
   "metadata": {},
   "outputs": [],
   "source": [
    "def get_features(file_path):\n",
    "    df = pd.read_csv(file_path)\n",
    "    features = dict()\n",
    "    for row in df.itertuples():\n",
    "        features[row.id] = np.array(eval(row.features))\n",
    "    return features "
   ]
  },
  {
   "cell_type": "code",
   "execution_count": 55,
   "id": "b96a5e39",
   "metadata": {},
   "outputs": [],
   "source": [
    "def get_feature_update(features, row):\n",
    "    features[row.user_id] = np.array(eval(row.user_features))"
   ]
  },
  {
   "cell_type": "code",
   "execution_count": 56,
   "id": "506024e9",
   "metadata": {},
   "outputs": [],
   "source": [
    "dir_path = \"~/movielens/ralf\"\n",
    "user_features_path = f\"{dir_path}/user_features.csv\"\n",
    "movie_features_path = f\"{dir_path}/movie_features.csv\"\n",
    "ratings_path = f\"{dir_path}/ratings.csv\""
   ]
  },
  {
   "cell_type": "code",
   "execution_count": 57,
   "id": "00130f9b",
   "metadata": {},
   "outputs": [],
   "source": [
    "user_features = get_features(user_features_path)\n",
    "movie_features = get_features(movie_features_path)"
   ]
  },
  {
   "cell_type": "code",
   "execution_count": 58,
   "id": "63cab3c5",
   "metadata": {},
   "outputs": [],
   "source": [
    "test_data = pd.read_csv(ratings_path)"
   ]
  },
  {
   "cell_type": "code",
   "execution_count": 59,
   "id": "28f96132",
   "metadata": {},
   "outputs": [],
   "source": [
    "experiment_path = \"~/experiment_results/07\"\n",
    "feature_updates = pd.read_csv(f\"{experiment_path}/results_workers_2_fifo_learningrate_0.02_userfeaturereg_0.01.csv\")"
   ]
  },
  {
   "cell_type": "code",
   "execution_count": 60,
   "id": "8fd2b2ac",
   "metadata": {},
   "outputs": [],
   "source": [
    "def predict_rating(user_feature, movie_feature):\n",
    "    return user_feature.dot(movie_feature.T)\n",
    "\n",
    "def compute_test_mse(user_features, movie_features):\n",
    "    predictions = []\n",
    "    ratings = []\n",
    "    count = 0\n",
    "    for row in test_data.itertuples():\n",
    "        user_id = row.user_id\n",
    "        movie_id = row.movie_id\n",
    "        rating = row.rating\n",
    "        predictions.append(predict_rating(user_features[user_id], movie_features[movie_id]))\n",
    "        ratings.append(rating) \n",
    "    mse = mean_squared_error(ratings, predictions)\n",
    "    return mse\n",
    "\n",
    "def compute_improvement():\n",
    "    count = 0\n",
    "    mses = []\n",
    "    for row in feature_updates.itertuples():\n",
    "        user_features[row.user_id] = np.array(eval(row.user_features))\n",
    "        if count % 1000 == 0:\n",
    "            print(count)\n",
    "            mses.append(compute_test_mse(user_features, movie_features))\n",
    "        count += 1\n",
    "    return mses"
   ]
  },
  {
   "cell_type": "code",
   "execution_count": 61,
   "id": "a95114e2",
   "metadata": {},
   "outputs": [
    {
     "name": "stdout",
     "output_type": "stream",
     "text": [
      "0\n",
      "1000\n",
      "2000\n",
      "3000\n",
      "4000\n",
      "5000\n",
      "6000\n",
      "7000\n",
      "8000\n",
      "9000\n",
      "10000\n",
      "11000\n",
      "12000\n",
      "13000\n",
      "14000\n",
      "15000\n",
      "16000\n",
      "17000\n",
      "18000\n",
      "19000\n",
      "20000\n",
      "21000\n",
      "22000\n",
      "23000\n",
      "24000\n",
      "25000\n",
      "26000\n",
      "27000\n",
      "28000\n",
      "29000\n",
      "30000\n",
      "31000\n",
      "32000\n",
      "33000\n",
      "34000\n",
      "35000\n",
      "36000\n",
      "37000\n",
      "38000\n",
      "39000\n",
      "40000\n",
      "41000\n",
      "42000\n",
      "43000\n",
      "44000\n",
      "45000\n",
      "46000\n",
      "47000\n",
      "48000\n",
      "49000\n",
      "50000\n",
      "51000\n",
      "52000\n",
      "53000\n",
      "54000\n",
      "55000\n",
      "56000\n",
      "57000\n",
      "58000\n",
      "59000\n",
      "60000\n",
      "61000\n",
      "62000\n",
      "63000\n",
      "64000\n",
      "65000\n",
      "66000\n",
      "67000\n",
      "68000\n",
      "69000\n",
      "70000\n",
      "71000\n",
      "72000\n",
      "73000\n",
      "74000\n",
      "75000\n",
      "76000\n",
      "77000\n",
      "78000\n",
      "79000\n",
      "80000\n",
      "81000\n",
      "82000\n",
      "83000\n",
      "84000\n",
      "85000\n",
      "86000\n",
      "87000\n",
      "88000\n",
      "89000\n",
      "90000\n",
      "91000\n",
      "92000\n",
      "93000\n",
      "94000\n",
      "95000\n",
      "96000\n",
      "97000\n",
      "98000\n",
      "[1.0050943857062011, 1.0040570316346868, 1.003736669029666, 1.0028804953887225, 0.9998064734179033, 0.9985934147550377, 0.9961071002741358, 0.9951421465488614, 0.9940780012948565, 0.993190645703682, 0.9900589414170282, 0.987542104760992, 0.9852902786889168, 0.9845048892486464, 0.9844634169586469, 0.98406115149775, 0.9823330893905903, 0.9793292338347852, 0.9753951669609839, 0.9736949247293573, 0.9713195455581299, 0.9709808397097031, 0.9704517060267244, 0.9678034870364802, 0.966761032986483, 0.9642698643035905, 0.9630644093208163, 0.9619242098574151, 0.9617475412476731, 0.959766477871973, 0.9582825968325771, 0.9579639524526882, 0.9567816917427321, 0.9552519654725949, 0.9544512869665894, 0.9537839893545629, 0.9546201054393715, 0.9530336392284454, 0.9513779525226146, 0.9486024599527125, 0.9473206870701579, 0.9465393229489435, 0.945344409591525, 0.9438579282549535, 0.9428240644821098, 0.9442647860253225, 0.9394559218570778, 0.9364506251222238, 0.9354790261583144, 0.9330187289160338, 0.9317314114313499, 0.9301889691822799, 0.9307393122314485, 0.9286920815150105, 0.926854433074067, 0.9286504927066063, 0.9276285292766927, 0.9259398463382797, 0.9250906405809761, 0.9204838022620484, 0.9187355978300643, 0.9191972743109648, 0.9174745538781555, 0.9139742096656661, 0.9114921401388538, 0.9099995216310406, 0.9088957541180912, 0.9065723650501465, 0.9042919081217332, 0.9034690721044021, 0.9004550284151416, 0.8979424411675238, 0.8984691661883263, 0.8972105713904488, 0.8951544775282096, 0.8947874232326678, 0.8912971268734058, 0.8884690442708134, 0.8885934842889196, 0.8883341459398798, 0.8834916518560869, 0.8829045595566739, 0.8798497046198169, 0.8771832767148934, 0.8754235259202215, 0.8731084487655403, 0.8711020979869569, 0.8700133779345391, 0.8691036644275525, 0.8666921483604492, 0.8655380710807666, 0.8612052324362061, 0.8608414657618991, 0.859978175827369, 0.8606978001639068, 0.8561259676369777, 0.8488564819213577, 0.8454225009238241, 0.8451025146322039]\n"
     ]
    }
   ],
   "source": [
    "improvement = compute_improvement()\n",
    "print(improvement)"
   ]
  }
 ],
 "metadata": {
  "kernelspec": {
   "display_name": "Python 3 (ipykernel)",
   "language": "python",
   "name": "python3"
  },
  "language_info": {
   "codemirror_mode": {
    "name": "ipython",
    "version": 3
   },
   "file_extension": ".py",
   "mimetype": "text/x-python",
   "name": "python",
   "nbconvert_exporter": "python",
   "pygments_lexer": "ipython3",
   "version": "3.8.12"
  }
 },
 "nbformat": 4,
 "nbformat_minor": 5
}
