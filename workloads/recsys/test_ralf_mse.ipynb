{
 "cells": [
  {
   "cell_type": "code",
   "execution_count": 941,
   "id": "853905a0",
   "metadata": {},
   "outputs": [],
   "source": [
    "import pandas as pd\n",
    "import numpy as np\n",
    "import matplotlib.pyplot as plt\n",
    "from sklearn.metrics import mean_squared_error"
   ]
  },
  {
   "cell_type": "code",
   "execution_count": 942,
   "id": "6f2e26f9",
   "metadata": {},
   "outputs": [],
   "source": [
    "dir_path = \"~/movielens/ralf\"\n",
    "user_features_path = f\"{dir_path}/user_features.csv\"\n",
    "movie_features_path = f\"{dir_path}/movie_features.csv\"\n",
    "ratings_path = f\"{dir_path}/ratings.csv\""
   ]
  },
  {
   "cell_type": "code",
   "execution_count": 943,
   "id": "ec1897e6",
   "metadata": {},
   "outputs": [],
   "source": [
    "def get_features(file_path):\n",
    "    df = pd.read_csv(file_path)\n",
    "    features = dict()\n",
    "    for row in df.itertuples():\n",
    "        features[row.id] = np.array(eval(row.features))\n",
    "    return features "
   ]
  },
  {
   "cell_type": "code",
   "execution_count": 944,
   "id": "b96a5e39",
   "metadata": {},
   "outputs": [],
   "source": [
    "def get_feature_update(features, row):\n",
    "    features[row.user_id] = np.array(eval(row.user_features))"
   ]
  },
  {
   "cell_type": "code",
   "execution_count": 945,
   "id": "00130f9b",
   "metadata": {},
   "outputs": [],
   "source": [
    "user_features = get_features(user_features_path)\n",
    "movie_features = get_features(movie_features_path)"
   ]
  },
  {
   "cell_type": "code",
   "execution_count": 946,
   "id": "63cab3c5",
   "metadata": {},
   "outputs": [],
   "source": [
    "test_data = pd.read_csv(ratings_path)"
   ]
  },
  {
   "cell_type": "code",
   "execution_count": 947,
   "id": "28f96132",
   "metadata": {},
   "outputs": [],
   "source": [
    "experiment_path = \"~/experiment_results/dest\"\n",
    "feature_updates = pd.read_csv(f\"{experiment_path}/results_workers_1_least_learningrate_0.02_userfeaturereg_0.01.csv\")"
   ]
  },
  {
   "cell_type": "code",
   "execution_count": 948,
   "id": "238429f3",
   "metadata": {},
   "outputs": [
    {
     "data": {
      "text/plain": [
       "49396"
      ]
     },
     "execution_count": 948,
     "metadata": {},
     "output_type": "execute_result"
    }
   ],
   "source": [
    "len(feature_updates)"
   ]
  },
  {
   "cell_type": "code",
   "execution_count": 949,
   "id": "37919cf7",
   "metadata": {},
   "outputs": [
    {
     "data": {
      "text/html": [
       "<div>\n",
       "<style scoped>\n",
       "    .dataframe tbody tr th:only-of-type {\n",
       "        vertical-align: middle;\n",
       "    }\n",
       "\n",
       "    .dataframe tbody tr th {\n",
       "        vertical-align: top;\n",
       "    }\n",
       "\n",
       "    .dataframe thead th {\n",
       "        text-align: right;\n",
       "    }\n",
       "</style>\n",
       "<table border=\"1\" class=\"dataframe\">\n",
       "  <thead>\n",
       "    <tr style=\"text-align: right;\">\n",
       "      <th></th>\n",
       "      <th>user_id</th>\n",
       "      <th>user_features</th>\n",
       "      <th>timestamp</th>\n",
       "    </tr>\n",
       "  </thead>\n",
       "  <tbody>\n",
       "    <tr>\n",
       "      <th>0</th>\n",
       "      <td>843</td>\n",
       "      <td>[0.03497391266021731, -0.0930131896040979, 0.1...</td>\n",
       "      <td>1</td>\n",
       "    </tr>\n",
       "    <tr>\n",
       "      <th>1</th>\n",
       "      <td>454</td>\n",
       "      <td>[0.015147542126658513, -0.11745682561262695, 0...</td>\n",
       "      <td>1</td>\n",
       "    </tr>\n",
       "    <tr>\n",
       "      <th>2</th>\n",
       "      <td>854</td>\n",
       "      <td>[0.09761926144036312, -0.08534277076837851, 0....</td>\n",
       "      <td>1</td>\n",
       "    </tr>\n",
       "    <tr>\n",
       "      <th>3</th>\n",
       "      <td>334</td>\n",
       "      <td>[0.1716856926028898, -0.10440537113820793, 0.2...</td>\n",
       "      <td>1</td>\n",
       "    </tr>\n",
       "    <tr>\n",
       "      <th>4</th>\n",
       "      <td>299</td>\n",
       "      <td>[0.17201720458446304, -0.10451674686456212, 0....</td>\n",
       "      <td>1</td>\n",
       "    </tr>\n",
       "    <tr>\n",
       "      <th>...</th>\n",
       "      <td>...</td>\n",
       "      <td>...</td>\n",
       "      <td>...</td>\n",
       "    </tr>\n",
       "    <tr>\n",
       "      <th>49391</th>\n",
       "      <td>372</td>\n",
       "      <td>[0.22111206966902006, -0.10296885119239266, 0....</td>\n",
       "      <td>494</td>\n",
       "    </tr>\n",
       "    <tr>\n",
       "      <th>49392</th>\n",
       "      <td>220</td>\n",
       "      <td>[0.013205573138929439, -0.15819933661658347, 0...</td>\n",
       "      <td>494</td>\n",
       "    </tr>\n",
       "    <tr>\n",
       "      <th>49393</th>\n",
       "      <td>90</td>\n",
       "      <td>[0.10473016330576834, -0.1811403809432033, 0.3...</td>\n",
       "      <td>494</td>\n",
       "    </tr>\n",
       "    <tr>\n",
       "      <th>49394</th>\n",
       "      <td>655</td>\n",
       "      <td>[0.15017344212998535, -0.11060208119841283, 0....</td>\n",
       "      <td>494</td>\n",
       "    </tr>\n",
       "    <tr>\n",
       "      <th>49395</th>\n",
       "      <td>551</td>\n",
       "      <td>[0.15772538791505844, -0.08722221036779043, 0....</td>\n",
       "      <td>494</td>\n",
       "    </tr>\n",
       "  </tbody>\n",
       "</table>\n",
       "<p>49396 rows × 3 columns</p>\n",
       "</div>"
      ],
      "text/plain": [
       "       user_id                                      user_features  timestamp\n",
       "0          843  [0.03497391266021731, -0.0930131896040979, 0.1...          1\n",
       "1          454  [0.015147542126658513, -0.11745682561262695, 0...          1\n",
       "2          854  [0.09761926144036312, -0.08534277076837851, 0....          1\n",
       "3          334  [0.1716856926028898, -0.10440537113820793, 0.2...          1\n",
       "4          299  [0.17201720458446304, -0.10451674686456212, 0....          1\n",
       "...        ...                                                ...        ...\n",
       "49391      372  [0.22111206966902006, -0.10296885119239266, 0....        494\n",
       "49392      220  [0.013205573138929439, -0.15819933661658347, 0...        494\n",
       "49393       90  [0.10473016330576834, -0.1811403809432033, 0.3...        494\n",
       "49394      655  [0.15017344212998535, -0.11060208119841283, 0....        494\n",
       "49395      551  [0.15772538791505844, -0.08722221036779043, 0....        494\n",
       "\n",
       "[49396 rows x 3 columns]"
      ]
     },
     "execution_count": 949,
     "metadata": {},
     "output_type": "execute_result"
    }
   ],
   "source": [
    "feature_updates"
   ]
  },
  {
   "cell_type": "code",
   "execution_count": 950,
   "id": "54b3a918",
   "metadata": {
    "scrolled": true
   },
   "outputs": [
    {
     "data": {
      "text/plain": [
       "99"
      ]
     },
     "execution_count": 950,
     "metadata": {},
     "output_type": "execute_result"
    }
   ],
   "source": [
    "len(test_data[test_data['timestamp'] == 0])"
   ]
  },
  {
   "cell_type": "code",
   "execution_count": 951,
   "id": "356df59f",
   "metadata": {
    "scrolled": false
   },
   "outputs": [
    {
     "data": {
      "text/plain": [
       "16636"
      ]
     },
     "execution_count": 951,
     "metadata": {},
     "output_type": "execute_result"
    }
   ],
   "source": [
    "len(feature_updates[feature_updates['timestamp'] == 494])"
   ]
  },
  {
   "cell_type": "code",
   "execution_count": 952,
   "id": "d8e967bc",
   "metadata": {},
   "outputs": [
    {
     "data": {
      "text/plain": [
       "49396"
      ]
     },
     "execution_count": 952,
     "metadata": {},
     "output_type": "execute_result"
    }
   ],
   "source": [
    "len(feature_updates)"
   ]
  },
  {
   "cell_type": "code",
   "execution_count": 953,
   "id": "f9f6c613",
   "metadata": {},
   "outputs": [
    {
     "data": {
      "text/plain": [
       "494"
      ]
     },
     "execution_count": 953,
     "metadata": {},
     "output_type": "execute_result"
    }
   ],
   "source": [
    "max(feature_updates['timestamp'])"
   ]
  },
  {
   "cell_type": "code",
   "execution_count": 954,
   "id": "8fd2b2ac",
   "metadata": {},
   "outputs": [],
   "source": [
    "def predict_rating(user_feature, movie_feature):\n",
    "    return user_feature.dot(movie_feature.T)\n",
    "\n",
    "def compute_test_mse(user_features, movie_features):\n",
    "    predictions = []\n",
    "    ratings = []\n",
    "    count = 0\n",
    "    for row in test_data.itertuples():\n",
    "        user_id = row.user_id\n",
    "        movie_id = row.movie_id\n",
    "        rating = row.rating\n",
    "        predictions.append(predict_rating(user_features[user_id], movie_features[movie_id]))\n",
    "        ratings.append(rating) \n",
    "    mse = mean_squared_error(ratings, predictions)\n",
    "    return mse\n",
    "\n",
    "def compute_mse(user_features):\n",
    "    predictions = []\n",
    "    ratings = []\n",
    "    for row in test_data.itertuples():\n",
    "        user_id = row.user_id\n",
    "        movie_id = row.movie_id\n",
    "        rating = row.rating\n",
    "        ratings.append(rating)\n",
    "        predictions.append(predict_rating(user_features[user_id], movie_features[movie_id]))\n",
    "    return mean_squared_error(ratings, predictions)\n",
    "\n",
    "def compute_improvement():\n",
    "    count = 0\n",
    "    predictions = []\n",
    "    ratings = []\n",
    "    max_timestamp = max(feature_updates['timestamp'])\n",
    "    print(max_timestamp, len(feature_updates), len(test_data))\n",
    "    baseline = compute_mse(user_features)\n",
    "    while count <= max_timestamp:\n",
    "        feature_update_ts = feature_updates[feature_updates['timestamp'] == count] \n",
    "        for row in feature_update_ts.itertuples():\n",
    "            user_features[row.user_id] = np.array(eval(row.user_features))\n",
    "        query_ts = test_data[test_data['timestamp'] == count]\n",
    "        for row in query_ts.itertuples():\n",
    "            user_id = row.user_id\n",
    "            movie_id = row.movie_id\n",
    "            rating = row.rating\n",
    "            predictions.append(predict_rating(user_features[user_id], movie_features[movie_id]))\n",
    "            ratings.append(rating)\n",
    "        count += 1\n",
    "    new_mse = mean_squared_error(ratings, predictions)\n",
    "    optimal = compute_mse(user_features)\n",
    "    return baseline, new_mse, optimal"
   ]
  },
  {
   "cell_type": "code",
   "execution_count": 955,
   "id": "a95114e2",
   "metadata": {
    "scrolled": true
   },
   "outputs": [
    {
     "name": "stdout",
     "output_type": "stream",
     "text": [
      "494 49396 49442\n",
      "(0.9647940328755866, 0.9046417805481645, 0.8403843673418364)\n"
     ]
    }
   ],
   "source": [
    "mse = compute_improvement()\n",
    "print(mse)\n",
    "#(0.9647940328755866, 0.9036804990152152, 0.8395786686201222) .02 learning least"
   ]
  },
  {
   "cell_type": "code",
   "execution_count": 956,
   "id": "3497280d",
   "metadata": {},
   "outputs": [],
   "source": [
    "def plot_learning_curve(mse):\n",
    "        \"\"\"visualize the training/testing loss\"\"\"\n",
    "        linewidth = 3\n",
    "        plt.plot(mse, label = 'Ralf', linewidth = linewidth)\n",
    "        plt.xlabel('iterations')\n",
    "        plt.ylabel('MSE')\n",
    "        plt.legend(loc = 'best')"
   ]
  },
  {
   "cell_type": "code",
   "execution_count": 957,
   "id": "b5bc05dc",
   "metadata": {},
   "outputs": [
    {
     "data": {
      "image/png": "[encoded data removed]",
      "text/plain": [
       "<Figure size 432x288 with 1 Axes>"
      ]
     },
     "metadata": {
      "needs_background": "light"
     },
     "output_type": "display_data"
    }
   ],
   "source": [
    "plot_learning_curve(mse)"
   ]
  }
 ],
 "metadata": {
  "kernelspec": {
   "display_name": "Python 3 (ipykernel)",
   "language": "python",
   "name": "python3"
  },
  "language_info": {
   "codemirror_mode": {
    "name": "ipython",
    "version": 3
   },
   "file_extension": ".py",
   "mimetype": "text/x-python",
   "name": "python",
   "nbconvert_exporter": "python",
   "pygments_lexer": "ipython3",
   "version": "3.8.12"
  }
 },
 "nbformat": 4,
 "nbformat_minor": 5
}
