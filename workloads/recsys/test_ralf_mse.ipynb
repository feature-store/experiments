{
 "cells": [
  {
   "cell_type": "code",
   "execution_count": 984,
   "id": "853905a0",
   "metadata": {},
   "outputs": [],
   "source": [
    "import pandas as pd\n",
    "import numpy as np\n",
    "import matplotlib.pyplot as plt\n",
    "from sklearn.metrics import mean_squared_error"
   ]
  },
  {
   "cell_type": "code",
   "execution_count": 985,
   "id": "6f2e26f9",
   "metadata": {},
   "outputs": [],
   "source": [
    "dir_path = \"~/movielens/ralf\"\n",
    "user_features_path = f\"{dir_path}/user_features.csv\"\n",
    "movie_features_path = f\"{dir_path}/movie_features.csv\"\n",
    "ratings_path = f\"{dir_path}/ratings.csv\""
   ]
  },
  {
   "cell_type": "code",
   "execution_count": 986,
   "id": "ec1897e6",
   "metadata": {},
   "outputs": [],
   "source": [
    "def get_features(file_path):\n",
    "    df = pd.read_csv(file_path)\n",
    "    features = dict()\n",
    "    for row in df.itertuples():\n",
    "        features[row.id] = np.array(eval(row.features))\n",
    "    return features "
   ]
  },
  {
   "cell_type": "code",
   "execution_count": 987,
   "id": "b96a5e39",
   "metadata": {},
   "outputs": [],
   "source": [
    "def get_feature_update(features, row):\n",
    "    features[row.user_id] = np.array(eval(row.user_features))"
   ]
  },
  {
   "cell_type": "code",
   "execution_count": 988,
   "id": "00130f9b",
   "metadata": {},
   "outputs": [],
   "source": [
    "user_features = get_features(user_features_path)\n",
    "movie_features = get_features(movie_features_path)"
   ]
  },
  {
   "cell_type": "code",
   "execution_count": 989,
   "id": "63cab3c5",
   "metadata": {},
   "outputs": [],
   "source": [
    "test_data = pd.read_csv(ratings_path)"
   ]
  },
  {
   "cell_type": "code",
   "execution_count": 990,
   "id": "28f96132",
   "metadata": {},
   "outputs": [],
   "source": [
    "experiment_path = \"~/experiment_results/100k-massive.2\"\n",
    "feature_updates = pd.read_csv(f\"{experiment_path}/results_workers_1_fifo_learningrate_0.02_userfeaturereg_0.01.csv\")"
   ]
  },
  {
   "cell_type": "code",
   "execution_count": 991,
   "id": "238429f3",
   "metadata": {},
   "outputs": [
    {
     "data": {
      "text/plain": [
       "49399"
      ]
     },
     "execution_count": 991,
     "metadata": {},
     "output_type": "execute_result"
    }
   ],
   "source": [
    "len(feature_updates)"
   ]
  },
  {
   "cell_type": "code",
   "execution_count": 992,
   "id": "0ee3420a",
   "metadata": {},
   "outputs": [
    {
     "data": {
      "text/html": [
       "<div>\n",
       "<style scoped>\n",
       "    .dataframe tbody tr th:only-of-type {\n",
       "        vertical-align: middle;\n",
       "    }\n",
       "\n",
       "    .dataframe tbody tr th {\n",
       "        vertical-align: top;\n",
       "    }\n",
       "\n",
       "    .dataframe thead th {\n",
       "        text-align: right;\n",
       "    }\n",
       "</style>\n",
       "<table border=\"1\" class=\"dataframe\">\n",
       "  <thead>\n",
       "    <tr style=\"text-align: right;\">\n",
       "      <th></th>\n",
       "      <th>user_id</th>\n",
       "      <th>user_features</th>\n",
       "      <th>timestamp</th>\n",
       "    </tr>\n",
       "  </thead>\n",
       "  <tbody>\n",
       "    <tr>\n",
       "      <th>0</th>\n",
       "      <td>712</td>\n",
       "      <td>[0.196146516118746, -0.08941406092126292, 0.30...</td>\n",
       "      <td>1</td>\n",
       "    </tr>\n",
       "    <tr>\n",
       "      <th>1</th>\n",
       "      <td>712</td>\n",
       "      <td>[0.18627229363867254, -0.09373003981315085, 0....</td>\n",
       "      <td>1</td>\n",
       "    </tr>\n",
       "    <tr>\n",
       "      <th>2</th>\n",
       "      <td>712</td>\n",
       "      <td>[0.19008081039869745, -0.09094296836129032, 0....</td>\n",
       "      <td>1</td>\n",
       "    </tr>\n",
       "    <tr>\n",
       "      <th>3</th>\n",
       "      <td>712</td>\n",
       "      <td>[0.18530072893609403, -0.09580932104634117, 0....</td>\n",
       "      <td>1</td>\n",
       "    </tr>\n",
       "    <tr>\n",
       "      <th>4</th>\n",
       "      <td>712</td>\n",
       "      <td>[0.18926061817082734, -0.09322372518128175, 0....</td>\n",
       "      <td>1</td>\n",
       "    </tr>\n",
       "    <tr>\n",
       "      <th>...</th>\n",
       "      <td>...</td>\n",
       "      <td>...</td>\n",
       "      <td>...</td>\n",
       "    </tr>\n",
       "    <tr>\n",
       "      <th>49394</th>\n",
       "      <td>479</td>\n",
       "      <td>[0.26942851277978613, 0.12764496902208425, 0.2...</td>\n",
       "      <td>494</td>\n",
       "    </tr>\n",
       "    <tr>\n",
       "      <th>49395</th>\n",
       "      <td>661</td>\n",
       "      <td>[0.24565806379718302, 0.06744957218358588, 0.1...</td>\n",
       "      <td>494</td>\n",
       "    </tr>\n",
       "    <tr>\n",
       "      <th>49396</th>\n",
       "      <td>683</td>\n",
       "      <td>[0.2180142020061294, -0.02899228737369761, 0.1...</td>\n",
       "      <td>494</td>\n",
       "    </tr>\n",
       "    <tr>\n",
       "      <th>49397</th>\n",
       "      <td>729</td>\n",
       "      <td>[-0.02097903376569311, -0.13886990660449836, 0...</td>\n",
       "      <td>494</td>\n",
       "    </tr>\n",
       "    <tr>\n",
       "      <th>49398</th>\n",
       "      <td>796</td>\n",
       "      <td>[0.25055932388733215, 0.08323348374285482, 0.2...</td>\n",
       "      <td>494</td>\n",
       "    </tr>\n",
       "  </tbody>\n",
       "</table>\n",
       "<p>49399 rows × 3 columns</p>\n",
       "</div>"
      ],
      "text/plain": [
       "       user_id                                      user_features  timestamp\n",
       "0          712  [0.196146516118746, -0.08941406092126292, 0.30...          1\n",
       "1          712  [0.18627229363867254, -0.09373003981315085, 0....          1\n",
       "2          712  [0.19008081039869745, -0.09094296836129032, 0....          1\n",
       "3          712  [0.18530072893609403, -0.09580932104634117, 0....          1\n",
       "4          712  [0.18926061817082734, -0.09322372518128175, 0....          1\n",
       "...        ...                                                ...        ...\n",
       "49394      479  [0.26942851277978613, 0.12764496902208425, 0.2...        494\n",
       "49395      661  [0.24565806379718302, 0.06744957218358588, 0.1...        494\n",
       "49396      683  [0.2180142020061294, -0.02899228737369761, 0.1...        494\n",
       "49397      729  [-0.02097903376569311, -0.13886990660449836, 0...        494\n",
       "49398      796  [0.25055932388733215, 0.08323348374285482, 0.2...        494\n",
       "\n",
       "[49399 rows x 3 columns]"
      ]
     },
     "execution_count": 992,
     "metadata": {},
     "output_type": "execute_result"
    }
   ],
   "source": [
    "feature_updates"
   ]
  },
  {
   "cell_type": "code",
   "execution_count": 993,
   "id": "3f92e866",
   "metadata": {
    "scrolled": true
   },
   "outputs": [
    {
     "data": {
      "text/plain": [
       "99"
      ]
     },
     "execution_count": 993,
     "metadata": {},
     "output_type": "execute_result"
    }
   ],
   "source": [
    "len(test_data[test_data['timestamp'] == 0])"
   ]
  },
  {
   "cell_type": "code",
   "execution_count": 994,
   "id": "8b38fd29",
   "metadata": {
    "scrolled": false
   },
   "outputs": [
    {
     "data": {
      "text/plain": [
       "195"
      ]
     },
     "execution_count": 994,
     "metadata": {},
     "output_type": "execute_result"
    }
   ],
   "source": [
    "len(feature_updates[feature_updates['timestamp'] == 494])"
   ]
  },
  {
   "cell_type": "code",
   "execution_count": 995,
   "id": "3f0255a9",
   "metadata": {},
   "outputs": [
    {
     "data": {
      "text/plain": [
       "49399"
      ]
     },
     "execution_count": 995,
     "metadata": {},
     "output_type": "execute_result"
    }
   ],
   "source": [
    "len(feature_updates)"
   ]
  },
  {
   "cell_type": "code",
   "execution_count": 996,
   "id": "5032e935",
   "metadata": {},
   "outputs": [
    {
     "data": {
      "text/plain": [
       "494"
      ]
     },
     "execution_count": 996,
     "metadata": {},
     "output_type": "execute_result"
    }
   ],
   "source": [
    "max(feature_updates['timestamp'])"
   ]
  },
  {
   "cell_type": "code",
   "execution_count": 997,
   "id": "8fd2b2ac",
   "metadata": {},
   "outputs": [],
   "source": [
    "def predict_rating(user_feature, movie_feature):\n",
    "    return user_feature.dot(movie_feature.T)\n",
    "\n",
    "def compute_test_mse(user_features, movie_features):\n",
    "    predictions = []\n",
    "    ratings = []\n",
    "    count = 0\n",
    "    for row in test_data.itertuples():\n",
    "        user_id = row.user_id\n",
    "        movie_id = row.movie_id\n",
    "        rating = row.rating\n",
    "        predictions.append(predict_rating(user_features[user_id], movie_features[movie_id]))\n",
    "        ratings.append(rating) \n",
    "    mse = mean_squared_error(ratings, predictions)\n",
    "    return mse\n",
    "\n",
    "def compute_mse(user_features):\n",
    "    predictions = []\n",
    "    ratings = []\n",
    "    for row in test_data.itertuples():\n",
    "        user_id = row.user_id\n",
    "        movie_id = row.movie_id\n",
    "        rating = row.rating\n",
    "        ratings.append(rating)\n",
    "        predictions.append(predict_rating(user_features[user_id], movie_features[movie_id]))\n",
    "    return mean_squared_error(ratings, predictions)\n",
    "\n",
    "def compute_improvement():\n",
    "    count = 0\n",
    "    predictions = []\n",
    "    ratings = []\n",
    "    max_timestamp = max(feature_updates['timestamp'])\n",
    "    print(max_timestamp, len(feature_updates), len(test_data))\n",
    "    baseline = compute_mse(user_features)\n",
    "    while count <= max_timestamp:\n",
    "        feature_update_ts = feature_updates[feature_updates['timestamp'] == count] \n",
    "        for row in feature_update_ts.itertuples():\n",
    "            user_features[row.user_id] = np.array(eval(row.user_features))\n",
    "        query_ts = test_data[test_data['timestamp'] == count]\n",
    "        for row in query_ts.itertuples():\n",
    "            user_id = row.user_id\n",
    "            movie_id = row.movie_id\n",
    "            rating = row.rating\n",
    "            predictions.append(predict_rating(user_features[user_id], movie_features[movie_id]))\n",
    "            ratings.append(rating)\n",
    "        count += 1\n",
    "    new_mse = mean_squared_error(ratings, predictions)\n",
    "    optimal = compute_mse(user_features)\n",
    "    return baseline, new_mse, optimal"
   ]
  },
  {
   "cell_type": "code",
   "execution_count": 998,
   "id": "a95114e2",
   "metadata": {
    "scrolled": true
   },
   "outputs": [
    {
     "name": "stdout",
     "output_type": "stream",
     "text": [
      "494 49399 49442\n",
      "(0.9649927556378177, 8.305402745179398, 14.522112134306681)\n"
     ]
    }
   ],
   "source": [
    "mse = compute_improvement()\n",
    "print(mse)"
   ]
  },
  {
   "cell_type": "code",
   "execution_count": 999,
   "id": "3497280d",
   "metadata": {},
   "outputs": [],
   "source": [
    "def plot_learning_curve(mse):\n",
    "        \"\"\"visualize the training/testing loss\"\"\"\n",
    "        linewidth = 3\n",
    "        plt.plot(mse, label = 'Ralf', linewidth = linewidth)\n",
    "        plt.xlabel('iterations')\n",
    "        plt.ylabel('MSE')\n",
    "        plt.legend(loc = 'best')"
   ]
  },
  {
   "cell_type": "code",
   "execution_count": 1000,
   "id": "b5bc05dc",
   "metadata": {},
   "outputs": [
    {
     "data": {
      "image/png": "[encoded data removed]",
      "text/plain": [
       "<Figure size 432x288 with 1 Axes>"
      ]
     },
     "metadata": {
      "needs_background": "light"
     },
     "output_type": "display_data"
    }
   ],
   "source": [
    "plot_learning_curve(mse)"
   ]
  }
 ],
 "metadata": {
  "kernelspec": {
   "display_name": "Python 3",
   "language": "python",
   "name": "python3"
  },
  "language_info": {
   "codemirror_mode": {
    "name": "ipython",
    "version": 3
   },
   "file_extension": ".py",
   "mimetype": "text/x-python",
   "name": "python",
   "nbconvert_exporter": "python",
   "pygments_lexer": "ipython3",
   "version": "3.8.8"
  }
 },
 "nbformat": 4,
 "nbformat_minor": 5
}
