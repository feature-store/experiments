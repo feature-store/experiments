{
 "cells": [
  {
   "cell_type": "code",
   "execution_count": 703,
   "id": "853905a0",
   "metadata": {},
   "outputs": [],
   "source": [
    "import pandas as pd\n",
    "import numpy as np\n",
    "import matplotlib.pyplot as plt\n",
    "from sklearn.metrics import mean_squared_error"
   ]
  },
  {
   "cell_type": "code",
   "execution_count": 704,
   "id": "6f2e26f9",
   "metadata": {},
   "outputs": [],
   "source": [
    "dir_path = \"~/movielens/ralf\"\n",
    "user_features_path = f\"{dir_path}/user_features.csv\"\n",
    "movie_features_path = f\"{dir_path}/movie_features.csv\"\n",
    "ratings_path = f\"{dir_path}/ratings.csv\""
   ]
  },
  {
   "cell_type": "code",
   "execution_count": 705,
   "id": "ec1897e6",
   "metadata": {},
   "outputs": [],
   "source": [
    "def get_features(file_path):\n",
    "    df = pd.read_csv(file_path)\n",
    "    features = dict()\n",
    "    for row in df.itertuples():\n",
    "        features[row.id] = np.array(eval(row.features))\n",
    "    return features "
   ]
  },
  {
   "cell_type": "code",
   "execution_count": 706,
   "id": "b96a5e39",
   "metadata": {},
   "outputs": [],
   "source": [
    "def get_feature_update(features, row):\n",
    "    features[row.user_id] = np.array(eval(row.user_features))"
   ]
  },
  {
   "cell_type": "code",
   "execution_count": 707,
   "id": "00130f9b",
   "metadata": {},
   "outputs": [],
   "source": [
    "user_features = get_features(user_features_path)\n",
    "movie_features = get_features(movie_features_path)"
   ]
  },
  {
   "cell_type": "code",
   "execution_count": 708,
   "id": "63cab3c5",
   "metadata": {},
   "outputs": [],
   "source": [
    "test_data = pd.read_csv(ratings_path)"
   ]
  },
  {
   "cell_type": "code",
   "execution_count": 709,
   "id": "28f96132",
   "metadata": {},
   "outputs": [],
   "source": [
    "experiment_path = \"~/experiment_results/100k-newfifo\"\n",
    "feature_updates = pd.read_csv(f\"{experiment_path}/results_workers_1_fifo_learningrate_0.01_userfeaturereg_0.01.csv\")"
   ]
  },
  {
   "cell_type": "code",
   "execution_count": 710,
   "id": "238429f3",
   "metadata": {},
   "outputs": [
    {
     "data": {
      "text/plain": [
       "49399"
      ]
     },
     "execution_count": 710,
     "metadata": {},
     "output_type": "execute_result"
    }
   ],
   "source": [
    "len(feature_updates)"
   ]
  },
  {
   "cell_type": "code",
   "execution_count": 711,
   "id": "6ea574b9",
   "metadata": {
    "scrolled": true
   },
   "outputs": [
    {
     "data": {
      "text/plain": [
       "100"
      ]
     },
     "execution_count": 711,
     "metadata": {},
     "output_type": "execute_result"
    }
   ],
   "source": [
    "len(test_data[test_data['timestamp'] == 49])"
   ]
  },
  {
   "cell_type": "code",
   "execution_count": 712,
   "id": "6473efd3",
   "metadata": {
    "scrolled": true
   },
   "outputs": [
    {
     "data": {
      "text/plain": [
       "971"
      ]
     },
     "execution_count": 712,
     "metadata": {},
     "output_type": "execute_result"
    }
   ],
   "source": [
    "len(feature_updates[feature_updates['timestamp'] == 494])"
   ]
  },
  {
   "cell_type": "code",
   "execution_count": 713,
   "id": "ba182a98",
   "metadata": {},
   "outputs": [
    {
     "data": {
      "text/plain": [
       "494"
      ]
     },
     "execution_count": 713,
     "metadata": {},
     "output_type": "execute_result"
    }
   ],
   "source": [
    "max(feature_updates['timestamp'])"
   ]
  },
  {
   "cell_type": "code",
   "execution_count": 714,
   "id": "8fd2b2ac",
   "metadata": {},
   "outputs": [],
   "source": [
    "def predict_rating(user_feature, movie_feature):\n",
    "    return user_feature.dot(movie_feature.T)\n",
    "\n",
    "def compute_test_mse(user_features, movie_features):\n",
    "    predictions = []\n",
    "    ratings = []\n",
    "    count = 0\n",
    "    for row in test_data.itertuples():\n",
    "        user_id = row.user_id\n",
    "        movie_id = row.movie_id\n",
    "        rating = row.rating\n",
    "        predictions.append(predict_rating(user_features[user_id], movie_features[movie_id]))\n",
    "        ratings.append(rating) \n",
    "    mse = mean_squared_error(ratings, predictions)\n",
    "    return mse\n",
    "\n",
    "def compute_mse(user_features):\n",
    "    predictions = []\n",
    "    ratings = []\n",
    "    for row in test_data.itertuples():\n",
    "        user_id = row.user_id\n",
    "        movie_id = row.movie_id\n",
    "        rating = row.rating\n",
    "        ratings.append(rating)\n",
    "        predictions.append(predict_rating(user_features[user_id], movie_features[movie_id]))\n",
    "    return mean_squared_error(ratings, predictions)\n",
    "\n",
    "def compute_improvement():\n",
    "    count = 0\n",
    "    predictions = []\n",
    "    ratings = []\n",
    "    max_timestamp = max(feature_updates['timestamp'])\n",
    "    print(max_timestamp, len(feature_updates), len(test_data))\n",
    "    baseline = compute_mse(user_features)\n",
    "    while count <= max_timestamp:\n",
    "        feature_update_ts = feature_updates[feature_updates['timestamp'] == count] \n",
    "        for row in feature_update_ts.itertuples():\n",
    "            user_features[row.user_id] = np.array(eval(row.user_features))\n",
    "        query_ts = test_data[test_data['timestamp'] == count]\n",
    "        for row in query_ts.itertuples():\n",
    "            user_id = row.user_id\n",
    "            movie_id = row.movie_id\n",
    "            rating = row.rating\n",
    "            predictions.append(predict_rating(user_features[user_id], movie_features[movie_id]))\n",
    "            ratings.append(rating)\n",
    "        count += 1\n",
    "    new_mse = mean_squared_error(ratings, predictions)\n",
    "    optimal = compute_mse(user_features)\n",
    "    return baseline, new_mse, optimal"
   ]
  },
  {
   "cell_type": "code",
   "execution_count": 715,
   "id": "a95114e2",
   "metadata": {},
   "outputs": [
    {
     "name": "stdout",
     "output_type": "stream",
     "text": [
      "494 49399 49442\n",
      "(0.9753393608055867, 0.9677908915354175, 0.8501974445955952)\n"
     ]
    }
   ],
   "source": [
    "mse = compute_improvement()\n",
    "print(mse)\n",
    "#(1.874643777239477, 1.864824706815482)\n",
    "#(1.874643777239477, 1.8038870862110539)\n",
    "#(1.616211649866098, 1.550690845444643) 100k-sleep-iterations\n",
    "#(0.9753393608055867, 0.9620198553259188) learning rate\n",
    "#(0.9753393608055867, 0.9619932027382342) mroe sleep does little"
   ]
  },
  {
   "cell_type": "code",
   "execution_count": 716,
   "id": "3497280d",
   "metadata": {},
   "outputs": [],
   "source": [
    "def plot_learning_curve(mse):\n",
    "        \"\"\"visualize the training/testing loss\"\"\"\n",
    "        linewidth = 3\n",
    "        plt.plot(mse, label = 'Ralf', linewidth = linewidth)\n",
    "        plt.xlabel('iterations')\n",
    "        plt.ylabel('MSE')\n",
    "        plt.legend(loc = 'best')"
   ]
  },
  {
   "cell_type": "code",
   "execution_count": 717,
   "id": "b5bc05dc",
   "metadata": {},
   "outputs": [
    {
     "data": {
      "image/png": "[encoded data removed]",
      "text/plain": [
       "<Figure size 432x288 with 1 Axes>"
      ]
     },
     "metadata": {
      "needs_background": "light"
     },
     "output_type": "display_data"
    }
   ],
   "source": [
    "plot_learning_curve(mse)"
   ]
  }
 ],
 "metadata": {
  "kernelspec": {
   "display_name": "Python 3 (ipykernel)",
   "language": "python",
   "name": "python3"
  },
  "language_info": {
   "codemirror_mode": {
    "name": "ipython",
    "version": 3
   },
   "file_extension": ".py",
   "mimetype": "text/x-python",
   "name": "python",
   "nbconvert_exporter": "python",
   "pygments_lexer": "ipython3",
   "version": "3.8.12"
  }
 },
 "nbformat": 4,
 "nbformat_minor": 5
}
