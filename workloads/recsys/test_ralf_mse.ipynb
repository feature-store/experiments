{
 "cells": [
  {
   "cell_type": "code",
   "execution_count": 72,
   "id": "853905a0",
   "metadata": {},
   "outputs": [],
   "source": [
    "import pandas as pd\n",
    "import numpy as np\n",
    "import matplotlib.pyplot as plt\n",
    "from sklearn.metrics import mean_squared_error"
   ]
  },
  {
   "cell_type": "code",
   "execution_count": 97,
   "id": "b1ba06be",
   "metadata": {},
   "outputs": [],
   "source": [
    "dir_path = \"~/movielens/ralf\"\n",
    "user_features_path = f\"{dir_path}/user_features.csv\"\n",
    "movie_features_path = f\"{dir_path}/movie_features.csv\"\n",
    "ratings_path = f\"{dir_path}/ratings.csv\""
   ]
  },
  {
   "cell_type": "code",
   "execution_count": 98,
   "id": "ec1897e6",
   "metadata": {},
   "outputs": [],
   "source": [
    "def get_features(file_path):\n",
    "    df = pd.read_csv(file_path)\n",
    "    features = dict()\n",
    "    for row in df.itertuples():\n",
    "        features[row.id] = np.array(eval(row.features))\n",
    "    return features "
   ]
  },
  {
   "cell_type": "code",
   "execution_count": 99,
   "id": "b96a5e39",
   "metadata": {},
   "outputs": [],
   "source": [
    "def get_feature_update(features, row):\n",
    "    features[row.user_id] = np.array(eval(row.user_features))"
   ]
  },
  {
   "cell_type": "code",
   "execution_count": 100,
   "id": "00130f9b",
   "metadata": {},
   "outputs": [],
   "source": [
    "user_features = get_features(user_features_path)\n",
    "movie_features = get_features(movie_features_path)"
   ]
  },
  {
   "cell_type": "code",
   "execution_count": 101,
   "id": "63cab3c5",
   "metadata": {},
   "outputs": [],
   "source": [
    "test_data = pd.read_csv(ratings_path)"
   ]
  },
  {
   "cell_type": "code",
   "execution_count": 104,
   "id": "28f96132",
   "metadata": {},
   "outputs": [],
   "source": [
    "experiment_path = \"~/experiment_results/14\"\n",
    "feature_updates = pd.read_csv(f\"{experiment_path}/results_workers_1_fifo_learningrate_0.02_userfeaturereg_0.01.csv\")"
   ]
  },
  {
   "cell_type": "code",
   "execution_count": 106,
   "id": "4d151881",
   "metadata": {},
   "outputs": [
    {
     "data": {
      "text/plain": [
       "49271"
      ]
     },
     "execution_count": 106,
     "metadata": {},
     "output_type": "execute_result"
    }
   ],
   "source": [
    "len(test_data)"
   ]
  },
  {
   "cell_type": "code",
   "execution_count": 105,
   "id": "0a59a2c1",
   "metadata": {},
   "outputs": [
    {
     "data": {
      "text/plain": [
       "95814"
      ]
     },
     "execution_count": 105,
     "metadata": {},
     "output_type": "execute_result"
    }
   ],
   "source": [
    "len(feature_updates)"
   ]
  },
  {
   "cell_type": "code",
   "execution_count": 89,
   "id": "8fd2b2ac",
   "metadata": {},
   "outputs": [],
   "source": [
    "def predict_rating(user_feature, movie_feature):\n",
    "    return user_feature.dot(movie_feature.T)\n",
    "\n",
    "def compute_test_mse(user_features, movie_features):\n",
    "    predictions = []\n",
    "    ratings = []\n",
    "    count = 0\n",
    "    for row in test_data.itertuples():\n",
    "        user_id = row.user_id\n",
    "        movie_id = row.movie_id\n",
    "        rating = row.rating\n",
    "        predictions.append(predict_rating(user_features[user_id], movie_features[movie_id]))\n",
    "        ratings.append(rating) \n",
    "    mse = mean_squared_error(ratings, predictions)\n",
    "    return mse\n",
    "\n",
    "def compute_improvement():\n",
    "    count = 0\n",
    "    predictions = []\n",
    "    ratings = []\n",
    "    max_timestamp = max(feature_updates['timestamp'])\n",
    "    print(max_timestamp, len(feature_updates), len(test_data))\n",
    "    while count <= max_timestamp:\n",
    "        feature_update_ts = feature_updates[feature_updates['timestamp'] == count] \n",
    "        print(len(feature_update_ts))\n",
    "        for row in feature_update_ts.itertuples():\n",
    "            user_features[row.user_id] = np.array(eval(row.user_features))\n",
    "        query_ts = test_data[test_data['timestamp'] == count]\n",
    "        print(len(query_ts))\n",
    "        for row in query_ts.itertuples():\n",
    "            user_id = row.user_id\n",
    "            movie_id = row.movie_id\n",
    "            rating = row.rating\n",
    "            predictions.append(predict_rating(user_features[user_id], movie_features[movie_id]))\n",
    "            ratings.append(rating)\n",
    "        count += 1\n",
    "    mse = mean_squared_error(ratings, predictions)\n",
    "    return mse"
   ]
  },
  {
   "cell_type": "code",
   "execution_count": 90,
   "id": "a95114e2",
   "metadata": {},
   "outputs": [
    {
     "name": "stdout",
     "output_type": "stream",
     "text": [
      "23 95931 49271\n",
      "3998\n",
      "1999\n",
      "4000\n",
      "2000\n",
      "4000\n",
      "2000\n",
      "4000\n",
      "2000\n",
      "4000\n",
      "2000\n",
      "4000\n",
      "2000\n",
      "4000\n",
      "2000\n",
      "4000\n",
      "2000\n",
      "4000\n",
      "2000\n",
      "4000\n",
      "2000\n",
      "4000\n",
      "2000\n",
      "4000\n",
      "2000\n",
      "4000\n",
      "2000\n",
      "4000\n",
      "2000\n",
      "4000\n",
      "2000\n",
      "4000\n",
      "2000\n",
      "4000\n",
      "2000\n",
      "4000\n",
      "2000\n",
      "4000\n",
      "2000\n",
      "4000\n",
      "2000\n",
      "4000\n",
      "2000\n",
      "4000\n",
      "2000\n",
      "4000\n",
      "2000\n",
      "3933\n",
      "2000\n",
      "0.7623677183192678\n"
     ]
    }
   ],
   "source": [
    "mse = compute_improvement()\n",
    "print(mse)"
   ]
  },
  {
   "cell_type": "code",
   "execution_count": 81,
   "id": "3497280d",
   "metadata": {},
   "outputs": [],
   "source": [
    "def plot_learning_curve(mse):\n",
    "        \"\"\"visualize the training/testing loss\"\"\"\n",
    "        linewidth = 3\n",
    "        plt.plot(mse, label = 'Ralf', linewidth = linewidth)\n",
    "        plt.xlabel('iterations')\n",
    "        plt.ylabel('MSE')\n",
    "        plt.legend(loc = 'best')"
   ]
  },
  {
   "cell_type": "code",
   "execution_count": 82,
   "id": "b5bc05dc",
   "metadata": {},
   "outputs": [
    {
     "data": {
      "image/png": "[encoded data removed]",
      "text/plain": [
       "<Figure size 432x288 with 1 Axes>"
      ]
     },
     "metadata": {
      "needs_background": "light"
     },
     "output_type": "display_data"
    }
   ],
   "source": [
    "plot_learning_curve(mse)"
   ]
  }
 ],
 "metadata": {
  "kernelspec": {
   "display_name": "Python 3 (ipykernel)",
   "language": "python",
   "name": "python3"
  },
  "language_info": {
   "codemirror_mode": {
    "name": "ipython",
    "version": 3
   },
   "file_extension": ".py",
   "mimetype": "text/x-python",
   "name": "python",
   "nbconvert_exporter": "python",
   "pygments_lexer": "ipython3",
   "version": "3.8.12"
  }
 },
 "nbformat": 4,
 "nbformat_minor": 5
}
