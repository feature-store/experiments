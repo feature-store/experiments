{
 "cells": [
  {
   "cell_type": "code",
   "execution_count": 72,
   "id": "853905a0",
   "metadata": {},
   "outputs": [],
   "source": [
    "import pandas as pd\n",
    "import numpy as np\n",
    "import matplotlib.pyplot as plt\n",
    "from sklearn.metrics import mean_squared_error"
   ]
  },
  {
   "cell_type": "code",
   "execution_count": 73,
   "id": "ec1897e6",
   "metadata": {},
   "outputs": [],
   "source": [
    "def get_features(file_path):\n",
    "    df = pd.read_csv(file_path)\n",
    "    features = dict()\n",
    "    for row in df.itertuples():\n",
    "        features[row.id] = np.array(eval(row.features))\n",
    "    return features "
   ]
  },
  {
   "cell_type": "code",
   "execution_count": 74,
   "id": "b96a5e39",
   "metadata": {},
   "outputs": [],
   "source": [
    "def get_feature_update(features, row):\n",
    "    features[row.user_id] = np.array(eval(row.user_features))"
   ]
  },
  {
   "cell_type": "code",
   "execution_count": 75,
   "id": "506024e9",
   "metadata": {},
   "outputs": [],
   "source": [
    "dir_path = \"~/movielens/ralf\"\n",
    "user_features_path = f\"{dir_path}/user_features.csv\"\n",
    "movie_features_path = f\"{dir_path}/movie_features.csv\"\n",
    "ratings_path = f\"{dir_path}/ratings.csv\""
   ]
  },
  {
   "cell_type": "code",
   "execution_count": 76,
   "id": "00130f9b",
   "metadata": {},
   "outputs": [],
   "source": [
    "user_features = get_features(user_features_path)\n",
    "movie_features = get_features(movie_features_path)"
   ]
  },
  {
   "cell_type": "code",
   "execution_count": 77,
   "id": "63cab3c5",
   "metadata": {},
   "outputs": [],
   "source": [
    "test_data = pd.read_csv(ratings_path)"
   ]
  },
  {
   "cell_type": "code",
   "execution_count": 78,
   "id": "28f96132",
   "metadata": {},
   "outputs": [],
   "source": [
    "experiment_path = \"~/experiment_results/13\"\n",
    "feature_updates = pd.read_csv(f\"{experiment_path}/results_workers_1_fifo_learningrate_0.02_userfeaturereg_0.01.csv\")"
   ]
  },
  {
   "cell_type": "code",
   "execution_count": 79,
   "id": "8fd2b2ac",
   "metadata": {},
   "outputs": [],
   "source": [
    "def predict_rating(user_feature, movie_feature):\n",
    "    return user_feature.dot(movie_feature.T)\n",
    "\n",
    "def compute_test_mse(user_features, movie_features):\n",
    "    predictions = []\n",
    "    ratings = []\n",
    "    count = 0\n",
    "    for row in test_data.itertuples():\n",
    "        user_id = row.user_id\n",
    "        movie_id = row.movie_id\n",
    "        rating = row.rating\n",
    "        predictions.append(predict_rating(user_features[user_id], movie_features[movie_id]))\n",
    "        ratings.append(rating) \n",
    "    mse = mean_squared_error(ratings, predictions)\n",
    "    return mse\n",
    "\n",
    "def compute_improvement():\n",
    "    count = 0\n",
    "    mses = []\n",
    "    for row in feature_updates.itertuples():\n",
    "        user_features[row.user_id] = np.array(eval(row.user_features))\n",
    "        if count % 1000 == 0:\n",
    "            print(count)\n",
    "            mses.append(compute_test_mse(user_features, movie_features))\n",
    "        count += 1\n",
    "    return mses"
   ]
  },
  {
   "cell_type": "code",
   "execution_count": null,
   "id": "a95114e2",
   "metadata": {},
   "outputs": [
    {
     "name": "stdout",
     "output_type": "stream",
     "text": [
      "0\n",
      "1000\n",
      "2000\n",
      "3000\n",
      "4000\n",
      "5000\n",
      "6000\n",
      "7000\n",
      "8000\n",
      "9000\n",
      "10000\n",
      "11000\n",
      "12000\n",
      "13000\n",
      "14000\n",
      "15000\n",
      "16000\n",
      "17000\n",
      "18000\n",
      "19000\n",
      "20000\n",
      "21000\n",
      "22000\n",
      "23000\n",
      "24000\n",
      "25000\n",
      "26000\n",
      "27000\n",
      "28000\n",
      "29000\n",
      "30000\n",
      "31000\n",
      "32000\n",
      "33000\n",
      "34000\n",
      "35000\n",
      "36000\n",
      "37000\n",
      "38000\n",
      "39000\n",
      "40000\n",
      "41000\n",
      "42000\n",
      "43000\n",
      "44000\n",
      "45000\n",
      "46000\n",
      "47000\n",
      "48000\n",
      "49000\n"
     ]
    }
   ],
   "source": [
    "mse = compute_improvement()\n",
    "print(mse)"
   ]
  },
  {
   "cell_type": "code",
   "execution_count": null,
   "id": "3497280d",
   "metadata": {},
   "outputs": [],
   "source": [
    "def plot_learning_curve(mse):\n",
    "        \"\"\"visualize the training/testing loss\"\"\"\n",
    "        linewidth = 3\n",
    "        plt.plot(mse, label = 'Ralf', linewidth = linewidth)\n",
    "        plt.xlabel('iterations')\n",
    "        plt.ylabel('MSE')\n",
    "        plt.legend(loc = 'best')"
   ]
  },
  {
   "cell_type": "code",
   "execution_count": null,
   "id": "b5bc05dc",
   "metadata": {},
   "outputs": [],
   "source": [
    "plot_learning_curve(mse)"
   ]
  }
 ],
 "metadata": {
  "kernelspec": {
   "display_name": "Python 3 (ipykernel)",
   "language": "python",
   "name": "python3"
  },
  "language_info": {
   "codemirror_mode": {
    "name": "ipython",
    "version": 3
   },
   "file_extension": ".py",
   "mimetype": "text/x-python",
   "name": "python",
   "nbconvert_exporter": "python",
   "pygments_lexer": "ipython3",
   "version": "3.8.12"
  }
 },
 "nbformat": 4,
 "nbformat_minor": 5
}
