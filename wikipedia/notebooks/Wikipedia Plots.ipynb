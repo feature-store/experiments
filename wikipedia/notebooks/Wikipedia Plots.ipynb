{
 "cells": [
  {
   "cell_type": "code",
   "execution_count": null,
   "id": "e0030940",
   "metadata": {},
   "outputs": [],
   "source": [
    "import json\n",
    "import matplotlib.pyplot as plt\n",
    "import pandas as pd\n",
    "import wandb\n",
    "import os"
   ]
  },
  {
   "cell_type": "markdown",
   "id": "1e071d8f",
   "metadata": {},
   "source": [
    "# Plot Wikipedia Dataset"
   ]
  },
  {
   "cell_type": "code",
   "execution_count": null,
   "id": "95457b57",
   "metadata": {},
   "outputs": [],
   "source": [
    "run = wandb.init(job_type=\"evaluation\", project=\"wiki-workload\")\n",
    "pageview_dir = run.use_artifact('pageviews:latest').download()\n",
    "questions_dir = run.use_artifact('questions:latest').download()"
   ]
  },
  {
   "cell_type": "code",
   "execution_count": null,
   "id": "3f5bc6ae",
   "metadata": {},
   "outputs": [],
   "source": [
    "pageview_df = pd.read_csv(f\"{pageview_dir}/pageviews.csv\")\n",
    "pageview_df"
   ]
  },
  {
   "cell_type": "code",
   "execution_count": null,
   "id": "38782d70",
   "metadata": {},
   "outputs": [],
   "source": [
    "df = pd.DataFrame({\n",
    "    \"edit_frequency\": pageview_df.edit_count / pageview_df.edit_count.sum(),\n",
    "    \"query_frequency\": pageview_df[\"2021080600\"] / pageview_df[\"2021080600\"].sum()\n",
    "})\n",
    "\n",
    "df.plot()"
   ]
  },
  {
   "cell_type": "markdown",
   "id": "e2e430fe",
   "metadata": {},
   "source": [
    "# Plot DPR Model Accuracy Results "
   ]
  },
  {
   "cell_type": "code",
   "execution_count": null,
   "id": "c15f88fd",
   "metadata": {},
   "outputs": [],
   "source": [
    "run = wandb.init(job_type=\"evaluation\", project=\"wiki-workload\")\n",
    "artifact = run.use_artifact('prediction_results:latest')\n",
    "artifact_dir = artifact.download()"
   ]
  },
  {
   "cell_type": "code",
   "execution_count": null,
   "id": "43f6adb3",
   "metadata": {},
   "outputs": [],
   "source": [
    "artifact_dir"
   ]
  },
  {
   "cell_type": "code",
   "execution_count": null,
   "id": "eaf30e01",
   "metadata": {},
   "outputs": [],
   "source": [
    "constants = [0.01, 0.05, 0.1, 1, 5, 10]\n",
    "policies = [\"lifo\"]\n",
    "key_policies = [\"weighted_round_robin\", \"weighted_random\", \"random\", \"round_robin\"]\n",
    "d = artifact_dir\n",
    "metric = 'top5'"
   ]
  },
  {
   "cell_type": "code",
   "execution_count": null,
   "id": "d3b31501",
   "metadata": {},
   "outputs": [],
   "source": [
    "all_results = {}\n",
    "for policy in policies: \n",
    "    for key_policy in key_policies: \n",
    "        scores = []\n",
    "        name = f\"plan-{key_policy}_{policy}-always_process\"\n",
    "        for constant in constants: \n",
    "            with open(f'{d}/{name}-{constant}-100.json') as results_file:\n",
    "                results = json.load(results_file)\n",
    "                scores.append(results[metric])\n",
    "        all_results[name] = scores\n",
    "all_results"
   ]
  },
  {
   "cell_type": "code",
   "execution_count": null,
   "id": "b479a2bc",
   "metadata": {
    "scrolled": true
   },
   "outputs": [],
   "source": [
    "all_results.keys()"
   ]
  },
  {
   "cell_type": "code",
   "execution_count": null,
   "id": "332c0ff6",
   "metadata": {},
   "outputs": [],
   "source": [
    "plan_weighted_random_lifo = []\n",
    "for constant in constants:\n",
    "    with open(f'{d}/plan-weighted_random_lifo-always_process-{constant}-100.json') as results_file:\n",
    "        results = json.load(results_file)\n",
    "        plan_weighted_random_lifo.append(results[metric])\n",
    "print(plan_weighted_random_lifo)\n",
    "        \n",
    "plan_weighted_longest_queue_lifo = []\n",
    "for constant in constants:\n",
    "    with open(f'{d}/plan-weighted_longest_queue_lifo-always_process-{constant}-100.json') as results_file:\n",
    "        results = json.load(results_file)\n",
    "        plan_weighted_longest_queue_lifo.append(results[metric])\n",
    "print(plan_weighted_longest_queue_lifo)\n",
    "\n",
    "plan_longest_queue_lifo = []\n",
    "for constant in constants:\n",
    "    with open(f'{d}/plan-longest_queue_lifo-always_process-{constant}-100.json') as results_file:\n",
    "        results = json.load(results_file)\n",
    "        plan_longest_queue_lifo.append(results[metric])\n",
    "print(plan_longest_queue_lifo)\n",
    "\n",
    "plan_random_lifo = []\n",
    "for constant in constants:\n",
    "    with open(f'{d}/plan-random_lifo-always_process-{constant}-100.json') as results_file:\n",
    "        results = json.load(results_file)\n",
    "        plan_random_lifo.append(results[metric])\n",
    "print(plan_random_lifo)\n",
    "\n",
    "plan_round_robin_lifo = []\n",
    "for constant in constants:\n",
    "    with open(f'{d}/plan-round_robin_lifo-always_process-{constant}-100.json') as results_file:\n",
    "        results = json.load(results_file)\n",
    "        plan_round_robin_lifo.append(results[metric])\n",
    "print(plan_round_robin_lifo)\n"
   ]
  },
  {
   "cell_type": "code",
   "execution_count": null,
   "id": "6d536763",
   "metadata": {},
   "outputs": [],
   "source": [
    "from pylab import rcParams\n",
    "rcParams['figure.figsize'] = 12, 10"
   ]
  },
  {
   "cell_type": "code",
   "execution_count": null,
   "id": "1e07c3e9",
   "metadata": {},
   "outputs": [],
   "source": [
    "import matplotlib.pyplot as plt\n",
    "import seaborn\n",
    "\n",
    "df = pd.DataFrame({\n",
    "    'Factor': resources, \n",
    "    **all_results\n",
    "})\n",
    "fig, ax1 = plt.subplots(figsize=(10, 5))\n",
    "tidy = df.melt(id_vars='Factor').rename(columns=str.title)\n",
    "seaborn.barplot(x='Factor', y='Value', hue='Variable', data=tidy, ax=ax1)\n",
    "seaborn.despine(fig)"
   ]
  },
  {
   "cell_type": "code",
   "execution_count": null,
   "id": "61d517d0",
   "metadata": {},
   "outputs": [],
   "source": [
    "fig, ax = plt.subplots()\n",
    "ax.set_xscale('log')\n",
    "#resources = [10/c for c in constants]\n",
    "resources = constants \n",
    "print(resources)\n",
    "ax.plot(resources, plan_weighted_longest_queue_lifo, label=\"LIFO Weighted Queue\", c='coral', marker='.')\n",
    "ax.plot(resources, plan_longest_queue_lifo, label=\"LIFO Queue\", c='coral', marker='.', linestyle='dashed')\n",
    "\n",
    "ax.plot(resources, plan_weighted_random_lifo, label=\"LIFO Weighted Random\", c='red', marker='.')\n",
    "ax.plot(resources, plan_random_lifo, label=\"LIFO Random\", c='red', marker='.', linestyle='dashed')\n",
    "\n",
    "#ax.plot(resources, plan_lifo_sample_half, label=\"LIFO Sample Half\", c='dodgerblue', marker='.', linestyle='dashed')\n",
    "#ax.plot(resources, plan_lifo_always_process, label=\"LIFO Always\", c='dodgerblue', marker='.')\n",
    "\n",
    "#ax.plot(resources, plan_round_robin_lifo, label=\"LIFO Round Robin\", c='blue', marker='.', linestyle='dashed')\n",
    "\n",
    "ax.grid()\n",
    "ax.set(xlabel='resource constraint', ylabel=f'{metric} accuracy', title='Passage Retriever')\n",
    "plt.legend()"
   ]
  }
 ],
 "metadata": {
  "kernelspec": {
   "display_name": "Python 3",
   "language": "python",
   "name": "python3"
  },
  "language_info": {
   "codemirror_mode": {
    "name": "ipython",
    "version": 3
   },
   "file_extension": ".py",
   "mimetype": "text/x-python",
   "name": "python",
   "nbconvert_exporter": "python",
   "pygments_lexer": "ipython3",
   "version": "3.8.8"
  }
 },
 "nbformat": 4,
 "nbformat_minor": 5
}
