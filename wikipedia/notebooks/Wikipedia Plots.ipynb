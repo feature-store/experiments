{
 "cells": [
  {
   "cell_type": "code",
   "execution_count": 410,
   "id": "e0030940",
   "metadata": {},
   "outputs": [],
   "source": [
    "import json\n",
    "import matplotlib.pyplot as plt\n",
    "import pandas as pd\n",
    "import wandb\n",
    "import os"
   ]
  },
  {
   "cell_type": "markdown",
   "id": "594d6d4e",
   "metadata": {},
   "source": [
    "# Plot Wikipedia Dataset"
   ]
  },
  {
   "cell_type": "code",
   "execution_count": 411,
   "id": "016e13bb",
   "metadata": {},
   "outputs": [
    {
     "data": {
      "text/html": [
       "Finishing last run (ID:3mmrfkbb) before initializing another..."
      ],
      "text/plain": [
       "<IPython.core.display.HTML object>"
      ]
     },
     "metadata": {},
     "output_type": "display_data"
    },
    {
     "data": {
      "text/html": [
       "<br/>Waiting for W&B process to finish, PID 74125... <strong style=\"color:green\">(success).</strong>"
      ],
      "text/plain": [
       "<IPython.core.display.HTML object>"
      ]
     },
     "metadata": {},
     "output_type": "display_data"
    },
    {
     "data": {
      "application/vnd.jupyter.widget-view+json": {
       "model_id": "",
       "version_major": 2,
       "version_minor": 0
      },
      "text/plain": [
       "VBox(children=(Label(value=' 0.41MB of 0.41MB uploaded (0.00MB deduped)\\r'), FloatProgress(value=1.0, max=1.0)…"
      ]
     },
     "metadata": {},
     "output_type": "display_data"
    },
    {
     "data": {
      "text/html": [
       "<style>\n",
       "    table.wandb td:nth-child(1) { padding: 0 10px; text-align: right }\n",
       "    .wandb-row { display: flex; flex-direction: row; flex-wrap: wrap; width: 100% }\n",
       "    .wandb-col { display: flex; flex-direction: column; flex-basis: 100%; flex: 1; padding: 10px; }\n",
       "    </style>\n",
       "<div class=\"wandb-row\"><div class=\"wandb-col\">\n",
       "</div><div class=\"wandb-col\">\n",
       "</div></div>\n",
       "Synced 7 W&B file(s), 0 media file(s), 0 artifact file(s) and 1 other file(s)\n",
       "<br/>Synced <strong style=\"color:#cdcd00\">woven-sea-93</strong>: <a href=\"https://wandb.ai/ucb-ralf/wiki-workload%20/runs/3mmrfkbb\" target=\"_blank\">https://wandb.ai/ucb-ralf/wiki-workload%20/runs/3mmrfkbb</a><br/>\n",
       "Find logs at: <code>./wandb/run-20211012_125219-3mmrfkbb/logs</code><br/>\n"
      ],
      "text/plain": [
       "<IPython.core.display.HTML object>"
      ]
     },
     "metadata": {},
     "output_type": "display_data"
    },
    {
     "data": {
      "text/html": [
       "Successfully finished last run (ID:3mmrfkbb). Initializing new run:<br/>"
      ],
      "text/plain": [
       "<IPython.core.display.HTML object>"
      ]
     },
     "metadata": {},
     "output_type": "display_data"
    },
    {
     "name": "stderr",
     "output_type": "stream",
     "text": [
      "\u001b[34m\u001b[1mwandb\u001b[0m: wandb version 0.12.4 is available!  To upgrade, please run:\n",
      "\u001b[34m\u001b[1mwandb\u001b[0m:  $ pip install wandb --upgrade\n"
     ]
    },
    {
     "data": {
      "text/html": [
       "\n",
       "                    Syncing run <strong><a href=\"https://wandb.ai/ucb-ralf/wiki-workload%20/runs/1t9orwj8\" target=\"_blank\">trim-microwave-115</a></strong> to <a href=\"https://wandb.ai/ucb-ralf/wiki-workload%20\" target=\"_blank\">Weights & Biases</a> (<a href=\"https://docs.wandb.com/integrations/jupyter.html\" target=\"_blank\">docs</a>).<br/>\n",
       "\n",
       "                "
      ],
      "text/plain": [
       "<IPython.core.display.HTML object>"
      ]
     },
     "metadata": {},
     "output_type": "display_data"
    },
    {
     "name": "stderr",
     "output_type": "stream",
     "text": [
      "\u001b[34m\u001b[1mwandb\u001b[0m: Downloading large artifact questions:latest, 60.97MB. 2 files... Done. 0:0:0\n"
     ]
    }
   ],
   "source": [
    "run = wandb.init(job_type=\"evaluation\", project=\"wiki-workload\")\n",
    "pageview_dir = run.use_artifact('pageviews:latest').download()\n",
    "questions_dir = run.use_artifact('questions:latest').download()"
   ]
  },
  {
   "cell_type": "code",
   "execution_count": 412,
   "id": "7690f6d7",
   "metadata": {},
   "outputs": [
    {
     "data": {
      "text/html": [
       "<div>\n",
       "<style scoped>\n",
       "    .dataframe tbody tr th:only-of-type {\n",
       "        vertical-align: middle;\n",
       "    }\n",
       "\n",
       "    .dataframe tbody tr th {\n",
       "        vertical-align: top;\n",
       "    }\n",
       "\n",
       "    .dataframe thead th {\n",
       "        text-align: right;\n",
       "    }\n",
       "</style>\n",
       "<table border=\"1\" class=\"dataframe\">\n",
       "  <thead>\n",
       "    <tr style=\"text-align: right;\">\n",
       "      <th></th>\n",
       "      <th>Unnamed: 0</th>\n",
       "      <th>title</th>\n",
       "      <th>edit_count</th>\n",
       "      <th>2021080500</th>\n",
       "      <th>2021080600</th>\n",
       "      <th>2021080700</th>\n",
       "      <th>2021080800</th>\n",
       "      <th>2021080900</th>\n",
       "      <th>2021081000</th>\n",
       "      <th>2021081100</th>\n",
       "      <th>...</th>\n",
       "      <th>2021082800</th>\n",
       "      <th>2021082900</th>\n",
       "      <th>2021083000</th>\n",
       "      <th>2021083100</th>\n",
       "      <th>2021090100</th>\n",
       "      <th>2021090200</th>\n",
       "      <th>2021090300</th>\n",
       "      <th>2021090400</th>\n",
       "      <th>weights</th>\n",
       "      <th>doc_id</th>\n",
       "    </tr>\n",
       "  </thead>\n",
       "  <tbody>\n",
       "    <tr>\n",
       "      <th>0</th>\n",
       "      <td>0</td>\n",
       "      <td>Deaths in 2021</td>\n",
       "      <td>1877</td>\n",
       "      <td>38</td>\n",
       "      <td>35</td>\n",
       "      <td>36</td>\n",
       "      <td>31</td>\n",
       "      <td>349</td>\n",
       "      <td>66</td>\n",
       "      <td>56</td>\n",
       "      <td>...</td>\n",
       "      <td>69</td>\n",
       "      <td>50</td>\n",
       "      <td>63</td>\n",
       "      <td>68</td>\n",
       "      <td>50</td>\n",
       "      <td>52</td>\n",
       "      <td>39</td>\n",
       "      <td>46</td>\n",
       "      <td>0.028511</td>\n",
       "      <td>65984422</td>\n",
       "    </tr>\n",
       "    <tr>\n",
       "      <th>1</th>\n",
       "      <td>1</td>\n",
       "      <td>2021 Atlantic hurricane season</td>\n",
       "      <td>1438</td>\n",
       "      <td>11</td>\n",
       "      <td>5</td>\n",
       "      <td>16</td>\n",
       "      <td>8</td>\n",
       "      <td>9</td>\n",
       "      <td>7</td>\n",
       "      <td>14</td>\n",
       "      <td>...</td>\n",
       "      <td>8</td>\n",
       "      <td>20</td>\n",
       "      <td>2</td>\n",
       "      <td>8</td>\n",
       "      <td>5</td>\n",
       "      <td>12</td>\n",
       "      <td>11</td>\n",
       "      <td>5</td>\n",
       "      <td>0.003805</td>\n",
       "      <td>57798785</td>\n",
       "    </tr>\n",
       "    <tr>\n",
       "      <th>2</th>\n",
       "      <td>2</td>\n",
       "      <td>Neeraj Chopra</td>\n",
       "      <td>1156</td>\n",
       "      <td>3</td>\n",
       "      <td>7</td>\n",
       "      <td>3</td>\n",
       "      <td>2</td>\n",
       "      <td>4</td>\n",
       "      <td>3</td>\n",
       "      <td>4</td>\n",
       "      <td>...</td>\n",
       "      <td>5</td>\n",
       "      <td>6</td>\n",
       "      <td>0</td>\n",
       "      <td>4</td>\n",
       "      <td>9</td>\n",
       "      <td>2</td>\n",
       "      <td>1</td>\n",
       "      <td>3</td>\n",
       "      <td>0.002170</td>\n",
       "      <td>51150040</td>\n",
       "    </tr>\n",
       "    <tr>\n",
       "      <th>3</th>\n",
       "      <td>3</td>\n",
       "      <td>Fall of Kabul (2021)</td>\n",
       "      <td>1009</td>\n",
       "      <td>18</td>\n",
       "      <td>9</td>\n",
       "      <td>12</td>\n",
       "      <td>12</td>\n",
       "      <td>16</td>\n",
       "      <td>10</td>\n",
       "      <td>12</td>\n",
       "      <td>...</td>\n",
       "      <td>11</td>\n",
       "      <td>16</td>\n",
       "      <td>9</td>\n",
       "      <td>9</td>\n",
       "      <td>20</td>\n",
       "      <td>15</td>\n",
       "      <td>5</td>\n",
       "      <td>10</td>\n",
       "      <td>0.004876</td>\n",
       "      <td>68481047</td>\n",
       "    </tr>\n",
       "    <tr>\n",
       "      <th>4</th>\n",
       "      <td>4</td>\n",
       "      <td>Great Britain at the 2020 Summer Paralympics</td>\n",
       "      <td>989</td>\n",
       "      <td>13</td>\n",
       "      <td>5</td>\n",
       "      <td>6</td>\n",
       "      <td>4</td>\n",
       "      <td>16</td>\n",
       "      <td>8</td>\n",
       "      <td>9</td>\n",
       "      <td>...</td>\n",
       "      <td>3</td>\n",
       "      <td>8</td>\n",
       "      <td>6</td>\n",
       "      <td>8</td>\n",
       "      <td>10</td>\n",
       "      <td>7</td>\n",
       "      <td>4</td>\n",
       "      <td>7</td>\n",
       "      <td>0.003397</td>\n",
       "      <td>60043578</td>\n",
       "    </tr>\n",
       "    <tr>\n",
       "      <th>...</th>\n",
       "      <td>...</td>\n",
       "      <td>...</td>\n",
       "      <td>...</td>\n",
       "      <td>...</td>\n",
       "      <td>...</td>\n",
       "      <td>...</td>\n",
       "      <td>...</td>\n",
       "      <td>...</td>\n",
       "      <td>...</td>\n",
       "      <td>...</td>\n",
       "      <td>...</td>\n",
       "      <td>...</td>\n",
       "      <td>...</td>\n",
       "      <td>...</td>\n",
       "      <td>...</td>\n",
       "      <td>...</td>\n",
       "      <td>...</td>\n",
       "      <td>...</td>\n",
       "      <td>...</td>\n",
       "      <td>...</td>\n",
       "      <td>...</td>\n",
       "    </tr>\n",
       "    <tr>\n",
       "      <th>211</th>\n",
       "      <td>211</td>\n",
       "      <td>List of fungi of South Africa</td>\n",
       "      <td>203</td>\n",
       "      <td>8</td>\n",
       "      <td>9</td>\n",
       "      <td>7</td>\n",
       "      <td>13</td>\n",
       "      <td>21</td>\n",
       "      <td>4</td>\n",
       "      <td>9</td>\n",
       "      <td>...</td>\n",
       "      <td>10</td>\n",
       "      <td>7</td>\n",
       "      <td>6</td>\n",
       "      <td>1</td>\n",
       "      <td>13</td>\n",
       "      <td>5</td>\n",
       "      <td>5</td>\n",
       "      <td>6</td>\n",
       "      <td>0.003467</td>\n",
       "      <td>68354495</td>\n",
       "    </tr>\n",
       "    <tr>\n",
       "      <th>212</th>\n",
       "      <td>212</td>\n",
       "      <td>Mister Supranational 2021</td>\n",
       "      <td>203</td>\n",
       "      <td>8</td>\n",
       "      <td>9</td>\n",
       "      <td>7</td>\n",
       "      <td>13</td>\n",
       "      <td>21</td>\n",
       "      <td>4</td>\n",
       "      <td>9</td>\n",
       "      <td>...</td>\n",
       "      <td>10</td>\n",
       "      <td>7</td>\n",
       "      <td>6</td>\n",
       "      <td>1</td>\n",
       "      <td>13</td>\n",
       "      <td>5</td>\n",
       "      <td>5</td>\n",
       "      <td>6</td>\n",
       "      <td>0.003467</td>\n",
       "      <td>67918135</td>\n",
       "    </tr>\n",
       "    <tr>\n",
       "      <th>213</th>\n",
       "      <td>213</td>\n",
       "      <td>2021–22 FC Barcelona season</td>\n",
       "      <td>202</td>\n",
       "      <td>19</td>\n",
       "      <td>29</td>\n",
       "      <td>29</td>\n",
       "      <td>27</td>\n",
       "      <td>28</td>\n",
       "      <td>27</td>\n",
       "      <td>23</td>\n",
       "      <td>...</td>\n",
       "      <td>21</td>\n",
       "      <td>26</td>\n",
       "      <td>29</td>\n",
       "      <td>16</td>\n",
       "      <td>27</td>\n",
       "      <td>20</td>\n",
       "      <td>43</td>\n",
       "      <td>18</td>\n",
       "      <td>0.012698</td>\n",
       "      <td>67089631</td>\n",
       "    </tr>\n",
       "    <tr>\n",
       "      <th>214</th>\n",
       "      <td>214</td>\n",
       "      <td>Hamid Karzai International Airport</td>\n",
       "      <td>201</td>\n",
       "      <td>14</td>\n",
       "      <td>26</td>\n",
       "      <td>15</td>\n",
       "      <td>17</td>\n",
       "      <td>26</td>\n",
       "      <td>14</td>\n",
       "      <td>17</td>\n",
       "      <td>...</td>\n",
       "      <td>19</td>\n",
       "      <td>10</td>\n",
       "      <td>25</td>\n",
       "      <td>13</td>\n",
       "      <td>26</td>\n",
       "      <td>14</td>\n",
       "      <td>22</td>\n",
       "      <td>7</td>\n",
       "      <td>0.007258</td>\n",
       "      <td>487602</td>\n",
       "    </tr>\n",
       "    <tr>\n",
       "      <th>215</th>\n",
       "      <td>215</td>\n",
       "      <td>Characters of the Marvel Cinematic Universe</td>\n",
       "      <td>201</td>\n",
       "      <td>14</td>\n",
       "      <td>26</td>\n",
       "      <td>15</td>\n",
       "      <td>17</td>\n",
       "      <td>26</td>\n",
       "      <td>14</td>\n",
       "      <td>17</td>\n",
       "      <td>...</td>\n",
       "      <td>19</td>\n",
       "      <td>10</td>\n",
       "      <td>25</td>\n",
       "      <td>13</td>\n",
       "      <td>26</td>\n",
       "      <td>14</td>\n",
       "      <td>22</td>\n",
       "      <td>7</td>\n",
       "      <td>0.007258</td>\n",
       "      <td>62372638</td>\n",
       "    </tr>\n",
       "  </tbody>\n",
       "</table>\n",
       "<p>216 rows × 36 columns</p>\n",
       "</div>"
      ],
      "text/plain": [
       "     Unnamed: 0                                         title  edit_count  \\\n",
       "0             0                                Deaths in 2021        1877   \n",
       "1             1                2021 Atlantic hurricane season        1438   \n",
       "2             2                                 Neeraj Chopra        1156   \n",
       "3             3                          Fall of Kabul (2021)        1009   \n",
       "4             4  Great Britain at the 2020 Summer Paralympics         989   \n",
       "..          ...                                           ...         ...   \n",
       "211         211                 List of fungi of South Africa         203   \n",
       "212         212                     Mister Supranational 2021         203   \n",
       "213         213                   2021–22 FC Barcelona season         202   \n",
       "214         214            Hamid Karzai International Airport         201   \n",
       "215         215   Characters of the Marvel Cinematic Universe         201   \n",
       "\n",
       "     2021080500  2021080600  2021080700  2021080800  2021080900  2021081000  \\\n",
       "0            38          35          36          31         349          66   \n",
       "1            11           5          16           8           9           7   \n",
       "2             3           7           3           2           4           3   \n",
       "3            18           9          12          12          16          10   \n",
       "4            13           5           6           4          16           8   \n",
       "..          ...         ...         ...         ...         ...         ...   \n",
       "211           8           9           7          13          21           4   \n",
       "212           8           9           7          13          21           4   \n",
       "213          19          29          29          27          28          27   \n",
       "214          14          26          15          17          26          14   \n",
       "215          14          26          15          17          26          14   \n",
       "\n",
       "     2021081100  ...  2021082800  2021082900  2021083000  2021083100  \\\n",
       "0            56  ...          69          50          63          68   \n",
       "1            14  ...           8          20           2           8   \n",
       "2             4  ...           5           6           0           4   \n",
       "3            12  ...          11          16           9           9   \n",
       "4             9  ...           3           8           6           8   \n",
       "..          ...  ...         ...         ...         ...         ...   \n",
       "211           9  ...          10           7           6           1   \n",
       "212           9  ...          10           7           6           1   \n",
       "213          23  ...          21          26          29          16   \n",
       "214          17  ...          19          10          25          13   \n",
       "215          17  ...          19          10          25          13   \n",
       "\n",
       "     2021090100  2021090200  2021090300  2021090400   weights    doc_id  \n",
       "0            50          52          39          46  0.028511  65984422  \n",
       "1             5          12          11           5  0.003805  57798785  \n",
       "2             9           2           1           3  0.002170  51150040  \n",
       "3            20          15           5          10  0.004876  68481047  \n",
       "4            10           7           4           7  0.003397  60043578  \n",
       "..          ...         ...         ...         ...       ...       ...  \n",
       "211          13           5           5           6  0.003467  68354495  \n",
       "212          13           5           5           6  0.003467  67918135  \n",
       "213          27          20          43          18  0.012698  67089631  \n",
       "214          26          14          22           7  0.007258    487602  \n",
       "215          26          14          22           7  0.007258  62372638  \n",
       "\n",
       "[216 rows x 36 columns]"
      ]
     },
     "execution_count": 412,
     "metadata": {},
     "output_type": "execute_result"
    }
   ],
   "source": [
    "pageview_df = pd.read_csv(f\"{pageview_dir}/pageviews.csv\")\n",
    "pageview_df"
   ]
  },
  {
   "cell_type": "code",
   "execution_count": 413,
   "id": "5b5d1edc",
   "metadata": {},
   "outputs": [
    {
     "data": {
      "text/plain": [
       "<AxesSubplot:>"
      ]
     },
     "execution_count": 413,
     "metadata": {},
     "output_type": "execute_result"
    },
    {
     "data": {
      "image/png": "[encoded data removed]",
      "text/plain": [
       "<Figure size 864x432 with 1 Axes>"
      ]
     },
     "metadata": {},
     "output_type": "display_data"
    }
   ],
   "source": [
    "df = pd.DataFrame({\n",
    "    \"edit_frequency\": pageview_df.edit_count / pageview_df.edit_count.sum(),\n",
    "    \"query_frequency\": pageview_df[\"2021080600\"] / pageview_df[\"2021080600\"].sum()\n",
    "})\n",
    "\n",
    "df.plot()"
   ]
  },
  {
   "cell_type": "markdown",
   "id": "1ca13ffa",
   "metadata": {},
   "source": [
    "# Plot DPR Model Accuracy Results "
   ]
  },
  {
   "cell_type": "code",
   "execution_count": 414,
   "id": "39b1975e",
   "metadata": {},
   "outputs": [
    {
     "data": {
      "text/html": [
       "Finishing last run (ID:1t9orwj8) before initializing another..."
      ],
      "text/plain": [
       "<IPython.core.display.HTML object>"
      ]
     },
     "metadata": {},
     "output_type": "display_data"
    },
    {
     "data": {
      "text/html": [
       "<br/>Waiting for W&B process to finish, PID 14934... <strong style=\"color:green\">(success).</strong>"
      ],
      "text/plain": [
       "<IPython.core.display.HTML object>"
      ]
     },
     "metadata": {},
     "output_type": "display_data"
    },
    {
     "data": {
      "application/vnd.jupyter.widget-view+json": {
       "model_id": "",
       "version_major": 2,
       "version_minor": 0
      },
      "text/plain": [
       "VBox(children=(Label(value=' 0.07MB of 0.07MB uploaded (0.00MB deduped)\\r'), FloatProgress(value=1.0, max=1.0)…"
      ]
     },
     "metadata": {},
     "output_type": "display_data"
    },
    {
     "data": {
      "text/html": [
       "<style>\n",
       "    table.wandb td:nth-child(1) { padding: 0 10px; text-align: right }\n",
       "    .wandb-row { display: flex; flex-direction: row; flex-wrap: wrap; width: 100% }\n",
       "    .wandb-col { display: flex; flex-direction: column; flex-basis: 100%; flex: 1; padding: 10px; }\n",
       "    </style>\n",
       "<div class=\"wandb-row\"><div class=\"wandb-col\">\n",
       "</div><div class=\"wandb-col\">\n",
       "</div></div>\n",
       "Synced 6 W&B file(s), 0 media file(s), 0 artifact file(s) and 1 other file(s)\n",
       "<br/>Synced <strong style=\"color:#cdcd00\">trim-microwave-115</strong>: <a href=\"https://wandb.ai/ucb-ralf/wiki-workload%20/runs/1t9orwj8\" target=\"_blank\">https://wandb.ai/ucb-ralf/wiki-workload%20/runs/1t9orwj8</a><br/>\n",
       "Find logs at: <code>./wandb/run-20211012_160227-1t9orwj8/logs</code><br/>\n"
      ],
      "text/plain": [
       "<IPython.core.display.HTML object>"
      ]
     },
     "metadata": {},
     "output_type": "display_data"
    },
    {
     "data": {
      "text/html": [
       "Successfully finished last run (ID:1t9orwj8). Initializing new run:<br/>"
      ],
      "text/plain": [
       "<IPython.core.display.HTML object>"
      ]
     },
     "metadata": {},
     "output_type": "display_data"
    },
    {
     "name": "stderr",
     "output_type": "stream",
     "text": [
      "\u001b[34m\u001b[1mwandb\u001b[0m: wandb version 0.12.4 is available!  To upgrade, please run:\n",
      "\u001b[34m\u001b[1mwandb\u001b[0m:  $ pip install wandb --upgrade\n"
     ]
    },
    {
     "data": {
      "text/html": [
       "\n",
       "                    Syncing run <strong><a href=\"https://wandb.ai/ucb-ralf/wiki-workload%20/runs/1gtcatxz\" target=\"_blank\">fluent-mountain-116</a></strong> to <a href=\"https://wandb.ai/ucb-ralf/wiki-workload%20\" target=\"_blank\">Weights & Biases</a> (<a href=\"https://docs.wandb.com/integrations/jupyter.html\" target=\"_blank\">docs</a>).<br/>\n",
       "\n",
       "                "
      ],
      "text/plain": [
       "<IPython.core.display.HTML object>"
      ]
     },
     "metadata": {},
     "output_type": "display_data"
    }
   ],
   "source": [
    "run = wandb.init(job_type=\"evaluation\", project=\"wiki-workload\")\n",
    "artifact = run.use_artifact('prediction_results:latest')\n",
    "artifact_dir = artifact.download()"
   ]
  },
  {
   "cell_type": "code",
   "execution_count": 415,
   "id": "101571e2",
   "metadata": {},
   "outputs": [
    {
     "data": {
      "text/plain": [
       "'./artifacts/prediction_results:v1997'"
      ]
     },
     "execution_count": 415,
     "metadata": {},
     "output_type": "execute_result"
    }
   ],
   "source": [
    "artifact_dir"
   ]
  },
  {
   "cell_type": "code",
   "execution_count": 416,
   "id": "03e14929",
   "metadata": {},
   "outputs": [],
   "source": [
    "artifact_dir = \"/home/eecs/wooders/DPR\""
   ]
  },
  {
   "cell_type": "code",
   "execution_count": 453,
   "id": "eaf30e01",
   "metadata": {},
   "outputs": [],
   "source": [
    "constants = [0.01, 0.05]\n",
    "policies = [\"lifo\"]\n",
    "key_policies = [\"random\", \"weighted_random\", \"round_robin\", \"weighted_round_robin\"]\n",
    "d = artifact_dir\n",
    "metric = 'top5'"
   ]
  },
  {
   "cell_type": "code",
   "execution_count": 454,
   "id": "96209574",
   "metadata": {},
   "outputs": [
    {
     "name": "stdout",
     "output_type": "stream",
     "text": [
      "/home/eecs/wooders/DPR/plan-random_lifo-always_process-0.01-100.json\n",
      "/home/eecs/wooders/DPR/plan-random_lifo-always_process-0.05-100.json\n",
      "/home/eecs/wooders/DPR/plan-weighted_random_lifo-always_process-0.01-100.json\n",
      "/home/eecs/wooders/DPR/plan-weighted_random_lifo-always_process-0.05-100.json\n",
      "/home/eecs/wooders/DPR/plan-round_robin_lifo-always_process-0.01-100.json\n",
      "/home/eecs/wooders/DPR/plan-round_robin_lifo-always_process-0.05-100.json\n",
      "/home/eecs/wooders/DPR/plan-weighted_round_robin_lifo-always_process-0.01-100.json\n",
      "/home/eecs/wooders/DPR/plan-weighted_round_robin_lifo-always_process-0.05-100.json\n"
     ]
    },
    {
     "data": {
      "text/plain": [
       "{'plan-random_lifo-always_process': [0.41722204591135087, 0.41605839416058393],\n",
       " 'plan-weighted_random_lifo-always_process': [0.508879315080318,\n",
       "  0.44467986596668],\n",
       " 'plan-round_robin_lifo-always_process': [0.5089891784573612,\n",
       "  0.37384957156458265],\n",
       " 'plan-weighted_round_robin_lifo-always_process': [0.5088165360077218,\n",
       "  0.46732741640574116]}"
      ]
     },
     "execution_count": 454,
     "metadata": {},
     "output_type": "execute_result"
    }
   ],
   "source": [
    "all_results = {}\n",
    "for policy in policies: \n",
    "    for key_policy in key_policies: \n",
    "        scores = []\n",
    "        name = f\"plan-{key_policy}_{policy}-always_process\"\n",
    "        for constant in constants: \n",
    "            print(f'{d}/{name}-{constant}-100.json')\n",
    "            with open(f'{d}/{name}-{constant}-100.json') as results_file:\n",
    "                results = json.load(results_file)\n",
    "                scores.append(results[metric])\n",
    "        all_results[name] = scores\n",
    "all_results"
   ]
  },
  {
   "cell_type": "code",
   "execution_count": null,
   "id": "d3b31501",
   "metadata": {},
   "outputs": [],
   "source": [
    "all_results = {}\n",
    "for policy in policies: \n",
    "    for key_policy in key_policies: \n",
    "        scores = []\n",
    "        name = f\"plan-{key_policy}_{policy}-always_process\"\n",
    "        for constant in constants: \n",
    "            with open(f'{d}/{name}-{constant}-100.json') as results_file:\n",
    "                print(f'{d}/{name}-{constant}-100.json')\n",
    "                results = json.load(results_file)\n",
    "                scores.append(results[metric])\n",
    "        all_results[name] = scores\n",
    "all_results"
   ]
  },
  {
   "cell_type": "code",
   "execution_count": null,
   "id": "b479a2bc",
   "metadata": {
    "scrolled": true
   },
   "outputs": [],
   "source": [
    "all_results.keys()"
   ]
  },
  {
   "cell_type": "code",
   "execution_count": null,
   "id": "332c0ff6",
   "metadata": {},
   "outputs": [],
   "source": [
    "plan_weighted_random_lifo = []\n",
    "for constant in constants:\n",
    "    with open(f'{d}/plan-weighted_random_lifo-always_process-{constant}-100.json') as results_file:\n",
    "        results = json.load(results_file)\n",
    "        plan_weighted_random_lifo.append(results[metric])\n",
    "print(plan_weighted_random_lifo)\n",
    "        \n",
    "plan_weighted_longest_queue_lifo = []\n",
    "for constant in constants:\n",
    "    with open(f'{d}/plan-weighted_longest_queue_lifo-always_process-{constant}-100.json') as results_file:\n",
    "        results = json.load(results_file)\n",
    "        plan_weighted_longest_queue_lifo.append(results[metric])\n",
    "print(plan_weighted_longest_queue_lifo)\n",
    "\n",
    "plan_longest_queue_lifo = []\n",
    "for constant in constants:\n",
    "    with open(f'{d}/plan-longest_queue_lifo-always_process-{constant}-100.json') as results_file:\n",
    "        results = json.load(results_file)\n",
    "        plan_longest_queue_lifo.append(results[metric])\n",
    "print(plan_longest_queue_lifo)\n",
    "\n",
    "plan_random_lifo = []\n",
    "for constant in constants:\n",
    "    with open(f'{d}/plan-random_lifo-always_process-{constant}-100.json') as results_file:\n",
    "        results = json.load(results_file)\n",
    "        plan_random_lifo.append(results[metric])\n",
    "print(plan_random_lifo)\n",
    "\n",
    "plan_round_robin_lifo = []\n",
    "for constant in constants:\n",
    "    with open(f'{d}/plan-round_robin_lifo-always_process-{constant}-100.json') as results_file:\n",
    "        results = json.load(results_file)\n",
    "        plan_round_robin_lifo.append(results[metric])\n",
    "print(plan_round_robin_lifo)\n"
   ]
  },
  {
   "cell_type": "code",
   "execution_count": 421,
   "id": "6d536763",
   "metadata": {},
   "outputs": [],
   "source": [
    "from pylab import rcParams\n",
    "rcParams['figure.figsize'] = 12, 6"
   ]
  },
  {
   "cell_type": "code",
   "execution_count": 455,
   "id": "1e07c3e9",
   "metadata": {},
   "outputs": [
    {
     "data": {
      "image/png": "[encoded data removed]",
      "text/plain": [
       "<Figure size 360x360 with 1 Axes>"
      ]
     },
     "metadata": {},
     "output_type": "display_data"
    }
   ],
   "source": [
    "import matplotlib.pyplot as plt\n",
    "import seaborn\n",
    "resources = constants \n",
    "df = pd.DataFrame({\n",
    "    'Model Runtime Const': resources, \n",
    "    **all_results\n",
    "})\n",
    "fig, ax1 = plt.subplots(figsize=(5, 5),)\n",
    "tidy = df.melt(id_vars='Model Runtime Const').rename(columns=str.title)\n",
    "seaborn.barplot(x='Model Runtime Const', y='Value', hue='Variable', data=tidy, ax=ax1)\n",
    "ax1.set(xlabel='Model Runtime Const', ylabel=f'{metric} Accuracy')\n",
    "ax1.legend_.remove()\n",
    "plt.legend(loc='lower center')\n",
    "seaborn.despine(fig)"
   ]
  },
  {
   "cell_type": "code",
   "execution_count": null,
   "id": "61d517d0",
   "metadata": {},
   "outputs": [],
   "source": [
    "fig, ax = plt.subplots()\n",
    "ax.set_xscale('log')\n",
    "#resources = [10/c for c in constants]\n",
    "resources = constants \n",
    "print(resources)\n",
    "ax.plot(resources, plan_weighted_longest_queue_lifo, label=\"LIFO Weighted Queue\", c='coral', marker='.')\n",
    "ax.plot(resources, plan_longest_queue_lifo, label=\"LIFO Queue\", c='coral', marker='.', linestyle='dashed')\n",
    "\n",
    "ax.plot(resources, plan_weighted_random_lifo, label=\"LIFO Weighted Random\", c='red', marker='.')\n",
    "ax.plot(resources, plan_random_lifo, label=\"LIFO Random\", c='red', marker='.', linestyle='dashed')\n",
    "\n",
    "#ax.plot(resources, plan_lifo_sample_half, label=\"LIFO Sample Half\", c='dodgerblue', marker='.', linestyle='dashed')\n",
    "#ax.plot(resources, plan_lifo_always_process, label=\"LIFO Always\", c='dodgerblue', marker='.')\n",
    "\n",
    "#ax.plot(resources, plan_round_robin_lifo, label=\"LIFO Round Robin\", c='blue', marker='.', linestyle='dashed')\n",
    "\n",
    "ax.grid()\n",
    "ax.set(xlabel='resource constraint', ylabel=f'{metric} accuracy', title='Passage Retriever')\n",
    "plt.legend()"
   ]
  },
  {
   "cell_type": "markdown",
   "id": "cdf98fa5",
   "metadata": {},
   "source": [
    "## Observe how often each key was updated "
   ]
  },
  {
   "cell_type": "code",
   "execution_count": null,
   "id": "91736ad0",
   "metadata": {},
   "outputs": [],
   "source": [
    "plan_dir = '/data/wooders/wiki-plans'\n",
    "diff_dir = '/data/wooders/wikipedia/diffs'"
   ]
  },
  {
   "cell_type": "code",
   "execution_count": null,
   "id": "2cdeefee",
   "metadata": {},
   "outputs": [],
   "source": [
    "from collections import defaultdict \n",
    "\n",
    "def evaluate_plan(plan_file, optimal_file, start_ts=0, end_ts=37000): \n",
    "    plan = json.load(open(plan_file))\n",
    "    optimal_plan = json.load(open(optimal_file))\n",
    "    \n",
    "\n",
    "    title_counts = defaultdict(lambda: 0)\n",
    "    title_counts_opt = defaultdict(lambda: 0)\n",
    "\n",
    "    for ts in plan.keys(): \n",
    "        if float(ts) < start_ts or float(ts) > end_ts: continue \n",
    "        for edit in plan[ts]: \n",
    "            edit_file = edit[0]\n",
    "            edit_data = json.load(open(f\"{diff_dir}/{edit_file}\"))\n",
    "            title = edit_data['title']\n",
    "            title_counts[title] += 1\n",
    "            \n",
    "    for ts in optimal_plan.keys(): \n",
    "        if float(ts) < start_ts or float(ts) > end_ts: continue  \n",
    "        for edit in optimal_plan[ts]: \n",
    "            edit_file = edit[0]\n",
    "            edit_data = json.load(open(f\"{diff_dir}/{edit_file}\"))\n",
    "            title = edit_data['title']\n",
    "            title_counts_opt[title] += 1\n",
    "            \n",
    "    #assert title_counts_opt != title_counts\n",
    "    \n",
    "    title_counts_df = pd.DataFrame({\"title\": title_counts.keys(), \"updates\": title_counts.values()})\n",
    "    title_counts_opt_df = pd.DataFrame({\"title\": title_counts_opt.keys(), \"optimal_updates\": title_counts_opt.values()})\n",
    "    \n",
    "    plan_data_df = title_counts_df.merge(pageview_df, on=\"title\")\n",
    "    plan_data_df = plan_data_df.merge(title_counts_opt_df, on=\"title\")\n",
    "    plan_data_df[\"pageviews\"] = plan_data_df[\"2021090300\"]\n",
    "    return plan_data_df"
   ]
  },
  {
   "cell_type": "code",
   "execution_count": null,
   "id": "d6440018",
   "metadata": {},
   "outputs": [],
   "source": [
    "plan_names = [\n",
    "    'plan-weighted_random_lifo-always_process-0.01-100',\n",
    "    'plan-weighted_random_lifo-always_process-0.1-100'   \n",
    "]"
   ]
  },
  {
   "cell_type": "code",
   "execution_count": null,
   "id": "523bf657",
   "metadata": {},
   "outputs": [],
   "source": [
    "results = {}\n",
    "end_ts = 37000\n",
    "for plan_name in plan_names:\n",
    "    print(plan_name)\n",
    "    plan_file = f'{plan_dir}/{plan_name}.json'\n",
    "    plan_data_df = evaluate_plan(plan_file, f'/home/eecs/wooders/experiments/wikipedia/optimal_plan.json', end_ts=end_ts)\n",
    "    results[plan_name] = plan_data_df\n",
    "    "
   ]
  },
  {
   "cell_type": "code",
   "execution_count": null,
   "id": "a958fee2",
   "metadata": {},
   "outputs": [],
   "source": [
    "results[\"plan-weighted_random_lifo-always_process-0.1-100\"].sort_values(by=\"updates\", ascending=False)"
   ]
  },
  {
   "cell_type": "code",
   "execution_count": null,
   "id": "87453791",
   "metadata": {},
   "outputs": [],
   "source": [
    "\n",
    "df1 = results[\"plan-weighted_random_lifo-always_process-0.01-100\"]\n",
    "df2 = results[\"plan-weighted_random_lifo-always_process-0.1-100\"]\n",
    "for title in results[\"plan-weighted_random_lifo-always_process-0.01-100\"].title.tolist(): \n",
    "    u1 = df1[df1[\"title\"] == title].updates.tolist()\n",
    "    u2 = df2[df1[\"title\"] == title].updates.tolist()\n",
    "    if u1 != u2:\n",
    "        print(title)\n",
    "        print(u1)\n",
    "        print(u2)\n",
    "    \n",
    "    "
   ]
  },
  {
   "cell_type": "code",
   "execution_count": null,
   "id": "3ea99ccb",
   "metadata": {},
   "outputs": [],
   "source": [
    "results['plan-round_robin_lifo-always_process-5-100'].set_index(\"title\").sort_values(by=\"pageviews\").head(10)[[\"updates\", \"optimal_updates\", \"pageviews\"]].plot(kind=\"bar\",  title=\"Updates for Least Queried Documents (Round Robin)\")"
   ]
  },
  {
   "cell_type": "code",
   "execution_count": null,
   "id": "999fc591",
   "metadata": {},
   "outputs": [],
   "source": [
    "results['plan-round_robin_lifo-always_process-5-100'].plot(x=\"pageviews\", y=\"updates\", kind=\"hist\")"
   ]
  },
  {
   "cell_type": "code",
   "execution_count": null,
   "id": "00d43d3f",
   "metadata": {},
   "outputs": [],
   "source": [
    "results['plan-round_robin_lifo-always_process-5-100'].plot(x=\"pageviews\", y=\"updates\", kind=\"hist\")"
   ]
  },
  {
   "cell_type": "code",
   "execution_count": null,
   "id": "7af47144",
   "metadata": {},
   "outputs": [],
   "source": [
    "results['plan-round_robin_lifo-always_process-5-100'].plot(x=\"pageviews\", y=\"optimal_updates\", kind=\"hist\")"
   ]
  },
  {
   "cell_type": "code",
   "execution_count": null,
   "id": "4d55378e",
   "metadata": {},
   "outputs": [],
   "source": [
    "optimal_plan_df = evaluate_plan(f'/home/eecs/wooders/experiments/wikipedia/optimal_plan.json', f'/home/eecs/wooders/experiments/wikipedia/optimal_plan.json', end_ts=end_ts)"
   ]
  },
  {
   "cell_type": "code",
   "execution_count": null,
   "id": "739fdc68",
   "metadata": {},
   "outputs": [],
   "source": [
    "n_fits = np.array(range(0, 250, 1)) #optimal_plan_df[\"updates\"].unique()\n",
    "n_fits.sort()\n",
    "n_fits_map = {v: i for i, v in enumerate(n_fits)}\n",
    "n_fits_ticks = {i: v for i, v in enumerate(n_fits)}"
   ]
  },
  {
   "cell_type": "code",
   "execution_count": null,
   "id": "c34cc7c0",
   "metadata": {},
   "outputs": [],
   "source": [
    "n_fits_map"
   ]
  },
  {
   "cell_type": "code",
   "execution_count": null,
   "id": "c768b43d",
   "metadata": {},
   "outputs": [],
   "source": [
    "import seaborn as sns\n",
    "import numpy as np\n",
    "sns.set(style=\"whitegrid\", palette=\"muted\")"
   ]
  },
  {
   "cell_type": "code",
   "execution_count": null,
   "id": "fc803fd4",
   "metadata": {},
   "outputs": [],
   "source": [
    "max_fits = 60 "
   ]
  },
  {
   "cell_type": "code",
   "execution_count": null,
   "id": "cfe761f5",
   "metadata": {},
   "outputs": [],
   "source": [
    "fig = plt.figure(figsize=(12, 12))\n",
    "for i, plan_name in enumerate(results.keys()):\n",
    "    plan_file = f'{plan_dir}/{plan_name}.json'\n",
    "    plan_data_df = results[plan_name]\n",
    "    plt.subplot(4, 2, i + 1)\n",
    "    #plan, loss = run_lp(df, max_n_fits=max_n_fits)\n",
    "    #arr = np.array([(key, n_fits_map[fits]) for (key, fits) in plan.items()])\n",
    "    vals = plan_data_df[\"updates\"].tolist()\n",
    "    arr = np.array([(i, vals[i]) for i in range(len(vals))])\n",
    "    plt.scatter(arr[:, 0], arr[:, 1], label=max_n_fits)\n",
    "    plt.yticks(ticks=list(n_fits_ticks.keys()), labels=list(n_fits_ticks.values()))\n",
    "    plt.xlabel(\"key\")\n",
    "    plt.ylabel(\"n_fits\")\n",
    "    plt.legend()\n",
    "    plt.title(plan_name)\n",
    "plt.suptitle(\"Sample plan selection\")\n",
    "plt.tight_layout()"
   ]
  },
  {
   "cell_type": "code",
   "execution_count": null,
   "id": "ac3582ce",
   "metadata": {},
   "outputs": [],
   "source": [
    "df = pd.read_csv(\"/data/wooders/wikipedia/questions.csv\")\n",
    "#df.columns = [\"question\", \"answer\", \"doc_id\", \"timestamp\", \"revid\", \"oldrevid\"]"
   ]
  },
  {
   "cell_type": "code",
   "execution_count": null,
   "id": "ce16ddda",
   "metadata": {},
   "outputs": [],
   "source": [
    "df"
   ]
  },
  {
   "cell_type": "code",
   "execution_count": null,
   "id": "07d5672a",
   "metadata": {},
   "outputs": [],
   "source": [
    "df.doc_id.value_counts()"
   ]
  },
  {
   "cell_type": "code",
   "execution_count": null,
   "id": "d9dab1e5",
   "metadata": {},
   "outputs": [],
   "source": [
    "df.question.value_counts()"
   ]
  },
  {
   "cell_type": "code",
   "execution_count": null,
   "id": "ea220f3d",
   "metadata": {},
   "outputs": [],
   "source": [
    "df.doc_id.value_counts()"
   ]
  },
  {
   "cell_type": "code",
   "execution_count": null,
   "id": "86c3ebf2",
   "metadata": {},
   "outputs": [],
   "source": [
    "weights = df.doc_id.value_counts().to_dict()"
   ]
  },
  {
   "cell_type": "code",
   "execution_count": null,
   "id": "af72ae1a",
   "metadata": {},
   "outputs": [],
   "source": [
    "for key in weights: \n",
    "    weights[key] = int(weights[key]/10)\n",
    "    if weights[key] == 0: \n",
    "        weights[key] = 1"
   ]
  },
  {
   "cell_type": "code",
   "execution_count": null,
   "id": "500bd6ec",
   "metadata": {},
   "outputs": [],
   "source": [
    "weights"
   ]
  },
  {
   "cell_type": "code",
   "execution_count": null,
   "id": "db8ae3c9",
   "metadata": {},
   "outputs": [],
   "source": [
    "open(\"/home/eecs/wooders/experiments/wikipedia/weights.json\", \"w\").write(json.dumps(weights))"
   ]
  },
  {
   "cell_type": "code",
   "execution_count": null,
   "id": "0901f729",
   "metadata": {},
   "outputs": [],
   "source": []
  }
 ],
 "metadata": {
  "kernelspec": {
   "display_name": "Python 3",
   "language": "python",
   "name": "python3"
  },
  "language_info": {
   "codemirror_mode": {
    "name": "ipython",
    "version": 3
   },
   "file_extension": ".py",
   "mimetype": "text/x-python",
   "name": "python",
   "nbconvert_exporter": "python",
   "pygments_lexer": "ipython3",
   "version": "3.8.8"
  }
 },
 "nbformat": 4,
 "nbformat_minor": 5
}
