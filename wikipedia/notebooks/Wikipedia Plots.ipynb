{
 "cells": [
  {
   "cell_type": "code",
   "execution_count": 237,
   "id": "e0030940",
   "metadata": {},
   "outputs": [],
   "source": [
    "import json\n",
    "import matplotlib.pyplot as plt\n",
    "import pandas as pd\n",
    "import wandb\n",
    "import os"
   ]
  },
  {
   "cell_type": "markdown",
   "id": "594d6d4e",
   "metadata": {},
   "source": [
    "# Plot Wikipedia Dataset"
   ]
  },
  {
   "cell_type": "code",
   "execution_count": 238,
   "id": "016e13bb",
   "metadata": {},
   "outputs": [
    {
     "data": {
      "text/html": [
       "Finishing last run (ID:1i504fr1) before initializing another..."
      ],
      "text/plain": [
       "<IPython.core.display.HTML object>"
      ]
     },
     "metadata": {},
     "output_type": "display_data"
    },
    {
     "data": {
      "text/html": [
       "Successfully finished last run (ID:1i504fr1). Initializing new run:<br/>"
      ],
      "text/plain": [
       "<IPython.core.display.HTML object>"
      ]
     },
     "metadata": {},
     "output_type": "display_data"
    },
    {
     "name": "stderr",
     "output_type": "stream",
     "text": [
      "\u001b[34m\u001b[1mwandb\u001b[0m: wandb version 0.12.4 is available!  To upgrade, please run:\n",
      "\u001b[34m\u001b[1mwandb\u001b[0m:  $ pip install wandb --upgrade\n"
     ]
    },
    {
     "data": {
      "text/html": [
       "\n",
       "                    Syncing run <strong><a href=\"https://wandb.ai/ucb-ralf/wiki-workload%20/runs/h5pqozf8\" target=\"_blank\">resilient-planet-72</a></strong> to <a href=\"https://wandb.ai/ucb-ralf/wiki-workload%20\" target=\"_blank\">Weights & Biases</a> (<a href=\"https://docs.wandb.com/integrations/jupyter.html\" target=\"_blank\">docs</a>).<br/>\n",
       "\n",
       "                "
      ],
      "text/plain": [
       "<IPython.core.display.HTML object>"
      ]
     },
     "metadata": {},
     "output_type": "display_data"
    }
   ],
   "source": [
    "run = wandb.init(job_type=\"evaluation\", project=\"wiki-workload\")\n",
    "pageview_dir = run.use_artifact('pageviews:latest').download()\n",
    "questions_dir = run.use_artifact('questions:latest').download()"
   ]
  },
  {
   "cell_type": "code",
   "execution_count": 239,
   "id": "7690f6d7",
   "metadata": {},
   "outputs": [
    {
     "data": {
      "text/html": [
       "<div>\n",
       "<style scoped>\n",
       "    .dataframe tbody tr th:only-of-type {\n",
       "        vertical-align: middle;\n",
       "    }\n",
       "\n",
       "    .dataframe tbody tr th {\n",
       "        vertical-align: top;\n",
       "    }\n",
       "\n",
       "    .dataframe thead th {\n",
       "        text-align: right;\n",
       "    }\n",
       "</style>\n",
       "<table border=\"1\" class=\"dataframe\">\n",
       "  <thead>\n",
       "    <tr style=\"text-align: right;\">\n",
       "      <th></th>\n",
       "      <th>Unnamed: 0</th>\n",
       "      <th>title</th>\n",
       "      <th>edit_count</th>\n",
       "      <th>2021080500</th>\n",
       "      <th>2021080600</th>\n",
       "      <th>2021080700</th>\n",
       "      <th>2021080800</th>\n",
       "      <th>2021080900</th>\n",
       "      <th>2021081000</th>\n",
       "      <th>2021081100</th>\n",
       "      <th>...</th>\n",
       "      <th>2021082800</th>\n",
       "      <th>2021082900</th>\n",
       "      <th>2021083000</th>\n",
       "      <th>2021083100</th>\n",
       "      <th>2021090100</th>\n",
       "      <th>2021090200</th>\n",
       "      <th>2021090300</th>\n",
       "      <th>2021090400</th>\n",
       "      <th>weights</th>\n",
       "      <th>doc_id</th>\n",
       "    </tr>\n",
       "  </thead>\n",
       "  <tbody>\n",
       "    <tr>\n",
       "      <th>0</th>\n",
       "      <td>0</td>\n",
       "      <td>Deaths in 2021</td>\n",
       "      <td>1877</td>\n",
       "      <td>38</td>\n",
       "      <td>35</td>\n",
       "      <td>36</td>\n",
       "      <td>31</td>\n",
       "      <td>349</td>\n",
       "      <td>66</td>\n",
       "      <td>56</td>\n",
       "      <td>...</td>\n",
       "      <td>69</td>\n",
       "      <td>50</td>\n",
       "      <td>63</td>\n",
       "      <td>68</td>\n",
       "      <td>50</td>\n",
       "      <td>52</td>\n",
       "      <td>39</td>\n",
       "      <td>46</td>\n",
       "      <td>0.028511</td>\n",
       "      <td>65984422</td>\n",
       "    </tr>\n",
       "    <tr>\n",
       "      <th>1</th>\n",
       "      <td>1</td>\n",
       "      <td>2021 Atlantic hurricane season</td>\n",
       "      <td>1438</td>\n",
       "      <td>11</td>\n",
       "      <td>5</td>\n",
       "      <td>16</td>\n",
       "      <td>8</td>\n",
       "      <td>9</td>\n",
       "      <td>7</td>\n",
       "      <td>14</td>\n",
       "      <td>...</td>\n",
       "      <td>8</td>\n",
       "      <td>20</td>\n",
       "      <td>2</td>\n",
       "      <td>8</td>\n",
       "      <td>5</td>\n",
       "      <td>12</td>\n",
       "      <td>11</td>\n",
       "      <td>5</td>\n",
       "      <td>0.003805</td>\n",
       "      <td>57798785</td>\n",
       "    </tr>\n",
       "    <tr>\n",
       "      <th>2</th>\n",
       "      <td>2</td>\n",
       "      <td>Neeraj Chopra</td>\n",
       "      <td>1156</td>\n",
       "      <td>3</td>\n",
       "      <td>7</td>\n",
       "      <td>3</td>\n",
       "      <td>2</td>\n",
       "      <td>4</td>\n",
       "      <td>3</td>\n",
       "      <td>4</td>\n",
       "      <td>...</td>\n",
       "      <td>5</td>\n",
       "      <td>6</td>\n",
       "      <td>0</td>\n",
       "      <td>4</td>\n",
       "      <td>9</td>\n",
       "      <td>2</td>\n",
       "      <td>1</td>\n",
       "      <td>3</td>\n",
       "      <td>0.002170</td>\n",
       "      <td>51150040</td>\n",
       "    </tr>\n",
       "    <tr>\n",
       "      <th>3</th>\n",
       "      <td>3</td>\n",
       "      <td>Fall of Kabul (2021)</td>\n",
       "      <td>1009</td>\n",
       "      <td>18</td>\n",
       "      <td>9</td>\n",
       "      <td>12</td>\n",
       "      <td>12</td>\n",
       "      <td>16</td>\n",
       "      <td>10</td>\n",
       "      <td>12</td>\n",
       "      <td>...</td>\n",
       "      <td>11</td>\n",
       "      <td>16</td>\n",
       "      <td>9</td>\n",
       "      <td>9</td>\n",
       "      <td>20</td>\n",
       "      <td>15</td>\n",
       "      <td>5</td>\n",
       "      <td>10</td>\n",
       "      <td>0.004876</td>\n",
       "      <td>68481047</td>\n",
       "    </tr>\n",
       "    <tr>\n",
       "      <th>4</th>\n",
       "      <td>4</td>\n",
       "      <td>Great Britain at the 2020 Summer Paralympics</td>\n",
       "      <td>989</td>\n",
       "      <td>13</td>\n",
       "      <td>5</td>\n",
       "      <td>6</td>\n",
       "      <td>4</td>\n",
       "      <td>16</td>\n",
       "      <td>8</td>\n",
       "      <td>9</td>\n",
       "      <td>...</td>\n",
       "      <td>3</td>\n",
       "      <td>8</td>\n",
       "      <td>6</td>\n",
       "      <td>8</td>\n",
       "      <td>10</td>\n",
       "      <td>7</td>\n",
       "      <td>4</td>\n",
       "      <td>7</td>\n",
       "      <td>0.003397</td>\n",
       "      <td>60043578</td>\n",
       "    </tr>\n",
       "    <tr>\n",
       "      <th>...</th>\n",
       "      <td>...</td>\n",
       "      <td>...</td>\n",
       "      <td>...</td>\n",
       "      <td>...</td>\n",
       "      <td>...</td>\n",
       "      <td>...</td>\n",
       "      <td>...</td>\n",
       "      <td>...</td>\n",
       "      <td>...</td>\n",
       "      <td>...</td>\n",
       "      <td>...</td>\n",
       "      <td>...</td>\n",
       "      <td>...</td>\n",
       "      <td>...</td>\n",
       "      <td>...</td>\n",
       "      <td>...</td>\n",
       "      <td>...</td>\n",
       "      <td>...</td>\n",
       "      <td>...</td>\n",
       "      <td>...</td>\n",
       "      <td>...</td>\n",
       "    </tr>\n",
       "    <tr>\n",
       "      <th>211</th>\n",
       "      <td>211</td>\n",
       "      <td>List of fungi of South Africa</td>\n",
       "      <td>203</td>\n",
       "      <td>8</td>\n",
       "      <td>9</td>\n",
       "      <td>7</td>\n",
       "      <td>13</td>\n",
       "      <td>21</td>\n",
       "      <td>4</td>\n",
       "      <td>9</td>\n",
       "      <td>...</td>\n",
       "      <td>10</td>\n",
       "      <td>7</td>\n",
       "      <td>6</td>\n",
       "      <td>1</td>\n",
       "      <td>13</td>\n",
       "      <td>5</td>\n",
       "      <td>5</td>\n",
       "      <td>6</td>\n",
       "      <td>0.003467</td>\n",
       "      <td>68354495</td>\n",
       "    </tr>\n",
       "    <tr>\n",
       "      <th>212</th>\n",
       "      <td>212</td>\n",
       "      <td>Mister Supranational 2021</td>\n",
       "      <td>203</td>\n",
       "      <td>8</td>\n",
       "      <td>9</td>\n",
       "      <td>7</td>\n",
       "      <td>13</td>\n",
       "      <td>21</td>\n",
       "      <td>4</td>\n",
       "      <td>9</td>\n",
       "      <td>...</td>\n",
       "      <td>10</td>\n",
       "      <td>7</td>\n",
       "      <td>6</td>\n",
       "      <td>1</td>\n",
       "      <td>13</td>\n",
       "      <td>5</td>\n",
       "      <td>5</td>\n",
       "      <td>6</td>\n",
       "      <td>0.003467</td>\n",
       "      <td>67918135</td>\n",
       "    </tr>\n",
       "    <tr>\n",
       "      <th>213</th>\n",
       "      <td>213</td>\n",
       "      <td>2021–22 FC Barcelona season</td>\n",
       "      <td>202</td>\n",
       "      <td>19</td>\n",
       "      <td>29</td>\n",
       "      <td>29</td>\n",
       "      <td>27</td>\n",
       "      <td>28</td>\n",
       "      <td>27</td>\n",
       "      <td>23</td>\n",
       "      <td>...</td>\n",
       "      <td>21</td>\n",
       "      <td>26</td>\n",
       "      <td>29</td>\n",
       "      <td>16</td>\n",
       "      <td>27</td>\n",
       "      <td>20</td>\n",
       "      <td>43</td>\n",
       "      <td>18</td>\n",
       "      <td>0.012698</td>\n",
       "      <td>67089631</td>\n",
       "    </tr>\n",
       "    <tr>\n",
       "      <th>214</th>\n",
       "      <td>214</td>\n",
       "      <td>Hamid Karzai International Airport</td>\n",
       "      <td>201</td>\n",
       "      <td>14</td>\n",
       "      <td>26</td>\n",
       "      <td>15</td>\n",
       "      <td>17</td>\n",
       "      <td>26</td>\n",
       "      <td>14</td>\n",
       "      <td>17</td>\n",
       "      <td>...</td>\n",
       "      <td>19</td>\n",
       "      <td>10</td>\n",
       "      <td>25</td>\n",
       "      <td>13</td>\n",
       "      <td>26</td>\n",
       "      <td>14</td>\n",
       "      <td>22</td>\n",
       "      <td>7</td>\n",
       "      <td>0.007258</td>\n",
       "      <td>487602</td>\n",
       "    </tr>\n",
       "    <tr>\n",
       "      <th>215</th>\n",
       "      <td>215</td>\n",
       "      <td>Characters of the Marvel Cinematic Universe</td>\n",
       "      <td>201</td>\n",
       "      <td>14</td>\n",
       "      <td>26</td>\n",
       "      <td>15</td>\n",
       "      <td>17</td>\n",
       "      <td>26</td>\n",
       "      <td>14</td>\n",
       "      <td>17</td>\n",
       "      <td>...</td>\n",
       "      <td>19</td>\n",
       "      <td>10</td>\n",
       "      <td>25</td>\n",
       "      <td>13</td>\n",
       "      <td>26</td>\n",
       "      <td>14</td>\n",
       "      <td>22</td>\n",
       "      <td>7</td>\n",
       "      <td>0.007258</td>\n",
       "      <td>62372638</td>\n",
       "    </tr>\n",
       "  </tbody>\n",
       "</table>\n",
       "<p>216 rows × 36 columns</p>\n",
       "</div>"
      ],
      "text/plain": [
       "     Unnamed: 0                                         title  edit_count  \\\n",
       "0             0                                Deaths in 2021        1877   \n",
       "1             1                2021 Atlantic hurricane season        1438   \n",
       "2             2                                 Neeraj Chopra        1156   \n",
       "3             3                          Fall of Kabul (2021)        1009   \n",
       "4             4  Great Britain at the 2020 Summer Paralympics         989   \n",
       "..          ...                                           ...         ...   \n",
       "211         211                 List of fungi of South Africa         203   \n",
       "212         212                     Mister Supranational 2021         203   \n",
       "213         213                   2021–22 FC Barcelona season         202   \n",
       "214         214            Hamid Karzai International Airport         201   \n",
       "215         215   Characters of the Marvel Cinematic Universe         201   \n",
       "\n",
       "     2021080500  2021080600  2021080700  2021080800  2021080900  2021081000  \\\n",
       "0            38          35          36          31         349          66   \n",
       "1            11           5          16           8           9           7   \n",
       "2             3           7           3           2           4           3   \n",
       "3            18           9          12          12          16          10   \n",
       "4            13           5           6           4          16           8   \n",
       "..          ...         ...         ...         ...         ...         ...   \n",
       "211           8           9           7          13          21           4   \n",
       "212           8           9           7          13          21           4   \n",
       "213          19          29          29          27          28          27   \n",
       "214          14          26          15          17          26          14   \n",
       "215          14          26          15          17          26          14   \n",
       "\n",
       "     2021081100  ...  2021082800  2021082900  2021083000  2021083100  \\\n",
       "0            56  ...          69          50          63          68   \n",
       "1            14  ...           8          20           2           8   \n",
       "2             4  ...           5           6           0           4   \n",
       "3            12  ...          11          16           9           9   \n",
       "4             9  ...           3           8           6           8   \n",
       "..          ...  ...         ...         ...         ...         ...   \n",
       "211           9  ...          10           7           6           1   \n",
       "212           9  ...          10           7           6           1   \n",
       "213          23  ...          21          26          29          16   \n",
       "214          17  ...          19          10          25          13   \n",
       "215          17  ...          19          10          25          13   \n",
       "\n",
       "     2021090100  2021090200  2021090300  2021090400   weights    doc_id  \n",
       "0            50          52          39          46  0.028511  65984422  \n",
       "1             5          12          11           5  0.003805  57798785  \n",
       "2             9           2           1           3  0.002170  51150040  \n",
       "3            20          15           5          10  0.004876  68481047  \n",
       "4            10           7           4           7  0.003397  60043578  \n",
       "..          ...         ...         ...         ...       ...       ...  \n",
       "211          13           5           5           6  0.003467  68354495  \n",
       "212          13           5           5           6  0.003467  67918135  \n",
       "213          27          20          43          18  0.012698  67089631  \n",
       "214          26          14          22           7  0.007258    487602  \n",
       "215          26          14          22           7  0.007258  62372638  \n",
       "\n",
       "[216 rows x 36 columns]"
      ]
     },
     "execution_count": 239,
     "metadata": {},
     "output_type": "execute_result"
    }
   ],
   "source": [
    "pageview_df = pd.read_csv(f\"{pageview_dir}/pageviews.csv\")\n",
    "pageview_df"
   ]
  },
  {
   "cell_type": "code",
   "execution_count": 240,
   "id": "5b5d1edc",
   "metadata": {},
   "outputs": [
    {
     "data": {
      "text/plain": [
       "<AxesSubplot:>"
      ]
     },
     "execution_count": 240,
     "metadata": {},
     "output_type": "execute_result"
    },
    {
     "data": {
      "image/png": "[encoded data removed]",
      "text/plain": [
       "<Figure size 864x432 with 1 Axes>"
      ]
     },
     "metadata": {},
     "output_type": "display_data"
    }
   ],
   "source": [
    "df = pd.DataFrame({\n",
    "    \"edit_frequency\": pageview_df.edit_count / pageview_df.edit_count.sum(),\n",
    "    \"query_frequency\": pageview_df[\"2021080600\"] / pageview_df[\"2021080600\"].sum()\n",
    "})\n",
    "\n",
    "df.plot()"
   ]
  },
  {
   "cell_type": "markdown",
   "id": "1ca13ffa",
   "metadata": {},
   "source": [
    "# Plot DPR Model Accuracy Results "
   ]
  },
  {
   "cell_type": "code",
   "execution_count": 241,
   "id": "39b1975e",
   "metadata": {},
   "outputs": [
    {
     "data": {
      "text/html": [
       "Finishing last run (ID:h5pqozf8) before initializing another..."
      ],
      "text/plain": [
       "<IPython.core.display.HTML object>"
      ]
     },
     "metadata": {},
     "output_type": "display_data"
    },
    {
     "data": {
      "text/html": [
       "<br/>Waiting for W&B process to finish, PID 38831... <strong style=\"color:green\">(success).</strong>"
      ],
      "text/plain": [
       "<IPython.core.display.HTML object>"
      ]
     },
     "metadata": {},
     "output_type": "display_data"
    },
    {
     "data": {
      "application/vnd.jupyter.widget-view+json": {
       "model_id": "",
       "version_major": 2,
       "version_minor": 0
      },
      "text/plain": [
       "VBox(children=(Label(value=' 0.68MB of 0.68MB uploaded (0.00MB deduped)\\r'), FloatProgress(value=1.0, max=1.0)…"
      ]
     },
     "metadata": {},
     "output_type": "display_data"
    },
    {
     "data": {
      "text/html": [
       "<style>\n",
       "    table.wandb td:nth-child(1) { padding: 0 10px; text-align: right }\n",
       "    .wandb-row { display: flex; flex-direction: row; flex-wrap: wrap; width: 100% }\n",
       "    .wandb-col { display: flex; flex-direction: column; flex-basis: 100%; flex: 1; padding: 10px; }\n",
       "    </style>\n",
       "<div class=\"wandb-row\"><div class=\"wandb-col\">\n",
       "</div><div class=\"wandb-col\">\n",
       "</div></div>\n",
       "Synced 6 W&B file(s), 0 media file(s), 0 artifact file(s) and 1 other file(s)\n",
       "<br/>Synced <strong style=\"color:#cdcd00\">resilient-planet-72</strong>: <a href=\"https://wandb.ai/ucb-ralf/wiki-workload%20/runs/h5pqozf8\" target=\"_blank\">https://wandb.ai/ucb-ralf/wiki-workload%20/runs/h5pqozf8</a><br/>\n",
       "Find logs at: <code>./wandb/run-20211011_174530-h5pqozf8/logs</code><br/>\n"
      ],
      "text/plain": [
       "<IPython.core.display.HTML object>"
      ]
     },
     "metadata": {},
     "output_type": "display_data"
    },
    {
     "data": {
      "text/html": [
       "Successfully finished last run (ID:h5pqozf8). Initializing new run:<br/>"
      ],
      "text/plain": [
       "<IPython.core.display.HTML object>"
      ]
     },
     "metadata": {},
     "output_type": "display_data"
    },
    {
     "name": "stderr",
     "output_type": "stream",
     "text": [
      "\u001b[34m\u001b[1mwandb\u001b[0m: wandb version 0.12.4 is available!  To upgrade, please run:\n",
      "\u001b[34m\u001b[1mwandb\u001b[0m:  $ pip install wandb --upgrade\n"
     ]
    },
    {
     "data": {
      "text/html": [
       "\n",
       "                    Syncing run <strong><a href=\"https://wandb.ai/ucb-ralf/wiki-workload%20/runs/3unrrbub\" target=\"_blank\">stoic-blaze-73</a></strong> to <a href=\"https://wandb.ai/ucb-ralf/wiki-workload%20\" target=\"_blank\">Weights & Biases</a> (<a href=\"https://docs.wandb.com/integrations/jupyter.html\" target=\"_blank\">docs</a>).<br/>\n",
       "\n",
       "                "
      ],
      "text/plain": [
       "<IPython.core.display.HTML object>"
      ]
     },
     "metadata": {},
     "output_type": "display_data"
    }
   ],
   "source": [
    "run = wandb.init(job_type=\"evaluation\", project=\"wiki-workload\")\n",
    "artifact = run.use_artifact('prediction_results:latest')\n",
    "artifact_dir = artifact.download()"
   ]
  },
  {
   "cell_type": "code",
   "execution_count": 242,
   "id": "101571e2",
   "metadata": {},
   "outputs": [
    {
     "data": {
      "text/plain": [
       "'./artifacts/prediction_results:v1'"
      ]
     },
     "execution_count": 242,
     "metadata": {},
     "output_type": "execute_result"
    }
   ],
   "source": [
    "artifact_dir"
   ]
  },
  {
   "cell_type": "code",
   "execution_count": 289,
   "id": "c106b186",
   "metadata": {},
   "outputs": [],
   "source": [
    "artifact_dir = \"/home/eecs/wooders/DPR\""
   ]
  },
  {
   "cell_type": "code",
   "execution_count": 290,
   "id": "eaf30e01",
   "metadata": {},
   "outputs": [],
   "source": [
    "constants = [0.01, 0.05, 0.1, 1, 5]\n",
    "policies = [\"lifo\"]\n",
    "key_policies = [\"random\", \"weighted_random\"]\n",
    "d = artifact_dir\n",
    "metric = 'top5'"
   ]
  },
  {
   "cell_type": "code",
   "execution_count": 291,
   "id": "25eb4c0d",
   "metadata": {},
   "outputs": [
    {
     "name": "stdout",
     "output_type": "stream",
     "text": [
      "/home/eecs/wooders/DPR/plan-random_lifo-always_process-0.01-100.json\n",
      "/home/eecs/wooders/DPR/plan-random_lifo-always_process-0.05-100.json\n",
      "/home/eecs/wooders/DPR/plan-random_lifo-always_process-0.1-100.json\n",
      "/home/eecs/wooders/DPR/plan-random_lifo-always_process-1-100.json\n",
      "/home/eecs/wooders/DPR/plan-random_lifo-always_process-5-100.json\n",
      "/home/eecs/wooders/DPR/plan-weighted_random_lifo-always_process-0.01-100.json\n",
      "/home/eecs/wooders/DPR/plan-weighted_random_lifo-always_process-0.05-100.json\n",
      "/home/eecs/wooders/DPR/plan-weighted_random_lifo-always_process-0.1-100.json\n",
      "/home/eecs/wooders/DPR/plan-weighted_random_lifo-always_process-1-100.json\n",
      "/home/eecs/wooders/DPR/plan-weighted_random_lifo-always_process-5-100.json\n"
     ]
    },
    {
     "data": {
      "text/plain": [
       "{'plan-random_lifo-always_process': [0.41722204591135087,\n",
       "  0.41605839416058393,\n",
       "  0.3628477731936951,\n",
       "  0.19216121866074262,\n",
       "  0.20681265206812652],\n",
       " 'plan-weighted_random_lifo-always_process': [0.4166931132973659,\n",
       "  0.4052681688352904,\n",
       "  0.3899820162911245,\n",
       "  0.256373637998519,\n",
       "  0.17237913889770443]}"
      ]
     },
     "execution_count": 291,
     "metadata": {},
     "output_type": "execute_result"
    }
   ],
   "source": [
    "all_results = {}\n",
    "for policy in policies: \n",
    "    for key_policy in key_policies: \n",
    "        scores = []\n",
    "        name = f\"plan-{key_policy}_{policy}-always_process\"\n",
    "        for constant in constants: \n",
    "            print(f'{d}/{name}-{constant}-100.json')\n",
    "            with open(f'{d}/{name}-{constant}-100.json') as results_file:\n",
    "                results = json.load(results_file)\n",
    "                scores.append(results[metric])\n",
    "        all_results[name] = scores\n",
    "all_results"
   ]
  },
  {
   "cell_type": "code",
   "execution_count": 228,
   "id": "d3b31501",
   "metadata": {},
   "outputs": [
    {
     "data": {
      "text/plain": [
       "{'plan-weighted_round_robin_lifo-always_process': [0.7134603189515466,\n",
       "  0.14824122570088702,\n",
       "  0.13923792971165966,\n",
       "  0.14143003656121067,\n",
       "  0.1144984381238697,\n",
       "  0.12701693402541278],\n",
       " 'plan-weighted_random_lifo-always_process': [0.7100077506635037,\n",
       "  0.1506368853293249,\n",
       "  0.15045681940954037,\n",
       "  0.13972332479977453,\n",
       "  0.11063093532501898,\n",
       "  0.12261706242024253],\n",
       " 'plan-random_lifo-always_process': [0.699352545584079,\n",
       "  0.14759142259905583,\n",
       "  0.15119274099474678,\n",
       "  0.12415936616796236,\n",
       "  0.11849120417126617,\n",
       "  0.11131988319202073],\n",
       " 'plan-round_robin_lifo-always_process': [0.6862547071580117,\n",
       "  0.14121082587625558,\n",
       "  0.14572030282390336,\n",
       "  0.12318857599173262,\n",
       "  0.11423225372070993,\n",
       "  0.11082665915087175]}"
      ]
     },
     "execution_count": 228,
     "metadata": {},
     "output_type": "execute_result"
    }
   ],
   "source": [
    "all_results = {}\n",
    "for policy in policies: \n",
    "    for key_policy in key_policies: \n",
    "        scores = []\n",
    "        name = f\"plan-{key_policy}_{policy}-always_process\"\n",
    "        for constant in constants: \n",
    "            with open(f'{d}/{name}-{constant}-100.json') as results_file:\n",
    "                results = json.load(results_file)\n",
    "                scores.append(results[metric])\n",
    "        all_results[name] = scores\n",
    "all_results"
   ]
  },
  {
   "cell_type": "code",
   "execution_count": 229,
   "id": "b479a2bc",
   "metadata": {
    "scrolled": true
   },
   "outputs": [
    {
     "data": {
      "text/plain": [
       "dict_keys(['plan-weighted_round_robin_lifo-always_process', 'plan-weighted_random_lifo-always_process', 'plan-random_lifo-always_process', 'plan-round_robin_lifo-always_process'])"
      ]
     },
     "execution_count": 229,
     "metadata": {},
     "output_type": "execute_result"
    }
   ],
   "source": [
    "all_results.keys()"
   ]
  },
  {
   "cell_type": "code",
   "execution_count": 230,
   "id": "332c0ff6",
   "metadata": {},
   "outputs": [
    {
     "name": "stdout",
     "output_type": "stream",
     "text": [
      "[0.7100077506635037, 0.1506368853293249, 0.15045681940954037, 0.13972332479977453, 0.11063093532501898, 0.12261706242024253]\n",
      "[0.11061527741895076, 0.11378600339776562, 0.11060744846591665, 0.11156258073607817, 0.11068573799625776, 0.11357462166584463]\n",
      "[0.11424008267374404, 0.11315185820200264, 0.127032591931481, 0.11396606931755017, 0.11010639547173356, 0.11089711972817876]\n",
      "[0.699352545584079, 0.14759142259905583, 0.15119274099474678, 0.12415936616796236, 0.11849120417126617, 0.11131988319202073]\n",
      "[0.6862547071580117, 0.14121082587625558, 0.14572030282390336, 0.12318857599173262, 0.11423225372070993, 0.11082665915087175]\n"
     ]
    }
   ],
   "source": [
    "plan_weighted_random_lifo = []\n",
    "for constant in constants:\n",
    "    with open(f'{d}/plan-weighted_random_lifo-always_process-{constant}-100.json') as results_file:\n",
    "        results = json.load(results_file)\n",
    "        plan_weighted_random_lifo.append(results[metric])\n",
    "print(plan_weighted_random_lifo)\n",
    "        \n",
    "plan_weighted_longest_queue_lifo = []\n",
    "for constant in constants:\n",
    "    with open(f'{d}/plan-weighted_longest_queue_lifo-always_process-{constant}-100.json') as results_file:\n",
    "        results = json.load(results_file)\n",
    "        plan_weighted_longest_queue_lifo.append(results[metric])\n",
    "print(plan_weighted_longest_queue_lifo)\n",
    "\n",
    "plan_longest_queue_lifo = []\n",
    "for constant in constants:\n",
    "    with open(f'{d}/plan-longest_queue_lifo-always_process-{constant}-100.json') as results_file:\n",
    "        results = json.load(results_file)\n",
    "        plan_longest_queue_lifo.append(results[metric])\n",
    "print(plan_longest_queue_lifo)\n",
    "\n",
    "plan_random_lifo = []\n",
    "for constant in constants:\n",
    "    with open(f'{d}/plan-random_lifo-always_process-{constant}-100.json') as results_file:\n",
    "        results = json.load(results_file)\n",
    "        plan_random_lifo.append(results[metric])\n",
    "print(plan_random_lifo)\n",
    "\n",
    "plan_round_robin_lifo = []\n",
    "for constant in constants:\n",
    "    with open(f'{d}/plan-round_robin_lifo-always_process-{constant}-100.json') as results_file:\n",
    "        results = json.load(results_file)\n",
    "        plan_round_robin_lifo.append(results[metric])\n",
    "print(plan_round_robin_lifo)\n"
   ]
  },
  {
   "cell_type": "code",
   "execution_count": 231,
   "id": "6d536763",
   "metadata": {},
   "outputs": [],
   "source": [
    "from pylab import rcParams\n",
    "rcParams['figure.figsize'] = 12, 6"
   ]
  },
  {
   "cell_type": "code",
   "execution_count": 232,
   "id": "1e07c3e9",
   "metadata": {},
   "outputs": [
    {
     "data": {
      "image/png": "[encoded data removed]",
      "text/plain": [
       "<Figure size 720x360 with 1 Axes>"
      ]
     },
     "metadata": {},
     "output_type": "display_data"
    }
   ],
   "source": [
    "import matplotlib.pyplot as plt\n",
    "import seaborn\n",
    "resources = constants \n",
    "df = pd.DataFrame({\n",
    "    'Factor': resources, \n",
    "    **all_results\n",
    "})\n",
    "fig, ax1 = plt.subplots(figsize=(10, 5))\n",
    "tidy = df.melt(id_vars='Factor').rename(columns=str.title)\n",
    "seaborn.barplot(x='Factor', y='Value', hue='Variable', data=tidy, ax=ax1)\n",
    "seaborn.despine(fig)"
   ]
  },
  {
   "cell_type": "code",
   "execution_count": 233,
   "id": "61d517d0",
   "metadata": {},
   "outputs": [
    {
     "name": "stdout",
     "output_type": "stream",
     "text": [
      "[0.01, 0.05, 0.1, 1, 5, 10]\n"
     ]
    },
    {
     "data": {
      "text/plain": [
       "<matplotlib.legend.Legend at 0x7f15512bc130>"
      ]
     },
     "execution_count": 233,
     "metadata": {},
     "output_type": "execute_result"
    },
    {
     "data": {
      "image/png": "[encoded data removed]",
      "text/plain": [
       "<Figure size 864x432 with 1 Axes>"
      ]
     },
     "metadata": {},
     "output_type": "display_data"
    }
   ],
   "source": [
    "fig, ax = plt.subplots()\n",
    "ax.set_xscale('log')\n",
    "#resources = [10/c for c in constants]\n",
    "resources = constants \n",
    "print(resources)\n",
    "ax.plot(resources, plan_weighted_longest_queue_lifo, label=\"LIFO Weighted Queue\", c='coral', marker='.')\n",
    "ax.plot(resources, plan_longest_queue_lifo, label=\"LIFO Queue\", c='coral', marker='.', linestyle='dashed')\n",
    "\n",
    "ax.plot(resources, plan_weighted_random_lifo, label=\"LIFO Weighted Random\", c='red', marker='.')\n",
    "ax.plot(resources, plan_random_lifo, label=\"LIFO Random\", c='red', marker='.', linestyle='dashed')\n",
    "\n",
    "#ax.plot(resources, plan_lifo_sample_half, label=\"LIFO Sample Half\", c='dodgerblue', marker='.', linestyle='dashed')\n",
    "#ax.plot(resources, plan_lifo_always_process, label=\"LIFO Always\", c='dodgerblue', marker='.')\n",
    "\n",
    "#ax.plot(resources, plan_round_robin_lifo, label=\"LIFO Round Robin\", c='blue', marker='.', linestyle='dashed')\n",
    "\n",
    "ax.grid()\n",
    "ax.set(xlabel='resource constraint', ylabel=f'{metric} accuracy', title='Passage Retriever')\n",
    "plt.legend()"
   ]
  },
  {
   "cell_type": "markdown",
   "id": "cdf98fa5",
   "metadata": {},
   "source": [
    "## Observe how often each key was updated "
   ]
  },
  {
   "cell_type": "code",
   "execution_count": 10,
   "id": "91736ad0",
   "metadata": {},
   "outputs": [],
   "source": [
    "plan_dir = '/data/wooders/wiki-plans'\n",
    "diff_dir = '/data/wooders/wikipedia/diffs'"
   ]
  },
  {
   "cell_type": "code",
   "execution_count": 162,
   "id": "2cdeefee",
   "metadata": {},
   "outputs": [],
   "source": [
    "from collections import defaultdict \n",
    "\n",
    "def evaluate_plan(plan_file, optimal_file, start_ts=0, end_ts=37000): \n",
    "    plan = json.load(open(plan_file))\n",
    "    optimal_plan = json.load(open(optimal_file))\n",
    "    \n",
    "\n",
    "    title_counts = defaultdict(lambda: 0)\n",
    "    title_counts_opt = defaultdict(lambda: 0)\n",
    "\n",
    "    for ts in plan.keys(): \n",
    "        if float(ts) < start_ts or float(ts) > end_ts: continue \n",
    "        for edit in plan[ts]: \n",
    "            edit_file = edit[0]\n",
    "            edit_data = json.load(open(f\"{diff_dir}/{edit_file}\"))\n",
    "            title = edit_data['title']\n",
    "            title_counts[title] += 1\n",
    "            \n",
    "    for ts in optimal_plan.keys(): \n",
    "        if float(ts) < start_ts or float(ts) > end_ts: continue  \n",
    "        for edit in optimal_plan[ts]: \n",
    "            edit_file = edit[0]\n",
    "            edit_data = json.load(open(f\"{diff_dir}/{edit_file}\"))\n",
    "            title = edit_data['title']\n",
    "            title_counts_opt[title] += 1\n",
    "            \n",
    "    #assert title_counts_opt != title_counts\n",
    "    \n",
    "    title_counts_df = pd.DataFrame({\"title\": title_counts.keys(), \"updates\": title_counts.values()})\n",
    "    title_counts_opt_df = pd.DataFrame({\"title\": title_counts_opt.keys(), \"optimal_updates\": title_counts_opt.values()})\n",
    "    \n",
    "    plan_data_df = title_counts_df.merge(pageview_df, on=\"title\")\n",
    "    plan_data_df = plan_data_df.merge(title_counts_opt_df, on=\"title\")\n",
    "    plan_data_df[\"pageviews\"] = plan_data_df[\"2021090300\"]\n",
    "    return plan_data_df"
   ]
  },
  {
   "cell_type": "code",
   "execution_count": 153,
   "id": "d6440018",
   "metadata": {},
   "outputs": [],
   "source": [
    "plan_names = [\n",
    "    'plan-round_robin_lifo-always_process-5-100',\n",
    "    'plan-weighted_round_robin_lifo-always_process-5-100',\n",
    "    'plan-random_lifo-always_process-5-100',\n",
    "    'plan-weighted_random_lifo-always_process-5-100'   \n",
    "]"
   ]
  },
  {
   "cell_type": "code",
   "execution_count": 154,
   "id": "523bf657",
   "metadata": {},
   "outputs": [
    {
     "name": "stdout",
     "output_type": "stream",
     "text": [
      "plan-round_robin_lifo-always_process-5-100\n",
      "plan-weighted_round_robin_lifo-always_process-5-100\n",
      "plan-random_lifo-always_process-5-100\n",
      "plan-weighted_random_lifo-always_process-5-100\n"
     ]
    }
   ],
   "source": [
    "results = {}\n",
    "end_ts = 1000\n",
    "for plan_name in plan_names:\n",
    "    print(plan_name)\n",
    "    plan_file = f'{plan_dir}/{plan_name}.json'\n",
    "    plan_data_df = evaluate_plan(plan_file, f'/home/eecs/wooders/experiments/wikipedia/optimal_plan.json', end_ts=end_ts)\n",
    "    results[plan_name] = plan_data_df\n",
    "    "
   ]
  },
  {
   "cell_type": "code",
   "execution_count": 155,
   "id": "d1958139",
   "metadata": {},
   "outputs": [
    {
     "data": {
      "text/plain": [
       "<AxesSubplot:title={'center':'Updates for Top Documents (Weighted Round Robin)'}, xlabel='title'>"
      ]
     },
     "execution_count": 155,
     "metadata": {},
     "output_type": "execute_result"
    },
    {
     "data": {
      "image/png": "[encoded data removed]",
      "text/plain": [
       "<Figure size 432x288 with 1 Axes>"
      ]
     },
     "metadata": {},
     "output_type": "display_data"
    }
   ],
   "source": [
    "results['plan-round_robin_lifo-always_process-5-100'].set_index(\"title\").sort_values(by=\"pageviews\").tail(10)[[\"updates\", \"optimal_updates\", \"pageviews\"]].plot(kind=\"bar\", title=\"Updates for Top Documents (Weighted Round Robin)\")"
   ]
  },
  {
   "cell_type": "code",
   "execution_count": 156,
   "id": "3ea99ccb",
   "metadata": {},
   "outputs": [
    {
     "data": {
      "text/plain": [
       "<AxesSubplot:title={'center':'Updates for Least Queried Documents (Round Robin)'}, xlabel='title'>"
      ]
     },
     "execution_count": 156,
     "metadata": {},
     "output_type": "execute_result"
    },
    {
     "data": {
      "image/png": "[encoded data removed]",
      "text/plain": [
       "<Figure size 432x288 with 1 Axes>"
      ]
     },
     "metadata": {},
     "output_type": "display_data"
    }
   ],
   "source": [
    "results['plan-round_robin_lifo-always_process-5-100'].set_index(\"title\").sort_values(by=\"pageviews\").head(10)[[\"updates\", \"optimal_updates\", \"pageviews\"]].plot(kind=\"bar\",  title=\"Updates for Least Queried Documents (Round Robin)\")"
   ]
  },
  {
   "cell_type": "code",
   "execution_count": 157,
   "id": "999fc591",
   "metadata": {},
   "outputs": [
    {
     "data": {
      "text/plain": [
       "<AxesSubplot:ylabel='Frequency'>"
      ]
     },
     "execution_count": 157,
     "metadata": {},
     "output_type": "execute_result"
    },
    {
     "data": {
      "image/png": "[encoded data removed]",
      "text/plain": [
       "<Figure size 432x288 with 1 Axes>"
      ]
     },
     "metadata": {},
     "output_type": "display_data"
    }
   ],
   "source": [
    "results['plan-round_robin_lifo-always_process-5-100'].plot(x=\"pageviews\", y=\"updates\", kind=\"hist\")"
   ]
  },
  {
   "cell_type": "code",
   "execution_count": 158,
   "id": "00d43d3f",
   "metadata": {},
   "outputs": [
    {
     "data": {
      "text/plain": [
       "<AxesSubplot:ylabel='Frequency'>"
      ]
     },
     "execution_count": 158,
     "metadata": {},
     "output_type": "execute_result"
    },
    {
     "data": {
      "image/png": "[encoded data removed]",
      "text/plain": [
       "<Figure size 432x288 with 1 Axes>"
      ]
     },
     "metadata": {},
     "output_type": "display_data"
    }
   ],
   "source": [
    "results['plan-round_robin_lifo-always_process-5-100'].plot(x=\"pageviews\", y=\"updates\", kind=\"hist\")"
   ]
  },
  {
   "cell_type": "code",
   "execution_count": 159,
   "id": "7af47144",
   "metadata": {},
   "outputs": [
    {
     "data": {
      "text/plain": [
       "<AxesSubplot:ylabel='Frequency'>"
      ]
     },
     "execution_count": 159,
     "metadata": {},
     "output_type": "execute_result"
    },
    {
     "data": {
      "image/png": "[encoded data removed]",
      "text/plain": [
       "<Figure size 432x288 with 1 Axes>"
      ]
     },
     "metadata": {},
     "output_type": "display_data"
    }
   ],
   "source": [
    "results['plan-round_robin_lifo-always_process-5-100'].plot(x=\"pageviews\", y=\"optimal_updates\", kind=\"hist\")"
   ]
  },
  {
   "cell_type": "code",
   "execution_count": 163,
   "id": "4d55378e",
   "metadata": {},
   "outputs": [],
   "source": [
    "optimal_plan_df = evaluate_plan(f'/home/eecs/wooders/experiments/wikipedia/optimal_plan.json', f'/home/eecs/wooders/experiments/wikipedia/optimal_plan.json', end_ts=end_ts)"
   ]
  },
  {
   "cell_type": "code",
   "execution_count": 208,
   "id": "739fdc68",
   "metadata": {},
   "outputs": [],
   "source": [
    "n_fits = np.array(range(0, 250, 1)) #optimal_plan_df[\"updates\"].unique()\n",
    "n_fits.sort()\n",
    "n_fits_map = {v: i for i, v in enumerate(n_fits)}\n",
    "n_fits_ticks = {i: v for i, v in enumerate(n_fits)}"
   ]
  },
  {
   "cell_type": "code",
   "execution_count": 209,
   "id": "c34cc7c0",
   "metadata": {},
   "outputs": [
    {
     "data": {
      "text/plain": [
       "{0: 0,\n",
       " 1: 1,\n",
       " 2: 2,\n",
       " 3: 3,\n",
       " 4: 4,\n",
       " 5: 5,\n",
       " 6: 6,\n",
       " 7: 7,\n",
       " 8: 8,\n",
       " 9: 9,\n",
       " 10: 10,\n",
       " 11: 11,\n",
       " 12: 12,\n",
       " 13: 13,\n",
       " 14: 14,\n",
       " 15: 15,\n",
       " 16: 16,\n",
       " 17: 17,\n",
       " 18: 18,\n",
       " 19: 19,\n",
       " 20: 20,\n",
       " 21: 21,\n",
       " 22: 22,\n",
       " 23: 23,\n",
       " 24: 24,\n",
       " 25: 25,\n",
       " 26: 26,\n",
       " 27: 27,\n",
       " 28: 28,\n",
       " 29: 29,\n",
       " 30: 30,\n",
       " 31: 31,\n",
       " 32: 32,\n",
       " 33: 33,\n",
       " 34: 34,\n",
       " 35: 35,\n",
       " 36: 36,\n",
       " 37: 37,\n",
       " 38: 38,\n",
       " 39: 39,\n",
       " 40: 40,\n",
       " 41: 41,\n",
       " 42: 42,\n",
       " 43: 43,\n",
       " 44: 44,\n",
       " 45: 45,\n",
       " 46: 46,\n",
       " 47: 47,\n",
       " 48: 48,\n",
       " 49: 49,\n",
       " 50: 50,\n",
       " 51: 51,\n",
       " 52: 52,\n",
       " 53: 53,\n",
       " 54: 54,\n",
       " 55: 55,\n",
       " 56: 56,\n",
       " 57: 57,\n",
       " 58: 58,\n",
       " 59: 59,\n",
       " 60: 60,\n",
       " 61: 61,\n",
       " 62: 62,\n",
       " 63: 63,\n",
       " 64: 64,\n",
       " 65: 65,\n",
       " 66: 66,\n",
       " 67: 67,\n",
       " 68: 68,\n",
       " 69: 69,\n",
       " 70: 70,\n",
       " 71: 71,\n",
       " 72: 72,\n",
       " 73: 73,\n",
       " 74: 74,\n",
       " 75: 75,\n",
       " 76: 76,\n",
       " 77: 77,\n",
       " 78: 78,\n",
       " 79: 79,\n",
       " 80: 80,\n",
       " 81: 81,\n",
       " 82: 82,\n",
       " 83: 83,\n",
       " 84: 84,\n",
       " 85: 85,\n",
       " 86: 86,\n",
       " 87: 87,\n",
       " 88: 88,\n",
       " 89: 89,\n",
       " 90: 90,\n",
       " 91: 91,\n",
       " 92: 92,\n",
       " 93: 93,\n",
       " 94: 94,\n",
       " 95: 95,\n",
       " 96: 96,\n",
       " 97: 97,\n",
       " 98: 98,\n",
       " 99: 99,\n",
       " 100: 100,\n",
       " 101: 101,\n",
       " 102: 102,\n",
       " 103: 103,\n",
       " 104: 104,\n",
       " 105: 105,\n",
       " 106: 106,\n",
       " 107: 107,\n",
       " 108: 108,\n",
       " 109: 109,\n",
       " 110: 110,\n",
       " 111: 111,\n",
       " 112: 112,\n",
       " 113: 113,\n",
       " 114: 114,\n",
       " 115: 115,\n",
       " 116: 116,\n",
       " 117: 117,\n",
       " 118: 118,\n",
       " 119: 119,\n",
       " 120: 120,\n",
       " 121: 121,\n",
       " 122: 122,\n",
       " 123: 123,\n",
       " 124: 124,\n",
       " 125: 125,\n",
       " 126: 126,\n",
       " 127: 127,\n",
       " 128: 128,\n",
       " 129: 129,\n",
       " 130: 130,\n",
       " 131: 131,\n",
       " 132: 132,\n",
       " 133: 133,\n",
       " 134: 134,\n",
       " 135: 135,\n",
       " 136: 136,\n",
       " 137: 137,\n",
       " 138: 138,\n",
       " 139: 139,\n",
       " 140: 140,\n",
       " 141: 141,\n",
       " 142: 142,\n",
       " 143: 143,\n",
       " 144: 144,\n",
       " 145: 145,\n",
       " 146: 146,\n",
       " 147: 147,\n",
       " 148: 148,\n",
       " 149: 149,\n",
       " 150: 150,\n",
       " 151: 151,\n",
       " 152: 152,\n",
       " 153: 153,\n",
       " 154: 154,\n",
       " 155: 155,\n",
       " 156: 156,\n",
       " 157: 157,\n",
       " 158: 158,\n",
       " 159: 159,\n",
       " 160: 160,\n",
       " 161: 161,\n",
       " 162: 162,\n",
       " 163: 163,\n",
       " 164: 164,\n",
       " 165: 165,\n",
       " 166: 166,\n",
       " 167: 167,\n",
       " 168: 168,\n",
       " 169: 169,\n",
       " 170: 170,\n",
       " 171: 171,\n",
       " 172: 172,\n",
       " 173: 173,\n",
       " 174: 174,\n",
       " 175: 175,\n",
       " 176: 176,\n",
       " 177: 177,\n",
       " 178: 178,\n",
       " 179: 179,\n",
       " 180: 180,\n",
       " 181: 181,\n",
       " 182: 182,\n",
       " 183: 183,\n",
       " 184: 184,\n",
       " 185: 185,\n",
       " 186: 186,\n",
       " 187: 187,\n",
       " 188: 188,\n",
       " 189: 189,\n",
       " 190: 190,\n",
       " 191: 191,\n",
       " 192: 192,\n",
       " 193: 193,\n",
       " 194: 194,\n",
       " 195: 195,\n",
       " 196: 196,\n",
       " 197: 197,\n",
       " 198: 198,\n",
       " 199: 199,\n",
       " 200: 200,\n",
       " 201: 201,\n",
       " 202: 202,\n",
       " 203: 203,\n",
       " 204: 204,\n",
       " 205: 205,\n",
       " 206: 206,\n",
       " 207: 207,\n",
       " 208: 208,\n",
       " 209: 209,\n",
       " 210: 210,\n",
       " 211: 211,\n",
       " 212: 212,\n",
       " 213: 213,\n",
       " 214: 214,\n",
       " 215: 215,\n",
       " 216: 216,\n",
       " 217: 217,\n",
       " 218: 218,\n",
       " 219: 219,\n",
       " 220: 220,\n",
       " 221: 221,\n",
       " 222: 222,\n",
       " 223: 223,\n",
       " 224: 224,\n",
       " 225: 225,\n",
       " 226: 226,\n",
       " 227: 227,\n",
       " 228: 228,\n",
       " 229: 229,\n",
       " 230: 230,\n",
       " 231: 231,\n",
       " 232: 232,\n",
       " 233: 233,\n",
       " 234: 234,\n",
       " 235: 235,\n",
       " 236: 236,\n",
       " 237: 237,\n",
       " 238: 238,\n",
       " 239: 239,\n",
       " 240: 240,\n",
       " 241: 241,\n",
       " 242: 242,\n",
       " 243: 243,\n",
       " 244: 244,\n",
       " 245: 245,\n",
       " 246: 246,\n",
       " 247: 247,\n",
       " 248: 248,\n",
       " 249: 249}"
      ]
     },
     "execution_count": 209,
     "metadata": {},
     "output_type": "execute_result"
    }
   ],
   "source": [
    "n_fits_map"
   ]
  },
  {
   "cell_type": "code",
   "execution_count": 195,
   "id": "c768b43d",
   "metadata": {},
   "outputs": [],
   "source": [
    "import seaborn as sns\n",
    "import numpy as np\n",
    "sns.set(style=\"whitegrid\", palette=\"muted\")"
   ]
  },
  {
   "cell_type": "code",
   "execution_count": 200,
   "id": "fc803fd4",
   "metadata": {},
   "outputs": [],
   "source": [
    "max_fits = 60 "
   ]
  },
  {
   "cell_type": "code",
   "execution_count": 211,
   "id": "cfe761f5",
   "metadata": {},
   "outputs": [
    {
     "data": {
      "image/png": "[encoded data removed]",
      "text/plain": [
       "<Figure size 864x864 with 4 Axes>"
      ]
     },
     "metadata": {},
     "output_type": "display_data"
    }
   ],
   "source": [
    "fig = plt.figure(figsize=(12, 12))\n",
    "for i, plan_name in enumerate(results.keys()):\n",
    "    plan_file = f'{plan_dir}/{plan_name}.json'\n",
    "    plan_data_df = results[plan_name]\n",
    "    plt.subplot(4, 2, i + 1)\n",
    "    #plan, loss = run_lp(df, max_n_fits=max_n_fits)\n",
    "    #arr = np.array([(key, n_fits_map[fits]) for (key, fits) in plan.items()])\n",
    "    vals = plan_data_df[\"updates\"].tolist()\n",
    "    arr = np.array([(i, vals[i]) for i in range(len(vals))])\n",
    "    plt.scatter(arr[:, 0], arr[:, 1], label=max_n_fits)\n",
    "    plt.yticks(ticks=list(n_fits_ticks.keys()), labels=list(n_fits_ticks.values()))\n",
    "    plt.xlabel(\"key\")\n",
    "    plt.ylabel(\"n_fits\")\n",
    "    plt.legend()\n",
    "    plt.title(plan_name)\n",
    "plt.suptitle(\"Sample plan selection\")\n",
    "plt.tight_layout()"
   ]
  },
  {
   "cell_type": "code",
   "execution_count": 318,
   "id": "ac3582ce",
   "metadata": {},
   "outputs": [],
   "source": [
    "df = pd.read_csv(\"/data/wooders/wikipedia/10042021_questions_revid_filtered.csv\", sep=\"\\t\")\n",
    "df.columns = [\"question\", \"answer\", \"doc_id\", \"timestamp\", \"revid\", \"oldrevid\"]"
   ]
  },
  {
   "cell_type": "code",
   "execution_count": 319,
   "id": "e7485904",
   "metadata": {},
   "outputs": [
    {
     "data": {
      "text/html": [
       "<div>\n",
       "<style scoped>\n",
       "    .dataframe tbody tr th:only-of-type {\n",
       "        vertical-align: middle;\n",
       "    }\n",
       "\n",
       "    .dataframe tbody tr th {\n",
       "        vertical-align: top;\n",
       "    }\n",
       "\n",
       "    .dataframe thead th {\n",
       "        text-align: right;\n",
       "    }\n",
       "</style>\n",
       "<table border=\"1\" class=\"dataframe\">\n",
       "  <thead>\n",
       "    <tr style=\"text-align: right;\">\n",
       "      <th></th>\n",
       "      <th>question</th>\n",
       "      <th>answer</th>\n",
       "      <th>doc_id</th>\n",
       "      <th>timestamp</th>\n",
       "      <th>revid</th>\n",
       "      <th>oldrevid</th>\n",
       "    </tr>\n",
       "  </thead>\n",
       "  <tbody>\n",
       "    <tr>\n",
       "      <th>0</th>\n",
       "      <td>what is the most common death in 2021???????</td>\n",
       "      <td>A typical entry reports information in the fol...</td>\n",
       "      <td>65984422</td>\n",
       "      <td>2021-08-06 00:16:27.428572</td>\n",
       "      <td>1037212532</td>\n",
       "      <td>1037212489</td>\n",
       "    </tr>\n",
       "    <tr>\n",
       "      <th>1</th>\n",
       "      <td>what is the most common death in 2021???????</td>\n",
       "      <td>A typical entry reports information in the fol...</td>\n",
       "      <td>65984422</td>\n",
       "      <td>2021-08-06 00:32:54.857144</td>\n",
       "      <td>1037212532</td>\n",
       "      <td>1037212489</td>\n",
       "    </tr>\n",
       "    <tr>\n",
       "      <th>2</th>\n",
       "      <td>what is the most common death in 2021???????</td>\n",
       "      <td>A typical entry reports information in the fol...</td>\n",
       "      <td>65984422</td>\n",
       "      <td>2021-08-06 00:49:22.285716</td>\n",
       "      <td>1037212532</td>\n",
       "      <td>1037212489</td>\n",
       "    </tr>\n",
       "    <tr>\n",
       "      <th>3</th>\n",
       "      <td>what is the most common death in 2021???????</td>\n",
       "      <td>A typical entry reports information in the fol...</td>\n",
       "      <td>65984422</td>\n",
       "      <td>2021-08-06 01:05:49.714288</td>\n",
       "      <td>1037212532</td>\n",
       "      <td>1037212489</td>\n",
       "    </tr>\n",
       "    <tr>\n",
       "      <th>4</th>\n",
       "      <td>what is the most common death in 2021???????</td>\n",
       "      <td>A typical entry reports information in the fol...</td>\n",
       "      <td>65984422</td>\n",
       "      <td>2021-08-06 01:22:17.142860</td>\n",
       "      <td>1037212532</td>\n",
       "      <td>1037212489</td>\n",
       "    </tr>\n",
       "    <tr>\n",
       "      <th>...</th>\n",
       "      <td>...</td>\n",
       "      <td>...</td>\n",
       "      <td>...</td>\n",
       "      <td>...</td>\n",
       "      <td>...</td>\n",
       "      <td>...</td>\n",
       "    </tr>\n",
       "    <tr>\n",
       "      <th>127727</th>\n",
       "      <td>who is the ayo??????</td>\n",
       "      <td>Hunter B-15 (portrayed by Wunmi Mosaku) is an ...</td>\n",
       "      <td>62372638</td>\n",
       "      <td>2021-09-01 20:46:09.230700</td>\n",
       "      <td>1041650936</td>\n",
       "      <td>1041650818</td>\n",
       "    </tr>\n",
       "    <tr>\n",
       "      <th>127728</th>\n",
       "      <td>who is the ayo??????</td>\n",
       "      <td>Hunter B-15 (portrayed by Wunmi Mosaku) is an ...</td>\n",
       "      <td>62372638</td>\n",
       "      <td>2021-09-01 21:30:27.692236</td>\n",
       "      <td>1041650936</td>\n",
       "      <td>1041650818</td>\n",
       "    </tr>\n",
       "    <tr>\n",
       "      <th>127729</th>\n",
       "      <td>who is the ayo??????</td>\n",
       "      <td>Hunter B-15 (portrayed by Wunmi Mosaku) is an ...</td>\n",
       "      <td>62372638</td>\n",
       "      <td>2021-09-01 22:14:46.153772</td>\n",
       "      <td>1041650936</td>\n",
       "      <td>1041650818</td>\n",
       "    </tr>\n",
       "    <tr>\n",
       "      <th>127730</th>\n",
       "      <td>who is the ayo??????</td>\n",
       "      <td>Hunter B-15 (portrayed by Wunmi Mosaku) is an ...</td>\n",
       "      <td>62372638</td>\n",
       "      <td>2021-09-01 22:59:04.615308</td>\n",
       "      <td>1041650936</td>\n",
       "      <td>1041650818</td>\n",
       "    </tr>\n",
       "    <tr>\n",
       "      <th>127731</th>\n",
       "      <td>who is the ayo??????</td>\n",
       "      <td>Hunter B-15 (portrayed by Wunmi Mosaku) is an ...</td>\n",
       "      <td>62372638</td>\n",
       "      <td>2021-09-01 23:43:23.076844</td>\n",
       "      <td>1041650936</td>\n",
       "      <td>1041650818</td>\n",
       "    </tr>\n",
       "  </tbody>\n",
       "</table>\n",
       "<p>127732 rows × 6 columns</p>\n",
       "</div>"
      ],
      "text/plain": [
       "                                            question  \\\n",
       "0       what is the most common death in 2021???????   \n",
       "1       what is the most common death in 2021???????   \n",
       "2       what is the most common death in 2021???????   \n",
       "3       what is the most common death in 2021???????   \n",
       "4       what is the most common death in 2021???????   \n",
       "...                                              ...   \n",
       "127727                          who is the ayo??????   \n",
       "127728                          who is the ayo??????   \n",
       "127729                          who is the ayo??????   \n",
       "127730                          who is the ayo??????   \n",
       "127731                          who is the ayo??????   \n",
       "\n",
       "                                                   answer    doc_id  \\\n",
       "0       A typical entry reports information in the fol...  65984422   \n",
       "1       A typical entry reports information in the fol...  65984422   \n",
       "2       A typical entry reports information in the fol...  65984422   \n",
       "3       A typical entry reports information in the fol...  65984422   \n",
       "4       A typical entry reports information in the fol...  65984422   \n",
       "...                                                   ...       ...   \n",
       "127727  Hunter B-15 (portrayed by Wunmi Mosaku) is an ...  62372638   \n",
       "127728  Hunter B-15 (portrayed by Wunmi Mosaku) is an ...  62372638   \n",
       "127729  Hunter B-15 (portrayed by Wunmi Mosaku) is an ...  62372638   \n",
       "127730  Hunter B-15 (portrayed by Wunmi Mosaku) is an ...  62372638   \n",
       "127731  Hunter B-15 (portrayed by Wunmi Mosaku) is an ...  62372638   \n",
       "\n",
       "                         timestamp       revid    oldrevid  \n",
       "0       2021-08-06 00:16:27.428572  1037212532  1037212489  \n",
       "1       2021-08-06 00:32:54.857144  1037212532  1037212489  \n",
       "2       2021-08-06 00:49:22.285716  1037212532  1037212489  \n",
       "3       2021-08-06 01:05:49.714288  1037212532  1037212489  \n",
       "4       2021-08-06 01:22:17.142860  1037212532  1037212489  \n",
       "...                            ...         ...         ...  \n",
       "127727  2021-09-01 20:46:09.230700  1041650936  1041650818  \n",
       "127728  2021-09-01 21:30:27.692236  1041650936  1041650818  \n",
       "127729  2021-09-01 22:14:46.153772  1041650936  1041650818  \n",
       "127730  2021-09-01 22:59:04.615308  1041650936  1041650818  \n",
       "127731  2021-09-01 23:43:23.076844  1041650936  1041650818  \n",
       "\n",
       "[127732 rows x 6 columns]"
      ]
     },
     "execution_count": 319,
     "metadata": {},
     "output_type": "execute_result"
    }
   ],
   "source": [
    "df"
   ]
  },
  {
   "cell_type": "code",
   "execution_count": 320,
   "id": "2d5a778a",
   "metadata": {},
   "outputs": [
    {
     "data": {
      "text/plain": [
       "332667      32284\n",
       "1305297     10610\n",
       "66304621     5330\n",
       "17888363     3900\n",
       "67089631     3621\n",
       "Name: doc_id, dtype: int64"
      ]
     },
     "execution_count": 320,
     "metadata": {},
     "output_type": "execute_result"
    }
   ],
   "source": [
    "df.doc_id.value_counts().head()"
   ]
  },
  {
   "cell_type": "code",
   "execution_count": 308,
   "id": "f7546f77",
   "metadata": {},
   "outputs": [
    {
     "data": {
      "text/plain": [
       "60043578    590\n",
       "51150040    510\n",
       "68187748    470\n",
       "66187257    450\n",
       "64783122    370\n",
       "Name: doc_id, dtype: int64"
      ]
     },
     "execution_count": 308,
     "metadata": {},
     "output_type": "execute_result"
    }
   ],
   "source": [
    "df.doc_id.value_counts().tail()"
   ]
  },
  {
   "cell_type": "code",
   "execution_count": 309,
   "id": "5823be22",
   "metadata": {},
   "outputs": [
    {
     "data": {
      "text/plain": [
       "332667      5090\n",
       "65984422    3769\n",
       "68553225    1740\n",
       "57798785    1410\n",
       "56185392    1360\n",
       "68294454    1200\n",
       "66293350    1040\n",
       "57817558     930\n",
       "60043578     590\n",
       "51150040     510\n",
       "68187748     470\n",
       "66187257     450\n",
       "64783122     370\n",
       "Name: doc_id, dtype: int64"
      ]
     },
     "execution_count": 309,
     "metadata": {},
     "output_type": "execute_result"
    }
   ],
   "source": [
    "df.doc_id.value_counts()"
   ]
  },
  {
   "cell_type": "code",
   "execution_count": 310,
   "id": "a8154736",
   "metadata": {},
   "outputs": [],
   "source": [
    "weights = df.doc_id.value_counts().to_dict()"
   ]
  },
  {
   "cell_type": "code",
   "execution_count": 311,
   "id": "48960f20",
   "metadata": {},
   "outputs": [
    {
     "data": {
      "text/plain": [
       "{332667: 5090,\n",
       " 65984422: 3769,\n",
       " 68553225: 1740,\n",
       " 57798785: 1410,\n",
       " 56185392: 1360,\n",
       " 68294454: 1200,\n",
       " 66293350: 1040,\n",
       " 57817558: 930,\n",
       " 60043578: 590,\n",
       " 51150040: 510,\n",
       " 68187748: 470,\n",
       " 66187257: 450,\n",
       " 64783122: 370}"
      ]
     },
     "execution_count": 311,
     "metadata": {},
     "output_type": "execute_result"
    }
   ],
   "source": [
    "weights"
   ]
  },
  {
   "cell_type": "code",
   "execution_count": null,
   "id": "2ade5579",
   "metadata": {},
   "outputs": [],
   "source": [
    "we"
   ]
  }
 ],
 "metadata": {
  "kernelspec": {
   "display_name": "Python 3",
   "language": "python",
   "name": "python3"
  },
  "language_info": {
   "codemirror_mode": {
    "name": "ipython",
    "version": 3
   },
   "file_extension": ".py",
   "mimetype": "text/x-python",
   "name": "python",
   "nbconvert_exporter": "python",
   "pygments_lexer": "ipython3",
   "version": "3.8.8"
  }
 },
 "nbformat": 4,
 "nbformat_minor": 5
}
