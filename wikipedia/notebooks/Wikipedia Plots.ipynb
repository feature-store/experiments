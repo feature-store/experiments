{
 "cells": [
  {
   "cell_type": "code",
   "execution_count": null,
   "id": "e0030940",
   "metadata": {},
   "outputs": [],
   "source": [
    "import json\n",
    "import matplotlib.pyplot as plt\n",
    "import pandas as pd\n",
    "import wandb\n",
    "import os"
   ]
  },
  {
   "cell_type": "markdown",
   "id": "594d6d4e",
   "metadata": {},
   "source": [
    "# Plot Wikipedia Dataset"
   ]
  },
  {
   "cell_type": "code",
   "execution_count": null,
   "id": "016e13bb",
   "metadata": {},
   "outputs": [],
   "source": [
    "run = wandb.init(job_type=\"evaluation\", project=\"wiki-workload\")\n",
    "pageview_dir = run.use_artifact('pageviews:latest').download()\n",
    "questions_dir = run.use_artifact('questions:latest').download()"
   ]
  },
  {
   "cell_type": "code",
   "execution_count": null,
   "id": "7690f6d7",
   "metadata": {},
   "outputs": [],
   "source": [
    "pageview_df = pd.read_csv(f\"{pageview_dir}/pageviews.csv\")\n",
    "pageview_df"
   ]
  },
  {
   "cell_type": "code",
   "execution_count": null,
   "id": "5b5d1edc",
   "metadata": {},
   "outputs": [],
   "source": [
    "df = pd.DataFrame({\n",
    "    \"edit_frequency\": pageview_df.edit_count / pageview_df.edit_count.sum(),\n",
    "    \"query_frequency\": pageview_df[\"2021080600\"] / pageview_df[\"2021080600\"].sum()\n",
    "})\n",
    "\n",
    "df.plot()"
   ]
  },
  {
   "cell_type": "markdown",
   "id": "1ca13ffa",
   "metadata": {},
   "source": [
    "# Plot DPR Model Accuracy Results "
   ]
  },
  {
   "cell_type": "code",
   "execution_count": null,
   "id": "39b1975e",
   "metadata": {},
   "outputs": [],
   "source": [
    "run = wandb.init(job_type=\"evaluation\", project=\"wiki-workload\")\n",
    "artifact = run.use_artifact('prediction_results:latest')\n",
    "artifact_dir = artifact.download()"
   ]
  },
  {
   "cell_type": "code",
   "execution_count": null,
   "id": "101571e2",
   "metadata": {},
   "outputs": [],
   "source": [
    "artifact_dir"
   ]
  },
  {
   "cell_type": "code",
   "execution_count": null,
   "id": "03e14929",
   "metadata": {},
   "outputs": [],
   "source": [
    "artifact_dir = \"/home/eecs/wooders/DPR\""
   ]
  },
  {
   "cell_type": "code",
   "execution_count": null,
   "id": "eaf30e01",
   "metadata": {},
   "outputs": [],
   "source": [
    "constants = [0.01, 0.05, 0.1, 1, 5]\n",
    "policies = [\"lifo\"]\n",
    "key_policies = [\"random\", \"weighted_random\", \"round_robin\", \"weighted_round_robin\"]\n",
    "d = artifact_dir\n",
    "metric = 'top10'"
   ]
  },
  {
   "cell_type": "code",
   "execution_count": null,
   "id": "96209574",
   "metadata": {},
   "outputs": [],
   "source": [
    "all_results = {}\n",
    "for policy in policies: \n",
    "    for key_policy in key_policies: \n",
    "        scores = []\n",
    "        name = f\"plan-{key_policy}_{policy}-always_process\"\n",
    "        for constant in constants: \n",
    "            print(f'{d}/{name}-{constant}-100.json')\n",
    "            with open(f'{d}/{name}-{constant}-100.json') as results_file:\n",
    "                results = json.load(results_file)\n",
    "                scores.append(results[metric])\n",
    "        all_results[name] = scores\n",
    "all_results"
   ]
  },
  {
   "cell_type": "code",
   "execution_count": null,
   "id": "d3b31501",
   "metadata": {},
   "outputs": [],
   "source": [
    "all_results = {}\n",
    "for policy in policies: \n",
    "    for key_policy in key_policies: \n",
    "        scores = []\n",
    "        name = f\"plan-{key_policy}_{policy}-always_process\"\n",
    "        for constant in constants: \n",
    "            with open(f'{d}/{name}-{constant}-100.json') as results_file:\n",
    "                print(f'{d}/{name}-{constant}-100.json')\n",
    "                results = json.load(results_file)\n",
    "                scores.append(results[metric])\n",
    "        all_results[name] = scores\n",
    "all_results"
   ]
  },
  {
   "cell_type": "code",
   "execution_count": null,
   "id": "b479a2bc",
   "metadata": {
    "scrolled": true
   },
   "outputs": [],
   "source": [
    "all_results.keys()"
   ]
  },
  {
   "cell_type": "code",
   "execution_count": null,
   "id": "332c0ff6",
   "metadata": {},
   "outputs": [],
   "source": [
    "plan_weighted_random_lifo = []\n",
    "for constant in constants:\n",
    "    with open(f'{d}/plan-weighted_random_lifo-always_process-{constant}-100.json') as results_file:\n",
    "        results = json.load(results_file)\n",
    "        plan_weighted_random_lifo.append(results[metric])\n",
    "print(plan_weighted_random_lifo)\n",
    "        \n",
    "plan_weighted_longest_queue_lifo = []\n",
    "for constant in constants:\n",
    "    with open(f'{d}/plan-weighted_longest_queue_lifo-always_process-{constant}-100.json') as results_file:\n",
    "        results = json.load(results_file)\n",
    "        plan_weighted_longest_queue_lifo.append(results[metric])\n",
    "print(plan_weighted_longest_queue_lifo)\n",
    "\n",
    "plan_longest_queue_lifo = []\n",
    "for constant in constants:\n",
    "    with open(f'{d}/plan-longest_queue_lifo-always_process-{constant}-100.json') as results_file:\n",
    "        results = json.load(results_file)\n",
    "        plan_longest_queue_lifo.append(results[metric])\n",
    "print(plan_longest_queue_lifo)\n",
    "\n",
    "plan_random_lifo = []\n",
    "for constant in constants:\n",
    "    with open(f'{d}/plan-random_lifo-always_process-{constant}-100.json') as results_file:\n",
    "        results = json.load(results_file)\n",
    "        plan_random_lifo.append(results[metric])\n",
    "print(plan_random_lifo)\n",
    "\n",
    "plan_round_robin_lifo = []\n",
    "for constant in constants:\n",
    "    with open(f'{d}/plan-round_robin_lifo-always_process-{constant}-100.json') as results_file:\n",
    "        results = json.load(results_file)\n",
    "        plan_round_robin_lifo.append(results[metric])\n",
    "print(plan_round_robin_lifo)\n"
   ]
  },
  {
   "cell_type": "code",
   "execution_count": null,
   "id": "6d536763",
   "metadata": {},
   "outputs": [],
   "source": [
    "from pylab import rcParams\n",
    "rcParams['figure.figsize'] = 12, 6"
   ]
  },
  {
   "cell_type": "code",
   "execution_count": null,
   "id": "1e07c3e9",
   "metadata": {},
   "outputs": [],
   "source": [
    "import matplotlib.pyplot as plt\n",
    "import seaborn\n",
    "resources = constants \n",
    "df = pd.DataFrame({\n",
    "    'Factor': resources, \n",
    "    **all_results\n",
    "})\n",
    "fig, ax1 = plt.subplots(figsize=(10, 5))\n",
    "tidy = df.melt(id_vars='Factor').rename(columns=str.title)\n",
    "seaborn.barplot(x='Factor', y='Value', hue='Variable', data=tidy, ax=ax1)\n",
    "seaborn.despine(fig)"
   ]
  },
  {
   "cell_type": "code",
   "execution_count": null,
   "id": "61d517d0",
   "metadata": {},
   "outputs": [],
   "source": [
    "fig, ax = plt.subplots()\n",
    "ax.set_xscale('log')\n",
    "#resources = [10/c for c in constants]\n",
    "resources = constants \n",
    "print(resources)\n",
    "ax.plot(resources, plan_weighted_longest_queue_lifo, label=\"LIFO Weighted Queue\", c='coral', marker='.')\n",
    "ax.plot(resources, plan_longest_queue_lifo, label=\"LIFO Queue\", c='coral', marker='.', linestyle='dashed')\n",
    "\n",
    "ax.plot(resources, plan_weighted_random_lifo, label=\"LIFO Weighted Random\", c='red', marker='.')\n",
    "ax.plot(resources, plan_random_lifo, label=\"LIFO Random\", c='red', marker='.', linestyle='dashed')\n",
    "\n",
    "#ax.plot(resources, plan_lifo_sample_half, label=\"LIFO Sample Half\", c='dodgerblue', marker='.', linestyle='dashed')\n",
    "#ax.plot(resources, plan_lifo_always_process, label=\"LIFO Always\", c='dodgerblue', marker='.')\n",
    "\n",
    "#ax.plot(resources, plan_round_robin_lifo, label=\"LIFO Round Robin\", c='blue', marker='.', linestyle='dashed')\n",
    "\n",
    "ax.grid()\n",
    "ax.set(xlabel='resource constraint', ylabel=f'{metric} accuracy', title='Passage Retriever')\n",
    "plt.legend()"
   ]
  },
  {
   "cell_type": "markdown",
   "id": "cdf98fa5",
   "metadata": {},
   "source": [
    "## Observe how often each key was updated "
   ]
  },
  {
   "cell_type": "code",
   "execution_count": null,
   "id": "91736ad0",
   "metadata": {},
   "outputs": [],
   "source": [
    "plan_dir = '/data/wooders/wiki-plans'\n",
    "diff_dir = '/data/wooders/wikipedia/diffs'"
   ]
  },
  {
   "cell_type": "code",
   "execution_count": null,
   "id": "2cdeefee",
   "metadata": {},
   "outputs": [],
   "source": [
    "from collections import defaultdict \n",
    "\n",
    "def evaluate_plan(plan_file, optimal_file, start_ts=0, end_ts=37000): \n",
    "    plan = json.load(open(plan_file))\n",
    "    optimal_plan = json.load(open(optimal_file))\n",
    "    \n",
    "\n",
    "    title_counts = defaultdict(lambda: 0)\n",
    "    title_counts_opt = defaultdict(lambda: 0)\n",
    "\n",
    "    for ts in plan.keys(): \n",
    "        if float(ts) < start_ts or float(ts) > end_ts: continue \n",
    "        for edit in plan[ts]: \n",
    "            edit_file = edit[0]\n",
    "            edit_data = json.load(open(f\"{diff_dir}/{edit_file}\"))\n",
    "            title = edit_data['title']\n",
    "            title_counts[title] += 1\n",
    "            \n",
    "    for ts in optimal_plan.keys(): \n",
    "        if float(ts) < start_ts or float(ts) > end_ts: continue  \n",
    "        for edit in optimal_plan[ts]: \n",
    "            edit_file = edit[0]\n",
    "            edit_data = json.load(open(f\"{diff_dir}/{edit_file}\"))\n",
    "            title = edit_data['title']\n",
    "            title_counts_opt[title] += 1\n",
    "            \n",
    "    #assert title_counts_opt != title_counts\n",
    "    \n",
    "    title_counts_df = pd.DataFrame({\"title\": title_counts.keys(), \"updates\": title_counts.values()})\n",
    "    title_counts_opt_df = pd.DataFrame({\"title\": title_counts_opt.keys(), \"optimal_updates\": title_counts_opt.values()})\n",
    "    \n",
    "    plan_data_df = title_counts_df.merge(pageview_df, on=\"title\")\n",
    "    plan_data_df = plan_data_df.merge(title_counts_opt_df, on=\"title\")\n",
    "    plan_data_df[\"pageviews\"] = plan_data_df[\"2021090300\"]\n",
    "    return plan_data_df"
   ]
  },
  {
   "cell_type": "code",
   "execution_count": null,
   "id": "d6440018",
   "metadata": {},
   "outputs": [],
   "source": [
    "plan_names = [\n",
    "    'plan-weighted_random_lifo-always_process-0.01-100',\n",
    "    'plan-weighted_random_lifo-always_process-0.1-100'   \n",
    "]"
   ]
  },
  {
   "cell_type": "code",
   "execution_count": null,
   "id": "523bf657",
   "metadata": {},
   "outputs": [],
   "source": [
    "results = {}\n",
    "end_ts = 37000\n",
    "for plan_name in plan_names:\n",
    "    print(plan_name)\n",
    "    plan_file = f'{plan_dir}/{plan_name}.json'\n",
    "    plan_data_df = evaluate_plan(plan_file, f'/home/eecs/wooders/experiments/wikipedia/optimal_plan.json', end_ts=end_ts)\n",
    "    results[plan_name] = plan_data_df\n",
    "    "
   ]
  },
  {
   "cell_type": "code",
   "execution_count": null,
   "id": "592a8b2e",
   "metadata": {},
   "outputs": [],
   "source": [
    "results[\"plan-weighted_random_lifo-always_process-0.1-100\"].sort_values(by=\"updates\", ascending=False)"
   ]
  },
  {
   "cell_type": "code",
   "execution_count": null,
   "id": "98907ae3",
   "metadata": {},
   "outputs": [],
   "source": [
    "\n",
    "df1 = results[\"plan-weighted_random_lifo-always_process-0.01-100\"]\n",
    "df2 = results[\"plan-weighted_random_lifo-always_process-0.1-100\"]\n",
    "for title in results[\"plan-weighted_random_lifo-always_process-0.01-100\"].title.tolist(): \n",
    "    u1 = df1[df1[\"title\"] == title].updates.tolist()\n",
    "    u2 = df2[df1[\"title\"] == title].updates.tolist()\n",
    "    if u1 != u2:\n",
    "        print(title)\n",
    "        print(u1)\n",
    "        print(u2)\n",
    "    \n",
    "    "
   ]
  },
  {
   "cell_type": "code",
   "execution_count": null,
   "id": "3ea99ccb",
   "metadata": {},
   "outputs": [],
   "source": [
    "results['plan-round_robin_lifo-always_process-5-100'].set_index(\"title\").sort_values(by=\"pageviews\").head(10)[[\"updates\", \"optimal_updates\", \"pageviews\"]].plot(kind=\"bar\",  title=\"Updates for Least Queried Documents (Round Robin)\")"
   ]
  },
  {
   "cell_type": "code",
   "execution_count": null,
   "id": "999fc591",
   "metadata": {},
   "outputs": [],
   "source": [
    "results['plan-round_robin_lifo-always_process-5-100'].plot(x=\"pageviews\", y=\"updates\", kind=\"hist\")"
   ]
  },
  {
   "cell_type": "code",
   "execution_count": null,
   "id": "00d43d3f",
   "metadata": {},
   "outputs": [],
   "source": [
    "results['plan-round_robin_lifo-always_process-5-100'].plot(x=\"pageviews\", y=\"updates\", kind=\"hist\")"
   ]
  },
  {
   "cell_type": "code",
   "execution_count": null,
   "id": "7af47144",
   "metadata": {},
   "outputs": [],
   "source": [
    "results['plan-round_robin_lifo-always_process-5-100'].plot(x=\"pageviews\", y=\"optimal_updates\", kind=\"hist\")"
   ]
  },
  {
   "cell_type": "code",
   "execution_count": null,
   "id": "4d55378e",
   "metadata": {},
   "outputs": [],
   "source": [
    "optimal_plan_df = evaluate_plan(f'/home/eecs/wooders/experiments/wikipedia/optimal_plan.json', f'/home/eecs/wooders/experiments/wikipedia/optimal_plan.json', end_ts=end_ts)"
   ]
  },
  {
   "cell_type": "code",
   "execution_count": null,
   "id": "739fdc68",
   "metadata": {},
   "outputs": [],
   "source": [
    "n_fits = np.array(range(0, 250, 1)) #optimal_plan_df[\"updates\"].unique()\n",
    "n_fits.sort()\n",
    "n_fits_map = {v: i for i, v in enumerate(n_fits)}\n",
    "n_fits_ticks = {i: v for i, v in enumerate(n_fits)}"
   ]
  },
  {
   "cell_type": "code",
   "execution_count": null,
   "id": "c34cc7c0",
   "metadata": {},
   "outputs": [],
   "source": [
    "n_fits_map"
   ]
  },
  {
   "cell_type": "code",
   "execution_count": null,
   "id": "c768b43d",
   "metadata": {},
   "outputs": [],
   "source": [
    "import seaborn as sns\n",
    "import numpy as np\n",
    "sns.set(style=\"whitegrid\", palette=\"muted\")"
   ]
  },
  {
   "cell_type": "code",
   "execution_count": null,
   "id": "fc803fd4",
   "metadata": {},
   "outputs": [],
   "source": [
    "max_fits = 60 "
   ]
  },
  {
   "cell_type": "code",
   "execution_count": null,
   "id": "cfe761f5",
   "metadata": {},
   "outputs": [],
   "source": [
    "fig = plt.figure(figsize=(12, 12))\n",
    "for i, plan_name in enumerate(results.keys()):\n",
    "    plan_file = f'{plan_dir}/{plan_name}.json'\n",
    "    plan_data_df = results[plan_name]\n",
    "    plt.subplot(4, 2, i + 1)\n",
    "    #plan, loss = run_lp(df, max_n_fits=max_n_fits)\n",
    "    #arr = np.array([(key, n_fits_map[fits]) for (key, fits) in plan.items()])\n",
    "    vals = plan_data_df[\"updates\"].tolist()\n",
    "    arr = np.array([(i, vals[i]) for i in range(len(vals))])\n",
    "    plt.scatter(arr[:, 0], arr[:, 1], label=max_n_fits)\n",
    "    plt.yticks(ticks=list(n_fits_ticks.keys()), labels=list(n_fits_ticks.values()))\n",
    "    plt.xlabel(\"key\")\n",
    "    plt.ylabel(\"n_fits\")\n",
    "    plt.legend()\n",
    "    plt.title(plan_name)\n",
    "plt.suptitle(\"Sample plan selection\")\n",
    "plt.tight_layout()"
   ]
  },
  {
   "cell_type": "code",
   "execution_count": null,
   "id": "ac3582ce",
   "metadata": {},
   "outputs": [],
   "source": [
    "df = pd.read_csv(\"/data/wooders/wikipedia/questions.csv\")\n",
    "#df.columns = [\"question\", \"answer\", \"doc_id\", \"timestamp\", \"revid\", \"oldrevid\"]"
   ]
  },
  {
   "cell_type": "code",
   "execution_count": null,
   "id": "ce16ddda",
   "metadata": {},
   "outputs": [],
   "source": [
    "df"
   ]
  },
  {
   "cell_type": "code",
   "execution_count": null,
   "id": "07d5672a",
   "metadata": {},
   "outputs": [],
   "source": [
    "df.doc_id.value_counts()"
   ]
  },
  {
   "cell_type": "code",
   "execution_count": null,
   "id": "d9dab1e5",
   "metadata": {},
   "outputs": [],
   "source": [
    "df.question.value_counts()"
   ]
  },
  {
   "cell_type": "code",
   "execution_count": null,
   "id": "ea220f3d",
   "metadata": {},
   "outputs": [],
   "source": [
    "df.doc_id.value_counts()"
   ]
  },
  {
   "cell_type": "code",
   "execution_count": null,
   "id": "86c3ebf2",
   "metadata": {},
   "outputs": [],
   "source": [
    "weights = df.doc_id.value_counts().to_dict()"
   ]
  },
  {
   "cell_type": "code",
   "execution_count": null,
   "id": "af72ae1a",
   "metadata": {},
   "outputs": [],
   "source": [
    "for key in weights: \n",
    "    weights[key] = int(weights[key]/10)\n",
    "    if weights[key] == 0: \n",
    "        weights[key] = 1"
   ]
  },
  {
   "cell_type": "code",
   "execution_count": null,
   "id": "500bd6ec",
   "metadata": {},
   "outputs": [],
   "source": [
    "weights"
   ]
  },
  {
   "cell_type": "code",
   "execution_count": null,
   "id": "db8ae3c9",
   "metadata": {},
   "outputs": [],
   "source": [
    "open(\"/home/eecs/wooders/experiments/wikipedia/weights.json\", \"w\").write(json.dumps(weights))"
   ]
  },
  {
   "cell_type": "code",
   "execution_count": null,
   "id": "0901f729",
   "metadata": {},
   "outputs": [],
   "source": []
  }
 ],
 "metadata": {
  "kernelspec": {
   "display_name": "Python 3",
   "language": "python",
   "name": "python3"
  },
  "language_info": {
   "codemirror_mode": {
    "name": "ipython",
    "version": 3
   },
   "file_extension": ".py",
   "mimetype": "text/x-python",
   "name": "python",
   "nbconvert_exporter": "python",
   "pygments_lexer": "ipython3",
   "version": "3.8.8"
  }
 },
 "nbformat": 4,
 "nbformat_minor": 5
}
